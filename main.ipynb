{
 "cells": [
  {
   "cell_type": "markdown",
   "id": "73ee6c86",
   "metadata": {},
   "source": [
    "# **Download and Import Dataset**"
   ]
  },
  {
   "cell_type": "code",
   "execution_count": 1,
   "id": "4e0d9ae2",
   "metadata": {
    "execution": {
     "iopub.execute_input": "2025-10-14T02:56:18.285860Z",
     "iopub.status.busy": "2025-10-14T02:56:18.284856Z",
     "iopub.status.idle": "2025-10-14T02:56:18.290071Z",
     "shell.execute_reply": "2025-10-14T02:56:18.290071Z"
    }
   },
   "outputs": [],
   "source": [
    "# สิ่งที่ต้องทำต่อจากนี้ (สำคัญ)\n",
    "# ----------------------- Min -----------------------\n",
    "# -แก้การ input และ output ให้เป็นไปตามที่เขียนไว้ในโครงงาน\n",
    "# -แก้สิ่งที่ (copy + vibe) มา code ให้ไม่พัง   (เรียยร้อยแล้ว) /\n",
    "\n",
    "# ----------------------- Pluem?(ให้ฝ่าย Data? จัดการ data ไป) -----------------------\n",
    "# -ขั้นตอนการเตรียมข้อมูล หาค่า mean max min s.d. (ฐานนิยมด้วย มัธยฐานมันปัญญาอ่อน)ตาม requirment ข้อ 2 -> https://docs.google.com/spreadsheets/d/1eApr4Ovo7bJ2M958XLn57o46IYsTLOGcogDctSa0ZuI/edit?gid=2076259361#gid=2076259361\n",
    "# -clean ข้อมูล และจัดสัดส่วนข้อมูลที่ใช้ได้ ใช้ไม่ได้ ว่ามีอย่างละกี่ %\n",
    "\n",
    "# ----------------------- Opor?(ฝ่าย คำนวณไปคำนวณไป) -----------------------\n",
    "# -เลือกแกน (มิติข้อมูล) เพิ่มเพื่อนำข้อมูลไปคำนวณเพิ่มเติมก่อนผ่าน pca ทำให้หมด 15 ขึ้นไป ตามในรูปเล่มทั้งหมด 18 (อาจจต้องนำแปลง string -> int ลองไปหาว่าแปลงค่ายังไงไม่ให้กระทบข้อมูลในแกนอื่นเยอะ Ex. Wireless -> 1 Wire -> 0 , right -> 1 left -> -1 sym -> 0 , etc)\n",
    "# -ทำให้มันแสดงด้วยว่าข้อมูลแต่ละ eigen ที่ตัดไปตัดไปกี่ % แล้วเหลือข้อมูลกี่ %\n",
    "# -เปลี่ยนจากการใช้ euclidean เป็น cosine simirarity(อาจจะไม่ต้องเปลี่ยน check ละ ว่ามันทำงานได้ถูกต้องและตรงกับ project ดูง่ายและเข้าใจง่าย เเค่หาที่ใกล้ๆจุดดาว ขึ้นกับดุลพินิจของผู้ทำ) (เอาตามที่ใส่ไว้ในโครงงาน และต้องเป็น simirarity ที่จารย์สอน)\n",
    "\n",
    "# ทำ doc pdf (ต้องการคนทำส่วนนี้ 1 คนจำเป็น     -> astra ?)\n",
    "\n",
    "# ข้อมูล (เผื่อในรายงาน)\n",
    "# ปัญหา  -> ข้อมูลมีหลายมิติมากทั้งที่เป็น text เเละเป็นเลข ทำให้ยากต่อการเเปลงค่า\n",
    "#       -> การทำ pca นั้นยากต่อการ debug ว่ามันกิดอะไรขึ้นตอนมันบั๊ก (อาจจะเพราะประสบการณ์น้อย เกี่ยวกับการทำ project ที่ต้องใช้ library ที่เคยใช้ไม่กี่ครั้ง)\n",
    "#       "
   ]
  },
  {
   "cell_type": "code",
   "execution_count": 2,
   "id": "eadea03f",
   "metadata": {
    "execution": {
     "iopub.execute_input": "2025-10-14T02:56:18.291257Z",
     "iopub.status.busy": "2025-10-14T02:56:18.291257Z",
     "iopub.status.idle": "2025-10-14T02:56:19.334461Z",
     "shell.execute_reply": "2025-10-14T02:56:19.334461Z"
    }
   },
   "outputs": [
    {
     "name": "stdout",
     "output_type": "stream",
     "text": [
      "Columns in df: ['Brand', 'Model', 'Size', 'Length (mm)', 'Width (mm)', 'Height (mm)', 'Weight (grams)', 'Shape', 'Hand compatibility', 'Hump placement', 'Front flare', 'Side curvature', 'Thumb rest', 'Ring finger rest', 'Sensor brand', 'Sensor', 'Sensor type', 'Sensor position', 'DPI', 'Polling rate (Hz)', 'Tracking speed (IPS)', 'Acceleration (G)', 'Side buttons', 'Middle buttons', 'Hot-swap switches', 'Switches brand', 'Switches', 'Scroll wheel encoder brand', 'Scroll wheel encoder', 'Material', 'Connectivity']\n"
     ]
    }
   ],
   "source": [
    "import pandas as pd\n",
    "from sklearn.preprocessing import StandardScaler\n",
    "from sklearn.impute import SimpleImputer\n",
    "from sklearn.decomposition import PCA\n",
    "import plotly.express as px\n",
    "import numpy as np\n",
    "from sklearn.metrics.pairwise import cosine_similarity\n",
    "df = pd.read_csv('2025_09_06_MousedB.csv', sep=';')\n",
    "\n",
    "print(\"Columns in df:\", df.columns.tolist())"
   ]
  },
  {
   "cell_type": "markdown",
   "id": "297a0bfc",
   "metadata": {},
   "source": [
    "# **Selection and Clean Data**"
   ]
  },
  {
   "cell_type": "code",
   "execution_count": 3,
   "id": "e188f119",
   "metadata": {
    "execution": {
     "iopub.execute_input": "2025-10-14T02:56:19.335740Z",
     "iopub.status.busy": "2025-10-14T02:56:19.335740Z",
     "iopub.status.idle": "2025-10-14T02:56:19.350600Z",
     "shell.execute_reply": "2025-10-14T02:56:19.350600Z"
    }
   },
   "outputs": [
    {
     "name": "stdout",
     "output_type": "stream",
     "text": [
      "Columns found: ['DPI', 'Polling rate (Hz)', 'Weight (grams)', 'Length (mm)', 'Width (mm)', 'Height (mm)', 'Side buttons']\n",
      "Columns missing: []\n",
      "จำนวนข้อมูลที่ใช้ได้ (%):\n",
      " DPI                   99.92\n",
      "Polling rate (Hz)     99.83\n",
      "Weight (grams)        99.75\n",
      "Length (mm)          100.00\n",
      "Width (mm)           100.00\n",
      "Height (mm)          100.00\n",
      "Side buttons          99.92\n",
      "dtype: float64\n",
      "จำนวนข้อมูลที่หายไป (%):\n",
      " DPI                  0.08\n",
      "Polling rate (Hz)    0.17\n",
      "Weight (grams)       0.25\n",
      "Length (mm)          0.00\n",
      "Width (mm)           0.00\n",
      "Height (mm)          0.00\n",
      "Side buttons         0.08\n",
      "dtype: float64\n",
      "\n",
      "ข้อมูลหลังจากการสเกล:\n"
     ]
    },
    {
     "data": {
      "text/html": [
       "<div>\n",
       "<style scoped>\n",
       "    .dataframe tbody tr th:only-of-type {\n",
       "        vertical-align: middle;\n",
       "    }\n",
       "\n",
       "    .dataframe tbody tr th {\n",
       "        vertical-align: top;\n",
       "    }\n",
       "\n",
       "    .dataframe thead th {\n",
       "        text-align: right;\n",
       "    }\n",
       "</style>\n",
       "<table border=\"1\" class=\"dataframe\">\n",
       "  <thead>\n",
       "    <tr style=\"text-align: right;\">\n",
       "      <th></th>\n",
       "      <th>DPI</th>\n",
       "      <th>Polling rate (Hz)</th>\n",
       "      <th>Weight (grams)</th>\n",
       "      <th>Length (mm)</th>\n",
       "      <th>Width (mm)</th>\n",
       "      <th>Height (mm)</th>\n",
       "      <th>Side buttons</th>\n",
       "    </tr>\n",
       "  </thead>\n",
       "  <tbody>\n",
       "    <tr>\n",
       "      <th>0</th>\n",
       "      <td>0.482632</td>\n",
       "      <td>-0.757271</td>\n",
       "      <td>-0.141154</td>\n",
       "      <td>-0.202779</td>\n",
       "      <td>-0.595220</td>\n",
       "      <td>-0.119875</td>\n",
       "      <td>-0.112955</td>\n",
       "    </tr>\n",
       "    <tr>\n",
       "      <th>1</th>\n",
       "      <td>-0.894385</td>\n",
       "      <td>-0.757271</td>\n",
       "      <td>-0.261663</td>\n",
       "      <td>-0.202779</td>\n",
       "      <td>-0.595220</td>\n",
       "      <td>-0.119875</td>\n",
       "      <td>-0.112955</td>\n",
       "    </tr>\n",
       "    <tr>\n",
       "      <th>2</th>\n",
       "      <td>0.482632</td>\n",
       "      <td>-0.757271</td>\n",
       "      <td>-0.301833</td>\n",
       "      <td>-0.425520</td>\n",
       "      <td>-0.441788</td>\n",
       "      <td>-0.259140</td>\n",
       "      <td>-0.112955</td>\n",
       "    </tr>\n",
       "    <tr>\n",
       "      <th>3</th>\n",
       "      <td>-0.894385</td>\n",
       "      <td>-0.757271</td>\n",
       "      <td>-0.301833</td>\n",
       "      <td>-0.425520</td>\n",
       "      <td>-0.441788</td>\n",
       "      <td>-0.259140</td>\n",
       "      <td>-0.112955</td>\n",
       "    </tr>\n",
       "    <tr>\n",
       "      <th>4</th>\n",
       "      <td>-0.894385</td>\n",
       "      <td>-0.757271</td>\n",
       "      <td>-0.100984</td>\n",
       "      <td>-0.425520</td>\n",
       "      <td>-0.441788</td>\n",
       "      <td>-0.259140</td>\n",
       "      <td>-0.112955</td>\n",
       "    </tr>\n",
       "  </tbody>\n",
       "</table>\n",
       "</div>"
      ],
      "text/plain": [
       "        DPI  Polling rate (Hz)  Weight (grams)  Length (mm)  Width (mm)  \\\n",
       "0  0.482632          -0.757271       -0.141154    -0.202779   -0.595220   \n",
       "1 -0.894385          -0.757271       -0.261663    -0.202779   -0.595220   \n",
       "2  0.482632          -0.757271       -0.301833    -0.425520   -0.441788   \n",
       "3 -0.894385          -0.757271       -0.301833    -0.425520   -0.441788   \n",
       "4 -0.894385          -0.757271       -0.100984    -0.425520   -0.441788   \n",
       "\n",
       "   Height (mm)  Side buttons  \n",
       "0    -0.119875     -0.112955  \n",
       "1    -0.119875     -0.112955  \n",
       "2    -0.259140     -0.112955  \n",
       "3    -0.259140     -0.112955  \n",
       "4    -0.259140     -0.112955  "
      ]
     },
     "execution_count": 3,
     "metadata": {},
     "output_type": "execute_result"
    }
   ],
   "source": [
    "features = [\n",
    "    'DPI',\n",
    "    'Polling rate (Hz)',\n",
    "    'Weight (grams)',\n",
    "    'Length (mm)',\n",
    "    'Width (mm)',\n",
    "    'Height (mm)',\n",
    "    'Side buttons'\n",
    "]\n",
    "\n",
    "# ตรวจสอบว่าคอลัมน์เหล่านี้มีอยู่ใน df หรือไม่\n",
    "existing_features = [f for f in features if f in df.columns]\n",
    "missing_features = [f for f in features if f not in df.columns]\n",
    "\n",
    "print(\"Columns found:\", existing_features)\n",
    "print(\"Columns missing:\", missing_features)\n",
    "\n",
    "# สร้าง DataFrame เฉพาะคุณสมบัติที่มีอยู่จริง\n",
    "df_features = df[existing_features].copy()\n",
    "\n",
    "# ✅ 1a. ตรวจสอบข้อมูลที่หายไปและ % ของข้อมูลที่ใช้ได้/ใช้ไม่ได้\n",
    "valid_counts = df_features.notna().sum()\n",
    "total_counts = len(df_features)\n",
    "percent_valid = (valid_counts / total_counts * 100).round(2)\n",
    "percent_missing = 100 - percent_valid\n",
    "\n",
    "print(\"จำนวนข้อมูลที่ใช้ได้ (%):\\n\", percent_valid)\n",
    "print(\"จำนวนข้อมูลที่หายไป (%):\\n\", percent_missing)\n",
    "\n",
    "\n",
    "\n",
    "# ใช้ existing_features แทน features\n",
    "imputer = SimpleImputer(strategy='mean')\n",
    "df_imputed = pd.DataFrame(imputer.fit_transform(df_features), columns=existing_features)\n",
    "\n",
    "# สเกลข้อมูล\n",
    "scaler = StandardScaler()\n",
    "df_scaled = pd.DataFrame(scaler.fit_transform(df_imputed), columns=existing_features)\n",
    "\n",
    "print(\"\\nข้อมูลหลังจากการสเกล:\")\n",
    "df_scaled.head()"
   ]
  },
  {
   "cell_type": "markdown",
   "id": "ce4595dc",
   "metadata": {},
   "source": [
    "# **Dimension Reduction using PCA**"
   ]
  },
  {
   "cell_type": "code",
   "execution_count": 4,
   "id": "2d48fb52",
   "metadata": {
    "execution": {
     "iopub.execute_input": "2025-10-14T02:56:19.352604Z",
     "iopub.status.busy": "2025-10-14T02:56:19.351604Z",
     "iopub.status.idle": "2025-10-14T02:56:19.365408Z",
     "shell.execute_reply": "2025-10-14T02:56:19.365408Z"
    }
   },
   "outputs": [
    {
     "name": "stdout",
     "output_type": "stream",
     "text": [
      "\n",
      "ผลลัพธ์จากการทำ PCA 5 แถวแรก:\n"
     ]
    },
    {
     "data": {
      "text/html": [
       "<div>\n",
       "<style scoped>\n",
       "    .dataframe tbody tr th:only-of-type {\n",
       "        vertical-align: middle;\n",
       "    }\n",
       "\n",
       "    .dataframe tbody tr th {\n",
       "        vertical-align: top;\n",
       "    }\n",
       "\n",
       "    .dataframe thead th {\n",
       "        text-align: right;\n",
       "    }\n",
       "</style>\n",
       "<table border=\"1\" class=\"dataframe\">\n",
       "  <thead>\n",
       "    <tr style=\"text-align: right;\">\n",
       "      <th></th>\n",
       "      <th>PC1</th>\n",
       "      <th>PC2</th>\n",
       "      <th>Model</th>\n",
       "      <th>Brand</th>\n",
       "    </tr>\n",
       "  </thead>\n",
       "  <tbody>\n",
       "    <tr>\n",
       "      <th>0</th>\n",
       "      <td>-0.936122</td>\n",
       "      <td>-0.265593</td>\n",
       "      <td>T520 Max</td>\n",
       "      <td>AJAZZ</td>\n",
       "    </tr>\n",
       "    <tr>\n",
       "      <th>1</th>\n",
       "      <td>-0.768192</td>\n",
       "      <td>-0.682492</td>\n",
       "      <td>T520</td>\n",
       "      <td>AJAZZ</td>\n",
       "    </tr>\n",
       "    <tr>\n",
       "      <th>2</th>\n",
       "      <td>-1.099152</td>\n",
       "      <td>-0.255619</td>\n",
       "      <td>G3 V2 Pro</td>\n",
       "      <td>MCHOSE</td>\n",
       "    </tr>\n",
       "    <tr>\n",
       "      <th>3</th>\n",
       "      <td>-0.857178</td>\n",
       "      <td>-0.757565</td>\n",
       "      <td>G3 V2</td>\n",
       "      <td>MCHOSE</td>\n",
       "    </tr>\n",
       "    <tr>\n",
       "      <th>4</th>\n",
       "      <td>-0.732831</td>\n",
       "      <td>-0.901596</td>\n",
       "      <td>G3 A</td>\n",
       "      <td>MCHOSE</td>\n",
       "    </tr>\n",
       "  </tbody>\n",
       "</table>\n",
       "</div>"
      ],
      "text/plain": [
       "        PC1       PC2      Model   Brand\n",
       "0 -0.936122 -0.265593   T520 Max   AJAZZ\n",
       "1 -0.768192 -0.682492       T520   AJAZZ\n",
       "2 -1.099152 -0.255619  G3 V2 Pro  MCHOSE\n",
       "3 -0.857178 -0.757565      G3 V2  MCHOSE\n",
       "4 -0.732831 -0.901596       G3 A  MCHOSE"
      ]
     },
     "execution_count": 4,
     "metadata": {},
     "output_type": "execute_result"
    }
   ],
   "source": [
    "# 1️⃣ เพิ่มมิติข้อมูล (Feature Engineering)\n",
    "# สร้าง features ใหม่จากข้อมูลเดิมเพื่อให้ PCA มีความหมายมากขึ้น\n",
    "df_features['Volume'] = df_features['Length (mm)'] * df_features['Width (mm)'] * df_features['Height (mm)']\n",
    "df_features['Weight_to_Volume'] = df_features['Weight (grams)'] / df_features['Volume']\n",
    "\n",
    "# ตรวจสอบว่ามีค่า infinite หรือไม่ (จากการหาร)\n",
    "df_features.replace([np.inf, -np.inf], np.nan, inplace=True)\n",
    "\n",
    "# 2️⃣ แปลงข้อมูลเชิงหมวดหมู่ (Categorical) เป็นเชิงตัวเลข (One-hot encoding)\n",
    "categorical_cols = ['Shape', 'Grip type', 'Sensor type']\n",
    "existing_cats = [col for col in categorical_cols if col in df.columns]\n",
    "\n",
    "if existing_cats:\n",
    "    df_cats = pd.get_dummies(df[existing_cats], prefix=existing_cats)\n",
    "    df_features = pd.concat([df_features, df_cats], axis=1)\n",
    "\n",
    "# 3️⃣ จัดการ Missing Values\n",
    "imputer = SimpleImputer(strategy='mean')\n",
    "df_imputed = pd.DataFrame(imputer.fit_transform(df_features), columns=df_features.columns)\n",
    "\n",
    "# 4️⃣ สเกลข้อมูลก่อน PCA\n",
    "scaler = StandardScaler()\n",
    "df_scaled = pd.DataFrame(scaler.fit_transform(df_imputed), columns=df_imputed.columns)\n",
    "\n",
    "\n",
    "# -----------------------------\n",
    "n = 2 # แก้แกนที่เหลือตรงนี้\n",
    "pca = PCA(n_components=n)\n",
    "\n",
    "col=[]\n",
    "for i in range(1,n+1):\n",
    "    col.append(f'PC{i}')\n",
    "#------------------------------\n",
    "\n",
    "# ทำการ fit และ transform ข้อมูล\n",
    "principal_components = pca.fit_transform(df_scaled)\n",
    "\n",
    "# สร้าง DataFrame ใหม่สำหรับผลลัพธ์จาก PCA\n",
    "df_pca = pd.DataFrame(\n",
    "    data=principal_components,\n",
    "    columns=col\n",
    ")\n",
    "\n",
    "# เพิ่มข้อมูลชื่อเมาส์และยี่ห้อกลับเข้าไปเพื่อใช้วิเคราะห์\n",
    "df_pca['Model'] = df['Model']\n",
    "df_pca['Brand'] = df['Brand']\n",
    "\n",
    "print(\"\\nผลลัพธ์จากการทำ PCA 5 แถวแรก:\")\n",
    "df_pca.head()"
   ]
  },
  {
   "cell_type": "code",
   "execution_count": 5,
   "id": "65ed399e",
   "metadata": {
    "execution": {
     "iopub.execute_input": "2025-10-14T02:56:19.366411Z",
     "iopub.status.busy": "2025-10-14T02:56:19.366411Z",
     "iopub.status.idle": "2025-10-14T02:56:19.829761Z",
     "shell.execute_reply": "2025-10-14T02:56:19.829761Z"
    }
   },
   "outputs": [
    {
     "data": {
      "application/vnd.plotly.v1+json": {
       "config": {
        "plotlyServerURL": "https://plot.ly"
       },
       "data": [
        {
         "hovertemplate": "<b>%{hovertext}</b><br><br>Brand=AJAZZ<br>แกนคุณลักษณะหลักที่ 1 (PC1)=%{x}<br>แกนคุณลักษณะหลักที่ 2 (PC2)=%{y}<extra></extra>",
         "hovertext": [
          "T520 Max",
          "T520",
          "AJ179 V2 Max",
          "AJ179 V2",
          "AM3 Max",
          "AM3 Pro",
          "AJ179 APEX",
          "AJ179 PRO",
          "AJ179P",
          "AJ179",
          "M259",
          "AJ159APEX",
          "AJ159 PRO",
          "AJ159P",
          "AJ159",
          "AJ199 MC",
          "AJ199 Pro 4K",
          "AJ199 4K",
          "AJ139 Pro 4K",
          "AJ099",
          "AJ139 Pro",
          "AJ199"
         ],
         "legendgroup": "AJAZZ",
         "marker": {
          "color": "#636efa",
          "symbol": "circle"
         },
         "mode": "markers",
         "name": "AJAZZ",
         "showlegend": true,
         "type": "scattergl",
         "x": {
          "bdata": "Cd0iRbb07b/aUolOB5XovzBqwxvxsfg/SPWmU0Qj9j+pBKdXYUwEwKkEp1dhTATA2IUukUL8sD+1iXps7vHVP9dHjbDIguk/10eNsMiC6T8LCbqvwKPuP+Sc2G5/EP6/1eLM/Mej+b9W4aQ/317yv1bhpD/fXvK/z2uea31f8b/J6znCgyHYP6Iokumie/K/xX7PexDZ6r+3fO8rsszmv7Pn2whdRem/tPwqNv5a8b8=",
          "dtype": "f8"
         },
         "xaxis": "x",
         "y": {
          "bdata": "JZSy53n/0L+jG1p2+Nblv26N5XDsaek/IAOhl+TB7j9awOf+bEzGP1rA5/5sTMY/y9WaxNcW/j8ztIA+Ken0PxXqlNAjfOc/FeqU0CN85z8mRSOZQ5rhP8Us70bYHPA/rSxUA6e82z/unwmrbN/Bv+6fCats38G/lelX2lEo2r8Q++4QHOfoP5Ll3uHKJ8O/nBhPojgdxz+iDfa5qYrev9MmTTvfP7k/cQC2fOkX0L8=",
          "dtype": "f8"
         },
         "yaxis": "y"
        },
        {
         "hovertemplate": "<b>%{hovertext}</b><br><br>Brand=MCHOSE<br>แกนคุณลักษณะหลักที่ 1 (PC1)=%{x}<br>แกนคุณลักษณะหลักที่ 2 (PC2)=%{y}<extra></extra>",
         "hovertext": [
          "G3 V2 Pro",
          "G3 V2",
          "G3 A",
          "A5 V2 Ultra",
          "L7 Ultra+",
          "L7 Pro+",
          "K7 Ultra",
          "G7 Max",
          "G7 Pro",
          "G7",
          "M7 Ultra",
          "AX5 V2",
          "L7 Ultra",
          "L7 Pro",
          "L7",
          "A7 Ultra",
          "A7 Pro",
          "A7",
          "M7 Pro",
          "M7",
          "G3 Ultra",
          "G3 Max",
          "G3 Pro",
          "G3",
          "G3 SE",
          "A5 Ultra",
          "AX5 Pro Max",
          "AX5 Pro",
          "AX5",
          "A5 Pro Max",
          "A5 Pro",
          "A5"
         ],
         "legendgroup": "MCHOSE",
         "marker": {
          "color": "#EF553B",
          "symbol": "circle"
         },
         "mode": "markers",
         "name": "MCHOSE",
         "showlegend": true,
         "type": "scattergl",
         "x": {
          "bdata": "HSE4pSCW8b+fvNtCAG7rv5J/mVFac+e/GpbfE49v+r9GVYAxRwUAwNSRnzLPzPy/7JhB+4N+87/WeZD7FVz4P2ibfo6kNf4/EV9Bng/AAUAcVAk8PVT2vyhQ64VG3P6/U1vigtvsBcBKftzJf7YDwEp+3Ml/tgPAF0GzQctH9b8Hh6fPE9vwv3RTY8m1//G/DZr9yYXn8b9dRpBqoKryvxYEv2m23fa/FgS/abbd9r8CG0tAQzDxv5J/mVFac+e/a7ABeUWi6r+0nH4lknP4v5RhWRAo1fq/TIVCpMet9r83symWK0T4vzWbVmipLvG/NZtWaKku8b+m/cNddF/yvw==",
          "dtype": "f8"
         },
         "xaxis": "x",
         "y": {
          "bdata": "KdvWIRFc0L9jKJn7+T3ovxF2alTg2ey/yF8/Mbys4T82fSRi2yn1P7MYNNGGr+o/+sr4Faqr+D/QQQ9rf1gBQNno/Lue8vo/D2eRyu598T9unf/RExT4P3vRuZ4MBPI/veVg8zQ58j9MiI3aDBfiP0yIjdoMF+I/Am4+obsP9z/UmEg2GsTrP+FL0LUCSe4/rPfKl8rM7T9gL6dDznrvPzwMvwr/MMY/PAy/Cv8wxj+hYPfeBjTSvxF2alTg2ey/H2sp2vQp6b+Xgs5Nqi7aP6syhGZql+I/RGeMLA060D9v/rLWfo/XPyL0FBZm+8S/IvQUFmb7xL/AIrYtd/azvw==",
          "dtype": "f8"
         },
         "yaxis": "y"
        },
        {
         "hovertemplate": "<b>%{hovertext}</b><br><br>Brand=G-Wolves<br>แกนคุณลักษณะหลักที่ 1 (PC1)=%{x}<br>แกนคุณลักษณะหลักที่ 2 (PC2)=%{y}<extra></extra>",
         "hovertext": [
          "Fenrir Pro 8K",
          "HTX Ultra 8K",
          "VUK",
          "HTM Plus 8K",
          "HT-S2 Pro 8K",
          "Fenrir Max 8K",
          "Fenrir Asym 8K",
          "HTS Ultra 8K",
          "HTX Mini 8K",
          "HTS Plus 8K",
          "HTR Pro 8K",
          "HT-S2 8K",
          "HTR 8K",
          "HTS Ace Wireless",
          "HTM Ace",
          "HSK Plus 4K",
          "HSK Plus Lite",
          "HTX 4K",
          "HTX Ace",
          "HSK Pro 4K",
          "HSK Pro Ace",
          "HTS Plus 4K",
          "HTS",
          "HTS Wireless",
          "HSK",
          "HSK Plus",
          "HTS Plus",
          "HTM Wireless",
          "HTM",
          "Skoll Mini",
          "Skoll"
         ],
         "legendgroup": "G-Wolves",
         "marker": {
          "color": "#00cc96",
          "symbol": "circle"
         },
         "mode": "markers",
         "name": "G-Wolves",
         "showlegend": true,
         "type": "scattergl",
         "x": {
          "bdata": "DLPSpt+5E8B/817A9XsBwNDjN5bCyfy/xHJYCum9/b9zXCRC5ecGwKooGQ6V/xLAU5x/7vdPEsDODf3mPbgDwKs/VJgZLAnAtpCOdkxw/b/lJBQr1MsQwG++m9AmjgXAp/NcB37LD8DeW7Ap5rHxvzEi7CciqOG/Q+joVnIvCsDFIv7IS8wHwKYSAeYTz/2/eREP52Xm+795Zv/Kd8gSwBWICdGPmRLAaOjnzr5w9r+qWnUY8370vxmPbG9pufG/YdAWDRslDMD1xG0N5qgHwFDU+daNcfO/JYe8wj1o17/BMg4C8zzJv/6PSuvJAeA/yl/+TDcT/D8=",
          "dtype": "f8"
         },
         "xaxis": "x",
         "y": {
          "bdata": "mKQ7bTcD379A1KKBjA/1P6hew2qbpfg/B+BQocM5+T835OlxdhHxP6+FqEbCHOa/0MNP3NTn57+eGtNyZtzzP7QeTSkYDOM/7uuMxibc6D8y0J38OC7MvyyATOjOh+Q/KhISkjcSwr+K/wBjX2TjvwXnwPImVbQ/cpnr1IR07b/42NZKSRn2v7AgJM5CCOA/VutGxIEA1j8x/8ynUCUAwB9sj1IpOgDAwI5wucUYwz/BoAltJ7rZv46JkUbB0OG/Wk6yWGkKAcARezgzJKz2v6zTWZb9lrq/CJuLU3Ems79NYJi9YjPYvzsEjpooLdc/faIAZP164D8=",
          "dtype": "f8"
         },
         "yaxis": "y"
        },
        {
         "hovertemplate": "<b>%{hovertext}</b><br><br>Brand=Pulsar<br>แกนคุณลักษณะหลักที่ 1 (PC1)=%{x}<br>แกนคุณลักษณะหลักที่ 2 (PC2)=%{y}<extra></extra>",
         "hovertext": [
          "Susanto-X",
          "Pro Series JV-X",
          "Xlite CrazyLight",
          "X2F",
          "ZywOo The Chosen Mouse - Mini",
          "ZywOo The Chosen Mouse - Medium",
          "Xlite v4 eS Mini",
          "Xlite v4 eS Medium",
          "X2H v3 eS Mini",
          "X2H v3 eS",
          "TenZ Signature Edition",
          "X2A v3 eS Mini",
          "X2 v3 eS Mini",
          "X2 v3 Mini",
          "X2 CrazyLight",
          "X2H v3 Mini",
          "X2H v3",
          "X2A v3",
          "X2 v3",
          "Xlite v4 Large",
          "X2A Wired",
          "X2 Wired",
          "Feinmann F01",
          "Xlite v4 Medium",
          "Xlite v4 Mini",
          "Xlite Wired",
          "Xlite V2 Mini Wireless",
          "Xlite Wireless",
          "Xlite",
          "Xlite V2 Wireless",
          "X2H Wired",
          "X3",
          "X3 Mini",
          "X3 LHD",
          "X3 LHD Mini",
          "X2A eS",
          "X2H eS",
          "Xlite v3 Large",
          "Xlite v3 Mini",
          "Xlite v3 Medium",
          "Xlite v3 eS",
          "X2A Mini",
          "X2A",
          "X2H Mini",
          "X2H",
          "X2V2 Mini",
          "X2V2",
          "X2 Mini",
          "X2"
         ],
         "legendgroup": "Pulsar",
         "marker": {
          "color": "#ab63fa",
          "symbol": "circle"
         },
         "mode": "markers",
         "name": "Pulsar",
         "showlegend": true,
         "type": "scattergl",
         "x": {
          "bdata": "I3QKPpn//L+OWE7s51Klv4VMzxBV2d6/ne7W/P7FDsCDM0/rl2qeP08uW3of++U/Cu+7NhrYcD+5/1MN2bfqP7M6O5EuCPq/84gM1CMc8r8euxYzAmf4v03dEkrGtPy/VQg9QQ2//r9mc/P/WAEBwNlRnb79RATAFrE2gg9A/7+ESbppOrz2vzSZoN2Vhvm/qMsEhzUa+796o385QAbzP40+DUDQ/fC/nn3K01f28r+vg45xLqRMvw6SBlGo+98/Jb3JG3x5y7+GooP5NC/wPx5sQASUreE/qQmHBaqO8z8qr8sJda7vP6kJhwWqjvM/A1qA9csn7b+8X9SZAADtPwtzmegkess/vF/UmQAA7T8Lc5noJHrLPxOcrxbyIvO/UZOzrmSb8b++CmzB7fP7P3m+zBH4+dU/akCD7UhL8T9Gy9yiYgnuP0uQpRgyc/e/8DG0VeiY8L8aaJlxn+v1v7t5qarA1+q/hn/6dwQV+b9kZBj/hyzyv7ZDJeCPrPi/jT4NQND98L8=",
          "dtype": "f8"
         },
         "xaxis": "x",
         "y": {
          "bdata": "1DjuLtVi7D838Pwvb2P3PxIRupIas/s/WFsjLmB8578HvOfmtID3P5+hd/ROov0/kI4+1XDr8j/JcVfp0+r7P78pyllRutI/YmQCs1FE5z9fJSwRZlD0PzEMIKjDM8I/ZrpEOKnP0j88un8fdCzhPyc6HZPZWvA/YvqxqXuR5T8NCiOj8MzwP1ElQCkUGec/H57Mrli26j8xOM20XaECQA9AzWXEgKO/BRiWBEtkuj+2sw8+wy3+Pyslw2VDa/8/5CK2nePe9j/dfrbTJJjzPxuqDiMvmtc/N09HmNgz6T9NKKELZpLwPzdPR5jYM+k/at738Lk01D+3B6dTqK8BQLiw6dZT3f0/twenU6ivAUC4sOnWU939P86GHNAOfMU/Hbc/s3L34j+cZBqhgqb4P0MubKpVheQ/r2YJgn1q8j8vpQ13snn4P50XXmaa3Ne/qJH/Pev6sL8CRcY5LF3CvxYNrE7kE84/kboA4/oX0L+Tacjccd6nP9UR2MMiCdK/D0DNZcSAo78=",
          "dtype": "f8"
         },
         "yaxis": "y"
        },
        {
         "hovertemplate": "<b>%{hovertext}</b><br><br>Brand=Dark<br>แกนคุณลักษณะหลักที่ 1 (PC1)=%{x}<br>แกนคุณลักษณะหลักที่ 2 (PC2)=%{y}<extra></extra>",
         "hovertext": [
          "Project Novus Pro",
          "Project Novus",
          "Project Novus SE",
          "Project Nexus Ultra",
          "Project Nexus"
         ],
         "legendgroup": "Dark",
         "marker": {
          "color": "#FFA15A",
          "symbol": "circle"
         },
         "mode": "markers",
         "name": "Dark",
         "showlegend": true,
         "type": "scattergl",
         "x": {
          "bdata": "FWe6FNlz9L9R3foIlCjqvy3LJK/gXeq/8VisHD2N8799Vuj4TnXrvw==",
          "dtype": "f8"
         },
         "xaxis": "x",
         "y": {
          "bdata": "u0o6wJFB8j/YdyYjUkfiPygXCNT0LOI/dppgMmuR9D+tBp9EDCToPw==",
          "dtype": "f8"
         },
         "yaxis": "y"
        },
        {
         "hovertemplate": "<b>%{hovertext}</b><br><br>Brand=Chaos<br>แกนคุณลักษณะหลักที่ 1 (PC1)=%{x}<br>แกนคุณลักษณะหลักที่ 2 (PC2)=%{y}<extra></extra>",
         "hovertext": [
          "M3 Mini"
         ],
         "legendgroup": "Chaos",
         "marker": {
          "color": "#19d3f3",
          "symbol": "circle"
         },
         "mode": "markers",
         "name": "Chaos",
         "showlegend": true,
         "type": "scattergl",
         "x": {
          "bdata": "eaq0wM8W/78=",
          "dtype": "f8"
         },
         "xaxis": "x",
         "y": {
          "bdata": "yGHLxIkA6D8=",
          "dtype": "f8"
         },
         "yaxis": "y"
        },
        {
         "hovertemplate": "<b>%{hovertext}</b><br><br>Brand=Attack<br>แกนคุณลักษณะหลักที่ 1 (PC1)=%{x}<br>แกนคุณลักษณะหลักที่ 2 (PC2)=%{y}<extra></extra>",
         "hovertext": [
          "Shark V5",
          "Shark R11 Ultra",
          "Shark X8 Ultra",
          "Shark X11 SE",
          "Shark X8 SE",
          "Shark X8 Pro",
          "Shark X8 Plus",
          "Shark G3 Pro",
          "Shark G3",
          "Shark X1",
          "Shark R5 Ultra",
          "Shark R6",
          "Shark X3 Max",
          "Shark R2",
          "Shark X11",
          "Shark R3",
          "Shark R1",
          "Shark X3 Pro",
          "Shark X6",
          "Shark X3"
         ],
         "legendgroup": "Attack",
         "marker": {
          "color": "#FF6692",
          "symbol": "circle"
         },
         "mode": "markers",
         "name": "Attack",
         "showlegend": true,
         "type": "scattergl",
         "x": {
          "bdata": "bhhZLuXS+r/6sh0OuAH6vw4zwa2F7fa/J7Me4YuA17/Ad9kONOrlv8y7f7/uX/a/nXSvBAw27r81K09d/WbyvzUrT139ZvK/mhkcgm1A979+4ZV11ugDwE88tZhaJgTAY6yv4XP++L+Bg9Zi8EUBwG68I0oIetG/dyyKHYPXAMDIObiErjbwP+YzlZUx5fe/WkDiLv359r9V8qNvvJH0vw==",
          "dtype": "f8"
         },
         "xaxis": "x",
         "y": {
          "bdata": "KAK2kO9R9T/BXN4gIlj5P/2yMZJdrfg/LzviKhcp0z+LwP418wbXP8lubsGnh/c/RF9w1iC57D8ZLpJTXo/VvxkuklNej9W/xHi/2q/54D8jfaF1ujj2P4b1n8A2//U/Ylmb8IY95z9YFuoM3Ir1P/hsTC8lO8k/ZZtg9Zc+4T8ICjo+bYjhPzPftbKJWtw/04V6J389lb/AWJyRp4jDPw==",
          "dtype": "f8"
         },
         "yaxis": "y"
        },
        {
         "hovertemplate": "<b>%{hovertext}</b><br><br>Brand=LAMZU<br>แกนคุณลักษณะหลักที่ 1 (PC1)=%{x}<br>แกนคุณลักษณะหลักที่ 2 (PC2)=%{y}<extra></extra>",
         "hovertext": [
          "MAYA Champion Edition",
          "x REJECT Paro Reject Special Edition",
          "Paro Aurora",
          "x Aimlabs MAYA X",
          "Inca",
          "Tachi",
          "MAYA X",
          "x Fnatic MAYA X 8K",
          "x Fnatic MAYA 8K",
          "Paro",
          "Atlantis Mini Champion",
          "MAYA 4K",
          "x Fnatic Thorn 4K",
          "Thorn 4K",
          "Atlantis Mini 4K",
          "Atlantis Mini Pro",
          "Atlantis OG V2 4K",
          "Atlantis OG V2 Pro",
          "MAYA",
          "Atlantis OG V2",
          "Thorn",
          "Atlantis Mini",
          "Atlantis"
         ],
         "legendgroup": "LAMZU",
         "marker": {
          "color": "#B6E880",
          "symbol": "circle"
         },
         "mode": "markers",
         "name": "LAMZU",
         "showlegend": true,
         "type": "scattergl",
         "x": {
          "bdata": "Bu6G7y6F/7/+zSH2tymsv/7NIfa3Kay/PGQwthV79b9zE0ZuMmn7v9mGJ0I+IPy/PGQwthV79b9upexQfj32vwbuhu8uhf+/BQrwaA7wjD+mXAX2Ym7+vzoj7aagQvq/iv0XFWbF4D+K/RcVZsXgP0c+lAt7+fm/EhmDuvLb9r+faifh0CXuvzMgBT/A6ue/A/7bVRgl978zIAU/wOrnv/VHOrd2AOc/rPedeGLs9L8zIAU/wOrnvw==",
          "dtype": "f8"
         },
         "xaxis": "x",
         "y": {
          "bdata": "BMAf4Jzf7D8eIrE8Fon6Px4isTwWifo/9crb3I1b9T8QXYh5c/r1P4SO0pIxCOw/9crb3I1b9T9CrUfY3jD2PwTAH+Cc3+w/uJkqm6o9+D/gLSIiW23jP1tgqZnDnNs/qhEIfTh18z+qEQh9OHXzP7D0BTGx9cg/tyHQ/ujlqb9ckLnLVTfgPygiFt8Vt9A/lsOYwlvKxz8oIhbfFbfQPw6k4R2mDu8/Ab+Hiq5M078oIhbfFbfQPw==",
          "dtype": "f8"
         },
         "yaxis": "y"
        },
        {
         "hovertemplate": "<b>%{hovertext}</b><br><br>Brand=ATK<br>แกนคุณลักษณะหลักที่ 1 (PC1)=%{x}<br>แกนคุณลักษณะหลักที่ 2 (PC2)=%{y}<extra></extra>",
         "hovertext": [
          "U2 Mini",
          "Duckbill",
          "X1 S",
          "X1 SE",
          "U2 Ultimate",
          "U2 Ultra",
          "U2 Pro Max",
          "U2 Pro",
          "U2 Plus",
          "U2",
          "U2 SE",
          "A9 Pro Max",
          "A9 Ultra",
          "A9 Pro",
          "A9 Plus",
          "A9 SE",
          "A9",
          "X1",
          "Fierce X",
          "F1 Extreme",
          "X1 Ultimate",
          "Z1 Ultra",
          "Z1 Pro Max",
          "X1 Ultra",
          "X1 Pro Max",
          "X1 Pro",
          "F1 Ultimate",
          "F1 Pro Max",
          "F1 Pro"
         ],
         "legendgroup": "ATK",
         "marker": {
          "color": "#FF97FF",
          "symbol": "circle"
         },
         "mode": "markers",
         "name": "ATK",
         "showlegend": true,
         "type": "scattergl",
         "x": {
          "bdata": "bf0ct3HSAMBZk4r+96MBwPOW7hX55+K/xbnFR4P23L/79mdKpZ35v5tdDrm13vm/o0cPLSHl8r9SCccRwxr3v0mMzt9wQOe/2XZoNgrY67/Zdmg2Ctjrv8MQG//8wfC/siRFiWez9r+hajkXsEbyv4oe5oMo+uK/U5kcWZuK3L9F0iK0jgPmv/hMH0jluPC/QuCevTfeA8Bo5i69RcYCwG7WrtqWR/a/ckSnOsL92j/FbdyyatDgPwgHK7qcJfW/QaFm79d887/s+ux6I2D1v7Tki9SzLgLA/lU7mRP4/b8BsVpLT/H/vw==",
          "dtype": "f8"
         },
         "xaxis": "x",
         "y": {
          "bdata": "MKms7MHK9j98B/K0gsLzPzQbImfc/uA/aOYfhLdEzz9uutzNown6P95i/DURt/g/AEy76cah7D/eDSwihPryP1ubnXowl9Q/u2YxxnfD3j+7ZjHGd8PeP0i1rI3mSu4//a3ginr9+T9kjMYEzM/wP+1tgMJv6dc/kwqksQHRmL/zNEG60pLeP8JMx4mFqvE/uF+ZvmS78z+v63XfQcX6P1SNHkszFPw/gBHFRW4LAkAyK6CM3VIAQFpu4Q802Po/wqGXnRJn9z9i1VIAvHX5P4YCU2hBafk/RpF9GR6I8D/iFQ3gHszyPw==",
          "dtype": "f8"
         },
         "yaxis": "y"
        },
        {
         "hovertemplate": "<b>%{hovertext}</b><br><br>Brand=INZONE<br>แกนคุณลักษณะหลักที่ 1 (PC1)=%{x}<br>แกนคุณลักษณะหลักที่ 2 (PC2)=%{y}<extra></extra>",
         "hovertext": [
          "Mouse-A"
         ],
         "legendgroup": "INZONE",
         "marker": {
          "color": "#FECB52",
          "symbol": "circle"
         },
         "mode": "markers",
         "name": "INZONE",
         "showlegend": true,
         "type": "scattergl",
         "x": {
          "bdata": "Ardf6Kqi978=",
          "dtype": "f8"
         },
         "xaxis": "x",
         "y": {
          "bdata": "FpAv5qUu8j8=",
          "dtype": "f8"
         },
         "yaxis": "y"
        },
        {
         "hovertemplate": "<b>%{hovertext}</b><br><br>Brand=VAXEE<br>แกนคุณลักษณะหลักที่ 1 (PC1)=%{x}<br>แกนคุณลักษณะหลักที่ 2 (PC2)=%{y}<extra></extra>",
         "hovertext": [
          "ZYGEN NP-01S Ergo",
          "XE v2",
          "ZYGEN NP-01S v2",
          "x Ninjutso Sora 4K",
          "E1 Wireless 4K",
          "XE-S L Wireless 4K",
          "XE-S Wireless 4K",
          "ZYGEN NP-01 Wireless 4K",
          "ZYGEN NP-01S Wireless 4K",
          "XE Wireless 4K",
          "OUTSET AX Wireless 4K",
          "OUTSET AX Wireless",
          "ZYGEN NP-01S Wireless",
          "ZYGEN NP-01S",
          "XE Wireless",
          "XE",
          "OUTSET AX",
          "ZYGEN NP-01"
         ],
         "legendgroup": "VAXEE",
         "marker": {
          "color": "#636efa",
          "symbol": "circle"
         },
         "mode": "markers",
         "name": "VAXEE",
         "showlegend": true,
         "type": "scattergl",
         "x": {
          "bdata": "4wBZQ+xZ1b8J5wYUAVfWv1Lj9iagoeC/SucuVLu+5r/bII0hea7yP+OCbZ6gBO6/44JtnqAE7r93w5EVYmXSP4lu4559es+/EArisZ1/rD9MOxwu5Gv4P4JgLX9sifs/ThNpWew4qr8TS6ijcwWYPx7WgPoUBtA/gFH5EZt8oj8AOnmDD6n8P3VYFWcs9+A/",
          "dtype": "f8"
         },
         "xaxis": "x",
         "y": {
          "bdata": "skoMCOiz4b8h8kF8oePTvwNAvBxeeOS/+Oe/bIzX5L+R1Wv4n7jKP4AUVpk7bu6/gBRWmTtu7r884GIMVwHnvypKIiv0oO6/3ig568w16L8DXTCA1v+vvzEKY4iQt9O/u2Sog18+87962uSc/6D0vxXUs+PLCPC/Brw8ZDCE6L8L6MyhypDYvzhzj3l5SfC/",
          "dtype": "f8"
         },
         "yaxis": "y"
        },
        {
         "hovertemplate": "<b>%{hovertext}</b><br><br>Brand=Ausdom<br>แกนคุณลักษณะหลักที่ 1 (PC1)=%{x}<br>แกนคุณลักษณะหลักที่ 2 (PC2)=%{y}<extra></extra>",
         "hovertext": [
          "G04 Ultra",
          "G04 Pro",
          "G04 Air"
         ],
         "legendgroup": "Ausdom",
         "marker": {
          "color": "#EF553B",
          "symbol": "circle"
         },
         "mode": "markers",
         "name": "Ausdom",
         "showlegend": true,
         "type": "scattergl",
         "x": {
          "bdata": "T+g27R25tb9D0D38ukyTPwHjY6RuSN4/",
          "dtype": "f8"
         },
         "xaxis": "x",
         "y": {
          "bdata": "F42jbteA/T9+wFn8tQ/6P1WBI6ae5PA/",
          "dtype": "f8"
         },
         "yaxis": "y"
        },
        {
         "hovertemplate": "<b>%{hovertext}</b><br><br>Brand=Rapoo<br>แกนคุณลักษณะหลักที่ 1 (PC1)=%{x}<br>แกนคุณลักษณะหลักที่ 2 (PC2)=%{y}<extra></extra>",
         "hovertext": [
          "VT2 Max",
          "VT2",
          "VT3S Max Gen-2",
          "VT3S Gen-2",
          "VT3 Max Gen-2",
          "VT3 Gen-2",
          "MT760 Mini",
          "MT760 Pro",
          "MT760",
          "VT7 Max",
          "VT7",
          "VT9 Pro 4K",
          "VT3 Pro Max",
          "VT3 Pro",
          "VT1 Pro Max",
          "VT1 Air Max",
          "VT1 Pro",
          "VT3S (Old)",
          "VT900",
          "VT9 Air",
          "VT9 Pro Mini",
          "VT9 Pro",
          "VT9S",
          "VT960 Pro"
         ],
         "legendgroup": "Rapoo",
         "marker": {
          "color": "#00cc96",
          "symbol": "circle"
         },
         "mode": "markers",
         "name": "Rapoo",
         "showlegend": true,
         "type": "scattergl",
         "x": {
          "bdata": "klrUg1A6+L+gbWasNvnyv9mIoZ+2BdI/50KtEW5y1j+ljb0QdHLpP61qw8nPqOs/MPgj99iUDkDMKKDCh3oVQBLFSXJNsxVA7xOAt0/l8b9rJf3aIcrwvzkvgeBGjNq/pWTvAoLj4j+tQfW73RnlP1JXzRzm8/m/fcqNNieI/b/OaEpAuNj4vwZEf4dXqs4/p17eFUgJEEDTxJUMkFf0v5sq6dHlsuu/xjR5OEsszL/qASwDTwasv//A6kLXLMu/",
          "dtype": "f8"
         },
         "xaxis": "x",
         "y": {
          "bdata": "ixPNTBiO+z+lC44N2afwP7UOmui3QP4/T4YTR0z1+z+Gorgq0RgBQKa86rM25v8/nh3lHUt4E8D5rqcrXSAOwH1FBMGx+Q/A+0sifBCT9D+Ww5vapEfyP0WBOJHlKdc/fT1g5fWK+z8XtdlDij/5Pwfo+5jK998/cYmKdCRF6D9uxuESHMrWP04LMrAOm8S/T4BdRhOD1b9RmI51Y5jhPxM251O6Kq0/0QpuYz/JvT/0zUMYPGiwvwuQFAFSlJO/",
          "dtype": "f8"
         },
         "yaxis": "y"
        },
        {
         "hovertemplate": "<b>%{hovertext}</b><br><br>Brand=Freewolf<br>แกนคุณลักษณะหลักที่ 1 (PC1)=%{x}<br>แกนคุณลักษณะหลักที่ 2 (PC2)=%{y}<extra></extra>",
         "hovertext": [
          "A7",
          "A6"
         ],
         "legendgroup": "Freewolf",
         "marker": {
          "color": "#ab63fa",
          "symbol": "circle"
         },
         "mode": "markers",
         "name": "Freewolf",
         "showlegend": true,
         "type": "scattergl",
         "x": {
          "bdata": "AT36pnTQ6z8CW6HR6LDyvw==",
          "dtype": "f8"
         },
         "xaxis": "x",
         "y": {
          "bdata": "Ye+8yegA4z+w7W0dc53bvw==",
          "dtype": "f8"
         },
         "yaxis": "y"
        },
        {
         "hovertemplate": "<b>%{hovertext}</b><br><br>Brand=Microsoft<br>แกนคุณลักษณะหลักที่ 1 (PC1)=%{x}<br>แกนคุณลักษณะหลักที่ 2 (PC2)=%{y}<extra></extra>",
         "hovertext": [
          "Comfort Mouse 4500",
          "Wheel Mouse Optical",
          "Sidewinder X8",
          "Classic IntelliMouse",
          "Pro IntelliMouse"
         ],
         "legendgroup": "Microsoft",
         "marker": {
          "color": "#FFA15A",
          "symbol": "circle"
         },
         "mode": "markers",
         "name": "Microsoft",
         "showlegend": true,
         "type": "scattergl",
         "x": {
          "bdata": "KUJj8zAC+j9QLWbeos/2P2q5F2tfZxNAqOWTC/XtCED4LqL7MMMIQA==",
          "dtype": "f8"
         },
         "xaxis": "x",
         "y": {
          "bdata": "Pc7M2YwWA8DJWKcFaZEXwIgKT3fclem/bNFH+1VSwb9RgTds7BS/Pw==",
          "dtype": "f8"
         },
         "yaxis": "y"
        },
        {
         "hovertemplate": "<b>%{hovertext}</b><br><br>Brand=HyperX<br>แกนคุณลักษณะหลักที่ 1 (PC1)=%{x}<br>แกนคุณลักษณะหลักที่ 2 (PC2)=%{y}<extra></extra>",
         "hovertext": [
          "Pulsefire Fuse",
          "Pulsefire Haste 2 S",
          "Pulsefire Saga Pro",
          "Pulsefire Haste 2 Pro",
          "Pulsefire Warp",
          "Pulsefire Haste 2 Core Wireless",
          "Pulsefire Surge",
          "Pulsefire Haste 2 Mini",
          "Pulsefire Haste 2 Wireless",
          "Pulsefire Haste 2 Wired",
          "Pulsefire Raid",
          "Pulsefire Dart",
          "Pulsefire FPS Pro",
          "Pulsefire Core",
          "Pulsefire Haste",
          "Pulsefire Haste Wireless"
         ],
         "legendgroup": "HyperX",
         "marker": {
          "color": "#19d3f3",
          "symbol": "circle"
         },
         "mode": "markers",
         "name": "HyperX",
         "showlegend": true,
         "type": "scattergl",
         "x": {
          "bdata": "w16JzHvimz/5JMWfGxXav9gccmjMnO8/01NxzY5R5r+yvW4hKj/Sv8GvDGfjArK/bsiMpbrJ2j80iAuFVtr0v2YJTyt+FuC/HP07Lhhc8r9qyVC9L40IQFEjPFcnhgtAcNYL/ZRwBUCAPUWuFdHXPxv9Nucpo9a/G/025ymj1r8=",
          "dtype": "f8"
         },
         "xaxis": "x",
         "y": {
          "bdata": "sLTKG4Xi5L+CMzFzfcTAPytcMj3GYOQ/iUdLHpHP3j8bcyA7kEzpvxKLGMhgc96/doAqWw4y9b8KeSBUjszcv/SR3Mv2L84/A6nchfRL8D/BCJIy73HdPxvhNR1itMk/GM2Z+HJ7zz84KZL0o/Dzv9x89vgms7i/3Hz2+CazuL8=",
          "dtype": "f8"
         },
         "yaxis": "y"
        },
        {
         "hovertemplate": "<b>%{hovertext}</b><br><br>Brand=Darmoshark<br>แกนคุณลักษณะหลักที่ 1 (PC1)=%{x}<br>แกนคุณลักษณะหลักที่ 2 (PC2)=%{y}<extra></extra>",
         "hovertext": [
          "M2 Air",
          "M5 Air",
          "N3 Pro",
          "M3 Micro Pro",
          "N7 Max",
          "N7",
          "M3 XS Pro",
          "M2 Pro",
          "M3S MAX",
          "M5 Pro",
          "M3 Pro Max",
          "N5",
          "M3 XS",
          "M2",
          "M5",
          "M3 Micro",
          "M3S Pro",
          "M3 Pro",
          "M3S",
          "M3 4K",
          "N3",
          "M3"
         ],
         "legendgroup": "Darmoshark",
         "marker": {
          "color": "#FF6692",
          "symbol": "circle"
         },
         "mode": "markers",
         "name": "Darmoshark",
         "showlegend": true,
         "type": "scattergl",
         "x": {
          "bdata": "V9k3wZ5TBMCpnrEX+6MOwEUd77LVreI/yRoXfj9zC8AIjPpkUXfOPx15m67nOdU/SYffaNI9A8DRz3kOWA0EwGd1SFBVVfq/y7wVVgL/DMB3C/vquSzvvzm3knvDfuI/46GSRIucAMCdymxSCKEBwGXXyDG7XQrAh6PVj6jlCsBIitCvnkn0v4FU14DRaeK/JBzFee418r/gAjHpAYPUv43O0+p18+4/ua2gd0oJ2L8=",
          "dtype": "f8"
         },
         "xaxis": "x",
         "y": {
          "bdata": "dCIXy8dQ5T/AZbtG/GnBv2QvZSGKSvQ/tziTT1IM1b8Qrb8e9yD+PwyOw5Qcg/w/06hebGzg4T/U/cJJkujlPy4gVChdaOs/DhoiaESC2r+s84E4IOX2P+gDr+HQvPg/8cecyIp5tj9m7UCeaVzPP94cXEddUuy/Ulqt1QA63r9mI/uXXBfVPzn+cNv/T+w/tkh6j/E5xT+jAo8Gsa7kP9QJv2F4t+g/bCUKccip5D8=",
          "dtype": "f8"
         },
         "yaxis": "y"
        },
        {
         "hovertemplate": "<b>%{hovertext}</b><br><br>Brand=Flickshot<br>แกนคุณลักษณะหลักที่ 1 (PC1)=%{x}<br>แกนคุณลักษณะหลักที่ 2 (PC2)=%{y}<extra></extra>",
         "hovertext": [
          "One Pro"
         ],
         "legendgroup": "Flickshot",
         "marker": {
          "color": "#B6E880",
          "symbol": "circle"
         },
         "mode": "markers",
         "name": "Flickshot",
         "showlegend": true,
         "type": "scattergl",
         "x": {
          "bdata": "8OrL6g45AcA=",
          "dtype": "f8"
         },
         "xaxis": "x",
         "y": {
          "bdata": "/u9B6FW19D8=",
          "dtype": "f8"
         },
         "yaxis": "y"
        },
        {
         "hovertemplate": "<b>%{hovertext}</b><br><br>Brand=Keychron<br>แกนคุณลักษณะหลักที่ 1 (PC1)=%{x}<br>แกนคุณลักษณะหลักที่ 2 (PC2)=%{y}<extra></extra>",
         "hovertext": [
          "M6 8K",
          "M6 Lite",
          "M4 8K",
          "M3 8K",
          "M3 Lite",
          "M2 8K",
          "M2 4K",
          "M6 4K",
          "M3 Mini 8K",
          "M5",
          "M7 8K",
          "Lemokey G2",
          "Lemokey G1",
          "M7",
          "M4",
          "M4 4K",
          "M6",
          "M3 Mini 4K - Metal Edition",
          "M2 Mini",
          "M3 Mini 4K",
          "M3 4K",
          "M3",
          "M2",
          "M1 Wireless",
          "M1 Wired",
          "M3 Mini"
         ],
         "legendgroup": "Keychron",
         "marker": {
          "color": "#FF97FF",
          "symbol": "circle"
         },
         "mode": "markers",
         "name": "Keychron",
         "showlegend": true,
         "type": "scattergl",
         "x": {
          "bdata": "wcRcK4gXBkAoXhe6IzcMQHawYnWWhxHA4WZgHoopyr/nS1KzC/ThP6WcPmQUEtQ/7ONSwyaO5D81FlGYWVwHQKVaV8rqoPW/hhVbCizIGEA2aknEwTn9P0dzmbT9RPy/MOJDk0nM/b8cLfou7MwCQO3o750h3w7Awz084/I2EMDQqNnAHesIQN9fu9mxyem/f2rKz+7/wT/aj72BXF7wv/je20zQ1b8/mox7V5Vr1D9YLnVlN8nqPwvN9k5Jx8E/wLjj8vWAqz9H1VhhqIHqvw==",
          "dtype": "f8"
         },
         "xaxis": "x",
         "y": {
          "bdata": "jCTmLtFcAkAhpLiwJjvxP86Fy9p0//C/JsoSAJo76j+H/yi0uoLZvxJv9OZVi/s/J+dOXbgC9D9+Iqi9B8L/Pwh5cLj+0ew/aQCjjfxvEUBpw+zt1dsBQFq0iFuFreY/h24onlm/4D8+vxzkKEH4P11NiNL3dfy/uQ1xZBKI+L/a4pBPItT7P8TWLkE25sc/PMRz9Axb4T9l0kpKh4HbP6F0j9m9VNY/Q9jJhKB0uj+Dpzfv0hTwP1XhpODrY4y/QDxiF5nkt7+qp9sj45PHPw==",
          "dtype": "f8"
         },
         "yaxis": "y"
        },
        {
         "hovertemplate": "<b>%{hovertext}</b><br><br>Brand=Endgame<br>แกนคุณลักษณะหลักที่ 1 (PC1)=%{x}<br>แกนคุณลักษณะหลักที่ 2 (PC2)=%{y}<extra></extra>",
         "hovertext": [
          "Gear XM2w 4k v2",
          "Gear XM2 8k v2",
          "Gear OP1 8k v2",
          "Gear OP1w 4k v2",
          "Gear OP1w 4k",
          "Gear XM2w 4k",
          "Gear XM2 8k",
          "Gear OP1 8k",
          "Gear OP1 8k Purple",
          "Gear OP1we",
          "Gear OP1 RGB",
          "Gear OP1",
          "Gear XM2we",
          "Gear XM2w",
          "Gear XM1",
          "Gear XM1 RGB",
          "Gear XM1r"
         ],
         "legendgroup": "Endgame",
         "marker": {
          "color": "#FECB52",
          "symbol": "circle"
         },
         "mode": "markers",
         "name": "Endgame",
         "showlegend": true,
         "type": "scattergl",
         "x": {
          "bdata": "XSKrtQX/6r84RLSlM331v8w9ABJ1lgDAp9Iz7SNf+b8j5LAQ9kP4v9uv979uZui/+IraKugw9L9xPaLb6an/v/uVEtyLYgDAhp26fd02879S7J6yLv33v/M7eh4BZfi/We9fQY4P2797Onqk52bhv/2UtREU/8m/YPHEXkWutT8JlmOeE1HQvw==",
          "dtype": "f8"
         },
         "xaxis": "x",
         "y": {
          "bdata": "bUHLNGXm3j/LbE0/WTrxP66UpwsP+eI/y8rC/Utncb+KWSJsl+bCv9hmGBNn3tQ/TWzBbbNw7T9H5XPwcNnaP24DR7uPA+I/EfONbGmd5L+2c0wS1nvHv74uytDYpcO/9ohHjn47yb97sk8ckZGrP3Z7Ea5ccN+/i2kxounz6b9D4n3JGY7Yvw==",
          "dtype": "f8"
         },
         "yaxis": "y"
        },
        {
         "hovertemplate": "<b>%{hovertext}</b><br><br>Brand=AULA<br>แกนคุณลักษณะหลักที่ 1 (PC1)=%{x}<br>แกนคุณลักษณะหลักที่ 2 (PC2)=%{y}<extra></extra>",
         "hovertext": [
          "SC360",
          "SC900 Pro",
          "SC900 Max",
          "SC620",
          "SC800",
          "SC580",
          "SC680"
         ],
         "legendgroup": "AULA",
         "marker": {
          "color": "#636efa",
          "symbol": "circle"
         },
         "mode": "markers",
         "name": "AULA",
         "showlegend": true,
         "type": "scattergl",
         "x": {
          "bdata": "qZqivMMg6b+BwCMQvEnzP/3RoDOOLvI/g1HLyjWL8j9QvYbsM1j7v+l7hoLxLtC/Lx/6Z+Uw9L8=",
          "dtype": "f8"
         },
         "xaxis": "x",
         "y": {
          "bdata": "n7tHsOb62b9lAdT97nz+P+ZErU8tZABAJYt7EolioL/ymTUe9dPWP0oIFFPxMPe/yry6x0MH5z8=",
          "dtype": "f8"
         },
         "yaxis": "y"
        },
        {
         "hovertemplate": "<b>%{hovertext}</b><br><br>Brand=Incott<br>แกนคุณลักษณะหลักที่ 1 (PC1)=%{x}<br>แกนคุณลักษณะหลักที่ 2 (PC2)=%{y}<extra></extra>",
         "hovertext": [
          "039 Pro",
          "39",
          "039 SC",
          "029 Pro",
          "29",
          "029 SC",
          "G23 V2 Pro",
          "G23 V2",
          "G23 V2 SC",
          "G24 Pro",
          "G24",
          "G23 Pro",
          "G23",
          "GHERO Pro",
          "GHERO"
         ],
         "legendgroup": "Incott",
         "marker": {
          "color": "#EF553B",
          "symbol": "circle"
         },
         "mode": "markers",
         "name": "Incott",
         "showlegend": true,
         "type": "scattergl",
         "x": {
          "bdata": "EXw861mU878cUVFCPWrkv7ArMII+KeW/LbPM9D3uAsB1+tNRq8r9v3X601Gryv2/afyzIx9a9L/AbY099MP0v7aFJPs0JfW/ow58OZ8c5T83twqIhKTqP16rW8CALvO/ZUUU7YWi4L8WWx7SVTDnv6Ln886p1eu/",
          "dtype": "f8"
         },
         "xaxis": "x",
         "y": {
          "bdata": "JLbWZm0w/z/XRKTqTCrwPyCHYhTSkPA//MEtgp1V+D+UdkO6NurlP5R2Q7o26uU/avAFaLIJ9D+By3O2YWnzP2DkcHIo1PM/SkGdJVMSAECVLWo3GWj6P7YT572nzfY/CWXuasq12D8Nn6xWoVbnP15qMa4mjuw/",
          "dtype": "f8"
         },
         "yaxis": "y"
        },
        {
         "hovertemplate": "<b>%{hovertext}</b><br><br>Brand=Razer<br>แกนคุณลักษณะหลักที่ 1 (PC1)=%{x}<br>แกนคุณลักษณะหลักที่ 2 (PC2)=%{y}<extra></extra>",
         "hovertext": [
          "DeathAdder V4 Pro",
          "Cobra HyperSpeed",
          "Pro Click V2",
          "Basilisk Mobile",
          "Pro Click V2 Vertical",
          "Imperator",
          "Abyssus Essential",
          "Basilisk V3 Pro 35K",
          "Basilisk V3 35K",
          "Viper Ultimate",
          "Pro Click",
          "DeathAdder V3 HyperSpeed",
          "DeathAdder Elite",
          "DeathAdder Chroma",
          "DeathAdder Expert",
          "Atheris",
          "Ouroboros",
          "Viper V3 Pro",
          "Pro Click Mini",
          "Naga Left-Handed",
          "Naga Trinity",
          "Mamba Wireless",
          "Mamba Elite",
          "Naga X",
          "Viper V3 HyperSpeed",
          "Naga Pro",
          "Viper 8KHz",
          "Viper",
          "Copperhead",
          "Viper V2 Pro",
          "DeathAdder Essential",
          "Cobra Pro",
          "Cobra",
          "DeathAdder V2 Mini",
          "DeathAdder V2 X HyperSpeed",
          "DeathAdder V2",
          "Basilisk V3 X HyperSpeed",
          "Naga V2 HyperSpeed",
          "Naga V2 Pro",
          "Basilisk Essential",
          "DeathAdder V3",
          "Basilisk V3",
          "Lancehead Wireless",
          "Lancehead",
          "Viper Mini Signature Edition",
          "Abyssus 2014",
          "Basilisk Ultimate",
          "Diamondback 2015",
          "Basilisk V2",
          "Krait 2013",
          "Basilisk X HyperSpeed",
          "Basilisk",
          "Basilisk V3 Pro",
          "DeathAdder V3 Pro",
          "Viper Mini",
          "DeathAdder V2 Pro",
          "Orochi V2"
         ],
         "legendgroup": "Razer",
         "marker": {
          "color": "#00cc96",
          "symbol": "circle"
         },
         "mode": "markers",
         "name": "Razer",
         "showlegend": true,
         "type": "scattergl",
         "x": {
          "bdata": "/EME5h5E6j8aeWop1ZP2v2NPY31X5QpAv0YAMVueAEAnFG0uqdQeQNmvSldKaA1AhvRwH2qp2j+wcsSCdUMKQHBJY/tfVAhADW7xMhyYs78BmgiGGMkPQJlWuBgXw9c/Fk0rZsT6BkD4f43LJs8HQOcEYgiVTghA2pAPXxW597/4xitXDBX+P2CVFMjZb/O/ZZaO5koi7r9cOgDNk9kQQAGv5UHDHxJAKRV1zX3mBUC88q8eEOgDQE0gO4+Enw1AnGGe6U/Gib9ekqbiUJMRQGU1Nd5PRuO/kAyQT9IxwL+OjEz3f20DQP03sspfpem/rPNC3HCwBkCTtmj9jDLrvwuVLkjSGei/FP5KmLw64T/jBH7Th+UGQMqpKAfRSgJAHwNJDTNDDECMlpZ6GMcNQFE41gYGbRJAnIL8W9EuCkB9dObBWFvyP8WVdpPzkglAHwrrnyZt6D/BLDRl5cPtP0CmD0PHcvy/a6+jp50+2b/hxw23YXULQLoGqksBKr+/0EmJW0TSCEC8a8+7GSP1v/MoD8NEpgZAtGgZIzySCEDCR5YscvQKQOc5iNx/yvM/vHfIBjoD5b9HtZIk6V4DQPy1zk0oKvK/",
          "dtype": "f8"
         },
         "xaxis": "x",
         "y": {
          "bdata": "BcvMj7hwBkAMrfYzMjvVPyHih9M8H/0/sMMGbZX81D+0Bz1duEsOQB6IZNQlZ/W/DmM/uWuQGcDI//rEmBjvP6ggCN1CYfM/Y4JfL1Wx1L8ONdttsWnqP0wWf844Zfg/69ZllJYrhD9aBwgpUkbKvx1VaMDfZdW/iyiUwgzNAsBJBFJHWLEAwIa9bFN9q/Y/McJfJc9vB8B0THLd0IblP1TmkO/DWtE/VKDXSw3twb/ZM8mUMB++PzeOLJWGoPI/T57sZJhMrb/9XUZx3AnfPysEejPkBdU/z2gj+pR31b8qyMMB4YMXwNnAIIVgl+U/fJQ2nvNVwL8J3Zaoz9XRv0hcovkOKei/jIcD/TFa47+L+v3hWk2Qvws2CKc5z+U/y8JrQHn42T8Atb7Sm8H1P9N0F4QNdNw/VUF1mD0ywz+SZL7rEpcBQIbbMmMhb+w/T8mr5ilB9r+y2Vfg7DL5v8Zzx6QLDew/zsDMfgFN/L9OBwhWul7hPzYbQz8hZfS/2hqCuxTS6z/PHBKGcj8HwNhUXft/z+o/Rpjre3loxb/KqiqxC1zpP/gwJnoY3ABANw8CZ0rI6b9sMplWQmbhP6jvAq291fS/",
          "dtype": "f8"
         },
         "yaxis": "y"
        },
        {
         "hovertemplate": "<b>%{hovertext}</b><br><br>Brand=Ninjutso<br>แกนคุณลักษณะหลักที่ 1 (PC1)=%{x}<br>แกนคุณลักษณะหลักที่ 2 (PC2)=%{y}<extra></extra>",
         "hovertext": [
          "Ten Air",
          "Ten",
          "Sora V2",
          "Sora 4K",
          "Sora",
          "Origin One X",
          "Katana Ultralight",
          "Katana Superlight"
         ],
         "legendgroup": "Ninjutso",
         "marker": {
          "color": "#ab63fa",
          "symbol": "circle"
         },
         "mode": "markers",
         "name": "Ninjutso",
         "showlegend": true,
         "type": "scattergl",
         "x": {
          "bdata": "g5pVwT5p+L+GcZjin1f1v5xNDZ7Z8QHAWpy/11Bj9r/+NmXqudf0v/FQcaUSguk/DaJXEJ0p6b9xZiFAGELpvw==",
          "dtype": "f8"
         },
         "xaxis": "x",
         "y": {
          "bdata": "pGe4ddSu9D9aATaMJUbxPxZ5Aud3/uk/+YJE0lMQ4D+j24U5QpPXP+zU/BjmB+a/Z1za7J200r/aXie6zL7Ovw==",
          "dtype": "f8"
         },
         "yaxis": "y"
        },
        {
         "hovertemplate": "<b>%{hovertext}</b><br><br>Brand=ASUS<br>แกนคุณลักษณะหลักที่ 1 (PC1)=%{x}<br>แกนคุณลักษณะหลักที่ 2 (PC2)=%{y}<extra></extra>",
         "hovertext": [
          "ROG Keris II Origin",
          "ROG Harpe II Ace",
          "ROG Gladius II Wireless",
          "ROG Harpe Ace Mini",
          "ROG Harpe Ace Extreme",
          "ProArt MD300",
          "TUF Gaming M3 Gen II",
          "TUF Gaming M3",
          "ROG Keris II Ace",
          "ROG Strix Impact III Wireless",
          "ROG Pugio",
          "ROG Strix Impact III",
          "ROG Harpe Ace",
          "ROG Spatha",
          "TUF M4 Air",
          "TUF M4 Wireless",
          "ROG Sica",
          "ROG Strix Carry",
          "ROG Strix Evolve",
          "ROG Strix Impact",
          "ROG Gladius II Origin",
          "ROG Gladius II",
          "ROG Gladius II Core",
          "ROG Keris",
          "ROG Keris Wireless",
          "ROG Strix Impact II",
          "ROG Strix Impact II Wireless",
          "ROG Gladius III",
          "ROG Gladius III Wireless",
          "ROG Spatha X",
          "ROG Chakram Core",
          "ROG Chakram",
          "ROG Chakram X"
         ],
         "legendgroup": "ASUS",
         "marker": {
          "color": "#FFA15A",
          "symbol": "circle"
         },
         "mode": "markers",
         "name": "ASUS",
         "showlegend": true,
         "type": "scattergl",
         "x": {
          "bdata": "BzKnUAfj4D88T58X+4v4vzxn82/R0wNA/V7XCS5PAcDSL3DGx4P4v5AfuZDTVw9AYnrkehg+9j++K7EsnST9P8FPDaQdadE/+8xhGKl36r8bC0ING0LpPwnHM8WEpOC/J0tzgBHe6b8ZEFU88CMcQNmt9VyPZua/hIA8sdoJ0z+BHDPbSwLbv4u9JFNi4ss/WQ7h7xBK7T9dxDYBMC3hPz8c3leD+QdAiDVKQQgeCUAU+7l2urgFQD2FTZALDvA/PYVNkAsO8D8bFZztFl7Gv1HeP4ylbUo/IMVd9F3b/j/YzZ0QMD4BQHe21+dApxtAcHBHb5fPDECAgANm/pAQQL6K+yxwVBFA",
          "dtype": "f8"
         },
         "xaxis": "x",
         "y": {
          "bdata": "+R0CIyOG/z+E32HWP0P8P0m5ih/KnNc/9uaG4x6G8T8W8upUnUD9Pykcqmj6MBbA1ESPbV7A0T8KOir941fjv0QLppDt8gFAkPXYxN8Atr+wSZeC7Zb6v4VnD4k0fNW/oDuCiTF66z8SN8RZkjHnP0/8sl4dXtA/ePdiZ4Mf7b8EEUGYxm3/vwl1ugVYCv6/7OQPzOLv879XRJa/eJ8EwKaeUJeM5s2/rmdmr70iw7+TEJX0TUKqv3CRpVnebOO/cJGlWd5s479ku3qxvUj2v6qe7c0x/fa/9Ue3sxrt6T+Jv9S0NmniP7uYxbOFe/A/phrT0Zzw7D+m8oBT+njYP1Xedo8p9fM/",
          "dtype": "f8"
         },
         "yaxis": "y"
        },
        {
         "hovertemplate": "<b>%{hovertext}</b><br><br>Brand=Finalmouse<br>แกนคุณลักษณะหลักที่ 1 (PC1)=%{x}<br>แกนคุณลักษณะหลักที่ 2 (PC2)=%{y}<extra></extra>",
         "hovertext": [
          "ULX Pro Series Tiger (L)",
          "ULX Pro Series Lion (M)",
          "ULX Pro Series Cheetah (S)",
          "ULX Prophecy Small",
          "ULX Prophecy Medium",
          "ULX Prophecy Classic",
          "ULX Competition Small",
          "ULX Competition Medium",
          "ULX Competition Classic",
          "UltralightX Cheetah (S)",
          "UltralightX Lion (M)",
          "UltralightX Tiger (L)",
          "Starlight-12 Small",
          "Starlight-12 Medium",
          "Ultralight 2",
          "Scream One",
          "Ultralight Pro Sunset",
          "Ultralight Pro",
          "Ultralight Phantom",
          "Air58"
         ],
         "legendgroup": "Finalmouse",
         "marker": {
          "color": "#19d3f3",
          "symbol": "circle"
         },
         "mode": "markers",
         "name": "Finalmouse",
         "showlegend": true,
         "type": "scattergl",
         "x": {
          "bdata": "pLZ7ofuV87+FfdcXSZL9v7/bHtFHnwPA7zNWnO0zA8DZ6/7OG8b8v7rQixc8NPO/7zNWnO0zA8DZ6/7OG8b8v7rQixc8NPO/v9se0UefA8CvNGtzMiz9v6S2e6H7lfO/Jd5mwZUf/79RJyAiCeH0v1aQcD8ycfe/b8S1YUEI3j/bSd1as8bBP9tJ3VqzxsE/20ndWrPGwT+BT/xif9Gyvw==",
          "dtype": "f8"
         },
         "xaxis": "x",
         "y": {
          "bdata": "r2Tjwr3a5j9T0YRDRBDYP533OPC+WpU/T0r5Eusnpr84ymQ4/1vUP8j2fK/HAuY/T0r5Eusnpr84ymQ4/1vUP8j2fK/HAuY/nfc48L5alT/EzfS9ITbWP69k48K92uY//r9Ormm02r9A0PqJu+u1vzOk1hjqC/S/v6jwqg4c8L9cMPwsz7Lkv1ww/CzPsuS/XDD8LM+y5L8A7RqTp5Xavw==",
          "dtype": "f8"
         },
         "yaxis": "y"
        },
        {
         "hovertemplate": "<b>%{hovertext}</b><br><br>Brand=Rampage<br>แกนคุณลักษณะหลักที่ 1 (PC1)=%{x}<br>แกนคุณลักษณะหลักที่ 2 (PC2)=%{y}<extra></extra>",
         "hovertext": [
          "Blitz Ultimate",
          "Zenith Pro",
          "Prote M5"
         ],
         "legendgroup": "Rampage",
         "marker": {
          "color": "#FF6692",
          "symbol": "circle"
         },
         "mode": "markers",
         "name": "Rampage",
         "showlegend": true,
         "type": "scattergl",
         "x": {
          "bdata": "hQgDoaoKwr+r2gPfzBvpv637Z1n9k+6/",
          "dtype": "f8"
         },
         "xaxis": "x",
         "y": {
          "bdata": "csFnzQyM9D9s5n0C7ybNP/jLgZOG2bu/",
          "dtype": "f8"
         },
         "yaxis": "y"
        },
        {
         "hovertemplate": "<b>%{hovertext}</b><br><br>Brand=Kysona<br>แกนคุณลักษณะหลักที่ 1 (PC1)=%{x}<br>แกนคุณลักษณะหลักที่ 2 (PC2)=%{y}<extra></extra>",
         "hovertext": [
          "Mercury Ultra",
          "Mercury Pro",
          "Mercury SE",
          "Jupiter Ultra",
          "Jupiter Pro",
          "Jupiter SE",
          "M660",
          "M600 V2",
          "Uranus Pro",
          "Uranus SE",
          "Mars SE",
          "M617",
          "M511",
          "Aztec",
          "M600"
         ],
         "legendgroup": "Kysona",
         "marker": {
          "color": "#B6E880",
          "symbol": "circle"
         },
         "mode": "markers",
         "name": "Kysona",
         "showlegend": true,
         "type": "scattergl",
         "x": {
          "bdata": "vdRQIbo3AMDzuh5mRlT/v1COivhM5/e/mCOT/kTI878nAYo9vF7xv1Q1kuPydea/lWRWLurw57+7C131SXnxvzsTJW3cXNM/08CGUQCc6z9awtefO1bzP+yUrbeKG/S/bF+Tm2Wa2z+7C131SXnxv7sLXfVJefG/",
          "dtype": "f8"
         },
         "xaxis": "x",
         "y": {
          "bdata": "dMZNlRJm8D8efI7nTTXsPx4fHU8N/NA/syzi2y1g9z9q6pIzuh3zP5O3yVw8WeY/5muXm7Y/4b9VBENYd0J8Pyheai46B/Y/GzlQYKDp5D/UaxE0VifxP0Lgp50IWOg/knCa2gJm4D9VBENYd0J8P1UEQ1h3Qnw/",
          "dtype": "f8"
         },
         "yaxis": "y"
        },
        {
         "hovertemplate": "<b>%{hovertext}</b><br><br>Brand=Epomaker<br>แกนคุณลักษณะหลักที่ 1 (PC1)=%{x}<br>แกนคุณลักษณะหลักที่ 2 (PC2)=%{y}<extra></extra>",
         "hovertext": [
          "Click Lite",
          "Click"
         ],
         "legendgroup": "Epomaker",
         "marker": {
          "color": "#FF97FF",
          "symbol": "circle"
         },
         "mode": "markers",
         "name": "Epomaker",
         "showlegend": true,
         "type": "scattergl",
         "x": {
          "bdata": "05hUnbXb6b9PbklBr5D5vw==",
          "dtype": "f8"
         },
         "xaxis": "x",
         "y": {
          "bdata": "L2CmZeJrrL/SNfZeoQvzPw==",
          "dtype": "f8"
         },
         "yaxis": "y"
        },
        {
         "hovertemplate": "<b>%{hovertext}</b><br><br>Brand=Lofree<br>แกนคุณลักษณะหลักที่ 1 (PC1)=%{x}<br>แกนคุณลักษณะหลักที่ 2 (PC2)=%{y}<extra></extra>",
         "hovertext": [
          "Touch",
          "Hypace"
         ],
         "legendgroup": "Lofree",
         "marker": {
          "color": "#FECB52",
          "symbol": "circle"
         },
         "mode": "markers",
         "name": "Lofree",
         "showlegend": true,
         "type": "scattergl",
         "x": {
          "bdata": "++Xe2faLAkCzWOgXgmf/vw==",
          "dtype": "f8"
         },
         "xaxis": "x",
         "y": {
          "bdata": "XO9nSG8z+L/iEUQaRir1Pw==",
          "dtype": "f8"
         },
         "yaxis": "y"
        },
        {
         "hovertemplate": "<b>%{hovertext}</b><br><br>Brand=SteelSeries<br>แกนคุณลักษณะหลักที่ 1 (PC1)=%{x}<br>แกนคุณลักษณะหลักที่ 2 (PC2)=%{y}<extra></extra>",
         "hovertext": [
          "Kinzu V2 Pro",
          "Rival 3 Gen 2 Wireless",
          "Rival 3 Gen 2",
          "Kinzu V2",
          "Kana V2",
          "Rival 710",
          "Rival 300S",
          "Rival 500",
          "Sensei 310",
          "Rival 110",
          "Kinzu V3",
          "Rival 300",
          "Aerox 9 Wireless",
          "Aerox 5",
          "Aerox 5 Wireless",
          "Prime Mini",
          "Prime Mini Wireless",
          "Prime",
          "Prime+",
          "Prime Wireless",
          "Aerox 3",
          "Rival 3",
          "Rival 3 Wireless",
          "Rival 5",
          "Aerox 3 Wireless",
          "Rival 600",
          "Rival 650 Wireless",
          "Sensei Ten",
          "Rival 310"
         ],
         "legendgroup": "SteelSeries",
         "marker": {
          "color": "#636efa",
          "symbol": "circle"
         },
         "mode": "markers",
         "name": "SteelSeries",
         "showlegend": true,
         "type": "scattergl",
         "x": {
          "bdata": "ZxCF2cbJ27/QqGkpW1mxPwCwtsJCWLM/ZxCF2cbJ27/TYz/1C3jHP7z8NWMqVg9Al3V6knmTCkAjPgOgBHsRQFvYAW9ZEOw/uiBVclWC3D8Z5YpDUHrnvybe7SqhIRBAW7fFQAgrDkCElE1eHNwAQBn2axgpTwJAqUBDMQNt8T9v2ZSAGvb1PzhDUEoXMvw/1OkD8Art/D/HK9asKRsAQEM0pXoF4ta/ALC2wkJYsz9mov5LLZbXP3TiDht9kP8/Bp7XEy6I07+yp9wA69cHQOAZKHpATgxAUYM2svzo4z+Bxl98GywEQA==",
          "dtype": "f8"
         },
         "xaxis": "x",
         "y": {
          "bdata": "N3AQOExw/b9I+sGaJ9rqv5RcAU2MFfC/N3AQOExw/b8ZgR0i6in4v/4s1mlXBeW/BYarvaPP1j9jr5d9lDanvxDxmWpAkui/7FygIA1z9L/gFfAExKv/v3FiXXSwrta/RfK28otX8z+DDQ7AeDDxPwZGzUQ3Y+w/x27iEa623D/zRmTBctbBPxoztXkrfeY/qx0/lMz25D91elcXQzTcP/EpG9UEteC/lFwBTYwV8L+JuYbjaMvyv3yV2nigK88/StOf8J4T279AIRa/DdXTP11nM3U+TtC/iV5L+aPF5L+iQOB5JP3LPw==",
          "dtype": "f8"
         },
         "yaxis": "y"
        },
        {
         "hovertemplate": "<b>%{hovertext}</b><br><br>Brand=SyLical<br>แกนคุณลักษณะหลักที่ 1 (PC1)=%{x}<br>แกนคุณลักษณะหลักที่ 2 (PC2)=%{y}<extra></extra>",
         "hovertext": [
          "HELIX"
         ],
         "legendgroup": "SyLical",
         "marker": {
          "color": "#EF553B",
          "symbol": "circle"
         },
         "mode": "markers",
         "name": "SyLical",
         "showlegend": true,
         "type": "scattergl",
         "x": {
          "bdata": "W9o/jd7dAcA=",
          "dtype": "f8"
         },
         "xaxis": "x",
         "y": {
          "bdata": "c0bLZWG17z8=",
          "dtype": "f8"
         },
         "yaxis": "y"
        },
        {
         "hovertemplate": "<b>%{hovertext}</b><br><br>Brand=VXE<br>แกนคุณลักษณะหลักที่ 1 (PC1)=%{x}<br>แกนคุณลักษณะหลักที่ 2 (PC2)=%{y}<extra></extra>",
         "hovertext": [
          "R1 SE+",
          "R1 Nearlink",
          "MAD R Major",
          "MAD R",
          "R1 Pro Max",
          "R1 Pro",
          "R1 SE",
          "R1"
         ],
         "legendgroup": "VXE",
         "marker": {
          "color": "#00cc96",
          "symbol": "circle"
         },
         "mode": "markers",
         "name": "VXE",
         "showlegend": true,
         "type": "scattergl",
         "x": {
          "bdata": "Mdfh26Th7b9RedchV1/tv6P5LPl0dADAwATXFbzN/7/VegL8Np/zvzwTBLZK+fW/3Pvx6TSC8L/j2PeikLjyvw==",
          "dtype": "f8"
         },
         "xaxis": "x",
         "y": {
          "bdata": "oo8sh3JOxL+G2+nnE6THv9QNQS7bJvQ/b4W6jG/b8T80J7w0uHfUP/Uz/dvbLt8/X6WsoLYTqL8QXT1wzLHOPw==",
          "dtype": "f8"
         },
         "yaxis": "y"
        },
        {
         "hovertemplate": "<b>%{hovertext}</b><br><br>Brand=VGN<br>แกนคุณลักษณะหลักที่ 1 (PC1)=%{x}<br>แกนคุณลักษณะหลักที่ 2 (PC2)=%{y}<extra></extra>",
         "hovertext": [
          "R1 SE+",
          "R1 Nearlink",
          "Y2 Ultra",
          "Y2 Pro",
          "R1 Pro Max",
          "R1 Pro",
          "R1 SE",
          "R1",
          "Dragonfly F1 MOBA",
          "Dragonfly F1 Pro Max",
          "Dragonfly F1 Pro",
          "Dragonfly F1"
         ],
         "legendgroup": "VGN",
         "marker": {
          "color": "#ab63fa",
          "symbol": "circle"
         },
         "mode": "markers",
         "name": "VGN",
         "showlegend": true,
         "type": "scattergl",
         "x": {
          "bdata": "Mdfh26Th7b9RedchV1/tv6zREskd//m/LBpCWZzy97/VegL8Np/zvzwTBLZK+fW/3Pvx6TSC8L/j2PeikLjyv7FK6yZSb/O/sUrrJlJv87/L1fbUJcr1v5Sw5YOdrPK/",
          "dtype": "f8"
         },
         "xaxis": "x",
         "y": {
          "bdata": "oo8sh3JOxL+G2+nnE6THv7I58Vjypfs/6Mle///D9z80J7w0uHfUP/Uz/dvbLt8/X6WsoLYTqL8QXT1wzLHOP48NetmhZ9I/jw162aFn0j8VMe1mECbdPwplIF313Mo/",
          "dtype": "f8"
         },
         "yaxis": "y"
        },
        {
         "hovertemplate": "<b>%{hovertext}</b><br><br>Brand=Motospeed<br>แกนคุณลักษณะหลักที่ 1 (PC1)=%{x}<br>แกนคุณลักษณะหลักที่ 2 (PC2)=%{y}<extra></extra>",
         "hovertext": [
          "X1",
          "X6 Max",
          "X6"
         ],
         "legendgroup": "Motospeed",
         "marker": {
          "color": "#FFA15A",
          "symbol": "circle"
         },
         "mode": "markers",
         "name": "Motospeed",
         "showlegend": true,
         "type": "scattergl",
         "x": {
          "bdata": "2M/tk9mr9r+YA2/H8Cv6v168XKby5/e/",
          "dtype": "f8"
         },
         "xaxis": "x",
         "y": {
          "bdata": "3UXY6Fw23j/N1tm94czzP0b01H/XNPA/",
          "dtype": "f8"
         },
         "yaxis": "y"
        },
        {
         "hovertemplate": "<b>%{hovertext}</b><br><br>Brand=Dareu<br>แกนคุณลักษณะหลักที่ 1 (PC1)=%{x}<br>แกนคุณลักษณะหลักที่ 2 (PC2)=%{y}<extra></extra>",
         "hovertext": [
          "AE6",
          "A955",
          "A950 Air",
          "A980 Pro Max",
          "A980 Pro",
          "A980",
          "EM901",
          "A950 Pro 4K Magnesium",
          "A950 Pro 4K",
          "A950",
          "A950 Pro"
         ],
         "legendgroup": "Dareu",
         "marker": {
          "color": "#19d3f3",
          "symbol": "circle"
         },
         "mode": "markers",
         "name": "Dareu",
         "showlegend": true,
         "type": "scattergl",
         "x": {
          "bdata": "VjQHz/so8b9bGpIdYLoEQDuJrc/09wDAoMb6pG4P+T9MyYI6qC/2P2yC0a+gswBAEHI390FH8T9m/TARjnDwv/kH4mj+DfC/yhg48XgZzT+FxaEv7ODpvw==",
          "dtype": "f8"
         },
         "xaxis": "x",
         "y": {
          "bdata": "vBGLwjDZ8D+VNlBE6tCHv8KcKr7pCvQ/70MJR/BM/T9C27IDeRz/P05TiBGxivM/8roxeDEx97/iF2XiWt3gP2KImb9wAeA/lRjAAb0h8r81EtbGS0vQPw==",
          "dtype": "f8"
         },
         "yaxis": "y"
        },
        {
         "hovertemplate": "<b>%{hovertext}</b><br><br>Brand=MAMBASNAKE<br>แกนคุณลักษณะหลักที่ 1 (PC1)=%{x}<br>แกนคุณลักษณะหลักที่ 2 (PC2)=%{y}<extra></extra>",
         "hovertext": [
          "M4",
          "M3",
          "M5 Ultra"
         ],
         "legendgroup": "MAMBASNAKE",
         "marker": {
          "color": "#FF6692",
          "symbol": "circle"
         },
         "mode": "markers",
         "name": "MAMBASNAKE",
         "showlegend": true,
         "type": "scattergl",
         "x": {
          "bdata": "oIsbSIKv9L9Ie+ajnNMBwLh70aoRQALA",
          "dtype": "f8"
         },
         "xaxis": "x",
         "y": {
          "bdata": "/FqNL8mouL8a+nzZrin4P+jHGyLvrO4/",
          "dtype": "f8"
         },
         "yaxis": "y"
        },
        {
         "hovertemplate": "<b>%{hovertext}</b><br><br>Brand=Delux<br>แกนคุณลักษณะหลักที่ 1 (PC1)=%{x}<br>แกนคุณลักษณะหลักที่ 2 (PC2)=%{y}<extra></extra>",
         "hovertext": [
          "M800 Mini Ultra",
          "M800 Mini Pro",
          "M800 Mini",
          "M900 Ultra",
          "M900 Mini Ultra",
          "M900 Mini Pro",
          "M700 Pro",
          "M700 Pro+",
          "M700 Ultra",
          "M500 Pro",
          "M900 SE",
          "M900 Pro",
          "M800 Pro 3395",
          "M600 Pro",
          "M600",
          "M600 Ultra",
          "M800 Ultra",
          "M800 Pro",
          "M700"
         ],
         "legendgroup": "Delux",
         "marker": {
          "color": "#B6E880",
          "symbol": "circle"
         },
         "mode": "markers",
         "name": "Delux",
         "showlegend": true,
         "type": "scattergl",
         "x": {
          "bdata": "V/KS0g1I/r/TAxD23yz9v4i/HbXWCPK/B+7x/3155j/IDRuKTFy6v1VhGMtJnsO/ZxpeqNUm6r8lQVUNvebqv/OpdZdi3eq/jWJvBuEa0z8C9EFlTZ/5P0N72LnNzPE/nbAYNTax4b88zJXBfoT2v3LM8NYLVvG/yoq/W9Qh978QWDnQgFLzvwOog7HAiti/EEmBIrGepj8=",
          "dtype": "f8"
         },
         "xaxis": "x",
         "y": {
          "bdata": "7MAteuCU7D8fsCA3Cf7nP/sR878t0NS/3hvqgr0NAkCxTqS95uL7P9iiPtN9tPs/TXvMdVyr8T+hLIdq+RLyPwmh3S2OJ/M/VllaXW218z/29RRNKNTxP1J5DnT1JPw/slA8HnpXw7+Q8Syo9pnHP/yzhBnWb9u/yv+gCnvNzT9GGJKuNZHjP96A8SBSN92/nGJQOJiGtL8=",
          "dtype": "f8"
         },
         "yaxis": "y"
        },
        {
         "hovertemplate": "<b>%{hovertext}</b><br><br>Brand=zeromouse<br>แกนคุณลักษณะหลักที่ 1 (PC1)=%{x}<br>แกนคุณลักษณะหลักที่ 2 (PC2)=%{y}<extra></extra>",
         "hovertext": [
          "Blade"
         ],
         "legendgroup": "zeromouse",
         "marker": {
          "color": "#FF97FF",
          "symbol": "circle"
         },
         "mode": "markers",
         "name": "zeromouse",
         "showlegend": true,
         "type": "scattergl",
         "x": {
          "bdata": "v1WDrSriEsA=",
          "dtype": "f8"
         },
         "xaxis": "x",
         "y": {
          "bdata": "qyq9at/H8b8=",
          "dtype": "f8"
         },
         "yaxis": "y"
        },
        {
         "hovertemplate": "<b>%{hovertext}</b><br><br>Brand=RAWM<br>แกนคุณลักษณะหลักที่ 1 (PC1)=%{x}<br>แกนคุณลักษณะหลักที่ 2 (PC2)=%{y}<extra></extra>",
         "hovertext": [
          "ER21 Pro",
          "ER21",
          "SA-MH01 Pro",
          "ES21 Pro",
          "ES21 M",
          "ES21",
          "SA-SH01 Pro",
          "SA-SH01",
          "SA-SL01 Pro",
          "SA-SL01",
          "SA-ML01 Plus",
          "SA-ML01",
          "SA-MH01"
         ],
         "legendgroup": "RAWM",
         "marker": {
          "color": "#FECB52",
          "symbol": "circle"
         },
         "mode": "markers",
         "name": "RAWM",
         "showlegend": true,
         "type": "scattergl",
         "x": {
          "bdata": "54cRLWNJ4D8udOOe41vyP0oaI8f+u+K/WLx0tmTX+L9YvHS2ZNf4v06cnhgP0PW/3t3qnJcX/b+HhhnYcLbyvyZeeMVeOfa/9CbtinD/87+teTe05rjYv1W9P+DwJOC/yUCdpBOC478=",
          "dtype": "f8"
         },
         "xaxis": "x",
         "y": {
          "bdata": "OsXpfnOnAEBDZT4JXefzP7JsgM4DkO8/6BPmS8PY8z/oE+ZLw9jzP6Nq+3pG0u4/olUAYeTt4D/9dChRbVrVvxOBz6KdMbo/stCtQsklwr8YzmgLqljVP7/xIRGNnN0/4jfeclsu7j8=",
          "dtype": "f8"
         },
         "yaxis": "y"
        },
        {
         "hovertemplate": "<b>%{hovertext}</b><br><br>Brand=Valkyrie<br>แกนคุณลักษณะหลักที่ 1 (PC1)=%{x}<br>แกนคุณลักษณะหลักที่ 2 (PC2)=%{y}<extra></extra>",
         "hovertext": [
          "VK M1 Pro",
          "VK M2 Pro",
          "VK M2",
          "VK M1"
         ],
         "legendgroup": "Valkyrie",
         "marker": {
          "color": "#636efa",
          "symbol": "circle"
         },
         "mode": "markers",
         "name": "Valkyrie",
         "showlegend": true,
         "type": "scattergl",
         "x": {
          "bdata": "mt+aX7h6+r+7KetHOlXTP/6FLsHuhvA/Q0l4gaDm8b8=",
          "dtype": "f8"
         },
         "xaxis": "x",
         "y": {
          "bdata": "gVYuo1eq8j+MQQi+lUkAQKtEgD/LdOw/ktXU09z90D8=",
          "dtype": "f8"
         },
         "yaxis": "y"
        },
        {
         "hovertemplate": "<b>%{hovertext}</b><br><br>Brand=Logitech<br>แกนคุณลักษณะหลักที่ 1 (PC1)=%{x}<br>แกนคุณลักษณะหลักที่ 2 (PC2)=%{y}<extra></extra>",
         "hovertext": [
          "G Pro X Superlight 2 SE",
          "G900",
          "ERGO M575",
          "M196",
          "MX Anywhere 3S",
          "MX Anywhere 2S",
          "M170",
          "M705 Marathon",
          "POP Mouse",
          "Pebble 2 M350s",
          "Pebble M350",
          "M340",
          "M550 L",
          "M550",
          "M650 L Left",
          "M650 L",
          "M650",
          "M240",
          "M190",
          "G Pro X Superlight 2 DEX",
          "G Pro 2 Lightspeed",
          "G309",
          "G703 Lightspeed",
          "MX Master 3S",
          "MX Master 3",
          "MX Master 2S",
          "MX Master",
          "G304 Lightspeed",
          "G602",
          "M720 Triathlon",
          "Lift Vertical",
          "MX Vertical",
          "G102 Lightsync",
          "G705",
          "G303 Shroud Edition",
          "G604 Lightspeed",
          "G903 Lightspeed",
          "G Pro Wireless",
          "G Pro X Superlight",
          "G Pro",
          "G403 Wireless",
          "G403",
          "G603 Lightspeed",
          "G403 Hero",
          "G203 Prodigy",
          "G305 Lightspeed",
          "G203 Lightsync",
          "G502 Hero",
          "G502 Lightspeed",
          "M171",
          "G103 Prodigy",
          "B100",
          "G600",
          "G9x",
          "G Pro X Superlight 2",
          "G402 Hyperion Fury",
          "G300s",
          "M100",
          "MX Anywhere",
          "M510",
          "G502 X Plus",
          "G502 X Lightspeed",
          "G502 X",
          "M185",
          "M280",
          "M187",
          "M238",
          "G100s",
          "G303 Daedalus Apex",
          "G3",
          "MX518",
          "G400",
          "G400s",
          "G MX518"
         ],
         "legendgroup": "Logitech",
         "marker": {
          "color": "#EF553B",
          "symbol": "circle"
         },
         "mode": "markers",
         "name": "Logitech",
         "showlegend": true,
         "type": "scattergl",
         "x": {
          "bdata": "l/p27jrs67+wIi1HkqvzP6R+KI9GfyBAoZg9eICMtb/gUkS7IHz1P+BSRLsgfPU/ppGYNxBr3L+po5fE+pQRQEHRjLtQKLO/7d5Iy/w66b/ilw40ia2lv6V6eiaPdOS/u8JVp6rT7j9ZlBLgNEHVv7CVqNF6mfU/sJWo0XqZ9T/gWYQRqOWsP9GQPaFeRcO/YJJQe2cG9j8pOzEe+c3pP0cgGS28POu/qGXGo0ofxL/SrJ4yqB0EQKn8NTD59x1AlFJIsMBTHkBzqMWRdYkeQOib4viyiR5AKHvE4YeZtz8oNy3NCCcZQNI+tfLAhBRA7vS8Ag+NGkDniz18PJghQF9V2bA5Fsi/tV0lTFXgA0Ajg2Z2zDiRP0TEkEelURRAZMLMrUYE8T/JitdjWS20v7Wn0CTF7N6/Wt05zhCD37/m2xbDD/8FQPaxmIXHWQJAW+m+ixu3AkDjgiD1X3gAQF9V2bA5Fsi/KHvE4YeZtz9fVdmwORbIv6XzuCWCKgxAyN7LhmbsCkDM9K9YAGTZv19V2bA5Fsi/NUwwMS5O6D8jkl3pISwaQObzxOziVxRAyn5jNAY79b81HRuy8usMQNLxFIhXV9A/lUx6YGgf6j/gUkS7IHz1P0wYsMys0gVAW/29XQTpDEBaM301Pt4LQKxrBkEo9QlAgawP76flt7+JOseKXZv0P63+f1xwsgvAikAQv9s2978Y3IWDtLrRP4YG1XqBScG//YGE7KkS9z/WbTv1pvQMQL2DD6B1kwxAOjqGRUGyDEAk1m0hCU4IQA==",
          "dtype": "f8"
         },
         "xaxis": "x",
         "y": {
          "bdata": "QInFVG5J7T8GJPG3SQfwv2V+7xqTYAzA/irzsAXJHcAyUBCFrH8fwDJQEIWsfx/AGhC3Q9I3HsCi6QvvmlMbwFo+Uhx2qh7ASbQbufkzIcCfIN0/vk8jwFowD9TtnyHAFvrs50D5/7+moT6T6vgGwFbqRzk2CP+/VupHOTYI/7/IrMzNXp0GwMp51lCo0hzACvyT8lLpGcBoJLEB7YUEQMnrC2sP3+4/qRdfTVpW57+NaVVvNUu0P003Le9frw3ASksUMkn6DsCULXFbjqIQwHYg5wrR1BDAlFCrirE5/7+BAxexhfbBP6G+bNAB7xfA4CyDTytPDsCnOqMEJssCwAaxqIgDBPu//mpnRVw5F8B+7IlLoC3Bv+vKoaB/Z/A/0b1mRK7M4r9vjGy4xybRv2oSQieFp8Y/RL9YKF3r8L8JS1CfHSLavz2OZ7JOArE/tYcnUFJrkz9+xN9Tv7rhPwaxqIgDBPu/lFCrirE5/78GsaiIAwT7v/16epDbgdM/73JxNUR+3T88no13fHYewAaxqIgDBPu/VgpbdtMkHMA2A8e1S9oSwBxKUEqoIBnAyAOZgM7P9z8jjUl7mt2uv3Bm2aReV/W/TrwMMSxuHMAyUBCFrH8fwCLmzHhtaRzA2PDSHFLK7j9m0iwKUmzxP1r3Ei0dJPU/gvV2laVHHcCLPKSoiGMAwGpKMRStTRHAk9t3csNFDsBtH8xvWWcHwCgWklPCvvq/QKXnoF7cGcAufceHbSfLv7Corv+9ury/6J8365Wdvr87OKaaKIPqPw==",
          "dtype": "f8"
         },
         "yaxis": "y"
        },
        {
         "hovertemplate": "<b>%{hovertext}</b><br><br>Brand=Flick<br>แกนคุณลักษณะหลักที่ 1 (PC1)=%{x}<br>แกนคุณลักษณะหลักที่ 2 (PC2)=%{y}<extra></extra>",
         "hovertext": [
          "Fire"
         ],
         "legendgroup": "Flick",
         "marker": {
          "color": "#00cc96",
          "symbol": "circle"
         },
         "mode": "markers",
         "name": "Flick",
         "showlegend": true,
         "type": "scattergl",
         "x": {
          "bdata": "GOcgn5C19r8=",
          "dtype": "f8"
         },
         "xaxis": "x",
         "y": {
          "bdata": "osjNcA/54T8=",
          "dtype": "f8"
         },
         "yaxis": "y"
        },
        {
         "hovertemplate": "<b>%{hovertext}</b><br><br>Brand=IYX<br>แกนคุณลักษณะหลักที่ 1 (PC1)=%{x}<br>แกนคุณลักษณะหลักที่ 2 (PC2)=%{y}<extra></extra>",
         "hovertext": [
          "Amber"
         ],
         "legendgroup": "IYX",
         "marker": {
          "color": "#ab63fa",
          "symbol": "circle"
         },
         "mode": "markers",
         "name": "IYX",
         "showlegend": true,
         "type": "scattergl",
         "x": {
          "bdata": "cl8JLNgRA8A=",
          "dtype": "f8"
         },
         "xaxis": "x",
         "y": {
          "bdata": "Qtn79KBc6j8=",
          "dtype": "f8"
         },
         "yaxis": "y"
        },
        {
         "hovertemplate": "<b>%{hovertext}</b><br><br>Brand=PMM<br>แกนคุณลักษณะหลักที่ 1 (PC1)=%{x}<br>แกนคุณลักษณะหลักที่ 2 (PC2)=%{y}<extra></extra>",
         "hovertext": [
          "ZEN 8K Mini",
          "Fuse 8K",
          "CYBER ZK",
          "CYBER 4.1",
          "VORTEX 4K M",
          "ZEN 8K",
          "CYBER 4.0",
          "CRAZE 8K",
          "NEO 8K",
          "VORTEX 8K M",
          "VORTEX 8K S",
          "VORTEX M",
          "VORTEX S",
          "FUSE",
          "CORE",
          "BLAZE",
          "NITE 8K",
          "TITAN M",
          "TITAN S",
          "TITAN 8K L",
          "CYBER 8K",
          "AIM 8K"
         ],
         "legendgroup": "PMM",
         "marker": {
          "color": "#FFA15A",
          "symbol": "circle"
         },
         "mode": "markers",
         "name": "PMM",
         "showlegend": true,
         "type": "scattergl",
         "x": {
          "bdata": "Wa7lawdzA8Br7icsf/D7v2oc4i6HTRXAcvt2OjVIE8AYh+ue3fP+v7Y3/VLNDPu/Sdm2/+/+FcBxiItMLQjYv2jPrqMm4QLAtqasNCju/79VktcLM/MEwNtEkM7Y0Oq/lHIPOqd19798CVo5sGvlvx8KirvoJuW/WByS5io+8L+pM5vJoGf9v0oi3c+H5PK/wKwzdF+8979M5uXVt9/6vza24CrsBRTA36PBUwg2F8A=",
          "dtype": "f8"
         },
         "xaxis": "x",
         "y": {
          "bdata": "jjewX6jr+D+P3ve8oCP4PysExkmADve/4zBUmKcG6L9HP9qP8aLqP9WdJ8/2lf8/gOFbPSgF9r9FNyU+9PQAQILHMhaeI/Y/Dmo7D8gl9T/M/ivpyOzrP0u8J/Ne/9W/WKKghcf76b+/9SWw00GsvxVwDJMefNW/gBBuXNgm4L/mp51NRdLrP+tmlRpPH9M/OF/LoZgv77++9xlJLkD6P0ucmH0Muuy/wiUVB18H878=",
          "dtype": "f8"
         },
         "yaxis": "y"
        },
        {
         "hovertemplate": "<b>%{hovertext}</b><br><br>Brand=Precision<br>แกนคุณลักษณะหลักที่ 1 (PC1)=%{x}<br>แกนคุณลักษณะหลักที่ 2 (PC2)=%{y}<extra></extra>",
         "hovertext": [
          "GG Titan-0"
         ],
         "legendgroup": "Precision",
         "marker": {
          "color": "#19d3f3",
          "symbol": "circle"
         },
         "mode": "markers",
         "name": "Precision",
         "showlegend": true,
         "type": "scattergl",
         "x": {
          "bdata": "PcMulBzTG8A=",
          "dtype": "f8"
         },
         "xaxis": "x",
         "y": {
          "bdata": "VnrUZXw3E8A=",
          "dtype": "f8"
         },
         "yaxis": "y"
        },
        {
         "hovertemplate": "<b>%{hovertext}</b><br><br>Brand=Glorious<br>แกนคุณลักษณะหลักที่ 1 (PC1)=%{x}<br>แกนคุณลักษณะหลักที่ 2 (PC2)=%{y}<extra></extra>",
         "hovertext": [
          "Model O Eternal",
          "Model O 2 Mini Wireless",
          "Model O 2 Mini",
          "Series 2 Pro",
          "Model D 2 Wireless",
          "Model D 2 Wired",
          "Model O Pro",
          "Series One Pro",
          "Model D Wireless",
          "Model D",
          "Model D-",
          "Model I",
          "Model O",
          "Model O-",
          "Model D- Wireless",
          "Model O 2 Pro 4K/8K",
          "Model O 2 Pro 1K",
          "Model D 2 Pro 4K/8K",
          "Model D 2 Pro 1K",
          "Model D Pro",
          "Model I 2 Wireless",
          "Model O 2 Wired",
          "Model O 2 Wireless",
          "Model O- Wireless",
          "Model O Wireless"
         ],
         "legendgroup": "Glorious",
         "marker": {
          "color": "#FF6692",
          "symbol": "circle"
         },
         "mode": "markers",
         "name": "Glorious",
         "showlegend": true,
         "type": "scattergl",
         "x": {
          "bdata": "j5K4xK6+1L9K39oq6rL0v/aq4G9Z7/e/0q8CDjC3+r9UzXuSHrL5P5xwXjGWyfY/KRhNzO983L955Qa3iIDzv8BbTQtSv/s/KH0yTeKu/T/Gu+MkNJjxP+pEleIxwgRA01IzEm1apL9nO/Ko6Xbuv3NxxMas8fE/13XYs9me7b/eoLxRUJngv5I1GPBr+O8/1FxurxSG9j/Ivo3rmrr3P6K/8ZTX2QNAUzI8pVZk4b9Es0yrew/Vv7H5CfP5tOy/uk/K5fkDvb8=",
          "dtype": "f8"
         },
         "xaxis": "x",
         "y": {
          "bdata": "N+W70pP6pL9PJJ0aK+jTv/wEZzMjlLK/m2y6eonW3D9W42XykT7yP5GOqKxZQ/U/THys4D3hyj9ag/PyUFLNv/j9VsKVjug/kCAADZ2G4D9BFNktyrbCP4M2JXRimPQ/3Qe9aEmP1r+hQYS4j0rpvwgLN93ls84/l+Myss3D7T+/YUgz5y3aP8Gi6w1DIvw/APP0kZG68z+1E4kR+3nwP4I1U2fvifU/Jw0bBHOw0T+fxzm02nikP/LaymfQ2ue/jsiVSwKkw78=",
          "dtype": "f8"
         },
         "yaxis": "y"
        },
        {
         "hovertemplate": "<b>%{hovertext}</b><br><br>Brand=WLmouse<br>แกนคุณลักษณะหลักที่ 1 (PC1)=%{x}<br>แกนคุณลักษณะหลักที่ 2 (PC2)=%{y}<extra></extra>",
         "hovertext": [
          "Sword X",
          "Ying",
          "Beast X Max",
          "Beast Miao",
          "Beast X Mini Pro",
          "Beast X Pro",
          "Strider",
          "Beast X 8K",
          "Beast X Mini",
          "Beast X"
         ],
         "legendgroup": "WLmouse",
         "marker": {
          "color": "#B6E880",
          "symbol": "circle"
         },
         "mode": "markers",
         "name": "WLmouse",
         "showlegend": true,
         "type": "scattergl",
         "x": {
          "bdata": "SoL4WCY12T9ZTHVdxxIDwDTxVeNXP/e/zdNYN8yTEMDfGD3sxIAHwGuRksQJ2gDATpLFDj0P+b8pGlHWckwAwJ2h+/0t8wbACFiLQIVx/L8=",
          "dtype": "f8"
         },
         "xaxis": "x",
         "y": {
          "bdata": "guuYVHqGAEC0owZdct3vP5pIVdSGrPc/lBu16bkN27/KlqBak7TlPyzkfzCeqfE/VZz2Zrn98j+Ot/IdZbzuP/6Fkxe8HeE/hLi0TQFC5D8=",
          "dtype": "f8"
         },
         "yaxis": "y"
        },
        {
         "hovertemplate": "<b>%{hovertext}</b><br><br>Brand=Nintendo<br>แกนคุณลักษณะหลักที่ 1 (PC1)=%{x}<br>แกนคุณลักษณะหลักที่ 2 (PC2)=%{y}<extra></extra>",
         "hovertext": [
          "Joy-Con 2"
         ],
         "legendgroup": "Nintendo",
         "marker": {
          "color": "#FF97FF",
          "symbol": "circle"
         },
         "mode": "markers",
         "name": "Nintendo",
         "showlegend": true,
         "type": "scattergl",
         "x": {
          "bdata": "nX9WR1tj878=",
          "dtype": "f8"
         },
         "xaxis": "x",
         "y": {
          "bdata": "3MXGfPGEJsA=",
          "dtype": "f8"
         },
         "yaxis": "y"
        },
        {
         "hovertemplate": "<b>%{hovertext}</b><br><br>Brand=Angry<br>แกนคุณลักษณะหลักที่ 1 (PC1)=%{x}<br>แกนคุณลักษณะหลักที่ 2 (PC2)=%{y}<extra></extra>",
         "hovertext": [
          "Miao AM Infinity Mouse"
         ],
         "legendgroup": "Angry",
         "marker": {
          "color": "#FECB52",
          "symbol": "circle"
         },
         "mode": "markers",
         "name": "Angry",
         "showlegend": true,
         "type": "scattergl",
         "x": {
          "bdata": "7qP1f95F+b8=",
          "dtype": "f8"
         },
         "xaxis": "x",
         "y": {
          "bdata": "5J5baXHn7z8=",
          "dtype": "f8"
         },
         "yaxis": "y"
        },
        {
         "hovertemplate": "<b>%{hovertext}</b><br><br>Brand=Corsair<br>แกนคุณลักษณะหลักที่ 1 (PC1)=%{x}<br>แกนคุณลักษณะหลักที่ 2 (PC2)=%{y}<extra></extra>",
         "hovertext": [
          "Scimitar Elite Wireless SE",
          "M55 Wireless",
          "M55 Wired",
          "Dark Core RGB Pro",
          "M55 RGB Pro",
          "Glaive Pro",
          "Glaive RGB",
          "Nightsword RGB",
          "Scimitar Elite Wireless",
          "Scimitar RGB Elite",
          "Scimitar Pro RGB",
          "Scimitar RGB",
          "Sabre RGB Pro Wireless",
          "Sabre RGB Pro",
          "Sabre Pro",
          "Katar Elite Wireless",
          "Katar Pro Wireless",
          "Katar Pro XT",
          "Ironclaw RGB Wireless",
          "Ironclaw RGB",
          "Harpoon RGB Wireless",
          "Harpoon RGB Pro",
          "Harpoon RGB",
          "M75 Air Wireless",
          "M75 Wireless",
          "M75",
          "Nightsabre Wireless",
          "Darkstar Wireless",
          "M65 RGB Ultra Wireless",
          "M65 RGB Ultra",
          "M65 RGB Pro",
          "M65 RGB Elite",
          "Dark Core RGB Pro SE"
         ],
         "legendgroup": "Corsair",
         "marker": {
          "color": "#636efa",
          "symbol": "circle"
         },
         "mode": "markers",
         "name": "Corsair",
         "showlegend": true,
         "type": "scattergl",
         "x": {
          "bdata": "YYVJValBEUAA+bjdpM7lP6/WiYXlX7I/PJMg7t+AEUATmbJKN7DjP8HQLORw4AlAMcNcIDhlC0B7LUFD67wSQDJnOScS8RBAA+YOSSsDE0AEe2DCpmUVQKU2gTlyrBVACD3GsoDC/z+cZgTpm7n3P6S3anojIvg/v6b3y0YG6r/fw0lP6R/BP3zBOQXPa+K/Q3vGHfj1EkDjqvrMQpYQQMNL31Kq5wFA4rws2nhx+z+oIvGkPRr9Py9X/4r+hca/Jj2dsJum3z9I13LvPJ/Tv/JCF5SQq9w/QdojzaR7CEBoFDxMOAoGQG+lwNTiiABAgVzPFQ1kCUCqfp/eIh0HQDyTIO7fgBFA",
          "dtype": "f8"
         },
         "xaxis": "x",
         "y": {
          "bdata": "1lZ+dTFY8j8JEvkNqp4WwKEdIFa+ShTA5SiSnymGwj9KQ89vlEblvyt6SGkLPaE/0nwz2mXSyL/4+YoQUTbsPxs06re61/E/jccZpEY02z/CepfOkTzMv/veZW33S9e/Mx5w/gFF8D+gag95RPv5P/omc9TkPvc/sAwF46Ji4b/+5cqEJkf+v7YtlVBmPe6/ItKNQolJ4T8xwtYa64vxP3rSLjG2lfS/2HTvmjbX4L8KDoN/ebnnv7s0Jo9ApuM/sPgJoPkZub+59qI1Q/zqP4S9g0m49dy/W8cPAaGA8D8T9Iqu/ymuvzmYyiJM5+c/RH1iCHUW5781WJpszrfWv+Uokp8phsI/",
          "dtype": "f8"
         },
         "yaxis": "y"
        },
        {
         "hovertemplate": "<b>%{hovertext}</b><br><br>Brand=ThundeRobot<br>แกนคุณลักษณะหลักที่ 1 (PC1)=%{x}<br>แกนคุณลักษณะหลักที่ 2 (PC2)=%{y}<extra></extra>",
         "hovertext": [
          "ML8",
          "ML4",
          "ML6 Pro",
          "ML9 Mini",
          "ML9S",
          "ML901",
          "ML602",
          "ML903"
         ],
         "legendgroup": "ThundeRobot",
         "marker": {
          "color": "#EF553B",
          "symbol": "circle"
         },
         "mode": "markers",
         "name": "ThundeRobot",
         "showlegend": true,
         "type": "scattergl",
         "x": {
          "bdata": "kls+Jzrt978NfNupdWfyv0QWY5I2a/A/qY28zMsB/b9rGHhKSUjtv/6WnCOcusy/59OQRgrd2b9WRGbBuNHlvw==",
          "dtype": "f8"
         },
         "xaxis": "x",
         "y": {
          "bdata": "DbWxaTtJ1z8RNPGoQDvwvydEvXJpkfA/ER9Oo7jo1j+ezB5wIDjmPybRy0QOfMq/qixWZ78yzT8qIMM7NhDVPw==",
          "dtype": "f8"
         },
         "yaxis": "y"
        },
        {
         "hovertemplate": "<b>%{hovertext}</b><br><br>Brand=Chilkey<br>แกนคุณลักษณะหลักที่ 1 (PC1)=%{x}<br>แกนคุณลักษณะหลักที่ 2 (PC2)=%{y}<extra></extra>",
         "hovertext": [
          "Glacier LW 8K M"
         ],
         "legendgroup": "Chilkey",
         "marker": {
          "color": "#00cc96",
          "symbol": "circle"
         },
         "mode": "markers",
         "name": "Chilkey",
         "showlegend": true,
         "type": "scattergl",
         "x": {
          "bdata": "XCbYb8gv/b8=",
          "dtype": "f8"
         },
         "xaxis": "x",
         "y": {
          "bdata": "XOojyNi16j8=",
          "dtype": "f8"
         },
         "yaxis": "y"
        },
        {
         "hovertemplate": "<b>%{hovertext}</b><br><br>Brand=UNIUS<br>แกนคุณลักษณะหลักที่ 1 (PC1)=%{x}<br>แกนคุณลักษณะหลักที่ 2 (PC2)=%{y}<extra></extra>",
         "hovertext": [
          "Black Lotus"
         ],
         "legendgroup": "UNIUS",
         "marker": {
          "color": "#ab63fa",
          "symbol": "circle"
         },
         "mode": "markers",
         "name": "UNIUS",
         "showlegend": true,
         "type": "scattergl",
         "x": {
          "bdata": "UKJho7dS/r8=",
          "dtype": "f8"
         },
         "xaxis": "x",
         "y": {
          "bdata": "Jk8b1OSe8z8=",
          "dtype": "f8"
         },
         "yaxis": "y"
        },
        {
         "hovertemplate": "<b>%{hovertext}</b><br><br>Brand=Fantech<br>แกนคุณลักษณะหลักที่ 1 (PC1)=%{x}<br>แกนคุณลักษณะหลักที่ 2 (PC2)=%{y}<extra></extra>",
         "hovertext": [
          "Tanto S",
          "Tanto",
          "Tanto E",
          "Go XD5",
          "Aria E",
          "Aria II Pro",
          "Aria II",
          "Helios II Pro S",
          "Helios XD3V2",
          "Helios II Pro",
          "X11 Daredevil",
          "Helios XD3",
          "Aria XD7"
         ],
         "legendgroup": "Fantech",
         "marker": {
          "color": "#FFA15A",
          "symbol": "circle"
         },
         "mode": "markers",
         "name": "Fantech",
         "showlegend": true,
         "type": "scattergl",
         "x": {
          "bdata": "KPctwR1Y97+q9QUENRPwv8u2NtKOMum/gNWJvFll8T9P1ywhQG7pvxZ4YGdBPPq/l3Y4qlj38r+04kdbrvr2v4WxqO55pca/agYx703T8r/sgF/SRe4PQHAal8NmAsC/da5glECW8L8=",
          "dtype": "f8"
         },
         "xaxis": "x",
         "y": {
          "bdata": "LxUda0X23T/Une+2X9i6v3pppY8/guK/r/LUPtU9Nb+OqAoN2onov6/6CMLus94/4AdAW7rht7/dGJPGnIbkP4ag4nt5sO6/pjOq7HEY1D+GzMnSBC7Ov5I2FnfNEPG/f9u5RNHz0L8=",
          "dtype": "f8"
         },
         "yaxis": "y"
        },
        {
         "hovertemplate": "<b>%{hovertext}</b><br><br>Brand=Orbital<br>แกนคุณลักษณะหลักที่ 1 (PC1)=%{x}<br>แกนคุณลักษณะหลักที่ 2 (PC2)=%{y}<extra></extra>",
         "hovertext": [
          "Pathfinder AAM-222",
          "Pathfinder AAM-000"
         ],
         "legendgroup": "Orbital",
         "marker": {
          "color": "#19d3f3",
          "symbol": "circle"
         },
         "mode": "markers",
         "name": "Orbital",
         "showlegend": true,
         "type": "scattergl",
         "x": {
          "bdata": "WP8keEXJAMBtseXBCGgGwA==",
          "dtype": "f8"
         },
         "xaxis": "x",
         "y": {
          "bdata": "p/IEwU6u2j8o9uddRf26vw==",
          "dtype": "f8"
         },
         "yaxis": "y"
        },
        {
         "hovertemplate": "<b>%{hovertext}</b><br><br>Brand=Metaphyuni<br>แกนคุณลักษณะหลักที่ 1 (PC1)=%{x}<br>แกนคุณลักษณะหลักที่ 2 (PC2)=%{y}<extra></extra>",
         "hovertext": [
          "M6",
          "P2 Pro",
          "P2 Lite",
          "P2",
          "Metapanda P1 Pro Max",
          "Metapanda P1 Pro",
          "Metapanda P1"
         ],
         "legendgroup": "Metaphyuni",
         "marker": {
          "color": "#FF6692",
          "symbol": "circle"
         },
         "mode": "markers",
         "name": "Metaphyuni",
         "showlegend": true,
         "type": "scattergl",
         "x": {
          "bdata": "qEgktvEbAMC3FErPT8v3v9WgrxyNTum/OBMiEmeG8L/nSIBb8ILsP+dIgFvwguw/W0LfO4n67j8=",
          "dtype": "f8"
         },
         "xaxis": "x",
         "y": {
          "bdata": "9E86oqk08z8aFge9R6LVPxKuljj8lOe/Es2jNysUzr+6AHna98vuP7oAedr3y+4/glneOegF6z8=",
          "dtype": "f8"
         },
         "yaxis": "y"
        },
        {
         "hovertemplate": "<b>%{hovertext}</b><br><br>Brand=EWEADN<br>แกนคุณลักษณะหลักที่ 1 (PC1)=%{x}<br>แกนคุณลักษณะหลักที่ 2 (PC2)=%{y}<extra></extra>",
         "hovertext": [
          "X23 Max",
          "X23 Pro",
          "X23 SE",
          "X23",
          "M9",
          "X21 Pro",
          "X21",
          "L1 Pro",
          "L1",
          "S9 Ultra",
          "S9 Pro",
          "S9"
         ],
         "legendgroup": "EWEADN",
         "marker": {
          "color": "#B6E880",
          "symbol": "circle"
         },
         "mode": "markers",
         "name": "EWEADN",
         "showlegend": true,
         "type": "scattergl",
         "x": {
          "bdata": "LVvlBUEz8L+/MDYEQajov78wNgRBqOi/vzA2BEGo6L/CTjCHdNj6v4DtnyJYCvk/dNVw+ZMw/D9kXTmykEv+v2RdObKQS/6/C6o3VuyR7r/n7WPo4FHmv8f98j5JXNG/",
          "dtype": "f8"
         },
         "xaxis": "x",
         "y": {
          "bdata": "O9zC/mymqj8QGoM1FcvcvxAagzUVy9y/EBqDNRXL3L9tygKVL87iPxZRb7A/QPY/WatxP+rs7T8BYm/+ru/qPwFib/6u7+o/vI9ln0LT9z/0mudanPDtP0N16NU3Jdk/",
          "dtype": "f8"
         },
         "yaxis": "y"
        },
        {
         "hovertemplate": "<b>%{hovertext}</b><br><br>Brand=Zaopin<br>แกนคุณลักษณะหลักที่ 1 (PC1)=%{x}<br>แกนคุณลักษณะหลักที่ 2 (PC2)=%{y}<extra></extra>",
         "hovertext": [
          "ZPW Max",
          "ZPW",
          "Z2 Max",
          "Z1 Pro Max",
          "Z2 Mini Max 8K",
          "Z2 Mini 4K",
          "Z2 Mini",
          "Z2",
          "Z1 Pro",
          "Z1"
         ],
         "legendgroup": "Zaopin",
         "marker": {
          "color": "#FF97FF",
          "symbol": "circle"
         },
         "mode": "markers",
         "name": "Zaopin",
         "showlegend": true,
         "type": "scattergl",
         "x": {
          "bdata": "h932Ewb1wj+nUQ74dM7LPyXPSwUZ7NY/oLhFJoinAMD9lhyTU/Tavzuv1cJpqLe/IKQ8Thswuj8rfdkTKfvlPwqMDQukf/6/dbrO+C+g878=",
          "dtype": "f8"
         },
         "xaxis": "x",
         "y": {
          "bdata": "TgbV0udV/j/ofU4xfAr8P9iWsuvg/fM/I6LEv6il1j+SJztrlEXuP3cv4K+yaN4/0mEG7zlizT/cHRrEhuroP6/z/9kZuLA/DdgEauw96L8=",
          "dtype": "f8"
         },
         "yaxis": "y"
        },
        {
         "hovertemplate": "<b>%{hovertext}</b><br><br>Brand=RK<br>แกนคุณลักษณะหลักที่ 1 (PC1)=%{x}<br>แกนคุณลักษณะหลักที่ 2 (PC2)=%{y}<extra></extra>",
         "hovertext": [
          "Royal Kludge M3",
          "Royal Kludge M30"
         ],
         "legendgroup": "RK",
         "marker": {
          "color": "#FECB52",
          "symbol": "circle"
         },
         "mode": "markers",
         "name": "RK",
         "showlegend": true,
         "type": "scattergl",
         "x": {
          "bdata": "272DpfYZAMBaIfBvBIj1vw==",
          "dtype": "f8"
         },
         "xaxis": "x",
         "y": {
          "bdata": "P94Bl8ni9T+KN6H+qMjQPw==",
          "dtype": "f8"
         },
         "yaxis": "y"
        },
        {
         "hovertemplate": "<b>%{hovertext}</b><br><br>Brand=Xyder<br>แกนคุณลักษณะหลักที่ 1 (PC1)=%{x}<br>แกนคุณลักษณะหลักที่ 2 (PC2)=%{y}<extra></extra>",
         "hovertext": [
          "Amalight 4K"
         ],
         "legendgroup": "Xyder",
         "marker": {
          "color": "#636efa",
          "symbol": "circle"
         },
         "mode": "markers",
         "name": "Xyder",
         "showlegend": true,
         "type": "scattergl",
         "x": {
          "bdata": "d9NQ9uOJ578=",
          "dtype": "f8"
         },
         "xaxis": "x",
         "y": {
          "bdata": "dIWeWB8r6D8=",
          "dtype": "f8"
         },
         "yaxis": "y"
        },
        {
         "hovertemplate": "<b>%{hovertext}</b><br><br>Brand=Imecoo<br>แกนคุณลักษณะหลักที่ 1 (PC1)=%{x}<br>แกนคุณลักษณะหลักที่ 2 (PC2)=%{y}<extra></extra>",
         "hovertext": [
          "P1"
         ],
         "legendgroup": "Imecoo",
         "marker": {
          "color": "#EF553B",
          "symbol": "circle"
         },
         "mode": "markers",
         "name": "Imecoo",
         "showlegend": true,
         "type": "scattergl",
         "x": {
          "bdata": "HyXW5f5c6T8=",
          "dtype": "f8"
         },
         "xaxis": "x",
         "y": {
          "bdata": "af8e/KRpAEA=",
          "dtype": "f8"
         },
         "yaxis": "y"
        },
        {
         "hovertemplate": "<b>%{hovertext}</b><br><br>Brand=Vaidemi<br>แกนคุณลักษณะหลักที่ 1 (PC1)=%{x}<br>แกนคุณลักษณะหลักที่ 2 (PC2)=%{y}<extra></extra>",
         "hovertext": [
          "Nimbus"
         ],
         "legendgroup": "Vaidemi",
         "marker": {
          "color": "#00cc96",
          "symbol": "circle"
         },
         "mode": "markers",
         "name": "Vaidemi",
         "showlegend": true,
         "type": "scattergl",
         "x": {
          "bdata": "fyUYAiB//78=",
          "dtype": "f8"
         },
         "xaxis": "x",
         "y": {
          "bdata": "arvOw+1b+T8=",
          "dtype": "f8"
         },
         "yaxis": "y"
        },
        {
         "hovertemplate": "<b>%{hovertext}</b><br><br>Brand=Zowie<br>แกนคุณลักษณะหลักที่ 1 (PC1)=%{x}<br>แกนคุณลักษณะหลักที่ 2 (PC2)=%{y}<extra></extra>",
         "hovertext": [
          "EC3-DW",
          "EC2-DW",
          "EC1-DW",
          "ZA13-DW",
          "FK2-DW",
          "U2-DW",
          "S2-DW",
          "S1-B V2",
          "S1-B",
          "S1-C",
          "S2-B V2",
          "S2-B",
          "ZA13-B",
          "ZA12-B",
          "ZA12-C",
          "ZA11-B",
          "ZA11-C",
          "FK2-B V2",
          "FK2-B",
          "FK1-B V2",
          "FK1-B",
          "FK1+-B V2",
          "FK1+-B",
          "EC2-B V2",
          "EC2-B",
          "EC1-B V2",
          "EC1-B",
          "MiCO",
          "U2",
          "AM",
          "EC3-CW",
          "EC2-CW",
          "EC1-CW",
          "S2-C",
          "ZA13-C",
          "FK2-C",
          "FK1-C",
          "FK1+-C",
          "EC3-C",
          "EC2-C",
          "EC1-C"
         ],
         "legendgroup": "Zowie",
         "marker": {
          "color": "#ab63fa",
          "symbol": "circle"
         },
         "mode": "markers",
         "name": "Zowie",
         "showlegend": true,
         "type": "scattergl",
         "x": {
          "bdata": "nT55C38V8T9VRen17hb0Pzy8IhPdrP4/dvk7eZ1l2b8lkXbtG+jdv2/jgP/5QuG/Tu6mjglS4b/bymc9ugvjP9vKZz26C+M/Ksk8xQ/bzj+Q9bCGjauxP5D1sIaNq7E/0NiPInqvoz9vMoVACQveP1KCU5e9DtI/Z2JdwWDB7j+RSeyef3fnP/hn5z3/3Lc/+GfnPf/ctz+bbsh7+w/hP5tuyHv7D+E/oWhOv8Z+7T+haE6/xn7tP+pQEBjANAFA6lAQGMA0AUA1JMj+73oGQDUkyP7vegZAEiho1DMK/r8DMr260g/Wv9K8U/0e99c/4qsQ3YSj+j+8Z+WXQI79PyuHKckgxwNAZdhxlrvXz785ye5p+N7Jv7xp8QF5SMO/8uB+yxzw0j+nJFjvudfmPzZW8OuyXfg/oqQ137YP/D+SgJqqP/UDQA==",
          "dtype": "f8"
         },
         "xaxis": "x",
         "y": {
          "bdata": "xRfTydnexj9bFEFIXujWP0oPXin8p+g/+zgsaXnc4r+1jFy1SKLmv7otEeFLSuC/l+FS/BZG6b+ub/KWtCfzv65v8pa0J/O/jRD/NIv06b/vm7LnDh/4v++bsucOH/i/6iDPDRWn8b9cWB4f4a7qv89ujSC0N+S/5loBdaCQ4b+ZSI70PPPTv2QfayfC4PW/ZB9rJ8Lg9b+UVmgoHN7xv5RWaCgc3vG/2J4EGJHk6r/YngQYkeTqv+6ZPk0VguS/7pk+TRWC5L+qCcXgvHHIv6oJxeC8cci/rUIVaXTmCMACrT+9Fibov94tjm26/fe/mhECuRY74L8Rtv3layDUv3PoJzon5cM/Y29MCQdY8r9EuFpFRLjqv3gOUujxdPG/ggohFXJn67/bG3eRF9bjv8nGhbINhNa/8s82Sexly7/7gn5abfDAPw==",
          "dtype": "f8"
         },
         "yaxis": "y"
        },
        {
         "hovertemplate": "<b>%{hovertext}</b><br><br>Brand=Tecware<br>แกนคุณลักษณะหลักที่ 1 (PC1)=%{x}<br>แกนคุณลักษณะหลักที่ 2 (PC2)=%{y}<extra></extra>",
         "hovertext": [
          "EX1",
          "Pulse Elite"
         ],
         "legendgroup": "Tecware",
         "marker": {
          "color": "#FFA15A",
          "symbol": "circle"
         },
         "mode": "markers",
         "name": "Tecware",
         "showlegend": true,
         "type": "scattergl",
         "x": {
          "bdata": "3xxGEpd48L8Bmu0wVu/Jvw==",
          "dtype": "f8"
         },
         "xaxis": "x",
         "y": {
          "bdata": "Kj0aKV8Zwb+OtnxlZxbPvw==",
          "dtype": "f8"
         },
         "yaxis": "y"
        },
        {
         "hovertemplate": "<b>%{hovertext}</b><br><br>Brand=SOLAKAKA<br>แกนคุณลักษณะหลักที่ 1 (PC1)=%{x}<br>แกนคุณลักษณะหลักที่ 2 (PC2)=%{y}<extra></extra>",
         "hovertext": [
          "SM809 Pro",
          "SM802 Pro",
          "SM805",
          "SM850",
          "SM809",
          "SM802"
         ],
         "legendgroup": "SOLAKAKA",
         "marker": {
          "color": "#19d3f3",
          "symbol": "circle"
         },
         "mode": "markers",
         "name": "SOLAKAKA",
         "showlegend": true,
         "type": "scattergl",
         "x": {
          "bdata": "pbNMmb+tEkCW8YscBmnlvz90hT/U7fE/I6W9bNGD4j9y8ekBEdURQPXX7imKVdu/",
          "dtype": "f8"
         },
         "xaxis": "x",
         "y": {
          "bdata": "oIa6wQ9u/z9g3pH3TyaxvwJxzS4EV+A/h7xcI6Nn5D+HrryWSUwBQJj2n2m7NOK/",
          "dtype": "f8"
         },
         "yaxis": "y"
        },
        {
         "hovertemplate": "<b>%{hovertext}</b><br><br>Brand=Mighty<br>แกนคุณลักษณะหลักที่ 1 (PC1)=%{x}<br>แกนคุณลักษณะหลักที่ 2 (PC2)=%{y}<extra></extra>",
         "hovertext": [
          "Mouse MM8K"
         ],
         "legendgroup": "Mighty",
         "marker": {
          "color": "#FF6692",
          "symbol": "circle"
         },
         "mode": "markers",
         "name": "Mighty",
         "showlegend": true,
         "type": "scattergl",
         "x": {
          "bdata": "ykbK0dNCGMA=",
          "dtype": "f8"
         },
         "xaxis": "x",
         "y": {
          "bdata": "C2dcKjBZAMA=",
          "dtype": "f8"
         },
         "yaxis": "y"
        },
        {
         "hovertemplate": "<b>%{hovertext}</b><br><br>Brand=Redragon<br>แกนคุณลักษณะหลักที่ 1 (PC1)=%{x}<br>แกนคุณลักษณะหลักที่ 2 (PC2)=%{y}<extra></extra>",
         "hovertext": [
          "M813 Pro",
          "M813 Wired",
          "M995 Pro",
          "M995",
          "M991",
          "M810 Pro",
          "M693",
          "M656 Gainer",
          "M913 Impact Elite",
          "M908 Impact",
          "M996",
          "M724",
          "M916 Pro 4K",
          "M916 Pro",
          "G49 Pro",
          "M711 Cobra"
         ],
         "legendgroup": "Redragon",
         "marker": {
          "color": "#B6E880",
          "symbol": "circle"
         },
         "mode": "markers",
         "name": "Redragon",
         "showlegend": true,
         "type": "scattergl",
         "x": {
          "bdata": "1NUiYQPZA0D5f8a0/DoFQKux4TovLue/q7HhOi8u57+2q1EDUUUMQAkNZQFlpARAZOD4nVEgAED05IJ41k4QQPHGdzchOBlAUUaFJMyJGEBsY3kOs9T7v8cDYTD7zPC/7oIMmSXx9L+4XftHndPxv+6CDJkl8fS/4funEWwVAUA=",
          "dtype": "f8"
         },
         "xaxis": "x",
         "y": {
          "bdata": "GulsoXc98z82KDkb1QHrP7jqzZUInuE/uOrNlQie4T8V3jXUjViNv+Qk9Ol4S+M/nRg29S/N1r8CIHDMvQLyv5l257rFgPQ/hMiVSbfo9T+mJm3fmDHwP887ULIm16i/Dz689iJn3z/+fr58Gl/PPw8+vPYiZ98/up6w+RM55L8=",
          "dtype": "f8"
         },
         "yaxis": "y"
        },
        {
         "hovertemplate": "<b>%{hovertext}</b><br><br>Brand=JAMESDONKEY<br>แกนคุณลักษณะหลักที่ 1 (PC1)=%{x}<br>แกนคุณลักษณะหลักที่ 2 (PC2)=%{y}<extra></extra>",
         "hovertext": [
          "RSR5s",
          "RSR5"
         ],
         "legendgroup": "JAMESDONKEY",
         "marker": {
          "color": "#FF97FF",
          "symbol": "circle"
         },
         "mode": "markers",
         "name": "JAMESDONKEY",
         "showlegend": true,
         "type": "scattergl",
         "x": {
          "bdata": "R4pz99MX+r/LePbTATP7vw==",
          "dtype": "f8"
         },
         "xaxis": "x",
         "y": {
          "bdata": "G8Sib4HT3D/Zct76lwDjPw==",
          "dtype": "f8"
         },
         "yaxis": "y"
        },
        {
         "hovertemplate": "<b>%{hovertext}</b><br><br>Brand=ROCCAT<br>แกนคุณลักษณะหลักที่ 1 (PC1)=%{x}<br>แกนคุณลักษณะหลักที่ 2 (PC2)=%{y}<extra></extra>",
         "hovertext": [
          "LUA",
          "Kone XP Air",
          "Pure SEL",
          "Pure Air",
          "Tyon",
          "Kain 120 AIMO",
          "Kone Pure Ultra",
          "Kone AIMO Remastered",
          "Kain 100 AIMO",
          "Kain 200 AIMO",
          "Kone XP",
          "Kone Pro",
          "Kone Pro Air",
          "Burst Core",
          "Burst Pro",
          "Burst Pro Air"
         ],
         "legendgroup": "ROCCAT",
         "marker": {
          "color": "#FECB52",
          "symbol": "circle"
         },
         "mode": "markers",
         "name": "ROCCAT",
         "showlegend": true,
         "type": "scattergl",
         "x": {
          "bdata": "SuqtDY1i8L+HDXLfvUoKQJrqS8jcUPA/sUPjbml36j8Gvmq9RuAUQM1PdDaW6+Q/Sj8/DR9n9D8Mzakpe3oTQDtOXzGCEek/CPM+GmVg8D/C1PKPKecIQJ7/sb4tevw/JP7AHr7C/z9uwHCG/MHEvxRdDjnWrNK/JlrkC74In78=",
          "dtype": "f8"
         },
         "xaxis": "x",
         "y": {
          "bdata": "GH3TAnlyAMB7w5VayFngP6UPwfvfTNc/jPWjKeEm7D823yz+RC7gP0wO10tjjd+/i3wEkLrrwj+Vz66Q2UPhP6YGpEOFYei/pA6pff5V7L88nK+YZETNP+PwJTvIsuk/dyxMJ5zZ4j/5E7Xy2ULpv3uU/FQGqOC/KTsN9Ets6L8=",
          "dtype": "f8"
         },
         "yaxis": "y"
        },
        {
         "hovertemplate": "<b>%{hovertext}</b><br><br>Brand=Realforce<br>แกนคุณลักษณะหลักที่ 1 (PC1)=%{x}<br>แกนคุณลักษณะหลักที่ 2 (PC2)=%{y}<extra></extra>",
         "hovertext": [
          "RM1"
         ],
         "legendgroup": "Realforce",
         "marker": {
          "color": "#636efa",
          "symbol": "circle"
         },
         "mode": "markers",
         "name": "Realforce",
         "showlegend": true,
         "type": "scattergl",
         "x": {
          "bdata": "cuHIzrBI/z8=",
          "dtype": "f8"
         },
         "xaxis": "x",
         "y": {
          "bdata": "+MbWvFDCtL8=",
          "dtype": "f8"
         },
         "yaxis": "y"
        },
        {
         "hovertemplate": "<b>%{hovertext}</b><br><br>Brand=Lenovo<br>แกนคุณลักษณะหลักที่ 1 (PC1)=%{x}<br>แกนคุณลักษณะหลักที่ 2 (PC2)=%{y}<extra></extra>",
         "hovertext": [
          "Yoga Pro",
          "Legion M410",
          "Legion M600s",
          "Legion M300s"
         ],
         "legendgroup": "Lenovo",
         "marker": {
          "color": "#EF553B",
          "symbol": "circle"
         },
         "mode": "markers",
         "name": "Lenovo",
         "showlegend": true,
         "type": "scattergl",
         "x": {
          "bdata": "i7Peb1LaEUD17SyPj8nlPxd1ufYYje6/352D+SIY8b8=",
          "dtype": "f8"
         },
         "xaxis": "x",
         "y": {
          "bdata": "8G6H7MYnEsBDOYpwa13wv06bTvwcMO6/dGvvmmlU778=",
          "dtype": "f8"
         },
         "yaxis": "y"
        },
        {
         "hovertemplate": "<b>%{hovertext}</b><br><br>Brand=HaunterWell<br>แกนคุณลักษณะหลักที่ 1 (PC1)=%{x}<br>แกนคุณลักษณะหลักที่ 2 (PC2)=%{y}<extra></extra>",
         "hovertext": [
          "HZS",
          "HMF",
          "HFC",
          "HZ1"
         ],
         "legendgroup": "HaunterWell",
         "marker": {
          "color": "#00cc96",
          "symbol": "circle"
         },
         "mode": "markers",
         "name": "HaunterWell",
         "showlegend": true,
         "type": "scattergl",
         "x": {
          "bdata": "2z02GqKMEsDMSRc2+QMTwPOonZpKuA/Ary3gclcYB8A=",
          "dtype": "f8"
         },
         "xaxis": "x",
         "y": {
          "bdata": "Emww5gaa6b+KGJdfKSDwv9C2liNooOG/3S7Bpbbu2D8=",
          "dtype": "f8"
         },
         "yaxis": "y"
        },
        {
         "hovertemplate": "<b>%{hovertext}</b><br><br>Brand=Akko<br>แกนคุณลักษณะหลักที่ 1 (PC1)=%{x}<br>แกนคุณลักษณะหลักที่ 2 (PC2)=%{y}<extra></extra>",
         "hovertext": [
          "Pulse 01",
          "AG ONE 8K",
          "AG One NearLink",
          "AG325W",
          "AG325C",
          "AG325"
         ],
         "legendgroup": "Akko",
         "marker": {
          "color": "#ab63fa",
          "symbol": "circle"
         },
         "mode": "markers",
         "name": "Akko",
         "showlegend": true,
         "type": "scattergl",
         "x": {
          "bdata": "+WQeovya5r8BDkYcHA/tv8/ZXB+tr+e/PKHE2D2Y8T+fSTa7LLXCPxdO4Fr65sg/",
          "dtype": "f8"
         },
         "xaxis": "x",
         "y": {
          "bdata": "idC3v3pV4D/Uww1MpUzjPxu88ov+p9o/RlPifCKqFcB+hnFHYGfrvwzfLcPDne6/",
          "dtype": "f8"
         },
         "yaxis": "y"
        },
        {
         "hovertemplate": "<b>%{hovertext}</b><br><br>Brand=Pwnage<br>แกนคุณลักษณะหลักที่ 1 (PC1)=%{x}<br>แกนคุณลักษณะหลักที่ 2 (PC2)=%{y}<extra></extra>",
         "hovertext": [
          "StormBreaker V3",
          "StormBreaker V2",
          "Trinity CF",
          "StormBreaker Max CF",
          "StormBreaker",
          "Ergo Wireless",
          "Ergo",
          "Ambi Wireless",
          "Symm 2",
          "Symm 2 Wireless",
          "Symm 1",
          "Symm 1 Wireless"
         ],
         "legendgroup": "Pwnage",
         "marker": {
          "color": "#FFA15A",
          "symbol": "circle"
         },
         "mode": "markers",
         "name": "Pwnage",
         "showlegend": true,
         "type": "scattergl",
         "x": {
          "bdata": "QJfZC4ADqz/YkKHjg+PPP/RlD2CUJQLAp72+rng96T/IHBbRoUfgP0OHHG+js/U/Ov2eD4Po8z/ljiBuu37rv6epcVO/WvC/e/U4WSDF6L/JT2Y1IIrsv2+mCGi/+ea/",
          "dtype": "f8"
         },
         "xaxis": "x",
         "y": {
          "bdata": "S4aqA19nAEDOG7Q1iKn6P/w2Y46GYvE/9zIfsvyCBEBKHJVNVmz1P/NUoea+Mtg/PbXZYiqk3D8sdRlhMSbvv3sZlT/TH+S/JqZXCo/c67+33oFAHSDqv+DponavIO+/",
          "dtype": "f8"
         },
         "yaxis": "y"
        },
        {
         "hovertemplate": "<b>%{hovertext}</b><br><br>Brand=Teevolution<br>แกนคุณลักษณะหลักที่ 1 (PC1)=%{x}<br>แกนคุณลักษณะหลักที่ 2 (PC2)=%{y}<extra></extra>",
         "hovertext": [
          "Terra",
          "Aria XD7",
          "Helios II Pro"
         ],
         "legendgroup": "Teevolution",
         "marker": {
          "color": "#19d3f3",
          "symbol": "circle"
         },
         "mode": "markers",
         "name": "Teevolution",
         "showlegend": true,
         "type": "scattergl",
         "x": {
          "bdata": "4+9qwmCl5j91rmCUQJbwv2oGMe9N0/K/",
          "dtype": "f8"
         },
         "xaxis": "x",
         "y": {
          "bdata": "ACz2HTO0AUB/27lE0fPQv6YzquxxGNQ/",
          "dtype": "f8"
         },
         "yaxis": "y"
        },
        {
         "hovertemplate": "<b>%{hovertext}</b><br><br>Brand=GravaStar<br>แกนคุณลักษณะหลักที่ 1 (PC1)=%{x}<br>แกนคุณลักษณะหลักที่ 2 (PC2)=%{y}<extra></extra>",
         "hovertext": [
          "Mercury X Pro",
          "Mercury X",
          "Mercury M2",
          "Mercury M1 Pro"
         ],
         "legendgroup": "GravaStar",
         "marker": {
          "color": "#FF6692",
          "symbol": "circle"
         },
         "mode": "markers",
         "name": "GravaStar",
         "showlegend": true,
         "type": "scattergl",
         "x": {
          "bdata": "DO/+18eO9b8b2601vpPsvxtDmoKn6KK/Lgx48tC+kr8=",
          "dtype": "f8"
         },
         "xaxis": "x",
         "y": {
          "bdata": "p4CMs6369T/+gqy6LJ/pPwqj0GE7u8q/5qSac6k3yb8=",
          "dtype": "f8"
         },
         "yaxis": "y"
        },
        {
         "hovertemplate": "<b>%{hovertext}</b><br><br>Brand=NZXT<br>แกนคุณลักษณะหลักที่ 1 (PC1)=%{x}<br>แกนคุณลักษณะหลักที่ 2 (PC2)=%{y}<extra></extra>",
         "hovertext": [
          "Lift Elite Wireless",
          "Lift 2 Ergo",
          "Lift 2 Symm",
          "Lift"
         ],
         "legendgroup": "NZXT",
         "marker": {
          "color": "#B6E880",
          "symbol": "circle"
         },
         "mode": "markers",
         "name": "NZXT",
         "showlegend": true,
         "type": "scattergl",
         "x": {
          "bdata": "gNS5F8jG+r/xhG1VhNboP2N75IgNDey/g8Iv/ekMo78=",
          "dtype": "f8"
         },
         "xaxis": "x",
         "y": {
          "bdata": "HaceMUS71z/chAxyVWD6PyvFv6TQse8/2t4NVd0Ixr8=",
          "dtype": "f8"
         },
         "yaxis": "y"
        },
        {
         "hovertemplate": "<b>%{hovertext}</b><br><br>Brand=strayfe<br>แกนคุณลักษณะหลักที่ 1 (PC1)=%{x}<br>แกนคุณลักษณะหลักที่ 2 (PC2)=%{y}<extra></extra>",
         "hovertext": [
          "M55 Pro 8k"
         ],
         "legendgroup": "strayfe",
         "marker": {
          "color": "#FF97FF",
          "symbol": "circle"
         },
         "mode": "markers",
         "name": "strayfe",
         "showlegend": true,
         "type": "scattergl",
         "x": {
          "bdata": "5DZpYkgO978=",
          "dtype": "f8"
         },
         "xaxis": "x",
         "y": {
          "bdata": "SE+nGYkV5z8=",
          "dtype": "f8"
         },
         "yaxis": "y"
        },
        {
         "hovertemplate": "<b>%{hovertext}</b><br><br>Brand=Waizowl<br>แกนคุณลักษณะหลักที่ 1 (PC1)=%{x}<br>แกนคุณลักษณะหลักที่ 2 (PC2)=%{y}<extra></extra>",
         "hovertext": [
          "OGM Cloud XS",
          "OGM One",
          "OGM Cloud V2",
          "OGM Pro V2",
          "OGM Cloud",
          "OGM Pro"
         ],
         "legendgroup": "Waizowl",
         "marker": {
          "color": "#FECB52",
          "symbol": "circle"
         },
         "mode": "markers",
         "name": "Waizowl",
         "showlegend": true,
         "type": "scattergl",
         "x": {
          "bdata": "Ox+N/hgxAcDz4H1nnwfkP+iGO4V8EPC/EAem743T7784eEN53Jvlv+iyGK/px7g/",
          "dtype": "f8"
         },
         "xaxis": "x",
         "y": {
          "bdata": "9gLaeZ4p5j+elFNq/ODpvwo92xUFHfM/MAMn5fgE9D9CamsYzyjnPz+7jfxiNMA/",
          "dtype": "f8"
         },
         "yaxis": "y"
        },
        {
         "hovertemplate": "<b>%{hovertext}</b><br><br>Brand=cOoLm0Dz<br>แกนคุณลักษณะหลักที่ 1 (PC1)=%{x}<br>แกนคุณลักษณะหลักที่ 2 (PC2)=%{y}<extra></extra>",
         "hovertext": [
          "OPt1p",
          "finalt1p"
         ],
         "legendgroup": "cOoLm0Dz",
         "marker": {
          "color": "#636efa",
          "symbol": "circle"
         },
         "mode": "markers",
         "name": "cOoLm0Dz",
         "showlegend": true,
         "type": "scattergl",
         "x": {
          "bdata": "E2bi0JSeC8CDsuYxWjwNwA==",
          "dtype": "f8"
         },
         "xaxis": "x",
         "y": {
          "bdata": "l/BYr0EztT9sH5eyLmzKPw==",
          "dtype": "f8"
         },
         "yaxis": "y"
        },
        {
         "hovertemplate": "<b>%{hovertext}</b><br><br>Brand=IPI<br>แกนคุณลักษณะหลักที่ 1 (PC1)=%{x}<br>แกนคุณลักษณะหลักที่ 2 (PC2)=%{y}<extra></extra>",
         "hovertext": [
          "Float"
         ],
         "legendgroup": "IPI",
         "marker": {
          "color": "#EF553B",
          "symbol": "circle"
         },
         "mode": "markers",
         "name": "IPI",
         "showlegend": true,
         "type": "scattergl",
         "x": {
          "bdata": "E1KFpnUXAcA=",
          "dtype": "f8"
         },
         "xaxis": "x",
         "y": {
          "bdata": "RgqFVYk85z8=",
          "dtype": "f8"
         },
         "yaxis": "y"
        },
        {
         "hovertemplate": "<b>%{hovertext}</b><br><br>Brand=PHYLINA<br>แกนคุณลักษณะหลักที่ 1 (PC1)=%{x}<br>แกนคุณลักษณะหลักที่ 2 (PC2)=%{y}<extra></extra>",
         "hovertext": [
          "S480",
          "S450 4K",
          "S450"
         ],
         "legendgroup": "PHYLINA",
         "marker": {
          "color": "#00cc96",
          "symbol": "circle"
         },
         "mode": "markers",
         "name": "PHYLINA",
         "showlegend": true,
         "type": "scattergl",
         "x": {
          "bdata": "EyEOwjH0AMDqKK9oc+nzv7QDnhfry/C/",
          "dtype": "f8"
         },
         "xaxis": "x",
         "y": {
          "bdata": "aIKWI0fe8z9FVmacOvbaP2ivEshJfcY/",
          "dtype": "f8"
         },
         "yaxis": "y"
        },
        {
         "hovertemplate": "<b>%{hovertext}</b><br><br>Brand=Amazon<br>แกนคุณลักษณะหลักที่ 1 (PC1)=%{x}<br>แกนคุณลักษณะหลักที่ 2 (PC2)=%{y}<extra></extra>",
         "hovertext": [
          "Basics Mouse"
         ],
         "legendgroup": "Amazon",
         "marker": {
          "color": "#ab63fa",
          "symbol": "circle"
         },
         "mode": "markers",
         "name": "Amazon",
         "showlegend": true,
         "type": "scattergl",
         "x": {
          "bdata": "h+0uv2iB5b8=",
          "dtype": "f8"
         },
         "xaxis": "x",
         "y": {
          "bdata": "rk1EdLEvGsA=",
          "dtype": "f8"
         },
         "yaxis": "y"
        },
        {
         "hovertemplate": "<b>%{hovertext}</b><br><br>Brand=TMKB<br>แกนคุณลักษณะหลักที่ 1 (PC1)=%{x}<br>แกนคุณลักษณะหลักที่ 2 (PC2)=%{y}<extra></extra>",
         "hovertext": [
          "Falcon M1SE"
         ],
         "legendgroup": "TMKB",
         "marker": {
          "color": "#FFA15A",
          "symbol": "circle"
         },
         "mode": "markers",
         "name": "TMKB",
         "showlegend": true,
         "type": "scattergl",
         "x": {
          "bdata": "45gbrZBHkD8=",
          "dtype": "f8"
         },
         "xaxis": "x",
         "y": {
          "bdata": "7Gwww/DW4r8=",
          "dtype": "f8"
         },
         "yaxis": "y"
        },
        {
         "hovertemplate": "<b>%{hovertext}</b><br><br>Brand=Madlions<br>แกนคุณลักษณะหลักที่ 1 (PC1)=%{x}<br>แกนคุณลักษณะหลักที่ 2 (PC2)=%{y}<extra></extra>",
         "hovertext": [
          "Mad G Max",
          "Mad G"
         ],
         "legendgroup": "Madlions",
         "marker": {
          "color": "#19d3f3",
          "symbol": "circle"
         },
         "mode": "markers",
         "name": "Madlions",
         "showlegend": true,
         "type": "scattergl",
         "x": {
          "bdata": "VfKHDQGe8r8hq9G4rHjqvw==",
          "dtype": "f8"
         },
         "xaxis": "x",
         "y": {
          "bdata": "1Dr5kmiG8z8ucUibs9PoPw==",
          "dtype": "f8"
         },
         "yaxis": "y"
        },
        {
         "hovertemplate": "<b>%{hovertext}</b><br><br>Brand=Mountain<br>แกนคุณลักษณะหลักที่ 1 (PC1)=%{x}<br>แกนคุณลักษณะหลักที่ 2 (PC2)=%{y}<extra></extra>",
         "hovertext": [
          "Makalu Max",
          "Makalu 67"
         ],
         "legendgroup": "Mountain",
         "marker": {
          "color": "#FF6692",
          "symbol": "circle"
         },
         "mode": "markers",
         "name": "Mountain",
         "showlegend": true,
         "type": "scattergl",
         "x": {
          "bdata": "mqbh1WOKCECeRTEN0ev+Pw==",
          "dtype": "f8"
         },
         "xaxis": "x",
         "y": {
          "bdata": "xfYoiOZxsj8pGrK9QonuPw==",
          "dtype": "f8"
         },
         "yaxis": "y"
        },
        {
         "hovertemplate": "<b>%{hovertext}</b><br><br>Brand=Edifier<br>แกนคุณลักษณะหลักที่ 1 (PC1)=%{x}<br>แกนคุณลักษณะหลักที่ 2 (PC2)=%{y}<extra></extra>",
         "hovertext": [
          "Hecate G5M Pro",
          "Hecate G5M",
          "Hecate G3M Pro"
         ],
         "legendgroup": "Edifier",
         "marker": {
          "color": "#B6E880",
          "symbol": "circle"
         },
         "mode": "markers",
         "name": "Edifier",
         "showlegend": true,
         "type": "scattergl",
         "x": {
          "bdata": "WyvIesCl5b8J2CZkd/Hgv5QZ25ItgPC/",
          "dtype": "f8"
         },
         "xaxis": "x",
         "y": {
          "bdata": "TwGgUF7o1j8s1qiqLh/FP+HCNptUzNW/",
          "dtype": "f8"
         },
         "yaxis": "y"
        },
        {
         "hovertemplate": "<b>%{hovertext}</b><br><br>Brand=EVGA<br>แกนคุณลักษณะหลักที่ 1 (PC1)=%{x}<br>แกนคุณลักษณะหลักที่ 2 (PC2)=%{y}<extra></extra>",
         "hovertext": [
          "X20",
          "X17",
          "X15",
          "X12"
         ],
         "legendgroup": "EVGA",
         "marker": {
          "color": "#FF97FF",
          "symbol": "circle"
         },
         "mode": "markers",
         "name": "EVGA",
         "showlegend": true,
         "type": "scattergl",
         "x": {
          "bdata": "MzCuGKKhC0DqHq4/62kEQLnxD0YdbA1A4Gn+kbwApz8=",
          "dtype": "f8"
         },
         "xaxis": "x",
         "y": {
          "bdata": "ESkH/vHd07+6o4poufzmP8A3iDKJOvE/mUCxrbEf3T8=",
          "dtype": "f8"
         },
         "yaxis": "y"
        },
        {
         "hovertemplate": "<b>%{hovertext}</b><br><br>Brand=8BitDo<br>แกนคุณลักษณะหลักที่ 1 (PC1)=%{x}<br>แกนคุณลักษณะหลักที่ 2 (PC2)=%{y}<extra></extra>",
         "hovertext": [
          "Retro R8"
         ],
         "legendgroup": "8BitDo",
         "marker": {
          "color": "#FECB52",
          "symbol": "circle"
         },
         "mode": "markers",
         "name": "8BitDo",
         "showlegend": true,
         "type": "scattergl",
         "x": {
          "bdata": "5ijjEWyH9r8=",
          "dtype": "f8"
         },
         "xaxis": "x",
         "y": {
          "bdata": "1DKqEus53L8=",
          "dtype": "f8"
         },
         "yaxis": "y"
        },
        {
         "hovertemplate": "<b>%{hovertext}</b><br><br>Brand=ANTGAMER<br>แกนคุณลักษณะหลักที่ 1 (PC1)=%{x}<br>แกนคุณลักษณะหลักที่ 2 (PC2)=%{y}<extra></extra>",
         "hovertext": [
          "AGM535R"
         ],
         "legendgroup": "ANTGAMER",
         "marker": {
          "color": "#636efa",
          "symbol": "circle"
         },
         "mode": "markers",
         "name": "ANTGAMER",
         "showlegend": true,
         "type": "scattergl",
         "x": {
          "bdata": "tz46oa0r778=",
          "dtype": "f8"
         },
         "xaxis": "x",
         "y": {
          "bdata": "CwBaZAqm8j8=",
          "dtype": "f8"
         },
         "yaxis": "y"
        },
        {
         "hovertemplate": "<b>%{hovertext}</b><br><br>Brand=RAKK<br>แกนคุณลักษณะหลักที่ 1 (PC1)=%{x}<br>แกนคุณลักษณะหลักที่ 2 (PC2)=%{y}<extra></extra>",
         "hovertext": [
          "Talan Aero",
          "Kaptan Wired",
          "Talan Air",
          "Talan",
          "Tanaw",
          "Kaptan Trimode",
          "MAG-AN",
          "BULUS",
          "Gahum"
         ],
         "legendgroup": "RAKK",
         "marker": {
          "color": "#EF553B",
          "symbol": "circle"
         },
         "mode": "markers",
         "name": "RAKK",
         "showlegend": true,
         "type": "scattergl",
         "x": {
          "bdata": "AQwGjYhD8b/SlUfAbKn8P8UjDT80uMi/3howQBqDzL/Fs0VmOCr1v7dErSG5VNE/rsh3C1UN+7+2Yw+Gyw66v9GpPl8s7eK/",
          "dtype": "f8"
         },
         "xaxis": "x",
         "y": {
          "bdata": "u+y4JLwNhz/7HPsX3rzFP5/fP+vp29S/pCHIqXdF7L9GBJdGx2rOvxLH+5l8COE/h9Ca+cxg8L91NtNGG2rzv6ywYSF4MdE/",
          "dtype": "f8"
         },
         "yaxis": "y"
        },
        {
         "hovertemplate": "<b>%{hovertext}</b><br><br>Brand=Scyrox<br>แกนคุณลักษณะหลักที่ 1 (PC1)=%{x}<br>แกนคุณลักษณะหลักที่ 2 (PC2)=%{y}<extra></extra>",
         "hovertext": [
          "V6",
          "V8"
         ],
         "legendgroup": "Scyrox",
         "marker": {
          "color": "#00cc96",
          "symbol": "circle"
         },
         "mode": "markers",
         "name": "Scyrox",
         "showlegend": true,
         "type": "scattergl",
         "x": {
          "bdata": "8eivD62//78IE+a7iTUBwA==",
          "dtype": "f8"
         },
         "xaxis": "x",
         "y": {
          "bdata": "hsF1x42t8j/bhy044q/yPw==",
          "dtype": "f8"
         },
         "yaxis": "y"
        },
        {
         "hovertemplate": "<b>%{hovertext}</b><br><br>Brand=Ragnok<br>แกนคุณลักษณะหลักที่ 1 (PC1)=%{x}<br>แกนคุณลักษณะหลักที่ 2 (PC2)=%{y}<extra></extra>",
         "hovertext": [
          "ErgoStrike7",
          "2 (FireGrip)"
         ],
         "legendgroup": "Ragnok",
         "marker": {
          "color": "#ab63fa",
          "symbol": "circle"
         },
         "mode": "markers",
         "name": "Ragnok",
         "showlegend": true,
         "type": "scattergl",
         "x": {
          "bdata": "DmQnAf0lMkBfOlUp4FYsQA==",
          "dtype": "f8"
         },
         "xaxis": "x",
         "y": {
          "bdata": "Ps9AxQFUJkCaeyaQXmkiQA==",
          "dtype": "f8"
         },
         "yaxis": "y"
        },
        {
         "hovertemplate": "<b>%{hovertext}</b><br><br>Brand=Aigo<br>แกนคุณลักษณะหลักที่ 1 (PC1)=%{x}<br>แกนคุณลักษณะหลักที่ 2 (PC2)=%{y}<extra></extra>",
         "hovertext": [
          "GM80 Pro",
          "GM80 Plus",
          "GM80"
         ],
         "legendgroup": "Aigo",
         "marker": {
          "color": "#FFA15A",
          "symbol": "circle"
         },
         "mode": "markers",
         "name": "Aigo",
         "showlegend": true,
         "type": "scattergl",
         "x": {
          "bdata": "eCe/j8Dh97/RCWOVf2fyv6nk9AugAvS/",
          "dtype": "f8"
         },
         "xaxis": "x",
         "y": {
          "bdata": "18zmT1kbq79Sn54vaIPlv5onrP+mweG/",
          "dtype": "f8"
         },
         "yaxis": "y"
        },
        {
         "hovertemplate": "<b>%{hovertext}</b><br><br>Brand=LTC<br>แกนคุณลักษณะหลักที่ 1 (PC1)=%{x}<br>แกนคุณลักษณะหลักที่ 2 (PC2)=%{y}<extra></extra>",
         "hovertext": [
          "GM022"
         ],
         "legendgroup": "LTC",
         "marker": {
          "color": "#19d3f3",
          "symbol": "circle"
         },
         "mode": "markers",
         "name": "LTC",
         "showlegend": true,
         "type": "scattergl",
         "x": {
          "bdata": "GUjOYDCS7b8=",
          "dtype": "f8"
         },
         "xaxis": "x",
         "y": {
          "bdata": "/W99t3FklD8=",
          "dtype": "f8"
         },
         "yaxis": "y"
        },
        {
         "hovertemplate": "<b>%{hovertext}</b><br><br>Brand=Swiftpoint<br>แกนคุณลักษณะหลักที่ 1 (PC1)=%{x}<br>แกนคุณลักษณะหลักที่ 2 (PC2)=%{y}<extra></extra>",
         "hovertext": [
          "Z2",
          "Creator",
          "Tracer",
          "ErgoPoint"
         ],
         "legendgroup": "Swiftpoint",
         "marker": {
          "color": "#FF6692",
          "symbol": "circle"
         },
         "mode": "markers",
         "name": "Swiftpoint",
         "showlegend": true,
         "type": "scattergl",
         "x": {
          "bdata": "Ol+5kTCYEUDu76uy+I8SQO7vq7L4jxJAUkPs7EcXG0A=",
          "dtype": "f8"
         },
         "xaxis": "x",
         "y": {
          "bdata": "1ScjfW278D/elJiP6WbhP96UmI/pZuE/ZHkXd4AlBsA=",
          "dtype": "f8"
         },
         "yaxis": "y"
        },
        {
         "hovertemplate": "<b>%{hovertext}</b><br><br>Brand=MACHENIKE<br>แกนคุณลักษณะหลักที่ 1 (PC1)=%{x}<br>แกนคุณลักษณะหลักที่ 2 (PC2)=%{y}<extra></extra>",
         "hovertext": [
          "M7 Pro",
          "L8 Max",
          "L8 Air",
          "L8 Pro",
          "L7 Air"
         ],
         "legendgroup": "MACHENIKE",
         "marker": {
          "color": "#B6E880",
          "symbol": "circle"
         },
         "mode": "markers",
         "name": "MACHENIKE",
         "showlegend": true,
         "type": "scattergl",
         "x": {
          "bdata": "B1GBLo8R4b+mW/nCS4n9PxVkkFm7udE/+tp8d0gU/T/lzm98SEf2vw==",
          "dtype": "f8"
         },
         "xaxis": "x",
         "y": {
          "bdata": "+szdc2It3b+1veoK/U31P714LBt+r9I/ITGjxBPT2D+o/PCxc5TFPw==",
          "dtype": "f8"
         },
         "yaxis": "y"
        },
        {
         "hovertemplate": "<b>%{hovertext}</b><br><br>Brand=Xiaomi<br>แกนคุณลักษณะหลักที่ 1 (PC1)=%{x}<br>แกนคุณลักษณะหลักที่ 2 (PC2)=%{y}<extra></extra>",
         "hovertext": [
          "X1"
         ],
         "legendgroup": "Xiaomi",
         "marker": {
          "color": "#FF97FF",
          "symbol": "circle"
         },
         "mode": "markers",
         "name": "Xiaomi",
         "showlegend": true,
         "type": "scattergl",
         "x": {
          "bdata": "V0/B+NfM6r8=",
          "dtype": "f8"
         },
         "xaxis": "x",
         "y": {
          "bdata": "LoplvLjT6D8=",
          "dtype": "f8"
         },
         "yaxis": "y"
        },
        {
         "hovertemplate": "<b>%{hovertext}</b><br><br>Brand=Apple<br>แกนคุณลักษณะหลักที่ 1 (PC1)=%{x}<br>แกนคุณลักษณะหลักที่ 2 (PC2)=%{y}<extra></extra>",
         "hovertext": [
          "Magic Mouse"
         ],
         "legendgroup": "Apple",
         "marker": {
          "color": "#FECB52",
          "symbol": "circle"
         },
         "mode": "markers",
         "name": "Apple",
         "showlegend": true,
         "type": "scattergl",
         "x": {
          "bdata": "Eag082V/vr8=",
          "dtype": "f8"
         },
         "xaxis": "x",
         "y": {
          "bdata": "dgDnvLscJcA=",
          "dtype": "f8"
         },
         "yaxis": "y"
        },
        {
         "hovertemplate": "<b>%{hovertext}</b><br><br>Brand=HUO<br>แกนคุณลักษณะหลักที่ 1 (PC1)=%{x}<br>แกนคุณลักษณะหลักที่ 2 (PC2)=%{y}<extra></extra>",
         "hovertext": [
          "JI E-YOOSO"
         ],
         "legendgroup": "HUO",
         "marker": {
          "color": "#636efa",
          "symbol": "circle"
         },
         "mode": "markers",
         "name": "HUO",
         "showlegend": true,
         "type": "scattergl",
         "x": {
          "bdata": "B8pXf0oI6r8=",
          "dtype": "f8"
         },
         "xaxis": "x",
         "y": {
          "bdata": "ZGOoVDRg4D8=",
          "dtype": "f8"
         },
         "yaxis": "y"
        },
        {
         "hovertemplate": "<b>%{hovertext}</b><br><br>Brand=Nixeus<br>แกนคุณลักษณะหลักที่ 1 (PC1)=%{x}<br>แกนคุณลักษณะหลักที่ 2 (PC2)=%{y}<extra></extra>",
         "hovertext": [
          "Revel Fit",
          "Revel-X",
          "Revel"
         ],
         "legendgroup": "Nixeus",
         "marker": {
          "color": "#EF553B",
          "symbol": "circle"
         },
         "mode": "markers",
         "name": "Nixeus",
         "showlegend": true,
         "type": "scattergl",
         "x": {
          "bdata": "DjCgJgsqBkBiK7Q0X+S5vycZu3bdT+A/",
          "dtype": "f8"
         },
         "xaxis": "x",
         "y": {
          "bdata": "KyC8IrSTgj+y0qXTZhvwvyrYmj+Peue/",
          "dtype": "f8"
         },
         "yaxis": "y"
        },
        {
         "hovertemplate": "<b>%{hovertext}</b><br><br>Brand=AIM1<br>แกนคุณลักษณะหลักที่ 1 (PC1)=%{x}<br>แกนคุณลักษณะหลักที่ 2 (PC2)=%{y}<extra></extra>",
         "hovertext": [
          "Shigure"
         ],
         "legendgroup": "AIM1",
         "marker": {
          "color": "#00cc96",
          "symbol": "circle"
         },
         "mode": "markers",
         "name": "AIM1",
         "showlegend": true,
         "type": "scattergl",
         "x": {
          "bdata": "2kZAr+Xw+r8=",
          "dtype": "f8"
         },
         "xaxis": "x",
         "y": {
          "bdata": "qLeJecYD8D8=",
          "dtype": "f8"
         },
         "yaxis": "y"
        },
        {
         "hovertemplate": "<b>%{hovertext}</b><br><br>Brand=CC<br>แกนคุณลักษณะหลักที่ 1 (PC1)=%{x}<br>แกนคุณลักษณะหลักที่ 2 (PC2)=%{y}<extra></extra>",
         "hovertext": [
          "Beanmouse LHD Small",
          "Beanmouse Small",
          "Beanmouse LHD Large",
          "Beanmouse Large"
         ],
         "legendgroup": "CC",
         "marker": {
          "color": "#ab63fa",
          "symbol": "circle"
         },
         "mode": "markers",
         "name": "CC",
         "showlegend": true,
         "type": "scattergl",
         "x": {
          "bdata": "Ip2UR/wJEsAinZRH/AkSwEvbax1D0QvAS9trHUPRC8A=",
          "dtype": "f8"
         },
         "xaxis": "x",
         "y": {
          "bdata": "QrNp8frv979Cs2nx+u/3v+vPs+gA/OO/68+z6AD8478=",
          "dtype": "f8"
         },
         "yaxis": "y"
        },
        {
         "hovertemplate": "<b>%{hovertext}</b><br><br>Brand=Xtrfy<br>แกนคุณลักษณะหลักที่ 1 (PC1)=%{x}<br>แกนคุณลักษณะหลักที่ 2 (PC2)=%{y}<extra></extra>",
         "hovertext": [
          "M42",
          "M42 (lower back)",
          "M8 Wireless",
          "M42 Wireless",
          "M4",
          "M4 Wireless",
          "MZ1",
          "MZ1 Wireless"
         ],
         "legendgroup": "Xtrfy",
         "marker": {
          "color": "#FFA15A",
          "symbol": "circle"
         },
         "mode": "markers",
         "name": "Xtrfy",
         "showlegend": true,
         "type": "scattergl",
         "x": {
          "bdata": "GxZgUfVP7L8bFmBR9U/sv6RgXm6k0/S//rnPPlag57/BchMKCYL0P3u9m/JccPQ/WGHe7dKE+r9k5mPqVs34vw==",
          "dtype": "f8"
         },
         "xaxis": "x",
         "y": {
          "bdata": "HIOW59ET4r8cg5bn0RPiv8bWP09wSMa/zYfl5Ej15b9Nd/QO5062PzFB9xGKO8I/tqDMjNCM8r+ORbapGfvzvw==",
          "dtype": "f8"
         },
         "yaxis": "y"
        },
        {
         "hovertemplate": "<b>%{hovertext}</b><br><br>Brand=Cooler<br>แกนคุณลักษณะหลักที่ 1 (PC1)=%{x}<br>แกนคุณลักษณะหลักที่ 2 (PC2)=%{y}<extra></extra>",
         "hovertext": [
          "Master CM310",
          "Master MM731",
          "Master MM730",
          "Master MM711 Lite",
          "Master MM831",
          "Master MM530",
          "Master MM531",
          "Master MM830",
          "Master CM110",
          "Master MM711",
          "Master MM710",
          "Master MM310",
          "Master MM720",
          "Master MM712"
         ],
         "legendgroup": "Cooler",
         "marker": {
          "color": "#19d3f3",
          "symbol": "circle"
         },
         "mode": "markers",
         "name": "Cooler",
         "showlegend": true,
         "type": "scattergl",
         "x": {
          "bdata": "UByEH9e49D/X5MVGzqTyPyf08qpFru4/OxOJjjGm6r9dG3FKojkHQN7OHDZCU/w/RL0gPDCe+T+a29zMQ6YVQBC3yWKqZ60/PR5aP+cr7b/+MDBAWV/xvyi0MvEnNL8/3Wb68dlc6D+LAsfpKTbwvw==",
          "dtype": "f8"
         },
         "xaxis": "x",
         "y": {
          "bdata": "DECKZ4qQ6r8K6xoGfnrjP0qORc9o/eg/MjK30i2Z6r+5KqbMfWTBP2aJErBrr+6/Tm35JL2c6L9Ns/ptoELLP4IMJBKd0f6/bWFO1yKj5L/ozEXuNlvcv4c/r1LXbtw/6zhnv5IR0D/0B14lI7Pevw==",
          "dtype": "f8"
         },
         "yaxis": "y"
        },
        {
         "hovertemplate": "<b>%{hovertext}</b><br><br>Brand=Higround<br>แกนคุณลักษณะหลักที่ 1 (PC1)=%{x}<br>แกนคุณลักษณะหลักที่ 2 (PC2)=%{y}<extra></extra>",
         "hovertext": [
          "Yuma"
         ],
         "legendgroup": "Higround",
         "marker": {
          "color": "#FF6692",
          "symbol": "circle"
         },
         "mode": "markers",
         "name": "Higround",
         "showlegend": true,
         "type": "scattergl",
         "x": {
          "bdata": "eQtYmJ637b8=",
          "dtype": "f8"
         },
         "xaxis": "x",
         "y": {
          "bdata": "HtcjXfad6j8=",
          "dtype": "f8"
         },
         "yaxis": "y"
        },
        {
         "hovertemplate": "<b>%{hovertext}</b><br><br>Brand=COMMATECH<br>แกนคุณลักษณะหลักที่ 1 (PC1)=%{x}<br>แกนคุณลักษณะหลักที่ 2 (PC2)=%{y}<extra></extra>",
         "hovertext": [
          "FKMINI4"
         ],
         "legendgroup": "COMMATECH",
         "marker": {
          "color": "#B6E880",
          "symbol": "circle"
         },
         "mode": "markers",
         "name": "COMMATECH",
         "showlegend": true,
         "type": "scattergl",
         "x": {
          "bdata": "4T9QKkcPBsA=",
          "dtype": "f8"
         },
         "xaxis": "x",
         "y": {
          "bdata": "wCI68Kxy5L8=",
          "dtype": "f8"
         },
         "yaxis": "y"
        },
        {
         "hovertemplate": "<b>%{hovertext}</b><br><br>Brand=Turtle<br>แกนคุณลักษณะหลักที่ 1 (PC1)=%{x}<br>แกนคุณลักษณะหลักที่ 2 (PC2)=%{y}<extra></extra>",
         "hovertext": [
          "Beach Kone II Air",
          "Beach Kone II",
          "Beach Kone XP Air",
          "Beach Burst II Air",
          "Beach Pure Air",
          "Beach Pure SEL"
         ],
         "legendgroup": "Turtle",
         "marker": {
          "color": "#FF97FF",
          "symbol": "circle"
         },
         "mode": "markers",
         "name": "Turtle",
         "showlegend": true,
         "type": "scattergl",
         "x": {
          "bdata": "LN4WJDP5EECxpe1ENZEOQIcNct+9SgpA/jmiXw3t57+xQ+NuaXfqP5rqS8jcUPA/",
          "dtype": "f8"
         },
         "xaxis": "x",
         "y": {
          "bdata": "fz2KhMBq9T/xFUyGTrj7P3vDlVrIWeA/bW8PqKd/4z+M9aMp4SbsP6UPwfvfTNc/",
          "dtype": "f8"
         },
         "yaxis": "y"
        },
        {
         "hovertemplate": "<b>%{hovertext}</b><br><br>Brand=xtro<br>แกนคุณลักษณะหลักที่ 1 (PC1)=%{x}<br>แกนคุณลักษณะหลักที่ 2 (PC2)=%{y}<extra></extra>",
         "hovertext": [
          "Eris"
         ],
         "legendgroup": "xtro",
         "marker": {
          "color": "#FECB52",
          "symbol": "circle"
         },
         "mode": "markers",
         "name": "xtro",
         "showlegend": true,
         "type": "scattergl",
         "x": {
          "bdata": "3WU3LRPE8z8=",
          "dtype": "f8"
         },
         "xaxis": "x",
         "y": {
          "bdata": "34enKFgh5D8=",
          "dtype": "f8"
         },
         "yaxis": "y"
        },
        {
         "hovertemplate": "<b>%{hovertext}</b><br><br>Brand=Noir<br>แกนคุณลักษณะหลักที่ 1 (PC1)=%{x}<br>แกนคุณลักษณะหลักที่ 2 (PC2)=%{y}<extra></extra>",
         "hovertext": [
          "M1",
          "M1 Lite",
          "M2 MG",
          "M2 Pro",
          "M2"
         ],
         "legendgroup": "Noir",
         "marker": {
          "color": "#636efa",
          "symbol": "circle"
         },
         "mode": "markers",
         "name": "Noir",
         "showlegend": true,
         "type": "scattergl",
         "x": {
          "bdata": "63xGkvDm57+ZS/kxouziv9fRCBwZs/q/GBCGbd5Y9b/h6nQcVjvyvw==",
          "dtype": "f8"
         },
         "xaxis": "x",
         "y": {
          "bdata": "ANuB5oE06L9ooK8e80Pxvy3O/DhPEds/W5BFnT0NgT8WpOWWV17Ovw==",
          "dtype": "f8"
         },
         "yaxis": "y"
        },
        {
         "hovertemplate": "<b>%{hovertext}</b><br><br>Brand=Vancer<br>แกนคุณลักษณะหลักที่ 1 (PC1)=%{x}<br>แกนคุณลักษณะหลักที่ 2 (PC2)=%{y}<extra></extra>",
         "hovertext": [
          "x Arbiter Studio AKITSU",
          "Thrash",
          "Groove",
          "Gretxa",
          "Gemini Castor",
          "Gemini Pollux"
         ],
         "legendgroup": "Vancer",
         "marker": {
          "color": "#EF553B",
          "symbol": "circle"
         },
         "mode": "markers",
         "name": "Vancer",
         "showlegend": true,
         "type": "scattergl",
         "x": {
          "bdata": "hbilMUVvA8CSSVC4nCDzv4zxklM2kvK/GODoz4OK2r9+2axJ2PD2v9f33+twxNU/",
          "dtype": "f8"
         },
         "xaxis": "x",
         "y": {
          "bdata": "xMpu45ET5j9RlJY3KyjlP3RFVLJ93+c/4aLn0wvW8L8amNBAXzHCv5w+kDiTUeQ/",
          "dtype": "f8"
         },
         "yaxis": "y"
        },
        {
         "hovertemplate": "<b>%{hovertext}</b><br><br>Brand=GANSS<br>แกนคุณลักษณะหลักที่ 1 (PC1)=%{x}<br>แกนคุณลักษณะหลักที่ 2 (PC2)=%{y}<extra></extra>",
         "hovertext": [
          "FLX3 4K",
          "FLX3"
         ],
         "legendgroup": "GANSS",
         "marker": {
          "color": "#00cc96",
          "symbol": "circle"
         },
         "mode": "markers",
         "name": "GANSS",
         "showlegend": true,
         "type": "scattergl",
         "x": {
          "bdata": "JMLIGxB+4T+PDOu9ILnnPw==",
          "dtype": "f8"
         },
         "xaxis": "x",
         "y": {
          "bdata": "RihLUPgh8T9G0WfEJWjqPw==",
          "dtype": "f8"
         },
         "yaxis": "y"
        },
        {
         "hovertemplate": "<b>%{hovertext}</b><br><br>Brand=IFYOO<br>แกนคุณลักษณะหลักที่ 1 (PC1)=%{x}<br>แกนคุณลักษณะหลักที่ 2 (PC2)=%{y}<extra></extra>",
         "hovertext": [
          "G63",
          "G03 (Long)",
          "G03 (Short)"
         ],
         "legendgroup": "IFYOO",
         "marker": {
          "color": "#ab63fa",
          "symbol": "circle"
         },
         "mode": "markers",
         "name": "IFYOO",
         "showlegend": true,
         "type": "scattergl",
         "x": {
          "bdata": "Q0l4gaDm8b8wPk4bm/yiP9gTLcec0c6/",
          "dtype": "f8"
         },
         "xaxis": "x",
         "y": {
          "bdata": "ktXU09z90D8aDn/MkVDCv+BcfnqOvt+/",
          "dtype": "f8"
         },
         "yaxis": "y"
        },
        {
         "hovertemplate": "<b>%{hovertext}</b><br><br>Brand=Monka<br>แกนคุณลักษณะหลักที่ 1 (PC1)=%{x}<br>แกนคุณลักษณะหลักที่ 2 (PC2)=%{y}<extra></extra>",
         "hovertext": [
          "M1 Pro Max",
          "M1 Pro",
          "M1",
          "M3 Pro",
          "M3",
          "G995W"
         ],
         "legendgroup": "Monka",
         "marker": {
          "color": "#FFA15A",
          "symbol": "circle"
         },
         "mode": "markers",
         "name": "Monka",
         "showlegend": true,
         "type": "scattergl",
         "x": {
          "bdata": "rJjZDT7z9b+smNkNPvP1v3RzyLy11fK/3vulIRJB9b+p1pTQiSPyv6cGQKVJCe+/",
          "dtype": "f8"
         },
         "xaxis": "x",
         "y": {
          "bdata": "NL69EZi6wz80vr0RmLrDP9h9+L0mabe/25+KyorF0j9TCm2RqG+oPx2yM6d5X5M/",
          "dtype": "f8"
         },
         "yaxis": "y"
        },
        {
         "hovertemplate": "<b>%{hovertext}</b><br><br>Brand=MSI<br>แกนคุณลักษณะหลักที่ 1 (PC1)=%{x}<br>แกนคุณลักษณะหลักที่ 2 (PC2)=%{y}<extra></extra>",
         "hovertext": [
          "Clutch GM41"
         ],
         "legendgroup": "MSI",
         "marker": {
          "color": "#19d3f3",
          "symbol": "circle"
         },
         "mode": "markers",
         "name": "MSI",
         "showlegend": true,
         "type": "scattergl",
         "x": {
          "bdata": "L+uG4DOWxT8=",
          "dtype": "f8"
         },
         "xaxis": "x",
         "y": {
          "bdata": "aCpFaq33sr8=",
          "dtype": "f8"
         },
         "yaxis": "y"
        },
        {
         "hovertemplate": "<b>%{hovertext}</b><br><br>Brand=Nitrite<br>แกนคุณลักษณะหลักที่ 1 (PC1)=%{x}<br>แกนคุณลักษณะหลักที่ 2 (PC2)=%{y}<extra></extra>",
         "hovertext": [
          "Labs Carbon XT1 Wireless",
          "Labs Carbon XT1 Wired"
         ],
         "legendgroup": "Nitrite",
         "marker": {
          "color": "#FF6692",
          "symbol": "circle"
         },
         "mode": "markers",
         "name": "Nitrite",
         "showlegend": true,
         "type": "scattergl",
         "x": {
          "bdata": "k/jVEY4cDMCnNBRnxowMwA==",
          "dtype": "f8"
         },
         "xaxis": "x",
         "y": {
          "bdata": "IAxU0d6y4j+uGogOi+/kPw==",
          "dtype": "f8"
         },
         "yaxis": "y"
        },
        {
         "hovertemplate": "<b>%{hovertext}</b><br><br>Brand=TenTen<br>แกนคุณลักษณะหลักที่ 1 (PC1)=%{x}<br>แกนคุณลักษณะหลักที่ 2 (PC2)=%{y}<extra></extra>",
         "hovertext": [
          "Zero Gravity"
         ],
         "legendgroup": "TenTen",
         "marker": {
          "color": "#B6E880",
          "symbol": "circle"
         },
         "mode": "markers",
         "name": "TenTen",
         "showlegend": true,
         "type": "scattergl",
         "x": {
          "bdata": "ZJtY5rTsAMA=",
          "dtype": "f8"
         },
         "xaxis": "x",
         "y": {
          "bdata": "6L5BdhNl+T8=",
          "dtype": "f8"
         },
         "yaxis": "y"
        },
        {
         "hovertemplate": "<b>%{hovertext}</b><br><br>Brand=Nyfter<br>แกนคุณลักษณะหลักที่ 1 (PC1)=%{x}<br>แกนคุณลักษณะหลักที่ 2 (PC2)=%{y}<extra></extra>",
         "hovertext": [
          "ELT 4K"
         ],
         "legendgroup": "Nyfter",
         "marker": {
          "color": "#FF97FF",
          "symbol": "circle"
         },
         "mode": "markers",
         "name": "Nyfter",
         "showlegend": true,
         "type": "scattergl",
         "x": {
          "bdata": "4t6jot717b8=",
          "dtype": "f8"
         },
         "xaxis": "x",
         "y": {
          "bdata": "v+dpJYV82T8=",
          "dtype": "f8"
         },
         "yaxis": "y"
        },
        {
         "hovertemplate": "<b>%{hovertext}</b><br><br>Brand=IROK<br>แกนคุณลักษณะหลักที่ 1 (PC1)=%{x}<br>แกนคุณลักษณะหลักที่ 2 (PC2)=%{y}<extra></extra>",
         "hovertext": [
          "HE3 PRO",
          "HE3",
          "HE3 SE"
         ],
         "legendgroup": "IROK",
         "marker": {
          "color": "#FECB52",
          "symbol": "circle"
         },
         "mode": "markers",
         "name": "IROK",
         "showlegend": true,
         "type": "scattergl",
         "x": {
          "bdata": "9tGqh5vs9L+/rJk2E8/xv1/lG4m3xOq/",
          "dtype": "f8"
         },
         "xaxis": "x",
         "y": {
          "bdata": "ZlR5ZBKk0j+vruJg5WOnP0cYJrYe5eC/",
          "dtype": "f8"
         },
         "yaxis": "y"
        },
        {
         "hovertemplate": "<b>%{hovertext}</b><br><br>Brand=Alienware<br>แกนคุณลักษณะหลักที่ 1 (PC1)=%{x}<br>แกนคุณลักษณะหลักที่ 2 (PC2)=%{y}<extra></extra>",
         "hovertext": [
          "Pro Wireless",
          "AW620M",
          "AW610M",
          "AW720M",
          "AW320M"
         ],
         "legendgroup": "Alienware",
         "marker": {
          "color": "#636efa",
          "symbol": "circle"
         },
         "mode": "markers",
         "name": "Alienware",
         "showlegend": true,
         "type": "scattergl",
         "x": {
          "bdata": "mzDU5BRD77+d6Sy/qPMJQPHBWiDVwAZAI5oosQdYyL9Fii//u/Dbvw==",
          "dtype": "f8"
         },
         "xaxis": "x",
         "y": {
          "bdata": "QKDoEU0W7D9+T4rHOjXwP99hEpy18LI/mjzjcQyi6r94LYjsR0flvw==",
          "dtype": "f8"
         },
         "yaxis": "y"
        },
        {
         "hovertemplate": "<b>%{hovertext}</b><br><br>Brand=Santali<br>แกนคุณลักษณะหลักที่ 1 (PC1)=%{x}<br>แกนคุณลักษณะหลักที่ 2 (PC2)=%{y}<extra></extra>",
         "hovertext": [
          "S1-O"
         ],
         "legendgroup": "Santali",
         "marker": {
          "color": "#EF553B",
          "symbol": "circle"
         },
         "mode": "markers",
         "name": "Santali",
         "showlegend": true,
         "type": "scattergl",
         "x": {
          "bdata": "aoKxmlkS9L8=",
          "dtype": "f8"
         },
         "xaxis": "x",
         "y": {
          "bdata": "4xoSejLW8T8=",
          "dtype": "f8"
         },
         "yaxis": "y"
        },
        {
         "hovertemplate": "<b>%{hovertext}</b><br><br>Brand=Hitscan<br>แกนคุณลักษณะหลักที่ 1 (PC1)=%{x}<br>แกนคุณลักษณะหลักที่ 2 (PC2)=%{y}<extra></extra>",
         "hovertext": [
          "Hyperlight"
         ],
         "legendgroup": "Hitscan",
         "marker": {
          "color": "#00cc96",
          "symbol": "circle"
         },
         "mode": "markers",
         "name": "Hitscan",
         "showlegend": true,
         "type": "scattergl",
         "x": {
          "bdata": "GWP+nkdQAcA=",
          "dtype": "f8"
         },
         "xaxis": "x",
         "y": {
          "bdata": "pjW+Iooe6z8=",
          "dtype": "f8"
         },
         "yaxis": "y"
        },
        {
         "hovertemplate": "<b>%{hovertext}</b><br><br>Brand=A4Tech<br>แกนคุณลักษณะหลักที่ 1 (PC1)=%{x}<br>แกนคุณลักษณะหลักที่ 2 (PC2)=%{y}<extra></extra>",
         "hovertext": [
          "XL-750BK",
          "XL-750BH",
          "Bloody V7"
         ],
         "legendgroup": "A4Tech",
         "marker": {
          "color": "#ab63fa",
          "symbol": "circle"
         },
         "mode": "markers",
         "name": "A4Tech",
         "showlegend": true,
         "type": "scattergl",
         "x": {
          "bdata": "GjwtneYeC0AaPC2d5h4LQGNzk8FtNxJA",
          "dtype": "f8"
         },
         "xaxis": "x",
         "y": {
          "bdata": "WqwH6maWFsBarAfqZpYWwKzVLO/eK/i/",
          "dtype": "f8"
         },
         "yaxis": "y"
        },
        {
         "hovertemplate": "<b>%{hovertext}</b><br><br>Brand=Zaunkoenig<br>แกนคุณลักษณะหลักที่ 1 (PC1)=%{x}<br>แกนคุณลักษณะหลักที่ 2 (PC2)=%{y}<extra></extra>",
         "hovertext": [
          "M3K",
          "M2K"
         ],
         "legendgroup": "Zaunkoenig",
         "marker": {
          "color": "#FFA15A",
          "symbol": "circle"
         },
         "mode": "markers",
         "name": "Zaunkoenig",
         "showlegend": true,
         "type": "scattergl",
         "x": {
          "bdata": "gYVZXqibE8A/DhhwEQ4TwA==",
          "dtype": "f8"
         },
         "xaxis": "x",
         "y": {
          "bdata": "4HoL+0OO9b+sixg+GyX6vw==",
          "dtype": "f8"
         },
         "yaxis": "y"
        },
        {
         "hovertemplate": "<b>%{hovertext}</b><br><br>Brand=ELECOM<br>แกนคุณลักษณะหลักที่ 1 (PC1)=%{x}<br>แกนคุณลักษณะหลักที่ 2 (PC2)=%{y}<extra></extra>",
         "hovertext": [
          "VM501LBK",
          "VM501BK",
          "VM510BK",
          "VM610BK",
          "VM600PE"
         ],
         "legendgroup": "ELECOM",
         "marker": {
          "color": "#19d3f3",
          "symbol": "circle"
         },
         "mode": "markers",
         "name": "ELECOM",
         "showlegend": true,
         "type": "scattergl",
         "x": {
          "bdata": "QuEFZkxj/D8LQpcBxTLvPwSgdI9TQfG/0uI+E3Qg9b8i987Y+LH4Pw==",
          "dtype": "f8"
         },
         "xaxis": "x",
         "y": {
          "bdata": "BlSUS9Yu6D/LmW5TYczTP+UN70NFb+S/ZkwFZU99wb9G6kv09QDlPw==",
          "dtype": "f8"
         },
         "yaxis": "y"
        },
        {
         "hovertemplate": "<b>%{hovertext}</b><br><br>Brand=Irocks<br>แกนคุณลักษณะหลักที่ 1 (PC1)=%{x}<br>แกนคุณลักษณะหลักที่ 2 (PC2)=%{y}<extra></extra>",
         "hovertext": [
          "M31R"
         ],
         "legendgroup": "Irocks",
         "marker": {
          "color": "#FF6692",
          "symbol": "circle"
         },
         "mode": "markers",
         "name": "Irocks",
         "showlegend": true,
         "type": "scattergl",
         "x": {
          "bdata": "xOMjvRL+8T8=",
          "dtype": "f8"
         },
         "xaxis": "x",
         "y": {
          "bdata": "jlLg4mxt5T8=",
          "dtype": "f8"
         },
         "yaxis": "y"
        },
        {
         "hovertemplate": "<b>%{hovertext}</b><br><br>Brand=GITOPER<br>แกนคุณลักษณะหลักที่ 1 (PC1)=%{x}<br>แกนคุณลักษณะหลักที่ 2 (PC2)=%{y}<extra></extra>",
         "hovertext": [
          "G1",
          "G3",
          "G2"
         ],
         "legendgroup": "GITOPER",
         "marker": {
          "color": "#B6E880",
          "symbol": "circle"
         },
         "mode": "markers",
         "name": "GITOPER",
         "showlegend": true,
         "type": "scattergl",
         "x": {
          "bdata": "pCVx3z+27D8n91g5hU3wP3OI6jpWWuC/",
          "dtype": "f8"
         },
         "xaxis": "x",
         "y": {
          "bdata": "tcLoHf026T85fuC/W6LcP4dnsdplI9g/",
          "dtype": "f8"
         },
         "yaxis": "y"
        },
        {
         "hovertemplate": "<b>%{hovertext}</b><br><br>Brand=Cherry<br>แกนคุณลักษณะหลักที่ 1 (PC1)=%{x}<br>แกนคุณลักษณะหลักที่ 2 (PC2)=%{y}<extra></extra>",
         "hovertext": [
          "Xtrfy M50 Wireless",
          "Xtrfy M50",
          "Xtrfy M68 Pro 8K Wireless",
          "Xtrfy M68 Wireless",
          "Xtrfy M64 Pro 8K Wireless",
          "Xtrfy M64 Wireless"
         ],
         "legendgroup": "Cherry",
         "marker": {
          "color": "#FF97FF",
          "symbol": "circle"
         },
         "mode": "markers",
         "name": "Cherry",
         "showlegend": true,
         "type": "scattergl",
         "x": {
          "bdata": "gAm9vSoUqD9aGGiuRtbVv8nBpxMwRvO/288Ku76K6b9nV1UH9i3BP6u+JUeMS+E/",
          "dtype": "f8"
         },
         "xaxis": "x",
         "y": {
          "bdata": "PUVtbxaH8r/a/nVGQA/nv3HLeYkoVOw/2aLYlpth1z+GpV6K8Yv0PwBdA15beOg/",
          "dtype": "f8"
         },
         "yaxis": "y"
        },
        {
         "hovertemplate": "<b>%{hovertext}</b><br><br>Brand=IXILAB<br>แกนคุณลักษณะหลักที่ 1 (PC1)=%{x}<br>แกนคุณลักษณะหลักที่ 2 (PC2)=%{y}<extra></extra>",
         "hovertext": [
          "X1 Pro Max",
          "X1 Pro",
          "X1"
         ],
         "legendgroup": "IXILAB",
         "marker": {
          "color": "#FECB52",
          "symbol": "circle"
         },
         "mode": "markers",
         "name": "IXILAB",
         "showlegend": true,
         "type": "scattergl",
         "x": {
          "bdata": "XofkPkdY9b/2E9jJtSL4v8HuxngtBfW/",
          "dtype": "f8"
         },
         "xaxis": "x",
         "y": {
          "bdata": "6v4wQuDhaD8uReEKxk3KP8ffYpeVhaS/",
          "dtype": "f8"
         },
         "yaxis": "y"
        },
        {
         "hovertemplate": "<b>%{hovertext}</b><br><br>Brand=Ardor<br>แกนคุณลักษณะหลักที่ 1 (PC1)=%{x}<br>แกนคุณลักษณะหลักที่ 2 (PC2)=%{y}<extra></extra>",
         "hovertext": [
          "Gaming Immortality Pro Wireless",
          "Gaming Immortality",
          "Gaming Ulta (big back)",
          "Gaming Ulta (mid back)",
          "Gaming Ulta (small back)",
          "Gaming Prime X",
          "Gaming Prime Wireless",
          "Gaming Prime",
          "Gaming Fury Beast",
          "Gaming Fury Pro",
          "Gaming Fury",
          "Gaming Phantom Pro V2",
          "Gaming Phantom Pro",
          "Gaming Phantom Pro Wired"
         ],
         "legendgroup": "Ardor",
         "marker": {
          "color": "#636efa",
          "symbol": "circle"
         },
         "mode": "markers",
         "name": "Ardor",
         "showlegend": true,
         "type": "scattergl",
         "x": {
          "bdata": "i6SB5SlU3b9PyTLko4LnvzWCzHQrEOK/NYLMdCsQ4r81gsx0KxDiv18JgUJgh9C/Ugc7jY4azb9hvpXfih6zvytBrxCDxAhAfjMcwqvSCECt86bvJWMLQEVSr9Z9+Ny/HwGSObPo0b+GFstfUSPgvw==",
          "dtype": "f8"
         },
         "xaxis": "x",
         "y": {
          "bdata": "vv1IP2px5L9qSGobQq/bv5loyw8m/tC/mWjLDyb+0L+ZaMsPJv7Qv60EvL0/uei/X5KhPFD77L+kdT2Jd53wv3NQ/EqfPtw/SYDGcKdT2z/dHlYvxVCyP78mAiQ/tqQ/Jw/Bamxb1L9USOycjKPAvw==",
          "dtype": "f8"
         },
         "yaxis": "y"
        },
        {
         "hovertemplate": "<b>%{hovertext}</b><br><br>Brand=FineMax<br>แกนคุณลักษณะหลักที่ 1 (PC1)=%{x}<br>แกนคุณลักษณะหลักที่ 2 (PC2)=%{y}<extra></extra>",
         "hovertext": [
          "Noah"
         ],
         "legendgroup": "FineMax",
         "marker": {
          "color": "#EF553B",
          "symbol": "circle"
         },
         "mode": "markers",
         "name": "FineMax",
         "showlegend": true,
         "type": "scattergl",
         "x": {
          "bdata": "AaQgf9B37r8=",
          "dtype": "f8"
         },
         "xaxis": "x",
         "y": {
          "bdata": "6bcd5Qww2j8=",
          "dtype": "f8"
         },
         "yaxis": "y"
        },
        {
         "hovertemplate": "<b>%{hovertext}</b><br><br>Brand=Sprime<br>แกนคุณลักษณะหลักที่ 1 (PC1)=%{x}<br>แกนคุณลักษณะหลักที่ 2 (PC2)=%{y}<extra></extra>",
         "hovertext": [
          "PM1"
         ],
         "legendgroup": "Sprime",
         "marker": {
          "color": "#00cc96",
          "symbol": "circle"
         },
         "mode": "markers",
         "name": "Sprime",
         "showlegend": true,
         "type": "scattergl",
         "x": {
          "bdata": "iI1QVi4Du78=",
          "dtype": "f8"
         },
         "xaxis": "x",
         "y": {
          "bdata": "MKRUr89c+j8=",
          "dtype": "f8"
         },
         "yaxis": "y"
        },
        {
         "hovertemplate": "<b>%{hovertext}</b><br><br>Brand=Mionix<br>แกนคุณลักษณะหลักที่ 1 (PC1)=%{x}<br>แกนคุณลักษณะหลักที่ 2 (PC2)=%{y}<extra></extra>",
         "hovertext": [
          "Naos Pro",
          "Naos QG",
          "Naos 8200",
          "Naos 7000",
          "Naos 3200",
          "Castor Pro",
          "Castor"
         ],
         "legendgroup": "Mionix",
         "marker": {
          "color": "#ab63fa",
          "symbol": "circle"
         },
         "mode": "markers",
         "name": "Mionix",
         "showlegend": true,
         "type": "scattergl",
         "x": {
          "bdata": "ld+G1vfPDUBBnRgRB/QOQHjnJkBtyQ5AU3LqugOlD0AGafGbFEQUQCoTMMR6PgFAVurRTrKMA0A=",
          "dtype": "f8"
         },
         "xaxis": "x",
         "y": {
          "bdata": "SsYoe7H96D+sVmK/dkrgP4UFQhnLNt0/WQMkV9Mb1T+iPM9RRS0RwMs63gdHIJi/2oUtesZi4r8=",
          "dtype": "f8"
         },
         "yaxis": "y"
        },
        {
         "hovertemplate": "<b>%{hovertext}</b><br><br>Brand=Rexus<br>แกนคุณลักษณะหลักที่ 1 (PC1)=%{x}<br>แกนคุณลักษณะหลักที่ 2 (PC2)=%{y}<extra></extra>",
         "hovertext": [
          "Daxa Air IV"
         ],
         "legendgroup": "Rexus",
         "marker": {
          "color": "#FFA15A",
          "symbol": "circle"
         },
         "mode": "markers",
         "name": "Rexus",
         "showlegend": true,
         "type": "scattergl",
         "x": {
          "bdata": "UieTTCYx378=",
          "dtype": "f8"
         },
         "xaxis": "x",
         "y": {
          "bdata": "u8d15tspqz8=",
          "dtype": "f8"
         },
         "yaxis": "y"
        },
        {
         "hovertemplate": "<b>%{hovertext}</b><br><br>Brand=Atompalm<br>แกนคุณลักษณะหลักที่ 1 (PC1)=%{x}<br>แกนคุณลักษณะหลักที่ 2 (PC2)=%{y}<extra></extra>",
         "hovertext": [
          "Hydrogen 2",
          "Hydrogen"
         ],
         "legendgroup": "Atompalm",
         "marker": {
          "color": "#19d3f3",
          "symbol": "circle"
         },
         "mode": "markers",
         "name": "Atompalm",
         "showlegend": true,
         "type": "scattergl",
         "x": {
          "bdata": "Z/qwIg0m8b9n+rAiDSbxvw==",
          "dtype": "f8"
         },
         "xaxis": "x",
         "y": {
          "bdata": "64dJ3dGY4z/rh0nd0ZjjPw==",
          "dtype": "f8"
         },
         "yaxis": "y"
        },
        {
         "hovertemplate": "<b>%{hovertext}</b><br><br>Brand=ARYE<br>แกนคุณลักษณะหลักที่ 1 (PC1)=%{x}<br>แกนคุณลักษณะหลักที่ 2 (PC2)=%{y}<extra></extra>",
         "hovertext": [
          "FCC-1"
         ],
         "legendgroup": "ARYE",
         "marker": {
          "color": "#FF6692",
          "symbol": "circle"
         },
         "mode": "markers",
         "name": "ARYE",
         "showlegend": true,
         "type": "scattergl",
         "x": {
          "bdata": "Esk1+tXVAcA=",
          "dtype": "f8"
         },
         "xaxis": "x",
         "y": {
          "bdata": "Uh52oS4Dx78=",
          "dtype": "f8"
         },
         "yaxis": "y"
        },
        {
         "hovertemplate": "<b>%{hovertext}</b><br><br>Brand=Ironcat<br>แกนคุณลักษณะหลักที่ 1 (PC1)=%{x}<br>แกนคุณลักษณะหลักที่ 2 (PC2)=%{y}<extra></extra>",
         "hovertext": [
          "HPC01M Pro",
          "HPC01M",
          "HPC02M",
          "HPC02"
         ],
         "legendgroup": "Ironcat",
         "marker": {
          "color": "#B6E880",
          "symbol": "circle"
         },
         "mode": "markers",
         "name": "Ironcat",
         "showlegend": true,
         "type": "scattergl",
         "x": {
          "bdata": "wi5PYGQS9r8KCsKNmSj0v8wBrG5Kj/O//yoymy7X4r8=",
          "dtype": "f8"
         },
         "xaxis": "x",
         "y": {
          "bdata": "vCh0QosZsb+mx3SmccLMv+bFV0HGRuO/ruZ95UF6zr8=",
          "dtype": "f8"
         },
         "yaxis": "y"
        },
        {
         "hovertemplate": "<b>%{hovertext}</b><br><br>Brand=Xinshuntian<br>แกนคุณลักษณะหลักที่ 1 (PC1)=%{x}<br>แกนคุณลักษณะหลักที่ 2 (PC2)=%{y}<extra></extra>",
         "hovertext": [
          "G820"
         ],
         "legendgroup": "Xinshuntian",
         "marker": {
          "color": "#FF97FF",
          "symbol": "circle"
         },
         "mode": "markers",
         "name": "Xinshuntian",
         "showlegend": true,
         "type": "scattergl",
         "x": {
          "bdata": "PwYQVlAI7D8=",
          "dtype": "f8"
         },
         "xaxis": "x",
         "y": {
          "bdata": "fYsf9Hhb4z8=",
          "dtype": "f8"
         },
         "yaxis": "y"
        },
        {
         "hovertemplate": "<b>%{hovertext}</b><br><br>Brand=Ducky<br>แกนคุณลักษณะหลักที่ 1 (PC1)=%{x}<br>แกนคุณลักษณะหลักที่ 2 (PC2)=%{y}<extra></extra>",
         "hovertext": [
          "Feather"
         ],
         "legendgroup": "Ducky",
         "marker": {
          "color": "#FECB52",
          "symbol": "circle"
         },
         "mode": "markers",
         "name": "Ducky",
         "showlegend": true,
         "type": "scattergl",
         "x": {
          "bdata": "INOx7Z3z4b8=",
          "dtype": "f8"
         },
         "xaxis": "x",
         "y": {
          "bdata": "gGx8PmJq4r8=",
          "dtype": "f8"
         },
         "yaxis": "y"
        },
        {
         "hovertemplate": "<b>%{hovertext}</b><br><br>Brand=Pichau<br>แกนคุณลักษณะหลักที่ 1 (PC1)=%{x}<br>แกนคุณลักษณะหลักที่ 2 (PC2)=%{y}<extra></extra>",
         "hovertext": [
          "Hive S"
         ],
         "legendgroup": "Pichau",
         "marker": {
          "color": "#636efa",
          "symbol": "circle"
         },
         "mode": "markers",
         "name": "Pichau",
         "showlegend": true,
         "type": "scattergl",
         "x": {
          "bdata": "bzQ7N+1j378=",
          "dtype": "f8"
         },
         "xaxis": "x",
         "y": {
          "bdata": "LE4MKgGW4r8=",
          "dtype": "f8"
         },
         "yaxis": "y"
        },
        {
         "hovertemplate": "<b>%{hovertext}</b><br><br>Brand=Fnatic<br>แกนคุณลักษณะหลักที่ 1 (PC1)=%{x}<br>แกนคุณลักษณะหลักที่ 2 (PC2)=%{y}<extra></extra>",
         "hovertext": [
          "CLUTCH 2",
          "Bolt"
         ],
         "legendgroup": "Fnatic",
         "marker": {
          "color": "#EF553B",
          "symbol": "circle"
         },
         "mode": "markers",
         "name": "Fnatic",
         "showlegend": true,
         "type": "scattergl",
         "x": {
          "bdata": "3EAkr6wTBUBdXZ3PgQPjvw==",
          "dtype": "f8"
         },
         "xaxis": "x",
         "y": {
          "bdata": "C+hxo1FspD+QOVyXw1vgvw==",
          "dtype": "f8"
         },
         "yaxis": "y"
        },
        {
         "hovertemplate": "<b>%{hovertext}</b><br><br>Brand=Aqirys<br>แกนคุณลักษณะหลักที่ 1 (PC1)=%{x}<br>แกนคุณลักษณะหลักที่ 2 (PC2)=%{y}<extra></extra>",
         "hovertext": [
          "TGA Alpha"
         ],
         "legendgroup": "Aqirys",
         "marker": {
          "color": "#00cc96",
          "symbol": "circle"
         },
         "mode": "markers",
         "name": "Aqirys",
         "showlegend": true,
         "type": "scattergl",
         "x": {
          "bdata": "jto2YSJJ2L8=",
          "dtype": "f8"
         },
         "xaxis": "x",
         "y": {
          "bdata": "wtf1HjQuxL8=",
          "dtype": "f8"
         },
         "yaxis": "y"
        },
        {
         "hovertemplate": "<b>%{hovertext}</b><br><br>Brand=Fallen<br>แกนคุณลักษณะหลักที่ 1 (PC1)=%{x}<br>แกนคุณลักษณะหลักที่ 2 (PC2)=%{y}<extra></extra>",
         "hovertext": [
          "Pantera Pro"
         ],
         "legendgroup": "Fallen",
         "marker": {
          "color": "#ab63fa",
          "symbol": "circle"
         },
         "mode": "markers",
         "name": "Fallen",
         "showlegend": true,
         "type": "scattergl",
         "x": {
          "bdata": "xL7+PFcr0r8=",
          "dtype": "f8"
         },
         "xaxis": "x",
         "y": {
          "bdata": "BQDg/Djb0L8=",
          "dtype": "f8"
         },
         "yaxis": "y"
        },
        {
         "hovertemplate": "<b>%{hovertext}</b><br><br>Brand=Drevo<br>แกนคุณลักษณะหลักที่ 1 (PC1)=%{x}<br>แกนคุณลักษณะหลักที่ 2 (PC2)=%{y}<extra></extra>",
         "hovertext": [
          "Falcon"
         ],
         "legendgroup": "Drevo",
         "marker": {
          "color": "#FFA15A",
          "symbol": "circle"
         },
         "mode": "markers",
         "name": "Drevo",
         "showlegend": true,
         "type": "scattergl",
         "x": {
          "bdata": "MgAvc1jUzT8=",
          "dtype": "f8"
         },
         "xaxis": "x",
         "y": {
          "bdata": "WpKrHJX07r8=",
          "dtype": "f8"
         },
         "yaxis": "y"
        },
        {
         "hovertemplate": "<b>%{hovertext}</b><br><br>Brand=Acer<br>แกนคุณลักษณะหลักที่ 1 (PC1)=%{x}<br>แกนคุณลักษณะหลักที่ 2 (PC2)=%{y}<extra></extra>",
         "hovertext": [
          "Cestus 330"
         ],
         "legendgroup": "Acer",
         "marker": {
          "color": "#19d3f3",
          "symbol": "circle"
         },
         "mode": "markers",
         "name": "Acer",
         "showlegend": true,
         "type": "scattergl",
         "x": {
          "bdata": "mAaW4/nK/j8=",
          "dtype": "f8"
         },
         "xaxis": "x",
         "y": {
          "bdata": "Z91iB1IHA8A=",
          "dtype": "f8"
         },
         "yaxis": "y"
        },
        {
         "hovertemplate": "<b>%{hovertext}</b><br><br>Brand=Teamwolf<br>แกนคุณลักษณะหลักที่ 1 (PC1)=%{x}<br>แกนคุณลักษณะหลักที่ 2 (PC2)=%{y}<extra></extra>",
         "hovertext": [
          "Lurker MK-01"
         ],
         "legendgroup": "Teamwolf",
         "marker": {
          "color": "#FF6692",
          "symbol": "circle"
         },
         "mode": "markers",
         "name": "Teamwolf",
         "showlegend": true,
         "type": "scattergl",
         "x": {
          "bdata": "Wta812dY/78=",
          "dtype": "f8"
         },
         "xaxis": "x",
         "y": {
          "bdata": "8rMn7Tlh7b8=",
          "dtype": "f8"
         },
         "yaxis": "y"
        },
        {
         "hovertemplate": "<b>%{hovertext}</b><br><br>Brand=PureTrak<br>แกนคุณลักษณะหลักที่ 1 (PC1)=%{x}<br>แกนคุณลักษณะหลักที่ 2 (PC2)=%{y}<extra></extra>",
         "hovertext": [
          "Valor Wireless"
         ],
         "legendgroup": "PureTrak",
         "marker": {
          "color": "#B6E880",
          "symbol": "circle"
         },
         "mode": "markers",
         "name": "PureTrak",
         "showlegend": true,
         "type": "scattergl",
         "x": {
          "bdata": "CLdzfSSL4b8=",
          "dtype": "f8"
         },
         "xaxis": "x",
         "y": {
          "bdata": "+LHKo821wj8=",
          "dtype": "f8"
         },
         "yaxis": "y"
        },
        {
         "hovertemplate": "<b>%{hovertext}</b><br><br>Brand=Xenics<br>แกนคุณลักษณะหลักที่ 1 (PC1)=%{x}<br>แกนคุณลักษณะหลักที่ 2 (PC2)=%{y}<extra></extra>",
         "hovertext": [
          "Titan GX Air Wireless"
         ],
         "legendgroup": "Xenics",
         "marker": {
          "color": "#FF97FF",
          "symbol": "circle"
         },
         "mode": "markers",
         "name": "Xenics",
         "showlegend": true,
         "type": "scattergl",
         "x": {
          "bdata": "oYYdf9Ne5b8=",
          "dtype": "f8"
         },
         "xaxis": "x",
         "y": {
          "bdata": "B1RdI4iA8L8=",
          "dtype": "f8"
         },
         "yaxis": "y"
        },
        {
         "hovertemplate": "<b>%{hovertext}</b><br><br>Brand=SPC<br>แกนคุณลักษณะหลักที่ 1 (PC1)=%{x}<br>แกนคุณลักษณะหลักที่ 2 (PC2)=%{y}<extra></extra>",
         "hovertext": [
          "Gear LIX Plus Wireless"
         ],
         "legendgroup": "SPC",
         "marker": {
          "color": "#FECB52",
          "symbol": "circle"
         },
         "mode": "markers",
         "name": "SPC",
         "showlegend": true,
         "type": "scattergl",
         "x": {
          "bdata": "dBx6GPOExL8=",
          "dtype": "f8"
         },
         "xaxis": "x",
         "y": {
          "bdata": "Gp86ZUIJyr8=",
          "dtype": "f8"
         },
         "yaxis": "y"
        },
        {
         "hovertemplate": "<b>%{hovertext}</b><br><br>Brand=Dornfinger<br>แกนคุณลักษณะหลักที่ 1 (PC1)=%{x}<br>แกนคุณลักษณะหลักที่ 2 (PC2)=%{y}<extra></extra>",
         "hovertext": [
          "Veno-S"
         ],
         "legendgroup": "Dornfinger",
         "marker": {
          "color": "#636efa",
          "symbol": "circle"
         },
         "mode": "markers",
         "name": "Dornfinger",
         "showlegend": true,
         "type": "scattergl",
         "x": {
          "bdata": "aR0fX41B2L8=",
          "dtype": "f8"
         },
         "xaxis": "x",
         "y": {
          "bdata": "O1UlsvA11L8=",
          "dtype": "f8"
         },
         "yaxis": "y"
        },
        {
         "hovertemplate": "<b>%{hovertext}</b><br><br>Brand=Midnight<br>แกนคุณลักษณะหลักที่ 1 (PC1)=%{x}<br>แกนคุณลักษณะหลักที่ 2 (PC2)=%{y}<extra></extra>",
         "hovertext": [
          "Thread C1"
         ],
         "legendgroup": "Midnight",
         "marker": {
          "color": "#EF553B",
          "symbol": "circle"
         },
         "mode": "markers",
         "name": "Midnight",
         "showlegend": true,
         "type": "scattergl",
         "x": {
          "bdata": "AOQiARld9L8=",
          "dtype": "f8"
         },
         "xaxis": "x",
         "y": {
          "bdata": "SfQQna0U2T8=",
          "dtype": "f8"
         },
         "yaxis": "y"
        },
        {
         "hovertemplate": "<b>%{hovertext}</b><br><br>Brand=HK<br>แกนคุณลักษณะหลักที่ 1 (PC1)=%{x}<br>แกนคุณลักษณะหลักที่ 2 (PC2)=%{y}<extra></extra>",
         "hovertext": [
          "Gaming Sirius M"
         ],
         "legendgroup": "HK",
         "marker": {
          "color": "#00cc96",
          "symbol": "circle"
         },
         "mode": "markers",
         "name": "HK",
         "showlegend": true,
         "type": "scattergl",
         "x": {
          "bdata": "pw5urLGx7b8=",
          "dtype": "f8"
         },
         "xaxis": "x",
         "y": {
          "bdata": "EquYPvnv378=",
          "dtype": "f8"
         },
         "yaxis": "y"
        },
        {
         "hovertemplate": "<b>%{hovertext}</b><br><br>Brand=CryoMods<br>แกนคุณลักษณะหลักที่ 1 (PC1)=%{x}<br>แกนคุณลักษณะหลักที่ 2 (PC2)=%{y}<extra></extra>",
         "hovertext": [
          "Fractal Wireless"
         ],
         "legendgroup": "CryoMods",
         "marker": {
          "color": "#ab63fa",
          "symbol": "circle"
         },
         "mode": "markers",
         "name": "CryoMods",
         "showlegend": true,
         "type": "scattergl",
         "x": {
          "bdata": "+gPBbXBE8b8=",
          "dtype": "f8"
         },
         "xaxis": "x",
         "y": {
          "bdata": "RDI48BcD9L8=",
          "dtype": "f8"
         },
         "yaxis": "y"
        },
        {
         "hovertemplate": "<b>%{hovertext}</b><br><br>Brand=Lethal<br>แกนคุณลักษณะหลักที่ 1 (PC1)=%{x}<br>แกนคุณลักษณะหลักที่ 2 (PC2)=%{y}<extra></extra>",
         "hovertext": [
          "Gaming Gear LA-1"
         ],
         "legendgroup": "Lethal",
         "marker": {
          "color": "#FFA15A",
          "symbol": "circle"
         },
         "mode": "markers",
         "name": "Lethal",
         "showlegend": true,
         "type": "scattergl",
         "x": {
          "bdata": "8DM64zhv8b8=",
          "dtype": "f8"
         },
         "xaxis": "x",
         "y": {
          "bdata": "NDuH0Qjfwz8=",
          "dtype": "f8"
         },
         "yaxis": "y"
        },
        {
         "hovertemplate": "<b>%{hovertext}</b><br><br>Brand=Gamesense<br>แกนคุณลักษณะหลักที่ 1 (PC1)=%{x}<br>แกนคุณลักษณะหลักที่ 2 (PC2)=%{y}<extra></extra>",
         "hovertext": [
          "MVP Wired",
          "MVP Wireless",
          "META Wired"
         ],
         "legendgroup": "Gamesense",
         "marker": {
          "color": "#19d3f3",
          "symbol": "circle"
         },
         "mode": "markers",
         "name": "Gamesense",
         "showlegend": true,
         "type": "scattergl",
         "x": {
          "bdata": "scRNVodAyb+ASM8ne92jPymvhRliY+y/",
          "dtype": "f8"
         },
         "xaxis": "x",
         "y": {
          "bdata": "ZFyse1d/sL991XLV/ZjUv/S+pxN5KPC/",
          "dtype": "f8"
         },
         "yaxis": "y"
        },
        {
         "hovertemplate": "<b>%{hovertext}</b><br><br>Brand=Dream<br>แกนคุณลักษณะหลักที่ 1 (PC1)=%{x}<br>แกนคุณลักษณะหลักที่ 2 (PC2)=%{y}<extra></extra>",
         "hovertext": [
          "Machines DM1 FPS",
          "Machines DM2 Comfy S",
          "Machines DM4 Evo",
          "Machines DM4 Evo S",
          "Machines DM5 Blink",
          "Machines DM6 Holey S",
          "Machines DM6 Holey",
          "Machines DM6 Duo",
          "Machines DM6 Trio"
         ],
         "legendgroup": "Dream",
         "marker": {
          "color": "#FF6692",
          "symbol": "circle"
         },
         "mode": "markers",
         "name": "Dream",
         "showlegend": true,
         "type": "scattergl",
         "x": {
          "bdata": "Bg70T/uP3D+HCIAqh2UNQBmgeYQUvwBAqIbIUeNUAEDeGc3DwrECQL5W3MZuv/g/QkVfo5za+T8u3Eq6Z3f8P2IqZVJqYfw/",
          "dtype": "f8"
         },
         "xaxis": "x",
         "y": {
          "bdata": "cj54KXGe37+Sek75yE/mPyvCvucM59e/9ygrA8oE0b+Y4jSOXUSyv9V9FqVYaN0/Olz8Hqo61D8JkaW2cQLLP9ujJTFCNdE/",
          "dtype": "f8"
         },
         "yaxis": "y"
        }
       ],
       "layout": {
        "legend": {
         "title": {
          "text": "Brand"
         },
         "tracegroupgap": 0
        },
        "template": {
         "data": {
          "bar": [
           {
            "error_x": {
             "color": "#2a3f5f"
            },
            "error_y": {
             "color": "#2a3f5f"
            },
            "marker": {
             "line": {
              "color": "#E5ECF6",
              "width": 0.5
             },
             "pattern": {
              "fillmode": "overlay",
              "size": 10,
              "solidity": 0.2
             }
            },
            "type": "bar"
           }
          ],
          "barpolar": [
           {
            "marker": {
             "line": {
              "color": "#E5ECF6",
              "width": 0.5
             },
             "pattern": {
              "fillmode": "overlay",
              "size": 10,
              "solidity": 0.2
             }
            },
            "type": "barpolar"
           }
          ],
          "carpet": [
           {
            "aaxis": {
             "endlinecolor": "#2a3f5f",
             "gridcolor": "white",
             "linecolor": "white",
             "minorgridcolor": "white",
             "startlinecolor": "#2a3f5f"
            },
            "baxis": {
             "endlinecolor": "#2a3f5f",
             "gridcolor": "white",
             "linecolor": "white",
             "minorgridcolor": "white",
             "startlinecolor": "#2a3f5f"
            },
            "type": "carpet"
           }
          ],
          "choropleth": [
           {
            "colorbar": {
             "outlinewidth": 0,
             "ticks": ""
            },
            "type": "choropleth"
           }
          ],
          "contour": [
           {
            "colorbar": {
             "outlinewidth": 0,
             "ticks": ""
            },
            "colorscale": [
             [
              0.0,
              "#0d0887"
             ],
             [
              0.1111111111111111,
              "#46039f"
             ],
             [
              0.2222222222222222,
              "#7201a8"
             ],
             [
              0.3333333333333333,
              "#9c179e"
             ],
             [
              0.4444444444444444,
              "#bd3786"
             ],
             [
              0.5555555555555556,
              "#d8576b"
             ],
             [
              0.6666666666666666,
              "#ed7953"
             ],
             [
              0.7777777777777778,
              "#fb9f3a"
             ],
             [
              0.8888888888888888,
              "#fdca26"
             ],
             [
              1.0,
              "#f0f921"
             ]
            ],
            "type": "contour"
           }
          ],
          "contourcarpet": [
           {
            "colorbar": {
             "outlinewidth": 0,
             "ticks": ""
            },
            "type": "contourcarpet"
           }
          ],
          "heatmap": [
           {
            "colorbar": {
             "outlinewidth": 0,
             "ticks": ""
            },
            "colorscale": [
             [
              0.0,
              "#0d0887"
             ],
             [
              0.1111111111111111,
              "#46039f"
             ],
             [
              0.2222222222222222,
              "#7201a8"
             ],
             [
              0.3333333333333333,
              "#9c179e"
             ],
             [
              0.4444444444444444,
              "#bd3786"
             ],
             [
              0.5555555555555556,
              "#d8576b"
             ],
             [
              0.6666666666666666,
              "#ed7953"
             ],
             [
              0.7777777777777778,
              "#fb9f3a"
             ],
             [
              0.8888888888888888,
              "#fdca26"
             ],
             [
              1.0,
              "#f0f921"
             ]
            ],
            "type": "heatmap"
           }
          ],
          "histogram": [
           {
            "marker": {
             "pattern": {
              "fillmode": "overlay",
              "size": 10,
              "solidity": 0.2
             }
            },
            "type": "histogram"
           }
          ],
          "histogram2d": [
           {
            "colorbar": {
             "outlinewidth": 0,
             "ticks": ""
            },
            "colorscale": [
             [
              0.0,
              "#0d0887"
             ],
             [
              0.1111111111111111,
              "#46039f"
             ],
             [
              0.2222222222222222,
              "#7201a8"
             ],
             [
              0.3333333333333333,
              "#9c179e"
             ],
             [
              0.4444444444444444,
              "#bd3786"
             ],
             [
              0.5555555555555556,
              "#d8576b"
             ],
             [
              0.6666666666666666,
              "#ed7953"
             ],
             [
              0.7777777777777778,
              "#fb9f3a"
             ],
             [
              0.8888888888888888,
              "#fdca26"
             ],
             [
              1.0,
              "#f0f921"
             ]
            ],
            "type": "histogram2d"
           }
          ],
          "histogram2dcontour": [
           {
            "colorbar": {
             "outlinewidth": 0,
             "ticks": ""
            },
            "colorscale": [
             [
              0.0,
              "#0d0887"
             ],
             [
              0.1111111111111111,
              "#46039f"
             ],
             [
              0.2222222222222222,
              "#7201a8"
             ],
             [
              0.3333333333333333,
              "#9c179e"
             ],
             [
              0.4444444444444444,
              "#bd3786"
             ],
             [
              0.5555555555555556,
              "#d8576b"
             ],
             [
              0.6666666666666666,
              "#ed7953"
             ],
             [
              0.7777777777777778,
              "#fb9f3a"
             ],
             [
              0.8888888888888888,
              "#fdca26"
             ],
             [
              1.0,
              "#f0f921"
             ]
            ],
            "type": "histogram2dcontour"
           }
          ],
          "mesh3d": [
           {
            "colorbar": {
             "outlinewidth": 0,
             "ticks": ""
            },
            "type": "mesh3d"
           }
          ],
          "parcoords": [
           {
            "line": {
             "colorbar": {
              "outlinewidth": 0,
              "ticks": ""
             }
            },
            "type": "parcoords"
           }
          ],
          "pie": [
           {
            "automargin": true,
            "type": "pie"
           }
          ],
          "scatter": [
           {
            "fillpattern": {
             "fillmode": "overlay",
             "size": 10,
             "solidity": 0.2
            },
            "type": "scatter"
           }
          ],
          "scatter3d": [
           {
            "line": {
             "colorbar": {
              "outlinewidth": 0,
              "ticks": ""
             }
            },
            "marker": {
             "colorbar": {
              "outlinewidth": 0,
              "ticks": ""
             }
            },
            "type": "scatter3d"
           }
          ],
          "scattercarpet": [
           {
            "marker": {
             "colorbar": {
              "outlinewidth": 0,
              "ticks": ""
             }
            },
            "type": "scattercarpet"
           }
          ],
          "scattergeo": [
           {
            "marker": {
             "colorbar": {
              "outlinewidth": 0,
              "ticks": ""
             }
            },
            "type": "scattergeo"
           }
          ],
          "scattergl": [
           {
            "marker": {
             "colorbar": {
              "outlinewidth": 0,
              "ticks": ""
             }
            },
            "type": "scattergl"
           }
          ],
          "scattermap": [
           {
            "marker": {
             "colorbar": {
              "outlinewidth": 0,
              "ticks": ""
             }
            },
            "type": "scattermap"
           }
          ],
          "scattermapbox": [
           {
            "marker": {
             "colorbar": {
              "outlinewidth": 0,
              "ticks": ""
             }
            },
            "type": "scattermapbox"
           }
          ],
          "scatterpolar": [
           {
            "marker": {
             "colorbar": {
              "outlinewidth": 0,
              "ticks": ""
             }
            },
            "type": "scatterpolar"
           }
          ],
          "scatterpolargl": [
           {
            "marker": {
             "colorbar": {
              "outlinewidth": 0,
              "ticks": ""
             }
            },
            "type": "scatterpolargl"
           }
          ],
          "scatterternary": [
           {
            "marker": {
             "colorbar": {
              "outlinewidth": 0,
              "ticks": ""
             }
            },
            "type": "scatterternary"
           }
          ],
          "surface": [
           {
            "colorbar": {
             "outlinewidth": 0,
             "ticks": ""
            },
            "colorscale": [
             [
              0.0,
              "#0d0887"
             ],
             [
              0.1111111111111111,
              "#46039f"
             ],
             [
              0.2222222222222222,
              "#7201a8"
             ],
             [
              0.3333333333333333,
              "#9c179e"
             ],
             [
              0.4444444444444444,
              "#bd3786"
             ],
             [
              0.5555555555555556,
              "#d8576b"
             ],
             [
              0.6666666666666666,
              "#ed7953"
             ],
             [
              0.7777777777777778,
              "#fb9f3a"
             ],
             [
              0.8888888888888888,
              "#fdca26"
             ],
             [
              1.0,
              "#f0f921"
             ]
            ],
            "type": "surface"
           }
          ],
          "table": [
           {
            "cells": {
             "fill": {
              "color": "#EBF0F8"
             },
             "line": {
              "color": "white"
             }
            },
            "header": {
             "fill": {
              "color": "#C8D4E3"
             },
             "line": {
              "color": "white"
             }
            },
            "type": "table"
           }
          ]
         },
         "layout": {
          "annotationdefaults": {
           "arrowcolor": "#2a3f5f",
           "arrowhead": 0,
           "arrowwidth": 1
          },
          "autotypenumbers": "strict",
          "coloraxis": {
           "colorbar": {
            "outlinewidth": 0,
            "ticks": ""
           }
          },
          "colorscale": {
           "diverging": [
            [
             0,
             "#8e0152"
            ],
            [
             0.1,
             "#c51b7d"
            ],
            [
             0.2,
             "#de77ae"
            ],
            [
             0.3,
             "#f1b6da"
            ],
            [
             0.4,
             "#fde0ef"
            ],
            [
             0.5,
             "#f7f7f7"
            ],
            [
             0.6,
             "#e6f5d0"
            ],
            [
             0.7,
             "#b8e186"
            ],
            [
             0.8,
             "#7fbc41"
            ],
            [
             0.9,
             "#4d9221"
            ],
            [
             1,
             "#276419"
            ]
           ],
           "sequential": [
            [
             0.0,
             "#0d0887"
            ],
            [
             0.1111111111111111,
             "#46039f"
            ],
            [
             0.2222222222222222,
             "#7201a8"
            ],
            [
             0.3333333333333333,
             "#9c179e"
            ],
            [
             0.4444444444444444,
             "#bd3786"
            ],
            [
             0.5555555555555556,
             "#d8576b"
            ],
            [
             0.6666666666666666,
             "#ed7953"
            ],
            [
             0.7777777777777778,
             "#fb9f3a"
            ],
            [
             0.8888888888888888,
             "#fdca26"
            ],
            [
             1.0,
             "#f0f921"
            ]
           ],
           "sequentialminus": [
            [
             0.0,
             "#0d0887"
            ],
            [
             0.1111111111111111,
             "#46039f"
            ],
            [
             0.2222222222222222,
             "#7201a8"
            ],
            [
             0.3333333333333333,
             "#9c179e"
            ],
            [
             0.4444444444444444,
             "#bd3786"
            ],
            [
             0.5555555555555556,
             "#d8576b"
            ],
            [
             0.6666666666666666,
             "#ed7953"
            ],
            [
             0.7777777777777778,
             "#fb9f3a"
            ],
            [
             0.8888888888888888,
             "#fdca26"
            ],
            [
             1.0,
             "#f0f921"
            ]
           ]
          },
          "colorway": [
           "#636efa",
           "#EF553B",
           "#00cc96",
           "#ab63fa",
           "#FFA15A",
           "#19d3f3",
           "#FF6692",
           "#B6E880",
           "#FF97FF",
           "#FECB52"
          ],
          "font": {
           "color": "#2a3f5f"
          },
          "geo": {
           "bgcolor": "white",
           "lakecolor": "white",
           "landcolor": "#E5ECF6",
           "showlakes": true,
           "showland": true,
           "subunitcolor": "white"
          },
          "hoverlabel": {
           "align": "left"
          },
          "hovermode": "closest",
          "mapbox": {
           "style": "light"
          },
          "paper_bgcolor": "white",
          "plot_bgcolor": "#E5ECF6",
          "polar": {
           "angularaxis": {
            "gridcolor": "white",
            "linecolor": "white",
            "ticks": ""
           },
           "bgcolor": "#E5ECF6",
           "radialaxis": {
            "gridcolor": "white",
            "linecolor": "white",
            "ticks": ""
           }
          },
          "scene": {
           "xaxis": {
            "backgroundcolor": "#E5ECF6",
            "gridcolor": "white",
            "gridwidth": 2,
            "linecolor": "white",
            "showbackground": true,
            "ticks": "",
            "zerolinecolor": "white"
           },
           "yaxis": {
            "backgroundcolor": "#E5ECF6",
            "gridcolor": "white",
            "gridwidth": 2,
            "linecolor": "white",
            "showbackground": true,
            "ticks": "",
            "zerolinecolor": "white"
           },
           "zaxis": {
            "backgroundcolor": "#E5ECF6",
            "gridcolor": "white",
            "gridwidth": 2,
            "linecolor": "white",
            "showbackground": true,
            "ticks": "",
            "zerolinecolor": "white"
           }
          },
          "shapedefaults": {
           "line": {
            "color": "#2a3f5f"
           }
          },
          "ternary": {
           "aaxis": {
            "gridcolor": "white",
            "linecolor": "white",
            "ticks": ""
           },
           "baxis": {
            "gridcolor": "white",
            "linecolor": "white",
            "ticks": ""
           },
           "bgcolor": "#E5ECF6",
           "caxis": {
            "gridcolor": "white",
            "linecolor": "white",
            "ticks": ""
           }
          },
          "title": {
           "x": 0.05
          },
          "xaxis": {
           "automargin": true,
           "gridcolor": "white",
           "linecolor": "white",
           "ticks": "",
           "title": {
            "standoff": 15
           },
           "zerolinecolor": "white",
           "zerolinewidth": 2
          },
          "yaxis": {
           "automargin": true,
           "gridcolor": "white",
           "linecolor": "white",
           "ticks": "",
           "title": {
            "standoff": 15
           },
           "zerolinecolor": "white",
           "zerolinewidth": 2
          }
         }
        },
        "title": {
         "text": "ผลการวิเคราะห์ PCA ของข้อมูลเมาส์"
        },
        "xaxis": {
         "anchor": "y",
         "domain": [
          0.0,
          1.0
         ],
         "title": {
          "text": "แกนคุณลักษณะหลักที่ 1 (PC1)"
         }
        },
        "yaxis": {
         "anchor": "x",
         "domain": [
          0.0,
          1.0
         ],
         "title": {
          "text": "แกนคุณลักษณะหลักที่ 2 (PC2)"
         }
        }
       }
      }
     },
     "metadata": {},
     "output_type": "display_data"
    }
   ],
   "source": [
    "# สร้างกราฟ Scatter Plot แบบ Interactive ด้วย Plotly\n",
    "fig = px.scatter(\n",
    "    df_pca,\n",
    "    x='PC1',\n",
    "    y='PC2',\n",
    "    color='Brand', # แยกสีตามยี่ห้อ\n",
    "    hover_name='Model', # เมื่อเอาเมาส์ไปชี้จะแสดงชื่อรุ่น\n",
    "    title='ผลการวิเคราะห์ PCA ของข้อมูลเมาส์',\n",
    "    labels={'PC1': 'แกนคุณลักษณะหลักที่ 1 (PC1)', 'PC2': 'แกนคุณลักษณะหลักที่ 2 (PC2)'}\n",
    ")\n",
    "\n",
    "fig.show()"
   ]
  },
  {
   "cell_type": "markdown",
   "id": "b80f6c3b",
   "metadata": {},
   "source": [
    "#  **Find Similar Mouse using Cosine Similarity**"
   ]
  },
  {
   "cell_type": "code",
   "execution_count": 6,
   "id": "1720b926",
   "metadata": {
    "execution": {
     "iopub.execute_input": "2025-10-14T02:56:19.832776Z",
     "iopub.status.busy": "2025-10-14T02:56:19.832776Z",
     "iopub.status.idle": "2025-10-14T02:56:19.858908Z",
     "shell.execute_reply": "2025-10-14T02:56:19.858908Z"
    }
   },
   "outputs": [
    {
     "name": "stdout",
     "output_type": "stream",
     "text": [
      "คลังเมาส์ของฉัน:\n",
      "          PC1       PC2                         Model   Brand\n",
      "6   -1.812402  0.887065                     Susanto-X  Pulsar\n",
      "152 -1.496731  1.485352                        Y2 Pro     VGN\n",
      "501 -2.056864  1.259486                   MAD R Major     VXE\n",
      "983 -1.778022  0.876592  Viper Mini Signature Edition   Razer\n",
      "\n",
      "จุดศูนย์กลาง (Ideal Profile) ในแกน PCA: [-1.78600473  1.12712374]\n",
      "\n",
      "--- 5 อันดับเมาส์แนะนำที่ใกล้เคียงกับสไตล์ของคุณที่สุด ---\n",
      "                      Model   Brand  Cosine_Similarity_to_Ideal\n",
      "149  Miao AM Infinity Mouse   Angry                    1.000000\n",
      "221                 A9 Plus     ATK                    1.000000\n",
      "401              JI E-YOOSO     HUO                    0.999999\n",
      "504                Shark R2  Attack                    0.999985\n",
      "135             ZEN 8K Mini     PMM                    0.999977\n"
     ]
    },
    {
     "data": {
      "application/vnd.plotly.v1+json": {
       "config": {
        "plotlyServerURL": "https://plot.ly"
       },
       "data": [
        {
         "hovertemplate": "<b>%{hovertext}</b><br><br>Brand=AJAZZ<br>แกนคุณลักษณะหลักที่ 1 (PC1)=%{x}<br>แกนคุณลักษณะหลักที่ 2 (PC2)=%{y}<extra></extra>",
         "hovertext": [
          "T520 Max",
          "T520",
          "AJ179 V2 Max",
          "AJ179 V2",
          "AM3 Max",
          "AM3 Pro",
          "AJ179 APEX",
          "AJ179 PRO",
          "AJ179P",
          "AJ179",
          "M259",
          "AJ159APEX",
          "AJ159 PRO",
          "AJ159P",
          "AJ159",
          "AJ199 MC",
          "AJ199 Pro 4K",
          "AJ199 4K",
          "AJ139 Pro 4K",
          "AJ099",
          "AJ139 Pro",
          "AJ199"
         ],
         "legendgroup": "AJAZZ",
         "marker": {
          "color": "#636efa",
          "symbol": "circle"
         },
         "mode": "markers",
         "name": "AJAZZ",
         "showlegend": true,
         "type": "scattergl",
         "x": {
          "bdata": "Cd0iRbb07b/aUolOB5XovzBqwxvxsfg/SPWmU0Qj9j+pBKdXYUwEwKkEp1dhTATA2IUukUL8sD+1iXps7vHVP9dHjbDIguk/10eNsMiC6T8LCbqvwKPuP+Sc2G5/EP6/1eLM/Mej+b9W4aQ/317yv1bhpD/fXvK/z2uea31f8b/J6znCgyHYP6Iokumie/K/xX7PexDZ6r+3fO8rsszmv7Pn2whdRem/tPwqNv5a8b8=",
          "dtype": "f8"
         },
         "xaxis": "x",
         "y": {
          "bdata": "JZSy53n/0L+jG1p2+Nblv26N5XDsaek/IAOhl+TB7j9awOf+bEzGP1rA5/5sTMY/y9WaxNcW/j8ztIA+Ken0PxXqlNAjfOc/FeqU0CN85z8mRSOZQ5rhP8Us70bYHPA/rSxUA6e82z/unwmrbN/Bv+6fCats38G/lelX2lEo2r8Q++4QHOfoP5Ll3uHKJ8O/nBhPojgdxz+iDfa5qYrev9MmTTvfP7k/cQC2fOkX0L8=",
          "dtype": "f8"
         },
         "yaxis": "y"
        },
        {
         "hovertemplate": "<b>%{hovertext}</b><br><br>Brand=MCHOSE<br>แกนคุณลักษณะหลักที่ 1 (PC1)=%{x}<br>แกนคุณลักษณะหลักที่ 2 (PC2)=%{y}<extra></extra>",
         "hovertext": [
          "G3 V2 Pro",
          "G3 V2",
          "G3 A",
          "A5 V2 Ultra",
          "L7 Ultra+",
          "L7 Pro+",
          "K7 Ultra",
          "G7 Max",
          "G7 Pro",
          "G7",
          "M7 Ultra",
          "AX5 V2",
          "L7 Ultra",
          "L7 Pro",
          "L7",
          "A7 Ultra",
          "A7 Pro",
          "A7",
          "M7 Pro",
          "M7",
          "G3 Ultra",
          "G3 Max",
          "G3 Pro",
          "G3",
          "G3 SE",
          "A5 Ultra",
          "AX5 Pro Max",
          "AX5 Pro",
          "AX5",
          "A5 Pro Max",
          "A5 Pro",
          "A5"
         ],
         "legendgroup": "MCHOSE",
         "marker": {
          "color": "#EF553B",
          "symbol": "circle"
         },
         "mode": "markers",
         "name": "MCHOSE",
         "showlegend": true,
         "type": "scattergl",
         "x": {
          "bdata": "HSE4pSCW8b+fvNtCAG7rv5J/mVFac+e/GpbfE49v+r9GVYAxRwUAwNSRnzLPzPy/7JhB+4N+87/WeZD7FVz4P2ibfo6kNf4/EV9Bng/AAUAcVAk8PVT2vyhQ64VG3P6/U1vigtvsBcBKftzJf7YDwEp+3Ml/tgPAF0GzQctH9b8Hh6fPE9vwv3RTY8m1//G/DZr9yYXn8b9dRpBqoKryvxYEv2m23fa/FgS/abbd9r8CG0tAQzDxv5J/mVFac+e/a7ABeUWi6r+0nH4lknP4v5RhWRAo1fq/TIVCpMet9r83symWK0T4vzWbVmipLvG/NZtWaKku8b+m/cNddF/yvw==",
          "dtype": "f8"
         },
         "xaxis": "x",
         "y": {
          "bdata": "KdvWIRFc0L9jKJn7+T3ovxF2alTg2ey/yF8/Mbys4T82fSRi2yn1P7MYNNGGr+o/+sr4Faqr+D/QQQ9rf1gBQNno/Lue8vo/D2eRyu598T9unf/RExT4P3vRuZ4MBPI/veVg8zQ58j9MiI3aDBfiP0yIjdoMF+I/Am4+obsP9z/UmEg2GsTrP+FL0LUCSe4/rPfKl8rM7T9gL6dDznrvPzwMvwr/MMY/PAy/Cv8wxj+hYPfeBjTSvxF2alTg2ey/H2sp2vQp6b+Xgs5Nqi7aP6syhGZql+I/RGeMLA060D9v/rLWfo/XPyL0FBZm+8S/IvQUFmb7xL/AIrYtd/azvw==",
          "dtype": "f8"
         },
         "yaxis": "y"
        },
        {
         "hovertemplate": "<b>%{hovertext}</b><br><br>Brand=G-Wolves<br>แกนคุณลักษณะหลักที่ 1 (PC1)=%{x}<br>แกนคุณลักษณะหลักที่ 2 (PC2)=%{y}<extra></extra>",
         "hovertext": [
          "Fenrir Pro 8K",
          "HTX Ultra 8K",
          "VUK",
          "HTM Plus 8K",
          "HT-S2 Pro 8K",
          "Fenrir Max 8K",
          "Fenrir Asym 8K",
          "HTS Ultra 8K",
          "HTX Mini 8K",
          "HTS Plus 8K",
          "HTR Pro 8K",
          "HT-S2 8K",
          "HTR 8K",
          "HTS Ace Wireless",
          "HTM Ace",
          "HSK Plus 4K",
          "HSK Plus Lite",
          "HTX 4K",
          "HTX Ace",
          "HSK Pro 4K",
          "HSK Pro Ace",
          "HTS Plus 4K",
          "HTS",
          "HTS Wireless",
          "HSK",
          "HSK Plus",
          "HTS Plus",
          "HTM Wireless",
          "HTM",
          "Skoll Mini",
          "Skoll"
         ],
         "legendgroup": "G-Wolves",
         "marker": {
          "color": "#00cc96",
          "symbol": "circle"
         },
         "mode": "markers",
         "name": "G-Wolves",
         "showlegend": true,
         "type": "scattergl",
         "x": {
          "bdata": "DLPSpt+5E8B/817A9XsBwNDjN5bCyfy/xHJYCum9/b9zXCRC5ecGwKooGQ6V/xLAU5x/7vdPEsDODf3mPbgDwKs/VJgZLAnAtpCOdkxw/b/lJBQr1MsQwG++m9AmjgXAp/NcB37LD8DeW7Ap5rHxvzEi7CciqOG/Q+joVnIvCsDFIv7IS8wHwKYSAeYTz/2/eREP52Xm+795Zv/Kd8gSwBWICdGPmRLAaOjnzr5w9r+qWnUY8370vxmPbG9pufG/YdAWDRslDMD1xG0N5qgHwFDU+daNcfO/JYe8wj1o17/BMg4C8zzJv/6PSuvJAeA/yl/+TDcT/D8=",
          "dtype": "f8"
         },
         "xaxis": "x",
         "y": {
          "bdata": "mKQ7bTcD379A1KKBjA/1P6hew2qbpfg/B+BQocM5+T835OlxdhHxP6+FqEbCHOa/0MNP3NTn57+eGtNyZtzzP7QeTSkYDOM/7uuMxibc6D8y0J38OC7MvyyATOjOh+Q/KhISkjcSwr+K/wBjX2TjvwXnwPImVbQ/cpnr1IR07b/42NZKSRn2v7AgJM5CCOA/VutGxIEA1j8x/8ynUCUAwB9sj1IpOgDAwI5wucUYwz/BoAltJ7rZv46JkUbB0OG/Wk6yWGkKAcARezgzJKz2v6zTWZb9lrq/CJuLU3Ems79NYJi9YjPYvzsEjpooLdc/faIAZP164D8=",
          "dtype": "f8"
         },
         "yaxis": "y"
        },
        {
         "hovertemplate": "<b>%{hovertext}</b><br><br>Brand=Pulsar<br>แกนคุณลักษณะหลักที่ 1 (PC1)=%{x}<br>แกนคุณลักษณะหลักที่ 2 (PC2)=%{y}<extra></extra>",
         "hovertext": [
          "Susanto-X",
          "Pro Series JV-X",
          "Xlite CrazyLight",
          "X2F",
          "ZywOo The Chosen Mouse - Mini",
          "ZywOo The Chosen Mouse - Medium",
          "Xlite v4 eS Mini",
          "Xlite v4 eS Medium",
          "X2H v3 eS Mini",
          "X2H v3 eS",
          "TenZ Signature Edition",
          "X2A v3 eS Mini",
          "X2 v3 eS Mini",
          "X2 v3 Mini",
          "X2 CrazyLight",
          "X2H v3 Mini",
          "X2H v3",
          "X2A v3",
          "X2 v3",
          "Xlite v4 Large",
          "X2A Wired",
          "X2 Wired",
          "Feinmann F01",
          "Xlite v4 Medium",
          "Xlite v4 Mini",
          "Xlite Wired",
          "Xlite V2 Mini Wireless",
          "Xlite Wireless",
          "Xlite",
          "Xlite V2 Wireless",
          "X2H Wired",
          "X3",
          "X3 Mini",
          "X3 LHD",
          "X3 LHD Mini",
          "X2A eS",
          "X2H eS",
          "Xlite v3 Large",
          "Xlite v3 Mini",
          "Xlite v3 Medium",
          "Xlite v3 eS",
          "X2A Mini",
          "X2A",
          "X2H Mini",
          "X2H",
          "X2V2 Mini",
          "X2V2",
          "X2 Mini",
          "X2"
         ],
         "legendgroup": "Pulsar",
         "marker": {
          "color": "#ab63fa",
          "symbol": "circle"
         },
         "mode": "markers",
         "name": "Pulsar",
         "showlegend": true,
         "type": "scattergl",
         "x": {
          "bdata": "I3QKPpn//L+OWE7s51Klv4VMzxBV2d6/ne7W/P7FDsCDM0/rl2qeP08uW3of++U/Cu+7NhrYcD+5/1MN2bfqP7M6O5EuCPq/84gM1CMc8r8euxYzAmf4v03dEkrGtPy/VQg9QQ2//r9mc/P/WAEBwNlRnb79RATAFrE2gg9A/7+ESbppOrz2vzSZoN2Vhvm/qMsEhzUa+796o385QAbzP40+DUDQ/fC/nn3K01f28r+vg45xLqRMvw6SBlGo+98/Jb3JG3x5y7+GooP5NC/wPx5sQASUreE/qQmHBaqO8z8qr8sJda7vP6kJhwWqjvM/A1qA9csn7b+8X9SZAADtPwtzmegkess/vF/UmQAA7T8Lc5noJHrLPxOcrxbyIvO/UZOzrmSb8b++CmzB7fP7P3m+zBH4+dU/akCD7UhL8T9Gy9yiYgnuP0uQpRgyc/e/8DG0VeiY8L8aaJlxn+v1v7t5qarA1+q/hn/6dwQV+b9kZBj/hyzyv7ZDJeCPrPi/jT4NQND98L8=",
          "dtype": "f8"
         },
         "xaxis": "x",
         "y": {
          "bdata": "1DjuLtVi7D838Pwvb2P3PxIRupIas/s/WFsjLmB8578HvOfmtID3P5+hd/ROov0/kI4+1XDr8j/JcVfp0+r7P78pyllRutI/YmQCs1FE5z9fJSwRZlD0PzEMIKjDM8I/ZrpEOKnP0j88un8fdCzhPyc6HZPZWvA/YvqxqXuR5T8NCiOj8MzwP1ElQCkUGec/H57Mrli26j8xOM20XaECQA9AzWXEgKO/BRiWBEtkuj+2sw8+wy3+Pyslw2VDa/8/5CK2nePe9j/dfrbTJJjzPxuqDiMvmtc/N09HmNgz6T9NKKELZpLwPzdPR5jYM+k/at738Lk01D+3B6dTqK8BQLiw6dZT3f0/twenU6ivAUC4sOnWU939P86GHNAOfMU/Hbc/s3L34j+cZBqhgqb4P0MubKpVheQ/r2YJgn1q8j8vpQ13snn4P50XXmaa3Ne/qJH/Pev6sL8CRcY5LF3CvxYNrE7kE84/kboA4/oX0L+Tacjccd6nP9UR2MMiCdK/D0DNZcSAo78=",
          "dtype": "f8"
         },
         "yaxis": "y"
        },
        {
         "hovertemplate": "<b>%{hovertext}</b><br><br>Brand=Dark<br>แกนคุณลักษณะหลักที่ 1 (PC1)=%{x}<br>แกนคุณลักษณะหลักที่ 2 (PC2)=%{y}<extra></extra>",
         "hovertext": [
          "Project Novus Pro",
          "Project Novus",
          "Project Novus SE",
          "Project Nexus Ultra",
          "Project Nexus"
         ],
         "legendgroup": "Dark",
         "marker": {
          "color": "#FFA15A",
          "symbol": "circle"
         },
         "mode": "markers",
         "name": "Dark",
         "showlegend": true,
         "type": "scattergl",
         "x": {
          "bdata": "FWe6FNlz9L9R3foIlCjqvy3LJK/gXeq/8VisHD2N8799Vuj4TnXrvw==",
          "dtype": "f8"
         },
         "xaxis": "x",
         "y": {
          "bdata": "u0o6wJFB8j/YdyYjUkfiPygXCNT0LOI/dppgMmuR9D+tBp9EDCToPw==",
          "dtype": "f8"
         },
         "yaxis": "y"
        },
        {
         "hovertemplate": "<b>%{hovertext}</b><br><br>Brand=Chaos<br>แกนคุณลักษณะหลักที่ 1 (PC1)=%{x}<br>แกนคุณลักษณะหลักที่ 2 (PC2)=%{y}<extra></extra>",
         "hovertext": [
          "M3 Mini"
         ],
         "legendgroup": "Chaos",
         "marker": {
          "color": "#19d3f3",
          "symbol": "circle"
         },
         "mode": "markers",
         "name": "Chaos",
         "showlegend": true,
         "type": "scattergl",
         "x": {
          "bdata": "eaq0wM8W/78=",
          "dtype": "f8"
         },
         "xaxis": "x",
         "y": {
          "bdata": "yGHLxIkA6D8=",
          "dtype": "f8"
         },
         "yaxis": "y"
        },
        {
         "hovertemplate": "<b>%{hovertext}</b><br><br>Brand=Attack<br>แกนคุณลักษณะหลักที่ 1 (PC1)=%{x}<br>แกนคุณลักษณะหลักที่ 2 (PC2)=%{y}<extra></extra>",
         "hovertext": [
          "Shark V5",
          "Shark R11 Ultra",
          "Shark X8 Ultra",
          "Shark X11 SE",
          "Shark X8 SE",
          "Shark X8 Pro",
          "Shark X8 Plus",
          "Shark G3 Pro",
          "Shark G3",
          "Shark X1",
          "Shark R5 Ultra",
          "Shark R6",
          "Shark X3 Max",
          "Shark R2",
          "Shark X11",
          "Shark R3",
          "Shark R1",
          "Shark X3 Pro",
          "Shark X6",
          "Shark X3"
         ],
         "legendgroup": "Attack",
         "marker": {
          "color": "#FF6692",
          "symbol": "circle"
         },
         "mode": "markers",
         "name": "Attack",
         "showlegend": true,
         "type": "scattergl",
         "x": {
          "bdata": "bhhZLuXS+r/6sh0OuAH6vw4zwa2F7fa/J7Me4YuA17/Ad9kONOrlv8y7f7/uX/a/nXSvBAw27r81K09d/WbyvzUrT139ZvK/mhkcgm1A979+4ZV11ugDwE88tZhaJgTAY6yv4XP++L+Bg9Zi8EUBwG68I0oIetG/dyyKHYPXAMDIObiErjbwP+YzlZUx5fe/WkDiLv359r9V8qNvvJH0vw==",
          "dtype": "f8"
         },
         "xaxis": "x",
         "y": {
          "bdata": "KAK2kO9R9T/BXN4gIlj5P/2yMZJdrfg/LzviKhcp0z+LwP418wbXP8lubsGnh/c/RF9w1iC57D8ZLpJTXo/VvxkuklNej9W/xHi/2q/54D8jfaF1ujj2P4b1n8A2//U/Ylmb8IY95z9YFuoM3Ir1P/hsTC8lO8k/ZZtg9Zc+4T8ICjo+bYjhPzPftbKJWtw/04V6J389lb/AWJyRp4jDPw==",
          "dtype": "f8"
         },
         "yaxis": "y"
        },
        {
         "hovertemplate": "<b>%{hovertext}</b><br><br>Brand=LAMZU<br>แกนคุณลักษณะหลักที่ 1 (PC1)=%{x}<br>แกนคุณลักษณะหลักที่ 2 (PC2)=%{y}<extra></extra>",
         "hovertext": [
          "MAYA Champion Edition",
          "x REJECT Paro Reject Special Edition",
          "Paro Aurora",
          "x Aimlabs MAYA X",
          "Inca",
          "Tachi",
          "MAYA X",
          "x Fnatic MAYA X 8K",
          "x Fnatic MAYA 8K",
          "Paro",
          "Atlantis Mini Champion",
          "MAYA 4K",
          "x Fnatic Thorn 4K",
          "Thorn 4K",
          "Atlantis Mini 4K",
          "Atlantis Mini Pro",
          "Atlantis OG V2 4K",
          "Atlantis OG V2 Pro",
          "MAYA",
          "Atlantis OG V2",
          "Thorn",
          "Atlantis Mini",
          "Atlantis"
         ],
         "legendgroup": "LAMZU",
         "marker": {
          "color": "#B6E880",
          "symbol": "circle"
         },
         "mode": "markers",
         "name": "LAMZU",
         "showlegend": true,
         "type": "scattergl",
         "x": {
          "bdata": "Bu6G7y6F/7/+zSH2tymsv/7NIfa3Kay/PGQwthV79b9zE0ZuMmn7v9mGJ0I+IPy/PGQwthV79b9upexQfj32vwbuhu8uhf+/BQrwaA7wjD+mXAX2Ym7+vzoj7aagQvq/iv0XFWbF4D+K/RcVZsXgP0c+lAt7+fm/EhmDuvLb9r+faifh0CXuvzMgBT/A6ue/A/7bVRgl978zIAU/wOrnv/VHOrd2AOc/rPedeGLs9L8zIAU/wOrnvw==",
          "dtype": "f8"
         },
         "xaxis": "x",
         "y": {
          "bdata": "BMAf4Jzf7D8eIrE8Fon6Px4isTwWifo/9crb3I1b9T8QXYh5c/r1P4SO0pIxCOw/9crb3I1b9T9CrUfY3jD2PwTAH+Cc3+w/uJkqm6o9+D/gLSIiW23jP1tgqZnDnNs/qhEIfTh18z+qEQh9OHXzP7D0BTGx9cg/tyHQ/ujlqb9ckLnLVTfgPygiFt8Vt9A/lsOYwlvKxz8oIhbfFbfQPw6k4R2mDu8/Ab+Hiq5M078oIhbfFbfQPw==",
          "dtype": "f8"
         },
         "yaxis": "y"
        },
        {
         "hovertemplate": "<b>%{hovertext}</b><br><br>Brand=ATK<br>แกนคุณลักษณะหลักที่ 1 (PC1)=%{x}<br>แกนคุณลักษณะหลักที่ 2 (PC2)=%{y}<extra></extra>",
         "hovertext": [
          "U2 Mini",
          "Duckbill",
          "X1 S",
          "X1 SE",
          "U2 Ultimate",
          "U2 Ultra",
          "U2 Pro Max",
          "U2 Pro",
          "U2 Plus",
          "U2",
          "U2 SE",
          "A9 Pro Max",
          "A9 Ultra",
          "A9 Pro",
          "A9 Plus",
          "A9 SE",
          "A9",
          "X1",
          "Fierce X",
          "F1 Extreme",
          "X1 Ultimate",
          "Z1 Ultra",
          "Z1 Pro Max",
          "X1 Ultra",
          "X1 Pro Max",
          "X1 Pro",
          "F1 Ultimate",
          "F1 Pro Max",
          "F1 Pro"
         ],
         "legendgroup": "ATK",
         "marker": {
          "color": "#FF97FF",
          "symbol": "circle"
         },
         "mode": "markers",
         "name": "ATK",
         "showlegend": true,
         "type": "scattergl",
         "x": {
          "bdata": "bf0ct3HSAMBZk4r+96MBwPOW7hX55+K/xbnFR4P23L/79mdKpZ35v5tdDrm13vm/o0cPLSHl8r9SCccRwxr3v0mMzt9wQOe/2XZoNgrY67/Zdmg2Ctjrv8MQG//8wfC/siRFiWez9r+hajkXsEbyv4oe5oMo+uK/U5kcWZuK3L9F0iK0jgPmv/hMH0jluPC/QuCevTfeA8Bo5i69RcYCwG7WrtqWR/a/ckSnOsL92j/FbdyyatDgPwgHK7qcJfW/QaFm79d887/s+ux6I2D1v7Tki9SzLgLA/lU7mRP4/b8BsVpLT/H/vw==",
          "dtype": "f8"
         },
         "xaxis": "x",
         "y": {
          "bdata": "MKms7MHK9j98B/K0gsLzPzQbImfc/uA/aOYfhLdEzz9uutzNown6P95i/DURt/g/AEy76cah7D/eDSwihPryP1ubnXowl9Q/u2YxxnfD3j+7ZjHGd8PeP0i1rI3mSu4//a3ginr9+T9kjMYEzM/wP+1tgMJv6dc/kwqksQHRmL/zNEG60pLeP8JMx4mFqvE/uF+ZvmS78z+v63XfQcX6P1SNHkszFPw/gBHFRW4LAkAyK6CM3VIAQFpu4Q802Po/wqGXnRJn9z9i1VIAvHX5P4YCU2hBafk/RpF9GR6I8D/iFQ3gHszyPw==",
          "dtype": "f8"
         },
         "yaxis": "y"
        },
        {
         "hovertemplate": "<b>%{hovertext}</b><br><br>Brand=INZONE<br>แกนคุณลักษณะหลักที่ 1 (PC1)=%{x}<br>แกนคุณลักษณะหลักที่ 2 (PC2)=%{y}<extra></extra>",
         "hovertext": [
          "Mouse-A"
         ],
         "legendgroup": "INZONE",
         "marker": {
          "color": "#FECB52",
          "symbol": "circle"
         },
         "mode": "markers",
         "name": "INZONE",
         "showlegend": true,
         "type": "scattergl",
         "x": {
          "bdata": "Ardf6Kqi978=",
          "dtype": "f8"
         },
         "xaxis": "x",
         "y": {
          "bdata": "FpAv5qUu8j8=",
          "dtype": "f8"
         },
         "yaxis": "y"
        },
        {
         "hovertemplate": "<b>%{hovertext}</b><br><br>Brand=VAXEE<br>แกนคุณลักษณะหลักที่ 1 (PC1)=%{x}<br>แกนคุณลักษณะหลักที่ 2 (PC2)=%{y}<extra></extra>",
         "hovertext": [
          "ZYGEN NP-01S Ergo",
          "XE v2",
          "ZYGEN NP-01S v2",
          "x Ninjutso Sora 4K",
          "E1 Wireless 4K",
          "XE-S L Wireless 4K",
          "XE-S Wireless 4K",
          "ZYGEN NP-01 Wireless 4K",
          "ZYGEN NP-01S Wireless 4K",
          "XE Wireless 4K",
          "OUTSET AX Wireless 4K",
          "OUTSET AX Wireless",
          "ZYGEN NP-01S Wireless",
          "ZYGEN NP-01S",
          "XE Wireless",
          "XE",
          "OUTSET AX",
          "ZYGEN NP-01"
         ],
         "legendgroup": "VAXEE",
         "marker": {
          "color": "#636efa",
          "symbol": "circle"
         },
         "mode": "markers",
         "name": "VAXEE",
         "showlegend": true,
         "type": "scattergl",
         "x": {
          "bdata": "4wBZQ+xZ1b8J5wYUAVfWv1Lj9iagoeC/SucuVLu+5r/bII0hea7yP+OCbZ6gBO6/44JtnqAE7r93w5EVYmXSP4lu4559es+/EArisZ1/rD9MOxwu5Gv4P4JgLX9sifs/ThNpWew4qr8TS6ijcwWYPx7WgPoUBtA/gFH5EZt8oj8AOnmDD6n8P3VYFWcs9+A/",
          "dtype": "f8"
         },
         "xaxis": "x",
         "y": {
          "bdata": "skoMCOiz4b8h8kF8oePTvwNAvBxeeOS/+Oe/bIzX5L+R1Wv4n7jKP4AUVpk7bu6/gBRWmTtu7r884GIMVwHnvypKIiv0oO6/3ig568w16L8DXTCA1v+vvzEKY4iQt9O/u2Sog18+87962uSc/6D0vxXUs+PLCPC/Brw8ZDCE6L8L6MyhypDYvzhzj3l5SfC/",
          "dtype": "f8"
         },
         "yaxis": "y"
        },
        {
         "hovertemplate": "<b>%{hovertext}</b><br><br>Brand=Ausdom<br>แกนคุณลักษณะหลักที่ 1 (PC1)=%{x}<br>แกนคุณลักษณะหลักที่ 2 (PC2)=%{y}<extra></extra>",
         "hovertext": [
          "G04 Ultra",
          "G04 Pro",
          "G04 Air"
         ],
         "legendgroup": "Ausdom",
         "marker": {
          "color": "#EF553B",
          "symbol": "circle"
         },
         "mode": "markers",
         "name": "Ausdom",
         "showlegend": true,
         "type": "scattergl",
         "x": {
          "bdata": "T+g27R25tb9D0D38ukyTPwHjY6RuSN4/",
          "dtype": "f8"
         },
         "xaxis": "x",
         "y": {
          "bdata": "F42jbteA/T9+wFn8tQ/6P1WBI6ae5PA/",
          "dtype": "f8"
         },
         "yaxis": "y"
        },
        {
         "hovertemplate": "<b>%{hovertext}</b><br><br>Brand=Rapoo<br>แกนคุณลักษณะหลักที่ 1 (PC1)=%{x}<br>แกนคุณลักษณะหลักที่ 2 (PC2)=%{y}<extra></extra>",
         "hovertext": [
          "VT2 Max",
          "VT2",
          "VT3S Max Gen-2",
          "VT3S Gen-2",
          "VT3 Max Gen-2",
          "VT3 Gen-2",
          "MT760 Mini",
          "MT760 Pro",
          "MT760",
          "VT7 Max",
          "VT7",
          "VT9 Pro 4K",
          "VT3 Pro Max",
          "VT3 Pro",
          "VT1 Pro Max",
          "VT1 Air Max",
          "VT1 Pro",
          "VT3S (Old)",
          "VT900",
          "VT9 Air",
          "VT9 Pro Mini",
          "VT9 Pro",
          "VT9S",
          "VT960 Pro"
         ],
         "legendgroup": "Rapoo",
         "marker": {
          "color": "#00cc96",
          "symbol": "circle"
         },
         "mode": "markers",
         "name": "Rapoo",
         "showlegend": true,
         "type": "scattergl",
         "x": {
          "bdata": "klrUg1A6+L+gbWasNvnyv9mIoZ+2BdI/50KtEW5y1j+ljb0QdHLpP61qw8nPqOs/MPgj99iUDkDMKKDCh3oVQBLFSXJNsxVA7xOAt0/l8b9rJf3aIcrwvzkvgeBGjNq/pWTvAoLj4j+tQfW73RnlP1JXzRzm8/m/fcqNNieI/b/OaEpAuNj4vwZEf4dXqs4/p17eFUgJEEDTxJUMkFf0v5sq6dHlsuu/xjR5OEsszL/qASwDTwasv//A6kLXLMu/",
          "dtype": "f8"
         },
         "xaxis": "x",
         "y": {
          "bdata": "ixPNTBiO+z+lC44N2afwP7UOmui3QP4/T4YTR0z1+z+Gorgq0RgBQKa86rM25v8/nh3lHUt4E8D5rqcrXSAOwH1FBMGx+Q/A+0sifBCT9D+Ww5vapEfyP0WBOJHlKdc/fT1g5fWK+z8XtdlDij/5Pwfo+5jK998/cYmKdCRF6D9uxuESHMrWP04LMrAOm8S/T4BdRhOD1b9RmI51Y5jhPxM251O6Kq0/0QpuYz/JvT/0zUMYPGiwvwuQFAFSlJO/",
          "dtype": "f8"
         },
         "yaxis": "y"
        },
        {
         "hovertemplate": "<b>%{hovertext}</b><br><br>Brand=Freewolf<br>แกนคุณลักษณะหลักที่ 1 (PC1)=%{x}<br>แกนคุณลักษณะหลักที่ 2 (PC2)=%{y}<extra></extra>",
         "hovertext": [
          "A7",
          "A6"
         ],
         "legendgroup": "Freewolf",
         "marker": {
          "color": "#ab63fa",
          "symbol": "circle"
         },
         "mode": "markers",
         "name": "Freewolf",
         "showlegend": true,
         "type": "scattergl",
         "x": {
          "bdata": "AT36pnTQ6z8CW6HR6LDyvw==",
          "dtype": "f8"
         },
         "xaxis": "x",
         "y": {
          "bdata": "Ye+8yegA4z+w7W0dc53bvw==",
          "dtype": "f8"
         },
         "yaxis": "y"
        },
        {
         "hovertemplate": "<b>%{hovertext}</b><br><br>Brand=Microsoft<br>แกนคุณลักษณะหลักที่ 1 (PC1)=%{x}<br>แกนคุณลักษณะหลักที่ 2 (PC2)=%{y}<extra></extra>",
         "hovertext": [
          "Comfort Mouse 4500",
          "Wheel Mouse Optical",
          "Sidewinder X8",
          "Classic IntelliMouse",
          "Pro IntelliMouse"
         ],
         "legendgroup": "Microsoft",
         "marker": {
          "color": "#FFA15A",
          "symbol": "circle"
         },
         "mode": "markers",
         "name": "Microsoft",
         "showlegend": true,
         "type": "scattergl",
         "x": {
          "bdata": "KUJj8zAC+j9QLWbeos/2P2q5F2tfZxNAqOWTC/XtCED4LqL7MMMIQA==",
          "dtype": "f8"
         },
         "xaxis": "x",
         "y": {
          "bdata": "Pc7M2YwWA8DJWKcFaZEXwIgKT3fclem/bNFH+1VSwb9RgTds7BS/Pw==",
          "dtype": "f8"
         },
         "yaxis": "y"
        },
        {
         "hovertemplate": "<b>%{hovertext}</b><br><br>Brand=HyperX<br>แกนคุณลักษณะหลักที่ 1 (PC1)=%{x}<br>แกนคุณลักษณะหลักที่ 2 (PC2)=%{y}<extra></extra>",
         "hovertext": [
          "Pulsefire Fuse",
          "Pulsefire Haste 2 S",
          "Pulsefire Saga Pro",
          "Pulsefire Haste 2 Pro",
          "Pulsefire Warp",
          "Pulsefire Haste 2 Core Wireless",
          "Pulsefire Surge",
          "Pulsefire Haste 2 Mini",
          "Pulsefire Haste 2 Wireless",
          "Pulsefire Haste 2 Wired",
          "Pulsefire Raid",
          "Pulsefire Dart",
          "Pulsefire FPS Pro",
          "Pulsefire Core",
          "Pulsefire Haste",
          "Pulsefire Haste Wireless"
         ],
         "legendgroup": "HyperX",
         "marker": {
          "color": "#19d3f3",
          "symbol": "circle"
         },
         "mode": "markers",
         "name": "HyperX",
         "showlegend": true,
         "type": "scattergl",
         "x": {
          "bdata": "w16JzHvimz/5JMWfGxXav9gccmjMnO8/01NxzY5R5r+yvW4hKj/Sv8GvDGfjArK/bsiMpbrJ2j80iAuFVtr0v2YJTyt+FuC/HP07Lhhc8r9qyVC9L40IQFEjPFcnhgtAcNYL/ZRwBUCAPUWuFdHXPxv9Nucpo9a/G/025ymj1r8=",
          "dtype": "f8"
         },
         "xaxis": "x",
         "y": {
          "bdata": "sLTKG4Xi5L+CMzFzfcTAPytcMj3GYOQ/iUdLHpHP3j8bcyA7kEzpvxKLGMhgc96/doAqWw4y9b8KeSBUjszcv/SR3Mv2L84/A6nchfRL8D/BCJIy73HdPxvhNR1itMk/GM2Z+HJ7zz84KZL0o/Dzv9x89vgms7i/3Hz2+CazuL8=",
          "dtype": "f8"
         },
         "yaxis": "y"
        },
        {
         "hovertemplate": "<b>%{hovertext}</b><br><br>Brand=Darmoshark<br>แกนคุณลักษณะหลักที่ 1 (PC1)=%{x}<br>แกนคุณลักษณะหลักที่ 2 (PC2)=%{y}<extra></extra>",
         "hovertext": [
          "M2 Air",
          "M5 Air",
          "N3 Pro",
          "M3 Micro Pro",
          "N7 Max",
          "N7",
          "M3 XS Pro",
          "M2 Pro",
          "M3S MAX",
          "M5 Pro",
          "M3 Pro Max",
          "N5",
          "M3 XS",
          "M2",
          "M5",
          "M3 Micro",
          "M3S Pro",
          "M3 Pro",
          "M3S",
          "M3 4K",
          "N3",
          "M3"
         ],
         "legendgroup": "Darmoshark",
         "marker": {
          "color": "#FF6692",
          "symbol": "circle"
         },
         "mode": "markers",
         "name": "Darmoshark",
         "showlegend": true,
         "type": "scattergl",
         "x": {
          "bdata": "V9k3wZ5TBMCpnrEX+6MOwEUd77LVreI/yRoXfj9zC8AIjPpkUXfOPx15m67nOdU/SYffaNI9A8DRz3kOWA0EwGd1SFBVVfq/y7wVVgL/DMB3C/vquSzvvzm3knvDfuI/46GSRIucAMCdymxSCKEBwGXXyDG7XQrAh6PVj6jlCsBIitCvnkn0v4FU14DRaeK/JBzFee418r/gAjHpAYPUv43O0+p18+4/ua2gd0oJ2L8=",
          "dtype": "f8"
         },
         "xaxis": "x",
         "y": {
          "bdata": "dCIXy8dQ5T/AZbtG/GnBv2QvZSGKSvQ/tziTT1IM1b8Qrb8e9yD+PwyOw5Qcg/w/06hebGzg4T/U/cJJkujlPy4gVChdaOs/DhoiaESC2r+s84E4IOX2P+gDr+HQvPg/8cecyIp5tj9m7UCeaVzPP94cXEddUuy/Ulqt1QA63r9mI/uXXBfVPzn+cNv/T+w/tkh6j/E5xT+jAo8Gsa7kP9QJv2F4t+g/bCUKccip5D8=",
          "dtype": "f8"
         },
         "yaxis": "y"
        },
        {
         "hovertemplate": "<b>%{hovertext}</b><br><br>Brand=Flickshot<br>แกนคุณลักษณะหลักที่ 1 (PC1)=%{x}<br>แกนคุณลักษณะหลักที่ 2 (PC2)=%{y}<extra></extra>",
         "hovertext": [
          "One Pro"
         ],
         "legendgroup": "Flickshot",
         "marker": {
          "color": "#B6E880",
          "symbol": "circle"
         },
         "mode": "markers",
         "name": "Flickshot",
         "showlegend": true,
         "type": "scattergl",
         "x": {
          "bdata": "8OrL6g45AcA=",
          "dtype": "f8"
         },
         "xaxis": "x",
         "y": {
          "bdata": "/u9B6FW19D8=",
          "dtype": "f8"
         },
         "yaxis": "y"
        },
        {
         "hovertemplate": "<b>%{hovertext}</b><br><br>Brand=Keychron<br>แกนคุณลักษณะหลักที่ 1 (PC1)=%{x}<br>แกนคุณลักษณะหลักที่ 2 (PC2)=%{y}<extra></extra>",
         "hovertext": [
          "M6 8K",
          "M6 Lite",
          "M4 8K",
          "M3 8K",
          "M3 Lite",
          "M2 8K",
          "M2 4K",
          "M6 4K",
          "M3 Mini 8K",
          "M5",
          "M7 8K",
          "Lemokey G2",
          "Lemokey G1",
          "M7",
          "M4",
          "M4 4K",
          "M6",
          "M3 Mini 4K - Metal Edition",
          "M2 Mini",
          "M3 Mini 4K",
          "M3 4K",
          "M3",
          "M2",
          "M1 Wireless",
          "M1 Wired",
          "M3 Mini"
         ],
         "legendgroup": "Keychron",
         "marker": {
          "color": "#FF97FF",
          "symbol": "circle"
         },
         "mode": "markers",
         "name": "Keychron",
         "showlegend": true,
         "type": "scattergl",
         "x": {
          "bdata": "wcRcK4gXBkAoXhe6IzcMQHawYnWWhxHA4WZgHoopyr/nS1KzC/ThP6WcPmQUEtQ/7ONSwyaO5D81FlGYWVwHQKVaV8rqoPW/hhVbCizIGEA2aknEwTn9P0dzmbT9RPy/MOJDk0nM/b8cLfou7MwCQO3o750h3w7Awz084/I2EMDQqNnAHesIQN9fu9mxyem/f2rKz+7/wT/aj72BXF7wv/je20zQ1b8/mox7V5Vr1D9YLnVlN8nqPwvN9k5Jx8E/wLjj8vWAqz9H1VhhqIHqvw==",
          "dtype": "f8"
         },
         "xaxis": "x",
         "y": {
          "bdata": "jCTmLtFcAkAhpLiwJjvxP86Fy9p0//C/JsoSAJo76j+H/yi0uoLZvxJv9OZVi/s/J+dOXbgC9D9+Iqi9B8L/Pwh5cLj+0ew/aQCjjfxvEUBpw+zt1dsBQFq0iFuFreY/h24onlm/4D8+vxzkKEH4P11NiNL3dfy/uQ1xZBKI+L/a4pBPItT7P8TWLkE25sc/PMRz9Axb4T9l0kpKh4HbP6F0j9m9VNY/Q9jJhKB0uj+Dpzfv0hTwP1XhpODrY4y/QDxiF5nkt7+qp9sj45PHPw==",
          "dtype": "f8"
         },
         "yaxis": "y"
        },
        {
         "hovertemplate": "<b>%{hovertext}</b><br><br>Brand=Endgame<br>แกนคุณลักษณะหลักที่ 1 (PC1)=%{x}<br>แกนคุณลักษณะหลักที่ 2 (PC2)=%{y}<extra></extra>",
         "hovertext": [
          "Gear XM2w 4k v2",
          "Gear XM2 8k v2",
          "Gear OP1 8k v2",
          "Gear OP1w 4k v2",
          "Gear OP1w 4k",
          "Gear XM2w 4k",
          "Gear XM2 8k",
          "Gear OP1 8k",
          "Gear OP1 8k Purple",
          "Gear OP1we",
          "Gear OP1 RGB",
          "Gear OP1",
          "Gear XM2we",
          "Gear XM2w",
          "Gear XM1",
          "Gear XM1 RGB",
          "Gear XM1r"
         ],
         "legendgroup": "Endgame",
         "marker": {
          "color": "#FECB52",
          "symbol": "circle"
         },
         "mode": "markers",
         "name": "Endgame",
         "showlegend": true,
         "type": "scattergl",
         "x": {
          "bdata": "XSKrtQX/6r84RLSlM331v8w9ABJ1lgDAp9Iz7SNf+b8j5LAQ9kP4v9uv979uZui/+IraKugw9L9xPaLb6an/v/uVEtyLYgDAhp26fd02879S7J6yLv33v/M7eh4BZfi/We9fQY4P2797Onqk52bhv/2UtREU/8m/YPHEXkWutT8JlmOeE1HQvw==",
          "dtype": "f8"
         },
         "xaxis": "x",
         "y": {
          "bdata": "bUHLNGXm3j/LbE0/WTrxP66UpwsP+eI/y8rC/Utncb+KWSJsl+bCv9hmGBNn3tQ/TWzBbbNw7T9H5XPwcNnaP24DR7uPA+I/EfONbGmd5L+2c0wS1nvHv74uytDYpcO/9ohHjn47yb97sk8ckZGrP3Z7Ea5ccN+/i2kxounz6b9D4n3JGY7Yvw==",
          "dtype": "f8"
         },
         "yaxis": "y"
        },
        {
         "hovertemplate": "<b>%{hovertext}</b><br><br>Brand=AULA<br>แกนคุณลักษณะหลักที่ 1 (PC1)=%{x}<br>แกนคุณลักษณะหลักที่ 2 (PC2)=%{y}<extra></extra>",
         "hovertext": [
          "SC360",
          "SC900 Pro",
          "SC900 Max",
          "SC620",
          "SC800",
          "SC580",
          "SC680"
         ],
         "legendgroup": "AULA",
         "marker": {
          "color": "#636efa",
          "symbol": "circle"
         },
         "mode": "markers",
         "name": "AULA",
         "showlegend": true,
         "type": "scattergl",
         "x": {
          "bdata": "qZqivMMg6b+BwCMQvEnzP/3RoDOOLvI/g1HLyjWL8j9QvYbsM1j7v+l7hoLxLtC/Lx/6Z+Uw9L8=",
          "dtype": "f8"
         },
         "xaxis": "x",
         "y": {
          "bdata": "n7tHsOb62b9lAdT97nz+P+ZErU8tZABAJYt7EolioL/ymTUe9dPWP0oIFFPxMPe/yry6x0MH5z8=",
          "dtype": "f8"
         },
         "yaxis": "y"
        },
        {
         "hovertemplate": "<b>%{hovertext}</b><br><br>Brand=Incott<br>แกนคุณลักษณะหลักที่ 1 (PC1)=%{x}<br>แกนคุณลักษณะหลักที่ 2 (PC2)=%{y}<extra></extra>",
         "hovertext": [
          "039 Pro",
          "39",
          "039 SC",
          "029 Pro",
          "29",
          "029 SC",
          "G23 V2 Pro",
          "G23 V2",
          "G23 V2 SC",
          "G24 Pro",
          "G24",
          "G23 Pro",
          "G23",
          "GHERO Pro",
          "GHERO"
         ],
         "legendgroup": "Incott",
         "marker": {
          "color": "#EF553B",
          "symbol": "circle"
         },
         "mode": "markers",
         "name": "Incott",
         "showlegend": true,
         "type": "scattergl",
         "x": {
          "bdata": "EXw861mU878cUVFCPWrkv7ArMII+KeW/LbPM9D3uAsB1+tNRq8r9v3X601Gryv2/afyzIx9a9L/AbY099MP0v7aFJPs0JfW/ow58OZ8c5T83twqIhKTqP16rW8CALvO/ZUUU7YWi4L8WWx7SVTDnv6Ln886p1eu/",
          "dtype": "f8"
         },
         "xaxis": "x",
         "y": {
          "bdata": "JLbWZm0w/z/XRKTqTCrwPyCHYhTSkPA//MEtgp1V+D+UdkO6NurlP5R2Q7o26uU/avAFaLIJ9D+By3O2YWnzP2DkcHIo1PM/SkGdJVMSAECVLWo3GWj6P7YT572nzfY/CWXuasq12D8Nn6xWoVbnP15qMa4mjuw/",
          "dtype": "f8"
         },
         "yaxis": "y"
        },
        {
         "hovertemplate": "<b>%{hovertext}</b><br><br>Brand=Razer<br>แกนคุณลักษณะหลักที่ 1 (PC1)=%{x}<br>แกนคุณลักษณะหลักที่ 2 (PC2)=%{y}<extra></extra>",
         "hovertext": [
          "DeathAdder V4 Pro",
          "Cobra HyperSpeed",
          "Pro Click V2",
          "Basilisk Mobile",
          "Pro Click V2 Vertical",
          "Imperator",
          "Abyssus Essential",
          "Basilisk V3 Pro 35K",
          "Basilisk V3 35K",
          "Viper Ultimate",
          "Pro Click",
          "DeathAdder V3 HyperSpeed",
          "DeathAdder Elite",
          "DeathAdder Chroma",
          "DeathAdder Expert",
          "Atheris",
          "Ouroboros",
          "Viper V3 Pro",
          "Pro Click Mini",
          "Naga Left-Handed",
          "Naga Trinity",
          "Mamba Wireless",
          "Mamba Elite",
          "Naga X",
          "Viper V3 HyperSpeed",
          "Naga Pro",
          "Viper 8KHz",
          "Viper",
          "Copperhead",
          "Viper V2 Pro",
          "DeathAdder Essential",
          "Cobra Pro",
          "Cobra",
          "DeathAdder V2 Mini",
          "DeathAdder V2 X HyperSpeed",
          "DeathAdder V2",
          "Basilisk V3 X HyperSpeed",
          "Naga V2 HyperSpeed",
          "Naga V2 Pro",
          "Basilisk Essential",
          "DeathAdder V3",
          "Basilisk V3",
          "Lancehead Wireless",
          "Lancehead",
          "Viper Mini Signature Edition",
          "Abyssus 2014",
          "Basilisk Ultimate",
          "Diamondback 2015",
          "Basilisk V2",
          "Krait 2013",
          "Basilisk X HyperSpeed",
          "Basilisk",
          "Basilisk V3 Pro",
          "DeathAdder V3 Pro",
          "Viper Mini",
          "DeathAdder V2 Pro",
          "Orochi V2"
         ],
         "legendgroup": "Razer",
         "marker": {
          "color": "#00cc96",
          "symbol": "circle"
         },
         "mode": "markers",
         "name": "Razer",
         "showlegend": true,
         "type": "scattergl",
         "x": {
          "bdata": "/EME5h5E6j8aeWop1ZP2v2NPY31X5QpAv0YAMVueAEAnFG0uqdQeQNmvSldKaA1AhvRwH2qp2j+wcsSCdUMKQHBJY/tfVAhADW7xMhyYs78BmgiGGMkPQJlWuBgXw9c/Fk0rZsT6BkD4f43LJs8HQOcEYgiVTghA2pAPXxW597/4xitXDBX+P2CVFMjZb/O/ZZaO5koi7r9cOgDNk9kQQAGv5UHDHxJAKRV1zX3mBUC88q8eEOgDQE0gO4+Enw1AnGGe6U/Gib9ekqbiUJMRQGU1Nd5PRuO/kAyQT9IxwL+OjEz3f20DQP03sspfpem/rPNC3HCwBkCTtmj9jDLrvwuVLkjSGei/FP5KmLw64T/jBH7Th+UGQMqpKAfRSgJAHwNJDTNDDECMlpZ6GMcNQFE41gYGbRJAnIL8W9EuCkB9dObBWFvyP8WVdpPzkglAHwrrnyZt6D/BLDRl5cPtP0CmD0PHcvy/a6+jp50+2b/hxw23YXULQLoGqksBKr+/0EmJW0TSCEC8a8+7GSP1v/MoD8NEpgZAtGgZIzySCEDCR5YscvQKQOc5iNx/yvM/vHfIBjoD5b9HtZIk6V4DQPy1zk0oKvK/",
          "dtype": "f8"
         },
         "xaxis": "x",
         "y": {
          "bdata": "BcvMj7hwBkAMrfYzMjvVPyHih9M8H/0/sMMGbZX81D+0Bz1duEsOQB6IZNQlZ/W/DmM/uWuQGcDI//rEmBjvP6ggCN1CYfM/Y4JfL1Wx1L8ONdttsWnqP0wWf844Zfg/69ZllJYrhD9aBwgpUkbKvx1VaMDfZdW/iyiUwgzNAsBJBFJHWLEAwIa9bFN9q/Y/McJfJc9vB8B0THLd0IblP1TmkO/DWtE/VKDXSw3twb/ZM8mUMB++PzeOLJWGoPI/T57sZJhMrb/9XUZx3AnfPysEejPkBdU/z2gj+pR31b8qyMMB4YMXwNnAIIVgl+U/fJQ2nvNVwL8J3Zaoz9XRv0hcovkOKei/jIcD/TFa47+L+v3hWk2Qvws2CKc5z+U/y8JrQHn42T8Atb7Sm8H1P9N0F4QNdNw/VUF1mD0ywz+SZL7rEpcBQIbbMmMhb+w/T8mr5ilB9r+y2Vfg7DL5v8Zzx6QLDew/zsDMfgFN/L9OBwhWul7hPzYbQz8hZfS/2hqCuxTS6z/PHBKGcj8HwNhUXft/z+o/Rpjre3loxb/KqiqxC1zpP/gwJnoY3ABANw8CZ0rI6b9sMplWQmbhP6jvAq291fS/",
          "dtype": "f8"
         },
         "yaxis": "y"
        },
        {
         "hovertemplate": "<b>%{hovertext}</b><br><br>Brand=Ninjutso<br>แกนคุณลักษณะหลักที่ 1 (PC1)=%{x}<br>แกนคุณลักษณะหลักที่ 2 (PC2)=%{y}<extra></extra>",
         "hovertext": [
          "Ten Air",
          "Ten",
          "Sora V2",
          "Sora 4K",
          "Sora",
          "Origin One X",
          "Katana Ultralight",
          "Katana Superlight"
         ],
         "legendgroup": "Ninjutso",
         "marker": {
          "color": "#ab63fa",
          "symbol": "circle"
         },
         "mode": "markers",
         "name": "Ninjutso",
         "showlegend": true,
         "type": "scattergl",
         "x": {
          "bdata": "g5pVwT5p+L+GcZjin1f1v5xNDZ7Z8QHAWpy/11Bj9r/+NmXqudf0v/FQcaUSguk/DaJXEJ0p6b9xZiFAGELpvw==",
          "dtype": "f8"
         },
         "xaxis": "x",
         "y": {
          "bdata": "pGe4ddSu9D9aATaMJUbxPxZ5Aud3/uk/+YJE0lMQ4D+j24U5QpPXP+zU/BjmB+a/Z1za7J200r/aXie6zL7Ovw==",
          "dtype": "f8"
         },
         "yaxis": "y"
        },
        {
         "hovertemplate": "<b>%{hovertext}</b><br><br>Brand=ASUS<br>แกนคุณลักษณะหลักที่ 1 (PC1)=%{x}<br>แกนคุณลักษณะหลักที่ 2 (PC2)=%{y}<extra></extra>",
         "hovertext": [
          "ROG Keris II Origin",
          "ROG Harpe II Ace",
          "ROG Gladius II Wireless",
          "ROG Harpe Ace Mini",
          "ROG Harpe Ace Extreme",
          "ProArt MD300",
          "TUF Gaming M3 Gen II",
          "TUF Gaming M3",
          "ROG Keris II Ace",
          "ROG Strix Impact III Wireless",
          "ROG Pugio",
          "ROG Strix Impact III",
          "ROG Harpe Ace",
          "ROG Spatha",
          "TUF M4 Air",
          "TUF M4 Wireless",
          "ROG Sica",
          "ROG Strix Carry",
          "ROG Strix Evolve",
          "ROG Strix Impact",
          "ROG Gladius II Origin",
          "ROG Gladius II",
          "ROG Gladius II Core",
          "ROG Keris",
          "ROG Keris Wireless",
          "ROG Strix Impact II",
          "ROG Strix Impact II Wireless",
          "ROG Gladius III",
          "ROG Gladius III Wireless",
          "ROG Spatha X",
          "ROG Chakram Core",
          "ROG Chakram",
          "ROG Chakram X"
         ],
         "legendgroup": "ASUS",
         "marker": {
          "color": "#FFA15A",
          "symbol": "circle"
         },
         "mode": "markers",
         "name": "ASUS",
         "showlegend": true,
         "type": "scattergl",
         "x": {
          "bdata": "BzKnUAfj4D88T58X+4v4vzxn82/R0wNA/V7XCS5PAcDSL3DGx4P4v5AfuZDTVw9AYnrkehg+9j++K7EsnST9P8FPDaQdadE/+8xhGKl36r8bC0ING0LpPwnHM8WEpOC/J0tzgBHe6b8ZEFU88CMcQNmt9VyPZua/hIA8sdoJ0z+BHDPbSwLbv4u9JFNi4ss/WQ7h7xBK7T9dxDYBMC3hPz8c3leD+QdAiDVKQQgeCUAU+7l2urgFQD2FTZALDvA/PYVNkAsO8D8bFZztFl7Gv1HeP4ylbUo/IMVd9F3b/j/YzZ0QMD4BQHe21+dApxtAcHBHb5fPDECAgANm/pAQQL6K+yxwVBFA",
          "dtype": "f8"
         },
         "xaxis": "x",
         "y": {
          "bdata": "+R0CIyOG/z+E32HWP0P8P0m5ih/KnNc/9uaG4x6G8T8W8upUnUD9Pykcqmj6MBbA1ESPbV7A0T8KOir941fjv0QLppDt8gFAkPXYxN8Atr+wSZeC7Zb6v4VnD4k0fNW/oDuCiTF66z8SN8RZkjHnP0/8sl4dXtA/ePdiZ4Mf7b8EEUGYxm3/vwl1ugVYCv6/7OQPzOLv879XRJa/eJ8EwKaeUJeM5s2/rmdmr70iw7+TEJX0TUKqv3CRpVnebOO/cJGlWd5s479ku3qxvUj2v6qe7c0x/fa/9Ue3sxrt6T+Jv9S0NmniP7uYxbOFe/A/phrT0Zzw7D+m8oBT+njYP1Xedo8p9fM/",
          "dtype": "f8"
         },
         "yaxis": "y"
        },
        {
         "hovertemplate": "<b>%{hovertext}</b><br><br>Brand=Finalmouse<br>แกนคุณลักษณะหลักที่ 1 (PC1)=%{x}<br>แกนคุณลักษณะหลักที่ 2 (PC2)=%{y}<extra></extra>",
         "hovertext": [
          "ULX Pro Series Tiger (L)",
          "ULX Pro Series Lion (M)",
          "ULX Pro Series Cheetah (S)",
          "ULX Prophecy Small",
          "ULX Prophecy Medium",
          "ULX Prophecy Classic",
          "ULX Competition Small",
          "ULX Competition Medium",
          "ULX Competition Classic",
          "UltralightX Cheetah (S)",
          "UltralightX Lion (M)",
          "UltralightX Tiger (L)",
          "Starlight-12 Small",
          "Starlight-12 Medium",
          "Ultralight 2",
          "Scream One",
          "Ultralight Pro Sunset",
          "Ultralight Pro",
          "Ultralight Phantom",
          "Air58"
         ],
         "legendgroup": "Finalmouse",
         "marker": {
          "color": "#19d3f3",
          "symbol": "circle"
         },
         "mode": "markers",
         "name": "Finalmouse",
         "showlegend": true,
         "type": "scattergl",
         "x": {
          "bdata": "pLZ7ofuV87+FfdcXSZL9v7/bHtFHnwPA7zNWnO0zA8DZ6/7OG8b8v7rQixc8NPO/7zNWnO0zA8DZ6/7OG8b8v7rQixc8NPO/v9se0UefA8CvNGtzMiz9v6S2e6H7lfO/Jd5mwZUf/79RJyAiCeH0v1aQcD8ycfe/b8S1YUEI3j/bSd1as8bBP9tJ3VqzxsE/20ndWrPGwT+BT/xif9Gyvw==",
          "dtype": "f8"
         },
         "xaxis": "x",
         "y": {
          "bdata": "r2Tjwr3a5j9T0YRDRBDYP533OPC+WpU/T0r5Eusnpr84ymQ4/1vUP8j2fK/HAuY/T0r5Eusnpr84ymQ4/1vUP8j2fK/HAuY/nfc48L5alT/EzfS9ITbWP69k48K92uY//r9Ormm02r9A0PqJu+u1vzOk1hjqC/S/v6jwqg4c8L9cMPwsz7Lkv1ww/CzPsuS/XDD8LM+y5L8A7RqTp5Xavw==",
          "dtype": "f8"
         },
         "yaxis": "y"
        },
        {
         "hovertemplate": "<b>%{hovertext}</b><br><br>Brand=Rampage<br>แกนคุณลักษณะหลักที่ 1 (PC1)=%{x}<br>แกนคุณลักษณะหลักที่ 2 (PC2)=%{y}<extra></extra>",
         "hovertext": [
          "Blitz Ultimate",
          "Zenith Pro",
          "Prote M5"
         ],
         "legendgroup": "Rampage",
         "marker": {
          "color": "#FF6692",
          "symbol": "circle"
         },
         "mode": "markers",
         "name": "Rampage",
         "showlegend": true,
         "type": "scattergl",
         "x": {
          "bdata": "hQgDoaoKwr+r2gPfzBvpv637Z1n9k+6/",
          "dtype": "f8"
         },
         "xaxis": "x",
         "y": {
          "bdata": "csFnzQyM9D9s5n0C7ybNP/jLgZOG2bu/",
          "dtype": "f8"
         },
         "yaxis": "y"
        },
        {
         "hovertemplate": "<b>%{hovertext}</b><br><br>Brand=Kysona<br>แกนคุณลักษณะหลักที่ 1 (PC1)=%{x}<br>แกนคุณลักษณะหลักที่ 2 (PC2)=%{y}<extra></extra>",
         "hovertext": [
          "Mercury Ultra",
          "Mercury Pro",
          "Mercury SE",
          "Jupiter Ultra",
          "Jupiter Pro",
          "Jupiter SE",
          "M660",
          "M600 V2",
          "Uranus Pro",
          "Uranus SE",
          "Mars SE",
          "M617",
          "M511",
          "Aztec",
          "M600"
         ],
         "legendgroup": "Kysona",
         "marker": {
          "color": "#B6E880",
          "symbol": "circle"
         },
         "mode": "markers",
         "name": "Kysona",
         "showlegend": true,
         "type": "scattergl",
         "x": {
          "bdata": "vdRQIbo3AMDzuh5mRlT/v1COivhM5/e/mCOT/kTI878nAYo9vF7xv1Q1kuPydea/lWRWLurw57+7C131SXnxvzsTJW3cXNM/08CGUQCc6z9awtefO1bzP+yUrbeKG/S/bF+Tm2Wa2z+7C131SXnxv7sLXfVJefG/",
          "dtype": "f8"
         },
         "xaxis": "x",
         "y": {
          "bdata": "dMZNlRJm8D8efI7nTTXsPx4fHU8N/NA/syzi2y1g9z9q6pIzuh3zP5O3yVw8WeY/5muXm7Y/4b9VBENYd0J8Pyheai46B/Y/GzlQYKDp5D/UaxE0VifxP0Lgp50IWOg/knCa2gJm4D9VBENYd0J8P1UEQ1h3Qnw/",
          "dtype": "f8"
         },
         "yaxis": "y"
        },
        {
         "hovertemplate": "<b>%{hovertext}</b><br><br>Brand=Epomaker<br>แกนคุณลักษณะหลักที่ 1 (PC1)=%{x}<br>แกนคุณลักษณะหลักที่ 2 (PC2)=%{y}<extra></extra>",
         "hovertext": [
          "Click Lite",
          "Click"
         ],
         "legendgroup": "Epomaker",
         "marker": {
          "color": "#FF97FF",
          "symbol": "circle"
         },
         "mode": "markers",
         "name": "Epomaker",
         "showlegend": true,
         "type": "scattergl",
         "x": {
          "bdata": "05hUnbXb6b9PbklBr5D5vw==",
          "dtype": "f8"
         },
         "xaxis": "x",
         "y": {
          "bdata": "L2CmZeJrrL/SNfZeoQvzPw==",
          "dtype": "f8"
         },
         "yaxis": "y"
        },
        {
         "hovertemplate": "<b>%{hovertext}</b><br><br>Brand=Lofree<br>แกนคุณลักษณะหลักที่ 1 (PC1)=%{x}<br>แกนคุณลักษณะหลักที่ 2 (PC2)=%{y}<extra></extra>",
         "hovertext": [
          "Touch",
          "Hypace"
         ],
         "legendgroup": "Lofree",
         "marker": {
          "color": "#FECB52",
          "symbol": "circle"
         },
         "mode": "markers",
         "name": "Lofree",
         "showlegend": true,
         "type": "scattergl",
         "x": {
          "bdata": "++Xe2faLAkCzWOgXgmf/vw==",
          "dtype": "f8"
         },
         "xaxis": "x",
         "y": {
          "bdata": "XO9nSG8z+L/iEUQaRir1Pw==",
          "dtype": "f8"
         },
         "yaxis": "y"
        },
        {
         "hovertemplate": "<b>%{hovertext}</b><br><br>Brand=SteelSeries<br>แกนคุณลักษณะหลักที่ 1 (PC1)=%{x}<br>แกนคุณลักษณะหลักที่ 2 (PC2)=%{y}<extra></extra>",
         "hovertext": [
          "Kinzu V2 Pro",
          "Rival 3 Gen 2 Wireless",
          "Rival 3 Gen 2",
          "Kinzu V2",
          "Kana V2",
          "Rival 710",
          "Rival 300S",
          "Rival 500",
          "Sensei 310",
          "Rival 110",
          "Kinzu V3",
          "Rival 300",
          "Aerox 9 Wireless",
          "Aerox 5",
          "Aerox 5 Wireless",
          "Prime Mini",
          "Prime Mini Wireless",
          "Prime",
          "Prime+",
          "Prime Wireless",
          "Aerox 3",
          "Rival 3",
          "Rival 3 Wireless",
          "Rival 5",
          "Aerox 3 Wireless",
          "Rival 600",
          "Rival 650 Wireless",
          "Sensei Ten",
          "Rival 310"
         ],
         "legendgroup": "SteelSeries",
         "marker": {
          "color": "#636efa",
          "symbol": "circle"
         },
         "mode": "markers",
         "name": "SteelSeries",
         "showlegend": true,
         "type": "scattergl",
         "x": {
          "bdata": "ZxCF2cbJ27/QqGkpW1mxPwCwtsJCWLM/ZxCF2cbJ27/TYz/1C3jHP7z8NWMqVg9Al3V6knmTCkAjPgOgBHsRQFvYAW9ZEOw/uiBVclWC3D8Z5YpDUHrnvybe7SqhIRBAW7fFQAgrDkCElE1eHNwAQBn2axgpTwJAqUBDMQNt8T9v2ZSAGvb1PzhDUEoXMvw/1OkD8Art/D/HK9asKRsAQEM0pXoF4ta/ALC2wkJYsz9mov5LLZbXP3TiDht9kP8/Bp7XEy6I07+yp9wA69cHQOAZKHpATgxAUYM2svzo4z+Bxl98GywEQA==",
          "dtype": "f8"
         },
         "xaxis": "x",
         "y": {
          "bdata": "N3AQOExw/b9I+sGaJ9rqv5RcAU2MFfC/N3AQOExw/b8ZgR0i6in4v/4s1mlXBeW/BYarvaPP1j9jr5d9lDanvxDxmWpAkui/7FygIA1z9L/gFfAExKv/v3FiXXSwrta/RfK28otX8z+DDQ7AeDDxPwZGzUQ3Y+w/x27iEa623D/zRmTBctbBPxoztXkrfeY/qx0/lMz25D91elcXQzTcP/EpG9UEteC/lFwBTYwV8L+JuYbjaMvyv3yV2nigK88/StOf8J4T279AIRa/DdXTP11nM3U+TtC/iV5L+aPF5L+iQOB5JP3LPw==",
          "dtype": "f8"
         },
         "yaxis": "y"
        },
        {
         "hovertemplate": "<b>%{hovertext}</b><br><br>Brand=SyLical<br>แกนคุณลักษณะหลักที่ 1 (PC1)=%{x}<br>แกนคุณลักษณะหลักที่ 2 (PC2)=%{y}<extra></extra>",
         "hovertext": [
          "HELIX"
         ],
         "legendgroup": "SyLical",
         "marker": {
          "color": "#EF553B",
          "symbol": "circle"
         },
         "mode": "markers",
         "name": "SyLical",
         "showlegend": true,
         "type": "scattergl",
         "x": {
          "bdata": "W9o/jd7dAcA=",
          "dtype": "f8"
         },
         "xaxis": "x",
         "y": {
          "bdata": "c0bLZWG17z8=",
          "dtype": "f8"
         },
         "yaxis": "y"
        },
        {
         "hovertemplate": "<b>%{hovertext}</b><br><br>Brand=VXE<br>แกนคุณลักษณะหลักที่ 1 (PC1)=%{x}<br>แกนคุณลักษณะหลักที่ 2 (PC2)=%{y}<extra></extra>",
         "hovertext": [
          "R1 SE+",
          "R1 Nearlink",
          "MAD R Major",
          "MAD R",
          "R1 Pro Max",
          "R1 Pro",
          "R1 SE",
          "R1"
         ],
         "legendgroup": "VXE",
         "marker": {
          "color": "#00cc96",
          "symbol": "circle"
         },
         "mode": "markers",
         "name": "VXE",
         "showlegend": true,
         "type": "scattergl",
         "x": {
          "bdata": "Mdfh26Th7b9RedchV1/tv6P5LPl0dADAwATXFbzN/7/VegL8Np/zvzwTBLZK+fW/3Pvx6TSC8L/j2PeikLjyvw==",
          "dtype": "f8"
         },
         "xaxis": "x",
         "y": {
          "bdata": "oo8sh3JOxL+G2+nnE6THv9QNQS7bJvQ/b4W6jG/b8T80J7w0uHfUP/Uz/dvbLt8/X6WsoLYTqL8QXT1wzLHOPw==",
          "dtype": "f8"
         },
         "yaxis": "y"
        },
        {
         "hovertemplate": "<b>%{hovertext}</b><br><br>Brand=VGN<br>แกนคุณลักษณะหลักที่ 1 (PC1)=%{x}<br>แกนคุณลักษณะหลักที่ 2 (PC2)=%{y}<extra></extra>",
         "hovertext": [
          "R1 SE+",
          "R1 Nearlink",
          "Y2 Ultra",
          "Y2 Pro",
          "R1 Pro Max",
          "R1 Pro",
          "R1 SE",
          "R1",
          "Dragonfly F1 MOBA",
          "Dragonfly F1 Pro Max",
          "Dragonfly F1 Pro",
          "Dragonfly F1"
         ],
         "legendgroup": "VGN",
         "marker": {
          "color": "#ab63fa",
          "symbol": "circle"
         },
         "mode": "markers",
         "name": "VGN",
         "showlegend": true,
         "type": "scattergl",
         "x": {
          "bdata": "Mdfh26Th7b9RedchV1/tv6zREskd//m/LBpCWZzy97/VegL8Np/zvzwTBLZK+fW/3Pvx6TSC8L/j2PeikLjyv7FK6yZSb/O/sUrrJlJv87/L1fbUJcr1v5Sw5YOdrPK/",
          "dtype": "f8"
         },
         "xaxis": "x",
         "y": {
          "bdata": "oo8sh3JOxL+G2+nnE6THv7I58Vjypfs/6Mle///D9z80J7w0uHfUP/Uz/dvbLt8/X6WsoLYTqL8QXT1wzLHOP48NetmhZ9I/jw162aFn0j8VMe1mECbdPwplIF313Mo/",
          "dtype": "f8"
         },
         "yaxis": "y"
        },
        {
         "hovertemplate": "<b>%{hovertext}</b><br><br>Brand=Motospeed<br>แกนคุณลักษณะหลักที่ 1 (PC1)=%{x}<br>แกนคุณลักษณะหลักที่ 2 (PC2)=%{y}<extra></extra>",
         "hovertext": [
          "X1",
          "X6 Max",
          "X6"
         ],
         "legendgroup": "Motospeed",
         "marker": {
          "color": "#FFA15A",
          "symbol": "circle"
         },
         "mode": "markers",
         "name": "Motospeed",
         "showlegend": true,
         "type": "scattergl",
         "x": {
          "bdata": "2M/tk9mr9r+YA2/H8Cv6v168XKby5/e/",
          "dtype": "f8"
         },
         "xaxis": "x",
         "y": {
          "bdata": "3UXY6Fw23j/N1tm94czzP0b01H/XNPA/",
          "dtype": "f8"
         },
         "yaxis": "y"
        },
        {
         "hovertemplate": "<b>%{hovertext}</b><br><br>Brand=Dareu<br>แกนคุณลักษณะหลักที่ 1 (PC1)=%{x}<br>แกนคุณลักษณะหลักที่ 2 (PC2)=%{y}<extra></extra>",
         "hovertext": [
          "AE6",
          "A955",
          "A950 Air",
          "A980 Pro Max",
          "A980 Pro",
          "A980",
          "EM901",
          "A950 Pro 4K Magnesium",
          "A950 Pro 4K",
          "A950",
          "A950 Pro"
         ],
         "legendgroup": "Dareu",
         "marker": {
          "color": "#19d3f3",
          "symbol": "circle"
         },
         "mode": "markers",
         "name": "Dareu",
         "showlegend": true,
         "type": "scattergl",
         "x": {
          "bdata": "VjQHz/so8b9bGpIdYLoEQDuJrc/09wDAoMb6pG4P+T9MyYI6qC/2P2yC0a+gswBAEHI390FH8T9m/TARjnDwv/kH4mj+DfC/yhg48XgZzT+FxaEv7ODpvw==",
          "dtype": "f8"
         },
         "xaxis": "x",
         "y": {
          "bdata": "vBGLwjDZ8D+VNlBE6tCHv8KcKr7pCvQ/70MJR/BM/T9C27IDeRz/P05TiBGxivM/8roxeDEx97/iF2XiWt3gP2KImb9wAeA/lRjAAb0h8r81EtbGS0vQPw==",
          "dtype": "f8"
         },
         "yaxis": "y"
        },
        {
         "hovertemplate": "<b>%{hovertext}</b><br><br>Brand=MAMBASNAKE<br>แกนคุณลักษณะหลักที่ 1 (PC1)=%{x}<br>แกนคุณลักษณะหลักที่ 2 (PC2)=%{y}<extra></extra>",
         "hovertext": [
          "M4",
          "M3",
          "M5 Ultra"
         ],
         "legendgroup": "MAMBASNAKE",
         "marker": {
          "color": "#FF6692",
          "symbol": "circle"
         },
         "mode": "markers",
         "name": "MAMBASNAKE",
         "showlegend": true,
         "type": "scattergl",
         "x": {
          "bdata": "oIsbSIKv9L9Ie+ajnNMBwLh70aoRQALA",
          "dtype": "f8"
         },
         "xaxis": "x",
         "y": {
          "bdata": "/FqNL8mouL8a+nzZrin4P+jHGyLvrO4/",
          "dtype": "f8"
         },
         "yaxis": "y"
        },
        {
         "hovertemplate": "<b>%{hovertext}</b><br><br>Brand=Delux<br>แกนคุณลักษณะหลักที่ 1 (PC1)=%{x}<br>แกนคุณลักษณะหลักที่ 2 (PC2)=%{y}<extra></extra>",
         "hovertext": [
          "M800 Mini Ultra",
          "M800 Mini Pro",
          "M800 Mini",
          "M900 Ultra",
          "M900 Mini Ultra",
          "M900 Mini Pro",
          "M700 Pro",
          "M700 Pro+",
          "M700 Ultra",
          "M500 Pro",
          "M900 SE",
          "M900 Pro",
          "M800 Pro 3395",
          "M600 Pro",
          "M600",
          "M600 Ultra",
          "M800 Ultra",
          "M800 Pro",
          "M700"
         ],
         "legendgroup": "Delux",
         "marker": {
          "color": "#B6E880",
          "symbol": "circle"
         },
         "mode": "markers",
         "name": "Delux",
         "showlegend": true,
         "type": "scattergl",
         "x": {
          "bdata": "V/KS0g1I/r/TAxD23yz9v4i/HbXWCPK/B+7x/3155j/IDRuKTFy6v1VhGMtJnsO/ZxpeqNUm6r8lQVUNvebqv/OpdZdi3eq/jWJvBuEa0z8C9EFlTZ/5P0N72LnNzPE/nbAYNTax4b88zJXBfoT2v3LM8NYLVvG/yoq/W9Qh978QWDnQgFLzvwOog7HAiti/EEmBIrGepj8=",
          "dtype": "f8"
         },
         "xaxis": "x",
         "y": {
          "bdata": "7MAteuCU7D8fsCA3Cf7nP/sR878t0NS/3hvqgr0NAkCxTqS95uL7P9iiPtN9tPs/TXvMdVyr8T+hLIdq+RLyPwmh3S2OJ/M/VllaXW218z/29RRNKNTxP1J5DnT1JPw/slA8HnpXw7+Q8Syo9pnHP/yzhBnWb9u/yv+gCnvNzT9GGJKuNZHjP96A8SBSN92/nGJQOJiGtL8=",
          "dtype": "f8"
         },
         "yaxis": "y"
        },
        {
         "hovertemplate": "<b>%{hovertext}</b><br><br>Brand=zeromouse<br>แกนคุณลักษณะหลักที่ 1 (PC1)=%{x}<br>แกนคุณลักษณะหลักที่ 2 (PC2)=%{y}<extra></extra>",
         "hovertext": [
          "Blade"
         ],
         "legendgroup": "zeromouse",
         "marker": {
          "color": "#FF97FF",
          "symbol": "circle"
         },
         "mode": "markers",
         "name": "zeromouse",
         "showlegend": true,
         "type": "scattergl",
         "x": {
          "bdata": "v1WDrSriEsA=",
          "dtype": "f8"
         },
         "xaxis": "x",
         "y": {
          "bdata": "qyq9at/H8b8=",
          "dtype": "f8"
         },
         "yaxis": "y"
        },
        {
         "hovertemplate": "<b>%{hovertext}</b><br><br>Brand=RAWM<br>แกนคุณลักษณะหลักที่ 1 (PC1)=%{x}<br>แกนคุณลักษณะหลักที่ 2 (PC2)=%{y}<extra></extra>",
         "hovertext": [
          "ER21 Pro",
          "ER21",
          "SA-MH01 Pro",
          "ES21 Pro",
          "ES21 M",
          "ES21",
          "SA-SH01 Pro",
          "SA-SH01",
          "SA-SL01 Pro",
          "SA-SL01",
          "SA-ML01 Plus",
          "SA-ML01",
          "SA-MH01"
         ],
         "legendgroup": "RAWM",
         "marker": {
          "color": "#FECB52",
          "symbol": "circle"
         },
         "mode": "markers",
         "name": "RAWM",
         "showlegend": true,
         "type": "scattergl",
         "x": {
          "bdata": "54cRLWNJ4D8udOOe41vyP0oaI8f+u+K/WLx0tmTX+L9YvHS2ZNf4v06cnhgP0PW/3t3qnJcX/b+HhhnYcLbyvyZeeMVeOfa/9CbtinD/87+teTe05rjYv1W9P+DwJOC/yUCdpBOC478=",
          "dtype": "f8"
         },
         "xaxis": "x",
         "y": {
          "bdata": "OsXpfnOnAEBDZT4JXefzP7JsgM4DkO8/6BPmS8PY8z/oE+ZLw9jzP6Nq+3pG0u4/olUAYeTt4D/9dChRbVrVvxOBz6KdMbo/stCtQsklwr8YzmgLqljVP7/xIRGNnN0/4jfeclsu7j8=",
          "dtype": "f8"
         },
         "yaxis": "y"
        },
        {
         "hovertemplate": "<b>%{hovertext}</b><br><br>Brand=Valkyrie<br>แกนคุณลักษณะหลักที่ 1 (PC1)=%{x}<br>แกนคุณลักษณะหลักที่ 2 (PC2)=%{y}<extra></extra>",
         "hovertext": [
          "VK M1 Pro",
          "VK M2 Pro",
          "VK M2",
          "VK M1"
         ],
         "legendgroup": "Valkyrie",
         "marker": {
          "color": "#636efa",
          "symbol": "circle"
         },
         "mode": "markers",
         "name": "Valkyrie",
         "showlegend": true,
         "type": "scattergl",
         "x": {
          "bdata": "mt+aX7h6+r+7KetHOlXTP/6FLsHuhvA/Q0l4gaDm8b8=",
          "dtype": "f8"
         },
         "xaxis": "x",
         "y": {
          "bdata": "gVYuo1eq8j+MQQi+lUkAQKtEgD/LdOw/ktXU09z90D8=",
          "dtype": "f8"
         },
         "yaxis": "y"
        },
        {
         "hovertemplate": "<b>%{hovertext}</b><br><br>Brand=Logitech<br>แกนคุณลักษณะหลักที่ 1 (PC1)=%{x}<br>แกนคุณลักษณะหลักที่ 2 (PC2)=%{y}<extra></extra>",
         "hovertext": [
          "G Pro X Superlight 2 SE",
          "G900",
          "ERGO M575",
          "M196",
          "MX Anywhere 3S",
          "MX Anywhere 2S",
          "M170",
          "M705 Marathon",
          "POP Mouse",
          "Pebble 2 M350s",
          "Pebble M350",
          "M340",
          "M550 L",
          "M550",
          "M650 L Left",
          "M650 L",
          "M650",
          "M240",
          "M190",
          "G Pro X Superlight 2 DEX",
          "G Pro 2 Lightspeed",
          "G309",
          "G703 Lightspeed",
          "MX Master 3S",
          "MX Master 3",
          "MX Master 2S",
          "MX Master",
          "G304 Lightspeed",
          "G602",
          "M720 Triathlon",
          "Lift Vertical",
          "MX Vertical",
          "G102 Lightsync",
          "G705",
          "G303 Shroud Edition",
          "G604 Lightspeed",
          "G903 Lightspeed",
          "G Pro Wireless",
          "G Pro X Superlight",
          "G Pro",
          "G403 Wireless",
          "G403",
          "G603 Lightspeed",
          "G403 Hero",
          "G203 Prodigy",
          "G305 Lightspeed",
          "G203 Lightsync",
          "G502 Hero",
          "G502 Lightspeed",
          "M171",
          "G103 Prodigy",
          "B100",
          "G600",
          "G9x",
          "G Pro X Superlight 2",
          "G402 Hyperion Fury",
          "G300s",
          "M100",
          "MX Anywhere",
          "M510",
          "G502 X Plus",
          "G502 X Lightspeed",
          "G502 X",
          "M185",
          "M280",
          "M187",
          "M238",
          "G100s",
          "G303 Daedalus Apex",
          "G3",
          "MX518",
          "G400",
          "G400s",
          "G MX518"
         ],
         "legendgroup": "Logitech",
         "marker": {
          "color": "#EF553B",
          "symbol": "circle"
         },
         "mode": "markers",
         "name": "Logitech",
         "showlegend": true,
         "type": "scattergl",
         "x": {
          "bdata": "l/p27jrs67+wIi1HkqvzP6R+KI9GfyBAoZg9eICMtb/gUkS7IHz1P+BSRLsgfPU/ppGYNxBr3L+po5fE+pQRQEHRjLtQKLO/7d5Iy/w66b/ilw40ia2lv6V6eiaPdOS/u8JVp6rT7j9ZlBLgNEHVv7CVqNF6mfU/sJWo0XqZ9T/gWYQRqOWsP9GQPaFeRcO/YJJQe2cG9j8pOzEe+c3pP0cgGS28POu/qGXGo0ofxL/SrJ4yqB0EQKn8NTD59x1AlFJIsMBTHkBzqMWRdYkeQOib4viyiR5AKHvE4YeZtz8oNy3NCCcZQNI+tfLAhBRA7vS8Ag+NGkDniz18PJghQF9V2bA5Fsi/tV0lTFXgA0Ajg2Z2zDiRP0TEkEelURRAZMLMrUYE8T/JitdjWS20v7Wn0CTF7N6/Wt05zhCD37/m2xbDD/8FQPaxmIXHWQJAW+m+ixu3AkDjgiD1X3gAQF9V2bA5Fsi/KHvE4YeZtz9fVdmwORbIv6XzuCWCKgxAyN7LhmbsCkDM9K9YAGTZv19V2bA5Fsi/NUwwMS5O6D8jkl3pISwaQObzxOziVxRAyn5jNAY79b81HRuy8usMQNLxFIhXV9A/lUx6YGgf6j/gUkS7IHz1P0wYsMys0gVAW/29XQTpDEBaM301Pt4LQKxrBkEo9QlAgawP76flt7+JOseKXZv0P63+f1xwsgvAikAQv9s2978Y3IWDtLrRP4YG1XqBScG//YGE7KkS9z/WbTv1pvQMQL2DD6B1kwxAOjqGRUGyDEAk1m0hCU4IQA==",
          "dtype": "f8"
         },
         "xaxis": "x",
         "y": {
          "bdata": "QInFVG5J7T8GJPG3SQfwv2V+7xqTYAzA/irzsAXJHcAyUBCFrH8fwDJQEIWsfx/AGhC3Q9I3HsCi6QvvmlMbwFo+Uhx2qh7ASbQbufkzIcCfIN0/vk8jwFowD9TtnyHAFvrs50D5/7+moT6T6vgGwFbqRzk2CP+/VupHOTYI/7/IrMzNXp0GwMp51lCo0hzACvyT8lLpGcBoJLEB7YUEQMnrC2sP3+4/qRdfTVpW57+NaVVvNUu0P003Le9frw3ASksUMkn6DsCULXFbjqIQwHYg5wrR1BDAlFCrirE5/7+BAxexhfbBP6G+bNAB7xfA4CyDTytPDsCnOqMEJssCwAaxqIgDBPu//mpnRVw5F8B+7IlLoC3Bv+vKoaB/Z/A/0b1mRK7M4r9vjGy4xybRv2oSQieFp8Y/RL9YKF3r8L8JS1CfHSLavz2OZ7JOArE/tYcnUFJrkz9+xN9Tv7rhPwaxqIgDBPu/lFCrirE5/78GsaiIAwT7v/16epDbgdM/73JxNUR+3T88no13fHYewAaxqIgDBPu/VgpbdtMkHMA2A8e1S9oSwBxKUEqoIBnAyAOZgM7P9z8jjUl7mt2uv3Bm2aReV/W/TrwMMSxuHMAyUBCFrH8fwCLmzHhtaRzA2PDSHFLK7j9m0iwKUmzxP1r3Ei0dJPU/gvV2laVHHcCLPKSoiGMAwGpKMRStTRHAk9t3csNFDsBtH8xvWWcHwCgWklPCvvq/QKXnoF7cGcAufceHbSfLv7Corv+9ury/6J8365Wdvr87OKaaKIPqPw==",
          "dtype": "f8"
         },
         "yaxis": "y"
        },
        {
         "hovertemplate": "<b>%{hovertext}</b><br><br>Brand=Flick<br>แกนคุณลักษณะหลักที่ 1 (PC1)=%{x}<br>แกนคุณลักษณะหลักที่ 2 (PC2)=%{y}<extra></extra>",
         "hovertext": [
          "Fire"
         ],
         "legendgroup": "Flick",
         "marker": {
          "color": "#00cc96",
          "symbol": "circle"
         },
         "mode": "markers",
         "name": "Flick",
         "showlegend": true,
         "type": "scattergl",
         "x": {
          "bdata": "GOcgn5C19r8=",
          "dtype": "f8"
         },
         "xaxis": "x",
         "y": {
          "bdata": "osjNcA/54T8=",
          "dtype": "f8"
         },
         "yaxis": "y"
        },
        {
         "hovertemplate": "<b>%{hovertext}</b><br><br>Brand=IYX<br>แกนคุณลักษณะหลักที่ 1 (PC1)=%{x}<br>แกนคุณลักษณะหลักที่ 2 (PC2)=%{y}<extra></extra>",
         "hovertext": [
          "Amber"
         ],
         "legendgroup": "IYX",
         "marker": {
          "color": "#ab63fa",
          "symbol": "circle"
         },
         "mode": "markers",
         "name": "IYX",
         "showlegend": true,
         "type": "scattergl",
         "x": {
          "bdata": "cl8JLNgRA8A=",
          "dtype": "f8"
         },
         "xaxis": "x",
         "y": {
          "bdata": "Qtn79KBc6j8=",
          "dtype": "f8"
         },
         "yaxis": "y"
        },
        {
         "hovertemplate": "<b>%{hovertext}</b><br><br>Brand=PMM<br>แกนคุณลักษณะหลักที่ 1 (PC1)=%{x}<br>แกนคุณลักษณะหลักที่ 2 (PC2)=%{y}<extra></extra>",
         "hovertext": [
          "ZEN 8K Mini",
          "Fuse 8K",
          "CYBER ZK",
          "CYBER 4.1",
          "VORTEX 4K M",
          "ZEN 8K",
          "CYBER 4.0",
          "CRAZE 8K",
          "NEO 8K",
          "VORTEX 8K M",
          "VORTEX 8K S",
          "VORTEX M",
          "VORTEX S",
          "FUSE",
          "CORE",
          "BLAZE",
          "NITE 8K",
          "TITAN M",
          "TITAN S",
          "TITAN 8K L",
          "CYBER 8K",
          "AIM 8K"
         ],
         "legendgroup": "PMM",
         "marker": {
          "color": "#FFA15A",
          "symbol": "circle"
         },
         "mode": "markers",
         "name": "PMM",
         "showlegend": true,
         "type": "scattergl",
         "x": {
          "bdata": "Wa7lawdzA8Br7icsf/D7v2oc4i6HTRXAcvt2OjVIE8AYh+ue3fP+v7Y3/VLNDPu/Sdm2/+/+FcBxiItMLQjYv2jPrqMm4QLAtqasNCju/79VktcLM/MEwNtEkM7Y0Oq/lHIPOqd19798CVo5sGvlvx8KirvoJuW/WByS5io+8L+pM5vJoGf9v0oi3c+H5PK/wKwzdF+8979M5uXVt9/6vza24CrsBRTA36PBUwg2F8A=",
          "dtype": "f8"
         },
         "xaxis": "x",
         "y": {
          "bdata": "jjewX6jr+D+P3ve8oCP4PysExkmADve/4zBUmKcG6L9HP9qP8aLqP9WdJ8/2lf8/gOFbPSgF9r9FNyU+9PQAQILHMhaeI/Y/Dmo7D8gl9T/M/ivpyOzrP0u8J/Ne/9W/WKKghcf76b+/9SWw00GsvxVwDJMefNW/gBBuXNgm4L/mp51NRdLrP+tmlRpPH9M/OF/LoZgv77++9xlJLkD6P0ucmH0Muuy/wiUVB18H878=",
          "dtype": "f8"
         },
         "yaxis": "y"
        },
        {
         "hovertemplate": "<b>%{hovertext}</b><br><br>Brand=Precision<br>แกนคุณลักษณะหลักที่ 1 (PC1)=%{x}<br>แกนคุณลักษณะหลักที่ 2 (PC2)=%{y}<extra></extra>",
         "hovertext": [
          "GG Titan-0"
         ],
         "legendgroup": "Precision",
         "marker": {
          "color": "#19d3f3",
          "symbol": "circle"
         },
         "mode": "markers",
         "name": "Precision",
         "showlegend": true,
         "type": "scattergl",
         "x": {
          "bdata": "PcMulBzTG8A=",
          "dtype": "f8"
         },
         "xaxis": "x",
         "y": {
          "bdata": "VnrUZXw3E8A=",
          "dtype": "f8"
         },
         "yaxis": "y"
        },
        {
         "hovertemplate": "<b>%{hovertext}</b><br><br>Brand=Glorious<br>แกนคุณลักษณะหลักที่ 1 (PC1)=%{x}<br>แกนคุณลักษณะหลักที่ 2 (PC2)=%{y}<extra></extra>",
         "hovertext": [
          "Model O Eternal",
          "Model O 2 Mini Wireless",
          "Model O 2 Mini",
          "Series 2 Pro",
          "Model D 2 Wireless",
          "Model D 2 Wired",
          "Model O Pro",
          "Series One Pro",
          "Model D Wireless",
          "Model D",
          "Model D-",
          "Model I",
          "Model O",
          "Model O-",
          "Model D- Wireless",
          "Model O 2 Pro 4K/8K",
          "Model O 2 Pro 1K",
          "Model D 2 Pro 4K/8K",
          "Model D 2 Pro 1K",
          "Model D Pro",
          "Model I 2 Wireless",
          "Model O 2 Wired",
          "Model O 2 Wireless",
          "Model O- Wireless",
          "Model O Wireless"
         ],
         "legendgroup": "Glorious",
         "marker": {
          "color": "#FF6692",
          "symbol": "circle"
         },
         "mode": "markers",
         "name": "Glorious",
         "showlegend": true,
         "type": "scattergl",
         "x": {
          "bdata": "j5K4xK6+1L9K39oq6rL0v/aq4G9Z7/e/0q8CDjC3+r9UzXuSHrL5P5xwXjGWyfY/KRhNzO983L955Qa3iIDzv8BbTQtSv/s/KH0yTeKu/T/Gu+MkNJjxP+pEleIxwgRA01IzEm1apL9nO/Ko6Xbuv3NxxMas8fE/13XYs9me7b/eoLxRUJngv5I1GPBr+O8/1FxurxSG9j/Ivo3rmrr3P6K/8ZTX2QNAUzI8pVZk4b9Es0yrew/Vv7H5CfP5tOy/uk/K5fkDvb8=",
          "dtype": "f8"
         },
         "xaxis": "x",
         "y": {
          "bdata": "N+W70pP6pL9PJJ0aK+jTv/wEZzMjlLK/m2y6eonW3D9W42XykT7yP5GOqKxZQ/U/THys4D3hyj9ag/PyUFLNv/j9VsKVjug/kCAADZ2G4D9BFNktyrbCP4M2JXRimPQ/3Qe9aEmP1r+hQYS4j0rpvwgLN93ls84/l+Myss3D7T+/YUgz5y3aP8Gi6w1DIvw/APP0kZG68z+1E4kR+3nwP4I1U2fvifU/Jw0bBHOw0T+fxzm02nikP/LaymfQ2ue/jsiVSwKkw78=",
          "dtype": "f8"
         },
         "yaxis": "y"
        },
        {
         "hovertemplate": "<b>%{hovertext}</b><br><br>Brand=WLmouse<br>แกนคุณลักษณะหลักที่ 1 (PC1)=%{x}<br>แกนคุณลักษณะหลักที่ 2 (PC2)=%{y}<extra></extra>",
         "hovertext": [
          "Sword X",
          "Ying",
          "Beast X Max",
          "Beast Miao",
          "Beast X Mini Pro",
          "Beast X Pro",
          "Strider",
          "Beast X 8K",
          "Beast X Mini",
          "Beast X"
         ],
         "legendgroup": "WLmouse",
         "marker": {
          "color": "#B6E880",
          "symbol": "circle"
         },
         "mode": "markers",
         "name": "WLmouse",
         "showlegend": true,
         "type": "scattergl",
         "x": {
          "bdata": "SoL4WCY12T9ZTHVdxxIDwDTxVeNXP/e/zdNYN8yTEMDfGD3sxIAHwGuRksQJ2gDATpLFDj0P+b8pGlHWckwAwJ2h+/0t8wbACFiLQIVx/L8=",
          "dtype": "f8"
         },
         "xaxis": "x",
         "y": {
          "bdata": "guuYVHqGAEC0owZdct3vP5pIVdSGrPc/lBu16bkN27/KlqBak7TlPyzkfzCeqfE/VZz2Zrn98j+Ot/IdZbzuP/6Fkxe8HeE/hLi0TQFC5D8=",
          "dtype": "f8"
         },
         "yaxis": "y"
        },
        {
         "hovertemplate": "<b>%{hovertext}</b><br><br>Brand=Nintendo<br>แกนคุณลักษณะหลักที่ 1 (PC1)=%{x}<br>แกนคุณลักษณะหลักที่ 2 (PC2)=%{y}<extra></extra>",
         "hovertext": [
          "Joy-Con 2"
         ],
         "legendgroup": "Nintendo",
         "marker": {
          "color": "#FF97FF",
          "symbol": "circle"
         },
         "mode": "markers",
         "name": "Nintendo",
         "showlegend": true,
         "type": "scattergl",
         "x": {
          "bdata": "nX9WR1tj878=",
          "dtype": "f8"
         },
         "xaxis": "x",
         "y": {
          "bdata": "3MXGfPGEJsA=",
          "dtype": "f8"
         },
         "yaxis": "y"
        },
        {
         "hovertemplate": "<b>%{hovertext}</b><br><br>Brand=Angry<br>แกนคุณลักษณะหลักที่ 1 (PC1)=%{x}<br>แกนคุณลักษณะหลักที่ 2 (PC2)=%{y}<extra></extra>",
         "hovertext": [
          "Miao AM Infinity Mouse"
         ],
         "legendgroup": "Angry",
         "marker": {
          "color": "#FECB52",
          "symbol": "circle"
         },
         "mode": "markers",
         "name": "Angry",
         "showlegend": true,
         "type": "scattergl",
         "x": {
          "bdata": "7qP1f95F+b8=",
          "dtype": "f8"
         },
         "xaxis": "x",
         "y": {
          "bdata": "5J5baXHn7z8=",
          "dtype": "f8"
         },
         "yaxis": "y"
        },
        {
         "hovertemplate": "<b>%{hovertext}</b><br><br>Brand=Corsair<br>แกนคุณลักษณะหลักที่ 1 (PC1)=%{x}<br>แกนคุณลักษณะหลักที่ 2 (PC2)=%{y}<extra></extra>",
         "hovertext": [
          "Scimitar Elite Wireless SE",
          "M55 Wireless",
          "M55 Wired",
          "Dark Core RGB Pro",
          "M55 RGB Pro",
          "Glaive Pro",
          "Glaive RGB",
          "Nightsword RGB",
          "Scimitar Elite Wireless",
          "Scimitar RGB Elite",
          "Scimitar Pro RGB",
          "Scimitar RGB",
          "Sabre RGB Pro Wireless",
          "Sabre RGB Pro",
          "Sabre Pro",
          "Katar Elite Wireless",
          "Katar Pro Wireless",
          "Katar Pro XT",
          "Ironclaw RGB Wireless",
          "Ironclaw RGB",
          "Harpoon RGB Wireless",
          "Harpoon RGB Pro",
          "Harpoon RGB",
          "M75 Air Wireless",
          "M75 Wireless",
          "M75",
          "Nightsabre Wireless",
          "Darkstar Wireless",
          "M65 RGB Ultra Wireless",
          "M65 RGB Ultra",
          "M65 RGB Pro",
          "M65 RGB Elite",
          "Dark Core RGB Pro SE"
         ],
         "legendgroup": "Corsair",
         "marker": {
          "color": "#636efa",
          "symbol": "circle"
         },
         "mode": "markers",
         "name": "Corsair",
         "showlegend": true,
         "type": "scattergl",
         "x": {
          "bdata": "YYVJValBEUAA+bjdpM7lP6/WiYXlX7I/PJMg7t+AEUATmbJKN7DjP8HQLORw4AlAMcNcIDhlC0B7LUFD67wSQDJnOScS8RBAA+YOSSsDE0AEe2DCpmUVQKU2gTlyrBVACD3GsoDC/z+cZgTpm7n3P6S3anojIvg/v6b3y0YG6r/fw0lP6R/BP3zBOQXPa+K/Q3vGHfj1EkDjqvrMQpYQQMNL31Kq5wFA4rws2nhx+z+oIvGkPRr9Py9X/4r+hca/Jj2dsJum3z9I13LvPJ/Tv/JCF5SQq9w/QdojzaR7CEBoFDxMOAoGQG+lwNTiiABAgVzPFQ1kCUCqfp/eIh0HQDyTIO7fgBFA",
          "dtype": "f8"
         },
         "xaxis": "x",
         "y": {
          "bdata": "1lZ+dTFY8j8JEvkNqp4WwKEdIFa+ShTA5SiSnymGwj9KQ89vlEblvyt6SGkLPaE/0nwz2mXSyL/4+YoQUTbsPxs06re61/E/jccZpEY02z/CepfOkTzMv/veZW33S9e/Mx5w/gFF8D+gag95RPv5P/omc9TkPvc/sAwF46Ji4b/+5cqEJkf+v7YtlVBmPe6/ItKNQolJ4T8xwtYa64vxP3rSLjG2lfS/2HTvmjbX4L8KDoN/ebnnv7s0Jo9ApuM/sPgJoPkZub+59qI1Q/zqP4S9g0m49dy/W8cPAaGA8D8T9Iqu/ymuvzmYyiJM5+c/RH1iCHUW5781WJpszrfWv+Uokp8phsI/",
          "dtype": "f8"
         },
         "yaxis": "y"
        },
        {
         "hovertemplate": "<b>%{hovertext}</b><br><br>Brand=ThundeRobot<br>แกนคุณลักษณะหลักที่ 1 (PC1)=%{x}<br>แกนคุณลักษณะหลักที่ 2 (PC2)=%{y}<extra></extra>",
         "hovertext": [
          "ML8",
          "ML4",
          "ML6 Pro",
          "ML9 Mini",
          "ML9S",
          "ML901",
          "ML602",
          "ML903"
         ],
         "legendgroup": "ThundeRobot",
         "marker": {
          "color": "#EF553B",
          "symbol": "circle"
         },
         "mode": "markers",
         "name": "ThundeRobot",
         "showlegend": true,
         "type": "scattergl",
         "x": {
          "bdata": "kls+Jzrt978NfNupdWfyv0QWY5I2a/A/qY28zMsB/b9rGHhKSUjtv/6WnCOcusy/59OQRgrd2b9WRGbBuNHlvw==",
          "dtype": "f8"
         },
         "xaxis": "x",
         "y": {
          "bdata": "DbWxaTtJ1z8RNPGoQDvwvydEvXJpkfA/ER9Oo7jo1j+ezB5wIDjmPybRy0QOfMq/qixWZ78yzT8qIMM7NhDVPw==",
          "dtype": "f8"
         },
         "yaxis": "y"
        },
        {
         "hovertemplate": "<b>%{hovertext}</b><br><br>Brand=Chilkey<br>แกนคุณลักษณะหลักที่ 1 (PC1)=%{x}<br>แกนคุณลักษณะหลักที่ 2 (PC2)=%{y}<extra></extra>",
         "hovertext": [
          "Glacier LW 8K M"
         ],
         "legendgroup": "Chilkey",
         "marker": {
          "color": "#00cc96",
          "symbol": "circle"
         },
         "mode": "markers",
         "name": "Chilkey",
         "showlegend": true,
         "type": "scattergl",
         "x": {
          "bdata": "XCbYb8gv/b8=",
          "dtype": "f8"
         },
         "xaxis": "x",
         "y": {
          "bdata": "XOojyNi16j8=",
          "dtype": "f8"
         },
         "yaxis": "y"
        },
        {
         "hovertemplate": "<b>%{hovertext}</b><br><br>Brand=UNIUS<br>แกนคุณลักษณะหลักที่ 1 (PC1)=%{x}<br>แกนคุณลักษณะหลักที่ 2 (PC2)=%{y}<extra></extra>",
         "hovertext": [
          "Black Lotus"
         ],
         "legendgroup": "UNIUS",
         "marker": {
          "color": "#ab63fa",
          "symbol": "circle"
         },
         "mode": "markers",
         "name": "UNIUS",
         "showlegend": true,
         "type": "scattergl",
         "x": {
          "bdata": "UKJho7dS/r8=",
          "dtype": "f8"
         },
         "xaxis": "x",
         "y": {
          "bdata": "Jk8b1OSe8z8=",
          "dtype": "f8"
         },
         "yaxis": "y"
        },
        {
         "hovertemplate": "<b>%{hovertext}</b><br><br>Brand=Fantech<br>แกนคุณลักษณะหลักที่ 1 (PC1)=%{x}<br>แกนคุณลักษณะหลักที่ 2 (PC2)=%{y}<extra></extra>",
         "hovertext": [
          "Tanto S",
          "Tanto",
          "Tanto E",
          "Go XD5",
          "Aria E",
          "Aria II Pro",
          "Aria II",
          "Helios II Pro S",
          "Helios XD3V2",
          "Helios II Pro",
          "X11 Daredevil",
          "Helios XD3",
          "Aria XD7"
         ],
         "legendgroup": "Fantech",
         "marker": {
          "color": "#FFA15A",
          "symbol": "circle"
         },
         "mode": "markers",
         "name": "Fantech",
         "showlegend": true,
         "type": "scattergl",
         "x": {
          "bdata": "KPctwR1Y97+q9QUENRPwv8u2NtKOMum/gNWJvFll8T9P1ywhQG7pvxZ4YGdBPPq/l3Y4qlj38r+04kdbrvr2v4WxqO55pca/agYx703T8r/sgF/SRe4PQHAal8NmAsC/da5glECW8L8=",
          "dtype": "f8"
         },
         "xaxis": "x",
         "y": {
          "bdata": "LxUda0X23T/Une+2X9i6v3pppY8/guK/r/LUPtU9Nb+OqAoN2onov6/6CMLus94/4AdAW7rht7/dGJPGnIbkP4ag4nt5sO6/pjOq7HEY1D+GzMnSBC7Ov5I2FnfNEPG/f9u5RNHz0L8=",
          "dtype": "f8"
         },
         "yaxis": "y"
        },
        {
         "hovertemplate": "<b>%{hovertext}</b><br><br>Brand=Orbital<br>แกนคุณลักษณะหลักที่ 1 (PC1)=%{x}<br>แกนคุณลักษณะหลักที่ 2 (PC2)=%{y}<extra></extra>",
         "hovertext": [
          "Pathfinder AAM-222",
          "Pathfinder AAM-000"
         ],
         "legendgroup": "Orbital",
         "marker": {
          "color": "#19d3f3",
          "symbol": "circle"
         },
         "mode": "markers",
         "name": "Orbital",
         "showlegend": true,
         "type": "scattergl",
         "x": {
          "bdata": "WP8keEXJAMBtseXBCGgGwA==",
          "dtype": "f8"
         },
         "xaxis": "x",
         "y": {
          "bdata": "p/IEwU6u2j8o9uddRf26vw==",
          "dtype": "f8"
         },
         "yaxis": "y"
        },
        {
         "hovertemplate": "<b>%{hovertext}</b><br><br>Brand=Metaphyuni<br>แกนคุณลักษณะหลักที่ 1 (PC1)=%{x}<br>แกนคุณลักษณะหลักที่ 2 (PC2)=%{y}<extra></extra>",
         "hovertext": [
          "M6",
          "P2 Pro",
          "P2 Lite",
          "P2",
          "Metapanda P1 Pro Max",
          "Metapanda P1 Pro",
          "Metapanda P1"
         ],
         "legendgroup": "Metaphyuni",
         "marker": {
          "color": "#FF6692",
          "symbol": "circle"
         },
         "mode": "markers",
         "name": "Metaphyuni",
         "showlegend": true,
         "type": "scattergl",
         "x": {
          "bdata": "qEgktvEbAMC3FErPT8v3v9WgrxyNTum/OBMiEmeG8L/nSIBb8ILsP+dIgFvwguw/W0LfO4n67j8=",
          "dtype": "f8"
         },
         "xaxis": "x",
         "y": {
          "bdata": "9E86oqk08z8aFge9R6LVPxKuljj8lOe/Es2jNysUzr+6AHna98vuP7oAedr3y+4/glneOegF6z8=",
          "dtype": "f8"
         },
         "yaxis": "y"
        },
        {
         "hovertemplate": "<b>%{hovertext}</b><br><br>Brand=EWEADN<br>แกนคุณลักษณะหลักที่ 1 (PC1)=%{x}<br>แกนคุณลักษณะหลักที่ 2 (PC2)=%{y}<extra></extra>",
         "hovertext": [
          "X23 Max",
          "X23 Pro",
          "X23 SE",
          "X23",
          "M9",
          "X21 Pro",
          "X21",
          "L1 Pro",
          "L1",
          "S9 Ultra",
          "S9 Pro",
          "S9"
         ],
         "legendgroup": "EWEADN",
         "marker": {
          "color": "#B6E880",
          "symbol": "circle"
         },
         "mode": "markers",
         "name": "EWEADN",
         "showlegend": true,
         "type": "scattergl",
         "x": {
          "bdata": "LVvlBUEz8L+/MDYEQajov78wNgRBqOi/vzA2BEGo6L/CTjCHdNj6v4DtnyJYCvk/dNVw+ZMw/D9kXTmykEv+v2RdObKQS/6/C6o3VuyR7r/n7WPo4FHmv8f98j5JXNG/",
          "dtype": "f8"
         },
         "xaxis": "x",
         "y": {
          "bdata": "O9zC/mymqj8QGoM1FcvcvxAagzUVy9y/EBqDNRXL3L9tygKVL87iPxZRb7A/QPY/WatxP+rs7T8BYm/+ru/qPwFib/6u7+o/vI9ln0LT9z/0mudanPDtP0N16NU3Jdk/",
          "dtype": "f8"
         },
         "yaxis": "y"
        },
        {
         "hovertemplate": "<b>%{hovertext}</b><br><br>Brand=Zaopin<br>แกนคุณลักษณะหลักที่ 1 (PC1)=%{x}<br>แกนคุณลักษณะหลักที่ 2 (PC2)=%{y}<extra></extra>",
         "hovertext": [
          "ZPW Max",
          "ZPW",
          "Z2 Max",
          "Z1 Pro Max",
          "Z2 Mini Max 8K",
          "Z2 Mini 4K",
          "Z2 Mini",
          "Z2",
          "Z1 Pro",
          "Z1"
         ],
         "legendgroup": "Zaopin",
         "marker": {
          "color": "#FF97FF",
          "symbol": "circle"
         },
         "mode": "markers",
         "name": "Zaopin",
         "showlegend": true,
         "type": "scattergl",
         "x": {
          "bdata": "h932Ewb1wj+nUQ74dM7LPyXPSwUZ7NY/oLhFJoinAMD9lhyTU/Tavzuv1cJpqLe/IKQ8Thswuj8rfdkTKfvlPwqMDQukf/6/dbrO+C+g878=",
          "dtype": "f8"
         },
         "xaxis": "x",
         "y": {
          "bdata": "TgbV0udV/j/ofU4xfAr8P9iWsuvg/fM/I6LEv6il1j+SJztrlEXuP3cv4K+yaN4/0mEG7zlizT/cHRrEhuroP6/z/9kZuLA/DdgEauw96L8=",
          "dtype": "f8"
         },
         "yaxis": "y"
        },
        {
         "hovertemplate": "<b>%{hovertext}</b><br><br>Brand=RK<br>แกนคุณลักษณะหลักที่ 1 (PC1)=%{x}<br>แกนคุณลักษณะหลักที่ 2 (PC2)=%{y}<extra></extra>",
         "hovertext": [
          "Royal Kludge M3",
          "Royal Kludge M30"
         ],
         "legendgroup": "RK",
         "marker": {
          "color": "#FECB52",
          "symbol": "circle"
         },
         "mode": "markers",
         "name": "RK",
         "showlegend": true,
         "type": "scattergl",
         "x": {
          "bdata": "272DpfYZAMBaIfBvBIj1vw==",
          "dtype": "f8"
         },
         "xaxis": "x",
         "y": {
          "bdata": "P94Bl8ni9T+KN6H+qMjQPw==",
          "dtype": "f8"
         },
         "yaxis": "y"
        },
        {
         "hovertemplate": "<b>%{hovertext}</b><br><br>Brand=Xyder<br>แกนคุณลักษณะหลักที่ 1 (PC1)=%{x}<br>แกนคุณลักษณะหลักที่ 2 (PC2)=%{y}<extra></extra>",
         "hovertext": [
          "Amalight 4K"
         ],
         "legendgroup": "Xyder",
         "marker": {
          "color": "#636efa",
          "symbol": "circle"
         },
         "mode": "markers",
         "name": "Xyder",
         "showlegend": true,
         "type": "scattergl",
         "x": {
          "bdata": "d9NQ9uOJ578=",
          "dtype": "f8"
         },
         "xaxis": "x",
         "y": {
          "bdata": "dIWeWB8r6D8=",
          "dtype": "f8"
         },
         "yaxis": "y"
        },
        {
         "hovertemplate": "<b>%{hovertext}</b><br><br>Brand=Imecoo<br>แกนคุณลักษณะหลักที่ 1 (PC1)=%{x}<br>แกนคุณลักษณะหลักที่ 2 (PC2)=%{y}<extra></extra>",
         "hovertext": [
          "P1"
         ],
         "legendgroup": "Imecoo",
         "marker": {
          "color": "#EF553B",
          "symbol": "circle"
         },
         "mode": "markers",
         "name": "Imecoo",
         "showlegend": true,
         "type": "scattergl",
         "x": {
          "bdata": "HyXW5f5c6T8=",
          "dtype": "f8"
         },
         "xaxis": "x",
         "y": {
          "bdata": "af8e/KRpAEA=",
          "dtype": "f8"
         },
         "yaxis": "y"
        },
        {
         "hovertemplate": "<b>%{hovertext}</b><br><br>Brand=Vaidemi<br>แกนคุณลักษณะหลักที่ 1 (PC1)=%{x}<br>แกนคุณลักษณะหลักที่ 2 (PC2)=%{y}<extra></extra>",
         "hovertext": [
          "Nimbus"
         ],
         "legendgroup": "Vaidemi",
         "marker": {
          "color": "#00cc96",
          "symbol": "circle"
         },
         "mode": "markers",
         "name": "Vaidemi",
         "showlegend": true,
         "type": "scattergl",
         "x": {
          "bdata": "fyUYAiB//78=",
          "dtype": "f8"
         },
         "xaxis": "x",
         "y": {
          "bdata": "arvOw+1b+T8=",
          "dtype": "f8"
         },
         "yaxis": "y"
        },
        {
         "hovertemplate": "<b>%{hovertext}</b><br><br>Brand=Zowie<br>แกนคุณลักษณะหลักที่ 1 (PC1)=%{x}<br>แกนคุณลักษณะหลักที่ 2 (PC2)=%{y}<extra></extra>",
         "hovertext": [
          "EC3-DW",
          "EC2-DW",
          "EC1-DW",
          "ZA13-DW",
          "FK2-DW",
          "U2-DW",
          "S2-DW",
          "S1-B V2",
          "S1-B",
          "S1-C",
          "S2-B V2",
          "S2-B",
          "ZA13-B",
          "ZA12-B",
          "ZA12-C",
          "ZA11-B",
          "ZA11-C",
          "FK2-B V2",
          "FK2-B",
          "FK1-B V2",
          "FK1-B",
          "FK1+-B V2",
          "FK1+-B",
          "EC2-B V2",
          "EC2-B",
          "EC1-B V2",
          "EC1-B",
          "MiCO",
          "U2",
          "AM",
          "EC3-CW",
          "EC2-CW",
          "EC1-CW",
          "S2-C",
          "ZA13-C",
          "FK2-C",
          "FK1-C",
          "FK1+-C",
          "EC3-C",
          "EC2-C",
          "EC1-C"
         ],
         "legendgroup": "Zowie",
         "marker": {
          "color": "#ab63fa",
          "symbol": "circle"
         },
         "mode": "markers",
         "name": "Zowie",
         "showlegend": true,
         "type": "scattergl",
         "x": {
          "bdata": "nT55C38V8T9VRen17hb0Pzy8IhPdrP4/dvk7eZ1l2b8lkXbtG+jdv2/jgP/5QuG/Tu6mjglS4b/bymc9ugvjP9vKZz26C+M/Ksk8xQ/bzj+Q9bCGjauxP5D1sIaNq7E/0NiPInqvoz9vMoVACQveP1KCU5e9DtI/Z2JdwWDB7j+RSeyef3fnP/hn5z3/3Lc/+GfnPf/ctz+bbsh7+w/hP5tuyHv7D+E/oWhOv8Z+7T+haE6/xn7tP+pQEBjANAFA6lAQGMA0AUA1JMj+73oGQDUkyP7vegZAEiho1DMK/r8DMr260g/Wv9K8U/0e99c/4qsQ3YSj+j+8Z+WXQI79PyuHKckgxwNAZdhxlrvXz785ye5p+N7Jv7xp8QF5SMO/8uB+yxzw0j+nJFjvudfmPzZW8OuyXfg/oqQ137YP/D+SgJqqP/UDQA==",
          "dtype": "f8"
         },
         "xaxis": "x",
         "y": {
          "bdata": "xRfTydnexj9bFEFIXujWP0oPXin8p+g/+zgsaXnc4r+1jFy1SKLmv7otEeFLSuC/l+FS/BZG6b+ub/KWtCfzv65v8pa0J/O/jRD/NIv06b/vm7LnDh/4v++bsucOH/i/6iDPDRWn8b9cWB4f4a7qv89ujSC0N+S/5loBdaCQ4b+ZSI70PPPTv2QfayfC4PW/ZB9rJ8Lg9b+UVmgoHN7xv5RWaCgc3vG/2J4EGJHk6r/YngQYkeTqv+6ZPk0VguS/7pk+TRWC5L+qCcXgvHHIv6oJxeC8cci/rUIVaXTmCMACrT+9Fibov94tjm26/fe/mhECuRY74L8Rtv3layDUv3PoJzon5cM/Y29MCQdY8r9EuFpFRLjqv3gOUujxdPG/ggohFXJn67/bG3eRF9bjv8nGhbINhNa/8s82Sexly7/7gn5abfDAPw==",
          "dtype": "f8"
         },
         "yaxis": "y"
        },
        {
         "hovertemplate": "<b>%{hovertext}</b><br><br>Brand=Tecware<br>แกนคุณลักษณะหลักที่ 1 (PC1)=%{x}<br>แกนคุณลักษณะหลักที่ 2 (PC2)=%{y}<extra></extra>",
         "hovertext": [
          "EX1",
          "Pulse Elite"
         ],
         "legendgroup": "Tecware",
         "marker": {
          "color": "#FFA15A",
          "symbol": "circle"
         },
         "mode": "markers",
         "name": "Tecware",
         "showlegend": true,
         "type": "scattergl",
         "x": {
          "bdata": "3xxGEpd48L8Bmu0wVu/Jvw==",
          "dtype": "f8"
         },
         "xaxis": "x",
         "y": {
          "bdata": "Kj0aKV8Zwb+OtnxlZxbPvw==",
          "dtype": "f8"
         },
         "yaxis": "y"
        },
        {
         "hovertemplate": "<b>%{hovertext}</b><br><br>Brand=SOLAKAKA<br>แกนคุณลักษณะหลักที่ 1 (PC1)=%{x}<br>แกนคุณลักษณะหลักที่ 2 (PC2)=%{y}<extra></extra>",
         "hovertext": [
          "SM809 Pro",
          "SM802 Pro",
          "SM805",
          "SM850",
          "SM809",
          "SM802"
         ],
         "legendgroup": "SOLAKAKA",
         "marker": {
          "color": "#19d3f3",
          "symbol": "circle"
         },
         "mode": "markers",
         "name": "SOLAKAKA",
         "showlegend": true,
         "type": "scattergl",
         "x": {
          "bdata": "pbNMmb+tEkCW8YscBmnlvz90hT/U7fE/I6W9bNGD4j9y8ekBEdURQPXX7imKVdu/",
          "dtype": "f8"
         },
         "xaxis": "x",
         "y": {
          "bdata": "oIa6wQ9u/z9g3pH3TyaxvwJxzS4EV+A/h7xcI6Nn5D+HrryWSUwBQJj2n2m7NOK/",
          "dtype": "f8"
         },
         "yaxis": "y"
        },
        {
         "hovertemplate": "<b>%{hovertext}</b><br><br>Brand=Mighty<br>แกนคุณลักษณะหลักที่ 1 (PC1)=%{x}<br>แกนคุณลักษณะหลักที่ 2 (PC2)=%{y}<extra></extra>",
         "hovertext": [
          "Mouse MM8K"
         ],
         "legendgroup": "Mighty",
         "marker": {
          "color": "#FF6692",
          "symbol": "circle"
         },
         "mode": "markers",
         "name": "Mighty",
         "showlegend": true,
         "type": "scattergl",
         "x": {
          "bdata": "ykbK0dNCGMA=",
          "dtype": "f8"
         },
         "xaxis": "x",
         "y": {
          "bdata": "C2dcKjBZAMA=",
          "dtype": "f8"
         },
         "yaxis": "y"
        },
        {
         "hovertemplate": "<b>%{hovertext}</b><br><br>Brand=Redragon<br>แกนคุณลักษณะหลักที่ 1 (PC1)=%{x}<br>แกนคุณลักษณะหลักที่ 2 (PC2)=%{y}<extra></extra>",
         "hovertext": [
          "M813 Pro",
          "M813 Wired",
          "M995 Pro",
          "M995",
          "M991",
          "M810 Pro",
          "M693",
          "M656 Gainer",
          "M913 Impact Elite",
          "M908 Impact",
          "M996",
          "M724",
          "M916 Pro 4K",
          "M916 Pro",
          "G49 Pro",
          "M711 Cobra"
         ],
         "legendgroup": "Redragon",
         "marker": {
          "color": "#B6E880",
          "symbol": "circle"
         },
         "mode": "markers",
         "name": "Redragon",
         "showlegend": true,
         "type": "scattergl",
         "x": {
          "bdata": "1NUiYQPZA0D5f8a0/DoFQKux4TovLue/q7HhOi8u57+2q1EDUUUMQAkNZQFlpARAZOD4nVEgAED05IJ41k4QQPHGdzchOBlAUUaFJMyJGEBsY3kOs9T7v8cDYTD7zPC/7oIMmSXx9L+4XftHndPxv+6CDJkl8fS/4funEWwVAUA=",
          "dtype": "f8"
         },
         "xaxis": "x",
         "y": {
          "bdata": "GulsoXc98z82KDkb1QHrP7jqzZUInuE/uOrNlQie4T8V3jXUjViNv+Qk9Ol4S+M/nRg29S/N1r8CIHDMvQLyv5l257rFgPQ/hMiVSbfo9T+mJm3fmDHwP887ULIm16i/Dz689iJn3z/+fr58Gl/PPw8+vPYiZ98/up6w+RM55L8=",
          "dtype": "f8"
         },
         "yaxis": "y"
        },
        {
         "hovertemplate": "<b>%{hovertext}</b><br><br>Brand=JAMESDONKEY<br>แกนคุณลักษณะหลักที่ 1 (PC1)=%{x}<br>แกนคุณลักษณะหลักที่ 2 (PC2)=%{y}<extra></extra>",
         "hovertext": [
          "RSR5s",
          "RSR5"
         ],
         "legendgroup": "JAMESDONKEY",
         "marker": {
          "color": "#FF97FF",
          "symbol": "circle"
         },
         "mode": "markers",
         "name": "JAMESDONKEY",
         "showlegend": true,
         "type": "scattergl",
         "x": {
          "bdata": "R4pz99MX+r/LePbTATP7vw==",
          "dtype": "f8"
         },
         "xaxis": "x",
         "y": {
          "bdata": "G8Sib4HT3D/Zct76lwDjPw==",
          "dtype": "f8"
         },
         "yaxis": "y"
        },
        {
         "hovertemplate": "<b>%{hovertext}</b><br><br>Brand=ROCCAT<br>แกนคุณลักษณะหลักที่ 1 (PC1)=%{x}<br>แกนคุณลักษณะหลักที่ 2 (PC2)=%{y}<extra></extra>",
         "hovertext": [
          "LUA",
          "Kone XP Air",
          "Pure SEL",
          "Pure Air",
          "Tyon",
          "Kain 120 AIMO",
          "Kone Pure Ultra",
          "Kone AIMO Remastered",
          "Kain 100 AIMO",
          "Kain 200 AIMO",
          "Kone XP",
          "Kone Pro",
          "Kone Pro Air",
          "Burst Core",
          "Burst Pro",
          "Burst Pro Air"
         ],
         "legendgroup": "ROCCAT",
         "marker": {
          "color": "#FECB52",
          "symbol": "circle"
         },
         "mode": "markers",
         "name": "ROCCAT",
         "showlegend": true,
         "type": "scattergl",
         "x": {
          "bdata": "SuqtDY1i8L+HDXLfvUoKQJrqS8jcUPA/sUPjbml36j8Gvmq9RuAUQM1PdDaW6+Q/Sj8/DR9n9D8Mzakpe3oTQDtOXzGCEek/CPM+GmVg8D/C1PKPKecIQJ7/sb4tevw/JP7AHr7C/z9uwHCG/MHEvxRdDjnWrNK/JlrkC74In78=",
          "dtype": "f8"
         },
         "xaxis": "x",
         "y": {
          "bdata": "GH3TAnlyAMB7w5VayFngP6UPwfvfTNc/jPWjKeEm7D823yz+RC7gP0wO10tjjd+/i3wEkLrrwj+Vz66Q2UPhP6YGpEOFYei/pA6pff5V7L88nK+YZETNP+PwJTvIsuk/dyxMJ5zZ4j/5E7Xy2ULpv3uU/FQGqOC/KTsN9Ets6L8=",
          "dtype": "f8"
         },
         "yaxis": "y"
        },
        {
         "hovertemplate": "<b>%{hovertext}</b><br><br>Brand=Realforce<br>แกนคุณลักษณะหลักที่ 1 (PC1)=%{x}<br>แกนคุณลักษณะหลักที่ 2 (PC2)=%{y}<extra></extra>",
         "hovertext": [
          "RM1"
         ],
         "legendgroup": "Realforce",
         "marker": {
          "color": "#636efa",
          "symbol": "circle"
         },
         "mode": "markers",
         "name": "Realforce",
         "showlegend": true,
         "type": "scattergl",
         "x": {
          "bdata": "cuHIzrBI/z8=",
          "dtype": "f8"
         },
         "xaxis": "x",
         "y": {
          "bdata": "+MbWvFDCtL8=",
          "dtype": "f8"
         },
         "yaxis": "y"
        },
        {
         "hovertemplate": "<b>%{hovertext}</b><br><br>Brand=Lenovo<br>แกนคุณลักษณะหลักที่ 1 (PC1)=%{x}<br>แกนคุณลักษณะหลักที่ 2 (PC2)=%{y}<extra></extra>",
         "hovertext": [
          "Yoga Pro",
          "Legion M410",
          "Legion M600s",
          "Legion M300s"
         ],
         "legendgroup": "Lenovo",
         "marker": {
          "color": "#EF553B",
          "symbol": "circle"
         },
         "mode": "markers",
         "name": "Lenovo",
         "showlegend": true,
         "type": "scattergl",
         "x": {
          "bdata": "i7Peb1LaEUD17SyPj8nlPxd1ufYYje6/352D+SIY8b8=",
          "dtype": "f8"
         },
         "xaxis": "x",
         "y": {
          "bdata": "8G6H7MYnEsBDOYpwa13wv06bTvwcMO6/dGvvmmlU778=",
          "dtype": "f8"
         },
         "yaxis": "y"
        },
        {
         "hovertemplate": "<b>%{hovertext}</b><br><br>Brand=HaunterWell<br>แกนคุณลักษณะหลักที่ 1 (PC1)=%{x}<br>แกนคุณลักษณะหลักที่ 2 (PC2)=%{y}<extra></extra>",
         "hovertext": [
          "HZS",
          "HMF",
          "HFC",
          "HZ1"
         ],
         "legendgroup": "HaunterWell",
         "marker": {
          "color": "#00cc96",
          "symbol": "circle"
         },
         "mode": "markers",
         "name": "HaunterWell",
         "showlegend": true,
         "type": "scattergl",
         "x": {
          "bdata": "2z02GqKMEsDMSRc2+QMTwPOonZpKuA/Ary3gclcYB8A=",
          "dtype": "f8"
         },
         "xaxis": "x",
         "y": {
          "bdata": "Emww5gaa6b+KGJdfKSDwv9C2liNooOG/3S7Bpbbu2D8=",
          "dtype": "f8"
         },
         "yaxis": "y"
        },
        {
         "hovertemplate": "<b>%{hovertext}</b><br><br>Brand=Akko<br>แกนคุณลักษณะหลักที่ 1 (PC1)=%{x}<br>แกนคุณลักษณะหลักที่ 2 (PC2)=%{y}<extra></extra>",
         "hovertext": [
          "Pulse 01",
          "AG ONE 8K",
          "AG One NearLink",
          "AG325W",
          "AG325C",
          "AG325"
         ],
         "legendgroup": "Akko",
         "marker": {
          "color": "#ab63fa",
          "symbol": "circle"
         },
         "mode": "markers",
         "name": "Akko",
         "showlegend": true,
         "type": "scattergl",
         "x": {
          "bdata": "+WQeovya5r8BDkYcHA/tv8/ZXB+tr+e/PKHE2D2Y8T+fSTa7LLXCPxdO4Fr65sg/",
          "dtype": "f8"
         },
         "xaxis": "x",
         "y": {
          "bdata": "idC3v3pV4D/Uww1MpUzjPxu88ov+p9o/RlPifCKqFcB+hnFHYGfrvwzfLcPDne6/",
          "dtype": "f8"
         },
         "yaxis": "y"
        },
        {
         "hovertemplate": "<b>%{hovertext}</b><br><br>Brand=Pwnage<br>แกนคุณลักษณะหลักที่ 1 (PC1)=%{x}<br>แกนคุณลักษณะหลักที่ 2 (PC2)=%{y}<extra></extra>",
         "hovertext": [
          "StormBreaker V3",
          "StormBreaker V2",
          "Trinity CF",
          "StormBreaker Max CF",
          "StormBreaker",
          "Ergo Wireless",
          "Ergo",
          "Ambi Wireless",
          "Symm 2",
          "Symm 2 Wireless",
          "Symm 1",
          "Symm 1 Wireless"
         ],
         "legendgroup": "Pwnage",
         "marker": {
          "color": "#FFA15A",
          "symbol": "circle"
         },
         "mode": "markers",
         "name": "Pwnage",
         "showlegend": true,
         "type": "scattergl",
         "x": {
          "bdata": "QJfZC4ADqz/YkKHjg+PPP/RlD2CUJQLAp72+rng96T/IHBbRoUfgP0OHHG+js/U/Ov2eD4Po8z/ljiBuu37rv6epcVO/WvC/e/U4WSDF6L/JT2Y1IIrsv2+mCGi/+ea/",
          "dtype": "f8"
         },
         "xaxis": "x",
         "y": {
          "bdata": "S4aqA19nAEDOG7Q1iKn6P/w2Y46GYvE/9zIfsvyCBEBKHJVNVmz1P/NUoea+Mtg/PbXZYiqk3D8sdRlhMSbvv3sZlT/TH+S/JqZXCo/c67+33oFAHSDqv+DponavIO+/",
          "dtype": "f8"
         },
         "yaxis": "y"
        },
        {
         "hovertemplate": "<b>%{hovertext}</b><br><br>Brand=Teevolution<br>แกนคุณลักษณะหลักที่ 1 (PC1)=%{x}<br>แกนคุณลักษณะหลักที่ 2 (PC2)=%{y}<extra></extra>",
         "hovertext": [
          "Terra",
          "Aria XD7",
          "Helios II Pro"
         ],
         "legendgroup": "Teevolution",
         "marker": {
          "color": "#19d3f3",
          "symbol": "circle"
         },
         "mode": "markers",
         "name": "Teevolution",
         "showlegend": true,
         "type": "scattergl",
         "x": {
          "bdata": "4+9qwmCl5j91rmCUQJbwv2oGMe9N0/K/",
          "dtype": "f8"
         },
         "xaxis": "x",
         "y": {
          "bdata": "ACz2HTO0AUB/27lE0fPQv6YzquxxGNQ/",
          "dtype": "f8"
         },
         "yaxis": "y"
        },
        {
         "hovertemplate": "<b>%{hovertext}</b><br><br>Brand=GravaStar<br>แกนคุณลักษณะหลักที่ 1 (PC1)=%{x}<br>แกนคุณลักษณะหลักที่ 2 (PC2)=%{y}<extra></extra>",
         "hovertext": [
          "Mercury X Pro",
          "Mercury X",
          "Mercury M2",
          "Mercury M1 Pro"
         ],
         "legendgroup": "GravaStar",
         "marker": {
          "color": "#FF6692",
          "symbol": "circle"
         },
         "mode": "markers",
         "name": "GravaStar",
         "showlegend": true,
         "type": "scattergl",
         "x": {
          "bdata": "DO/+18eO9b8b2601vpPsvxtDmoKn6KK/Lgx48tC+kr8=",
          "dtype": "f8"
         },
         "xaxis": "x",
         "y": {
          "bdata": "p4CMs6369T/+gqy6LJ/pPwqj0GE7u8q/5qSac6k3yb8=",
          "dtype": "f8"
         },
         "yaxis": "y"
        },
        {
         "hovertemplate": "<b>%{hovertext}</b><br><br>Brand=NZXT<br>แกนคุณลักษณะหลักที่ 1 (PC1)=%{x}<br>แกนคุณลักษณะหลักที่ 2 (PC2)=%{y}<extra></extra>",
         "hovertext": [
          "Lift Elite Wireless",
          "Lift 2 Ergo",
          "Lift 2 Symm",
          "Lift"
         ],
         "legendgroup": "NZXT",
         "marker": {
          "color": "#B6E880",
          "symbol": "circle"
         },
         "mode": "markers",
         "name": "NZXT",
         "showlegend": true,
         "type": "scattergl",
         "x": {
          "bdata": "gNS5F8jG+r/xhG1VhNboP2N75IgNDey/g8Iv/ekMo78=",
          "dtype": "f8"
         },
         "xaxis": "x",
         "y": {
          "bdata": "HaceMUS71z/chAxyVWD6PyvFv6TQse8/2t4NVd0Ixr8=",
          "dtype": "f8"
         },
         "yaxis": "y"
        },
        {
         "hovertemplate": "<b>%{hovertext}</b><br><br>Brand=strayfe<br>แกนคุณลักษณะหลักที่ 1 (PC1)=%{x}<br>แกนคุณลักษณะหลักที่ 2 (PC2)=%{y}<extra></extra>",
         "hovertext": [
          "M55 Pro 8k"
         ],
         "legendgroup": "strayfe",
         "marker": {
          "color": "#FF97FF",
          "symbol": "circle"
         },
         "mode": "markers",
         "name": "strayfe",
         "showlegend": true,
         "type": "scattergl",
         "x": {
          "bdata": "5DZpYkgO978=",
          "dtype": "f8"
         },
         "xaxis": "x",
         "y": {
          "bdata": "SE+nGYkV5z8=",
          "dtype": "f8"
         },
         "yaxis": "y"
        },
        {
         "hovertemplate": "<b>%{hovertext}</b><br><br>Brand=Waizowl<br>แกนคุณลักษณะหลักที่ 1 (PC1)=%{x}<br>แกนคุณลักษณะหลักที่ 2 (PC2)=%{y}<extra></extra>",
         "hovertext": [
          "OGM Cloud XS",
          "OGM One",
          "OGM Cloud V2",
          "OGM Pro V2",
          "OGM Cloud",
          "OGM Pro"
         ],
         "legendgroup": "Waizowl",
         "marker": {
          "color": "#FECB52",
          "symbol": "circle"
         },
         "mode": "markers",
         "name": "Waizowl",
         "showlegend": true,
         "type": "scattergl",
         "x": {
          "bdata": "Ox+N/hgxAcDz4H1nnwfkP+iGO4V8EPC/EAem743T7784eEN53Jvlv+iyGK/px7g/",
          "dtype": "f8"
         },
         "xaxis": "x",
         "y": {
          "bdata": "9gLaeZ4p5j+elFNq/ODpvwo92xUFHfM/MAMn5fgE9D9CamsYzyjnPz+7jfxiNMA/",
          "dtype": "f8"
         },
         "yaxis": "y"
        },
        {
         "hovertemplate": "<b>%{hovertext}</b><br><br>Brand=cOoLm0Dz<br>แกนคุณลักษณะหลักที่ 1 (PC1)=%{x}<br>แกนคุณลักษณะหลักที่ 2 (PC2)=%{y}<extra></extra>",
         "hovertext": [
          "OPt1p",
          "finalt1p"
         ],
         "legendgroup": "cOoLm0Dz",
         "marker": {
          "color": "#636efa",
          "symbol": "circle"
         },
         "mode": "markers",
         "name": "cOoLm0Dz",
         "showlegend": true,
         "type": "scattergl",
         "x": {
          "bdata": "E2bi0JSeC8CDsuYxWjwNwA==",
          "dtype": "f8"
         },
         "xaxis": "x",
         "y": {
          "bdata": "l/BYr0EztT9sH5eyLmzKPw==",
          "dtype": "f8"
         },
         "yaxis": "y"
        },
        {
         "hovertemplate": "<b>%{hovertext}</b><br><br>Brand=IPI<br>แกนคุณลักษณะหลักที่ 1 (PC1)=%{x}<br>แกนคุณลักษณะหลักที่ 2 (PC2)=%{y}<extra></extra>",
         "hovertext": [
          "Float"
         ],
         "legendgroup": "IPI",
         "marker": {
          "color": "#EF553B",
          "symbol": "circle"
         },
         "mode": "markers",
         "name": "IPI",
         "showlegend": true,
         "type": "scattergl",
         "x": {
          "bdata": "E1KFpnUXAcA=",
          "dtype": "f8"
         },
         "xaxis": "x",
         "y": {
          "bdata": "RgqFVYk85z8=",
          "dtype": "f8"
         },
         "yaxis": "y"
        },
        {
         "hovertemplate": "<b>%{hovertext}</b><br><br>Brand=PHYLINA<br>แกนคุณลักษณะหลักที่ 1 (PC1)=%{x}<br>แกนคุณลักษณะหลักที่ 2 (PC2)=%{y}<extra></extra>",
         "hovertext": [
          "S480",
          "S450 4K",
          "S450"
         ],
         "legendgroup": "PHYLINA",
         "marker": {
          "color": "#00cc96",
          "symbol": "circle"
         },
         "mode": "markers",
         "name": "PHYLINA",
         "showlegend": true,
         "type": "scattergl",
         "x": {
          "bdata": "EyEOwjH0AMDqKK9oc+nzv7QDnhfry/C/",
          "dtype": "f8"
         },
         "xaxis": "x",
         "y": {
          "bdata": "aIKWI0fe8z9FVmacOvbaP2ivEshJfcY/",
          "dtype": "f8"
         },
         "yaxis": "y"
        },
        {
         "hovertemplate": "<b>%{hovertext}</b><br><br>Brand=Amazon<br>แกนคุณลักษณะหลักที่ 1 (PC1)=%{x}<br>แกนคุณลักษณะหลักที่ 2 (PC2)=%{y}<extra></extra>",
         "hovertext": [
          "Basics Mouse"
         ],
         "legendgroup": "Amazon",
         "marker": {
          "color": "#ab63fa",
          "symbol": "circle"
         },
         "mode": "markers",
         "name": "Amazon",
         "showlegend": true,
         "type": "scattergl",
         "x": {
          "bdata": "h+0uv2iB5b8=",
          "dtype": "f8"
         },
         "xaxis": "x",
         "y": {
          "bdata": "rk1EdLEvGsA=",
          "dtype": "f8"
         },
         "yaxis": "y"
        },
        {
         "hovertemplate": "<b>%{hovertext}</b><br><br>Brand=TMKB<br>แกนคุณลักษณะหลักที่ 1 (PC1)=%{x}<br>แกนคุณลักษณะหลักที่ 2 (PC2)=%{y}<extra></extra>",
         "hovertext": [
          "Falcon M1SE"
         ],
         "legendgroup": "TMKB",
         "marker": {
          "color": "#FFA15A",
          "symbol": "circle"
         },
         "mode": "markers",
         "name": "TMKB",
         "showlegend": true,
         "type": "scattergl",
         "x": {
          "bdata": "45gbrZBHkD8=",
          "dtype": "f8"
         },
         "xaxis": "x",
         "y": {
          "bdata": "7Gwww/DW4r8=",
          "dtype": "f8"
         },
         "yaxis": "y"
        },
        {
         "hovertemplate": "<b>%{hovertext}</b><br><br>Brand=Madlions<br>แกนคุณลักษณะหลักที่ 1 (PC1)=%{x}<br>แกนคุณลักษณะหลักที่ 2 (PC2)=%{y}<extra></extra>",
         "hovertext": [
          "Mad G Max",
          "Mad G"
         ],
         "legendgroup": "Madlions",
         "marker": {
          "color": "#19d3f3",
          "symbol": "circle"
         },
         "mode": "markers",
         "name": "Madlions",
         "showlegend": true,
         "type": "scattergl",
         "x": {
          "bdata": "VfKHDQGe8r8hq9G4rHjqvw==",
          "dtype": "f8"
         },
         "xaxis": "x",
         "y": {
          "bdata": "1Dr5kmiG8z8ucUibs9PoPw==",
          "dtype": "f8"
         },
         "yaxis": "y"
        },
        {
         "hovertemplate": "<b>%{hovertext}</b><br><br>Brand=Mountain<br>แกนคุณลักษณะหลักที่ 1 (PC1)=%{x}<br>แกนคุณลักษณะหลักที่ 2 (PC2)=%{y}<extra></extra>",
         "hovertext": [
          "Makalu Max",
          "Makalu 67"
         ],
         "legendgroup": "Mountain",
         "marker": {
          "color": "#FF6692",
          "symbol": "circle"
         },
         "mode": "markers",
         "name": "Mountain",
         "showlegend": true,
         "type": "scattergl",
         "x": {
          "bdata": "mqbh1WOKCECeRTEN0ev+Pw==",
          "dtype": "f8"
         },
         "xaxis": "x",
         "y": {
          "bdata": "xfYoiOZxsj8pGrK9QonuPw==",
          "dtype": "f8"
         },
         "yaxis": "y"
        },
        {
         "hovertemplate": "<b>%{hovertext}</b><br><br>Brand=Edifier<br>แกนคุณลักษณะหลักที่ 1 (PC1)=%{x}<br>แกนคุณลักษณะหลักที่ 2 (PC2)=%{y}<extra></extra>",
         "hovertext": [
          "Hecate G5M Pro",
          "Hecate G5M",
          "Hecate G3M Pro"
         ],
         "legendgroup": "Edifier",
         "marker": {
          "color": "#B6E880",
          "symbol": "circle"
         },
         "mode": "markers",
         "name": "Edifier",
         "showlegend": true,
         "type": "scattergl",
         "x": {
          "bdata": "WyvIesCl5b8J2CZkd/Hgv5QZ25ItgPC/",
          "dtype": "f8"
         },
         "xaxis": "x",
         "y": {
          "bdata": "TwGgUF7o1j8s1qiqLh/FP+HCNptUzNW/",
          "dtype": "f8"
         },
         "yaxis": "y"
        },
        {
         "hovertemplate": "<b>%{hovertext}</b><br><br>Brand=EVGA<br>แกนคุณลักษณะหลักที่ 1 (PC1)=%{x}<br>แกนคุณลักษณะหลักที่ 2 (PC2)=%{y}<extra></extra>",
         "hovertext": [
          "X20",
          "X17",
          "X15",
          "X12"
         ],
         "legendgroup": "EVGA",
         "marker": {
          "color": "#FF97FF",
          "symbol": "circle"
         },
         "mode": "markers",
         "name": "EVGA",
         "showlegend": true,
         "type": "scattergl",
         "x": {
          "bdata": "MzCuGKKhC0DqHq4/62kEQLnxD0YdbA1A4Gn+kbwApz8=",
          "dtype": "f8"
         },
         "xaxis": "x",
         "y": {
          "bdata": "ESkH/vHd07+6o4poufzmP8A3iDKJOvE/mUCxrbEf3T8=",
          "dtype": "f8"
         },
         "yaxis": "y"
        },
        {
         "hovertemplate": "<b>%{hovertext}</b><br><br>Brand=8BitDo<br>แกนคุณลักษณะหลักที่ 1 (PC1)=%{x}<br>แกนคุณลักษณะหลักที่ 2 (PC2)=%{y}<extra></extra>",
         "hovertext": [
          "Retro R8"
         ],
         "legendgroup": "8BitDo",
         "marker": {
          "color": "#FECB52",
          "symbol": "circle"
         },
         "mode": "markers",
         "name": "8BitDo",
         "showlegend": true,
         "type": "scattergl",
         "x": {
          "bdata": "5ijjEWyH9r8=",
          "dtype": "f8"
         },
         "xaxis": "x",
         "y": {
          "bdata": "1DKqEus53L8=",
          "dtype": "f8"
         },
         "yaxis": "y"
        },
        {
         "hovertemplate": "<b>%{hovertext}</b><br><br>Brand=ANTGAMER<br>แกนคุณลักษณะหลักที่ 1 (PC1)=%{x}<br>แกนคุณลักษณะหลักที่ 2 (PC2)=%{y}<extra></extra>",
         "hovertext": [
          "AGM535R"
         ],
         "legendgroup": "ANTGAMER",
         "marker": {
          "color": "#636efa",
          "symbol": "circle"
         },
         "mode": "markers",
         "name": "ANTGAMER",
         "showlegend": true,
         "type": "scattergl",
         "x": {
          "bdata": "tz46oa0r778=",
          "dtype": "f8"
         },
         "xaxis": "x",
         "y": {
          "bdata": "CwBaZAqm8j8=",
          "dtype": "f8"
         },
         "yaxis": "y"
        },
        {
         "hovertemplate": "<b>%{hovertext}</b><br><br>Brand=RAKK<br>แกนคุณลักษณะหลักที่ 1 (PC1)=%{x}<br>แกนคุณลักษณะหลักที่ 2 (PC2)=%{y}<extra></extra>",
         "hovertext": [
          "Talan Aero",
          "Kaptan Wired",
          "Talan Air",
          "Talan",
          "Tanaw",
          "Kaptan Trimode",
          "MAG-AN",
          "BULUS",
          "Gahum"
         ],
         "legendgroup": "RAKK",
         "marker": {
          "color": "#EF553B",
          "symbol": "circle"
         },
         "mode": "markers",
         "name": "RAKK",
         "showlegend": true,
         "type": "scattergl",
         "x": {
          "bdata": "AQwGjYhD8b/SlUfAbKn8P8UjDT80uMi/3howQBqDzL/Fs0VmOCr1v7dErSG5VNE/rsh3C1UN+7+2Yw+Gyw66v9GpPl8s7eK/",
          "dtype": "f8"
         },
         "xaxis": "x",
         "y": {
          "bdata": "u+y4JLwNhz/7HPsX3rzFP5/fP+vp29S/pCHIqXdF7L9GBJdGx2rOvxLH+5l8COE/h9Ca+cxg8L91NtNGG2rzv6ywYSF4MdE/",
          "dtype": "f8"
         },
         "yaxis": "y"
        },
        {
         "hovertemplate": "<b>%{hovertext}</b><br><br>Brand=Scyrox<br>แกนคุณลักษณะหลักที่ 1 (PC1)=%{x}<br>แกนคุณลักษณะหลักที่ 2 (PC2)=%{y}<extra></extra>",
         "hovertext": [
          "V6",
          "V8"
         ],
         "legendgroup": "Scyrox",
         "marker": {
          "color": "#00cc96",
          "symbol": "circle"
         },
         "mode": "markers",
         "name": "Scyrox",
         "showlegend": true,
         "type": "scattergl",
         "x": {
          "bdata": "8eivD62//78IE+a7iTUBwA==",
          "dtype": "f8"
         },
         "xaxis": "x",
         "y": {
          "bdata": "hsF1x42t8j/bhy044q/yPw==",
          "dtype": "f8"
         },
         "yaxis": "y"
        },
        {
         "hovertemplate": "<b>%{hovertext}</b><br><br>Brand=Ragnok<br>แกนคุณลักษณะหลักที่ 1 (PC1)=%{x}<br>แกนคุณลักษณะหลักที่ 2 (PC2)=%{y}<extra></extra>",
         "hovertext": [
          "ErgoStrike7",
          "2 (FireGrip)"
         ],
         "legendgroup": "Ragnok",
         "marker": {
          "color": "#ab63fa",
          "symbol": "circle"
         },
         "mode": "markers",
         "name": "Ragnok",
         "showlegend": true,
         "type": "scattergl",
         "x": {
          "bdata": "DmQnAf0lMkBfOlUp4FYsQA==",
          "dtype": "f8"
         },
         "xaxis": "x",
         "y": {
          "bdata": "Ps9AxQFUJkCaeyaQXmkiQA==",
          "dtype": "f8"
         },
         "yaxis": "y"
        },
        {
         "hovertemplate": "<b>%{hovertext}</b><br><br>Brand=Aigo<br>แกนคุณลักษณะหลักที่ 1 (PC1)=%{x}<br>แกนคุณลักษณะหลักที่ 2 (PC2)=%{y}<extra></extra>",
         "hovertext": [
          "GM80 Pro",
          "GM80 Plus",
          "GM80"
         ],
         "legendgroup": "Aigo",
         "marker": {
          "color": "#FFA15A",
          "symbol": "circle"
         },
         "mode": "markers",
         "name": "Aigo",
         "showlegend": true,
         "type": "scattergl",
         "x": {
          "bdata": "eCe/j8Dh97/RCWOVf2fyv6nk9AugAvS/",
          "dtype": "f8"
         },
         "xaxis": "x",
         "y": {
          "bdata": "18zmT1kbq79Sn54vaIPlv5onrP+mweG/",
          "dtype": "f8"
         },
         "yaxis": "y"
        },
        {
         "hovertemplate": "<b>%{hovertext}</b><br><br>Brand=LTC<br>แกนคุณลักษณะหลักที่ 1 (PC1)=%{x}<br>แกนคุณลักษณะหลักที่ 2 (PC2)=%{y}<extra></extra>",
         "hovertext": [
          "GM022"
         ],
         "legendgroup": "LTC",
         "marker": {
          "color": "#19d3f3",
          "symbol": "circle"
         },
         "mode": "markers",
         "name": "LTC",
         "showlegend": true,
         "type": "scattergl",
         "x": {
          "bdata": "GUjOYDCS7b8=",
          "dtype": "f8"
         },
         "xaxis": "x",
         "y": {
          "bdata": "/W99t3FklD8=",
          "dtype": "f8"
         },
         "yaxis": "y"
        },
        {
         "hovertemplate": "<b>%{hovertext}</b><br><br>Brand=Swiftpoint<br>แกนคุณลักษณะหลักที่ 1 (PC1)=%{x}<br>แกนคุณลักษณะหลักที่ 2 (PC2)=%{y}<extra></extra>",
         "hovertext": [
          "Z2",
          "Creator",
          "Tracer",
          "ErgoPoint"
         ],
         "legendgroup": "Swiftpoint",
         "marker": {
          "color": "#FF6692",
          "symbol": "circle"
         },
         "mode": "markers",
         "name": "Swiftpoint",
         "showlegend": true,
         "type": "scattergl",
         "x": {
          "bdata": "Ol+5kTCYEUDu76uy+I8SQO7vq7L4jxJAUkPs7EcXG0A=",
          "dtype": "f8"
         },
         "xaxis": "x",
         "y": {
          "bdata": "1ScjfW278D/elJiP6WbhP96UmI/pZuE/ZHkXd4AlBsA=",
          "dtype": "f8"
         },
         "yaxis": "y"
        },
        {
         "hovertemplate": "<b>%{hovertext}</b><br><br>Brand=MACHENIKE<br>แกนคุณลักษณะหลักที่ 1 (PC1)=%{x}<br>แกนคุณลักษณะหลักที่ 2 (PC2)=%{y}<extra></extra>",
         "hovertext": [
          "M7 Pro",
          "L8 Max",
          "L8 Air",
          "L8 Pro",
          "L7 Air"
         ],
         "legendgroup": "MACHENIKE",
         "marker": {
          "color": "#B6E880",
          "symbol": "circle"
         },
         "mode": "markers",
         "name": "MACHENIKE",
         "showlegend": true,
         "type": "scattergl",
         "x": {
          "bdata": "B1GBLo8R4b+mW/nCS4n9PxVkkFm7udE/+tp8d0gU/T/lzm98SEf2vw==",
          "dtype": "f8"
         },
         "xaxis": "x",
         "y": {
          "bdata": "+szdc2It3b+1veoK/U31P714LBt+r9I/ITGjxBPT2D+o/PCxc5TFPw==",
          "dtype": "f8"
         },
         "yaxis": "y"
        },
        {
         "hovertemplate": "<b>%{hovertext}</b><br><br>Brand=Xiaomi<br>แกนคุณลักษณะหลักที่ 1 (PC1)=%{x}<br>แกนคุณลักษณะหลักที่ 2 (PC2)=%{y}<extra></extra>",
         "hovertext": [
          "X1"
         ],
         "legendgroup": "Xiaomi",
         "marker": {
          "color": "#FF97FF",
          "symbol": "circle"
         },
         "mode": "markers",
         "name": "Xiaomi",
         "showlegend": true,
         "type": "scattergl",
         "x": {
          "bdata": "V0/B+NfM6r8=",
          "dtype": "f8"
         },
         "xaxis": "x",
         "y": {
          "bdata": "LoplvLjT6D8=",
          "dtype": "f8"
         },
         "yaxis": "y"
        },
        {
         "hovertemplate": "<b>%{hovertext}</b><br><br>Brand=Apple<br>แกนคุณลักษณะหลักที่ 1 (PC1)=%{x}<br>แกนคุณลักษณะหลักที่ 2 (PC2)=%{y}<extra></extra>",
         "hovertext": [
          "Magic Mouse"
         ],
         "legendgroup": "Apple",
         "marker": {
          "color": "#FECB52",
          "symbol": "circle"
         },
         "mode": "markers",
         "name": "Apple",
         "showlegend": true,
         "type": "scattergl",
         "x": {
          "bdata": "Eag082V/vr8=",
          "dtype": "f8"
         },
         "xaxis": "x",
         "y": {
          "bdata": "dgDnvLscJcA=",
          "dtype": "f8"
         },
         "yaxis": "y"
        },
        {
         "hovertemplate": "<b>%{hovertext}</b><br><br>Brand=HUO<br>แกนคุณลักษณะหลักที่ 1 (PC1)=%{x}<br>แกนคุณลักษณะหลักที่ 2 (PC2)=%{y}<extra></extra>",
         "hovertext": [
          "JI E-YOOSO"
         ],
         "legendgroup": "HUO",
         "marker": {
          "color": "#636efa",
          "symbol": "circle"
         },
         "mode": "markers",
         "name": "HUO",
         "showlegend": true,
         "type": "scattergl",
         "x": {
          "bdata": "B8pXf0oI6r8=",
          "dtype": "f8"
         },
         "xaxis": "x",
         "y": {
          "bdata": "ZGOoVDRg4D8=",
          "dtype": "f8"
         },
         "yaxis": "y"
        },
        {
         "hovertemplate": "<b>%{hovertext}</b><br><br>Brand=Nixeus<br>แกนคุณลักษณะหลักที่ 1 (PC1)=%{x}<br>แกนคุณลักษณะหลักที่ 2 (PC2)=%{y}<extra></extra>",
         "hovertext": [
          "Revel Fit",
          "Revel-X",
          "Revel"
         ],
         "legendgroup": "Nixeus",
         "marker": {
          "color": "#EF553B",
          "symbol": "circle"
         },
         "mode": "markers",
         "name": "Nixeus",
         "showlegend": true,
         "type": "scattergl",
         "x": {
          "bdata": "DjCgJgsqBkBiK7Q0X+S5vycZu3bdT+A/",
          "dtype": "f8"
         },
         "xaxis": "x",
         "y": {
          "bdata": "KyC8IrSTgj+y0qXTZhvwvyrYmj+Peue/",
          "dtype": "f8"
         },
         "yaxis": "y"
        },
        {
         "hovertemplate": "<b>%{hovertext}</b><br><br>Brand=AIM1<br>แกนคุณลักษณะหลักที่ 1 (PC1)=%{x}<br>แกนคุณลักษณะหลักที่ 2 (PC2)=%{y}<extra></extra>",
         "hovertext": [
          "Shigure"
         ],
         "legendgroup": "AIM1",
         "marker": {
          "color": "#00cc96",
          "symbol": "circle"
         },
         "mode": "markers",
         "name": "AIM1",
         "showlegend": true,
         "type": "scattergl",
         "x": {
          "bdata": "2kZAr+Xw+r8=",
          "dtype": "f8"
         },
         "xaxis": "x",
         "y": {
          "bdata": "qLeJecYD8D8=",
          "dtype": "f8"
         },
         "yaxis": "y"
        },
        {
         "hovertemplate": "<b>%{hovertext}</b><br><br>Brand=CC<br>แกนคุณลักษณะหลักที่ 1 (PC1)=%{x}<br>แกนคุณลักษณะหลักที่ 2 (PC2)=%{y}<extra></extra>",
         "hovertext": [
          "Beanmouse LHD Small",
          "Beanmouse Small",
          "Beanmouse LHD Large",
          "Beanmouse Large"
         ],
         "legendgroup": "CC",
         "marker": {
          "color": "#ab63fa",
          "symbol": "circle"
         },
         "mode": "markers",
         "name": "CC",
         "showlegend": true,
         "type": "scattergl",
         "x": {
          "bdata": "Ip2UR/wJEsAinZRH/AkSwEvbax1D0QvAS9trHUPRC8A=",
          "dtype": "f8"
         },
         "xaxis": "x",
         "y": {
          "bdata": "QrNp8frv979Cs2nx+u/3v+vPs+gA/OO/68+z6AD8478=",
          "dtype": "f8"
         },
         "yaxis": "y"
        },
        {
         "hovertemplate": "<b>%{hovertext}</b><br><br>Brand=Xtrfy<br>แกนคุณลักษณะหลักที่ 1 (PC1)=%{x}<br>แกนคุณลักษณะหลักที่ 2 (PC2)=%{y}<extra></extra>",
         "hovertext": [
          "M42",
          "M42 (lower back)",
          "M8 Wireless",
          "M42 Wireless",
          "M4",
          "M4 Wireless",
          "MZ1",
          "MZ1 Wireless"
         ],
         "legendgroup": "Xtrfy",
         "marker": {
          "color": "#FFA15A",
          "symbol": "circle"
         },
         "mode": "markers",
         "name": "Xtrfy",
         "showlegend": true,
         "type": "scattergl",
         "x": {
          "bdata": "GxZgUfVP7L8bFmBR9U/sv6RgXm6k0/S//rnPPlag57/BchMKCYL0P3u9m/JccPQ/WGHe7dKE+r9k5mPqVs34vw==",
          "dtype": "f8"
         },
         "xaxis": "x",
         "y": {
          "bdata": "HIOW59ET4r8cg5bn0RPiv8bWP09wSMa/zYfl5Ej15b9Nd/QO5062PzFB9xGKO8I/tqDMjNCM8r+ORbapGfvzvw==",
          "dtype": "f8"
         },
         "yaxis": "y"
        },
        {
         "hovertemplate": "<b>%{hovertext}</b><br><br>Brand=Cooler<br>แกนคุณลักษณะหลักที่ 1 (PC1)=%{x}<br>แกนคุณลักษณะหลักที่ 2 (PC2)=%{y}<extra></extra>",
         "hovertext": [
          "Master CM310",
          "Master MM731",
          "Master MM730",
          "Master MM711 Lite",
          "Master MM831",
          "Master MM530",
          "Master MM531",
          "Master MM830",
          "Master CM110",
          "Master MM711",
          "Master MM710",
          "Master MM310",
          "Master MM720",
          "Master MM712"
         ],
         "legendgroup": "Cooler",
         "marker": {
          "color": "#19d3f3",
          "symbol": "circle"
         },
         "mode": "markers",
         "name": "Cooler",
         "showlegend": true,
         "type": "scattergl",
         "x": {
          "bdata": "UByEH9e49D/X5MVGzqTyPyf08qpFru4/OxOJjjGm6r9dG3FKojkHQN7OHDZCU/w/RL0gPDCe+T+a29zMQ6YVQBC3yWKqZ60/PR5aP+cr7b/+MDBAWV/xvyi0MvEnNL8/3Wb68dlc6D+LAsfpKTbwvw==",
          "dtype": "f8"
         },
         "xaxis": "x",
         "y": {
          "bdata": "DECKZ4qQ6r8K6xoGfnrjP0qORc9o/eg/MjK30i2Z6r+5KqbMfWTBP2aJErBrr+6/Tm35JL2c6L9Ns/ptoELLP4IMJBKd0f6/bWFO1yKj5L/ozEXuNlvcv4c/r1LXbtw/6zhnv5IR0D/0B14lI7Pevw==",
          "dtype": "f8"
         },
         "yaxis": "y"
        },
        {
         "hovertemplate": "<b>%{hovertext}</b><br><br>Brand=Higround<br>แกนคุณลักษณะหลักที่ 1 (PC1)=%{x}<br>แกนคุณลักษณะหลักที่ 2 (PC2)=%{y}<extra></extra>",
         "hovertext": [
          "Yuma"
         ],
         "legendgroup": "Higround",
         "marker": {
          "color": "#FF6692",
          "symbol": "circle"
         },
         "mode": "markers",
         "name": "Higround",
         "showlegend": true,
         "type": "scattergl",
         "x": {
          "bdata": "eQtYmJ637b8=",
          "dtype": "f8"
         },
         "xaxis": "x",
         "y": {
          "bdata": "HtcjXfad6j8=",
          "dtype": "f8"
         },
         "yaxis": "y"
        },
        {
         "hovertemplate": "<b>%{hovertext}</b><br><br>Brand=COMMATECH<br>แกนคุณลักษณะหลักที่ 1 (PC1)=%{x}<br>แกนคุณลักษณะหลักที่ 2 (PC2)=%{y}<extra></extra>",
         "hovertext": [
          "FKMINI4"
         ],
         "legendgroup": "COMMATECH",
         "marker": {
          "color": "#B6E880",
          "symbol": "circle"
         },
         "mode": "markers",
         "name": "COMMATECH",
         "showlegend": true,
         "type": "scattergl",
         "x": {
          "bdata": "4T9QKkcPBsA=",
          "dtype": "f8"
         },
         "xaxis": "x",
         "y": {
          "bdata": "wCI68Kxy5L8=",
          "dtype": "f8"
         },
         "yaxis": "y"
        },
        {
         "hovertemplate": "<b>%{hovertext}</b><br><br>Brand=Turtle<br>แกนคุณลักษณะหลักที่ 1 (PC1)=%{x}<br>แกนคุณลักษณะหลักที่ 2 (PC2)=%{y}<extra></extra>",
         "hovertext": [
          "Beach Kone II Air",
          "Beach Kone II",
          "Beach Kone XP Air",
          "Beach Burst II Air",
          "Beach Pure Air",
          "Beach Pure SEL"
         ],
         "legendgroup": "Turtle",
         "marker": {
          "color": "#FF97FF",
          "symbol": "circle"
         },
         "mode": "markers",
         "name": "Turtle",
         "showlegend": true,
         "type": "scattergl",
         "x": {
          "bdata": "LN4WJDP5EECxpe1ENZEOQIcNct+9SgpA/jmiXw3t57+xQ+NuaXfqP5rqS8jcUPA/",
          "dtype": "f8"
         },
         "xaxis": "x",
         "y": {
          "bdata": "fz2KhMBq9T/xFUyGTrj7P3vDlVrIWeA/bW8PqKd/4z+M9aMp4SbsP6UPwfvfTNc/",
          "dtype": "f8"
         },
         "yaxis": "y"
        },
        {
         "hovertemplate": "<b>%{hovertext}</b><br><br>Brand=xtro<br>แกนคุณลักษณะหลักที่ 1 (PC1)=%{x}<br>แกนคุณลักษณะหลักที่ 2 (PC2)=%{y}<extra></extra>",
         "hovertext": [
          "Eris"
         ],
         "legendgroup": "xtro",
         "marker": {
          "color": "#FECB52",
          "symbol": "circle"
         },
         "mode": "markers",
         "name": "xtro",
         "showlegend": true,
         "type": "scattergl",
         "x": {
          "bdata": "3WU3LRPE8z8=",
          "dtype": "f8"
         },
         "xaxis": "x",
         "y": {
          "bdata": "34enKFgh5D8=",
          "dtype": "f8"
         },
         "yaxis": "y"
        },
        {
         "hovertemplate": "<b>%{hovertext}</b><br><br>Brand=Noir<br>แกนคุณลักษณะหลักที่ 1 (PC1)=%{x}<br>แกนคุณลักษณะหลักที่ 2 (PC2)=%{y}<extra></extra>",
         "hovertext": [
          "M1",
          "M1 Lite",
          "M2 MG",
          "M2 Pro",
          "M2"
         ],
         "legendgroup": "Noir",
         "marker": {
          "color": "#636efa",
          "symbol": "circle"
         },
         "mode": "markers",
         "name": "Noir",
         "showlegend": true,
         "type": "scattergl",
         "x": {
          "bdata": "63xGkvDm57+ZS/kxouziv9fRCBwZs/q/GBCGbd5Y9b/h6nQcVjvyvw==",
          "dtype": "f8"
         },
         "xaxis": "x",
         "y": {
          "bdata": "ANuB5oE06L9ooK8e80Pxvy3O/DhPEds/W5BFnT0NgT8WpOWWV17Ovw==",
          "dtype": "f8"
         },
         "yaxis": "y"
        },
        {
         "hovertemplate": "<b>%{hovertext}</b><br><br>Brand=Vancer<br>แกนคุณลักษณะหลักที่ 1 (PC1)=%{x}<br>แกนคุณลักษณะหลักที่ 2 (PC2)=%{y}<extra></extra>",
         "hovertext": [
          "x Arbiter Studio AKITSU",
          "Thrash",
          "Groove",
          "Gretxa",
          "Gemini Castor",
          "Gemini Pollux"
         ],
         "legendgroup": "Vancer",
         "marker": {
          "color": "#EF553B",
          "symbol": "circle"
         },
         "mode": "markers",
         "name": "Vancer",
         "showlegend": true,
         "type": "scattergl",
         "x": {
          "bdata": "hbilMUVvA8CSSVC4nCDzv4zxklM2kvK/GODoz4OK2r9+2axJ2PD2v9f33+twxNU/",
          "dtype": "f8"
         },
         "xaxis": "x",
         "y": {
          "bdata": "xMpu45ET5j9RlJY3KyjlP3RFVLJ93+c/4aLn0wvW8L8amNBAXzHCv5w+kDiTUeQ/",
          "dtype": "f8"
         },
         "yaxis": "y"
        },
        {
         "hovertemplate": "<b>%{hovertext}</b><br><br>Brand=GANSS<br>แกนคุณลักษณะหลักที่ 1 (PC1)=%{x}<br>แกนคุณลักษณะหลักที่ 2 (PC2)=%{y}<extra></extra>",
         "hovertext": [
          "FLX3 4K",
          "FLX3"
         ],
         "legendgroup": "GANSS",
         "marker": {
          "color": "#00cc96",
          "symbol": "circle"
         },
         "mode": "markers",
         "name": "GANSS",
         "showlegend": true,
         "type": "scattergl",
         "x": {
          "bdata": "JMLIGxB+4T+PDOu9ILnnPw==",
          "dtype": "f8"
         },
         "xaxis": "x",
         "y": {
          "bdata": "RihLUPgh8T9G0WfEJWjqPw==",
          "dtype": "f8"
         },
         "yaxis": "y"
        },
        {
         "hovertemplate": "<b>%{hovertext}</b><br><br>Brand=IFYOO<br>แกนคุณลักษณะหลักที่ 1 (PC1)=%{x}<br>แกนคุณลักษณะหลักที่ 2 (PC2)=%{y}<extra></extra>",
         "hovertext": [
          "G63",
          "G03 (Long)",
          "G03 (Short)"
         ],
         "legendgroup": "IFYOO",
         "marker": {
          "color": "#ab63fa",
          "symbol": "circle"
         },
         "mode": "markers",
         "name": "IFYOO",
         "showlegend": true,
         "type": "scattergl",
         "x": {
          "bdata": "Q0l4gaDm8b8wPk4bm/yiP9gTLcec0c6/",
          "dtype": "f8"
         },
         "xaxis": "x",
         "y": {
          "bdata": "ktXU09z90D8aDn/MkVDCv+BcfnqOvt+/",
          "dtype": "f8"
         },
         "yaxis": "y"
        },
        {
         "hovertemplate": "<b>%{hovertext}</b><br><br>Brand=Monka<br>แกนคุณลักษณะหลักที่ 1 (PC1)=%{x}<br>แกนคุณลักษณะหลักที่ 2 (PC2)=%{y}<extra></extra>",
         "hovertext": [
          "M1 Pro Max",
          "M1 Pro",
          "M1",
          "M3 Pro",
          "M3",
          "G995W"
         ],
         "legendgroup": "Monka",
         "marker": {
          "color": "#FFA15A",
          "symbol": "circle"
         },
         "mode": "markers",
         "name": "Monka",
         "showlegend": true,
         "type": "scattergl",
         "x": {
          "bdata": "rJjZDT7z9b+smNkNPvP1v3RzyLy11fK/3vulIRJB9b+p1pTQiSPyv6cGQKVJCe+/",
          "dtype": "f8"
         },
         "xaxis": "x",
         "y": {
          "bdata": "NL69EZi6wz80vr0RmLrDP9h9+L0mabe/25+KyorF0j9TCm2RqG+oPx2yM6d5X5M/",
          "dtype": "f8"
         },
         "yaxis": "y"
        },
        {
         "hovertemplate": "<b>%{hovertext}</b><br><br>Brand=MSI<br>แกนคุณลักษณะหลักที่ 1 (PC1)=%{x}<br>แกนคุณลักษณะหลักที่ 2 (PC2)=%{y}<extra></extra>",
         "hovertext": [
          "Clutch GM41"
         ],
         "legendgroup": "MSI",
         "marker": {
          "color": "#19d3f3",
          "symbol": "circle"
         },
         "mode": "markers",
         "name": "MSI",
         "showlegend": true,
         "type": "scattergl",
         "x": {
          "bdata": "L+uG4DOWxT8=",
          "dtype": "f8"
         },
         "xaxis": "x",
         "y": {
          "bdata": "aCpFaq33sr8=",
          "dtype": "f8"
         },
         "yaxis": "y"
        },
        {
         "hovertemplate": "<b>%{hovertext}</b><br><br>Brand=Nitrite<br>แกนคุณลักษณะหลักที่ 1 (PC1)=%{x}<br>แกนคุณลักษณะหลักที่ 2 (PC2)=%{y}<extra></extra>",
         "hovertext": [
          "Labs Carbon XT1 Wireless",
          "Labs Carbon XT1 Wired"
         ],
         "legendgroup": "Nitrite",
         "marker": {
          "color": "#FF6692",
          "symbol": "circle"
         },
         "mode": "markers",
         "name": "Nitrite",
         "showlegend": true,
         "type": "scattergl",
         "x": {
          "bdata": "k/jVEY4cDMCnNBRnxowMwA==",
          "dtype": "f8"
         },
         "xaxis": "x",
         "y": {
          "bdata": "IAxU0d6y4j+uGogOi+/kPw==",
          "dtype": "f8"
         },
         "yaxis": "y"
        },
        {
         "hovertemplate": "<b>%{hovertext}</b><br><br>Brand=TenTen<br>แกนคุณลักษณะหลักที่ 1 (PC1)=%{x}<br>แกนคุณลักษณะหลักที่ 2 (PC2)=%{y}<extra></extra>",
         "hovertext": [
          "Zero Gravity"
         ],
         "legendgroup": "TenTen",
         "marker": {
          "color": "#B6E880",
          "symbol": "circle"
         },
         "mode": "markers",
         "name": "TenTen",
         "showlegend": true,
         "type": "scattergl",
         "x": {
          "bdata": "ZJtY5rTsAMA=",
          "dtype": "f8"
         },
         "xaxis": "x",
         "y": {
          "bdata": "6L5BdhNl+T8=",
          "dtype": "f8"
         },
         "yaxis": "y"
        },
        {
         "hovertemplate": "<b>%{hovertext}</b><br><br>Brand=Nyfter<br>แกนคุณลักษณะหลักที่ 1 (PC1)=%{x}<br>แกนคุณลักษณะหลักที่ 2 (PC2)=%{y}<extra></extra>",
         "hovertext": [
          "ELT 4K"
         ],
         "legendgroup": "Nyfter",
         "marker": {
          "color": "#FF97FF",
          "symbol": "circle"
         },
         "mode": "markers",
         "name": "Nyfter",
         "showlegend": true,
         "type": "scattergl",
         "x": {
          "bdata": "4t6jot717b8=",
          "dtype": "f8"
         },
         "xaxis": "x",
         "y": {
          "bdata": "v+dpJYV82T8=",
          "dtype": "f8"
         },
         "yaxis": "y"
        },
        {
         "hovertemplate": "<b>%{hovertext}</b><br><br>Brand=IROK<br>แกนคุณลักษณะหลักที่ 1 (PC1)=%{x}<br>แกนคุณลักษณะหลักที่ 2 (PC2)=%{y}<extra></extra>",
         "hovertext": [
          "HE3 PRO",
          "HE3",
          "HE3 SE"
         ],
         "legendgroup": "IROK",
         "marker": {
          "color": "#FECB52",
          "symbol": "circle"
         },
         "mode": "markers",
         "name": "IROK",
         "showlegend": true,
         "type": "scattergl",
         "x": {
          "bdata": "9tGqh5vs9L+/rJk2E8/xv1/lG4m3xOq/",
          "dtype": "f8"
         },
         "xaxis": "x",
         "y": {
          "bdata": "ZlR5ZBKk0j+vruJg5WOnP0cYJrYe5eC/",
          "dtype": "f8"
         },
         "yaxis": "y"
        },
        {
         "hovertemplate": "<b>%{hovertext}</b><br><br>Brand=Alienware<br>แกนคุณลักษณะหลักที่ 1 (PC1)=%{x}<br>แกนคุณลักษณะหลักที่ 2 (PC2)=%{y}<extra></extra>",
         "hovertext": [
          "Pro Wireless",
          "AW620M",
          "AW610M",
          "AW720M",
          "AW320M"
         ],
         "legendgroup": "Alienware",
         "marker": {
          "color": "#636efa",
          "symbol": "circle"
         },
         "mode": "markers",
         "name": "Alienware",
         "showlegend": true,
         "type": "scattergl",
         "x": {
          "bdata": "mzDU5BRD77+d6Sy/qPMJQPHBWiDVwAZAI5oosQdYyL9Fii//u/Dbvw==",
          "dtype": "f8"
         },
         "xaxis": "x",
         "y": {
          "bdata": "QKDoEU0W7D9+T4rHOjXwP99hEpy18LI/mjzjcQyi6r94LYjsR0flvw==",
          "dtype": "f8"
         },
         "yaxis": "y"
        },
        {
         "hovertemplate": "<b>%{hovertext}</b><br><br>Brand=Santali<br>แกนคุณลักษณะหลักที่ 1 (PC1)=%{x}<br>แกนคุณลักษณะหลักที่ 2 (PC2)=%{y}<extra></extra>",
         "hovertext": [
          "S1-O"
         ],
         "legendgroup": "Santali",
         "marker": {
          "color": "#EF553B",
          "symbol": "circle"
         },
         "mode": "markers",
         "name": "Santali",
         "showlegend": true,
         "type": "scattergl",
         "x": {
          "bdata": "aoKxmlkS9L8=",
          "dtype": "f8"
         },
         "xaxis": "x",
         "y": {
          "bdata": "4xoSejLW8T8=",
          "dtype": "f8"
         },
         "yaxis": "y"
        },
        {
         "hovertemplate": "<b>%{hovertext}</b><br><br>Brand=Hitscan<br>แกนคุณลักษณะหลักที่ 1 (PC1)=%{x}<br>แกนคุณลักษณะหลักที่ 2 (PC2)=%{y}<extra></extra>",
         "hovertext": [
          "Hyperlight"
         ],
         "legendgroup": "Hitscan",
         "marker": {
          "color": "#00cc96",
          "symbol": "circle"
         },
         "mode": "markers",
         "name": "Hitscan",
         "showlegend": true,
         "type": "scattergl",
         "x": {
          "bdata": "GWP+nkdQAcA=",
          "dtype": "f8"
         },
         "xaxis": "x",
         "y": {
          "bdata": "pjW+Iooe6z8=",
          "dtype": "f8"
         },
         "yaxis": "y"
        },
        {
         "hovertemplate": "<b>%{hovertext}</b><br><br>Brand=A4Tech<br>แกนคุณลักษณะหลักที่ 1 (PC1)=%{x}<br>แกนคุณลักษณะหลักที่ 2 (PC2)=%{y}<extra></extra>",
         "hovertext": [
          "XL-750BK",
          "XL-750BH",
          "Bloody V7"
         ],
         "legendgroup": "A4Tech",
         "marker": {
          "color": "#ab63fa",
          "symbol": "circle"
         },
         "mode": "markers",
         "name": "A4Tech",
         "showlegend": true,
         "type": "scattergl",
         "x": {
          "bdata": "GjwtneYeC0AaPC2d5h4LQGNzk8FtNxJA",
          "dtype": "f8"
         },
         "xaxis": "x",
         "y": {
          "bdata": "WqwH6maWFsBarAfqZpYWwKzVLO/eK/i/",
          "dtype": "f8"
         },
         "yaxis": "y"
        },
        {
         "hovertemplate": "<b>%{hovertext}</b><br><br>Brand=Zaunkoenig<br>แกนคุณลักษณะหลักที่ 1 (PC1)=%{x}<br>แกนคุณลักษณะหลักที่ 2 (PC2)=%{y}<extra></extra>",
         "hovertext": [
          "M3K",
          "M2K"
         ],
         "legendgroup": "Zaunkoenig",
         "marker": {
          "color": "#FFA15A",
          "symbol": "circle"
         },
         "mode": "markers",
         "name": "Zaunkoenig",
         "showlegend": true,
         "type": "scattergl",
         "x": {
          "bdata": "gYVZXqibE8A/DhhwEQ4TwA==",
          "dtype": "f8"
         },
         "xaxis": "x",
         "y": {
          "bdata": "4HoL+0OO9b+sixg+GyX6vw==",
          "dtype": "f8"
         },
         "yaxis": "y"
        },
        {
         "hovertemplate": "<b>%{hovertext}</b><br><br>Brand=ELECOM<br>แกนคุณลักษณะหลักที่ 1 (PC1)=%{x}<br>แกนคุณลักษณะหลักที่ 2 (PC2)=%{y}<extra></extra>",
         "hovertext": [
          "VM501LBK",
          "VM501BK",
          "VM510BK",
          "VM610BK",
          "VM600PE"
         ],
         "legendgroup": "ELECOM",
         "marker": {
          "color": "#19d3f3",
          "symbol": "circle"
         },
         "mode": "markers",
         "name": "ELECOM",
         "showlegend": true,
         "type": "scattergl",
         "x": {
          "bdata": "QuEFZkxj/D8LQpcBxTLvPwSgdI9TQfG/0uI+E3Qg9b8i987Y+LH4Pw==",
          "dtype": "f8"
         },
         "xaxis": "x",
         "y": {
          "bdata": "BlSUS9Yu6D/LmW5TYczTP+UN70NFb+S/ZkwFZU99wb9G6kv09QDlPw==",
          "dtype": "f8"
         },
         "yaxis": "y"
        },
        {
         "hovertemplate": "<b>%{hovertext}</b><br><br>Brand=Irocks<br>แกนคุณลักษณะหลักที่ 1 (PC1)=%{x}<br>แกนคุณลักษณะหลักที่ 2 (PC2)=%{y}<extra></extra>",
         "hovertext": [
          "M31R"
         ],
         "legendgroup": "Irocks",
         "marker": {
          "color": "#FF6692",
          "symbol": "circle"
         },
         "mode": "markers",
         "name": "Irocks",
         "showlegend": true,
         "type": "scattergl",
         "x": {
          "bdata": "xOMjvRL+8T8=",
          "dtype": "f8"
         },
         "xaxis": "x",
         "y": {
          "bdata": "jlLg4mxt5T8=",
          "dtype": "f8"
         },
         "yaxis": "y"
        },
        {
         "hovertemplate": "<b>%{hovertext}</b><br><br>Brand=GITOPER<br>แกนคุณลักษณะหลักที่ 1 (PC1)=%{x}<br>แกนคุณลักษณะหลักที่ 2 (PC2)=%{y}<extra></extra>",
         "hovertext": [
          "G1",
          "G3",
          "G2"
         ],
         "legendgroup": "GITOPER",
         "marker": {
          "color": "#B6E880",
          "symbol": "circle"
         },
         "mode": "markers",
         "name": "GITOPER",
         "showlegend": true,
         "type": "scattergl",
         "x": {
          "bdata": "pCVx3z+27D8n91g5hU3wP3OI6jpWWuC/",
          "dtype": "f8"
         },
         "xaxis": "x",
         "y": {
          "bdata": "tcLoHf026T85fuC/W6LcP4dnsdplI9g/",
          "dtype": "f8"
         },
         "yaxis": "y"
        },
        {
         "hovertemplate": "<b>%{hovertext}</b><br><br>Brand=Cherry<br>แกนคุณลักษณะหลักที่ 1 (PC1)=%{x}<br>แกนคุณลักษณะหลักที่ 2 (PC2)=%{y}<extra></extra>",
         "hovertext": [
          "Xtrfy M50 Wireless",
          "Xtrfy M50",
          "Xtrfy M68 Pro 8K Wireless",
          "Xtrfy M68 Wireless",
          "Xtrfy M64 Pro 8K Wireless",
          "Xtrfy M64 Wireless"
         ],
         "legendgroup": "Cherry",
         "marker": {
          "color": "#FF97FF",
          "symbol": "circle"
         },
         "mode": "markers",
         "name": "Cherry",
         "showlegend": true,
         "type": "scattergl",
         "x": {
          "bdata": "gAm9vSoUqD9aGGiuRtbVv8nBpxMwRvO/288Ku76K6b9nV1UH9i3BP6u+JUeMS+E/",
          "dtype": "f8"
         },
         "xaxis": "x",
         "y": {
          "bdata": "PUVtbxaH8r/a/nVGQA/nv3HLeYkoVOw/2aLYlpth1z+GpV6K8Yv0PwBdA15beOg/",
          "dtype": "f8"
         },
         "yaxis": "y"
        },
        {
         "hovertemplate": "<b>%{hovertext}</b><br><br>Brand=IXILAB<br>แกนคุณลักษณะหลักที่ 1 (PC1)=%{x}<br>แกนคุณลักษณะหลักที่ 2 (PC2)=%{y}<extra></extra>",
         "hovertext": [
          "X1 Pro Max",
          "X1 Pro",
          "X1"
         ],
         "legendgroup": "IXILAB",
         "marker": {
          "color": "#FECB52",
          "symbol": "circle"
         },
         "mode": "markers",
         "name": "IXILAB",
         "showlegend": true,
         "type": "scattergl",
         "x": {
          "bdata": "XofkPkdY9b/2E9jJtSL4v8HuxngtBfW/",
          "dtype": "f8"
         },
         "xaxis": "x",
         "y": {
          "bdata": "6v4wQuDhaD8uReEKxk3KP8ffYpeVhaS/",
          "dtype": "f8"
         },
         "yaxis": "y"
        },
        {
         "hovertemplate": "<b>%{hovertext}</b><br><br>Brand=Ardor<br>แกนคุณลักษณะหลักที่ 1 (PC1)=%{x}<br>แกนคุณลักษณะหลักที่ 2 (PC2)=%{y}<extra></extra>",
         "hovertext": [
          "Gaming Immortality Pro Wireless",
          "Gaming Immortality",
          "Gaming Ulta (big back)",
          "Gaming Ulta (mid back)",
          "Gaming Ulta (small back)",
          "Gaming Prime X",
          "Gaming Prime Wireless",
          "Gaming Prime",
          "Gaming Fury Beast",
          "Gaming Fury Pro",
          "Gaming Fury",
          "Gaming Phantom Pro V2",
          "Gaming Phantom Pro",
          "Gaming Phantom Pro Wired"
         ],
         "legendgroup": "Ardor",
         "marker": {
          "color": "#636efa",
          "symbol": "circle"
         },
         "mode": "markers",
         "name": "Ardor",
         "showlegend": true,
         "type": "scattergl",
         "x": {
          "bdata": "i6SB5SlU3b9PyTLko4LnvzWCzHQrEOK/NYLMdCsQ4r81gsx0KxDiv18JgUJgh9C/Ugc7jY4azb9hvpXfih6zvytBrxCDxAhAfjMcwqvSCECt86bvJWMLQEVSr9Z9+Ny/HwGSObPo0b+GFstfUSPgvw==",
          "dtype": "f8"
         },
         "xaxis": "x",
         "y": {
          "bdata": "vv1IP2px5L9qSGobQq/bv5loyw8m/tC/mWjLDyb+0L+ZaMsPJv7Qv60EvL0/uei/X5KhPFD77L+kdT2Jd53wv3NQ/EqfPtw/SYDGcKdT2z/dHlYvxVCyP78mAiQ/tqQ/Jw/Bamxb1L9USOycjKPAvw==",
          "dtype": "f8"
         },
         "yaxis": "y"
        },
        {
         "hovertemplate": "<b>%{hovertext}</b><br><br>Brand=FineMax<br>แกนคุณลักษณะหลักที่ 1 (PC1)=%{x}<br>แกนคุณลักษณะหลักที่ 2 (PC2)=%{y}<extra></extra>",
         "hovertext": [
          "Noah"
         ],
         "legendgroup": "FineMax",
         "marker": {
          "color": "#EF553B",
          "symbol": "circle"
         },
         "mode": "markers",
         "name": "FineMax",
         "showlegend": true,
         "type": "scattergl",
         "x": {
          "bdata": "AaQgf9B37r8=",
          "dtype": "f8"
         },
         "xaxis": "x",
         "y": {
          "bdata": "6bcd5Qww2j8=",
          "dtype": "f8"
         },
         "yaxis": "y"
        },
        {
         "hovertemplate": "<b>%{hovertext}</b><br><br>Brand=Sprime<br>แกนคุณลักษณะหลักที่ 1 (PC1)=%{x}<br>แกนคุณลักษณะหลักที่ 2 (PC2)=%{y}<extra></extra>",
         "hovertext": [
          "PM1"
         ],
         "legendgroup": "Sprime",
         "marker": {
          "color": "#00cc96",
          "symbol": "circle"
         },
         "mode": "markers",
         "name": "Sprime",
         "showlegend": true,
         "type": "scattergl",
         "x": {
          "bdata": "iI1QVi4Du78=",
          "dtype": "f8"
         },
         "xaxis": "x",
         "y": {
          "bdata": "MKRUr89c+j8=",
          "dtype": "f8"
         },
         "yaxis": "y"
        },
        {
         "hovertemplate": "<b>%{hovertext}</b><br><br>Brand=Mionix<br>แกนคุณลักษณะหลักที่ 1 (PC1)=%{x}<br>แกนคุณลักษณะหลักที่ 2 (PC2)=%{y}<extra></extra>",
         "hovertext": [
          "Naos Pro",
          "Naos QG",
          "Naos 8200",
          "Naos 7000",
          "Naos 3200",
          "Castor Pro",
          "Castor"
         ],
         "legendgroup": "Mionix",
         "marker": {
          "color": "#ab63fa",
          "symbol": "circle"
         },
         "mode": "markers",
         "name": "Mionix",
         "showlegend": true,
         "type": "scattergl",
         "x": {
          "bdata": "ld+G1vfPDUBBnRgRB/QOQHjnJkBtyQ5AU3LqugOlD0AGafGbFEQUQCoTMMR6PgFAVurRTrKMA0A=",
          "dtype": "f8"
         },
         "xaxis": "x",
         "y": {
          "bdata": "SsYoe7H96D+sVmK/dkrgP4UFQhnLNt0/WQMkV9Mb1T+iPM9RRS0RwMs63gdHIJi/2oUtesZi4r8=",
          "dtype": "f8"
         },
         "yaxis": "y"
        },
        {
         "hovertemplate": "<b>%{hovertext}</b><br><br>Brand=Rexus<br>แกนคุณลักษณะหลักที่ 1 (PC1)=%{x}<br>แกนคุณลักษณะหลักที่ 2 (PC2)=%{y}<extra></extra>",
         "hovertext": [
          "Daxa Air IV"
         ],
         "legendgroup": "Rexus",
         "marker": {
          "color": "#FFA15A",
          "symbol": "circle"
         },
         "mode": "markers",
         "name": "Rexus",
         "showlegend": true,
         "type": "scattergl",
         "x": {
          "bdata": "UieTTCYx378=",
          "dtype": "f8"
         },
         "xaxis": "x",
         "y": {
          "bdata": "u8d15tspqz8=",
          "dtype": "f8"
         },
         "yaxis": "y"
        },
        {
         "hovertemplate": "<b>%{hovertext}</b><br><br>Brand=Atompalm<br>แกนคุณลักษณะหลักที่ 1 (PC1)=%{x}<br>แกนคุณลักษณะหลักที่ 2 (PC2)=%{y}<extra></extra>",
         "hovertext": [
          "Hydrogen 2",
          "Hydrogen"
         ],
         "legendgroup": "Atompalm",
         "marker": {
          "color": "#19d3f3",
          "symbol": "circle"
         },
         "mode": "markers",
         "name": "Atompalm",
         "showlegend": true,
         "type": "scattergl",
         "x": {
          "bdata": "Z/qwIg0m8b9n+rAiDSbxvw==",
          "dtype": "f8"
         },
         "xaxis": "x",
         "y": {
          "bdata": "64dJ3dGY4z/rh0nd0ZjjPw==",
          "dtype": "f8"
         },
         "yaxis": "y"
        },
        {
         "hovertemplate": "<b>%{hovertext}</b><br><br>Brand=ARYE<br>แกนคุณลักษณะหลักที่ 1 (PC1)=%{x}<br>แกนคุณลักษณะหลักที่ 2 (PC2)=%{y}<extra></extra>",
         "hovertext": [
          "FCC-1"
         ],
         "legendgroup": "ARYE",
         "marker": {
          "color": "#FF6692",
          "symbol": "circle"
         },
         "mode": "markers",
         "name": "ARYE",
         "showlegend": true,
         "type": "scattergl",
         "x": {
          "bdata": "Esk1+tXVAcA=",
          "dtype": "f8"
         },
         "xaxis": "x",
         "y": {
          "bdata": "Uh52oS4Dx78=",
          "dtype": "f8"
         },
         "yaxis": "y"
        },
        {
         "hovertemplate": "<b>%{hovertext}</b><br><br>Brand=Ironcat<br>แกนคุณลักษณะหลักที่ 1 (PC1)=%{x}<br>แกนคุณลักษณะหลักที่ 2 (PC2)=%{y}<extra></extra>",
         "hovertext": [
          "HPC01M Pro",
          "HPC01M",
          "HPC02M",
          "HPC02"
         ],
         "legendgroup": "Ironcat",
         "marker": {
          "color": "#B6E880",
          "symbol": "circle"
         },
         "mode": "markers",
         "name": "Ironcat",
         "showlegend": true,
         "type": "scattergl",
         "x": {
          "bdata": "wi5PYGQS9r8KCsKNmSj0v8wBrG5Kj/O//yoymy7X4r8=",
          "dtype": "f8"
         },
         "xaxis": "x",
         "y": {
          "bdata": "vCh0QosZsb+mx3SmccLMv+bFV0HGRuO/ruZ95UF6zr8=",
          "dtype": "f8"
         },
         "yaxis": "y"
        },
        {
         "hovertemplate": "<b>%{hovertext}</b><br><br>Brand=Xinshuntian<br>แกนคุณลักษณะหลักที่ 1 (PC1)=%{x}<br>แกนคุณลักษณะหลักที่ 2 (PC2)=%{y}<extra></extra>",
         "hovertext": [
          "G820"
         ],
         "legendgroup": "Xinshuntian",
         "marker": {
          "color": "#FF97FF",
          "symbol": "circle"
         },
         "mode": "markers",
         "name": "Xinshuntian",
         "showlegend": true,
         "type": "scattergl",
         "x": {
          "bdata": "PwYQVlAI7D8=",
          "dtype": "f8"
         },
         "xaxis": "x",
         "y": {
          "bdata": "fYsf9Hhb4z8=",
          "dtype": "f8"
         },
         "yaxis": "y"
        },
        {
         "hovertemplate": "<b>%{hovertext}</b><br><br>Brand=Ducky<br>แกนคุณลักษณะหลักที่ 1 (PC1)=%{x}<br>แกนคุณลักษณะหลักที่ 2 (PC2)=%{y}<extra></extra>",
         "hovertext": [
          "Feather"
         ],
         "legendgroup": "Ducky",
         "marker": {
          "color": "#FECB52",
          "symbol": "circle"
         },
         "mode": "markers",
         "name": "Ducky",
         "showlegend": true,
         "type": "scattergl",
         "x": {
          "bdata": "INOx7Z3z4b8=",
          "dtype": "f8"
         },
         "xaxis": "x",
         "y": {
          "bdata": "gGx8PmJq4r8=",
          "dtype": "f8"
         },
         "yaxis": "y"
        },
        {
         "hovertemplate": "<b>%{hovertext}</b><br><br>Brand=Pichau<br>แกนคุณลักษณะหลักที่ 1 (PC1)=%{x}<br>แกนคุณลักษณะหลักที่ 2 (PC2)=%{y}<extra></extra>",
         "hovertext": [
          "Hive S"
         ],
         "legendgroup": "Pichau",
         "marker": {
          "color": "#636efa",
          "symbol": "circle"
         },
         "mode": "markers",
         "name": "Pichau",
         "showlegend": true,
         "type": "scattergl",
         "x": {
          "bdata": "bzQ7N+1j378=",
          "dtype": "f8"
         },
         "xaxis": "x",
         "y": {
          "bdata": "LE4MKgGW4r8=",
          "dtype": "f8"
         },
         "yaxis": "y"
        },
        {
         "hovertemplate": "<b>%{hovertext}</b><br><br>Brand=Fnatic<br>แกนคุณลักษณะหลักที่ 1 (PC1)=%{x}<br>แกนคุณลักษณะหลักที่ 2 (PC2)=%{y}<extra></extra>",
         "hovertext": [
          "CLUTCH 2",
          "Bolt"
         ],
         "legendgroup": "Fnatic",
         "marker": {
          "color": "#EF553B",
          "symbol": "circle"
         },
         "mode": "markers",
         "name": "Fnatic",
         "showlegend": true,
         "type": "scattergl",
         "x": {
          "bdata": "3EAkr6wTBUBdXZ3PgQPjvw==",
          "dtype": "f8"
         },
         "xaxis": "x",
         "y": {
          "bdata": "C+hxo1FspD+QOVyXw1vgvw==",
          "dtype": "f8"
         },
         "yaxis": "y"
        },
        {
         "hovertemplate": "<b>%{hovertext}</b><br><br>Brand=Aqirys<br>แกนคุณลักษณะหลักที่ 1 (PC1)=%{x}<br>แกนคุณลักษณะหลักที่ 2 (PC2)=%{y}<extra></extra>",
         "hovertext": [
          "TGA Alpha"
         ],
         "legendgroup": "Aqirys",
         "marker": {
          "color": "#00cc96",
          "symbol": "circle"
         },
         "mode": "markers",
         "name": "Aqirys",
         "showlegend": true,
         "type": "scattergl",
         "x": {
          "bdata": "jto2YSJJ2L8=",
          "dtype": "f8"
         },
         "xaxis": "x",
         "y": {
          "bdata": "wtf1HjQuxL8=",
          "dtype": "f8"
         },
         "yaxis": "y"
        },
        {
         "hovertemplate": "<b>%{hovertext}</b><br><br>Brand=Fallen<br>แกนคุณลักษณะหลักที่ 1 (PC1)=%{x}<br>แกนคุณลักษณะหลักที่ 2 (PC2)=%{y}<extra></extra>",
         "hovertext": [
          "Pantera Pro"
         ],
         "legendgroup": "Fallen",
         "marker": {
          "color": "#ab63fa",
          "symbol": "circle"
         },
         "mode": "markers",
         "name": "Fallen",
         "showlegend": true,
         "type": "scattergl",
         "x": {
          "bdata": "xL7+PFcr0r8=",
          "dtype": "f8"
         },
         "xaxis": "x",
         "y": {
          "bdata": "BQDg/Djb0L8=",
          "dtype": "f8"
         },
         "yaxis": "y"
        },
        {
         "hovertemplate": "<b>%{hovertext}</b><br><br>Brand=Drevo<br>แกนคุณลักษณะหลักที่ 1 (PC1)=%{x}<br>แกนคุณลักษณะหลักที่ 2 (PC2)=%{y}<extra></extra>",
         "hovertext": [
          "Falcon"
         ],
         "legendgroup": "Drevo",
         "marker": {
          "color": "#FFA15A",
          "symbol": "circle"
         },
         "mode": "markers",
         "name": "Drevo",
         "showlegend": true,
         "type": "scattergl",
         "x": {
          "bdata": "MgAvc1jUzT8=",
          "dtype": "f8"
         },
         "xaxis": "x",
         "y": {
          "bdata": "WpKrHJX07r8=",
          "dtype": "f8"
         },
         "yaxis": "y"
        },
        {
         "hovertemplate": "<b>%{hovertext}</b><br><br>Brand=Acer<br>แกนคุณลักษณะหลักที่ 1 (PC1)=%{x}<br>แกนคุณลักษณะหลักที่ 2 (PC2)=%{y}<extra></extra>",
         "hovertext": [
          "Cestus 330"
         ],
         "legendgroup": "Acer",
         "marker": {
          "color": "#19d3f3",
          "symbol": "circle"
         },
         "mode": "markers",
         "name": "Acer",
         "showlegend": true,
         "type": "scattergl",
         "x": {
          "bdata": "mAaW4/nK/j8=",
          "dtype": "f8"
         },
         "xaxis": "x",
         "y": {
          "bdata": "Z91iB1IHA8A=",
          "dtype": "f8"
         },
         "yaxis": "y"
        },
        {
         "hovertemplate": "<b>%{hovertext}</b><br><br>Brand=Teamwolf<br>แกนคุณลักษณะหลักที่ 1 (PC1)=%{x}<br>แกนคุณลักษณะหลักที่ 2 (PC2)=%{y}<extra></extra>",
         "hovertext": [
          "Lurker MK-01"
         ],
         "legendgroup": "Teamwolf",
         "marker": {
          "color": "#FF6692",
          "symbol": "circle"
         },
         "mode": "markers",
         "name": "Teamwolf",
         "showlegend": true,
         "type": "scattergl",
         "x": {
          "bdata": "Wta812dY/78=",
          "dtype": "f8"
         },
         "xaxis": "x",
         "y": {
          "bdata": "8rMn7Tlh7b8=",
          "dtype": "f8"
         },
         "yaxis": "y"
        },
        {
         "hovertemplate": "<b>%{hovertext}</b><br><br>Brand=PureTrak<br>แกนคุณลักษณะหลักที่ 1 (PC1)=%{x}<br>แกนคุณลักษณะหลักที่ 2 (PC2)=%{y}<extra></extra>",
         "hovertext": [
          "Valor Wireless"
         ],
         "legendgroup": "PureTrak",
         "marker": {
          "color": "#B6E880",
          "symbol": "circle"
         },
         "mode": "markers",
         "name": "PureTrak",
         "showlegend": true,
         "type": "scattergl",
         "x": {
          "bdata": "CLdzfSSL4b8=",
          "dtype": "f8"
         },
         "xaxis": "x",
         "y": {
          "bdata": "+LHKo821wj8=",
          "dtype": "f8"
         },
         "yaxis": "y"
        },
        {
         "hovertemplate": "<b>%{hovertext}</b><br><br>Brand=Xenics<br>แกนคุณลักษณะหลักที่ 1 (PC1)=%{x}<br>แกนคุณลักษณะหลักที่ 2 (PC2)=%{y}<extra></extra>",
         "hovertext": [
          "Titan GX Air Wireless"
         ],
         "legendgroup": "Xenics",
         "marker": {
          "color": "#FF97FF",
          "symbol": "circle"
         },
         "mode": "markers",
         "name": "Xenics",
         "showlegend": true,
         "type": "scattergl",
         "x": {
          "bdata": "oYYdf9Ne5b8=",
          "dtype": "f8"
         },
         "xaxis": "x",
         "y": {
          "bdata": "B1RdI4iA8L8=",
          "dtype": "f8"
         },
         "yaxis": "y"
        },
        {
         "hovertemplate": "<b>%{hovertext}</b><br><br>Brand=SPC<br>แกนคุณลักษณะหลักที่ 1 (PC1)=%{x}<br>แกนคุณลักษณะหลักที่ 2 (PC2)=%{y}<extra></extra>",
         "hovertext": [
          "Gear LIX Plus Wireless"
         ],
         "legendgroup": "SPC",
         "marker": {
          "color": "#FECB52",
          "symbol": "circle"
         },
         "mode": "markers",
         "name": "SPC",
         "showlegend": true,
         "type": "scattergl",
         "x": {
          "bdata": "dBx6GPOExL8=",
          "dtype": "f8"
         },
         "xaxis": "x",
         "y": {
          "bdata": "Gp86ZUIJyr8=",
          "dtype": "f8"
         },
         "yaxis": "y"
        },
        {
         "hovertemplate": "<b>%{hovertext}</b><br><br>Brand=Dornfinger<br>แกนคุณลักษณะหลักที่ 1 (PC1)=%{x}<br>แกนคุณลักษณะหลักที่ 2 (PC2)=%{y}<extra></extra>",
         "hovertext": [
          "Veno-S"
         ],
         "legendgroup": "Dornfinger",
         "marker": {
          "color": "#636efa",
          "symbol": "circle"
         },
         "mode": "markers",
         "name": "Dornfinger",
         "showlegend": true,
         "type": "scattergl",
         "x": {
          "bdata": "aR0fX41B2L8=",
          "dtype": "f8"
         },
         "xaxis": "x",
         "y": {
          "bdata": "O1UlsvA11L8=",
          "dtype": "f8"
         },
         "yaxis": "y"
        },
        {
         "hovertemplate": "<b>%{hovertext}</b><br><br>Brand=Midnight<br>แกนคุณลักษณะหลักที่ 1 (PC1)=%{x}<br>แกนคุณลักษณะหลักที่ 2 (PC2)=%{y}<extra></extra>",
         "hovertext": [
          "Thread C1"
         ],
         "legendgroup": "Midnight",
         "marker": {
          "color": "#EF553B",
          "symbol": "circle"
         },
         "mode": "markers",
         "name": "Midnight",
         "showlegend": true,
         "type": "scattergl",
         "x": {
          "bdata": "AOQiARld9L8=",
          "dtype": "f8"
         },
         "xaxis": "x",
         "y": {
          "bdata": "SfQQna0U2T8=",
          "dtype": "f8"
         },
         "yaxis": "y"
        },
        {
         "hovertemplate": "<b>%{hovertext}</b><br><br>Brand=HK<br>แกนคุณลักษณะหลักที่ 1 (PC1)=%{x}<br>แกนคุณลักษณะหลักที่ 2 (PC2)=%{y}<extra></extra>",
         "hovertext": [
          "Gaming Sirius M"
         ],
         "legendgroup": "HK",
         "marker": {
          "color": "#00cc96",
          "symbol": "circle"
         },
         "mode": "markers",
         "name": "HK",
         "showlegend": true,
         "type": "scattergl",
         "x": {
          "bdata": "pw5urLGx7b8=",
          "dtype": "f8"
         },
         "xaxis": "x",
         "y": {
          "bdata": "EquYPvnv378=",
          "dtype": "f8"
         },
         "yaxis": "y"
        },
        {
         "hovertemplate": "<b>%{hovertext}</b><br><br>Brand=CryoMods<br>แกนคุณลักษณะหลักที่ 1 (PC1)=%{x}<br>แกนคุณลักษณะหลักที่ 2 (PC2)=%{y}<extra></extra>",
         "hovertext": [
          "Fractal Wireless"
         ],
         "legendgroup": "CryoMods",
         "marker": {
          "color": "#ab63fa",
          "symbol": "circle"
         },
         "mode": "markers",
         "name": "CryoMods",
         "showlegend": true,
         "type": "scattergl",
         "x": {
          "bdata": "+gPBbXBE8b8=",
          "dtype": "f8"
         },
         "xaxis": "x",
         "y": {
          "bdata": "RDI48BcD9L8=",
          "dtype": "f8"
         },
         "yaxis": "y"
        },
        {
         "hovertemplate": "<b>%{hovertext}</b><br><br>Brand=Lethal<br>แกนคุณลักษณะหลักที่ 1 (PC1)=%{x}<br>แกนคุณลักษณะหลักที่ 2 (PC2)=%{y}<extra></extra>",
         "hovertext": [
          "Gaming Gear LA-1"
         ],
         "legendgroup": "Lethal",
         "marker": {
          "color": "#FFA15A",
          "symbol": "circle"
         },
         "mode": "markers",
         "name": "Lethal",
         "showlegend": true,
         "type": "scattergl",
         "x": {
          "bdata": "8DM64zhv8b8=",
          "dtype": "f8"
         },
         "xaxis": "x",
         "y": {
          "bdata": "NDuH0Qjfwz8=",
          "dtype": "f8"
         },
         "yaxis": "y"
        },
        {
         "hovertemplate": "<b>%{hovertext}</b><br><br>Brand=Gamesense<br>แกนคุณลักษณะหลักที่ 1 (PC1)=%{x}<br>แกนคุณลักษณะหลักที่ 2 (PC2)=%{y}<extra></extra>",
         "hovertext": [
          "MVP Wired",
          "MVP Wireless",
          "META Wired"
         ],
         "legendgroup": "Gamesense",
         "marker": {
          "color": "#19d3f3",
          "symbol": "circle"
         },
         "mode": "markers",
         "name": "Gamesense",
         "showlegend": true,
         "type": "scattergl",
         "x": {
          "bdata": "scRNVodAyb+ASM8ne92jPymvhRliY+y/",
          "dtype": "f8"
         },
         "xaxis": "x",
         "y": {
          "bdata": "ZFyse1d/sL991XLV/ZjUv/S+pxN5KPC/",
          "dtype": "f8"
         },
         "yaxis": "y"
        },
        {
         "hovertemplate": "<b>%{hovertext}</b><br><br>Brand=Dream<br>แกนคุณลักษณะหลักที่ 1 (PC1)=%{x}<br>แกนคุณลักษณะหลักที่ 2 (PC2)=%{y}<extra></extra>",
         "hovertext": [
          "Machines DM1 FPS",
          "Machines DM2 Comfy S",
          "Machines DM4 Evo",
          "Machines DM4 Evo S",
          "Machines DM5 Blink",
          "Machines DM6 Holey S",
          "Machines DM6 Holey",
          "Machines DM6 Duo",
          "Machines DM6 Trio"
         ],
         "legendgroup": "Dream",
         "marker": {
          "color": "#FF6692",
          "symbol": "circle"
         },
         "mode": "markers",
         "name": "Dream",
         "showlegend": true,
         "type": "scattergl",
         "x": {
          "bdata": "Bg70T/uP3D+HCIAqh2UNQBmgeYQUvwBAqIbIUeNUAEDeGc3DwrECQL5W3MZuv/g/QkVfo5za+T8u3Eq6Z3f8P2IqZVJqYfw/",
          "dtype": "f8"
         },
         "xaxis": "x",
         "y": {
          "bdata": "cj54KXGe37+Sek75yE/mPyvCvucM59e/9ygrA8oE0b+Y4jSOXUSyv9V9FqVYaN0/Olz8Hqo61D8JkaW2cQLLP9ujJTFCNdE/",
          "dtype": "f8"
         },
         "yaxis": "y"
        },
        {
         "marker": {
          "color": "red",
          "size": 15,
          "symbol": "star"
         },
         "mode": "markers",
         "name": "Ideal Profile (จุดศูนย์กลาง)",
         "type": "scatter",
         "x": [
          -1.786004733956927
         ],
         "y": [
          1.127123735360073
         ]
        }
       ],
       "layout": {
        "legend": {
         "title": {
          "text": "Brand"
         },
         "tracegroupgap": 0
        },
        "template": {
         "data": {
          "bar": [
           {
            "error_x": {
             "color": "#2a3f5f"
            },
            "error_y": {
             "color": "#2a3f5f"
            },
            "marker": {
             "line": {
              "color": "#E5ECF6",
              "width": 0.5
             },
             "pattern": {
              "fillmode": "overlay",
              "size": 10,
              "solidity": 0.2
             }
            },
            "type": "bar"
           }
          ],
          "barpolar": [
           {
            "marker": {
             "line": {
              "color": "#E5ECF6",
              "width": 0.5
             },
             "pattern": {
              "fillmode": "overlay",
              "size": 10,
              "solidity": 0.2
             }
            },
            "type": "barpolar"
           }
          ],
          "carpet": [
           {
            "aaxis": {
             "endlinecolor": "#2a3f5f",
             "gridcolor": "white",
             "linecolor": "white",
             "minorgridcolor": "white",
             "startlinecolor": "#2a3f5f"
            },
            "baxis": {
             "endlinecolor": "#2a3f5f",
             "gridcolor": "white",
             "linecolor": "white",
             "minorgridcolor": "white",
             "startlinecolor": "#2a3f5f"
            },
            "type": "carpet"
           }
          ],
          "choropleth": [
           {
            "colorbar": {
             "outlinewidth": 0,
             "ticks": ""
            },
            "type": "choropleth"
           }
          ],
          "contour": [
           {
            "colorbar": {
             "outlinewidth": 0,
             "ticks": ""
            },
            "colorscale": [
             [
              0.0,
              "#0d0887"
             ],
             [
              0.1111111111111111,
              "#46039f"
             ],
             [
              0.2222222222222222,
              "#7201a8"
             ],
             [
              0.3333333333333333,
              "#9c179e"
             ],
             [
              0.4444444444444444,
              "#bd3786"
             ],
             [
              0.5555555555555556,
              "#d8576b"
             ],
             [
              0.6666666666666666,
              "#ed7953"
             ],
             [
              0.7777777777777778,
              "#fb9f3a"
             ],
             [
              0.8888888888888888,
              "#fdca26"
             ],
             [
              1.0,
              "#f0f921"
             ]
            ],
            "type": "contour"
           }
          ],
          "contourcarpet": [
           {
            "colorbar": {
             "outlinewidth": 0,
             "ticks": ""
            },
            "type": "contourcarpet"
           }
          ],
          "heatmap": [
           {
            "colorbar": {
             "outlinewidth": 0,
             "ticks": ""
            },
            "colorscale": [
             [
              0.0,
              "#0d0887"
             ],
             [
              0.1111111111111111,
              "#46039f"
             ],
             [
              0.2222222222222222,
              "#7201a8"
             ],
             [
              0.3333333333333333,
              "#9c179e"
             ],
             [
              0.4444444444444444,
              "#bd3786"
             ],
             [
              0.5555555555555556,
              "#d8576b"
             ],
             [
              0.6666666666666666,
              "#ed7953"
             ],
             [
              0.7777777777777778,
              "#fb9f3a"
             ],
             [
              0.8888888888888888,
              "#fdca26"
             ],
             [
              1.0,
              "#f0f921"
             ]
            ],
            "type": "heatmap"
           }
          ],
          "histogram": [
           {
            "marker": {
             "pattern": {
              "fillmode": "overlay",
              "size": 10,
              "solidity": 0.2
             }
            },
            "type": "histogram"
           }
          ],
          "histogram2d": [
           {
            "colorbar": {
             "outlinewidth": 0,
             "ticks": ""
            },
            "colorscale": [
             [
              0.0,
              "#0d0887"
             ],
             [
              0.1111111111111111,
              "#46039f"
             ],
             [
              0.2222222222222222,
              "#7201a8"
             ],
             [
              0.3333333333333333,
              "#9c179e"
             ],
             [
              0.4444444444444444,
              "#bd3786"
             ],
             [
              0.5555555555555556,
              "#d8576b"
             ],
             [
              0.6666666666666666,
              "#ed7953"
             ],
             [
              0.7777777777777778,
              "#fb9f3a"
             ],
             [
              0.8888888888888888,
              "#fdca26"
             ],
             [
              1.0,
              "#f0f921"
             ]
            ],
            "type": "histogram2d"
           }
          ],
          "histogram2dcontour": [
           {
            "colorbar": {
             "outlinewidth": 0,
             "ticks": ""
            },
            "colorscale": [
             [
              0.0,
              "#0d0887"
             ],
             [
              0.1111111111111111,
              "#46039f"
             ],
             [
              0.2222222222222222,
              "#7201a8"
             ],
             [
              0.3333333333333333,
              "#9c179e"
             ],
             [
              0.4444444444444444,
              "#bd3786"
             ],
             [
              0.5555555555555556,
              "#d8576b"
             ],
             [
              0.6666666666666666,
              "#ed7953"
             ],
             [
              0.7777777777777778,
              "#fb9f3a"
             ],
             [
              0.8888888888888888,
              "#fdca26"
             ],
             [
              1.0,
              "#f0f921"
             ]
            ],
            "type": "histogram2dcontour"
           }
          ],
          "mesh3d": [
           {
            "colorbar": {
             "outlinewidth": 0,
             "ticks": ""
            },
            "type": "mesh3d"
           }
          ],
          "parcoords": [
           {
            "line": {
             "colorbar": {
              "outlinewidth": 0,
              "ticks": ""
             }
            },
            "type": "parcoords"
           }
          ],
          "pie": [
           {
            "automargin": true,
            "type": "pie"
           }
          ],
          "scatter": [
           {
            "fillpattern": {
             "fillmode": "overlay",
             "size": 10,
             "solidity": 0.2
            },
            "type": "scatter"
           }
          ],
          "scatter3d": [
           {
            "line": {
             "colorbar": {
              "outlinewidth": 0,
              "ticks": ""
             }
            },
            "marker": {
             "colorbar": {
              "outlinewidth": 0,
              "ticks": ""
             }
            },
            "type": "scatter3d"
           }
          ],
          "scattercarpet": [
           {
            "marker": {
             "colorbar": {
              "outlinewidth": 0,
              "ticks": ""
             }
            },
            "type": "scattercarpet"
           }
          ],
          "scattergeo": [
           {
            "marker": {
             "colorbar": {
              "outlinewidth": 0,
              "ticks": ""
             }
            },
            "type": "scattergeo"
           }
          ],
          "scattergl": [
           {
            "marker": {
             "colorbar": {
              "outlinewidth": 0,
              "ticks": ""
             }
            },
            "type": "scattergl"
           }
          ],
          "scattermap": [
           {
            "marker": {
             "colorbar": {
              "outlinewidth": 0,
              "ticks": ""
             }
            },
            "type": "scattermap"
           }
          ],
          "scattermapbox": [
           {
            "marker": {
             "colorbar": {
              "outlinewidth": 0,
              "ticks": ""
             }
            },
            "type": "scattermapbox"
           }
          ],
          "scatterpolar": [
           {
            "marker": {
             "colorbar": {
              "outlinewidth": 0,
              "ticks": ""
             }
            },
            "type": "scatterpolar"
           }
          ],
          "scatterpolargl": [
           {
            "marker": {
             "colorbar": {
              "outlinewidth": 0,
              "ticks": ""
             }
            },
            "type": "scatterpolargl"
           }
          ],
          "scatterternary": [
           {
            "marker": {
             "colorbar": {
              "outlinewidth": 0,
              "ticks": ""
             }
            },
            "type": "scatterternary"
           }
          ],
          "surface": [
           {
            "colorbar": {
             "outlinewidth": 0,
             "ticks": ""
            },
            "colorscale": [
             [
              0.0,
              "#0d0887"
             ],
             [
              0.1111111111111111,
              "#46039f"
             ],
             [
              0.2222222222222222,
              "#7201a8"
             ],
             [
              0.3333333333333333,
              "#9c179e"
             ],
             [
              0.4444444444444444,
              "#bd3786"
             ],
             [
              0.5555555555555556,
              "#d8576b"
             ],
             [
              0.6666666666666666,
              "#ed7953"
             ],
             [
              0.7777777777777778,
              "#fb9f3a"
             ],
             [
              0.8888888888888888,
              "#fdca26"
             ],
             [
              1.0,
              "#f0f921"
             ]
            ],
            "type": "surface"
           }
          ],
          "table": [
           {
            "cells": {
             "fill": {
              "color": "#EBF0F8"
             },
             "line": {
              "color": "white"
             }
            },
            "header": {
             "fill": {
              "color": "#C8D4E3"
             },
             "line": {
              "color": "white"
             }
            },
            "type": "table"
           }
          ]
         },
         "layout": {
          "annotationdefaults": {
           "arrowcolor": "#2a3f5f",
           "arrowhead": 0,
           "arrowwidth": 1
          },
          "autotypenumbers": "strict",
          "coloraxis": {
           "colorbar": {
            "outlinewidth": 0,
            "ticks": ""
           }
          },
          "colorscale": {
           "diverging": [
            [
             0,
             "#8e0152"
            ],
            [
             0.1,
             "#c51b7d"
            ],
            [
             0.2,
             "#de77ae"
            ],
            [
             0.3,
             "#f1b6da"
            ],
            [
             0.4,
             "#fde0ef"
            ],
            [
             0.5,
             "#f7f7f7"
            ],
            [
             0.6,
             "#e6f5d0"
            ],
            [
             0.7,
             "#b8e186"
            ],
            [
             0.8,
             "#7fbc41"
            ],
            [
             0.9,
             "#4d9221"
            ],
            [
             1,
             "#276419"
            ]
           ],
           "sequential": [
            [
             0.0,
             "#0d0887"
            ],
            [
             0.1111111111111111,
             "#46039f"
            ],
            [
             0.2222222222222222,
             "#7201a8"
            ],
            [
             0.3333333333333333,
             "#9c179e"
            ],
            [
             0.4444444444444444,
             "#bd3786"
            ],
            [
             0.5555555555555556,
             "#d8576b"
            ],
            [
             0.6666666666666666,
             "#ed7953"
            ],
            [
             0.7777777777777778,
             "#fb9f3a"
            ],
            [
             0.8888888888888888,
             "#fdca26"
            ],
            [
             1.0,
             "#f0f921"
            ]
           ],
           "sequentialminus": [
            [
             0.0,
             "#0d0887"
            ],
            [
             0.1111111111111111,
             "#46039f"
            ],
            [
             0.2222222222222222,
             "#7201a8"
            ],
            [
             0.3333333333333333,
             "#9c179e"
            ],
            [
             0.4444444444444444,
             "#bd3786"
            ],
            [
             0.5555555555555556,
             "#d8576b"
            ],
            [
             0.6666666666666666,
             "#ed7953"
            ],
            [
             0.7777777777777778,
             "#fb9f3a"
            ],
            [
             0.8888888888888888,
             "#fdca26"
            ],
            [
             1.0,
             "#f0f921"
            ]
           ]
          },
          "colorway": [
           "#636efa",
           "#EF553B",
           "#00cc96",
           "#ab63fa",
           "#FFA15A",
           "#19d3f3",
           "#FF6692",
           "#B6E880",
           "#FF97FF",
           "#FECB52"
          ],
          "font": {
           "color": "#2a3f5f"
          },
          "geo": {
           "bgcolor": "white",
           "lakecolor": "white",
           "landcolor": "#E5ECF6",
           "showlakes": true,
           "showland": true,
           "subunitcolor": "white"
          },
          "hoverlabel": {
           "align": "left"
          },
          "hovermode": "closest",
          "mapbox": {
           "style": "light"
          },
          "paper_bgcolor": "white",
          "plot_bgcolor": "#E5ECF6",
          "polar": {
           "angularaxis": {
            "gridcolor": "white",
            "linecolor": "white",
            "ticks": ""
           },
           "bgcolor": "#E5ECF6",
           "radialaxis": {
            "gridcolor": "white",
            "linecolor": "white",
            "ticks": ""
           }
          },
          "scene": {
           "xaxis": {
            "backgroundcolor": "#E5ECF6",
            "gridcolor": "white",
            "gridwidth": 2,
            "linecolor": "white",
            "showbackground": true,
            "ticks": "",
            "zerolinecolor": "white"
           },
           "yaxis": {
            "backgroundcolor": "#E5ECF6",
            "gridcolor": "white",
            "gridwidth": 2,
            "linecolor": "white",
            "showbackground": true,
            "ticks": "",
            "zerolinecolor": "white"
           },
           "zaxis": {
            "backgroundcolor": "#E5ECF6",
            "gridcolor": "white",
            "gridwidth": 2,
            "linecolor": "white",
            "showbackground": true,
            "ticks": "",
            "zerolinecolor": "white"
           }
          },
          "shapedefaults": {
           "line": {
            "color": "#2a3f5f"
           }
          },
          "ternary": {
           "aaxis": {
            "gridcolor": "white",
            "linecolor": "white",
            "ticks": ""
           },
           "baxis": {
            "gridcolor": "white",
            "linecolor": "white",
            "ticks": ""
           },
           "bgcolor": "#E5ECF6",
           "caxis": {
            "gridcolor": "white",
            "linecolor": "white",
            "ticks": ""
           }
          },
          "title": {
           "x": 0.05
          },
          "xaxis": {
           "automargin": true,
           "gridcolor": "white",
           "linecolor": "white",
           "ticks": "",
           "title": {
            "standoff": 15
           },
           "zerolinecolor": "white",
           "zerolinewidth": 2
          },
          "yaxis": {
           "automargin": true,
           "gridcolor": "white",
           "linecolor": "white",
           "ticks": "",
           "title": {
            "standoff": 15
           },
           "zerolinecolor": "white",
           "zerolinewidth": 2
          }
         }
        },
        "title": {
         "text": "ผลการวิเคราะห์ PCA ของข้อมูลเมาส์"
        },
        "xaxis": {
         "anchor": "y",
         "domain": [
          0.0,
          1.0
         ],
         "title": {
          "text": "แกนคุณลักษณะหลักที่ 1 (PC1)"
         }
        },
        "yaxis": {
         "anchor": "x",
         "domain": [
          0.0,
          1.0
         ],
         "title": {
          "text": "แกนคุณลักษณะหลักที่ 2 (PC2)"
         }
        }
       }
      }
     },
     "metadata": {},
     "output_type": "display_data"
    }
   ],
   "source": [
    "from sklearn.metrics.pairwise import cosine_similarity\n",
    "\n",
    "\n",
    "# 1. กำหนด \"คลังเมาส์\" ของคุณ\n",
    "my_mouse_collection = ['Viper Mini Signature Edition', 'MAD R Major', 'Susanto-X', 'Y2 Pro']\n",
    "df_my_collection = df_pca[df_pca['Model'].isin(my_mouse_collection)]\n",
    "\n",
    "# 2. คำนวณ \"โปรไฟล์เมาส์ในอุดมคติ\" (จุดศูนย์กลางของคลัง)\n",
    "ideal_mouse_profile = df_my_collection[col].mean().values.reshape(1, -1)\n",
    "\n",
    "print(f\"คลังเมาส์ของฉัน:\\n{df_my_collection}\\n\")\n",
    "\n",
    "# 3. คำนวณ Cosine Similarity\n",
    "cosine_sim = cosine_similarity(df_pca[col], ideal_mouse_profile).flatten()\n",
    "df_pca['Cosine_Similarity_to_Ideal'] = cosine_sim\n",
    "\n",
    "# 4. จัดอันดับเมาส์ที่ใกล้เคียงที่สุด (ไม่รวมเมาส์ที่มีอยู่แล้วในคลัง)\n",
    "recommendations = df_pca[~df_pca['Model'].isin(my_mouse_collection)] \\\n",
    "    .sort_values('Cosine_Similarity_to_Ideal', ascending=False) \\\n",
    "    .head(5)\n",
    "\n",
    "print(f\"จุดศูนย์กลาง (Ideal Profile) ในแกน PCA: {ideal_mouse_profile.flatten()}\")\n",
    "print(\"\\n--- 5 อันดับเมาส์แนะนำที่ใกล้เคียงกับสไตล์ของคุณที่สุด ---\")\n",
    "print(recommendations[['Model', 'Brand', 'Cosine_Similarity_to_Ideal']])\n",
    "\n",
    "# 5. พล็อตกราฟแสดง Ideal Profile\n",
    "fig.add_scatter(\n",
    "    x=[ideal_mouse_profile[0, 0]],\n",
    "    y=[ideal_mouse_profile[0, 1]],\n",
    "    mode='markers',\n",
    "    marker=dict(symbol='star', color='red', size=15),\n",
    "    name='Ideal Profile (จุดศูนย์กลาง)'\n",
    ")\n",
    "fig.show()\n"
   ]
  },
  {
   "cell_type": "markdown",
   "id": "75b17e08",
   "metadata": {},
   "source": [
    "#  **Find Similar Mouse using Euclidean Distance Similarity**"
   ]
  },
  {
   "cell_type": "code",
   "execution_count": 7,
   "id": "a33f299f",
   "metadata": {
    "execution": {
     "iopub.execute_input": "2025-10-14T02:56:19.861937Z",
     "iopub.status.busy": "2025-10-14T02:56:19.861937Z",
     "iopub.status.idle": "2025-10-14T02:56:19.886668Z",
     "shell.execute_reply": "2025-10-14T02:56:19.886668Z"
    }
   },
   "outputs": [
    {
     "name": "stdout",
     "output_type": "stream",
     "text": [
      "จุดศูนย์กลาง (Ideal Profile) ในแกน PCA: [-1.78600473  1.12712374]\n",
      "\n",
      "--- 5 อันดับเมาส์แนะนำที่ใกล้เคียงกับสไตล์ของคุณที่สุด ---\n",
      "           Model     Brand  Distance_to_Ideal\n",
      "472         M996  Redragon           0.124088\n",
      "643   F1 Pro Max       ATK           0.128044\n",
      "124    VK M1 Pro  Valkyrie           0.136857\n",
      "342       AX5 V2    MCHOSE           0.142778\n",
      "163  Black Lotus     UNIUS           0.147502\n"
     ]
    },
    {
     "data": {
      "application/vnd.plotly.v1+json": {
       "config": {
        "plotlyServerURL": "https://plot.ly"
       },
       "data": [
        {
         "hovertemplate": "<b>%{hovertext}</b><br><br>Brand=AJAZZ<br>แกนคุณลักษณะหลักที่ 1 (PC1)=%{x}<br>แกนคุณลักษณะหลักที่ 2 (PC2)=%{y}<extra></extra>",
         "hovertext": [
          "T520 Max",
          "T520",
          "AJ179 V2 Max",
          "AJ179 V2",
          "AM3 Max",
          "AM3 Pro",
          "AJ179 APEX",
          "AJ179 PRO",
          "AJ179P",
          "AJ179",
          "M259",
          "AJ159APEX",
          "AJ159 PRO",
          "AJ159P",
          "AJ159",
          "AJ199 MC",
          "AJ199 Pro 4K",
          "AJ199 4K",
          "AJ139 Pro 4K",
          "AJ099",
          "AJ139 Pro",
          "AJ199"
         ],
         "legendgroup": "AJAZZ",
         "marker": {
          "color": "#636efa",
          "symbol": "circle"
         },
         "mode": "markers",
         "name": "AJAZZ",
         "showlegend": true,
         "type": "scattergl",
         "x": {
          "bdata": "Cd0iRbb07b/aUolOB5XovzBqwxvxsfg/SPWmU0Qj9j+pBKdXYUwEwKkEp1dhTATA2IUukUL8sD+1iXps7vHVP9dHjbDIguk/10eNsMiC6T8LCbqvwKPuP+Sc2G5/EP6/1eLM/Mej+b9W4aQ/317yv1bhpD/fXvK/z2uea31f8b/J6znCgyHYP6Iokumie/K/xX7PexDZ6r+3fO8rsszmv7Pn2whdRem/tPwqNv5a8b8=",
          "dtype": "f8"
         },
         "xaxis": "x",
         "y": {
          "bdata": "JZSy53n/0L+jG1p2+Nblv26N5XDsaek/IAOhl+TB7j9awOf+bEzGP1rA5/5sTMY/y9WaxNcW/j8ztIA+Ken0PxXqlNAjfOc/FeqU0CN85z8mRSOZQ5rhP8Us70bYHPA/rSxUA6e82z/unwmrbN/Bv+6fCats38G/lelX2lEo2r8Q++4QHOfoP5Ll3uHKJ8O/nBhPojgdxz+iDfa5qYrev9MmTTvfP7k/cQC2fOkX0L8=",
          "dtype": "f8"
         },
         "yaxis": "y"
        },
        {
         "hovertemplate": "<b>%{hovertext}</b><br><br>Brand=MCHOSE<br>แกนคุณลักษณะหลักที่ 1 (PC1)=%{x}<br>แกนคุณลักษณะหลักที่ 2 (PC2)=%{y}<extra></extra>",
         "hovertext": [
          "G3 V2 Pro",
          "G3 V2",
          "G3 A",
          "A5 V2 Ultra",
          "L7 Ultra+",
          "L7 Pro+",
          "K7 Ultra",
          "G7 Max",
          "G7 Pro",
          "G7",
          "M7 Ultra",
          "AX5 V2",
          "L7 Ultra",
          "L7 Pro",
          "L7",
          "A7 Ultra",
          "A7 Pro",
          "A7",
          "M7 Pro",
          "M7",
          "G3 Ultra",
          "G3 Max",
          "G3 Pro",
          "G3",
          "G3 SE",
          "A5 Ultra",
          "AX5 Pro Max",
          "AX5 Pro",
          "AX5",
          "A5 Pro Max",
          "A5 Pro",
          "A5"
         ],
         "legendgroup": "MCHOSE",
         "marker": {
          "color": "#EF553B",
          "symbol": "circle"
         },
         "mode": "markers",
         "name": "MCHOSE",
         "showlegend": true,
         "type": "scattergl",
         "x": {
          "bdata": "HSE4pSCW8b+fvNtCAG7rv5J/mVFac+e/GpbfE49v+r9GVYAxRwUAwNSRnzLPzPy/7JhB+4N+87/WeZD7FVz4P2ibfo6kNf4/EV9Bng/AAUAcVAk8PVT2vyhQ64VG3P6/U1vigtvsBcBKftzJf7YDwEp+3Ml/tgPAF0GzQctH9b8Hh6fPE9vwv3RTY8m1//G/DZr9yYXn8b9dRpBqoKryvxYEv2m23fa/FgS/abbd9r8CG0tAQzDxv5J/mVFac+e/a7ABeUWi6r+0nH4lknP4v5RhWRAo1fq/TIVCpMet9r83symWK0T4vzWbVmipLvG/NZtWaKku8b+m/cNddF/yvw==",
          "dtype": "f8"
         },
         "xaxis": "x",
         "y": {
          "bdata": "KdvWIRFc0L9jKJn7+T3ovxF2alTg2ey/yF8/Mbys4T82fSRi2yn1P7MYNNGGr+o/+sr4Faqr+D/QQQ9rf1gBQNno/Lue8vo/D2eRyu598T9unf/RExT4P3vRuZ4MBPI/veVg8zQ58j9MiI3aDBfiP0yIjdoMF+I/Am4+obsP9z/UmEg2GsTrP+FL0LUCSe4/rPfKl8rM7T9gL6dDznrvPzwMvwr/MMY/PAy/Cv8wxj+hYPfeBjTSvxF2alTg2ey/H2sp2vQp6b+Xgs5Nqi7aP6syhGZql+I/RGeMLA060D9v/rLWfo/XPyL0FBZm+8S/IvQUFmb7xL/AIrYtd/azvw==",
          "dtype": "f8"
         },
         "yaxis": "y"
        },
        {
         "hovertemplate": "<b>%{hovertext}</b><br><br>Brand=G-Wolves<br>แกนคุณลักษณะหลักที่ 1 (PC1)=%{x}<br>แกนคุณลักษณะหลักที่ 2 (PC2)=%{y}<extra></extra>",
         "hovertext": [
          "Fenrir Pro 8K",
          "HTX Ultra 8K",
          "VUK",
          "HTM Plus 8K",
          "HT-S2 Pro 8K",
          "Fenrir Max 8K",
          "Fenrir Asym 8K",
          "HTS Ultra 8K",
          "HTX Mini 8K",
          "HTS Plus 8K",
          "HTR Pro 8K",
          "HT-S2 8K",
          "HTR 8K",
          "HTS Ace Wireless",
          "HTM Ace",
          "HSK Plus 4K",
          "HSK Plus Lite",
          "HTX 4K",
          "HTX Ace",
          "HSK Pro 4K",
          "HSK Pro Ace",
          "HTS Plus 4K",
          "HTS",
          "HTS Wireless",
          "HSK",
          "HSK Plus",
          "HTS Plus",
          "HTM Wireless",
          "HTM",
          "Skoll Mini",
          "Skoll"
         ],
         "legendgroup": "G-Wolves",
         "marker": {
          "color": "#00cc96",
          "symbol": "circle"
         },
         "mode": "markers",
         "name": "G-Wolves",
         "showlegend": true,
         "type": "scattergl",
         "x": {
          "bdata": "DLPSpt+5E8B/817A9XsBwNDjN5bCyfy/xHJYCum9/b9zXCRC5ecGwKooGQ6V/xLAU5x/7vdPEsDODf3mPbgDwKs/VJgZLAnAtpCOdkxw/b/lJBQr1MsQwG++m9AmjgXAp/NcB37LD8DeW7Ap5rHxvzEi7CciqOG/Q+joVnIvCsDFIv7IS8wHwKYSAeYTz/2/eREP52Xm+795Zv/Kd8gSwBWICdGPmRLAaOjnzr5w9r+qWnUY8370vxmPbG9pufG/YdAWDRslDMD1xG0N5qgHwFDU+daNcfO/JYe8wj1o17/BMg4C8zzJv/6PSuvJAeA/yl/+TDcT/D8=",
          "dtype": "f8"
         },
         "xaxis": "x",
         "y": {
          "bdata": "mKQ7bTcD379A1KKBjA/1P6hew2qbpfg/B+BQocM5+T835OlxdhHxP6+FqEbCHOa/0MNP3NTn57+eGtNyZtzzP7QeTSkYDOM/7uuMxibc6D8y0J38OC7MvyyATOjOh+Q/KhISkjcSwr+K/wBjX2TjvwXnwPImVbQ/cpnr1IR07b/42NZKSRn2v7AgJM5CCOA/VutGxIEA1j8x/8ynUCUAwB9sj1IpOgDAwI5wucUYwz/BoAltJ7rZv46JkUbB0OG/Wk6yWGkKAcARezgzJKz2v6zTWZb9lrq/CJuLU3Ems79NYJi9YjPYvzsEjpooLdc/faIAZP164D8=",
          "dtype": "f8"
         },
         "yaxis": "y"
        },
        {
         "hovertemplate": "<b>%{hovertext}</b><br><br>Brand=Pulsar<br>แกนคุณลักษณะหลักที่ 1 (PC1)=%{x}<br>แกนคุณลักษณะหลักที่ 2 (PC2)=%{y}<extra></extra>",
         "hovertext": [
          "Susanto-X",
          "Pro Series JV-X",
          "Xlite CrazyLight",
          "X2F",
          "ZywOo The Chosen Mouse - Mini",
          "ZywOo The Chosen Mouse - Medium",
          "Xlite v4 eS Mini",
          "Xlite v4 eS Medium",
          "X2H v3 eS Mini",
          "X2H v3 eS",
          "TenZ Signature Edition",
          "X2A v3 eS Mini",
          "X2 v3 eS Mini",
          "X2 v3 Mini",
          "X2 CrazyLight",
          "X2H v3 Mini",
          "X2H v3",
          "X2A v3",
          "X2 v3",
          "Xlite v4 Large",
          "X2A Wired",
          "X2 Wired",
          "Feinmann F01",
          "Xlite v4 Medium",
          "Xlite v4 Mini",
          "Xlite Wired",
          "Xlite V2 Mini Wireless",
          "Xlite Wireless",
          "Xlite",
          "Xlite V2 Wireless",
          "X2H Wired",
          "X3",
          "X3 Mini",
          "X3 LHD",
          "X3 LHD Mini",
          "X2A eS",
          "X2H eS",
          "Xlite v3 Large",
          "Xlite v3 Mini",
          "Xlite v3 Medium",
          "Xlite v3 eS",
          "X2A Mini",
          "X2A",
          "X2H Mini",
          "X2H",
          "X2V2 Mini",
          "X2V2",
          "X2 Mini",
          "X2"
         ],
         "legendgroup": "Pulsar",
         "marker": {
          "color": "#ab63fa",
          "symbol": "circle"
         },
         "mode": "markers",
         "name": "Pulsar",
         "showlegend": true,
         "type": "scattergl",
         "x": {
          "bdata": "I3QKPpn//L+OWE7s51Klv4VMzxBV2d6/ne7W/P7FDsCDM0/rl2qeP08uW3of++U/Cu+7NhrYcD+5/1MN2bfqP7M6O5EuCPq/84gM1CMc8r8euxYzAmf4v03dEkrGtPy/VQg9QQ2//r9mc/P/WAEBwNlRnb79RATAFrE2gg9A/7+ESbppOrz2vzSZoN2Vhvm/qMsEhzUa+796o385QAbzP40+DUDQ/fC/nn3K01f28r+vg45xLqRMvw6SBlGo+98/Jb3JG3x5y7+GooP5NC/wPx5sQASUreE/qQmHBaqO8z8qr8sJda7vP6kJhwWqjvM/A1qA9csn7b+8X9SZAADtPwtzmegkess/vF/UmQAA7T8Lc5noJHrLPxOcrxbyIvO/UZOzrmSb8b++CmzB7fP7P3m+zBH4+dU/akCD7UhL8T9Gy9yiYgnuP0uQpRgyc/e/8DG0VeiY8L8aaJlxn+v1v7t5qarA1+q/hn/6dwQV+b9kZBj/hyzyv7ZDJeCPrPi/jT4NQND98L8=",
          "dtype": "f8"
         },
         "xaxis": "x",
         "y": {
          "bdata": "1DjuLtVi7D838Pwvb2P3PxIRupIas/s/WFsjLmB8578HvOfmtID3P5+hd/ROov0/kI4+1XDr8j/JcVfp0+r7P78pyllRutI/YmQCs1FE5z9fJSwRZlD0PzEMIKjDM8I/ZrpEOKnP0j88un8fdCzhPyc6HZPZWvA/YvqxqXuR5T8NCiOj8MzwP1ElQCkUGec/H57Mrli26j8xOM20XaECQA9AzWXEgKO/BRiWBEtkuj+2sw8+wy3+Pyslw2VDa/8/5CK2nePe9j/dfrbTJJjzPxuqDiMvmtc/N09HmNgz6T9NKKELZpLwPzdPR5jYM+k/at738Lk01D+3B6dTqK8BQLiw6dZT3f0/twenU6ivAUC4sOnWU939P86GHNAOfMU/Hbc/s3L34j+cZBqhgqb4P0MubKpVheQ/r2YJgn1q8j8vpQ13snn4P50XXmaa3Ne/qJH/Pev6sL8CRcY5LF3CvxYNrE7kE84/kboA4/oX0L+Tacjccd6nP9UR2MMiCdK/D0DNZcSAo78=",
          "dtype": "f8"
         },
         "yaxis": "y"
        },
        {
         "hovertemplate": "<b>%{hovertext}</b><br><br>Brand=Dark<br>แกนคุณลักษณะหลักที่ 1 (PC1)=%{x}<br>แกนคุณลักษณะหลักที่ 2 (PC2)=%{y}<extra></extra>",
         "hovertext": [
          "Project Novus Pro",
          "Project Novus",
          "Project Novus SE",
          "Project Nexus Ultra",
          "Project Nexus"
         ],
         "legendgroup": "Dark",
         "marker": {
          "color": "#FFA15A",
          "symbol": "circle"
         },
         "mode": "markers",
         "name": "Dark",
         "showlegend": true,
         "type": "scattergl",
         "x": {
          "bdata": "FWe6FNlz9L9R3foIlCjqvy3LJK/gXeq/8VisHD2N8799Vuj4TnXrvw==",
          "dtype": "f8"
         },
         "xaxis": "x",
         "y": {
          "bdata": "u0o6wJFB8j/YdyYjUkfiPygXCNT0LOI/dppgMmuR9D+tBp9EDCToPw==",
          "dtype": "f8"
         },
         "yaxis": "y"
        },
        {
         "hovertemplate": "<b>%{hovertext}</b><br><br>Brand=Chaos<br>แกนคุณลักษณะหลักที่ 1 (PC1)=%{x}<br>แกนคุณลักษณะหลักที่ 2 (PC2)=%{y}<extra></extra>",
         "hovertext": [
          "M3 Mini"
         ],
         "legendgroup": "Chaos",
         "marker": {
          "color": "#19d3f3",
          "symbol": "circle"
         },
         "mode": "markers",
         "name": "Chaos",
         "showlegend": true,
         "type": "scattergl",
         "x": {
          "bdata": "eaq0wM8W/78=",
          "dtype": "f8"
         },
         "xaxis": "x",
         "y": {
          "bdata": "yGHLxIkA6D8=",
          "dtype": "f8"
         },
         "yaxis": "y"
        },
        {
         "hovertemplate": "<b>%{hovertext}</b><br><br>Brand=Attack<br>แกนคุณลักษณะหลักที่ 1 (PC1)=%{x}<br>แกนคุณลักษณะหลักที่ 2 (PC2)=%{y}<extra></extra>",
         "hovertext": [
          "Shark V5",
          "Shark R11 Ultra",
          "Shark X8 Ultra",
          "Shark X11 SE",
          "Shark X8 SE",
          "Shark X8 Pro",
          "Shark X8 Plus",
          "Shark G3 Pro",
          "Shark G3",
          "Shark X1",
          "Shark R5 Ultra",
          "Shark R6",
          "Shark X3 Max",
          "Shark R2",
          "Shark X11",
          "Shark R3",
          "Shark R1",
          "Shark X3 Pro",
          "Shark X6",
          "Shark X3"
         ],
         "legendgroup": "Attack",
         "marker": {
          "color": "#FF6692",
          "symbol": "circle"
         },
         "mode": "markers",
         "name": "Attack",
         "showlegend": true,
         "type": "scattergl",
         "x": {
          "bdata": "bhhZLuXS+r/6sh0OuAH6vw4zwa2F7fa/J7Me4YuA17/Ad9kONOrlv8y7f7/uX/a/nXSvBAw27r81K09d/WbyvzUrT139ZvK/mhkcgm1A979+4ZV11ugDwE88tZhaJgTAY6yv4XP++L+Bg9Zi8EUBwG68I0oIetG/dyyKHYPXAMDIObiErjbwP+YzlZUx5fe/WkDiLv359r9V8qNvvJH0vw==",
          "dtype": "f8"
         },
         "xaxis": "x",
         "y": {
          "bdata": "KAK2kO9R9T/BXN4gIlj5P/2yMZJdrfg/LzviKhcp0z+LwP418wbXP8lubsGnh/c/RF9w1iC57D8ZLpJTXo/VvxkuklNej9W/xHi/2q/54D8jfaF1ujj2P4b1n8A2//U/Ylmb8IY95z9YFuoM3Ir1P/hsTC8lO8k/ZZtg9Zc+4T8ICjo+bYjhPzPftbKJWtw/04V6J389lb/AWJyRp4jDPw==",
          "dtype": "f8"
         },
         "yaxis": "y"
        },
        {
         "hovertemplate": "<b>%{hovertext}</b><br><br>Brand=LAMZU<br>แกนคุณลักษณะหลักที่ 1 (PC1)=%{x}<br>แกนคุณลักษณะหลักที่ 2 (PC2)=%{y}<extra></extra>",
         "hovertext": [
          "MAYA Champion Edition",
          "x REJECT Paro Reject Special Edition",
          "Paro Aurora",
          "x Aimlabs MAYA X",
          "Inca",
          "Tachi",
          "MAYA X",
          "x Fnatic MAYA X 8K",
          "x Fnatic MAYA 8K",
          "Paro",
          "Atlantis Mini Champion",
          "MAYA 4K",
          "x Fnatic Thorn 4K",
          "Thorn 4K",
          "Atlantis Mini 4K",
          "Atlantis Mini Pro",
          "Atlantis OG V2 4K",
          "Atlantis OG V2 Pro",
          "MAYA",
          "Atlantis OG V2",
          "Thorn",
          "Atlantis Mini",
          "Atlantis"
         ],
         "legendgroup": "LAMZU",
         "marker": {
          "color": "#B6E880",
          "symbol": "circle"
         },
         "mode": "markers",
         "name": "LAMZU",
         "showlegend": true,
         "type": "scattergl",
         "x": {
          "bdata": "Bu6G7y6F/7/+zSH2tymsv/7NIfa3Kay/PGQwthV79b9zE0ZuMmn7v9mGJ0I+IPy/PGQwthV79b9upexQfj32vwbuhu8uhf+/BQrwaA7wjD+mXAX2Ym7+vzoj7aagQvq/iv0XFWbF4D+K/RcVZsXgP0c+lAt7+fm/EhmDuvLb9r+faifh0CXuvzMgBT/A6ue/A/7bVRgl978zIAU/wOrnv/VHOrd2AOc/rPedeGLs9L8zIAU/wOrnvw==",
          "dtype": "f8"
         },
         "xaxis": "x",
         "y": {
          "bdata": "BMAf4Jzf7D8eIrE8Fon6Px4isTwWifo/9crb3I1b9T8QXYh5c/r1P4SO0pIxCOw/9crb3I1b9T9CrUfY3jD2PwTAH+Cc3+w/uJkqm6o9+D/gLSIiW23jP1tgqZnDnNs/qhEIfTh18z+qEQh9OHXzP7D0BTGx9cg/tyHQ/ujlqb9ckLnLVTfgPygiFt8Vt9A/lsOYwlvKxz8oIhbfFbfQPw6k4R2mDu8/Ab+Hiq5M078oIhbfFbfQPw==",
          "dtype": "f8"
         },
         "yaxis": "y"
        },
        {
         "hovertemplate": "<b>%{hovertext}</b><br><br>Brand=ATK<br>แกนคุณลักษณะหลักที่ 1 (PC1)=%{x}<br>แกนคุณลักษณะหลักที่ 2 (PC2)=%{y}<extra></extra>",
         "hovertext": [
          "U2 Mini",
          "Duckbill",
          "X1 S",
          "X1 SE",
          "U2 Ultimate",
          "U2 Ultra",
          "U2 Pro Max",
          "U2 Pro",
          "U2 Plus",
          "U2",
          "U2 SE",
          "A9 Pro Max",
          "A9 Ultra",
          "A9 Pro",
          "A9 Plus",
          "A9 SE",
          "A9",
          "X1",
          "Fierce X",
          "F1 Extreme",
          "X1 Ultimate",
          "Z1 Ultra",
          "Z1 Pro Max",
          "X1 Ultra",
          "X1 Pro Max",
          "X1 Pro",
          "F1 Ultimate",
          "F1 Pro Max",
          "F1 Pro"
         ],
         "legendgroup": "ATK",
         "marker": {
          "color": "#FF97FF",
          "symbol": "circle"
         },
         "mode": "markers",
         "name": "ATK",
         "showlegend": true,
         "type": "scattergl",
         "x": {
          "bdata": "bf0ct3HSAMBZk4r+96MBwPOW7hX55+K/xbnFR4P23L/79mdKpZ35v5tdDrm13vm/o0cPLSHl8r9SCccRwxr3v0mMzt9wQOe/2XZoNgrY67/Zdmg2Ctjrv8MQG//8wfC/siRFiWez9r+hajkXsEbyv4oe5oMo+uK/U5kcWZuK3L9F0iK0jgPmv/hMH0jluPC/QuCevTfeA8Bo5i69RcYCwG7WrtqWR/a/ckSnOsL92j/FbdyyatDgPwgHK7qcJfW/QaFm79d887/s+ux6I2D1v7Tki9SzLgLA/lU7mRP4/b8BsVpLT/H/vw==",
          "dtype": "f8"
         },
         "xaxis": "x",
         "y": {
          "bdata": "MKms7MHK9j98B/K0gsLzPzQbImfc/uA/aOYfhLdEzz9uutzNown6P95i/DURt/g/AEy76cah7D/eDSwihPryP1ubnXowl9Q/u2YxxnfD3j+7ZjHGd8PeP0i1rI3mSu4//a3ginr9+T9kjMYEzM/wP+1tgMJv6dc/kwqksQHRmL/zNEG60pLeP8JMx4mFqvE/uF+ZvmS78z+v63XfQcX6P1SNHkszFPw/gBHFRW4LAkAyK6CM3VIAQFpu4Q802Po/wqGXnRJn9z9i1VIAvHX5P4YCU2hBafk/RpF9GR6I8D/iFQ3gHszyPw==",
          "dtype": "f8"
         },
         "yaxis": "y"
        },
        {
         "hovertemplate": "<b>%{hovertext}</b><br><br>Brand=INZONE<br>แกนคุณลักษณะหลักที่ 1 (PC1)=%{x}<br>แกนคุณลักษณะหลักที่ 2 (PC2)=%{y}<extra></extra>",
         "hovertext": [
          "Mouse-A"
         ],
         "legendgroup": "INZONE",
         "marker": {
          "color": "#FECB52",
          "symbol": "circle"
         },
         "mode": "markers",
         "name": "INZONE",
         "showlegend": true,
         "type": "scattergl",
         "x": {
          "bdata": "Ardf6Kqi978=",
          "dtype": "f8"
         },
         "xaxis": "x",
         "y": {
          "bdata": "FpAv5qUu8j8=",
          "dtype": "f8"
         },
         "yaxis": "y"
        },
        {
         "hovertemplate": "<b>%{hovertext}</b><br><br>Brand=VAXEE<br>แกนคุณลักษณะหลักที่ 1 (PC1)=%{x}<br>แกนคุณลักษณะหลักที่ 2 (PC2)=%{y}<extra></extra>",
         "hovertext": [
          "ZYGEN NP-01S Ergo",
          "XE v2",
          "ZYGEN NP-01S v2",
          "x Ninjutso Sora 4K",
          "E1 Wireless 4K",
          "XE-S L Wireless 4K",
          "XE-S Wireless 4K",
          "ZYGEN NP-01 Wireless 4K",
          "ZYGEN NP-01S Wireless 4K",
          "XE Wireless 4K",
          "OUTSET AX Wireless 4K",
          "OUTSET AX Wireless",
          "ZYGEN NP-01S Wireless",
          "ZYGEN NP-01S",
          "XE Wireless",
          "XE",
          "OUTSET AX",
          "ZYGEN NP-01"
         ],
         "legendgroup": "VAXEE",
         "marker": {
          "color": "#636efa",
          "symbol": "circle"
         },
         "mode": "markers",
         "name": "VAXEE",
         "showlegend": true,
         "type": "scattergl",
         "x": {
          "bdata": "4wBZQ+xZ1b8J5wYUAVfWv1Lj9iagoeC/SucuVLu+5r/bII0hea7yP+OCbZ6gBO6/44JtnqAE7r93w5EVYmXSP4lu4559es+/EArisZ1/rD9MOxwu5Gv4P4JgLX9sifs/ThNpWew4qr8TS6ijcwWYPx7WgPoUBtA/gFH5EZt8oj8AOnmDD6n8P3VYFWcs9+A/",
          "dtype": "f8"
         },
         "xaxis": "x",
         "y": {
          "bdata": "skoMCOiz4b8h8kF8oePTvwNAvBxeeOS/+Oe/bIzX5L+R1Wv4n7jKP4AUVpk7bu6/gBRWmTtu7r884GIMVwHnvypKIiv0oO6/3ig568w16L8DXTCA1v+vvzEKY4iQt9O/u2Sog18+87962uSc/6D0vxXUs+PLCPC/Brw8ZDCE6L8L6MyhypDYvzhzj3l5SfC/",
          "dtype": "f8"
         },
         "yaxis": "y"
        },
        {
         "hovertemplate": "<b>%{hovertext}</b><br><br>Brand=Ausdom<br>แกนคุณลักษณะหลักที่ 1 (PC1)=%{x}<br>แกนคุณลักษณะหลักที่ 2 (PC2)=%{y}<extra></extra>",
         "hovertext": [
          "G04 Ultra",
          "G04 Pro",
          "G04 Air"
         ],
         "legendgroup": "Ausdom",
         "marker": {
          "color": "#EF553B",
          "symbol": "circle"
         },
         "mode": "markers",
         "name": "Ausdom",
         "showlegend": true,
         "type": "scattergl",
         "x": {
          "bdata": "T+g27R25tb9D0D38ukyTPwHjY6RuSN4/",
          "dtype": "f8"
         },
         "xaxis": "x",
         "y": {
          "bdata": "F42jbteA/T9+wFn8tQ/6P1WBI6ae5PA/",
          "dtype": "f8"
         },
         "yaxis": "y"
        },
        {
         "hovertemplate": "<b>%{hovertext}</b><br><br>Brand=Rapoo<br>แกนคุณลักษณะหลักที่ 1 (PC1)=%{x}<br>แกนคุณลักษณะหลักที่ 2 (PC2)=%{y}<extra></extra>",
         "hovertext": [
          "VT2 Max",
          "VT2",
          "VT3S Max Gen-2",
          "VT3S Gen-2",
          "VT3 Max Gen-2",
          "VT3 Gen-2",
          "MT760 Mini",
          "MT760 Pro",
          "MT760",
          "VT7 Max",
          "VT7",
          "VT9 Pro 4K",
          "VT3 Pro Max",
          "VT3 Pro",
          "VT1 Pro Max",
          "VT1 Air Max",
          "VT1 Pro",
          "VT3S (Old)",
          "VT900",
          "VT9 Air",
          "VT9 Pro Mini",
          "VT9 Pro",
          "VT9S",
          "VT960 Pro"
         ],
         "legendgroup": "Rapoo",
         "marker": {
          "color": "#00cc96",
          "symbol": "circle"
         },
         "mode": "markers",
         "name": "Rapoo",
         "showlegend": true,
         "type": "scattergl",
         "x": {
          "bdata": "klrUg1A6+L+gbWasNvnyv9mIoZ+2BdI/50KtEW5y1j+ljb0QdHLpP61qw8nPqOs/MPgj99iUDkDMKKDCh3oVQBLFSXJNsxVA7xOAt0/l8b9rJf3aIcrwvzkvgeBGjNq/pWTvAoLj4j+tQfW73RnlP1JXzRzm8/m/fcqNNieI/b/OaEpAuNj4vwZEf4dXqs4/p17eFUgJEEDTxJUMkFf0v5sq6dHlsuu/xjR5OEsszL/qASwDTwasv//A6kLXLMu/",
          "dtype": "f8"
         },
         "xaxis": "x",
         "y": {
          "bdata": "ixPNTBiO+z+lC44N2afwP7UOmui3QP4/T4YTR0z1+z+Gorgq0RgBQKa86rM25v8/nh3lHUt4E8D5rqcrXSAOwH1FBMGx+Q/A+0sifBCT9D+Ww5vapEfyP0WBOJHlKdc/fT1g5fWK+z8XtdlDij/5Pwfo+5jK998/cYmKdCRF6D9uxuESHMrWP04LMrAOm8S/T4BdRhOD1b9RmI51Y5jhPxM251O6Kq0/0QpuYz/JvT/0zUMYPGiwvwuQFAFSlJO/",
          "dtype": "f8"
         },
         "yaxis": "y"
        },
        {
         "hovertemplate": "<b>%{hovertext}</b><br><br>Brand=Freewolf<br>แกนคุณลักษณะหลักที่ 1 (PC1)=%{x}<br>แกนคุณลักษณะหลักที่ 2 (PC2)=%{y}<extra></extra>",
         "hovertext": [
          "A7",
          "A6"
         ],
         "legendgroup": "Freewolf",
         "marker": {
          "color": "#ab63fa",
          "symbol": "circle"
         },
         "mode": "markers",
         "name": "Freewolf",
         "showlegend": true,
         "type": "scattergl",
         "x": {
          "bdata": "AT36pnTQ6z8CW6HR6LDyvw==",
          "dtype": "f8"
         },
         "xaxis": "x",
         "y": {
          "bdata": "Ye+8yegA4z+w7W0dc53bvw==",
          "dtype": "f8"
         },
         "yaxis": "y"
        },
        {
         "hovertemplate": "<b>%{hovertext}</b><br><br>Brand=Microsoft<br>แกนคุณลักษณะหลักที่ 1 (PC1)=%{x}<br>แกนคุณลักษณะหลักที่ 2 (PC2)=%{y}<extra></extra>",
         "hovertext": [
          "Comfort Mouse 4500",
          "Wheel Mouse Optical",
          "Sidewinder X8",
          "Classic IntelliMouse",
          "Pro IntelliMouse"
         ],
         "legendgroup": "Microsoft",
         "marker": {
          "color": "#FFA15A",
          "symbol": "circle"
         },
         "mode": "markers",
         "name": "Microsoft",
         "showlegend": true,
         "type": "scattergl",
         "x": {
          "bdata": "KUJj8zAC+j9QLWbeos/2P2q5F2tfZxNAqOWTC/XtCED4LqL7MMMIQA==",
          "dtype": "f8"
         },
         "xaxis": "x",
         "y": {
          "bdata": "Pc7M2YwWA8DJWKcFaZEXwIgKT3fclem/bNFH+1VSwb9RgTds7BS/Pw==",
          "dtype": "f8"
         },
         "yaxis": "y"
        },
        {
         "hovertemplate": "<b>%{hovertext}</b><br><br>Brand=HyperX<br>แกนคุณลักษณะหลักที่ 1 (PC1)=%{x}<br>แกนคุณลักษณะหลักที่ 2 (PC2)=%{y}<extra></extra>",
         "hovertext": [
          "Pulsefire Fuse",
          "Pulsefire Haste 2 S",
          "Pulsefire Saga Pro",
          "Pulsefire Haste 2 Pro",
          "Pulsefire Warp",
          "Pulsefire Haste 2 Core Wireless",
          "Pulsefire Surge",
          "Pulsefire Haste 2 Mini",
          "Pulsefire Haste 2 Wireless",
          "Pulsefire Haste 2 Wired",
          "Pulsefire Raid",
          "Pulsefire Dart",
          "Pulsefire FPS Pro",
          "Pulsefire Core",
          "Pulsefire Haste",
          "Pulsefire Haste Wireless"
         ],
         "legendgroup": "HyperX",
         "marker": {
          "color": "#19d3f3",
          "symbol": "circle"
         },
         "mode": "markers",
         "name": "HyperX",
         "showlegend": true,
         "type": "scattergl",
         "x": {
          "bdata": "w16JzHvimz/5JMWfGxXav9gccmjMnO8/01NxzY5R5r+yvW4hKj/Sv8GvDGfjArK/bsiMpbrJ2j80iAuFVtr0v2YJTyt+FuC/HP07Lhhc8r9qyVC9L40IQFEjPFcnhgtAcNYL/ZRwBUCAPUWuFdHXPxv9Nucpo9a/G/025ymj1r8=",
          "dtype": "f8"
         },
         "xaxis": "x",
         "y": {
          "bdata": "sLTKG4Xi5L+CMzFzfcTAPytcMj3GYOQ/iUdLHpHP3j8bcyA7kEzpvxKLGMhgc96/doAqWw4y9b8KeSBUjszcv/SR3Mv2L84/A6nchfRL8D/BCJIy73HdPxvhNR1itMk/GM2Z+HJ7zz84KZL0o/Dzv9x89vgms7i/3Hz2+CazuL8=",
          "dtype": "f8"
         },
         "yaxis": "y"
        },
        {
         "hovertemplate": "<b>%{hovertext}</b><br><br>Brand=Darmoshark<br>แกนคุณลักษณะหลักที่ 1 (PC1)=%{x}<br>แกนคุณลักษณะหลักที่ 2 (PC2)=%{y}<extra></extra>",
         "hovertext": [
          "M2 Air",
          "M5 Air",
          "N3 Pro",
          "M3 Micro Pro",
          "N7 Max",
          "N7",
          "M3 XS Pro",
          "M2 Pro",
          "M3S MAX",
          "M5 Pro",
          "M3 Pro Max",
          "N5",
          "M3 XS",
          "M2",
          "M5",
          "M3 Micro",
          "M3S Pro",
          "M3 Pro",
          "M3S",
          "M3 4K",
          "N3",
          "M3"
         ],
         "legendgroup": "Darmoshark",
         "marker": {
          "color": "#FF6692",
          "symbol": "circle"
         },
         "mode": "markers",
         "name": "Darmoshark",
         "showlegend": true,
         "type": "scattergl",
         "x": {
          "bdata": "V9k3wZ5TBMCpnrEX+6MOwEUd77LVreI/yRoXfj9zC8AIjPpkUXfOPx15m67nOdU/SYffaNI9A8DRz3kOWA0EwGd1SFBVVfq/y7wVVgL/DMB3C/vquSzvvzm3knvDfuI/46GSRIucAMCdymxSCKEBwGXXyDG7XQrAh6PVj6jlCsBIitCvnkn0v4FU14DRaeK/JBzFee418r/gAjHpAYPUv43O0+p18+4/ua2gd0oJ2L8=",
          "dtype": "f8"
         },
         "xaxis": "x",
         "y": {
          "bdata": "dCIXy8dQ5T/AZbtG/GnBv2QvZSGKSvQ/tziTT1IM1b8Qrb8e9yD+PwyOw5Qcg/w/06hebGzg4T/U/cJJkujlPy4gVChdaOs/DhoiaESC2r+s84E4IOX2P+gDr+HQvPg/8cecyIp5tj9m7UCeaVzPP94cXEddUuy/Ulqt1QA63r9mI/uXXBfVPzn+cNv/T+w/tkh6j/E5xT+jAo8Gsa7kP9QJv2F4t+g/bCUKccip5D8=",
          "dtype": "f8"
         },
         "yaxis": "y"
        },
        {
         "hovertemplate": "<b>%{hovertext}</b><br><br>Brand=Flickshot<br>แกนคุณลักษณะหลักที่ 1 (PC1)=%{x}<br>แกนคุณลักษณะหลักที่ 2 (PC2)=%{y}<extra></extra>",
         "hovertext": [
          "One Pro"
         ],
         "legendgroup": "Flickshot",
         "marker": {
          "color": "#B6E880",
          "symbol": "circle"
         },
         "mode": "markers",
         "name": "Flickshot",
         "showlegend": true,
         "type": "scattergl",
         "x": {
          "bdata": "8OrL6g45AcA=",
          "dtype": "f8"
         },
         "xaxis": "x",
         "y": {
          "bdata": "/u9B6FW19D8=",
          "dtype": "f8"
         },
         "yaxis": "y"
        },
        {
         "hovertemplate": "<b>%{hovertext}</b><br><br>Brand=Keychron<br>แกนคุณลักษณะหลักที่ 1 (PC1)=%{x}<br>แกนคุณลักษณะหลักที่ 2 (PC2)=%{y}<extra></extra>",
         "hovertext": [
          "M6 8K",
          "M6 Lite",
          "M4 8K",
          "M3 8K",
          "M3 Lite",
          "M2 8K",
          "M2 4K",
          "M6 4K",
          "M3 Mini 8K",
          "M5",
          "M7 8K",
          "Lemokey G2",
          "Lemokey G1",
          "M7",
          "M4",
          "M4 4K",
          "M6",
          "M3 Mini 4K - Metal Edition",
          "M2 Mini",
          "M3 Mini 4K",
          "M3 4K",
          "M3",
          "M2",
          "M1 Wireless",
          "M1 Wired",
          "M3 Mini"
         ],
         "legendgroup": "Keychron",
         "marker": {
          "color": "#FF97FF",
          "symbol": "circle"
         },
         "mode": "markers",
         "name": "Keychron",
         "showlegend": true,
         "type": "scattergl",
         "x": {
          "bdata": "wcRcK4gXBkAoXhe6IzcMQHawYnWWhxHA4WZgHoopyr/nS1KzC/ThP6WcPmQUEtQ/7ONSwyaO5D81FlGYWVwHQKVaV8rqoPW/hhVbCizIGEA2aknEwTn9P0dzmbT9RPy/MOJDk0nM/b8cLfou7MwCQO3o750h3w7Awz084/I2EMDQqNnAHesIQN9fu9mxyem/f2rKz+7/wT/aj72BXF7wv/je20zQ1b8/mox7V5Vr1D9YLnVlN8nqPwvN9k5Jx8E/wLjj8vWAqz9H1VhhqIHqvw==",
          "dtype": "f8"
         },
         "xaxis": "x",
         "y": {
          "bdata": "jCTmLtFcAkAhpLiwJjvxP86Fy9p0//C/JsoSAJo76j+H/yi0uoLZvxJv9OZVi/s/J+dOXbgC9D9+Iqi9B8L/Pwh5cLj+0ew/aQCjjfxvEUBpw+zt1dsBQFq0iFuFreY/h24onlm/4D8+vxzkKEH4P11NiNL3dfy/uQ1xZBKI+L/a4pBPItT7P8TWLkE25sc/PMRz9Axb4T9l0kpKh4HbP6F0j9m9VNY/Q9jJhKB0uj+Dpzfv0hTwP1XhpODrY4y/QDxiF5nkt7+qp9sj45PHPw==",
          "dtype": "f8"
         },
         "yaxis": "y"
        },
        {
         "hovertemplate": "<b>%{hovertext}</b><br><br>Brand=Endgame<br>แกนคุณลักษณะหลักที่ 1 (PC1)=%{x}<br>แกนคุณลักษณะหลักที่ 2 (PC2)=%{y}<extra></extra>",
         "hovertext": [
          "Gear XM2w 4k v2",
          "Gear XM2 8k v2",
          "Gear OP1 8k v2",
          "Gear OP1w 4k v2",
          "Gear OP1w 4k",
          "Gear XM2w 4k",
          "Gear XM2 8k",
          "Gear OP1 8k",
          "Gear OP1 8k Purple",
          "Gear OP1we",
          "Gear OP1 RGB",
          "Gear OP1",
          "Gear XM2we",
          "Gear XM2w",
          "Gear XM1",
          "Gear XM1 RGB",
          "Gear XM1r"
         ],
         "legendgroup": "Endgame",
         "marker": {
          "color": "#FECB52",
          "symbol": "circle"
         },
         "mode": "markers",
         "name": "Endgame",
         "showlegend": true,
         "type": "scattergl",
         "x": {
          "bdata": "XSKrtQX/6r84RLSlM331v8w9ABJ1lgDAp9Iz7SNf+b8j5LAQ9kP4v9uv979uZui/+IraKugw9L9xPaLb6an/v/uVEtyLYgDAhp26fd02879S7J6yLv33v/M7eh4BZfi/We9fQY4P2797Onqk52bhv/2UtREU/8m/YPHEXkWutT8JlmOeE1HQvw==",
          "dtype": "f8"
         },
         "xaxis": "x",
         "y": {
          "bdata": "bUHLNGXm3j/LbE0/WTrxP66UpwsP+eI/y8rC/Utncb+KWSJsl+bCv9hmGBNn3tQ/TWzBbbNw7T9H5XPwcNnaP24DR7uPA+I/EfONbGmd5L+2c0wS1nvHv74uytDYpcO/9ohHjn47yb97sk8ckZGrP3Z7Ea5ccN+/i2kxounz6b9D4n3JGY7Yvw==",
          "dtype": "f8"
         },
         "yaxis": "y"
        },
        {
         "hovertemplate": "<b>%{hovertext}</b><br><br>Brand=AULA<br>แกนคุณลักษณะหลักที่ 1 (PC1)=%{x}<br>แกนคุณลักษณะหลักที่ 2 (PC2)=%{y}<extra></extra>",
         "hovertext": [
          "SC360",
          "SC900 Pro",
          "SC900 Max",
          "SC620",
          "SC800",
          "SC580",
          "SC680"
         ],
         "legendgroup": "AULA",
         "marker": {
          "color": "#636efa",
          "symbol": "circle"
         },
         "mode": "markers",
         "name": "AULA",
         "showlegend": true,
         "type": "scattergl",
         "x": {
          "bdata": "qZqivMMg6b+BwCMQvEnzP/3RoDOOLvI/g1HLyjWL8j9QvYbsM1j7v+l7hoLxLtC/Lx/6Z+Uw9L8=",
          "dtype": "f8"
         },
         "xaxis": "x",
         "y": {
          "bdata": "n7tHsOb62b9lAdT97nz+P+ZErU8tZABAJYt7EolioL/ymTUe9dPWP0oIFFPxMPe/yry6x0MH5z8=",
          "dtype": "f8"
         },
         "yaxis": "y"
        },
        {
         "hovertemplate": "<b>%{hovertext}</b><br><br>Brand=Incott<br>แกนคุณลักษณะหลักที่ 1 (PC1)=%{x}<br>แกนคุณลักษณะหลักที่ 2 (PC2)=%{y}<extra></extra>",
         "hovertext": [
          "039 Pro",
          "39",
          "039 SC",
          "029 Pro",
          "29",
          "029 SC",
          "G23 V2 Pro",
          "G23 V2",
          "G23 V2 SC",
          "G24 Pro",
          "G24",
          "G23 Pro",
          "G23",
          "GHERO Pro",
          "GHERO"
         ],
         "legendgroup": "Incott",
         "marker": {
          "color": "#EF553B",
          "symbol": "circle"
         },
         "mode": "markers",
         "name": "Incott",
         "showlegend": true,
         "type": "scattergl",
         "x": {
          "bdata": "EXw861mU878cUVFCPWrkv7ArMII+KeW/LbPM9D3uAsB1+tNRq8r9v3X601Gryv2/afyzIx9a9L/AbY099MP0v7aFJPs0JfW/ow58OZ8c5T83twqIhKTqP16rW8CALvO/ZUUU7YWi4L8WWx7SVTDnv6Ln886p1eu/",
          "dtype": "f8"
         },
         "xaxis": "x",
         "y": {
          "bdata": "JLbWZm0w/z/XRKTqTCrwPyCHYhTSkPA//MEtgp1V+D+UdkO6NurlP5R2Q7o26uU/avAFaLIJ9D+By3O2YWnzP2DkcHIo1PM/SkGdJVMSAECVLWo3GWj6P7YT572nzfY/CWXuasq12D8Nn6xWoVbnP15qMa4mjuw/",
          "dtype": "f8"
         },
         "yaxis": "y"
        },
        {
         "hovertemplate": "<b>%{hovertext}</b><br><br>Brand=Razer<br>แกนคุณลักษณะหลักที่ 1 (PC1)=%{x}<br>แกนคุณลักษณะหลักที่ 2 (PC2)=%{y}<extra></extra>",
         "hovertext": [
          "DeathAdder V4 Pro",
          "Cobra HyperSpeed",
          "Pro Click V2",
          "Basilisk Mobile",
          "Pro Click V2 Vertical",
          "Imperator",
          "Abyssus Essential",
          "Basilisk V3 Pro 35K",
          "Basilisk V3 35K",
          "Viper Ultimate",
          "Pro Click",
          "DeathAdder V3 HyperSpeed",
          "DeathAdder Elite",
          "DeathAdder Chroma",
          "DeathAdder Expert",
          "Atheris",
          "Ouroboros",
          "Viper V3 Pro",
          "Pro Click Mini",
          "Naga Left-Handed",
          "Naga Trinity",
          "Mamba Wireless",
          "Mamba Elite",
          "Naga X",
          "Viper V3 HyperSpeed",
          "Naga Pro",
          "Viper 8KHz",
          "Viper",
          "Copperhead",
          "Viper V2 Pro",
          "DeathAdder Essential",
          "Cobra Pro",
          "Cobra",
          "DeathAdder V2 Mini",
          "DeathAdder V2 X HyperSpeed",
          "DeathAdder V2",
          "Basilisk V3 X HyperSpeed",
          "Naga V2 HyperSpeed",
          "Naga V2 Pro",
          "Basilisk Essential",
          "DeathAdder V3",
          "Basilisk V3",
          "Lancehead Wireless",
          "Lancehead",
          "Viper Mini Signature Edition",
          "Abyssus 2014",
          "Basilisk Ultimate",
          "Diamondback 2015",
          "Basilisk V2",
          "Krait 2013",
          "Basilisk X HyperSpeed",
          "Basilisk",
          "Basilisk V3 Pro",
          "DeathAdder V3 Pro",
          "Viper Mini",
          "DeathAdder V2 Pro",
          "Orochi V2"
         ],
         "legendgroup": "Razer",
         "marker": {
          "color": "#00cc96",
          "symbol": "circle"
         },
         "mode": "markers",
         "name": "Razer",
         "showlegend": true,
         "type": "scattergl",
         "x": {
          "bdata": "/EME5h5E6j8aeWop1ZP2v2NPY31X5QpAv0YAMVueAEAnFG0uqdQeQNmvSldKaA1AhvRwH2qp2j+wcsSCdUMKQHBJY/tfVAhADW7xMhyYs78BmgiGGMkPQJlWuBgXw9c/Fk0rZsT6BkD4f43LJs8HQOcEYgiVTghA2pAPXxW597/4xitXDBX+P2CVFMjZb/O/ZZaO5koi7r9cOgDNk9kQQAGv5UHDHxJAKRV1zX3mBUC88q8eEOgDQE0gO4+Enw1AnGGe6U/Gib9ekqbiUJMRQGU1Nd5PRuO/kAyQT9IxwL+OjEz3f20DQP03sspfpem/rPNC3HCwBkCTtmj9jDLrvwuVLkjSGei/FP5KmLw64T/jBH7Th+UGQMqpKAfRSgJAHwNJDTNDDECMlpZ6GMcNQFE41gYGbRJAnIL8W9EuCkB9dObBWFvyP8WVdpPzkglAHwrrnyZt6D/BLDRl5cPtP0CmD0PHcvy/a6+jp50+2b/hxw23YXULQLoGqksBKr+/0EmJW0TSCEC8a8+7GSP1v/MoD8NEpgZAtGgZIzySCEDCR5YscvQKQOc5iNx/yvM/vHfIBjoD5b9HtZIk6V4DQPy1zk0oKvK/",
          "dtype": "f8"
         },
         "xaxis": "x",
         "y": {
          "bdata": "BcvMj7hwBkAMrfYzMjvVPyHih9M8H/0/sMMGbZX81D+0Bz1duEsOQB6IZNQlZ/W/DmM/uWuQGcDI//rEmBjvP6ggCN1CYfM/Y4JfL1Wx1L8ONdttsWnqP0wWf844Zfg/69ZllJYrhD9aBwgpUkbKvx1VaMDfZdW/iyiUwgzNAsBJBFJHWLEAwIa9bFN9q/Y/McJfJc9vB8B0THLd0IblP1TmkO/DWtE/VKDXSw3twb/ZM8mUMB++PzeOLJWGoPI/T57sZJhMrb/9XUZx3AnfPysEejPkBdU/z2gj+pR31b8qyMMB4YMXwNnAIIVgl+U/fJQ2nvNVwL8J3Zaoz9XRv0hcovkOKei/jIcD/TFa47+L+v3hWk2Qvws2CKc5z+U/y8JrQHn42T8Atb7Sm8H1P9N0F4QNdNw/VUF1mD0ywz+SZL7rEpcBQIbbMmMhb+w/T8mr5ilB9r+y2Vfg7DL5v8Zzx6QLDew/zsDMfgFN/L9OBwhWul7hPzYbQz8hZfS/2hqCuxTS6z/PHBKGcj8HwNhUXft/z+o/Rpjre3loxb/KqiqxC1zpP/gwJnoY3ABANw8CZ0rI6b9sMplWQmbhP6jvAq291fS/",
          "dtype": "f8"
         },
         "yaxis": "y"
        },
        {
         "hovertemplate": "<b>%{hovertext}</b><br><br>Brand=Ninjutso<br>แกนคุณลักษณะหลักที่ 1 (PC1)=%{x}<br>แกนคุณลักษณะหลักที่ 2 (PC2)=%{y}<extra></extra>",
         "hovertext": [
          "Ten Air",
          "Ten",
          "Sora V2",
          "Sora 4K",
          "Sora",
          "Origin One X",
          "Katana Ultralight",
          "Katana Superlight"
         ],
         "legendgroup": "Ninjutso",
         "marker": {
          "color": "#ab63fa",
          "symbol": "circle"
         },
         "mode": "markers",
         "name": "Ninjutso",
         "showlegend": true,
         "type": "scattergl",
         "x": {
          "bdata": "g5pVwT5p+L+GcZjin1f1v5xNDZ7Z8QHAWpy/11Bj9r/+NmXqudf0v/FQcaUSguk/DaJXEJ0p6b9xZiFAGELpvw==",
          "dtype": "f8"
         },
         "xaxis": "x",
         "y": {
          "bdata": "pGe4ddSu9D9aATaMJUbxPxZ5Aud3/uk/+YJE0lMQ4D+j24U5QpPXP+zU/BjmB+a/Z1za7J200r/aXie6zL7Ovw==",
          "dtype": "f8"
         },
         "yaxis": "y"
        },
        {
         "hovertemplate": "<b>%{hovertext}</b><br><br>Brand=ASUS<br>แกนคุณลักษณะหลักที่ 1 (PC1)=%{x}<br>แกนคุณลักษณะหลักที่ 2 (PC2)=%{y}<extra></extra>",
         "hovertext": [
          "ROG Keris II Origin",
          "ROG Harpe II Ace",
          "ROG Gladius II Wireless",
          "ROG Harpe Ace Mini",
          "ROG Harpe Ace Extreme",
          "ProArt MD300",
          "TUF Gaming M3 Gen II",
          "TUF Gaming M3",
          "ROG Keris II Ace",
          "ROG Strix Impact III Wireless",
          "ROG Pugio",
          "ROG Strix Impact III",
          "ROG Harpe Ace",
          "ROG Spatha",
          "TUF M4 Air",
          "TUF M4 Wireless",
          "ROG Sica",
          "ROG Strix Carry",
          "ROG Strix Evolve",
          "ROG Strix Impact",
          "ROG Gladius II Origin",
          "ROG Gladius II",
          "ROG Gladius II Core",
          "ROG Keris",
          "ROG Keris Wireless",
          "ROG Strix Impact II",
          "ROG Strix Impact II Wireless",
          "ROG Gladius III",
          "ROG Gladius III Wireless",
          "ROG Spatha X",
          "ROG Chakram Core",
          "ROG Chakram",
          "ROG Chakram X"
         ],
         "legendgroup": "ASUS",
         "marker": {
          "color": "#FFA15A",
          "symbol": "circle"
         },
         "mode": "markers",
         "name": "ASUS",
         "showlegend": true,
         "type": "scattergl",
         "x": {
          "bdata": "BzKnUAfj4D88T58X+4v4vzxn82/R0wNA/V7XCS5PAcDSL3DGx4P4v5AfuZDTVw9AYnrkehg+9j++K7EsnST9P8FPDaQdadE/+8xhGKl36r8bC0ING0LpPwnHM8WEpOC/J0tzgBHe6b8ZEFU88CMcQNmt9VyPZua/hIA8sdoJ0z+BHDPbSwLbv4u9JFNi4ss/WQ7h7xBK7T9dxDYBMC3hPz8c3leD+QdAiDVKQQgeCUAU+7l2urgFQD2FTZALDvA/PYVNkAsO8D8bFZztFl7Gv1HeP4ylbUo/IMVd9F3b/j/YzZ0QMD4BQHe21+dApxtAcHBHb5fPDECAgANm/pAQQL6K+yxwVBFA",
          "dtype": "f8"
         },
         "xaxis": "x",
         "y": {
          "bdata": "+R0CIyOG/z+E32HWP0P8P0m5ih/KnNc/9uaG4x6G8T8W8upUnUD9Pykcqmj6MBbA1ESPbV7A0T8KOir941fjv0QLppDt8gFAkPXYxN8Atr+wSZeC7Zb6v4VnD4k0fNW/oDuCiTF66z8SN8RZkjHnP0/8sl4dXtA/ePdiZ4Mf7b8EEUGYxm3/vwl1ugVYCv6/7OQPzOLv879XRJa/eJ8EwKaeUJeM5s2/rmdmr70iw7+TEJX0TUKqv3CRpVnebOO/cJGlWd5s479ku3qxvUj2v6qe7c0x/fa/9Ue3sxrt6T+Jv9S0NmniP7uYxbOFe/A/phrT0Zzw7D+m8oBT+njYP1Xedo8p9fM/",
          "dtype": "f8"
         },
         "yaxis": "y"
        },
        {
         "hovertemplate": "<b>%{hovertext}</b><br><br>Brand=Finalmouse<br>แกนคุณลักษณะหลักที่ 1 (PC1)=%{x}<br>แกนคุณลักษณะหลักที่ 2 (PC2)=%{y}<extra></extra>",
         "hovertext": [
          "ULX Pro Series Tiger (L)",
          "ULX Pro Series Lion (M)",
          "ULX Pro Series Cheetah (S)",
          "ULX Prophecy Small",
          "ULX Prophecy Medium",
          "ULX Prophecy Classic",
          "ULX Competition Small",
          "ULX Competition Medium",
          "ULX Competition Classic",
          "UltralightX Cheetah (S)",
          "UltralightX Lion (M)",
          "UltralightX Tiger (L)",
          "Starlight-12 Small",
          "Starlight-12 Medium",
          "Ultralight 2",
          "Scream One",
          "Ultralight Pro Sunset",
          "Ultralight Pro",
          "Ultralight Phantom",
          "Air58"
         ],
         "legendgroup": "Finalmouse",
         "marker": {
          "color": "#19d3f3",
          "symbol": "circle"
         },
         "mode": "markers",
         "name": "Finalmouse",
         "showlegend": true,
         "type": "scattergl",
         "x": {
          "bdata": "pLZ7ofuV87+FfdcXSZL9v7/bHtFHnwPA7zNWnO0zA8DZ6/7OG8b8v7rQixc8NPO/7zNWnO0zA8DZ6/7OG8b8v7rQixc8NPO/v9se0UefA8CvNGtzMiz9v6S2e6H7lfO/Jd5mwZUf/79RJyAiCeH0v1aQcD8ycfe/b8S1YUEI3j/bSd1as8bBP9tJ3VqzxsE/20ndWrPGwT+BT/xif9Gyvw==",
          "dtype": "f8"
         },
         "xaxis": "x",
         "y": {
          "bdata": "r2Tjwr3a5j9T0YRDRBDYP533OPC+WpU/T0r5Eusnpr84ymQ4/1vUP8j2fK/HAuY/T0r5Eusnpr84ymQ4/1vUP8j2fK/HAuY/nfc48L5alT/EzfS9ITbWP69k48K92uY//r9Ormm02r9A0PqJu+u1vzOk1hjqC/S/v6jwqg4c8L9cMPwsz7Lkv1ww/CzPsuS/XDD8LM+y5L8A7RqTp5Xavw==",
          "dtype": "f8"
         },
         "yaxis": "y"
        },
        {
         "hovertemplate": "<b>%{hovertext}</b><br><br>Brand=Rampage<br>แกนคุณลักษณะหลักที่ 1 (PC1)=%{x}<br>แกนคุณลักษณะหลักที่ 2 (PC2)=%{y}<extra></extra>",
         "hovertext": [
          "Blitz Ultimate",
          "Zenith Pro",
          "Prote M5"
         ],
         "legendgroup": "Rampage",
         "marker": {
          "color": "#FF6692",
          "symbol": "circle"
         },
         "mode": "markers",
         "name": "Rampage",
         "showlegend": true,
         "type": "scattergl",
         "x": {
          "bdata": "hQgDoaoKwr+r2gPfzBvpv637Z1n9k+6/",
          "dtype": "f8"
         },
         "xaxis": "x",
         "y": {
          "bdata": "csFnzQyM9D9s5n0C7ybNP/jLgZOG2bu/",
          "dtype": "f8"
         },
         "yaxis": "y"
        },
        {
         "hovertemplate": "<b>%{hovertext}</b><br><br>Brand=Kysona<br>แกนคุณลักษณะหลักที่ 1 (PC1)=%{x}<br>แกนคุณลักษณะหลักที่ 2 (PC2)=%{y}<extra></extra>",
         "hovertext": [
          "Mercury Ultra",
          "Mercury Pro",
          "Mercury SE",
          "Jupiter Ultra",
          "Jupiter Pro",
          "Jupiter SE",
          "M660",
          "M600 V2",
          "Uranus Pro",
          "Uranus SE",
          "Mars SE",
          "M617",
          "M511",
          "Aztec",
          "M600"
         ],
         "legendgroup": "Kysona",
         "marker": {
          "color": "#B6E880",
          "symbol": "circle"
         },
         "mode": "markers",
         "name": "Kysona",
         "showlegend": true,
         "type": "scattergl",
         "x": {
          "bdata": "vdRQIbo3AMDzuh5mRlT/v1COivhM5/e/mCOT/kTI878nAYo9vF7xv1Q1kuPydea/lWRWLurw57+7C131SXnxvzsTJW3cXNM/08CGUQCc6z9awtefO1bzP+yUrbeKG/S/bF+Tm2Wa2z+7C131SXnxv7sLXfVJefG/",
          "dtype": "f8"
         },
         "xaxis": "x",
         "y": {
          "bdata": "dMZNlRJm8D8efI7nTTXsPx4fHU8N/NA/syzi2y1g9z9q6pIzuh3zP5O3yVw8WeY/5muXm7Y/4b9VBENYd0J8Pyheai46B/Y/GzlQYKDp5D/UaxE0VifxP0Lgp50IWOg/knCa2gJm4D9VBENYd0J8P1UEQ1h3Qnw/",
          "dtype": "f8"
         },
         "yaxis": "y"
        },
        {
         "hovertemplate": "<b>%{hovertext}</b><br><br>Brand=Epomaker<br>แกนคุณลักษณะหลักที่ 1 (PC1)=%{x}<br>แกนคุณลักษณะหลักที่ 2 (PC2)=%{y}<extra></extra>",
         "hovertext": [
          "Click Lite",
          "Click"
         ],
         "legendgroup": "Epomaker",
         "marker": {
          "color": "#FF97FF",
          "symbol": "circle"
         },
         "mode": "markers",
         "name": "Epomaker",
         "showlegend": true,
         "type": "scattergl",
         "x": {
          "bdata": "05hUnbXb6b9PbklBr5D5vw==",
          "dtype": "f8"
         },
         "xaxis": "x",
         "y": {
          "bdata": "L2CmZeJrrL/SNfZeoQvzPw==",
          "dtype": "f8"
         },
         "yaxis": "y"
        },
        {
         "hovertemplate": "<b>%{hovertext}</b><br><br>Brand=Lofree<br>แกนคุณลักษณะหลักที่ 1 (PC1)=%{x}<br>แกนคุณลักษณะหลักที่ 2 (PC2)=%{y}<extra></extra>",
         "hovertext": [
          "Touch",
          "Hypace"
         ],
         "legendgroup": "Lofree",
         "marker": {
          "color": "#FECB52",
          "symbol": "circle"
         },
         "mode": "markers",
         "name": "Lofree",
         "showlegend": true,
         "type": "scattergl",
         "x": {
          "bdata": "++Xe2faLAkCzWOgXgmf/vw==",
          "dtype": "f8"
         },
         "xaxis": "x",
         "y": {
          "bdata": "XO9nSG8z+L/iEUQaRir1Pw==",
          "dtype": "f8"
         },
         "yaxis": "y"
        },
        {
         "hovertemplate": "<b>%{hovertext}</b><br><br>Brand=SteelSeries<br>แกนคุณลักษณะหลักที่ 1 (PC1)=%{x}<br>แกนคุณลักษณะหลักที่ 2 (PC2)=%{y}<extra></extra>",
         "hovertext": [
          "Kinzu V2 Pro",
          "Rival 3 Gen 2 Wireless",
          "Rival 3 Gen 2",
          "Kinzu V2",
          "Kana V2",
          "Rival 710",
          "Rival 300S",
          "Rival 500",
          "Sensei 310",
          "Rival 110",
          "Kinzu V3",
          "Rival 300",
          "Aerox 9 Wireless",
          "Aerox 5",
          "Aerox 5 Wireless",
          "Prime Mini",
          "Prime Mini Wireless",
          "Prime",
          "Prime+",
          "Prime Wireless",
          "Aerox 3",
          "Rival 3",
          "Rival 3 Wireless",
          "Rival 5",
          "Aerox 3 Wireless",
          "Rival 600",
          "Rival 650 Wireless",
          "Sensei Ten",
          "Rival 310"
         ],
         "legendgroup": "SteelSeries",
         "marker": {
          "color": "#636efa",
          "symbol": "circle"
         },
         "mode": "markers",
         "name": "SteelSeries",
         "showlegend": true,
         "type": "scattergl",
         "x": {
          "bdata": "ZxCF2cbJ27/QqGkpW1mxPwCwtsJCWLM/ZxCF2cbJ27/TYz/1C3jHP7z8NWMqVg9Al3V6knmTCkAjPgOgBHsRQFvYAW9ZEOw/uiBVclWC3D8Z5YpDUHrnvybe7SqhIRBAW7fFQAgrDkCElE1eHNwAQBn2axgpTwJAqUBDMQNt8T9v2ZSAGvb1PzhDUEoXMvw/1OkD8Art/D/HK9asKRsAQEM0pXoF4ta/ALC2wkJYsz9mov5LLZbXP3TiDht9kP8/Bp7XEy6I07+yp9wA69cHQOAZKHpATgxAUYM2svzo4z+Bxl98GywEQA==",
          "dtype": "f8"
         },
         "xaxis": "x",
         "y": {
          "bdata": "N3AQOExw/b9I+sGaJ9rqv5RcAU2MFfC/N3AQOExw/b8ZgR0i6in4v/4s1mlXBeW/BYarvaPP1j9jr5d9lDanvxDxmWpAkui/7FygIA1z9L/gFfAExKv/v3FiXXSwrta/RfK28otX8z+DDQ7AeDDxPwZGzUQ3Y+w/x27iEa623D/zRmTBctbBPxoztXkrfeY/qx0/lMz25D91elcXQzTcP/EpG9UEteC/lFwBTYwV8L+JuYbjaMvyv3yV2nigK88/StOf8J4T279AIRa/DdXTP11nM3U+TtC/iV5L+aPF5L+iQOB5JP3LPw==",
          "dtype": "f8"
         },
         "yaxis": "y"
        },
        {
         "hovertemplate": "<b>%{hovertext}</b><br><br>Brand=SyLical<br>แกนคุณลักษณะหลักที่ 1 (PC1)=%{x}<br>แกนคุณลักษณะหลักที่ 2 (PC2)=%{y}<extra></extra>",
         "hovertext": [
          "HELIX"
         ],
         "legendgroup": "SyLical",
         "marker": {
          "color": "#EF553B",
          "symbol": "circle"
         },
         "mode": "markers",
         "name": "SyLical",
         "showlegend": true,
         "type": "scattergl",
         "x": {
          "bdata": "W9o/jd7dAcA=",
          "dtype": "f8"
         },
         "xaxis": "x",
         "y": {
          "bdata": "c0bLZWG17z8=",
          "dtype": "f8"
         },
         "yaxis": "y"
        },
        {
         "hovertemplate": "<b>%{hovertext}</b><br><br>Brand=VXE<br>แกนคุณลักษณะหลักที่ 1 (PC1)=%{x}<br>แกนคุณลักษณะหลักที่ 2 (PC2)=%{y}<extra></extra>",
         "hovertext": [
          "R1 SE+",
          "R1 Nearlink",
          "MAD R Major",
          "MAD R",
          "R1 Pro Max",
          "R1 Pro",
          "R1 SE",
          "R1"
         ],
         "legendgroup": "VXE",
         "marker": {
          "color": "#00cc96",
          "symbol": "circle"
         },
         "mode": "markers",
         "name": "VXE",
         "showlegend": true,
         "type": "scattergl",
         "x": {
          "bdata": "Mdfh26Th7b9RedchV1/tv6P5LPl0dADAwATXFbzN/7/VegL8Np/zvzwTBLZK+fW/3Pvx6TSC8L/j2PeikLjyvw==",
          "dtype": "f8"
         },
         "xaxis": "x",
         "y": {
          "bdata": "oo8sh3JOxL+G2+nnE6THv9QNQS7bJvQ/b4W6jG/b8T80J7w0uHfUP/Uz/dvbLt8/X6WsoLYTqL8QXT1wzLHOPw==",
          "dtype": "f8"
         },
         "yaxis": "y"
        },
        {
         "hovertemplate": "<b>%{hovertext}</b><br><br>Brand=VGN<br>แกนคุณลักษณะหลักที่ 1 (PC1)=%{x}<br>แกนคุณลักษณะหลักที่ 2 (PC2)=%{y}<extra></extra>",
         "hovertext": [
          "R1 SE+",
          "R1 Nearlink",
          "Y2 Ultra",
          "Y2 Pro",
          "R1 Pro Max",
          "R1 Pro",
          "R1 SE",
          "R1",
          "Dragonfly F1 MOBA",
          "Dragonfly F1 Pro Max",
          "Dragonfly F1 Pro",
          "Dragonfly F1"
         ],
         "legendgroup": "VGN",
         "marker": {
          "color": "#ab63fa",
          "symbol": "circle"
         },
         "mode": "markers",
         "name": "VGN",
         "showlegend": true,
         "type": "scattergl",
         "x": {
          "bdata": "Mdfh26Th7b9RedchV1/tv6zREskd//m/LBpCWZzy97/VegL8Np/zvzwTBLZK+fW/3Pvx6TSC8L/j2PeikLjyv7FK6yZSb/O/sUrrJlJv87/L1fbUJcr1v5Sw5YOdrPK/",
          "dtype": "f8"
         },
         "xaxis": "x",
         "y": {
          "bdata": "oo8sh3JOxL+G2+nnE6THv7I58Vjypfs/6Mle///D9z80J7w0uHfUP/Uz/dvbLt8/X6WsoLYTqL8QXT1wzLHOP48NetmhZ9I/jw162aFn0j8VMe1mECbdPwplIF313Mo/",
          "dtype": "f8"
         },
         "yaxis": "y"
        },
        {
         "hovertemplate": "<b>%{hovertext}</b><br><br>Brand=Motospeed<br>แกนคุณลักษณะหลักที่ 1 (PC1)=%{x}<br>แกนคุณลักษณะหลักที่ 2 (PC2)=%{y}<extra></extra>",
         "hovertext": [
          "X1",
          "X6 Max",
          "X6"
         ],
         "legendgroup": "Motospeed",
         "marker": {
          "color": "#FFA15A",
          "symbol": "circle"
         },
         "mode": "markers",
         "name": "Motospeed",
         "showlegend": true,
         "type": "scattergl",
         "x": {
          "bdata": "2M/tk9mr9r+YA2/H8Cv6v168XKby5/e/",
          "dtype": "f8"
         },
         "xaxis": "x",
         "y": {
          "bdata": "3UXY6Fw23j/N1tm94czzP0b01H/XNPA/",
          "dtype": "f8"
         },
         "yaxis": "y"
        },
        {
         "hovertemplate": "<b>%{hovertext}</b><br><br>Brand=Dareu<br>แกนคุณลักษณะหลักที่ 1 (PC1)=%{x}<br>แกนคุณลักษณะหลักที่ 2 (PC2)=%{y}<extra></extra>",
         "hovertext": [
          "AE6",
          "A955",
          "A950 Air",
          "A980 Pro Max",
          "A980 Pro",
          "A980",
          "EM901",
          "A950 Pro 4K Magnesium",
          "A950 Pro 4K",
          "A950",
          "A950 Pro"
         ],
         "legendgroup": "Dareu",
         "marker": {
          "color": "#19d3f3",
          "symbol": "circle"
         },
         "mode": "markers",
         "name": "Dareu",
         "showlegend": true,
         "type": "scattergl",
         "x": {
          "bdata": "VjQHz/so8b9bGpIdYLoEQDuJrc/09wDAoMb6pG4P+T9MyYI6qC/2P2yC0a+gswBAEHI390FH8T9m/TARjnDwv/kH4mj+DfC/yhg48XgZzT+FxaEv7ODpvw==",
          "dtype": "f8"
         },
         "xaxis": "x",
         "y": {
          "bdata": "vBGLwjDZ8D+VNlBE6tCHv8KcKr7pCvQ/70MJR/BM/T9C27IDeRz/P05TiBGxivM/8roxeDEx97/iF2XiWt3gP2KImb9wAeA/lRjAAb0h8r81EtbGS0vQPw==",
          "dtype": "f8"
         },
         "yaxis": "y"
        },
        {
         "hovertemplate": "<b>%{hovertext}</b><br><br>Brand=MAMBASNAKE<br>แกนคุณลักษณะหลักที่ 1 (PC1)=%{x}<br>แกนคุณลักษณะหลักที่ 2 (PC2)=%{y}<extra></extra>",
         "hovertext": [
          "M4",
          "M3",
          "M5 Ultra"
         ],
         "legendgroup": "MAMBASNAKE",
         "marker": {
          "color": "#FF6692",
          "symbol": "circle"
         },
         "mode": "markers",
         "name": "MAMBASNAKE",
         "showlegend": true,
         "type": "scattergl",
         "x": {
          "bdata": "oIsbSIKv9L9Ie+ajnNMBwLh70aoRQALA",
          "dtype": "f8"
         },
         "xaxis": "x",
         "y": {
          "bdata": "/FqNL8mouL8a+nzZrin4P+jHGyLvrO4/",
          "dtype": "f8"
         },
         "yaxis": "y"
        },
        {
         "hovertemplate": "<b>%{hovertext}</b><br><br>Brand=Delux<br>แกนคุณลักษณะหลักที่ 1 (PC1)=%{x}<br>แกนคุณลักษณะหลักที่ 2 (PC2)=%{y}<extra></extra>",
         "hovertext": [
          "M800 Mini Ultra",
          "M800 Mini Pro",
          "M800 Mini",
          "M900 Ultra",
          "M900 Mini Ultra",
          "M900 Mini Pro",
          "M700 Pro",
          "M700 Pro+",
          "M700 Ultra",
          "M500 Pro",
          "M900 SE",
          "M900 Pro",
          "M800 Pro 3395",
          "M600 Pro",
          "M600",
          "M600 Ultra",
          "M800 Ultra",
          "M800 Pro",
          "M700"
         ],
         "legendgroup": "Delux",
         "marker": {
          "color": "#B6E880",
          "symbol": "circle"
         },
         "mode": "markers",
         "name": "Delux",
         "showlegend": true,
         "type": "scattergl",
         "x": {
          "bdata": "V/KS0g1I/r/TAxD23yz9v4i/HbXWCPK/B+7x/3155j/IDRuKTFy6v1VhGMtJnsO/ZxpeqNUm6r8lQVUNvebqv/OpdZdi3eq/jWJvBuEa0z8C9EFlTZ/5P0N72LnNzPE/nbAYNTax4b88zJXBfoT2v3LM8NYLVvG/yoq/W9Qh978QWDnQgFLzvwOog7HAiti/EEmBIrGepj8=",
          "dtype": "f8"
         },
         "xaxis": "x",
         "y": {
          "bdata": "7MAteuCU7D8fsCA3Cf7nP/sR878t0NS/3hvqgr0NAkCxTqS95uL7P9iiPtN9tPs/TXvMdVyr8T+hLIdq+RLyPwmh3S2OJ/M/VllaXW218z/29RRNKNTxP1J5DnT1JPw/slA8HnpXw7+Q8Syo9pnHP/yzhBnWb9u/yv+gCnvNzT9GGJKuNZHjP96A8SBSN92/nGJQOJiGtL8=",
          "dtype": "f8"
         },
         "yaxis": "y"
        },
        {
         "hovertemplate": "<b>%{hovertext}</b><br><br>Brand=zeromouse<br>แกนคุณลักษณะหลักที่ 1 (PC1)=%{x}<br>แกนคุณลักษณะหลักที่ 2 (PC2)=%{y}<extra></extra>",
         "hovertext": [
          "Blade"
         ],
         "legendgroup": "zeromouse",
         "marker": {
          "color": "#FF97FF",
          "symbol": "circle"
         },
         "mode": "markers",
         "name": "zeromouse",
         "showlegend": true,
         "type": "scattergl",
         "x": {
          "bdata": "v1WDrSriEsA=",
          "dtype": "f8"
         },
         "xaxis": "x",
         "y": {
          "bdata": "qyq9at/H8b8=",
          "dtype": "f8"
         },
         "yaxis": "y"
        },
        {
         "hovertemplate": "<b>%{hovertext}</b><br><br>Brand=RAWM<br>แกนคุณลักษณะหลักที่ 1 (PC1)=%{x}<br>แกนคุณลักษณะหลักที่ 2 (PC2)=%{y}<extra></extra>",
         "hovertext": [
          "ER21 Pro",
          "ER21",
          "SA-MH01 Pro",
          "ES21 Pro",
          "ES21 M",
          "ES21",
          "SA-SH01 Pro",
          "SA-SH01",
          "SA-SL01 Pro",
          "SA-SL01",
          "SA-ML01 Plus",
          "SA-ML01",
          "SA-MH01"
         ],
         "legendgroup": "RAWM",
         "marker": {
          "color": "#FECB52",
          "symbol": "circle"
         },
         "mode": "markers",
         "name": "RAWM",
         "showlegend": true,
         "type": "scattergl",
         "x": {
          "bdata": "54cRLWNJ4D8udOOe41vyP0oaI8f+u+K/WLx0tmTX+L9YvHS2ZNf4v06cnhgP0PW/3t3qnJcX/b+HhhnYcLbyvyZeeMVeOfa/9CbtinD/87+teTe05rjYv1W9P+DwJOC/yUCdpBOC478=",
          "dtype": "f8"
         },
         "xaxis": "x",
         "y": {
          "bdata": "OsXpfnOnAEBDZT4JXefzP7JsgM4DkO8/6BPmS8PY8z/oE+ZLw9jzP6Nq+3pG0u4/olUAYeTt4D/9dChRbVrVvxOBz6KdMbo/stCtQsklwr8YzmgLqljVP7/xIRGNnN0/4jfeclsu7j8=",
          "dtype": "f8"
         },
         "yaxis": "y"
        },
        {
         "hovertemplate": "<b>%{hovertext}</b><br><br>Brand=Valkyrie<br>แกนคุณลักษณะหลักที่ 1 (PC1)=%{x}<br>แกนคุณลักษณะหลักที่ 2 (PC2)=%{y}<extra></extra>",
         "hovertext": [
          "VK M1 Pro",
          "VK M2 Pro",
          "VK M2",
          "VK M1"
         ],
         "legendgroup": "Valkyrie",
         "marker": {
          "color": "#636efa",
          "symbol": "circle"
         },
         "mode": "markers",
         "name": "Valkyrie",
         "showlegend": true,
         "type": "scattergl",
         "x": {
          "bdata": "mt+aX7h6+r+7KetHOlXTP/6FLsHuhvA/Q0l4gaDm8b8=",
          "dtype": "f8"
         },
         "xaxis": "x",
         "y": {
          "bdata": "gVYuo1eq8j+MQQi+lUkAQKtEgD/LdOw/ktXU09z90D8=",
          "dtype": "f8"
         },
         "yaxis": "y"
        },
        {
         "hovertemplate": "<b>%{hovertext}</b><br><br>Brand=Logitech<br>แกนคุณลักษณะหลักที่ 1 (PC1)=%{x}<br>แกนคุณลักษณะหลักที่ 2 (PC2)=%{y}<extra></extra>",
         "hovertext": [
          "G Pro X Superlight 2 SE",
          "G900",
          "ERGO M575",
          "M196",
          "MX Anywhere 3S",
          "MX Anywhere 2S",
          "M170",
          "M705 Marathon",
          "POP Mouse",
          "Pebble 2 M350s",
          "Pebble M350",
          "M340",
          "M550 L",
          "M550",
          "M650 L Left",
          "M650 L",
          "M650",
          "M240",
          "M190",
          "G Pro X Superlight 2 DEX",
          "G Pro 2 Lightspeed",
          "G309",
          "G703 Lightspeed",
          "MX Master 3S",
          "MX Master 3",
          "MX Master 2S",
          "MX Master",
          "G304 Lightspeed",
          "G602",
          "M720 Triathlon",
          "Lift Vertical",
          "MX Vertical",
          "G102 Lightsync",
          "G705",
          "G303 Shroud Edition",
          "G604 Lightspeed",
          "G903 Lightspeed",
          "G Pro Wireless",
          "G Pro X Superlight",
          "G Pro",
          "G403 Wireless",
          "G403",
          "G603 Lightspeed",
          "G403 Hero",
          "G203 Prodigy",
          "G305 Lightspeed",
          "G203 Lightsync",
          "G502 Hero",
          "G502 Lightspeed",
          "M171",
          "G103 Prodigy",
          "B100",
          "G600",
          "G9x",
          "G Pro X Superlight 2",
          "G402 Hyperion Fury",
          "G300s",
          "M100",
          "MX Anywhere",
          "M510",
          "G502 X Plus",
          "G502 X Lightspeed",
          "G502 X",
          "M185",
          "M280",
          "M187",
          "M238",
          "G100s",
          "G303 Daedalus Apex",
          "G3",
          "MX518",
          "G400",
          "G400s",
          "G MX518"
         ],
         "legendgroup": "Logitech",
         "marker": {
          "color": "#EF553B",
          "symbol": "circle"
         },
         "mode": "markers",
         "name": "Logitech",
         "showlegend": true,
         "type": "scattergl",
         "x": {
          "bdata": "l/p27jrs67+wIi1HkqvzP6R+KI9GfyBAoZg9eICMtb/gUkS7IHz1P+BSRLsgfPU/ppGYNxBr3L+po5fE+pQRQEHRjLtQKLO/7d5Iy/w66b/ilw40ia2lv6V6eiaPdOS/u8JVp6rT7j9ZlBLgNEHVv7CVqNF6mfU/sJWo0XqZ9T/gWYQRqOWsP9GQPaFeRcO/YJJQe2cG9j8pOzEe+c3pP0cgGS28POu/qGXGo0ofxL/SrJ4yqB0EQKn8NTD59x1AlFJIsMBTHkBzqMWRdYkeQOib4viyiR5AKHvE4YeZtz8oNy3NCCcZQNI+tfLAhBRA7vS8Ag+NGkDniz18PJghQF9V2bA5Fsi/tV0lTFXgA0Ajg2Z2zDiRP0TEkEelURRAZMLMrUYE8T/JitdjWS20v7Wn0CTF7N6/Wt05zhCD37/m2xbDD/8FQPaxmIXHWQJAW+m+ixu3AkDjgiD1X3gAQF9V2bA5Fsi/KHvE4YeZtz9fVdmwORbIv6XzuCWCKgxAyN7LhmbsCkDM9K9YAGTZv19V2bA5Fsi/NUwwMS5O6D8jkl3pISwaQObzxOziVxRAyn5jNAY79b81HRuy8usMQNLxFIhXV9A/lUx6YGgf6j/gUkS7IHz1P0wYsMys0gVAW/29XQTpDEBaM301Pt4LQKxrBkEo9QlAgawP76flt7+JOseKXZv0P63+f1xwsgvAikAQv9s2978Y3IWDtLrRP4YG1XqBScG//YGE7KkS9z/WbTv1pvQMQL2DD6B1kwxAOjqGRUGyDEAk1m0hCU4IQA==",
          "dtype": "f8"
         },
         "xaxis": "x",
         "y": {
          "bdata": "QInFVG5J7T8GJPG3SQfwv2V+7xqTYAzA/irzsAXJHcAyUBCFrH8fwDJQEIWsfx/AGhC3Q9I3HsCi6QvvmlMbwFo+Uhx2qh7ASbQbufkzIcCfIN0/vk8jwFowD9TtnyHAFvrs50D5/7+moT6T6vgGwFbqRzk2CP+/VupHOTYI/7/IrMzNXp0GwMp51lCo0hzACvyT8lLpGcBoJLEB7YUEQMnrC2sP3+4/qRdfTVpW57+NaVVvNUu0P003Le9frw3ASksUMkn6DsCULXFbjqIQwHYg5wrR1BDAlFCrirE5/7+BAxexhfbBP6G+bNAB7xfA4CyDTytPDsCnOqMEJssCwAaxqIgDBPu//mpnRVw5F8B+7IlLoC3Bv+vKoaB/Z/A/0b1mRK7M4r9vjGy4xybRv2oSQieFp8Y/RL9YKF3r8L8JS1CfHSLavz2OZ7JOArE/tYcnUFJrkz9+xN9Tv7rhPwaxqIgDBPu/lFCrirE5/78GsaiIAwT7v/16epDbgdM/73JxNUR+3T88no13fHYewAaxqIgDBPu/VgpbdtMkHMA2A8e1S9oSwBxKUEqoIBnAyAOZgM7P9z8jjUl7mt2uv3Bm2aReV/W/TrwMMSxuHMAyUBCFrH8fwCLmzHhtaRzA2PDSHFLK7j9m0iwKUmzxP1r3Ei0dJPU/gvV2laVHHcCLPKSoiGMAwGpKMRStTRHAk9t3csNFDsBtH8xvWWcHwCgWklPCvvq/QKXnoF7cGcAufceHbSfLv7Corv+9ury/6J8365Wdvr87OKaaKIPqPw==",
          "dtype": "f8"
         },
         "yaxis": "y"
        },
        {
         "hovertemplate": "<b>%{hovertext}</b><br><br>Brand=Flick<br>แกนคุณลักษณะหลักที่ 1 (PC1)=%{x}<br>แกนคุณลักษณะหลักที่ 2 (PC2)=%{y}<extra></extra>",
         "hovertext": [
          "Fire"
         ],
         "legendgroup": "Flick",
         "marker": {
          "color": "#00cc96",
          "symbol": "circle"
         },
         "mode": "markers",
         "name": "Flick",
         "showlegend": true,
         "type": "scattergl",
         "x": {
          "bdata": "GOcgn5C19r8=",
          "dtype": "f8"
         },
         "xaxis": "x",
         "y": {
          "bdata": "osjNcA/54T8=",
          "dtype": "f8"
         },
         "yaxis": "y"
        },
        {
         "hovertemplate": "<b>%{hovertext}</b><br><br>Brand=IYX<br>แกนคุณลักษณะหลักที่ 1 (PC1)=%{x}<br>แกนคุณลักษณะหลักที่ 2 (PC2)=%{y}<extra></extra>",
         "hovertext": [
          "Amber"
         ],
         "legendgroup": "IYX",
         "marker": {
          "color": "#ab63fa",
          "symbol": "circle"
         },
         "mode": "markers",
         "name": "IYX",
         "showlegend": true,
         "type": "scattergl",
         "x": {
          "bdata": "cl8JLNgRA8A=",
          "dtype": "f8"
         },
         "xaxis": "x",
         "y": {
          "bdata": "Qtn79KBc6j8=",
          "dtype": "f8"
         },
         "yaxis": "y"
        },
        {
         "hovertemplate": "<b>%{hovertext}</b><br><br>Brand=PMM<br>แกนคุณลักษณะหลักที่ 1 (PC1)=%{x}<br>แกนคุณลักษณะหลักที่ 2 (PC2)=%{y}<extra></extra>",
         "hovertext": [
          "ZEN 8K Mini",
          "Fuse 8K",
          "CYBER ZK",
          "CYBER 4.1",
          "VORTEX 4K M",
          "ZEN 8K",
          "CYBER 4.0",
          "CRAZE 8K",
          "NEO 8K",
          "VORTEX 8K M",
          "VORTEX 8K S",
          "VORTEX M",
          "VORTEX S",
          "FUSE",
          "CORE",
          "BLAZE",
          "NITE 8K",
          "TITAN M",
          "TITAN S",
          "TITAN 8K L",
          "CYBER 8K",
          "AIM 8K"
         ],
         "legendgroup": "PMM",
         "marker": {
          "color": "#FFA15A",
          "symbol": "circle"
         },
         "mode": "markers",
         "name": "PMM",
         "showlegend": true,
         "type": "scattergl",
         "x": {
          "bdata": "Wa7lawdzA8Br7icsf/D7v2oc4i6HTRXAcvt2OjVIE8AYh+ue3fP+v7Y3/VLNDPu/Sdm2/+/+FcBxiItMLQjYv2jPrqMm4QLAtqasNCju/79VktcLM/MEwNtEkM7Y0Oq/lHIPOqd19798CVo5sGvlvx8KirvoJuW/WByS5io+8L+pM5vJoGf9v0oi3c+H5PK/wKwzdF+8979M5uXVt9/6vza24CrsBRTA36PBUwg2F8A=",
          "dtype": "f8"
         },
         "xaxis": "x",
         "y": {
          "bdata": "jjewX6jr+D+P3ve8oCP4PysExkmADve/4zBUmKcG6L9HP9qP8aLqP9WdJ8/2lf8/gOFbPSgF9r9FNyU+9PQAQILHMhaeI/Y/Dmo7D8gl9T/M/ivpyOzrP0u8J/Ne/9W/WKKghcf76b+/9SWw00GsvxVwDJMefNW/gBBuXNgm4L/mp51NRdLrP+tmlRpPH9M/OF/LoZgv77++9xlJLkD6P0ucmH0Muuy/wiUVB18H878=",
          "dtype": "f8"
         },
         "yaxis": "y"
        },
        {
         "hovertemplate": "<b>%{hovertext}</b><br><br>Brand=Precision<br>แกนคุณลักษณะหลักที่ 1 (PC1)=%{x}<br>แกนคุณลักษณะหลักที่ 2 (PC2)=%{y}<extra></extra>",
         "hovertext": [
          "GG Titan-0"
         ],
         "legendgroup": "Precision",
         "marker": {
          "color": "#19d3f3",
          "symbol": "circle"
         },
         "mode": "markers",
         "name": "Precision",
         "showlegend": true,
         "type": "scattergl",
         "x": {
          "bdata": "PcMulBzTG8A=",
          "dtype": "f8"
         },
         "xaxis": "x",
         "y": {
          "bdata": "VnrUZXw3E8A=",
          "dtype": "f8"
         },
         "yaxis": "y"
        },
        {
         "hovertemplate": "<b>%{hovertext}</b><br><br>Brand=Glorious<br>แกนคุณลักษณะหลักที่ 1 (PC1)=%{x}<br>แกนคุณลักษณะหลักที่ 2 (PC2)=%{y}<extra></extra>",
         "hovertext": [
          "Model O Eternal",
          "Model O 2 Mini Wireless",
          "Model O 2 Mini",
          "Series 2 Pro",
          "Model D 2 Wireless",
          "Model D 2 Wired",
          "Model O Pro",
          "Series One Pro",
          "Model D Wireless",
          "Model D",
          "Model D-",
          "Model I",
          "Model O",
          "Model O-",
          "Model D- Wireless",
          "Model O 2 Pro 4K/8K",
          "Model O 2 Pro 1K",
          "Model D 2 Pro 4K/8K",
          "Model D 2 Pro 1K",
          "Model D Pro",
          "Model I 2 Wireless",
          "Model O 2 Wired",
          "Model O 2 Wireless",
          "Model O- Wireless",
          "Model O Wireless"
         ],
         "legendgroup": "Glorious",
         "marker": {
          "color": "#FF6692",
          "symbol": "circle"
         },
         "mode": "markers",
         "name": "Glorious",
         "showlegend": true,
         "type": "scattergl",
         "x": {
          "bdata": "j5K4xK6+1L9K39oq6rL0v/aq4G9Z7/e/0q8CDjC3+r9UzXuSHrL5P5xwXjGWyfY/KRhNzO983L955Qa3iIDzv8BbTQtSv/s/KH0yTeKu/T/Gu+MkNJjxP+pEleIxwgRA01IzEm1apL9nO/Ko6Xbuv3NxxMas8fE/13XYs9me7b/eoLxRUJngv5I1GPBr+O8/1FxurxSG9j/Ivo3rmrr3P6K/8ZTX2QNAUzI8pVZk4b9Es0yrew/Vv7H5CfP5tOy/uk/K5fkDvb8=",
          "dtype": "f8"
         },
         "xaxis": "x",
         "y": {
          "bdata": "N+W70pP6pL9PJJ0aK+jTv/wEZzMjlLK/m2y6eonW3D9W42XykT7yP5GOqKxZQ/U/THys4D3hyj9ag/PyUFLNv/j9VsKVjug/kCAADZ2G4D9BFNktyrbCP4M2JXRimPQ/3Qe9aEmP1r+hQYS4j0rpvwgLN93ls84/l+Myss3D7T+/YUgz5y3aP8Gi6w1DIvw/APP0kZG68z+1E4kR+3nwP4I1U2fvifU/Jw0bBHOw0T+fxzm02nikP/LaymfQ2ue/jsiVSwKkw78=",
          "dtype": "f8"
         },
         "yaxis": "y"
        },
        {
         "hovertemplate": "<b>%{hovertext}</b><br><br>Brand=WLmouse<br>แกนคุณลักษณะหลักที่ 1 (PC1)=%{x}<br>แกนคุณลักษณะหลักที่ 2 (PC2)=%{y}<extra></extra>",
         "hovertext": [
          "Sword X",
          "Ying",
          "Beast X Max",
          "Beast Miao",
          "Beast X Mini Pro",
          "Beast X Pro",
          "Strider",
          "Beast X 8K",
          "Beast X Mini",
          "Beast X"
         ],
         "legendgroup": "WLmouse",
         "marker": {
          "color": "#B6E880",
          "symbol": "circle"
         },
         "mode": "markers",
         "name": "WLmouse",
         "showlegend": true,
         "type": "scattergl",
         "x": {
          "bdata": "SoL4WCY12T9ZTHVdxxIDwDTxVeNXP/e/zdNYN8yTEMDfGD3sxIAHwGuRksQJ2gDATpLFDj0P+b8pGlHWckwAwJ2h+/0t8wbACFiLQIVx/L8=",
          "dtype": "f8"
         },
         "xaxis": "x",
         "y": {
          "bdata": "guuYVHqGAEC0owZdct3vP5pIVdSGrPc/lBu16bkN27/KlqBak7TlPyzkfzCeqfE/VZz2Zrn98j+Ot/IdZbzuP/6Fkxe8HeE/hLi0TQFC5D8=",
          "dtype": "f8"
         },
         "yaxis": "y"
        },
        {
         "hovertemplate": "<b>%{hovertext}</b><br><br>Brand=Nintendo<br>แกนคุณลักษณะหลักที่ 1 (PC1)=%{x}<br>แกนคุณลักษณะหลักที่ 2 (PC2)=%{y}<extra></extra>",
         "hovertext": [
          "Joy-Con 2"
         ],
         "legendgroup": "Nintendo",
         "marker": {
          "color": "#FF97FF",
          "symbol": "circle"
         },
         "mode": "markers",
         "name": "Nintendo",
         "showlegend": true,
         "type": "scattergl",
         "x": {
          "bdata": "nX9WR1tj878=",
          "dtype": "f8"
         },
         "xaxis": "x",
         "y": {
          "bdata": "3MXGfPGEJsA=",
          "dtype": "f8"
         },
         "yaxis": "y"
        },
        {
         "hovertemplate": "<b>%{hovertext}</b><br><br>Brand=Angry<br>แกนคุณลักษณะหลักที่ 1 (PC1)=%{x}<br>แกนคุณลักษณะหลักที่ 2 (PC2)=%{y}<extra></extra>",
         "hovertext": [
          "Miao AM Infinity Mouse"
         ],
         "legendgroup": "Angry",
         "marker": {
          "color": "#FECB52",
          "symbol": "circle"
         },
         "mode": "markers",
         "name": "Angry",
         "showlegend": true,
         "type": "scattergl",
         "x": {
          "bdata": "7qP1f95F+b8=",
          "dtype": "f8"
         },
         "xaxis": "x",
         "y": {
          "bdata": "5J5baXHn7z8=",
          "dtype": "f8"
         },
         "yaxis": "y"
        },
        {
         "hovertemplate": "<b>%{hovertext}</b><br><br>Brand=Corsair<br>แกนคุณลักษณะหลักที่ 1 (PC1)=%{x}<br>แกนคุณลักษณะหลักที่ 2 (PC2)=%{y}<extra></extra>",
         "hovertext": [
          "Scimitar Elite Wireless SE",
          "M55 Wireless",
          "M55 Wired",
          "Dark Core RGB Pro",
          "M55 RGB Pro",
          "Glaive Pro",
          "Glaive RGB",
          "Nightsword RGB",
          "Scimitar Elite Wireless",
          "Scimitar RGB Elite",
          "Scimitar Pro RGB",
          "Scimitar RGB",
          "Sabre RGB Pro Wireless",
          "Sabre RGB Pro",
          "Sabre Pro",
          "Katar Elite Wireless",
          "Katar Pro Wireless",
          "Katar Pro XT",
          "Ironclaw RGB Wireless",
          "Ironclaw RGB",
          "Harpoon RGB Wireless",
          "Harpoon RGB Pro",
          "Harpoon RGB",
          "M75 Air Wireless",
          "M75 Wireless",
          "M75",
          "Nightsabre Wireless",
          "Darkstar Wireless",
          "M65 RGB Ultra Wireless",
          "M65 RGB Ultra",
          "M65 RGB Pro",
          "M65 RGB Elite",
          "Dark Core RGB Pro SE"
         ],
         "legendgroup": "Corsair",
         "marker": {
          "color": "#636efa",
          "symbol": "circle"
         },
         "mode": "markers",
         "name": "Corsair",
         "showlegend": true,
         "type": "scattergl",
         "x": {
          "bdata": "YYVJValBEUAA+bjdpM7lP6/WiYXlX7I/PJMg7t+AEUATmbJKN7DjP8HQLORw4AlAMcNcIDhlC0B7LUFD67wSQDJnOScS8RBAA+YOSSsDE0AEe2DCpmUVQKU2gTlyrBVACD3GsoDC/z+cZgTpm7n3P6S3anojIvg/v6b3y0YG6r/fw0lP6R/BP3zBOQXPa+K/Q3vGHfj1EkDjqvrMQpYQQMNL31Kq5wFA4rws2nhx+z+oIvGkPRr9Py9X/4r+hca/Jj2dsJum3z9I13LvPJ/Tv/JCF5SQq9w/QdojzaR7CEBoFDxMOAoGQG+lwNTiiABAgVzPFQ1kCUCqfp/eIh0HQDyTIO7fgBFA",
          "dtype": "f8"
         },
         "xaxis": "x",
         "y": {
          "bdata": "1lZ+dTFY8j8JEvkNqp4WwKEdIFa+ShTA5SiSnymGwj9KQ89vlEblvyt6SGkLPaE/0nwz2mXSyL/4+YoQUTbsPxs06re61/E/jccZpEY02z/CepfOkTzMv/veZW33S9e/Mx5w/gFF8D+gag95RPv5P/omc9TkPvc/sAwF46Ji4b/+5cqEJkf+v7YtlVBmPe6/ItKNQolJ4T8xwtYa64vxP3rSLjG2lfS/2HTvmjbX4L8KDoN/ebnnv7s0Jo9ApuM/sPgJoPkZub+59qI1Q/zqP4S9g0m49dy/W8cPAaGA8D8T9Iqu/ymuvzmYyiJM5+c/RH1iCHUW5781WJpszrfWv+Uokp8phsI/",
          "dtype": "f8"
         },
         "yaxis": "y"
        },
        {
         "hovertemplate": "<b>%{hovertext}</b><br><br>Brand=ThundeRobot<br>แกนคุณลักษณะหลักที่ 1 (PC1)=%{x}<br>แกนคุณลักษณะหลักที่ 2 (PC2)=%{y}<extra></extra>",
         "hovertext": [
          "ML8",
          "ML4",
          "ML6 Pro",
          "ML9 Mini",
          "ML9S",
          "ML901",
          "ML602",
          "ML903"
         ],
         "legendgroup": "ThundeRobot",
         "marker": {
          "color": "#EF553B",
          "symbol": "circle"
         },
         "mode": "markers",
         "name": "ThundeRobot",
         "showlegend": true,
         "type": "scattergl",
         "x": {
          "bdata": "kls+Jzrt978NfNupdWfyv0QWY5I2a/A/qY28zMsB/b9rGHhKSUjtv/6WnCOcusy/59OQRgrd2b9WRGbBuNHlvw==",
          "dtype": "f8"
         },
         "xaxis": "x",
         "y": {
          "bdata": "DbWxaTtJ1z8RNPGoQDvwvydEvXJpkfA/ER9Oo7jo1j+ezB5wIDjmPybRy0QOfMq/qixWZ78yzT8qIMM7NhDVPw==",
          "dtype": "f8"
         },
         "yaxis": "y"
        },
        {
         "hovertemplate": "<b>%{hovertext}</b><br><br>Brand=Chilkey<br>แกนคุณลักษณะหลักที่ 1 (PC1)=%{x}<br>แกนคุณลักษณะหลักที่ 2 (PC2)=%{y}<extra></extra>",
         "hovertext": [
          "Glacier LW 8K M"
         ],
         "legendgroup": "Chilkey",
         "marker": {
          "color": "#00cc96",
          "symbol": "circle"
         },
         "mode": "markers",
         "name": "Chilkey",
         "showlegend": true,
         "type": "scattergl",
         "x": {
          "bdata": "XCbYb8gv/b8=",
          "dtype": "f8"
         },
         "xaxis": "x",
         "y": {
          "bdata": "XOojyNi16j8=",
          "dtype": "f8"
         },
         "yaxis": "y"
        },
        {
         "hovertemplate": "<b>%{hovertext}</b><br><br>Brand=UNIUS<br>แกนคุณลักษณะหลักที่ 1 (PC1)=%{x}<br>แกนคุณลักษณะหลักที่ 2 (PC2)=%{y}<extra></extra>",
         "hovertext": [
          "Black Lotus"
         ],
         "legendgroup": "UNIUS",
         "marker": {
          "color": "#ab63fa",
          "symbol": "circle"
         },
         "mode": "markers",
         "name": "UNIUS",
         "showlegend": true,
         "type": "scattergl",
         "x": {
          "bdata": "UKJho7dS/r8=",
          "dtype": "f8"
         },
         "xaxis": "x",
         "y": {
          "bdata": "Jk8b1OSe8z8=",
          "dtype": "f8"
         },
         "yaxis": "y"
        },
        {
         "hovertemplate": "<b>%{hovertext}</b><br><br>Brand=Fantech<br>แกนคุณลักษณะหลักที่ 1 (PC1)=%{x}<br>แกนคุณลักษณะหลักที่ 2 (PC2)=%{y}<extra></extra>",
         "hovertext": [
          "Tanto S",
          "Tanto",
          "Tanto E",
          "Go XD5",
          "Aria E",
          "Aria II Pro",
          "Aria II",
          "Helios II Pro S",
          "Helios XD3V2",
          "Helios II Pro",
          "X11 Daredevil",
          "Helios XD3",
          "Aria XD7"
         ],
         "legendgroup": "Fantech",
         "marker": {
          "color": "#FFA15A",
          "symbol": "circle"
         },
         "mode": "markers",
         "name": "Fantech",
         "showlegend": true,
         "type": "scattergl",
         "x": {
          "bdata": "KPctwR1Y97+q9QUENRPwv8u2NtKOMum/gNWJvFll8T9P1ywhQG7pvxZ4YGdBPPq/l3Y4qlj38r+04kdbrvr2v4WxqO55pca/agYx703T8r/sgF/SRe4PQHAal8NmAsC/da5glECW8L8=",
          "dtype": "f8"
         },
         "xaxis": "x",
         "y": {
          "bdata": "LxUda0X23T/Une+2X9i6v3pppY8/guK/r/LUPtU9Nb+OqAoN2onov6/6CMLus94/4AdAW7rht7/dGJPGnIbkP4ag4nt5sO6/pjOq7HEY1D+GzMnSBC7Ov5I2FnfNEPG/f9u5RNHz0L8=",
          "dtype": "f8"
         },
         "yaxis": "y"
        },
        {
         "hovertemplate": "<b>%{hovertext}</b><br><br>Brand=Orbital<br>แกนคุณลักษณะหลักที่ 1 (PC1)=%{x}<br>แกนคุณลักษณะหลักที่ 2 (PC2)=%{y}<extra></extra>",
         "hovertext": [
          "Pathfinder AAM-222",
          "Pathfinder AAM-000"
         ],
         "legendgroup": "Orbital",
         "marker": {
          "color": "#19d3f3",
          "symbol": "circle"
         },
         "mode": "markers",
         "name": "Orbital",
         "showlegend": true,
         "type": "scattergl",
         "x": {
          "bdata": "WP8keEXJAMBtseXBCGgGwA==",
          "dtype": "f8"
         },
         "xaxis": "x",
         "y": {
          "bdata": "p/IEwU6u2j8o9uddRf26vw==",
          "dtype": "f8"
         },
         "yaxis": "y"
        },
        {
         "hovertemplate": "<b>%{hovertext}</b><br><br>Brand=Metaphyuni<br>แกนคุณลักษณะหลักที่ 1 (PC1)=%{x}<br>แกนคุณลักษณะหลักที่ 2 (PC2)=%{y}<extra></extra>",
         "hovertext": [
          "M6",
          "P2 Pro",
          "P2 Lite",
          "P2",
          "Metapanda P1 Pro Max",
          "Metapanda P1 Pro",
          "Metapanda P1"
         ],
         "legendgroup": "Metaphyuni",
         "marker": {
          "color": "#FF6692",
          "symbol": "circle"
         },
         "mode": "markers",
         "name": "Metaphyuni",
         "showlegend": true,
         "type": "scattergl",
         "x": {
          "bdata": "qEgktvEbAMC3FErPT8v3v9WgrxyNTum/OBMiEmeG8L/nSIBb8ILsP+dIgFvwguw/W0LfO4n67j8=",
          "dtype": "f8"
         },
         "xaxis": "x",
         "y": {
          "bdata": "9E86oqk08z8aFge9R6LVPxKuljj8lOe/Es2jNysUzr+6AHna98vuP7oAedr3y+4/glneOegF6z8=",
          "dtype": "f8"
         },
         "yaxis": "y"
        },
        {
         "hovertemplate": "<b>%{hovertext}</b><br><br>Brand=EWEADN<br>แกนคุณลักษณะหลักที่ 1 (PC1)=%{x}<br>แกนคุณลักษณะหลักที่ 2 (PC2)=%{y}<extra></extra>",
         "hovertext": [
          "X23 Max",
          "X23 Pro",
          "X23 SE",
          "X23",
          "M9",
          "X21 Pro",
          "X21",
          "L1 Pro",
          "L1",
          "S9 Ultra",
          "S9 Pro",
          "S9"
         ],
         "legendgroup": "EWEADN",
         "marker": {
          "color": "#B6E880",
          "symbol": "circle"
         },
         "mode": "markers",
         "name": "EWEADN",
         "showlegend": true,
         "type": "scattergl",
         "x": {
          "bdata": "LVvlBUEz8L+/MDYEQajov78wNgRBqOi/vzA2BEGo6L/CTjCHdNj6v4DtnyJYCvk/dNVw+ZMw/D9kXTmykEv+v2RdObKQS/6/C6o3VuyR7r/n7WPo4FHmv8f98j5JXNG/",
          "dtype": "f8"
         },
         "xaxis": "x",
         "y": {
          "bdata": "O9zC/mymqj8QGoM1FcvcvxAagzUVy9y/EBqDNRXL3L9tygKVL87iPxZRb7A/QPY/WatxP+rs7T8BYm/+ru/qPwFib/6u7+o/vI9ln0LT9z/0mudanPDtP0N16NU3Jdk/",
          "dtype": "f8"
         },
         "yaxis": "y"
        },
        {
         "hovertemplate": "<b>%{hovertext}</b><br><br>Brand=Zaopin<br>แกนคุณลักษณะหลักที่ 1 (PC1)=%{x}<br>แกนคุณลักษณะหลักที่ 2 (PC2)=%{y}<extra></extra>",
         "hovertext": [
          "ZPW Max",
          "ZPW",
          "Z2 Max",
          "Z1 Pro Max",
          "Z2 Mini Max 8K",
          "Z2 Mini 4K",
          "Z2 Mini",
          "Z2",
          "Z1 Pro",
          "Z1"
         ],
         "legendgroup": "Zaopin",
         "marker": {
          "color": "#FF97FF",
          "symbol": "circle"
         },
         "mode": "markers",
         "name": "Zaopin",
         "showlegend": true,
         "type": "scattergl",
         "x": {
          "bdata": "h932Ewb1wj+nUQ74dM7LPyXPSwUZ7NY/oLhFJoinAMD9lhyTU/Tavzuv1cJpqLe/IKQ8Thswuj8rfdkTKfvlPwqMDQukf/6/dbrO+C+g878=",
          "dtype": "f8"
         },
         "xaxis": "x",
         "y": {
          "bdata": "TgbV0udV/j/ofU4xfAr8P9iWsuvg/fM/I6LEv6il1j+SJztrlEXuP3cv4K+yaN4/0mEG7zlizT/cHRrEhuroP6/z/9kZuLA/DdgEauw96L8=",
          "dtype": "f8"
         },
         "yaxis": "y"
        },
        {
         "hovertemplate": "<b>%{hovertext}</b><br><br>Brand=RK<br>แกนคุณลักษณะหลักที่ 1 (PC1)=%{x}<br>แกนคุณลักษณะหลักที่ 2 (PC2)=%{y}<extra></extra>",
         "hovertext": [
          "Royal Kludge M3",
          "Royal Kludge M30"
         ],
         "legendgroup": "RK",
         "marker": {
          "color": "#FECB52",
          "symbol": "circle"
         },
         "mode": "markers",
         "name": "RK",
         "showlegend": true,
         "type": "scattergl",
         "x": {
          "bdata": "272DpfYZAMBaIfBvBIj1vw==",
          "dtype": "f8"
         },
         "xaxis": "x",
         "y": {
          "bdata": "P94Bl8ni9T+KN6H+qMjQPw==",
          "dtype": "f8"
         },
         "yaxis": "y"
        },
        {
         "hovertemplate": "<b>%{hovertext}</b><br><br>Brand=Xyder<br>แกนคุณลักษณะหลักที่ 1 (PC1)=%{x}<br>แกนคุณลักษณะหลักที่ 2 (PC2)=%{y}<extra></extra>",
         "hovertext": [
          "Amalight 4K"
         ],
         "legendgroup": "Xyder",
         "marker": {
          "color": "#636efa",
          "symbol": "circle"
         },
         "mode": "markers",
         "name": "Xyder",
         "showlegend": true,
         "type": "scattergl",
         "x": {
          "bdata": "d9NQ9uOJ578=",
          "dtype": "f8"
         },
         "xaxis": "x",
         "y": {
          "bdata": "dIWeWB8r6D8=",
          "dtype": "f8"
         },
         "yaxis": "y"
        },
        {
         "hovertemplate": "<b>%{hovertext}</b><br><br>Brand=Imecoo<br>แกนคุณลักษณะหลักที่ 1 (PC1)=%{x}<br>แกนคุณลักษณะหลักที่ 2 (PC2)=%{y}<extra></extra>",
         "hovertext": [
          "P1"
         ],
         "legendgroup": "Imecoo",
         "marker": {
          "color": "#EF553B",
          "symbol": "circle"
         },
         "mode": "markers",
         "name": "Imecoo",
         "showlegend": true,
         "type": "scattergl",
         "x": {
          "bdata": "HyXW5f5c6T8=",
          "dtype": "f8"
         },
         "xaxis": "x",
         "y": {
          "bdata": "af8e/KRpAEA=",
          "dtype": "f8"
         },
         "yaxis": "y"
        },
        {
         "hovertemplate": "<b>%{hovertext}</b><br><br>Brand=Vaidemi<br>แกนคุณลักษณะหลักที่ 1 (PC1)=%{x}<br>แกนคุณลักษณะหลักที่ 2 (PC2)=%{y}<extra></extra>",
         "hovertext": [
          "Nimbus"
         ],
         "legendgroup": "Vaidemi",
         "marker": {
          "color": "#00cc96",
          "symbol": "circle"
         },
         "mode": "markers",
         "name": "Vaidemi",
         "showlegend": true,
         "type": "scattergl",
         "x": {
          "bdata": "fyUYAiB//78=",
          "dtype": "f8"
         },
         "xaxis": "x",
         "y": {
          "bdata": "arvOw+1b+T8=",
          "dtype": "f8"
         },
         "yaxis": "y"
        },
        {
         "hovertemplate": "<b>%{hovertext}</b><br><br>Brand=Zowie<br>แกนคุณลักษณะหลักที่ 1 (PC1)=%{x}<br>แกนคุณลักษณะหลักที่ 2 (PC2)=%{y}<extra></extra>",
         "hovertext": [
          "EC3-DW",
          "EC2-DW",
          "EC1-DW",
          "ZA13-DW",
          "FK2-DW",
          "U2-DW",
          "S2-DW",
          "S1-B V2",
          "S1-B",
          "S1-C",
          "S2-B V2",
          "S2-B",
          "ZA13-B",
          "ZA12-B",
          "ZA12-C",
          "ZA11-B",
          "ZA11-C",
          "FK2-B V2",
          "FK2-B",
          "FK1-B V2",
          "FK1-B",
          "FK1+-B V2",
          "FK1+-B",
          "EC2-B V2",
          "EC2-B",
          "EC1-B V2",
          "EC1-B",
          "MiCO",
          "U2",
          "AM",
          "EC3-CW",
          "EC2-CW",
          "EC1-CW",
          "S2-C",
          "ZA13-C",
          "FK2-C",
          "FK1-C",
          "FK1+-C",
          "EC3-C",
          "EC2-C",
          "EC1-C"
         ],
         "legendgroup": "Zowie",
         "marker": {
          "color": "#ab63fa",
          "symbol": "circle"
         },
         "mode": "markers",
         "name": "Zowie",
         "showlegend": true,
         "type": "scattergl",
         "x": {
          "bdata": "nT55C38V8T9VRen17hb0Pzy8IhPdrP4/dvk7eZ1l2b8lkXbtG+jdv2/jgP/5QuG/Tu6mjglS4b/bymc9ugvjP9vKZz26C+M/Ksk8xQ/bzj+Q9bCGjauxP5D1sIaNq7E/0NiPInqvoz9vMoVACQveP1KCU5e9DtI/Z2JdwWDB7j+RSeyef3fnP/hn5z3/3Lc/+GfnPf/ctz+bbsh7+w/hP5tuyHv7D+E/oWhOv8Z+7T+haE6/xn7tP+pQEBjANAFA6lAQGMA0AUA1JMj+73oGQDUkyP7vegZAEiho1DMK/r8DMr260g/Wv9K8U/0e99c/4qsQ3YSj+j+8Z+WXQI79PyuHKckgxwNAZdhxlrvXz785ye5p+N7Jv7xp8QF5SMO/8uB+yxzw0j+nJFjvudfmPzZW8OuyXfg/oqQ137YP/D+SgJqqP/UDQA==",
          "dtype": "f8"
         },
         "xaxis": "x",
         "y": {
          "bdata": "xRfTydnexj9bFEFIXujWP0oPXin8p+g/+zgsaXnc4r+1jFy1SKLmv7otEeFLSuC/l+FS/BZG6b+ub/KWtCfzv65v8pa0J/O/jRD/NIv06b/vm7LnDh/4v++bsucOH/i/6iDPDRWn8b9cWB4f4a7qv89ujSC0N+S/5loBdaCQ4b+ZSI70PPPTv2QfayfC4PW/ZB9rJ8Lg9b+UVmgoHN7xv5RWaCgc3vG/2J4EGJHk6r/YngQYkeTqv+6ZPk0VguS/7pk+TRWC5L+qCcXgvHHIv6oJxeC8cci/rUIVaXTmCMACrT+9Fibov94tjm26/fe/mhECuRY74L8Rtv3layDUv3PoJzon5cM/Y29MCQdY8r9EuFpFRLjqv3gOUujxdPG/ggohFXJn67/bG3eRF9bjv8nGhbINhNa/8s82Sexly7/7gn5abfDAPw==",
          "dtype": "f8"
         },
         "yaxis": "y"
        },
        {
         "hovertemplate": "<b>%{hovertext}</b><br><br>Brand=Tecware<br>แกนคุณลักษณะหลักที่ 1 (PC1)=%{x}<br>แกนคุณลักษณะหลักที่ 2 (PC2)=%{y}<extra></extra>",
         "hovertext": [
          "EX1",
          "Pulse Elite"
         ],
         "legendgroup": "Tecware",
         "marker": {
          "color": "#FFA15A",
          "symbol": "circle"
         },
         "mode": "markers",
         "name": "Tecware",
         "showlegend": true,
         "type": "scattergl",
         "x": {
          "bdata": "3xxGEpd48L8Bmu0wVu/Jvw==",
          "dtype": "f8"
         },
         "xaxis": "x",
         "y": {
          "bdata": "Kj0aKV8Zwb+OtnxlZxbPvw==",
          "dtype": "f8"
         },
         "yaxis": "y"
        },
        {
         "hovertemplate": "<b>%{hovertext}</b><br><br>Brand=SOLAKAKA<br>แกนคุณลักษณะหลักที่ 1 (PC1)=%{x}<br>แกนคุณลักษณะหลักที่ 2 (PC2)=%{y}<extra></extra>",
         "hovertext": [
          "SM809 Pro",
          "SM802 Pro",
          "SM805",
          "SM850",
          "SM809",
          "SM802"
         ],
         "legendgroup": "SOLAKAKA",
         "marker": {
          "color": "#19d3f3",
          "symbol": "circle"
         },
         "mode": "markers",
         "name": "SOLAKAKA",
         "showlegend": true,
         "type": "scattergl",
         "x": {
          "bdata": "pbNMmb+tEkCW8YscBmnlvz90hT/U7fE/I6W9bNGD4j9y8ekBEdURQPXX7imKVdu/",
          "dtype": "f8"
         },
         "xaxis": "x",
         "y": {
          "bdata": "oIa6wQ9u/z9g3pH3TyaxvwJxzS4EV+A/h7xcI6Nn5D+HrryWSUwBQJj2n2m7NOK/",
          "dtype": "f8"
         },
         "yaxis": "y"
        },
        {
         "hovertemplate": "<b>%{hovertext}</b><br><br>Brand=Mighty<br>แกนคุณลักษณะหลักที่ 1 (PC1)=%{x}<br>แกนคุณลักษณะหลักที่ 2 (PC2)=%{y}<extra></extra>",
         "hovertext": [
          "Mouse MM8K"
         ],
         "legendgroup": "Mighty",
         "marker": {
          "color": "#FF6692",
          "symbol": "circle"
         },
         "mode": "markers",
         "name": "Mighty",
         "showlegend": true,
         "type": "scattergl",
         "x": {
          "bdata": "ykbK0dNCGMA=",
          "dtype": "f8"
         },
         "xaxis": "x",
         "y": {
          "bdata": "C2dcKjBZAMA=",
          "dtype": "f8"
         },
         "yaxis": "y"
        },
        {
         "hovertemplate": "<b>%{hovertext}</b><br><br>Brand=Redragon<br>แกนคุณลักษณะหลักที่ 1 (PC1)=%{x}<br>แกนคุณลักษณะหลักที่ 2 (PC2)=%{y}<extra></extra>",
         "hovertext": [
          "M813 Pro",
          "M813 Wired",
          "M995 Pro",
          "M995",
          "M991",
          "M810 Pro",
          "M693",
          "M656 Gainer",
          "M913 Impact Elite",
          "M908 Impact",
          "M996",
          "M724",
          "M916 Pro 4K",
          "M916 Pro",
          "G49 Pro",
          "M711 Cobra"
         ],
         "legendgroup": "Redragon",
         "marker": {
          "color": "#B6E880",
          "symbol": "circle"
         },
         "mode": "markers",
         "name": "Redragon",
         "showlegend": true,
         "type": "scattergl",
         "x": {
          "bdata": "1NUiYQPZA0D5f8a0/DoFQKux4TovLue/q7HhOi8u57+2q1EDUUUMQAkNZQFlpARAZOD4nVEgAED05IJ41k4QQPHGdzchOBlAUUaFJMyJGEBsY3kOs9T7v8cDYTD7zPC/7oIMmSXx9L+4XftHndPxv+6CDJkl8fS/4funEWwVAUA=",
          "dtype": "f8"
         },
         "xaxis": "x",
         "y": {
          "bdata": "GulsoXc98z82KDkb1QHrP7jqzZUInuE/uOrNlQie4T8V3jXUjViNv+Qk9Ol4S+M/nRg29S/N1r8CIHDMvQLyv5l257rFgPQ/hMiVSbfo9T+mJm3fmDHwP887ULIm16i/Dz689iJn3z/+fr58Gl/PPw8+vPYiZ98/up6w+RM55L8=",
          "dtype": "f8"
         },
         "yaxis": "y"
        },
        {
         "hovertemplate": "<b>%{hovertext}</b><br><br>Brand=JAMESDONKEY<br>แกนคุณลักษณะหลักที่ 1 (PC1)=%{x}<br>แกนคุณลักษณะหลักที่ 2 (PC2)=%{y}<extra></extra>",
         "hovertext": [
          "RSR5s",
          "RSR5"
         ],
         "legendgroup": "JAMESDONKEY",
         "marker": {
          "color": "#FF97FF",
          "symbol": "circle"
         },
         "mode": "markers",
         "name": "JAMESDONKEY",
         "showlegend": true,
         "type": "scattergl",
         "x": {
          "bdata": "R4pz99MX+r/LePbTATP7vw==",
          "dtype": "f8"
         },
         "xaxis": "x",
         "y": {
          "bdata": "G8Sib4HT3D/Zct76lwDjPw==",
          "dtype": "f8"
         },
         "yaxis": "y"
        },
        {
         "hovertemplate": "<b>%{hovertext}</b><br><br>Brand=ROCCAT<br>แกนคุณลักษณะหลักที่ 1 (PC1)=%{x}<br>แกนคุณลักษณะหลักที่ 2 (PC2)=%{y}<extra></extra>",
         "hovertext": [
          "LUA",
          "Kone XP Air",
          "Pure SEL",
          "Pure Air",
          "Tyon",
          "Kain 120 AIMO",
          "Kone Pure Ultra",
          "Kone AIMO Remastered",
          "Kain 100 AIMO",
          "Kain 200 AIMO",
          "Kone XP",
          "Kone Pro",
          "Kone Pro Air",
          "Burst Core",
          "Burst Pro",
          "Burst Pro Air"
         ],
         "legendgroup": "ROCCAT",
         "marker": {
          "color": "#FECB52",
          "symbol": "circle"
         },
         "mode": "markers",
         "name": "ROCCAT",
         "showlegend": true,
         "type": "scattergl",
         "x": {
          "bdata": "SuqtDY1i8L+HDXLfvUoKQJrqS8jcUPA/sUPjbml36j8Gvmq9RuAUQM1PdDaW6+Q/Sj8/DR9n9D8Mzakpe3oTQDtOXzGCEek/CPM+GmVg8D/C1PKPKecIQJ7/sb4tevw/JP7AHr7C/z9uwHCG/MHEvxRdDjnWrNK/JlrkC74In78=",
          "dtype": "f8"
         },
         "xaxis": "x",
         "y": {
          "bdata": "GH3TAnlyAMB7w5VayFngP6UPwfvfTNc/jPWjKeEm7D823yz+RC7gP0wO10tjjd+/i3wEkLrrwj+Vz66Q2UPhP6YGpEOFYei/pA6pff5V7L88nK+YZETNP+PwJTvIsuk/dyxMJ5zZ4j/5E7Xy2ULpv3uU/FQGqOC/KTsN9Ets6L8=",
          "dtype": "f8"
         },
         "yaxis": "y"
        },
        {
         "hovertemplate": "<b>%{hovertext}</b><br><br>Brand=Realforce<br>แกนคุณลักษณะหลักที่ 1 (PC1)=%{x}<br>แกนคุณลักษณะหลักที่ 2 (PC2)=%{y}<extra></extra>",
         "hovertext": [
          "RM1"
         ],
         "legendgroup": "Realforce",
         "marker": {
          "color": "#636efa",
          "symbol": "circle"
         },
         "mode": "markers",
         "name": "Realforce",
         "showlegend": true,
         "type": "scattergl",
         "x": {
          "bdata": "cuHIzrBI/z8=",
          "dtype": "f8"
         },
         "xaxis": "x",
         "y": {
          "bdata": "+MbWvFDCtL8=",
          "dtype": "f8"
         },
         "yaxis": "y"
        },
        {
         "hovertemplate": "<b>%{hovertext}</b><br><br>Brand=Lenovo<br>แกนคุณลักษณะหลักที่ 1 (PC1)=%{x}<br>แกนคุณลักษณะหลักที่ 2 (PC2)=%{y}<extra></extra>",
         "hovertext": [
          "Yoga Pro",
          "Legion M410",
          "Legion M600s",
          "Legion M300s"
         ],
         "legendgroup": "Lenovo",
         "marker": {
          "color": "#EF553B",
          "symbol": "circle"
         },
         "mode": "markers",
         "name": "Lenovo",
         "showlegend": true,
         "type": "scattergl",
         "x": {
          "bdata": "i7Peb1LaEUD17SyPj8nlPxd1ufYYje6/352D+SIY8b8=",
          "dtype": "f8"
         },
         "xaxis": "x",
         "y": {
          "bdata": "8G6H7MYnEsBDOYpwa13wv06bTvwcMO6/dGvvmmlU778=",
          "dtype": "f8"
         },
         "yaxis": "y"
        },
        {
         "hovertemplate": "<b>%{hovertext}</b><br><br>Brand=HaunterWell<br>แกนคุณลักษณะหลักที่ 1 (PC1)=%{x}<br>แกนคุณลักษณะหลักที่ 2 (PC2)=%{y}<extra></extra>",
         "hovertext": [
          "HZS",
          "HMF",
          "HFC",
          "HZ1"
         ],
         "legendgroup": "HaunterWell",
         "marker": {
          "color": "#00cc96",
          "symbol": "circle"
         },
         "mode": "markers",
         "name": "HaunterWell",
         "showlegend": true,
         "type": "scattergl",
         "x": {
          "bdata": "2z02GqKMEsDMSRc2+QMTwPOonZpKuA/Ary3gclcYB8A=",
          "dtype": "f8"
         },
         "xaxis": "x",
         "y": {
          "bdata": "Emww5gaa6b+KGJdfKSDwv9C2liNooOG/3S7Bpbbu2D8=",
          "dtype": "f8"
         },
         "yaxis": "y"
        },
        {
         "hovertemplate": "<b>%{hovertext}</b><br><br>Brand=Akko<br>แกนคุณลักษณะหลักที่ 1 (PC1)=%{x}<br>แกนคุณลักษณะหลักที่ 2 (PC2)=%{y}<extra></extra>",
         "hovertext": [
          "Pulse 01",
          "AG ONE 8K",
          "AG One NearLink",
          "AG325W",
          "AG325C",
          "AG325"
         ],
         "legendgroup": "Akko",
         "marker": {
          "color": "#ab63fa",
          "symbol": "circle"
         },
         "mode": "markers",
         "name": "Akko",
         "showlegend": true,
         "type": "scattergl",
         "x": {
          "bdata": "+WQeovya5r8BDkYcHA/tv8/ZXB+tr+e/PKHE2D2Y8T+fSTa7LLXCPxdO4Fr65sg/",
          "dtype": "f8"
         },
         "xaxis": "x",
         "y": {
          "bdata": "idC3v3pV4D/Uww1MpUzjPxu88ov+p9o/RlPifCKqFcB+hnFHYGfrvwzfLcPDne6/",
          "dtype": "f8"
         },
         "yaxis": "y"
        },
        {
         "hovertemplate": "<b>%{hovertext}</b><br><br>Brand=Pwnage<br>แกนคุณลักษณะหลักที่ 1 (PC1)=%{x}<br>แกนคุณลักษณะหลักที่ 2 (PC2)=%{y}<extra></extra>",
         "hovertext": [
          "StormBreaker V3",
          "StormBreaker V2",
          "Trinity CF",
          "StormBreaker Max CF",
          "StormBreaker",
          "Ergo Wireless",
          "Ergo",
          "Ambi Wireless",
          "Symm 2",
          "Symm 2 Wireless",
          "Symm 1",
          "Symm 1 Wireless"
         ],
         "legendgroup": "Pwnage",
         "marker": {
          "color": "#FFA15A",
          "symbol": "circle"
         },
         "mode": "markers",
         "name": "Pwnage",
         "showlegend": true,
         "type": "scattergl",
         "x": {
          "bdata": "QJfZC4ADqz/YkKHjg+PPP/RlD2CUJQLAp72+rng96T/IHBbRoUfgP0OHHG+js/U/Ov2eD4Po8z/ljiBuu37rv6epcVO/WvC/e/U4WSDF6L/JT2Y1IIrsv2+mCGi/+ea/",
          "dtype": "f8"
         },
         "xaxis": "x",
         "y": {
          "bdata": "S4aqA19nAEDOG7Q1iKn6P/w2Y46GYvE/9zIfsvyCBEBKHJVNVmz1P/NUoea+Mtg/PbXZYiqk3D8sdRlhMSbvv3sZlT/TH+S/JqZXCo/c67+33oFAHSDqv+DponavIO+/",
          "dtype": "f8"
         },
         "yaxis": "y"
        },
        {
         "hovertemplate": "<b>%{hovertext}</b><br><br>Brand=Teevolution<br>แกนคุณลักษณะหลักที่ 1 (PC1)=%{x}<br>แกนคุณลักษณะหลักที่ 2 (PC2)=%{y}<extra></extra>",
         "hovertext": [
          "Terra",
          "Aria XD7",
          "Helios II Pro"
         ],
         "legendgroup": "Teevolution",
         "marker": {
          "color": "#19d3f3",
          "symbol": "circle"
         },
         "mode": "markers",
         "name": "Teevolution",
         "showlegend": true,
         "type": "scattergl",
         "x": {
          "bdata": "4+9qwmCl5j91rmCUQJbwv2oGMe9N0/K/",
          "dtype": "f8"
         },
         "xaxis": "x",
         "y": {
          "bdata": "ACz2HTO0AUB/27lE0fPQv6YzquxxGNQ/",
          "dtype": "f8"
         },
         "yaxis": "y"
        },
        {
         "hovertemplate": "<b>%{hovertext}</b><br><br>Brand=GravaStar<br>แกนคุณลักษณะหลักที่ 1 (PC1)=%{x}<br>แกนคุณลักษณะหลักที่ 2 (PC2)=%{y}<extra></extra>",
         "hovertext": [
          "Mercury X Pro",
          "Mercury X",
          "Mercury M2",
          "Mercury M1 Pro"
         ],
         "legendgroup": "GravaStar",
         "marker": {
          "color": "#FF6692",
          "symbol": "circle"
         },
         "mode": "markers",
         "name": "GravaStar",
         "showlegend": true,
         "type": "scattergl",
         "x": {
          "bdata": "DO/+18eO9b8b2601vpPsvxtDmoKn6KK/Lgx48tC+kr8=",
          "dtype": "f8"
         },
         "xaxis": "x",
         "y": {
          "bdata": "p4CMs6369T/+gqy6LJ/pPwqj0GE7u8q/5qSac6k3yb8=",
          "dtype": "f8"
         },
         "yaxis": "y"
        },
        {
         "hovertemplate": "<b>%{hovertext}</b><br><br>Brand=NZXT<br>แกนคุณลักษณะหลักที่ 1 (PC1)=%{x}<br>แกนคุณลักษณะหลักที่ 2 (PC2)=%{y}<extra></extra>",
         "hovertext": [
          "Lift Elite Wireless",
          "Lift 2 Ergo",
          "Lift 2 Symm",
          "Lift"
         ],
         "legendgroup": "NZXT",
         "marker": {
          "color": "#B6E880",
          "symbol": "circle"
         },
         "mode": "markers",
         "name": "NZXT",
         "showlegend": true,
         "type": "scattergl",
         "x": {
          "bdata": "gNS5F8jG+r/xhG1VhNboP2N75IgNDey/g8Iv/ekMo78=",
          "dtype": "f8"
         },
         "xaxis": "x",
         "y": {
          "bdata": "HaceMUS71z/chAxyVWD6PyvFv6TQse8/2t4NVd0Ixr8=",
          "dtype": "f8"
         },
         "yaxis": "y"
        },
        {
         "hovertemplate": "<b>%{hovertext}</b><br><br>Brand=strayfe<br>แกนคุณลักษณะหลักที่ 1 (PC1)=%{x}<br>แกนคุณลักษณะหลักที่ 2 (PC2)=%{y}<extra></extra>",
         "hovertext": [
          "M55 Pro 8k"
         ],
         "legendgroup": "strayfe",
         "marker": {
          "color": "#FF97FF",
          "symbol": "circle"
         },
         "mode": "markers",
         "name": "strayfe",
         "showlegend": true,
         "type": "scattergl",
         "x": {
          "bdata": "5DZpYkgO978=",
          "dtype": "f8"
         },
         "xaxis": "x",
         "y": {
          "bdata": "SE+nGYkV5z8=",
          "dtype": "f8"
         },
         "yaxis": "y"
        },
        {
         "hovertemplate": "<b>%{hovertext}</b><br><br>Brand=Waizowl<br>แกนคุณลักษณะหลักที่ 1 (PC1)=%{x}<br>แกนคุณลักษณะหลักที่ 2 (PC2)=%{y}<extra></extra>",
         "hovertext": [
          "OGM Cloud XS",
          "OGM One",
          "OGM Cloud V2",
          "OGM Pro V2",
          "OGM Cloud",
          "OGM Pro"
         ],
         "legendgroup": "Waizowl",
         "marker": {
          "color": "#FECB52",
          "symbol": "circle"
         },
         "mode": "markers",
         "name": "Waizowl",
         "showlegend": true,
         "type": "scattergl",
         "x": {
          "bdata": "Ox+N/hgxAcDz4H1nnwfkP+iGO4V8EPC/EAem743T7784eEN53Jvlv+iyGK/px7g/",
          "dtype": "f8"
         },
         "xaxis": "x",
         "y": {
          "bdata": "9gLaeZ4p5j+elFNq/ODpvwo92xUFHfM/MAMn5fgE9D9CamsYzyjnPz+7jfxiNMA/",
          "dtype": "f8"
         },
         "yaxis": "y"
        },
        {
         "hovertemplate": "<b>%{hovertext}</b><br><br>Brand=cOoLm0Dz<br>แกนคุณลักษณะหลักที่ 1 (PC1)=%{x}<br>แกนคุณลักษณะหลักที่ 2 (PC2)=%{y}<extra></extra>",
         "hovertext": [
          "OPt1p",
          "finalt1p"
         ],
         "legendgroup": "cOoLm0Dz",
         "marker": {
          "color": "#636efa",
          "symbol": "circle"
         },
         "mode": "markers",
         "name": "cOoLm0Dz",
         "showlegend": true,
         "type": "scattergl",
         "x": {
          "bdata": "E2bi0JSeC8CDsuYxWjwNwA==",
          "dtype": "f8"
         },
         "xaxis": "x",
         "y": {
          "bdata": "l/BYr0EztT9sH5eyLmzKPw==",
          "dtype": "f8"
         },
         "yaxis": "y"
        },
        {
         "hovertemplate": "<b>%{hovertext}</b><br><br>Brand=IPI<br>แกนคุณลักษณะหลักที่ 1 (PC1)=%{x}<br>แกนคุณลักษณะหลักที่ 2 (PC2)=%{y}<extra></extra>",
         "hovertext": [
          "Float"
         ],
         "legendgroup": "IPI",
         "marker": {
          "color": "#EF553B",
          "symbol": "circle"
         },
         "mode": "markers",
         "name": "IPI",
         "showlegend": true,
         "type": "scattergl",
         "x": {
          "bdata": "E1KFpnUXAcA=",
          "dtype": "f8"
         },
         "xaxis": "x",
         "y": {
          "bdata": "RgqFVYk85z8=",
          "dtype": "f8"
         },
         "yaxis": "y"
        },
        {
         "hovertemplate": "<b>%{hovertext}</b><br><br>Brand=PHYLINA<br>แกนคุณลักษณะหลักที่ 1 (PC1)=%{x}<br>แกนคุณลักษณะหลักที่ 2 (PC2)=%{y}<extra></extra>",
         "hovertext": [
          "S480",
          "S450 4K",
          "S450"
         ],
         "legendgroup": "PHYLINA",
         "marker": {
          "color": "#00cc96",
          "symbol": "circle"
         },
         "mode": "markers",
         "name": "PHYLINA",
         "showlegend": true,
         "type": "scattergl",
         "x": {
          "bdata": "EyEOwjH0AMDqKK9oc+nzv7QDnhfry/C/",
          "dtype": "f8"
         },
         "xaxis": "x",
         "y": {
          "bdata": "aIKWI0fe8z9FVmacOvbaP2ivEshJfcY/",
          "dtype": "f8"
         },
         "yaxis": "y"
        },
        {
         "hovertemplate": "<b>%{hovertext}</b><br><br>Brand=Amazon<br>แกนคุณลักษณะหลักที่ 1 (PC1)=%{x}<br>แกนคุณลักษณะหลักที่ 2 (PC2)=%{y}<extra></extra>",
         "hovertext": [
          "Basics Mouse"
         ],
         "legendgroup": "Amazon",
         "marker": {
          "color": "#ab63fa",
          "symbol": "circle"
         },
         "mode": "markers",
         "name": "Amazon",
         "showlegend": true,
         "type": "scattergl",
         "x": {
          "bdata": "h+0uv2iB5b8=",
          "dtype": "f8"
         },
         "xaxis": "x",
         "y": {
          "bdata": "rk1EdLEvGsA=",
          "dtype": "f8"
         },
         "yaxis": "y"
        },
        {
         "hovertemplate": "<b>%{hovertext}</b><br><br>Brand=TMKB<br>แกนคุณลักษณะหลักที่ 1 (PC1)=%{x}<br>แกนคุณลักษณะหลักที่ 2 (PC2)=%{y}<extra></extra>",
         "hovertext": [
          "Falcon M1SE"
         ],
         "legendgroup": "TMKB",
         "marker": {
          "color": "#FFA15A",
          "symbol": "circle"
         },
         "mode": "markers",
         "name": "TMKB",
         "showlegend": true,
         "type": "scattergl",
         "x": {
          "bdata": "45gbrZBHkD8=",
          "dtype": "f8"
         },
         "xaxis": "x",
         "y": {
          "bdata": "7Gwww/DW4r8=",
          "dtype": "f8"
         },
         "yaxis": "y"
        },
        {
         "hovertemplate": "<b>%{hovertext}</b><br><br>Brand=Madlions<br>แกนคุณลักษณะหลักที่ 1 (PC1)=%{x}<br>แกนคุณลักษณะหลักที่ 2 (PC2)=%{y}<extra></extra>",
         "hovertext": [
          "Mad G Max",
          "Mad G"
         ],
         "legendgroup": "Madlions",
         "marker": {
          "color": "#19d3f3",
          "symbol": "circle"
         },
         "mode": "markers",
         "name": "Madlions",
         "showlegend": true,
         "type": "scattergl",
         "x": {
          "bdata": "VfKHDQGe8r8hq9G4rHjqvw==",
          "dtype": "f8"
         },
         "xaxis": "x",
         "y": {
          "bdata": "1Dr5kmiG8z8ucUibs9PoPw==",
          "dtype": "f8"
         },
         "yaxis": "y"
        },
        {
         "hovertemplate": "<b>%{hovertext}</b><br><br>Brand=Mountain<br>แกนคุณลักษณะหลักที่ 1 (PC1)=%{x}<br>แกนคุณลักษณะหลักที่ 2 (PC2)=%{y}<extra></extra>",
         "hovertext": [
          "Makalu Max",
          "Makalu 67"
         ],
         "legendgroup": "Mountain",
         "marker": {
          "color": "#FF6692",
          "symbol": "circle"
         },
         "mode": "markers",
         "name": "Mountain",
         "showlegend": true,
         "type": "scattergl",
         "x": {
          "bdata": "mqbh1WOKCECeRTEN0ev+Pw==",
          "dtype": "f8"
         },
         "xaxis": "x",
         "y": {
          "bdata": "xfYoiOZxsj8pGrK9QonuPw==",
          "dtype": "f8"
         },
         "yaxis": "y"
        },
        {
         "hovertemplate": "<b>%{hovertext}</b><br><br>Brand=Edifier<br>แกนคุณลักษณะหลักที่ 1 (PC1)=%{x}<br>แกนคุณลักษณะหลักที่ 2 (PC2)=%{y}<extra></extra>",
         "hovertext": [
          "Hecate G5M Pro",
          "Hecate G5M",
          "Hecate G3M Pro"
         ],
         "legendgroup": "Edifier",
         "marker": {
          "color": "#B6E880",
          "symbol": "circle"
         },
         "mode": "markers",
         "name": "Edifier",
         "showlegend": true,
         "type": "scattergl",
         "x": {
          "bdata": "WyvIesCl5b8J2CZkd/Hgv5QZ25ItgPC/",
          "dtype": "f8"
         },
         "xaxis": "x",
         "y": {
          "bdata": "TwGgUF7o1j8s1qiqLh/FP+HCNptUzNW/",
          "dtype": "f8"
         },
         "yaxis": "y"
        },
        {
         "hovertemplate": "<b>%{hovertext}</b><br><br>Brand=EVGA<br>แกนคุณลักษณะหลักที่ 1 (PC1)=%{x}<br>แกนคุณลักษณะหลักที่ 2 (PC2)=%{y}<extra></extra>",
         "hovertext": [
          "X20",
          "X17",
          "X15",
          "X12"
         ],
         "legendgroup": "EVGA",
         "marker": {
          "color": "#FF97FF",
          "symbol": "circle"
         },
         "mode": "markers",
         "name": "EVGA",
         "showlegend": true,
         "type": "scattergl",
         "x": {
          "bdata": "MzCuGKKhC0DqHq4/62kEQLnxD0YdbA1A4Gn+kbwApz8=",
          "dtype": "f8"
         },
         "xaxis": "x",
         "y": {
          "bdata": "ESkH/vHd07+6o4poufzmP8A3iDKJOvE/mUCxrbEf3T8=",
          "dtype": "f8"
         },
         "yaxis": "y"
        },
        {
         "hovertemplate": "<b>%{hovertext}</b><br><br>Brand=8BitDo<br>แกนคุณลักษณะหลักที่ 1 (PC1)=%{x}<br>แกนคุณลักษณะหลักที่ 2 (PC2)=%{y}<extra></extra>",
         "hovertext": [
          "Retro R8"
         ],
         "legendgroup": "8BitDo",
         "marker": {
          "color": "#FECB52",
          "symbol": "circle"
         },
         "mode": "markers",
         "name": "8BitDo",
         "showlegend": true,
         "type": "scattergl",
         "x": {
          "bdata": "5ijjEWyH9r8=",
          "dtype": "f8"
         },
         "xaxis": "x",
         "y": {
          "bdata": "1DKqEus53L8=",
          "dtype": "f8"
         },
         "yaxis": "y"
        },
        {
         "hovertemplate": "<b>%{hovertext}</b><br><br>Brand=ANTGAMER<br>แกนคุณลักษณะหลักที่ 1 (PC1)=%{x}<br>แกนคุณลักษณะหลักที่ 2 (PC2)=%{y}<extra></extra>",
         "hovertext": [
          "AGM535R"
         ],
         "legendgroup": "ANTGAMER",
         "marker": {
          "color": "#636efa",
          "symbol": "circle"
         },
         "mode": "markers",
         "name": "ANTGAMER",
         "showlegend": true,
         "type": "scattergl",
         "x": {
          "bdata": "tz46oa0r778=",
          "dtype": "f8"
         },
         "xaxis": "x",
         "y": {
          "bdata": "CwBaZAqm8j8=",
          "dtype": "f8"
         },
         "yaxis": "y"
        },
        {
         "hovertemplate": "<b>%{hovertext}</b><br><br>Brand=RAKK<br>แกนคุณลักษณะหลักที่ 1 (PC1)=%{x}<br>แกนคุณลักษณะหลักที่ 2 (PC2)=%{y}<extra></extra>",
         "hovertext": [
          "Talan Aero",
          "Kaptan Wired",
          "Talan Air",
          "Talan",
          "Tanaw",
          "Kaptan Trimode",
          "MAG-AN",
          "BULUS",
          "Gahum"
         ],
         "legendgroup": "RAKK",
         "marker": {
          "color": "#EF553B",
          "symbol": "circle"
         },
         "mode": "markers",
         "name": "RAKK",
         "showlegend": true,
         "type": "scattergl",
         "x": {
          "bdata": "AQwGjYhD8b/SlUfAbKn8P8UjDT80uMi/3howQBqDzL/Fs0VmOCr1v7dErSG5VNE/rsh3C1UN+7+2Yw+Gyw66v9GpPl8s7eK/",
          "dtype": "f8"
         },
         "xaxis": "x",
         "y": {
          "bdata": "u+y4JLwNhz/7HPsX3rzFP5/fP+vp29S/pCHIqXdF7L9GBJdGx2rOvxLH+5l8COE/h9Ca+cxg8L91NtNGG2rzv6ywYSF4MdE/",
          "dtype": "f8"
         },
         "yaxis": "y"
        },
        {
         "hovertemplate": "<b>%{hovertext}</b><br><br>Brand=Scyrox<br>แกนคุณลักษณะหลักที่ 1 (PC1)=%{x}<br>แกนคุณลักษณะหลักที่ 2 (PC2)=%{y}<extra></extra>",
         "hovertext": [
          "V6",
          "V8"
         ],
         "legendgroup": "Scyrox",
         "marker": {
          "color": "#00cc96",
          "symbol": "circle"
         },
         "mode": "markers",
         "name": "Scyrox",
         "showlegend": true,
         "type": "scattergl",
         "x": {
          "bdata": "8eivD62//78IE+a7iTUBwA==",
          "dtype": "f8"
         },
         "xaxis": "x",
         "y": {
          "bdata": "hsF1x42t8j/bhy044q/yPw==",
          "dtype": "f8"
         },
         "yaxis": "y"
        },
        {
         "hovertemplate": "<b>%{hovertext}</b><br><br>Brand=Ragnok<br>แกนคุณลักษณะหลักที่ 1 (PC1)=%{x}<br>แกนคุณลักษณะหลักที่ 2 (PC2)=%{y}<extra></extra>",
         "hovertext": [
          "ErgoStrike7",
          "2 (FireGrip)"
         ],
         "legendgroup": "Ragnok",
         "marker": {
          "color": "#ab63fa",
          "symbol": "circle"
         },
         "mode": "markers",
         "name": "Ragnok",
         "showlegend": true,
         "type": "scattergl",
         "x": {
          "bdata": "DmQnAf0lMkBfOlUp4FYsQA==",
          "dtype": "f8"
         },
         "xaxis": "x",
         "y": {
          "bdata": "Ps9AxQFUJkCaeyaQXmkiQA==",
          "dtype": "f8"
         },
         "yaxis": "y"
        },
        {
         "hovertemplate": "<b>%{hovertext}</b><br><br>Brand=Aigo<br>แกนคุณลักษณะหลักที่ 1 (PC1)=%{x}<br>แกนคุณลักษณะหลักที่ 2 (PC2)=%{y}<extra></extra>",
         "hovertext": [
          "GM80 Pro",
          "GM80 Plus",
          "GM80"
         ],
         "legendgroup": "Aigo",
         "marker": {
          "color": "#FFA15A",
          "symbol": "circle"
         },
         "mode": "markers",
         "name": "Aigo",
         "showlegend": true,
         "type": "scattergl",
         "x": {
          "bdata": "eCe/j8Dh97/RCWOVf2fyv6nk9AugAvS/",
          "dtype": "f8"
         },
         "xaxis": "x",
         "y": {
          "bdata": "18zmT1kbq79Sn54vaIPlv5onrP+mweG/",
          "dtype": "f8"
         },
         "yaxis": "y"
        },
        {
         "hovertemplate": "<b>%{hovertext}</b><br><br>Brand=LTC<br>แกนคุณลักษณะหลักที่ 1 (PC1)=%{x}<br>แกนคุณลักษณะหลักที่ 2 (PC2)=%{y}<extra></extra>",
         "hovertext": [
          "GM022"
         ],
         "legendgroup": "LTC",
         "marker": {
          "color": "#19d3f3",
          "symbol": "circle"
         },
         "mode": "markers",
         "name": "LTC",
         "showlegend": true,
         "type": "scattergl",
         "x": {
          "bdata": "GUjOYDCS7b8=",
          "dtype": "f8"
         },
         "xaxis": "x",
         "y": {
          "bdata": "/W99t3FklD8=",
          "dtype": "f8"
         },
         "yaxis": "y"
        },
        {
         "hovertemplate": "<b>%{hovertext}</b><br><br>Brand=Swiftpoint<br>แกนคุณลักษณะหลักที่ 1 (PC1)=%{x}<br>แกนคุณลักษณะหลักที่ 2 (PC2)=%{y}<extra></extra>",
         "hovertext": [
          "Z2",
          "Creator",
          "Tracer",
          "ErgoPoint"
         ],
         "legendgroup": "Swiftpoint",
         "marker": {
          "color": "#FF6692",
          "symbol": "circle"
         },
         "mode": "markers",
         "name": "Swiftpoint",
         "showlegend": true,
         "type": "scattergl",
         "x": {
          "bdata": "Ol+5kTCYEUDu76uy+I8SQO7vq7L4jxJAUkPs7EcXG0A=",
          "dtype": "f8"
         },
         "xaxis": "x",
         "y": {
          "bdata": "1ScjfW278D/elJiP6WbhP96UmI/pZuE/ZHkXd4AlBsA=",
          "dtype": "f8"
         },
         "yaxis": "y"
        },
        {
         "hovertemplate": "<b>%{hovertext}</b><br><br>Brand=MACHENIKE<br>แกนคุณลักษณะหลักที่ 1 (PC1)=%{x}<br>แกนคุณลักษณะหลักที่ 2 (PC2)=%{y}<extra></extra>",
         "hovertext": [
          "M7 Pro",
          "L8 Max",
          "L8 Air",
          "L8 Pro",
          "L7 Air"
         ],
         "legendgroup": "MACHENIKE",
         "marker": {
          "color": "#B6E880",
          "symbol": "circle"
         },
         "mode": "markers",
         "name": "MACHENIKE",
         "showlegend": true,
         "type": "scattergl",
         "x": {
          "bdata": "B1GBLo8R4b+mW/nCS4n9PxVkkFm7udE/+tp8d0gU/T/lzm98SEf2vw==",
          "dtype": "f8"
         },
         "xaxis": "x",
         "y": {
          "bdata": "+szdc2It3b+1veoK/U31P714LBt+r9I/ITGjxBPT2D+o/PCxc5TFPw==",
          "dtype": "f8"
         },
         "yaxis": "y"
        },
        {
         "hovertemplate": "<b>%{hovertext}</b><br><br>Brand=Xiaomi<br>แกนคุณลักษณะหลักที่ 1 (PC1)=%{x}<br>แกนคุณลักษณะหลักที่ 2 (PC2)=%{y}<extra></extra>",
         "hovertext": [
          "X1"
         ],
         "legendgroup": "Xiaomi",
         "marker": {
          "color": "#FF97FF",
          "symbol": "circle"
         },
         "mode": "markers",
         "name": "Xiaomi",
         "showlegend": true,
         "type": "scattergl",
         "x": {
          "bdata": "V0/B+NfM6r8=",
          "dtype": "f8"
         },
         "xaxis": "x",
         "y": {
          "bdata": "LoplvLjT6D8=",
          "dtype": "f8"
         },
         "yaxis": "y"
        },
        {
         "hovertemplate": "<b>%{hovertext}</b><br><br>Brand=Apple<br>แกนคุณลักษณะหลักที่ 1 (PC1)=%{x}<br>แกนคุณลักษณะหลักที่ 2 (PC2)=%{y}<extra></extra>",
         "hovertext": [
          "Magic Mouse"
         ],
         "legendgroup": "Apple",
         "marker": {
          "color": "#FECB52",
          "symbol": "circle"
         },
         "mode": "markers",
         "name": "Apple",
         "showlegend": true,
         "type": "scattergl",
         "x": {
          "bdata": "Eag082V/vr8=",
          "dtype": "f8"
         },
         "xaxis": "x",
         "y": {
          "bdata": "dgDnvLscJcA=",
          "dtype": "f8"
         },
         "yaxis": "y"
        },
        {
         "hovertemplate": "<b>%{hovertext}</b><br><br>Brand=HUO<br>แกนคุณลักษณะหลักที่ 1 (PC1)=%{x}<br>แกนคุณลักษณะหลักที่ 2 (PC2)=%{y}<extra></extra>",
         "hovertext": [
          "JI E-YOOSO"
         ],
         "legendgroup": "HUO",
         "marker": {
          "color": "#636efa",
          "symbol": "circle"
         },
         "mode": "markers",
         "name": "HUO",
         "showlegend": true,
         "type": "scattergl",
         "x": {
          "bdata": "B8pXf0oI6r8=",
          "dtype": "f8"
         },
         "xaxis": "x",
         "y": {
          "bdata": "ZGOoVDRg4D8=",
          "dtype": "f8"
         },
         "yaxis": "y"
        },
        {
         "hovertemplate": "<b>%{hovertext}</b><br><br>Brand=Nixeus<br>แกนคุณลักษณะหลักที่ 1 (PC1)=%{x}<br>แกนคุณลักษณะหลักที่ 2 (PC2)=%{y}<extra></extra>",
         "hovertext": [
          "Revel Fit",
          "Revel-X",
          "Revel"
         ],
         "legendgroup": "Nixeus",
         "marker": {
          "color": "#EF553B",
          "symbol": "circle"
         },
         "mode": "markers",
         "name": "Nixeus",
         "showlegend": true,
         "type": "scattergl",
         "x": {
          "bdata": "DjCgJgsqBkBiK7Q0X+S5vycZu3bdT+A/",
          "dtype": "f8"
         },
         "xaxis": "x",
         "y": {
          "bdata": "KyC8IrSTgj+y0qXTZhvwvyrYmj+Peue/",
          "dtype": "f8"
         },
         "yaxis": "y"
        },
        {
         "hovertemplate": "<b>%{hovertext}</b><br><br>Brand=AIM1<br>แกนคุณลักษณะหลักที่ 1 (PC1)=%{x}<br>แกนคุณลักษณะหลักที่ 2 (PC2)=%{y}<extra></extra>",
         "hovertext": [
          "Shigure"
         ],
         "legendgroup": "AIM1",
         "marker": {
          "color": "#00cc96",
          "symbol": "circle"
         },
         "mode": "markers",
         "name": "AIM1",
         "showlegend": true,
         "type": "scattergl",
         "x": {
          "bdata": "2kZAr+Xw+r8=",
          "dtype": "f8"
         },
         "xaxis": "x",
         "y": {
          "bdata": "qLeJecYD8D8=",
          "dtype": "f8"
         },
         "yaxis": "y"
        },
        {
         "hovertemplate": "<b>%{hovertext}</b><br><br>Brand=CC<br>แกนคุณลักษณะหลักที่ 1 (PC1)=%{x}<br>แกนคุณลักษณะหลักที่ 2 (PC2)=%{y}<extra></extra>",
         "hovertext": [
          "Beanmouse LHD Small",
          "Beanmouse Small",
          "Beanmouse LHD Large",
          "Beanmouse Large"
         ],
         "legendgroup": "CC",
         "marker": {
          "color": "#ab63fa",
          "symbol": "circle"
         },
         "mode": "markers",
         "name": "CC",
         "showlegend": true,
         "type": "scattergl",
         "x": {
          "bdata": "Ip2UR/wJEsAinZRH/AkSwEvbax1D0QvAS9trHUPRC8A=",
          "dtype": "f8"
         },
         "xaxis": "x",
         "y": {
          "bdata": "QrNp8frv979Cs2nx+u/3v+vPs+gA/OO/68+z6AD8478=",
          "dtype": "f8"
         },
         "yaxis": "y"
        },
        {
         "hovertemplate": "<b>%{hovertext}</b><br><br>Brand=Xtrfy<br>แกนคุณลักษณะหลักที่ 1 (PC1)=%{x}<br>แกนคุณลักษณะหลักที่ 2 (PC2)=%{y}<extra></extra>",
         "hovertext": [
          "M42",
          "M42 (lower back)",
          "M8 Wireless",
          "M42 Wireless",
          "M4",
          "M4 Wireless",
          "MZ1",
          "MZ1 Wireless"
         ],
         "legendgroup": "Xtrfy",
         "marker": {
          "color": "#FFA15A",
          "symbol": "circle"
         },
         "mode": "markers",
         "name": "Xtrfy",
         "showlegend": true,
         "type": "scattergl",
         "x": {
          "bdata": "GxZgUfVP7L8bFmBR9U/sv6RgXm6k0/S//rnPPlag57/BchMKCYL0P3u9m/JccPQ/WGHe7dKE+r9k5mPqVs34vw==",
          "dtype": "f8"
         },
         "xaxis": "x",
         "y": {
          "bdata": "HIOW59ET4r8cg5bn0RPiv8bWP09wSMa/zYfl5Ej15b9Nd/QO5062PzFB9xGKO8I/tqDMjNCM8r+ORbapGfvzvw==",
          "dtype": "f8"
         },
         "yaxis": "y"
        },
        {
         "hovertemplate": "<b>%{hovertext}</b><br><br>Brand=Cooler<br>แกนคุณลักษณะหลักที่ 1 (PC1)=%{x}<br>แกนคุณลักษณะหลักที่ 2 (PC2)=%{y}<extra></extra>",
         "hovertext": [
          "Master CM310",
          "Master MM731",
          "Master MM730",
          "Master MM711 Lite",
          "Master MM831",
          "Master MM530",
          "Master MM531",
          "Master MM830",
          "Master CM110",
          "Master MM711",
          "Master MM710",
          "Master MM310",
          "Master MM720",
          "Master MM712"
         ],
         "legendgroup": "Cooler",
         "marker": {
          "color": "#19d3f3",
          "symbol": "circle"
         },
         "mode": "markers",
         "name": "Cooler",
         "showlegend": true,
         "type": "scattergl",
         "x": {
          "bdata": "UByEH9e49D/X5MVGzqTyPyf08qpFru4/OxOJjjGm6r9dG3FKojkHQN7OHDZCU/w/RL0gPDCe+T+a29zMQ6YVQBC3yWKqZ60/PR5aP+cr7b/+MDBAWV/xvyi0MvEnNL8/3Wb68dlc6D+LAsfpKTbwvw==",
          "dtype": "f8"
         },
         "xaxis": "x",
         "y": {
          "bdata": "DECKZ4qQ6r8K6xoGfnrjP0qORc9o/eg/MjK30i2Z6r+5KqbMfWTBP2aJErBrr+6/Tm35JL2c6L9Ns/ptoELLP4IMJBKd0f6/bWFO1yKj5L/ozEXuNlvcv4c/r1LXbtw/6zhnv5IR0D/0B14lI7Pevw==",
          "dtype": "f8"
         },
         "yaxis": "y"
        },
        {
         "hovertemplate": "<b>%{hovertext}</b><br><br>Brand=Higround<br>แกนคุณลักษณะหลักที่ 1 (PC1)=%{x}<br>แกนคุณลักษณะหลักที่ 2 (PC2)=%{y}<extra></extra>",
         "hovertext": [
          "Yuma"
         ],
         "legendgroup": "Higround",
         "marker": {
          "color": "#FF6692",
          "symbol": "circle"
         },
         "mode": "markers",
         "name": "Higround",
         "showlegend": true,
         "type": "scattergl",
         "x": {
          "bdata": "eQtYmJ637b8=",
          "dtype": "f8"
         },
         "xaxis": "x",
         "y": {
          "bdata": "HtcjXfad6j8=",
          "dtype": "f8"
         },
         "yaxis": "y"
        },
        {
         "hovertemplate": "<b>%{hovertext}</b><br><br>Brand=COMMATECH<br>แกนคุณลักษณะหลักที่ 1 (PC1)=%{x}<br>แกนคุณลักษณะหลักที่ 2 (PC2)=%{y}<extra></extra>",
         "hovertext": [
          "FKMINI4"
         ],
         "legendgroup": "COMMATECH",
         "marker": {
          "color": "#B6E880",
          "symbol": "circle"
         },
         "mode": "markers",
         "name": "COMMATECH",
         "showlegend": true,
         "type": "scattergl",
         "x": {
          "bdata": "4T9QKkcPBsA=",
          "dtype": "f8"
         },
         "xaxis": "x",
         "y": {
          "bdata": "wCI68Kxy5L8=",
          "dtype": "f8"
         },
         "yaxis": "y"
        },
        {
         "hovertemplate": "<b>%{hovertext}</b><br><br>Brand=Turtle<br>แกนคุณลักษณะหลักที่ 1 (PC1)=%{x}<br>แกนคุณลักษณะหลักที่ 2 (PC2)=%{y}<extra></extra>",
         "hovertext": [
          "Beach Kone II Air",
          "Beach Kone II",
          "Beach Kone XP Air",
          "Beach Burst II Air",
          "Beach Pure Air",
          "Beach Pure SEL"
         ],
         "legendgroup": "Turtle",
         "marker": {
          "color": "#FF97FF",
          "symbol": "circle"
         },
         "mode": "markers",
         "name": "Turtle",
         "showlegend": true,
         "type": "scattergl",
         "x": {
          "bdata": "LN4WJDP5EECxpe1ENZEOQIcNct+9SgpA/jmiXw3t57+xQ+NuaXfqP5rqS8jcUPA/",
          "dtype": "f8"
         },
         "xaxis": "x",
         "y": {
          "bdata": "fz2KhMBq9T/xFUyGTrj7P3vDlVrIWeA/bW8PqKd/4z+M9aMp4SbsP6UPwfvfTNc/",
          "dtype": "f8"
         },
         "yaxis": "y"
        },
        {
         "hovertemplate": "<b>%{hovertext}</b><br><br>Brand=xtro<br>แกนคุณลักษณะหลักที่ 1 (PC1)=%{x}<br>แกนคุณลักษณะหลักที่ 2 (PC2)=%{y}<extra></extra>",
         "hovertext": [
          "Eris"
         ],
         "legendgroup": "xtro",
         "marker": {
          "color": "#FECB52",
          "symbol": "circle"
         },
         "mode": "markers",
         "name": "xtro",
         "showlegend": true,
         "type": "scattergl",
         "x": {
          "bdata": "3WU3LRPE8z8=",
          "dtype": "f8"
         },
         "xaxis": "x",
         "y": {
          "bdata": "34enKFgh5D8=",
          "dtype": "f8"
         },
         "yaxis": "y"
        },
        {
         "hovertemplate": "<b>%{hovertext}</b><br><br>Brand=Noir<br>แกนคุณลักษณะหลักที่ 1 (PC1)=%{x}<br>แกนคุณลักษณะหลักที่ 2 (PC2)=%{y}<extra></extra>",
         "hovertext": [
          "M1",
          "M1 Lite",
          "M2 MG",
          "M2 Pro",
          "M2"
         ],
         "legendgroup": "Noir",
         "marker": {
          "color": "#636efa",
          "symbol": "circle"
         },
         "mode": "markers",
         "name": "Noir",
         "showlegend": true,
         "type": "scattergl",
         "x": {
          "bdata": "63xGkvDm57+ZS/kxouziv9fRCBwZs/q/GBCGbd5Y9b/h6nQcVjvyvw==",
          "dtype": "f8"
         },
         "xaxis": "x",
         "y": {
          "bdata": "ANuB5oE06L9ooK8e80Pxvy3O/DhPEds/W5BFnT0NgT8WpOWWV17Ovw==",
          "dtype": "f8"
         },
         "yaxis": "y"
        },
        {
         "hovertemplate": "<b>%{hovertext}</b><br><br>Brand=Vancer<br>แกนคุณลักษณะหลักที่ 1 (PC1)=%{x}<br>แกนคุณลักษณะหลักที่ 2 (PC2)=%{y}<extra></extra>",
         "hovertext": [
          "x Arbiter Studio AKITSU",
          "Thrash",
          "Groove",
          "Gretxa",
          "Gemini Castor",
          "Gemini Pollux"
         ],
         "legendgroup": "Vancer",
         "marker": {
          "color": "#EF553B",
          "symbol": "circle"
         },
         "mode": "markers",
         "name": "Vancer",
         "showlegend": true,
         "type": "scattergl",
         "x": {
          "bdata": "hbilMUVvA8CSSVC4nCDzv4zxklM2kvK/GODoz4OK2r9+2axJ2PD2v9f33+twxNU/",
          "dtype": "f8"
         },
         "xaxis": "x",
         "y": {
          "bdata": "xMpu45ET5j9RlJY3KyjlP3RFVLJ93+c/4aLn0wvW8L8amNBAXzHCv5w+kDiTUeQ/",
          "dtype": "f8"
         },
         "yaxis": "y"
        },
        {
         "hovertemplate": "<b>%{hovertext}</b><br><br>Brand=GANSS<br>แกนคุณลักษณะหลักที่ 1 (PC1)=%{x}<br>แกนคุณลักษณะหลักที่ 2 (PC2)=%{y}<extra></extra>",
         "hovertext": [
          "FLX3 4K",
          "FLX3"
         ],
         "legendgroup": "GANSS",
         "marker": {
          "color": "#00cc96",
          "symbol": "circle"
         },
         "mode": "markers",
         "name": "GANSS",
         "showlegend": true,
         "type": "scattergl",
         "x": {
          "bdata": "JMLIGxB+4T+PDOu9ILnnPw==",
          "dtype": "f8"
         },
         "xaxis": "x",
         "y": {
          "bdata": "RihLUPgh8T9G0WfEJWjqPw==",
          "dtype": "f8"
         },
         "yaxis": "y"
        },
        {
         "hovertemplate": "<b>%{hovertext}</b><br><br>Brand=IFYOO<br>แกนคุณลักษณะหลักที่ 1 (PC1)=%{x}<br>แกนคุณลักษณะหลักที่ 2 (PC2)=%{y}<extra></extra>",
         "hovertext": [
          "G63",
          "G03 (Long)",
          "G03 (Short)"
         ],
         "legendgroup": "IFYOO",
         "marker": {
          "color": "#ab63fa",
          "symbol": "circle"
         },
         "mode": "markers",
         "name": "IFYOO",
         "showlegend": true,
         "type": "scattergl",
         "x": {
          "bdata": "Q0l4gaDm8b8wPk4bm/yiP9gTLcec0c6/",
          "dtype": "f8"
         },
         "xaxis": "x",
         "y": {
          "bdata": "ktXU09z90D8aDn/MkVDCv+BcfnqOvt+/",
          "dtype": "f8"
         },
         "yaxis": "y"
        },
        {
         "hovertemplate": "<b>%{hovertext}</b><br><br>Brand=Monka<br>แกนคุณลักษณะหลักที่ 1 (PC1)=%{x}<br>แกนคุณลักษณะหลักที่ 2 (PC2)=%{y}<extra></extra>",
         "hovertext": [
          "M1 Pro Max",
          "M1 Pro",
          "M1",
          "M3 Pro",
          "M3",
          "G995W"
         ],
         "legendgroup": "Monka",
         "marker": {
          "color": "#FFA15A",
          "symbol": "circle"
         },
         "mode": "markers",
         "name": "Monka",
         "showlegend": true,
         "type": "scattergl",
         "x": {
          "bdata": "rJjZDT7z9b+smNkNPvP1v3RzyLy11fK/3vulIRJB9b+p1pTQiSPyv6cGQKVJCe+/",
          "dtype": "f8"
         },
         "xaxis": "x",
         "y": {
          "bdata": "NL69EZi6wz80vr0RmLrDP9h9+L0mabe/25+KyorF0j9TCm2RqG+oPx2yM6d5X5M/",
          "dtype": "f8"
         },
         "yaxis": "y"
        },
        {
         "hovertemplate": "<b>%{hovertext}</b><br><br>Brand=MSI<br>แกนคุณลักษณะหลักที่ 1 (PC1)=%{x}<br>แกนคุณลักษณะหลักที่ 2 (PC2)=%{y}<extra></extra>",
         "hovertext": [
          "Clutch GM41"
         ],
         "legendgroup": "MSI",
         "marker": {
          "color": "#19d3f3",
          "symbol": "circle"
         },
         "mode": "markers",
         "name": "MSI",
         "showlegend": true,
         "type": "scattergl",
         "x": {
          "bdata": "L+uG4DOWxT8=",
          "dtype": "f8"
         },
         "xaxis": "x",
         "y": {
          "bdata": "aCpFaq33sr8=",
          "dtype": "f8"
         },
         "yaxis": "y"
        },
        {
         "hovertemplate": "<b>%{hovertext}</b><br><br>Brand=Nitrite<br>แกนคุณลักษณะหลักที่ 1 (PC1)=%{x}<br>แกนคุณลักษณะหลักที่ 2 (PC2)=%{y}<extra></extra>",
         "hovertext": [
          "Labs Carbon XT1 Wireless",
          "Labs Carbon XT1 Wired"
         ],
         "legendgroup": "Nitrite",
         "marker": {
          "color": "#FF6692",
          "symbol": "circle"
         },
         "mode": "markers",
         "name": "Nitrite",
         "showlegend": true,
         "type": "scattergl",
         "x": {
          "bdata": "k/jVEY4cDMCnNBRnxowMwA==",
          "dtype": "f8"
         },
         "xaxis": "x",
         "y": {
          "bdata": "IAxU0d6y4j+uGogOi+/kPw==",
          "dtype": "f8"
         },
         "yaxis": "y"
        },
        {
         "hovertemplate": "<b>%{hovertext}</b><br><br>Brand=TenTen<br>แกนคุณลักษณะหลักที่ 1 (PC1)=%{x}<br>แกนคุณลักษณะหลักที่ 2 (PC2)=%{y}<extra></extra>",
         "hovertext": [
          "Zero Gravity"
         ],
         "legendgroup": "TenTen",
         "marker": {
          "color": "#B6E880",
          "symbol": "circle"
         },
         "mode": "markers",
         "name": "TenTen",
         "showlegend": true,
         "type": "scattergl",
         "x": {
          "bdata": "ZJtY5rTsAMA=",
          "dtype": "f8"
         },
         "xaxis": "x",
         "y": {
          "bdata": "6L5BdhNl+T8=",
          "dtype": "f8"
         },
         "yaxis": "y"
        },
        {
         "hovertemplate": "<b>%{hovertext}</b><br><br>Brand=Nyfter<br>แกนคุณลักษณะหลักที่ 1 (PC1)=%{x}<br>แกนคุณลักษณะหลักที่ 2 (PC2)=%{y}<extra></extra>",
         "hovertext": [
          "ELT 4K"
         ],
         "legendgroup": "Nyfter",
         "marker": {
          "color": "#FF97FF",
          "symbol": "circle"
         },
         "mode": "markers",
         "name": "Nyfter",
         "showlegend": true,
         "type": "scattergl",
         "x": {
          "bdata": "4t6jot717b8=",
          "dtype": "f8"
         },
         "xaxis": "x",
         "y": {
          "bdata": "v+dpJYV82T8=",
          "dtype": "f8"
         },
         "yaxis": "y"
        },
        {
         "hovertemplate": "<b>%{hovertext}</b><br><br>Brand=IROK<br>แกนคุณลักษณะหลักที่ 1 (PC1)=%{x}<br>แกนคุณลักษณะหลักที่ 2 (PC2)=%{y}<extra></extra>",
         "hovertext": [
          "HE3 PRO",
          "HE3",
          "HE3 SE"
         ],
         "legendgroup": "IROK",
         "marker": {
          "color": "#FECB52",
          "symbol": "circle"
         },
         "mode": "markers",
         "name": "IROK",
         "showlegend": true,
         "type": "scattergl",
         "x": {
          "bdata": "9tGqh5vs9L+/rJk2E8/xv1/lG4m3xOq/",
          "dtype": "f8"
         },
         "xaxis": "x",
         "y": {
          "bdata": "ZlR5ZBKk0j+vruJg5WOnP0cYJrYe5eC/",
          "dtype": "f8"
         },
         "yaxis": "y"
        },
        {
         "hovertemplate": "<b>%{hovertext}</b><br><br>Brand=Alienware<br>แกนคุณลักษณะหลักที่ 1 (PC1)=%{x}<br>แกนคุณลักษณะหลักที่ 2 (PC2)=%{y}<extra></extra>",
         "hovertext": [
          "Pro Wireless",
          "AW620M",
          "AW610M",
          "AW720M",
          "AW320M"
         ],
         "legendgroup": "Alienware",
         "marker": {
          "color": "#636efa",
          "symbol": "circle"
         },
         "mode": "markers",
         "name": "Alienware",
         "showlegend": true,
         "type": "scattergl",
         "x": {
          "bdata": "mzDU5BRD77+d6Sy/qPMJQPHBWiDVwAZAI5oosQdYyL9Fii//u/Dbvw==",
          "dtype": "f8"
         },
         "xaxis": "x",
         "y": {
          "bdata": "QKDoEU0W7D9+T4rHOjXwP99hEpy18LI/mjzjcQyi6r94LYjsR0flvw==",
          "dtype": "f8"
         },
         "yaxis": "y"
        },
        {
         "hovertemplate": "<b>%{hovertext}</b><br><br>Brand=Santali<br>แกนคุณลักษณะหลักที่ 1 (PC1)=%{x}<br>แกนคุณลักษณะหลักที่ 2 (PC2)=%{y}<extra></extra>",
         "hovertext": [
          "S1-O"
         ],
         "legendgroup": "Santali",
         "marker": {
          "color": "#EF553B",
          "symbol": "circle"
         },
         "mode": "markers",
         "name": "Santali",
         "showlegend": true,
         "type": "scattergl",
         "x": {
          "bdata": "aoKxmlkS9L8=",
          "dtype": "f8"
         },
         "xaxis": "x",
         "y": {
          "bdata": "4xoSejLW8T8=",
          "dtype": "f8"
         },
         "yaxis": "y"
        },
        {
         "hovertemplate": "<b>%{hovertext}</b><br><br>Brand=Hitscan<br>แกนคุณลักษณะหลักที่ 1 (PC1)=%{x}<br>แกนคุณลักษณะหลักที่ 2 (PC2)=%{y}<extra></extra>",
         "hovertext": [
          "Hyperlight"
         ],
         "legendgroup": "Hitscan",
         "marker": {
          "color": "#00cc96",
          "symbol": "circle"
         },
         "mode": "markers",
         "name": "Hitscan",
         "showlegend": true,
         "type": "scattergl",
         "x": {
          "bdata": "GWP+nkdQAcA=",
          "dtype": "f8"
         },
         "xaxis": "x",
         "y": {
          "bdata": "pjW+Iooe6z8=",
          "dtype": "f8"
         },
         "yaxis": "y"
        },
        {
         "hovertemplate": "<b>%{hovertext}</b><br><br>Brand=A4Tech<br>แกนคุณลักษณะหลักที่ 1 (PC1)=%{x}<br>แกนคุณลักษณะหลักที่ 2 (PC2)=%{y}<extra></extra>",
         "hovertext": [
          "XL-750BK",
          "XL-750BH",
          "Bloody V7"
         ],
         "legendgroup": "A4Tech",
         "marker": {
          "color": "#ab63fa",
          "symbol": "circle"
         },
         "mode": "markers",
         "name": "A4Tech",
         "showlegend": true,
         "type": "scattergl",
         "x": {
          "bdata": "GjwtneYeC0AaPC2d5h4LQGNzk8FtNxJA",
          "dtype": "f8"
         },
         "xaxis": "x",
         "y": {
          "bdata": "WqwH6maWFsBarAfqZpYWwKzVLO/eK/i/",
          "dtype": "f8"
         },
         "yaxis": "y"
        },
        {
         "hovertemplate": "<b>%{hovertext}</b><br><br>Brand=Zaunkoenig<br>แกนคุณลักษณะหลักที่ 1 (PC1)=%{x}<br>แกนคุณลักษณะหลักที่ 2 (PC2)=%{y}<extra></extra>",
         "hovertext": [
          "M3K",
          "M2K"
         ],
         "legendgroup": "Zaunkoenig",
         "marker": {
          "color": "#FFA15A",
          "symbol": "circle"
         },
         "mode": "markers",
         "name": "Zaunkoenig",
         "showlegend": true,
         "type": "scattergl",
         "x": {
          "bdata": "gYVZXqibE8A/DhhwEQ4TwA==",
          "dtype": "f8"
         },
         "xaxis": "x",
         "y": {
          "bdata": "4HoL+0OO9b+sixg+GyX6vw==",
          "dtype": "f8"
         },
         "yaxis": "y"
        },
        {
         "hovertemplate": "<b>%{hovertext}</b><br><br>Brand=ELECOM<br>แกนคุณลักษณะหลักที่ 1 (PC1)=%{x}<br>แกนคุณลักษณะหลักที่ 2 (PC2)=%{y}<extra></extra>",
         "hovertext": [
          "VM501LBK",
          "VM501BK",
          "VM510BK",
          "VM610BK",
          "VM600PE"
         ],
         "legendgroup": "ELECOM",
         "marker": {
          "color": "#19d3f3",
          "symbol": "circle"
         },
         "mode": "markers",
         "name": "ELECOM",
         "showlegend": true,
         "type": "scattergl",
         "x": {
          "bdata": "QuEFZkxj/D8LQpcBxTLvPwSgdI9TQfG/0uI+E3Qg9b8i987Y+LH4Pw==",
          "dtype": "f8"
         },
         "xaxis": "x",
         "y": {
          "bdata": "BlSUS9Yu6D/LmW5TYczTP+UN70NFb+S/ZkwFZU99wb9G6kv09QDlPw==",
          "dtype": "f8"
         },
         "yaxis": "y"
        },
        {
         "hovertemplate": "<b>%{hovertext}</b><br><br>Brand=Irocks<br>แกนคุณลักษณะหลักที่ 1 (PC1)=%{x}<br>แกนคุณลักษณะหลักที่ 2 (PC2)=%{y}<extra></extra>",
         "hovertext": [
          "M31R"
         ],
         "legendgroup": "Irocks",
         "marker": {
          "color": "#FF6692",
          "symbol": "circle"
         },
         "mode": "markers",
         "name": "Irocks",
         "showlegend": true,
         "type": "scattergl",
         "x": {
          "bdata": "xOMjvRL+8T8=",
          "dtype": "f8"
         },
         "xaxis": "x",
         "y": {
          "bdata": "jlLg4mxt5T8=",
          "dtype": "f8"
         },
         "yaxis": "y"
        },
        {
         "hovertemplate": "<b>%{hovertext}</b><br><br>Brand=GITOPER<br>แกนคุณลักษณะหลักที่ 1 (PC1)=%{x}<br>แกนคุณลักษณะหลักที่ 2 (PC2)=%{y}<extra></extra>",
         "hovertext": [
          "G1",
          "G3",
          "G2"
         ],
         "legendgroup": "GITOPER",
         "marker": {
          "color": "#B6E880",
          "symbol": "circle"
         },
         "mode": "markers",
         "name": "GITOPER",
         "showlegend": true,
         "type": "scattergl",
         "x": {
          "bdata": "pCVx3z+27D8n91g5hU3wP3OI6jpWWuC/",
          "dtype": "f8"
         },
         "xaxis": "x",
         "y": {
          "bdata": "tcLoHf026T85fuC/W6LcP4dnsdplI9g/",
          "dtype": "f8"
         },
         "yaxis": "y"
        },
        {
         "hovertemplate": "<b>%{hovertext}</b><br><br>Brand=Cherry<br>แกนคุณลักษณะหลักที่ 1 (PC1)=%{x}<br>แกนคุณลักษณะหลักที่ 2 (PC2)=%{y}<extra></extra>",
         "hovertext": [
          "Xtrfy M50 Wireless",
          "Xtrfy M50",
          "Xtrfy M68 Pro 8K Wireless",
          "Xtrfy M68 Wireless",
          "Xtrfy M64 Pro 8K Wireless",
          "Xtrfy M64 Wireless"
         ],
         "legendgroup": "Cherry",
         "marker": {
          "color": "#FF97FF",
          "symbol": "circle"
         },
         "mode": "markers",
         "name": "Cherry",
         "showlegend": true,
         "type": "scattergl",
         "x": {
          "bdata": "gAm9vSoUqD9aGGiuRtbVv8nBpxMwRvO/288Ku76K6b9nV1UH9i3BP6u+JUeMS+E/",
          "dtype": "f8"
         },
         "xaxis": "x",
         "y": {
          "bdata": "PUVtbxaH8r/a/nVGQA/nv3HLeYkoVOw/2aLYlpth1z+GpV6K8Yv0PwBdA15beOg/",
          "dtype": "f8"
         },
         "yaxis": "y"
        },
        {
         "hovertemplate": "<b>%{hovertext}</b><br><br>Brand=IXILAB<br>แกนคุณลักษณะหลักที่ 1 (PC1)=%{x}<br>แกนคุณลักษณะหลักที่ 2 (PC2)=%{y}<extra></extra>",
         "hovertext": [
          "X1 Pro Max",
          "X1 Pro",
          "X1"
         ],
         "legendgroup": "IXILAB",
         "marker": {
          "color": "#FECB52",
          "symbol": "circle"
         },
         "mode": "markers",
         "name": "IXILAB",
         "showlegend": true,
         "type": "scattergl",
         "x": {
          "bdata": "XofkPkdY9b/2E9jJtSL4v8HuxngtBfW/",
          "dtype": "f8"
         },
         "xaxis": "x",
         "y": {
          "bdata": "6v4wQuDhaD8uReEKxk3KP8ffYpeVhaS/",
          "dtype": "f8"
         },
         "yaxis": "y"
        },
        {
         "hovertemplate": "<b>%{hovertext}</b><br><br>Brand=Ardor<br>แกนคุณลักษณะหลักที่ 1 (PC1)=%{x}<br>แกนคุณลักษณะหลักที่ 2 (PC2)=%{y}<extra></extra>",
         "hovertext": [
          "Gaming Immortality Pro Wireless",
          "Gaming Immortality",
          "Gaming Ulta (big back)",
          "Gaming Ulta (mid back)",
          "Gaming Ulta (small back)",
          "Gaming Prime X",
          "Gaming Prime Wireless",
          "Gaming Prime",
          "Gaming Fury Beast",
          "Gaming Fury Pro",
          "Gaming Fury",
          "Gaming Phantom Pro V2",
          "Gaming Phantom Pro",
          "Gaming Phantom Pro Wired"
         ],
         "legendgroup": "Ardor",
         "marker": {
          "color": "#636efa",
          "symbol": "circle"
         },
         "mode": "markers",
         "name": "Ardor",
         "showlegend": true,
         "type": "scattergl",
         "x": {
          "bdata": "i6SB5SlU3b9PyTLko4LnvzWCzHQrEOK/NYLMdCsQ4r81gsx0KxDiv18JgUJgh9C/Ugc7jY4azb9hvpXfih6zvytBrxCDxAhAfjMcwqvSCECt86bvJWMLQEVSr9Z9+Ny/HwGSObPo0b+GFstfUSPgvw==",
          "dtype": "f8"
         },
         "xaxis": "x",
         "y": {
          "bdata": "vv1IP2px5L9qSGobQq/bv5loyw8m/tC/mWjLDyb+0L+ZaMsPJv7Qv60EvL0/uei/X5KhPFD77L+kdT2Jd53wv3NQ/EqfPtw/SYDGcKdT2z/dHlYvxVCyP78mAiQ/tqQ/Jw/Bamxb1L9USOycjKPAvw==",
          "dtype": "f8"
         },
         "yaxis": "y"
        },
        {
         "hovertemplate": "<b>%{hovertext}</b><br><br>Brand=FineMax<br>แกนคุณลักษณะหลักที่ 1 (PC1)=%{x}<br>แกนคุณลักษณะหลักที่ 2 (PC2)=%{y}<extra></extra>",
         "hovertext": [
          "Noah"
         ],
         "legendgroup": "FineMax",
         "marker": {
          "color": "#EF553B",
          "symbol": "circle"
         },
         "mode": "markers",
         "name": "FineMax",
         "showlegend": true,
         "type": "scattergl",
         "x": {
          "bdata": "AaQgf9B37r8=",
          "dtype": "f8"
         },
         "xaxis": "x",
         "y": {
          "bdata": "6bcd5Qww2j8=",
          "dtype": "f8"
         },
         "yaxis": "y"
        },
        {
         "hovertemplate": "<b>%{hovertext}</b><br><br>Brand=Sprime<br>แกนคุณลักษณะหลักที่ 1 (PC1)=%{x}<br>แกนคุณลักษณะหลักที่ 2 (PC2)=%{y}<extra></extra>",
         "hovertext": [
          "PM1"
         ],
         "legendgroup": "Sprime",
         "marker": {
          "color": "#00cc96",
          "symbol": "circle"
         },
         "mode": "markers",
         "name": "Sprime",
         "showlegend": true,
         "type": "scattergl",
         "x": {
          "bdata": "iI1QVi4Du78=",
          "dtype": "f8"
         },
         "xaxis": "x",
         "y": {
          "bdata": "MKRUr89c+j8=",
          "dtype": "f8"
         },
         "yaxis": "y"
        },
        {
         "hovertemplate": "<b>%{hovertext}</b><br><br>Brand=Mionix<br>แกนคุณลักษณะหลักที่ 1 (PC1)=%{x}<br>แกนคุณลักษณะหลักที่ 2 (PC2)=%{y}<extra></extra>",
         "hovertext": [
          "Naos Pro",
          "Naos QG",
          "Naos 8200",
          "Naos 7000",
          "Naos 3200",
          "Castor Pro",
          "Castor"
         ],
         "legendgroup": "Mionix",
         "marker": {
          "color": "#ab63fa",
          "symbol": "circle"
         },
         "mode": "markers",
         "name": "Mionix",
         "showlegend": true,
         "type": "scattergl",
         "x": {
          "bdata": "ld+G1vfPDUBBnRgRB/QOQHjnJkBtyQ5AU3LqugOlD0AGafGbFEQUQCoTMMR6PgFAVurRTrKMA0A=",
          "dtype": "f8"
         },
         "xaxis": "x",
         "y": {
          "bdata": "SsYoe7H96D+sVmK/dkrgP4UFQhnLNt0/WQMkV9Mb1T+iPM9RRS0RwMs63gdHIJi/2oUtesZi4r8=",
          "dtype": "f8"
         },
         "yaxis": "y"
        },
        {
         "hovertemplate": "<b>%{hovertext}</b><br><br>Brand=Rexus<br>แกนคุณลักษณะหลักที่ 1 (PC1)=%{x}<br>แกนคุณลักษณะหลักที่ 2 (PC2)=%{y}<extra></extra>",
         "hovertext": [
          "Daxa Air IV"
         ],
         "legendgroup": "Rexus",
         "marker": {
          "color": "#FFA15A",
          "symbol": "circle"
         },
         "mode": "markers",
         "name": "Rexus",
         "showlegend": true,
         "type": "scattergl",
         "x": {
          "bdata": "UieTTCYx378=",
          "dtype": "f8"
         },
         "xaxis": "x",
         "y": {
          "bdata": "u8d15tspqz8=",
          "dtype": "f8"
         },
         "yaxis": "y"
        },
        {
         "hovertemplate": "<b>%{hovertext}</b><br><br>Brand=Atompalm<br>แกนคุณลักษณะหลักที่ 1 (PC1)=%{x}<br>แกนคุณลักษณะหลักที่ 2 (PC2)=%{y}<extra></extra>",
         "hovertext": [
          "Hydrogen 2",
          "Hydrogen"
         ],
         "legendgroup": "Atompalm",
         "marker": {
          "color": "#19d3f3",
          "symbol": "circle"
         },
         "mode": "markers",
         "name": "Atompalm",
         "showlegend": true,
         "type": "scattergl",
         "x": {
          "bdata": "Z/qwIg0m8b9n+rAiDSbxvw==",
          "dtype": "f8"
         },
         "xaxis": "x",
         "y": {
          "bdata": "64dJ3dGY4z/rh0nd0ZjjPw==",
          "dtype": "f8"
         },
         "yaxis": "y"
        },
        {
         "hovertemplate": "<b>%{hovertext}</b><br><br>Brand=ARYE<br>แกนคุณลักษณะหลักที่ 1 (PC1)=%{x}<br>แกนคุณลักษณะหลักที่ 2 (PC2)=%{y}<extra></extra>",
         "hovertext": [
          "FCC-1"
         ],
         "legendgroup": "ARYE",
         "marker": {
          "color": "#FF6692",
          "symbol": "circle"
         },
         "mode": "markers",
         "name": "ARYE",
         "showlegend": true,
         "type": "scattergl",
         "x": {
          "bdata": "Esk1+tXVAcA=",
          "dtype": "f8"
         },
         "xaxis": "x",
         "y": {
          "bdata": "Uh52oS4Dx78=",
          "dtype": "f8"
         },
         "yaxis": "y"
        },
        {
         "hovertemplate": "<b>%{hovertext}</b><br><br>Brand=Ironcat<br>แกนคุณลักษณะหลักที่ 1 (PC1)=%{x}<br>แกนคุณลักษณะหลักที่ 2 (PC2)=%{y}<extra></extra>",
         "hovertext": [
          "HPC01M Pro",
          "HPC01M",
          "HPC02M",
          "HPC02"
         ],
         "legendgroup": "Ironcat",
         "marker": {
          "color": "#B6E880",
          "symbol": "circle"
         },
         "mode": "markers",
         "name": "Ironcat",
         "showlegend": true,
         "type": "scattergl",
         "x": {
          "bdata": "wi5PYGQS9r8KCsKNmSj0v8wBrG5Kj/O//yoymy7X4r8=",
          "dtype": "f8"
         },
         "xaxis": "x",
         "y": {
          "bdata": "vCh0QosZsb+mx3SmccLMv+bFV0HGRuO/ruZ95UF6zr8=",
          "dtype": "f8"
         },
         "yaxis": "y"
        },
        {
         "hovertemplate": "<b>%{hovertext}</b><br><br>Brand=Xinshuntian<br>แกนคุณลักษณะหลักที่ 1 (PC1)=%{x}<br>แกนคุณลักษณะหลักที่ 2 (PC2)=%{y}<extra></extra>",
         "hovertext": [
          "G820"
         ],
         "legendgroup": "Xinshuntian",
         "marker": {
          "color": "#FF97FF",
          "symbol": "circle"
         },
         "mode": "markers",
         "name": "Xinshuntian",
         "showlegend": true,
         "type": "scattergl",
         "x": {
          "bdata": "PwYQVlAI7D8=",
          "dtype": "f8"
         },
         "xaxis": "x",
         "y": {
          "bdata": "fYsf9Hhb4z8=",
          "dtype": "f8"
         },
         "yaxis": "y"
        },
        {
         "hovertemplate": "<b>%{hovertext}</b><br><br>Brand=Ducky<br>แกนคุณลักษณะหลักที่ 1 (PC1)=%{x}<br>แกนคุณลักษณะหลักที่ 2 (PC2)=%{y}<extra></extra>",
         "hovertext": [
          "Feather"
         ],
         "legendgroup": "Ducky",
         "marker": {
          "color": "#FECB52",
          "symbol": "circle"
         },
         "mode": "markers",
         "name": "Ducky",
         "showlegend": true,
         "type": "scattergl",
         "x": {
          "bdata": "INOx7Z3z4b8=",
          "dtype": "f8"
         },
         "xaxis": "x",
         "y": {
          "bdata": "gGx8PmJq4r8=",
          "dtype": "f8"
         },
         "yaxis": "y"
        },
        {
         "hovertemplate": "<b>%{hovertext}</b><br><br>Brand=Pichau<br>แกนคุณลักษณะหลักที่ 1 (PC1)=%{x}<br>แกนคุณลักษณะหลักที่ 2 (PC2)=%{y}<extra></extra>",
         "hovertext": [
          "Hive S"
         ],
         "legendgroup": "Pichau",
         "marker": {
          "color": "#636efa",
          "symbol": "circle"
         },
         "mode": "markers",
         "name": "Pichau",
         "showlegend": true,
         "type": "scattergl",
         "x": {
          "bdata": "bzQ7N+1j378=",
          "dtype": "f8"
         },
         "xaxis": "x",
         "y": {
          "bdata": "LE4MKgGW4r8=",
          "dtype": "f8"
         },
         "yaxis": "y"
        },
        {
         "hovertemplate": "<b>%{hovertext}</b><br><br>Brand=Fnatic<br>แกนคุณลักษณะหลักที่ 1 (PC1)=%{x}<br>แกนคุณลักษณะหลักที่ 2 (PC2)=%{y}<extra></extra>",
         "hovertext": [
          "CLUTCH 2",
          "Bolt"
         ],
         "legendgroup": "Fnatic",
         "marker": {
          "color": "#EF553B",
          "symbol": "circle"
         },
         "mode": "markers",
         "name": "Fnatic",
         "showlegend": true,
         "type": "scattergl",
         "x": {
          "bdata": "3EAkr6wTBUBdXZ3PgQPjvw==",
          "dtype": "f8"
         },
         "xaxis": "x",
         "y": {
          "bdata": "C+hxo1FspD+QOVyXw1vgvw==",
          "dtype": "f8"
         },
         "yaxis": "y"
        },
        {
         "hovertemplate": "<b>%{hovertext}</b><br><br>Brand=Aqirys<br>แกนคุณลักษณะหลักที่ 1 (PC1)=%{x}<br>แกนคุณลักษณะหลักที่ 2 (PC2)=%{y}<extra></extra>",
         "hovertext": [
          "TGA Alpha"
         ],
         "legendgroup": "Aqirys",
         "marker": {
          "color": "#00cc96",
          "symbol": "circle"
         },
         "mode": "markers",
         "name": "Aqirys",
         "showlegend": true,
         "type": "scattergl",
         "x": {
          "bdata": "jto2YSJJ2L8=",
          "dtype": "f8"
         },
         "xaxis": "x",
         "y": {
          "bdata": "wtf1HjQuxL8=",
          "dtype": "f8"
         },
         "yaxis": "y"
        },
        {
         "hovertemplate": "<b>%{hovertext}</b><br><br>Brand=Fallen<br>แกนคุณลักษณะหลักที่ 1 (PC1)=%{x}<br>แกนคุณลักษณะหลักที่ 2 (PC2)=%{y}<extra></extra>",
         "hovertext": [
          "Pantera Pro"
         ],
         "legendgroup": "Fallen",
         "marker": {
          "color": "#ab63fa",
          "symbol": "circle"
         },
         "mode": "markers",
         "name": "Fallen",
         "showlegend": true,
         "type": "scattergl",
         "x": {
          "bdata": "xL7+PFcr0r8=",
          "dtype": "f8"
         },
         "xaxis": "x",
         "y": {
          "bdata": "BQDg/Djb0L8=",
          "dtype": "f8"
         },
         "yaxis": "y"
        },
        {
         "hovertemplate": "<b>%{hovertext}</b><br><br>Brand=Drevo<br>แกนคุณลักษณะหลักที่ 1 (PC1)=%{x}<br>แกนคุณลักษณะหลักที่ 2 (PC2)=%{y}<extra></extra>",
         "hovertext": [
          "Falcon"
         ],
         "legendgroup": "Drevo",
         "marker": {
          "color": "#FFA15A",
          "symbol": "circle"
         },
         "mode": "markers",
         "name": "Drevo",
         "showlegend": true,
         "type": "scattergl",
         "x": {
          "bdata": "MgAvc1jUzT8=",
          "dtype": "f8"
         },
         "xaxis": "x",
         "y": {
          "bdata": "WpKrHJX07r8=",
          "dtype": "f8"
         },
         "yaxis": "y"
        },
        {
         "hovertemplate": "<b>%{hovertext}</b><br><br>Brand=Acer<br>แกนคุณลักษณะหลักที่ 1 (PC1)=%{x}<br>แกนคุณลักษณะหลักที่ 2 (PC2)=%{y}<extra></extra>",
         "hovertext": [
          "Cestus 330"
         ],
         "legendgroup": "Acer",
         "marker": {
          "color": "#19d3f3",
          "symbol": "circle"
         },
         "mode": "markers",
         "name": "Acer",
         "showlegend": true,
         "type": "scattergl",
         "x": {
          "bdata": "mAaW4/nK/j8=",
          "dtype": "f8"
         },
         "xaxis": "x",
         "y": {
          "bdata": "Z91iB1IHA8A=",
          "dtype": "f8"
         },
         "yaxis": "y"
        },
        {
         "hovertemplate": "<b>%{hovertext}</b><br><br>Brand=Teamwolf<br>แกนคุณลักษณะหลักที่ 1 (PC1)=%{x}<br>แกนคุณลักษณะหลักที่ 2 (PC2)=%{y}<extra></extra>",
         "hovertext": [
          "Lurker MK-01"
         ],
         "legendgroup": "Teamwolf",
         "marker": {
          "color": "#FF6692",
          "symbol": "circle"
         },
         "mode": "markers",
         "name": "Teamwolf",
         "showlegend": true,
         "type": "scattergl",
         "x": {
          "bdata": "Wta812dY/78=",
          "dtype": "f8"
         },
         "xaxis": "x",
         "y": {
          "bdata": "8rMn7Tlh7b8=",
          "dtype": "f8"
         },
         "yaxis": "y"
        },
        {
         "hovertemplate": "<b>%{hovertext}</b><br><br>Brand=PureTrak<br>แกนคุณลักษณะหลักที่ 1 (PC1)=%{x}<br>แกนคุณลักษณะหลักที่ 2 (PC2)=%{y}<extra></extra>",
         "hovertext": [
          "Valor Wireless"
         ],
         "legendgroup": "PureTrak",
         "marker": {
          "color": "#B6E880",
          "symbol": "circle"
         },
         "mode": "markers",
         "name": "PureTrak",
         "showlegend": true,
         "type": "scattergl",
         "x": {
          "bdata": "CLdzfSSL4b8=",
          "dtype": "f8"
         },
         "xaxis": "x",
         "y": {
          "bdata": "+LHKo821wj8=",
          "dtype": "f8"
         },
         "yaxis": "y"
        },
        {
         "hovertemplate": "<b>%{hovertext}</b><br><br>Brand=Xenics<br>แกนคุณลักษณะหลักที่ 1 (PC1)=%{x}<br>แกนคุณลักษณะหลักที่ 2 (PC2)=%{y}<extra></extra>",
         "hovertext": [
          "Titan GX Air Wireless"
         ],
         "legendgroup": "Xenics",
         "marker": {
          "color": "#FF97FF",
          "symbol": "circle"
         },
         "mode": "markers",
         "name": "Xenics",
         "showlegend": true,
         "type": "scattergl",
         "x": {
          "bdata": "oYYdf9Ne5b8=",
          "dtype": "f8"
         },
         "xaxis": "x",
         "y": {
          "bdata": "B1RdI4iA8L8=",
          "dtype": "f8"
         },
         "yaxis": "y"
        },
        {
         "hovertemplate": "<b>%{hovertext}</b><br><br>Brand=SPC<br>แกนคุณลักษณะหลักที่ 1 (PC1)=%{x}<br>แกนคุณลักษณะหลักที่ 2 (PC2)=%{y}<extra></extra>",
         "hovertext": [
          "Gear LIX Plus Wireless"
         ],
         "legendgroup": "SPC",
         "marker": {
          "color": "#FECB52",
          "symbol": "circle"
         },
         "mode": "markers",
         "name": "SPC",
         "showlegend": true,
         "type": "scattergl",
         "x": {
          "bdata": "dBx6GPOExL8=",
          "dtype": "f8"
         },
         "xaxis": "x",
         "y": {
          "bdata": "Gp86ZUIJyr8=",
          "dtype": "f8"
         },
         "yaxis": "y"
        },
        {
         "hovertemplate": "<b>%{hovertext}</b><br><br>Brand=Dornfinger<br>แกนคุณลักษณะหลักที่ 1 (PC1)=%{x}<br>แกนคุณลักษณะหลักที่ 2 (PC2)=%{y}<extra></extra>",
         "hovertext": [
          "Veno-S"
         ],
         "legendgroup": "Dornfinger",
         "marker": {
          "color": "#636efa",
          "symbol": "circle"
         },
         "mode": "markers",
         "name": "Dornfinger",
         "showlegend": true,
         "type": "scattergl",
         "x": {
          "bdata": "aR0fX41B2L8=",
          "dtype": "f8"
         },
         "xaxis": "x",
         "y": {
          "bdata": "O1UlsvA11L8=",
          "dtype": "f8"
         },
         "yaxis": "y"
        },
        {
         "hovertemplate": "<b>%{hovertext}</b><br><br>Brand=Midnight<br>แกนคุณลักษณะหลักที่ 1 (PC1)=%{x}<br>แกนคุณลักษณะหลักที่ 2 (PC2)=%{y}<extra></extra>",
         "hovertext": [
          "Thread C1"
         ],
         "legendgroup": "Midnight",
         "marker": {
          "color": "#EF553B",
          "symbol": "circle"
         },
         "mode": "markers",
         "name": "Midnight",
         "showlegend": true,
         "type": "scattergl",
         "x": {
          "bdata": "AOQiARld9L8=",
          "dtype": "f8"
         },
         "xaxis": "x",
         "y": {
          "bdata": "SfQQna0U2T8=",
          "dtype": "f8"
         },
         "yaxis": "y"
        },
        {
         "hovertemplate": "<b>%{hovertext}</b><br><br>Brand=HK<br>แกนคุณลักษณะหลักที่ 1 (PC1)=%{x}<br>แกนคุณลักษณะหลักที่ 2 (PC2)=%{y}<extra></extra>",
         "hovertext": [
          "Gaming Sirius M"
         ],
         "legendgroup": "HK",
         "marker": {
          "color": "#00cc96",
          "symbol": "circle"
         },
         "mode": "markers",
         "name": "HK",
         "showlegend": true,
         "type": "scattergl",
         "x": {
          "bdata": "pw5urLGx7b8=",
          "dtype": "f8"
         },
         "xaxis": "x",
         "y": {
          "bdata": "EquYPvnv378=",
          "dtype": "f8"
         },
         "yaxis": "y"
        },
        {
         "hovertemplate": "<b>%{hovertext}</b><br><br>Brand=CryoMods<br>แกนคุณลักษณะหลักที่ 1 (PC1)=%{x}<br>แกนคุณลักษณะหลักที่ 2 (PC2)=%{y}<extra></extra>",
         "hovertext": [
          "Fractal Wireless"
         ],
         "legendgroup": "CryoMods",
         "marker": {
          "color": "#ab63fa",
          "symbol": "circle"
         },
         "mode": "markers",
         "name": "CryoMods",
         "showlegend": true,
         "type": "scattergl",
         "x": {
          "bdata": "+gPBbXBE8b8=",
          "dtype": "f8"
         },
         "xaxis": "x",
         "y": {
          "bdata": "RDI48BcD9L8=",
          "dtype": "f8"
         },
         "yaxis": "y"
        },
        {
         "hovertemplate": "<b>%{hovertext}</b><br><br>Brand=Lethal<br>แกนคุณลักษณะหลักที่ 1 (PC1)=%{x}<br>แกนคุณลักษณะหลักที่ 2 (PC2)=%{y}<extra></extra>",
         "hovertext": [
          "Gaming Gear LA-1"
         ],
         "legendgroup": "Lethal",
         "marker": {
          "color": "#FFA15A",
          "symbol": "circle"
         },
         "mode": "markers",
         "name": "Lethal",
         "showlegend": true,
         "type": "scattergl",
         "x": {
          "bdata": "8DM64zhv8b8=",
          "dtype": "f8"
         },
         "xaxis": "x",
         "y": {
          "bdata": "NDuH0Qjfwz8=",
          "dtype": "f8"
         },
         "yaxis": "y"
        },
        {
         "hovertemplate": "<b>%{hovertext}</b><br><br>Brand=Gamesense<br>แกนคุณลักษณะหลักที่ 1 (PC1)=%{x}<br>แกนคุณลักษณะหลักที่ 2 (PC2)=%{y}<extra></extra>",
         "hovertext": [
          "MVP Wired",
          "MVP Wireless",
          "META Wired"
         ],
         "legendgroup": "Gamesense",
         "marker": {
          "color": "#19d3f3",
          "symbol": "circle"
         },
         "mode": "markers",
         "name": "Gamesense",
         "showlegend": true,
         "type": "scattergl",
         "x": {
          "bdata": "scRNVodAyb+ASM8ne92jPymvhRliY+y/",
          "dtype": "f8"
         },
         "xaxis": "x",
         "y": {
          "bdata": "ZFyse1d/sL991XLV/ZjUv/S+pxN5KPC/",
          "dtype": "f8"
         },
         "yaxis": "y"
        },
        {
         "hovertemplate": "<b>%{hovertext}</b><br><br>Brand=Dream<br>แกนคุณลักษณะหลักที่ 1 (PC1)=%{x}<br>แกนคุณลักษณะหลักที่ 2 (PC2)=%{y}<extra></extra>",
         "hovertext": [
          "Machines DM1 FPS",
          "Machines DM2 Comfy S",
          "Machines DM4 Evo",
          "Machines DM4 Evo S",
          "Machines DM5 Blink",
          "Machines DM6 Holey S",
          "Machines DM6 Holey",
          "Machines DM6 Duo",
          "Machines DM6 Trio"
         ],
         "legendgroup": "Dream",
         "marker": {
          "color": "#FF6692",
          "symbol": "circle"
         },
         "mode": "markers",
         "name": "Dream",
         "showlegend": true,
         "type": "scattergl",
         "x": {
          "bdata": "Bg70T/uP3D+HCIAqh2UNQBmgeYQUvwBAqIbIUeNUAEDeGc3DwrECQL5W3MZuv/g/QkVfo5za+T8u3Eq6Z3f8P2IqZVJqYfw/",
          "dtype": "f8"
         },
         "xaxis": "x",
         "y": {
          "bdata": "cj54KXGe37+Sek75yE/mPyvCvucM59e/9ygrA8oE0b+Y4jSOXUSyv9V9FqVYaN0/Olz8Hqo61D8JkaW2cQLLP9ujJTFCNdE/",
          "dtype": "f8"
         },
         "yaxis": "y"
        },
        {
         "marker": {
          "color": "red",
          "size": 15,
          "symbol": "star"
         },
         "mode": "markers",
         "name": "Ideal Profile (จุดศูนย์กลาง)",
         "type": "scatter",
         "x": [
          -1.786004733956927
         ],
         "y": [
          1.127123735360073
         ]
        },
        {
         "marker": {
          "color": "red",
          "size": 15,
          "symbol": "star"
         },
         "mode": "markers",
         "name": "Ideal Profile (จุดศูนย์กลาง)",
         "type": "scatter",
         "x": [
          -1.786004733956927
         ],
         "y": [
          1.127123735360073
         ]
        }
       ],
       "layout": {
        "legend": {
         "title": {
          "text": "Brand"
         },
         "tracegroupgap": 0
        },
        "template": {
         "data": {
          "bar": [
           {
            "error_x": {
             "color": "#2a3f5f"
            },
            "error_y": {
             "color": "#2a3f5f"
            },
            "marker": {
             "line": {
              "color": "#E5ECF6",
              "width": 0.5
             },
             "pattern": {
              "fillmode": "overlay",
              "size": 10,
              "solidity": 0.2
             }
            },
            "type": "bar"
           }
          ],
          "barpolar": [
           {
            "marker": {
             "line": {
              "color": "#E5ECF6",
              "width": 0.5
             },
             "pattern": {
              "fillmode": "overlay",
              "size": 10,
              "solidity": 0.2
             }
            },
            "type": "barpolar"
           }
          ],
          "carpet": [
           {
            "aaxis": {
             "endlinecolor": "#2a3f5f",
             "gridcolor": "white",
             "linecolor": "white",
             "minorgridcolor": "white",
             "startlinecolor": "#2a3f5f"
            },
            "baxis": {
             "endlinecolor": "#2a3f5f",
             "gridcolor": "white",
             "linecolor": "white",
             "minorgridcolor": "white",
             "startlinecolor": "#2a3f5f"
            },
            "type": "carpet"
           }
          ],
          "choropleth": [
           {
            "colorbar": {
             "outlinewidth": 0,
             "ticks": ""
            },
            "type": "choropleth"
           }
          ],
          "contour": [
           {
            "colorbar": {
             "outlinewidth": 0,
             "ticks": ""
            },
            "colorscale": [
             [
              0.0,
              "#0d0887"
             ],
             [
              0.1111111111111111,
              "#46039f"
             ],
             [
              0.2222222222222222,
              "#7201a8"
             ],
             [
              0.3333333333333333,
              "#9c179e"
             ],
             [
              0.4444444444444444,
              "#bd3786"
             ],
             [
              0.5555555555555556,
              "#d8576b"
             ],
             [
              0.6666666666666666,
              "#ed7953"
             ],
             [
              0.7777777777777778,
              "#fb9f3a"
             ],
             [
              0.8888888888888888,
              "#fdca26"
             ],
             [
              1.0,
              "#f0f921"
             ]
            ],
            "type": "contour"
           }
          ],
          "contourcarpet": [
           {
            "colorbar": {
             "outlinewidth": 0,
             "ticks": ""
            },
            "type": "contourcarpet"
           }
          ],
          "heatmap": [
           {
            "colorbar": {
             "outlinewidth": 0,
             "ticks": ""
            },
            "colorscale": [
             [
              0.0,
              "#0d0887"
             ],
             [
              0.1111111111111111,
              "#46039f"
             ],
             [
              0.2222222222222222,
              "#7201a8"
             ],
             [
              0.3333333333333333,
              "#9c179e"
             ],
             [
              0.4444444444444444,
              "#bd3786"
             ],
             [
              0.5555555555555556,
              "#d8576b"
             ],
             [
              0.6666666666666666,
              "#ed7953"
             ],
             [
              0.7777777777777778,
              "#fb9f3a"
             ],
             [
              0.8888888888888888,
              "#fdca26"
             ],
             [
              1.0,
              "#f0f921"
             ]
            ],
            "type": "heatmap"
           }
          ],
          "histogram": [
           {
            "marker": {
             "pattern": {
              "fillmode": "overlay",
              "size": 10,
              "solidity": 0.2
             }
            },
            "type": "histogram"
           }
          ],
          "histogram2d": [
           {
            "colorbar": {
             "outlinewidth": 0,
             "ticks": ""
            },
            "colorscale": [
             [
              0.0,
              "#0d0887"
             ],
             [
              0.1111111111111111,
              "#46039f"
             ],
             [
              0.2222222222222222,
              "#7201a8"
             ],
             [
              0.3333333333333333,
              "#9c179e"
             ],
             [
              0.4444444444444444,
              "#bd3786"
             ],
             [
              0.5555555555555556,
              "#d8576b"
             ],
             [
              0.6666666666666666,
              "#ed7953"
             ],
             [
              0.7777777777777778,
              "#fb9f3a"
             ],
             [
              0.8888888888888888,
              "#fdca26"
             ],
             [
              1.0,
              "#f0f921"
             ]
            ],
            "type": "histogram2d"
           }
          ],
          "histogram2dcontour": [
           {
            "colorbar": {
             "outlinewidth": 0,
             "ticks": ""
            },
            "colorscale": [
             [
              0.0,
              "#0d0887"
             ],
             [
              0.1111111111111111,
              "#46039f"
             ],
             [
              0.2222222222222222,
              "#7201a8"
             ],
             [
              0.3333333333333333,
              "#9c179e"
             ],
             [
              0.4444444444444444,
              "#bd3786"
             ],
             [
              0.5555555555555556,
              "#d8576b"
             ],
             [
              0.6666666666666666,
              "#ed7953"
             ],
             [
              0.7777777777777778,
              "#fb9f3a"
             ],
             [
              0.8888888888888888,
              "#fdca26"
             ],
             [
              1.0,
              "#f0f921"
             ]
            ],
            "type": "histogram2dcontour"
           }
          ],
          "mesh3d": [
           {
            "colorbar": {
             "outlinewidth": 0,
             "ticks": ""
            },
            "type": "mesh3d"
           }
          ],
          "parcoords": [
           {
            "line": {
             "colorbar": {
              "outlinewidth": 0,
              "ticks": ""
             }
            },
            "type": "parcoords"
           }
          ],
          "pie": [
           {
            "automargin": true,
            "type": "pie"
           }
          ],
          "scatter": [
           {
            "fillpattern": {
             "fillmode": "overlay",
             "size": 10,
             "solidity": 0.2
            },
            "type": "scatter"
           }
          ],
          "scatter3d": [
           {
            "line": {
             "colorbar": {
              "outlinewidth": 0,
              "ticks": ""
             }
            },
            "marker": {
             "colorbar": {
              "outlinewidth": 0,
              "ticks": ""
             }
            },
            "type": "scatter3d"
           }
          ],
          "scattercarpet": [
           {
            "marker": {
             "colorbar": {
              "outlinewidth": 0,
              "ticks": ""
             }
            },
            "type": "scattercarpet"
           }
          ],
          "scattergeo": [
           {
            "marker": {
             "colorbar": {
              "outlinewidth": 0,
              "ticks": ""
             }
            },
            "type": "scattergeo"
           }
          ],
          "scattergl": [
           {
            "marker": {
             "colorbar": {
              "outlinewidth": 0,
              "ticks": ""
             }
            },
            "type": "scattergl"
           }
          ],
          "scattermap": [
           {
            "marker": {
             "colorbar": {
              "outlinewidth": 0,
              "ticks": ""
             }
            },
            "type": "scattermap"
           }
          ],
          "scattermapbox": [
           {
            "marker": {
             "colorbar": {
              "outlinewidth": 0,
              "ticks": ""
             }
            },
            "type": "scattermapbox"
           }
          ],
          "scatterpolar": [
           {
            "marker": {
             "colorbar": {
              "outlinewidth": 0,
              "ticks": ""
             }
            },
            "type": "scatterpolar"
           }
          ],
          "scatterpolargl": [
           {
            "marker": {
             "colorbar": {
              "outlinewidth": 0,
              "ticks": ""
             }
            },
            "type": "scatterpolargl"
           }
          ],
          "scatterternary": [
           {
            "marker": {
             "colorbar": {
              "outlinewidth": 0,
              "ticks": ""
             }
            },
            "type": "scatterternary"
           }
          ],
          "surface": [
           {
            "colorbar": {
             "outlinewidth": 0,
             "ticks": ""
            },
            "colorscale": [
             [
              0.0,
              "#0d0887"
             ],
             [
              0.1111111111111111,
              "#46039f"
             ],
             [
              0.2222222222222222,
              "#7201a8"
             ],
             [
              0.3333333333333333,
              "#9c179e"
             ],
             [
              0.4444444444444444,
              "#bd3786"
             ],
             [
              0.5555555555555556,
              "#d8576b"
             ],
             [
              0.6666666666666666,
              "#ed7953"
             ],
             [
              0.7777777777777778,
              "#fb9f3a"
             ],
             [
              0.8888888888888888,
              "#fdca26"
             ],
             [
              1.0,
              "#f0f921"
             ]
            ],
            "type": "surface"
           }
          ],
          "table": [
           {
            "cells": {
             "fill": {
              "color": "#EBF0F8"
             },
             "line": {
              "color": "white"
             }
            },
            "header": {
             "fill": {
              "color": "#C8D4E3"
             },
             "line": {
              "color": "white"
             }
            },
            "type": "table"
           }
          ]
         },
         "layout": {
          "annotationdefaults": {
           "arrowcolor": "#2a3f5f",
           "arrowhead": 0,
           "arrowwidth": 1
          },
          "autotypenumbers": "strict",
          "coloraxis": {
           "colorbar": {
            "outlinewidth": 0,
            "ticks": ""
           }
          },
          "colorscale": {
           "diverging": [
            [
             0,
             "#8e0152"
            ],
            [
             0.1,
             "#c51b7d"
            ],
            [
             0.2,
             "#de77ae"
            ],
            [
             0.3,
             "#f1b6da"
            ],
            [
             0.4,
             "#fde0ef"
            ],
            [
             0.5,
             "#f7f7f7"
            ],
            [
             0.6,
             "#e6f5d0"
            ],
            [
             0.7,
             "#b8e186"
            ],
            [
             0.8,
             "#7fbc41"
            ],
            [
             0.9,
             "#4d9221"
            ],
            [
             1,
             "#276419"
            ]
           ],
           "sequential": [
            [
             0.0,
             "#0d0887"
            ],
            [
             0.1111111111111111,
             "#46039f"
            ],
            [
             0.2222222222222222,
             "#7201a8"
            ],
            [
             0.3333333333333333,
             "#9c179e"
            ],
            [
             0.4444444444444444,
             "#bd3786"
            ],
            [
             0.5555555555555556,
             "#d8576b"
            ],
            [
             0.6666666666666666,
             "#ed7953"
            ],
            [
             0.7777777777777778,
             "#fb9f3a"
            ],
            [
             0.8888888888888888,
             "#fdca26"
            ],
            [
             1.0,
             "#f0f921"
            ]
           ],
           "sequentialminus": [
            [
             0.0,
             "#0d0887"
            ],
            [
             0.1111111111111111,
             "#46039f"
            ],
            [
             0.2222222222222222,
             "#7201a8"
            ],
            [
             0.3333333333333333,
             "#9c179e"
            ],
            [
             0.4444444444444444,
             "#bd3786"
            ],
            [
             0.5555555555555556,
             "#d8576b"
            ],
            [
             0.6666666666666666,
             "#ed7953"
            ],
            [
             0.7777777777777778,
             "#fb9f3a"
            ],
            [
             0.8888888888888888,
             "#fdca26"
            ],
            [
             1.0,
             "#f0f921"
            ]
           ]
          },
          "colorway": [
           "#636efa",
           "#EF553B",
           "#00cc96",
           "#ab63fa",
           "#FFA15A",
           "#19d3f3",
           "#FF6692",
           "#B6E880",
           "#FF97FF",
           "#FECB52"
          ],
          "font": {
           "color": "#2a3f5f"
          },
          "geo": {
           "bgcolor": "white",
           "lakecolor": "white",
           "landcolor": "#E5ECF6",
           "showlakes": true,
           "showland": true,
           "subunitcolor": "white"
          },
          "hoverlabel": {
           "align": "left"
          },
          "hovermode": "closest",
          "mapbox": {
           "style": "light"
          },
          "paper_bgcolor": "white",
          "plot_bgcolor": "#E5ECF6",
          "polar": {
           "angularaxis": {
            "gridcolor": "white",
            "linecolor": "white",
            "ticks": ""
           },
           "bgcolor": "#E5ECF6",
           "radialaxis": {
            "gridcolor": "white",
            "linecolor": "white",
            "ticks": ""
           }
          },
          "scene": {
           "xaxis": {
            "backgroundcolor": "#E5ECF6",
            "gridcolor": "white",
            "gridwidth": 2,
            "linecolor": "white",
            "showbackground": true,
            "ticks": "",
            "zerolinecolor": "white"
           },
           "yaxis": {
            "backgroundcolor": "#E5ECF6",
            "gridcolor": "white",
            "gridwidth": 2,
            "linecolor": "white",
            "showbackground": true,
            "ticks": "",
            "zerolinecolor": "white"
           },
           "zaxis": {
            "backgroundcolor": "#E5ECF6",
            "gridcolor": "white",
            "gridwidth": 2,
            "linecolor": "white",
            "showbackground": true,
            "ticks": "",
            "zerolinecolor": "white"
           }
          },
          "shapedefaults": {
           "line": {
            "color": "#2a3f5f"
           }
          },
          "ternary": {
           "aaxis": {
            "gridcolor": "white",
            "linecolor": "white",
            "ticks": ""
           },
           "baxis": {
            "gridcolor": "white",
            "linecolor": "white",
            "ticks": ""
           },
           "bgcolor": "#E5ECF6",
           "caxis": {
            "gridcolor": "white",
            "linecolor": "white",
            "ticks": ""
           }
          },
          "title": {
           "x": 0.05
          },
          "xaxis": {
           "automargin": true,
           "gridcolor": "white",
           "linecolor": "white",
           "ticks": "",
           "title": {
            "standoff": 15
           },
           "zerolinecolor": "white",
           "zerolinewidth": 2
          },
          "yaxis": {
           "automargin": true,
           "gridcolor": "white",
           "linecolor": "white",
           "ticks": "",
           "title": {
            "standoff": 15
           },
           "zerolinecolor": "white",
           "zerolinewidth": 2
          }
         }
        },
        "title": {
         "text": "ผลการวิเคราะห์ PCA ของข้อมูลเมาส์"
        },
        "xaxis": {
         "anchor": "y",
         "domain": [
          0.0,
          1.0
         ],
         "title": {
          "text": "แกนคุณลักษณะหลักที่ 1 (PC1)"
         }
        },
        "yaxis": {
         "anchor": "x",
         "domain": [
          0.0,
          1.0
         ],
         "title": {
          "text": "แกนคุณลักษณะหลักที่ 2 (PC2)"
         }
        }
       }
      }
     },
     "metadata": {},
     "output_type": "display_data"
    }
   ],
   "source": [
    "import numpy as np\n",
    "\n",
    "\n",
    "\n",
    "# 1. กำหนด \"คลังเมาส์\" ของคุณ\n",
    "my_mouse_collection = ['Viper Mini Signature Edition', 'MAD R Major', 'Susanto-X', 'Y2 Pro']\n",
    "df_my_collection = df_pca[df_pca['Model'].isin(my_mouse_collection)]\n",
    "\n",
    "# 2. คำนวณ \"โปรไฟล์เมาส์ในอุดมคติ\"\n",
    "ideal_mouse_profile = df_my_collection[col].mean().values\n",
    "\n",
    "# 3. คำนวณ Euclidean Distance ของทุกเมาส์จากจุดศูนย์กลาง\n",
    "distances = np.linalg.norm(df_pca[col].values - ideal_mouse_profile, axis=1)\n",
    "df_pca['Distance_to_Ideal'] = distances\n",
    "\n",
    "# 4. จัดอันดับเมาส์ที่ใกล้เคียงที่สุด (ไม่รวมเมาส์ที่มีอยู่แล้วในคลัง)\n",
    "recommendations = df_pca[~df_pca['Model'].isin(my_mouse_collection)] \\\n",
    "    .sort_values('Distance_to_Ideal', ascending=True).head(5)\n",
    "\n",
    "print(f\"จุดศูนย์กลาง (Ideal Profile) ในแกน PCA: {ideal_mouse_profile}\")\n",
    "print(\"\\n--- 5 อันดับเมาส์แนะนำที่ใกล้เคียงกับสไตล์ของคุณที่สุด ---\")\n",
    "print(recommendations[['Model', 'Brand', 'Distance_to_Ideal']])\n",
    "\n",
    "# 5. พล็อตกราฟแสดง Ideal Profile\n",
    "fig.add_scatter(\n",
    "    x=[ideal_mouse_profile[0]],\n",
    "    y=[ideal_mouse_profile[1]],\n",
    "    mode='markers',\n",
    "    marker=dict(symbol='star', color='red', size=15),\n",
    "    name='Ideal Profile (จุดศูนย์กลาง)'\n",
    ")\n",
    "fig.show()\n"
   ]
  },
  {
   "cell_type": "code",
   "execution_count": null,
   "id": "b71f5a66-ce3e-493a-b6f9-3f87e4791fd8",
   "metadata": {},
   "outputs": [],
   "source": []
  }
 ],
 "metadata": {
  "kernelspec": {
   "display_name": "Python 3 (ipykernel)",
   "language": "python",
   "name": "python3"
  },
  "language_info": {
   "codemirror_mode": {
    "name": "ipython",
    "version": 3
   },
   "file_extension": ".py",
   "mimetype": "text/x-python",
   "name": "python",
   "nbconvert_exporter": "python",
   "pygments_lexer": "ipython3",
   "version": "3.12.6"
  }
 },
 "nbformat": 4,
 "nbformat_minor": 5
}
