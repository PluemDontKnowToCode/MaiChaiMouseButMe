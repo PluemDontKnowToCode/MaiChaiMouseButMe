{
 "cells": [
  {
   "cell_type": "markdown",
   "id": "73ee6c86",
   "metadata": {},
   "source": [
    "# **Download and Import Dataset**"
   ]
  },
  {
   "cell_type": "code",
   "execution_count": 1,
   "id": "4e0d9ae2",
   "metadata": {
    "execution": {
     "iopub.execute_input": "2025-10-14T02:56:18.285860Z",
     "iopub.status.busy": "2025-10-14T02:56:18.284856Z",
     "iopub.status.idle": "2025-10-14T02:56:18.290071Z",
     "shell.execute_reply": "2025-10-14T02:56:18.290071Z"
    }
   },
   "outputs": [],
   "source": [
    "# สิ่งที่ต้องทำต่อจากนี้ (สำคัญ)\n",
    "# ----------------------- Min -----------------------\n",
    "# -แก้การ input และ output ให้เป็นไปตามที่เขียนไว้ในโครงงาน\n",
    "# -แก้สิ่งที่ (copy + vibe) มา code ให้ไม่พัง   (เรียยร้อยแล้ว) /\n",
    "\n",
    "# ----------------------- Pluem?(ให้ฝ่าย Data? จัดการ data ไป) -----------------------\n",
    "# -ขั้นตอนการเตรียมข้อมูล หาค่า mean max min s.d. (ฐานนิยมด้วย มัธยฐานมันปัญญาอ่อน)ตาม requirment ข้อ 2 -> https://docs.google.com/spreadsheets/d/1eApr4Ovo7bJ2M958XLn57o46IYsTLOGcogDctSa0ZuI/edit?gid=2076259361#gid=2076259361\n",
    "# -clean ข้อมูล และจัดสัดส่วนข้อมูลที่ใช้ได้ ใช้ไม่ได้ ว่ามีอย่างละกี่ %\n",
    "\n",
    "# ----------------------- Opor?(ฝ่าย คำนวณไปคำนวณไป) -----------------------\n",
    "# -เลือกแกน (มิติข้อมูล) เพิ่มเพื่อนำข้อมูลไปคำนวณเพิ่มเติมก่อนผ่าน pca ทำให้หมด 15 ขึ้นไป ตามในรูปเล่มทั้งหมด 18 (อาจจต้องนำแปลง string -> int ลองไปหาว่าแปลงค่ายังไงไม่ให้กระทบข้อมูลในแกนอื่นเยอะ Ex. Wireless -> 1 Wire -> 0 , right -> 1 left -> -1 sym -> 0 , etc)\n",
    "# -ทำให้มันแสดงด้วยว่าข้อมูลแต่ละ eigen ที่ตัดไปตัดไปกี่ % แล้วเหลือข้อมูลกี่ %\n",
    "# -เปลี่ยนจากการใช้ euclidean เป็น cosine simirarity(อาจจะไม่ต้องเปลี่ยน check ละ ว่ามันทำงานได้ถูกต้องและตรงกับ project ดูง่ายและเข้าใจง่าย เเค่หาที่ใกล้ๆจุดดาว ขึ้นกับดุลพินิจของผู้ทำ) (เอาตามที่ใส่ไว้ในโครงงาน และต้องเป็น simirarity ที่จารย์สอน)\n",
    "\n",
    "# ทำ doc pdf (ต้องการคนทำส่วนนี้ 1 คนจำเป็น     -> astra ?)\n",
    "\n",
    "# ข้อมูล (เผื่อในรายงาน)\n",
    "# ปัญหา  -> ข้อมูลมีหลายมิติมากทั้งที่เป็น text เเละเป็นเลข ทำให้ยากต่อการเเปลงค่า\n",
    "#       -> การทำ pca นั้นยากต่อการ debug ว่ามันกิดอะไรขึ้นตอนมันบั๊ก (อาจจะเพราะประสบการณ์น้อย เกี่ยวกับการทำ project ที่ต้องใช้ library ที่เคยใช้ไม่กี่ครั้ง)\n",
    "#       "
   ]
  },
  {
   "cell_type": "code",
   "execution_count": 2,
   "id": "eadea03f",
   "metadata": {
    "execution": {
     "iopub.execute_input": "2025-10-14T02:56:18.291257Z",
     "iopub.status.busy": "2025-10-14T02:56:18.291257Z",
     "iopub.status.idle": "2025-10-14T02:56:19.334461Z",
     "shell.execute_reply": "2025-10-14T02:56:19.334461Z"
    }
   },
   "outputs": [
    {
     "name": "stdout",
     "output_type": "stream",
     "text": [
      "Columns in df: ['Brand', 'Model', 'Size', 'Length (mm)', 'Width (mm)', 'Height (mm)', 'Weight (grams)', 'Shape', 'Hand compatibility', 'Hump placement', 'Front flare', 'Side curvature', 'Thumb rest', 'Ring finger rest', 'Sensor brand', 'Sensor', 'Sensor type', 'Sensor position', 'DPI', 'Polling rate (Hz)', 'Tracking speed (IPS)', 'Acceleration (G)', 'Side buttons', 'Middle buttons', 'Hot-swap switches', 'Switches brand', 'Switches', 'Scroll wheel encoder brand', 'Scroll wheel encoder', 'Material', 'Connectivity']\n"
     ]
    }
   ],
   "source": [
    "import pandas as pd\n",
    "from sklearn.preprocessing import StandardScaler\n",
    "from sklearn.impute import SimpleImputer\n",
    "from sklearn.decomposition import PCA\n",
    "import plotly.express as px\n",
    "import numpy as np\n",
    "from sklearn.metrics.pairwise import cosine_similarity\n",
    "df = pd.read_csv('2025_09_06_MousedB.csv', sep=';')\n",
    "\n",
    "print(\"Columns in df:\", df.columns.tolist())"
   ]
  },
  {
   "cell_type": "markdown",
   "id": "297a0bfc",
   "metadata": {},
   "source": [
    "# **Selection and Clean Data**"
   ]
  },
  {
   "cell_type": "code",
   "execution_count": 3,
   "id": "e188f119",
   "metadata": {
    "execution": {
     "iopub.execute_input": "2025-10-14T02:56:19.335740Z",
     "iopub.status.busy": "2025-10-14T02:56:19.335740Z",
     "iopub.status.idle": "2025-10-14T02:56:19.350600Z",
     "shell.execute_reply": "2025-10-14T02:56:19.350600Z"
    }
   },
   "outputs": [
    {
     "name": "stdout",
     "output_type": "stream",
     "text": [
      "✅ Columns found: ['DPI', 'Polling rate (Hz)', 'Weight (grams)', 'Length (mm)', 'Width (mm)', 'Height (mm)', 'Side buttons']\n",
      "⚠️ Columns missing: []\n",
      "\n",
      "📊 สรุปเปอร์เซ็นต์ข้อมูลที่ใช้ได้ / ขาดหาย\n",
      "DPI                  ใช้ได้:  99.92% | ขาดหาย:   0.08%\n",
      "Polling rate (Hz)    ใช้ได้:  99.83% | ขาดหาย:   0.17%\n",
      "Weight (grams)       ใช้ได้:  99.75% | ขาดหาย:   0.25%\n",
      "Length (mm)          ใช้ได้: 100.00% | ขาดหาย:   0.00%\n",
      "Width (mm)           ใช้ได้: 100.00% | ขาดหาย:   0.00%\n",
      "Height (mm)          ใช้ได้: 100.00% | ขาดหาย:   0.00%\n",
      "Side buttons         ใช้ได้:  99.92% | ขาดหาย:   0.08%\n",
      "\n",
      "📈 ค่าสถิติพื้นฐานแต่ละคอลัมน์:\n",
      "                       Mean      Max    Min    StdDev     Mode  %Valid  \\\n",
      "DPI                21093.13  45000.0  400.0  10171.22  26000.0   99.92   \n",
      "Polling rate (Hz)   3408.17   8000.0  120.0   3181.41   1000.0   99.83   \n",
      "Weight (grams)        66.51    180.0   13.0     24.90     55.0   99.75   \n",
      "Length (mm)          120.32    144.5   50.0      8.98    120.0  100.00   \n",
      "Width (mm)            65.49    100.0   14.4      5.87     66.0  100.00   \n",
      "Height (mm)           39.50    126.0   19.0      5.03     40.0  100.00   \n",
      "Side buttons           2.15     12.0    0.0      1.33      2.0   99.92   \n",
      "\n",
      "                   %Missing  \n",
      "DPI                    0.08  \n",
      "Polling rate (Hz)      0.17  \n",
      "Weight (grams)         0.25  \n",
      "Length (mm)            0.00  \n",
      "Width (mm)             0.00  \n",
      "Height (mm)            0.00  \n",
      "Side buttons           0.08  \n",
      "\n",
      "✅ ข้อมูลหลังจากเติมค่าเฉลี่ยและสเกล:\n"
     ]
    },
    {
     "data": {
      "text/html": [
       "<div>\n",
       "<style scoped>\n",
       "    .dataframe tbody tr th:only-of-type {\n",
       "        vertical-align: middle;\n",
       "    }\n",
       "\n",
       "    .dataframe tbody tr th {\n",
       "        vertical-align: top;\n",
       "    }\n",
       "\n",
       "    .dataframe thead th {\n",
       "        text-align: right;\n",
       "    }\n",
       "</style>\n",
       "<table border=\"1\" class=\"dataframe\">\n",
       "  <thead>\n",
       "    <tr style=\"text-align: right;\">\n",
       "      <th></th>\n",
       "      <th>DPI</th>\n",
       "      <th>Polling rate (Hz)</th>\n",
       "      <th>Weight (grams)</th>\n",
       "      <th>Length (mm)</th>\n",
       "      <th>Width (mm)</th>\n",
       "      <th>Height (mm)</th>\n",
       "      <th>Side buttons</th>\n",
       "    </tr>\n",
       "  </thead>\n",
       "  <tbody>\n",
       "    <tr>\n",
       "      <th>0</th>\n",
       "      <td>0.482632</td>\n",
       "      <td>-0.757271</td>\n",
       "      <td>-0.141154</td>\n",
       "      <td>-0.202779</td>\n",
       "      <td>-0.595220</td>\n",
       "      <td>-0.119875</td>\n",
       "      <td>-0.112955</td>\n",
       "    </tr>\n",
       "    <tr>\n",
       "      <th>1</th>\n",
       "      <td>-0.894385</td>\n",
       "      <td>-0.757271</td>\n",
       "      <td>-0.261663</td>\n",
       "      <td>-0.202779</td>\n",
       "      <td>-0.595220</td>\n",
       "      <td>-0.119875</td>\n",
       "      <td>-0.112955</td>\n",
       "    </tr>\n",
       "    <tr>\n",
       "      <th>2</th>\n",
       "      <td>0.482632</td>\n",
       "      <td>-0.757271</td>\n",
       "      <td>-0.301833</td>\n",
       "      <td>-0.425520</td>\n",
       "      <td>-0.441788</td>\n",
       "      <td>-0.259140</td>\n",
       "      <td>-0.112955</td>\n",
       "    </tr>\n",
       "    <tr>\n",
       "      <th>3</th>\n",
       "      <td>-0.894385</td>\n",
       "      <td>-0.757271</td>\n",
       "      <td>-0.301833</td>\n",
       "      <td>-0.425520</td>\n",
       "      <td>-0.441788</td>\n",
       "      <td>-0.259140</td>\n",
       "      <td>-0.112955</td>\n",
       "    </tr>\n",
       "    <tr>\n",
       "      <th>4</th>\n",
       "      <td>-0.894385</td>\n",
       "      <td>-0.757271</td>\n",
       "      <td>-0.100984</td>\n",
       "      <td>-0.425520</td>\n",
       "      <td>-0.441788</td>\n",
       "      <td>-0.259140</td>\n",
       "      <td>-0.112955</td>\n",
       "    </tr>\n",
       "  </tbody>\n",
       "</table>\n",
       "</div>"
      ],
      "text/plain": [
       "        DPI  Polling rate (Hz)  Weight (grams)  Length (mm)  Width (mm)  \\\n",
       "0  0.482632          -0.757271       -0.141154    -0.202779   -0.595220   \n",
       "1 -0.894385          -0.757271       -0.261663    -0.202779   -0.595220   \n",
       "2  0.482632          -0.757271       -0.301833    -0.425520   -0.441788   \n",
       "3 -0.894385          -0.757271       -0.301833    -0.425520   -0.441788   \n",
       "4 -0.894385          -0.757271       -0.100984    -0.425520   -0.441788   \n",
       "\n",
       "   Height (mm)  Side buttons  \n",
       "0    -0.119875     -0.112955  \n",
       "1    -0.119875     -0.112955  \n",
       "2    -0.259140     -0.112955  \n",
       "3    -0.259140     -0.112955  \n",
       "4    -0.259140     -0.112955  "
      ]
     },
     "execution_count": 3,
     "metadata": {},
     "output_type": "execute_result"
    }
   ],
   "source": [
    "# 🎯 คุณสมบัติที่ต้องการวิเคราะห์\n",
    "features = [\n",
    "    'DPI',\n",
    "    'Polling rate (Hz)',\n",
    "    'Weight (grams)',\n",
    "    'Length (mm)',\n",
    "    'Width (mm)',\n",
    "    'Height (mm)',\n",
    "    'Side buttons'\n",
    "]\n",
    "\n",
    "# ✅ ตรวจสอบว่าคอลัมน์เหล่านี้มีอยู่ใน df หรือไม่\n",
    "existing_features = [f for f in features if f in df.columns]\n",
    "missing_features = [f for f in features if f not in df.columns]\n",
    "\n",
    "print(\"✅ Columns found:\", existing_features)\n",
    "print(\"⚠️ Columns missing:\", missing_features)\n",
    "\n",
    "# ✅ สร้าง DataFrame เฉพาะคอลัมน์ที่มีอยู่จริง\n",
    "df_features = df[existing_features].copy()\n",
    "\n",
    "# ✅ ตรวจสอบข้อมูลที่หายไป\n",
    "valid_counts = df_features.notna().sum()\n",
    "total_counts = len(df_features)\n",
    "percent_valid = (valid_counts / total_counts * 100).round(2)\n",
    "percent_missing = (100 - percent_valid).round(2)\n",
    "\n",
    "print(\"\\n📊 สรุปเปอร์เซ็นต์ข้อมูลที่ใช้ได้ / ขาดหาย\")\n",
    "for col in existing_features:\n",
    "    print(f\"{col:20s} ใช้ได้: {percent_valid[col]:6.2f}% | ขาดหาย: {percent_missing[col]:6.2f}%\")\n",
    "\n",
    "# ✅ เติมค่าที่หายไปด้วยค่าเฉลี่ย (mean)\n",
    "imputer = SimpleImputer(strategy='mean')\n",
    "df_imputed = pd.DataFrame(imputer.fit_transform(df_features), columns=existing_features)\n",
    "\n",
    "# ✅ คำนวณสถิติพื้นฐาน\n",
    "stats = pd.DataFrame({\n",
    "    'Mean': df_imputed.mean(),\n",
    "    'Max': df_imputed.max(),\n",
    "    'Min': df_imputed.min(),\n",
    "    'StdDev': df_imputed.std(),\n",
    "    'Mode': df_imputed.mode().iloc[0],\n",
    "    '%Valid': percent_valid,\n",
    "    '%Missing': percent_missing\n",
    "}).round(2)\n",
    "\n",
    "print(\"\\n📈 ค่าสถิติพื้นฐานแต่ละคอลัมน์:\")\n",
    "print(stats)\n",
    "\n",
    "# ✅ สเกลข้อมูลให้มีค่าเฉลี่ย = 0 และส่วนเบี่ยงเบนมาตรฐาน = 1\n",
    "scaler = StandardScaler()\n",
    "df_scaled = pd.DataFrame(scaler.fit_transform(df_imputed), columns=existing_features)\n",
    "\n",
    "print(\"\\n✅ ข้อมูลหลังจากเติมค่าเฉลี่ยและสเกล:\")\n",
    "df_scaled.head()"
   ]
  },
  {
   "cell_type": "markdown",
   "id": "ce4595dc",
   "metadata": {},
   "source": [
    "# **Dimension Reduction using PCA**"
   ]
  },
  {
   "cell_type": "code",
   "execution_count": 4,
   "id": "2d48fb52",
   "metadata": {
    "execution": {
     "iopub.execute_input": "2025-10-14T02:56:19.352604Z",
     "iopub.status.busy": "2025-10-14T02:56:19.351604Z",
     "iopub.status.idle": "2025-10-14T02:56:19.365408Z",
     "shell.execute_reply": "2025-10-14T02:56:19.365408Z"
    }
   },
   "outputs": [
    {
     "name": "stdout",
     "output_type": "stream",
     "text": [
      "\n",
      "ผลลัพธ์จากการทำ PCA 5 แถวแรก:\n"
     ]
    },
    {
     "data": {
      "text/html": [
       "<div>\n",
       "<style scoped>\n",
       "    .dataframe tbody tr th:only-of-type {\n",
       "        vertical-align: middle;\n",
       "    }\n",
       "\n",
       "    .dataframe tbody tr th {\n",
       "        vertical-align: top;\n",
       "    }\n",
       "\n",
       "    .dataframe thead th {\n",
       "        text-align: right;\n",
       "    }\n",
       "</style>\n",
       "<table border=\"1\" class=\"dataframe\">\n",
       "  <thead>\n",
       "    <tr style=\"text-align: right;\">\n",
       "      <th></th>\n",
       "      <th>PC1</th>\n",
       "      <th>PC2</th>\n",
       "      <th>Model</th>\n",
       "      <th>Brand</th>\n",
       "    </tr>\n",
       "  </thead>\n",
       "  <tbody>\n",
       "    <tr>\n",
       "      <th>0</th>\n",
       "      <td>-0.936122</td>\n",
       "      <td>-0.265593</td>\n",
       "      <td>T520 Max</td>\n",
       "      <td>AJAZZ</td>\n",
       "    </tr>\n",
       "    <tr>\n",
       "      <th>1</th>\n",
       "      <td>-0.768192</td>\n",
       "      <td>-0.682492</td>\n",
       "      <td>T520</td>\n",
       "      <td>AJAZZ</td>\n",
       "    </tr>\n",
       "    <tr>\n",
       "      <th>2</th>\n",
       "      <td>-1.099152</td>\n",
       "      <td>-0.255619</td>\n",
       "      <td>G3 V2 Pro</td>\n",
       "      <td>MCHOSE</td>\n",
       "    </tr>\n",
       "    <tr>\n",
       "      <th>3</th>\n",
       "      <td>-0.857178</td>\n",
       "      <td>-0.757565</td>\n",
       "      <td>G3 V2</td>\n",
       "      <td>MCHOSE</td>\n",
       "    </tr>\n",
       "    <tr>\n",
       "      <th>4</th>\n",
       "      <td>-0.732831</td>\n",
       "      <td>-0.901596</td>\n",
       "      <td>G3 A</td>\n",
       "      <td>MCHOSE</td>\n",
       "    </tr>\n",
       "  </tbody>\n",
       "</table>\n",
       "</div>"
      ],
      "text/plain": [
       "        PC1       PC2      Model   Brand\n",
       "0 -0.936122 -0.265593   T520 Max   AJAZZ\n",
       "1 -0.768192 -0.682492       T520   AJAZZ\n",
       "2 -1.099152 -0.255619  G3 V2 Pro  MCHOSE\n",
       "3 -0.857178 -0.757565      G3 V2  MCHOSE\n",
       "4 -0.732831 -0.901596       G3 A  MCHOSE"
      ]
     },
     "execution_count": 4,
     "metadata": {},
     "output_type": "execute_result"
    }
   ],
   "source": [
    "# 1️⃣ เพิ่มมิติข้อมูล (Feature Engineering)\n",
    "# สร้าง features ใหม่จากข้อมูลเดิมเพื่อให้ PCA มีความหมายมากขึ้น\n",
    "df_features['Volume'] = df_features['Length (mm)'] * df_features['Width (mm)'] * df_features['Height (mm)']\n",
    "df_features['Weight_to_Volume'] = df_features['Weight (grams)'] / df_features['Volume']\n",
    "\n",
    "# ตรวจสอบว่ามีค่า infinite หรือไม่ (จากการหาร)\n",
    "df_features.replace([np.inf, -np.inf], np.nan, inplace=True)\n",
    "\n",
    "# 2️⃣ แปลงข้อมูลเชิงหมวดหมู่ (Categorical) เป็นเชิงตัวเลข (One-hot encoding)\n",
    "categorical_cols = ['Shape', 'Grip type', 'Sensor type']\n",
    "existing_cats = [col for col in categorical_cols if col in df.columns]\n",
    "\n",
    "if existing_cats:\n",
    "    df_cats = pd.get_dummies(df[existing_cats], prefix=existing_cats)\n",
    "    df_features = pd.concat([df_features, df_cats], axis=1)\n",
    "\n",
    "# 3️⃣ จัดการ Missing Values\n",
    "imputer = SimpleImputer(strategy='mean')\n",
    "df_imputed = pd.DataFrame(imputer.fit_transform(df_features), columns=df_features.columns)\n",
    "\n",
    "# 4️⃣ สเกลข้อมูลก่อน PCA\n",
    "scaler = StandardScaler()\n",
    "df_scaled = pd.DataFrame(scaler.fit_transform(df_imputed), columns=df_imputed.columns)\n",
    "\n",
    "\n",
    "# -----------------------------\n",
    "n = 2 # แก้แกนที่เหลือตรงนี้\n",
    "pca = PCA(n_components=n)\n",
    "\n",
    "col=[]\n",
    "for i in range(1,n+1):\n",
    "    col.append(f'PC{i}')\n",
    "#------------------------------\n",
    "\n",
    "# ทำการ fit และ transform ข้อมูล\n",
    "principal_components = pca.fit_transform(df_scaled)\n",
    "\n",
    "# สร้าง DataFrame ใหม่สำหรับผลลัพธ์จาก PCA\n",
    "df_pca = pd.DataFrame(\n",
    "    data=principal_components,\n",
    "    columns=col\n",
    ")\n",
    "\n",
    "# เพิ่มข้อมูลชื่อเมาส์และยี่ห้อกลับเข้าไปเพื่อใช้วิเคราะห์\n",
    "df_pca['Model'] = df['Model']\n",
    "df_pca['Brand'] = df['Brand']\n",
    "\n",
    "print(\"\\nผลลัพธ์จากการทำ PCA 5 แถวแรก:\")\n",
    "df_pca.head()"
   ]
  },
  {
   "cell_type": "code",
   "execution_count": 5,
   "id": "65ed399e",
   "metadata": {
    "execution": {
     "iopub.execute_input": "2025-10-14T02:56:19.366411Z",
     "iopub.status.busy": "2025-10-14T02:56:19.366411Z",
     "iopub.status.idle": "2025-10-14T02:56:19.829761Z",
     "shell.execute_reply": "2025-10-14T02:56:19.829761Z"
    }
   },
   "outputs": [
    {
     "data": {
      "application/vnd.plotly.v1+json": {
       "config": {
        "plotlyServerURL": "https://plot.ly"
       },
       "data": [
        {
         "hovertemplate": "<b>%{hovertext}</b><br><br>Brand=AJAZZ<br>แกนคุณลักษณะหลักที่ 1 (PC1)=%{x}<br>แกนคุณลักษณะหลักที่ 2 (PC2)=%{y}<extra></extra>",
         "hovertext": [
          "T520 Max",
          "T520",
          "AJ179 V2 Max",
          "AJ179 V2",
          "AM3 Max",
          "AM3 Pro",
          "AJ179 APEX",
          "AJ179 PRO",
          "AJ179P",
          "AJ179",
          "M259",
          "AJ159APEX",
          "AJ159 PRO",
          "AJ159P",
          "AJ159",
          "AJ199 MC",
          "AJ199 Pro 4K",
          "AJ199 4K",
          "AJ139 Pro 4K",
          "AJ099",
          "AJ139 Pro",
          "AJ199"
         ],
         "legendgroup": "AJAZZ",
         "marker": {
          "color": "#636efa",
          "symbol": "circle"
         },
         "mode": "markers",
         "name": "AJAZZ",
         "showlegend": true,
         "type": "scattergl",
         "x": {
          "bdata": "CN0iRbb07b/aUolOB5Xovy9qwxvxsfg/SPWmU0Qj9j+pBKdXYUwEwKkEp1dhTATA1IUukUL8sD+yiXps7vHVP9dHjbDIguk/10eNsMiC6T8LCbqvwKPuP+Oc2G5/EP6/1OLM/Mej+b9V4aQ/317yv1XhpD/fXvK/z2uea31f8b/I6znCgyHYP6Eokumie/K/wn7PexDZ6r+2fO8rsszmv7Dn2whdRem/tPwqNv5a8b8=",
          "dtype": "f8"
         },
         "xaxis": "x",
         "y": {
          "bdata": "JpSy53n/0L+jG1p2+Nblv2+N5XDsaek/IQOhl+TB7j9RwOf+bEzGP1HA5/5sTMY/y9WaxNcW/j8ytIA+Ken0PxTqlNAjfOc/FOqU0CN85z8mRSOZQ5rhP8Qs70bYHPA/rSxUA6e82z/0nwmrbN/Bv/SfCats38G/mOlX2lEo2r8O++4QHOfoP5Xl3uHKJ8O/mxhPojgdxz+nDfa5qYrev9YmTTvfP7k/cwC2fOkX0L8=",
          "dtype": "f8"
         },
         "yaxis": "y"
        },
        {
         "hovertemplate": "<b>%{hovertext}</b><br><br>Brand=MCHOSE<br>แกนคุณลักษณะหลักที่ 1 (PC1)=%{x}<br>แกนคุณลักษณะหลักที่ 2 (PC2)=%{y}<extra></extra>",
         "hovertext": [
          "G3 V2 Pro",
          "G3 V2",
          "G3 A",
          "A5 V2 Ultra",
          "L7 Ultra+",
          "L7 Pro+",
          "K7 Ultra",
          "G7 Max",
          "G7 Pro",
          "G7",
          "M7 Ultra",
          "AX5 V2",
          "L7 Ultra",
          "L7 Pro",
          "L7",
          "A7 Ultra",
          "A7 Pro",
          "A7",
          "M7 Pro",
          "M7",
          "G3 Ultra",
          "G3 Max",
          "G3 Pro",
          "G3",
          "G3 SE",
          "A5 Ultra",
          "AX5 Pro Max",
          "AX5 Pro",
          "AX5",
          "A5 Pro Max",
          "A5 Pro",
          "A5"
         ],
         "legendgroup": "MCHOSE",
         "marker": {
          "color": "#EF553B",
          "symbol": "circle"
         },
         "mode": "markers",
         "name": "MCHOSE",
         "showlegend": true,
         "type": "scattergl",
         "x": {
          "bdata": "HSE4pSCW8b+fvNtCAG7rv5R/mVFac+e/GZbfE49v+r9GVYAxRwUAwNKRnzLPzPy/6phB+4N+87/WeZD7FVz4P2ibfo6kNf4/EV9Bng/AAUAbVAk8PVT2vydQ64VG3P6/UFvigtvsBcBJftzJf7YDwEl+3Ml/tgPAFUGzQctH9b8Hh6fPE9vwv3NTY8m1//G/DJr9yYXn8b9cRpBqoKryvxUEv2m23fa/FQS/abbd9r8CG0tAQzDxv5R/mVFac+e/arABeUWi6r+znH4lknP4v5NhWRAo1fq/S4VCpMet9r82symWK0T4vzWbVmipLvG/NZtWaKku8b+l/cNddF/yvw==",
          "dtype": "f8"
         },
         "xaxis": "x",
         "y": {
          "bdata": "K9vWIRFc0L9hKJn7+T3ovw92alTg2ey/x18/Mbys4T80fSRi2yn1P7IYNNGGr+o//Mr4Faqr+D/RQQ9rf1gBQNvo/Lue8vo/EGeRyu598T9unf/RExT4P3zRuZ4MBPI/vuVg8zQ58j9KiI3aDBfiP0qIjdoMF+I/A24+obsP9z/UmEg2GsTrP+JL0LUCSe4/q/fKl8rM7T9fL6dDznrvPzkMvwr/MMY/OQy/Cv8wxj+kYPfeBjTSvw92alTg2ey/Hmsp2vQp6b+Ugs5Nqi7aP6syhGZql+I/QGeMLA060D9u/rLWfo/XPyT0FBZm+8S/JPQUFmb7xL/IIrYtd/azvw==",
          "dtype": "f8"
         },
         "yaxis": "y"
        },
        {
         "hovertemplate": "<b>%{hovertext}</b><br><br>Brand=G-Wolves<br>แกนคุณลักษณะหลักที่ 1 (PC1)=%{x}<br>แกนคุณลักษณะหลักที่ 2 (PC2)=%{y}<extra></extra>",
         "hovertext": [
          "Fenrir Pro 8K",
          "HTX Ultra 8K",
          "VUK",
          "HTM Plus 8K",
          "HT-S2 Pro 8K",
          "Fenrir Max 8K",
          "Fenrir Asym 8K",
          "HTS Ultra 8K",
          "HTX Mini 8K",
          "HTS Plus 8K",
          "HTR Pro 8K",
          "HT-S2 8K",
          "HTR 8K",
          "HTS Ace Wireless",
          "HTM Ace",
          "HSK Plus 4K",
          "HSK Plus Lite",
          "HTX 4K",
          "HTX Ace",
          "HSK Pro 4K",
          "HSK Pro Ace",
          "HTS Plus 4K",
          "HTS",
          "HTS Wireless",
          "HSK",
          "HSK Plus",
          "HTS Plus",
          "HTM Wireless",
          "HTM",
          "Skoll Mini",
          "Skoll"
         ],
         "legendgroup": "G-Wolves",
         "marker": {
          "color": "#00cc96",
          "symbol": "circle"
         },
         "mode": "markers",
         "name": "G-Wolves",
         "showlegend": true,
         "type": "scattergl",
         "x": {
          "bdata": "DLPSpt+5E8B+817A9XsBwM/jN5bCyfy/wXJYCum9/b9xXCRC5ecGwKooGQ6V/xLAU5x/7vdPEsDNDf3mPbgDwKo/VJgZLAnAtZCOdkxw/b/kJBQr1MsQwG6+m9AmjgXAqPNcB37LD8DeW7Ap5rHxvzAi7CciqOG/Q+joVnIvCsDFIv7IS8wHwKQSAeYTz/2/dxEP52Xm+794Zv/Kd8gSwBWICdGPmRLAZujnzr5w9r+qWnUY8370vxqPbG9pufG/YNAWDRslDMD1xG0N5qgHwFDU+daNcfO/Ioe8wj1o17/AMg4C8zzJv/2PSuvJAeA/yF/+TDcT/D8=",
          "dtype": "f8"
         },
         "xaxis": "x",
         "y": {
          "bdata": "q6Q7bTcD378/1KKBjA/1P6hew2qbpfg/COBQocM5+T815OlxdhHxP7iFqEbCHOa/3MNP3NTn57+eGtNyZtzzP7EeTSkYDOM/7OuMxibc6D9Q0J38OC7MvyiATOjOh+Q/QhISkjcSwr+L/wBjX2Tjvw/nwPImVbQ/dpnr1IR07b/72NZKSRn2v68gJM5CCOA/UutGxIEA1j80/8ynUCUAwCFsj1IpOgDAvI5wucUYwz/EoAltJ7rZv4+JkUbB0OG/XE6yWGkKAcAUezgzJKz2v7zTWZb9lrq/BJuLU3Ems79MYJi9YjPYvzcEjpooLdc/gKIAZP164D8=",
          "dtype": "f8"
         },
         "yaxis": "y"
        },
        {
         "hovertemplate": "<b>%{hovertext}</b><br><br>Brand=Pulsar<br>แกนคุณลักษณะหลักที่ 1 (PC1)=%{x}<br>แกนคุณลักษณะหลักที่ 2 (PC2)=%{y}<extra></extra>",
         "hovertext": [
          "Susanto-X",
          "Pro Series JV-X",
          "Xlite CrazyLight",
          "X2F",
          "ZywOo The Chosen Mouse - Mini",
          "ZywOo The Chosen Mouse - Medium",
          "Xlite v4 eS Mini",
          "Xlite v4 eS Medium",
          "X2H v3 eS Mini",
          "X2H v3 eS",
          "TenZ Signature Edition",
          "X2A v3 eS Mini",
          "X2 v3 eS Mini",
          "X2 v3 Mini",
          "X2 CrazyLight",
          "X2H v3 Mini",
          "X2H v3",
          "X2A v3",
          "X2 v3",
          "Xlite v4 Large",
          "X2A Wired",
          "X2 Wired",
          "Feinmann F01",
          "Xlite v4 Medium",
          "Xlite v4 Mini",
          "Xlite Wired",
          "Xlite V2 Mini Wireless",
          "Xlite Wireless",
          "Xlite",
          "Xlite V2 Wireless",
          "X2H Wired",
          "X3",
          "X3 Mini",
          "X3 LHD",
          "X3 LHD Mini",
          "X2A eS",
          "X2H eS",
          "Xlite v3 Large",
          "Xlite v3 Mini",
          "Xlite v3 Medium",
          "Xlite v3 eS",
          "X2A Mini",
          "X2A",
          "X2H Mini",
          "X2H",
          "X2V2 Mini",
          "X2V2",
          "X2 Mini",
          "X2"
         ],
         "legendgroup": "Pulsar",
         "marker": {
          "color": "#ab63fa",
          "symbol": "circle"
         },
         "mode": "markers",
         "name": "Pulsar",
         "showlegend": true,
         "type": "scattergl",
         "x": {
          "bdata": "I3QKPpn//L+HWE7s51Klv4RMzxBV2d6/nO7W/P7FDsBQM0/rl2qeP08uW3of++U/x+67NhrYcD+6/1MN2bfqP7M6O5EuCPq/84gM1CMc8r8duxYzAmf4v03dEkrGtPy/VQg9QQ2//r9lc/P/WAEBwNhRnb79RATAFrE2gg9A/7+DSbppOrz2vzSZoN2Vhvm/qMsEhzUa+796o385QAbzP40+DUDQ/fC/nX3K01f28r/KfY5xLqRMvw6SBlGo+98/Kr3JG3x5y7+FooP5NC/wPx1sQASUreE/qQmHBaqO8z8qr8sJda7vP6kJhwWqjvM/AFqA9csn7b+6X9SZAADtPxFzmegkess/ul/UmQAA7T8Rc5noJHrLPxOcrxbyIvO/UZOzrmSb8b+9CmzB7fP7P3q+zBH4+dU/akCD7UhL8T9Fy9yiYgnuP0uQpRgyc/e/7zG0VeiY8L8ZaJlxn+v1v7h5qarA1+q/g3/6dwQV+b9jZBj/hyzyv7ZDJeCPrPi/jT4NQND98L8=",
          "dtype": "f8"
         },
         "xaxis": "x",
         "y": {
          "bdata": "0DjuLtVi7D828Pwvb2P3PxARupIas/s/YVsjLmB8578FvOfmtID3P5+hd/ROov0/jY4+1XDr8j/IcVfp0+r7P7kpyllRutI/YGQCs1FE5z9eJSwRZlD0PyQMIKjDM8I/XbpEOKnP0j85un8fdCzhPyU6HZPZWvA/YPqxqXuR5T8MCiOj8MzwP08lQCkUGec/HJ7Mrli26j8xOM20XaECQB9AzWXEgKO//heWBEtkuj+0sw8+wy3+Pyslw2VDa/8/4iK2nePe9j/cfrbTJJjzPxmqDiMvmtc/N09HmNgz6T9NKKELZpLwPzdPR5jYM+k/aN738Lk01D+3B6dTqK8BQLew6dZT3f0/twenU6ivAUC3sOnWU939P9CGHNAOfMU/Hrc/s3L34j+cZBqhgqb4P0AubKpVheQ/r2YJgn1q8j8vpQ13snn4P6AXXmaa3Ne/rpH/Pev6sL8LRcY5LF3CvxMNrE7kE84/l7oA4/oX0L+Dacjccd6nP9kR2MMiCdK/H0DNZcSAo78=",
          "dtype": "f8"
         },
         "yaxis": "y"
        },
        {
         "hovertemplate": "<b>%{hovertext}</b><br><br>Brand=Dark<br>แกนคุณลักษณะหลักที่ 1 (PC1)=%{x}<br>แกนคุณลักษณะหลักที่ 2 (PC2)=%{y}<extra></extra>",
         "hovertext": [
          "Project Novus Pro",
          "Project Novus",
          "Project Novus SE",
          "Project Nexus Ultra",
          "Project Nexus"
         ],
         "legendgroup": "Dark",
         "marker": {
          "color": "#FFA15A",
          "symbol": "circle"
         },
         "mode": "markers",
         "name": "Dark",
         "showlegend": true,
         "type": "scattergl",
         "x": {
          "bdata": "E2e6FNlz9L9O3foIlCjqvynLJK/gXeq/71isHD2N8795Vuj4TnXrvw==",
          "dtype": "f8"
         },
         "xaxis": "x",
         "y": {
          "bdata": "vUo6wJFB8j/ZdyYjUkfiPygXCNT0LOI/eJpgMmuR9D+tBp9EDCToPw==",
          "dtype": "f8"
         },
         "yaxis": "y"
        },
        {
         "hovertemplate": "<b>%{hovertext}</b><br><br>Brand=Chaos<br>แกนคุณลักษณะหลักที่ 1 (PC1)=%{x}<br>แกนคุณลักษณะหลักที่ 2 (PC2)=%{y}<extra></extra>",
         "hovertext": [
          "M3 Mini"
         ],
         "legendgroup": "Chaos",
         "marker": {
          "color": "#19d3f3",
          "symbol": "circle"
         },
         "mode": "markers",
         "name": "Chaos",
         "showlegend": true,
         "type": "scattergl",
         "x": {
          "bdata": "d6q0wM8W/78=",
          "dtype": "f8"
         },
         "xaxis": "x",
         "y": {
          "bdata": "xmHLxIkA6D8=",
          "dtype": "f8"
         },
         "yaxis": "y"
        },
        {
         "hovertemplate": "<b>%{hovertext}</b><br><br>Brand=Attack<br>แกนคุณลักษณะหลักที่ 1 (PC1)=%{x}<br>แกนคุณลักษณะหลักที่ 2 (PC2)=%{y}<extra></extra>",
         "hovertext": [
          "Shark V5",
          "Shark R11 Ultra",
          "Shark X8 Ultra",
          "Shark X11 SE",
          "Shark X8 SE",
          "Shark X8 Pro",
          "Shark X8 Plus",
          "Shark G3 Pro",
          "Shark G3",
          "Shark X1",
          "Shark R5 Ultra",
          "Shark R6",
          "Shark X3 Max",
          "Shark R2",
          "Shark X11",
          "Shark R3",
          "Shark R1",
          "Shark X3 Pro",
          "Shark X6",
          "Shark X3"
         ],
         "legendgroup": "Attack",
         "marker": {
          "color": "#FF6692",
          "symbol": "circle"
         },
         "mode": "markers",
         "name": "Attack",
         "showlegend": true,
         "type": "scattergl",
         "x": {
          "bdata": "bRhZLuXS+r/3sh0OuAH6vw0zwa2F7fa/I7Me4YuA17++d9kONOrlv8u7f7/uX/a/mXSvBAw27r81K09d/WbyvzUrT139ZvK/mhkcgm1A97984ZV11ugDwEw8tZhaJgTAY6yv4XP++L+Ag9Zi8EUBwGq8I0oIetG/dyyKHYPXAMDIObiErjbwP+czlZUx5fe/WUDiLv359r9U8qNvvJH0vw==",
          "dtype": "f8"
         },
         "xaxis": "x",
         "y": {
          "bdata": "KAK2kO9R9T/CXN4gIlj5P/6yMZJdrfg/LzviKhcp0z+LwP418wbXP8tubsGnh/c/RF9w1iC57D8cLpJTXo/VvxwuklNej9W/xXi/2q/54D8kfaF1ujj2P4b1n8A2//U/X1mb8IY95z9ZFuoM3Ir1P/xsTC8lO8k/ZJtg9Zc+4T8JCjo+bYjhPy/ftbKJWtw/A4Z6J389lb+7WJyRp4jDPw==",
          "dtype": "f8"
         },
         "yaxis": "y"
        },
        {
         "hovertemplate": "<b>%{hovertext}</b><br><br>Brand=LAMZU<br>แกนคุณลักษณะหลักที่ 1 (PC1)=%{x}<br>แกนคุณลักษณะหลักที่ 2 (PC2)=%{y}<extra></extra>",
         "hovertext": [
          "MAYA Champion Edition",
          "x REJECT Paro Reject Special Edition",
          "Paro Aurora",
          "x Aimlabs MAYA X",
          "Inca",
          "Tachi",
          "MAYA X",
          "x Fnatic MAYA X 8K",
          "x Fnatic MAYA 8K",
          "Paro",
          "Atlantis Mini Champion",
          "MAYA 4K",
          "x Fnatic Thorn 4K",
          "Thorn 4K",
          "Atlantis Mini 4K",
          "Atlantis Mini Pro",
          "Atlantis OG V2 4K",
          "Atlantis OG V2 Pro",
          "MAYA",
          "Atlantis OG V2",
          "Thorn",
          "Atlantis Mini",
          "Atlantis"
         ],
         "legendgroup": "LAMZU",
         "marker": {
          "color": "#B6E880",
          "symbol": "circle"
         },
         "mode": "markers",
         "name": "LAMZU",
         "showlegend": true,
         "type": "scattergl",
         "x": {
          "bdata": "A+6G7y6F/7/3zSH2tymsv/fNIfa3Kay/OmQwthV79b9yE0ZuMmn7v9iGJ0I+IPy/OmQwthV79b9rpexQfj32vwPuhu8uhf+/3wnwaA7wjD+mXAX2Ym7+vzgj7aagQvq/if0XFWbF4D+J/RcVZsXgP0c+lAt7+fm/ERmDuvLb9r+caifh0CXuvzEgBT/A6ue/Av7bVRgl978xIAU/wOrnv/VHOrd2AOc/qvedeGLs9L8xIAU/wOrnvw==",
          "dtype": "f8"
         },
         "xaxis": "x",
         "y": {
          "bdata": "AsAf4Jzf7D8dIrE8Fon6Px0isTwWifo/9srb3I1b9T8QXYh5c/r1P4WO0pIxCOw/9srb3I1b9T9DrUfY3jD2PwLAH+Cc3+w/t5kqm6o9+D/eLSIiW23jP1lgqZnDnNs/qhEIfTh18z+qEQh9OHXzP6n0BTGx9cg/1yHQ/ujlqb9ckLnLVTfgPyciFt8Vt9A/kcOYwlvKxz8nIhbfFbfQPw2k4R2mDu8/Br+Hiq5M078nIhbfFbfQPw==",
          "dtype": "f8"
         },
         "yaxis": "y"
        },
        {
         "hovertemplate": "<b>%{hovertext}</b><br><br>Brand=ATK<br>แกนคุณลักษณะหลักที่ 1 (PC1)=%{x}<br>แกนคุณลักษณะหลักที่ 2 (PC2)=%{y}<extra></extra>",
         "hovertext": [
          "U2 Mini",
          "Duckbill",
          "X1 S",
          "X1 SE",
          "U2 Ultimate",
          "U2 Ultra",
          "U2 Pro Max",
          "U2 Pro",
          "U2 Plus",
          "U2",
          "U2 SE",
          "A9 Pro Max",
          "A9 Ultra",
          "A9 Pro",
          "A9 Plus",
          "A9 SE",
          "A9",
          "X1",
          "Fierce X",
          "F1 Extreme",
          "X1 Ultimate",
          "Z1 Ultra",
          "Z1 Pro Max",
          "X1 Ultra",
          "X1 Pro Max",
          "X1 Pro",
          "F1 Ultimate",
          "F1 Pro Max",
          "F1 Pro"
         ],
         "legendgroup": "ATK",
         "marker": {
          "color": "#FF97FF",
          "symbol": "circle"
         },
         "mode": "markers",
         "name": "ATK",
         "showlegend": true,
         "type": "scattergl",
         "x": {
          "bdata": "bP0ct3HSAMBYk4r+96MBwPCW7hX55+K/wbnFR4P23L/59mdKpZ35v5ldDrm13vm/okcPLSHl8r9RCccRwxr3v0eMzt9wQOe/1nZoNgrY67/Wdmg2Ctjrv8IQG//8wfC/ryRFiWez9r+gajkXsEbyv4ge5oMo+uK/UJkcWZuK3L9D0iK0jgPmv/ZMH0jluPC/QeCevTfeA8Bn5i69RcYCwGzWrtqWR/a/dUSnOsL92j/GbdyyatDgPwUHK7qcJfW/P6Fm79d887/q+ux6I2D1v7Pki9SzLgLA/FU7mRP4/b8AsVpLT/H/vw==",
          "dtype": "f8"
         },
         "xaxis": "x",
         "y": {
          "bdata": "Lams7MHK9j97B/K0gsLzPzUbImfc/uA/beYfhLdEzz9vutzNown6P95i/DURt/g/AUy76cah7D/gDSwihPryP1ubnXowl9Q/vGYxxnfD3j+8ZjHGd8PeP0m1rI3mSu4//q3ginr9+T9kjMYEzM/wP+9tgMJv6dc/WwqksQHRmL/zNEG60pLeP8RMx4mFqvE/tl+ZvmS78z+x63XfQcX6P1aNHkszFPw/gRHFRW4LAkAzK6CM3VIAQFxu4Q802Po/wqGXnRJn9z9i1VIAvHX5P4YCU2hBafk/RpF9GR6I8D/iFQ3gHszyPw==",
          "dtype": "f8"
         },
         "yaxis": "y"
        },
        {
         "hovertemplate": "<b>%{hovertext}</b><br><br>Brand=INZONE<br>แกนคุณลักษณะหลักที่ 1 (PC1)=%{x}<br>แกนคุณลักษณะหลักที่ 2 (PC2)=%{y}<extra></extra>",
         "hovertext": [
          "Mouse-A"
         ],
         "legendgroup": "INZONE",
         "marker": {
          "color": "#FECB52",
          "symbol": "circle"
         },
         "mode": "markers",
         "name": "INZONE",
         "showlegend": true,
         "type": "scattergl",
         "x": {
          "bdata": "Abdf6Kqi978=",
          "dtype": "f8"
         },
         "xaxis": "x",
         "y": {
          "bdata": "FpAv5qUu8j8=",
          "dtype": "f8"
         },
         "yaxis": "y"
        },
        {
         "hovertemplate": "<b>%{hovertext}</b><br><br>Brand=VAXEE<br>แกนคุณลักษณะหลักที่ 1 (PC1)=%{x}<br>แกนคุณลักษณะหลักที่ 2 (PC2)=%{y}<extra></extra>",
         "hovertext": [
          "ZYGEN NP-01S Ergo",
          "XE v2",
          "ZYGEN NP-01S v2",
          "x Ninjutso Sora 4K",
          "E1 Wireless 4K",
          "XE-S L Wireless 4K",
          "XE-S Wireless 4K",
          "ZYGEN NP-01 Wireless 4K",
          "ZYGEN NP-01S Wireless 4K",
          "XE Wireless 4K",
          "OUTSET AX Wireless 4K",
          "OUTSET AX Wireless",
          "ZYGEN NP-01S Wireless",
          "ZYGEN NP-01S",
          "XE Wireless",
          "XE",
          "OUTSET AX",
          "ZYGEN NP-01"
         ],
         "legendgroup": "VAXEE",
         "marker": {
          "color": "#636efa",
          "symbol": "circle"
         },
         "mode": "markers",
         "name": "VAXEE",
         "showlegend": true,
         "type": "scattergl",
         "x": {
          "bdata": "4gBZQ+xZ1b8G5wYUAVfWv1Dj9iagoeC/SecuVLu+5r/bII0hea7yP+GCbZ6gBO6/4YJtnqAE7r90w5EVYmXSP4pu4559es+/CgrisZ1/rD9KOxwu5Gv4P4BgLX9sifs/XxNpWew4qr/QSqijcwWYPxvWgPoUBtA/e1H5EZt8oj/9OXmDD6n8P3RYFWcs9+A/",
          "dtype": "f8"
         },
         "xaxis": "x",
         "y": {
          "bdata": "s0oMCOiz4b8f8kF8oePTvwVAvBxeeOS/9+e/bIzX5L+Q1Wv4n7jKP34UVpk7bu6/fhRWmTtu7r844GIMVwHnvypKIiv0oO6/2yg568w16L/vXDCA1v+vvy4KY4iQt9O/umSog18+87942uSc/6D0vxPUs+PLCPC/BLw8ZDCE6L8G6MyhypDYvzdzj3l5SfC/",
          "dtype": "f8"
         },
         "yaxis": "y"
        },
        {
         "hovertemplate": "<b>%{hovertext}</b><br><br>Brand=Ausdom<br>แกนคุณลักษณะหลักที่ 1 (PC1)=%{x}<br>แกนคุณลักษณะหลักที่ 2 (PC2)=%{y}<extra></extra>",
         "hovertext": [
          "G04 Ultra",
          "G04 Pro",
          "G04 Air"
         ],
         "legendgroup": "Ausdom",
         "marker": {
          "color": "#EF553B",
          "symbol": "circle"
         },
         "mode": "markers",
         "name": "Ausdom",
         "showlegend": true,
         "type": "scattergl",
         "x": {
          "bdata": "S+g27R25tb9Q0D38ukyTPwPjY6RuSN4/",
          "dtype": "f8"
         },
         "xaxis": "x",
         "y": {
          "bdata": "GI2jbteA/T98wFn8tQ/6P1SBI6ae5PA/",
          "dtype": "f8"
         },
         "yaxis": "y"
        },
        {
         "hovertemplate": "<b>%{hovertext}</b><br><br>Brand=Rapoo<br>แกนคุณลักษณะหลักที่ 1 (PC1)=%{x}<br>แกนคุณลักษณะหลักที่ 2 (PC2)=%{y}<extra></extra>",
         "hovertext": [
          "VT2 Max",
          "VT2",
          "VT3S Max Gen-2",
          "VT3S Gen-2",
          "VT3 Max Gen-2",
          "VT3 Gen-2",
          "MT760 Mini",
          "MT760 Pro",
          "MT760",
          "VT7 Max",
          "VT7",
          "VT9 Pro 4K",
          "VT3 Pro Max",
          "VT3 Pro",
          "VT1 Pro Max",
          "VT1 Air Max",
          "VT1 Pro",
          "VT3S (Old)",
          "VT900",
          "VT9 Air",
          "VT9 Pro Mini",
          "VT9 Pro",
          "VT9S",
          "VT960 Pro"
         ],
         "legendgroup": "Rapoo",
         "marker": {
          "color": "#00cc96",
          "symbol": "circle"
         },
         "mode": "markers",
         "name": "Rapoo",
         "showlegend": true,
         "type": "scattergl",
         "x": {
          "bdata": "kFrUg1A6+L+ebWasNvnyv9qIoZ+2BdI/6kKtEW5y1j+ljb0QdHLpP61qw8nPqOs/Lvgj99iUDkDLKKDCh3oVQBDFSXJNsxVA7hOAt0/l8b9qJf3aIcrwvzcvgeBGjNq/pGTvAoLj4j+rQfW73RnlP1JXzRzm8/m/e8qNNieI/b/OaEpAuNj4vwlEf4dXqs4/pl7eFUgJEEDTxJUMkFf0v5kq6dHlsuu/vjR5OEsszL/dASwDTwasv/jA6kLXLMu/",
          "dtype": "f8"
         },
         "xaxis": "x",
         "y": {
          "bdata": "ixPNTBiO+z+lC44N2afwP7YOmui3QP4/UIYTR0z1+z+Horgq0RgBQKW86rM25v8/nR3lHUt4E8D2rqcrXSAOwHpFBMGx+Q/A/EsifBCT9D+Xw5vapEfyP0eBOJHlKdc/fj1g5fWK+z8YtdlDij/5Pwbo+5jK998/b4mKdCRF6D9txuESHMrWP0gLMrAOm8S/TIBdRhOD1b9RmI51Y5jhPw8251O6Kq0/2ApuYz/JvT/uzUMYPGiwvwuQFAFSlJO/",
          "dtype": "f8"
         },
         "yaxis": "y"
        },
        {
         "hovertemplate": "<b>%{hovertext}</b><br><br>Brand=Freewolf<br>แกนคุณลักษณะหลักที่ 1 (PC1)=%{x}<br>แกนคุณลักษณะหลักที่ 2 (PC2)=%{y}<extra></extra>",
         "hovertext": [
          "A7",
          "A6"
         ],
         "legendgroup": "Freewolf",
         "marker": {
          "color": "#ab63fa",
          "symbol": "circle"
         },
         "mode": "markers",
         "name": "Freewolf",
         "showlegend": true,
         "type": "scattergl",
         "x": {
          "bdata": "AD36pnTQ6z8BW6HR6LDyvw==",
          "dtype": "f8"
         },
         "xaxis": "x",
         "y": {
          "bdata": "Ye+8yegA4z+z7W0dc53bvw==",
          "dtype": "f8"
         },
         "yaxis": "y"
        },
        {
         "hovertemplate": "<b>%{hovertext}</b><br><br>Brand=Microsoft<br>แกนคุณลักษณะหลักที่ 1 (PC1)=%{x}<br>แกนคุณลักษณะหลักที่ 2 (PC2)=%{y}<extra></extra>",
         "hovertext": [
          "Comfort Mouse 4500",
          "Wheel Mouse Optical",
          "Sidewinder X8",
          "Classic IntelliMouse",
          "Pro IntelliMouse"
         ],
         "legendgroup": "Microsoft",
         "marker": {
          "color": "#FFA15A",
          "symbol": "circle"
         },
         "mode": "markers",
         "name": "Microsoft",
         "showlegend": true,
         "type": "scattergl",
         "x": {
          "bdata": "JUJj8zAC+j9OLWbeos/2P2i5F2tfZxNAqOWTC/XtCED4LqL7MMMIQA==",
          "dtype": "f8"
         },
         "xaxis": "x",
         "y": {
          "bdata": "PM7M2YwWA8DHWKcFaZEXwIQKT3fclem/ZNFH+1VSwb9ogTds7BS/Pw==",
          "dtype": "f8"
         },
         "yaxis": "y"
        },
        {
         "hovertemplate": "<b>%{hovertext}</b><br><br>Brand=HyperX<br>แกนคุณลักษณะหลักที่ 1 (PC1)=%{x}<br>แกนคุณลักษณะหลักที่ 2 (PC2)=%{y}<extra></extra>",
         "hovertext": [
          "Pulsefire Fuse",
          "Pulsefire Haste 2 S",
          "Pulsefire Saga Pro",
          "Pulsefire Haste 2 Pro",
          "Pulsefire Warp",
          "Pulsefire Haste 2 Core Wireless",
          "Pulsefire Surge",
          "Pulsefire Haste 2 Mini",
          "Pulsefire Haste 2 Wireless",
          "Pulsefire Haste 2 Wired",
          "Pulsefire Raid",
          "Pulsefire Dart",
          "Pulsefire FPS Pro",
          "Pulsefire Core",
          "Pulsefire Haste",
          "Pulsefire Haste Wireless"
         ],
         "legendgroup": "HyperX",
         "marker": {
          "color": "#19d3f3",
          "symbol": "circle"
         },
         "mode": "markers",
         "name": "HyperX",
         "showlegend": true,
         "type": "scattergl",
         "x": {
          "bdata": "tF6JzHvimz/0JMWfGxXav9YccmjMnO8/0VNxzY5R5r+yvW4hKj/Sv76vDGfjArK/aciMpbrJ2j8ziAuFVtr0v2QJTyt+FuC/Gf07Lhhc8r9pyVC9L40IQFEjPFcnhgtAb9YL/ZRwBUB5PUWuFdHXPxf9Nucpo9a/F/025ymj1r8=",
          "dtype": "f8"
         },
         "xaxis": "x",
         "y": {
          "bdata": "r7TKG4Xi5L+DMzFzfcTAPypcMj3GYOQ/jEdLHpHP3j8acyA7kEzpvw+LGMhgc96/dIAqWw4y9b8NeSBUjszcv/WR3Mv2L84/BKnchfRL8D/ACJIy73HdPyLhNR1itMk/Ic2Z+HJ7zz83KZL0o/Dzv9B89vgms7i/0Hz2+CazuL8=",
          "dtype": "f8"
         },
         "yaxis": "y"
        },
        {
         "hovertemplate": "<b>%{hovertext}</b><br><br>Brand=Darmoshark<br>แกนคุณลักษณะหลักที่ 1 (PC1)=%{x}<br>แกนคุณลักษณะหลักที่ 2 (PC2)=%{y}<extra></extra>",
         "hovertext": [
          "M2 Air",
          "M5 Air",
          "N3 Pro",
          "M3 Micro Pro",
          "N7 Max",
          "N7",
          "M3 XS Pro",
          "M2 Pro",
          "M3S MAX",
          "M5 Pro",
          "M3 Pro Max",
          "N5",
          "M3 XS",
          "M2",
          "M5",
          "M3 Micro",
          "M3S Pro",
          "M3 Pro",
          "M3S",
          "M3 4K",
          "N3",
          "M3"
         ],
         "legendgroup": "Darmoshark",
         "marker": {
          "color": "#FF6692",
          "symbol": "circle"
         },
         "mode": "markers",
         "name": "Darmoshark",
         "showlegend": true,
         "type": "scattergl",
         "x": {
          "bdata": "VNk3wZ5TBMConrEX+6MOwEUd77LVreI/yBoXfj9zC8ANjPpkUXfOPx55m67nOdU/SIffaNI9A8DQz3kOWA0EwGZ1SFBVVfq/yrwVVgL/DMByC/vquSzvvzm3knvDfuI/46GSRIucAMCcymxSCKEBwGTXyDG7XQrAhqPVj6jlCsBIitCvnkn0v39U14DRaeK/IxzFee418r/cAjHpAYPUv43O0+p18+4/tK2gd0oJ2L8=",
          "dtype": "f8"
         },
         "xaxis": "x",
         "y": {
          "bdata": "cSIXy8dQ5T/cZbtG/GnBv2QvZSGKSvQ/vjiTT1IM1b8Qrb8e9yD+PwyOw5Qcg/w/1KhebGzg4T/T/cJJkujlPywgVChdaOs/GxoiaESC2r+t84E4IOX2P+gDr+HQvPg/1secyIp5tj9Z7UCeaVzPP+QcXEddUuy/WVqt1QA63r9kI/uXXBfVPzv+cNv/T+w/tEh6j/E5xT+lAo8Gsa7kP9QJv2F4t+g/bSUKccip5D8=",
          "dtype": "f8"
         },
         "yaxis": "y"
        },
        {
         "hovertemplate": "<b>%{hovertext}</b><br><br>Brand=Flickshot<br>แกนคุณลักษณะหลักที่ 1 (PC1)=%{x}<br>แกนคุณลักษณะหลักที่ 2 (PC2)=%{y}<extra></extra>",
         "hovertext": [
          "One Pro"
         ],
         "legendgroup": "Flickshot",
         "marker": {
          "color": "#B6E880",
          "symbol": "circle"
         },
         "mode": "markers",
         "name": "Flickshot",
         "showlegend": true,
         "type": "scattergl",
         "x": {
          "bdata": "7+rL6g45AcA=",
          "dtype": "f8"
         },
         "xaxis": "x",
         "y": {
          "bdata": "/+9B6FW19D8=",
          "dtype": "f8"
         },
         "yaxis": "y"
        },
        {
         "hovertemplate": "<b>%{hovertext}</b><br><br>Brand=Keychron<br>แกนคุณลักษณะหลักที่ 1 (PC1)=%{x}<br>แกนคุณลักษณะหลักที่ 2 (PC2)=%{y}<extra></extra>",
         "hovertext": [
          "M6 8K",
          "M6 Lite",
          "M4 8K",
          "M3 8K",
          "M3 Lite",
          "M2 8K",
          "M2 4K",
          "M6 4K",
          "M3 Mini 8K",
          "M5",
          "M7 8K",
          "Lemokey G2",
          "Lemokey G1",
          "M7",
          "M4",
          "M4 4K",
          "M6",
          "M3 Mini 4K - Metal Edition",
          "M2 Mini",
          "M3 Mini 4K",
          "M3 4K",
          "M3",
          "M2",
          "M1 Wireless",
          "M1 Wired",
          "M3 Mini"
         ],
         "legendgroup": "Keychron",
         "marker": {
          "color": "#FF97FF",
          "symbol": "circle"
         },
         "mode": "markers",
         "name": "Keychron",
         "showlegend": true,
         "type": "scattergl",
         "x": {
          "bdata": "wMRcK4gXBkAnXhe6IzcMQHawYnWWhxHA3GZgHoopyr/oS1KzC/ThP6acPmQUEtQ/7ONSwyaO5D81FlGYWVwHQKVaV8rqoPW/hRVbCizIGEA2aknEwTn9P0dzmbT9RPy/MeJDk0nM/b8cLfou7MwCQOzo750h3w7Awz084/I2EMDQqNnAHesIQN1fu9mxyem/gmrKz+7/wT/Zj72BXF7wvwbf20zQ1b8/m4x7V5Vr1D9YLnVlN8nqPxfN9k5Jx8E/+rjj8vWAqz9E1VhhqIHqvw==",
          "dtype": "f8"
         },
         "xaxis": "x",
         "y": {
          "bdata": "jSTmLtFcAkAipLiwJjvxP9GFy9p0//C/KcoSAJo76j+C/yi0uoLZvxFv9OZVi/s/J+dOXbgC9D+AIqi9B8L/Pwh5cLj+0ew/aQCjjfxvEUBpw+zt1dsBQFm0iFuFreY/h24onlm/4D9AvxzkKEH4P2BNiNL3dfy/vA1xZBKI+L/b4pBPItT7P8PWLkE25sc/OsRz9Axb4T9l0kpKh4HbP6N0j9m9VNY/U9jJhKB0uj+Dpzfv0hTwP8bgpODrY4y/NDxiF5nkt7+np9sj45PHPw==",
          "dtype": "f8"
         },
         "yaxis": "y"
        },
        {
         "hovertemplate": "<b>%{hovertext}</b><br><br>Brand=Endgame<br>แกนคุณลักษณะหลักที่ 1 (PC1)=%{x}<br>แกนคุณลักษณะหลักที่ 2 (PC2)=%{y}<extra></extra>",
         "hovertext": [
          "Gear XM2w 4k v2",
          "Gear XM2 8k v2",
          "Gear OP1 8k v2",
          "Gear OP1w 4k v2",
          "Gear OP1w 4k",
          "Gear XM2w 4k",
          "Gear XM2 8k",
          "Gear OP1 8k",
          "Gear OP1 8k Purple",
          "Gear OP1we",
          "Gear OP1 RGB",
          "Gear OP1",
          "Gear XM2we",
          "Gear XM2w",
          "Gear XM1",
          "Gear XM1 RGB",
          "Gear XM1r"
         ],
         "legendgroup": "Endgame",
         "marker": {
          "color": "#FECB52",
          "symbol": "circle"
         },
         "mode": "markers",
         "name": "Endgame",
         "showlegend": true,
         "type": "scattergl",
         "x": {
          "bdata": "WSKrtQX/6r83RLSlM331v8s9ABJ1lgDAp9Iz7SNf+b8j5LAQ9kP4v9qv979uZui/9oraKugw9L9uPaLb6an/v/qVEtyLYgDAhp26fd02879R7J6yLv33v/E7eh4BZfi/V+9fQY4P2795Onqk52bhv/aUtREU/8m/ZvHEXkWutT8HlmOeE1HQvw==",
          "dtype": "f8"
         },
         "xaxis": "x",
         "y": {
          "bdata": "bUHLNGXm3j/LbE0/WTrxP66UpwsP+eI/zcvC/Utncb+PWSJsl+bCv9hmGBNn3tQ/TWzBbbNw7T9C5XPwcNnaP20DR7uPA+I/EvONbGmd5L++c0wS1nvHv8UuytDYpcO/9ohHjn47yb97sk8ckZGrP3V7Ea5ccN+/iWkxounz6b9A4n3JGY7Yvw==",
          "dtype": "f8"
         },
         "yaxis": "y"
        },
        {
         "hovertemplate": "<b>%{hovertext}</b><br><br>Brand=AULA<br>แกนคุณลักษณะหลักที่ 1 (PC1)=%{x}<br>แกนคุณลักษณะหลักที่ 2 (PC2)=%{y}<extra></extra>",
         "hovertext": [
          "SC360",
          "SC900 Pro",
          "SC900 Max",
          "SC620",
          "SC800",
          "SC580",
          "SC680"
         ],
         "legendgroup": "AULA",
         "marker": {
          "color": "#636efa",
          "symbol": "circle"
         },
         "mode": "markers",
         "name": "AULA",
         "showlegend": true,
         "type": "scattergl",
         "x": {
          "bdata": "qJqivMMg6b+BwCMQvEnzP/3RoDOOLvI/glHLyjWL8j9PvYbsM1j7v+x7hoLxLtC/Lx/6Z+Uw9L8=",
          "dtype": "f8"
         },
         "xaxis": "x",
         "y": {
          "bdata": "nrtHsOb62b9nAdT97nz+P+dErU8tZABAHYt7EolioL/tmTUe9dPWP0kIFFPxMPe/yby6x0MH5z8=",
          "dtype": "f8"
         },
         "yaxis": "y"
        },
        {
         "hovertemplate": "<b>%{hovertext}</b><br><br>Brand=Incott<br>แกนคุณลักษณะหลักที่ 1 (PC1)=%{x}<br>แกนคุณลักษณะหลักที่ 2 (PC2)=%{y}<extra></extra>",
         "hovertext": [
          "039 Pro",
          "39",
          "039 SC",
          "029 Pro",
          "29",
          "029 SC",
          "G23 V2 Pro",
          "G23 V2",
          "G23 V2 SC",
          "G24 Pro",
          "G24",
          "G23 Pro",
          "G23",
          "GHERO Pro",
          "GHERO"
         ],
         "legendgroup": "Incott",
         "marker": {
          "color": "#EF553B",
          "symbol": "circle"
         },
         "mode": "markers",
         "name": "Incott",
         "showlegend": true,
         "type": "scattergl",
         "x": {
          "bdata": "D3w861mU878ZUVFCPWrkv6wrMII+KeW/K7PM9D3uAsB0+tNRq8r9v3T601Gryv2/aPyzIx9a9L++bY099MP0v7SFJPs0JfW/ow58OZ8c5T83twqIhKTqP1yrW8CALvO/Y0UU7YWi4L8VWx7SVTDnv6Hn886p1eu/",
          "dtype": "f8"
         },
         "xaxis": "x",
         "y": {
          "bdata": "JbbWZm0w/z/WRKTqTCrwPyCHYhTSkPA//MEtgp1V+D+SdkO6NurlP5J2Q7o26uU/avAFaLIJ9D+By3O2YWnzP2HkcHIo1PM/S0GdJVMSAECULWo3GWj6P7YT572nzfY/B2Xuasq12D8Ln6xWoVbnP1pqMa4mjuw/",
          "dtype": "f8"
         },
         "yaxis": "y"
        },
        {
         "hovertemplate": "<b>%{hovertext}</b><br><br>Brand=Razer<br>แกนคุณลักษณะหลักที่ 1 (PC1)=%{x}<br>แกนคุณลักษณะหลักที่ 2 (PC2)=%{y}<extra></extra>",
         "hovertext": [
          "DeathAdder V4 Pro",
          "Cobra HyperSpeed",
          "Pro Click V2",
          "Basilisk Mobile",
          "Pro Click V2 Vertical",
          "Imperator",
          "Abyssus Essential",
          "Basilisk V3 Pro 35K",
          "Basilisk V3 35K",
          "Viper Ultimate",
          "Pro Click",
          "DeathAdder V3 HyperSpeed",
          "DeathAdder Elite",
          "DeathAdder Chroma",
          "DeathAdder Expert",
          "Atheris",
          "Ouroboros",
          "Viper V3 Pro",
          "Pro Click Mini",
          "Naga Left-Handed",
          "Naga Trinity",
          "Mamba Wireless",
          "Mamba Elite",
          "Naga X",
          "Viper V3 HyperSpeed",
          "Naga Pro",
          "Viper 8KHz",
          "Viper",
          "Copperhead",
          "Viper V2 Pro",
          "DeathAdder Essential",
          "Cobra Pro",
          "Cobra",
          "DeathAdder V2 Mini",
          "DeathAdder V2 X HyperSpeed",
          "DeathAdder V2",
          "Basilisk V3 X HyperSpeed",
          "Naga V2 HyperSpeed",
          "Naga V2 Pro",
          "Basilisk Essential",
          "DeathAdder V3",
          "Basilisk V3",
          "Lancehead Wireless",
          "Lancehead",
          "Viper Mini Signature Edition",
          "Abyssus 2014",
          "Basilisk Ultimate",
          "Diamondback 2015",
          "Basilisk V2",
          "Krait 2013",
          "Basilisk X HyperSpeed",
          "Basilisk",
          "Basilisk V3 Pro",
          "DeathAdder V3 Pro",
          "Viper Mini",
          "DeathAdder V2 Pro",
          "Orochi V2"
         ],
         "legendgroup": "Razer",
         "marker": {
          "color": "#00cc96",
          "symbol": "circle"
         },
         "mode": "markers",
         "name": "Razer",
         "showlegend": true,
         "type": "scattergl",
         "x": {
          "bdata": "/UME5h5E6j8aeWop1ZP2v2JPY31X5QpAvUYAMVueAEAlFG0uqdQeQNevSldKaA1AdvRwH2qp2j+wcsSCdUMKQHBJY/tfVAhABm7xMhyYs78BmgiGGMkPQJhWuBgXw9c/FU0rZsT6BkD3f43LJs8HQOUEYgiVTghA3ZAPXxW597/2xitXDBX+P1+VFMjZb/O/apaO5koi7r9bOgDNk9kQQP+u5UHDHxJAKRV1zX3mBUC88q8eEOgDQEsgO4+Enw1AU2Ge6U/Gib9dkqbiUJMRQGQ1Nd5PRuO/iAyQT9IxwL+MjEz3f20DQPk3sspfpem/q/NC3HCwBkCRtmj9jDLrvwuVLkjSGei/Ef5KmLw64T/iBH7Th+UGQMmpKAfRSgJAHwNJDTNDDECJlpZ6GMcNQE841gYGbRJAnIL8W9EuCkB9dObBWFvyP8SVdpPzkglAGwrrnyZt6D+/LDRl5cPtPz2mD0PHcvy/ba+jp50+2b/hxw23YXULQL8GqksBKr+/0EmJW0TSCEC9a8+7GSP1v/IoD8NEpgZAs2gZIzySCEDCR5YscvQKQOc5iNx/yvM/vXfIBjoD5b9HtZIk6V4DQP21zk0oKvK/",
          "dtype": "f8"
         },
         "xaxis": "x",
         "y": {
          "bdata": "BsvMj7hwBkAKrfYzMjvVPyTih9M8H/0/rsMGbZX81D+3Bz1duEsOQB+IZNQlZ/W/DGM/uWuQGcDL//rEmBjvP6kgCN1CYfM/YIJfL1Wx1L8SNdttsWnqP00Wf844Zfg/6tdllJYrhD9QBwgpUkbKvxhVaMDfZdW/jCiUwgzNAsBJBFJHWLEAwIa9bFN9q/Y/McJfJc9vB8BwTHLd0IblP0rmkO/DWtE/TKDXSw3twb/sM8mUMB++PzSOLJWGoPI/R57sZJhMrb/1XUZx3AnfPy0EejPkBdU/zGgj+pR31b8oyMMB4YMXwNrAIIVgl+U/eJQ2nvNVwL8L3Zaoz9XRv0hcovkOKei/jYcD/TFa479b+v3hWk2Qvw02CKc5z+U/z8JrQHn42T/+tL7Sm8H1P8V0F4QNdNw/VkF1mD0ywz+SZL7rEpcBQIfbMmMhb+w/Tsmr5ilB9r+x2Vfg7DL5v8Zzx6QLDew/zMDMfgFN/L9QBwhWul7hPzUbQz8hZfS/3BqCuxTS6z/QHBKGcj8HwNpUXft/z+o/PJjre3loxb/LqiqxC1zpP/gwJnoY3ABANg8CZ0rI6b9vMplWQmbhP6fvAq291fS/",
          "dtype": "f8"
         },
         "yaxis": "y"
        },
        {
         "hovertemplate": "<b>%{hovertext}</b><br><br>Brand=Ninjutso<br>แกนคุณลักษณะหลักที่ 1 (PC1)=%{x}<br>แกนคุณลักษณะหลักที่ 2 (PC2)=%{y}<extra></extra>",
         "hovertext": [
          "Ten Air",
          "Ten",
          "Sora V2",
          "Sora 4K",
          "Sora",
          "Origin One X",
          "Katana Ultralight",
          "Katana Superlight"
         ],
         "legendgroup": "Ninjutso",
         "marker": {
          "color": "#ab63fa",
          "symbol": "circle"
         },
         "mode": "markers",
         "name": "Ninjutso",
         "showlegend": true,
         "type": "scattergl",
         "x": {
          "bdata": "gZpVwT5p+L+FcZjin1f1v5xNDZ7Z8QHAWJy/11Bj9r/9NmXqudf0v+5QcaUSguk/C6JXEJ0p6b9wZiFAGELpvw==",
          "dtype": "f8"
         },
         "xaxis": "x",
         "y": {
          "bdata": "pWe4ddSu9D9aATaMJUbxPxN5Aud3/uk/+YJE0lMQ4D+h24U5QpPXP+rU/BjmB+a/ZVza7J200r/aXie6zL7Ovw==",
          "dtype": "f8"
         },
         "yaxis": "y"
        },
        {
         "hovertemplate": "<b>%{hovertext}</b><br><br>Brand=ASUS<br>แกนคุณลักษณะหลักที่ 1 (PC1)=%{x}<br>แกนคุณลักษณะหลักที่ 2 (PC2)=%{y}<extra></extra>",
         "hovertext": [
          "ROG Keris II Origin",
          "ROG Harpe II Ace",
          "ROG Gladius II Wireless",
          "ROG Harpe Ace Mini",
          "ROG Harpe Ace Extreme",
          "ProArt MD300",
          "TUF Gaming M3 Gen II",
          "TUF Gaming M3",
          "ROG Keris II Ace",
          "ROG Strix Impact III Wireless",
          "ROG Pugio",
          "ROG Strix Impact III",
          "ROG Harpe Ace",
          "ROG Spatha",
          "TUF M4 Air",
          "TUF M4 Wireless",
          "ROG Sica",
          "ROG Strix Carry",
          "ROG Strix Evolve",
          "ROG Strix Impact",
          "ROG Gladius II Origin",
          "ROG Gladius II",
          "ROG Gladius II Core",
          "ROG Keris",
          "ROG Keris Wireless",
          "ROG Strix Impact II",
          "ROG Strix Impact II Wireless",
          "ROG Gladius III",
          "ROG Gladius III Wireless",
          "ROG Spatha X",
          "ROG Chakram Core",
          "ROG Chakram",
          "ROG Chakram X"
         ],
         "legendgroup": "ASUS",
         "marker": {
          "color": "#FFA15A",
          "symbol": "circle"
         },
         "mode": "markers",
         "name": "ASUS",
         "showlegend": true,
         "type": "scattergl",
         "x": {
          "bdata": "CDKnUAfj4D87T58X+4v4vztn82/R0wNA/F7XCS5PAcDQL3DGx4P4v44fuZDTVw9AYXrkehg+9j+8K7EsnST9P8VPDaQdadE/+sxhGKl36r8XC0ING0LpPwjHM8WEpOC/I0tzgBHe6b8XEFU88CMcQNat9VyPZua/gYA8sdoJ0z+DHDPbSwLbv3S9JFNi4ss/VQ7h7xBK7T9axDYBMC3hPz4c3leD+QdAhzVKQQgeCUAT+7l2urgFQDyFTZALDvA/PIVNkAsO8D8eFZztFl7Gv7bYP4ylbUo/HMVd9F3b/j/WzZ0QMD4BQHa21+dApxtAcHBHb5fPDECAgANm/pAQQL6K+yxwVBFA",
          "dtype": "f8"
         },
         "xaxis": "x",
         "y": {
          "bdata": "+R0CIyOG/z+F32HWP0P8P0y5ih/KnNc/9eaG4x6G8T8W8upUnUD9Pygcqmj6MBbA0USPbV7A0T8JOir941fjv0MLppDt8gFAmPXYxN8Atr+vSZeC7Zb6v4JnD4k0fNW/oDuCiTF66z8YN8RZkjHnP078sl4dXtA/dPdiZ4Mf7b8EEUGYxm3/vwt1ugVYCv6/6uQPzOLv879XRJa/eJ8EwJyeUJeM5s2/q2dmr70iw79vEJX0TUKqv3GRpVnebOO/cZGlWd5s479hu3qxvUj2v6me7c0x/fa/9Ue3sxrt6T+Lv9S0NmniP76YxbOFe/A/qxrT0Zzw7D+s8oBT+njYP1Xedo8p9fM/",
          "dtype": "f8"
         },
         "yaxis": "y"
        },
        {
         "hovertemplate": "<b>%{hovertext}</b><br><br>Brand=Finalmouse<br>แกนคุณลักษณะหลักที่ 1 (PC1)=%{x}<br>แกนคุณลักษณะหลักที่ 2 (PC2)=%{y}<extra></extra>",
         "hovertext": [
          "ULX Pro Series Tiger (L)",
          "ULX Pro Series Lion (M)",
          "ULX Pro Series Cheetah (S)",
          "ULX Prophecy Small",
          "ULX Prophecy Medium",
          "ULX Prophecy Classic",
          "ULX Competition Small",
          "ULX Competition Medium",
          "ULX Competition Classic",
          "UltralightX Cheetah (S)",
          "UltralightX Lion (M)",
          "UltralightX Tiger (L)",
          "Starlight-12 Small",
          "Starlight-12 Medium",
          "Ultralight 2",
          "Scream One",
          "Ultralight Pro Sunset",
          "Ultralight Pro",
          "Ultralight Phantom",
          "Air58"
         ],
         "legendgroup": "Finalmouse",
         "marker": {
          "color": "#19d3f3",
          "symbol": "circle"
         },
         "mode": "markers",
         "name": "Finalmouse",
         "showlegend": true,
         "type": "scattergl",
         "x": {
          "bdata": "orZ7ofuV87+EfdcXSZL9v77bHtFHnwPA7TNWnO0zA8DX6/7OG8b8v7nQixc8NPO/7TNWnO0zA8DX6/7OG8b8v7nQixc8NPO/vtse0UefA8CuNGtzMiz9v6K2e6H7lfO/JN5mwZUf/79PJyAiCeH0v1aQcD8ycfe/a8S1YUEI3j/bSd1as8bBP9tJ3VqzxsE/20ndWrPGwT9+T/xif9Gyvw==",
          "dtype": "f8"
         },
         "xaxis": "x",
         "y": {
          "bdata": "r2Tjwr3a5j9R0YRDRBDYP0X3OPC+WpU/f0r5Eusnpr80ymQ4/1vUP8j2fK/HAuY/f0r5Eusnpr80ymQ4/1vUP8j2fK/HAuY/Rfc48L5alT/BzfS9ITbWP69k48K92uY/AcBOrmm02r9I0PqJu+u1vzSk1hjqC/S/vajwqg4c8L9aMPwsz7Lkv1ow/CzPsuS/WjD8LM+y5L/97BqTp5Xavw==",
          "dtype": "f8"
         },
         "yaxis": "y"
        },
        {
         "hovertemplate": "<b>%{hovertext}</b><br><br>Brand=Rampage<br>แกนคุณลักษณะหลักที่ 1 (PC1)=%{x}<br>แกนคุณลักษณะหลักที่ 2 (PC2)=%{y}<extra></extra>",
         "hovertext": [
          "Blitz Ultimate",
          "Zenith Pro",
          "Prote M5"
         ],
         "legendgroup": "Rampage",
         "marker": {
          "color": "#FF6692",
          "symbol": "circle"
         },
         "mode": "markers",
         "name": "Rampage",
         "showlegend": true,
         "type": "scattergl",
         "x": {
          "bdata": "iggDoaoKwr+p2gPfzBvpv6n7Z1n9k+6/",
          "dtype": "f8"
         },
         "xaxis": "x",
         "y": {
          "bdata": "csFnzQyM9D9r5n0C7ybNP/zLgZOG2bu/",
          "dtype": "f8"
         },
         "yaxis": "y"
        },
        {
         "hovertemplate": "<b>%{hovertext}</b><br><br>Brand=Kysona<br>แกนคุณลักษณะหลักที่ 1 (PC1)=%{x}<br>แกนคุณลักษณะหลักที่ 2 (PC2)=%{y}<extra></extra>",
         "hovertext": [
          "Mercury Ultra",
          "Mercury Pro",
          "Mercury SE",
          "Jupiter Ultra",
          "Jupiter Pro",
          "Jupiter SE",
          "M660",
          "M600 V2",
          "Uranus Pro",
          "Uranus SE",
          "Mars SE",
          "M617",
          "M511",
          "Aztec",
          "M600"
         ],
         "legendgroup": "Kysona",
         "marker": {
          "color": "#B6E880",
          "symbol": "circle"
         },
         "mode": "markers",
         "name": "Kysona",
         "showlegend": true,
         "type": "scattergl",
         "x": {
          "bdata": "u9RQIbo3AMDwuh5mRlT/v0+OivhM5/e/lyOT/kTI878mAYo9vF7xv1E1kuPydea/lWRWLurw57+7C131SXnxvzwTJW3cXNM/08CGUQCc6z9ZwtefO1bzP+uUrbeKG/S/al+Tm2Wa2z+7C131SXnxv7sLXfVJefG/",
          "dtype": "f8"
         },
         "xaxis": "x",
         "y": {
          "bdata": "dMZNlRJm8D8dfI7nTTXsPxofHU8N/NA/syzi2y1g9z9q6pIzuh3zP5S3yVw8WeY/5GuXm7Y/4b/zA0NYd0J8Pyheai46B/Y/GTlQYKDp5D/UaxE0VifxP0Lgp50IWOg/kXCa2gJm4D/zA0NYd0J8P/MDQ1h3Qnw/",
          "dtype": "f8"
         },
         "yaxis": "y"
        },
        {
         "hovertemplate": "<b>%{hovertext}</b><br><br>Brand=Epomaker<br>แกนคุณลักษณะหลักที่ 1 (PC1)=%{x}<br>แกนคุณลักษณะหลักที่ 2 (PC2)=%{y}<extra></extra>",
         "hovertext": [
          "Click Lite",
          "Click"
         ],
         "legendgroup": "Epomaker",
         "marker": {
          "color": "#FF97FF",
          "symbol": "circle"
         },
         "mode": "markers",
         "name": "Epomaker",
         "showlegend": true,
         "type": "scattergl",
         "x": {
          "bdata": "0ZhUnbXb6b9ObklBr5D5vw==",
          "dtype": "f8"
         },
         "xaxis": "x",
         "y": {
          "bdata": "L2CmZeJrrL/SNfZeoQvzPw==",
          "dtype": "f8"
         },
         "yaxis": "y"
        },
        {
         "hovertemplate": "<b>%{hovertext}</b><br><br>Brand=Lofree<br>แกนคุณลักษณะหลักที่ 1 (PC1)=%{x}<br>แกนคุณลักษณะหลักที่ 2 (PC2)=%{y}<extra></extra>",
         "hovertext": [
          "Touch",
          "Hypace"
         ],
         "legendgroup": "Lofree",
         "marker": {
          "color": "#FECB52",
          "symbol": "circle"
         },
         "mode": "markers",
         "name": "Lofree",
         "showlegend": true,
         "type": "scattergl",
         "x": {
          "bdata": "+OXe2faLAkCyWOgXgmf/vw==",
          "dtype": "f8"
         },
         "xaxis": "x",
         "y": {
          "bdata": "XO9nSG8z+L/jEUQaRir1Pw==",
          "dtype": "f8"
         },
         "yaxis": "y"
        },
        {
         "hovertemplate": "<b>%{hovertext}</b><br><br>Brand=SteelSeries<br>แกนคุณลักษณะหลักที่ 1 (PC1)=%{x}<br>แกนคุณลักษณะหลักที่ 2 (PC2)=%{y}<extra></extra>",
         "hovertext": [
          "Kinzu V2 Pro",
          "Rival 3 Gen 2 Wireless",
          "Rival 3 Gen 2",
          "Kinzu V2",
          "Kana V2",
          "Rival 710",
          "Rival 300S",
          "Rival 500",
          "Sensei 310",
          "Rival 110",
          "Kinzu V3",
          "Rival 300",
          "Aerox 9 Wireless",
          "Aerox 5",
          "Aerox 5 Wireless",
          "Prime Mini",
          "Prime Mini Wireless",
          "Prime",
          "Prime+",
          "Prime Wireless",
          "Aerox 3",
          "Rival 3",
          "Rival 3 Wireless",
          "Rival 5",
          "Aerox 3 Wireless",
          "Rival 600",
          "Rival 650 Wireless",
          "Sensei Ten",
          "Rival 310"
         ],
         "legendgroup": "SteelSeries",
         "marker": {
          "color": "#636efa",
          "symbol": "circle"
         },
         "mode": "markers",
         "name": "SteelSeries",
         "showlegend": true,
         "type": "scattergl",
         "x": {
          "bdata": "ahCF2cbJ27/FqGkpW1mxP/WvtsJCWLM/ahCF2cbJ27/PYz/1C3jHP7r8NWMqVg9Al3V6knmTCkAiPgOgBHsRQFfYAW9ZEOw/tyBVclWC3D8Z5YpDUHrnvybe7SqhIRBAWLfFQAgrDkCDlE1eHNwAQBn2axgpTwJAqUBDMQNt8T9v2ZSAGvb1PzdDUEoXMvw/0ukD8Art/D/GK9asKRsAQEM0pXoF4ta/9a+2wkJYsz9hov5LLZbXP3LiDht9kP8/BJ7XEy6I07+yp9wA69cHQOAZKHpATgxAUIM2svzo4z+Axl98GywEQA==",
          "dtype": "f8"
         },
         "xaxis": "x",
         "y": {
          "bdata": "N3AQOExw/b9G+sGaJ9rqv5JcAU2MFfC/N3AQOExw/b8YgR0i6in4v/os1mlXBeW/CoarvaPP1j9fr5d9lDanvw3xmWpAkui/6lygIA1z9L/iFfAExKv/v2xiXXSwrta/Q/K28otX8z+DDQ7AeDDxPwhGzUQ3Y+w/xm7iEa623D/yRmTBctbBPxsztXkrfeY/rB0/lMz25D92elcXQzTcP/ApG9UEteC/klwBTYwV8L+HuYbjaMvyv32V2nigK88/S9Of8J4T279EIRa/DdXTP1hnM3U+TtC/hl5L+aPF5L+uQOB5JP3LPw==",
          "dtype": "f8"
         },
         "yaxis": "y"
        },
        {
         "hovertemplate": "<b>%{hovertext}</b><br><br>Brand=SyLical<br>แกนคุณลักษณะหลักที่ 1 (PC1)=%{x}<br>แกนคุณลักษณะหลักที่ 2 (PC2)=%{y}<extra></extra>",
         "hovertext": [
          "HELIX"
         ],
         "legendgroup": "SyLical",
         "marker": {
          "color": "#EF553B",
          "symbol": "circle"
         },
         "mode": "markers",
         "name": "SyLical",
         "showlegend": true,
         "type": "scattergl",
         "x": {
          "bdata": "Wdo/jd7dAcA=",
          "dtype": "f8"
         },
         "xaxis": "x",
         "y": {
          "bdata": "cUbLZWG17z8=",
          "dtype": "f8"
         },
         "yaxis": "y"
        },
        {
         "hovertemplate": "<b>%{hovertext}</b><br><br>Brand=VXE<br>แกนคุณลักษณะหลักที่ 1 (PC1)=%{x}<br>แกนคุณลักษณะหลักที่ 2 (PC2)=%{y}<extra></extra>",
         "hovertext": [
          "R1 SE+",
          "R1 Nearlink",
          "MAD R Major",
          "MAD R",
          "R1 Pro Max",
          "R1 Pro",
          "R1 SE",
          "R1"
         ],
         "legendgroup": "VXE",
         "marker": {
          "color": "#00cc96",
          "symbol": "circle"
         },
         "mode": "markers",
         "name": "VXE",
         "showlegend": true,
         "type": "scattergl",
         "x": {
          "bdata": "Ltfh26Th7b9OedchV1/tv6L5LPl0dADAvgTXFbzN/7/UegL8Np/zvzoTBLZK+fW/2/vx6TSC8L/j2PeikLjyvw==",
          "dtype": "f8"
         },
         "xaxis": "x",
         "y": {
          "bdata": "o48sh3JOxL+I2+nnE6THv9UNQS7bJvQ/cIW6jG/b8T8yJ7w0uHfUP/Iz/dvbLt8/a6WsoLYTqL8KXT1wzLHOPw==",
          "dtype": "f8"
         },
         "yaxis": "y"
        },
        {
         "hovertemplate": "<b>%{hovertext}</b><br><br>Brand=VGN<br>แกนคุณลักษณะหลักที่ 1 (PC1)=%{x}<br>แกนคุณลักษณะหลักที่ 2 (PC2)=%{y}<extra></extra>",
         "hovertext": [
          "R1 SE+",
          "R1 Nearlink",
          "Y2 Ultra",
          "Y2 Pro",
          "R1 Pro Max",
          "R1 Pro",
          "R1 SE",
          "R1",
          "Dragonfly F1 MOBA",
          "Dragonfly F1 Pro Max",
          "Dragonfly F1 Pro",
          "Dragonfly F1"
         ],
         "legendgroup": "VGN",
         "marker": {
          "color": "#ab63fa",
          "symbol": "circle"
         },
         "mode": "markers",
         "name": "VGN",
         "showlegend": true,
         "type": "scattergl",
         "x": {
          "bdata": "Ltfh26Th7b9OedchV1/tv63REskd//m/KxpCWZzy97/UegL8Np/zvzoTBLZK+fW/2/vx6TSC8L/j2PeikLjyv7FK6yZSb/O/sUrrJlJv87/J1fbUJcr1v5Ow5YOdrPK/",
          "dtype": "f8"
         },
         "xaxis": "x",
         "y": {
          "bdata": "o48sh3JOxL+I2+nnE6THv7Q58Vjypfs/6Mle///D9z8yJ7w0uHfUP/Iz/dvbLt8/a6WsoLYTqL8KXT1wzLHOP44NetmhZ9I/jg162aFn0j8VMe1mECbdPwZlIF313Mo/",
          "dtype": "f8"
         },
         "yaxis": "y"
        },
        {
         "hovertemplate": "<b>%{hovertext}</b><br><br>Brand=Motospeed<br>แกนคุณลักษณะหลักที่ 1 (PC1)=%{x}<br>แกนคุณลักษณะหลักที่ 2 (PC2)=%{y}<extra></extra>",
         "hovertext": [
          "X1",
          "X6 Max",
          "X6"
         ],
         "legendgroup": "Motospeed",
         "marker": {
          "color": "#FFA15A",
          "symbol": "circle"
         },
         "mode": "markers",
         "name": "Motospeed",
         "showlegend": true,
         "type": "scattergl",
         "x": {
          "bdata": "18/tk9mr9r+WA2/H8Cv6v168XKby5/e/",
          "dtype": "f8"
         },
         "xaxis": "x",
         "y": {
          "bdata": "2UXY6Fw23j/N1tm94czzP0b01H/XNPA/",
          "dtype": "f8"
         },
         "yaxis": "y"
        },
        {
         "hovertemplate": "<b>%{hovertext}</b><br><br>Brand=Dareu<br>แกนคุณลักษณะหลักที่ 1 (PC1)=%{x}<br>แกนคุณลักษณะหลักที่ 2 (PC2)=%{y}<extra></extra>",
         "hovertext": [
          "AE6",
          "A955",
          "A950 Air",
          "A980 Pro Max",
          "A980 Pro",
          "A980",
          "EM901",
          "A950 Pro 4K Magnesium",
          "A950 Pro 4K",
          "A950",
          "A950 Pro"
         ],
         "legendgroup": "Dareu",
         "marker": {
          "color": "#19d3f3",
          "symbol": "circle"
         },
         "mode": "markers",
         "name": "Dareu",
         "showlegend": true,
         "type": "scattergl",
         "x": {
          "bdata": "VTQHz/so8b9bGpIdYLoEQDmJrc/09wDAn8b6pG4P+T9MyYI6qC/2P2yC0a+gswBADXI390FH8T9l/TARjnDwv/gH4mj+DfC/xRg48XgZzT+DxaEv7ODpvw==",
          "dtype": "f8"
         },
         "xaxis": "x",
         "y": {
          "bdata": "vBGLwjDZ8D/2NVBE6tCHv8KcKr7pCvQ/70MJR/BM/T9D27IDeRz/P09TiBGxivM/77oxeDEx97/jF2XiWt3gP2KImb9wAeA/kxjAAb0h8r80EtbGS0vQPw==",
          "dtype": "f8"
         },
         "yaxis": "y"
        },
        {
         "hovertemplate": "<b>%{hovertext}</b><br><br>Brand=MAMBASNAKE<br>แกนคุณลักษณะหลักที่ 1 (PC1)=%{x}<br>แกนคุณลักษณะหลักที่ 2 (PC2)=%{y}<extra></extra>",
         "hovertext": [
          "M4",
          "M3",
          "M5 Ultra"
         ],
         "legendgroup": "MAMBASNAKE",
         "marker": {
          "color": "#FF6692",
          "symbol": "circle"
         },
         "mode": "markers",
         "name": "MAMBASNAKE",
         "showlegend": true,
         "type": "scattergl",
         "x": {
          "bdata": "n4sbSIKv9L9Ge+ajnNMBwLd70aoRQALA",
          "dtype": "f8"
         },
         "xaxis": "x",
         "y": {
          "bdata": "DFuNL8mouL8a+nzZrin4P+XHGyLvrO4/",
          "dtype": "f8"
         },
         "yaxis": "y"
        },
        {
         "hovertemplate": "<b>%{hovertext}</b><br><br>Brand=Delux<br>แกนคุณลักษณะหลักที่ 1 (PC1)=%{x}<br>แกนคุณลักษณะหลักที่ 2 (PC2)=%{y}<extra></extra>",
         "hovertext": [
          "M800 Mini Ultra",
          "M800 Mini Pro",
          "M800 Mini",
          "M900 Ultra",
          "M900 Mini Ultra",
          "M900 Mini Pro",
          "M700 Pro",
          "M700 Pro+",
          "M700 Ultra",
          "M500 Pro",
          "M900 SE",
          "M900 Pro",
          "M800 Pro 3395",
          "M600 Pro",
          "M600",
          "M600 Ultra",
          "M800 Ultra",
          "M800 Pro",
          "M700"
         ],
         "legendgroup": "Delux",
         "marker": {
          "color": "#B6E880",
          "symbol": "circle"
         },
         "mode": "markers",
         "name": "Delux",
         "showlegend": true,
         "type": "scattergl",
         "x": {
          "bdata": "VfKS0g1I/r/SAxD23yz9v4i/HbXWCPK/CO7x/3155j/EDRuKTFy6v1JhGMtJnsO/YxpeqNUm6r8hQVUNvebqv/CpdZdi3eq/imJvBuEa0z8C9EFlTZ/5P0N72LnNzPE/m7AYNTax4b87zJXBfoT2v3LM8NYLVvG/yIq/W9Qh978PWDnQgFLzvwGog7HAiti/KkmBIrGepj8=",
          "dtype": "f8"
         },
         "xaxis": "x",
         "y": {
          "bdata": "68AteuCU7D8fsCA3Cf7nP/4R878t0NS/3hvqgr0NAkCxTqS95uL7P9eiPtN9tPs/TnvMdVyr8T+jLIdq+RLyPwqh3S2OJ/M/VVlaXW218z/39RRNKNTxP1N5DnT1JPw/sVA8HnpXw7+M8Syo9pnHP/uzhBnWb9u/wv+gCnvNzT9EGJKuNZHjP92A8SBSN92/kGJQOJiGtL8=",
          "dtype": "f8"
         },
         "yaxis": "y"
        },
        {
         "hovertemplate": "<b>%{hovertext}</b><br><br>Brand=zeromouse<br>แกนคุณลักษณะหลักที่ 1 (PC1)=%{x}<br>แกนคุณลักษณะหลักที่ 2 (PC2)=%{y}<extra></extra>",
         "hovertext": [
          "Blade"
         ],
         "legendgroup": "zeromouse",
         "marker": {
          "color": "#FF97FF",
          "symbol": "circle"
         },
         "mode": "markers",
         "name": "zeromouse",
         "showlegend": true,
         "type": "scattergl",
         "x": {
          "bdata": "v1WDrSriEsA=",
          "dtype": "f8"
         },
         "xaxis": "x",
         "y": {
          "bdata": "rSq9at/H8b8=",
          "dtype": "f8"
         },
         "yaxis": "y"
        },
        {
         "hovertemplate": "<b>%{hovertext}</b><br><br>Brand=RAWM<br>แกนคุณลักษณะหลักที่ 1 (PC1)=%{x}<br>แกนคุณลักษณะหลักที่ 2 (PC2)=%{y}<extra></extra>",
         "hovertext": [
          "ER21 Pro",
          "ER21",
          "SA-MH01 Pro",
          "ES21 Pro",
          "ES21 M",
          "ES21",
          "SA-SH01 Pro",
          "SA-SH01",
          "SA-SL01 Pro",
          "SA-SL01",
          "SA-ML01 Plus",
          "SA-ML01",
          "SA-MH01"
         ],
         "legendgroup": "RAWM",
         "marker": {
          "color": "#FECB52",
          "symbol": "circle"
         },
         "mode": "markers",
         "name": "RAWM",
         "showlegend": true,
         "type": "scattergl",
         "x": {
          "bdata": "6IcRLWNJ4D8udOOe41vyP0gaI8f+u+K/V7x0tmTX+L9XvHS2ZNf4v0ycnhgP0PW/3t3qnJcX/b+HhhnYcLbyvyVeeMVeOfa/9CbtinD/87+peTe05rjYv1O9P+DwJOC/xkCdpBOC478=",
          "dtype": "f8"
         },
         "xaxis": "x",
         "y": {
          "bdata": "O8XpfnOnAEBDZT4JXefzP7RsgM4DkO8/6hPmS8PY8z/qE+ZLw9jzP6Nq+3pG0u4/o1UAYeTt4D8AdShRbVrVvwiBz6KdMbo/uNCtQsklwr8ZzmgLqljVP8HxIRGNnN0/5Dfeclsu7j8=",
          "dtype": "f8"
         },
         "yaxis": "y"
        },
        {
         "hovertemplate": "<b>%{hovertext}</b><br><br>Brand=Valkyrie<br>แกนคุณลักษณะหลักที่ 1 (PC1)=%{x}<br>แกนคุณลักษณะหลักที่ 2 (PC2)=%{y}<extra></extra>",
         "hovertext": [
          "VK M1 Pro",
          "VK M2 Pro",
          "VK M2",
          "VK M1"
         ],
         "legendgroup": "Valkyrie",
         "marker": {
          "color": "#636efa",
          "symbol": "circle"
         },
         "mode": "markers",
         "name": "Valkyrie",
         "showlegend": true,
         "type": "scattergl",
         "x": {
          "bdata": "md+aX7h6+r+4KetHOlXTP/2FLsHuhvA/Q0l4gaDm8b8=",
          "dtype": "f8"
         },
         "xaxis": "x",
         "y": {
          "bdata": "glYuo1eq8j+MQQi+lUkAQKtEgD/LdOw/jtXU09z90D8=",
          "dtype": "f8"
         },
         "yaxis": "y"
        },
        {
         "hovertemplate": "<b>%{hovertext}</b><br><br>Brand=Logitech<br>แกนคุณลักษณะหลักที่ 1 (PC1)=%{x}<br>แกนคุณลักษณะหลักที่ 2 (PC2)=%{y}<extra></extra>",
         "hovertext": [
          "G Pro X Superlight 2 SE",
          "G900",
          "ERGO M575",
          "M196",
          "MX Anywhere 3S",
          "MX Anywhere 2S",
          "M170",
          "M705 Marathon",
          "POP Mouse",
          "Pebble 2 M350s",
          "Pebble M350",
          "M340",
          "M550 L",
          "M550",
          "M650 L Left",
          "M650 L",
          "M650",
          "M240",
          "M190",
          "G Pro X Superlight 2 DEX",
          "G Pro 2 Lightspeed",
          "G309",
          "G703 Lightspeed",
          "MX Master 3S",
          "MX Master 3",
          "MX Master 2S",
          "MX Master",
          "G304 Lightspeed",
          "G602",
          "M720 Triathlon",
          "Lift Vertical",
          "MX Vertical",
          "G102 Lightsync",
          "G705",
          "G303 Shroud Edition",
          "G604 Lightspeed",
          "G903 Lightspeed",
          "G Pro Wireless",
          "G Pro X Superlight",
          "G Pro",
          "G403 Wireless",
          "G403",
          "G603 Lightspeed",
          "G403 Hero",
          "G203 Prodigy",
          "G305 Lightspeed",
          "G203 Lightsync",
          "G502 Hero",
          "G502 Lightspeed",
          "M171",
          "G103 Prodigy",
          "B100",
          "G600",
          "G9x",
          "G Pro X Superlight 2",
          "G402 Hyperion Fury",
          "G300s",
          "M100",
          "MX Anywhere",
          "M510",
          "G502 X Plus",
          "G502 X Lightspeed",
          "G502 X",
          "M185",
          "M280",
          "M187",
          "M238",
          "G100s",
          "G303 Daedalus Apex",
          "G3",
          "MX518",
          "G400",
          "G400s",
          "G MX518"
         ],
         "legendgroup": "Logitech",
         "marker": {
          "color": "#EF553B",
          "symbol": "circle"
         },
         "mode": "markers",
         "name": "Logitech",
         "showlegend": true,
         "type": "scattergl",
         "x": {
          "bdata": "k/p27jrs67+vIi1HkqvzP6R+KI9GfyBA+Zg9eICMtb/bUkS7IHz1P9tSRLsgfPU/vJGYNxBr3L+no5fE+pQRQInRjLtQKLO/9t5Iy/w66b+ymA40ia2lv656eiaPdOS/t8JVp6rT7j9flBLgNEHVv6yVqNF6mfU/rJWo0XqZ9T9qWYQRqOWsP/WQPaFeRcO/XJJQe2cG9j8rOzEe+c3pP0UgGS28POu/qmXGo0ofxL/SrJ4yqB0EQKf8NTD59x1Ak1JIsMBTHkByqMWRdYkeQOeb4viyiR5ADnvE4YeZtz8mNy3NCCcZQNA+tfLAhBRA6/S8Ag+NGkDliz18PJghQGpV2bA5Fsi/s10lTFXgA0A0g2Z2zDiRP0PEkEelURRAYsLMrUYE8T/GitdjWS20v7Kn0CTF7N6/XN05zhCD37/l2xbDD/8FQPWxmIXHWQJAWum+ixu3AkDigiD1X3gAQGpV2bA5Fsi/DnvE4YeZtz9qVdmwORbIv6TzuCWCKgxAyN7LhmbsCkDi9K9YAGTZv2pV2bA5Fsi/LUwwMS5O6D8hkl3pISwaQOTzxOziVxRAyH5jNAY79b81HRuy8usMQNHxFIhXV9A/jEx6YGgf6j/bUkS7IHz1P0gYsMys0gVAWv29XQTpDEBZM301Pt4LQK1rBkEo9QlAyawP76flt7+GOseKXZv0P63+f1xwsgvAjkAQv9s2978V3IWDtLrRP5IG1XqBScG//IGE7KkS9z/WbTv1pvQMQL2DD6B1kwxAOjqGRUGyDEAk1m0hCU4IQA==",
          "dtype": "f8"
         },
         "xaxis": "x",
         "y": {
          "bdata": "PonFVG5J7T8EJPG3SQfwv2F+7xqTYAzA/yrzsAXJHcAxUBCFrH8fwDFQEIWsfx/AGhC3Q9I3HsCh6QvvmlMbwFo+Uhx2qh7ASbQbufkzIcCeIN0/vk8jwFowD9TtnyHAFvrs50D5/7+moT6T6vgGwFbqRzk2CP+/VupHOTYI/7/IrMzNXp0GwMp51lCo0hzACfyT8lLpGcBoJLEB7YUEQMjrC2sP3+4/qRdfTVpW57+eaVVvNUu0P0g3Le9frw3AR0sUMkn6DsCSLXFbjqIQwHMg5wrR1BDAklCrirE5/7+MAxexhfbBP6C+bNAB7xfA3SyDTytPDsCkOqMEJssCwAWxqIgDBPu//mpnRVw5F8B87IlLoC3Bv+zKoaB/Z/A/zr1mRK7M4r9tjGy4xybRv20SQieFp8Y/Q79YKF3r8L8IS1CfHSLavz6OZ7JOArE/5YcnUFJrkz+AxN9Tv7rhPwWxqIgDBPu/klCrirE5/78FsaiIAwT7vwN7epDbgdM/8nJxNUR+3T87no13fHYewAWxqIgDBPu/VQpbdtMkHMA2A8e1S9oSwBtKUEqoIBnAyAOZgM7P9z8PjUl7mt2uv29m2aReV/W/TrwMMSxuHMAxUBCFrH8fwCHmzHhtaRzA3PDSHFLK7j9n0iwKUmzxP1v3Ei0dJPU/g/V2laVHHcCMPKSoiGMAwGlKMRStTRHAk9t3csNFDsBuH8xvWWcHwCcWklPCvvq/PqXnoF7cGcAkfceHbSfLv5iorv+9ury/2J8365Wdvr89OKaaKIPqPw==",
          "dtype": "f8"
         },
         "yaxis": "y"
        },
        {
         "hovertemplate": "<b>%{hovertext}</b><br><br>Brand=Flick<br>แกนคุณลักษณะหลักที่ 1 (PC1)=%{x}<br>แกนคุณลักษณะหลักที่ 2 (PC2)=%{y}<extra></extra>",
         "hovertext": [
          "Fire"
         ],
         "legendgroup": "Flick",
         "marker": {
          "color": "#00cc96",
          "symbol": "circle"
         },
         "mode": "markers",
         "name": "Flick",
         "showlegend": true,
         "type": "scattergl",
         "x": {
          "bdata": "F+cgn5C19r8=",
          "dtype": "f8"
         },
         "xaxis": "x",
         "y": {
          "bdata": "o8jNcA/54T8=",
          "dtype": "f8"
         },
         "yaxis": "y"
        },
        {
         "hovertemplate": "<b>%{hovertext}</b><br><br>Brand=IYX<br>แกนคุณลักษณะหลักที่ 1 (PC1)=%{x}<br>แกนคุณลักษณะหลักที่ 2 (PC2)=%{y}<extra></extra>",
         "hovertext": [
          "Amber"
         ],
         "legendgroup": "IYX",
         "marker": {
          "color": "#ab63fa",
          "symbol": "circle"
         },
         "mode": "markers",
         "name": "IYX",
         "showlegend": true,
         "type": "scattergl",
         "x": {
          "bdata": "cV8JLNgRA8A=",
          "dtype": "f8"
         },
         "xaxis": "x",
         "y": {
          "bdata": "P9n79KBc6j8=",
          "dtype": "f8"
         },
         "yaxis": "y"
        },
        {
         "hovertemplate": "<b>%{hovertext}</b><br><br>Brand=PMM<br>แกนคุณลักษณะหลักที่ 1 (PC1)=%{x}<br>แกนคุณลักษณะหลักที่ 2 (PC2)=%{y}<extra></extra>",
         "hovertext": [
          "ZEN 8K Mini",
          "Fuse 8K",
          "CYBER ZK",
          "CYBER 4.1",
          "VORTEX 4K M",
          "ZEN 8K",
          "CYBER 4.0",
          "CRAZE 8K",
          "NEO 8K",
          "VORTEX 8K M",
          "VORTEX 8K S",
          "VORTEX M",
          "VORTEX S",
          "FUSE",
          "CORE",
          "BLAZE",
          "NITE 8K",
          "TITAN M",
          "TITAN S",
          "TITAN 8K L",
          "CYBER 8K",
          "AIM 8K"
         ],
         "legendgroup": "PMM",
         "marker": {
          "color": "#FFA15A",
          "symbol": "circle"
         },
         "mode": "markers",
         "name": "PMM",
         "showlegend": true,
         "type": "scattergl",
         "x": {
          "bdata": "WK7lawdzA8Bp7icsf/D7v2kc4i6HTRXAcft2OjVIE8AWh+ue3fP+v7Q3/VLNDPu/Stm2/+/+FcBwiItMLQjYv2fPrqMm4QLAs6asNCju/79UktcLM/MEwNpEkM7Y0Oq/k3IPOqd19797CVo5sGvlvx4KirvoJuW/WByS5io+8L+oM5vJoGf9v0ki3c+H5PK/wawzdF+8979K5uXVt9/6vza24CrsBRTA3qPBUwg2F8A=",
          "dtype": "f8"
         },
         "xaxis": "x",
         "y": {
          "bdata": "jzewX6jr+D+P3ve8oCP4Py8ExkmADve/7DBUmKcG6L9FP9qP8aLqP9edJ8/2lf8/heFbPSgF9r9ENyU+9PQAQILHMhaeI/Y/DWo7D8gl9T/J/ivpyOzrP0y8J/Ne/9W/WaKghcf76b+r9SWw00GsvxZwDJMefNW/gRBuXNgm4L/mp51NRdLrP+hmlRpPH9M/OF/LoZgv77+/9xlJLkD6P1OcmH0Muuy/yCUVB18H878=",
          "dtype": "f8"
         },
         "yaxis": "y"
        },
        {
         "hovertemplate": "<b>%{hovertext}</b><br><br>Brand=Precision<br>แกนคุณลักษณะหลักที่ 1 (PC1)=%{x}<br>แกนคุณลักษณะหลักที่ 2 (PC2)=%{y}<extra></extra>",
         "hovertext": [
          "GG Titan-0"
         ],
         "legendgroup": "Precision",
         "marker": {
          "color": "#19d3f3",
          "symbol": "circle"
         },
         "mode": "markers",
         "name": "Precision",
         "showlegend": true,
         "type": "scattergl",
         "x": {
          "bdata": "PsMulBzTG8A=",
          "dtype": "f8"
         },
         "xaxis": "x",
         "y": {
          "bdata": "WHrUZXw3E8A=",
          "dtype": "f8"
         },
         "yaxis": "y"
        },
        {
         "hovertemplate": "<b>%{hovertext}</b><br><br>Brand=Glorious<br>แกนคุณลักษณะหลักที่ 1 (PC1)=%{x}<br>แกนคุณลักษณะหลักที่ 2 (PC2)=%{y}<extra></extra>",
         "hovertext": [
          "Model O Eternal",
          "Model O 2 Mini Wireless",
          "Model O 2 Mini",
          "Series 2 Pro",
          "Model D 2 Wireless",
          "Model D 2 Wired",
          "Model O Pro",
          "Series One Pro",
          "Model D Wireless",
          "Model D",
          "Model D-",
          "Model I",
          "Model O",
          "Model O-",
          "Model D- Wireless",
          "Model O 2 Pro 4K/8K",
          "Model O 2 Pro 1K",
          "Model D 2 Pro 4K/8K",
          "Model D 2 Pro 1K",
          "Model D Pro",
          "Model I 2 Wireless",
          "Model O 2 Wired",
          "Model O 2 Wireless",
          "Model O- Wireless",
          "Model O Wireless"
         ],
         "legendgroup": "Glorious",
         "marker": {
          "color": "#FF6692",
          "symbol": "circle"
         },
         "mode": "markers",
         "name": "Glorious",
         "showlegend": true,
         "type": "scattergl",
         "x": {
          "bdata": "i5K4xK6+1L9I39oq6rL0v/Sq4G9Z7/e/068CDjC3+r9TzXuSHrL5P5twXjGWyfY/IxhNzO983L945Qa3iIDzv8BbTQtSv/s/J30yTeKu/T/Fu+MkNJjxP+pEleIxwgRAxVIzEm1apL9mO/Ko6Xbuv3JxxMas8fE/1XXYs9me7b/boLxRUJngv5I1GPBr+O8/1FxurxSG9j/Hvo3rmrr3P6K/8ZTX2QNAUDI8pVZk4b8/s0yrew/Vv7D5CfP5tOy/q0/K5fkDvb8=",
          "dtype": "f8"
         },
         "xaxis": "x",
         "y": {
          "bdata": "H+W70pP6pL9SJJ0aK+jTvwgFZzMjlLK/mGy6eonW3D9W42XykT7yP5GOqKxZQ/U/UHys4D3hyj9cg/PyUFLNv/j9VsKVjug/kiAADZ2G4D9AFNktyrbCP4M2JXRimPQ/2ge9aEmP1r+hQYS4j0rpvwMLN93ls84/meMyss3D7T/AYUgz5y3aP8Ki6w1DIvw/APP0kZG68z+1E4kR+3nwP4I1U2fvifU/Jg0bBHOw0T+zxzm02nikP/PaymfQ2ue/h8iVSwKkw78=",
          "dtype": "f8"
         },
         "yaxis": "y"
        },
        {
         "hovertemplate": "<b>%{hovertext}</b><br><br>Brand=WLmouse<br>แกนคุณลักษณะหลักที่ 1 (PC1)=%{x}<br>แกนคุณลักษณะหลักที่ 2 (PC2)=%{y}<extra></extra>",
         "hovertext": [
          "Sword X",
          "Ying",
          "Beast X Max",
          "Beast Miao",
          "Beast X Mini Pro",
          "Beast X Pro",
          "Strider",
          "Beast X 8K",
          "Beast X Mini",
          "Beast X"
         ],
         "legendgroup": "WLmouse",
         "marker": {
          "color": "#B6E880",
          "symbol": "circle"
         },
         "mode": "markers",
         "name": "WLmouse",
         "showlegend": true,
         "type": "scattergl",
         "x": {
          "bdata": "TYL4WCY12T9YTHVdxxIDwDHxVeNXP/e/zdNYN8yTEMDeGD3sxIAHwGqRksQJ2gDATZLFDj0P+b8oGlHWckwAwJyh+/0t8wbABliLQIVx/L8=",
          "dtype": "f8"
         },
         "xaxis": "x",
         "y": {
          "bdata": "geuYVHqGAECxowZdct3vP5tIVdSGrPc/oRu16bkN27/IlqBak7TlPy3kfzCeqfE/V5z2Zrn98j+Nt/IdZbzuP/2Fkxe8HeE/g7i0TQFC5D8=",
          "dtype": "f8"
         },
         "yaxis": "y"
        },
        {
         "hovertemplate": "<b>%{hovertext}</b><br><br>Brand=Nintendo<br>แกนคุณลักษณะหลักที่ 1 (PC1)=%{x}<br>แกนคุณลักษณะหลักที่ 2 (PC2)=%{y}<extra></extra>",
         "hovertext": [
          "Joy-Con 2"
         ],
         "legendgroup": "Nintendo",
         "marker": {
          "color": "#FF97FF",
          "symbol": "circle"
         },
         "mode": "markers",
         "name": "Nintendo",
         "showlegend": true,
         "type": "scattergl",
         "x": {
          "bdata": "pX9WR1tj878=",
          "dtype": "f8"
         },
         "xaxis": "x",
         "y": {
          "bdata": "3MXGfPGEJsA=",
          "dtype": "f8"
         },
         "yaxis": "y"
        },
        {
         "hovertemplate": "<b>%{hovertext}</b><br><br>Brand=Angry<br>แกนคุณลักษณะหลักที่ 1 (PC1)=%{x}<br>แกนคุณลักษณะหลักที่ 2 (PC2)=%{y}<extra></extra>",
         "hovertext": [
          "Miao AM Infinity Mouse"
         ],
         "legendgroup": "Angry",
         "marker": {
          "color": "#FECB52",
          "symbol": "circle"
         },
         "mode": "markers",
         "name": "Angry",
         "showlegend": true,
         "type": "scattergl",
         "x": {
          "bdata": "7aP1f95F+b8=",
          "dtype": "f8"
         },
         "xaxis": "x",
         "y": {
          "bdata": "5Z5baXHn7z8=",
          "dtype": "f8"
         },
         "yaxis": "y"
        },
        {
         "hovertemplate": "<b>%{hovertext}</b><br><br>Brand=Corsair<br>แกนคุณลักษณะหลักที่ 1 (PC1)=%{x}<br>แกนคุณลักษณะหลักที่ 2 (PC2)=%{y}<extra></extra>",
         "hovertext": [
          "Scimitar Elite Wireless SE",
          "M55 Wireless",
          "M55 Wired",
          "Dark Core RGB Pro",
          "M55 RGB Pro",
          "Glaive Pro",
          "Glaive RGB",
          "Nightsword RGB",
          "Scimitar Elite Wireless",
          "Scimitar RGB Elite",
          "Scimitar Pro RGB",
          "Scimitar RGB",
          "Sabre RGB Pro Wireless",
          "Sabre RGB Pro",
          "Sabre Pro",
          "Katar Elite Wireless",
          "Katar Pro Wireless",
          "Katar Pro XT",
          "Ironclaw RGB Wireless",
          "Ironclaw RGB",
          "Harpoon RGB Wireless",
          "Harpoon RGB Pro",
          "Harpoon RGB",
          "M75 Air Wireless",
          "M75 Wireless",
          "M75",
          "Nightsabre Wireless",
          "Darkstar Wireless",
          "M65 RGB Ultra Wireless",
          "M65 RGB Ultra",
          "M65 RGB Pro",
          "M65 RGB Elite",
          "Dark Core RGB Pro SE"
         ],
         "legendgroup": "Corsair",
         "marker": {
          "color": "#636efa",
          "symbol": "circle"
         },
         "mode": "markers",
         "name": "Corsair",
         "showlegend": true,
         "type": "scattergl",
         "x": {
          "bdata": "X4VJValBEUD5+LjdpM7lP4fWiYXlX7I/PZMg7t+AEUASmbJKN7DjP8DQLORw4AlAL8NcIDhlC0B7LUFD67wSQDBnOScS8RBAAeYOSSsDE0ACe2DCpmUVQKM2gTlyrBVACD3GsoDC/z+aZgTpm7n3P6O3anojIvg/vab3y0YG6r/Lw0lP6R/BP33BOQXPa+K/QnvGHfj1EkDjqvrMQpYQQMFL31Kq5wFA3rws2nhx+z+jIvGkPRr9PyRX/4r+hca/Jj2dsJum3z9F13LvPJ/Tv+9CF5SQq9w/QNojzaR7CEBnFDxMOAoGQG2lwNTiiABAf1zPFQ1kCUCofp/eIh0HQD2TIO7fgBFA",
          "dtype": "f8"
         },
         "xaxis": "x",
         "y": {
          "bdata": "1FZ+dTFY8j8IEvkNqp4WwKAdIFa+ShTA8iiSnymGwj9HQ89vlEblv1t6SGkLPaE/zHwz2mXSyL/++YoQUTbsPxg06re61/E/hscZpEY02z/UepfOkTzMvwTfZW33S9e/NB5w/gFF8D+hag95RPv5P/smc9TkPvc/sQwF46Ji4b/+5cqEJkf+v7YtlVBmPe6/JtKNQolJ4T8zwtYa64vxP3nSLjG2lfS/2XTvmjbX4L8KDoN/ebnnv7w0Jo9ApuM/oPgJoPkZub+69qI1Q/zqP4G9g0m49dy/W8cPAaGA8D8f9Iqu/ymuvzqYyiJM5+c/QH1iCHUW578yWJpszrfWv/Iokp8phsI/",
          "dtype": "f8"
         },
         "yaxis": "y"
        },
        {
         "hovertemplate": "<b>%{hovertext}</b><br><br>Brand=ThundeRobot<br>แกนคุณลักษณะหลักที่ 1 (PC1)=%{x}<br>แกนคุณลักษณะหลักที่ 2 (PC2)=%{y}<extra></extra>",
         "hovertext": [
          "ML8",
          "ML4",
          "ML6 Pro",
          "ML9 Mini",
          "ML9S",
          "ML901",
          "ML602",
          "ML903"
         ],
         "legendgroup": "ThundeRobot",
         "marker": {
          "color": "#EF553B",
          "symbol": "circle"
         },
         "mode": "markers",
         "name": "ThundeRobot",
         "showlegend": true,
         "type": "scattergl",
         "x": {
          "bdata": "kFs+Jzrt978OfNupdWfyv0UWY5I2a/A/qI28zMsB/b9pGHhKSUjtv/iWnCOcusy/49OQRgrd2b9VRGbBuNHlvw==",
          "dtype": "f8"
         },
         "xaxis": "x",
         "y": {
          "bdata": "CrWxaTtJ1z8SNPGoQDvwvydEvXJpkfA/ER9Oo7jo1j+ezB5wIDjmPyLRy0QOfMq/rCxWZ78yzT8rIMM7NhDVPw==",
          "dtype": "f8"
         },
         "yaxis": "y"
        },
        {
         "hovertemplate": "<b>%{hovertext}</b><br><br>Brand=Chilkey<br>แกนคุณลักษณะหลักที่ 1 (PC1)=%{x}<br>แกนคุณลักษณะหลักที่ 2 (PC2)=%{y}<extra></extra>",
         "hovertext": [
          "Glacier LW 8K M"
         ],
         "legendgroup": "Chilkey",
         "marker": {
          "color": "#00cc96",
          "symbol": "circle"
         },
         "mode": "markers",
         "name": "Chilkey",
         "showlegend": true,
         "type": "scattergl",
         "x": {
          "bdata": "XCbYb8gv/b8=",
          "dtype": "f8"
         },
         "xaxis": "x",
         "y": {
          "bdata": "XOojyNi16j8=",
          "dtype": "f8"
         },
         "yaxis": "y"
        },
        {
         "hovertemplate": "<b>%{hovertext}</b><br><br>Brand=UNIUS<br>แกนคุณลักษณะหลักที่ 1 (PC1)=%{x}<br>แกนคุณลักษณะหลักที่ 2 (PC2)=%{y}<extra></extra>",
         "hovertext": [
          "Black Lotus"
         ],
         "legendgroup": "UNIUS",
         "marker": {
          "color": "#ab63fa",
          "symbol": "circle"
         },
         "mode": "markers",
         "name": "UNIUS",
         "showlegend": true,
         "type": "scattergl",
         "x": {
          "bdata": "T6Jho7dS/r8=",
          "dtype": "f8"
         },
         "xaxis": "x",
         "y": {
          "bdata": "J08b1OSe8z8=",
          "dtype": "f8"
         },
         "yaxis": "y"
        },
        {
         "hovertemplate": "<b>%{hovertext}</b><br><br>Brand=Fantech<br>แกนคุณลักษณะหลักที่ 1 (PC1)=%{x}<br>แกนคุณลักษณะหลักที่ 2 (PC2)=%{y}<extra></extra>",
         "hovertext": [
          "Tanto S",
          "Tanto",
          "Tanto E",
          "Go XD5",
          "Aria E",
          "Aria II Pro",
          "Aria II",
          "Helios II Pro S",
          "Helios XD3V2",
          "Helios II Pro",
          "X11 Daredevil",
          "Helios XD3",
          "Aria XD7"
         ],
         "legendgroup": "Fantech",
         "marker": {
          "color": "#FFA15A",
          "symbol": "circle"
         },
         "mode": "markers",
         "name": "Fantech",
         "showlegend": true,
         "type": "scattergl",
         "x": {
          "bdata": "JvctwR1Y97+p9QUENRPwv8m2NtKOMum/f9WJvFll8T9P1ywhQG7pvxV4YGdBPPq/lnY4qlj38r+y4kdbrvr2v4axqO55pca/agYx703T8r/qgF/SRe4PQHAal8NmAsC/dK5glECW8L8=",
          "dtype": "f8"
         },
         "xaxis": "x",
         "y": {
          "bdata": "MBUda0X23T/Yne+2X9i6v3tppY8/guK/zQbVPtU9Nb+OqAoN2onov6z6CMLus94/7AdAW7rht7/dGJPGnIbkP4ag4nt5sO6/ozOq7HEY1D+EzMnSBC7Ov5A2FnfNEPG/g9u5RNHz0L8=",
          "dtype": "f8"
         },
         "yaxis": "y"
        },
        {
         "hovertemplate": "<b>%{hovertext}</b><br><br>Brand=Orbital<br>แกนคุณลักษณะหลักที่ 1 (PC1)=%{x}<br>แกนคุณลักษณะหลักที่ 2 (PC2)=%{y}<extra></extra>",
         "hovertext": [
          "Pathfinder AAM-222",
          "Pathfinder AAM-000"
         ],
         "legendgroup": "Orbital",
         "marker": {
          "color": "#19d3f3",
          "symbol": "circle"
         },
         "mode": "markers",
         "name": "Orbital",
         "showlegend": true,
         "type": "scattergl",
         "x": {
          "bdata": "WP8keEXJAMBtseXBCGgGwA==",
          "dtype": "f8"
         },
         "xaxis": "x",
         "y": {
          "bdata": "pPIEwU6u2j9I9uddRf26vw==",
          "dtype": "f8"
         },
         "yaxis": "y"
        },
        {
         "hovertemplate": "<b>%{hovertext}</b><br><br>Brand=Metaphyuni<br>แกนคุณลักษณะหลักที่ 1 (PC1)=%{x}<br>แกนคุณลักษณะหลักที่ 2 (PC2)=%{y}<extra></extra>",
         "hovertext": [
          "M6",
          "P2 Pro",
          "P2 Lite",
          "P2",
          "Metapanda P1 Pro Max",
          "Metapanda P1 Pro",
          "Metapanda P1"
         ],
         "legendgroup": "Metaphyuni",
         "marker": {
          "color": "#FF6692",
          "symbol": "circle"
         },
         "mode": "markers",
         "name": "Metaphyuni",
         "showlegend": true,
         "type": "scattergl",
         "x": {
          "bdata": "p0gktvEbAMC2FErPT8v3v9WgrxyNTum/OBMiEmeG8L/lSIBb8ILsP+VIgFvwguw/W0LfO4n67j8=",
          "dtype": "f8"
         },
         "xaxis": "x",
         "y": {
          "bdata": "9U86oqk08z8ZFge9R6LVPxGuljj8lOe/FM2jNysUzr+7AHna98vuP7sAedr3y+4/glneOegF6z8=",
          "dtype": "f8"
         },
         "yaxis": "y"
        },
        {
         "hovertemplate": "<b>%{hovertext}</b><br><br>Brand=EWEADN<br>แกนคุณลักษณะหลักที่ 1 (PC1)=%{x}<br>แกนคุณลักษณะหลักที่ 2 (PC2)=%{y}<extra></extra>",
         "hovertext": [
          "X23 Max",
          "X23 Pro",
          "X23 SE",
          "X23",
          "M9",
          "X21 Pro",
          "X21",
          "L1 Pro",
          "L1",
          "S9 Ultra",
          "S9 Pro",
          "S9"
         ],
         "legendgroup": "EWEADN",
         "marker": {
          "color": "#B6E880",
          "symbol": "circle"
         },
         "mode": "markers",
         "name": "EWEADN",
         "showlegend": true,
         "type": "scattergl",
         "x": {
          "bdata": "LVvlBUEz8L/AMDYEQajov8AwNgRBqOi/wDA2BEGo6L/BTjCHdNj6v4DtnyJYCvk/dNVw+ZMw/D9jXTmykEv+v2NdObKQS/6/CKo3VuyR7r/m7WPo4FHmv8L98j5JXNG/",
          "dtype": "f8"
         },
         "xaxis": "x",
         "y": {
          "bdata": "K9zC/mymqj8TGoM1FcvcvxMagzUVy9y/ExqDNRXL3L9sygKVL87iPxZRb7A/QPY/XKtxP+rs7T8AYm/+ru/qPwBib/6u7+o/vY9ln0LT9z/2mudanPDtP0d16NU3Jdk/",
          "dtype": "f8"
         },
         "yaxis": "y"
        },
        {
         "hovertemplate": "<b>%{hovertext}</b><br><br>Brand=Zaopin<br>แกนคุณลักษณะหลักที่ 1 (PC1)=%{x}<br>แกนคุณลักษณะหลักที่ 2 (PC2)=%{y}<extra></extra>",
         "hovertext": [
          "ZPW Max",
          "ZPW",
          "Z2 Max",
          "Z1 Pro Max",
          "Z2 Mini Max 8K",
          "Z2 Mini 4K",
          "Z2 Mini",
          "Z2",
          "Z1 Pro",
          "Z1"
         ],
         "legendgroup": "Zaopin",
         "marker": {
          "color": "#FF97FF",
          "symbol": "circle"
         },
         "mode": "markers",
         "name": "Zaopin",
         "showlegend": true,
         "type": "scattergl",
         "x": {
          "bdata": "jt32Ewb1wj+xUQ74dM7LPyTPSwUZ7NY/obhFJoinAMD8lhyTU/Tav0iv1cJpqLe/HKQ8Thswuj8qfdkTKfvlPwmMDQukf/6/drrO+C+g878=",
          "dtype": "f8"
         },
         "xaxis": "x",
         "y": {
          "bdata": "TQbV0udV/j/nfU4xfAr8P9eWsuvg/fM/HaLEv6il1j+RJztrlEXuP3Iv4K+yaN4/xWEG7zlizT/bHRrEhuroP5fz/9kZuLA/ENgEauw96L8=",
          "dtype": "f8"
         },
         "yaxis": "y"
        },
        {
         "hovertemplate": "<b>%{hovertext}</b><br><br>Brand=RK<br>แกนคุณลักษณะหลักที่ 1 (PC1)=%{x}<br>แกนคุณลักษณะหลักที่ 2 (PC2)=%{y}<extra></extra>",
         "hovertext": [
          "Royal Kludge M3",
          "Royal Kludge M30"
         ],
         "legendgroup": "RK",
         "marker": {
          "color": "#FECB52",
          "symbol": "circle"
         },
         "mode": "markers",
         "name": "RK",
         "showlegend": true,
         "type": "scattergl",
         "x": {
          "bdata": "2b2DpfYZAMBZIfBvBIj1vw==",
          "dtype": "f8"
         },
         "xaxis": "x",
         "y": {
          "bdata": "P94Bl8ni9T+HN6H+qMjQPw==",
          "dtype": "f8"
         },
         "yaxis": "y"
        },
        {
         "hovertemplate": "<b>%{hovertext}</b><br><br>Brand=Xyder<br>แกนคุณลักษณะหลักที่ 1 (PC1)=%{x}<br>แกนคุณลักษณะหลักที่ 2 (PC2)=%{y}<extra></extra>",
         "hovertext": [
          "Amalight 4K"
         ],
         "legendgroup": "Xyder",
         "marker": {
          "color": "#636efa",
          "symbol": "circle"
         },
         "mode": "markers",
         "name": "Xyder",
         "showlegend": true,
         "type": "scattergl",
         "x": {
          "bdata": "dNNQ9uOJ578=",
          "dtype": "f8"
         },
         "xaxis": "x",
         "y": {
          "bdata": "c4WeWB8r6D8=",
          "dtype": "f8"
         },
         "yaxis": "y"
        },
        {
         "hovertemplate": "<b>%{hovertext}</b><br><br>Brand=Imecoo<br>แกนคุณลักษณะหลักที่ 1 (PC1)=%{x}<br>แกนคุณลักษณะหลักที่ 2 (PC2)=%{y}<extra></extra>",
         "hovertext": [
          "P1"
         ],
         "legendgroup": "Imecoo",
         "marker": {
          "color": "#EF553B",
          "symbol": "circle"
         },
         "mode": "markers",
         "name": "Imecoo",
         "showlegend": true,
         "type": "scattergl",
         "x": {
          "bdata": "HiXW5f5c6T8=",
          "dtype": "f8"
         },
         "xaxis": "x",
         "y": {
          "bdata": "af8e/KRpAEA=",
          "dtype": "f8"
         },
         "yaxis": "y"
        },
        {
         "hovertemplate": "<b>%{hovertext}</b><br><br>Brand=Vaidemi<br>แกนคุณลักษณะหลักที่ 1 (PC1)=%{x}<br>แกนคุณลักษณะหลักที่ 2 (PC2)=%{y}<extra></extra>",
         "hovertext": [
          "Nimbus"
         ],
         "legendgroup": "Vaidemi",
         "marker": {
          "color": "#00cc96",
          "symbol": "circle"
         },
         "mode": "markers",
         "name": "Vaidemi",
         "showlegend": true,
         "type": "scattergl",
         "x": {
          "bdata": "fSUYAiB//78=",
          "dtype": "f8"
         },
         "xaxis": "x",
         "y": {
          "bdata": "a7vOw+1b+T8=",
          "dtype": "f8"
         },
         "yaxis": "y"
        },
        {
         "hovertemplate": "<b>%{hovertext}</b><br><br>Brand=Zowie<br>แกนคุณลักษณะหลักที่ 1 (PC1)=%{x}<br>แกนคุณลักษณะหลักที่ 2 (PC2)=%{y}<extra></extra>",
         "hovertext": [
          "EC3-DW",
          "EC2-DW",
          "EC1-DW",
          "ZA13-DW",
          "FK2-DW",
          "U2-DW",
          "S2-DW",
          "S1-B V2",
          "S1-B",
          "S1-C",
          "S2-B V2",
          "S2-B",
          "ZA13-B",
          "ZA12-B",
          "ZA12-C",
          "ZA11-B",
          "ZA11-C",
          "FK2-B V2",
          "FK2-B",
          "FK1-B V2",
          "FK1-B",
          "FK1+-B V2",
          "FK1+-B",
          "EC2-B V2",
          "EC2-B",
          "EC1-B V2",
          "EC1-B",
          "MiCO",
          "U2",
          "AM",
          "EC3-CW",
          "EC2-CW",
          "EC1-CW",
          "S2-C",
          "ZA13-C",
          "FK2-C",
          "FK1-C",
          "FK1+-C",
          "EC3-C",
          "EC2-C",
          "EC1-C"
         ],
         "legendgroup": "Zowie",
         "marker": {
          "color": "#ab63fa",
          "symbol": "circle"
         },
         "mode": "markers",
         "name": "Zowie",
         "showlegend": true,
         "type": "scattergl",
         "x": {
          "bdata": "nD55C38V8T9URen17hb0Pzu8IhPdrP4/dvk7eZ1l2b8kkXbtG+jdv23jgP/5QuG/Tu6mjglS4b/Wymc9ugvjP9bKZz26C+M/Jck8xQ/bzj999bCGjauxP331sIaNq7E/qtiPInqvoz9nMoVACQveP0uCU5e9DtI/ZWJdwWDB7j+PSeyef3fnP+Zn5z3/3Lc/5mfnPf/ctz+absh7+w/hP5puyHv7D+E/nWhOv8Z+7T+daE6/xn7tP+lQEBjANAFA6VAQGMA0AUA1JMj+73oGQDUkyP7vegZAEiho1DMK/r8CMr260g/Wv828U/0e99c/3qsQ3YSj+j+7Z+WXQI79PyqHKckgxwNAadhxlrvXz78+ye5p+N7Jv8Fp8QF5SMO/8+B+yxzw0j+mJFjvudfmPzRW8OuyXfg/oKQ137YP/D+RgJqqP/UDQA==",
          "dtype": "f8"
         },
         "xaxis": "x",
         "y": {
          "bdata": "yBfTydnexj9cFEFIXujWP0wPXin8p+g/+jgsaXnc4r+0jFy1SKLmv7otEeFLSuC/l+FS/BZG6b+rb/KWtCfzv6tv8pa0J/O/iRD/NIv06b/vm7LnDh/4v++bsucOH/i/6CDPDRWn8b9aWB4f4a7qv81ujSC0N+S/5FoBdaCQ4b+TSI70PPPTv2MfayfC4PW/Yx9rJ8Lg9b+TVmgoHN7xv5NWaCgc3vG/1p4EGJHk6r/WngQYkeTqv+uZPk0VguS/65k+TRWC5L+gCcXgvHHIv6AJxeC8cci/rkIVaXTmCMACrT+9Fibov9wtjm26/fe/mRECuRY74L8Qtv3layDUv3joJzon5cM/YW9MCQdY8r9CuFpFRLjqv3YOUujxdPG/ggohFXJn67/YG3eRF9bjv8bGhbINhNa/9M82Sexly7/8gn5abfDAPw==",
          "dtype": "f8"
         },
         "yaxis": "y"
        },
        {
         "hovertemplate": "<b>%{hovertext}</b><br><br>Brand=Tecware<br>แกนคุณลักษณะหลักที่ 1 (PC1)=%{x}<br>แกนคุณลักษณะหลักที่ 2 (PC2)=%{y}<extra></extra>",
         "hovertext": [
          "EX1",
          "Pulse Elite"
         ],
         "legendgroup": "Tecware",
         "marker": {
          "color": "#FFA15A",
          "symbol": "circle"
         },
         "mode": "markers",
         "name": "Tecware",
         "showlegend": true,
         "type": "scattergl",
         "x": {
          "bdata": "3hxGEpd48L/8me0wVu/Jvw==",
          "dtype": "f8"
         },
         "xaxis": "x",
         "y": {
          "bdata": "Lj0aKV8Zwb+KtnxlZxbPvw==",
          "dtype": "f8"
         },
         "yaxis": "y"
        },
        {
         "hovertemplate": "<b>%{hovertext}</b><br><br>Brand=SOLAKAKA<br>แกนคุณลักษณะหลักที่ 1 (PC1)=%{x}<br>แกนคุณลักษณะหลักที่ 2 (PC2)=%{y}<extra></extra>",
         "hovertext": [
          "SM809 Pro",
          "SM802 Pro",
          "SM805",
          "SM850",
          "SM809",
          "SM802"
         ],
         "legendgroup": "SOLAKAKA",
         "marker": {
          "color": "#19d3f3",
          "symbol": "circle"
         },
         "mode": "markers",
         "name": "SOLAKAKA",
         "showlegend": true,
         "type": "scattergl",
         "x": {
          "bdata": "o7NMmb+tEkCV8YscBmnlvz50hT/U7fE/I6W9bNGD4j9x8ekBEdURQPTX7imKVdu/",
          "dtype": "f8"
         },
         "xaxis": "x",
         "y": {
          "bdata": "oIa6wQ9u/z9k3pH3TyaxvwJxzS4EV+A/hbxcI6Nn5D+HrryWSUwBQJn2n2m7NOK/",
          "dtype": "f8"
         },
         "yaxis": "y"
        },
        {
         "hovertemplate": "<b>%{hovertext}</b><br><br>Brand=Mighty<br>แกนคุณลักษณะหลักที่ 1 (PC1)=%{x}<br>แกนคุณลักษณะหลักที่ 2 (PC2)=%{y}<extra></extra>",
         "hovertext": [
          "Mouse MM8K"
         ],
         "legendgroup": "Mighty",
         "marker": {
          "color": "#FF6692",
          "symbol": "circle"
         },
         "mode": "markers",
         "name": "Mighty",
         "showlegend": true,
         "type": "scattergl",
         "x": {
          "bdata": "yUbK0dNCGMA=",
          "dtype": "f8"
         },
         "xaxis": "x",
         "y": {
          "bdata": "DmdcKjBZAMA=",
          "dtype": "f8"
         },
         "yaxis": "y"
        },
        {
         "hovertemplate": "<b>%{hovertext}</b><br><br>Brand=Redragon<br>แกนคุณลักษณะหลักที่ 1 (PC1)=%{x}<br>แกนคุณลักษณะหลักที่ 2 (PC2)=%{y}<extra></extra>",
         "hovertext": [
          "M813 Pro",
          "M813 Wired",
          "M995 Pro",
          "M995",
          "M991",
          "M810 Pro",
          "M693",
          "M656 Gainer",
          "M913 Impact Elite",
          "M908 Impact",
          "M996",
          "M724",
          "M916 Pro 4K",
          "M916 Pro",
          "G49 Pro",
          "M711 Cobra"
         ],
         "legendgroup": "Redragon",
         "marker": {
          "color": "#B6E880",
          "symbol": "circle"
         },
         "mode": "markers",
         "name": "Redragon",
         "showlegend": true,
         "type": "scattergl",
         "x": {
          "bdata": "1NUiYQPZA0D5f8a0/DoFQKix4TovLue/qLHhOi8u57+0q1EDUUUMQAkNZQFlpARAY+D4nVEgAED05IJ41k4QQPDGdzchOBlAUEaFJMyJGEBqY3kOs9T7v8YDYTD7zPC/7YIMmSXx9L+3XftHndPxv+2CDJkl8fS/3/unEWwVAUA=",
          "dtype": "f8"
         },
         "xaxis": "x",
         "y": {
          "bdata": "GulsoXc98z83KDkb1QHrP7rqzZUInuE/uurNlQie4T823TXUjViNv+ck9Ol4S+M/nhg29S/N1r8AIHDMvQLyv5d257rFgPQ/hMiVSbfo9T+lJm3fmDHwP+M7ULIm16i/DT689iJn3z/4fr58Gl/PPw0+vPYiZ98/u56w+RM55L8=",
          "dtype": "f8"
         },
         "yaxis": "y"
        },
        {
         "hovertemplate": "<b>%{hovertext}</b><br><br>Brand=JAMESDONKEY<br>แกนคุณลักษณะหลักที่ 1 (PC1)=%{x}<br>แกนคุณลักษณะหลักที่ 2 (PC2)=%{y}<extra></extra>",
         "hovertext": [
          "RSR5s",
          "RSR5"
         ],
         "legendgroup": "JAMESDONKEY",
         "marker": {
          "color": "#FF97FF",
          "symbol": "circle"
         },
         "mode": "markers",
         "name": "JAMESDONKEY",
         "showlegend": true,
         "type": "scattergl",
         "x": {
          "bdata": "R4pz99MX+r/LePbTATP7vw==",
          "dtype": "f8"
         },
         "xaxis": "x",
         "y": {
          "bdata": "GMSib4HT3D/Yct76lwDjPw==",
          "dtype": "f8"
         },
         "yaxis": "y"
        },
        {
         "hovertemplate": "<b>%{hovertext}</b><br><br>Brand=ROCCAT<br>แกนคุณลักษณะหลักที่ 1 (PC1)=%{x}<br>แกนคุณลักษณะหลักที่ 2 (PC2)=%{y}<extra></extra>",
         "hovertext": [
          "LUA",
          "Kone XP Air",
          "Pure SEL",
          "Pure Air",
          "Tyon",
          "Kain 120 AIMO",
          "Kone Pure Ultra",
          "Kone AIMO Remastered",
          "Kain 100 AIMO",
          "Kain 200 AIMO",
          "Kone XP",
          "Kone Pro",
          "Kone Pro Air",
          "Burst Core",
          "Burst Pro",
          "Burst Pro Air"
         ],
         "legendgroup": "ROCCAT",
         "marker": {
          "color": "#FECB52",
          "symbol": "circle"
         },
         "mode": "markers",
         "name": "ROCCAT",
         "showlegend": true,
         "type": "scattergl",
         "x": {
          "bdata": "SuqtDY1i8L+FDXLfvUoKQJrqS8jcUPA/sUPjbml36j8Dvmq9RuAUQMxPdDaW6+Q/ST8/DR9n9D8Lzakpe3oTQDtOXzGCEek/CPM+GmVg8D/B1PKPKecIQJ7/sb4tevw/JP7AHr7C/z9ywHCG/MHEvxNdDjnWrNK/GVrkC74In78=",
          "dtype": "f8"
         },
         "xaxis": "x",
         "y": {
          "bdata": "GH3TAnlyAMB8w5VayFngP6MPwfvfTNc/i/WjKeEm7D853yz+RC7gP0sO10tjjd+/inwEkLrrwj+az66Q2UPhP6YGpEOFYei/og6pff5V7L9BnK+YZETNP+TwJTvIsuk/eSxMJ5zZ4j/4E7Xy2ULpv3qU/FQGqOC/KTsN9Ets6L8=",
          "dtype": "f8"
         },
         "yaxis": "y"
        },
        {
         "hovertemplate": "<b>%{hovertext}</b><br><br>Brand=Realforce<br>แกนคุณลักษณะหลักที่ 1 (PC1)=%{x}<br>แกนคุณลักษณะหลักที่ 2 (PC2)=%{y}<extra></extra>",
         "hovertext": [
          "RM1"
         ],
         "legendgroup": "Realforce",
         "marker": {
          "color": "#636efa",
          "symbol": "circle"
         },
         "mode": "markers",
         "name": "Realforce",
         "showlegend": true,
         "type": "scattergl",
         "x": {
          "bdata": "cOHIzrBI/z8=",
          "dtype": "f8"
         },
         "xaxis": "x",
         "y": {
          "bdata": "+MbWvFDCtL8=",
          "dtype": "f8"
         },
         "yaxis": "y"
        },
        {
         "hovertemplate": "<b>%{hovertext}</b><br><br>Brand=Lenovo<br>แกนคุณลักษณะหลักที่ 1 (PC1)=%{x}<br>แกนคุณลักษณะหลักที่ 2 (PC2)=%{y}<extra></extra>",
         "hovertext": [
          "Yoga Pro",
          "Legion M410",
          "Legion M600s",
          "Legion M300s"
         ],
         "legendgroup": "Lenovo",
         "marker": {
          "color": "#EF553B",
          "symbol": "circle"
         },
         "mode": "markers",
         "name": "Lenovo",
         "showlegend": true,
         "type": "scattergl",
         "x": {
          "bdata": "irPeb1LaEUD27SyPj8nlPxd1ufYYje6/4J2D+SIY8b8=",
          "dtype": "f8"
         },
         "xaxis": "x",
         "y": {
          "bdata": "726H7MYnEsBBOYpwa13wv06bTvwcMO6/dGvvmmlU778=",
          "dtype": "f8"
         },
         "yaxis": "y"
        },
        {
         "hovertemplate": "<b>%{hovertext}</b><br><br>Brand=HaunterWell<br>แกนคุณลักษณะหลักที่ 1 (PC1)=%{x}<br>แกนคุณลักษณะหลักที่ 2 (PC2)=%{y}<extra></extra>",
         "hovertext": [
          "HZS",
          "HMF",
          "HFC",
          "HZ1"
         ],
         "legendgroup": "HaunterWell",
         "marker": {
          "color": "#00cc96",
          "symbol": "circle"
         },
         "mode": "markers",
         "name": "HaunterWell",
         "showlegend": true,
         "type": "scattergl",
         "x": {
          "bdata": "2z02GqKMEsDMSRc2+QMTwPOonZpKuA/Ary3gclcYB8A=",
          "dtype": "f8"
         },
         "xaxis": "x",
         "y": {
          "bdata": "GWww5gaa6b+MGJdfKSDwv9i2liNooOG/2C7Bpbbu2D8=",
          "dtype": "f8"
         },
         "yaxis": "y"
        },
        {
         "hovertemplate": "<b>%{hovertext}</b><br><br>Brand=Akko<br>แกนคุณลักษณะหลักที่ 1 (PC1)=%{x}<br>แกนคุณลักษณะหลักที่ 2 (PC2)=%{y}<extra></extra>",
         "hovertext": [
          "Pulse 01",
          "AG ONE 8K",
          "AG One NearLink",
          "AG325W",
          "AG325C",
          "AG325"
         ],
         "legendgroup": "Akko",
         "marker": {
          "color": "#ab63fa",
          "symbol": "circle"
         },
         "mode": "markers",
         "name": "Akko",
         "showlegend": true,
         "type": "scattergl",
         "x": {
          "bdata": "+WQeovya5r/+DUYcHA/tv8/ZXB+tr+e/OaHE2D2Y8T+fSTa7LLXCPxtO4Fr65sg/",
          "dtype": "f8"
         },
         "xaxis": "x",
         "y": {
          "bdata": "i9C3v3pV4D/Uww1MpUzjPxy88ov+p9o/RVPifCKqFcB8hnFHYGfrvwrfLcPDne6/",
          "dtype": "f8"
         },
         "yaxis": "y"
        },
        {
         "hovertemplate": "<b>%{hovertext}</b><br><br>Brand=Pwnage<br>แกนคุณลักษณะหลักที่ 1 (PC1)=%{x}<br>แกนคุณลักษณะหลักที่ 2 (PC2)=%{y}<extra></extra>",
         "hovertext": [
          "StormBreaker V3",
          "StormBreaker V2",
          "Trinity CF",
          "StormBreaker Max CF",
          "StormBreaker",
          "Ergo Wireless",
          "Ergo",
          "Ambi Wireless",
          "Symm 2",
          "Symm 2 Wireless",
          "Symm 1",
          "Symm 1 Wireless"
         ],
         "legendgroup": "Pwnage",
         "marker": {
          "color": "#FFA15A",
          "symbol": "circle"
         },
         "mode": "markers",
         "name": "Pwnage",
         "showlegend": true,
         "type": "scattergl",
         "x": {
          "bdata": "aJfZC4ADqz/dkKHjg+PPP/NlD2CUJQLAqb2+rng96T/IHBbRoUfgP0OHHG+js/U/Of2eD4Po8z/ljiBuu37rv6apcVO/WvC/fPU4WSDF6L/IT2Y1IIrsv2+mCGi/+ea/",
          "dtype": "f8"
         },
         "xaxis": "x",
         "y": {
          "bdata": "SoaqA19nAEDOG7Q1iKn6P/s2Y46GYvE/+DIfsvyCBEBJHJVNVmz1P/FUoea+Mtg/PLXZYiqk3D8udRlhMSbvv3sZlT/TH+S/KKZXCo/c67+43oFAHSDqv+DponavIO+/",
          "dtype": "f8"
         },
         "yaxis": "y"
        },
        {
         "hovertemplate": "<b>%{hovertext}</b><br><br>Brand=Teevolution<br>แกนคุณลักษณะหลักที่ 1 (PC1)=%{x}<br>แกนคุณลักษณะหลักที่ 2 (PC2)=%{y}<extra></extra>",
         "hovertext": [
          "Terra",
          "Aria XD7",
          "Helios II Pro"
         ],
         "legendgroup": "Teevolution",
         "marker": {
          "color": "#19d3f3",
          "symbol": "circle"
         },
         "mode": "markers",
         "name": "Teevolution",
         "showlegend": true,
         "type": "scattergl",
         "x": {
          "bdata": "5O9qwmCl5j90rmCUQJbwv2oGMe9N0/K/",
          "dtype": "f8"
         },
         "xaxis": "x",
         "y": {
          "bdata": "ASz2HTO0AUCD27lE0fPQv6MzquxxGNQ/",
          "dtype": "f8"
         },
         "yaxis": "y"
        },
        {
         "hovertemplate": "<b>%{hovertext}</b><br><br>Brand=GravaStar<br>แกนคุณลักษณะหลักที่ 1 (PC1)=%{x}<br>แกนคุณลักษณะหลักที่ 2 (PC2)=%{y}<extra></extra>",
         "hovertext": [
          "Mercury X Pro",
          "Mercury X",
          "Mercury M2",
          "Mercury M1 Pro"
         ],
         "legendgroup": "GravaStar",
         "marker": {
          "color": "#FF6692",
          "symbol": "circle"
         },
         "mode": "markers",
         "name": "GravaStar",
         "showlegend": true,
         "type": "scattergl",
         "x": {
          "bdata": "C+/+18eO9b8Y2601vpPsvxVDmoKn6KK/OQx48tC+kr8=",
          "dtype": "f8"
         },
         "xaxis": "x",
         "y": {
          "bdata": "p4CMs6369T/9gqy6LJ/pPwaj0GE7u8q/4KSac6k3yb8=",
          "dtype": "f8"
         },
         "yaxis": "y"
        },
        {
         "hovertemplate": "<b>%{hovertext}</b><br><br>Brand=NZXT<br>แกนคุณลักษณะหลักที่ 1 (PC1)=%{x}<br>แกนคุณลักษณะหลักที่ 2 (PC2)=%{y}<extra></extra>",
         "hovertext": [
          "Lift Elite Wireless",
          "Lift 2 Ergo",
          "Lift 2 Symm",
          "Lift"
         ],
         "legendgroup": "NZXT",
         "marker": {
          "color": "#B6E880",
          "symbol": "circle"
         },
         "mode": "markers",
         "name": "NZXT",
         "showlegend": true,
         "type": "scattergl",
         "x": {
          "bdata": "ftS5F8jG+r/yhG1VhNboP1975IgNDey/bcIv/ekMo78=",
          "dtype": "f8"
         },
         "xaxis": "x",
         "y": {
          "bdata": "G6ceMUS71z/dhAxyVWD6PyzFv6TQse8/0t4NVd0Ixr8=",
          "dtype": "f8"
         },
         "yaxis": "y"
        },
        {
         "hovertemplate": "<b>%{hovertext}</b><br><br>Brand=strayfe<br>แกนคุณลักษณะหลักที่ 1 (PC1)=%{x}<br>แกนคุณลักษณะหลักที่ 2 (PC2)=%{y}<extra></extra>",
         "hovertext": [
          "M55 Pro 8k"
         ],
         "legendgroup": "strayfe",
         "marker": {
          "color": "#FF97FF",
          "symbol": "circle"
         },
         "mode": "markers",
         "name": "strayfe",
         "showlegend": true,
         "type": "scattergl",
         "x": {
          "bdata": "4jZpYkgO978=",
          "dtype": "f8"
         },
         "xaxis": "x",
         "y": {
          "bdata": "R0+nGYkV5z8=",
          "dtype": "f8"
         },
         "yaxis": "y"
        },
        {
         "hovertemplate": "<b>%{hovertext}</b><br><br>Brand=Waizowl<br>แกนคุณลักษณะหลักที่ 1 (PC1)=%{x}<br>แกนคุณลักษณะหลักที่ 2 (PC2)=%{y}<extra></extra>",
         "hovertext": [
          "OGM Cloud XS",
          "OGM One",
          "OGM Cloud V2",
          "OGM Pro V2",
          "OGM Cloud",
          "OGM Pro"
         ],
         "legendgroup": "Waizowl",
         "marker": {
          "color": "#FECB52",
          "symbol": "circle"
         },
         "mode": "markers",
         "name": "Waizowl",
         "showlegend": true,
         "type": "scattergl",
         "x": {
          "bdata": "Ox+N/hgxAcDx4H1nnwfkP+eGO4V8EPC/Dwem743T7781eEN53Jvlv/CyGK/px7g/",
          "dtype": "f8"
         },
         "xaxis": "x",
         "y": {
          "bdata": "9ALaeZ4p5j+clFNq/ODpvws92xUFHfM/MAMn5fgE9D9CamsYzyjnPz67jfxiNMA/",
          "dtype": "f8"
         },
         "yaxis": "y"
        },
        {
         "hovertemplate": "<b>%{hovertext}</b><br><br>Brand=cOoLm0Dz<br>แกนคุณลักษณะหลักที่ 1 (PC1)=%{x}<br>แกนคุณลักษณะหลักที่ 2 (PC2)=%{y}<extra></extra>",
         "hovertext": [
          "OPt1p",
          "finalt1p"
         ],
         "legendgroup": "cOoLm0Dz",
         "marker": {
          "color": "#636efa",
          "symbol": "circle"
         },
         "mode": "markers",
         "name": "cOoLm0Dz",
         "showlegend": true,
         "type": "scattergl",
         "x": {
          "bdata": "Embi0JSeC8CDsuYxWjwNwA==",
          "dtype": "f8"
         },
         "xaxis": "x",
         "y": {
          "bdata": "evBYr0EztT9ZH5eyLmzKPw==",
          "dtype": "f8"
         },
         "yaxis": "y"
        },
        {
         "hovertemplate": "<b>%{hovertext}</b><br><br>Brand=IPI<br>แกนคุณลักษณะหลักที่ 1 (PC1)=%{x}<br>แกนคุณลักษณะหลักที่ 2 (PC2)=%{y}<extra></extra>",
         "hovertext": [
          "Float"
         ],
         "legendgroup": "IPI",
         "marker": {
          "color": "#EF553B",
          "symbol": "circle"
         },
         "mode": "markers",
         "name": "IPI",
         "showlegend": true,
         "type": "scattergl",
         "x": {
          "bdata": "E1KFpnUXAcA=",
          "dtype": "f8"
         },
         "xaxis": "x",
         "y": {
          "bdata": "RAqFVYk85z8=",
          "dtype": "f8"
         },
         "yaxis": "y"
        },
        {
         "hovertemplate": "<b>%{hovertext}</b><br><br>Brand=PHYLINA<br>แกนคุณลักษณะหลักที่ 1 (PC1)=%{x}<br>แกนคุณลักษณะหลักที่ 2 (PC2)=%{y}<extra></extra>",
         "hovertext": [
          "S480",
          "S450 4K",
          "S450"
         ],
         "legendgroup": "PHYLINA",
         "marker": {
          "color": "#00cc96",
          "symbol": "circle"
         },
         "mode": "markers",
         "name": "PHYLINA",
         "showlegend": true,
         "type": "scattergl",
         "x": {
          "bdata": "EyEOwjH0AMDrKK9oc+nzv7QDnhfry/C/",
          "dtype": "f8"
         },
         "xaxis": "x",
         "y": {
          "bdata": "Z4KWI0fe8z9DVmacOvbaP2OvEshJfcY/",
          "dtype": "f8"
         },
         "yaxis": "y"
        },
        {
         "hovertemplate": "<b>%{hovertext}</b><br><br>Brand=Amazon<br>แกนคุณลักษณะหลักที่ 1 (PC1)=%{x}<br>แกนคุณลักษณะหลักที่ 2 (PC2)=%{y}<extra></extra>",
         "hovertext": [
          "Basics Mouse"
         ],
         "legendgroup": "Amazon",
         "marker": {
          "color": "#ab63fa",
          "symbol": "circle"
         },
         "mode": "markers",
         "name": "Amazon",
         "showlegend": true,
         "type": "scattergl",
         "x": {
          "bdata": "ju0uv2iB5b8=",
          "dtype": "f8"
         },
         "xaxis": "x",
         "y": {
          "bdata": "r01EdLEvGsA=",
          "dtype": "f8"
         },
         "yaxis": "y"
        },
        {
         "hovertemplate": "<b>%{hovertext}</b><br><br>Brand=TMKB<br>แกนคุณลักษณะหลักที่ 1 (PC1)=%{x}<br>แกนคุณลักษณะหลักที่ 2 (PC2)=%{y}<extra></extra>",
         "hovertext": [
          "Falcon M1SE"
         ],
         "legendgroup": "TMKB",
         "marker": {
          "color": "#FFA15A",
          "symbol": "circle"
         },
         "mode": "markers",
         "name": "TMKB",
         "showlegend": true,
         "type": "scattergl",
         "x": {
          "bdata": "tJgbrZBHkD8=",
          "dtype": "f8"
         },
         "xaxis": "x",
         "y": {
          "bdata": "62www/DW4r8=",
          "dtype": "f8"
         },
         "yaxis": "y"
        },
        {
         "hovertemplate": "<b>%{hovertext}</b><br><br>Brand=Madlions<br>แกนคุณลักษณะหลักที่ 1 (PC1)=%{x}<br>แกนคุณลักษณะหลักที่ 2 (PC2)=%{y}<extra></extra>",
         "hovertext": [
          "Mad G Max",
          "Mad G"
         ],
         "legendgroup": "Madlions",
         "marker": {
          "color": "#19d3f3",
          "symbol": "circle"
         },
         "mode": "markers",
         "name": "Madlions",
         "showlegend": true,
         "type": "scattergl",
         "x": {
          "bdata": "U/KHDQGe8r8cq9G4rHjqvw==",
          "dtype": "f8"
         },
         "xaxis": "x",
         "y": {
          "bdata": "1Tr5kmiG8z8ucUibs9PoPw==",
          "dtype": "f8"
         },
         "yaxis": "y"
        },
        {
         "hovertemplate": "<b>%{hovertext}</b><br><br>Brand=Mountain<br>แกนคุณลักษณะหลักที่ 1 (PC1)=%{x}<br>แกนคุณลักษณะหลักที่ 2 (PC2)=%{y}<extra></extra>",
         "hovertext": [
          "Makalu Max",
          "Makalu 67"
         ],
         "legendgroup": "Mountain",
         "marker": {
          "color": "#FF6692",
          "symbol": "circle"
         },
         "mode": "markers",
         "name": "Mountain",
         "showlegend": true,
         "type": "scattergl",
         "x": {
          "bdata": "mabh1WOKCECfRTEN0ev+Pw==",
          "dtype": "f8"
         },
         "xaxis": "x",
         "y": {
          "bdata": "yvYoiOZxsj8rGrK9QonuPw==",
          "dtype": "f8"
         },
         "yaxis": "y"
        },
        {
         "hovertemplate": "<b>%{hovertext}</b><br><br>Brand=Edifier<br>แกนคุณลักษณะหลักที่ 1 (PC1)=%{x}<br>แกนคุณลักษณะหลักที่ 2 (PC2)=%{y}<extra></extra>",
         "hovertext": [
          "Hecate G5M Pro",
          "Hecate G5M",
          "Hecate G3M Pro"
         ],
         "legendgroup": "Edifier",
         "marker": {
          "color": "#B6E880",
          "symbol": "circle"
         },
         "mode": "markers",
         "name": "Edifier",
         "showlegend": true,
         "type": "scattergl",
         "x": {
          "bdata": "WSvIesCl5b8I2CZkd/Hgv5QZ25ItgPC/",
          "dtype": "f8"
         },
         "xaxis": "x",
         "y": {
          "bdata": "UAGgUF7o1j8v1qiqLh/FP+TCNptUzNW/",
          "dtype": "f8"
         },
         "yaxis": "y"
        },
        {
         "hovertemplate": "<b>%{hovertext}</b><br><br>Brand=EVGA<br>แกนคุณลักษณะหลักที่ 1 (PC1)=%{x}<br>แกนคุณลักษณะหลักที่ 2 (PC2)=%{y}<extra></extra>",
         "hovertext": [
          "X20",
          "X17",
          "X15",
          "X12"
         ],
         "legendgroup": "EVGA",
         "marker": {
          "color": "#FF97FF",
          "symbol": "circle"
         },
         "mode": "markers",
         "name": "EVGA",
         "showlegend": true,
         "type": "scattergl",
         "x": {
          "bdata": "MzCuGKKhC0DpHq4/62kEQLfxD0YdbA1A2mn+kbwApz8=",
          "dtype": "f8"
         },
         "xaxis": "x",
         "y": {
          "bdata": "DCkH/vHd07+8o4poufzmP743iDKJOvE/nUCxrbEf3T8=",
          "dtype": "f8"
         },
         "yaxis": "y"
        },
        {
         "hovertemplate": "<b>%{hovertext}</b><br><br>Brand=8BitDo<br>แกนคุณลักษณะหลักที่ 1 (PC1)=%{x}<br>แกนคุณลักษณะหลักที่ 2 (PC2)=%{y}<extra></extra>",
         "hovertext": [
          "Retro R8"
         ],
         "legendgroup": "8BitDo",
         "marker": {
          "color": "#FECB52",
          "symbol": "circle"
         },
         "mode": "markers",
         "name": "8BitDo",
         "showlegend": true,
         "type": "scattergl",
         "x": {
          "bdata": "6CjjEWyH9r8=",
          "dtype": "f8"
         },
         "xaxis": "x",
         "y": {
          "bdata": "2TKqEus53L8=",
          "dtype": "f8"
         },
         "yaxis": "y"
        },
        {
         "hovertemplate": "<b>%{hovertext}</b><br><br>Brand=ANTGAMER<br>แกนคุณลักษณะหลักที่ 1 (PC1)=%{x}<br>แกนคุณลักษณะหลักที่ 2 (PC2)=%{y}<extra></extra>",
         "hovertext": [
          "AGM535R"
         ],
         "legendgroup": "ANTGAMER",
         "marker": {
          "color": "#636efa",
          "symbol": "circle"
         },
         "mode": "markers",
         "name": "ANTGAMER",
         "showlegend": true,
         "type": "scattergl",
         "x": {
          "bdata": "sz46oa0r778=",
          "dtype": "f8"
         },
         "xaxis": "x",
         "y": {
          "bdata": "DABaZAqm8j8=",
          "dtype": "f8"
         },
         "yaxis": "y"
        },
        {
         "hovertemplate": "<b>%{hovertext}</b><br><br>Brand=RAKK<br>แกนคุณลักษณะหลักที่ 1 (PC1)=%{x}<br>แกนคุณลักษณะหลักที่ 2 (PC2)=%{y}<extra></extra>",
         "hovertext": [
          "Talan Aero",
          "Kaptan Wired",
          "Talan Air",
          "Talan",
          "Tanaw",
          "Kaptan Trimode",
          "MAG-AN",
          "BULUS",
          "Gahum"
         ],
         "legendgroup": "RAKK",
         "marker": {
          "color": "#EF553B",
          "symbol": "circle"
         },
         "mode": "markers",
         "name": "RAKK",
         "showlegend": true,
         "type": "scattergl",
         "x": {
          "bdata": "AAwGjYhD8b/QlUfAbKn8P8AjDT80uMi/4howQBqDzL/Es0VmOCr1v7dErSG5VNE/rsh3C1UN+7/HYw+Gyw66v8+pPl8s7eK/",
          "dtype": "f8"
         },
         "xaxis": "x",
         "y": {
          "bdata": "euy4JLwNhz/+HPsX3rzFP57fP+vp29S/pCHIqXdF7L9OBJdGx2rOvxHH+5l8COE/h9Ca+cxg8L90NtNGG2rzv6uwYSF4MdE/",
          "dtype": "f8"
         },
         "yaxis": "y"
        },
        {
         "hovertemplate": "<b>%{hovertext}</b><br><br>Brand=Scyrox<br>แกนคุณลักษณะหลักที่ 1 (PC1)=%{x}<br>แกนคุณลักษณะหลักที่ 2 (PC2)=%{y}<extra></extra>",
         "hovertext": [
          "V6",
          "V8"
         ],
         "legendgroup": "Scyrox",
         "marker": {
          "color": "#00cc96",
          "symbol": "circle"
         },
         "mode": "markers",
         "name": "Scyrox",
         "showlegend": true,
         "type": "scattergl",
         "x": {
          "bdata": "7+ivD62//78GE+a7iTUBwA==",
          "dtype": "f8"
         },
         "xaxis": "x",
         "y": {
          "bdata": "hsF1x42t8j/bhy044q/yPw==",
          "dtype": "f8"
         },
         "yaxis": "y"
        },
        {
         "hovertemplate": "<b>%{hovertext}</b><br><br>Brand=Ragnok<br>แกนคุณลักษณะหลักที่ 1 (PC1)=%{x}<br>แกนคุณลักษณะหลักที่ 2 (PC2)=%{y}<extra></extra>",
         "hovertext": [
          "ErgoStrike7",
          "2 (FireGrip)"
         ],
         "legendgroup": "Ragnok",
         "marker": {
          "color": "#ab63fa",
          "symbol": "circle"
         },
         "mode": "markers",
         "name": "Ragnok",
         "showlegend": true,
         "type": "scattergl",
         "x": {
          "bdata": "DWQnAf0lMkBdOlUp4FYsQA==",
          "dtype": "f8"
         },
         "xaxis": "x",
         "y": {
          "bdata": "P89AxQFUJkCbeyaQXmkiQA==",
          "dtype": "f8"
         },
         "yaxis": "y"
        },
        {
         "hovertemplate": "<b>%{hovertext}</b><br><br>Brand=Aigo<br>แกนคุณลักษณะหลักที่ 1 (PC1)=%{x}<br>แกนคุณลักษณะหลักที่ 2 (PC2)=%{y}<extra></extra>",
         "hovertext": [
          "GM80 Pro",
          "GM80 Plus",
          "GM80"
         ],
         "legendgroup": "Aigo",
         "marker": {
          "color": "#FFA15A",
          "symbol": "circle"
         },
         "mode": "markers",
         "name": "Aigo",
         "showlegend": true,
         "type": "scattergl",
         "x": {
          "bdata": "die/j8Dh97/SCWOVf2fyv6nk9AugAvS/",
          "dtype": "f8"
         },
         "xaxis": "x",
         "y": {
          "bdata": "98zmT1kbq79Un54vaIPlv5snrP+mweG/",
          "dtype": "f8"
         },
         "yaxis": "y"
        },
        {
         "hovertemplate": "<b>%{hovertext}</b><br><br>Brand=LTC<br>แกนคุณลักษณะหลักที่ 1 (PC1)=%{x}<br>แกนคุณลักษณะหลักที่ 2 (PC2)=%{y}<extra></extra>",
         "hovertext": [
          "GM022"
         ],
         "legendgroup": "LTC",
         "marker": {
          "color": "#19d3f3",
          "symbol": "circle"
         },
         "mode": "markers",
         "name": "LTC",
         "showlegend": true,
         "type": "scattergl",
         "x": {
          "bdata": "GEjOYDCS7b8=",
          "dtype": "f8"
         },
         "xaxis": "x",
         "y": {
          "bdata": "9W99t3FklD8=",
          "dtype": "f8"
         },
         "yaxis": "y"
        },
        {
         "hovertemplate": "<b>%{hovertext}</b><br><br>Brand=Swiftpoint<br>แกนคุณลักษณะหลักที่ 1 (PC1)=%{x}<br>แกนคุณลักษณะหลักที่ 2 (PC2)=%{y}<extra></extra>",
         "hovertext": [
          "Z2",
          "Creator",
          "Tracer",
          "ErgoPoint"
         ],
         "legendgroup": "Swiftpoint",
         "marker": {
          "color": "#FF6692",
          "symbol": "circle"
         },
         "mode": "markers",
         "name": "Swiftpoint",
         "showlegend": true,
         "type": "scattergl",
         "x": {
          "bdata": "OV+5kTCYEUDu76uy+I8SQO7vq7L4jxJAT0Ps7EcXG0A=",
          "dtype": "f8"
         },
         "xaxis": "x",
         "y": {
          "bdata": "1ycjfW278D/klJiP6WbhP+SUmI/pZuE/YHkXd4AlBsA=",
          "dtype": "f8"
         },
         "yaxis": "y"
        },
        {
         "hovertemplate": "<b>%{hovertext}</b><br><br>Brand=MACHENIKE<br>แกนคุณลักษณะหลักที่ 1 (PC1)=%{x}<br>แกนคุณลักษณะหลักที่ 2 (PC2)=%{y}<extra></extra>",
         "hovertext": [
          "M7 Pro",
          "L8 Max",
          "L8 Air",
          "L8 Pro",
          "L7 Air"
         ],
         "legendgroup": "MACHENIKE",
         "marker": {
          "color": "#B6E880",
          "symbol": "circle"
         },
         "mode": "markers",
         "name": "MACHENIKE",
         "showlegend": true,
         "type": "scattergl",
         "x": {
          "bdata": "BlGBLo8R4b+mW/nCS4n9PxVkkFm7udE/+dp8d0gU/T/kzm98SEf2vw==",
          "dtype": "f8"
         },
         "xaxis": "x",
         "y": {
          "bdata": "+8zdc2It3b+1veoK/U31P7h4LBt+r9I/ITGjxBPT2D+l/PCxc5TFPw==",
          "dtype": "f8"
         },
         "yaxis": "y"
        },
        {
         "hovertemplate": "<b>%{hovertext}</b><br><br>Brand=Xiaomi<br>แกนคุณลักษณะหลักที่ 1 (PC1)=%{x}<br>แกนคุณลักษณะหลักที่ 2 (PC2)=%{y}<extra></extra>",
         "hovertext": [
          "X1"
         ],
         "legendgroup": "Xiaomi",
         "marker": {
          "color": "#FF97FF",
          "symbol": "circle"
         },
         "mode": "markers",
         "name": "Xiaomi",
         "showlegend": true,
         "type": "scattergl",
         "x": {
          "bdata": "VU/B+NfM6r8=",
          "dtype": "f8"
         },
         "xaxis": "x",
         "y": {
          "bdata": "LoplvLjT6D8=",
          "dtype": "f8"
         },
         "yaxis": "y"
        },
        {
         "hovertemplate": "<b>%{hovertext}</b><br><br>Brand=Apple<br>แกนคุณลักษณะหลักที่ 1 (PC1)=%{x}<br>แกนคุณลักษณะหลักที่ 2 (PC2)=%{y}<extra></extra>",
         "hovertext": [
          "Magic Mouse"
         ],
         "legendgroup": "Apple",
         "marker": {
          "color": "#FECB52",
          "symbol": "circle"
         },
         "mode": "markers",
         "name": "Apple",
         "showlegend": true,
         "type": "scattergl",
         "x": {
          "bdata": "Wag082V/vr8=",
          "dtype": "f8"
         },
         "xaxis": "x",
         "y": {
          "bdata": "dgDnvLscJcA=",
          "dtype": "f8"
         },
         "yaxis": "y"
        },
        {
         "hovertemplate": "<b>%{hovertext}</b><br><br>Brand=HUO<br>แกนคุณลักษณะหลักที่ 1 (PC1)=%{x}<br>แกนคุณลักษณะหลักที่ 2 (PC2)=%{y}<extra></extra>",
         "hovertext": [
          "JI E-YOOSO"
         ],
         "legendgroup": "HUO",
         "marker": {
          "color": "#636efa",
          "symbol": "circle"
         },
         "mode": "markers",
         "name": "HUO",
         "showlegend": true,
         "type": "scattergl",
         "x": {
          "bdata": "BMpXf0oI6r8=",
          "dtype": "f8"
         },
         "xaxis": "x",
         "y": {
          "bdata": "ZWOoVDRg4D8=",
          "dtype": "f8"
         },
         "yaxis": "y"
        },
        {
         "hovertemplate": "<b>%{hovertext}</b><br><br>Brand=Nixeus<br>แกนคุณลักษณะหลักที่ 1 (PC1)=%{x}<br>แกนคุณลักษณะหลักที่ 2 (PC2)=%{y}<extra></extra>",
         "hovertext": [
          "Revel Fit",
          "Revel-X",
          "Revel"
         ],
         "legendgroup": "Nixeus",
         "marker": {
          "color": "#EF553B",
          "symbol": "circle"
         },
         "mode": "markers",
         "name": "Nixeus",
         "showlegend": true,
         "type": "scattergl",
         "x": {
          "bdata": "DTCgJgsqBkBnK7Q0X+S5vygZu3bdT+A/",
          "dtype": "f8"
         },
         "xaxis": "x",
         "y": {
          "bdata": "qiC8IrSTgj+x0qXTZhvwvyjYmj+Peue/",
          "dtype": "f8"
         },
         "yaxis": "y"
        },
        {
         "hovertemplate": "<b>%{hovertext}</b><br><br>Brand=AIM1<br>แกนคุณลักษณะหลักที่ 1 (PC1)=%{x}<br>แกนคุณลักษณะหลักที่ 2 (PC2)=%{y}<extra></extra>",
         "hovertext": [
          "Shigure"
         ],
         "legendgroup": "AIM1",
         "marker": {
          "color": "#00cc96",
          "symbol": "circle"
         },
         "mode": "markers",
         "name": "AIM1",
         "showlegend": true,
         "type": "scattergl",
         "x": {
          "bdata": "2UZAr+Xw+r8=",
          "dtype": "f8"
         },
         "xaxis": "x",
         "y": {
          "bdata": "p7eJecYD8D8=",
          "dtype": "f8"
         },
         "yaxis": "y"
        },
        {
         "hovertemplate": "<b>%{hovertext}</b><br><br>Brand=CC<br>แกนคุณลักษณะหลักที่ 1 (PC1)=%{x}<br>แกนคุณลักษณะหลักที่ 2 (PC2)=%{y}<extra></extra>",
         "hovertext": [
          "Beanmouse LHD Small",
          "Beanmouse Small",
          "Beanmouse LHD Large",
          "Beanmouse Large"
         ],
         "legendgroup": "CC",
         "marker": {
          "color": "#ab63fa",
          "symbol": "circle"
         },
         "mode": "markers",
         "name": "CC",
         "showlegend": true,
         "type": "scattergl",
         "x": {
          "bdata": "I52UR/wJEsAjnZRH/AkSwErbax1D0QvASttrHUPRC8A=",
          "dtype": "f8"
         },
         "xaxis": "x",
         "y": {
          "bdata": "RbNp8frv979Fs2nx+u/3v/DPs+gA/OO/8M+z6AD8478=",
          "dtype": "f8"
         },
         "yaxis": "y"
        },
        {
         "hovertemplate": "<b>%{hovertext}</b><br><br>Brand=Xtrfy<br>แกนคุณลักษณะหลักที่ 1 (PC1)=%{x}<br>แกนคุณลักษณะหลักที่ 2 (PC2)=%{y}<extra></extra>",
         "hovertext": [
          "M42",
          "M42 (lower back)",
          "M8 Wireless",
          "M42 Wireless",
          "M4",
          "M4 Wireless",
          "MZ1",
          "MZ1 Wireless"
         ],
         "legendgroup": "Xtrfy",
         "marker": {
          "color": "#FFA15A",
          "symbol": "circle"
         },
         "mode": "markers",
         "name": "Xtrfy",
         "showlegend": true,
         "type": "scattergl",
         "x": {
          "bdata": "GRZgUfVP7L8ZFmBR9U/sv6RgXm6k0/S//rnPPlag57/AchMKCYL0P3q9m/JccPQ/WGHe7dKE+r9m5mPqVs34vw==",
          "dtype": "f8"
         },
         "xaxis": "x",
         "y": {
          "bdata": "HIOW59ET4r8cg5bn0RPiv87WP09wSMa/zofl5Ej15b9Kd/QO5062PyxB9xGKO8I/taDMjNCM8r+PRbapGfvzvw==",
          "dtype": "f8"
         },
         "yaxis": "y"
        },
        {
         "hovertemplate": "<b>%{hovertext}</b><br><br>Brand=Cooler<br>แกนคุณลักษณะหลักที่ 1 (PC1)=%{x}<br>แกนคุณลักษณะหลักที่ 2 (PC2)=%{y}<extra></extra>",
         "hovertext": [
          "Master CM310",
          "Master MM731",
          "Master MM730",
          "Master MM711 Lite",
          "Master MM831",
          "Master MM530",
          "Master MM531",
          "Master MM830",
          "Master CM110",
          "Master MM711",
          "Master MM710",
          "Master MM310",
          "Master MM720",
          "Master MM712"
         ],
         "legendgroup": "Cooler",
         "marker": {
          "color": "#19d3f3",
          "symbol": "circle"
         },
         "mode": "markers",
         "name": "Cooler",
         "showlegend": true,
         "type": "scattergl",
         "x": {
          "bdata": "ThyEH9e49D/X5MVGzqTyPyf08qpFru4/OxOJjjGm6r9cG3FKojkHQNvOHDZCU/w/Qr0gPDCe+T+Y29zMQ6YVQLq2yWKqZ60/PR5aP+cr7b/+MDBAWV/xvz60MvEnNL8/3Gb68dlc6D+KAsfpKTbwvw==",
          "dtype": "f8"
         },
         "xaxis": "x",
         "y": {
          "bdata": "CECKZ4qQ6r8J6xoGfnrjP0qORc9o/eg/NDK30i2Z6r+6KqbMfWTBP2SJErBrr+6/Tm35JL2c6L9es/ptoELLP4AMJBKd0f6/bWFO1yKj5L/pzEXuNlvcv44/r1LXbtw/5Thnv5IR0D/3B14lI7Pevw==",
          "dtype": "f8"
         },
         "yaxis": "y"
        },
        {
         "hovertemplate": "<b>%{hovertext}</b><br><br>Brand=Higround<br>แกนคุณลักษณะหลักที่ 1 (PC1)=%{x}<br>แกนคุณลักษณะหลักที่ 2 (PC2)=%{y}<extra></extra>",
         "hovertext": [
          "Yuma"
         ],
         "legendgroup": "Higround",
         "marker": {
          "color": "#FF6692",
          "symbol": "circle"
         },
         "mode": "markers",
         "name": "Higround",
         "showlegend": true,
         "type": "scattergl",
         "x": {
          "bdata": "dgtYmJ637b8=",
          "dtype": "f8"
         },
         "xaxis": "x",
         "y": {
          "bdata": "HdcjXfad6j8=",
          "dtype": "f8"
         },
         "yaxis": "y"
        },
        {
         "hovertemplate": "<b>%{hovertext}</b><br><br>Brand=COMMATECH<br>แกนคุณลักษณะหลักที่ 1 (PC1)=%{x}<br>แกนคุณลักษณะหลักที่ 2 (PC2)=%{y}<extra></extra>",
         "hovertext": [
          "FKMINI4"
         ],
         "legendgroup": "COMMATECH",
         "marker": {
          "color": "#B6E880",
          "symbol": "circle"
         },
         "mode": "markers",
         "name": "COMMATECH",
         "showlegend": true,
         "type": "scattergl",
         "x": {
          "bdata": "4D9QKkcPBsA=",
          "dtype": "f8"
         },
         "xaxis": "x",
         "y": {
          "bdata": "wyI68Kxy5L8=",
          "dtype": "f8"
         },
         "yaxis": "y"
        },
        {
         "hovertemplate": "<b>%{hovertext}</b><br><br>Brand=Turtle<br>แกนคุณลักษณะหลักที่ 1 (PC1)=%{x}<br>แกนคุณลักษณะหลักที่ 2 (PC2)=%{y}<extra></extra>",
         "hovertext": [
          "Beach Kone II Air",
          "Beach Kone II",
          "Beach Kone XP Air",
          "Beach Burst II Air",
          "Beach Pure Air",
          "Beach Pure SEL"
         ],
         "legendgroup": "Turtle",
         "marker": {
          "color": "#FF97FF",
          "symbol": "circle"
         },
         "mode": "markers",
         "name": "Turtle",
         "showlegend": true,
         "type": "scattergl",
         "x": {
          "bdata": "LN4WJDP5EECype1ENZEOQIUNct+9SgpA+zmiXw3t57+xQ+NuaXfqP5rqS8jcUPA/",
          "dtype": "f8"
         },
         "xaxis": "x",
         "y": {
          "bdata": "gD2KhMBq9T/zFUyGTrj7P3zDlVrIWeA/bW8PqKd/4z+L9aMp4SbsP6MPwfvfTNc/",
          "dtype": "f8"
         },
         "yaxis": "y"
        },
        {
         "hovertemplate": "<b>%{hovertext}</b><br><br>Brand=xtro<br>แกนคุณลักษณะหลักที่ 1 (PC1)=%{x}<br>แกนคุณลักษณะหลักที่ 2 (PC2)=%{y}<extra></extra>",
         "hovertext": [
          "Eris"
         ],
         "legendgroup": "xtro",
         "marker": {
          "color": "#FECB52",
          "symbol": "circle"
         },
         "mode": "markers",
         "name": "xtro",
         "showlegend": true,
         "type": "scattergl",
         "x": {
          "bdata": "3GU3LRPE8z8=",
          "dtype": "f8"
         },
         "xaxis": "x",
         "y": {
          "bdata": "3oenKFgh5D8=",
          "dtype": "f8"
         },
         "yaxis": "y"
        },
        {
         "hovertemplate": "<b>%{hovertext}</b><br><br>Brand=Noir<br>แกนคุณลักษณะหลักที่ 1 (PC1)=%{x}<br>แกนคุณลักษณะหลักที่ 2 (PC2)=%{y}<extra></extra>",
         "hovertext": [
          "M1",
          "M1 Lite",
          "M2 MG",
          "M2 Pro",
          "M2"
         ],
         "legendgroup": "Noir",
         "marker": {
          "color": "#636efa",
          "symbol": "circle"
         },
         "mode": "markers",
         "name": "Noir",
         "showlegend": true,
         "type": "scattergl",
         "x": {
          "bdata": "63xGkvDm57+aS/kxouziv9bRCBwZs/q/FxCGbd5Y9b/g6nQcVjvyvw==",
          "dtype": "f8"
         },
         "xaxis": "x",
         "y": {
          "bdata": "ANuB5oE06L9noK8e80PxvyzO/DhPEds/GpBFnT0NgT8YpOWWV17Ovw==",
          "dtype": "f8"
         },
         "yaxis": "y"
        },
        {
         "hovertemplate": "<b>%{hovertext}</b><br><br>Brand=Vancer<br>แกนคุณลักษณะหลักที่ 1 (PC1)=%{x}<br>แกนคุณลักษณะหลักที่ 2 (PC2)=%{y}<extra></extra>",
         "hovertext": [
          "x Arbiter Studio AKITSU",
          "Thrash",
          "Groove",
          "Gretxa",
          "Gemini Castor",
          "Gemini Pollux"
         ],
         "legendgroup": "Vancer",
         "marker": {
          "color": "#EF553B",
          "symbol": "circle"
         },
         "mode": "markers",
         "name": "Vancer",
         "showlegend": true,
         "type": "scattergl",
         "x": {
          "bdata": "g7ilMUVvA8CRSVC4nCDzv4rxklM2kvK/GeDoz4OK2r982axJ2PD2v9b33+twxNU/",
          "dtype": "f8"
         },
         "xaxis": "x",
         "y": {
          "bdata": "wcpu45ET5j9QlJY3KyjlP3VFVLJ93+c/4KLn0wvW8L8imNBAXzHCv5o+kDiTUeQ/",
          "dtype": "f8"
         },
         "yaxis": "y"
        },
        {
         "hovertemplate": "<b>%{hovertext}</b><br><br>Brand=GANSS<br>แกนคุณลักษณะหลักที่ 1 (PC1)=%{x}<br>แกนคุณลักษณะหลักที่ 2 (PC2)=%{y}<extra></extra>",
         "hovertext": [
          "FLX3 4K",
          "FLX3"
         ],
         "legendgroup": "GANSS",
         "marker": {
          "color": "#00cc96",
          "symbol": "circle"
         },
         "mode": "markers",
         "name": "GANSS",
         "showlegend": true,
         "type": "scattergl",
         "x": {
          "bdata": "IsLIGxB+4T+ODOu9ILnnPw==",
          "dtype": "f8"
         },
         "xaxis": "x",
         "y": {
          "bdata": "RShLUPgh8T9E0WfEJWjqPw==",
          "dtype": "f8"
         },
         "yaxis": "y"
        },
        {
         "hovertemplate": "<b>%{hovertext}</b><br><br>Brand=IFYOO<br>แกนคุณลักษณะหลักที่ 1 (PC1)=%{x}<br>แกนคุณลักษณะหลักที่ 2 (PC2)=%{y}<extra></extra>",
         "hovertext": [
          "G63",
          "G03 (Long)",
          "G03 (Short)"
         ],
         "legendgroup": "IFYOO",
         "marker": {
          "color": "#ab63fa",
          "symbol": "circle"
         },
         "mode": "markers",
         "name": "IFYOO",
         "showlegend": true,
         "type": "scattergl",
         "x": {
          "bdata": "Q0l4gaDm8b87Pk4bm/yiP9oTLcec0c6/",
          "dtype": "f8"
         },
         "xaxis": "x",
         "y": {
          "bdata": "jtXU09z90D8VDn/MkVDCv+FcfnqOvt+/",
          "dtype": "f8"
         },
         "yaxis": "y"
        },
        {
         "hovertemplate": "<b>%{hovertext}</b><br><br>Brand=Monka<br>แกนคุณลักษณะหลักที่ 1 (PC1)=%{x}<br>แกนคุณลักษณะหลักที่ 2 (PC2)=%{y}<extra></extra>",
         "hovertext": [
          "M1 Pro Max",
          "M1 Pro",
          "M1",
          "M3 Pro",
          "M3",
          "G995W"
         ],
         "legendgroup": "Monka",
         "marker": {
          "color": "#FFA15A",
          "symbol": "circle"
         },
         "mode": "markers",
         "name": "Monka",
         "showlegend": true,
         "type": "scattergl",
         "x": {
          "bdata": "qpjZDT7z9b+qmNkNPvP1v3RzyLy11fK/3vulIRJB9b+o1pTQiSPyv6QGQKVJCe+/",
          "dtype": "f8"
         },
         "xaxis": "x",
         "y": {
          "bdata": "L769EZi6wz8vvr0RmLrDP+R9+L0mabe/15+KyorF0j9DCm2RqG+oPxWyM6d5X5M/",
          "dtype": "f8"
         },
         "yaxis": "y"
        },
        {
         "hovertemplate": "<b>%{hovertext}</b><br><br>Brand=MSI<br>แกนคุณลักษณะหลักที่ 1 (PC1)=%{x}<br>แกนคุณลักษณะหลักที่ 2 (PC2)=%{y}<extra></extra>",
         "hovertext": [
          "Clutch GM41"
         ],
         "legendgroup": "MSI",
         "marker": {
          "color": "#19d3f3",
          "symbol": "circle"
         },
         "mode": "markers",
         "name": "MSI",
         "showlegend": true,
         "type": "scattergl",
         "x": {
          "bdata": "N+uG4DOWxT8=",
          "dtype": "f8"
         },
         "xaxis": "x",
         "y": {
          "bdata": "WCpFaq33sr8=",
          "dtype": "f8"
         },
         "yaxis": "y"
        },
        {
         "hovertemplate": "<b>%{hovertext}</b><br><br>Brand=Nitrite<br>แกนคุณลักษณะหลักที่ 1 (PC1)=%{x}<br>แกนคุณลักษณะหลักที่ 2 (PC2)=%{y}<extra></extra>",
         "hovertext": [
          "Labs Carbon XT1 Wireless",
          "Labs Carbon XT1 Wired"
         ],
         "legendgroup": "Nitrite",
         "marker": {
          "color": "#FF6692",
          "symbol": "circle"
         },
         "mode": "markers",
         "name": "Nitrite",
         "showlegend": true,
         "type": "scattergl",
         "x": {
          "bdata": "kfjVEY4cDMCmNBRnxowMwA==",
          "dtype": "f8"
         },
         "xaxis": "x",
         "y": {
          "bdata": "GgxU0d6y4j+oGogOi+/kPw==",
          "dtype": "f8"
         },
         "yaxis": "y"
        },
        {
         "hovertemplate": "<b>%{hovertext}</b><br><br>Brand=TenTen<br>แกนคุณลักษณะหลักที่ 1 (PC1)=%{x}<br>แกนคุณลักษณะหลักที่ 2 (PC2)=%{y}<extra></extra>",
         "hovertext": [
          "Zero Gravity"
         ],
         "legendgroup": "TenTen",
         "marker": {
          "color": "#B6E880",
          "symbol": "circle"
         },
         "mode": "markers",
         "name": "TenTen",
         "showlegend": true,
         "type": "scattergl",
         "x": {
          "bdata": "ZJtY5rTsAMA=",
          "dtype": "f8"
         },
         "xaxis": "x",
         "y": {
          "bdata": "575BdhNl+T8=",
          "dtype": "f8"
         },
         "yaxis": "y"
        },
        {
         "hovertemplate": "<b>%{hovertext}</b><br><br>Brand=Nyfter<br>แกนคุณลักษณะหลักที่ 1 (PC1)=%{x}<br>แกนคุณลักษณะหลักที่ 2 (PC2)=%{y}<extra></extra>",
         "hovertext": [
          "ELT 4K"
         ],
         "legendgroup": "Nyfter",
         "marker": {
          "color": "#FF97FF",
          "symbol": "circle"
         },
         "mode": "markers",
         "name": "Nyfter",
         "showlegend": true,
         "type": "scattergl",
         "x": {
          "bdata": "396jot717b8=",
          "dtype": "f8"
         },
         "xaxis": "x",
         "y": {
          "bdata": "vOdpJYV82T8=",
          "dtype": "f8"
         },
         "yaxis": "y"
        },
        {
         "hovertemplate": "<b>%{hovertext}</b><br><br>Brand=IROK<br>แกนคุณลักษณะหลักที่ 1 (PC1)=%{x}<br>แกนคุณลักษณะหลักที่ 2 (PC2)=%{y}<extra></extra>",
         "hovertext": [
          "HE3 PRO",
          "HE3",
          "HE3 SE"
         ],
         "legendgroup": "IROK",
         "marker": {
          "color": "#FECB52",
          "symbol": "circle"
         },
         "mode": "markers",
         "name": "IROK",
         "showlegend": true,
         "type": "scattergl",
         "x": {
          "bdata": "9NGqh5vs9L+/rJk2E8/xv1/lG4m3xOq/",
          "dtype": "f8"
         },
         "xaxis": "x",
         "y": {
          "bdata": "Y1R5ZBKk0j+jruJg5WOnP0cYJrYe5eC/",
          "dtype": "f8"
         },
         "yaxis": "y"
        },
        {
         "hovertemplate": "<b>%{hovertext}</b><br><br>Brand=Alienware<br>แกนคุณลักษณะหลักที่ 1 (PC1)=%{x}<br>แกนคุณลักษณะหลักที่ 2 (PC2)=%{y}<extra></extra>",
         "hovertext": [
          "Pro Wireless",
          "AW620M",
          "AW610M",
          "AW720M",
          "AW320M"
         ],
         "legendgroup": "Alienware",
         "marker": {
          "color": "#636efa",
          "symbol": "circle"
         },
         "mode": "markers",
         "name": "Alienware",
         "showlegend": true,
         "type": "scattergl",
         "x": {
          "bdata": "mDDU5BRD77+d6Sy/qPMJQPHBWiDVwAZAHpoosQdYyL9Eii//u/Dbvw==",
          "dtype": "f8"
         },
         "xaxis": "x",
         "y": {
          "bdata": "QKDoEU0W7D9/T4rHOjXwPwxiEpy18LI/mjzjcQyi6r94LYjsR0flvw==",
          "dtype": "f8"
         },
         "yaxis": "y"
        },
        {
         "hovertemplate": "<b>%{hovertext}</b><br><br>Brand=Santali<br>แกนคุณลักษณะหลักที่ 1 (PC1)=%{x}<br>แกนคุณลักษณะหลักที่ 2 (PC2)=%{y}<extra></extra>",
         "hovertext": [
          "S1-O"
         ],
         "legendgroup": "Santali",
         "marker": {
          "color": "#EF553B",
          "symbol": "circle"
         },
         "mode": "markers",
         "name": "Santali",
         "showlegend": true,
         "type": "scattergl",
         "x": {
          "bdata": "aIKxmlkS9L8=",
          "dtype": "f8"
         },
         "xaxis": "x",
         "y": {
          "bdata": "5BoSejLW8T8=",
          "dtype": "f8"
         },
         "yaxis": "y"
        },
        {
         "hovertemplate": "<b>%{hovertext}</b><br><br>Brand=Hitscan<br>แกนคุณลักษณะหลักที่ 1 (PC1)=%{x}<br>แกนคุณลักษณะหลักที่ 2 (PC2)=%{y}<extra></extra>",
         "hovertext": [
          "Hyperlight"
         ],
         "legendgroup": "Hitscan",
         "marker": {
          "color": "#00cc96",
          "symbol": "circle"
         },
         "mode": "markers",
         "name": "Hitscan",
         "showlegend": true,
         "type": "scattergl",
         "x": {
          "bdata": "F2P+nkdQAcA=",
          "dtype": "f8"
         },
         "xaxis": "x",
         "y": {
          "bdata": "pTW+Iooe6z8=",
          "dtype": "f8"
         },
         "yaxis": "y"
        },
        {
         "hovertemplate": "<b>%{hovertext}</b><br><br>Brand=A4Tech<br>แกนคุณลักษณะหลักที่ 1 (PC1)=%{x}<br>แกนคุณลักษณะหลักที่ 2 (PC2)=%{y}<extra></extra>",
         "hovertext": [
          "XL-750BK",
          "XL-750BH",
          "Bloody V7"
         ],
         "legendgroup": "A4Tech",
         "marker": {
          "color": "#ab63fa",
          "symbol": "circle"
         },
         "mode": "markers",
         "name": "A4Tech",
         "showlegend": true,
         "type": "scattergl",
         "x": {
          "bdata": "FzwtneYeC0AXPC2d5h4LQGJzk8FtNxJA",
          "dtype": "f8"
         },
         "xaxis": "x",
         "y": {
          "bdata": "WawH6maWFsBZrAfqZpYWwKjVLO/eK/i/",
          "dtype": "f8"
         },
         "yaxis": "y"
        },
        {
         "hovertemplate": "<b>%{hovertext}</b><br><br>Brand=Zaunkoenig<br>แกนคุณลักษณะหลักที่ 1 (PC1)=%{x}<br>แกนคุณลักษณะหลักที่ 2 (PC2)=%{y}<extra></extra>",
         "hovertext": [
          "M3K",
          "M2K"
         ],
         "legendgroup": "Zaunkoenig",
         "marker": {
          "color": "#FFA15A",
          "symbol": "circle"
         },
         "mode": "markers",
         "name": "Zaunkoenig",
         "showlegend": true,
         "type": "scattergl",
         "x": {
          "bdata": "gYVZXqibE8A/DhhwEQ4TwA==",
          "dtype": "f8"
         },
         "xaxis": "x",
         "y": {
          "bdata": "43oL+0OO9b+vixg+GyX6vw==",
          "dtype": "f8"
         },
         "yaxis": "y"
        },
        {
         "hovertemplate": "<b>%{hovertext}</b><br><br>Brand=ELECOM<br>แกนคุณลักษณะหลักที่ 1 (PC1)=%{x}<br>แกนคุณลักษณะหลักที่ 2 (PC2)=%{y}<extra></extra>",
         "hovertext": [
          "VM501LBK",
          "VM501BK",
          "VM510BK",
          "VM610BK",
          "VM600PE"
         ],
         "legendgroup": "ELECOM",
         "marker": {
          "color": "#19d3f3",
          "symbol": "circle"
         },
         "mode": "markers",
         "name": "ELECOM",
         "showlegend": true,
         "type": "scattergl",
         "x": {
          "bdata": "QOEFZkxj/D8JQpcBxTLvPwSgdI9TQfG/0eI+E3Qg9b8g987Y+LH4Pw==",
          "dtype": "f8"
         },
         "xaxis": "x",
         "y": {
          "bdata": "B1SUS9Yu6D/LmW5TYczTP+YN70NFb+S/akwFZU99wb9H6kv09QDlPw==",
          "dtype": "f8"
         },
         "yaxis": "y"
        },
        {
         "hovertemplate": "<b>%{hovertext}</b><br><br>Brand=Irocks<br>แกนคุณลักษณะหลักที่ 1 (PC1)=%{x}<br>แกนคุณลักษณะหลักที่ 2 (PC2)=%{y}<extra></extra>",
         "hovertext": [
          "M31R"
         ],
         "legendgroup": "Irocks",
         "marker": {
          "color": "#FF6692",
          "symbol": "circle"
         },
         "mode": "markers",
         "name": "Irocks",
         "showlegend": true,
         "type": "scattergl",
         "x": {
          "bdata": "xOMjvRL+8T8=",
          "dtype": "f8"
         },
         "xaxis": "x",
         "y": {
          "bdata": "jVLg4mxt5T8=",
          "dtype": "f8"
         },
         "yaxis": "y"
        },
        {
         "hovertemplate": "<b>%{hovertext}</b><br><br>Brand=GITOPER<br>แกนคุณลักษณะหลักที่ 1 (PC1)=%{x}<br>แกนคุณลักษณะหลักที่ 2 (PC2)=%{y}<extra></extra>",
         "hovertext": [
          "G1",
          "G3",
          "G2"
         ],
         "legendgroup": "GITOPER",
         "marker": {
          "color": "#B6E880",
          "symbol": "circle"
         },
         "mode": "markers",
         "name": "GITOPER",
         "showlegend": true,
         "type": "scattergl",
         "x": {
          "bdata": "oyVx3z+27D8n91g5hU3wP3CI6jpWWuC/",
          "dtype": "f8"
         },
         "xaxis": "x",
         "y": {
          "bdata": "tMLoHf026T83fuC/W6LcP4hnsdplI9g/",
          "dtype": "f8"
         },
         "yaxis": "y"
        },
        {
         "hovertemplate": "<b>%{hovertext}</b><br><br>Brand=Cherry<br>แกนคุณลักษณะหลักที่ 1 (PC1)=%{x}<br>แกนคุณลักษณะหลักที่ 2 (PC2)=%{y}<extra></extra>",
         "hovertext": [
          "Xtrfy M50 Wireless",
          "Xtrfy M50",
          "Xtrfy M68 Pro 8K Wireless",
          "Xtrfy M68 Wireless",
          "Xtrfy M64 Pro 8K Wireless",
          "Xtrfy M64 Wireless"
         ],
         "legendgroup": "Cherry",
         "marker": {
          "color": "#FF97FF",
          "symbol": "circle"
         },
         "mode": "markers",
         "name": "Cherry",
         "showlegend": true,
         "type": "scattergl",
         "x": {
          "bdata": "Sgm9vSoUqD9aGGiuRtbVv8jBpxMwRvO/188Ku76K6b9mV1UH9i3BP6u+JUeMS+E/",
          "dtype": "f8"
         },
         "xaxis": "x",
         "y": {
          "bdata": "PEVtbxaH8r/Z/nVGQA/nv3DLeYkoVOw/2aLYlpth1z+FpV6K8Yv0P/5cA15beOg/",
          "dtype": "f8"
         },
         "yaxis": "y"
        },
        {
         "hovertemplate": "<b>%{hovertext}</b><br><br>Brand=IXILAB<br>แกนคุณลักษณะหลักที่ 1 (PC1)=%{x}<br>แกนคุณลักษณะหลักที่ 2 (PC2)=%{y}<extra></extra>",
         "hovertext": [
          "X1 Pro Max",
          "X1 Pro",
          "X1"
         ],
         "legendgroup": "IXILAB",
         "marker": {
          "color": "#FECB52",
          "symbol": "circle"
         },
         "mode": "markers",
         "name": "IXILAB",
         "showlegend": true,
         "type": "scattergl",
         "x": {
          "bdata": "XYfkPkdY9b/2E9jJtSL4v7/uxngtBfW/",
          "dtype": "f8"
         },
         "xaxis": "x",
         "y": {
          "bdata": "Zv4wQuDhaD8oReEKxk3KP9/fYpeVhaS/",
          "dtype": "f8"
         },
         "yaxis": "y"
        },
        {
         "hovertemplate": "<b>%{hovertext}</b><br><br>Brand=Ardor<br>แกนคุณลักษณะหลักที่ 1 (PC1)=%{x}<br>แกนคุณลักษณะหลักที่ 2 (PC2)=%{y}<extra></extra>",
         "hovertext": [
          "Gaming Immortality Pro Wireless",
          "Gaming Immortality",
          "Gaming Ulta (big back)",
          "Gaming Ulta (mid back)",
          "Gaming Ulta (small back)",
          "Gaming Prime X",
          "Gaming Prime Wireless",
          "Gaming Prime",
          "Gaming Fury Beast",
          "Gaming Fury Pro",
          "Gaming Fury",
          "Gaming Phantom Pro V2",
          "Gaming Phantom Pro",
          "Gaming Phantom Pro Wired"
         ],
         "legendgroup": "Ardor",
         "marker": {
          "color": "#636efa",
          "symbol": "circle"
         },
         "mode": "markers",
         "name": "Ardor",
         "showlegend": true,
         "type": "scattergl",
         "x": {
          "bdata": "jKSB5SlU3b9OyTLko4LnvzSCzHQrEOK/NILMdCsQ4r80gsx0KxDiv2AJgUJgh9C/VAc7jY4azb9yvpXfih6zvytBrxCDxAhAfjMcwqvSCECs86bvJWMLQEJSr9Z9+Ny/HAGSObPo0b+EFstfUSPgvw==",
          "dtype": "f8"
         },
         "xaxis": "x",
         "y": {
          "bdata": "vv1IP2px5L9rSGobQq/bv5poyw8m/tC/mmjLDyb+0L+aaMsPJv7Qv60EvL0/uei/XZKhPFD77L+jdT2Jd53wv3lQ/EqfPtw/UIDGcKdT2z/uHlYvxVCyP8smAiQ/tqQ/Iw/Bamxb1L9SSOycjKPAvw==",
          "dtype": "f8"
         },
         "yaxis": "y"
        },
        {
         "hovertemplate": "<b>%{hovertext}</b><br><br>Brand=FineMax<br>แกนคุณลักษณะหลักที่ 1 (PC1)=%{x}<br>แกนคุณลักษณะหลักที่ 2 (PC2)=%{y}<extra></extra>",
         "hovertext": [
          "Noah"
         ],
         "legendgroup": "FineMax",
         "marker": {
          "color": "#EF553B",
          "symbol": "circle"
         },
         "mode": "markers",
         "name": "FineMax",
         "showlegend": true,
         "type": "scattergl",
         "x": {
          "bdata": "/qMgf9B37r8=",
          "dtype": "f8"
         },
         "xaxis": "x",
         "y": {
          "bdata": "6bcd5Qww2j8=",
          "dtype": "f8"
         },
         "yaxis": "y"
        },
        {
         "hovertemplate": "<b>%{hovertext}</b><br><br>Brand=Sprime<br>แกนคุณลักษณะหลักที่ 1 (PC1)=%{x}<br>แกนคุณลักษณะหลักที่ 2 (PC2)=%{y}<extra></extra>",
         "hovertext": [
          "PM1"
         ],
         "legendgroup": "Sprime",
         "marker": {
          "color": "#00cc96",
          "symbol": "circle"
         },
         "mode": "markers",
         "name": "Sprime",
         "showlegend": true,
         "type": "scattergl",
         "x": {
          "bdata": "hI1QVi4Du78=",
          "dtype": "f8"
         },
         "xaxis": "x",
         "y": {
          "bdata": "L6RUr89c+j8=",
          "dtype": "f8"
         },
         "yaxis": "y"
        },
        {
         "hovertemplate": "<b>%{hovertext}</b><br><br>Brand=Mionix<br>แกนคุณลักษณะหลักที่ 1 (PC1)=%{x}<br>แกนคุณลักษณะหลักที่ 2 (PC2)=%{y}<extra></extra>",
         "hovertext": [
          "Naos Pro",
          "Naos QG",
          "Naos 8200",
          "Naos 7000",
          "Naos 3200",
          "Castor Pro",
          "Castor"
         ],
         "legendgroup": "Mionix",
         "marker": {
          "color": "#ab63fa",
          "symbol": "circle"
         },
         "mode": "markers",
         "name": "Mionix",
         "showlegend": true,
         "type": "scattergl",
         "x": {
          "bdata": "lN+G1vfPDUA/nRgRB/QOQHfnJkBtyQ5AUXLqugOlD0AEafGbFEQUQCkTMMR6PgFAVerRTrKMA0A=",
          "dtype": "f8"
         },
         "xaxis": "x",
         "y": {
          "bdata": "TcYoe7H96D+yVmK/dkrgP4oFQhnLNt0/YgMkV9Mb1T+gPM9RRS0RwNs63gdHIJi/2YUtesZi4r8=",
          "dtype": "f8"
         },
         "yaxis": "y"
        },
        {
         "hovertemplate": "<b>%{hovertext}</b><br><br>Brand=Rexus<br>แกนคุณลักษณะหลักที่ 1 (PC1)=%{x}<br>แกนคุณลักษณะหลักที่ 2 (PC2)=%{y}<extra></extra>",
         "hovertext": [
          "Daxa Air IV"
         ],
         "legendgroup": "Rexus",
         "marker": {
          "color": "#FFA15A",
          "symbol": "circle"
         },
         "mode": "markers",
         "name": "Rexus",
         "showlegend": true,
         "type": "scattergl",
         "x": {
          "bdata": "TieTTCYx378=",
          "dtype": "f8"
         },
         "xaxis": "x",
         "y": {
          "bdata": "w8d15tspqz8=",
          "dtype": "f8"
         },
         "yaxis": "y"
        },
        {
         "hovertemplate": "<b>%{hovertext}</b><br><br>Brand=Atompalm<br>แกนคุณลักษณะหลักที่ 1 (PC1)=%{x}<br>แกนคุณลักษณะหลักที่ 2 (PC2)=%{y}<extra></extra>",
         "hovertext": [
          "Hydrogen 2",
          "Hydrogen"
         ],
         "legendgroup": "Atompalm",
         "marker": {
          "color": "#19d3f3",
          "symbol": "circle"
         },
         "mode": "markers",
         "name": "Atompalm",
         "showlegend": true,
         "type": "scattergl",
         "x": {
          "bdata": "ZvqwIg0m8b9m+rAiDSbxvw==",
          "dtype": "f8"
         },
         "xaxis": "x",
         "y": {
          "bdata": "7IdJ3dGY4z/sh0nd0ZjjPw==",
          "dtype": "f8"
         },
         "yaxis": "y"
        },
        {
         "hovertemplate": "<b>%{hovertext}</b><br><br>Brand=ARYE<br>แกนคุณลักษณะหลักที่ 1 (PC1)=%{x}<br>แกนคุณลักษณะหลักที่ 2 (PC2)=%{y}<extra></extra>",
         "hovertext": [
          "FCC-1"
         ],
         "legendgroup": "ARYE",
         "marker": {
          "color": "#FF6692",
          "symbol": "circle"
         },
         "mode": "markers",
         "name": "ARYE",
         "showlegend": true,
         "type": "scattergl",
         "x": {
          "bdata": "Esk1+tXVAcA=",
          "dtype": "f8"
         },
         "xaxis": "x",
         "y": {
          "bdata": "Xh52oS4Dx78=",
          "dtype": "f8"
         },
         "yaxis": "y"
        },
        {
         "hovertemplate": "<b>%{hovertext}</b><br><br>Brand=Ironcat<br>แกนคุณลักษณะหลักที่ 1 (PC1)=%{x}<br>แกนคุณลักษณะหลักที่ 2 (PC2)=%{y}<extra></extra>",
         "hovertext": [
          "HPC01M Pro",
          "HPC01M",
          "HPC02M",
          "HPC02"
         ],
         "legendgroup": "Ironcat",
         "marker": {
          "color": "#B6E880",
          "symbol": "circle"
         },
         "mode": "markers",
         "name": "Ironcat",
         "showlegend": true,
         "type": "scattergl",
         "x": {
          "bdata": "wS5PYGQS9r8JCsKNmSj0v8wBrG5Kj/O//ioymy7X4r8=",
          "dtype": "f8"
         },
         "xaxis": "x",
         "y": {
          "bdata": "wih0QosZsb+sx3SmccLMv+jFV0HGRuO/sOZ95UF6zr8=",
          "dtype": "f8"
         },
         "yaxis": "y"
        },
        {
         "hovertemplate": "<b>%{hovertext}</b><br><br>Brand=Xinshuntian<br>แกนคุณลักษณะหลักที่ 1 (PC1)=%{x}<br>แกนคุณลักษณะหลักที่ 2 (PC2)=%{y}<extra></extra>",
         "hovertext": [
          "G820"
         ],
         "legendgroup": "Xinshuntian",
         "marker": {
          "color": "#FF97FF",
          "symbol": "circle"
         },
         "mode": "markers",
         "name": "Xinshuntian",
         "showlegend": true,
         "type": "scattergl",
         "x": {
          "bdata": "PQYQVlAI7D8=",
          "dtype": "f8"
         },
         "xaxis": "x",
         "y": {
          "bdata": "fIsf9Hhb4z8=",
          "dtype": "f8"
         },
         "yaxis": "y"
        },
        {
         "hovertemplate": "<b>%{hovertext}</b><br><br>Brand=Ducky<br>แกนคุณลักษณะหลักที่ 1 (PC1)=%{x}<br>แกนคุณลักษณะหลักที่ 2 (PC2)=%{y}<extra></extra>",
         "hovertext": [
          "Feather"
         ],
         "legendgroup": "Ducky",
         "marker": {
          "color": "#FECB52",
          "symbol": "circle"
         },
         "mode": "markers",
         "name": "Ducky",
         "showlegend": true,
         "type": "scattergl",
         "x": {
          "bdata": "H9Ox7Z3z4b8=",
          "dtype": "f8"
         },
         "xaxis": "x",
         "y": {
          "bdata": "f2x8PmJq4r8=",
          "dtype": "f8"
         },
         "yaxis": "y"
        },
        {
         "hovertemplate": "<b>%{hovertext}</b><br><br>Brand=Pichau<br>แกนคุณลักษณะหลักที่ 1 (PC1)=%{x}<br>แกนคุณลักษณะหลักที่ 2 (PC2)=%{y}<extra></extra>",
         "hovertext": [
          "Hive S"
         ],
         "legendgroup": "Pichau",
         "marker": {
          "color": "#636efa",
          "symbol": "circle"
         },
         "mode": "markers",
         "name": "Pichau",
         "showlegend": true,
         "type": "scattergl",
         "x": {
          "bdata": "bjQ7N+1j378=",
          "dtype": "f8"
         },
         "xaxis": "x",
         "y": {
          "bdata": "LE4MKgGW4r8=",
          "dtype": "f8"
         },
         "yaxis": "y"
        },
        {
         "hovertemplate": "<b>%{hovertext}</b><br><br>Brand=Fnatic<br>แกนคุณลักษณะหลักที่ 1 (PC1)=%{x}<br>แกนคุณลักษณะหลักที่ 2 (PC2)=%{y}<extra></extra>",
         "hovertext": [
          "CLUTCH 2",
          "Bolt"
         ],
         "legendgroup": "Fnatic",
         "marker": {
          "color": "#EF553B",
          "symbol": "circle"
         },
         "mode": "markers",
         "name": "Fnatic",
         "showlegend": true,
         "type": "scattergl",
         "x": {
          "bdata": "3EAkr6wTBUBcXZ3PgQPjvw==",
          "dtype": "f8"
         },
         "xaxis": "x",
         "y": {
          "bdata": "M+hxo1FspD+QOVyXw1vgvw==",
          "dtype": "f8"
         },
         "yaxis": "y"
        },
        {
         "hovertemplate": "<b>%{hovertext}</b><br><br>Brand=Aqirys<br>แกนคุณลักษณะหลักที่ 1 (PC1)=%{x}<br>แกนคุณลักษณะหลักที่ 2 (PC2)=%{y}<extra></extra>",
         "hovertext": [
          "TGA Alpha"
         ],
         "legendgroup": "Aqirys",
         "marker": {
          "color": "#00cc96",
          "symbol": "circle"
         },
         "mode": "markers",
         "name": "Aqirys",
         "showlegend": true,
         "type": "scattergl",
         "x": {
          "bdata": "jNo2YSJJ2L8=",
          "dtype": "f8"
         },
         "xaxis": "x",
         "y": {
          "bdata": "w9f1HjQuxL8=",
          "dtype": "f8"
         },
         "yaxis": "y"
        },
        {
         "hovertemplate": "<b>%{hovertext}</b><br><br>Brand=Fallen<br>แกนคุณลักษณะหลักที่ 1 (PC1)=%{x}<br>แกนคุณลักษณะหลักที่ 2 (PC2)=%{y}<extra></extra>",
         "hovertext": [
          "Pantera Pro"
         ],
         "legendgroup": "Fallen",
         "marker": {
          "color": "#ab63fa",
          "symbol": "circle"
         },
         "mode": "markers",
         "name": "Fallen",
         "showlegend": true,
         "type": "scattergl",
         "x": {
          "bdata": "wr7+PFcr0r8=",
          "dtype": "f8"
         },
         "xaxis": "x",
         "y": {
          "bdata": "BADg/Djb0L8=",
          "dtype": "f8"
         },
         "yaxis": "y"
        },
        {
         "hovertemplate": "<b>%{hovertext}</b><br><br>Brand=Drevo<br>แกนคุณลักษณะหลักที่ 1 (PC1)=%{x}<br>แกนคุณลักษณะหลักที่ 2 (PC2)=%{y}<extra></extra>",
         "hovertext": [
          "Falcon"
         ],
         "legendgroup": "Drevo",
         "marker": {
          "color": "#FFA15A",
          "symbol": "circle"
         },
         "mode": "markers",
         "name": "Drevo",
         "showlegend": true,
         "type": "scattergl",
         "x": {
          "bdata": "MQAvc1jUzT8=",
          "dtype": "f8"
         },
         "xaxis": "x",
         "y": {
          "bdata": "WJKrHJX07r8=",
          "dtype": "f8"
         },
         "yaxis": "y"
        },
        {
         "hovertemplate": "<b>%{hovertext}</b><br><br>Brand=Acer<br>แกนคุณลักษณะหลักที่ 1 (PC1)=%{x}<br>แกนคุณลักษณะหลักที่ 2 (PC2)=%{y}<extra></extra>",
         "hovertext": [
          "Cestus 330"
         ],
         "legendgroup": "Acer",
         "marker": {
          "color": "#19d3f3",
          "symbol": "circle"
         },
         "mode": "markers",
         "name": "Acer",
         "showlegend": true,
         "type": "scattergl",
         "x": {
          "bdata": "lgaW4/nK/j8=",
          "dtype": "f8"
         },
         "xaxis": "x",
         "y": {
          "bdata": "Z91iB1IHA8A=",
          "dtype": "f8"
         },
         "yaxis": "y"
        },
        {
         "hovertemplate": "<b>%{hovertext}</b><br><br>Brand=Teamwolf<br>แกนคุณลักษณะหลักที่ 1 (PC1)=%{x}<br>แกนคุณลักษณะหลักที่ 2 (PC2)=%{y}<extra></extra>",
         "hovertext": [
          "Lurker MK-01"
         ],
         "legendgroup": "Teamwolf",
         "marker": {
          "color": "#FF6692",
          "symbol": "circle"
         },
         "mode": "markers",
         "name": "Teamwolf",
         "showlegend": true,
         "type": "scattergl",
         "x": {
          "bdata": "Wta812dY/78=",
          "dtype": "f8"
         },
         "xaxis": "x",
         "y": {
          "bdata": "9rMn7Tlh7b8=",
          "dtype": "f8"
         },
         "yaxis": "y"
        },
        {
         "hovertemplate": "<b>%{hovertext}</b><br><br>Brand=PureTrak<br>แกนคุณลักษณะหลักที่ 1 (PC1)=%{x}<br>แกนคุณลักษณะหลักที่ 2 (PC2)=%{y}<extra></extra>",
         "hovertext": [
          "Valor Wireless"
         ],
         "legendgroup": "PureTrak",
         "marker": {
          "color": "#B6E880",
          "symbol": "circle"
         },
         "mode": "markers",
         "name": "PureTrak",
         "showlegend": true,
         "type": "scattergl",
         "x": {
          "bdata": "B7dzfSSL4b8=",
          "dtype": "f8"
         },
         "xaxis": "x",
         "y": {
          "bdata": "+rHKo821wj8=",
          "dtype": "f8"
         },
         "yaxis": "y"
        },
        {
         "hovertemplate": "<b>%{hovertext}</b><br><br>Brand=Xenics<br>แกนคุณลักษณะหลักที่ 1 (PC1)=%{x}<br>แกนคุณลักษณะหลักที่ 2 (PC2)=%{y}<extra></extra>",
         "hovertext": [
          "Titan GX Air Wireless"
         ],
         "legendgroup": "Xenics",
         "marker": {
          "color": "#FF97FF",
          "symbol": "circle"
         },
         "mode": "markers",
         "name": "Xenics",
         "showlegend": true,
         "type": "scattergl",
         "x": {
          "bdata": "oYYdf9Ne5b8=",
          "dtype": "f8"
         },
         "xaxis": "x",
         "y": {
          "bdata": "BlRdI4iA8L8=",
          "dtype": "f8"
         },
         "yaxis": "y"
        },
        {
         "hovertemplate": "<b>%{hovertext}</b><br><br>Brand=SPC<br>แกนคุณลักษณะหลักที่ 1 (PC1)=%{x}<br>แกนคุณลักษณะหลักที่ 2 (PC2)=%{y}<extra></extra>",
         "hovertext": [
          "Gear LIX Plus Wireless"
         ],
         "legendgroup": "SPC",
         "marker": {
          "color": "#FECB52",
          "symbol": "circle"
         },
         "mode": "markers",
         "name": "SPC",
         "showlegend": true,
         "type": "scattergl",
         "x": {
          "bdata": "bhx6GPOExL8=",
          "dtype": "f8"
         },
         "xaxis": "x",
         "y": {
          "bdata": "GJ86ZUIJyr8=",
          "dtype": "f8"
         },
         "yaxis": "y"
        },
        {
         "hovertemplate": "<b>%{hovertext}</b><br><br>Brand=Dornfinger<br>แกนคุณลักษณะหลักที่ 1 (PC1)=%{x}<br>แกนคุณลักษณะหลักที่ 2 (PC2)=%{y}<extra></extra>",
         "hovertext": [
          "Veno-S"
         ],
         "legendgroup": "Dornfinger",
         "marker": {
          "color": "#636efa",
          "symbol": "circle"
         },
         "mode": "markers",
         "name": "Dornfinger",
         "showlegend": true,
         "type": "scattergl",
         "x": {
          "bdata": "ZR0fX41B2L8=",
          "dtype": "f8"
         },
         "xaxis": "x",
         "y": {
          "bdata": "OFUlsvA11L8=",
          "dtype": "f8"
         },
         "yaxis": "y"
        },
        {
         "hovertemplate": "<b>%{hovertext}</b><br><br>Brand=Midnight<br>แกนคุณลักษณะหลักที่ 1 (PC1)=%{x}<br>แกนคุณลักษณะหลักที่ 2 (PC2)=%{y}<extra></extra>",
         "hovertext": [
          "Thread C1"
         ],
         "legendgroup": "Midnight",
         "marker": {
          "color": "#EF553B",
          "symbol": "circle"
         },
         "mode": "markers",
         "name": "Midnight",
         "showlegend": true,
         "type": "scattergl",
         "x": {
          "bdata": "/uMiARld9L8=",
          "dtype": "f8"
         },
         "xaxis": "x",
         "y": {
          "bdata": "SPQQna0U2T8=",
          "dtype": "f8"
         },
         "yaxis": "y"
        },
        {
         "hovertemplate": "<b>%{hovertext}</b><br><br>Brand=HK<br>แกนคุณลักษณะหลักที่ 1 (PC1)=%{x}<br>แกนคุณลักษณะหลักที่ 2 (PC2)=%{y}<extra></extra>",
         "hovertext": [
          "Gaming Sirius M"
         ],
         "legendgroup": "HK",
         "marker": {
          "color": "#00cc96",
          "symbol": "circle"
         },
         "mode": "markers",
         "name": "HK",
         "showlegend": true,
         "type": "scattergl",
         "x": {
          "bdata": "pQ5urLGx7b8=",
          "dtype": "f8"
         },
         "xaxis": "x",
         "y": {
          "bdata": "EauYPvnv378=",
          "dtype": "f8"
         },
         "yaxis": "y"
        },
        {
         "hovertemplate": "<b>%{hovertext}</b><br><br>Brand=CryoMods<br>แกนคุณลักษณะหลักที่ 1 (PC1)=%{x}<br>แกนคุณลักษณะหลักที่ 2 (PC2)=%{y}<extra></extra>",
         "hovertext": [
          "Fractal Wireless"
         ],
         "legendgroup": "CryoMods",
         "marker": {
          "color": "#ab63fa",
          "symbol": "circle"
         },
         "mode": "markers",
         "name": "CryoMods",
         "showlegend": true,
         "type": "scattergl",
         "x": {
          "bdata": "+gPBbXBE8b8=",
          "dtype": "f8"
         },
         "xaxis": "x",
         "y": {
          "bdata": "QzI48BcD9L8=",
          "dtype": "f8"
         },
         "yaxis": "y"
        },
        {
         "hovertemplate": "<b>%{hovertext}</b><br><br>Brand=Lethal<br>แกนคุณลักษณะหลักที่ 1 (PC1)=%{x}<br>แกนคุณลักษณะหลักที่ 2 (PC2)=%{y}<extra></extra>",
         "hovertext": [
          "Gaming Gear LA-1"
         ],
         "legendgroup": "Lethal",
         "marker": {
          "color": "#FFA15A",
          "symbol": "circle"
         },
         "mode": "markers",
         "name": "Lethal",
         "showlegend": true,
         "type": "scattergl",
         "x": {
          "bdata": "7zM64zhv8b8=",
          "dtype": "f8"
         },
         "xaxis": "x",
         "y": {
          "bdata": "MTuH0Qjfwz8=",
          "dtype": "f8"
         },
         "yaxis": "y"
        },
        {
         "hovertemplate": "<b>%{hovertext}</b><br><br>Brand=Gamesense<br>แกนคุณลักษณะหลักที่ 1 (PC1)=%{x}<br>แกนคุณลักษณะหลักที่ 2 (PC2)=%{y}<extra></extra>",
         "hovertext": [
          "MVP Wired",
          "MVP Wireless",
          "META Wired"
         ],
         "legendgroup": "Gamesense",
         "marker": {
          "color": "#19d3f3",
          "symbol": "circle"
         },
         "mode": "markers",
         "name": "Gamesense",
         "showlegend": true,
         "type": "scattergl",
         "x": {
          "bdata": "rMRNVodAyb96SM8ne92jPymvhRliY+y/",
          "dtype": "f8"
         },
         "xaxis": "x",
         "y": {
          "bdata": "Xlyse1d/sL961XLV/ZjUv/O+pxN5KPC/",
          "dtype": "f8"
         },
         "yaxis": "y"
        },
        {
         "hovertemplate": "<b>%{hovertext}</b><br><br>Brand=Dream<br>แกนคุณลักษณะหลักที่ 1 (PC1)=%{x}<br>แกนคุณลักษณะหลักที่ 2 (PC2)=%{y}<extra></extra>",
         "hovertext": [
          "Machines DM1 FPS",
          "Machines DM2 Comfy S",
          "Machines DM4 Evo",
          "Machines DM4 Evo S",
          "Machines DM5 Blink",
          "Machines DM6 Holey S",
          "Machines DM6 Holey",
          "Machines DM6 Duo",
          "Machines DM6 Trio"
         ],
         "legendgroup": "Dream",
         "marker": {
          "color": "#FF6692",
          "symbol": "circle"
         },
         "mode": "markers",
         "name": "Dream",
         "showlegend": true,
         "type": "scattergl",
         "x": {
          "bdata": "CQ70T/uP3D+GCIAqh2UNQBigeYQUvwBAp4bIUeNUAEDcGc3DwrECQL5W3MZuv/g/QkVfo5za+T8u3Eq6Z3f8P2IqZVJqYfw/",
          "dtype": "f8"
         },
         "xaxis": "x",
         "y": {
          "bdata": "bT54KXGe37+Xek75yE/mPyjCvucM59e/9igrA8oE0b+Q4jSOXUSyv9d9FqVYaN0/PVz8Hqo61D8OkaW2cQLLP9yjJTFCNdE/",
          "dtype": "f8"
         },
         "yaxis": "y"
        }
       ],
       "layout": {
        "legend": {
         "title": {
          "text": "Brand"
         },
         "tracegroupgap": 0
        },
        "template": {
         "data": {
          "bar": [
           {
            "error_x": {
             "color": "#2a3f5f"
            },
            "error_y": {
             "color": "#2a3f5f"
            },
            "marker": {
             "line": {
              "color": "#E5ECF6",
              "width": 0.5
             },
             "pattern": {
              "fillmode": "overlay",
              "size": 10,
              "solidity": 0.2
             }
            },
            "type": "bar"
           }
          ],
          "barpolar": [
           {
            "marker": {
             "line": {
              "color": "#E5ECF6",
              "width": 0.5
             },
             "pattern": {
              "fillmode": "overlay",
              "size": 10,
              "solidity": 0.2
             }
            },
            "type": "barpolar"
           }
          ],
          "carpet": [
           {
            "aaxis": {
             "endlinecolor": "#2a3f5f",
             "gridcolor": "white",
             "linecolor": "white",
             "minorgridcolor": "white",
             "startlinecolor": "#2a3f5f"
            },
            "baxis": {
             "endlinecolor": "#2a3f5f",
             "gridcolor": "white",
             "linecolor": "white",
             "minorgridcolor": "white",
             "startlinecolor": "#2a3f5f"
            },
            "type": "carpet"
           }
          ],
          "choropleth": [
           {
            "colorbar": {
             "outlinewidth": 0,
             "ticks": ""
            },
            "type": "choropleth"
           }
          ],
          "contour": [
           {
            "colorbar": {
             "outlinewidth": 0,
             "ticks": ""
            },
            "colorscale": [
             [
              0,
              "#0d0887"
             ],
             [
              0.1111111111111111,
              "#46039f"
             ],
             [
              0.2222222222222222,
              "#7201a8"
             ],
             [
              0.3333333333333333,
              "#9c179e"
             ],
             [
              0.4444444444444444,
              "#bd3786"
             ],
             [
              0.5555555555555556,
              "#d8576b"
             ],
             [
              0.6666666666666666,
              "#ed7953"
             ],
             [
              0.7777777777777778,
              "#fb9f3a"
             ],
             [
              0.8888888888888888,
              "#fdca26"
             ],
             [
              1,
              "#f0f921"
             ]
            ],
            "type": "contour"
           }
          ],
          "contourcarpet": [
           {
            "colorbar": {
             "outlinewidth": 0,
             "ticks": ""
            },
            "type": "contourcarpet"
           }
          ],
          "heatmap": [
           {
            "colorbar": {
             "outlinewidth": 0,
             "ticks": ""
            },
            "colorscale": [
             [
              0,
              "#0d0887"
             ],
             [
              0.1111111111111111,
              "#46039f"
             ],
             [
              0.2222222222222222,
              "#7201a8"
             ],
             [
              0.3333333333333333,
              "#9c179e"
             ],
             [
              0.4444444444444444,
              "#bd3786"
             ],
             [
              0.5555555555555556,
              "#d8576b"
             ],
             [
              0.6666666666666666,
              "#ed7953"
             ],
             [
              0.7777777777777778,
              "#fb9f3a"
             ],
             [
              0.8888888888888888,
              "#fdca26"
             ],
             [
              1,
              "#f0f921"
             ]
            ],
            "type": "heatmap"
           }
          ],
          "histogram": [
           {
            "marker": {
             "pattern": {
              "fillmode": "overlay",
              "size": 10,
              "solidity": 0.2
             }
            },
            "type": "histogram"
           }
          ],
          "histogram2d": [
           {
            "colorbar": {
             "outlinewidth": 0,
             "ticks": ""
            },
            "colorscale": [
             [
              0,
              "#0d0887"
             ],
             [
              0.1111111111111111,
              "#46039f"
             ],
             [
              0.2222222222222222,
              "#7201a8"
             ],
             [
              0.3333333333333333,
              "#9c179e"
             ],
             [
              0.4444444444444444,
              "#bd3786"
             ],
             [
              0.5555555555555556,
              "#d8576b"
             ],
             [
              0.6666666666666666,
              "#ed7953"
             ],
             [
              0.7777777777777778,
              "#fb9f3a"
             ],
             [
              0.8888888888888888,
              "#fdca26"
             ],
             [
              1,
              "#f0f921"
             ]
            ],
            "type": "histogram2d"
           }
          ],
          "histogram2dcontour": [
           {
            "colorbar": {
             "outlinewidth": 0,
             "ticks": ""
            },
            "colorscale": [
             [
              0,
              "#0d0887"
             ],
             [
              0.1111111111111111,
              "#46039f"
             ],
             [
              0.2222222222222222,
              "#7201a8"
             ],
             [
              0.3333333333333333,
              "#9c179e"
             ],
             [
              0.4444444444444444,
              "#bd3786"
             ],
             [
              0.5555555555555556,
              "#d8576b"
             ],
             [
              0.6666666666666666,
              "#ed7953"
             ],
             [
              0.7777777777777778,
              "#fb9f3a"
             ],
             [
              0.8888888888888888,
              "#fdca26"
             ],
             [
              1,
              "#f0f921"
             ]
            ],
            "type": "histogram2dcontour"
           }
          ],
          "mesh3d": [
           {
            "colorbar": {
             "outlinewidth": 0,
             "ticks": ""
            },
            "type": "mesh3d"
           }
          ],
          "parcoords": [
           {
            "line": {
             "colorbar": {
              "outlinewidth": 0,
              "ticks": ""
             }
            },
            "type": "parcoords"
           }
          ],
          "pie": [
           {
            "automargin": true,
            "type": "pie"
           }
          ],
          "scatter": [
           {
            "fillpattern": {
             "fillmode": "overlay",
             "size": 10,
             "solidity": 0.2
            },
            "type": "scatter"
           }
          ],
          "scatter3d": [
           {
            "line": {
             "colorbar": {
              "outlinewidth": 0,
              "ticks": ""
             }
            },
            "marker": {
             "colorbar": {
              "outlinewidth": 0,
              "ticks": ""
             }
            },
            "type": "scatter3d"
           }
          ],
          "scattercarpet": [
           {
            "marker": {
             "colorbar": {
              "outlinewidth": 0,
              "ticks": ""
             }
            },
            "type": "scattercarpet"
           }
          ],
          "scattergeo": [
           {
            "marker": {
             "colorbar": {
              "outlinewidth": 0,
              "ticks": ""
             }
            },
            "type": "scattergeo"
           }
          ],
          "scattergl": [
           {
            "marker": {
             "colorbar": {
              "outlinewidth": 0,
              "ticks": ""
             }
            },
            "type": "scattergl"
           }
          ],
          "scattermap": [
           {
            "marker": {
             "colorbar": {
              "outlinewidth": 0,
              "ticks": ""
             }
            },
            "type": "scattermap"
           }
          ],
          "scattermapbox": [
           {
            "marker": {
             "colorbar": {
              "outlinewidth": 0,
              "ticks": ""
             }
            },
            "type": "scattermapbox"
           }
          ],
          "scatterpolar": [
           {
            "marker": {
             "colorbar": {
              "outlinewidth": 0,
              "ticks": ""
             }
            },
            "type": "scatterpolar"
           }
          ],
          "scatterpolargl": [
           {
            "marker": {
             "colorbar": {
              "outlinewidth": 0,
              "ticks": ""
             }
            },
            "type": "scatterpolargl"
           }
          ],
          "scatterternary": [
           {
            "marker": {
             "colorbar": {
              "outlinewidth": 0,
              "ticks": ""
             }
            },
            "type": "scatterternary"
           }
          ],
          "surface": [
           {
            "colorbar": {
             "outlinewidth": 0,
             "ticks": ""
            },
            "colorscale": [
             [
              0,
              "#0d0887"
             ],
             [
              0.1111111111111111,
              "#46039f"
             ],
             [
              0.2222222222222222,
              "#7201a8"
             ],
             [
              0.3333333333333333,
              "#9c179e"
             ],
             [
              0.4444444444444444,
              "#bd3786"
             ],
             [
              0.5555555555555556,
              "#d8576b"
             ],
             [
              0.6666666666666666,
              "#ed7953"
             ],
             [
              0.7777777777777778,
              "#fb9f3a"
             ],
             [
              0.8888888888888888,
              "#fdca26"
             ],
             [
              1,
              "#f0f921"
             ]
            ],
            "type": "surface"
           }
          ],
          "table": [
           {
            "cells": {
             "fill": {
              "color": "#EBF0F8"
             },
             "line": {
              "color": "white"
             }
            },
            "header": {
             "fill": {
              "color": "#C8D4E3"
             },
             "line": {
              "color": "white"
             }
            },
            "type": "table"
           }
          ]
         },
         "layout": {
          "annotationdefaults": {
           "arrowcolor": "#2a3f5f",
           "arrowhead": 0,
           "arrowwidth": 1
          },
          "autotypenumbers": "strict",
          "coloraxis": {
           "colorbar": {
            "outlinewidth": 0,
            "ticks": ""
           }
          },
          "colorscale": {
           "diverging": [
            [
             0,
             "#8e0152"
            ],
            [
             0.1,
             "#c51b7d"
            ],
            [
             0.2,
             "#de77ae"
            ],
            [
             0.3,
             "#f1b6da"
            ],
            [
             0.4,
             "#fde0ef"
            ],
            [
             0.5,
             "#f7f7f7"
            ],
            [
             0.6,
             "#e6f5d0"
            ],
            [
             0.7,
             "#b8e186"
            ],
            [
             0.8,
             "#7fbc41"
            ],
            [
             0.9,
             "#4d9221"
            ],
            [
             1,
             "#276419"
            ]
           ],
           "sequential": [
            [
             0,
             "#0d0887"
            ],
            [
             0.1111111111111111,
             "#46039f"
            ],
            [
             0.2222222222222222,
             "#7201a8"
            ],
            [
             0.3333333333333333,
             "#9c179e"
            ],
            [
             0.4444444444444444,
             "#bd3786"
            ],
            [
             0.5555555555555556,
             "#d8576b"
            ],
            [
             0.6666666666666666,
             "#ed7953"
            ],
            [
             0.7777777777777778,
             "#fb9f3a"
            ],
            [
             0.8888888888888888,
             "#fdca26"
            ],
            [
             1,
             "#f0f921"
            ]
           ],
           "sequentialminus": [
            [
             0,
             "#0d0887"
            ],
            [
             0.1111111111111111,
             "#46039f"
            ],
            [
             0.2222222222222222,
             "#7201a8"
            ],
            [
             0.3333333333333333,
             "#9c179e"
            ],
            [
             0.4444444444444444,
             "#bd3786"
            ],
            [
             0.5555555555555556,
             "#d8576b"
            ],
            [
             0.6666666666666666,
             "#ed7953"
            ],
            [
             0.7777777777777778,
             "#fb9f3a"
            ],
            [
             0.8888888888888888,
             "#fdca26"
            ],
            [
             1,
             "#f0f921"
            ]
           ]
          },
          "colorway": [
           "#636efa",
           "#EF553B",
           "#00cc96",
           "#ab63fa",
           "#FFA15A",
           "#19d3f3",
           "#FF6692",
           "#B6E880",
           "#FF97FF",
           "#FECB52"
          ],
          "font": {
           "color": "#2a3f5f"
          },
          "geo": {
           "bgcolor": "white",
           "lakecolor": "white",
           "landcolor": "#E5ECF6",
           "showlakes": true,
           "showland": true,
           "subunitcolor": "white"
          },
          "hoverlabel": {
           "align": "left"
          },
          "hovermode": "closest",
          "mapbox": {
           "style": "light"
          },
          "paper_bgcolor": "white",
          "plot_bgcolor": "#E5ECF6",
          "polar": {
           "angularaxis": {
            "gridcolor": "white",
            "linecolor": "white",
            "ticks": ""
           },
           "bgcolor": "#E5ECF6",
           "radialaxis": {
            "gridcolor": "white",
            "linecolor": "white",
            "ticks": ""
           }
          },
          "scene": {
           "xaxis": {
            "backgroundcolor": "#E5ECF6",
            "gridcolor": "white",
            "gridwidth": 2,
            "linecolor": "white",
            "showbackground": true,
            "ticks": "",
            "zerolinecolor": "white"
           },
           "yaxis": {
            "backgroundcolor": "#E5ECF6",
            "gridcolor": "white",
            "gridwidth": 2,
            "linecolor": "white",
            "showbackground": true,
            "ticks": "",
            "zerolinecolor": "white"
           },
           "zaxis": {
            "backgroundcolor": "#E5ECF6",
            "gridcolor": "white",
            "gridwidth": 2,
            "linecolor": "white",
            "showbackground": true,
            "ticks": "",
            "zerolinecolor": "white"
           }
          },
          "shapedefaults": {
           "line": {
            "color": "#2a3f5f"
           }
          },
          "ternary": {
           "aaxis": {
            "gridcolor": "white",
            "linecolor": "white",
            "ticks": ""
           },
           "baxis": {
            "gridcolor": "white",
            "linecolor": "white",
            "ticks": ""
           },
           "bgcolor": "#E5ECF6",
           "caxis": {
            "gridcolor": "white",
            "linecolor": "white",
            "ticks": ""
           }
          },
          "title": {
           "x": 0.05
          },
          "xaxis": {
           "automargin": true,
           "gridcolor": "white",
           "linecolor": "white",
           "ticks": "",
           "title": {
            "standoff": 15
           },
           "zerolinecolor": "white",
           "zerolinewidth": 2
          },
          "yaxis": {
           "automargin": true,
           "gridcolor": "white",
           "linecolor": "white",
           "ticks": "",
           "title": {
            "standoff": 15
           },
           "zerolinecolor": "white",
           "zerolinewidth": 2
          }
         }
        },
        "title": {
         "text": "ผลการวิเคราะห์ PCA ของข้อมูลเมาส์"
        },
        "xaxis": {
         "anchor": "y",
         "domain": [
          0,
          1
         ],
         "title": {
          "text": "แกนคุณลักษณะหลักที่ 1 (PC1)"
         }
        },
        "yaxis": {
         "anchor": "x",
         "domain": [
          0,
          1
         ],
         "title": {
          "text": "แกนคุณลักษณะหลักที่ 2 (PC2)"
         }
        }
       }
      }
     },
     "metadata": {},
     "output_type": "display_data"
    }
   ],
   "source": [
    "# สร้างกราฟ Scatter Plot แบบ Interactive ด้วย Plotly\n",
    "fig = px.scatter(\n",
    "    df_pca,\n",
    "    x='PC1',\n",
    "    y='PC2',\n",
    "    color='Brand', # แยกสีตามยี่ห้อ\n",
    "    hover_name='Model', # เมื่อเอาเมาส์ไปชี้จะแสดงชื่อรุ่น\n",
    "    title='ผลการวิเคราะห์ PCA ของข้อมูลเมาส์',\n",
    "    labels={'PC1': 'แกนคุณลักษณะหลักที่ 1 (PC1)', 'PC2': 'แกนคุณลักษณะหลักที่ 2 (PC2)'}\n",
    ")\n",
    "\n",
    "fig.show()"
   ]
  },
  {
   "cell_type": "markdown",
   "id": "b80f6c3b",
   "metadata": {},
   "source": [
    "#  **Find Similar Mouse using Cosine Similarity**"
   ]
  },
  {
   "cell_type": "code",
   "execution_count": 6,
   "id": "1720b926",
   "metadata": {
    "execution": {
     "iopub.execute_input": "2025-10-14T02:56:19.832776Z",
     "iopub.status.busy": "2025-10-14T02:56:19.832776Z",
     "iopub.status.idle": "2025-10-14T02:56:19.858908Z",
     "shell.execute_reply": "2025-10-14T02:56:19.858908Z"
    }
   },
   "outputs": [
    {
     "name": "stdout",
     "output_type": "stream",
     "text": [
      "คลังเมาส์ของฉัน:\n",
      "          PC1       PC2                         Model   Brand\n",
      "6   -1.812402  0.887065                     Susanto-X  Pulsar\n",
      "152 -1.496731  1.485352                        Y2 Pro     VGN\n",
      "501 -2.056864  1.259486                   MAD R Major     VXE\n",
      "983 -1.778022  0.876592  Viper Mini Signature Edition   Razer\n",
      "\n",
      "จุดศูนย์กลาง (Ideal Profile) ในแกน PCA: [-1.78600473  1.12712374]\n",
      "\n",
      "--- 5 อันดับเมาส์แนะนำที่ใกล้เคียงกับสไตล์ของคุณที่สุด ---\n",
      "                      Model   Brand  Cosine_Similarity_to_Ideal\n",
      "149  Miao AM Infinity Mouse   Angry                    1.000000\n",
      "221                 A9 Plus     ATK                    1.000000\n",
      "401              JI E-YOOSO     HUO                    0.999999\n",
      "504                Shark R2  Attack                    0.999985\n",
      "135             ZEN 8K Mini     PMM                    0.999977\n"
     ]
    },
    {
     "data": {
      "application/vnd.plotly.v1+json": {
       "config": {
        "plotlyServerURL": "https://plot.ly"
       },
       "data": [
        {
         "hovertemplate": "<b>%{hovertext}</b><br><br>Brand=AJAZZ<br>แกนคุณลักษณะหลักที่ 1 (PC1)=%{x}<br>แกนคุณลักษณะหลักที่ 2 (PC2)=%{y}<extra></extra>",
         "hovertext": [
          "T520 Max",
          "T520",
          "AJ179 V2 Max",
          "AJ179 V2",
          "AM3 Max",
          "AM3 Pro",
          "AJ179 APEX",
          "AJ179 PRO",
          "AJ179P",
          "AJ179",
          "M259",
          "AJ159APEX",
          "AJ159 PRO",
          "AJ159P",
          "AJ159",
          "AJ199 MC",
          "AJ199 Pro 4K",
          "AJ199 4K",
          "AJ139 Pro 4K",
          "AJ099",
          "AJ139 Pro",
          "AJ199"
         ],
         "legendgroup": "AJAZZ",
         "marker": {
          "color": "#636efa",
          "symbol": "circle"
         },
         "mode": "markers",
         "name": "AJAZZ",
         "showlegend": true,
         "type": "scattergl",
         "x": {
          "bdata": "CN0iRbb07b/aUolOB5Xovy9qwxvxsfg/SPWmU0Qj9j+pBKdXYUwEwKkEp1dhTATA1IUukUL8sD+yiXps7vHVP9dHjbDIguk/10eNsMiC6T8LCbqvwKPuP+Oc2G5/EP6/1OLM/Mej+b9V4aQ/317yv1XhpD/fXvK/z2uea31f8b/I6znCgyHYP6Eokumie/K/wn7PexDZ6r+2fO8rsszmv7Dn2whdRem/tPwqNv5a8b8=",
          "dtype": "f8"
         },
         "xaxis": "x",
         "y": {
          "bdata": "JpSy53n/0L+jG1p2+Nblv2+N5XDsaek/IQOhl+TB7j9RwOf+bEzGP1HA5/5sTMY/y9WaxNcW/j8ytIA+Ken0PxTqlNAjfOc/FOqU0CN85z8mRSOZQ5rhP8Qs70bYHPA/rSxUA6e82z/0nwmrbN/Bv/SfCats38G/mOlX2lEo2r8O++4QHOfoP5Xl3uHKJ8O/mxhPojgdxz+nDfa5qYrev9YmTTvfP7k/cwC2fOkX0L8=",
          "dtype": "f8"
         },
         "yaxis": "y"
        },
        {
         "hovertemplate": "<b>%{hovertext}</b><br><br>Brand=MCHOSE<br>แกนคุณลักษณะหลักที่ 1 (PC1)=%{x}<br>แกนคุณลักษณะหลักที่ 2 (PC2)=%{y}<extra></extra>",
         "hovertext": [
          "G3 V2 Pro",
          "G3 V2",
          "G3 A",
          "A5 V2 Ultra",
          "L7 Ultra+",
          "L7 Pro+",
          "K7 Ultra",
          "G7 Max",
          "G7 Pro",
          "G7",
          "M7 Ultra",
          "AX5 V2",
          "L7 Ultra",
          "L7 Pro",
          "L7",
          "A7 Ultra",
          "A7 Pro",
          "A7",
          "M7 Pro",
          "M7",
          "G3 Ultra",
          "G3 Max",
          "G3 Pro",
          "G3",
          "G3 SE",
          "A5 Ultra",
          "AX5 Pro Max",
          "AX5 Pro",
          "AX5",
          "A5 Pro Max",
          "A5 Pro",
          "A5"
         ],
         "legendgroup": "MCHOSE",
         "marker": {
          "color": "#EF553B",
          "symbol": "circle"
         },
         "mode": "markers",
         "name": "MCHOSE",
         "showlegend": true,
         "type": "scattergl",
         "x": {
          "bdata": "HSE4pSCW8b+fvNtCAG7rv5R/mVFac+e/GZbfE49v+r9GVYAxRwUAwNKRnzLPzPy/6phB+4N+87/WeZD7FVz4P2ibfo6kNf4/EV9Bng/AAUAbVAk8PVT2vydQ64VG3P6/UFvigtvsBcBJftzJf7YDwEl+3Ml/tgPAFUGzQctH9b8Hh6fPE9vwv3NTY8m1//G/DJr9yYXn8b9cRpBqoKryvxUEv2m23fa/FQS/abbd9r8CG0tAQzDxv5R/mVFac+e/arABeUWi6r+znH4lknP4v5NhWRAo1fq/S4VCpMet9r82symWK0T4vzWbVmipLvG/NZtWaKku8b+l/cNddF/yvw==",
          "dtype": "f8"
         },
         "xaxis": "x",
         "y": {
          "bdata": "K9vWIRFc0L9hKJn7+T3ovw92alTg2ey/x18/Mbys4T80fSRi2yn1P7IYNNGGr+o//Mr4Faqr+D/RQQ9rf1gBQNvo/Lue8vo/EGeRyu598T9unf/RExT4P3zRuZ4MBPI/vuVg8zQ58j9KiI3aDBfiP0qIjdoMF+I/A24+obsP9z/UmEg2GsTrP+JL0LUCSe4/q/fKl8rM7T9fL6dDznrvPzkMvwr/MMY/OQy/Cv8wxj+kYPfeBjTSvw92alTg2ey/Hmsp2vQp6b+Ugs5Nqi7aP6syhGZql+I/QGeMLA060D9u/rLWfo/XPyT0FBZm+8S/JPQUFmb7xL/IIrYtd/azvw==",
          "dtype": "f8"
         },
         "yaxis": "y"
        },
        {
         "hovertemplate": "<b>%{hovertext}</b><br><br>Brand=G-Wolves<br>แกนคุณลักษณะหลักที่ 1 (PC1)=%{x}<br>แกนคุณลักษณะหลักที่ 2 (PC2)=%{y}<extra></extra>",
         "hovertext": [
          "Fenrir Pro 8K",
          "HTX Ultra 8K",
          "VUK",
          "HTM Plus 8K",
          "HT-S2 Pro 8K",
          "Fenrir Max 8K",
          "Fenrir Asym 8K",
          "HTS Ultra 8K",
          "HTX Mini 8K",
          "HTS Plus 8K",
          "HTR Pro 8K",
          "HT-S2 8K",
          "HTR 8K",
          "HTS Ace Wireless",
          "HTM Ace",
          "HSK Plus 4K",
          "HSK Plus Lite",
          "HTX 4K",
          "HTX Ace",
          "HSK Pro 4K",
          "HSK Pro Ace",
          "HTS Plus 4K",
          "HTS",
          "HTS Wireless",
          "HSK",
          "HSK Plus",
          "HTS Plus",
          "HTM Wireless",
          "HTM",
          "Skoll Mini",
          "Skoll"
         ],
         "legendgroup": "G-Wolves",
         "marker": {
          "color": "#00cc96",
          "symbol": "circle"
         },
         "mode": "markers",
         "name": "G-Wolves",
         "showlegend": true,
         "type": "scattergl",
         "x": {
          "bdata": "DLPSpt+5E8B+817A9XsBwM/jN5bCyfy/wXJYCum9/b9xXCRC5ecGwKooGQ6V/xLAU5x/7vdPEsDNDf3mPbgDwKo/VJgZLAnAtZCOdkxw/b/kJBQr1MsQwG6+m9AmjgXAqPNcB37LD8DeW7Ap5rHxvzAi7CciqOG/Q+joVnIvCsDFIv7IS8wHwKQSAeYTz/2/dxEP52Xm+794Zv/Kd8gSwBWICdGPmRLAZujnzr5w9r+qWnUY8370vxqPbG9pufG/YNAWDRslDMD1xG0N5qgHwFDU+daNcfO/Ioe8wj1o17/AMg4C8zzJv/2PSuvJAeA/yF/+TDcT/D8=",
          "dtype": "f8"
         },
         "xaxis": "x",
         "y": {
          "bdata": "q6Q7bTcD378/1KKBjA/1P6hew2qbpfg/COBQocM5+T815OlxdhHxP7iFqEbCHOa/3MNP3NTn57+eGtNyZtzzP7EeTSkYDOM/7OuMxibc6D9Q0J38OC7MvyiATOjOh+Q/QhISkjcSwr+L/wBjX2Tjvw/nwPImVbQ/dpnr1IR07b/72NZKSRn2v68gJM5CCOA/UutGxIEA1j80/8ynUCUAwCFsj1IpOgDAvI5wucUYwz/EoAltJ7rZv4+JkUbB0OG/XE6yWGkKAcAUezgzJKz2v7zTWZb9lrq/BJuLU3Ems79MYJi9YjPYvzcEjpooLdc/gKIAZP164D8=",
          "dtype": "f8"
         },
         "yaxis": "y"
        },
        {
         "hovertemplate": "<b>%{hovertext}</b><br><br>Brand=Pulsar<br>แกนคุณลักษณะหลักที่ 1 (PC1)=%{x}<br>แกนคุณลักษณะหลักที่ 2 (PC2)=%{y}<extra></extra>",
         "hovertext": [
          "Susanto-X",
          "Pro Series JV-X",
          "Xlite CrazyLight",
          "X2F",
          "ZywOo The Chosen Mouse - Mini",
          "ZywOo The Chosen Mouse - Medium",
          "Xlite v4 eS Mini",
          "Xlite v4 eS Medium",
          "X2H v3 eS Mini",
          "X2H v3 eS",
          "TenZ Signature Edition",
          "X2A v3 eS Mini",
          "X2 v3 eS Mini",
          "X2 v3 Mini",
          "X2 CrazyLight",
          "X2H v3 Mini",
          "X2H v3",
          "X2A v3",
          "X2 v3",
          "Xlite v4 Large",
          "X2A Wired",
          "X2 Wired",
          "Feinmann F01",
          "Xlite v4 Medium",
          "Xlite v4 Mini",
          "Xlite Wired",
          "Xlite V2 Mini Wireless",
          "Xlite Wireless",
          "Xlite",
          "Xlite V2 Wireless",
          "X2H Wired",
          "X3",
          "X3 Mini",
          "X3 LHD",
          "X3 LHD Mini",
          "X2A eS",
          "X2H eS",
          "Xlite v3 Large",
          "Xlite v3 Mini",
          "Xlite v3 Medium",
          "Xlite v3 eS",
          "X2A Mini",
          "X2A",
          "X2H Mini",
          "X2H",
          "X2V2 Mini",
          "X2V2",
          "X2 Mini",
          "X2"
         ],
         "legendgroup": "Pulsar",
         "marker": {
          "color": "#ab63fa",
          "symbol": "circle"
         },
         "mode": "markers",
         "name": "Pulsar",
         "showlegend": true,
         "type": "scattergl",
         "x": {
          "bdata": "I3QKPpn//L+HWE7s51Klv4RMzxBV2d6/nO7W/P7FDsBQM0/rl2qeP08uW3of++U/x+67NhrYcD+6/1MN2bfqP7M6O5EuCPq/84gM1CMc8r8duxYzAmf4v03dEkrGtPy/VQg9QQ2//r9lc/P/WAEBwNhRnb79RATAFrE2gg9A/7+DSbppOrz2vzSZoN2Vhvm/qMsEhzUa+796o385QAbzP40+DUDQ/fC/nX3K01f28r/KfY5xLqRMvw6SBlGo+98/Kr3JG3x5y7+FooP5NC/wPx1sQASUreE/qQmHBaqO8z8qr8sJda7vP6kJhwWqjvM/AFqA9csn7b+6X9SZAADtPxFzmegkess/ul/UmQAA7T8Rc5noJHrLPxOcrxbyIvO/UZOzrmSb8b+9CmzB7fP7P3q+zBH4+dU/akCD7UhL8T9Fy9yiYgnuP0uQpRgyc/e/7zG0VeiY8L8ZaJlxn+v1v7h5qarA1+q/g3/6dwQV+b9jZBj/hyzyv7ZDJeCPrPi/jT4NQND98L8=",
          "dtype": "f8"
         },
         "xaxis": "x",
         "y": {
          "bdata": "0DjuLtVi7D828Pwvb2P3PxARupIas/s/YVsjLmB8578FvOfmtID3P5+hd/ROov0/jY4+1XDr8j/IcVfp0+r7P7kpyllRutI/YGQCs1FE5z9eJSwRZlD0PyQMIKjDM8I/XbpEOKnP0j85un8fdCzhPyU6HZPZWvA/YPqxqXuR5T8MCiOj8MzwP08lQCkUGec/HJ7Mrli26j8xOM20XaECQB9AzWXEgKO//heWBEtkuj+0sw8+wy3+Pyslw2VDa/8/4iK2nePe9j/cfrbTJJjzPxmqDiMvmtc/N09HmNgz6T9NKKELZpLwPzdPR5jYM+k/aN738Lk01D+3B6dTqK8BQLew6dZT3f0/twenU6ivAUC3sOnWU939P9CGHNAOfMU/Hrc/s3L34j+cZBqhgqb4P0AubKpVheQ/r2YJgn1q8j8vpQ13snn4P6AXXmaa3Ne/rpH/Pev6sL8LRcY5LF3CvxMNrE7kE84/l7oA4/oX0L+Dacjccd6nP9kR2MMiCdK/H0DNZcSAo78=",
          "dtype": "f8"
         },
         "yaxis": "y"
        },
        {
         "hovertemplate": "<b>%{hovertext}</b><br><br>Brand=Dark<br>แกนคุณลักษณะหลักที่ 1 (PC1)=%{x}<br>แกนคุณลักษณะหลักที่ 2 (PC2)=%{y}<extra></extra>",
         "hovertext": [
          "Project Novus Pro",
          "Project Novus",
          "Project Novus SE",
          "Project Nexus Ultra",
          "Project Nexus"
         ],
         "legendgroup": "Dark",
         "marker": {
          "color": "#FFA15A",
          "symbol": "circle"
         },
         "mode": "markers",
         "name": "Dark",
         "showlegend": true,
         "type": "scattergl",
         "x": {
          "bdata": "E2e6FNlz9L9O3foIlCjqvynLJK/gXeq/71isHD2N8795Vuj4TnXrvw==",
          "dtype": "f8"
         },
         "xaxis": "x",
         "y": {
          "bdata": "vUo6wJFB8j/ZdyYjUkfiPygXCNT0LOI/eJpgMmuR9D+tBp9EDCToPw==",
          "dtype": "f8"
         },
         "yaxis": "y"
        },
        {
         "hovertemplate": "<b>%{hovertext}</b><br><br>Brand=Chaos<br>แกนคุณลักษณะหลักที่ 1 (PC1)=%{x}<br>แกนคุณลักษณะหลักที่ 2 (PC2)=%{y}<extra></extra>",
         "hovertext": [
          "M3 Mini"
         ],
         "legendgroup": "Chaos",
         "marker": {
          "color": "#19d3f3",
          "symbol": "circle"
         },
         "mode": "markers",
         "name": "Chaos",
         "showlegend": true,
         "type": "scattergl",
         "x": {
          "bdata": "d6q0wM8W/78=",
          "dtype": "f8"
         },
         "xaxis": "x",
         "y": {
          "bdata": "xmHLxIkA6D8=",
          "dtype": "f8"
         },
         "yaxis": "y"
        },
        {
         "hovertemplate": "<b>%{hovertext}</b><br><br>Brand=Attack<br>แกนคุณลักษณะหลักที่ 1 (PC1)=%{x}<br>แกนคุณลักษณะหลักที่ 2 (PC2)=%{y}<extra></extra>",
         "hovertext": [
          "Shark V5",
          "Shark R11 Ultra",
          "Shark X8 Ultra",
          "Shark X11 SE",
          "Shark X8 SE",
          "Shark X8 Pro",
          "Shark X8 Plus",
          "Shark G3 Pro",
          "Shark G3",
          "Shark X1",
          "Shark R5 Ultra",
          "Shark R6",
          "Shark X3 Max",
          "Shark R2",
          "Shark X11",
          "Shark R3",
          "Shark R1",
          "Shark X3 Pro",
          "Shark X6",
          "Shark X3"
         ],
         "legendgroup": "Attack",
         "marker": {
          "color": "#FF6692",
          "symbol": "circle"
         },
         "mode": "markers",
         "name": "Attack",
         "showlegend": true,
         "type": "scattergl",
         "x": {
          "bdata": "bRhZLuXS+r/3sh0OuAH6vw0zwa2F7fa/I7Me4YuA17++d9kONOrlv8u7f7/uX/a/mXSvBAw27r81K09d/WbyvzUrT139ZvK/mhkcgm1A97984ZV11ugDwEw8tZhaJgTAY6yv4XP++L+Ag9Zi8EUBwGq8I0oIetG/dyyKHYPXAMDIObiErjbwP+czlZUx5fe/WUDiLv359r9U8qNvvJH0vw==",
          "dtype": "f8"
         },
         "xaxis": "x",
         "y": {
          "bdata": "KAK2kO9R9T/CXN4gIlj5P/6yMZJdrfg/LzviKhcp0z+LwP418wbXP8tubsGnh/c/RF9w1iC57D8cLpJTXo/VvxwuklNej9W/xXi/2q/54D8kfaF1ujj2P4b1n8A2//U/X1mb8IY95z9ZFuoM3Ir1P/xsTC8lO8k/ZJtg9Zc+4T8JCjo+bYjhPy/ftbKJWtw/A4Z6J389lb+7WJyRp4jDPw==",
          "dtype": "f8"
         },
         "yaxis": "y"
        },
        {
         "hovertemplate": "<b>%{hovertext}</b><br><br>Brand=LAMZU<br>แกนคุณลักษณะหลักที่ 1 (PC1)=%{x}<br>แกนคุณลักษณะหลักที่ 2 (PC2)=%{y}<extra></extra>",
         "hovertext": [
          "MAYA Champion Edition",
          "x REJECT Paro Reject Special Edition",
          "Paro Aurora",
          "x Aimlabs MAYA X",
          "Inca",
          "Tachi",
          "MAYA X",
          "x Fnatic MAYA X 8K",
          "x Fnatic MAYA 8K",
          "Paro",
          "Atlantis Mini Champion",
          "MAYA 4K",
          "x Fnatic Thorn 4K",
          "Thorn 4K",
          "Atlantis Mini 4K",
          "Atlantis Mini Pro",
          "Atlantis OG V2 4K",
          "Atlantis OG V2 Pro",
          "MAYA",
          "Atlantis OG V2",
          "Thorn",
          "Atlantis Mini",
          "Atlantis"
         ],
         "legendgroup": "LAMZU",
         "marker": {
          "color": "#B6E880",
          "symbol": "circle"
         },
         "mode": "markers",
         "name": "LAMZU",
         "showlegend": true,
         "type": "scattergl",
         "x": {
          "bdata": "A+6G7y6F/7/3zSH2tymsv/fNIfa3Kay/OmQwthV79b9yE0ZuMmn7v9iGJ0I+IPy/OmQwthV79b9rpexQfj32vwPuhu8uhf+/3wnwaA7wjD+mXAX2Ym7+vzgj7aagQvq/if0XFWbF4D+J/RcVZsXgP0c+lAt7+fm/ERmDuvLb9r+caifh0CXuvzEgBT/A6ue/Av7bVRgl978xIAU/wOrnv/VHOrd2AOc/qvedeGLs9L8xIAU/wOrnvw==",
          "dtype": "f8"
         },
         "xaxis": "x",
         "y": {
          "bdata": "AsAf4Jzf7D8dIrE8Fon6Px0isTwWifo/9srb3I1b9T8QXYh5c/r1P4WO0pIxCOw/9srb3I1b9T9DrUfY3jD2PwLAH+Cc3+w/t5kqm6o9+D/eLSIiW23jP1lgqZnDnNs/qhEIfTh18z+qEQh9OHXzP6n0BTGx9cg/1yHQ/ujlqb9ckLnLVTfgPyciFt8Vt9A/kcOYwlvKxz8nIhbfFbfQPw2k4R2mDu8/Br+Hiq5M078nIhbfFbfQPw==",
          "dtype": "f8"
         },
         "yaxis": "y"
        },
        {
         "hovertemplate": "<b>%{hovertext}</b><br><br>Brand=ATK<br>แกนคุณลักษณะหลักที่ 1 (PC1)=%{x}<br>แกนคุณลักษณะหลักที่ 2 (PC2)=%{y}<extra></extra>",
         "hovertext": [
          "U2 Mini",
          "Duckbill",
          "X1 S",
          "X1 SE",
          "U2 Ultimate",
          "U2 Ultra",
          "U2 Pro Max",
          "U2 Pro",
          "U2 Plus",
          "U2",
          "U2 SE",
          "A9 Pro Max",
          "A9 Ultra",
          "A9 Pro",
          "A9 Plus",
          "A9 SE",
          "A9",
          "X1",
          "Fierce X",
          "F1 Extreme",
          "X1 Ultimate",
          "Z1 Ultra",
          "Z1 Pro Max",
          "X1 Ultra",
          "X1 Pro Max",
          "X1 Pro",
          "F1 Ultimate",
          "F1 Pro Max",
          "F1 Pro"
         ],
         "legendgroup": "ATK",
         "marker": {
          "color": "#FF97FF",
          "symbol": "circle"
         },
         "mode": "markers",
         "name": "ATK",
         "showlegend": true,
         "type": "scattergl",
         "x": {
          "bdata": "bP0ct3HSAMBYk4r+96MBwPCW7hX55+K/wbnFR4P23L/59mdKpZ35v5ldDrm13vm/okcPLSHl8r9RCccRwxr3v0eMzt9wQOe/1nZoNgrY67/Wdmg2Ctjrv8IQG//8wfC/ryRFiWez9r+gajkXsEbyv4ge5oMo+uK/UJkcWZuK3L9D0iK0jgPmv/ZMH0jluPC/QeCevTfeA8Bn5i69RcYCwGzWrtqWR/a/dUSnOsL92j/GbdyyatDgPwUHK7qcJfW/P6Fm79d887/q+ux6I2D1v7Pki9SzLgLA/FU7mRP4/b8AsVpLT/H/vw==",
          "dtype": "f8"
         },
         "xaxis": "x",
         "y": {
          "bdata": "Lams7MHK9j97B/K0gsLzPzUbImfc/uA/beYfhLdEzz9vutzNown6P95i/DURt/g/AUy76cah7D/gDSwihPryP1ubnXowl9Q/vGYxxnfD3j+8ZjHGd8PeP0m1rI3mSu4//q3ginr9+T9kjMYEzM/wP+9tgMJv6dc/WwqksQHRmL/zNEG60pLeP8RMx4mFqvE/tl+ZvmS78z+x63XfQcX6P1aNHkszFPw/gRHFRW4LAkAzK6CM3VIAQFxu4Q802Po/wqGXnRJn9z9i1VIAvHX5P4YCU2hBafk/RpF9GR6I8D/iFQ3gHszyPw==",
          "dtype": "f8"
         },
         "yaxis": "y"
        },
        {
         "hovertemplate": "<b>%{hovertext}</b><br><br>Brand=INZONE<br>แกนคุณลักษณะหลักที่ 1 (PC1)=%{x}<br>แกนคุณลักษณะหลักที่ 2 (PC2)=%{y}<extra></extra>",
         "hovertext": [
          "Mouse-A"
         ],
         "legendgroup": "INZONE",
         "marker": {
          "color": "#FECB52",
          "symbol": "circle"
         },
         "mode": "markers",
         "name": "INZONE",
         "showlegend": true,
         "type": "scattergl",
         "x": {
          "bdata": "Abdf6Kqi978=",
          "dtype": "f8"
         },
         "xaxis": "x",
         "y": {
          "bdata": "FpAv5qUu8j8=",
          "dtype": "f8"
         },
         "yaxis": "y"
        },
        {
         "hovertemplate": "<b>%{hovertext}</b><br><br>Brand=VAXEE<br>แกนคุณลักษณะหลักที่ 1 (PC1)=%{x}<br>แกนคุณลักษณะหลักที่ 2 (PC2)=%{y}<extra></extra>",
         "hovertext": [
          "ZYGEN NP-01S Ergo",
          "XE v2",
          "ZYGEN NP-01S v2",
          "x Ninjutso Sora 4K",
          "E1 Wireless 4K",
          "XE-S L Wireless 4K",
          "XE-S Wireless 4K",
          "ZYGEN NP-01 Wireless 4K",
          "ZYGEN NP-01S Wireless 4K",
          "XE Wireless 4K",
          "OUTSET AX Wireless 4K",
          "OUTSET AX Wireless",
          "ZYGEN NP-01S Wireless",
          "ZYGEN NP-01S",
          "XE Wireless",
          "XE",
          "OUTSET AX",
          "ZYGEN NP-01"
         ],
         "legendgroup": "VAXEE",
         "marker": {
          "color": "#636efa",
          "symbol": "circle"
         },
         "mode": "markers",
         "name": "VAXEE",
         "showlegend": true,
         "type": "scattergl",
         "x": {
          "bdata": "4gBZQ+xZ1b8G5wYUAVfWv1Dj9iagoeC/SecuVLu+5r/bII0hea7yP+GCbZ6gBO6/4YJtnqAE7r90w5EVYmXSP4pu4559es+/CgrisZ1/rD9KOxwu5Gv4P4BgLX9sifs/XxNpWew4qr/QSqijcwWYPxvWgPoUBtA/e1H5EZt8oj/9OXmDD6n8P3RYFWcs9+A/",
          "dtype": "f8"
         },
         "xaxis": "x",
         "y": {
          "bdata": "s0oMCOiz4b8f8kF8oePTvwVAvBxeeOS/9+e/bIzX5L+Q1Wv4n7jKP34UVpk7bu6/fhRWmTtu7r844GIMVwHnvypKIiv0oO6/2yg568w16L/vXDCA1v+vvy4KY4iQt9O/umSog18+87942uSc/6D0vxPUs+PLCPC/BLw8ZDCE6L8G6MyhypDYvzdzj3l5SfC/",
          "dtype": "f8"
         },
         "yaxis": "y"
        },
        {
         "hovertemplate": "<b>%{hovertext}</b><br><br>Brand=Ausdom<br>แกนคุณลักษณะหลักที่ 1 (PC1)=%{x}<br>แกนคุณลักษณะหลักที่ 2 (PC2)=%{y}<extra></extra>",
         "hovertext": [
          "G04 Ultra",
          "G04 Pro",
          "G04 Air"
         ],
         "legendgroup": "Ausdom",
         "marker": {
          "color": "#EF553B",
          "symbol": "circle"
         },
         "mode": "markers",
         "name": "Ausdom",
         "showlegend": true,
         "type": "scattergl",
         "x": {
          "bdata": "S+g27R25tb9Q0D38ukyTPwPjY6RuSN4/",
          "dtype": "f8"
         },
         "xaxis": "x",
         "y": {
          "bdata": "GI2jbteA/T98wFn8tQ/6P1SBI6ae5PA/",
          "dtype": "f8"
         },
         "yaxis": "y"
        },
        {
         "hovertemplate": "<b>%{hovertext}</b><br><br>Brand=Rapoo<br>แกนคุณลักษณะหลักที่ 1 (PC1)=%{x}<br>แกนคุณลักษณะหลักที่ 2 (PC2)=%{y}<extra></extra>",
         "hovertext": [
          "VT2 Max",
          "VT2",
          "VT3S Max Gen-2",
          "VT3S Gen-2",
          "VT3 Max Gen-2",
          "VT3 Gen-2",
          "MT760 Mini",
          "MT760 Pro",
          "MT760",
          "VT7 Max",
          "VT7",
          "VT9 Pro 4K",
          "VT3 Pro Max",
          "VT3 Pro",
          "VT1 Pro Max",
          "VT1 Air Max",
          "VT1 Pro",
          "VT3S (Old)",
          "VT900",
          "VT9 Air",
          "VT9 Pro Mini",
          "VT9 Pro",
          "VT9S",
          "VT960 Pro"
         ],
         "legendgroup": "Rapoo",
         "marker": {
          "color": "#00cc96",
          "symbol": "circle"
         },
         "mode": "markers",
         "name": "Rapoo",
         "showlegend": true,
         "type": "scattergl",
         "x": {
          "bdata": "kFrUg1A6+L+ebWasNvnyv9qIoZ+2BdI/6kKtEW5y1j+ljb0QdHLpP61qw8nPqOs/Lvgj99iUDkDLKKDCh3oVQBDFSXJNsxVA7hOAt0/l8b9qJf3aIcrwvzcvgeBGjNq/pGTvAoLj4j+rQfW73RnlP1JXzRzm8/m/e8qNNieI/b/OaEpAuNj4vwlEf4dXqs4/pl7eFUgJEEDTxJUMkFf0v5kq6dHlsuu/vjR5OEsszL/dASwDTwasv/jA6kLXLMu/",
          "dtype": "f8"
         },
         "xaxis": "x",
         "y": {
          "bdata": "ixPNTBiO+z+lC44N2afwP7YOmui3QP4/UIYTR0z1+z+Horgq0RgBQKW86rM25v8/nR3lHUt4E8D2rqcrXSAOwHpFBMGx+Q/A/EsifBCT9D+Xw5vapEfyP0eBOJHlKdc/fj1g5fWK+z8YtdlDij/5Pwbo+5jK998/b4mKdCRF6D9txuESHMrWP0gLMrAOm8S/TIBdRhOD1b9RmI51Y5jhPw8251O6Kq0/2ApuYz/JvT/uzUMYPGiwvwuQFAFSlJO/",
          "dtype": "f8"
         },
         "yaxis": "y"
        },
        {
         "hovertemplate": "<b>%{hovertext}</b><br><br>Brand=Freewolf<br>แกนคุณลักษณะหลักที่ 1 (PC1)=%{x}<br>แกนคุณลักษณะหลักที่ 2 (PC2)=%{y}<extra></extra>",
         "hovertext": [
          "A7",
          "A6"
         ],
         "legendgroup": "Freewolf",
         "marker": {
          "color": "#ab63fa",
          "symbol": "circle"
         },
         "mode": "markers",
         "name": "Freewolf",
         "showlegend": true,
         "type": "scattergl",
         "x": {
          "bdata": "AD36pnTQ6z8BW6HR6LDyvw==",
          "dtype": "f8"
         },
         "xaxis": "x",
         "y": {
          "bdata": "Ye+8yegA4z+z7W0dc53bvw==",
          "dtype": "f8"
         },
         "yaxis": "y"
        },
        {
         "hovertemplate": "<b>%{hovertext}</b><br><br>Brand=Microsoft<br>แกนคุณลักษณะหลักที่ 1 (PC1)=%{x}<br>แกนคุณลักษณะหลักที่ 2 (PC2)=%{y}<extra></extra>",
         "hovertext": [
          "Comfort Mouse 4500",
          "Wheel Mouse Optical",
          "Sidewinder X8",
          "Classic IntelliMouse",
          "Pro IntelliMouse"
         ],
         "legendgroup": "Microsoft",
         "marker": {
          "color": "#FFA15A",
          "symbol": "circle"
         },
         "mode": "markers",
         "name": "Microsoft",
         "showlegend": true,
         "type": "scattergl",
         "x": {
          "bdata": "JUJj8zAC+j9OLWbeos/2P2i5F2tfZxNAqOWTC/XtCED4LqL7MMMIQA==",
          "dtype": "f8"
         },
         "xaxis": "x",
         "y": {
          "bdata": "PM7M2YwWA8DHWKcFaZEXwIQKT3fclem/ZNFH+1VSwb9ogTds7BS/Pw==",
          "dtype": "f8"
         },
         "yaxis": "y"
        },
        {
         "hovertemplate": "<b>%{hovertext}</b><br><br>Brand=HyperX<br>แกนคุณลักษณะหลักที่ 1 (PC1)=%{x}<br>แกนคุณลักษณะหลักที่ 2 (PC2)=%{y}<extra></extra>",
         "hovertext": [
          "Pulsefire Fuse",
          "Pulsefire Haste 2 S",
          "Pulsefire Saga Pro",
          "Pulsefire Haste 2 Pro",
          "Pulsefire Warp",
          "Pulsefire Haste 2 Core Wireless",
          "Pulsefire Surge",
          "Pulsefire Haste 2 Mini",
          "Pulsefire Haste 2 Wireless",
          "Pulsefire Haste 2 Wired",
          "Pulsefire Raid",
          "Pulsefire Dart",
          "Pulsefire FPS Pro",
          "Pulsefire Core",
          "Pulsefire Haste",
          "Pulsefire Haste Wireless"
         ],
         "legendgroup": "HyperX",
         "marker": {
          "color": "#19d3f3",
          "symbol": "circle"
         },
         "mode": "markers",
         "name": "HyperX",
         "showlegend": true,
         "type": "scattergl",
         "x": {
          "bdata": "tF6JzHvimz/0JMWfGxXav9YccmjMnO8/0VNxzY5R5r+yvW4hKj/Sv76vDGfjArK/aciMpbrJ2j8ziAuFVtr0v2QJTyt+FuC/Gf07Lhhc8r9pyVC9L40IQFEjPFcnhgtAb9YL/ZRwBUB5PUWuFdHXPxf9Nucpo9a/F/025ymj1r8=",
          "dtype": "f8"
         },
         "xaxis": "x",
         "y": {
          "bdata": "r7TKG4Xi5L+DMzFzfcTAPypcMj3GYOQ/jEdLHpHP3j8acyA7kEzpvw+LGMhgc96/dIAqWw4y9b8NeSBUjszcv/WR3Mv2L84/BKnchfRL8D/ACJIy73HdPyLhNR1itMk/Ic2Z+HJ7zz83KZL0o/Dzv9B89vgms7i/0Hz2+CazuL8=",
          "dtype": "f8"
         },
         "yaxis": "y"
        },
        {
         "hovertemplate": "<b>%{hovertext}</b><br><br>Brand=Darmoshark<br>แกนคุณลักษณะหลักที่ 1 (PC1)=%{x}<br>แกนคุณลักษณะหลักที่ 2 (PC2)=%{y}<extra></extra>",
         "hovertext": [
          "M2 Air",
          "M5 Air",
          "N3 Pro",
          "M3 Micro Pro",
          "N7 Max",
          "N7",
          "M3 XS Pro",
          "M2 Pro",
          "M3S MAX",
          "M5 Pro",
          "M3 Pro Max",
          "N5",
          "M3 XS",
          "M2",
          "M5",
          "M3 Micro",
          "M3S Pro",
          "M3 Pro",
          "M3S",
          "M3 4K",
          "N3",
          "M3"
         ],
         "legendgroup": "Darmoshark",
         "marker": {
          "color": "#FF6692",
          "symbol": "circle"
         },
         "mode": "markers",
         "name": "Darmoshark",
         "showlegend": true,
         "type": "scattergl",
         "x": {
          "bdata": "VNk3wZ5TBMConrEX+6MOwEUd77LVreI/yBoXfj9zC8ANjPpkUXfOPx55m67nOdU/SIffaNI9A8DQz3kOWA0EwGZ1SFBVVfq/yrwVVgL/DMByC/vquSzvvzm3knvDfuI/46GSRIucAMCcymxSCKEBwGTXyDG7XQrAhqPVj6jlCsBIitCvnkn0v39U14DRaeK/IxzFee418r/cAjHpAYPUv43O0+p18+4/tK2gd0oJ2L8=",
          "dtype": "f8"
         },
         "xaxis": "x",
         "y": {
          "bdata": "cSIXy8dQ5T/cZbtG/GnBv2QvZSGKSvQ/vjiTT1IM1b8Qrb8e9yD+PwyOw5Qcg/w/1KhebGzg4T/T/cJJkujlPywgVChdaOs/GxoiaESC2r+t84E4IOX2P+gDr+HQvPg/1secyIp5tj9Z7UCeaVzPP+QcXEddUuy/WVqt1QA63r9kI/uXXBfVPzv+cNv/T+w/tEh6j/E5xT+lAo8Gsa7kP9QJv2F4t+g/bSUKccip5D8=",
          "dtype": "f8"
         },
         "yaxis": "y"
        },
        {
         "hovertemplate": "<b>%{hovertext}</b><br><br>Brand=Flickshot<br>แกนคุณลักษณะหลักที่ 1 (PC1)=%{x}<br>แกนคุณลักษณะหลักที่ 2 (PC2)=%{y}<extra></extra>",
         "hovertext": [
          "One Pro"
         ],
         "legendgroup": "Flickshot",
         "marker": {
          "color": "#B6E880",
          "symbol": "circle"
         },
         "mode": "markers",
         "name": "Flickshot",
         "showlegend": true,
         "type": "scattergl",
         "x": {
          "bdata": "7+rL6g45AcA=",
          "dtype": "f8"
         },
         "xaxis": "x",
         "y": {
          "bdata": "/+9B6FW19D8=",
          "dtype": "f8"
         },
         "yaxis": "y"
        },
        {
         "hovertemplate": "<b>%{hovertext}</b><br><br>Brand=Keychron<br>แกนคุณลักษณะหลักที่ 1 (PC1)=%{x}<br>แกนคุณลักษณะหลักที่ 2 (PC2)=%{y}<extra></extra>",
         "hovertext": [
          "M6 8K",
          "M6 Lite",
          "M4 8K",
          "M3 8K",
          "M3 Lite",
          "M2 8K",
          "M2 4K",
          "M6 4K",
          "M3 Mini 8K",
          "M5",
          "M7 8K",
          "Lemokey G2",
          "Lemokey G1",
          "M7",
          "M4",
          "M4 4K",
          "M6",
          "M3 Mini 4K - Metal Edition",
          "M2 Mini",
          "M3 Mini 4K",
          "M3 4K",
          "M3",
          "M2",
          "M1 Wireless",
          "M1 Wired",
          "M3 Mini"
         ],
         "legendgroup": "Keychron",
         "marker": {
          "color": "#FF97FF",
          "symbol": "circle"
         },
         "mode": "markers",
         "name": "Keychron",
         "showlegend": true,
         "type": "scattergl",
         "x": {
          "bdata": "wMRcK4gXBkAnXhe6IzcMQHawYnWWhxHA3GZgHoopyr/oS1KzC/ThP6acPmQUEtQ/7ONSwyaO5D81FlGYWVwHQKVaV8rqoPW/hRVbCizIGEA2aknEwTn9P0dzmbT9RPy/MeJDk0nM/b8cLfou7MwCQOzo750h3w7Awz084/I2EMDQqNnAHesIQN1fu9mxyem/gmrKz+7/wT/Zj72BXF7wvwbf20zQ1b8/m4x7V5Vr1D9YLnVlN8nqPxfN9k5Jx8E/+rjj8vWAqz9E1VhhqIHqvw==",
          "dtype": "f8"
         },
         "xaxis": "x",
         "y": {
          "bdata": "jSTmLtFcAkAipLiwJjvxP9GFy9p0//C/KcoSAJo76j+C/yi0uoLZvxFv9OZVi/s/J+dOXbgC9D+AIqi9B8L/Pwh5cLj+0ew/aQCjjfxvEUBpw+zt1dsBQFm0iFuFreY/h24onlm/4D9AvxzkKEH4P2BNiNL3dfy/vA1xZBKI+L/b4pBPItT7P8PWLkE25sc/OsRz9Axb4T9l0kpKh4HbP6N0j9m9VNY/U9jJhKB0uj+Dpzfv0hTwP8bgpODrY4y/NDxiF5nkt7+np9sj45PHPw==",
          "dtype": "f8"
         },
         "yaxis": "y"
        },
        {
         "hovertemplate": "<b>%{hovertext}</b><br><br>Brand=Endgame<br>แกนคุณลักษณะหลักที่ 1 (PC1)=%{x}<br>แกนคุณลักษณะหลักที่ 2 (PC2)=%{y}<extra></extra>",
         "hovertext": [
          "Gear XM2w 4k v2",
          "Gear XM2 8k v2",
          "Gear OP1 8k v2",
          "Gear OP1w 4k v2",
          "Gear OP1w 4k",
          "Gear XM2w 4k",
          "Gear XM2 8k",
          "Gear OP1 8k",
          "Gear OP1 8k Purple",
          "Gear OP1we",
          "Gear OP1 RGB",
          "Gear OP1",
          "Gear XM2we",
          "Gear XM2w",
          "Gear XM1",
          "Gear XM1 RGB",
          "Gear XM1r"
         ],
         "legendgroup": "Endgame",
         "marker": {
          "color": "#FECB52",
          "symbol": "circle"
         },
         "mode": "markers",
         "name": "Endgame",
         "showlegend": true,
         "type": "scattergl",
         "x": {
          "bdata": "WSKrtQX/6r83RLSlM331v8s9ABJ1lgDAp9Iz7SNf+b8j5LAQ9kP4v9qv979uZui/9oraKugw9L9uPaLb6an/v/qVEtyLYgDAhp26fd02879R7J6yLv33v/E7eh4BZfi/V+9fQY4P2795Onqk52bhv/aUtREU/8m/ZvHEXkWutT8HlmOeE1HQvw==",
          "dtype": "f8"
         },
         "xaxis": "x",
         "y": {
          "bdata": "bUHLNGXm3j/LbE0/WTrxP66UpwsP+eI/zcvC/Utncb+PWSJsl+bCv9hmGBNn3tQ/TWzBbbNw7T9C5XPwcNnaP20DR7uPA+I/EvONbGmd5L++c0wS1nvHv8UuytDYpcO/9ohHjn47yb97sk8ckZGrP3V7Ea5ccN+/iWkxounz6b9A4n3JGY7Yvw==",
          "dtype": "f8"
         },
         "yaxis": "y"
        },
        {
         "hovertemplate": "<b>%{hovertext}</b><br><br>Brand=AULA<br>แกนคุณลักษณะหลักที่ 1 (PC1)=%{x}<br>แกนคุณลักษณะหลักที่ 2 (PC2)=%{y}<extra></extra>",
         "hovertext": [
          "SC360",
          "SC900 Pro",
          "SC900 Max",
          "SC620",
          "SC800",
          "SC580",
          "SC680"
         ],
         "legendgroup": "AULA",
         "marker": {
          "color": "#636efa",
          "symbol": "circle"
         },
         "mode": "markers",
         "name": "AULA",
         "showlegend": true,
         "type": "scattergl",
         "x": {
          "bdata": "qJqivMMg6b+BwCMQvEnzP/3RoDOOLvI/glHLyjWL8j9PvYbsM1j7v+x7hoLxLtC/Lx/6Z+Uw9L8=",
          "dtype": "f8"
         },
         "xaxis": "x",
         "y": {
          "bdata": "nrtHsOb62b9nAdT97nz+P+dErU8tZABAHYt7EolioL/tmTUe9dPWP0kIFFPxMPe/yby6x0MH5z8=",
          "dtype": "f8"
         },
         "yaxis": "y"
        },
        {
         "hovertemplate": "<b>%{hovertext}</b><br><br>Brand=Incott<br>แกนคุณลักษณะหลักที่ 1 (PC1)=%{x}<br>แกนคุณลักษณะหลักที่ 2 (PC2)=%{y}<extra></extra>",
         "hovertext": [
          "039 Pro",
          "39",
          "039 SC",
          "029 Pro",
          "29",
          "029 SC",
          "G23 V2 Pro",
          "G23 V2",
          "G23 V2 SC",
          "G24 Pro",
          "G24",
          "G23 Pro",
          "G23",
          "GHERO Pro",
          "GHERO"
         ],
         "legendgroup": "Incott",
         "marker": {
          "color": "#EF553B",
          "symbol": "circle"
         },
         "mode": "markers",
         "name": "Incott",
         "showlegend": true,
         "type": "scattergl",
         "x": {
          "bdata": "D3w861mU878ZUVFCPWrkv6wrMII+KeW/K7PM9D3uAsB0+tNRq8r9v3T601Gryv2/aPyzIx9a9L++bY099MP0v7SFJPs0JfW/ow58OZ8c5T83twqIhKTqP1yrW8CALvO/Y0UU7YWi4L8VWx7SVTDnv6Hn886p1eu/",
          "dtype": "f8"
         },
         "xaxis": "x",
         "y": {
          "bdata": "JbbWZm0w/z/WRKTqTCrwPyCHYhTSkPA//MEtgp1V+D+SdkO6NurlP5J2Q7o26uU/avAFaLIJ9D+By3O2YWnzP2HkcHIo1PM/S0GdJVMSAECULWo3GWj6P7YT572nzfY/B2Xuasq12D8Ln6xWoVbnP1pqMa4mjuw/",
          "dtype": "f8"
         },
         "yaxis": "y"
        },
        {
         "hovertemplate": "<b>%{hovertext}</b><br><br>Brand=Razer<br>แกนคุณลักษณะหลักที่ 1 (PC1)=%{x}<br>แกนคุณลักษณะหลักที่ 2 (PC2)=%{y}<extra></extra>",
         "hovertext": [
          "DeathAdder V4 Pro",
          "Cobra HyperSpeed",
          "Pro Click V2",
          "Basilisk Mobile",
          "Pro Click V2 Vertical",
          "Imperator",
          "Abyssus Essential",
          "Basilisk V3 Pro 35K",
          "Basilisk V3 35K",
          "Viper Ultimate",
          "Pro Click",
          "DeathAdder V3 HyperSpeed",
          "DeathAdder Elite",
          "DeathAdder Chroma",
          "DeathAdder Expert",
          "Atheris",
          "Ouroboros",
          "Viper V3 Pro",
          "Pro Click Mini",
          "Naga Left-Handed",
          "Naga Trinity",
          "Mamba Wireless",
          "Mamba Elite",
          "Naga X",
          "Viper V3 HyperSpeed",
          "Naga Pro",
          "Viper 8KHz",
          "Viper",
          "Copperhead",
          "Viper V2 Pro",
          "DeathAdder Essential",
          "Cobra Pro",
          "Cobra",
          "DeathAdder V2 Mini",
          "DeathAdder V2 X HyperSpeed",
          "DeathAdder V2",
          "Basilisk V3 X HyperSpeed",
          "Naga V2 HyperSpeed",
          "Naga V2 Pro",
          "Basilisk Essential",
          "DeathAdder V3",
          "Basilisk V3",
          "Lancehead Wireless",
          "Lancehead",
          "Viper Mini Signature Edition",
          "Abyssus 2014",
          "Basilisk Ultimate",
          "Diamondback 2015",
          "Basilisk V2",
          "Krait 2013",
          "Basilisk X HyperSpeed",
          "Basilisk",
          "Basilisk V3 Pro",
          "DeathAdder V3 Pro",
          "Viper Mini",
          "DeathAdder V2 Pro",
          "Orochi V2"
         ],
         "legendgroup": "Razer",
         "marker": {
          "color": "#00cc96",
          "symbol": "circle"
         },
         "mode": "markers",
         "name": "Razer",
         "showlegend": true,
         "type": "scattergl",
         "x": {
          "bdata": "/UME5h5E6j8aeWop1ZP2v2JPY31X5QpAvUYAMVueAEAlFG0uqdQeQNevSldKaA1AdvRwH2qp2j+wcsSCdUMKQHBJY/tfVAhABm7xMhyYs78BmgiGGMkPQJhWuBgXw9c/FU0rZsT6BkD3f43LJs8HQOUEYgiVTghA3ZAPXxW597/2xitXDBX+P1+VFMjZb/O/apaO5koi7r9bOgDNk9kQQP+u5UHDHxJAKRV1zX3mBUC88q8eEOgDQEsgO4+Enw1AU2Ge6U/Gib9dkqbiUJMRQGQ1Nd5PRuO/iAyQT9IxwL+MjEz3f20DQPk3sspfpem/q/NC3HCwBkCRtmj9jDLrvwuVLkjSGei/Ef5KmLw64T/iBH7Th+UGQMmpKAfRSgJAHwNJDTNDDECJlpZ6GMcNQE841gYGbRJAnIL8W9EuCkB9dObBWFvyP8SVdpPzkglAGwrrnyZt6D+/LDRl5cPtPz2mD0PHcvy/ba+jp50+2b/hxw23YXULQL8GqksBKr+/0EmJW0TSCEC9a8+7GSP1v/IoD8NEpgZAs2gZIzySCEDCR5YscvQKQOc5iNx/yvM/vXfIBjoD5b9HtZIk6V4DQP21zk0oKvK/",
          "dtype": "f8"
         },
         "xaxis": "x",
         "y": {
          "bdata": "BsvMj7hwBkAKrfYzMjvVPyTih9M8H/0/rsMGbZX81D+3Bz1duEsOQB+IZNQlZ/W/DGM/uWuQGcDL//rEmBjvP6kgCN1CYfM/YIJfL1Wx1L8SNdttsWnqP00Wf844Zfg/6tdllJYrhD9QBwgpUkbKvxhVaMDfZdW/jCiUwgzNAsBJBFJHWLEAwIa9bFN9q/Y/McJfJc9vB8BwTHLd0IblP0rmkO/DWtE/TKDXSw3twb/sM8mUMB++PzSOLJWGoPI/R57sZJhMrb/1XUZx3AnfPy0EejPkBdU/zGgj+pR31b8oyMMB4YMXwNrAIIVgl+U/eJQ2nvNVwL8L3Zaoz9XRv0hcovkOKei/jYcD/TFa479b+v3hWk2Qvw02CKc5z+U/z8JrQHn42T/+tL7Sm8H1P8V0F4QNdNw/VkF1mD0ywz+SZL7rEpcBQIfbMmMhb+w/Tsmr5ilB9r+x2Vfg7DL5v8Zzx6QLDew/zMDMfgFN/L9QBwhWul7hPzUbQz8hZfS/3BqCuxTS6z/QHBKGcj8HwNpUXft/z+o/PJjre3loxb/LqiqxC1zpP/gwJnoY3ABANg8CZ0rI6b9vMplWQmbhP6fvAq291fS/",
          "dtype": "f8"
         },
         "yaxis": "y"
        },
        {
         "hovertemplate": "<b>%{hovertext}</b><br><br>Brand=Ninjutso<br>แกนคุณลักษณะหลักที่ 1 (PC1)=%{x}<br>แกนคุณลักษณะหลักที่ 2 (PC2)=%{y}<extra></extra>",
         "hovertext": [
          "Ten Air",
          "Ten",
          "Sora V2",
          "Sora 4K",
          "Sora",
          "Origin One X",
          "Katana Ultralight",
          "Katana Superlight"
         ],
         "legendgroup": "Ninjutso",
         "marker": {
          "color": "#ab63fa",
          "symbol": "circle"
         },
         "mode": "markers",
         "name": "Ninjutso",
         "showlegend": true,
         "type": "scattergl",
         "x": {
          "bdata": "gZpVwT5p+L+FcZjin1f1v5xNDZ7Z8QHAWJy/11Bj9r/9NmXqudf0v+5QcaUSguk/C6JXEJ0p6b9wZiFAGELpvw==",
          "dtype": "f8"
         },
         "xaxis": "x",
         "y": {
          "bdata": "pWe4ddSu9D9aATaMJUbxPxN5Aud3/uk/+YJE0lMQ4D+h24U5QpPXP+rU/BjmB+a/ZVza7J200r/aXie6zL7Ovw==",
          "dtype": "f8"
         },
         "yaxis": "y"
        },
        {
         "hovertemplate": "<b>%{hovertext}</b><br><br>Brand=ASUS<br>แกนคุณลักษณะหลักที่ 1 (PC1)=%{x}<br>แกนคุณลักษณะหลักที่ 2 (PC2)=%{y}<extra></extra>",
         "hovertext": [
          "ROG Keris II Origin",
          "ROG Harpe II Ace",
          "ROG Gladius II Wireless",
          "ROG Harpe Ace Mini",
          "ROG Harpe Ace Extreme",
          "ProArt MD300",
          "TUF Gaming M3 Gen II",
          "TUF Gaming M3",
          "ROG Keris II Ace",
          "ROG Strix Impact III Wireless",
          "ROG Pugio",
          "ROG Strix Impact III",
          "ROG Harpe Ace",
          "ROG Spatha",
          "TUF M4 Air",
          "TUF M4 Wireless",
          "ROG Sica",
          "ROG Strix Carry",
          "ROG Strix Evolve",
          "ROG Strix Impact",
          "ROG Gladius II Origin",
          "ROG Gladius II",
          "ROG Gladius II Core",
          "ROG Keris",
          "ROG Keris Wireless",
          "ROG Strix Impact II",
          "ROG Strix Impact II Wireless",
          "ROG Gladius III",
          "ROG Gladius III Wireless",
          "ROG Spatha X",
          "ROG Chakram Core",
          "ROG Chakram",
          "ROG Chakram X"
         ],
         "legendgroup": "ASUS",
         "marker": {
          "color": "#FFA15A",
          "symbol": "circle"
         },
         "mode": "markers",
         "name": "ASUS",
         "showlegend": true,
         "type": "scattergl",
         "x": {
          "bdata": "CDKnUAfj4D87T58X+4v4vztn82/R0wNA/F7XCS5PAcDQL3DGx4P4v44fuZDTVw9AYXrkehg+9j+8K7EsnST9P8VPDaQdadE/+sxhGKl36r8XC0ING0LpPwjHM8WEpOC/I0tzgBHe6b8XEFU88CMcQNat9VyPZua/gYA8sdoJ0z+DHDPbSwLbv3S9JFNi4ss/VQ7h7xBK7T9axDYBMC3hPz4c3leD+QdAhzVKQQgeCUAT+7l2urgFQDyFTZALDvA/PIVNkAsO8D8eFZztFl7Gv7bYP4ylbUo/HMVd9F3b/j/WzZ0QMD4BQHa21+dApxtAcHBHb5fPDECAgANm/pAQQL6K+yxwVBFA",
          "dtype": "f8"
         },
         "xaxis": "x",
         "y": {
          "bdata": "+R0CIyOG/z+F32HWP0P8P0y5ih/KnNc/9eaG4x6G8T8W8upUnUD9Pygcqmj6MBbA0USPbV7A0T8JOir941fjv0MLppDt8gFAmPXYxN8Atr+vSZeC7Zb6v4JnD4k0fNW/oDuCiTF66z8YN8RZkjHnP078sl4dXtA/dPdiZ4Mf7b8EEUGYxm3/vwt1ugVYCv6/6uQPzOLv879XRJa/eJ8EwJyeUJeM5s2/q2dmr70iw79vEJX0TUKqv3GRpVnebOO/cZGlWd5s479hu3qxvUj2v6me7c0x/fa/9Ue3sxrt6T+Lv9S0NmniP76YxbOFe/A/qxrT0Zzw7D+s8oBT+njYP1Xedo8p9fM/",
          "dtype": "f8"
         },
         "yaxis": "y"
        },
        {
         "hovertemplate": "<b>%{hovertext}</b><br><br>Brand=Finalmouse<br>แกนคุณลักษณะหลักที่ 1 (PC1)=%{x}<br>แกนคุณลักษณะหลักที่ 2 (PC2)=%{y}<extra></extra>",
         "hovertext": [
          "ULX Pro Series Tiger (L)",
          "ULX Pro Series Lion (M)",
          "ULX Pro Series Cheetah (S)",
          "ULX Prophecy Small",
          "ULX Prophecy Medium",
          "ULX Prophecy Classic",
          "ULX Competition Small",
          "ULX Competition Medium",
          "ULX Competition Classic",
          "UltralightX Cheetah (S)",
          "UltralightX Lion (M)",
          "UltralightX Tiger (L)",
          "Starlight-12 Small",
          "Starlight-12 Medium",
          "Ultralight 2",
          "Scream One",
          "Ultralight Pro Sunset",
          "Ultralight Pro",
          "Ultralight Phantom",
          "Air58"
         ],
         "legendgroup": "Finalmouse",
         "marker": {
          "color": "#19d3f3",
          "symbol": "circle"
         },
         "mode": "markers",
         "name": "Finalmouse",
         "showlegend": true,
         "type": "scattergl",
         "x": {
          "bdata": "orZ7ofuV87+EfdcXSZL9v77bHtFHnwPA7TNWnO0zA8DX6/7OG8b8v7nQixc8NPO/7TNWnO0zA8DX6/7OG8b8v7nQixc8NPO/vtse0UefA8CuNGtzMiz9v6K2e6H7lfO/JN5mwZUf/79PJyAiCeH0v1aQcD8ycfe/a8S1YUEI3j/bSd1as8bBP9tJ3VqzxsE/20ndWrPGwT9+T/xif9Gyvw==",
          "dtype": "f8"
         },
         "xaxis": "x",
         "y": {
          "bdata": "r2Tjwr3a5j9R0YRDRBDYP0X3OPC+WpU/f0r5Eusnpr80ymQ4/1vUP8j2fK/HAuY/f0r5Eusnpr80ymQ4/1vUP8j2fK/HAuY/Rfc48L5alT/BzfS9ITbWP69k48K92uY/AcBOrmm02r9I0PqJu+u1vzSk1hjqC/S/vajwqg4c8L9aMPwsz7Lkv1ow/CzPsuS/WjD8LM+y5L/97BqTp5Xavw==",
          "dtype": "f8"
         },
         "yaxis": "y"
        },
        {
         "hovertemplate": "<b>%{hovertext}</b><br><br>Brand=Rampage<br>แกนคุณลักษณะหลักที่ 1 (PC1)=%{x}<br>แกนคุณลักษณะหลักที่ 2 (PC2)=%{y}<extra></extra>",
         "hovertext": [
          "Blitz Ultimate",
          "Zenith Pro",
          "Prote M5"
         ],
         "legendgroup": "Rampage",
         "marker": {
          "color": "#FF6692",
          "symbol": "circle"
         },
         "mode": "markers",
         "name": "Rampage",
         "showlegend": true,
         "type": "scattergl",
         "x": {
          "bdata": "iggDoaoKwr+p2gPfzBvpv6n7Z1n9k+6/",
          "dtype": "f8"
         },
         "xaxis": "x",
         "y": {
          "bdata": "csFnzQyM9D9r5n0C7ybNP/zLgZOG2bu/",
          "dtype": "f8"
         },
         "yaxis": "y"
        },
        {
         "hovertemplate": "<b>%{hovertext}</b><br><br>Brand=Kysona<br>แกนคุณลักษณะหลักที่ 1 (PC1)=%{x}<br>แกนคุณลักษณะหลักที่ 2 (PC2)=%{y}<extra></extra>",
         "hovertext": [
          "Mercury Ultra",
          "Mercury Pro",
          "Mercury SE",
          "Jupiter Ultra",
          "Jupiter Pro",
          "Jupiter SE",
          "M660",
          "M600 V2",
          "Uranus Pro",
          "Uranus SE",
          "Mars SE",
          "M617",
          "M511",
          "Aztec",
          "M600"
         ],
         "legendgroup": "Kysona",
         "marker": {
          "color": "#B6E880",
          "symbol": "circle"
         },
         "mode": "markers",
         "name": "Kysona",
         "showlegend": true,
         "type": "scattergl",
         "x": {
          "bdata": "u9RQIbo3AMDwuh5mRlT/v0+OivhM5/e/lyOT/kTI878mAYo9vF7xv1E1kuPydea/lWRWLurw57+7C131SXnxvzwTJW3cXNM/08CGUQCc6z9ZwtefO1bzP+uUrbeKG/S/al+Tm2Wa2z+7C131SXnxv7sLXfVJefG/",
          "dtype": "f8"
         },
         "xaxis": "x",
         "y": {
          "bdata": "dMZNlRJm8D8dfI7nTTXsPxofHU8N/NA/syzi2y1g9z9q6pIzuh3zP5S3yVw8WeY/5GuXm7Y/4b/zA0NYd0J8Pyheai46B/Y/GTlQYKDp5D/UaxE0VifxP0Lgp50IWOg/kXCa2gJm4D/zA0NYd0J8P/MDQ1h3Qnw/",
          "dtype": "f8"
         },
         "yaxis": "y"
        },
        {
         "hovertemplate": "<b>%{hovertext}</b><br><br>Brand=Epomaker<br>แกนคุณลักษณะหลักที่ 1 (PC1)=%{x}<br>แกนคุณลักษณะหลักที่ 2 (PC2)=%{y}<extra></extra>",
         "hovertext": [
          "Click Lite",
          "Click"
         ],
         "legendgroup": "Epomaker",
         "marker": {
          "color": "#FF97FF",
          "symbol": "circle"
         },
         "mode": "markers",
         "name": "Epomaker",
         "showlegend": true,
         "type": "scattergl",
         "x": {
          "bdata": "0ZhUnbXb6b9ObklBr5D5vw==",
          "dtype": "f8"
         },
         "xaxis": "x",
         "y": {
          "bdata": "L2CmZeJrrL/SNfZeoQvzPw==",
          "dtype": "f8"
         },
         "yaxis": "y"
        },
        {
         "hovertemplate": "<b>%{hovertext}</b><br><br>Brand=Lofree<br>แกนคุณลักษณะหลักที่ 1 (PC1)=%{x}<br>แกนคุณลักษณะหลักที่ 2 (PC2)=%{y}<extra></extra>",
         "hovertext": [
          "Touch",
          "Hypace"
         ],
         "legendgroup": "Lofree",
         "marker": {
          "color": "#FECB52",
          "symbol": "circle"
         },
         "mode": "markers",
         "name": "Lofree",
         "showlegend": true,
         "type": "scattergl",
         "x": {
          "bdata": "+OXe2faLAkCyWOgXgmf/vw==",
          "dtype": "f8"
         },
         "xaxis": "x",
         "y": {
          "bdata": "XO9nSG8z+L/jEUQaRir1Pw==",
          "dtype": "f8"
         },
         "yaxis": "y"
        },
        {
         "hovertemplate": "<b>%{hovertext}</b><br><br>Brand=SteelSeries<br>แกนคุณลักษณะหลักที่ 1 (PC1)=%{x}<br>แกนคุณลักษณะหลักที่ 2 (PC2)=%{y}<extra></extra>",
         "hovertext": [
          "Kinzu V2 Pro",
          "Rival 3 Gen 2 Wireless",
          "Rival 3 Gen 2",
          "Kinzu V2",
          "Kana V2",
          "Rival 710",
          "Rival 300S",
          "Rival 500",
          "Sensei 310",
          "Rival 110",
          "Kinzu V3",
          "Rival 300",
          "Aerox 9 Wireless",
          "Aerox 5",
          "Aerox 5 Wireless",
          "Prime Mini",
          "Prime Mini Wireless",
          "Prime",
          "Prime+",
          "Prime Wireless",
          "Aerox 3",
          "Rival 3",
          "Rival 3 Wireless",
          "Rival 5",
          "Aerox 3 Wireless",
          "Rival 600",
          "Rival 650 Wireless",
          "Sensei Ten",
          "Rival 310"
         ],
         "legendgroup": "SteelSeries",
         "marker": {
          "color": "#636efa",
          "symbol": "circle"
         },
         "mode": "markers",
         "name": "SteelSeries",
         "showlegend": true,
         "type": "scattergl",
         "x": {
          "bdata": "ahCF2cbJ27/FqGkpW1mxP/WvtsJCWLM/ahCF2cbJ27/PYz/1C3jHP7r8NWMqVg9Al3V6knmTCkAiPgOgBHsRQFfYAW9ZEOw/tyBVclWC3D8Z5YpDUHrnvybe7SqhIRBAWLfFQAgrDkCDlE1eHNwAQBn2axgpTwJAqUBDMQNt8T9v2ZSAGvb1PzdDUEoXMvw/0ukD8Art/D/GK9asKRsAQEM0pXoF4ta/9a+2wkJYsz9hov5LLZbXP3LiDht9kP8/BJ7XEy6I07+yp9wA69cHQOAZKHpATgxAUIM2svzo4z+Axl98GywEQA==",
          "dtype": "f8"
         },
         "xaxis": "x",
         "y": {
          "bdata": "N3AQOExw/b9G+sGaJ9rqv5JcAU2MFfC/N3AQOExw/b8YgR0i6in4v/os1mlXBeW/CoarvaPP1j9fr5d9lDanvw3xmWpAkui/6lygIA1z9L/iFfAExKv/v2xiXXSwrta/Q/K28otX8z+DDQ7AeDDxPwhGzUQ3Y+w/xm7iEa623D/yRmTBctbBPxsztXkrfeY/rB0/lMz25D92elcXQzTcP/ApG9UEteC/klwBTYwV8L+HuYbjaMvyv32V2nigK88/S9Of8J4T279EIRa/DdXTP1hnM3U+TtC/hl5L+aPF5L+uQOB5JP3LPw==",
          "dtype": "f8"
         },
         "yaxis": "y"
        },
        {
         "hovertemplate": "<b>%{hovertext}</b><br><br>Brand=SyLical<br>แกนคุณลักษณะหลักที่ 1 (PC1)=%{x}<br>แกนคุณลักษณะหลักที่ 2 (PC2)=%{y}<extra></extra>",
         "hovertext": [
          "HELIX"
         ],
         "legendgroup": "SyLical",
         "marker": {
          "color": "#EF553B",
          "symbol": "circle"
         },
         "mode": "markers",
         "name": "SyLical",
         "showlegend": true,
         "type": "scattergl",
         "x": {
          "bdata": "Wdo/jd7dAcA=",
          "dtype": "f8"
         },
         "xaxis": "x",
         "y": {
          "bdata": "cUbLZWG17z8=",
          "dtype": "f8"
         },
         "yaxis": "y"
        },
        {
         "hovertemplate": "<b>%{hovertext}</b><br><br>Brand=VXE<br>แกนคุณลักษณะหลักที่ 1 (PC1)=%{x}<br>แกนคุณลักษณะหลักที่ 2 (PC2)=%{y}<extra></extra>",
         "hovertext": [
          "R1 SE+",
          "R1 Nearlink",
          "MAD R Major",
          "MAD R",
          "R1 Pro Max",
          "R1 Pro",
          "R1 SE",
          "R1"
         ],
         "legendgroup": "VXE",
         "marker": {
          "color": "#00cc96",
          "symbol": "circle"
         },
         "mode": "markers",
         "name": "VXE",
         "showlegend": true,
         "type": "scattergl",
         "x": {
          "bdata": "Ltfh26Th7b9OedchV1/tv6L5LPl0dADAvgTXFbzN/7/UegL8Np/zvzoTBLZK+fW/2/vx6TSC8L/j2PeikLjyvw==",
          "dtype": "f8"
         },
         "xaxis": "x",
         "y": {
          "bdata": "o48sh3JOxL+I2+nnE6THv9UNQS7bJvQ/cIW6jG/b8T8yJ7w0uHfUP/Iz/dvbLt8/a6WsoLYTqL8KXT1wzLHOPw==",
          "dtype": "f8"
         },
         "yaxis": "y"
        },
        {
         "hovertemplate": "<b>%{hovertext}</b><br><br>Brand=VGN<br>แกนคุณลักษณะหลักที่ 1 (PC1)=%{x}<br>แกนคุณลักษณะหลักที่ 2 (PC2)=%{y}<extra></extra>",
         "hovertext": [
          "R1 SE+",
          "R1 Nearlink",
          "Y2 Ultra",
          "Y2 Pro",
          "R1 Pro Max",
          "R1 Pro",
          "R1 SE",
          "R1",
          "Dragonfly F1 MOBA",
          "Dragonfly F1 Pro Max",
          "Dragonfly F1 Pro",
          "Dragonfly F1"
         ],
         "legendgroup": "VGN",
         "marker": {
          "color": "#ab63fa",
          "symbol": "circle"
         },
         "mode": "markers",
         "name": "VGN",
         "showlegend": true,
         "type": "scattergl",
         "x": {
          "bdata": "Ltfh26Th7b9OedchV1/tv63REskd//m/KxpCWZzy97/UegL8Np/zvzoTBLZK+fW/2/vx6TSC8L/j2PeikLjyv7FK6yZSb/O/sUrrJlJv87/J1fbUJcr1v5Ow5YOdrPK/",
          "dtype": "f8"
         },
         "xaxis": "x",
         "y": {
          "bdata": "o48sh3JOxL+I2+nnE6THv7Q58Vjypfs/6Mle///D9z8yJ7w0uHfUP/Iz/dvbLt8/a6WsoLYTqL8KXT1wzLHOP44NetmhZ9I/jg162aFn0j8VMe1mECbdPwZlIF313Mo/",
          "dtype": "f8"
         },
         "yaxis": "y"
        },
        {
         "hovertemplate": "<b>%{hovertext}</b><br><br>Brand=Motospeed<br>แกนคุณลักษณะหลักที่ 1 (PC1)=%{x}<br>แกนคุณลักษณะหลักที่ 2 (PC2)=%{y}<extra></extra>",
         "hovertext": [
          "X1",
          "X6 Max",
          "X6"
         ],
         "legendgroup": "Motospeed",
         "marker": {
          "color": "#FFA15A",
          "symbol": "circle"
         },
         "mode": "markers",
         "name": "Motospeed",
         "showlegend": true,
         "type": "scattergl",
         "x": {
          "bdata": "18/tk9mr9r+WA2/H8Cv6v168XKby5/e/",
          "dtype": "f8"
         },
         "xaxis": "x",
         "y": {
          "bdata": "2UXY6Fw23j/N1tm94czzP0b01H/XNPA/",
          "dtype": "f8"
         },
         "yaxis": "y"
        },
        {
         "hovertemplate": "<b>%{hovertext}</b><br><br>Brand=Dareu<br>แกนคุณลักษณะหลักที่ 1 (PC1)=%{x}<br>แกนคุณลักษณะหลักที่ 2 (PC2)=%{y}<extra></extra>",
         "hovertext": [
          "AE6",
          "A955",
          "A950 Air",
          "A980 Pro Max",
          "A980 Pro",
          "A980",
          "EM901",
          "A950 Pro 4K Magnesium",
          "A950 Pro 4K",
          "A950",
          "A950 Pro"
         ],
         "legendgroup": "Dareu",
         "marker": {
          "color": "#19d3f3",
          "symbol": "circle"
         },
         "mode": "markers",
         "name": "Dareu",
         "showlegend": true,
         "type": "scattergl",
         "x": {
          "bdata": "VTQHz/so8b9bGpIdYLoEQDmJrc/09wDAn8b6pG4P+T9MyYI6qC/2P2yC0a+gswBADXI390FH8T9l/TARjnDwv/gH4mj+DfC/xRg48XgZzT+DxaEv7ODpvw==",
          "dtype": "f8"
         },
         "xaxis": "x",
         "y": {
          "bdata": "vBGLwjDZ8D/2NVBE6tCHv8KcKr7pCvQ/70MJR/BM/T9D27IDeRz/P09TiBGxivM/77oxeDEx97/jF2XiWt3gP2KImb9wAeA/kxjAAb0h8r80EtbGS0vQPw==",
          "dtype": "f8"
         },
         "yaxis": "y"
        },
        {
         "hovertemplate": "<b>%{hovertext}</b><br><br>Brand=MAMBASNAKE<br>แกนคุณลักษณะหลักที่ 1 (PC1)=%{x}<br>แกนคุณลักษณะหลักที่ 2 (PC2)=%{y}<extra></extra>",
         "hovertext": [
          "M4",
          "M3",
          "M5 Ultra"
         ],
         "legendgroup": "MAMBASNAKE",
         "marker": {
          "color": "#FF6692",
          "symbol": "circle"
         },
         "mode": "markers",
         "name": "MAMBASNAKE",
         "showlegend": true,
         "type": "scattergl",
         "x": {
          "bdata": "n4sbSIKv9L9Ge+ajnNMBwLd70aoRQALA",
          "dtype": "f8"
         },
         "xaxis": "x",
         "y": {
          "bdata": "DFuNL8mouL8a+nzZrin4P+XHGyLvrO4/",
          "dtype": "f8"
         },
         "yaxis": "y"
        },
        {
         "hovertemplate": "<b>%{hovertext}</b><br><br>Brand=Delux<br>แกนคุณลักษณะหลักที่ 1 (PC1)=%{x}<br>แกนคุณลักษณะหลักที่ 2 (PC2)=%{y}<extra></extra>",
         "hovertext": [
          "M800 Mini Ultra",
          "M800 Mini Pro",
          "M800 Mini",
          "M900 Ultra",
          "M900 Mini Ultra",
          "M900 Mini Pro",
          "M700 Pro",
          "M700 Pro+",
          "M700 Ultra",
          "M500 Pro",
          "M900 SE",
          "M900 Pro",
          "M800 Pro 3395",
          "M600 Pro",
          "M600",
          "M600 Ultra",
          "M800 Ultra",
          "M800 Pro",
          "M700"
         ],
         "legendgroup": "Delux",
         "marker": {
          "color": "#B6E880",
          "symbol": "circle"
         },
         "mode": "markers",
         "name": "Delux",
         "showlegend": true,
         "type": "scattergl",
         "x": {
          "bdata": "VfKS0g1I/r/SAxD23yz9v4i/HbXWCPK/CO7x/3155j/EDRuKTFy6v1JhGMtJnsO/YxpeqNUm6r8hQVUNvebqv/CpdZdi3eq/imJvBuEa0z8C9EFlTZ/5P0N72LnNzPE/m7AYNTax4b87zJXBfoT2v3LM8NYLVvG/yIq/W9Qh978PWDnQgFLzvwGog7HAiti/KkmBIrGepj8=",
          "dtype": "f8"
         },
         "xaxis": "x",
         "y": {
          "bdata": "68AteuCU7D8fsCA3Cf7nP/4R878t0NS/3hvqgr0NAkCxTqS95uL7P9eiPtN9tPs/TnvMdVyr8T+jLIdq+RLyPwqh3S2OJ/M/VVlaXW218z/39RRNKNTxP1N5DnT1JPw/sVA8HnpXw7+M8Syo9pnHP/uzhBnWb9u/wv+gCnvNzT9EGJKuNZHjP92A8SBSN92/kGJQOJiGtL8=",
          "dtype": "f8"
         },
         "yaxis": "y"
        },
        {
         "hovertemplate": "<b>%{hovertext}</b><br><br>Brand=zeromouse<br>แกนคุณลักษณะหลักที่ 1 (PC1)=%{x}<br>แกนคุณลักษณะหลักที่ 2 (PC2)=%{y}<extra></extra>",
         "hovertext": [
          "Blade"
         ],
         "legendgroup": "zeromouse",
         "marker": {
          "color": "#FF97FF",
          "symbol": "circle"
         },
         "mode": "markers",
         "name": "zeromouse",
         "showlegend": true,
         "type": "scattergl",
         "x": {
          "bdata": "v1WDrSriEsA=",
          "dtype": "f8"
         },
         "xaxis": "x",
         "y": {
          "bdata": "rSq9at/H8b8=",
          "dtype": "f8"
         },
         "yaxis": "y"
        },
        {
         "hovertemplate": "<b>%{hovertext}</b><br><br>Brand=RAWM<br>แกนคุณลักษณะหลักที่ 1 (PC1)=%{x}<br>แกนคุณลักษณะหลักที่ 2 (PC2)=%{y}<extra></extra>",
         "hovertext": [
          "ER21 Pro",
          "ER21",
          "SA-MH01 Pro",
          "ES21 Pro",
          "ES21 M",
          "ES21",
          "SA-SH01 Pro",
          "SA-SH01",
          "SA-SL01 Pro",
          "SA-SL01",
          "SA-ML01 Plus",
          "SA-ML01",
          "SA-MH01"
         ],
         "legendgroup": "RAWM",
         "marker": {
          "color": "#FECB52",
          "symbol": "circle"
         },
         "mode": "markers",
         "name": "RAWM",
         "showlegend": true,
         "type": "scattergl",
         "x": {
          "bdata": "6IcRLWNJ4D8udOOe41vyP0gaI8f+u+K/V7x0tmTX+L9XvHS2ZNf4v0ycnhgP0PW/3t3qnJcX/b+HhhnYcLbyvyVeeMVeOfa/9CbtinD/87+peTe05rjYv1O9P+DwJOC/xkCdpBOC478=",
          "dtype": "f8"
         },
         "xaxis": "x",
         "y": {
          "bdata": "O8XpfnOnAEBDZT4JXefzP7RsgM4DkO8/6hPmS8PY8z/qE+ZLw9jzP6Nq+3pG0u4/o1UAYeTt4D8AdShRbVrVvwiBz6KdMbo/uNCtQsklwr8ZzmgLqljVP8HxIRGNnN0/5Dfeclsu7j8=",
          "dtype": "f8"
         },
         "yaxis": "y"
        },
        {
         "hovertemplate": "<b>%{hovertext}</b><br><br>Brand=Valkyrie<br>แกนคุณลักษณะหลักที่ 1 (PC1)=%{x}<br>แกนคุณลักษณะหลักที่ 2 (PC2)=%{y}<extra></extra>",
         "hovertext": [
          "VK M1 Pro",
          "VK M2 Pro",
          "VK M2",
          "VK M1"
         ],
         "legendgroup": "Valkyrie",
         "marker": {
          "color": "#636efa",
          "symbol": "circle"
         },
         "mode": "markers",
         "name": "Valkyrie",
         "showlegend": true,
         "type": "scattergl",
         "x": {
          "bdata": "md+aX7h6+r+4KetHOlXTP/2FLsHuhvA/Q0l4gaDm8b8=",
          "dtype": "f8"
         },
         "xaxis": "x",
         "y": {
          "bdata": "glYuo1eq8j+MQQi+lUkAQKtEgD/LdOw/jtXU09z90D8=",
          "dtype": "f8"
         },
         "yaxis": "y"
        },
        {
         "hovertemplate": "<b>%{hovertext}</b><br><br>Brand=Logitech<br>แกนคุณลักษณะหลักที่ 1 (PC1)=%{x}<br>แกนคุณลักษณะหลักที่ 2 (PC2)=%{y}<extra></extra>",
         "hovertext": [
          "G Pro X Superlight 2 SE",
          "G900",
          "ERGO M575",
          "M196",
          "MX Anywhere 3S",
          "MX Anywhere 2S",
          "M170",
          "M705 Marathon",
          "POP Mouse",
          "Pebble 2 M350s",
          "Pebble M350",
          "M340",
          "M550 L",
          "M550",
          "M650 L Left",
          "M650 L",
          "M650",
          "M240",
          "M190",
          "G Pro X Superlight 2 DEX",
          "G Pro 2 Lightspeed",
          "G309",
          "G703 Lightspeed",
          "MX Master 3S",
          "MX Master 3",
          "MX Master 2S",
          "MX Master",
          "G304 Lightspeed",
          "G602",
          "M720 Triathlon",
          "Lift Vertical",
          "MX Vertical",
          "G102 Lightsync",
          "G705",
          "G303 Shroud Edition",
          "G604 Lightspeed",
          "G903 Lightspeed",
          "G Pro Wireless",
          "G Pro X Superlight",
          "G Pro",
          "G403 Wireless",
          "G403",
          "G603 Lightspeed",
          "G403 Hero",
          "G203 Prodigy",
          "G305 Lightspeed",
          "G203 Lightsync",
          "G502 Hero",
          "G502 Lightspeed",
          "M171",
          "G103 Prodigy",
          "B100",
          "G600",
          "G9x",
          "G Pro X Superlight 2",
          "G402 Hyperion Fury",
          "G300s",
          "M100",
          "MX Anywhere",
          "M510",
          "G502 X Plus",
          "G502 X Lightspeed",
          "G502 X",
          "M185",
          "M280",
          "M187",
          "M238",
          "G100s",
          "G303 Daedalus Apex",
          "G3",
          "MX518",
          "G400",
          "G400s",
          "G MX518"
         ],
         "legendgroup": "Logitech",
         "marker": {
          "color": "#EF553B",
          "symbol": "circle"
         },
         "mode": "markers",
         "name": "Logitech",
         "showlegend": true,
         "type": "scattergl",
         "x": {
          "bdata": "k/p27jrs67+vIi1HkqvzP6R+KI9GfyBA+Zg9eICMtb/bUkS7IHz1P9tSRLsgfPU/vJGYNxBr3L+no5fE+pQRQInRjLtQKLO/9t5Iy/w66b+ymA40ia2lv656eiaPdOS/t8JVp6rT7j9flBLgNEHVv6yVqNF6mfU/rJWo0XqZ9T9qWYQRqOWsP/WQPaFeRcO/XJJQe2cG9j8rOzEe+c3pP0UgGS28POu/qmXGo0ofxL/SrJ4yqB0EQKf8NTD59x1Ak1JIsMBTHkByqMWRdYkeQOeb4viyiR5ADnvE4YeZtz8mNy3NCCcZQNA+tfLAhBRA6/S8Ag+NGkDliz18PJghQGpV2bA5Fsi/s10lTFXgA0A0g2Z2zDiRP0PEkEelURRAYsLMrUYE8T/GitdjWS20v7Kn0CTF7N6/XN05zhCD37/l2xbDD/8FQPWxmIXHWQJAWum+ixu3AkDigiD1X3gAQGpV2bA5Fsi/DnvE4YeZtz9qVdmwORbIv6TzuCWCKgxAyN7LhmbsCkDi9K9YAGTZv2pV2bA5Fsi/LUwwMS5O6D8hkl3pISwaQOTzxOziVxRAyH5jNAY79b81HRuy8usMQNHxFIhXV9A/jEx6YGgf6j/bUkS7IHz1P0gYsMys0gVAWv29XQTpDEBZM301Pt4LQK1rBkEo9QlAyawP76flt7+GOseKXZv0P63+f1xwsgvAjkAQv9s2978V3IWDtLrRP5IG1XqBScG//IGE7KkS9z/WbTv1pvQMQL2DD6B1kwxAOjqGRUGyDEAk1m0hCU4IQA==",
          "dtype": "f8"
         },
         "xaxis": "x",
         "y": {
          "bdata": "PonFVG5J7T8EJPG3SQfwv2F+7xqTYAzA/yrzsAXJHcAxUBCFrH8fwDFQEIWsfx/AGhC3Q9I3HsCh6QvvmlMbwFo+Uhx2qh7ASbQbufkzIcCeIN0/vk8jwFowD9TtnyHAFvrs50D5/7+moT6T6vgGwFbqRzk2CP+/VupHOTYI/7/IrMzNXp0GwMp51lCo0hzACfyT8lLpGcBoJLEB7YUEQMjrC2sP3+4/qRdfTVpW57+eaVVvNUu0P0g3Le9frw3AR0sUMkn6DsCSLXFbjqIQwHMg5wrR1BDAklCrirE5/7+MAxexhfbBP6C+bNAB7xfA3SyDTytPDsCkOqMEJssCwAWxqIgDBPu//mpnRVw5F8B87IlLoC3Bv+zKoaB/Z/A/zr1mRK7M4r9tjGy4xybRv20SQieFp8Y/Q79YKF3r8L8IS1CfHSLavz6OZ7JOArE/5YcnUFJrkz+AxN9Tv7rhPwWxqIgDBPu/klCrirE5/78FsaiIAwT7vwN7epDbgdM/8nJxNUR+3T87no13fHYewAWxqIgDBPu/VQpbdtMkHMA2A8e1S9oSwBtKUEqoIBnAyAOZgM7P9z8PjUl7mt2uv29m2aReV/W/TrwMMSxuHMAxUBCFrH8fwCHmzHhtaRzA3PDSHFLK7j9n0iwKUmzxP1v3Ei0dJPU/g/V2laVHHcCMPKSoiGMAwGlKMRStTRHAk9t3csNFDsBuH8xvWWcHwCcWklPCvvq/PqXnoF7cGcAkfceHbSfLv5iorv+9ury/2J8365Wdvr89OKaaKIPqPw==",
          "dtype": "f8"
         },
         "yaxis": "y"
        },
        {
         "hovertemplate": "<b>%{hovertext}</b><br><br>Brand=Flick<br>แกนคุณลักษณะหลักที่ 1 (PC1)=%{x}<br>แกนคุณลักษณะหลักที่ 2 (PC2)=%{y}<extra></extra>",
         "hovertext": [
          "Fire"
         ],
         "legendgroup": "Flick",
         "marker": {
          "color": "#00cc96",
          "symbol": "circle"
         },
         "mode": "markers",
         "name": "Flick",
         "showlegend": true,
         "type": "scattergl",
         "x": {
          "bdata": "F+cgn5C19r8=",
          "dtype": "f8"
         },
         "xaxis": "x",
         "y": {
          "bdata": "o8jNcA/54T8=",
          "dtype": "f8"
         },
         "yaxis": "y"
        },
        {
         "hovertemplate": "<b>%{hovertext}</b><br><br>Brand=IYX<br>แกนคุณลักษณะหลักที่ 1 (PC1)=%{x}<br>แกนคุณลักษณะหลักที่ 2 (PC2)=%{y}<extra></extra>",
         "hovertext": [
          "Amber"
         ],
         "legendgroup": "IYX",
         "marker": {
          "color": "#ab63fa",
          "symbol": "circle"
         },
         "mode": "markers",
         "name": "IYX",
         "showlegend": true,
         "type": "scattergl",
         "x": {
          "bdata": "cV8JLNgRA8A=",
          "dtype": "f8"
         },
         "xaxis": "x",
         "y": {
          "bdata": "P9n79KBc6j8=",
          "dtype": "f8"
         },
         "yaxis": "y"
        },
        {
         "hovertemplate": "<b>%{hovertext}</b><br><br>Brand=PMM<br>แกนคุณลักษณะหลักที่ 1 (PC1)=%{x}<br>แกนคุณลักษณะหลักที่ 2 (PC2)=%{y}<extra></extra>",
         "hovertext": [
          "ZEN 8K Mini",
          "Fuse 8K",
          "CYBER ZK",
          "CYBER 4.1",
          "VORTEX 4K M",
          "ZEN 8K",
          "CYBER 4.0",
          "CRAZE 8K",
          "NEO 8K",
          "VORTEX 8K M",
          "VORTEX 8K S",
          "VORTEX M",
          "VORTEX S",
          "FUSE",
          "CORE",
          "BLAZE",
          "NITE 8K",
          "TITAN M",
          "TITAN S",
          "TITAN 8K L",
          "CYBER 8K",
          "AIM 8K"
         ],
         "legendgroup": "PMM",
         "marker": {
          "color": "#FFA15A",
          "symbol": "circle"
         },
         "mode": "markers",
         "name": "PMM",
         "showlegend": true,
         "type": "scattergl",
         "x": {
          "bdata": "WK7lawdzA8Bp7icsf/D7v2kc4i6HTRXAcft2OjVIE8AWh+ue3fP+v7Q3/VLNDPu/Stm2/+/+FcBwiItMLQjYv2fPrqMm4QLAs6asNCju/79UktcLM/MEwNpEkM7Y0Oq/k3IPOqd19797CVo5sGvlvx4KirvoJuW/WByS5io+8L+oM5vJoGf9v0ki3c+H5PK/wawzdF+8979K5uXVt9/6vza24CrsBRTA3qPBUwg2F8A=",
          "dtype": "f8"
         },
         "xaxis": "x",
         "y": {
          "bdata": "jzewX6jr+D+P3ve8oCP4Py8ExkmADve/7DBUmKcG6L9FP9qP8aLqP9edJ8/2lf8/heFbPSgF9r9ENyU+9PQAQILHMhaeI/Y/DWo7D8gl9T/J/ivpyOzrP0y8J/Ne/9W/WaKghcf76b+r9SWw00GsvxZwDJMefNW/gRBuXNgm4L/mp51NRdLrP+hmlRpPH9M/OF/LoZgv77+/9xlJLkD6P1OcmH0Muuy/yCUVB18H878=",
          "dtype": "f8"
         },
         "yaxis": "y"
        },
        {
         "hovertemplate": "<b>%{hovertext}</b><br><br>Brand=Precision<br>แกนคุณลักษณะหลักที่ 1 (PC1)=%{x}<br>แกนคุณลักษณะหลักที่ 2 (PC2)=%{y}<extra></extra>",
         "hovertext": [
          "GG Titan-0"
         ],
         "legendgroup": "Precision",
         "marker": {
          "color": "#19d3f3",
          "symbol": "circle"
         },
         "mode": "markers",
         "name": "Precision",
         "showlegend": true,
         "type": "scattergl",
         "x": {
          "bdata": "PsMulBzTG8A=",
          "dtype": "f8"
         },
         "xaxis": "x",
         "y": {
          "bdata": "WHrUZXw3E8A=",
          "dtype": "f8"
         },
         "yaxis": "y"
        },
        {
         "hovertemplate": "<b>%{hovertext}</b><br><br>Brand=Glorious<br>แกนคุณลักษณะหลักที่ 1 (PC1)=%{x}<br>แกนคุณลักษณะหลักที่ 2 (PC2)=%{y}<extra></extra>",
         "hovertext": [
          "Model O Eternal",
          "Model O 2 Mini Wireless",
          "Model O 2 Mini",
          "Series 2 Pro",
          "Model D 2 Wireless",
          "Model D 2 Wired",
          "Model O Pro",
          "Series One Pro",
          "Model D Wireless",
          "Model D",
          "Model D-",
          "Model I",
          "Model O",
          "Model O-",
          "Model D- Wireless",
          "Model O 2 Pro 4K/8K",
          "Model O 2 Pro 1K",
          "Model D 2 Pro 4K/8K",
          "Model D 2 Pro 1K",
          "Model D Pro",
          "Model I 2 Wireless",
          "Model O 2 Wired",
          "Model O 2 Wireless",
          "Model O- Wireless",
          "Model O Wireless"
         ],
         "legendgroup": "Glorious",
         "marker": {
          "color": "#FF6692",
          "symbol": "circle"
         },
         "mode": "markers",
         "name": "Glorious",
         "showlegend": true,
         "type": "scattergl",
         "x": {
          "bdata": "i5K4xK6+1L9I39oq6rL0v/Sq4G9Z7/e/068CDjC3+r9TzXuSHrL5P5twXjGWyfY/IxhNzO983L945Qa3iIDzv8BbTQtSv/s/J30yTeKu/T/Fu+MkNJjxP+pEleIxwgRAxVIzEm1apL9mO/Ko6Xbuv3JxxMas8fE/1XXYs9me7b/boLxRUJngv5I1GPBr+O8/1FxurxSG9j/Hvo3rmrr3P6K/8ZTX2QNAUDI8pVZk4b8/s0yrew/Vv7D5CfP5tOy/q0/K5fkDvb8=",
          "dtype": "f8"
         },
         "xaxis": "x",
         "y": {
          "bdata": "H+W70pP6pL9SJJ0aK+jTvwgFZzMjlLK/mGy6eonW3D9W42XykT7yP5GOqKxZQ/U/UHys4D3hyj9cg/PyUFLNv/j9VsKVjug/kiAADZ2G4D9AFNktyrbCP4M2JXRimPQ/2ge9aEmP1r+hQYS4j0rpvwMLN93ls84/meMyss3D7T/AYUgz5y3aP8Ki6w1DIvw/APP0kZG68z+1E4kR+3nwP4I1U2fvifU/Jg0bBHOw0T+zxzm02nikP/PaymfQ2ue/h8iVSwKkw78=",
          "dtype": "f8"
         },
         "yaxis": "y"
        },
        {
         "hovertemplate": "<b>%{hovertext}</b><br><br>Brand=WLmouse<br>แกนคุณลักษณะหลักที่ 1 (PC1)=%{x}<br>แกนคุณลักษณะหลักที่ 2 (PC2)=%{y}<extra></extra>",
         "hovertext": [
          "Sword X",
          "Ying",
          "Beast X Max",
          "Beast Miao",
          "Beast X Mini Pro",
          "Beast X Pro",
          "Strider",
          "Beast X 8K",
          "Beast X Mini",
          "Beast X"
         ],
         "legendgroup": "WLmouse",
         "marker": {
          "color": "#B6E880",
          "symbol": "circle"
         },
         "mode": "markers",
         "name": "WLmouse",
         "showlegend": true,
         "type": "scattergl",
         "x": {
          "bdata": "TYL4WCY12T9YTHVdxxIDwDHxVeNXP/e/zdNYN8yTEMDeGD3sxIAHwGqRksQJ2gDATZLFDj0P+b8oGlHWckwAwJyh+/0t8wbABliLQIVx/L8=",
          "dtype": "f8"
         },
         "xaxis": "x",
         "y": {
          "bdata": "geuYVHqGAECxowZdct3vP5tIVdSGrPc/oRu16bkN27/IlqBak7TlPy3kfzCeqfE/V5z2Zrn98j+Nt/IdZbzuP/2Fkxe8HeE/g7i0TQFC5D8=",
          "dtype": "f8"
         },
         "yaxis": "y"
        },
        {
         "hovertemplate": "<b>%{hovertext}</b><br><br>Brand=Nintendo<br>แกนคุณลักษณะหลักที่ 1 (PC1)=%{x}<br>แกนคุณลักษณะหลักที่ 2 (PC2)=%{y}<extra></extra>",
         "hovertext": [
          "Joy-Con 2"
         ],
         "legendgroup": "Nintendo",
         "marker": {
          "color": "#FF97FF",
          "symbol": "circle"
         },
         "mode": "markers",
         "name": "Nintendo",
         "showlegend": true,
         "type": "scattergl",
         "x": {
          "bdata": "pX9WR1tj878=",
          "dtype": "f8"
         },
         "xaxis": "x",
         "y": {
          "bdata": "3MXGfPGEJsA=",
          "dtype": "f8"
         },
         "yaxis": "y"
        },
        {
         "hovertemplate": "<b>%{hovertext}</b><br><br>Brand=Angry<br>แกนคุณลักษณะหลักที่ 1 (PC1)=%{x}<br>แกนคุณลักษณะหลักที่ 2 (PC2)=%{y}<extra></extra>",
         "hovertext": [
          "Miao AM Infinity Mouse"
         ],
         "legendgroup": "Angry",
         "marker": {
          "color": "#FECB52",
          "symbol": "circle"
         },
         "mode": "markers",
         "name": "Angry",
         "showlegend": true,
         "type": "scattergl",
         "x": {
          "bdata": "7aP1f95F+b8=",
          "dtype": "f8"
         },
         "xaxis": "x",
         "y": {
          "bdata": "5Z5baXHn7z8=",
          "dtype": "f8"
         },
         "yaxis": "y"
        },
        {
         "hovertemplate": "<b>%{hovertext}</b><br><br>Brand=Corsair<br>แกนคุณลักษณะหลักที่ 1 (PC1)=%{x}<br>แกนคุณลักษณะหลักที่ 2 (PC2)=%{y}<extra></extra>",
         "hovertext": [
          "Scimitar Elite Wireless SE",
          "M55 Wireless",
          "M55 Wired",
          "Dark Core RGB Pro",
          "M55 RGB Pro",
          "Glaive Pro",
          "Glaive RGB",
          "Nightsword RGB",
          "Scimitar Elite Wireless",
          "Scimitar RGB Elite",
          "Scimitar Pro RGB",
          "Scimitar RGB",
          "Sabre RGB Pro Wireless",
          "Sabre RGB Pro",
          "Sabre Pro",
          "Katar Elite Wireless",
          "Katar Pro Wireless",
          "Katar Pro XT",
          "Ironclaw RGB Wireless",
          "Ironclaw RGB",
          "Harpoon RGB Wireless",
          "Harpoon RGB Pro",
          "Harpoon RGB",
          "M75 Air Wireless",
          "M75 Wireless",
          "M75",
          "Nightsabre Wireless",
          "Darkstar Wireless",
          "M65 RGB Ultra Wireless",
          "M65 RGB Ultra",
          "M65 RGB Pro",
          "M65 RGB Elite",
          "Dark Core RGB Pro SE"
         ],
         "legendgroup": "Corsair",
         "marker": {
          "color": "#636efa",
          "symbol": "circle"
         },
         "mode": "markers",
         "name": "Corsair",
         "showlegend": true,
         "type": "scattergl",
         "x": {
          "bdata": "X4VJValBEUD5+LjdpM7lP4fWiYXlX7I/PZMg7t+AEUASmbJKN7DjP8DQLORw4AlAL8NcIDhlC0B7LUFD67wSQDBnOScS8RBAAeYOSSsDE0ACe2DCpmUVQKM2gTlyrBVACD3GsoDC/z+aZgTpm7n3P6O3anojIvg/vab3y0YG6r/Lw0lP6R/BP33BOQXPa+K/QnvGHfj1EkDjqvrMQpYQQMFL31Kq5wFA3rws2nhx+z+jIvGkPRr9PyRX/4r+hca/Jj2dsJum3z9F13LvPJ/Tv+9CF5SQq9w/QNojzaR7CEBnFDxMOAoGQG2lwNTiiABAf1zPFQ1kCUCofp/eIh0HQD2TIO7fgBFA",
          "dtype": "f8"
         },
         "xaxis": "x",
         "y": {
          "bdata": "1FZ+dTFY8j8IEvkNqp4WwKAdIFa+ShTA8iiSnymGwj9HQ89vlEblv1t6SGkLPaE/zHwz2mXSyL/++YoQUTbsPxg06re61/E/hscZpEY02z/UepfOkTzMvwTfZW33S9e/NB5w/gFF8D+hag95RPv5P/smc9TkPvc/sQwF46Ji4b/+5cqEJkf+v7YtlVBmPe6/JtKNQolJ4T8zwtYa64vxP3nSLjG2lfS/2XTvmjbX4L8KDoN/ebnnv7w0Jo9ApuM/oPgJoPkZub+69qI1Q/zqP4G9g0m49dy/W8cPAaGA8D8f9Iqu/ymuvzqYyiJM5+c/QH1iCHUW578yWJpszrfWv/Iokp8phsI/",
          "dtype": "f8"
         },
         "yaxis": "y"
        },
        {
         "hovertemplate": "<b>%{hovertext}</b><br><br>Brand=ThundeRobot<br>แกนคุณลักษณะหลักที่ 1 (PC1)=%{x}<br>แกนคุณลักษณะหลักที่ 2 (PC2)=%{y}<extra></extra>",
         "hovertext": [
          "ML8",
          "ML4",
          "ML6 Pro",
          "ML9 Mini",
          "ML9S",
          "ML901",
          "ML602",
          "ML903"
         ],
         "legendgroup": "ThundeRobot",
         "marker": {
          "color": "#EF553B",
          "symbol": "circle"
         },
         "mode": "markers",
         "name": "ThundeRobot",
         "showlegend": true,
         "type": "scattergl",
         "x": {
          "bdata": "kFs+Jzrt978OfNupdWfyv0UWY5I2a/A/qI28zMsB/b9pGHhKSUjtv/iWnCOcusy/49OQRgrd2b9VRGbBuNHlvw==",
          "dtype": "f8"
         },
         "xaxis": "x",
         "y": {
          "bdata": "CrWxaTtJ1z8SNPGoQDvwvydEvXJpkfA/ER9Oo7jo1j+ezB5wIDjmPyLRy0QOfMq/rCxWZ78yzT8rIMM7NhDVPw==",
          "dtype": "f8"
         },
         "yaxis": "y"
        },
        {
         "hovertemplate": "<b>%{hovertext}</b><br><br>Brand=Chilkey<br>แกนคุณลักษณะหลักที่ 1 (PC1)=%{x}<br>แกนคุณลักษณะหลักที่ 2 (PC2)=%{y}<extra></extra>",
         "hovertext": [
          "Glacier LW 8K M"
         ],
         "legendgroup": "Chilkey",
         "marker": {
          "color": "#00cc96",
          "symbol": "circle"
         },
         "mode": "markers",
         "name": "Chilkey",
         "showlegend": true,
         "type": "scattergl",
         "x": {
          "bdata": "XCbYb8gv/b8=",
          "dtype": "f8"
         },
         "xaxis": "x",
         "y": {
          "bdata": "XOojyNi16j8=",
          "dtype": "f8"
         },
         "yaxis": "y"
        },
        {
         "hovertemplate": "<b>%{hovertext}</b><br><br>Brand=UNIUS<br>แกนคุณลักษณะหลักที่ 1 (PC1)=%{x}<br>แกนคุณลักษณะหลักที่ 2 (PC2)=%{y}<extra></extra>",
         "hovertext": [
          "Black Lotus"
         ],
         "legendgroup": "UNIUS",
         "marker": {
          "color": "#ab63fa",
          "symbol": "circle"
         },
         "mode": "markers",
         "name": "UNIUS",
         "showlegend": true,
         "type": "scattergl",
         "x": {
          "bdata": "T6Jho7dS/r8=",
          "dtype": "f8"
         },
         "xaxis": "x",
         "y": {
          "bdata": "J08b1OSe8z8=",
          "dtype": "f8"
         },
         "yaxis": "y"
        },
        {
         "hovertemplate": "<b>%{hovertext}</b><br><br>Brand=Fantech<br>แกนคุณลักษณะหลักที่ 1 (PC1)=%{x}<br>แกนคุณลักษณะหลักที่ 2 (PC2)=%{y}<extra></extra>",
         "hovertext": [
          "Tanto S",
          "Tanto",
          "Tanto E",
          "Go XD5",
          "Aria E",
          "Aria II Pro",
          "Aria II",
          "Helios II Pro S",
          "Helios XD3V2",
          "Helios II Pro",
          "X11 Daredevil",
          "Helios XD3",
          "Aria XD7"
         ],
         "legendgroup": "Fantech",
         "marker": {
          "color": "#FFA15A",
          "symbol": "circle"
         },
         "mode": "markers",
         "name": "Fantech",
         "showlegend": true,
         "type": "scattergl",
         "x": {
          "bdata": "JvctwR1Y97+p9QUENRPwv8m2NtKOMum/f9WJvFll8T9P1ywhQG7pvxV4YGdBPPq/lnY4qlj38r+y4kdbrvr2v4axqO55pca/agYx703T8r/qgF/SRe4PQHAal8NmAsC/dK5glECW8L8=",
          "dtype": "f8"
         },
         "xaxis": "x",
         "y": {
          "bdata": "MBUda0X23T/Yne+2X9i6v3tppY8/guK/zQbVPtU9Nb+OqAoN2onov6z6CMLus94/7AdAW7rht7/dGJPGnIbkP4ag4nt5sO6/ozOq7HEY1D+EzMnSBC7Ov5A2FnfNEPG/g9u5RNHz0L8=",
          "dtype": "f8"
         },
         "yaxis": "y"
        },
        {
         "hovertemplate": "<b>%{hovertext}</b><br><br>Brand=Orbital<br>แกนคุณลักษณะหลักที่ 1 (PC1)=%{x}<br>แกนคุณลักษณะหลักที่ 2 (PC2)=%{y}<extra></extra>",
         "hovertext": [
          "Pathfinder AAM-222",
          "Pathfinder AAM-000"
         ],
         "legendgroup": "Orbital",
         "marker": {
          "color": "#19d3f3",
          "symbol": "circle"
         },
         "mode": "markers",
         "name": "Orbital",
         "showlegend": true,
         "type": "scattergl",
         "x": {
          "bdata": "WP8keEXJAMBtseXBCGgGwA==",
          "dtype": "f8"
         },
         "xaxis": "x",
         "y": {
          "bdata": "pPIEwU6u2j9I9uddRf26vw==",
          "dtype": "f8"
         },
         "yaxis": "y"
        },
        {
         "hovertemplate": "<b>%{hovertext}</b><br><br>Brand=Metaphyuni<br>แกนคุณลักษณะหลักที่ 1 (PC1)=%{x}<br>แกนคุณลักษณะหลักที่ 2 (PC2)=%{y}<extra></extra>",
         "hovertext": [
          "M6",
          "P2 Pro",
          "P2 Lite",
          "P2",
          "Metapanda P1 Pro Max",
          "Metapanda P1 Pro",
          "Metapanda P1"
         ],
         "legendgroup": "Metaphyuni",
         "marker": {
          "color": "#FF6692",
          "symbol": "circle"
         },
         "mode": "markers",
         "name": "Metaphyuni",
         "showlegend": true,
         "type": "scattergl",
         "x": {
          "bdata": "p0gktvEbAMC2FErPT8v3v9WgrxyNTum/OBMiEmeG8L/lSIBb8ILsP+VIgFvwguw/W0LfO4n67j8=",
          "dtype": "f8"
         },
         "xaxis": "x",
         "y": {
          "bdata": "9U86oqk08z8ZFge9R6LVPxGuljj8lOe/FM2jNysUzr+7AHna98vuP7sAedr3y+4/glneOegF6z8=",
          "dtype": "f8"
         },
         "yaxis": "y"
        },
        {
         "hovertemplate": "<b>%{hovertext}</b><br><br>Brand=EWEADN<br>แกนคุณลักษณะหลักที่ 1 (PC1)=%{x}<br>แกนคุณลักษณะหลักที่ 2 (PC2)=%{y}<extra></extra>",
         "hovertext": [
          "X23 Max",
          "X23 Pro",
          "X23 SE",
          "X23",
          "M9",
          "X21 Pro",
          "X21",
          "L1 Pro",
          "L1",
          "S9 Ultra",
          "S9 Pro",
          "S9"
         ],
         "legendgroup": "EWEADN",
         "marker": {
          "color": "#B6E880",
          "symbol": "circle"
         },
         "mode": "markers",
         "name": "EWEADN",
         "showlegend": true,
         "type": "scattergl",
         "x": {
          "bdata": "LVvlBUEz8L/AMDYEQajov8AwNgRBqOi/wDA2BEGo6L/BTjCHdNj6v4DtnyJYCvk/dNVw+ZMw/D9jXTmykEv+v2NdObKQS/6/CKo3VuyR7r/m7WPo4FHmv8L98j5JXNG/",
          "dtype": "f8"
         },
         "xaxis": "x",
         "y": {
          "bdata": "K9zC/mymqj8TGoM1FcvcvxMagzUVy9y/ExqDNRXL3L9sygKVL87iPxZRb7A/QPY/XKtxP+rs7T8AYm/+ru/qPwBib/6u7+o/vY9ln0LT9z/2mudanPDtP0d16NU3Jdk/",
          "dtype": "f8"
         },
         "yaxis": "y"
        },
        {
         "hovertemplate": "<b>%{hovertext}</b><br><br>Brand=Zaopin<br>แกนคุณลักษณะหลักที่ 1 (PC1)=%{x}<br>แกนคุณลักษณะหลักที่ 2 (PC2)=%{y}<extra></extra>",
         "hovertext": [
          "ZPW Max",
          "ZPW",
          "Z2 Max",
          "Z1 Pro Max",
          "Z2 Mini Max 8K",
          "Z2 Mini 4K",
          "Z2 Mini",
          "Z2",
          "Z1 Pro",
          "Z1"
         ],
         "legendgroup": "Zaopin",
         "marker": {
          "color": "#FF97FF",
          "symbol": "circle"
         },
         "mode": "markers",
         "name": "Zaopin",
         "showlegend": true,
         "type": "scattergl",
         "x": {
          "bdata": "jt32Ewb1wj+xUQ74dM7LPyTPSwUZ7NY/obhFJoinAMD8lhyTU/Tav0iv1cJpqLe/HKQ8Thswuj8qfdkTKfvlPwmMDQukf/6/drrO+C+g878=",
          "dtype": "f8"
         },
         "xaxis": "x",
         "y": {
          "bdata": "TQbV0udV/j/nfU4xfAr8P9eWsuvg/fM/HaLEv6il1j+RJztrlEXuP3Iv4K+yaN4/xWEG7zlizT/bHRrEhuroP5fz/9kZuLA/ENgEauw96L8=",
          "dtype": "f8"
         },
         "yaxis": "y"
        },
        {
         "hovertemplate": "<b>%{hovertext}</b><br><br>Brand=RK<br>แกนคุณลักษณะหลักที่ 1 (PC1)=%{x}<br>แกนคุณลักษณะหลักที่ 2 (PC2)=%{y}<extra></extra>",
         "hovertext": [
          "Royal Kludge M3",
          "Royal Kludge M30"
         ],
         "legendgroup": "RK",
         "marker": {
          "color": "#FECB52",
          "symbol": "circle"
         },
         "mode": "markers",
         "name": "RK",
         "showlegend": true,
         "type": "scattergl",
         "x": {
          "bdata": "2b2DpfYZAMBZIfBvBIj1vw==",
          "dtype": "f8"
         },
         "xaxis": "x",
         "y": {
          "bdata": "P94Bl8ni9T+HN6H+qMjQPw==",
          "dtype": "f8"
         },
         "yaxis": "y"
        },
        {
         "hovertemplate": "<b>%{hovertext}</b><br><br>Brand=Xyder<br>แกนคุณลักษณะหลักที่ 1 (PC1)=%{x}<br>แกนคุณลักษณะหลักที่ 2 (PC2)=%{y}<extra></extra>",
         "hovertext": [
          "Amalight 4K"
         ],
         "legendgroup": "Xyder",
         "marker": {
          "color": "#636efa",
          "symbol": "circle"
         },
         "mode": "markers",
         "name": "Xyder",
         "showlegend": true,
         "type": "scattergl",
         "x": {
          "bdata": "dNNQ9uOJ578=",
          "dtype": "f8"
         },
         "xaxis": "x",
         "y": {
          "bdata": "c4WeWB8r6D8=",
          "dtype": "f8"
         },
         "yaxis": "y"
        },
        {
         "hovertemplate": "<b>%{hovertext}</b><br><br>Brand=Imecoo<br>แกนคุณลักษณะหลักที่ 1 (PC1)=%{x}<br>แกนคุณลักษณะหลักที่ 2 (PC2)=%{y}<extra></extra>",
         "hovertext": [
          "P1"
         ],
         "legendgroup": "Imecoo",
         "marker": {
          "color": "#EF553B",
          "symbol": "circle"
         },
         "mode": "markers",
         "name": "Imecoo",
         "showlegend": true,
         "type": "scattergl",
         "x": {
          "bdata": "HiXW5f5c6T8=",
          "dtype": "f8"
         },
         "xaxis": "x",
         "y": {
          "bdata": "af8e/KRpAEA=",
          "dtype": "f8"
         },
         "yaxis": "y"
        },
        {
         "hovertemplate": "<b>%{hovertext}</b><br><br>Brand=Vaidemi<br>แกนคุณลักษณะหลักที่ 1 (PC1)=%{x}<br>แกนคุณลักษณะหลักที่ 2 (PC2)=%{y}<extra></extra>",
         "hovertext": [
          "Nimbus"
         ],
         "legendgroup": "Vaidemi",
         "marker": {
          "color": "#00cc96",
          "symbol": "circle"
         },
         "mode": "markers",
         "name": "Vaidemi",
         "showlegend": true,
         "type": "scattergl",
         "x": {
          "bdata": "fSUYAiB//78=",
          "dtype": "f8"
         },
         "xaxis": "x",
         "y": {
          "bdata": "a7vOw+1b+T8=",
          "dtype": "f8"
         },
         "yaxis": "y"
        },
        {
         "hovertemplate": "<b>%{hovertext}</b><br><br>Brand=Zowie<br>แกนคุณลักษณะหลักที่ 1 (PC1)=%{x}<br>แกนคุณลักษณะหลักที่ 2 (PC2)=%{y}<extra></extra>",
         "hovertext": [
          "EC3-DW",
          "EC2-DW",
          "EC1-DW",
          "ZA13-DW",
          "FK2-DW",
          "U2-DW",
          "S2-DW",
          "S1-B V2",
          "S1-B",
          "S1-C",
          "S2-B V2",
          "S2-B",
          "ZA13-B",
          "ZA12-B",
          "ZA12-C",
          "ZA11-B",
          "ZA11-C",
          "FK2-B V2",
          "FK2-B",
          "FK1-B V2",
          "FK1-B",
          "FK1+-B V2",
          "FK1+-B",
          "EC2-B V2",
          "EC2-B",
          "EC1-B V2",
          "EC1-B",
          "MiCO",
          "U2",
          "AM",
          "EC3-CW",
          "EC2-CW",
          "EC1-CW",
          "S2-C",
          "ZA13-C",
          "FK2-C",
          "FK1-C",
          "FK1+-C",
          "EC3-C",
          "EC2-C",
          "EC1-C"
         ],
         "legendgroup": "Zowie",
         "marker": {
          "color": "#ab63fa",
          "symbol": "circle"
         },
         "mode": "markers",
         "name": "Zowie",
         "showlegend": true,
         "type": "scattergl",
         "x": {
          "bdata": "nD55C38V8T9URen17hb0Pzu8IhPdrP4/dvk7eZ1l2b8kkXbtG+jdv23jgP/5QuG/Tu6mjglS4b/Wymc9ugvjP9bKZz26C+M/Jck8xQ/bzj999bCGjauxP331sIaNq7E/qtiPInqvoz9nMoVACQveP0uCU5e9DtI/ZWJdwWDB7j+PSeyef3fnP+Zn5z3/3Lc/5mfnPf/ctz+absh7+w/hP5puyHv7D+E/nWhOv8Z+7T+daE6/xn7tP+lQEBjANAFA6VAQGMA0AUA1JMj+73oGQDUkyP7vegZAEiho1DMK/r8CMr260g/Wv828U/0e99c/3qsQ3YSj+j+7Z+WXQI79PyqHKckgxwNAadhxlrvXz78+ye5p+N7Jv8Fp8QF5SMO/8+B+yxzw0j+mJFjvudfmPzRW8OuyXfg/oKQ137YP/D+RgJqqP/UDQA==",
          "dtype": "f8"
         },
         "xaxis": "x",
         "y": {
          "bdata": "yBfTydnexj9cFEFIXujWP0wPXin8p+g/+jgsaXnc4r+0jFy1SKLmv7otEeFLSuC/l+FS/BZG6b+rb/KWtCfzv6tv8pa0J/O/iRD/NIv06b/vm7LnDh/4v++bsucOH/i/6CDPDRWn8b9aWB4f4a7qv81ujSC0N+S/5FoBdaCQ4b+TSI70PPPTv2MfayfC4PW/Yx9rJ8Lg9b+TVmgoHN7xv5NWaCgc3vG/1p4EGJHk6r/WngQYkeTqv+uZPk0VguS/65k+TRWC5L+gCcXgvHHIv6AJxeC8cci/rkIVaXTmCMACrT+9Fibov9wtjm26/fe/mRECuRY74L8Qtv3layDUv3joJzon5cM/YW9MCQdY8r9CuFpFRLjqv3YOUujxdPG/ggohFXJn67/YG3eRF9bjv8bGhbINhNa/9M82Sexly7/8gn5abfDAPw==",
          "dtype": "f8"
         },
         "yaxis": "y"
        },
        {
         "hovertemplate": "<b>%{hovertext}</b><br><br>Brand=Tecware<br>แกนคุณลักษณะหลักที่ 1 (PC1)=%{x}<br>แกนคุณลักษณะหลักที่ 2 (PC2)=%{y}<extra></extra>",
         "hovertext": [
          "EX1",
          "Pulse Elite"
         ],
         "legendgroup": "Tecware",
         "marker": {
          "color": "#FFA15A",
          "symbol": "circle"
         },
         "mode": "markers",
         "name": "Tecware",
         "showlegend": true,
         "type": "scattergl",
         "x": {
          "bdata": "3hxGEpd48L/8me0wVu/Jvw==",
          "dtype": "f8"
         },
         "xaxis": "x",
         "y": {
          "bdata": "Lj0aKV8Zwb+KtnxlZxbPvw==",
          "dtype": "f8"
         },
         "yaxis": "y"
        },
        {
         "hovertemplate": "<b>%{hovertext}</b><br><br>Brand=SOLAKAKA<br>แกนคุณลักษณะหลักที่ 1 (PC1)=%{x}<br>แกนคุณลักษณะหลักที่ 2 (PC2)=%{y}<extra></extra>",
         "hovertext": [
          "SM809 Pro",
          "SM802 Pro",
          "SM805",
          "SM850",
          "SM809",
          "SM802"
         ],
         "legendgroup": "SOLAKAKA",
         "marker": {
          "color": "#19d3f3",
          "symbol": "circle"
         },
         "mode": "markers",
         "name": "SOLAKAKA",
         "showlegend": true,
         "type": "scattergl",
         "x": {
          "bdata": "o7NMmb+tEkCV8YscBmnlvz50hT/U7fE/I6W9bNGD4j9x8ekBEdURQPTX7imKVdu/",
          "dtype": "f8"
         },
         "xaxis": "x",
         "y": {
          "bdata": "oIa6wQ9u/z9k3pH3TyaxvwJxzS4EV+A/hbxcI6Nn5D+HrryWSUwBQJn2n2m7NOK/",
          "dtype": "f8"
         },
         "yaxis": "y"
        },
        {
         "hovertemplate": "<b>%{hovertext}</b><br><br>Brand=Mighty<br>แกนคุณลักษณะหลักที่ 1 (PC1)=%{x}<br>แกนคุณลักษณะหลักที่ 2 (PC2)=%{y}<extra></extra>",
         "hovertext": [
          "Mouse MM8K"
         ],
         "legendgroup": "Mighty",
         "marker": {
          "color": "#FF6692",
          "symbol": "circle"
         },
         "mode": "markers",
         "name": "Mighty",
         "showlegend": true,
         "type": "scattergl",
         "x": {
          "bdata": "yUbK0dNCGMA=",
          "dtype": "f8"
         },
         "xaxis": "x",
         "y": {
          "bdata": "DmdcKjBZAMA=",
          "dtype": "f8"
         },
         "yaxis": "y"
        },
        {
         "hovertemplate": "<b>%{hovertext}</b><br><br>Brand=Redragon<br>แกนคุณลักษณะหลักที่ 1 (PC1)=%{x}<br>แกนคุณลักษณะหลักที่ 2 (PC2)=%{y}<extra></extra>",
         "hovertext": [
          "M813 Pro",
          "M813 Wired",
          "M995 Pro",
          "M995",
          "M991",
          "M810 Pro",
          "M693",
          "M656 Gainer",
          "M913 Impact Elite",
          "M908 Impact",
          "M996",
          "M724",
          "M916 Pro 4K",
          "M916 Pro",
          "G49 Pro",
          "M711 Cobra"
         ],
         "legendgroup": "Redragon",
         "marker": {
          "color": "#B6E880",
          "symbol": "circle"
         },
         "mode": "markers",
         "name": "Redragon",
         "showlegend": true,
         "type": "scattergl",
         "x": {
          "bdata": "1NUiYQPZA0D5f8a0/DoFQKix4TovLue/qLHhOi8u57+0q1EDUUUMQAkNZQFlpARAY+D4nVEgAED05IJ41k4QQPDGdzchOBlAUEaFJMyJGEBqY3kOs9T7v8YDYTD7zPC/7YIMmSXx9L+3XftHndPxv+2CDJkl8fS/3/unEWwVAUA=",
          "dtype": "f8"
         },
         "xaxis": "x",
         "y": {
          "bdata": "GulsoXc98z83KDkb1QHrP7rqzZUInuE/uurNlQie4T823TXUjViNv+ck9Ol4S+M/nhg29S/N1r8AIHDMvQLyv5d257rFgPQ/hMiVSbfo9T+lJm3fmDHwP+M7ULIm16i/DT689iJn3z/4fr58Gl/PPw0+vPYiZ98/u56w+RM55L8=",
          "dtype": "f8"
         },
         "yaxis": "y"
        },
        {
         "hovertemplate": "<b>%{hovertext}</b><br><br>Brand=JAMESDONKEY<br>แกนคุณลักษณะหลักที่ 1 (PC1)=%{x}<br>แกนคุณลักษณะหลักที่ 2 (PC2)=%{y}<extra></extra>",
         "hovertext": [
          "RSR5s",
          "RSR5"
         ],
         "legendgroup": "JAMESDONKEY",
         "marker": {
          "color": "#FF97FF",
          "symbol": "circle"
         },
         "mode": "markers",
         "name": "JAMESDONKEY",
         "showlegend": true,
         "type": "scattergl",
         "x": {
          "bdata": "R4pz99MX+r/LePbTATP7vw==",
          "dtype": "f8"
         },
         "xaxis": "x",
         "y": {
          "bdata": "GMSib4HT3D/Yct76lwDjPw==",
          "dtype": "f8"
         },
         "yaxis": "y"
        },
        {
         "hovertemplate": "<b>%{hovertext}</b><br><br>Brand=ROCCAT<br>แกนคุณลักษณะหลักที่ 1 (PC1)=%{x}<br>แกนคุณลักษณะหลักที่ 2 (PC2)=%{y}<extra></extra>",
         "hovertext": [
          "LUA",
          "Kone XP Air",
          "Pure SEL",
          "Pure Air",
          "Tyon",
          "Kain 120 AIMO",
          "Kone Pure Ultra",
          "Kone AIMO Remastered",
          "Kain 100 AIMO",
          "Kain 200 AIMO",
          "Kone XP",
          "Kone Pro",
          "Kone Pro Air",
          "Burst Core",
          "Burst Pro",
          "Burst Pro Air"
         ],
         "legendgroup": "ROCCAT",
         "marker": {
          "color": "#FECB52",
          "symbol": "circle"
         },
         "mode": "markers",
         "name": "ROCCAT",
         "showlegend": true,
         "type": "scattergl",
         "x": {
          "bdata": "SuqtDY1i8L+FDXLfvUoKQJrqS8jcUPA/sUPjbml36j8Dvmq9RuAUQMxPdDaW6+Q/ST8/DR9n9D8Lzakpe3oTQDtOXzGCEek/CPM+GmVg8D/B1PKPKecIQJ7/sb4tevw/JP7AHr7C/z9ywHCG/MHEvxNdDjnWrNK/GVrkC74In78=",
          "dtype": "f8"
         },
         "xaxis": "x",
         "y": {
          "bdata": "GH3TAnlyAMB8w5VayFngP6MPwfvfTNc/i/WjKeEm7D853yz+RC7gP0sO10tjjd+/inwEkLrrwj+az66Q2UPhP6YGpEOFYei/og6pff5V7L9BnK+YZETNP+TwJTvIsuk/eSxMJ5zZ4j/4E7Xy2ULpv3qU/FQGqOC/KTsN9Ets6L8=",
          "dtype": "f8"
         },
         "yaxis": "y"
        },
        {
         "hovertemplate": "<b>%{hovertext}</b><br><br>Brand=Realforce<br>แกนคุณลักษณะหลักที่ 1 (PC1)=%{x}<br>แกนคุณลักษณะหลักที่ 2 (PC2)=%{y}<extra></extra>",
         "hovertext": [
          "RM1"
         ],
         "legendgroup": "Realforce",
         "marker": {
          "color": "#636efa",
          "symbol": "circle"
         },
         "mode": "markers",
         "name": "Realforce",
         "showlegend": true,
         "type": "scattergl",
         "x": {
          "bdata": "cOHIzrBI/z8=",
          "dtype": "f8"
         },
         "xaxis": "x",
         "y": {
          "bdata": "+MbWvFDCtL8=",
          "dtype": "f8"
         },
         "yaxis": "y"
        },
        {
         "hovertemplate": "<b>%{hovertext}</b><br><br>Brand=Lenovo<br>แกนคุณลักษณะหลักที่ 1 (PC1)=%{x}<br>แกนคุณลักษณะหลักที่ 2 (PC2)=%{y}<extra></extra>",
         "hovertext": [
          "Yoga Pro",
          "Legion M410",
          "Legion M600s",
          "Legion M300s"
         ],
         "legendgroup": "Lenovo",
         "marker": {
          "color": "#EF553B",
          "symbol": "circle"
         },
         "mode": "markers",
         "name": "Lenovo",
         "showlegend": true,
         "type": "scattergl",
         "x": {
          "bdata": "irPeb1LaEUD27SyPj8nlPxd1ufYYje6/4J2D+SIY8b8=",
          "dtype": "f8"
         },
         "xaxis": "x",
         "y": {
          "bdata": "726H7MYnEsBBOYpwa13wv06bTvwcMO6/dGvvmmlU778=",
          "dtype": "f8"
         },
         "yaxis": "y"
        },
        {
         "hovertemplate": "<b>%{hovertext}</b><br><br>Brand=HaunterWell<br>แกนคุณลักษณะหลักที่ 1 (PC1)=%{x}<br>แกนคุณลักษณะหลักที่ 2 (PC2)=%{y}<extra></extra>",
         "hovertext": [
          "HZS",
          "HMF",
          "HFC",
          "HZ1"
         ],
         "legendgroup": "HaunterWell",
         "marker": {
          "color": "#00cc96",
          "symbol": "circle"
         },
         "mode": "markers",
         "name": "HaunterWell",
         "showlegend": true,
         "type": "scattergl",
         "x": {
          "bdata": "2z02GqKMEsDMSRc2+QMTwPOonZpKuA/Ary3gclcYB8A=",
          "dtype": "f8"
         },
         "xaxis": "x",
         "y": {
          "bdata": "GWww5gaa6b+MGJdfKSDwv9i2liNooOG/2C7Bpbbu2D8=",
          "dtype": "f8"
         },
         "yaxis": "y"
        },
        {
         "hovertemplate": "<b>%{hovertext}</b><br><br>Brand=Akko<br>แกนคุณลักษณะหลักที่ 1 (PC1)=%{x}<br>แกนคุณลักษณะหลักที่ 2 (PC2)=%{y}<extra></extra>",
         "hovertext": [
          "Pulse 01",
          "AG ONE 8K",
          "AG One NearLink",
          "AG325W",
          "AG325C",
          "AG325"
         ],
         "legendgroup": "Akko",
         "marker": {
          "color": "#ab63fa",
          "symbol": "circle"
         },
         "mode": "markers",
         "name": "Akko",
         "showlegend": true,
         "type": "scattergl",
         "x": {
          "bdata": "+WQeovya5r/+DUYcHA/tv8/ZXB+tr+e/OaHE2D2Y8T+fSTa7LLXCPxtO4Fr65sg/",
          "dtype": "f8"
         },
         "xaxis": "x",
         "y": {
          "bdata": "i9C3v3pV4D/Uww1MpUzjPxy88ov+p9o/RVPifCKqFcB8hnFHYGfrvwrfLcPDne6/",
          "dtype": "f8"
         },
         "yaxis": "y"
        },
        {
         "hovertemplate": "<b>%{hovertext}</b><br><br>Brand=Pwnage<br>แกนคุณลักษณะหลักที่ 1 (PC1)=%{x}<br>แกนคุณลักษณะหลักที่ 2 (PC2)=%{y}<extra></extra>",
         "hovertext": [
          "StormBreaker V3",
          "StormBreaker V2",
          "Trinity CF",
          "StormBreaker Max CF",
          "StormBreaker",
          "Ergo Wireless",
          "Ergo",
          "Ambi Wireless",
          "Symm 2",
          "Symm 2 Wireless",
          "Symm 1",
          "Symm 1 Wireless"
         ],
         "legendgroup": "Pwnage",
         "marker": {
          "color": "#FFA15A",
          "symbol": "circle"
         },
         "mode": "markers",
         "name": "Pwnage",
         "showlegend": true,
         "type": "scattergl",
         "x": {
          "bdata": "aJfZC4ADqz/dkKHjg+PPP/NlD2CUJQLAqb2+rng96T/IHBbRoUfgP0OHHG+js/U/Of2eD4Po8z/ljiBuu37rv6apcVO/WvC/fPU4WSDF6L/IT2Y1IIrsv2+mCGi/+ea/",
          "dtype": "f8"
         },
         "xaxis": "x",
         "y": {
          "bdata": "SoaqA19nAEDOG7Q1iKn6P/s2Y46GYvE/+DIfsvyCBEBJHJVNVmz1P/FUoea+Mtg/PLXZYiqk3D8udRlhMSbvv3sZlT/TH+S/KKZXCo/c67+43oFAHSDqv+DponavIO+/",
          "dtype": "f8"
         },
         "yaxis": "y"
        },
        {
         "hovertemplate": "<b>%{hovertext}</b><br><br>Brand=Teevolution<br>แกนคุณลักษณะหลักที่ 1 (PC1)=%{x}<br>แกนคุณลักษณะหลักที่ 2 (PC2)=%{y}<extra></extra>",
         "hovertext": [
          "Terra",
          "Aria XD7",
          "Helios II Pro"
         ],
         "legendgroup": "Teevolution",
         "marker": {
          "color": "#19d3f3",
          "symbol": "circle"
         },
         "mode": "markers",
         "name": "Teevolution",
         "showlegend": true,
         "type": "scattergl",
         "x": {
          "bdata": "5O9qwmCl5j90rmCUQJbwv2oGMe9N0/K/",
          "dtype": "f8"
         },
         "xaxis": "x",
         "y": {
          "bdata": "ASz2HTO0AUCD27lE0fPQv6MzquxxGNQ/",
          "dtype": "f8"
         },
         "yaxis": "y"
        },
        {
         "hovertemplate": "<b>%{hovertext}</b><br><br>Brand=GravaStar<br>แกนคุณลักษณะหลักที่ 1 (PC1)=%{x}<br>แกนคุณลักษณะหลักที่ 2 (PC2)=%{y}<extra></extra>",
         "hovertext": [
          "Mercury X Pro",
          "Mercury X",
          "Mercury M2",
          "Mercury M1 Pro"
         ],
         "legendgroup": "GravaStar",
         "marker": {
          "color": "#FF6692",
          "symbol": "circle"
         },
         "mode": "markers",
         "name": "GravaStar",
         "showlegend": true,
         "type": "scattergl",
         "x": {
          "bdata": "C+/+18eO9b8Y2601vpPsvxVDmoKn6KK/OQx48tC+kr8=",
          "dtype": "f8"
         },
         "xaxis": "x",
         "y": {
          "bdata": "p4CMs6369T/9gqy6LJ/pPwaj0GE7u8q/4KSac6k3yb8=",
          "dtype": "f8"
         },
         "yaxis": "y"
        },
        {
         "hovertemplate": "<b>%{hovertext}</b><br><br>Brand=NZXT<br>แกนคุณลักษณะหลักที่ 1 (PC1)=%{x}<br>แกนคุณลักษณะหลักที่ 2 (PC2)=%{y}<extra></extra>",
         "hovertext": [
          "Lift Elite Wireless",
          "Lift 2 Ergo",
          "Lift 2 Symm",
          "Lift"
         ],
         "legendgroup": "NZXT",
         "marker": {
          "color": "#B6E880",
          "symbol": "circle"
         },
         "mode": "markers",
         "name": "NZXT",
         "showlegend": true,
         "type": "scattergl",
         "x": {
          "bdata": "ftS5F8jG+r/yhG1VhNboP1975IgNDey/bcIv/ekMo78=",
          "dtype": "f8"
         },
         "xaxis": "x",
         "y": {
          "bdata": "G6ceMUS71z/dhAxyVWD6PyzFv6TQse8/0t4NVd0Ixr8=",
          "dtype": "f8"
         },
         "yaxis": "y"
        },
        {
         "hovertemplate": "<b>%{hovertext}</b><br><br>Brand=strayfe<br>แกนคุณลักษณะหลักที่ 1 (PC1)=%{x}<br>แกนคุณลักษณะหลักที่ 2 (PC2)=%{y}<extra></extra>",
         "hovertext": [
          "M55 Pro 8k"
         ],
         "legendgroup": "strayfe",
         "marker": {
          "color": "#FF97FF",
          "symbol": "circle"
         },
         "mode": "markers",
         "name": "strayfe",
         "showlegend": true,
         "type": "scattergl",
         "x": {
          "bdata": "4jZpYkgO978=",
          "dtype": "f8"
         },
         "xaxis": "x",
         "y": {
          "bdata": "R0+nGYkV5z8=",
          "dtype": "f8"
         },
         "yaxis": "y"
        },
        {
         "hovertemplate": "<b>%{hovertext}</b><br><br>Brand=Waizowl<br>แกนคุณลักษณะหลักที่ 1 (PC1)=%{x}<br>แกนคุณลักษณะหลักที่ 2 (PC2)=%{y}<extra></extra>",
         "hovertext": [
          "OGM Cloud XS",
          "OGM One",
          "OGM Cloud V2",
          "OGM Pro V2",
          "OGM Cloud",
          "OGM Pro"
         ],
         "legendgroup": "Waizowl",
         "marker": {
          "color": "#FECB52",
          "symbol": "circle"
         },
         "mode": "markers",
         "name": "Waizowl",
         "showlegend": true,
         "type": "scattergl",
         "x": {
          "bdata": "Ox+N/hgxAcDx4H1nnwfkP+eGO4V8EPC/Dwem743T7781eEN53Jvlv/CyGK/px7g/",
          "dtype": "f8"
         },
         "xaxis": "x",
         "y": {
          "bdata": "9ALaeZ4p5j+clFNq/ODpvws92xUFHfM/MAMn5fgE9D9CamsYzyjnPz67jfxiNMA/",
          "dtype": "f8"
         },
         "yaxis": "y"
        },
        {
         "hovertemplate": "<b>%{hovertext}</b><br><br>Brand=cOoLm0Dz<br>แกนคุณลักษณะหลักที่ 1 (PC1)=%{x}<br>แกนคุณลักษณะหลักที่ 2 (PC2)=%{y}<extra></extra>",
         "hovertext": [
          "OPt1p",
          "finalt1p"
         ],
         "legendgroup": "cOoLm0Dz",
         "marker": {
          "color": "#636efa",
          "symbol": "circle"
         },
         "mode": "markers",
         "name": "cOoLm0Dz",
         "showlegend": true,
         "type": "scattergl",
         "x": {
          "bdata": "Embi0JSeC8CDsuYxWjwNwA==",
          "dtype": "f8"
         },
         "xaxis": "x",
         "y": {
          "bdata": "evBYr0EztT9ZH5eyLmzKPw==",
          "dtype": "f8"
         },
         "yaxis": "y"
        },
        {
         "hovertemplate": "<b>%{hovertext}</b><br><br>Brand=IPI<br>แกนคุณลักษณะหลักที่ 1 (PC1)=%{x}<br>แกนคุณลักษณะหลักที่ 2 (PC2)=%{y}<extra></extra>",
         "hovertext": [
          "Float"
         ],
         "legendgroup": "IPI",
         "marker": {
          "color": "#EF553B",
          "symbol": "circle"
         },
         "mode": "markers",
         "name": "IPI",
         "showlegend": true,
         "type": "scattergl",
         "x": {
          "bdata": "E1KFpnUXAcA=",
          "dtype": "f8"
         },
         "xaxis": "x",
         "y": {
          "bdata": "RAqFVYk85z8=",
          "dtype": "f8"
         },
         "yaxis": "y"
        },
        {
         "hovertemplate": "<b>%{hovertext}</b><br><br>Brand=PHYLINA<br>แกนคุณลักษณะหลักที่ 1 (PC1)=%{x}<br>แกนคุณลักษณะหลักที่ 2 (PC2)=%{y}<extra></extra>",
         "hovertext": [
          "S480",
          "S450 4K",
          "S450"
         ],
         "legendgroup": "PHYLINA",
         "marker": {
          "color": "#00cc96",
          "symbol": "circle"
         },
         "mode": "markers",
         "name": "PHYLINA",
         "showlegend": true,
         "type": "scattergl",
         "x": {
          "bdata": "EyEOwjH0AMDrKK9oc+nzv7QDnhfry/C/",
          "dtype": "f8"
         },
         "xaxis": "x",
         "y": {
          "bdata": "Z4KWI0fe8z9DVmacOvbaP2OvEshJfcY/",
          "dtype": "f8"
         },
         "yaxis": "y"
        },
        {
         "hovertemplate": "<b>%{hovertext}</b><br><br>Brand=Amazon<br>แกนคุณลักษณะหลักที่ 1 (PC1)=%{x}<br>แกนคุณลักษณะหลักที่ 2 (PC2)=%{y}<extra></extra>",
         "hovertext": [
          "Basics Mouse"
         ],
         "legendgroup": "Amazon",
         "marker": {
          "color": "#ab63fa",
          "symbol": "circle"
         },
         "mode": "markers",
         "name": "Amazon",
         "showlegend": true,
         "type": "scattergl",
         "x": {
          "bdata": "ju0uv2iB5b8=",
          "dtype": "f8"
         },
         "xaxis": "x",
         "y": {
          "bdata": "r01EdLEvGsA=",
          "dtype": "f8"
         },
         "yaxis": "y"
        },
        {
         "hovertemplate": "<b>%{hovertext}</b><br><br>Brand=TMKB<br>แกนคุณลักษณะหลักที่ 1 (PC1)=%{x}<br>แกนคุณลักษณะหลักที่ 2 (PC2)=%{y}<extra></extra>",
         "hovertext": [
          "Falcon M1SE"
         ],
         "legendgroup": "TMKB",
         "marker": {
          "color": "#FFA15A",
          "symbol": "circle"
         },
         "mode": "markers",
         "name": "TMKB",
         "showlegend": true,
         "type": "scattergl",
         "x": {
          "bdata": "tJgbrZBHkD8=",
          "dtype": "f8"
         },
         "xaxis": "x",
         "y": {
          "bdata": "62www/DW4r8=",
          "dtype": "f8"
         },
         "yaxis": "y"
        },
        {
         "hovertemplate": "<b>%{hovertext}</b><br><br>Brand=Madlions<br>แกนคุณลักษณะหลักที่ 1 (PC1)=%{x}<br>แกนคุณลักษณะหลักที่ 2 (PC2)=%{y}<extra></extra>",
         "hovertext": [
          "Mad G Max",
          "Mad G"
         ],
         "legendgroup": "Madlions",
         "marker": {
          "color": "#19d3f3",
          "symbol": "circle"
         },
         "mode": "markers",
         "name": "Madlions",
         "showlegend": true,
         "type": "scattergl",
         "x": {
          "bdata": "U/KHDQGe8r8cq9G4rHjqvw==",
          "dtype": "f8"
         },
         "xaxis": "x",
         "y": {
          "bdata": "1Tr5kmiG8z8ucUibs9PoPw==",
          "dtype": "f8"
         },
         "yaxis": "y"
        },
        {
         "hovertemplate": "<b>%{hovertext}</b><br><br>Brand=Mountain<br>แกนคุณลักษณะหลักที่ 1 (PC1)=%{x}<br>แกนคุณลักษณะหลักที่ 2 (PC2)=%{y}<extra></extra>",
         "hovertext": [
          "Makalu Max",
          "Makalu 67"
         ],
         "legendgroup": "Mountain",
         "marker": {
          "color": "#FF6692",
          "symbol": "circle"
         },
         "mode": "markers",
         "name": "Mountain",
         "showlegend": true,
         "type": "scattergl",
         "x": {
          "bdata": "mabh1WOKCECfRTEN0ev+Pw==",
          "dtype": "f8"
         },
         "xaxis": "x",
         "y": {
          "bdata": "yvYoiOZxsj8rGrK9QonuPw==",
          "dtype": "f8"
         },
         "yaxis": "y"
        },
        {
         "hovertemplate": "<b>%{hovertext}</b><br><br>Brand=Edifier<br>แกนคุณลักษณะหลักที่ 1 (PC1)=%{x}<br>แกนคุณลักษณะหลักที่ 2 (PC2)=%{y}<extra></extra>",
         "hovertext": [
          "Hecate G5M Pro",
          "Hecate G5M",
          "Hecate G3M Pro"
         ],
         "legendgroup": "Edifier",
         "marker": {
          "color": "#B6E880",
          "symbol": "circle"
         },
         "mode": "markers",
         "name": "Edifier",
         "showlegend": true,
         "type": "scattergl",
         "x": {
          "bdata": "WSvIesCl5b8I2CZkd/Hgv5QZ25ItgPC/",
          "dtype": "f8"
         },
         "xaxis": "x",
         "y": {
          "bdata": "UAGgUF7o1j8v1qiqLh/FP+TCNptUzNW/",
          "dtype": "f8"
         },
         "yaxis": "y"
        },
        {
         "hovertemplate": "<b>%{hovertext}</b><br><br>Brand=EVGA<br>แกนคุณลักษณะหลักที่ 1 (PC1)=%{x}<br>แกนคุณลักษณะหลักที่ 2 (PC2)=%{y}<extra></extra>",
         "hovertext": [
          "X20",
          "X17",
          "X15",
          "X12"
         ],
         "legendgroup": "EVGA",
         "marker": {
          "color": "#FF97FF",
          "symbol": "circle"
         },
         "mode": "markers",
         "name": "EVGA",
         "showlegend": true,
         "type": "scattergl",
         "x": {
          "bdata": "MzCuGKKhC0DpHq4/62kEQLfxD0YdbA1A2mn+kbwApz8=",
          "dtype": "f8"
         },
         "xaxis": "x",
         "y": {
          "bdata": "DCkH/vHd07+8o4poufzmP743iDKJOvE/nUCxrbEf3T8=",
          "dtype": "f8"
         },
         "yaxis": "y"
        },
        {
         "hovertemplate": "<b>%{hovertext}</b><br><br>Brand=8BitDo<br>แกนคุณลักษณะหลักที่ 1 (PC1)=%{x}<br>แกนคุณลักษณะหลักที่ 2 (PC2)=%{y}<extra></extra>",
         "hovertext": [
          "Retro R8"
         ],
         "legendgroup": "8BitDo",
         "marker": {
          "color": "#FECB52",
          "symbol": "circle"
         },
         "mode": "markers",
         "name": "8BitDo",
         "showlegend": true,
         "type": "scattergl",
         "x": {
          "bdata": "6CjjEWyH9r8=",
          "dtype": "f8"
         },
         "xaxis": "x",
         "y": {
          "bdata": "2TKqEus53L8=",
          "dtype": "f8"
         },
         "yaxis": "y"
        },
        {
         "hovertemplate": "<b>%{hovertext}</b><br><br>Brand=ANTGAMER<br>แกนคุณลักษณะหลักที่ 1 (PC1)=%{x}<br>แกนคุณลักษณะหลักที่ 2 (PC2)=%{y}<extra></extra>",
         "hovertext": [
          "AGM535R"
         ],
         "legendgroup": "ANTGAMER",
         "marker": {
          "color": "#636efa",
          "symbol": "circle"
         },
         "mode": "markers",
         "name": "ANTGAMER",
         "showlegend": true,
         "type": "scattergl",
         "x": {
          "bdata": "sz46oa0r778=",
          "dtype": "f8"
         },
         "xaxis": "x",
         "y": {
          "bdata": "DABaZAqm8j8=",
          "dtype": "f8"
         },
         "yaxis": "y"
        },
        {
         "hovertemplate": "<b>%{hovertext}</b><br><br>Brand=RAKK<br>แกนคุณลักษณะหลักที่ 1 (PC1)=%{x}<br>แกนคุณลักษณะหลักที่ 2 (PC2)=%{y}<extra></extra>",
         "hovertext": [
          "Talan Aero",
          "Kaptan Wired",
          "Talan Air",
          "Talan",
          "Tanaw",
          "Kaptan Trimode",
          "MAG-AN",
          "BULUS",
          "Gahum"
         ],
         "legendgroup": "RAKK",
         "marker": {
          "color": "#EF553B",
          "symbol": "circle"
         },
         "mode": "markers",
         "name": "RAKK",
         "showlegend": true,
         "type": "scattergl",
         "x": {
          "bdata": "AAwGjYhD8b/QlUfAbKn8P8AjDT80uMi/4howQBqDzL/Es0VmOCr1v7dErSG5VNE/rsh3C1UN+7/HYw+Gyw66v8+pPl8s7eK/",
          "dtype": "f8"
         },
         "xaxis": "x",
         "y": {
          "bdata": "euy4JLwNhz/+HPsX3rzFP57fP+vp29S/pCHIqXdF7L9OBJdGx2rOvxHH+5l8COE/h9Ca+cxg8L90NtNGG2rzv6uwYSF4MdE/",
          "dtype": "f8"
         },
         "yaxis": "y"
        },
        {
         "hovertemplate": "<b>%{hovertext}</b><br><br>Brand=Scyrox<br>แกนคุณลักษณะหลักที่ 1 (PC1)=%{x}<br>แกนคุณลักษณะหลักที่ 2 (PC2)=%{y}<extra></extra>",
         "hovertext": [
          "V6",
          "V8"
         ],
         "legendgroup": "Scyrox",
         "marker": {
          "color": "#00cc96",
          "symbol": "circle"
         },
         "mode": "markers",
         "name": "Scyrox",
         "showlegend": true,
         "type": "scattergl",
         "x": {
          "bdata": "7+ivD62//78GE+a7iTUBwA==",
          "dtype": "f8"
         },
         "xaxis": "x",
         "y": {
          "bdata": "hsF1x42t8j/bhy044q/yPw==",
          "dtype": "f8"
         },
         "yaxis": "y"
        },
        {
         "hovertemplate": "<b>%{hovertext}</b><br><br>Brand=Ragnok<br>แกนคุณลักษณะหลักที่ 1 (PC1)=%{x}<br>แกนคุณลักษณะหลักที่ 2 (PC2)=%{y}<extra></extra>",
         "hovertext": [
          "ErgoStrike7",
          "2 (FireGrip)"
         ],
         "legendgroup": "Ragnok",
         "marker": {
          "color": "#ab63fa",
          "symbol": "circle"
         },
         "mode": "markers",
         "name": "Ragnok",
         "showlegend": true,
         "type": "scattergl",
         "x": {
          "bdata": "DWQnAf0lMkBdOlUp4FYsQA==",
          "dtype": "f8"
         },
         "xaxis": "x",
         "y": {
          "bdata": "P89AxQFUJkCbeyaQXmkiQA==",
          "dtype": "f8"
         },
         "yaxis": "y"
        },
        {
         "hovertemplate": "<b>%{hovertext}</b><br><br>Brand=Aigo<br>แกนคุณลักษณะหลักที่ 1 (PC1)=%{x}<br>แกนคุณลักษณะหลักที่ 2 (PC2)=%{y}<extra></extra>",
         "hovertext": [
          "GM80 Pro",
          "GM80 Plus",
          "GM80"
         ],
         "legendgroup": "Aigo",
         "marker": {
          "color": "#FFA15A",
          "symbol": "circle"
         },
         "mode": "markers",
         "name": "Aigo",
         "showlegend": true,
         "type": "scattergl",
         "x": {
          "bdata": "die/j8Dh97/SCWOVf2fyv6nk9AugAvS/",
          "dtype": "f8"
         },
         "xaxis": "x",
         "y": {
          "bdata": "98zmT1kbq79Un54vaIPlv5snrP+mweG/",
          "dtype": "f8"
         },
         "yaxis": "y"
        },
        {
         "hovertemplate": "<b>%{hovertext}</b><br><br>Brand=LTC<br>แกนคุณลักษณะหลักที่ 1 (PC1)=%{x}<br>แกนคุณลักษณะหลักที่ 2 (PC2)=%{y}<extra></extra>",
         "hovertext": [
          "GM022"
         ],
         "legendgroup": "LTC",
         "marker": {
          "color": "#19d3f3",
          "symbol": "circle"
         },
         "mode": "markers",
         "name": "LTC",
         "showlegend": true,
         "type": "scattergl",
         "x": {
          "bdata": "GEjOYDCS7b8=",
          "dtype": "f8"
         },
         "xaxis": "x",
         "y": {
          "bdata": "9W99t3FklD8=",
          "dtype": "f8"
         },
         "yaxis": "y"
        },
        {
         "hovertemplate": "<b>%{hovertext}</b><br><br>Brand=Swiftpoint<br>แกนคุณลักษณะหลักที่ 1 (PC1)=%{x}<br>แกนคุณลักษณะหลักที่ 2 (PC2)=%{y}<extra></extra>",
         "hovertext": [
          "Z2",
          "Creator",
          "Tracer",
          "ErgoPoint"
         ],
         "legendgroup": "Swiftpoint",
         "marker": {
          "color": "#FF6692",
          "symbol": "circle"
         },
         "mode": "markers",
         "name": "Swiftpoint",
         "showlegend": true,
         "type": "scattergl",
         "x": {
          "bdata": "OV+5kTCYEUDu76uy+I8SQO7vq7L4jxJAT0Ps7EcXG0A=",
          "dtype": "f8"
         },
         "xaxis": "x",
         "y": {
          "bdata": "1ycjfW278D/klJiP6WbhP+SUmI/pZuE/YHkXd4AlBsA=",
          "dtype": "f8"
         },
         "yaxis": "y"
        },
        {
         "hovertemplate": "<b>%{hovertext}</b><br><br>Brand=MACHENIKE<br>แกนคุณลักษณะหลักที่ 1 (PC1)=%{x}<br>แกนคุณลักษณะหลักที่ 2 (PC2)=%{y}<extra></extra>",
         "hovertext": [
          "M7 Pro",
          "L8 Max",
          "L8 Air",
          "L8 Pro",
          "L7 Air"
         ],
         "legendgroup": "MACHENIKE",
         "marker": {
          "color": "#B6E880",
          "symbol": "circle"
         },
         "mode": "markers",
         "name": "MACHENIKE",
         "showlegend": true,
         "type": "scattergl",
         "x": {
          "bdata": "BlGBLo8R4b+mW/nCS4n9PxVkkFm7udE/+dp8d0gU/T/kzm98SEf2vw==",
          "dtype": "f8"
         },
         "xaxis": "x",
         "y": {
          "bdata": "+8zdc2It3b+1veoK/U31P7h4LBt+r9I/ITGjxBPT2D+l/PCxc5TFPw==",
          "dtype": "f8"
         },
         "yaxis": "y"
        },
        {
         "hovertemplate": "<b>%{hovertext}</b><br><br>Brand=Xiaomi<br>แกนคุณลักษณะหลักที่ 1 (PC1)=%{x}<br>แกนคุณลักษณะหลักที่ 2 (PC2)=%{y}<extra></extra>",
         "hovertext": [
          "X1"
         ],
         "legendgroup": "Xiaomi",
         "marker": {
          "color": "#FF97FF",
          "symbol": "circle"
         },
         "mode": "markers",
         "name": "Xiaomi",
         "showlegend": true,
         "type": "scattergl",
         "x": {
          "bdata": "VU/B+NfM6r8=",
          "dtype": "f8"
         },
         "xaxis": "x",
         "y": {
          "bdata": "LoplvLjT6D8=",
          "dtype": "f8"
         },
         "yaxis": "y"
        },
        {
         "hovertemplate": "<b>%{hovertext}</b><br><br>Brand=Apple<br>แกนคุณลักษณะหลักที่ 1 (PC1)=%{x}<br>แกนคุณลักษณะหลักที่ 2 (PC2)=%{y}<extra></extra>",
         "hovertext": [
          "Magic Mouse"
         ],
         "legendgroup": "Apple",
         "marker": {
          "color": "#FECB52",
          "symbol": "circle"
         },
         "mode": "markers",
         "name": "Apple",
         "showlegend": true,
         "type": "scattergl",
         "x": {
          "bdata": "Wag082V/vr8=",
          "dtype": "f8"
         },
         "xaxis": "x",
         "y": {
          "bdata": "dgDnvLscJcA=",
          "dtype": "f8"
         },
         "yaxis": "y"
        },
        {
         "hovertemplate": "<b>%{hovertext}</b><br><br>Brand=HUO<br>แกนคุณลักษณะหลักที่ 1 (PC1)=%{x}<br>แกนคุณลักษณะหลักที่ 2 (PC2)=%{y}<extra></extra>",
         "hovertext": [
          "JI E-YOOSO"
         ],
         "legendgroup": "HUO",
         "marker": {
          "color": "#636efa",
          "symbol": "circle"
         },
         "mode": "markers",
         "name": "HUO",
         "showlegend": true,
         "type": "scattergl",
         "x": {
          "bdata": "BMpXf0oI6r8=",
          "dtype": "f8"
         },
         "xaxis": "x",
         "y": {
          "bdata": "ZWOoVDRg4D8=",
          "dtype": "f8"
         },
         "yaxis": "y"
        },
        {
         "hovertemplate": "<b>%{hovertext}</b><br><br>Brand=Nixeus<br>แกนคุณลักษณะหลักที่ 1 (PC1)=%{x}<br>แกนคุณลักษณะหลักที่ 2 (PC2)=%{y}<extra></extra>",
         "hovertext": [
          "Revel Fit",
          "Revel-X",
          "Revel"
         ],
         "legendgroup": "Nixeus",
         "marker": {
          "color": "#EF553B",
          "symbol": "circle"
         },
         "mode": "markers",
         "name": "Nixeus",
         "showlegend": true,
         "type": "scattergl",
         "x": {
          "bdata": "DTCgJgsqBkBnK7Q0X+S5vygZu3bdT+A/",
          "dtype": "f8"
         },
         "xaxis": "x",
         "y": {
          "bdata": "qiC8IrSTgj+x0qXTZhvwvyjYmj+Peue/",
          "dtype": "f8"
         },
         "yaxis": "y"
        },
        {
         "hovertemplate": "<b>%{hovertext}</b><br><br>Brand=AIM1<br>แกนคุณลักษณะหลักที่ 1 (PC1)=%{x}<br>แกนคุณลักษณะหลักที่ 2 (PC2)=%{y}<extra></extra>",
         "hovertext": [
          "Shigure"
         ],
         "legendgroup": "AIM1",
         "marker": {
          "color": "#00cc96",
          "symbol": "circle"
         },
         "mode": "markers",
         "name": "AIM1",
         "showlegend": true,
         "type": "scattergl",
         "x": {
          "bdata": "2UZAr+Xw+r8=",
          "dtype": "f8"
         },
         "xaxis": "x",
         "y": {
          "bdata": "p7eJecYD8D8=",
          "dtype": "f8"
         },
         "yaxis": "y"
        },
        {
         "hovertemplate": "<b>%{hovertext}</b><br><br>Brand=CC<br>แกนคุณลักษณะหลักที่ 1 (PC1)=%{x}<br>แกนคุณลักษณะหลักที่ 2 (PC2)=%{y}<extra></extra>",
         "hovertext": [
          "Beanmouse LHD Small",
          "Beanmouse Small",
          "Beanmouse LHD Large",
          "Beanmouse Large"
         ],
         "legendgroup": "CC",
         "marker": {
          "color": "#ab63fa",
          "symbol": "circle"
         },
         "mode": "markers",
         "name": "CC",
         "showlegend": true,
         "type": "scattergl",
         "x": {
          "bdata": "I52UR/wJEsAjnZRH/AkSwErbax1D0QvASttrHUPRC8A=",
          "dtype": "f8"
         },
         "xaxis": "x",
         "y": {
          "bdata": "RbNp8frv979Fs2nx+u/3v/DPs+gA/OO/8M+z6AD8478=",
          "dtype": "f8"
         },
         "yaxis": "y"
        },
        {
         "hovertemplate": "<b>%{hovertext}</b><br><br>Brand=Xtrfy<br>แกนคุณลักษณะหลักที่ 1 (PC1)=%{x}<br>แกนคุณลักษณะหลักที่ 2 (PC2)=%{y}<extra></extra>",
         "hovertext": [
          "M42",
          "M42 (lower back)",
          "M8 Wireless",
          "M42 Wireless",
          "M4",
          "M4 Wireless",
          "MZ1",
          "MZ1 Wireless"
         ],
         "legendgroup": "Xtrfy",
         "marker": {
          "color": "#FFA15A",
          "symbol": "circle"
         },
         "mode": "markers",
         "name": "Xtrfy",
         "showlegend": true,
         "type": "scattergl",
         "x": {
          "bdata": "GRZgUfVP7L8ZFmBR9U/sv6RgXm6k0/S//rnPPlag57/AchMKCYL0P3q9m/JccPQ/WGHe7dKE+r9m5mPqVs34vw==",
          "dtype": "f8"
         },
         "xaxis": "x",
         "y": {
          "bdata": "HIOW59ET4r8cg5bn0RPiv87WP09wSMa/zofl5Ej15b9Kd/QO5062PyxB9xGKO8I/taDMjNCM8r+PRbapGfvzvw==",
          "dtype": "f8"
         },
         "yaxis": "y"
        },
        {
         "hovertemplate": "<b>%{hovertext}</b><br><br>Brand=Cooler<br>แกนคุณลักษณะหลักที่ 1 (PC1)=%{x}<br>แกนคุณลักษณะหลักที่ 2 (PC2)=%{y}<extra></extra>",
         "hovertext": [
          "Master CM310",
          "Master MM731",
          "Master MM730",
          "Master MM711 Lite",
          "Master MM831",
          "Master MM530",
          "Master MM531",
          "Master MM830",
          "Master CM110",
          "Master MM711",
          "Master MM710",
          "Master MM310",
          "Master MM720",
          "Master MM712"
         ],
         "legendgroup": "Cooler",
         "marker": {
          "color": "#19d3f3",
          "symbol": "circle"
         },
         "mode": "markers",
         "name": "Cooler",
         "showlegend": true,
         "type": "scattergl",
         "x": {
          "bdata": "ThyEH9e49D/X5MVGzqTyPyf08qpFru4/OxOJjjGm6r9cG3FKojkHQNvOHDZCU/w/Qr0gPDCe+T+Y29zMQ6YVQLq2yWKqZ60/PR5aP+cr7b/+MDBAWV/xvz60MvEnNL8/3Gb68dlc6D+KAsfpKTbwvw==",
          "dtype": "f8"
         },
         "xaxis": "x",
         "y": {
          "bdata": "CECKZ4qQ6r8J6xoGfnrjP0qORc9o/eg/NDK30i2Z6r+6KqbMfWTBP2SJErBrr+6/Tm35JL2c6L9es/ptoELLP4AMJBKd0f6/bWFO1yKj5L/pzEXuNlvcv44/r1LXbtw/5Thnv5IR0D/3B14lI7Pevw==",
          "dtype": "f8"
         },
         "yaxis": "y"
        },
        {
         "hovertemplate": "<b>%{hovertext}</b><br><br>Brand=Higround<br>แกนคุณลักษณะหลักที่ 1 (PC1)=%{x}<br>แกนคุณลักษณะหลักที่ 2 (PC2)=%{y}<extra></extra>",
         "hovertext": [
          "Yuma"
         ],
         "legendgroup": "Higround",
         "marker": {
          "color": "#FF6692",
          "symbol": "circle"
         },
         "mode": "markers",
         "name": "Higround",
         "showlegend": true,
         "type": "scattergl",
         "x": {
          "bdata": "dgtYmJ637b8=",
          "dtype": "f8"
         },
         "xaxis": "x",
         "y": {
          "bdata": "HdcjXfad6j8=",
          "dtype": "f8"
         },
         "yaxis": "y"
        },
        {
         "hovertemplate": "<b>%{hovertext}</b><br><br>Brand=COMMATECH<br>แกนคุณลักษณะหลักที่ 1 (PC1)=%{x}<br>แกนคุณลักษณะหลักที่ 2 (PC2)=%{y}<extra></extra>",
         "hovertext": [
          "FKMINI4"
         ],
         "legendgroup": "COMMATECH",
         "marker": {
          "color": "#B6E880",
          "symbol": "circle"
         },
         "mode": "markers",
         "name": "COMMATECH",
         "showlegend": true,
         "type": "scattergl",
         "x": {
          "bdata": "4D9QKkcPBsA=",
          "dtype": "f8"
         },
         "xaxis": "x",
         "y": {
          "bdata": "wyI68Kxy5L8=",
          "dtype": "f8"
         },
         "yaxis": "y"
        },
        {
         "hovertemplate": "<b>%{hovertext}</b><br><br>Brand=Turtle<br>แกนคุณลักษณะหลักที่ 1 (PC1)=%{x}<br>แกนคุณลักษณะหลักที่ 2 (PC2)=%{y}<extra></extra>",
         "hovertext": [
          "Beach Kone II Air",
          "Beach Kone II",
          "Beach Kone XP Air",
          "Beach Burst II Air",
          "Beach Pure Air",
          "Beach Pure SEL"
         ],
         "legendgroup": "Turtle",
         "marker": {
          "color": "#FF97FF",
          "symbol": "circle"
         },
         "mode": "markers",
         "name": "Turtle",
         "showlegend": true,
         "type": "scattergl",
         "x": {
          "bdata": "LN4WJDP5EECype1ENZEOQIUNct+9SgpA+zmiXw3t57+xQ+NuaXfqP5rqS8jcUPA/",
          "dtype": "f8"
         },
         "xaxis": "x",
         "y": {
          "bdata": "gD2KhMBq9T/zFUyGTrj7P3zDlVrIWeA/bW8PqKd/4z+L9aMp4SbsP6MPwfvfTNc/",
          "dtype": "f8"
         },
         "yaxis": "y"
        },
        {
         "hovertemplate": "<b>%{hovertext}</b><br><br>Brand=xtro<br>แกนคุณลักษณะหลักที่ 1 (PC1)=%{x}<br>แกนคุณลักษณะหลักที่ 2 (PC2)=%{y}<extra></extra>",
         "hovertext": [
          "Eris"
         ],
         "legendgroup": "xtro",
         "marker": {
          "color": "#FECB52",
          "symbol": "circle"
         },
         "mode": "markers",
         "name": "xtro",
         "showlegend": true,
         "type": "scattergl",
         "x": {
          "bdata": "3GU3LRPE8z8=",
          "dtype": "f8"
         },
         "xaxis": "x",
         "y": {
          "bdata": "3oenKFgh5D8=",
          "dtype": "f8"
         },
         "yaxis": "y"
        },
        {
         "hovertemplate": "<b>%{hovertext}</b><br><br>Brand=Noir<br>แกนคุณลักษณะหลักที่ 1 (PC1)=%{x}<br>แกนคุณลักษณะหลักที่ 2 (PC2)=%{y}<extra></extra>",
         "hovertext": [
          "M1",
          "M1 Lite",
          "M2 MG",
          "M2 Pro",
          "M2"
         ],
         "legendgroup": "Noir",
         "marker": {
          "color": "#636efa",
          "symbol": "circle"
         },
         "mode": "markers",
         "name": "Noir",
         "showlegend": true,
         "type": "scattergl",
         "x": {
          "bdata": "63xGkvDm57+aS/kxouziv9bRCBwZs/q/FxCGbd5Y9b/g6nQcVjvyvw==",
          "dtype": "f8"
         },
         "xaxis": "x",
         "y": {
          "bdata": "ANuB5oE06L9noK8e80PxvyzO/DhPEds/GpBFnT0NgT8YpOWWV17Ovw==",
          "dtype": "f8"
         },
         "yaxis": "y"
        },
        {
         "hovertemplate": "<b>%{hovertext}</b><br><br>Brand=Vancer<br>แกนคุณลักษณะหลักที่ 1 (PC1)=%{x}<br>แกนคุณลักษณะหลักที่ 2 (PC2)=%{y}<extra></extra>",
         "hovertext": [
          "x Arbiter Studio AKITSU",
          "Thrash",
          "Groove",
          "Gretxa",
          "Gemini Castor",
          "Gemini Pollux"
         ],
         "legendgroup": "Vancer",
         "marker": {
          "color": "#EF553B",
          "symbol": "circle"
         },
         "mode": "markers",
         "name": "Vancer",
         "showlegend": true,
         "type": "scattergl",
         "x": {
          "bdata": "g7ilMUVvA8CRSVC4nCDzv4rxklM2kvK/GeDoz4OK2r982axJ2PD2v9b33+twxNU/",
          "dtype": "f8"
         },
         "xaxis": "x",
         "y": {
          "bdata": "wcpu45ET5j9QlJY3KyjlP3VFVLJ93+c/4KLn0wvW8L8imNBAXzHCv5o+kDiTUeQ/",
          "dtype": "f8"
         },
         "yaxis": "y"
        },
        {
         "hovertemplate": "<b>%{hovertext}</b><br><br>Brand=GANSS<br>แกนคุณลักษณะหลักที่ 1 (PC1)=%{x}<br>แกนคุณลักษณะหลักที่ 2 (PC2)=%{y}<extra></extra>",
         "hovertext": [
          "FLX3 4K",
          "FLX3"
         ],
         "legendgroup": "GANSS",
         "marker": {
          "color": "#00cc96",
          "symbol": "circle"
         },
         "mode": "markers",
         "name": "GANSS",
         "showlegend": true,
         "type": "scattergl",
         "x": {
          "bdata": "IsLIGxB+4T+ODOu9ILnnPw==",
          "dtype": "f8"
         },
         "xaxis": "x",
         "y": {
          "bdata": "RShLUPgh8T9E0WfEJWjqPw==",
          "dtype": "f8"
         },
         "yaxis": "y"
        },
        {
         "hovertemplate": "<b>%{hovertext}</b><br><br>Brand=IFYOO<br>แกนคุณลักษณะหลักที่ 1 (PC1)=%{x}<br>แกนคุณลักษณะหลักที่ 2 (PC2)=%{y}<extra></extra>",
         "hovertext": [
          "G63",
          "G03 (Long)",
          "G03 (Short)"
         ],
         "legendgroup": "IFYOO",
         "marker": {
          "color": "#ab63fa",
          "symbol": "circle"
         },
         "mode": "markers",
         "name": "IFYOO",
         "showlegend": true,
         "type": "scattergl",
         "x": {
          "bdata": "Q0l4gaDm8b87Pk4bm/yiP9oTLcec0c6/",
          "dtype": "f8"
         },
         "xaxis": "x",
         "y": {
          "bdata": "jtXU09z90D8VDn/MkVDCv+FcfnqOvt+/",
          "dtype": "f8"
         },
         "yaxis": "y"
        },
        {
         "hovertemplate": "<b>%{hovertext}</b><br><br>Brand=Monka<br>แกนคุณลักษณะหลักที่ 1 (PC1)=%{x}<br>แกนคุณลักษณะหลักที่ 2 (PC2)=%{y}<extra></extra>",
         "hovertext": [
          "M1 Pro Max",
          "M1 Pro",
          "M1",
          "M3 Pro",
          "M3",
          "G995W"
         ],
         "legendgroup": "Monka",
         "marker": {
          "color": "#FFA15A",
          "symbol": "circle"
         },
         "mode": "markers",
         "name": "Monka",
         "showlegend": true,
         "type": "scattergl",
         "x": {
          "bdata": "qpjZDT7z9b+qmNkNPvP1v3RzyLy11fK/3vulIRJB9b+o1pTQiSPyv6QGQKVJCe+/",
          "dtype": "f8"
         },
         "xaxis": "x",
         "y": {
          "bdata": "L769EZi6wz8vvr0RmLrDP+R9+L0mabe/15+KyorF0j9DCm2RqG+oPxWyM6d5X5M/",
          "dtype": "f8"
         },
         "yaxis": "y"
        },
        {
         "hovertemplate": "<b>%{hovertext}</b><br><br>Brand=MSI<br>แกนคุณลักษณะหลักที่ 1 (PC1)=%{x}<br>แกนคุณลักษณะหลักที่ 2 (PC2)=%{y}<extra></extra>",
         "hovertext": [
          "Clutch GM41"
         ],
         "legendgroup": "MSI",
         "marker": {
          "color": "#19d3f3",
          "symbol": "circle"
         },
         "mode": "markers",
         "name": "MSI",
         "showlegend": true,
         "type": "scattergl",
         "x": {
          "bdata": "N+uG4DOWxT8=",
          "dtype": "f8"
         },
         "xaxis": "x",
         "y": {
          "bdata": "WCpFaq33sr8=",
          "dtype": "f8"
         },
         "yaxis": "y"
        },
        {
         "hovertemplate": "<b>%{hovertext}</b><br><br>Brand=Nitrite<br>แกนคุณลักษณะหลักที่ 1 (PC1)=%{x}<br>แกนคุณลักษณะหลักที่ 2 (PC2)=%{y}<extra></extra>",
         "hovertext": [
          "Labs Carbon XT1 Wireless",
          "Labs Carbon XT1 Wired"
         ],
         "legendgroup": "Nitrite",
         "marker": {
          "color": "#FF6692",
          "symbol": "circle"
         },
         "mode": "markers",
         "name": "Nitrite",
         "showlegend": true,
         "type": "scattergl",
         "x": {
          "bdata": "kfjVEY4cDMCmNBRnxowMwA==",
          "dtype": "f8"
         },
         "xaxis": "x",
         "y": {
          "bdata": "GgxU0d6y4j+oGogOi+/kPw==",
          "dtype": "f8"
         },
         "yaxis": "y"
        },
        {
         "hovertemplate": "<b>%{hovertext}</b><br><br>Brand=TenTen<br>แกนคุณลักษณะหลักที่ 1 (PC1)=%{x}<br>แกนคุณลักษณะหลักที่ 2 (PC2)=%{y}<extra></extra>",
         "hovertext": [
          "Zero Gravity"
         ],
         "legendgroup": "TenTen",
         "marker": {
          "color": "#B6E880",
          "symbol": "circle"
         },
         "mode": "markers",
         "name": "TenTen",
         "showlegend": true,
         "type": "scattergl",
         "x": {
          "bdata": "ZJtY5rTsAMA=",
          "dtype": "f8"
         },
         "xaxis": "x",
         "y": {
          "bdata": "575BdhNl+T8=",
          "dtype": "f8"
         },
         "yaxis": "y"
        },
        {
         "hovertemplate": "<b>%{hovertext}</b><br><br>Brand=Nyfter<br>แกนคุณลักษณะหลักที่ 1 (PC1)=%{x}<br>แกนคุณลักษณะหลักที่ 2 (PC2)=%{y}<extra></extra>",
         "hovertext": [
          "ELT 4K"
         ],
         "legendgroup": "Nyfter",
         "marker": {
          "color": "#FF97FF",
          "symbol": "circle"
         },
         "mode": "markers",
         "name": "Nyfter",
         "showlegend": true,
         "type": "scattergl",
         "x": {
          "bdata": "396jot717b8=",
          "dtype": "f8"
         },
         "xaxis": "x",
         "y": {
          "bdata": "vOdpJYV82T8=",
          "dtype": "f8"
         },
         "yaxis": "y"
        },
        {
         "hovertemplate": "<b>%{hovertext}</b><br><br>Brand=IROK<br>แกนคุณลักษณะหลักที่ 1 (PC1)=%{x}<br>แกนคุณลักษณะหลักที่ 2 (PC2)=%{y}<extra></extra>",
         "hovertext": [
          "HE3 PRO",
          "HE3",
          "HE3 SE"
         ],
         "legendgroup": "IROK",
         "marker": {
          "color": "#FECB52",
          "symbol": "circle"
         },
         "mode": "markers",
         "name": "IROK",
         "showlegend": true,
         "type": "scattergl",
         "x": {
          "bdata": "9NGqh5vs9L+/rJk2E8/xv1/lG4m3xOq/",
          "dtype": "f8"
         },
         "xaxis": "x",
         "y": {
          "bdata": "Y1R5ZBKk0j+jruJg5WOnP0cYJrYe5eC/",
          "dtype": "f8"
         },
         "yaxis": "y"
        },
        {
         "hovertemplate": "<b>%{hovertext}</b><br><br>Brand=Alienware<br>แกนคุณลักษณะหลักที่ 1 (PC1)=%{x}<br>แกนคุณลักษณะหลักที่ 2 (PC2)=%{y}<extra></extra>",
         "hovertext": [
          "Pro Wireless",
          "AW620M",
          "AW610M",
          "AW720M",
          "AW320M"
         ],
         "legendgroup": "Alienware",
         "marker": {
          "color": "#636efa",
          "symbol": "circle"
         },
         "mode": "markers",
         "name": "Alienware",
         "showlegend": true,
         "type": "scattergl",
         "x": {
          "bdata": "mDDU5BRD77+d6Sy/qPMJQPHBWiDVwAZAHpoosQdYyL9Eii//u/Dbvw==",
          "dtype": "f8"
         },
         "xaxis": "x",
         "y": {
          "bdata": "QKDoEU0W7D9/T4rHOjXwPwxiEpy18LI/mjzjcQyi6r94LYjsR0flvw==",
          "dtype": "f8"
         },
         "yaxis": "y"
        },
        {
         "hovertemplate": "<b>%{hovertext}</b><br><br>Brand=Santali<br>แกนคุณลักษณะหลักที่ 1 (PC1)=%{x}<br>แกนคุณลักษณะหลักที่ 2 (PC2)=%{y}<extra></extra>",
         "hovertext": [
          "S1-O"
         ],
         "legendgroup": "Santali",
         "marker": {
          "color": "#EF553B",
          "symbol": "circle"
         },
         "mode": "markers",
         "name": "Santali",
         "showlegend": true,
         "type": "scattergl",
         "x": {
          "bdata": "aIKxmlkS9L8=",
          "dtype": "f8"
         },
         "xaxis": "x",
         "y": {
          "bdata": "5BoSejLW8T8=",
          "dtype": "f8"
         },
         "yaxis": "y"
        },
        {
         "hovertemplate": "<b>%{hovertext}</b><br><br>Brand=Hitscan<br>แกนคุณลักษณะหลักที่ 1 (PC1)=%{x}<br>แกนคุณลักษณะหลักที่ 2 (PC2)=%{y}<extra></extra>",
         "hovertext": [
          "Hyperlight"
         ],
         "legendgroup": "Hitscan",
         "marker": {
          "color": "#00cc96",
          "symbol": "circle"
         },
         "mode": "markers",
         "name": "Hitscan",
         "showlegend": true,
         "type": "scattergl",
         "x": {
          "bdata": "F2P+nkdQAcA=",
          "dtype": "f8"
         },
         "xaxis": "x",
         "y": {
          "bdata": "pTW+Iooe6z8=",
          "dtype": "f8"
         },
         "yaxis": "y"
        },
        {
         "hovertemplate": "<b>%{hovertext}</b><br><br>Brand=A4Tech<br>แกนคุณลักษณะหลักที่ 1 (PC1)=%{x}<br>แกนคุณลักษณะหลักที่ 2 (PC2)=%{y}<extra></extra>",
         "hovertext": [
          "XL-750BK",
          "XL-750BH",
          "Bloody V7"
         ],
         "legendgroup": "A4Tech",
         "marker": {
          "color": "#ab63fa",
          "symbol": "circle"
         },
         "mode": "markers",
         "name": "A4Tech",
         "showlegend": true,
         "type": "scattergl",
         "x": {
          "bdata": "FzwtneYeC0AXPC2d5h4LQGJzk8FtNxJA",
          "dtype": "f8"
         },
         "xaxis": "x",
         "y": {
          "bdata": "WawH6maWFsBZrAfqZpYWwKjVLO/eK/i/",
          "dtype": "f8"
         },
         "yaxis": "y"
        },
        {
         "hovertemplate": "<b>%{hovertext}</b><br><br>Brand=Zaunkoenig<br>แกนคุณลักษณะหลักที่ 1 (PC1)=%{x}<br>แกนคุณลักษณะหลักที่ 2 (PC2)=%{y}<extra></extra>",
         "hovertext": [
          "M3K",
          "M2K"
         ],
         "legendgroup": "Zaunkoenig",
         "marker": {
          "color": "#FFA15A",
          "symbol": "circle"
         },
         "mode": "markers",
         "name": "Zaunkoenig",
         "showlegend": true,
         "type": "scattergl",
         "x": {
          "bdata": "gYVZXqibE8A/DhhwEQ4TwA==",
          "dtype": "f8"
         },
         "xaxis": "x",
         "y": {
          "bdata": "43oL+0OO9b+vixg+GyX6vw==",
          "dtype": "f8"
         },
         "yaxis": "y"
        },
        {
         "hovertemplate": "<b>%{hovertext}</b><br><br>Brand=ELECOM<br>แกนคุณลักษณะหลักที่ 1 (PC1)=%{x}<br>แกนคุณลักษณะหลักที่ 2 (PC2)=%{y}<extra></extra>",
         "hovertext": [
          "VM501LBK",
          "VM501BK",
          "VM510BK",
          "VM610BK",
          "VM600PE"
         ],
         "legendgroup": "ELECOM",
         "marker": {
          "color": "#19d3f3",
          "symbol": "circle"
         },
         "mode": "markers",
         "name": "ELECOM",
         "showlegend": true,
         "type": "scattergl",
         "x": {
          "bdata": "QOEFZkxj/D8JQpcBxTLvPwSgdI9TQfG/0eI+E3Qg9b8g987Y+LH4Pw==",
          "dtype": "f8"
         },
         "xaxis": "x",
         "y": {
          "bdata": "B1SUS9Yu6D/LmW5TYczTP+YN70NFb+S/akwFZU99wb9H6kv09QDlPw==",
          "dtype": "f8"
         },
         "yaxis": "y"
        },
        {
         "hovertemplate": "<b>%{hovertext}</b><br><br>Brand=Irocks<br>แกนคุณลักษณะหลักที่ 1 (PC1)=%{x}<br>แกนคุณลักษณะหลักที่ 2 (PC2)=%{y}<extra></extra>",
         "hovertext": [
          "M31R"
         ],
         "legendgroup": "Irocks",
         "marker": {
          "color": "#FF6692",
          "symbol": "circle"
         },
         "mode": "markers",
         "name": "Irocks",
         "showlegend": true,
         "type": "scattergl",
         "x": {
          "bdata": "xOMjvRL+8T8=",
          "dtype": "f8"
         },
         "xaxis": "x",
         "y": {
          "bdata": "jVLg4mxt5T8=",
          "dtype": "f8"
         },
         "yaxis": "y"
        },
        {
         "hovertemplate": "<b>%{hovertext}</b><br><br>Brand=GITOPER<br>แกนคุณลักษณะหลักที่ 1 (PC1)=%{x}<br>แกนคุณลักษณะหลักที่ 2 (PC2)=%{y}<extra></extra>",
         "hovertext": [
          "G1",
          "G3",
          "G2"
         ],
         "legendgroup": "GITOPER",
         "marker": {
          "color": "#B6E880",
          "symbol": "circle"
         },
         "mode": "markers",
         "name": "GITOPER",
         "showlegend": true,
         "type": "scattergl",
         "x": {
          "bdata": "oyVx3z+27D8n91g5hU3wP3CI6jpWWuC/",
          "dtype": "f8"
         },
         "xaxis": "x",
         "y": {
          "bdata": "tMLoHf026T83fuC/W6LcP4hnsdplI9g/",
          "dtype": "f8"
         },
         "yaxis": "y"
        },
        {
         "hovertemplate": "<b>%{hovertext}</b><br><br>Brand=Cherry<br>แกนคุณลักษณะหลักที่ 1 (PC1)=%{x}<br>แกนคุณลักษณะหลักที่ 2 (PC2)=%{y}<extra></extra>",
         "hovertext": [
          "Xtrfy M50 Wireless",
          "Xtrfy M50",
          "Xtrfy M68 Pro 8K Wireless",
          "Xtrfy M68 Wireless",
          "Xtrfy M64 Pro 8K Wireless",
          "Xtrfy M64 Wireless"
         ],
         "legendgroup": "Cherry",
         "marker": {
          "color": "#FF97FF",
          "symbol": "circle"
         },
         "mode": "markers",
         "name": "Cherry",
         "showlegend": true,
         "type": "scattergl",
         "x": {
          "bdata": "Sgm9vSoUqD9aGGiuRtbVv8jBpxMwRvO/188Ku76K6b9mV1UH9i3BP6u+JUeMS+E/",
          "dtype": "f8"
         },
         "xaxis": "x",
         "y": {
          "bdata": "PEVtbxaH8r/Z/nVGQA/nv3DLeYkoVOw/2aLYlpth1z+FpV6K8Yv0P/5cA15beOg/",
          "dtype": "f8"
         },
         "yaxis": "y"
        },
        {
         "hovertemplate": "<b>%{hovertext}</b><br><br>Brand=IXILAB<br>แกนคุณลักษณะหลักที่ 1 (PC1)=%{x}<br>แกนคุณลักษณะหลักที่ 2 (PC2)=%{y}<extra></extra>",
         "hovertext": [
          "X1 Pro Max",
          "X1 Pro",
          "X1"
         ],
         "legendgroup": "IXILAB",
         "marker": {
          "color": "#FECB52",
          "symbol": "circle"
         },
         "mode": "markers",
         "name": "IXILAB",
         "showlegend": true,
         "type": "scattergl",
         "x": {
          "bdata": "XYfkPkdY9b/2E9jJtSL4v7/uxngtBfW/",
          "dtype": "f8"
         },
         "xaxis": "x",
         "y": {
          "bdata": "Zv4wQuDhaD8oReEKxk3KP9/fYpeVhaS/",
          "dtype": "f8"
         },
         "yaxis": "y"
        },
        {
         "hovertemplate": "<b>%{hovertext}</b><br><br>Brand=Ardor<br>แกนคุณลักษณะหลักที่ 1 (PC1)=%{x}<br>แกนคุณลักษณะหลักที่ 2 (PC2)=%{y}<extra></extra>",
         "hovertext": [
          "Gaming Immortality Pro Wireless",
          "Gaming Immortality",
          "Gaming Ulta (big back)",
          "Gaming Ulta (mid back)",
          "Gaming Ulta (small back)",
          "Gaming Prime X",
          "Gaming Prime Wireless",
          "Gaming Prime",
          "Gaming Fury Beast",
          "Gaming Fury Pro",
          "Gaming Fury",
          "Gaming Phantom Pro V2",
          "Gaming Phantom Pro",
          "Gaming Phantom Pro Wired"
         ],
         "legendgroup": "Ardor",
         "marker": {
          "color": "#636efa",
          "symbol": "circle"
         },
         "mode": "markers",
         "name": "Ardor",
         "showlegend": true,
         "type": "scattergl",
         "x": {
          "bdata": "jKSB5SlU3b9OyTLko4LnvzSCzHQrEOK/NILMdCsQ4r80gsx0KxDiv2AJgUJgh9C/VAc7jY4azb9yvpXfih6zvytBrxCDxAhAfjMcwqvSCECs86bvJWMLQEJSr9Z9+Ny/HAGSObPo0b+EFstfUSPgvw==",
          "dtype": "f8"
         },
         "xaxis": "x",
         "y": {
          "bdata": "vv1IP2px5L9rSGobQq/bv5poyw8m/tC/mmjLDyb+0L+aaMsPJv7Qv60EvL0/uei/XZKhPFD77L+jdT2Jd53wv3lQ/EqfPtw/UIDGcKdT2z/uHlYvxVCyP8smAiQ/tqQ/Iw/Bamxb1L9SSOycjKPAvw==",
          "dtype": "f8"
         },
         "yaxis": "y"
        },
        {
         "hovertemplate": "<b>%{hovertext}</b><br><br>Brand=FineMax<br>แกนคุณลักษณะหลักที่ 1 (PC1)=%{x}<br>แกนคุณลักษณะหลักที่ 2 (PC2)=%{y}<extra></extra>",
         "hovertext": [
          "Noah"
         ],
         "legendgroup": "FineMax",
         "marker": {
          "color": "#EF553B",
          "symbol": "circle"
         },
         "mode": "markers",
         "name": "FineMax",
         "showlegend": true,
         "type": "scattergl",
         "x": {
          "bdata": "/qMgf9B37r8=",
          "dtype": "f8"
         },
         "xaxis": "x",
         "y": {
          "bdata": "6bcd5Qww2j8=",
          "dtype": "f8"
         },
         "yaxis": "y"
        },
        {
         "hovertemplate": "<b>%{hovertext}</b><br><br>Brand=Sprime<br>แกนคุณลักษณะหลักที่ 1 (PC1)=%{x}<br>แกนคุณลักษณะหลักที่ 2 (PC2)=%{y}<extra></extra>",
         "hovertext": [
          "PM1"
         ],
         "legendgroup": "Sprime",
         "marker": {
          "color": "#00cc96",
          "symbol": "circle"
         },
         "mode": "markers",
         "name": "Sprime",
         "showlegend": true,
         "type": "scattergl",
         "x": {
          "bdata": "hI1QVi4Du78=",
          "dtype": "f8"
         },
         "xaxis": "x",
         "y": {
          "bdata": "L6RUr89c+j8=",
          "dtype": "f8"
         },
         "yaxis": "y"
        },
        {
         "hovertemplate": "<b>%{hovertext}</b><br><br>Brand=Mionix<br>แกนคุณลักษณะหลักที่ 1 (PC1)=%{x}<br>แกนคุณลักษณะหลักที่ 2 (PC2)=%{y}<extra></extra>",
         "hovertext": [
          "Naos Pro",
          "Naos QG",
          "Naos 8200",
          "Naos 7000",
          "Naos 3200",
          "Castor Pro",
          "Castor"
         ],
         "legendgroup": "Mionix",
         "marker": {
          "color": "#ab63fa",
          "symbol": "circle"
         },
         "mode": "markers",
         "name": "Mionix",
         "showlegend": true,
         "type": "scattergl",
         "x": {
          "bdata": "lN+G1vfPDUA/nRgRB/QOQHfnJkBtyQ5AUXLqugOlD0AEafGbFEQUQCkTMMR6PgFAVerRTrKMA0A=",
          "dtype": "f8"
         },
         "xaxis": "x",
         "y": {
          "bdata": "TcYoe7H96D+yVmK/dkrgP4oFQhnLNt0/YgMkV9Mb1T+gPM9RRS0RwNs63gdHIJi/2YUtesZi4r8=",
          "dtype": "f8"
         },
         "yaxis": "y"
        },
        {
         "hovertemplate": "<b>%{hovertext}</b><br><br>Brand=Rexus<br>แกนคุณลักษณะหลักที่ 1 (PC1)=%{x}<br>แกนคุณลักษณะหลักที่ 2 (PC2)=%{y}<extra></extra>",
         "hovertext": [
          "Daxa Air IV"
         ],
         "legendgroup": "Rexus",
         "marker": {
          "color": "#FFA15A",
          "symbol": "circle"
         },
         "mode": "markers",
         "name": "Rexus",
         "showlegend": true,
         "type": "scattergl",
         "x": {
          "bdata": "TieTTCYx378=",
          "dtype": "f8"
         },
         "xaxis": "x",
         "y": {
          "bdata": "w8d15tspqz8=",
          "dtype": "f8"
         },
         "yaxis": "y"
        },
        {
         "hovertemplate": "<b>%{hovertext}</b><br><br>Brand=Atompalm<br>แกนคุณลักษณะหลักที่ 1 (PC1)=%{x}<br>แกนคุณลักษณะหลักที่ 2 (PC2)=%{y}<extra></extra>",
         "hovertext": [
          "Hydrogen 2",
          "Hydrogen"
         ],
         "legendgroup": "Atompalm",
         "marker": {
          "color": "#19d3f3",
          "symbol": "circle"
         },
         "mode": "markers",
         "name": "Atompalm",
         "showlegend": true,
         "type": "scattergl",
         "x": {
          "bdata": "ZvqwIg0m8b9m+rAiDSbxvw==",
          "dtype": "f8"
         },
         "xaxis": "x",
         "y": {
          "bdata": "7IdJ3dGY4z/sh0nd0ZjjPw==",
          "dtype": "f8"
         },
         "yaxis": "y"
        },
        {
         "hovertemplate": "<b>%{hovertext}</b><br><br>Brand=ARYE<br>แกนคุณลักษณะหลักที่ 1 (PC1)=%{x}<br>แกนคุณลักษณะหลักที่ 2 (PC2)=%{y}<extra></extra>",
         "hovertext": [
          "FCC-1"
         ],
         "legendgroup": "ARYE",
         "marker": {
          "color": "#FF6692",
          "symbol": "circle"
         },
         "mode": "markers",
         "name": "ARYE",
         "showlegend": true,
         "type": "scattergl",
         "x": {
          "bdata": "Esk1+tXVAcA=",
          "dtype": "f8"
         },
         "xaxis": "x",
         "y": {
          "bdata": "Xh52oS4Dx78=",
          "dtype": "f8"
         },
         "yaxis": "y"
        },
        {
         "hovertemplate": "<b>%{hovertext}</b><br><br>Brand=Ironcat<br>แกนคุณลักษณะหลักที่ 1 (PC1)=%{x}<br>แกนคุณลักษณะหลักที่ 2 (PC2)=%{y}<extra></extra>",
         "hovertext": [
          "HPC01M Pro",
          "HPC01M",
          "HPC02M",
          "HPC02"
         ],
         "legendgroup": "Ironcat",
         "marker": {
          "color": "#B6E880",
          "symbol": "circle"
         },
         "mode": "markers",
         "name": "Ironcat",
         "showlegend": true,
         "type": "scattergl",
         "x": {
          "bdata": "wS5PYGQS9r8JCsKNmSj0v8wBrG5Kj/O//ioymy7X4r8=",
          "dtype": "f8"
         },
         "xaxis": "x",
         "y": {
          "bdata": "wih0QosZsb+sx3SmccLMv+jFV0HGRuO/sOZ95UF6zr8=",
          "dtype": "f8"
         },
         "yaxis": "y"
        },
        {
         "hovertemplate": "<b>%{hovertext}</b><br><br>Brand=Xinshuntian<br>แกนคุณลักษณะหลักที่ 1 (PC1)=%{x}<br>แกนคุณลักษณะหลักที่ 2 (PC2)=%{y}<extra></extra>",
         "hovertext": [
          "G820"
         ],
         "legendgroup": "Xinshuntian",
         "marker": {
          "color": "#FF97FF",
          "symbol": "circle"
         },
         "mode": "markers",
         "name": "Xinshuntian",
         "showlegend": true,
         "type": "scattergl",
         "x": {
          "bdata": "PQYQVlAI7D8=",
          "dtype": "f8"
         },
         "xaxis": "x",
         "y": {
          "bdata": "fIsf9Hhb4z8=",
          "dtype": "f8"
         },
         "yaxis": "y"
        },
        {
         "hovertemplate": "<b>%{hovertext}</b><br><br>Brand=Ducky<br>แกนคุณลักษณะหลักที่ 1 (PC1)=%{x}<br>แกนคุณลักษณะหลักที่ 2 (PC2)=%{y}<extra></extra>",
         "hovertext": [
          "Feather"
         ],
         "legendgroup": "Ducky",
         "marker": {
          "color": "#FECB52",
          "symbol": "circle"
         },
         "mode": "markers",
         "name": "Ducky",
         "showlegend": true,
         "type": "scattergl",
         "x": {
          "bdata": "H9Ox7Z3z4b8=",
          "dtype": "f8"
         },
         "xaxis": "x",
         "y": {
          "bdata": "f2x8PmJq4r8=",
          "dtype": "f8"
         },
         "yaxis": "y"
        },
        {
         "hovertemplate": "<b>%{hovertext}</b><br><br>Brand=Pichau<br>แกนคุณลักษณะหลักที่ 1 (PC1)=%{x}<br>แกนคุณลักษณะหลักที่ 2 (PC2)=%{y}<extra></extra>",
         "hovertext": [
          "Hive S"
         ],
         "legendgroup": "Pichau",
         "marker": {
          "color": "#636efa",
          "symbol": "circle"
         },
         "mode": "markers",
         "name": "Pichau",
         "showlegend": true,
         "type": "scattergl",
         "x": {
          "bdata": "bjQ7N+1j378=",
          "dtype": "f8"
         },
         "xaxis": "x",
         "y": {
          "bdata": "LE4MKgGW4r8=",
          "dtype": "f8"
         },
         "yaxis": "y"
        },
        {
         "hovertemplate": "<b>%{hovertext}</b><br><br>Brand=Fnatic<br>แกนคุณลักษณะหลักที่ 1 (PC1)=%{x}<br>แกนคุณลักษณะหลักที่ 2 (PC2)=%{y}<extra></extra>",
         "hovertext": [
          "CLUTCH 2",
          "Bolt"
         ],
         "legendgroup": "Fnatic",
         "marker": {
          "color": "#EF553B",
          "symbol": "circle"
         },
         "mode": "markers",
         "name": "Fnatic",
         "showlegend": true,
         "type": "scattergl",
         "x": {
          "bdata": "3EAkr6wTBUBcXZ3PgQPjvw==",
          "dtype": "f8"
         },
         "xaxis": "x",
         "y": {
          "bdata": "M+hxo1FspD+QOVyXw1vgvw==",
          "dtype": "f8"
         },
         "yaxis": "y"
        },
        {
         "hovertemplate": "<b>%{hovertext}</b><br><br>Brand=Aqirys<br>แกนคุณลักษณะหลักที่ 1 (PC1)=%{x}<br>แกนคุณลักษณะหลักที่ 2 (PC2)=%{y}<extra></extra>",
         "hovertext": [
          "TGA Alpha"
         ],
         "legendgroup": "Aqirys",
         "marker": {
          "color": "#00cc96",
          "symbol": "circle"
         },
         "mode": "markers",
         "name": "Aqirys",
         "showlegend": true,
         "type": "scattergl",
         "x": {
          "bdata": "jNo2YSJJ2L8=",
          "dtype": "f8"
         },
         "xaxis": "x",
         "y": {
          "bdata": "w9f1HjQuxL8=",
          "dtype": "f8"
         },
         "yaxis": "y"
        },
        {
         "hovertemplate": "<b>%{hovertext}</b><br><br>Brand=Fallen<br>แกนคุณลักษณะหลักที่ 1 (PC1)=%{x}<br>แกนคุณลักษณะหลักที่ 2 (PC2)=%{y}<extra></extra>",
         "hovertext": [
          "Pantera Pro"
         ],
         "legendgroup": "Fallen",
         "marker": {
          "color": "#ab63fa",
          "symbol": "circle"
         },
         "mode": "markers",
         "name": "Fallen",
         "showlegend": true,
         "type": "scattergl",
         "x": {
          "bdata": "wr7+PFcr0r8=",
          "dtype": "f8"
         },
         "xaxis": "x",
         "y": {
          "bdata": "BADg/Djb0L8=",
          "dtype": "f8"
         },
         "yaxis": "y"
        },
        {
         "hovertemplate": "<b>%{hovertext}</b><br><br>Brand=Drevo<br>แกนคุณลักษณะหลักที่ 1 (PC1)=%{x}<br>แกนคุณลักษณะหลักที่ 2 (PC2)=%{y}<extra></extra>",
         "hovertext": [
          "Falcon"
         ],
         "legendgroup": "Drevo",
         "marker": {
          "color": "#FFA15A",
          "symbol": "circle"
         },
         "mode": "markers",
         "name": "Drevo",
         "showlegend": true,
         "type": "scattergl",
         "x": {
          "bdata": "MQAvc1jUzT8=",
          "dtype": "f8"
         },
         "xaxis": "x",
         "y": {
          "bdata": "WJKrHJX07r8=",
          "dtype": "f8"
         },
         "yaxis": "y"
        },
        {
         "hovertemplate": "<b>%{hovertext}</b><br><br>Brand=Acer<br>แกนคุณลักษณะหลักที่ 1 (PC1)=%{x}<br>แกนคุณลักษณะหลักที่ 2 (PC2)=%{y}<extra></extra>",
         "hovertext": [
          "Cestus 330"
         ],
         "legendgroup": "Acer",
         "marker": {
          "color": "#19d3f3",
          "symbol": "circle"
         },
         "mode": "markers",
         "name": "Acer",
         "showlegend": true,
         "type": "scattergl",
         "x": {
          "bdata": "lgaW4/nK/j8=",
          "dtype": "f8"
         },
         "xaxis": "x",
         "y": {
          "bdata": "Z91iB1IHA8A=",
          "dtype": "f8"
         },
         "yaxis": "y"
        },
        {
         "hovertemplate": "<b>%{hovertext}</b><br><br>Brand=Teamwolf<br>แกนคุณลักษณะหลักที่ 1 (PC1)=%{x}<br>แกนคุณลักษณะหลักที่ 2 (PC2)=%{y}<extra></extra>",
         "hovertext": [
          "Lurker MK-01"
         ],
         "legendgroup": "Teamwolf",
         "marker": {
          "color": "#FF6692",
          "symbol": "circle"
         },
         "mode": "markers",
         "name": "Teamwolf",
         "showlegend": true,
         "type": "scattergl",
         "x": {
          "bdata": "Wta812dY/78=",
          "dtype": "f8"
         },
         "xaxis": "x",
         "y": {
          "bdata": "9rMn7Tlh7b8=",
          "dtype": "f8"
         },
         "yaxis": "y"
        },
        {
         "hovertemplate": "<b>%{hovertext}</b><br><br>Brand=PureTrak<br>แกนคุณลักษณะหลักที่ 1 (PC1)=%{x}<br>แกนคุณลักษณะหลักที่ 2 (PC2)=%{y}<extra></extra>",
         "hovertext": [
          "Valor Wireless"
         ],
         "legendgroup": "PureTrak",
         "marker": {
          "color": "#B6E880",
          "symbol": "circle"
         },
         "mode": "markers",
         "name": "PureTrak",
         "showlegend": true,
         "type": "scattergl",
         "x": {
          "bdata": "B7dzfSSL4b8=",
          "dtype": "f8"
         },
         "xaxis": "x",
         "y": {
          "bdata": "+rHKo821wj8=",
          "dtype": "f8"
         },
         "yaxis": "y"
        },
        {
         "hovertemplate": "<b>%{hovertext}</b><br><br>Brand=Xenics<br>แกนคุณลักษณะหลักที่ 1 (PC1)=%{x}<br>แกนคุณลักษณะหลักที่ 2 (PC2)=%{y}<extra></extra>",
         "hovertext": [
          "Titan GX Air Wireless"
         ],
         "legendgroup": "Xenics",
         "marker": {
          "color": "#FF97FF",
          "symbol": "circle"
         },
         "mode": "markers",
         "name": "Xenics",
         "showlegend": true,
         "type": "scattergl",
         "x": {
          "bdata": "oYYdf9Ne5b8=",
          "dtype": "f8"
         },
         "xaxis": "x",
         "y": {
          "bdata": "BlRdI4iA8L8=",
          "dtype": "f8"
         },
         "yaxis": "y"
        },
        {
         "hovertemplate": "<b>%{hovertext}</b><br><br>Brand=SPC<br>แกนคุณลักษณะหลักที่ 1 (PC1)=%{x}<br>แกนคุณลักษณะหลักที่ 2 (PC2)=%{y}<extra></extra>",
         "hovertext": [
          "Gear LIX Plus Wireless"
         ],
         "legendgroup": "SPC",
         "marker": {
          "color": "#FECB52",
          "symbol": "circle"
         },
         "mode": "markers",
         "name": "SPC",
         "showlegend": true,
         "type": "scattergl",
         "x": {
          "bdata": "bhx6GPOExL8=",
          "dtype": "f8"
         },
         "xaxis": "x",
         "y": {
          "bdata": "GJ86ZUIJyr8=",
          "dtype": "f8"
         },
         "yaxis": "y"
        },
        {
         "hovertemplate": "<b>%{hovertext}</b><br><br>Brand=Dornfinger<br>แกนคุณลักษณะหลักที่ 1 (PC1)=%{x}<br>แกนคุณลักษณะหลักที่ 2 (PC2)=%{y}<extra></extra>",
         "hovertext": [
          "Veno-S"
         ],
         "legendgroup": "Dornfinger",
         "marker": {
          "color": "#636efa",
          "symbol": "circle"
         },
         "mode": "markers",
         "name": "Dornfinger",
         "showlegend": true,
         "type": "scattergl",
         "x": {
          "bdata": "ZR0fX41B2L8=",
          "dtype": "f8"
         },
         "xaxis": "x",
         "y": {
          "bdata": "OFUlsvA11L8=",
          "dtype": "f8"
         },
         "yaxis": "y"
        },
        {
         "hovertemplate": "<b>%{hovertext}</b><br><br>Brand=Midnight<br>แกนคุณลักษณะหลักที่ 1 (PC1)=%{x}<br>แกนคุณลักษณะหลักที่ 2 (PC2)=%{y}<extra></extra>",
         "hovertext": [
          "Thread C1"
         ],
         "legendgroup": "Midnight",
         "marker": {
          "color": "#EF553B",
          "symbol": "circle"
         },
         "mode": "markers",
         "name": "Midnight",
         "showlegend": true,
         "type": "scattergl",
         "x": {
          "bdata": "/uMiARld9L8=",
          "dtype": "f8"
         },
         "xaxis": "x",
         "y": {
          "bdata": "SPQQna0U2T8=",
          "dtype": "f8"
         },
         "yaxis": "y"
        },
        {
         "hovertemplate": "<b>%{hovertext}</b><br><br>Brand=HK<br>แกนคุณลักษณะหลักที่ 1 (PC1)=%{x}<br>แกนคุณลักษณะหลักที่ 2 (PC2)=%{y}<extra></extra>",
         "hovertext": [
          "Gaming Sirius M"
         ],
         "legendgroup": "HK",
         "marker": {
          "color": "#00cc96",
          "symbol": "circle"
         },
         "mode": "markers",
         "name": "HK",
         "showlegend": true,
         "type": "scattergl",
         "x": {
          "bdata": "pQ5urLGx7b8=",
          "dtype": "f8"
         },
         "xaxis": "x",
         "y": {
          "bdata": "EauYPvnv378=",
          "dtype": "f8"
         },
         "yaxis": "y"
        },
        {
         "hovertemplate": "<b>%{hovertext}</b><br><br>Brand=CryoMods<br>แกนคุณลักษณะหลักที่ 1 (PC1)=%{x}<br>แกนคุณลักษณะหลักที่ 2 (PC2)=%{y}<extra></extra>",
         "hovertext": [
          "Fractal Wireless"
         ],
         "legendgroup": "CryoMods",
         "marker": {
          "color": "#ab63fa",
          "symbol": "circle"
         },
         "mode": "markers",
         "name": "CryoMods",
         "showlegend": true,
         "type": "scattergl",
         "x": {
          "bdata": "+gPBbXBE8b8=",
          "dtype": "f8"
         },
         "xaxis": "x",
         "y": {
          "bdata": "QzI48BcD9L8=",
          "dtype": "f8"
         },
         "yaxis": "y"
        },
        {
         "hovertemplate": "<b>%{hovertext}</b><br><br>Brand=Lethal<br>แกนคุณลักษณะหลักที่ 1 (PC1)=%{x}<br>แกนคุณลักษณะหลักที่ 2 (PC2)=%{y}<extra></extra>",
         "hovertext": [
          "Gaming Gear LA-1"
         ],
         "legendgroup": "Lethal",
         "marker": {
          "color": "#FFA15A",
          "symbol": "circle"
         },
         "mode": "markers",
         "name": "Lethal",
         "showlegend": true,
         "type": "scattergl",
         "x": {
          "bdata": "7zM64zhv8b8=",
          "dtype": "f8"
         },
         "xaxis": "x",
         "y": {
          "bdata": "MTuH0Qjfwz8=",
          "dtype": "f8"
         },
         "yaxis": "y"
        },
        {
         "hovertemplate": "<b>%{hovertext}</b><br><br>Brand=Gamesense<br>แกนคุณลักษณะหลักที่ 1 (PC1)=%{x}<br>แกนคุณลักษณะหลักที่ 2 (PC2)=%{y}<extra></extra>",
         "hovertext": [
          "MVP Wired",
          "MVP Wireless",
          "META Wired"
         ],
         "legendgroup": "Gamesense",
         "marker": {
          "color": "#19d3f3",
          "symbol": "circle"
         },
         "mode": "markers",
         "name": "Gamesense",
         "showlegend": true,
         "type": "scattergl",
         "x": {
          "bdata": "rMRNVodAyb96SM8ne92jPymvhRliY+y/",
          "dtype": "f8"
         },
         "xaxis": "x",
         "y": {
          "bdata": "Xlyse1d/sL961XLV/ZjUv/O+pxN5KPC/",
          "dtype": "f8"
         },
         "yaxis": "y"
        },
        {
         "hovertemplate": "<b>%{hovertext}</b><br><br>Brand=Dream<br>แกนคุณลักษณะหลักที่ 1 (PC1)=%{x}<br>แกนคุณลักษณะหลักที่ 2 (PC2)=%{y}<extra></extra>",
         "hovertext": [
          "Machines DM1 FPS",
          "Machines DM2 Comfy S",
          "Machines DM4 Evo",
          "Machines DM4 Evo S",
          "Machines DM5 Blink",
          "Machines DM6 Holey S",
          "Machines DM6 Holey",
          "Machines DM6 Duo",
          "Machines DM6 Trio"
         ],
         "legendgroup": "Dream",
         "marker": {
          "color": "#FF6692",
          "symbol": "circle"
         },
         "mode": "markers",
         "name": "Dream",
         "showlegend": true,
         "type": "scattergl",
         "x": {
          "bdata": "CQ70T/uP3D+GCIAqh2UNQBigeYQUvwBAp4bIUeNUAEDcGc3DwrECQL5W3MZuv/g/QkVfo5za+T8u3Eq6Z3f8P2IqZVJqYfw/",
          "dtype": "f8"
         },
         "xaxis": "x",
         "y": {
          "bdata": "bT54KXGe37+Xek75yE/mPyjCvucM59e/9igrA8oE0b+Q4jSOXUSyv9d9FqVYaN0/PVz8Hqo61D8OkaW2cQLLP9yjJTFCNdE/",
          "dtype": "f8"
         },
         "yaxis": "y"
        },
        {
         "marker": {
          "color": "red",
          "size": 15,
          "symbol": "star"
         },
         "mode": "markers",
         "name": "Ideal Profile (จุดศูนย์กลาง)",
         "type": "scatter",
         "x": [
          -1.7860047339569263
         ],
         "y": [
          1.127123735360073
         ]
        }
       ],
       "layout": {
        "legend": {
         "title": {
          "text": "Brand"
         },
         "tracegroupgap": 0
        },
        "template": {
         "data": {
          "bar": [
           {
            "error_x": {
             "color": "#2a3f5f"
            },
            "error_y": {
             "color": "#2a3f5f"
            },
            "marker": {
             "line": {
              "color": "#E5ECF6",
              "width": 0.5
             },
             "pattern": {
              "fillmode": "overlay",
              "size": 10,
              "solidity": 0.2
             }
            },
            "type": "bar"
           }
          ],
          "barpolar": [
           {
            "marker": {
             "line": {
              "color": "#E5ECF6",
              "width": 0.5
             },
             "pattern": {
              "fillmode": "overlay",
              "size": 10,
              "solidity": 0.2
             }
            },
            "type": "barpolar"
           }
          ],
          "carpet": [
           {
            "aaxis": {
             "endlinecolor": "#2a3f5f",
             "gridcolor": "white",
             "linecolor": "white",
             "minorgridcolor": "white",
             "startlinecolor": "#2a3f5f"
            },
            "baxis": {
             "endlinecolor": "#2a3f5f",
             "gridcolor": "white",
             "linecolor": "white",
             "minorgridcolor": "white",
             "startlinecolor": "#2a3f5f"
            },
            "type": "carpet"
           }
          ],
          "choropleth": [
           {
            "colorbar": {
             "outlinewidth": 0,
             "ticks": ""
            },
            "type": "choropleth"
           }
          ],
          "contour": [
           {
            "colorbar": {
             "outlinewidth": 0,
             "ticks": ""
            },
            "colorscale": [
             [
              0,
              "#0d0887"
             ],
             [
              0.1111111111111111,
              "#46039f"
             ],
             [
              0.2222222222222222,
              "#7201a8"
             ],
             [
              0.3333333333333333,
              "#9c179e"
             ],
             [
              0.4444444444444444,
              "#bd3786"
             ],
             [
              0.5555555555555556,
              "#d8576b"
             ],
             [
              0.6666666666666666,
              "#ed7953"
             ],
             [
              0.7777777777777778,
              "#fb9f3a"
             ],
             [
              0.8888888888888888,
              "#fdca26"
             ],
             [
              1,
              "#f0f921"
             ]
            ],
            "type": "contour"
           }
          ],
          "contourcarpet": [
           {
            "colorbar": {
             "outlinewidth": 0,
             "ticks": ""
            },
            "type": "contourcarpet"
           }
          ],
          "heatmap": [
           {
            "colorbar": {
             "outlinewidth": 0,
             "ticks": ""
            },
            "colorscale": [
             [
              0,
              "#0d0887"
             ],
             [
              0.1111111111111111,
              "#46039f"
             ],
             [
              0.2222222222222222,
              "#7201a8"
             ],
             [
              0.3333333333333333,
              "#9c179e"
             ],
             [
              0.4444444444444444,
              "#bd3786"
             ],
             [
              0.5555555555555556,
              "#d8576b"
             ],
             [
              0.6666666666666666,
              "#ed7953"
             ],
             [
              0.7777777777777778,
              "#fb9f3a"
             ],
             [
              0.8888888888888888,
              "#fdca26"
             ],
             [
              1,
              "#f0f921"
             ]
            ],
            "type": "heatmap"
           }
          ],
          "histogram": [
           {
            "marker": {
             "pattern": {
              "fillmode": "overlay",
              "size": 10,
              "solidity": 0.2
             }
            },
            "type": "histogram"
           }
          ],
          "histogram2d": [
           {
            "colorbar": {
             "outlinewidth": 0,
             "ticks": ""
            },
            "colorscale": [
             [
              0,
              "#0d0887"
             ],
             [
              0.1111111111111111,
              "#46039f"
             ],
             [
              0.2222222222222222,
              "#7201a8"
             ],
             [
              0.3333333333333333,
              "#9c179e"
             ],
             [
              0.4444444444444444,
              "#bd3786"
             ],
             [
              0.5555555555555556,
              "#d8576b"
             ],
             [
              0.6666666666666666,
              "#ed7953"
             ],
             [
              0.7777777777777778,
              "#fb9f3a"
             ],
             [
              0.8888888888888888,
              "#fdca26"
             ],
             [
              1,
              "#f0f921"
             ]
            ],
            "type": "histogram2d"
           }
          ],
          "histogram2dcontour": [
           {
            "colorbar": {
             "outlinewidth": 0,
             "ticks": ""
            },
            "colorscale": [
             [
              0,
              "#0d0887"
             ],
             [
              0.1111111111111111,
              "#46039f"
             ],
             [
              0.2222222222222222,
              "#7201a8"
             ],
             [
              0.3333333333333333,
              "#9c179e"
             ],
             [
              0.4444444444444444,
              "#bd3786"
             ],
             [
              0.5555555555555556,
              "#d8576b"
             ],
             [
              0.6666666666666666,
              "#ed7953"
             ],
             [
              0.7777777777777778,
              "#fb9f3a"
             ],
             [
              0.8888888888888888,
              "#fdca26"
             ],
             [
              1,
              "#f0f921"
             ]
            ],
            "type": "histogram2dcontour"
           }
          ],
          "mesh3d": [
           {
            "colorbar": {
             "outlinewidth": 0,
             "ticks": ""
            },
            "type": "mesh3d"
           }
          ],
          "parcoords": [
           {
            "line": {
             "colorbar": {
              "outlinewidth": 0,
              "ticks": ""
             }
            },
            "type": "parcoords"
           }
          ],
          "pie": [
           {
            "automargin": true,
            "type": "pie"
           }
          ],
          "scatter": [
           {
            "fillpattern": {
             "fillmode": "overlay",
             "size": 10,
             "solidity": 0.2
            },
            "type": "scatter"
           }
          ],
          "scatter3d": [
           {
            "line": {
             "colorbar": {
              "outlinewidth": 0,
              "ticks": ""
             }
            },
            "marker": {
             "colorbar": {
              "outlinewidth": 0,
              "ticks": ""
             }
            },
            "type": "scatter3d"
           }
          ],
          "scattercarpet": [
           {
            "marker": {
             "colorbar": {
              "outlinewidth": 0,
              "ticks": ""
             }
            },
            "type": "scattercarpet"
           }
          ],
          "scattergeo": [
           {
            "marker": {
             "colorbar": {
              "outlinewidth": 0,
              "ticks": ""
             }
            },
            "type": "scattergeo"
           }
          ],
          "scattergl": [
           {
            "marker": {
             "colorbar": {
              "outlinewidth": 0,
              "ticks": ""
             }
            },
            "type": "scattergl"
           }
          ],
          "scattermap": [
           {
            "marker": {
             "colorbar": {
              "outlinewidth": 0,
              "ticks": ""
             }
            },
            "type": "scattermap"
           }
          ],
          "scattermapbox": [
           {
            "marker": {
             "colorbar": {
              "outlinewidth": 0,
              "ticks": ""
             }
            },
            "type": "scattermapbox"
           }
          ],
          "scatterpolar": [
           {
            "marker": {
             "colorbar": {
              "outlinewidth": 0,
              "ticks": ""
             }
            },
            "type": "scatterpolar"
           }
          ],
          "scatterpolargl": [
           {
            "marker": {
             "colorbar": {
              "outlinewidth": 0,
              "ticks": ""
             }
            },
            "type": "scatterpolargl"
           }
          ],
          "scatterternary": [
           {
            "marker": {
             "colorbar": {
              "outlinewidth": 0,
              "ticks": ""
             }
            },
            "type": "scatterternary"
           }
          ],
          "surface": [
           {
            "colorbar": {
             "outlinewidth": 0,
             "ticks": ""
            },
            "colorscale": [
             [
              0,
              "#0d0887"
             ],
             [
              0.1111111111111111,
              "#46039f"
             ],
             [
              0.2222222222222222,
              "#7201a8"
             ],
             [
              0.3333333333333333,
              "#9c179e"
             ],
             [
              0.4444444444444444,
              "#bd3786"
             ],
             [
              0.5555555555555556,
              "#d8576b"
             ],
             [
              0.6666666666666666,
              "#ed7953"
             ],
             [
              0.7777777777777778,
              "#fb9f3a"
             ],
             [
              0.8888888888888888,
              "#fdca26"
             ],
             [
              1,
              "#f0f921"
             ]
            ],
            "type": "surface"
           }
          ],
          "table": [
           {
            "cells": {
             "fill": {
              "color": "#EBF0F8"
             },
             "line": {
              "color": "white"
             }
            },
            "header": {
             "fill": {
              "color": "#C8D4E3"
             },
             "line": {
              "color": "white"
             }
            },
            "type": "table"
           }
          ]
         },
         "layout": {
          "annotationdefaults": {
           "arrowcolor": "#2a3f5f",
           "arrowhead": 0,
           "arrowwidth": 1
          },
          "autotypenumbers": "strict",
          "coloraxis": {
           "colorbar": {
            "outlinewidth": 0,
            "ticks": ""
           }
          },
          "colorscale": {
           "diverging": [
            [
             0,
             "#8e0152"
            ],
            [
             0.1,
             "#c51b7d"
            ],
            [
             0.2,
             "#de77ae"
            ],
            [
             0.3,
             "#f1b6da"
            ],
            [
             0.4,
             "#fde0ef"
            ],
            [
             0.5,
             "#f7f7f7"
            ],
            [
             0.6,
             "#e6f5d0"
            ],
            [
             0.7,
             "#b8e186"
            ],
            [
             0.8,
             "#7fbc41"
            ],
            [
             0.9,
             "#4d9221"
            ],
            [
             1,
             "#276419"
            ]
           ],
           "sequential": [
            [
             0,
             "#0d0887"
            ],
            [
             0.1111111111111111,
             "#46039f"
            ],
            [
             0.2222222222222222,
             "#7201a8"
            ],
            [
             0.3333333333333333,
             "#9c179e"
            ],
            [
             0.4444444444444444,
             "#bd3786"
            ],
            [
             0.5555555555555556,
             "#d8576b"
            ],
            [
             0.6666666666666666,
             "#ed7953"
            ],
            [
             0.7777777777777778,
             "#fb9f3a"
            ],
            [
             0.8888888888888888,
             "#fdca26"
            ],
            [
             1,
             "#f0f921"
            ]
           ],
           "sequentialminus": [
            [
             0,
             "#0d0887"
            ],
            [
             0.1111111111111111,
             "#46039f"
            ],
            [
             0.2222222222222222,
             "#7201a8"
            ],
            [
             0.3333333333333333,
             "#9c179e"
            ],
            [
             0.4444444444444444,
             "#bd3786"
            ],
            [
             0.5555555555555556,
             "#d8576b"
            ],
            [
             0.6666666666666666,
             "#ed7953"
            ],
            [
             0.7777777777777778,
             "#fb9f3a"
            ],
            [
             0.8888888888888888,
             "#fdca26"
            ],
            [
             1,
             "#f0f921"
            ]
           ]
          },
          "colorway": [
           "#636efa",
           "#EF553B",
           "#00cc96",
           "#ab63fa",
           "#FFA15A",
           "#19d3f3",
           "#FF6692",
           "#B6E880",
           "#FF97FF",
           "#FECB52"
          ],
          "font": {
           "color": "#2a3f5f"
          },
          "geo": {
           "bgcolor": "white",
           "lakecolor": "white",
           "landcolor": "#E5ECF6",
           "showlakes": true,
           "showland": true,
           "subunitcolor": "white"
          },
          "hoverlabel": {
           "align": "left"
          },
          "hovermode": "closest",
          "mapbox": {
           "style": "light"
          },
          "paper_bgcolor": "white",
          "plot_bgcolor": "#E5ECF6",
          "polar": {
           "angularaxis": {
            "gridcolor": "white",
            "linecolor": "white",
            "ticks": ""
           },
           "bgcolor": "#E5ECF6",
           "radialaxis": {
            "gridcolor": "white",
            "linecolor": "white",
            "ticks": ""
           }
          },
          "scene": {
           "xaxis": {
            "backgroundcolor": "#E5ECF6",
            "gridcolor": "white",
            "gridwidth": 2,
            "linecolor": "white",
            "showbackground": true,
            "ticks": "",
            "zerolinecolor": "white"
           },
           "yaxis": {
            "backgroundcolor": "#E5ECF6",
            "gridcolor": "white",
            "gridwidth": 2,
            "linecolor": "white",
            "showbackground": true,
            "ticks": "",
            "zerolinecolor": "white"
           },
           "zaxis": {
            "backgroundcolor": "#E5ECF6",
            "gridcolor": "white",
            "gridwidth": 2,
            "linecolor": "white",
            "showbackground": true,
            "ticks": "",
            "zerolinecolor": "white"
           }
          },
          "shapedefaults": {
           "line": {
            "color": "#2a3f5f"
           }
          },
          "ternary": {
           "aaxis": {
            "gridcolor": "white",
            "linecolor": "white",
            "ticks": ""
           },
           "baxis": {
            "gridcolor": "white",
            "linecolor": "white",
            "ticks": ""
           },
           "bgcolor": "#E5ECF6",
           "caxis": {
            "gridcolor": "white",
            "linecolor": "white",
            "ticks": ""
           }
          },
          "title": {
           "x": 0.05
          },
          "xaxis": {
           "automargin": true,
           "gridcolor": "white",
           "linecolor": "white",
           "ticks": "",
           "title": {
            "standoff": 15
           },
           "zerolinecolor": "white",
           "zerolinewidth": 2
          },
          "yaxis": {
           "automargin": true,
           "gridcolor": "white",
           "linecolor": "white",
           "ticks": "",
           "title": {
            "standoff": 15
           },
           "zerolinecolor": "white",
           "zerolinewidth": 2
          }
         }
        },
        "title": {
         "text": "ผลการวิเคราะห์ PCA ของข้อมูลเมาส์"
        },
        "xaxis": {
         "anchor": "y",
         "domain": [
          0,
          1
         ],
         "title": {
          "text": "แกนคุณลักษณะหลักที่ 1 (PC1)"
         }
        },
        "yaxis": {
         "anchor": "x",
         "domain": [
          0,
          1
         ],
         "title": {
          "text": "แกนคุณลักษณะหลักที่ 2 (PC2)"
         }
        }
       }
      }
     },
     "metadata": {},
     "output_type": "display_data"
    }
   ],
   "source": [
    "from sklearn.metrics.pairwise import cosine_similarity\n",
    "\n",
    "\n",
    "# 1. กำหนด \"คลังเมาส์\" ของคุณ\n",
    "my_mouse_collection = ['Viper Mini Signature Edition', 'MAD R Major', 'Susanto-X', 'Y2 Pro']\n",
    "df_my_collection = df_pca[df_pca['Model'].isin(my_mouse_collection)]\n",
    "\n",
    "# 2. คำนวณ \"โปรไฟล์เมาส์ในอุดมคติ\" (จุดศูนย์กลางของคลัง)\n",
    "ideal_mouse_profile = df_my_collection[col].mean().values.reshape(1, -1)\n",
    "\n",
    "print(f\"คลังเมาส์ของฉัน:\\n{df_my_collection}\\n\")\n",
    "\n",
    "# 3. คำนวณ Cosine Similarity\n",
    "cosine_sim = cosine_similarity(df_pca[col], ideal_mouse_profile).flatten()\n",
    "df_pca['Cosine_Similarity_to_Ideal'] = cosine_sim\n",
    "\n",
    "# 4. จัดอันดับเมาส์ที่ใกล้เคียงที่สุด (ไม่รวมเมาส์ที่มีอยู่แล้วในคลัง)\n",
    "recommendations = df_pca[~df_pca['Model'].isin(my_mouse_collection)] \\\n",
    "    .sort_values('Cosine_Similarity_to_Ideal', ascending=False) \\\n",
    "    .head(5)\n",
    "\n",
    "print(f\"จุดศูนย์กลาง (Ideal Profile) ในแกน PCA: {ideal_mouse_profile.flatten()}\")\n",
    "print(\"\\n--- 5 อันดับเมาส์แนะนำที่ใกล้เคียงกับสไตล์ของคุณที่สุด ---\")\n",
    "print(recommendations[['Model', 'Brand', 'Cosine_Similarity_to_Ideal']])\n",
    "\n",
    "# 5. พล็อตกราฟแสดง Ideal Profile\n",
    "fig.add_scatter(\n",
    "    x=[ideal_mouse_profile[0, 0]],\n",
    "    y=[ideal_mouse_profile[0, 1]],\n",
    "    mode='markers',\n",
    "    marker=dict(symbol='star', color='red', size=15),\n",
    "    name='Ideal Profile (จุดศูนย์กลาง)'\n",
    ")\n",
    "fig.show()\n"
   ]
  },
  {
   "cell_type": "markdown",
   "id": "75b17e08",
   "metadata": {},
   "source": [
    "#  **Find Similar Mouse using Euclidean Distance Similarity**"
   ]
  },
  {
   "cell_type": "code",
   "execution_count": 10,
   "id": "a33f299f",
   "metadata": {
    "execution": {
     "iopub.execute_input": "2025-10-14T02:56:19.861937Z",
     "iopub.status.busy": "2025-10-14T02:56:19.861937Z",
     "iopub.status.idle": "2025-10-14T02:56:19.886668Z",
     "shell.execute_reply": "2025-10-14T02:56:19.886668Z"
    }
   },
   "outputs": [
    {
     "name": "stdout",
     "output_type": "stream",
     "text": [
      "จุดศูนย์กลาง (Ideal Profile) ในแกน PCA: [-1.78600473  1.12712374]\n",
      "\n",
      "--- 5 อันดับเมาส์แนะนำที่ใกล้เคียงกับสไตล์ของคุณที่สุด ---\n",
      "           Model     Brand  Distance_to_Ideal\n",
      "472         M996  Redragon           0.124088\n",
      "643   F1 Pro Max       ATK           0.128044\n",
      "124    VK M1 Pro  Valkyrie           0.136857\n",
      "342       AX5 V2    MCHOSE           0.142778\n",
      "163  Black Lotus     UNIUS           0.147502\n"
     ]
    },
    {
     "data": {
      "application/vnd.plotly.v1+json": {
       "config": {
        "plotlyServerURL": "https://plot.ly"
       },
       "data": [
        {
         "hovertemplate": "<b>%{hovertext}</b><br><br>Brand=AJAZZ<br>แกนคุณลักษณะหลักที่ 1 (PC1)=%{x}<br>แกนคุณลักษณะหลักที่ 2 (PC2)=%{y}<extra></extra>",
         "hovertext": [
          "T520 Max",
          "T520",
          "AJ179 V2 Max",
          "AJ179 V2",
          "AM3 Max",
          "AM3 Pro",
          "AJ179 APEX",
          "AJ179 PRO",
          "AJ179P",
          "AJ179",
          "M259",
          "AJ159APEX",
          "AJ159 PRO",
          "AJ159P",
          "AJ159",
          "AJ199 MC",
          "AJ199 Pro 4K",
          "AJ199 4K",
          "AJ139 Pro 4K",
          "AJ099",
          "AJ139 Pro",
          "AJ199"
         ],
         "legendgroup": "AJAZZ",
         "marker": {
          "color": "#636efa",
          "symbol": "circle"
         },
         "mode": "markers",
         "name": "AJAZZ",
         "showlegend": true,
         "type": "scattergl",
         "x": {
          "bdata": "CN0iRbb07b/aUolOB5Xovy9qwxvxsfg/SPWmU0Qj9j+pBKdXYUwEwKkEp1dhTATA1IUukUL8sD+yiXps7vHVP9dHjbDIguk/10eNsMiC6T8LCbqvwKPuP+Oc2G5/EP6/1OLM/Mej+b9V4aQ/317yv1XhpD/fXvK/z2uea31f8b/I6znCgyHYP6Eokumie/K/wn7PexDZ6r+2fO8rsszmv7Dn2whdRem/tPwqNv5a8b8=",
          "dtype": "f8"
         },
         "xaxis": "x",
         "y": {
          "bdata": "JpSy53n/0L+jG1p2+Nblv2+N5XDsaek/IQOhl+TB7j9RwOf+bEzGP1HA5/5sTMY/y9WaxNcW/j8ytIA+Ken0PxTqlNAjfOc/FOqU0CN85z8mRSOZQ5rhP8Qs70bYHPA/rSxUA6e82z/0nwmrbN/Bv/SfCats38G/mOlX2lEo2r8O++4QHOfoP5Xl3uHKJ8O/mxhPojgdxz+nDfa5qYrev9YmTTvfP7k/cwC2fOkX0L8=",
          "dtype": "f8"
         },
         "yaxis": "y"
        },
        {
         "hovertemplate": "<b>%{hovertext}</b><br><br>Brand=MCHOSE<br>แกนคุณลักษณะหลักที่ 1 (PC1)=%{x}<br>แกนคุณลักษณะหลักที่ 2 (PC2)=%{y}<extra></extra>",
         "hovertext": [
          "G3 V2 Pro",
          "G3 V2",
          "G3 A",
          "A5 V2 Ultra",
          "L7 Ultra+",
          "L7 Pro+",
          "K7 Ultra",
          "G7 Max",
          "G7 Pro",
          "G7",
          "M7 Ultra",
          "AX5 V2",
          "L7 Ultra",
          "L7 Pro",
          "L7",
          "A7 Ultra",
          "A7 Pro",
          "A7",
          "M7 Pro",
          "M7",
          "G3 Ultra",
          "G3 Max",
          "G3 Pro",
          "G3",
          "G3 SE",
          "A5 Ultra",
          "AX5 Pro Max",
          "AX5 Pro",
          "AX5",
          "A5 Pro Max",
          "A5 Pro",
          "A5"
         ],
         "legendgroup": "MCHOSE",
         "marker": {
          "color": "#EF553B",
          "symbol": "circle"
         },
         "mode": "markers",
         "name": "MCHOSE",
         "showlegend": true,
         "type": "scattergl",
         "x": {
          "bdata": "HSE4pSCW8b+fvNtCAG7rv5R/mVFac+e/GZbfE49v+r9GVYAxRwUAwNKRnzLPzPy/6phB+4N+87/WeZD7FVz4P2ibfo6kNf4/EV9Bng/AAUAbVAk8PVT2vydQ64VG3P6/UFvigtvsBcBJftzJf7YDwEl+3Ml/tgPAFUGzQctH9b8Hh6fPE9vwv3NTY8m1//G/DJr9yYXn8b9cRpBqoKryvxUEv2m23fa/FQS/abbd9r8CG0tAQzDxv5R/mVFac+e/arABeUWi6r+znH4lknP4v5NhWRAo1fq/S4VCpMet9r82symWK0T4vzWbVmipLvG/NZtWaKku8b+l/cNddF/yvw==",
          "dtype": "f8"
         },
         "xaxis": "x",
         "y": {
          "bdata": "K9vWIRFc0L9hKJn7+T3ovw92alTg2ey/x18/Mbys4T80fSRi2yn1P7IYNNGGr+o//Mr4Faqr+D/RQQ9rf1gBQNvo/Lue8vo/EGeRyu598T9unf/RExT4P3zRuZ4MBPI/vuVg8zQ58j9KiI3aDBfiP0qIjdoMF+I/A24+obsP9z/UmEg2GsTrP+JL0LUCSe4/q/fKl8rM7T9fL6dDznrvPzkMvwr/MMY/OQy/Cv8wxj+kYPfeBjTSvw92alTg2ey/Hmsp2vQp6b+Ugs5Nqi7aP6syhGZql+I/QGeMLA060D9u/rLWfo/XPyT0FBZm+8S/JPQUFmb7xL/IIrYtd/azvw==",
          "dtype": "f8"
         },
         "yaxis": "y"
        },
        {
         "hovertemplate": "<b>%{hovertext}</b><br><br>Brand=G-Wolves<br>แกนคุณลักษณะหลักที่ 1 (PC1)=%{x}<br>แกนคุณลักษณะหลักที่ 2 (PC2)=%{y}<extra></extra>",
         "hovertext": [
          "Fenrir Pro 8K",
          "HTX Ultra 8K",
          "VUK",
          "HTM Plus 8K",
          "HT-S2 Pro 8K",
          "Fenrir Max 8K",
          "Fenrir Asym 8K",
          "HTS Ultra 8K",
          "HTX Mini 8K",
          "HTS Plus 8K",
          "HTR Pro 8K",
          "HT-S2 8K",
          "HTR 8K",
          "HTS Ace Wireless",
          "HTM Ace",
          "HSK Plus 4K",
          "HSK Plus Lite",
          "HTX 4K",
          "HTX Ace",
          "HSK Pro 4K",
          "HSK Pro Ace",
          "HTS Plus 4K",
          "HTS",
          "HTS Wireless",
          "HSK",
          "HSK Plus",
          "HTS Plus",
          "HTM Wireless",
          "HTM",
          "Skoll Mini",
          "Skoll"
         ],
         "legendgroup": "G-Wolves",
         "marker": {
          "color": "#00cc96",
          "symbol": "circle"
         },
         "mode": "markers",
         "name": "G-Wolves",
         "showlegend": true,
         "type": "scattergl",
         "x": {
          "bdata": "DLPSpt+5E8B+817A9XsBwM/jN5bCyfy/wXJYCum9/b9xXCRC5ecGwKooGQ6V/xLAU5x/7vdPEsDNDf3mPbgDwKo/VJgZLAnAtZCOdkxw/b/kJBQr1MsQwG6+m9AmjgXAqPNcB37LD8DeW7Ap5rHxvzAi7CciqOG/Q+joVnIvCsDFIv7IS8wHwKQSAeYTz/2/dxEP52Xm+794Zv/Kd8gSwBWICdGPmRLAZujnzr5w9r+qWnUY8370vxqPbG9pufG/YNAWDRslDMD1xG0N5qgHwFDU+daNcfO/Ioe8wj1o17/AMg4C8zzJv/2PSuvJAeA/yF/+TDcT/D8=",
          "dtype": "f8"
         },
         "xaxis": "x",
         "y": {
          "bdata": "q6Q7bTcD378/1KKBjA/1P6hew2qbpfg/COBQocM5+T815OlxdhHxP7iFqEbCHOa/3MNP3NTn57+eGtNyZtzzP7EeTSkYDOM/7OuMxibc6D9Q0J38OC7MvyiATOjOh+Q/QhISkjcSwr+L/wBjX2Tjvw/nwPImVbQ/dpnr1IR07b/72NZKSRn2v68gJM5CCOA/UutGxIEA1j80/8ynUCUAwCFsj1IpOgDAvI5wucUYwz/EoAltJ7rZv4+JkUbB0OG/XE6yWGkKAcAUezgzJKz2v7zTWZb9lrq/BJuLU3Ems79MYJi9YjPYvzcEjpooLdc/gKIAZP164D8=",
          "dtype": "f8"
         },
         "yaxis": "y"
        },
        {
         "hovertemplate": "<b>%{hovertext}</b><br><br>Brand=Pulsar<br>แกนคุณลักษณะหลักที่ 1 (PC1)=%{x}<br>แกนคุณลักษณะหลักที่ 2 (PC2)=%{y}<extra></extra>",
         "hovertext": [
          "Susanto-X",
          "Pro Series JV-X",
          "Xlite CrazyLight",
          "X2F",
          "ZywOo The Chosen Mouse - Mini",
          "ZywOo The Chosen Mouse - Medium",
          "Xlite v4 eS Mini",
          "Xlite v4 eS Medium",
          "X2H v3 eS Mini",
          "X2H v3 eS",
          "TenZ Signature Edition",
          "X2A v3 eS Mini",
          "X2 v3 eS Mini",
          "X2 v3 Mini",
          "X2 CrazyLight",
          "X2H v3 Mini",
          "X2H v3",
          "X2A v3",
          "X2 v3",
          "Xlite v4 Large",
          "X2A Wired",
          "X2 Wired",
          "Feinmann F01",
          "Xlite v4 Medium",
          "Xlite v4 Mini",
          "Xlite Wired",
          "Xlite V2 Mini Wireless",
          "Xlite Wireless",
          "Xlite",
          "Xlite V2 Wireless",
          "X2H Wired",
          "X3",
          "X3 Mini",
          "X3 LHD",
          "X3 LHD Mini",
          "X2A eS",
          "X2H eS",
          "Xlite v3 Large",
          "Xlite v3 Mini",
          "Xlite v3 Medium",
          "Xlite v3 eS",
          "X2A Mini",
          "X2A",
          "X2H Mini",
          "X2H",
          "X2V2 Mini",
          "X2V2",
          "X2 Mini",
          "X2"
         ],
         "legendgroup": "Pulsar",
         "marker": {
          "color": "#ab63fa",
          "symbol": "circle"
         },
         "mode": "markers",
         "name": "Pulsar",
         "showlegend": true,
         "type": "scattergl",
         "x": {
          "bdata": "I3QKPpn//L+HWE7s51Klv4RMzxBV2d6/nO7W/P7FDsBQM0/rl2qeP08uW3of++U/x+67NhrYcD+6/1MN2bfqP7M6O5EuCPq/84gM1CMc8r8duxYzAmf4v03dEkrGtPy/VQg9QQ2//r9lc/P/WAEBwNhRnb79RATAFrE2gg9A/7+DSbppOrz2vzSZoN2Vhvm/qMsEhzUa+796o385QAbzP40+DUDQ/fC/nX3K01f28r/KfY5xLqRMvw6SBlGo+98/Kr3JG3x5y7+FooP5NC/wPx1sQASUreE/qQmHBaqO8z8qr8sJda7vP6kJhwWqjvM/AFqA9csn7b+6X9SZAADtPxFzmegkess/ul/UmQAA7T8Rc5noJHrLPxOcrxbyIvO/UZOzrmSb8b+9CmzB7fP7P3q+zBH4+dU/akCD7UhL8T9Fy9yiYgnuP0uQpRgyc/e/7zG0VeiY8L8ZaJlxn+v1v7h5qarA1+q/g3/6dwQV+b9jZBj/hyzyv7ZDJeCPrPi/jT4NQND98L8=",
          "dtype": "f8"
         },
         "xaxis": "x",
         "y": {
          "bdata": "0DjuLtVi7D828Pwvb2P3PxARupIas/s/YVsjLmB8578FvOfmtID3P5+hd/ROov0/jY4+1XDr8j/IcVfp0+r7P7kpyllRutI/YGQCs1FE5z9eJSwRZlD0PyQMIKjDM8I/XbpEOKnP0j85un8fdCzhPyU6HZPZWvA/YPqxqXuR5T8MCiOj8MzwP08lQCkUGec/HJ7Mrli26j8xOM20XaECQB9AzWXEgKO//heWBEtkuj+0sw8+wy3+Pyslw2VDa/8/4iK2nePe9j/cfrbTJJjzPxmqDiMvmtc/N09HmNgz6T9NKKELZpLwPzdPR5jYM+k/aN738Lk01D+3B6dTqK8BQLew6dZT3f0/twenU6ivAUC3sOnWU939P9CGHNAOfMU/Hrc/s3L34j+cZBqhgqb4P0AubKpVheQ/r2YJgn1q8j8vpQ13snn4P6AXXmaa3Ne/rpH/Pev6sL8LRcY5LF3CvxMNrE7kE84/l7oA4/oX0L+Dacjccd6nP9kR2MMiCdK/H0DNZcSAo78=",
          "dtype": "f8"
         },
         "yaxis": "y"
        },
        {
         "hovertemplate": "<b>%{hovertext}</b><br><br>Brand=Dark<br>แกนคุณลักษณะหลักที่ 1 (PC1)=%{x}<br>แกนคุณลักษณะหลักที่ 2 (PC2)=%{y}<extra></extra>",
         "hovertext": [
          "Project Novus Pro",
          "Project Novus",
          "Project Novus SE",
          "Project Nexus Ultra",
          "Project Nexus"
         ],
         "legendgroup": "Dark",
         "marker": {
          "color": "#FFA15A",
          "symbol": "circle"
         },
         "mode": "markers",
         "name": "Dark",
         "showlegend": true,
         "type": "scattergl",
         "x": {
          "bdata": "E2e6FNlz9L9O3foIlCjqvynLJK/gXeq/71isHD2N8795Vuj4TnXrvw==",
          "dtype": "f8"
         },
         "xaxis": "x",
         "y": {
          "bdata": "vUo6wJFB8j/ZdyYjUkfiPygXCNT0LOI/eJpgMmuR9D+tBp9EDCToPw==",
          "dtype": "f8"
         },
         "yaxis": "y"
        },
        {
         "hovertemplate": "<b>%{hovertext}</b><br><br>Brand=Chaos<br>แกนคุณลักษณะหลักที่ 1 (PC1)=%{x}<br>แกนคุณลักษณะหลักที่ 2 (PC2)=%{y}<extra></extra>",
         "hovertext": [
          "M3 Mini"
         ],
         "legendgroup": "Chaos",
         "marker": {
          "color": "#19d3f3",
          "symbol": "circle"
         },
         "mode": "markers",
         "name": "Chaos",
         "showlegend": true,
         "type": "scattergl",
         "x": {
          "bdata": "d6q0wM8W/78=",
          "dtype": "f8"
         },
         "xaxis": "x",
         "y": {
          "bdata": "xmHLxIkA6D8=",
          "dtype": "f8"
         },
         "yaxis": "y"
        },
        {
         "hovertemplate": "<b>%{hovertext}</b><br><br>Brand=Attack<br>แกนคุณลักษณะหลักที่ 1 (PC1)=%{x}<br>แกนคุณลักษณะหลักที่ 2 (PC2)=%{y}<extra></extra>",
         "hovertext": [
          "Shark V5",
          "Shark R11 Ultra",
          "Shark X8 Ultra",
          "Shark X11 SE",
          "Shark X8 SE",
          "Shark X8 Pro",
          "Shark X8 Plus",
          "Shark G3 Pro",
          "Shark G3",
          "Shark X1",
          "Shark R5 Ultra",
          "Shark R6",
          "Shark X3 Max",
          "Shark R2",
          "Shark X11",
          "Shark R3",
          "Shark R1",
          "Shark X3 Pro",
          "Shark X6",
          "Shark X3"
         ],
         "legendgroup": "Attack",
         "marker": {
          "color": "#FF6692",
          "symbol": "circle"
         },
         "mode": "markers",
         "name": "Attack",
         "showlegend": true,
         "type": "scattergl",
         "x": {
          "bdata": "bRhZLuXS+r/3sh0OuAH6vw0zwa2F7fa/I7Me4YuA17++d9kONOrlv8u7f7/uX/a/mXSvBAw27r81K09d/WbyvzUrT139ZvK/mhkcgm1A97984ZV11ugDwEw8tZhaJgTAY6yv4XP++L+Ag9Zi8EUBwGq8I0oIetG/dyyKHYPXAMDIObiErjbwP+czlZUx5fe/WUDiLv359r9U8qNvvJH0vw==",
          "dtype": "f8"
         },
         "xaxis": "x",
         "y": {
          "bdata": "KAK2kO9R9T/CXN4gIlj5P/6yMZJdrfg/LzviKhcp0z+LwP418wbXP8tubsGnh/c/RF9w1iC57D8cLpJTXo/VvxwuklNej9W/xXi/2q/54D8kfaF1ujj2P4b1n8A2//U/X1mb8IY95z9ZFuoM3Ir1P/xsTC8lO8k/ZJtg9Zc+4T8JCjo+bYjhPy/ftbKJWtw/A4Z6J389lb+7WJyRp4jDPw==",
          "dtype": "f8"
         },
         "yaxis": "y"
        },
        {
         "hovertemplate": "<b>%{hovertext}</b><br><br>Brand=LAMZU<br>แกนคุณลักษณะหลักที่ 1 (PC1)=%{x}<br>แกนคุณลักษณะหลักที่ 2 (PC2)=%{y}<extra></extra>",
         "hovertext": [
          "MAYA Champion Edition",
          "x REJECT Paro Reject Special Edition",
          "Paro Aurora",
          "x Aimlabs MAYA X",
          "Inca",
          "Tachi",
          "MAYA X",
          "x Fnatic MAYA X 8K",
          "x Fnatic MAYA 8K",
          "Paro",
          "Atlantis Mini Champion",
          "MAYA 4K",
          "x Fnatic Thorn 4K",
          "Thorn 4K",
          "Atlantis Mini 4K",
          "Atlantis Mini Pro",
          "Atlantis OG V2 4K",
          "Atlantis OG V2 Pro",
          "MAYA",
          "Atlantis OG V2",
          "Thorn",
          "Atlantis Mini",
          "Atlantis"
         ],
         "legendgroup": "LAMZU",
         "marker": {
          "color": "#B6E880",
          "symbol": "circle"
         },
         "mode": "markers",
         "name": "LAMZU",
         "showlegend": true,
         "type": "scattergl",
         "x": {
          "bdata": "A+6G7y6F/7/3zSH2tymsv/fNIfa3Kay/OmQwthV79b9yE0ZuMmn7v9iGJ0I+IPy/OmQwthV79b9rpexQfj32vwPuhu8uhf+/3wnwaA7wjD+mXAX2Ym7+vzgj7aagQvq/if0XFWbF4D+J/RcVZsXgP0c+lAt7+fm/ERmDuvLb9r+caifh0CXuvzEgBT/A6ue/Av7bVRgl978xIAU/wOrnv/VHOrd2AOc/qvedeGLs9L8xIAU/wOrnvw==",
          "dtype": "f8"
         },
         "xaxis": "x",
         "y": {
          "bdata": "AsAf4Jzf7D8dIrE8Fon6Px0isTwWifo/9srb3I1b9T8QXYh5c/r1P4WO0pIxCOw/9srb3I1b9T9DrUfY3jD2PwLAH+Cc3+w/t5kqm6o9+D/eLSIiW23jP1lgqZnDnNs/qhEIfTh18z+qEQh9OHXzP6n0BTGx9cg/1yHQ/ujlqb9ckLnLVTfgPyciFt8Vt9A/kcOYwlvKxz8nIhbfFbfQPw2k4R2mDu8/Br+Hiq5M078nIhbfFbfQPw==",
          "dtype": "f8"
         },
         "yaxis": "y"
        },
        {
         "hovertemplate": "<b>%{hovertext}</b><br><br>Brand=ATK<br>แกนคุณลักษณะหลักที่ 1 (PC1)=%{x}<br>แกนคุณลักษณะหลักที่ 2 (PC2)=%{y}<extra></extra>",
         "hovertext": [
          "U2 Mini",
          "Duckbill",
          "X1 S",
          "X1 SE",
          "U2 Ultimate",
          "U2 Ultra",
          "U2 Pro Max",
          "U2 Pro",
          "U2 Plus",
          "U2",
          "U2 SE",
          "A9 Pro Max",
          "A9 Ultra",
          "A9 Pro",
          "A9 Plus",
          "A9 SE",
          "A9",
          "X1",
          "Fierce X",
          "F1 Extreme",
          "X1 Ultimate",
          "Z1 Ultra",
          "Z1 Pro Max",
          "X1 Ultra",
          "X1 Pro Max",
          "X1 Pro",
          "F1 Ultimate",
          "F1 Pro Max",
          "F1 Pro"
         ],
         "legendgroup": "ATK",
         "marker": {
          "color": "#FF97FF",
          "symbol": "circle"
         },
         "mode": "markers",
         "name": "ATK",
         "showlegend": true,
         "type": "scattergl",
         "x": {
          "bdata": "bP0ct3HSAMBYk4r+96MBwPCW7hX55+K/wbnFR4P23L/59mdKpZ35v5ldDrm13vm/okcPLSHl8r9RCccRwxr3v0eMzt9wQOe/1nZoNgrY67/Wdmg2Ctjrv8IQG//8wfC/ryRFiWez9r+gajkXsEbyv4ge5oMo+uK/UJkcWZuK3L9D0iK0jgPmv/ZMH0jluPC/QeCevTfeA8Bn5i69RcYCwGzWrtqWR/a/dUSnOsL92j/GbdyyatDgPwUHK7qcJfW/P6Fm79d887/q+ux6I2D1v7Pki9SzLgLA/FU7mRP4/b8AsVpLT/H/vw==",
          "dtype": "f8"
         },
         "xaxis": "x",
         "y": {
          "bdata": "Lams7MHK9j97B/K0gsLzPzUbImfc/uA/beYfhLdEzz9vutzNown6P95i/DURt/g/AUy76cah7D/gDSwihPryP1ubnXowl9Q/vGYxxnfD3j+8ZjHGd8PeP0m1rI3mSu4//q3ginr9+T9kjMYEzM/wP+9tgMJv6dc/WwqksQHRmL/zNEG60pLeP8RMx4mFqvE/tl+ZvmS78z+x63XfQcX6P1aNHkszFPw/gRHFRW4LAkAzK6CM3VIAQFxu4Q802Po/wqGXnRJn9z9i1VIAvHX5P4YCU2hBafk/RpF9GR6I8D/iFQ3gHszyPw==",
          "dtype": "f8"
         },
         "yaxis": "y"
        },
        {
         "hovertemplate": "<b>%{hovertext}</b><br><br>Brand=INZONE<br>แกนคุณลักษณะหลักที่ 1 (PC1)=%{x}<br>แกนคุณลักษณะหลักที่ 2 (PC2)=%{y}<extra></extra>",
         "hovertext": [
          "Mouse-A"
         ],
         "legendgroup": "INZONE",
         "marker": {
          "color": "#FECB52",
          "symbol": "circle"
         },
         "mode": "markers",
         "name": "INZONE",
         "showlegend": true,
         "type": "scattergl",
         "x": {
          "bdata": "Abdf6Kqi978=",
          "dtype": "f8"
         },
         "xaxis": "x",
         "y": {
          "bdata": "FpAv5qUu8j8=",
          "dtype": "f8"
         },
         "yaxis": "y"
        },
        {
         "hovertemplate": "<b>%{hovertext}</b><br><br>Brand=VAXEE<br>แกนคุณลักษณะหลักที่ 1 (PC1)=%{x}<br>แกนคุณลักษณะหลักที่ 2 (PC2)=%{y}<extra></extra>",
         "hovertext": [
          "ZYGEN NP-01S Ergo",
          "XE v2",
          "ZYGEN NP-01S v2",
          "x Ninjutso Sora 4K",
          "E1 Wireless 4K",
          "XE-S L Wireless 4K",
          "XE-S Wireless 4K",
          "ZYGEN NP-01 Wireless 4K",
          "ZYGEN NP-01S Wireless 4K",
          "XE Wireless 4K",
          "OUTSET AX Wireless 4K",
          "OUTSET AX Wireless",
          "ZYGEN NP-01S Wireless",
          "ZYGEN NP-01S",
          "XE Wireless",
          "XE",
          "OUTSET AX",
          "ZYGEN NP-01"
         ],
         "legendgroup": "VAXEE",
         "marker": {
          "color": "#636efa",
          "symbol": "circle"
         },
         "mode": "markers",
         "name": "VAXEE",
         "showlegend": true,
         "type": "scattergl",
         "x": {
          "bdata": "4gBZQ+xZ1b8G5wYUAVfWv1Dj9iagoeC/SecuVLu+5r/bII0hea7yP+GCbZ6gBO6/4YJtnqAE7r90w5EVYmXSP4pu4559es+/CgrisZ1/rD9KOxwu5Gv4P4BgLX9sifs/XxNpWew4qr/QSqijcwWYPxvWgPoUBtA/e1H5EZt8oj/9OXmDD6n8P3RYFWcs9+A/",
          "dtype": "f8"
         },
         "xaxis": "x",
         "y": {
          "bdata": "s0oMCOiz4b8f8kF8oePTvwVAvBxeeOS/9+e/bIzX5L+Q1Wv4n7jKP34UVpk7bu6/fhRWmTtu7r844GIMVwHnvypKIiv0oO6/2yg568w16L/vXDCA1v+vvy4KY4iQt9O/umSog18+87942uSc/6D0vxPUs+PLCPC/BLw8ZDCE6L8G6MyhypDYvzdzj3l5SfC/",
          "dtype": "f8"
         },
         "yaxis": "y"
        },
        {
         "hovertemplate": "<b>%{hovertext}</b><br><br>Brand=Ausdom<br>แกนคุณลักษณะหลักที่ 1 (PC1)=%{x}<br>แกนคุณลักษณะหลักที่ 2 (PC2)=%{y}<extra></extra>",
         "hovertext": [
          "G04 Ultra",
          "G04 Pro",
          "G04 Air"
         ],
         "legendgroup": "Ausdom",
         "marker": {
          "color": "#EF553B",
          "symbol": "circle"
         },
         "mode": "markers",
         "name": "Ausdom",
         "showlegend": true,
         "type": "scattergl",
         "x": {
          "bdata": "S+g27R25tb9Q0D38ukyTPwPjY6RuSN4/",
          "dtype": "f8"
         },
         "xaxis": "x",
         "y": {
          "bdata": "GI2jbteA/T98wFn8tQ/6P1SBI6ae5PA/",
          "dtype": "f8"
         },
         "yaxis": "y"
        },
        {
         "hovertemplate": "<b>%{hovertext}</b><br><br>Brand=Rapoo<br>แกนคุณลักษณะหลักที่ 1 (PC1)=%{x}<br>แกนคุณลักษณะหลักที่ 2 (PC2)=%{y}<extra></extra>",
         "hovertext": [
          "VT2 Max",
          "VT2",
          "VT3S Max Gen-2",
          "VT3S Gen-2",
          "VT3 Max Gen-2",
          "VT3 Gen-2",
          "MT760 Mini",
          "MT760 Pro",
          "MT760",
          "VT7 Max",
          "VT7",
          "VT9 Pro 4K",
          "VT3 Pro Max",
          "VT3 Pro",
          "VT1 Pro Max",
          "VT1 Air Max",
          "VT1 Pro",
          "VT3S (Old)",
          "VT900",
          "VT9 Air",
          "VT9 Pro Mini",
          "VT9 Pro",
          "VT9S",
          "VT960 Pro"
         ],
         "legendgroup": "Rapoo",
         "marker": {
          "color": "#00cc96",
          "symbol": "circle"
         },
         "mode": "markers",
         "name": "Rapoo",
         "showlegend": true,
         "type": "scattergl",
         "x": {
          "bdata": "kFrUg1A6+L+ebWasNvnyv9qIoZ+2BdI/6kKtEW5y1j+ljb0QdHLpP61qw8nPqOs/Lvgj99iUDkDLKKDCh3oVQBDFSXJNsxVA7hOAt0/l8b9qJf3aIcrwvzcvgeBGjNq/pGTvAoLj4j+rQfW73RnlP1JXzRzm8/m/e8qNNieI/b/OaEpAuNj4vwlEf4dXqs4/pl7eFUgJEEDTxJUMkFf0v5kq6dHlsuu/vjR5OEsszL/dASwDTwasv/jA6kLXLMu/",
          "dtype": "f8"
         },
         "xaxis": "x",
         "y": {
          "bdata": "ixPNTBiO+z+lC44N2afwP7YOmui3QP4/UIYTR0z1+z+Horgq0RgBQKW86rM25v8/nR3lHUt4E8D2rqcrXSAOwHpFBMGx+Q/A/EsifBCT9D+Xw5vapEfyP0eBOJHlKdc/fj1g5fWK+z8YtdlDij/5Pwbo+5jK998/b4mKdCRF6D9txuESHMrWP0gLMrAOm8S/TIBdRhOD1b9RmI51Y5jhPw8251O6Kq0/2ApuYz/JvT/uzUMYPGiwvwuQFAFSlJO/",
          "dtype": "f8"
         },
         "yaxis": "y"
        },
        {
         "hovertemplate": "<b>%{hovertext}</b><br><br>Brand=Freewolf<br>แกนคุณลักษณะหลักที่ 1 (PC1)=%{x}<br>แกนคุณลักษณะหลักที่ 2 (PC2)=%{y}<extra></extra>",
         "hovertext": [
          "A7",
          "A6"
         ],
         "legendgroup": "Freewolf",
         "marker": {
          "color": "#ab63fa",
          "symbol": "circle"
         },
         "mode": "markers",
         "name": "Freewolf",
         "showlegend": true,
         "type": "scattergl",
         "x": {
          "bdata": "AD36pnTQ6z8BW6HR6LDyvw==",
          "dtype": "f8"
         },
         "xaxis": "x",
         "y": {
          "bdata": "Ye+8yegA4z+z7W0dc53bvw==",
          "dtype": "f8"
         },
         "yaxis": "y"
        },
        {
         "hovertemplate": "<b>%{hovertext}</b><br><br>Brand=Microsoft<br>แกนคุณลักษณะหลักที่ 1 (PC1)=%{x}<br>แกนคุณลักษณะหลักที่ 2 (PC2)=%{y}<extra></extra>",
         "hovertext": [
          "Comfort Mouse 4500",
          "Wheel Mouse Optical",
          "Sidewinder X8",
          "Classic IntelliMouse",
          "Pro IntelliMouse"
         ],
         "legendgroup": "Microsoft",
         "marker": {
          "color": "#FFA15A",
          "symbol": "circle"
         },
         "mode": "markers",
         "name": "Microsoft",
         "showlegend": true,
         "type": "scattergl",
         "x": {
          "bdata": "JUJj8zAC+j9OLWbeos/2P2i5F2tfZxNAqOWTC/XtCED4LqL7MMMIQA==",
          "dtype": "f8"
         },
         "xaxis": "x",
         "y": {
          "bdata": "PM7M2YwWA8DHWKcFaZEXwIQKT3fclem/ZNFH+1VSwb9ogTds7BS/Pw==",
          "dtype": "f8"
         },
         "yaxis": "y"
        },
        {
         "hovertemplate": "<b>%{hovertext}</b><br><br>Brand=HyperX<br>แกนคุณลักษณะหลักที่ 1 (PC1)=%{x}<br>แกนคุณลักษณะหลักที่ 2 (PC2)=%{y}<extra></extra>",
         "hovertext": [
          "Pulsefire Fuse",
          "Pulsefire Haste 2 S",
          "Pulsefire Saga Pro",
          "Pulsefire Haste 2 Pro",
          "Pulsefire Warp",
          "Pulsefire Haste 2 Core Wireless",
          "Pulsefire Surge",
          "Pulsefire Haste 2 Mini",
          "Pulsefire Haste 2 Wireless",
          "Pulsefire Haste 2 Wired",
          "Pulsefire Raid",
          "Pulsefire Dart",
          "Pulsefire FPS Pro",
          "Pulsefire Core",
          "Pulsefire Haste",
          "Pulsefire Haste Wireless"
         ],
         "legendgroup": "HyperX",
         "marker": {
          "color": "#19d3f3",
          "symbol": "circle"
         },
         "mode": "markers",
         "name": "HyperX",
         "showlegend": true,
         "type": "scattergl",
         "x": {
          "bdata": "tF6JzHvimz/0JMWfGxXav9YccmjMnO8/0VNxzY5R5r+yvW4hKj/Sv76vDGfjArK/aciMpbrJ2j8ziAuFVtr0v2QJTyt+FuC/Gf07Lhhc8r9pyVC9L40IQFEjPFcnhgtAb9YL/ZRwBUB5PUWuFdHXPxf9Nucpo9a/F/025ymj1r8=",
          "dtype": "f8"
         },
         "xaxis": "x",
         "y": {
          "bdata": "r7TKG4Xi5L+DMzFzfcTAPypcMj3GYOQ/jEdLHpHP3j8acyA7kEzpvw+LGMhgc96/dIAqWw4y9b8NeSBUjszcv/WR3Mv2L84/BKnchfRL8D/ACJIy73HdPyLhNR1itMk/Ic2Z+HJ7zz83KZL0o/Dzv9B89vgms7i/0Hz2+CazuL8=",
          "dtype": "f8"
         },
         "yaxis": "y"
        },
        {
         "hovertemplate": "<b>%{hovertext}</b><br><br>Brand=Darmoshark<br>แกนคุณลักษณะหลักที่ 1 (PC1)=%{x}<br>แกนคุณลักษณะหลักที่ 2 (PC2)=%{y}<extra></extra>",
         "hovertext": [
          "M2 Air",
          "M5 Air",
          "N3 Pro",
          "M3 Micro Pro",
          "N7 Max",
          "N7",
          "M3 XS Pro",
          "M2 Pro",
          "M3S MAX",
          "M5 Pro",
          "M3 Pro Max",
          "N5",
          "M3 XS",
          "M2",
          "M5",
          "M3 Micro",
          "M3S Pro",
          "M3 Pro",
          "M3S",
          "M3 4K",
          "N3",
          "M3"
         ],
         "legendgroup": "Darmoshark",
         "marker": {
          "color": "#FF6692",
          "symbol": "circle"
         },
         "mode": "markers",
         "name": "Darmoshark",
         "showlegend": true,
         "type": "scattergl",
         "x": {
          "bdata": "VNk3wZ5TBMConrEX+6MOwEUd77LVreI/yBoXfj9zC8ANjPpkUXfOPx55m67nOdU/SIffaNI9A8DQz3kOWA0EwGZ1SFBVVfq/yrwVVgL/DMByC/vquSzvvzm3knvDfuI/46GSRIucAMCcymxSCKEBwGTXyDG7XQrAhqPVj6jlCsBIitCvnkn0v39U14DRaeK/IxzFee418r/cAjHpAYPUv43O0+p18+4/tK2gd0oJ2L8=",
          "dtype": "f8"
         },
         "xaxis": "x",
         "y": {
          "bdata": "cSIXy8dQ5T/cZbtG/GnBv2QvZSGKSvQ/vjiTT1IM1b8Qrb8e9yD+PwyOw5Qcg/w/1KhebGzg4T/T/cJJkujlPywgVChdaOs/GxoiaESC2r+t84E4IOX2P+gDr+HQvPg/1secyIp5tj9Z7UCeaVzPP+QcXEddUuy/WVqt1QA63r9kI/uXXBfVPzv+cNv/T+w/tEh6j/E5xT+lAo8Gsa7kP9QJv2F4t+g/bSUKccip5D8=",
          "dtype": "f8"
         },
         "yaxis": "y"
        },
        {
         "hovertemplate": "<b>%{hovertext}</b><br><br>Brand=Flickshot<br>แกนคุณลักษณะหลักที่ 1 (PC1)=%{x}<br>แกนคุณลักษณะหลักที่ 2 (PC2)=%{y}<extra></extra>",
         "hovertext": [
          "One Pro"
         ],
         "legendgroup": "Flickshot",
         "marker": {
          "color": "#B6E880",
          "symbol": "circle"
         },
         "mode": "markers",
         "name": "Flickshot",
         "showlegend": true,
         "type": "scattergl",
         "x": {
          "bdata": "7+rL6g45AcA=",
          "dtype": "f8"
         },
         "xaxis": "x",
         "y": {
          "bdata": "/+9B6FW19D8=",
          "dtype": "f8"
         },
         "yaxis": "y"
        },
        {
         "hovertemplate": "<b>%{hovertext}</b><br><br>Brand=Keychron<br>แกนคุณลักษณะหลักที่ 1 (PC1)=%{x}<br>แกนคุณลักษณะหลักที่ 2 (PC2)=%{y}<extra></extra>",
         "hovertext": [
          "M6 8K",
          "M6 Lite",
          "M4 8K",
          "M3 8K",
          "M3 Lite",
          "M2 8K",
          "M2 4K",
          "M6 4K",
          "M3 Mini 8K",
          "M5",
          "M7 8K",
          "Lemokey G2",
          "Lemokey G1",
          "M7",
          "M4",
          "M4 4K",
          "M6",
          "M3 Mini 4K - Metal Edition",
          "M2 Mini",
          "M3 Mini 4K",
          "M3 4K",
          "M3",
          "M2",
          "M1 Wireless",
          "M1 Wired",
          "M3 Mini"
         ],
         "legendgroup": "Keychron",
         "marker": {
          "color": "#FF97FF",
          "symbol": "circle"
         },
         "mode": "markers",
         "name": "Keychron",
         "showlegend": true,
         "type": "scattergl",
         "x": {
          "bdata": "wMRcK4gXBkAnXhe6IzcMQHawYnWWhxHA3GZgHoopyr/oS1KzC/ThP6acPmQUEtQ/7ONSwyaO5D81FlGYWVwHQKVaV8rqoPW/hRVbCizIGEA2aknEwTn9P0dzmbT9RPy/MeJDk0nM/b8cLfou7MwCQOzo750h3w7Awz084/I2EMDQqNnAHesIQN1fu9mxyem/gmrKz+7/wT/Zj72BXF7wvwbf20zQ1b8/m4x7V5Vr1D9YLnVlN8nqPxfN9k5Jx8E/+rjj8vWAqz9E1VhhqIHqvw==",
          "dtype": "f8"
         },
         "xaxis": "x",
         "y": {
          "bdata": "jSTmLtFcAkAipLiwJjvxP9GFy9p0//C/KcoSAJo76j+C/yi0uoLZvxFv9OZVi/s/J+dOXbgC9D+AIqi9B8L/Pwh5cLj+0ew/aQCjjfxvEUBpw+zt1dsBQFm0iFuFreY/h24onlm/4D9AvxzkKEH4P2BNiNL3dfy/vA1xZBKI+L/b4pBPItT7P8PWLkE25sc/OsRz9Axb4T9l0kpKh4HbP6N0j9m9VNY/U9jJhKB0uj+Dpzfv0hTwP8bgpODrY4y/NDxiF5nkt7+np9sj45PHPw==",
          "dtype": "f8"
         },
         "yaxis": "y"
        },
        {
         "hovertemplate": "<b>%{hovertext}</b><br><br>Brand=Endgame<br>แกนคุณลักษณะหลักที่ 1 (PC1)=%{x}<br>แกนคุณลักษณะหลักที่ 2 (PC2)=%{y}<extra></extra>",
         "hovertext": [
          "Gear XM2w 4k v2",
          "Gear XM2 8k v2",
          "Gear OP1 8k v2",
          "Gear OP1w 4k v2",
          "Gear OP1w 4k",
          "Gear XM2w 4k",
          "Gear XM2 8k",
          "Gear OP1 8k",
          "Gear OP1 8k Purple",
          "Gear OP1we",
          "Gear OP1 RGB",
          "Gear OP1",
          "Gear XM2we",
          "Gear XM2w",
          "Gear XM1",
          "Gear XM1 RGB",
          "Gear XM1r"
         ],
         "legendgroup": "Endgame",
         "marker": {
          "color": "#FECB52",
          "symbol": "circle"
         },
         "mode": "markers",
         "name": "Endgame",
         "showlegend": true,
         "type": "scattergl",
         "x": {
          "bdata": "WSKrtQX/6r83RLSlM331v8s9ABJ1lgDAp9Iz7SNf+b8j5LAQ9kP4v9qv979uZui/9oraKugw9L9uPaLb6an/v/qVEtyLYgDAhp26fd02879R7J6yLv33v/E7eh4BZfi/V+9fQY4P2795Onqk52bhv/aUtREU/8m/ZvHEXkWutT8HlmOeE1HQvw==",
          "dtype": "f8"
         },
         "xaxis": "x",
         "y": {
          "bdata": "bUHLNGXm3j/LbE0/WTrxP66UpwsP+eI/zcvC/Utncb+PWSJsl+bCv9hmGBNn3tQ/TWzBbbNw7T9C5XPwcNnaP20DR7uPA+I/EvONbGmd5L++c0wS1nvHv8UuytDYpcO/9ohHjn47yb97sk8ckZGrP3V7Ea5ccN+/iWkxounz6b9A4n3JGY7Yvw==",
          "dtype": "f8"
         },
         "yaxis": "y"
        },
        {
         "hovertemplate": "<b>%{hovertext}</b><br><br>Brand=AULA<br>แกนคุณลักษณะหลักที่ 1 (PC1)=%{x}<br>แกนคุณลักษณะหลักที่ 2 (PC2)=%{y}<extra></extra>",
         "hovertext": [
          "SC360",
          "SC900 Pro",
          "SC900 Max",
          "SC620",
          "SC800",
          "SC580",
          "SC680"
         ],
         "legendgroup": "AULA",
         "marker": {
          "color": "#636efa",
          "symbol": "circle"
         },
         "mode": "markers",
         "name": "AULA",
         "showlegend": true,
         "type": "scattergl",
         "x": {
          "bdata": "qJqivMMg6b+BwCMQvEnzP/3RoDOOLvI/glHLyjWL8j9PvYbsM1j7v+x7hoLxLtC/Lx/6Z+Uw9L8=",
          "dtype": "f8"
         },
         "xaxis": "x",
         "y": {
          "bdata": "nrtHsOb62b9nAdT97nz+P+dErU8tZABAHYt7EolioL/tmTUe9dPWP0kIFFPxMPe/yby6x0MH5z8=",
          "dtype": "f8"
         },
         "yaxis": "y"
        },
        {
         "hovertemplate": "<b>%{hovertext}</b><br><br>Brand=Incott<br>แกนคุณลักษณะหลักที่ 1 (PC1)=%{x}<br>แกนคุณลักษณะหลักที่ 2 (PC2)=%{y}<extra></extra>",
         "hovertext": [
          "039 Pro",
          "39",
          "039 SC",
          "029 Pro",
          "29",
          "029 SC",
          "G23 V2 Pro",
          "G23 V2",
          "G23 V2 SC",
          "G24 Pro",
          "G24",
          "G23 Pro",
          "G23",
          "GHERO Pro",
          "GHERO"
         ],
         "legendgroup": "Incott",
         "marker": {
          "color": "#EF553B",
          "symbol": "circle"
         },
         "mode": "markers",
         "name": "Incott",
         "showlegend": true,
         "type": "scattergl",
         "x": {
          "bdata": "D3w861mU878ZUVFCPWrkv6wrMII+KeW/K7PM9D3uAsB0+tNRq8r9v3T601Gryv2/aPyzIx9a9L++bY099MP0v7SFJPs0JfW/ow58OZ8c5T83twqIhKTqP1yrW8CALvO/Y0UU7YWi4L8VWx7SVTDnv6Hn886p1eu/",
          "dtype": "f8"
         },
         "xaxis": "x",
         "y": {
          "bdata": "JbbWZm0w/z/WRKTqTCrwPyCHYhTSkPA//MEtgp1V+D+SdkO6NurlP5J2Q7o26uU/avAFaLIJ9D+By3O2YWnzP2HkcHIo1PM/S0GdJVMSAECULWo3GWj6P7YT572nzfY/B2Xuasq12D8Ln6xWoVbnP1pqMa4mjuw/",
          "dtype": "f8"
         },
         "yaxis": "y"
        },
        {
         "hovertemplate": "<b>%{hovertext}</b><br><br>Brand=Razer<br>แกนคุณลักษณะหลักที่ 1 (PC1)=%{x}<br>แกนคุณลักษณะหลักที่ 2 (PC2)=%{y}<extra></extra>",
         "hovertext": [
          "DeathAdder V4 Pro",
          "Cobra HyperSpeed",
          "Pro Click V2",
          "Basilisk Mobile",
          "Pro Click V2 Vertical",
          "Imperator",
          "Abyssus Essential",
          "Basilisk V3 Pro 35K",
          "Basilisk V3 35K",
          "Viper Ultimate",
          "Pro Click",
          "DeathAdder V3 HyperSpeed",
          "DeathAdder Elite",
          "DeathAdder Chroma",
          "DeathAdder Expert",
          "Atheris",
          "Ouroboros",
          "Viper V3 Pro",
          "Pro Click Mini",
          "Naga Left-Handed",
          "Naga Trinity",
          "Mamba Wireless",
          "Mamba Elite",
          "Naga X",
          "Viper V3 HyperSpeed",
          "Naga Pro",
          "Viper 8KHz",
          "Viper",
          "Copperhead",
          "Viper V2 Pro",
          "DeathAdder Essential",
          "Cobra Pro",
          "Cobra",
          "DeathAdder V2 Mini",
          "DeathAdder V2 X HyperSpeed",
          "DeathAdder V2",
          "Basilisk V3 X HyperSpeed",
          "Naga V2 HyperSpeed",
          "Naga V2 Pro",
          "Basilisk Essential",
          "DeathAdder V3",
          "Basilisk V3",
          "Lancehead Wireless",
          "Lancehead",
          "Viper Mini Signature Edition",
          "Abyssus 2014",
          "Basilisk Ultimate",
          "Diamondback 2015",
          "Basilisk V2",
          "Krait 2013",
          "Basilisk X HyperSpeed",
          "Basilisk",
          "Basilisk V3 Pro",
          "DeathAdder V3 Pro",
          "Viper Mini",
          "DeathAdder V2 Pro",
          "Orochi V2"
         ],
         "legendgroup": "Razer",
         "marker": {
          "color": "#00cc96",
          "symbol": "circle"
         },
         "mode": "markers",
         "name": "Razer",
         "showlegend": true,
         "type": "scattergl",
         "x": {
          "bdata": "/UME5h5E6j8aeWop1ZP2v2JPY31X5QpAvUYAMVueAEAlFG0uqdQeQNevSldKaA1AdvRwH2qp2j+wcsSCdUMKQHBJY/tfVAhABm7xMhyYs78BmgiGGMkPQJhWuBgXw9c/FU0rZsT6BkD3f43LJs8HQOUEYgiVTghA3ZAPXxW597/2xitXDBX+P1+VFMjZb/O/apaO5koi7r9bOgDNk9kQQP+u5UHDHxJAKRV1zX3mBUC88q8eEOgDQEsgO4+Enw1AU2Ge6U/Gib9dkqbiUJMRQGQ1Nd5PRuO/iAyQT9IxwL+MjEz3f20DQPk3sspfpem/q/NC3HCwBkCRtmj9jDLrvwuVLkjSGei/Ef5KmLw64T/iBH7Th+UGQMmpKAfRSgJAHwNJDTNDDECJlpZ6GMcNQE841gYGbRJAnIL8W9EuCkB9dObBWFvyP8SVdpPzkglAGwrrnyZt6D+/LDRl5cPtPz2mD0PHcvy/ba+jp50+2b/hxw23YXULQL8GqksBKr+/0EmJW0TSCEC9a8+7GSP1v/IoD8NEpgZAs2gZIzySCEDCR5YscvQKQOc5iNx/yvM/vXfIBjoD5b9HtZIk6V4DQP21zk0oKvK/",
          "dtype": "f8"
         },
         "xaxis": "x",
         "y": {
          "bdata": "BsvMj7hwBkAKrfYzMjvVPyTih9M8H/0/rsMGbZX81D+3Bz1duEsOQB+IZNQlZ/W/DGM/uWuQGcDL//rEmBjvP6kgCN1CYfM/YIJfL1Wx1L8SNdttsWnqP00Wf844Zfg/6tdllJYrhD9QBwgpUkbKvxhVaMDfZdW/jCiUwgzNAsBJBFJHWLEAwIa9bFN9q/Y/McJfJc9vB8BwTHLd0IblP0rmkO/DWtE/TKDXSw3twb/sM8mUMB++PzSOLJWGoPI/R57sZJhMrb/1XUZx3AnfPy0EejPkBdU/zGgj+pR31b8oyMMB4YMXwNrAIIVgl+U/eJQ2nvNVwL8L3Zaoz9XRv0hcovkOKei/jYcD/TFa479b+v3hWk2Qvw02CKc5z+U/z8JrQHn42T/+tL7Sm8H1P8V0F4QNdNw/VkF1mD0ywz+SZL7rEpcBQIfbMmMhb+w/Tsmr5ilB9r+x2Vfg7DL5v8Zzx6QLDew/zMDMfgFN/L9QBwhWul7hPzUbQz8hZfS/3BqCuxTS6z/QHBKGcj8HwNpUXft/z+o/PJjre3loxb/LqiqxC1zpP/gwJnoY3ABANg8CZ0rI6b9vMplWQmbhP6fvAq291fS/",
          "dtype": "f8"
         },
         "yaxis": "y"
        },
        {
         "hovertemplate": "<b>%{hovertext}</b><br><br>Brand=Ninjutso<br>แกนคุณลักษณะหลักที่ 1 (PC1)=%{x}<br>แกนคุณลักษณะหลักที่ 2 (PC2)=%{y}<extra></extra>",
         "hovertext": [
          "Ten Air",
          "Ten",
          "Sora V2",
          "Sora 4K",
          "Sora",
          "Origin One X",
          "Katana Ultralight",
          "Katana Superlight"
         ],
         "legendgroup": "Ninjutso",
         "marker": {
          "color": "#ab63fa",
          "symbol": "circle"
         },
         "mode": "markers",
         "name": "Ninjutso",
         "showlegend": true,
         "type": "scattergl",
         "x": {
          "bdata": "gZpVwT5p+L+FcZjin1f1v5xNDZ7Z8QHAWJy/11Bj9r/9NmXqudf0v+5QcaUSguk/C6JXEJ0p6b9wZiFAGELpvw==",
          "dtype": "f8"
         },
         "xaxis": "x",
         "y": {
          "bdata": "pWe4ddSu9D9aATaMJUbxPxN5Aud3/uk/+YJE0lMQ4D+h24U5QpPXP+rU/BjmB+a/ZVza7J200r/aXie6zL7Ovw==",
          "dtype": "f8"
         },
         "yaxis": "y"
        },
        {
         "hovertemplate": "<b>%{hovertext}</b><br><br>Brand=ASUS<br>แกนคุณลักษณะหลักที่ 1 (PC1)=%{x}<br>แกนคุณลักษณะหลักที่ 2 (PC2)=%{y}<extra></extra>",
         "hovertext": [
          "ROG Keris II Origin",
          "ROG Harpe II Ace",
          "ROG Gladius II Wireless",
          "ROG Harpe Ace Mini",
          "ROG Harpe Ace Extreme",
          "ProArt MD300",
          "TUF Gaming M3 Gen II",
          "TUF Gaming M3",
          "ROG Keris II Ace",
          "ROG Strix Impact III Wireless",
          "ROG Pugio",
          "ROG Strix Impact III",
          "ROG Harpe Ace",
          "ROG Spatha",
          "TUF M4 Air",
          "TUF M4 Wireless",
          "ROG Sica",
          "ROG Strix Carry",
          "ROG Strix Evolve",
          "ROG Strix Impact",
          "ROG Gladius II Origin",
          "ROG Gladius II",
          "ROG Gladius II Core",
          "ROG Keris",
          "ROG Keris Wireless",
          "ROG Strix Impact II",
          "ROG Strix Impact II Wireless",
          "ROG Gladius III",
          "ROG Gladius III Wireless",
          "ROG Spatha X",
          "ROG Chakram Core",
          "ROG Chakram",
          "ROG Chakram X"
         ],
         "legendgroup": "ASUS",
         "marker": {
          "color": "#FFA15A",
          "symbol": "circle"
         },
         "mode": "markers",
         "name": "ASUS",
         "showlegend": true,
         "type": "scattergl",
         "x": {
          "bdata": "CDKnUAfj4D87T58X+4v4vztn82/R0wNA/F7XCS5PAcDQL3DGx4P4v44fuZDTVw9AYXrkehg+9j+8K7EsnST9P8VPDaQdadE/+sxhGKl36r8XC0ING0LpPwjHM8WEpOC/I0tzgBHe6b8XEFU88CMcQNat9VyPZua/gYA8sdoJ0z+DHDPbSwLbv3S9JFNi4ss/VQ7h7xBK7T9axDYBMC3hPz4c3leD+QdAhzVKQQgeCUAT+7l2urgFQDyFTZALDvA/PIVNkAsO8D8eFZztFl7Gv7bYP4ylbUo/HMVd9F3b/j/WzZ0QMD4BQHa21+dApxtAcHBHb5fPDECAgANm/pAQQL6K+yxwVBFA",
          "dtype": "f8"
         },
         "xaxis": "x",
         "y": {
          "bdata": "+R0CIyOG/z+F32HWP0P8P0y5ih/KnNc/9eaG4x6G8T8W8upUnUD9Pygcqmj6MBbA0USPbV7A0T8JOir941fjv0MLppDt8gFAmPXYxN8Atr+vSZeC7Zb6v4JnD4k0fNW/oDuCiTF66z8YN8RZkjHnP078sl4dXtA/dPdiZ4Mf7b8EEUGYxm3/vwt1ugVYCv6/6uQPzOLv879XRJa/eJ8EwJyeUJeM5s2/q2dmr70iw79vEJX0TUKqv3GRpVnebOO/cZGlWd5s479hu3qxvUj2v6me7c0x/fa/9Ue3sxrt6T+Lv9S0NmniP76YxbOFe/A/qxrT0Zzw7D+s8oBT+njYP1Xedo8p9fM/",
          "dtype": "f8"
         },
         "yaxis": "y"
        },
        {
         "hovertemplate": "<b>%{hovertext}</b><br><br>Brand=Finalmouse<br>แกนคุณลักษณะหลักที่ 1 (PC1)=%{x}<br>แกนคุณลักษณะหลักที่ 2 (PC2)=%{y}<extra></extra>",
         "hovertext": [
          "ULX Pro Series Tiger (L)",
          "ULX Pro Series Lion (M)",
          "ULX Pro Series Cheetah (S)",
          "ULX Prophecy Small",
          "ULX Prophecy Medium",
          "ULX Prophecy Classic",
          "ULX Competition Small",
          "ULX Competition Medium",
          "ULX Competition Classic",
          "UltralightX Cheetah (S)",
          "UltralightX Lion (M)",
          "UltralightX Tiger (L)",
          "Starlight-12 Small",
          "Starlight-12 Medium",
          "Ultralight 2",
          "Scream One",
          "Ultralight Pro Sunset",
          "Ultralight Pro",
          "Ultralight Phantom",
          "Air58"
         ],
         "legendgroup": "Finalmouse",
         "marker": {
          "color": "#19d3f3",
          "symbol": "circle"
         },
         "mode": "markers",
         "name": "Finalmouse",
         "showlegend": true,
         "type": "scattergl",
         "x": {
          "bdata": "orZ7ofuV87+EfdcXSZL9v77bHtFHnwPA7TNWnO0zA8DX6/7OG8b8v7nQixc8NPO/7TNWnO0zA8DX6/7OG8b8v7nQixc8NPO/vtse0UefA8CuNGtzMiz9v6K2e6H7lfO/JN5mwZUf/79PJyAiCeH0v1aQcD8ycfe/a8S1YUEI3j/bSd1as8bBP9tJ3VqzxsE/20ndWrPGwT9+T/xif9Gyvw==",
          "dtype": "f8"
         },
         "xaxis": "x",
         "y": {
          "bdata": "r2Tjwr3a5j9R0YRDRBDYP0X3OPC+WpU/f0r5Eusnpr80ymQ4/1vUP8j2fK/HAuY/f0r5Eusnpr80ymQ4/1vUP8j2fK/HAuY/Rfc48L5alT/BzfS9ITbWP69k48K92uY/AcBOrmm02r9I0PqJu+u1vzSk1hjqC/S/vajwqg4c8L9aMPwsz7Lkv1ow/CzPsuS/WjD8LM+y5L/97BqTp5Xavw==",
          "dtype": "f8"
         },
         "yaxis": "y"
        },
        {
         "hovertemplate": "<b>%{hovertext}</b><br><br>Brand=Rampage<br>แกนคุณลักษณะหลักที่ 1 (PC1)=%{x}<br>แกนคุณลักษณะหลักที่ 2 (PC2)=%{y}<extra></extra>",
         "hovertext": [
          "Blitz Ultimate",
          "Zenith Pro",
          "Prote M5"
         ],
         "legendgroup": "Rampage",
         "marker": {
          "color": "#FF6692",
          "symbol": "circle"
         },
         "mode": "markers",
         "name": "Rampage",
         "showlegend": true,
         "type": "scattergl",
         "x": {
          "bdata": "iggDoaoKwr+p2gPfzBvpv6n7Z1n9k+6/",
          "dtype": "f8"
         },
         "xaxis": "x",
         "y": {
          "bdata": "csFnzQyM9D9r5n0C7ybNP/zLgZOG2bu/",
          "dtype": "f8"
         },
         "yaxis": "y"
        },
        {
         "hovertemplate": "<b>%{hovertext}</b><br><br>Brand=Kysona<br>แกนคุณลักษณะหลักที่ 1 (PC1)=%{x}<br>แกนคุณลักษณะหลักที่ 2 (PC2)=%{y}<extra></extra>",
         "hovertext": [
          "Mercury Ultra",
          "Mercury Pro",
          "Mercury SE",
          "Jupiter Ultra",
          "Jupiter Pro",
          "Jupiter SE",
          "M660",
          "M600 V2",
          "Uranus Pro",
          "Uranus SE",
          "Mars SE",
          "M617",
          "M511",
          "Aztec",
          "M600"
         ],
         "legendgroup": "Kysona",
         "marker": {
          "color": "#B6E880",
          "symbol": "circle"
         },
         "mode": "markers",
         "name": "Kysona",
         "showlegend": true,
         "type": "scattergl",
         "x": {
          "bdata": "u9RQIbo3AMDwuh5mRlT/v0+OivhM5/e/lyOT/kTI878mAYo9vF7xv1E1kuPydea/lWRWLurw57+7C131SXnxvzwTJW3cXNM/08CGUQCc6z9ZwtefO1bzP+uUrbeKG/S/al+Tm2Wa2z+7C131SXnxv7sLXfVJefG/",
          "dtype": "f8"
         },
         "xaxis": "x",
         "y": {
          "bdata": "dMZNlRJm8D8dfI7nTTXsPxofHU8N/NA/syzi2y1g9z9q6pIzuh3zP5S3yVw8WeY/5GuXm7Y/4b/zA0NYd0J8Pyheai46B/Y/GTlQYKDp5D/UaxE0VifxP0Lgp50IWOg/kXCa2gJm4D/zA0NYd0J8P/MDQ1h3Qnw/",
          "dtype": "f8"
         },
         "yaxis": "y"
        },
        {
         "hovertemplate": "<b>%{hovertext}</b><br><br>Brand=Epomaker<br>แกนคุณลักษณะหลักที่ 1 (PC1)=%{x}<br>แกนคุณลักษณะหลักที่ 2 (PC2)=%{y}<extra></extra>",
         "hovertext": [
          "Click Lite",
          "Click"
         ],
         "legendgroup": "Epomaker",
         "marker": {
          "color": "#FF97FF",
          "symbol": "circle"
         },
         "mode": "markers",
         "name": "Epomaker",
         "showlegend": true,
         "type": "scattergl",
         "x": {
          "bdata": "0ZhUnbXb6b9ObklBr5D5vw==",
          "dtype": "f8"
         },
         "xaxis": "x",
         "y": {
          "bdata": "L2CmZeJrrL/SNfZeoQvzPw==",
          "dtype": "f8"
         },
         "yaxis": "y"
        },
        {
         "hovertemplate": "<b>%{hovertext}</b><br><br>Brand=Lofree<br>แกนคุณลักษณะหลักที่ 1 (PC1)=%{x}<br>แกนคุณลักษณะหลักที่ 2 (PC2)=%{y}<extra></extra>",
         "hovertext": [
          "Touch",
          "Hypace"
         ],
         "legendgroup": "Lofree",
         "marker": {
          "color": "#FECB52",
          "symbol": "circle"
         },
         "mode": "markers",
         "name": "Lofree",
         "showlegend": true,
         "type": "scattergl",
         "x": {
          "bdata": "+OXe2faLAkCyWOgXgmf/vw==",
          "dtype": "f8"
         },
         "xaxis": "x",
         "y": {
          "bdata": "XO9nSG8z+L/jEUQaRir1Pw==",
          "dtype": "f8"
         },
         "yaxis": "y"
        },
        {
         "hovertemplate": "<b>%{hovertext}</b><br><br>Brand=SteelSeries<br>แกนคุณลักษณะหลักที่ 1 (PC1)=%{x}<br>แกนคุณลักษณะหลักที่ 2 (PC2)=%{y}<extra></extra>",
         "hovertext": [
          "Kinzu V2 Pro",
          "Rival 3 Gen 2 Wireless",
          "Rival 3 Gen 2",
          "Kinzu V2",
          "Kana V2",
          "Rival 710",
          "Rival 300S",
          "Rival 500",
          "Sensei 310",
          "Rival 110",
          "Kinzu V3",
          "Rival 300",
          "Aerox 9 Wireless",
          "Aerox 5",
          "Aerox 5 Wireless",
          "Prime Mini",
          "Prime Mini Wireless",
          "Prime",
          "Prime+",
          "Prime Wireless",
          "Aerox 3",
          "Rival 3",
          "Rival 3 Wireless",
          "Rival 5",
          "Aerox 3 Wireless",
          "Rival 600",
          "Rival 650 Wireless",
          "Sensei Ten",
          "Rival 310"
         ],
         "legendgroup": "SteelSeries",
         "marker": {
          "color": "#636efa",
          "symbol": "circle"
         },
         "mode": "markers",
         "name": "SteelSeries",
         "showlegend": true,
         "type": "scattergl",
         "x": {
          "bdata": "ahCF2cbJ27/FqGkpW1mxP/WvtsJCWLM/ahCF2cbJ27/PYz/1C3jHP7r8NWMqVg9Al3V6knmTCkAiPgOgBHsRQFfYAW9ZEOw/tyBVclWC3D8Z5YpDUHrnvybe7SqhIRBAWLfFQAgrDkCDlE1eHNwAQBn2axgpTwJAqUBDMQNt8T9v2ZSAGvb1PzdDUEoXMvw/0ukD8Art/D/GK9asKRsAQEM0pXoF4ta/9a+2wkJYsz9hov5LLZbXP3LiDht9kP8/BJ7XEy6I07+yp9wA69cHQOAZKHpATgxAUIM2svzo4z+Axl98GywEQA==",
          "dtype": "f8"
         },
         "xaxis": "x",
         "y": {
          "bdata": "N3AQOExw/b9G+sGaJ9rqv5JcAU2MFfC/N3AQOExw/b8YgR0i6in4v/os1mlXBeW/CoarvaPP1j9fr5d9lDanvw3xmWpAkui/6lygIA1z9L/iFfAExKv/v2xiXXSwrta/Q/K28otX8z+DDQ7AeDDxPwhGzUQ3Y+w/xm7iEa623D/yRmTBctbBPxsztXkrfeY/rB0/lMz25D92elcXQzTcP/ApG9UEteC/klwBTYwV8L+HuYbjaMvyv32V2nigK88/S9Of8J4T279EIRa/DdXTP1hnM3U+TtC/hl5L+aPF5L+uQOB5JP3LPw==",
          "dtype": "f8"
         },
         "yaxis": "y"
        },
        {
         "hovertemplate": "<b>%{hovertext}</b><br><br>Brand=SyLical<br>แกนคุณลักษณะหลักที่ 1 (PC1)=%{x}<br>แกนคุณลักษณะหลักที่ 2 (PC2)=%{y}<extra></extra>",
         "hovertext": [
          "HELIX"
         ],
         "legendgroup": "SyLical",
         "marker": {
          "color": "#EF553B",
          "symbol": "circle"
         },
         "mode": "markers",
         "name": "SyLical",
         "showlegend": true,
         "type": "scattergl",
         "x": {
          "bdata": "Wdo/jd7dAcA=",
          "dtype": "f8"
         },
         "xaxis": "x",
         "y": {
          "bdata": "cUbLZWG17z8=",
          "dtype": "f8"
         },
         "yaxis": "y"
        },
        {
         "hovertemplate": "<b>%{hovertext}</b><br><br>Brand=VXE<br>แกนคุณลักษณะหลักที่ 1 (PC1)=%{x}<br>แกนคุณลักษณะหลักที่ 2 (PC2)=%{y}<extra></extra>",
         "hovertext": [
          "R1 SE+",
          "R1 Nearlink",
          "MAD R Major",
          "MAD R",
          "R1 Pro Max",
          "R1 Pro",
          "R1 SE",
          "R1"
         ],
         "legendgroup": "VXE",
         "marker": {
          "color": "#00cc96",
          "symbol": "circle"
         },
         "mode": "markers",
         "name": "VXE",
         "showlegend": true,
         "type": "scattergl",
         "x": {
          "bdata": "Ltfh26Th7b9OedchV1/tv6L5LPl0dADAvgTXFbzN/7/UegL8Np/zvzoTBLZK+fW/2/vx6TSC8L/j2PeikLjyvw==",
          "dtype": "f8"
         },
         "xaxis": "x",
         "y": {
          "bdata": "o48sh3JOxL+I2+nnE6THv9UNQS7bJvQ/cIW6jG/b8T8yJ7w0uHfUP/Iz/dvbLt8/a6WsoLYTqL8KXT1wzLHOPw==",
          "dtype": "f8"
         },
         "yaxis": "y"
        },
        {
         "hovertemplate": "<b>%{hovertext}</b><br><br>Brand=VGN<br>แกนคุณลักษณะหลักที่ 1 (PC1)=%{x}<br>แกนคุณลักษณะหลักที่ 2 (PC2)=%{y}<extra></extra>",
         "hovertext": [
          "R1 SE+",
          "R1 Nearlink",
          "Y2 Ultra",
          "Y2 Pro",
          "R1 Pro Max",
          "R1 Pro",
          "R1 SE",
          "R1",
          "Dragonfly F1 MOBA",
          "Dragonfly F1 Pro Max",
          "Dragonfly F1 Pro",
          "Dragonfly F1"
         ],
         "legendgroup": "VGN",
         "marker": {
          "color": "#ab63fa",
          "symbol": "circle"
         },
         "mode": "markers",
         "name": "VGN",
         "showlegend": true,
         "type": "scattergl",
         "x": {
          "bdata": "Ltfh26Th7b9OedchV1/tv63REskd//m/KxpCWZzy97/UegL8Np/zvzoTBLZK+fW/2/vx6TSC8L/j2PeikLjyv7FK6yZSb/O/sUrrJlJv87/J1fbUJcr1v5Ow5YOdrPK/",
          "dtype": "f8"
         },
         "xaxis": "x",
         "y": {
          "bdata": "o48sh3JOxL+I2+nnE6THv7Q58Vjypfs/6Mle///D9z8yJ7w0uHfUP/Iz/dvbLt8/a6WsoLYTqL8KXT1wzLHOP44NetmhZ9I/jg162aFn0j8VMe1mECbdPwZlIF313Mo/",
          "dtype": "f8"
         },
         "yaxis": "y"
        },
        {
         "hovertemplate": "<b>%{hovertext}</b><br><br>Brand=Motospeed<br>แกนคุณลักษณะหลักที่ 1 (PC1)=%{x}<br>แกนคุณลักษณะหลักที่ 2 (PC2)=%{y}<extra></extra>",
         "hovertext": [
          "X1",
          "X6 Max",
          "X6"
         ],
         "legendgroup": "Motospeed",
         "marker": {
          "color": "#FFA15A",
          "symbol": "circle"
         },
         "mode": "markers",
         "name": "Motospeed",
         "showlegend": true,
         "type": "scattergl",
         "x": {
          "bdata": "18/tk9mr9r+WA2/H8Cv6v168XKby5/e/",
          "dtype": "f8"
         },
         "xaxis": "x",
         "y": {
          "bdata": "2UXY6Fw23j/N1tm94czzP0b01H/XNPA/",
          "dtype": "f8"
         },
         "yaxis": "y"
        },
        {
         "hovertemplate": "<b>%{hovertext}</b><br><br>Brand=Dareu<br>แกนคุณลักษณะหลักที่ 1 (PC1)=%{x}<br>แกนคุณลักษณะหลักที่ 2 (PC2)=%{y}<extra></extra>",
         "hovertext": [
          "AE6",
          "A955",
          "A950 Air",
          "A980 Pro Max",
          "A980 Pro",
          "A980",
          "EM901",
          "A950 Pro 4K Magnesium",
          "A950 Pro 4K",
          "A950",
          "A950 Pro"
         ],
         "legendgroup": "Dareu",
         "marker": {
          "color": "#19d3f3",
          "symbol": "circle"
         },
         "mode": "markers",
         "name": "Dareu",
         "showlegend": true,
         "type": "scattergl",
         "x": {
          "bdata": "VTQHz/so8b9bGpIdYLoEQDmJrc/09wDAn8b6pG4P+T9MyYI6qC/2P2yC0a+gswBADXI390FH8T9l/TARjnDwv/gH4mj+DfC/xRg48XgZzT+DxaEv7ODpvw==",
          "dtype": "f8"
         },
         "xaxis": "x",
         "y": {
          "bdata": "vBGLwjDZ8D/2NVBE6tCHv8KcKr7pCvQ/70MJR/BM/T9D27IDeRz/P09TiBGxivM/77oxeDEx97/jF2XiWt3gP2KImb9wAeA/kxjAAb0h8r80EtbGS0vQPw==",
          "dtype": "f8"
         },
         "yaxis": "y"
        },
        {
         "hovertemplate": "<b>%{hovertext}</b><br><br>Brand=MAMBASNAKE<br>แกนคุณลักษณะหลักที่ 1 (PC1)=%{x}<br>แกนคุณลักษณะหลักที่ 2 (PC2)=%{y}<extra></extra>",
         "hovertext": [
          "M4",
          "M3",
          "M5 Ultra"
         ],
         "legendgroup": "MAMBASNAKE",
         "marker": {
          "color": "#FF6692",
          "symbol": "circle"
         },
         "mode": "markers",
         "name": "MAMBASNAKE",
         "showlegend": true,
         "type": "scattergl",
         "x": {
          "bdata": "n4sbSIKv9L9Ge+ajnNMBwLd70aoRQALA",
          "dtype": "f8"
         },
         "xaxis": "x",
         "y": {
          "bdata": "DFuNL8mouL8a+nzZrin4P+XHGyLvrO4/",
          "dtype": "f8"
         },
         "yaxis": "y"
        },
        {
         "hovertemplate": "<b>%{hovertext}</b><br><br>Brand=Delux<br>แกนคุณลักษณะหลักที่ 1 (PC1)=%{x}<br>แกนคุณลักษณะหลักที่ 2 (PC2)=%{y}<extra></extra>",
         "hovertext": [
          "M800 Mini Ultra",
          "M800 Mini Pro",
          "M800 Mini",
          "M900 Ultra",
          "M900 Mini Ultra",
          "M900 Mini Pro",
          "M700 Pro",
          "M700 Pro+",
          "M700 Ultra",
          "M500 Pro",
          "M900 SE",
          "M900 Pro",
          "M800 Pro 3395",
          "M600 Pro",
          "M600",
          "M600 Ultra",
          "M800 Ultra",
          "M800 Pro",
          "M700"
         ],
         "legendgroup": "Delux",
         "marker": {
          "color": "#B6E880",
          "symbol": "circle"
         },
         "mode": "markers",
         "name": "Delux",
         "showlegend": true,
         "type": "scattergl",
         "x": {
          "bdata": "VfKS0g1I/r/SAxD23yz9v4i/HbXWCPK/CO7x/3155j/EDRuKTFy6v1JhGMtJnsO/YxpeqNUm6r8hQVUNvebqv/CpdZdi3eq/imJvBuEa0z8C9EFlTZ/5P0N72LnNzPE/m7AYNTax4b87zJXBfoT2v3LM8NYLVvG/yIq/W9Qh978PWDnQgFLzvwGog7HAiti/KkmBIrGepj8=",
          "dtype": "f8"
         },
         "xaxis": "x",
         "y": {
          "bdata": "68AteuCU7D8fsCA3Cf7nP/4R878t0NS/3hvqgr0NAkCxTqS95uL7P9eiPtN9tPs/TnvMdVyr8T+jLIdq+RLyPwqh3S2OJ/M/VVlaXW218z/39RRNKNTxP1N5DnT1JPw/sVA8HnpXw7+M8Syo9pnHP/uzhBnWb9u/wv+gCnvNzT9EGJKuNZHjP92A8SBSN92/kGJQOJiGtL8=",
          "dtype": "f8"
         },
         "yaxis": "y"
        },
        {
         "hovertemplate": "<b>%{hovertext}</b><br><br>Brand=zeromouse<br>แกนคุณลักษณะหลักที่ 1 (PC1)=%{x}<br>แกนคุณลักษณะหลักที่ 2 (PC2)=%{y}<extra></extra>",
         "hovertext": [
          "Blade"
         ],
         "legendgroup": "zeromouse",
         "marker": {
          "color": "#FF97FF",
          "symbol": "circle"
         },
         "mode": "markers",
         "name": "zeromouse",
         "showlegend": true,
         "type": "scattergl",
         "x": {
          "bdata": "v1WDrSriEsA=",
          "dtype": "f8"
         },
         "xaxis": "x",
         "y": {
          "bdata": "rSq9at/H8b8=",
          "dtype": "f8"
         },
         "yaxis": "y"
        },
        {
         "hovertemplate": "<b>%{hovertext}</b><br><br>Brand=RAWM<br>แกนคุณลักษณะหลักที่ 1 (PC1)=%{x}<br>แกนคุณลักษณะหลักที่ 2 (PC2)=%{y}<extra></extra>",
         "hovertext": [
          "ER21 Pro",
          "ER21",
          "SA-MH01 Pro",
          "ES21 Pro",
          "ES21 M",
          "ES21",
          "SA-SH01 Pro",
          "SA-SH01",
          "SA-SL01 Pro",
          "SA-SL01",
          "SA-ML01 Plus",
          "SA-ML01",
          "SA-MH01"
         ],
         "legendgroup": "RAWM",
         "marker": {
          "color": "#FECB52",
          "symbol": "circle"
         },
         "mode": "markers",
         "name": "RAWM",
         "showlegend": true,
         "type": "scattergl",
         "x": {
          "bdata": "6IcRLWNJ4D8udOOe41vyP0gaI8f+u+K/V7x0tmTX+L9XvHS2ZNf4v0ycnhgP0PW/3t3qnJcX/b+HhhnYcLbyvyVeeMVeOfa/9CbtinD/87+peTe05rjYv1O9P+DwJOC/xkCdpBOC478=",
          "dtype": "f8"
         },
         "xaxis": "x",
         "y": {
          "bdata": "O8XpfnOnAEBDZT4JXefzP7RsgM4DkO8/6hPmS8PY8z/qE+ZLw9jzP6Nq+3pG0u4/o1UAYeTt4D8AdShRbVrVvwiBz6KdMbo/uNCtQsklwr8ZzmgLqljVP8HxIRGNnN0/5Dfeclsu7j8=",
          "dtype": "f8"
         },
         "yaxis": "y"
        },
        {
         "hovertemplate": "<b>%{hovertext}</b><br><br>Brand=Valkyrie<br>แกนคุณลักษณะหลักที่ 1 (PC1)=%{x}<br>แกนคุณลักษณะหลักที่ 2 (PC2)=%{y}<extra></extra>",
         "hovertext": [
          "VK M1 Pro",
          "VK M2 Pro",
          "VK M2",
          "VK M1"
         ],
         "legendgroup": "Valkyrie",
         "marker": {
          "color": "#636efa",
          "symbol": "circle"
         },
         "mode": "markers",
         "name": "Valkyrie",
         "showlegend": true,
         "type": "scattergl",
         "x": {
          "bdata": "md+aX7h6+r+4KetHOlXTP/2FLsHuhvA/Q0l4gaDm8b8=",
          "dtype": "f8"
         },
         "xaxis": "x",
         "y": {
          "bdata": "glYuo1eq8j+MQQi+lUkAQKtEgD/LdOw/jtXU09z90D8=",
          "dtype": "f8"
         },
         "yaxis": "y"
        },
        {
         "hovertemplate": "<b>%{hovertext}</b><br><br>Brand=Logitech<br>แกนคุณลักษณะหลักที่ 1 (PC1)=%{x}<br>แกนคุณลักษณะหลักที่ 2 (PC2)=%{y}<extra></extra>",
         "hovertext": [
          "G Pro X Superlight 2 SE",
          "G900",
          "ERGO M575",
          "M196",
          "MX Anywhere 3S",
          "MX Anywhere 2S",
          "M170",
          "M705 Marathon",
          "POP Mouse",
          "Pebble 2 M350s",
          "Pebble M350",
          "M340",
          "M550 L",
          "M550",
          "M650 L Left",
          "M650 L",
          "M650",
          "M240",
          "M190",
          "G Pro X Superlight 2 DEX",
          "G Pro 2 Lightspeed",
          "G309",
          "G703 Lightspeed",
          "MX Master 3S",
          "MX Master 3",
          "MX Master 2S",
          "MX Master",
          "G304 Lightspeed",
          "G602",
          "M720 Triathlon",
          "Lift Vertical",
          "MX Vertical",
          "G102 Lightsync",
          "G705",
          "G303 Shroud Edition",
          "G604 Lightspeed",
          "G903 Lightspeed",
          "G Pro Wireless",
          "G Pro X Superlight",
          "G Pro",
          "G403 Wireless",
          "G403",
          "G603 Lightspeed",
          "G403 Hero",
          "G203 Prodigy",
          "G305 Lightspeed",
          "G203 Lightsync",
          "G502 Hero",
          "G502 Lightspeed",
          "M171",
          "G103 Prodigy",
          "B100",
          "G600",
          "G9x",
          "G Pro X Superlight 2",
          "G402 Hyperion Fury",
          "G300s",
          "M100",
          "MX Anywhere",
          "M510",
          "G502 X Plus",
          "G502 X Lightspeed",
          "G502 X",
          "M185",
          "M280",
          "M187",
          "M238",
          "G100s",
          "G303 Daedalus Apex",
          "G3",
          "MX518",
          "G400",
          "G400s",
          "G MX518"
         ],
         "legendgroup": "Logitech",
         "marker": {
          "color": "#EF553B",
          "symbol": "circle"
         },
         "mode": "markers",
         "name": "Logitech",
         "showlegend": true,
         "type": "scattergl",
         "x": {
          "bdata": "k/p27jrs67+vIi1HkqvzP6R+KI9GfyBA+Zg9eICMtb/bUkS7IHz1P9tSRLsgfPU/vJGYNxBr3L+no5fE+pQRQInRjLtQKLO/9t5Iy/w66b+ymA40ia2lv656eiaPdOS/t8JVp6rT7j9flBLgNEHVv6yVqNF6mfU/rJWo0XqZ9T9qWYQRqOWsP/WQPaFeRcO/XJJQe2cG9j8rOzEe+c3pP0UgGS28POu/qmXGo0ofxL/SrJ4yqB0EQKf8NTD59x1Ak1JIsMBTHkByqMWRdYkeQOeb4viyiR5ADnvE4YeZtz8mNy3NCCcZQNA+tfLAhBRA6/S8Ag+NGkDliz18PJghQGpV2bA5Fsi/s10lTFXgA0A0g2Z2zDiRP0PEkEelURRAYsLMrUYE8T/GitdjWS20v7Kn0CTF7N6/XN05zhCD37/l2xbDD/8FQPWxmIXHWQJAWum+ixu3AkDigiD1X3gAQGpV2bA5Fsi/DnvE4YeZtz9qVdmwORbIv6TzuCWCKgxAyN7LhmbsCkDi9K9YAGTZv2pV2bA5Fsi/LUwwMS5O6D8hkl3pISwaQOTzxOziVxRAyH5jNAY79b81HRuy8usMQNHxFIhXV9A/jEx6YGgf6j/bUkS7IHz1P0gYsMys0gVAWv29XQTpDEBZM301Pt4LQK1rBkEo9QlAyawP76flt7+GOseKXZv0P63+f1xwsgvAjkAQv9s2978V3IWDtLrRP5IG1XqBScG//IGE7KkS9z/WbTv1pvQMQL2DD6B1kwxAOjqGRUGyDEAk1m0hCU4IQA==",
          "dtype": "f8"
         },
         "xaxis": "x",
         "y": {
          "bdata": "PonFVG5J7T8EJPG3SQfwv2F+7xqTYAzA/yrzsAXJHcAxUBCFrH8fwDFQEIWsfx/AGhC3Q9I3HsCh6QvvmlMbwFo+Uhx2qh7ASbQbufkzIcCeIN0/vk8jwFowD9TtnyHAFvrs50D5/7+moT6T6vgGwFbqRzk2CP+/VupHOTYI/7/IrMzNXp0GwMp51lCo0hzACfyT8lLpGcBoJLEB7YUEQMjrC2sP3+4/qRdfTVpW57+eaVVvNUu0P0g3Le9frw3AR0sUMkn6DsCSLXFbjqIQwHMg5wrR1BDAklCrirE5/7+MAxexhfbBP6C+bNAB7xfA3SyDTytPDsCkOqMEJssCwAWxqIgDBPu//mpnRVw5F8B87IlLoC3Bv+zKoaB/Z/A/zr1mRK7M4r9tjGy4xybRv20SQieFp8Y/Q79YKF3r8L8IS1CfHSLavz6OZ7JOArE/5YcnUFJrkz+AxN9Tv7rhPwWxqIgDBPu/klCrirE5/78FsaiIAwT7vwN7epDbgdM/8nJxNUR+3T87no13fHYewAWxqIgDBPu/VQpbdtMkHMA2A8e1S9oSwBtKUEqoIBnAyAOZgM7P9z8PjUl7mt2uv29m2aReV/W/TrwMMSxuHMAxUBCFrH8fwCHmzHhtaRzA3PDSHFLK7j9n0iwKUmzxP1v3Ei0dJPU/g/V2laVHHcCMPKSoiGMAwGlKMRStTRHAk9t3csNFDsBuH8xvWWcHwCcWklPCvvq/PqXnoF7cGcAkfceHbSfLv5iorv+9ury/2J8365Wdvr89OKaaKIPqPw==",
          "dtype": "f8"
         },
         "yaxis": "y"
        },
        {
         "hovertemplate": "<b>%{hovertext}</b><br><br>Brand=Flick<br>แกนคุณลักษณะหลักที่ 1 (PC1)=%{x}<br>แกนคุณลักษณะหลักที่ 2 (PC2)=%{y}<extra></extra>",
         "hovertext": [
          "Fire"
         ],
         "legendgroup": "Flick",
         "marker": {
          "color": "#00cc96",
          "symbol": "circle"
         },
         "mode": "markers",
         "name": "Flick",
         "showlegend": true,
         "type": "scattergl",
         "x": {
          "bdata": "F+cgn5C19r8=",
          "dtype": "f8"
         },
         "xaxis": "x",
         "y": {
          "bdata": "o8jNcA/54T8=",
          "dtype": "f8"
         },
         "yaxis": "y"
        },
        {
         "hovertemplate": "<b>%{hovertext}</b><br><br>Brand=IYX<br>แกนคุณลักษณะหลักที่ 1 (PC1)=%{x}<br>แกนคุณลักษณะหลักที่ 2 (PC2)=%{y}<extra></extra>",
         "hovertext": [
          "Amber"
         ],
         "legendgroup": "IYX",
         "marker": {
          "color": "#ab63fa",
          "symbol": "circle"
         },
         "mode": "markers",
         "name": "IYX",
         "showlegend": true,
         "type": "scattergl",
         "x": {
          "bdata": "cV8JLNgRA8A=",
          "dtype": "f8"
         },
         "xaxis": "x",
         "y": {
          "bdata": "P9n79KBc6j8=",
          "dtype": "f8"
         },
         "yaxis": "y"
        },
        {
         "hovertemplate": "<b>%{hovertext}</b><br><br>Brand=PMM<br>แกนคุณลักษณะหลักที่ 1 (PC1)=%{x}<br>แกนคุณลักษณะหลักที่ 2 (PC2)=%{y}<extra></extra>",
         "hovertext": [
          "ZEN 8K Mini",
          "Fuse 8K",
          "CYBER ZK",
          "CYBER 4.1",
          "VORTEX 4K M",
          "ZEN 8K",
          "CYBER 4.0",
          "CRAZE 8K",
          "NEO 8K",
          "VORTEX 8K M",
          "VORTEX 8K S",
          "VORTEX M",
          "VORTEX S",
          "FUSE",
          "CORE",
          "BLAZE",
          "NITE 8K",
          "TITAN M",
          "TITAN S",
          "TITAN 8K L",
          "CYBER 8K",
          "AIM 8K"
         ],
         "legendgroup": "PMM",
         "marker": {
          "color": "#FFA15A",
          "symbol": "circle"
         },
         "mode": "markers",
         "name": "PMM",
         "showlegend": true,
         "type": "scattergl",
         "x": {
          "bdata": "WK7lawdzA8Bp7icsf/D7v2kc4i6HTRXAcft2OjVIE8AWh+ue3fP+v7Q3/VLNDPu/Stm2/+/+FcBwiItMLQjYv2fPrqMm4QLAs6asNCju/79UktcLM/MEwNpEkM7Y0Oq/k3IPOqd19797CVo5sGvlvx4KirvoJuW/WByS5io+8L+oM5vJoGf9v0ki3c+H5PK/wawzdF+8979K5uXVt9/6vza24CrsBRTA3qPBUwg2F8A=",
          "dtype": "f8"
         },
         "xaxis": "x",
         "y": {
          "bdata": "jzewX6jr+D+P3ve8oCP4Py8ExkmADve/7DBUmKcG6L9FP9qP8aLqP9edJ8/2lf8/heFbPSgF9r9ENyU+9PQAQILHMhaeI/Y/DWo7D8gl9T/J/ivpyOzrP0y8J/Ne/9W/WaKghcf76b+r9SWw00GsvxZwDJMefNW/gRBuXNgm4L/mp51NRdLrP+hmlRpPH9M/OF/LoZgv77+/9xlJLkD6P1OcmH0Muuy/yCUVB18H878=",
          "dtype": "f8"
         },
         "yaxis": "y"
        },
        {
         "hovertemplate": "<b>%{hovertext}</b><br><br>Brand=Precision<br>แกนคุณลักษณะหลักที่ 1 (PC1)=%{x}<br>แกนคุณลักษณะหลักที่ 2 (PC2)=%{y}<extra></extra>",
         "hovertext": [
          "GG Titan-0"
         ],
         "legendgroup": "Precision",
         "marker": {
          "color": "#19d3f3",
          "symbol": "circle"
         },
         "mode": "markers",
         "name": "Precision",
         "showlegend": true,
         "type": "scattergl",
         "x": {
          "bdata": "PsMulBzTG8A=",
          "dtype": "f8"
         },
         "xaxis": "x",
         "y": {
          "bdata": "WHrUZXw3E8A=",
          "dtype": "f8"
         },
         "yaxis": "y"
        },
        {
         "hovertemplate": "<b>%{hovertext}</b><br><br>Brand=Glorious<br>แกนคุณลักษณะหลักที่ 1 (PC1)=%{x}<br>แกนคุณลักษณะหลักที่ 2 (PC2)=%{y}<extra></extra>",
         "hovertext": [
          "Model O Eternal",
          "Model O 2 Mini Wireless",
          "Model O 2 Mini",
          "Series 2 Pro",
          "Model D 2 Wireless",
          "Model D 2 Wired",
          "Model O Pro",
          "Series One Pro",
          "Model D Wireless",
          "Model D",
          "Model D-",
          "Model I",
          "Model O",
          "Model O-",
          "Model D- Wireless",
          "Model O 2 Pro 4K/8K",
          "Model O 2 Pro 1K",
          "Model D 2 Pro 4K/8K",
          "Model D 2 Pro 1K",
          "Model D Pro",
          "Model I 2 Wireless",
          "Model O 2 Wired",
          "Model O 2 Wireless",
          "Model O- Wireless",
          "Model O Wireless"
         ],
         "legendgroup": "Glorious",
         "marker": {
          "color": "#FF6692",
          "symbol": "circle"
         },
         "mode": "markers",
         "name": "Glorious",
         "showlegend": true,
         "type": "scattergl",
         "x": {
          "bdata": "i5K4xK6+1L9I39oq6rL0v/Sq4G9Z7/e/068CDjC3+r9TzXuSHrL5P5twXjGWyfY/IxhNzO983L945Qa3iIDzv8BbTQtSv/s/J30yTeKu/T/Fu+MkNJjxP+pEleIxwgRAxVIzEm1apL9mO/Ko6Xbuv3JxxMas8fE/1XXYs9me7b/boLxRUJngv5I1GPBr+O8/1FxurxSG9j/Hvo3rmrr3P6K/8ZTX2QNAUDI8pVZk4b8/s0yrew/Vv7D5CfP5tOy/q0/K5fkDvb8=",
          "dtype": "f8"
         },
         "xaxis": "x",
         "y": {
          "bdata": "H+W70pP6pL9SJJ0aK+jTvwgFZzMjlLK/mGy6eonW3D9W42XykT7yP5GOqKxZQ/U/UHys4D3hyj9cg/PyUFLNv/j9VsKVjug/kiAADZ2G4D9AFNktyrbCP4M2JXRimPQ/2ge9aEmP1r+hQYS4j0rpvwMLN93ls84/meMyss3D7T/AYUgz5y3aP8Ki6w1DIvw/APP0kZG68z+1E4kR+3nwP4I1U2fvifU/Jg0bBHOw0T+zxzm02nikP/PaymfQ2ue/h8iVSwKkw78=",
          "dtype": "f8"
         },
         "yaxis": "y"
        },
        {
         "hovertemplate": "<b>%{hovertext}</b><br><br>Brand=WLmouse<br>แกนคุณลักษณะหลักที่ 1 (PC1)=%{x}<br>แกนคุณลักษณะหลักที่ 2 (PC2)=%{y}<extra></extra>",
         "hovertext": [
          "Sword X",
          "Ying",
          "Beast X Max",
          "Beast Miao",
          "Beast X Mini Pro",
          "Beast X Pro",
          "Strider",
          "Beast X 8K",
          "Beast X Mini",
          "Beast X"
         ],
         "legendgroup": "WLmouse",
         "marker": {
          "color": "#B6E880",
          "symbol": "circle"
         },
         "mode": "markers",
         "name": "WLmouse",
         "showlegend": true,
         "type": "scattergl",
         "x": {
          "bdata": "TYL4WCY12T9YTHVdxxIDwDHxVeNXP/e/zdNYN8yTEMDeGD3sxIAHwGqRksQJ2gDATZLFDj0P+b8oGlHWckwAwJyh+/0t8wbABliLQIVx/L8=",
          "dtype": "f8"
         },
         "xaxis": "x",
         "y": {
          "bdata": "geuYVHqGAECxowZdct3vP5tIVdSGrPc/oRu16bkN27/IlqBak7TlPy3kfzCeqfE/V5z2Zrn98j+Nt/IdZbzuP/2Fkxe8HeE/g7i0TQFC5D8=",
          "dtype": "f8"
         },
         "yaxis": "y"
        },
        {
         "hovertemplate": "<b>%{hovertext}</b><br><br>Brand=Nintendo<br>แกนคุณลักษณะหลักที่ 1 (PC1)=%{x}<br>แกนคุณลักษณะหลักที่ 2 (PC2)=%{y}<extra></extra>",
         "hovertext": [
          "Joy-Con 2"
         ],
         "legendgroup": "Nintendo",
         "marker": {
          "color": "#FF97FF",
          "symbol": "circle"
         },
         "mode": "markers",
         "name": "Nintendo",
         "showlegend": true,
         "type": "scattergl",
         "x": {
          "bdata": "pX9WR1tj878=",
          "dtype": "f8"
         },
         "xaxis": "x",
         "y": {
          "bdata": "3MXGfPGEJsA=",
          "dtype": "f8"
         },
         "yaxis": "y"
        },
        {
         "hovertemplate": "<b>%{hovertext}</b><br><br>Brand=Angry<br>แกนคุณลักษณะหลักที่ 1 (PC1)=%{x}<br>แกนคุณลักษณะหลักที่ 2 (PC2)=%{y}<extra></extra>",
         "hovertext": [
          "Miao AM Infinity Mouse"
         ],
         "legendgroup": "Angry",
         "marker": {
          "color": "#FECB52",
          "symbol": "circle"
         },
         "mode": "markers",
         "name": "Angry",
         "showlegend": true,
         "type": "scattergl",
         "x": {
          "bdata": "7aP1f95F+b8=",
          "dtype": "f8"
         },
         "xaxis": "x",
         "y": {
          "bdata": "5Z5baXHn7z8=",
          "dtype": "f8"
         },
         "yaxis": "y"
        },
        {
         "hovertemplate": "<b>%{hovertext}</b><br><br>Brand=Corsair<br>แกนคุณลักษณะหลักที่ 1 (PC1)=%{x}<br>แกนคุณลักษณะหลักที่ 2 (PC2)=%{y}<extra></extra>",
         "hovertext": [
          "Scimitar Elite Wireless SE",
          "M55 Wireless",
          "M55 Wired",
          "Dark Core RGB Pro",
          "M55 RGB Pro",
          "Glaive Pro",
          "Glaive RGB",
          "Nightsword RGB",
          "Scimitar Elite Wireless",
          "Scimitar RGB Elite",
          "Scimitar Pro RGB",
          "Scimitar RGB",
          "Sabre RGB Pro Wireless",
          "Sabre RGB Pro",
          "Sabre Pro",
          "Katar Elite Wireless",
          "Katar Pro Wireless",
          "Katar Pro XT",
          "Ironclaw RGB Wireless",
          "Ironclaw RGB",
          "Harpoon RGB Wireless",
          "Harpoon RGB Pro",
          "Harpoon RGB",
          "M75 Air Wireless",
          "M75 Wireless",
          "M75",
          "Nightsabre Wireless",
          "Darkstar Wireless",
          "M65 RGB Ultra Wireless",
          "M65 RGB Ultra",
          "M65 RGB Pro",
          "M65 RGB Elite",
          "Dark Core RGB Pro SE"
         ],
         "legendgroup": "Corsair",
         "marker": {
          "color": "#636efa",
          "symbol": "circle"
         },
         "mode": "markers",
         "name": "Corsair",
         "showlegend": true,
         "type": "scattergl",
         "x": {
          "bdata": "X4VJValBEUD5+LjdpM7lP4fWiYXlX7I/PZMg7t+AEUASmbJKN7DjP8DQLORw4AlAL8NcIDhlC0B7LUFD67wSQDBnOScS8RBAAeYOSSsDE0ACe2DCpmUVQKM2gTlyrBVACD3GsoDC/z+aZgTpm7n3P6O3anojIvg/vab3y0YG6r/Lw0lP6R/BP33BOQXPa+K/QnvGHfj1EkDjqvrMQpYQQMFL31Kq5wFA3rws2nhx+z+jIvGkPRr9PyRX/4r+hca/Jj2dsJum3z9F13LvPJ/Tv+9CF5SQq9w/QNojzaR7CEBnFDxMOAoGQG2lwNTiiABAf1zPFQ1kCUCofp/eIh0HQD2TIO7fgBFA",
          "dtype": "f8"
         },
         "xaxis": "x",
         "y": {
          "bdata": "1FZ+dTFY8j8IEvkNqp4WwKAdIFa+ShTA8iiSnymGwj9HQ89vlEblv1t6SGkLPaE/zHwz2mXSyL/++YoQUTbsPxg06re61/E/hscZpEY02z/UepfOkTzMvwTfZW33S9e/NB5w/gFF8D+hag95RPv5P/smc9TkPvc/sQwF46Ji4b/+5cqEJkf+v7YtlVBmPe6/JtKNQolJ4T8zwtYa64vxP3nSLjG2lfS/2XTvmjbX4L8KDoN/ebnnv7w0Jo9ApuM/oPgJoPkZub+69qI1Q/zqP4G9g0m49dy/W8cPAaGA8D8f9Iqu/ymuvzqYyiJM5+c/QH1iCHUW578yWJpszrfWv/Iokp8phsI/",
          "dtype": "f8"
         },
         "yaxis": "y"
        },
        {
         "hovertemplate": "<b>%{hovertext}</b><br><br>Brand=ThundeRobot<br>แกนคุณลักษณะหลักที่ 1 (PC1)=%{x}<br>แกนคุณลักษณะหลักที่ 2 (PC2)=%{y}<extra></extra>",
         "hovertext": [
          "ML8",
          "ML4",
          "ML6 Pro",
          "ML9 Mini",
          "ML9S",
          "ML901",
          "ML602",
          "ML903"
         ],
         "legendgroup": "ThundeRobot",
         "marker": {
          "color": "#EF553B",
          "symbol": "circle"
         },
         "mode": "markers",
         "name": "ThundeRobot",
         "showlegend": true,
         "type": "scattergl",
         "x": {
          "bdata": "kFs+Jzrt978OfNupdWfyv0UWY5I2a/A/qI28zMsB/b9pGHhKSUjtv/iWnCOcusy/49OQRgrd2b9VRGbBuNHlvw==",
          "dtype": "f8"
         },
         "xaxis": "x",
         "y": {
          "bdata": "CrWxaTtJ1z8SNPGoQDvwvydEvXJpkfA/ER9Oo7jo1j+ezB5wIDjmPyLRy0QOfMq/rCxWZ78yzT8rIMM7NhDVPw==",
          "dtype": "f8"
         },
         "yaxis": "y"
        },
        {
         "hovertemplate": "<b>%{hovertext}</b><br><br>Brand=Chilkey<br>แกนคุณลักษณะหลักที่ 1 (PC1)=%{x}<br>แกนคุณลักษณะหลักที่ 2 (PC2)=%{y}<extra></extra>",
         "hovertext": [
          "Glacier LW 8K M"
         ],
         "legendgroup": "Chilkey",
         "marker": {
          "color": "#00cc96",
          "symbol": "circle"
         },
         "mode": "markers",
         "name": "Chilkey",
         "showlegend": true,
         "type": "scattergl",
         "x": {
          "bdata": "XCbYb8gv/b8=",
          "dtype": "f8"
         },
         "xaxis": "x",
         "y": {
          "bdata": "XOojyNi16j8=",
          "dtype": "f8"
         },
         "yaxis": "y"
        },
        {
         "hovertemplate": "<b>%{hovertext}</b><br><br>Brand=UNIUS<br>แกนคุณลักษณะหลักที่ 1 (PC1)=%{x}<br>แกนคุณลักษณะหลักที่ 2 (PC2)=%{y}<extra></extra>",
         "hovertext": [
          "Black Lotus"
         ],
         "legendgroup": "UNIUS",
         "marker": {
          "color": "#ab63fa",
          "symbol": "circle"
         },
         "mode": "markers",
         "name": "UNIUS",
         "showlegend": true,
         "type": "scattergl",
         "x": {
          "bdata": "T6Jho7dS/r8=",
          "dtype": "f8"
         },
         "xaxis": "x",
         "y": {
          "bdata": "J08b1OSe8z8=",
          "dtype": "f8"
         },
         "yaxis": "y"
        },
        {
         "hovertemplate": "<b>%{hovertext}</b><br><br>Brand=Fantech<br>แกนคุณลักษณะหลักที่ 1 (PC1)=%{x}<br>แกนคุณลักษณะหลักที่ 2 (PC2)=%{y}<extra></extra>",
         "hovertext": [
          "Tanto S",
          "Tanto",
          "Tanto E",
          "Go XD5",
          "Aria E",
          "Aria II Pro",
          "Aria II",
          "Helios II Pro S",
          "Helios XD3V2",
          "Helios II Pro",
          "X11 Daredevil",
          "Helios XD3",
          "Aria XD7"
         ],
         "legendgroup": "Fantech",
         "marker": {
          "color": "#FFA15A",
          "symbol": "circle"
         },
         "mode": "markers",
         "name": "Fantech",
         "showlegend": true,
         "type": "scattergl",
         "x": {
          "bdata": "JvctwR1Y97+p9QUENRPwv8m2NtKOMum/f9WJvFll8T9P1ywhQG7pvxV4YGdBPPq/lnY4qlj38r+y4kdbrvr2v4axqO55pca/agYx703T8r/qgF/SRe4PQHAal8NmAsC/dK5glECW8L8=",
          "dtype": "f8"
         },
         "xaxis": "x",
         "y": {
          "bdata": "MBUda0X23T/Yne+2X9i6v3tppY8/guK/zQbVPtU9Nb+OqAoN2onov6z6CMLus94/7AdAW7rht7/dGJPGnIbkP4ag4nt5sO6/ozOq7HEY1D+EzMnSBC7Ov5A2FnfNEPG/g9u5RNHz0L8=",
          "dtype": "f8"
         },
         "yaxis": "y"
        },
        {
         "hovertemplate": "<b>%{hovertext}</b><br><br>Brand=Orbital<br>แกนคุณลักษณะหลักที่ 1 (PC1)=%{x}<br>แกนคุณลักษณะหลักที่ 2 (PC2)=%{y}<extra></extra>",
         "hovertext": [
          "Pathfinder AAM-222",
          "Pathfinder AAM-000"
         ],
         "legendgroup": "Orbital",
         "marker": {
          "color": "#19d3f3",
          "symbol": "circle"
         },
         "mode": "markers",
         "name": "Orbital",
         "showlegend": true,
         "type": "scattergl",
         "x": {
          "bdata": "WP8keEXJAMBtseXBCGgGwA==",
          "dtype": "f8"
         },
         "xaxis": "x",
         "y": {
          "bdata": "pPIEwU6u2j9I9uddRf26vw==",
          "dtype": "f8"
         },
         "yaxis": "y"
        },
        {
         "hovertemplate": "<b>%{hovertext}</b><br><br>Brand=Metaphyuni<br>แกนคุณลักษณะหลักที่ 1 (PC1)=%{x}<br>แกนคุณลักษณะหลักที่ 2 (PC2)=%{y}<extra></extra>",
         "hovertext": [
          "M6",
          "P2 Pro",
          "P2 Lite",
          "P2",
          "Metapanda P1 Pro Max",
          "Metapanda P1 Pro",
          "Metapanda P1"
         ],
         "legendgroup": "Metaphyuni",
         "marker": {
          "color": "#FF6692",
          "symbol": "circle"
         },
         "mode": "markers",
         "name": "Metaphyuni",
         "showlegend": true,
         "type": "scattergl",
         "x": {
          "bdata": "p0gktvEbAMC2FErPT8v3v9WgrxyNTum/OBMiEmeG8L/lSIBb8ILsP+VIgFvwguw/W0LfO4n67j8=",
          "dtype": "f8"
         },
         "xaxis": "x",
         "y": {
          "bdata": "9U86oqk08z8ZFge9R6LVPxGuljj8lOe/FM2jNysUzr+7AHna98vuP7sAedr3y+4/glneOegF6z8=",
          "dtype": "f8"
         },
         "yaxis": "y"
        },
        {
         "hovertemplate": "<b>%{hovertext}</b><br><br>Brand=EWEADN<br>แกนคุณลักษณะหลักที่ 1 (PC1)=%{x}<br>แกนคุณลักษณะหลักที่ 2 (PC2)=%{y}<extra></extra>",
         "hovertext": [
          "X23 Max",
          "X23 Pro",
          "X23 SE",
          "X23",
          "M9",
          "X21 Pro",
          "X21",
          "L1 Pro",
          "L1",
          "S9 Ultra",
          "S9 Pro",
          "S9"
         ],
         "legendgroup": "EWEADN",
         "marker": {
          "color": "#B6E880",
          "symbol": "circle"
         },
         "mode": "markers",
         "name": "EWEADN",
         "showlegend": true,
         "type": "scattergl",
         "x": {
          "bdata": "LVvlBUEz8L/AMDYEQajov8AwNgRBqOi/wDA2BEGo6L/BTjCHdNj6v4DtnyJYCvk/dNVw+ZMw/D9jXTmykEv+v2NdObKQS/6/CKo3VuyR7r/m7WPo4FHmv8L98j5JXNG/",
          "dtype": "f8"
         },
         "xaxis": "x",
         "y": {
          "bdata": "K9zC/mymqj8TGoM1FcvcvxMagzUVy9y/ExqDNRXL3L9sygKVL87iPxZRb7A/QPY/XKtxP+rs7T8AYm/+ru/qPwBib/6u7+o/vY9ln0LT9z/2mudanPDtP0d16NU3Jdk/",
          "dtype": "f8"
         },
         "yaxis": "y"
        },
        {
         "hovertemplate": "<b>%{hovertext}</b><br><br>Brand=Zaopin<br>แกนคุณลักษณะหลักที่ 1 (PC1)=%{x}<br>แกนคุณลักษณะหลักที่ 2 (PC2)=%{y}<extra></extra>",
         "hovertext": [
          "ZPW Max",
          "ZPW",
          "Z2 Max",
          "Z1 Pro Max",
          "Z2 Mini Max 8K",
          "Z2 Mini 4K",
          "Z2 Mini",
          "Z2",
          "Z1 Pro",
          "Z1"
         ],
         "legendgroup": "Zaopin",
         "marker": {
          "color": "#FF97FF",
          "symbol": "circle"
         },
         "mode": "markers",
         "name": "Zaopin",
         "showlegend": true,
         "type": "scattergl",
         "x": {
          "bdata": "jt32Ewb1wj+xUQ74dM7LPyTPSwUZ7NY/obhFJoinAMD8lhyTU/Tav0iv1cJpqLe/HKQ8Thswuj8qfdkTKfvlPwmMDQukf/6/drrO+C+g878=",
          "dtype": "f8"
         },
         "xaxis": "x",
         "y": {
          "bdata": "TQbV0udV/j/nfU4xfAr8P9eWsuvg/fM/HaLEv6il1j+RJztrlEXuP3Iv4K+yaN4/xWEG7zlizT/bHRrEhuroP5fz/9kZuLA/ENgEauw96L8=",
          "dtype": "f8"
         },
         "yaxis": "y"
        },
        {
         "hovertemplate": "<b>%{hovertext}</b><br><br>Brand=RK<br>แกนคุณลักษณะหลักที่ 1 (PC1)=%{x}<br>แกนคุณลักษณะหลักที่ 2 (PC2)=%{y}<extra></extra>",
         "hovertext": [
          "Royal Kludge M3",
          "Royal Kludge M30"
         ],
         "legendgroup": "RK",
         "marker": {
          "color": "#FECB52",
          "symbol": "circle"
         },
         "mode": "markers",
         "name": "RK",
         "showlegend": true,
         "type": "scattergl",
         "x": {
          "bdata": "2b2DpfYZAMBZIfBvBIj1vw==",
          "dtype": "f8"
         },
         "xaxis": "x",
         "y": {
          "bdata": "P94Bl8ni9T+HN6H+qMjQPw==",
          "dtype": "f8"
         },
         "yaxis": "y"
        },
        {
         "hovertemplate": "<b>%{hovertext}</b><br><br>Brand=Xyder<br>แกนคุณลักษณะหลักที่ 1 (PC1)=%{x}<br>แกนคุณลักษณะหลักที่ 2 (PC2)=%{y}<extra></extra>",
         "hovertext": [
          "Amalight 4K"
         ],
         "legendgroup": "Xyder",
         "marker": {
          "color": "#636efa",
          "symbol": "circle"
         },
         "mode": "markers",
         "name": "Xyder",
         "showlegend": true,
         "type": "scattergl",
         "x": {
          "bdata": "dNNQ9uOJ578=",
          "dtype": "f8"
         },
         "xaxis": "x",
         "y": {
          "bdata": "c4WeWB8r6D8=",
          "dtype": "f8"
         },
         "yaxis": "y"
        },
        {
         "hovertemplate": "<b>%{hovertext}</b><br><br>Brand=Imecoo<br>แกนคุณลักษณะหลักที่ 1 (PC1)=%{x}<br>แกนคุณลักษณะหลักที่ 2 (PC2)=%{y}<extra></extra>",
         "hovertext": [
          "P1"
         ],
         "legendgroup": "Imecoo",
         "marker": {
          "color": "#EF553B",
          "symbol": "circle"
         },
         "mode": "markers",
         "name": "Imecoo",
         "showlegend": true,
         "type": "scattergl",
         "x": {
          "bdata": "HiXW5f5c6T8=",
          "dtype": "f8"
         },
         "xaxis": "x",
         "y": {
          "bdata": "af8e/KRpAEA=",
          "dtype": "f8"
         },
         "yaxis": "y"
        },
        {
         "hovertemplate": "<b>%{hovertext}</b><br><br>Brand=Vaidemi<br>แกนคุณลักษณะหลักที่ 1 (PC1)=%{x}<br>แกนคุณลักษณะหลักที่ 2 (PC2)=%{y}<extra></extra>",
         "hovertext": [
          "Nimbus"
         ],
         "legendgroup": "Vaidemi",
         "marker": {
          "color": "#00cc96",
          "symbol": "circle"
         },
         "mode": "markers",
         "name": "Vaidemi",
         "showlegend": true,
         "type": "scattergl",
         "x": {
          "bdata": "fSUYAiB//78=",
          "dtype": "f8"
         },
         "xaxis": "x",
         "y": {
          "bdata": "a7vOw+1b+T8=",
          "dtype": "f8"
         },
         "yaxis": "y"
        },
        {
         "hovertemplate": "<b>%{hovertext}</b><br><br>Brand=Zowie<br>แกนคุณลักษณะหลักที่ 1 (PC1)=%{x}<br>แกนคุณลักษณะหลักที่ 2 (PC2)=%{y}<extra></extra>",
         "hovertext": [
          "EC3-DW",
          "EC2-DW",
          "EC1-DW",
          "ZA13-DW",
          "FK2-DW",
          "U2-DW",
          "S2-DW",
          "S1-B V2",
          "S1-B",
          "S1-C",
          "S2-B V2",
          "S2-B",
          "ZA13-B",
          "ZA12-B",
          "ZA12-C",
          "ZA11-B",
          "ZA11-C",
          "FK2-B V2",
          "FK2-B",
          "FK1-B V2",
          "FK1-B",
          "FK1+-B V2",
          "FK1+-B",
          "EC2-B V2",
          "EC2-B",
          "EC1-B V2",
          "EC1-B",
          "MiCO",
          "U2",
          "AM",
          "EC3-CW",
          "EC2-CW",
          "EC1-CW",
          "S2-C",
          "ZA13-C",
          "FK2-C",
          "FK1-C",
          "FK1+-C",
          "EC3-C",
          "EC2-C",
          "EC1-C"
         ],
         "legendgroup": "Zowie",
         "marker": {
          "color": "#ab63fa",
          "symbol": "circle"
         },
         "mode": "markers",
         "name": "Zowie",
         "showlegend": true,
         "type": "scattergl",
         "x": {
          "bdata": "nD55C38V8T9URen17hb0Pzu8IhPdrP4/dvk7eZ1l2b8kkXbtG+jdv23jgP/5QuG/Tu6mjglS4b/Wymc9ugvjP9bKZz26C+M/Jck8xQ/bzj999bCGjauxP331sIaNq7E/qtiPInqvoz9nMoVACQveP0uCU5e9DtI/ZWJdwWDB7j+PSeyef3fnP+Zn5z3/3Lc/5mfnPf/ctz+absh7+w/hP5puyHv7D+E/nWhOv8Z+7T+daE6/xn7tP+lQEBjANAFA6VAQGMA0AUA1JMj+73oGQDUkyP7vegZAEiho1DMK/r8CMr260g/Wv828U/0e99c/3qsQ3YSj+j+7Z+WXQI79PyqHKckgxwNAadhxlrvXz78+ye5p+N7Jv8Fp8QF5SMO/8+B+yxzw0j+mJFjvudfmPzRW8OuyXfg/oKQ137YP/D+RgJqqP/UDQA==",
          "dtype": "f8"
         },
         "xaxis": "x",
         "y": {
          "bdata": "yBfTydnexj9cFEFIXujWP0wPXin8p+g/+jgsaXnc4r+0jFy1SKLmv7otEeFLSuC/l+FS/BZG6b+rb/KWtCfzv6tv8pa0J/O/iRD/NIv06b/vm7LnDh/4v++bsucOH/i/6CDPDRWn8b9aWB4f4a7qv81ujSC0N+S/5FoBdaCQ4b+TSI70PPPTv2MfayfC4PW/Yx9rJ8Lg9b+TVmgoHN7xv5NWaCgc3vG/1p4EGJHk6r/WngQYkeTqv+uZPk0VguS/65k+TRWC5L+gCcXgvHHIv6AJxeC8cci/rkIVaXTmCMACrT+9Fibov9wtjm26/fe/mRECuRY74L8Qtv3layDUv3joJzon5cM/YW9MCQdY8r9CuFpFRLjqv3YOUujxdPG/ggohFXJn67/YG3eRF9bjv8bGhbINhNa/9M82Sexly7/8gn5abfDAPw==",
          "dtype": "f8"
         },
         "yaxis": "y"
        },
        {
         "hovertemplate": "<b>%{hovertext}</b><br><br>Brand=Tecware<br>แกนคุณลักษณะหลักที่ 1 (PC1)=%{x}<br>แกนคุณลักษณะหลักที่ 2 (PC2)=%{y}<extra></extra>",
         "hovertext": [
          "EX1",
          "Pulse Elite"
         ],
         "legendgroup": "Tecware",
         "marker": {
          "color": "#FFA15A",
          "symbol": "circle"
         },
         "mode": "markers",
         "name": "Tecware",
         "showlegend": true,
         "type": "scattergl",
         "x": {
          "bdata": "3hxGEpd48L/8me0wVu/Jvw==",
          "dtype": "f8"
         },
         "xaxis": "x",
         "y": {
          "bdata": "Lj0aKV8Zwb+KtnxlZxbPvw==",
          "dtype": "f8"
         },
         "yaxis": "y"
        },
        {
         "hovertemplate": "<b>%{hovertext}</b><br><br>Brand=SOLAKAKA<br>แกนคุณลักษณะหลักที่ 1 (PC1)=%{x}<br>แกนคุณลักษณะหลักที่ 2 (PC2)=%{y}<extra></extra>",
         "hovertext": [
          "SM809 Pro",
          "SM802 Pro",
          "SM805",
          "SM850",
          "SM809",
          "SM802"
         ],
         "legendgroup": "SOLAKAKA",
         "marker": {
          "color": "#19d3f3",
          "symbol": "circle"
         },
         "mode": "markers",
         "name": "SOLAKAKA",
         "showlegend": true,
         "type": "scattergl",
         "x": {
          "bdata": "o7NMmb+tEkCV8YscBmnlvz50hT/U7fE/I6W9bNGD4j9x8ekBEdURQPTX7imKVdu/",
          "dtype": "f8"
         },
         "xaxis": "x",
         "y": {
          "bdata": "oIa6wQ9u/z9k3pH3TyaxvwJxzS4EV+A/hbxcI6Nn5D+HrryWSUwBQJn2n2m7NOK/",
          "dtype": "f8"
         },
         "yaxis": "y"
        },
        {
         "hovertemplate": "<b>%{hovertext}</b><br><br>Brand=Mighty<br>แกนคุณลักษณะหลักที่ 1 (PC1)=%{x}<br>แกนคุณลักษณะหลักที่ 2 (PC2)=%{y}<extra></extra>",
         "hovertext": [
          "Mouse MM8K"
         ],
         "legendgroup": "Mighty",
         "marker": {
          "color": "#FF6692",
          "symbol": "circle"
         },
         "mode": "markers",
         "name": "Mighty",
         "showlegend": true,
         "type": "scattergl",
         "x": {
          "bdata": "yUbK0dNCGMA=",
          "dtype": "f8"
         },
         "xaxis": "x",
         "y": {
          "bdata": "DmdcKjBZAMA=",
          "dtype": "f8"
         },
         "yaxis": "y"
        },
        {
         "hovertemplate": "<b>%{hovertext}</b><br><br>Brand=Redragon<br>แกนคุณลักษณะหลักที่ 1 (PC1)=%{x}<br>แกนคุณลักษณะหลักที่ 2 (PC2)=%{y}<extra></extra>",
         "hovertext": [
          "M813 Pro",
          "M813 Wired",
          "M995 Pro",
          "M995",
          "M991",
          "M810 Pro",
          "M693",
          "M656 Gainer",
          "M913 Impact Elite",
          "M908 Impact",
          "M996",
          "M724",
          "M916 Pro 4K",
          "M916 Pro",
          "G49 Pro",
          "M711 Cobra"
         ],
         "legendgroup": "Redragon",
         "marker": {
          "color": "#B6E880",
          "symbol": "circle"
         },
         "mode": "markers",
         "name": "Redragon",
         "showlegend": true,
         "type": "scattergl",
         "x": {
          "bdata": "1NUiYQPZA0D5f8a0/DoFQKix4TovLue/qLHhOi8u57+0q1EDUUUMQAkNZQFlpARAY+D4nVEgAED05IJ41k4QQPDGdzchOBlAUEaFJMyJGEBqY3kOs9T7v8YDYTD7zPC/7YIMmSXx9L+3XftHndPxv+2CDJkl8fS/3/unEWwVAUA=",
          "dtype": "f8"
         },
         "xaxis": "x",
         "y": {
          "bdata": "GulsoXc98z83KDkb1QHrP7rqzZUInuE/uurNlQie4T823TXUjViNv+ck9Ol4S+M/nhg29S/N1r8AIHDMvQLyv5d257rFgPQ/hMiVSbfo9T+lJm3fmDHwP+M7ULIm16i/DT689iJn3z/4fr58Gl/PPw0+vPYiZ98/u56w+RM55L8=",
          "dtype": "f8"
         },
         "yaxis": "y"
        },
        {
         "hovertemplate": "<b>%{hovertext}</b><br><br>Brand=JAMESDONKEY<br>แกนคุณลักษณะหลักที่ 1 (PC1)=%{x}<br>แกนคุณลักษณะหลักที่ 2 (PC2)=%{y}<extra></extra>",
         "hovertext": [
          "RSR5s",
          "RSR5"
         ],
         "legendgroup": "JAMESDONKEY",
         "marker": {
          "color": "#FF97FF",
          "symbol": "circle"
         },
         "mode": "markers",
         "name": "JAMESDONKEY",
         "showlegend": true,
         "type": "scattergl",
         "x": {
          "bdata": "R4pz99MX+r/LePbTATP7vw==",
          "dtype": "f8"
         },
         "xaxis": "x",
         "y": {
          "bdata": "GMSib4HT3D/Yct76lwDjPw==",
          "dtype": "f8"
         },
         "yaxis": "y"
        },
        {
         "hovertemplate": "<b>%{hovertext}</b><br><br>Brand=ROCCAT<br>แกนคุณลักษณะหลักที่ 1 (PC1)=%{x}<br>แกนคุณลักษณะหลักที่ 2 (PC2)=%{y}<extra></extra>",
         "hovertext": [
          "LUA",
          "Kone XP Air",
          "Pure SEL",
          "Pure Air",
          "Tyon",
          "Kain 120 AIMO",
          "Kone Pure Ultra",
          "Kone AIMO Remastered",
          "Kain 100 AIMO",
          "Kain 200 AIMO",
          "Kone XP",
          "Kone Pro",
          "Kone Pro Air",
          "Burst Core",
          "Burst Pro",
          "Burst Pro Air"
         ],
         "legendgroup": "ROCCAT",
         "marker": {
          "color": "#FECB52",
          "symbol": "circle"
         },
         "mode": "markers",
         "name": "ROCCAT",
         "showlegend": true,
         "type": "scattergl",
         "x": {
          "bdata": "SuqtDY1i8L+FDXLfvUoKQJrqS8jcUPA/sUPjbml36j8Dvmq9RuAUQMxPdDaW6+Q/ST8/DR9n9D8Lzakpe3oTQDtOXzGCEek/CPM+GmVg8D/B1PKPKecIQJ7/sb4tevw/JP7AHr7C/z9ywHCG/MHEvxNdDjnWrNK/GVrkC74In78=",
          "dtype": "f8"
         },
         "xaxis": "x",
         "y": {
          "bdata": "GH3TAnlyAMB8w5VayFngP6MPwfvfTNc/i/WjKeEm7D853yz+RC7gP0sO10tjjd+/inwEkLrrwj+az66Q2UPhP6YGpEOFYei/og6pff5V7L9BnK+YZETNP+TwJTvIsuk/eSxMJ5zZ4j/4E7Xy2ULpv3qU/FQGqOC/KTsN9Ets6L8=",
          "dtype": "f8"
         },
         "yaxis": "y"
        },
        {
         "hovertemplate": "<b>%{hovertext}</b><br><br>Brand=Realforce<br>แกนคุณลักษณะหลักที่ 1 (PC1)=%{x}<br>แกนคุณลักษณะหลักที่ 2 (PC2)=%{y}<extra></extra>",
         "hovertext": [
          "RM1"
         ],
         "legendgroup": "Realforce",
         "marker": {
          "color": "#636efa",
          "symbol": "circle"
         },
         "mode": "markers",
         "name": "Realforce",
         "showlegend": true,
         "type": "scattergl",
         "x": {
          "bdata": "cOHIzrBI/z8=",
          "dtype": "f8"
         },
         "xaxis": "x",
         "y": {
          "bdata": "+MbWvFDCtL8=",
          "dtype": "f8"
         },
         "yaxis": "y"
        },
        {
         "hovertemplate": "<b>%{hovertext}</b><br><br>Brand=Lenovo<br>แกนคุณลักษณะหลักที่ 1 (PC1)=%{x}<br>แกนคุณลักษณะหลักที่ 2 (PC2)=%{y}<extra></extra>",
         "hovertext": [
          "Yoga Pro",
          "Legion M410",
          "Legion M600s",
          "Legion M300s"
         ],
         "legendgroup": "Lenovo",
         "marker": {
          "color": "#EF553B",
          "symbol": "circle"
         },
         "mode": "markers",
         "name": "Lenovo",
         "showlegend": true,
         "type": "scattergl",
         "x": {
          "bdata": "irPeb1LaEUD27SyPj8nlPxd1ufYYje6/4J2D+SIY8b8=",
          "dtype": "f8"
         },
         "xaxis": "x",
         "y": {
          "bdata": "726H7MYnEsBBOYpwa13wv06bTvwcMO6/dGvvmmlU778=",
          "dtype": "f8"
         },
         "yaxis": "y"
        },
        {
         "hovertemplate": "<b>%{hovertext}</b><br><br>Brand=HaunterWell<br>แกนคุณลักษณะหลักที่ 1 (PC1)=%{x}<br>แกนคุณลักษณะหลักที่ 2 (PC2)=%{y}<extra></extra>",
         "hovertext": [
          "HZS",
          "HMF",
          "HFC",
          "HZ1"
         ],
         "legendgroup": "HaunterWell",
         "marker": {
          "color": "#00cc96",
          "symbol": "circle"
         },
         "mode": "markers",
         "name": "HaunterWell",
         "showlegend": true,
         "type": "scattergl",
         "x": {
          "bdata": "2z02GqKMEsDMSRc2+QMTwPOonZpKuA/Ary3gclcYB8A=",
          "dtype": "f8"
         },
         "xaxis": "x",
         "y": {
          "bdata": "GWww5gaa6b+MGJdfKSDwv9i2liNooOG/2C7Bpbbu2D8=",
          "dtype": "f8"
         },
         "yaxis": "y"
        },
        {
         "hovertemplate": "<b>%{hovertext}</b><br><br>Brand=Akko<br>แกนคุณลักษณะหลักที่ 1 (PC1)=%{x}<br>แกนคุณลักษณะหลักที่ 2 (PC2)=%{y}<extra></extra>",
         "hovertext": [
          "Pulse 01",
          "AG ONE 8K",
          "AG One NearLink",
          "AG325W",
          "AG325C",
          "AG325"
         ],
         "legendgroup": "Akko",
         "marker": {
          "color": "#ab63fa",
          "symbol": "circle"
         },
         "mode": "markers",
         "name": "Akko",
         "showlegend": true,
         "type": "scattergl",
         "x": {
          "bdata": "+WQeovya5r/+DUYcHA/tv8/ZXB+tr+e/OaHE2D2Y8T+fSTa7LLXCPxtO4Fr65sg/",
          "dtype": "f8"
         },
         "xaxis": "x",
         "y": {
          "bdata": "i9C3v3pV4D/Uww1MpUzjPxy88ov+p9o/RVPifCKqFcB8hnFHYGfrvwrfLcPDne6/",
          "dtype": "f8"
         },
         "yaxis": "y"
        },
        {
         "hovertemplate": "<b>%{hovertext}</b><br><br>Brand=Pwnage<br>แกนคุณลักษณะหลักที่ 1 (PC1)=%{x}<br>แกนคุณลักษณะหลักที่ 2 (PC2)=%{y}<extra></extra>",
         "hovertext": [
          "StormBreaker V3",
          "StormBreaker V2",
          "Trinity CF",
          "StormBreaker Max CF",
          "StormBreaker",
          "Ergo Wireless",
          "Ergo",
          "Ambi Wireless",
          "Symm 2",
          "Symm 2 Wireless",
          "Symm 1",
          "Symm 1 Wireless"
         ],
         "legendgroup": "Pwnage",
         "marker": {
          "color": "#FFA15A",
          "symbol": "circle"
         },
         "mode": "markers",
         "name": "Pwnage",
         "showlegend": true,
         "type": "scattergl",
         "x": {
          "bdata": "aJfZC4ADqz/dkKHjg+PPP/NlD2CUJQLAqb2+rng96T/IHBbRoUfgP0OHHG+js/U/Of2eD4Po8z/ljiBuu37rv6apcVO/WvC/fPU4WSDF6L/IT2Y1IIrsv2+mCGi/+ea/",
          "dtype": "f8"
         },
         "xaxis": "x",
         "y": {
          "bdata": "SoaqA19nAEDOG7Q1iKn6P/s2Y46GYvE/+DIfsvyCBEBJHJVNVmz1P/FUoea+Mtg/PLXZYiqk3D8udRlhMSbvv3sZlT/TH+S/KKZXCo/c67+43oFAHSDqv+DponavIO+/",
          "dtype": "f8"
         },
         "yaxis": "y"
        },
        {
         "hovertemplate": "<b>%{hovertext}</b><br><br>Brand=Teevolution<br>แกนคุณลักษณะหลักที่ 1 (PC1)=%{x}<br>แกนคุณลักษณะหลักที่ 2 (PC2)=%{y}<extra></extra>",
         "hovertext": [
          "Terra",
          "Aria XD7",
          "Helios II Pro"
         ],
         "legendgroup": "Teevolution",
         "marker": {
          "color": "#19d3f3",
          "symbol": "circle"
         },
         "mode": "markers",
         "name": "Teevolution",
         "showlegend": true,
         "type": "scattergl",
         "x": {
          "bdata": "5O9qwmCl5j90rmCUQJbwv2oGMe9N0/K/",
          "dtype": "f8"
         },
         "xaxis": "x",
         "y": {
          "bdata": "ASz2HTO0AUCD27lE0fPQv6MzquxxGNQ/",
          "dtype": "f8"
         },
         "yaxis": "y"
        },
        {
         "hovertemplate": "<b>%{hovertext}</b><br><br>Brand=GravaStar<br>แกนคุณลักษณะหลักที่ 1 (PC1)=%{x}<br>แกนคุณลักษณะหลักที่ 2 (PC2)=%{y}<extra></extra>",
         "hovertext": [
          "Mercury X Pro",
          "Mercury X",
          "Mercury M2",
          "Mercury M1 Pro"
         ],
         "legendgroup": "GravaStar",
         "marker": {
          "color": "#FF6692",
          "symbol": "circle"
         },
         "mode": "markers",
         "name": "GravaStar",
         "showlegend": true,
         "type": "scattergl",
         "x": {
          "bdata": "C+/+18eO9b8Y2601vpPsvxVDmoKn6KK/OQx48tC+kr8=",
          "dtype": "f8"
         },
         "xaxis": "x",
         "y": {
          "bdata": "p4CMs6369T/9gqy6LJ/pPwaj0GE7u8q/4KSac6k3yb8=",
          "dtype": "f8"
         },
         "yaxis": "y"
        },
        {
         "hovertemplate": "<b>%{hovertext}</b><br><br>Brand=NZXT<br>แกนคุณลักษณะหลักที่ 1 (PC1)=%{x}<br>แกนคุณลักษณะหลักที่ 2 (PC2)=%{y}<extra></extra>",
         "hovertext": [
          "Lift Elite Wireless",
          "Lift 2 Ergo",
          "Lift 2 Symm",
          "Lift"
         ],
         "legendgroup": "NZXT",
         "marker": {
          "color": "#B6E880",
          "symbol": "circle"
         },
         "mode": "markers",
         "name": "NZXT",
         "showlegend": true,
         "type": "scattergl",
         "x": {
          "bdata": "ftS5F8jG+r/yhG1VhNboP1975IgNDey/bcIv/ekMo78=",
          "dtype": "f8"
         },
         "xaxis": "x",
         "y": {
          "bdata": "G6ceMUS71z/dhAxyVWD6PyzFv6TQse8/0t4NVd0Ixr8=",
          "dtype": "f8"
         },
         "yaxis": "y"
        },
        {
         "hovertemplate": "<b>%{hovertext}</b><br><br>Brand=strayfe<br>แกนคุณลักษณะหลักที่ 1 (PC1)=%{x}<br>แกนคุณลักษณะหลักที่ 2 (PC2)=%{y}<extra></extra>",
         "hovertext": [
          "M55 Pro 8k"
         ],
         "legendgroup": "strayfe",
         "marker": {
          "color": "#FF97FF",
          "symbol": "circle"
         },
         "mode": "markers",
         "name": "strayfe",
         "showlegend": true,
         "type": "scattergl",
         "x": {
          "bdata": "4jZpYkgO978=",
          "dtype": "f8"
         },
         "xaxis": "x",
         "y": {
          "bdata": "R0+nGYkV5z8=",
          "dtype": "f8"
         },
         "yaxis": "y"
        },
        {
         "hovertemplate": "<b>%{hovertext}</b><br><br>Brand=Waizowl<br>แกนคุณลักษณะหลักที่ 1 (PC1)=%{x}<br>แกนคุณลักษณะหลักที่ 2 (PC2)=%{y}<extra></extra>",
         "hovertext": [
          "OGM Cloud XS",
          "OGM One",
          "OGM Cloud V2",
          "OGM Pro V2",
          "OGM Cloud",
          "OGM Pro"
         ],
         "legendgroup": "Waizowl",
         "marker": {
          "color": "#FECB52",
          "symbol": "circle"
         },
         "mode": "markers",
         "name": "Waizowl",
         "showlegend": true,
         "type": "scattergl",
         "x": {
          "bdata": "Ox+N/hgxAcDx4H1nnwfkP+eGO4V8EPC/Dwem743T7781eEN53Jvlv/CyGK/px7g/",
          "dtype": "f8"
         },
         "xaxis": "x",
         "y": {
          "bdata": "9ALaeZ4p5j+clFNq/ODpvws92xUFHfM/MAMn5fgE9D9CamsYzyjnPz67jfxiNMA/",
          "dtype": "f8"
         },
         "yaxis": "y"
        },
        {
         "hovertemplate": "<b>%{hovertext}</b><br><br>Brand=cOoLm0Dz<br>แกนคุณลักษณะหลักที่ 1 (PC1)=%{x}<br>แกนคุณลักษณะหลักที่ 2 (PC2)=%{y}<extra></extra>",
         "hovertext": [
          "OPt1p",
          "finalt1p"
         ],
         "legendgroup": "cOoLm0Dz",
         "marker": {
          "color": "#636efa",
          "symbol": "circle"
         },
         "mode": "markers",
         "name": "cOoLm0Dz",
         "showlegend": true,
         "type": "scattergl",
         "x": {
          "bdata": "Embi0JSeC8CDsuYxWjwNwA==",
          "dtype": "f8"
         },
         "xaxis": "x",
         "y": {
          "bdata": "evBYr0EztT9ZH5eyLmzKPw==",
          "dtype": "f8"
         },
         "yaxis": "y"
        },
        {
         "hovertemplate": "<b>%{hovertext}</b><br><br>Brand=IPI<br>แกนคุณลักษณะหลักที่ 1 (PC1)=%{x}<br>แกนคุณลักษณะหลักที่ 2 (PC2)=%{y}<extra></extra>",
         "hovertext": [
          "Float"
         ],
         "legendgroup": "IPI",
         "marker": {
          "color": "#EF553B",
          "symbol": "circle"
         },
         "mode": "markers",
         "name": "IPI",
         "showlegend": true,
         "type": "scattergl",
         "x": {
          "bdata": "E1KFpnUXAcA=",
          "dtype": "f8"
         },
         "xaxis": "x",
         "y": {
          "bdata": "RAqFVYk85z8=",
          "dtype": "f8"
         },
         "yaxis": "y"
        },
        {
         "hovertemplate": "<b>%{hovertext}</b><br><br>Brand=PHYLINA<br>แกนคุณลักษณะหลักที่ 1 (PC1)=%{x}<br>แกนคุณลักษณะหลักที่ 2 (PC2)=%{y}<extra></extra>",
         "hovertext": [
          "S480",
          "S450 4K",
          "S450"
         ],
         "legendgroup": "PHYLINA",
         "marker": {
          "color": "#00cc96",
          "symbol": "circle"
         },
         "mode": "markers",
         "name": "PHYLINA",
         "showlegend": true,
         "type": "scattergl",
         "x": {
          "bdata": "EyEOwjH0AMDrKK9oc+nzv7QDnhfry/C/",
          "dtype": "f8"
         },
         "xaxis": "x",
         "y": {
          "bdata": "Z4KWI0fe8z9DVmacOvbaP2OvEshJfcY/",
          "dtype": "f8"
         },
         "yaxis": "y"
        },
        {
         "hovertemplate": "<b>%{hovertext}</b><br><br>Brand=Amazon<br>แกนคุณลักษณะหลักที่ 1 (PC1)=%{x}<br>แกนคุณลักษณะหลักที่ 2 (PC2)=%{y}<extra></extra>",
         "hovertext": [
          "Basics Mouse"
         ],
         "legendgroup": "Amazon",
         "marker": {
          "color": "#ab63fa",
          "symbol": "circle"
         },
         "mode": "markers",
         "name": "Amazon",
         "showlegend": true,
         "type": "scattergl",
         "x": {
          "bdata": "ju0uv2iB5b8=",
          "dtype": "f8"
         },
         "xaxis": "x",
         "y": {
          "bdata": "r01EdLEvGsA=",
          "dtype": "f8"
         },
         "yaxis": "y"
        },
        {
         "hovertemplate": "<b>%{hovertext}</b><br><br>Brand=TMKB<br>แกนคุณลักษณะหลักที่ 1 (PC1)=%{x}<br>แกนคุณลักษณะหลักที่ 2 (PC2)=%{y}<extra></extra>",
         "hovertext": [
          "Falcon M1SE"
         ],
         "legendgroup": "TMKB",
         "marker": {
          "color": "#FFA15A",
          "symbol": "circle"
         },
         "mode": "markers",
         "name": "TMKB",
         "showlegend": true,
         "type": "scattergl",
         "x": {
          "bdata": "tJgbrZBHkD8=",
          "dtype": "f8"
         },
         "xaxis": "x",
         "y": {
          "bdata": "62www/DW4r8=",
          "dtype": "f8"
         },
         "yaxis": "y"
        },
        {
         "hovertemplate": "<b>%{hovertext}</b><br><br>Brand=Madlions<br>แกนคุณลักษณะหลักที่ 1 (PC1)=%{x}<br>แกนคุณลักษณะหลักที่ 2 (PC2)=%{y}<extra></extra>",
         "hovertext": [
          "Mad G Max",
          "Mad G"
         ],
         "legendgroup": "Madlions",
         "marker": {
          "color": "#19d3f3",
          "symbol": "circle"
         },
         "mode": "markers",
         "name": "Madlions",
         "showlegend": true,
         "type": "scattergl",
         "x": {
          "bdata": "U/KHDQGe8r8cq9G4rHjqvw==",
          "dtype": "f8"
         },
         "xaxis": "x",
         "y": {
          "bdata": "1Tr5kmiG8z8ucUibs9PoPw==",
          "dtype": "f8"
         },
         "yaxis": "y"
        },
        {
         "hovertemplate": "<b>%{hovertext}</b><br><br>Brand=Mountain<br>แกนคุณลักษณะหลักที่ 1 (PC1)=%{x}<br>แกนคุณลักษณะหลักที่ 2 (PC2)=%{y}<extra></extra>",
         "hovertext": [
          "Makalu Max",
          "Makalu 67"
         ],
         "legendgroup": "Mountain",
         "marker": {
          "color": "#FF6692",
          "symbol": "circle"
         },
         "mode": "markers",
         "name": "Mountain",
         "showlegend": true,
         "type": "scattergl",
         "x": {
          "bdata": "mabh1WOKCECfRTEN0ev+Pw==",
          "dtype": "f8"
         },
         "xaxis": "x",
         "y": {
          "bdata": "yvYoiOZxsj8rGrK9QonuPw==",
          "dtype": "f8"
         },
         "yaxis": "y"
        },
        {
         "hovertemplate": "<b>%{hovertext}</b><br><br>Brand=Edifier<br>แกนคุณลักษณะหลักที่ 1 (PC1)=%{x}<br>แกนคุณลักษณะหลักที่ 2 (PC2)=%{y}<extra></extra>",
         "hovertext": [
          "Hecate G5M Pro",
          "Hecate G5M",
          "Hecate G3M Pro"
         ],
         "legendgroup": "Edifier",
         "marker": {
          "color": "#B6E880",
          "symbol": "circle"
         },
         "mode": "markers",
         "name": "Edifier",
         "showlegend": true,
         "type": "scattergl",
         "x": {
          "bdata": "WSvIesCl5b8I2CZkd/Hgv5QZ25ItgPC/",
          "dtype": "f8"
         },
         "xaxis": "x",
         "y": {
          "bdata": "UAGgUF7o1j8v1qiqLh/FP+TCNptUzNW/",
          "dtype": "f8"
         },
         "yaxis": "y"
        },
        {
         "hovertemplate": "<b>%{hovertext}</b><br><br>Brand=EVGA<br>แกนคุณลักษณะหลักที่ 1 (PC1)=%{x}<br>แกนคุณลักษณะหลักที่ 2 (PC2)=%{y}<extra></extra>",
         "hovertext": [
          "X20",
          "X17",
          "X15",
          "X12"
         ],
         "legendgroup": "EVGA",
         "marker": {
          "color": "#FF97FF",
          "symbol": "circle"
         },
         "mode": "markers",
         "name": "EVGA",
         "showlegend": true,
         "type": "scattergl",
         "x": {
          "bdata": "MzCuGKKhC0DpHq4/62kEQLfxD0YdbA1A2mn+kbwApz8=",
          "dtype": "f8"
         },
         "xaxis": "x",
         "y": {
          "bdata": "DCkH/vHd07+8o4poufzmP743iDKJOvE/nUCxrbEf3T8=",
          "dtype": "f8"
         },
         "yaxis": "y"
        },
        {
         "hovertemplate": "<b>%{hovertext}</b><br><br>Brand=8BitDo<br>แกนคุณลักษณะหลักที่ 1 (PC1)=%{x}<br>แกนคุณลักษณะหลักที่ 2 (PC2)=%{y}<extra></extra>",
         "hovertext": [
          "Retro R8"
         ],
         "legendgroup": "8BitDo",
         "marker": {
          "color": "#FECB52",
          "symbol": "circle"
         },
         "mode": "markers",
         "name": "8BitDo",
         "showlegend": true,
         "type": "scattergl",
         "x": {
          "bdata": "6CjjEWyH9r8=",
          "dtype": "f8"
         },
         "xaxis": "x",
         "y": {
          "bdata": "2TKqEus53L8=",
          "dtype": "f8"
         },
         "yaxis": "y"
        },
        {
         "hovertemplate": "<b>%{hovertext}</b><br><br>Brand=ANTGAMER<br>แกนคุณลักษณะหลักที่ 1 (PC1)=%{x}<br>แกนคุณลักษณะหลักที่ 2 (PC2)=%{y}<extra></extra>",
         "hovertext": [
          "AGM535R"
         ],
         "legendgroup": "ANTGAMER",
         "marker": {
          "color": "#636efa",
          "symbol": "circle"
         },
         "mode": "markers",
         "name": "ANTGAMER",
         "showlegend": true,
         "type": "scattergl",
         "x": {
          "bdata": "sz46oa0r778=",
          "dtype": "f8"
         },
         "xaxis": "x",
         "y": {
          "bdata": "DABaZAqm8j8=",
          "dtype": "f8"
         },
         "yaxis": "y"
        },
        {
         "hovertemplate": "<b>%{hovertext}</b><br><br>Brand=RAKK<br>แกนคุณลักษณะหลักที่ 1 (PC1)=%{x}<br>แกนคุณลักษณะหลักที่ 2 (PC2)=%{y}<extra></extra>",
         "hovertext": [
          "Talan Aero",
          "Kaptan Wired",
          "Talan Air",
          "Talan",
          "Tanaw",
          "Kaptan Trimode",
          "MAG-AN",
          "BULUS",
          "Gahum"
         ],
         "legendgroup": "RAKK",
         "marker": {
          "color": "#EF553B",
          "symbol": "circle"
         },
         "mode": "markers",
         "name": "RAKK",
         "showlegend": true,
         "type": "scattergl",
         "x": {
          "bdata": "AAwGjYhD8b/QlUfAbKn8P8AjDT80uMi/4howQBqDzL/Es0VmOCr1v7dErSG5VNE/rsh3C1UN+7/HYw+Gyw66v8+pPl8s7eK/",
          "dtype": "f8"
         },
         "xaxis": "x",
         "y": {
          "bdata": "euy4JLwNhz/+HPsX3rzFP57fP+vp29S/pCHIqXdF7L9OBJdGx2rOvxHH+5l8COE/h9Ca+cxg8L90NtNGG2rzv6uwYSF4MdE/",
          "dtype": "f8"
         },
         "yaxis": "y"
        },
        {
         "hovertemplate": "<b>%{hovertext}</b><br><br>Brand=Scyrox<br>แกนคุณลักษณะหลักที่ 1 (PC1)=%{x}<br>แกนคุณลักษณะหลักที่ 2 (PC2)=%{y}<extra></extra>",
         "hovertext": [
          "V6",
          "V8"
         ],
         "legendgroup": "Scyrox",
         "marker": {
          "color": "#00cc96",
          "symbol": "circle"
         },
         "mode": "markers",
         "name": "Scyrox",
         "showlegend": true,
         "type": "scattergl",
         "x": {
          "bdata": "7+ivD62//78GE+a7iTUBwA==",
          "dtype": "f8"
         },
         "xaxis": "x",
         "y": {
          "bdata": "hsF1x42t8j/bhy044q/yPw==",
          "dtype": "f8"
         },
         "yaxis": "y"
        },
        {
         "hovertemplate": "<b>%{hovertext}</b><br><br>Brand=Ragnok<br>แกนคุณลักษณะหลักที่ 1 (PC1)=%{x}<br>แกนคุณลักษณะหลักที่ 2 (PC2)=%{y}<extra></extra>",
         "hovertext": [
          "ErgoStrike7",
          "2 (FireGrip)"
         ],
         "legendgroup": "Ragnok",
         "marker": {
          "color": "#ab63fa",
          "symbol": "circle"
         },
         "mode": "markers",
         "name": "Ragnok",
         "showlegend": true,
         "type": "scattergl",
         "x": {
          "bdata": "DWQnAf0lMkBdOlUp4FYsQA==",
          "dtype": "f8"
         },
         "xaxis": "x",
         "y": {
          "bdata": "P89AxQFUJkCbeyaQXmkiQA==",
          "dtype": "f8"
         },
         "yaxis": "y"
        },
        {
         "hovertemplate": "<b>%{hovertext}</b><br><br>Brand=Aigo<br>แกนคุณลักษณะหลักที่ 1 (PC1)=%{x}<br>แกนคุณลักษณะหลักที่ 2 (PC2)=%{y}<extra></extra>",
         "hovertext": [
          "GM80 Pro",
          "GM80 Plus",
          "GM80"
         ],
         "legendgroup": "Aigo",
         "marker": {
          "color": "#FFA15A",
          "symbol": "circle"
         },
         "mode": "markers",
         "name": "Aigo",
         "showlegend": true,
         "type": "scattergl",
         "x": {
          "bdata": "die/j8Dh97/SCWOVf2fyv6nk9AugAvS/",
          "dtype": "f8"
         },
         "xaxis": "x",
         "y": {
          "bdata": "98zmT1kbq79Un54vaIPlv5snrP+mweG/",
          "dtype": "f8"
         },
         "yaxis": "y"
        },
        {
         "hovertemplate": "<b>%{hovertext}</b><br><br>Brand=LTC<br>แกนคุณลักษณะหลักที่ 1 (PC1)=%{x}<br>แกนคุณลักษณะหลักที่ 2 (PC2)=%{y}<extra></extra>",
         "hovertext": [
          "GM022"
         ],
         "legendgroup": "LTC",
         "marker": {
          "color": "#19d3f3",
          "symbol": "circle"
         },
         "mode": "markers",
         "name": "LTC",
         "showlegend": true,
         "type": "scattergl",
         "x": {
          "bdata": "GEjOYDCS7b8=",
          "dtype": "f8"
         },
         "xaxis": "x",
         "y": {
          "bdata": "9W99t3FklD8=",
          "dtype": "f8"
         },
         "yaxis": "y"
        },
        {
         "hovertemplate": "<b>%{hovertext}</b><br><br>Brand=Swiftpoint<br>แกนคุณลักษณะหลักที่ 1 (PC1)=%{x}<br>แกนคุณลักษณะหลักที่ 2 (PC2)=%{y}<extra></extra>",
         "hovertext": [
          "Z2",
          "Creator",
          "Tracer",
          "ErgoPoint"
         ],
         "legendgroup": "Swiftpoint",
         "marker": {
          "color": "#FF6692",
          "symbol": "circle"
         },
         "mode": "markers",
         "name": "Swiftpoint",
         "showlegend": true,
         "type": "scattergl",
         "x": {
          "bdata": "OV+5kTCYEUDu76uy+I8SQO7vq7L4jxJAT0Ps7EcXG0A=",
          "dtype": "f8"
         },
         "xaxis": "x",
         "y": {
          "bdata": "1ycjfW278D/klJiP6WbhP+SUmI/pZuE/YHkXd4AlBsA=",
          "dtype": "f8"
         },
         "yaxis": "y"
        },
        {
         "hovertemplate": "<b>%{hovertext}</b><br><br>Brand=MACHENIKE<br>แกนคุณลักษณะหลักที่ 1 (PC1)=%{x}<br>แกนคุณลักษณะหลักที่ 2 (PC2)=%{y}<extra></extra>",
         "hovertext": [
          "M7 Pro",
          "L8 Max",
          "L8 Air",
          "L8 Pro",
          "L7 Air"
         ],
         "legendgroup": "MACHENIKE",
         "marker": {
          "color": "#B6E880",
          "symbol": "circle"
         },
         "mode": "markers",
         "name": "MACHENIKE",
         "showlegend": true,
         "type": "scattergl",
         "x": {
          "bdata": "BlGBLo8R4b+mW/nCS4n9PxVkkFm7udE/+dp8d0gU/T/kzm98SEf2vw==",
          "dtype": "f8"
         },
         "xaxis": "x",
         "y": {
          "bdata": "+8zdc2It3b+1veoK/U31P7h4LBt+r9I/ITGjxBPT2D+l/PCxc5TFPw==",
          "dtype": "f8"
         },
         "yaxis": "y"
        },
        {
         "hovertemplate": "<b>%{hovertext}</b><br><br>Brand=Xiaomi<br>แกนคุณลักษณะหลักที่ 1 (PC1)=%{x}<br>แกนคุณลักษณะหลักที่ 2 (PC2)=%{y}<extra></extra>",
         "hovertext": [
          "X1"
         ],
         "legendgroup": "Xiaomi",
         "marker": {
          "color": "#FF97FF",
          "symbol": "circle"
         },
         "mode": "markers",
         "name": "Xiaomi",
         "showlegend": true,
         "type": "scattergl",
         "x": {
          "bdata": "VU/B+NfM6r8=",
          "dtype": "f8"
         },
         "xaxis": "x",
         "y": {
          "bdata": "LoplvLjT6D8=",
          "dtype": "f8"
         },
         "yaxis": "y"
        },
        {
         "hovertemplate": "<b>%{hovertext}</b><br><br>Brand=Apple<br>แกนคุณลักษณะหลักที่ 1 (PC1)=%{x}<br>แกนคุณลักษณะหลักที่ 2 (PC2)=%{y}<extra></extra>",
         "hovertext": [
          "Magic Mouse"
         ],
         "legendgroup": "Apple",
         "marker": {
          "color": "#FECB52",
          "symbol": "circle"
         },
         "mode": "markers",
         "name": "Apple",
         "showlegend": true,
         "type": "scattergl",
         "x": {
          "bdata": "Wag082V/vr8=",
          "dtype": "f8"
         },
         "xaxis": "x",
         "y": {
          "bdata": "dgDnvLscJcA=",
          "dtype": "f8"
         },
         "yaxis": "y"
        },
        {
         "hovertemplate": "<b>%{hovertext}</b><br><br>Brand=HUO<br>แกนคุณลักษณะหลักที่ 1 (PC1)=%{x}<br>แกนคุณลักษณะหลักที่ 2 (PC2)=%{y}<extra></extra>",
         "hovertext": [
          "JI E-YOOSO"
         ],
         "legendgroup": "HUO",
         "marker": {
          "color": "#636efa",
          "symbol": "circle"
         },
         "mode": "markers",
         "name": "HUO",
         "showlegend": true,
         "type": "scattergl",
         "x": {
          "bdata": "BMpXf0oI6r8=",
          "dtype": "f8"
         },
         "xaxis": "x",
         "y": {
          "bdata": "ZWOoVDRg4D8=",
          "dtype": "f8"
         },
         "yaxis": "y"
        },
        {
         "hovertemplate": "<b>%{hovertext}</b><br><br>Brand=Nixeus<br>แกนคุณลักษณะหลักที่ 1 (PC1)=%{x}<br>แกนคุณลักษณะหลักที่ 2 (PC2)=%{y}<extra></extra>",
         "hovertext": [
          "Revel Fit",
          "Revel-X",
          "Revel"
         ],
         "legendgroup": "Nixeus",
         "marker": {
          "color": "#EF553B",
          "symbol": "circle"
         },
         "mode": "markers",
         "name": "Nixeus",
         "showlegend": true,
         "type": "scattergl",
         "x": {
          "bdata": "DTCgJgsqBkBnK7Q0X+S5vygZu3bdT+A/",
          "dtype": "f8"
         },
         "xaxis": "x",
         "y": {
          "bdata": "qiC8IrSTgj+x0qXTZhvwvyjYmj+Peue/",
          "dtype": "f8"
         },
         "yaxis": "y"
        },
        {
         "hovertemplate": "<b>%{hovertext}</b><br><br>Brand=AIM1<br>แกนคุณลักษณะหลักที่ 1 (PC1)=%{x}<br>แกนคุณลักษณะหลักที่ 2 (PC2)=%{y}<extra></extra>",
         "hovertext": [
          "Shigure"
         ],
         "legendgroup": "AIM1",
         "marker": {
          "color": "#00cc96",
          "symbol": "circle"
         },
         "mode": "markers",
         "name": "AIM1",
         "showlegend": true,
         "type": "scattergl",
         "x": {
          "bdata": "2UZAr+Xw+r8=",
          "dtype": "f8"
         },
         "xaxis": "x",
         "y": {
          "bdata": "p7eJecYD8D8=",
          "dtype": "f8"
         },
         "yaxis": "y"
        },
        {
         "hovertemplate": "<b>%{hovertext}</b><br><br>Brand=CC<br>แกนคุณลักษณะหลักที่ 1 (PC1)=%{x}<br>แกนคุณลักษณะหลักที่ 2 (PC2)=%{y}<extra></extra>",
         "hovertext": [
          "Beanmouse LHD Small",
          "Beanmouse Small",
          "Beanmouse LHD Large",
          "Beanmouse Large"
         ],
         "legendgroup": "CC",
         "marker": {
          "color": "#ab63fa",
          "symbol": "circle"
         },
         "mode": "markers",
         "name": "CC",
         "showlegend": true,
         "type": "scattergl",
         "x": {
          "bdata": "I52UR/wJEsAjnZRH/AkSwErbax1D0QvASttrHUPRC8A=",
          "dtype": "f8"
         },
         "xaxis": "x",
         "y": {
          "bdata": "RbNp8frv979Fs2nx+u/3v/DPs+gA/OO/8M+z6AD8478=",
          "dtype": "f8"
         },
         "yaxis": "y"
        },
        {
         "hovertemplate": "<b>%{hovertext}</b><br><br>Brand=Xtrfy<br>แกนคุณลักษณะหลักที่ 1 (PC1)=%{x}<br>แกนคุณลักษณะหลักที่ 2 (PC2)=%{y}<extra></extra>",
         "hovertext": [
          "M42",
          "M42 (lower back)",
          "M8 Wireless",
          "M42 Wireless",
          "M4",
          "M4 Wireless",
          "MZ1",
          "MZ1 Wireless"
         ],
         "legendgroup": "Xtrfy",
         "marker": {
          "color": "#FFA15A",
          "symbol": "circle"
         },
         "mode": "markers",
         "name": "Xtrfy",
         "showlegend": true,
         "type": "scattergl",
         "x": {
          "bdata": "GRZgUfVP7L8ZFmBR9U/sv6RgXm6k0/S//rnPPlag57/AchMKCYL0P3q9m/JccPQ/WGHe7dKE+r9m5mPqVs34vw==",
          "dtype": "f8"
         },
         "xaxis": "x",
         "y": {
          "bdata": "HIOW59ET4r8cg5bn0RPiv87WP09wSMa/zofl5Ej15b9Kd/QO5062PyxB9xGKO8I/taDMjNCM8r+PRbapGfvzvw==",
          "dtype": "f8"
         },
         "yaxis": "y"
        },
        {
         "hovertemplate": "<b>%{hovertext}</b><br><br>Brand=Cooler<br>แกนคุณลักษณะหลักที่ 1 (PC1)=%{x}<br>แกนคุณลักษณะหลักที่ 2 (PC2)=%{y}<extra></extra>",
         "hovertext": [
          "Master CM310",
          "Master MM731",
          "Master MM730",
          "Master MM711 Lite",
          "Master MM831",
          "Master MM530",
          "Master MM531",
          "Master MM830",
          "Master CM110",
          "Master MM711",
          "Master MM710",
          "Master MM310",
          "Master MM720",
          "Master MM712"
         ],
         "legendgroup": "Cooler",
         "marker": {
          "color": "#19d3f3",
          "symbol": "circle"
         },
         "mode": "markers",
         "name": "Cooler",
         "showlegend": true,
         "type": "scattergl",
         "x": {
          "bdata": "ThyEH9e49D/X5MVGzqTyPyf08qpFru4/OxOJjjGm6r9cG3FKojkHQNvOHDZCU/w/Qr0gPDCe+T+Y29zMQ6YVQLq2yWKqZ60/PR5aP+cr7b/+MDBAWV/xvz60MvEnNL8/3Gb68dlc6D+KAsfpKTbwvw==",
          "dtype": "f8"
         },
         "xaxis": "x",
         "y": {
          "bdata": "CECKZ4qQ6r8J6xoGfnrjP0qORc9o/eg/NDK30i2Z6r+6KqbMfWTBP2SJErBrr+6/Tm35JL2c6L9es/ptoELLP4AMJBKd0f6/bWFO1yKj5L/pzEXuNlvcv44/r1LXbtw/5Thnv5IR0D/3B14lI7Pevw==",
          "dtype": "f8"
         },
         "yaxis": "y"
        },
        {
         "hovertemplate": "<b>%{hovertext}</b><br><br>Brand=Higround<br>แกนคุณลักษณะหลักที่ 1 (PC1)=%{x}<br>แกนคุณลักษณะหลักที่ 2 (PC2)=%{y}<extra></extra>",
         "hovertext": [
          "Yuma"
         ],
         "legendgroup": "Higround",
         "marker": {
          "color": "#FF6692",
          "symbol": "circle"
         },
         "mode": "markers",
         "name": "Higround",
         "showlegend": true,
         "type": "scattergl",
         "x": {
          "bdata": "dgtYmJ637b8=",
          "dtype": "f8"
         },
         "xaxis": "x",
         "y": {
          "bdata": "HdcjXfad6j8=",
          "dtype": "f8"
         },
         "yaxis": "y"
        },
        {
         "hovertemplate": "<b>%{hovertext}</b><br><br>Brand=COMMATECH<br>แกนคุณลักษณะหลักที่ 1 (PC1)=%{x}<br>แกนคุณลักษณะหลักที่ 2 (PC2)=%{y}<extra></extra>",
         "hovertext": [
          "FKMINI4"
         ],
         "legendgroup": "COMMATECH",
         "marker": {
          "color": "#B6E880",
          "symbol": "circle"
         },
         "mode": "markers",
         "name": "COMMATECH",
         "showlegend": true,
         "type": "scattergl",
         "x": {
          "bdata": "4D9QKkcPBsA=",
          "dtype": "f8"
         },
         "xaxis": "x",
         "y": {
          "bdata": "wyI68Kxy5L8=",
          "dtype": "f8"
         },
         "yaxis": "y"
        },
        {
         "hovertemplate": "<b>%{hovertext}</b><br><br>Brand=Turtle<br>แกนคุณลักษณะหลักที่ 1 (PC1)=%{x}<br>แกนคุณลักษณะหลักที่ 2 (PC2)=%{y}<extra></extra>",
         "hovertext": [
          "Beach Kone II Air",
          "Beach Kone II",
          "Beach Kone XP Air",
          "Beach Burst II Air",
          "Beach Pure Air",
          "Beach Pure SEL"
         ],
         "legendgroup": "Turtle",
         "marker": {
          "color": "#FF97FF",
          "symbol": "circle"
         },
         "mode": "markers",
         "name": "Turtle",
         "showlegend": true,
         "type": "scattergl",
         "x": {
          "bdata": "LN4WJDP5EECype1ENZEOQIUNct+9SgpA+zmiXw3t57+xQ+NuaXfqP5rqS8jcUPA/",
          "dtype": "f8"
         },
         "xaxis": "x",
         "y": {
          "bdata": "gD2KhMBq9T/zFUyGTrj7P3zDlVrIWeA/bW8PqKd/4z+L9aMp4SbsP6MPwfvfTNc/",
          "dtype": "f8"
         },
         "yaxis": "y"
        },
        {
         "hovertemplate": "<b>%{hovertext}</b><br><br>Brand=xtro<br>แกนคุณลักษณะหลักที่ 1 (PC1)=%{x}<br>แกนคุณลักษณะหลักที่ 2 (PC2)=%{y}<extra></extra>",
         "hovertext": [
          "Eris"
         ],
         "legendgroup": "xtro",
         "marker": {
          "color": "#FECB52",
          "symbol": "circle"
         },
         "mode": "markers",
         "name": "xtro",
         "showlegend": true,
         "type": "scattergl",
         "x": {
          "bdata": "3GU3LRPE8z8=",
          "dtype": "f8"
         },
         "xaxis": "x",
         "y": {
          "bdata": "3oenKFgh5D8=",
          "dtype": "f8"
         },
         "yaxis": "y"
        },
        {
         "hovertemplate": "<b>%{hovertext}</b><br><br>Brand=Noir<br>แกนคุณลักษณะหลักที่ 1 (PC1)=%{x}<br>แกนคุณลักษณะหลักที่ 2 (PC2)=%{y}<extra></extra>",
         "hovertext": [
          "M1",
          "M1 Lite",
          "M2 MG",
          "M2 Pro",
          "M2"
         ],
         "legendgroup": "Noir",
         "marker": {
          "color": "#636efa",
          "symbol": "circle"
         },
         "mode": "markers",
         "name": "Noir",
         "showlegend": true,
         "type": "scattergl",
         "x": {
          "bdata": "63xGkvDm57+aS/kxouziv9bRCBwZs/q/FxCGbd5Y9b/g6nQcVjvyvw==",
          "dtype": "f8"
         },
         "xaxis": "x",
         "y": {
          "bdata": "ANuB5oE06L9noK8e80PxvyzO/DhPEds/GpBFnT0NgT8YpOWWV17Ovw==",
          "dtype": "f8"
         },
         "yaxis": "y"
        },
        {
         "hovertemplate": "<b>%{hovertext}</b><br><br>Brand=Vancer<br>แกนคุณลักษณะหลักที่ 1 (PC1)=%{x}<br>แกนคุณลักษณะหลักที่ 2 (PC2)=%{y}<extra></extra>",
         "hovertext": [
          "x Arbiter Studio AKITSU",
          "Thrash",
          "Groove",
          "Gretxa",
          "Gemini Castor",
          "Gemini Pollux"
         ],
         "legendgroup": "Vancer",
         "marker": {
          "color": "#EF553B",
          "symbol": "circle"
         },
         "mode": "markers",
         "name": "Vancer",
         "showlegend": true,
         "type": "scattergl",
         "x": {
          "bdata": "g7ilMUVvA8CRSVC4nCDzv4rxklM2kvK/GeDoz4OK2r982axJ2PD2v9b33+twxNU/",
          "dtype": "f8"
         },
         "xaxis": "x",
         "y": {
          "bdata": "wcpu45ET5j9QlJY3KyjlP3VFVLJ93+c/4KLn0wvW8L8imNBAXzHCv5o+kDiTUeQ/",
          "dtype": "f8"
         },
         "yaxis": "y"
        },
        {
         "hovertemplate": "<b>%{hovertext}</b><br><br>Brand=GANSS<br>แกนคุณลักษณะหลักที่ 1 (PC1)=%{x}<br>แกนคุณลักษณะหลักที่ 2 (PC2)=%{y}<extra></extra>",
         "hovertext": [
          "FLX3 4K",
          "FLX3"
         ],
         "legendgroup": "GANSS",
         "marker": {
          "color": "#00cc96",
          "symbol": "circle"
         },
         "mode": "markers",
         "name": "GANSS",
         "showlegend": true,
         "type": "scattergl",
         "x": {
          "bdata": "IsLIGxB+4T+ODOu9ILnnPw==",
          "dtype": "f8"
         },
         "xaxis": "x",
         "y": {
          "bdata": "RShLUPgh8T9E0WfEJWjqPw==",
          "dtype": "f8"
         },
         "yaxis": "y"
        },
        {
         "hovertemplate": "<b>%{hovertext}</b><br><br>Brand=IFYOO<br>แกนคุณลักษณะหลักที่ 1 (PC1)=%{x}<br>แกนคุณลักษณะหลักที่ 2 (PC2)=%{y}<extra></extra>",
         "hovertext": [
          "G63",
          "G03 (Long)",
          "G03 (Short)"
         ],
         "legendgroup": "IFYOO",
         "marker": {
          "color": "#ab63fa",
          "symbol": "circle"
         },
         "mode": "markers",
         "name": "IFYOO",
         "showlegend": true,
         "type": "scattergl",
         "x": {
          "bdata": "Q0l4gaDm8b87Pk4bm/yiP9oTLcec0c6/",
          "dtype": "f8"
         },
         "xaxis": "x",
         "y": {
          "bdata": "jtXU09z90D8VDn/MkVDCv+FcfnqOvt+/",
          "dtype": "f8"
         },
         "yaxis": "y"
        },
        {
         "hovertemplate": "<b>%{hovertext}</b><br><br>Brand=Monka<br>แกนคุณลักษณะหลักที่ 1 (PC1)=%{x}<br>แกนคุณลักษณะหลักที่ 2 (PC2)=%{y}<extra></extra>",
         "hovertext": [
          "M1 Pro Max",
          "M1 Pro",
          "M1",
          "M3 Pro",
          "M3",
          "G995W"
         ],
         "legendgroup": "Monka",
         "marker": {
          "color": "#FFA15A",
          "symbol": "circle"
         },
         "mode": "markers",
         "name": "Monka",
         "showlegend": true,
         "type": "scattergl",
         "x": {
          "bdata": "qpjZDT7z9b+qmNkNPvP1v3RzyLy11fK/3vulIRJB9b+o1pTQiSPyv6QGQKVJCe+/",
          "dtype": "f8"
         },
         "xaxis": "x",
         "y": {
          "bdata": "L769EZi6wz8vvr0RmLrDP+R9+L0mabe/15+KyorF0j9DCm2RqG+oPxWyM6d5X5M/",
          "dtype": "f8"
         },
         "yaxis": "y"
        },
        {
         "hovertemplate": "<b>%{hovertext}</b><br><br>Brand=MSI<br>แกนคุณลักษณะหลักที่ 1 (PC1)=%{x}<br>แกนคุณลักษณะหลักที่ 2 (PC2)=%{y}<extra></extra>",
         "hovertext": [
          "Clutch GM41"
         ],
         "legendgroup": "MSI",
         "marker": {
          "color": "#19d3f3",
          "symbol": "circle"
         },
         "mode": "markers",
         "name": "MSI",
         "showlegend": true,
         "type": "scattergl",
         "x": {
          "bdata": "N+uG4DOWxT8=",
          "dtype": "f8"
         },
         "xaxis": "x",
         "y": {
          "bdata": "WCpFaq33sr8=",
          "dtype": "f8"
         },
         "yaxis": "y"
        },
        {
         "hovertemplate": "<b>%{hovertext}</b><br><br>Brand=Nitrite<br>แกนคุณลักษณะหลักที่ 1 (PC1)=%{x}<br>แกนคุณลักษณะหลักที่ 2 (PC2)=%{y}<extra></extra>",
         "hovertext": [
          "Labs Carbon XT1 Wireless",
          "Labs Carbon XT1 Wired"
         ],
         "legendgroup": "Nitrite",
         "marker": {
          "color": "#FF6692",
          "symbol": "circle"
         },
         "mode": "markers",
         "name": "Nitrite",
         "showlegend": true,
         "type": "scattergl",
         "x": {
          "bdata": "kfjVEY4cDMCmNBRnxowMwA==",
          "dtype": "f8"
         },
         "xaxis": "x",
         "y": {
          "bdata": "GgxU0d6y4j+oGogOi+/kPw==",
          "dtype": "f8"
         },
         "yaxis": "y"
        },
        {
         "hovertemplate": "<b>%{hovertext}</b><br><br>Brand=TenTen<br>แกนคุณลักษณะหลักที่ 1 (PC1)=%{x}<br>แกนคุณลักษณะหลักที่ 2 (PC2)=%{y}<extra></extra>",
         "hovertext": [
          "Zero Gravity"
         ],
         "legendgroup": "TenTen",
         "marker": {
          "color": "#B6E880",
          "symbol": "circle"
         },
         "mode": "markers",
         "name": "TenTen",
         "showlegend": true,
         "type": "scattergl",
         "x": {
          "bdata": "ZJtY5rTsAMA=",
          "dtype": "f8"
         },
         "xaxis": "x",
         "y": {
          "bdata": "575BdhNl+T8=",
          "dtype": "f8"
         },
         "yaxis": "y"
        },
        {
         "hovertemplate": "<b>%{hovertext}</b><br><br>Brand=Nyfter<br>แกนคุณลักษณะหลักที่ 1 (PC1)=%{x}<br>แกนคุณลักษณะหลักที่ 2 (PC2)=%{y}<extra></extra>",
         "hovertext": [
          "ELT 4K"
         ],
         "legendgroup": "Nyfter",
         "marker": {
          "color": "#FF97FF",
          "symbol": "circle"
         },
         "mode": "markers",
         "name": "Nyfter",
         "showlegend": true,
         "type": "scattergl",
         "x": {
          "bdata": "396jot717b8=",
          "dtype": "f8"
         },
         "xaxis": "x",
         "y": {
          "bdata": "vOdpJYV82T8=",
          "dtype": "f8"
         },
         "yaxis": "y"
        },
        {
         "hovertemplate": "<b>%{hovertext}</b><br><br>Brand=IROK<br>แกนคุณลักษณะหลักที่ 1 (PC1)=%{x}<br>แกนคุณลักษณะหลักที่ 2 (PC2)=%{y}<extra></extra>",
         "hovertext": [
          "HE3 PRO",
          "HE3",
          "HE3 SE"
         ],
         "legendgroup": "IROK",
         "marker": {
          "color": "#FECB52",
          "symbol": "circle"
         },
         "mode": "markers",
         "name": "IROK",
         "showlegend": true,
         "type": "scattergl",
         "x": {
          "bdata": "9NGqh5vs9L+/rJk2E8/xv1/lG4m3xOq/",
          "dtype": "f8"
         },
         "xaxis": "x",
         "y": {
          "bdata": "Y1R5ZBKk0j+jruJg5WOnP0cYJrYe5eC/",
          "dtype": "f8"
         },
         "yaxis": "y"
        },
        {
         "hovertemplate": "<b>%{hovertext}</b><br><br>Brand=Alienware<br>แกนคุณลักษณะหลักที่ 1 (PC1)=%{x}<br>แกนคุณลักษณะหลักที่ 2 (PC2)=%{y}<extra></extra>",
         "hovertext": [
          "Pro Wireless",
          "AW620M",
          "AW610M",
          "AW720M",
          "AW320M"
         ],
         "legendgroup": "Alienware",
         "marker": {
          "color": "#636efa",
          "symbol": "circle"
         },
         "mode": "markers",
         "name": "Alienware",
         "showlegend": true,
         "type": "scattergl",
         "x": {
          "bdata": "mDDU5BRD77+d6Sy/qPMJQPHBWiDVwAZAHpoosQdYyL9Eii//u/Dbvw==",
          "dtype": "f8"
         },
         "xaxis": "x",
         "y": {
          "bdata": "QKDoEU0W7D9/T4rHOjXwPwxiEpy18LI/mjzjcQyi6r94LYjsR0flvw==",
          "dtype": "f8"
         },
         "yaxis": "y"
        },
        {
         "hovertemplate": "<b>%{hovertext}</b><br><br>Brand=Santali<br>แกนคุณลักษณะหลักที่ 1 (PC1)=%{x}<br>แกนคุณลักษณะหลักที่ 2 (PC2)=%{y}<extra></extra>",
         "hovertext": [
          "S1-O"
         ],
         "legendgroup": "Santali",
         "marker": {
          "color": "#EF553B",
          "symbol": "circle"
         },
         "mode": "markers",
         "name": "Santali",
         "showlegend": true,
         "type": "scattergl",
         "x": {
          "bdata": "aIKxmlkS9L8=",
          "dtype": "f8"
         },
         "xaxis": "x",
         "y": {
          "bdata": "5BoSejLW8T8=",
          "dtype": "f8"
         },
         "yaxis": "y"
        },
        {
         "hovertemplate": "<b>%{hovertext}</b><br><br>Brand=Hitscan<br>แกนคุณลักษณะหลักที่ 1 (PC1)=%{x}<br>แกนคุณลักษณะหลักที่ 2 (PC2)=%{y}<extra></extra>",
         "hovertext": [
          "Hyperlight"
         ],
         "legendgroup": "Hitscan",
         "marker": {
          "color": "#00cc96",
          "symbol": "circle"
         },
         "mode": "markers",
         "name": "Hitscan",
         "showlegend": true,
         "type": "scattergl",
         "x": {
          "bdata": "F2P+nkdQAcA=",
          "dtype": "f8"
         },
         "xaxis": "x",
         "y": {
          "bdata": "pTW+Iooe6z8=",
          "dtype": "f8"
         },
         "yaxis": "y"
        },
        {
         "hovertemplate": "<b>%{hovertext}</b><br><br>Brand=A4Tech<br>แกนคุณลักษณะหลักที่ 1 (PC1)=%{x}<br>แกนคุณลักษณะหลักที่ 2 (PC2)=%{y}<extra></extra>",
         "hovertext": [
          "XL-750BK",
          "XL-750BH",
          "Bloody V7"
         ],
         "legendgroup": "A4Tech",
         "marker": {
          "color": "#ab63fa",
          "symbol": "circle"
         },
         "mode": "markers",
         "name": "A4Tech",
         "showlegend": true,
         "type": "scattergl",
         "x": {
          "bdata": "FzwtneYeC0AXPC2d5h4LQGJzk8FtNxJA",
          "dtype": "f8"
         },
         "xaxis": "x",
         "y": {
          "bdata": "WawH6maWFsBZrAfqZpYWwKjVLO/eK/i/",
          "dtype": "f8"
         },
         "yaxis": "y"
        },
        {
         "hovertemplate": "<b>%{hovertext}</b><br><br>Brand=Zaunkoenig<br>แกนคุณลักษณะหลักที่ 1 (PC1)=%{x}<br>แกนคุณลักษณะหลักที่ 2 (PC2)=%{y}<extra></extra>",
         "hovertext": [
          "M3K",
          "M2K"
         ],
         "legendgroup": "Zaunkoenig",
         "marker": {
          "color": "#FFA15A",
          "symbol": "circle"
         },
         "mode": "markers",
         "name": "Zaunkoenig",
         "showlegend": true,
         "type": "scattergl",
         "x": {
          "bdata": "gYVZXqibE8A/DhhwEQ4TwA==",
          "dtype": "f8"
         },
         "xaxis": "x",
         "y": {
          "bdata": "43oL+0OO9b+vixg+GyX6vw==",
          "dtype": "f8"
         },
         "yaxis": "y"
        },
        {
         "hovertemplate": "<b>%{hovertext}</b><br><br>Brand=ELECOM<br>แกนคุณลักษณะหลักที่ 1 (PC1)=%{x}<br>แกนคุณลักษณะหลักที่ 2 (PC2)=%{y}<extra></extra>",
         "hovertext": [
          "VM501LBK",
          "VM501BK",
          "VM510BK",
          "VM610BK",
          "VM600PE"
         ],
         "legendgroup": "ELECOM",
         "marker": {
          "color": "#19d3f3",
          "symbol": "circle"
         },
         "mode": "markers",
         "name": "ELECOM",
         "showlegend": true,
         "type": "scattergl",
         "x": {
          "bdata": "QOEFZkxj/D8JQpcBxTLvPwSgdI9TQfG/0eI+E3Qg9b8g987Y+LH4Pw==",
          "dtype": "f8"
         },
         "xaxis": "x",
         "y": {
          "bdata": "B1SUS9Yu6D/LmW5TYczTP+YN70NFb+S/akwFZU99wb9H6kv09QDlPw==",
          "dtype": "f8"
         },
         "yaxis": "y"
        },
        {
         "hovertemplate": "<b>%{hovertext}</b><br><br>Brand=Irocks<br>แกนคุณลักษณะหลักที่ 1 (PC1)=%{x}<br>แกนคุณลักษณะหลักที่ 2 (PC2)=%{y}<extra></extra>",
         "hovertext": [
          "M31R"
         ],
         "legendgroup": "Irocks",
         "marker": {
          "color": "#FF6692",
          "symbol": "circle"
         },
         "mode": "markers",
         "name": "Irocks",
         "showlegend": true,
         "type": "scattergl",
         "x": {
          "bdata": "xOMjvRL+8T8=",
          "dtype": "f8"
         },
         "xaxis": "x",
         "y": {
          "bdata": "jVLg4mxt5T8=",
          "dtype": "f8"
         },
         "yaxis": "y"
        },
        {
         "hovertemplate": "<b>%{hovertext}</b><br><br>Brand=GITOPER<br>แกนคุณลักษณะหลักที่ 1 (PC1)=%{x}<br>แกนคุณลักษณะหลักที่ 2 (PC2)=%{y}<extra></extra>",
         "hovertext": [
          "G1",
          "G3",
          "G2"
         ],
         "legendgroup": "GITOPER",
         "marker": {
          "color": "#B6E880",
          "symbol": "circle"
         },
         "mode": "markers",
         "name": "GITOPER",
         "showlegend": true,
         "type": "scattergl",
         "x": {
          "bdata": "oyVx3z+27D8n91g5hU3wP3CI6jpWWuC/",
          "dtype": "f8"
         },
         "xaxis": "x",
         "y": {
          "bdata": "tMLoHf026T83fuC/W6LcP4hnsdplI9g/",
          "dtype": "f8"
         },
         "yaxis": "y"
        },
        {
         "hovertemplate": "<b>%{hovertext}</b><br><br>Brand=Cherry<br>แกนคุณลักษณะหลักที่ 1 (PC1)=%{x}<br>แกนคุณลักษณะหลักที่ 2 (PC2)=%{y}<extra></extra>",
         "hovertext": [
          "Xtrfy M50 Wireless",
          "Xtrfy M50",
          "Xtrfy M68 Pro 8K Wireless",
          "Xtrfy M68 Wireless",
          "Xtrfy M64 Pro 8K Wireless",
          "Xtrfy M64 Wireless"
         ],
         "legendgroup": "Cherry",
         "marker": {
          "color": "#FF97FF",
          "symbol": "circle"
         },
         "mode": "markers",
         "name": "Cherry",
         "showlegend": true,
         "type": "scattergl",
         "x": {
          "bdata": "Sgm9vSoUqD9aGGiuRtbVv8jBpxMwRvO/188Ku76K6b9mV1UH9i3BP6u+JUeMS+E/",
          "dtype": "f8"
         },
         "xaxis": "x",
         "y": {
          "bdata": "PEVtbxaH8r/Z/nVGQA/nv3DLeYkoVOw/2aLYlpth1z+FpV6K8Yv0P/5cA15beOg/",
          "dtype": "f8"
         },
         "yaxis": "y"
        },
        {
         "hovertemplate": "<b>%{hovertext}</b><br><br>Brand=IXILAB<br>แกนคุณลักษณะหลักที่ 1 (PC1)=%{x}<br>แกนคุณลักษณะหลักที่ 2 (PC2)=%{y}<extra></extra>",
         "hovertext": [
          "X1 Pro Max",
          "X1 Pro",
          "X1"
         ],
         "legendgroup": "IXILAB",
         "marker": {
          "color": "#FECB52",
          "symbol": "circle"
         },
         "mode": "markers",
         "name": "IXILAB",
         "showlegend": true,
         "type": "scattergl",
         "x": {
          "bdata": "XYfkPkdY9b/2E9jJtSL4v7/uxngtBfW/",
          "dtype": "f8"
         },
         "xaxis": "x",
         "y": {
          "bdata": "Zv4wQuDhaD8oReEKxk3KP9/fYpeVhaS/",
          "dtype": "f8"
         },
         "yaxis": "y"
        },
        {
         "hovertemplate": "<b>%{hovertext}</b><br><br>Brand=Ardor<br>แกนคุณลักษณะหลักที่ 1 (PC1)=%{x}<br>แกนคุณลักษณะหลักที่ 2 (PC2)=%{y}<extra></extra>",
         "hovertext": [
          "Gaming Immortality Pro Wireless",
          "Gaming Immortality",
          "Gaming Ulta (big back)",
          "Gaming Ulta (mid back)",
          "Gaming Ulta (small back)",
          "Gaming Prime X",
          "Gaming Prime Wireless",
          "Gaming Prime",
          "Gaming Fury Beast",
          "Gaming Fury Pro",
          "Gaming Fury",
          "Gaming Phantom Pro V2",
          "Gaming Phantom Pro",
          "Gaming Phantom Pro Wired"
         ],
         "legendgroup": "Ardor",
         "marker": {
          "color": "#636efa",
          "symbol": "circle"
         },
         "mode": "markers",
         "name": "Ardor",
         "showlegend": true,
         "type": "scattergl",
         "x": {
          "bdata": "jKSB5SlU3b9OyTLko4LnvzSCzHQrEOK/NILMdCsQ4r80gsx0KxDiv2AJgUJgh9C/VAc7jY4azb9yvpXfih6zvytBrxCDxAhAfjMcwqvSCECs86bvJWMLQEJSr9Z9+Ny/HAGSObPo0b+EFstfUSPgvw==",
          "dtype": "f8"
         },
         "xaxis": "x",
         "y": {
          "bdata": "vv1IP2px5L9rSGobQq/bv5poyw8m/tC/mmjLDyb+0L+aaMsPJv7Qv60EvL0/uei/XZKhPFD77L+jdT2Jd53wv3lQ/EqfPtw/UIDGcKdT2z/uHlYvxVCyP8smAiQ/tqQ/Iw/Bamxb1L9SSOycjKPAvw==",
          "dtype": "f8"
         },
         "yaxis": "y"
        },
        {
         "hovertemplate": "<b>%{hovertext}</b><br><br>Brand=FineMax<br>แกนคุณลักษณะหลักที่ 1 (PC1)=%{x}<br>แกนคุณลักษณะหลักที่ 2 (PC2)=%{y}<extra></extra>",
         "hovertext": [
          "Noah"
         ],
         "legendgroup": "FineMax",
         "marker": {
          "color": "#EF553B",
          "symbol": "circle"
         },
         "mode": "markers",
         "name": "FineMax",
         "showlegend": true,
         "type": "scattergl",
         "x": {
          "bdata": "/qMgf9B37r8=",
          "dtype": "f8"
         },
         "xaxis": "x",
         "y": {
          "bdata": "6bcd5Qww2j8=",
          "dtype": "f8"
         },
         "yaxis": "y"
        },
        {
         "hovertemplate": "<b>%{hovertext}</b><br><br>Brand=Sprime<br>แกนคุณลักษณะหลักที่ 1 (PC1)=%{x}<br>แกนคุณลักษณะหลักที่ 2 (PC2)=%{y}<extra></extra>",
         "hovertext": [
          "PM1"
         ],
         "legendgroup": "Sprime",
         "marker": {
          "color": "#00cc96",
          "symbol": "circle"
         },
         "mode": "markers",
         "name": "Sprime",
         "showlegend": true,
         "type": "scattergl",
         "x": {
          "bdata": "hI1QVi4Du78=",
          "dtype": "f8"
         },
         "xaxis": "x",
         "y": {
          "bdata": "L6RUr89c+j8=",
          "dtype": "f8"
         },
         "yaxis": "y"
        },
        {
         "hovertemplate": "<b>%{hovertext}</b><br><br>Brand=Mionix<br>แกนคุณลักษณะหลักที่ 1 (PC1)=%{x}<br>แกนคุณลักษณะหลักที่ 2 (PC2)=%{y}<extra></extra>",
         "hovertext": [
          "Naos Pro",
          "Naos QG",
          "Naos 8200",
          "Naos 7000",
          "Naos 3200",
          "Castor Pro",
          "Castor"
         ],
         "legendgroup": "Mionix",
         "marker": {
          "color": "#ab63fa",
          "symbol": "circle"
         },
         "mode": "markers",
         "name": "Mionix",
         "showlegend": true,
         "type": "scattergl",
         "x": {
          "bdata": "lN+G1vfPDUA/nRgRB/QOQHfnJkBtyQ5AUXLqugOlD0AEafGbFEQUQCkTMMR6PgFAVerRTrKMA0A=",
          "dtype": "f8"
         },
         "xaxis": "x",
         "y": {
          "bdata": "TcYoe7H96D+yVmK/dkrgP4oFQhnLNt0/YgMkV9Mb1T+gPM9RRS0RwNs63gdHIJi/2YUtesZi4r8=",
          "dtype": "f8"
         },
         "yaxis": "y"
        },
        {
         "hovertemplate": "<b>%{hovertext}</b><br><br>Brand=Rexus<br>แกนคุณลักษณะหลักที่ 1 (PC1)=%{x}<br>แกนคุณลักษณะหลักที่ 2 (PC2)=%{y}<extra></extra>",
         "hovertext": [
          "Daxa Air IV"
         ],
         "legendgroup": "Rexus",
         "marker": {
          "color": "#FFA15A",
          "symbol": "circle"
         },
         "mode": "markers",
         "name": "Rexus",
         "showlegend": true,
         "type": "scattergl",
         "x": {
          "bdata": "TieTTCYx378=",
          "dtype": "f8"
         },
         "xaxis": "x",
         "y": {
          "bdata": "w8d15tspqz8=",
          "dtype": "f8"
         },
         "yaxis": "y"
        },
        {
         "hovertemplate": "<b>%{hovertext}</b><br><br>Brand=Atompalm<br>แกนคุณลักษณะหลักที่ 1 (PC1)=%{x}<br>แกนคุณลักษณะหลักที่ 2 (PC2)=%{y}<extra></extra>",
         "hovertext": [
          "Hydrogen 2",
          "Hydrogen"
         ],
         "legendgroup": "Atompalm",
         "marker": {
          "color": "#19d3f3",
          "symbol": "circle"
         },
         "mode": "markers",
         "name": "Atompalm",
         "showlegend": true,
         "type": "scattergl",
         "x": {
          "bdata": "ZvqwIg0m8b9m+rAiDSbxvw==",
          "dtype": "f8"
         },
         "xaxis": "x",
         "y": {
          "bdata": "7IdJ3dGY4z/sh0nd0ZjjPw==",
          "dtype": "f8"
         },
         "yaxis": "y"
        },
        {
         "hovertemplate": "<b>%{hovertext}</b><br><br>Brand=ARYE<br>แกนคุณลักษณะหลักที่ 1 (PC1)=%{x}<br>แกนคุณลักษณะหลักที่ 2 (PC2)=%{y}<extra></extra>",
         "hovertext": [
          "FCC-1"
         ],
         "legendgroup": "ARYE",
         "marker": {
          "color": "#FF6692",
          "symbol": "circle"
         },
         "mode": "markers",
         "name": "ARYE",
         "showlegend": true,
         "type": "scattergl",
         "x": {
          "bdata": "Esk1+tXVAcA=",
          "dtype": "f8"
         },
         "xaxis": "x",
         "y": {
          "bdata": "Xh52oS4Dx78=",
          "dtype": "f8"
         },
         "yaxis": "y"
        },
        {
         "hovertemplate": "<b>%{hovertext}</b><br><br>Brand=Ironcat<br>แกนคุณลักษณะหลักที่ 1 (PC1)=%{x}<br>แกนคุณลักษณะหลักที่ 2 (PC2)=%{y}<extra></extra>",
         "hovertext": [
          "HPC01M Pro",
          "HPC01M",
          "HPC02M",
          "HPC02"
         ],
         "legendgroup": "Ironcat",
         "marker": {
          "color": "#B6E880",
          "symbol": "circle"
         },
         "mode": "markers",
         "name": "Ironcat",
         "showlegend": true,
         "type": "scattergl",
         "x": {
          "bdata": "wS5PYGQS9r8JCsKNmSj0v8wBrG5Kj/O//ioymy7X4r8=",
          "dtype": "f8"
         },
         "xaxis": "x",
         "y": {
          "bdata": "wih0QosZsb+sx3SmccLMv+jFV0HGRuO/sOZ95UF6zr8=",
          "dtype": "f8"
         },
         "yaxis": "y"
        },
        {
         "hovertemplate": "<b>%{hovertext}</b><br><br>Brand=Xinshuntian<br>แกนคุณลักษณะหลักที่ 1 (PC1)=%{x}<br>แกนคุณลักษณะหลักที่ 2 (PC2)=%{y}<extra></extra>",
         "hovertext": [
          "G820"
         ],
         "legendgroup": "Xinshuntian",
         "marker": {
          "color": "#FF97FF",
          "symbol": "circle"
         },
         "mode": "markers",
         "name": "Xinshuntian",
         "showlegend": true,
         "type": "scattergl",
         "x": {
          "bdata": "PQYQVlAI7D8=",
          "dtype": "f8"
         },
         "xaxis": "x",
         "y": {
          "bdata": "fIsf9Hhb4z8=",
          "dtype": "f8"
         },
         "yaxis": "y"
        },
        {
         "hovertemplate": "<b>%{hovertext}</b><br><br>Brand=Ducky<br>แกนคุณลักษณะหลักที่ 1 (PC1)=%{x}<br>แกนคุณลักษณะหลักที่ 2 (PC2)=%{y}<extra></extra>",
         "hovertext": [
          "Feather"
         ],
         "legendgroup": "Ducky",
         "marker": {
          "color": "#FECB52",
          "symbol": "circle"
         },
         "mode": "markers",
         "name": "Ducky",
         "showlegend": true,
         "type": "scattergl",
         "x": {
          "bdata": "H9Ox7Z3z4b8=",
          "dtype": "f8"
         },
         "xaxis": "x",
         "y": {
          "bdata": "f2x8PmJq4r8=",
          "dtype": "f8"
         },
         "yaxis": "y"
        },
        {
         "hovertemplate": "<b>%{hovertext}</b><br><br>Brand=Pichau<br>แกนคุณลักษณะหลักที่ 1 (PC1)=%{x}<br>แกนคุณลักษณะหลักที่ 2 (PC2)=%{y}<extra></extra>",
         "hovertext": [
          "Hive S"
         ],
         "legendgroup": "Pichau",
         "marker": {
          "color": "#636efa",
          "symbol": "circle"
         },
         "mode": "markers",
         "name": "Pichau",
         "showlegend": true,
         "type": "scattergl",
         "x": {
          "bdata": "bjQ7N+1j378=",
          "dtype": "f8"
         },
         "xaxis": "x",
         "y": {
          "bdata": "LE4MKgGW4r8=",
          "dtype": "f8"
         },
         "yaxis": "y"
        },
        {
         "hovertemplate": "<b>%{hovertext}</b><br><br>Brand=Fnatic<br>แกนคุณลักษณะหลักที่ 1 (PC1)=%{x}<br>แกนคุณลักษณะหลักที่ 2 (PC2)=%{y}<extra></extra>",
         "hovertext": [
          "CLUTCH 2",
          "Bolt"
         ],
         "legendgroup": "Fnatic",
         "marker": {
          "color": "#EF553B",
          "symbol": "circle"
         },
         "mode": "markers",
         "name": "Fnatic",
         "showlegend": true,
         "type": "scattergl",
         "x": {
          "bdata": "3EAkr6wTBUBcXZ3PgQPjvw==",
          "dtype": "f8"
         },
         "xaxis": "x",
         "y": {
          "bdata": "M+hxo1FspD+QOVyXw1vgvw==",
          "dtype": "f8"
         },
         "yaxis": "y"
        },
        {
         "hovertemplate": "<b>%{hovertext}</b><br><br>Brand=Aqirys<br>แกนคุณลักษณะหลักที่ 1 (PC1)=%{x}<br>แกนคุณลักษณะหลักที่ 2 (PC2)=%{y}<extra></extra>",
         "hovertext": [
          "TGA Alpha"
         ],
         "legendgroup": "Aqirys",
         "marker": {
          "color": "#00cc96",
          "symbol": "circle"
         },
         "mode": "markers",
         "name": "Aqirys",
         "showlegend": true,
         "type": "scattergl",
         "x": {
          "bdata": "jNo2YSJJ2L8=",
          "dtype": "f8"
         },
         "xaxis": "x",
         "y": {
          "bdata": "w9f1HjQuxL8=",
          "dtype": "f8"
         },
         "yaxis": "y"
        },
        {
         "hovertemplate": "<b>%{hovertext}</b><br><br>Brand=Fallen<br>แกนคุณลักษณะหลักที่ 1 (PC1)=%{x}<br>แกนคุณลักษณะหลักที่ 2 (PC2)=%{y}<extra></extra>",
         "hovertext": [
          "Pantera Pro"
         ],
         "legendgroup": "Fallen",
         "marker": {
          "color": "#ab63fa",
          "symbol": "circle"
         },
         "mode": "markers",
         "name": "Fallen",
         "showlegend": true,
         "type": "scattergl",
         "x": {
          "bdata": "wr7+PFcr0r8=",
          "dtype": "f8"
         },
         "xaxis": "x",
         "y": {
          "bdata": "BADg/Djb0L8=",
          "dtype": "f8"
         },
         "yaxis": "y"
        },
        {
         "hovertemplate": "<b>%{hovertext}</b><br><br>Brand=Drevo<br>แกนคุณลักษณะหลักที่ 1 (PC1)=%{x}<br>แกนคุณลักษณะหลักที่ 2 (PC2)=%{y}<extra></extra>",
         "hovertext": [
          "Falcon"
         ],
         "legendgroup": "Drevo",
         "marker": {
          "color": "#FFA15A",
          "symbol": "circle"
         },
         "mode": "markers",
         "name": "Drevo",
         "showlegend": true,
         "type": "scattergl",
         "x": {
          "bdata": "MQAvc1jUzT8=",
          "dtype": "f8"
         },
         "xaxis": "x",
         "y": {
          "bdata": "WJKrHJX07r8=",
          "dtype": "f8"
         },
         "yaxis": "y"
        },
        {
         "hovertemplate": "<b>%{hovertext}</b><br><br>Brand=Acer<br>แกนคุณลักษณะหลักที่ 1 (PC1)=%{x}<br>แกนคุณลักษณะหลักที่ 2 (PC2)=%{y}<extra></extra>",
         "hovertext": [
          "Cestus 330"
         ],
         "legendgroup": "Acer",
         "marker": {
          "color": "#19d3f3",
          "symbol": "circle"
         },
         "mode": "markers",
         "name": "Acer",
         "showlegend": true,
         "type": "scattergl",
         "x": {
          "bdata": "lgaW4/nK/j8=",
          "dtype": "f8"
         },
         "xaxis": "x",
         "y": {
          "bdata": "Z91iB1IHA8A=",
          "dtype": "f8"
         },
         "yaxis": "y"
        },
        {
         "hovertemplate": "<b>%{hovertext}</b><br><br>Brand=Teamwolf<br>แกนคุณลักษณะหลักที่ 1 (PC1)=%{x}<br>แกนคุณลักษณะหลักที่ 2 (PC2)=%{y}<extra></extra>",
         "hovertext": [
          "Lurker MK-01"
         ],
         "legendgroup": "Teamwolf",
         "marker": {
          "color": "#FF6692",
          "symbol": "circle"
         },
         "mode": "markers",
         "name": "Teamwolf",
         "showlegend": true,
         "type": "scattergl",
         "x": {
          "bdata": "Wta812dY/78=",
          "dtype": "f8"
         },
         "xaxis": "x",
         "y": {
          "bdata": "9rMn7Tlh7b8=",
          "dtype": "f8"
         },
         "yaxis": "y"
        },
        {
         "hovertemplate": "<b>%{hovertext}</b><br><br>Brand=PureTrak<br>แกนคุณลักษณะหลักที่ 1 (PC1)=%{x}<br>แกนคุณลักษณะหลักที่ 2 (PC2)=%{y}<extra></extra>",
         "hovertext": [
          "Valor Wireless"
         ],
         "legendgroup": "PureTrak",
         "marker": {
          "color": "#B6E880",
          "symbol": "circle"
         },
         "mode": "markers",
         "name": "PureTrak",
         "showlegend": true,
         "type": "scattergl",
         "x": {
          "bdata": "B7dzfSSL4b8=",
          "dtype": "f8"
         },
         "xaxis": "x",
         "y": {
          "bdata": "+rHKo821wj8=",
          "dtype": "f8"
         },
         "yaxis": "y"
        },
        {
         "hovertemplate": "<b>%{hovertext}</b><br><br>Brand=Xenics<br>แกนคุณลักษณะหลักที่ 1 (PC1)=%{x}<br>แกนคุณลักษณะหลักที่ 2 (PC2)=%{y}<extra></extra>",
         "hovertext": [
          "Titan GX Air Wireless"
         ],
         "legendgroup": "Xenics",
         "marker": {
          "color": "#FF97FF",
          "symbol": "circle"
         },
         "mode": "markers",
         "name": "Xenics",
         "showlegend": true,
         "type": "scattergl",
         "x": {
          "bdata": "oYYdf9Ne5b8=",
          "dtype": "f8"
         },
         "xaxis": "x",
         "y": {
          "bdata": "BlRdI4iA8L8=",
          "dtype": "f8"
         },
         "yaxis": "y"
        },
        {
         "hovertemplate": "<b>%{hovertext}</b><br><br>Brand=SPC<br>แกนคุณลักษณะหลักที่ 1 (PC1)=%{x}<br>แกนคุณลักษณะหลักที่ 2 (PC2)=%{y}<extra></extra>",
         "hovertext": [
          "Gear LIX Plus Wireless"
         ],
         "legendgroup": "SPC",
         "marker": {
          "color": "#FECB52",
          "symbol": "circle"
         },
         "mode": "markers",
         "name": "SPC",
         "showlegend": true,
         "type": "scattergl",
         "x": {
          "bdata": "bhx6GPOExL8=",
          "dtype": "f8"
         },
         "xaxis": "x",
         "y": {
          "bdata": "GJ86ZUIJyr8=",
          "dtype": "f8"
         },
         "yaxis": "y"
        },
        {
         "hovertemplate": "<b>%{hovertext}</b><br><br>Brand=Dornfinger<br>แกนคุณลักษณะหลักที่ 1 (PC1)=%{x}<br>แกนคุณลักษณะหลักที่ 2 (PC2)=%{y}<extra></extra>",
         "hovertext": [
          "Veno-S"
         ],
         "legendgroup": "Dornfinger",
         "marker": {
          "color": "#636efa",
          "symbol": "circle"
         },
         "mode": "markers",
         "name": "Dornfinger",
         "showlegend": true,
         "type": "scattergl",
         "x": {
          "bdata": "ZR0fX41B2L8=",
          "dtype": "f8"
         },
         "xaxis": "x",
         "y": {
          "bdata": "OFUlsvA11L8=",
          "dtype": "f8"
         },
         "yaxis": "y"
        },
        {
         "hovertemplate": "<b>%{hovertext}</b><br><br>Brand=Midnight<br>แกนคุณลักษณะหลักที่ 1 (PC1)=%{x}<br>แกนคุณลักษณะหลักที่ 2 (PC2)=%{y}<extra></extra>",
         "hovertext": [
          "Thread C1"
         ],
         "legendgroup": "Midnight",
         "marker": {
          "color": "#EF553B",
          "symbol": "circle"
         },
         "mode": "markers",
         "name": "Midnight",
         "showlegend": true,
         "type": "scattergl",
         "x": {
          "bdata": "/uMiARld9L8=",
          "dtype": "f8"
         },
         "xaxis": "x",
         "y": {
          "bdata": "SPQQna0U2T8=",
          "dtype": "f8"
         },
         "yaxis": "y"
        },
        {
         "hovertemplate": "<b>%{hovertext}</b><br><br>Brand=HK<br>แกนคุณลักษณะหลักที่ 1 (PC1)=%{x}<br>แกนคุณลักษณะหลักที่ 2 (PC2)=%{y}<extra></extra>",
         "hovertext": [
          "Gaming Sirius M"
         ],
         "legendgroup": "HK",
         "marker": {
          "color": "#00cc96",
          "symbol": "circle"
         },
         "mode": "markers",
         "name": "HK",
         "showlegend": true,
         "type": "scattergl",
         "x": {
          "bdata": "pQ5urLGx7b8=",
          "dtype": "f8"
         },
         "xaxis": "x",
         "y": {
          "bdata": "EauYPvnv378=",
          "dtype": "f8"
         },
         "yaxis": "y"
        },
        {
         "hovertemplate": "<b>%{hovertext}</b><br><br>Brand=CryoMods<br>แกนคุณลักษณะหลักที่ 1 (PC1)=%{x}<br>แกนคุณลักษณะหลักที่ 2 (PC2)=%{y}<extra></extra>",
         "hovertext": [
          "Fractal Wireless"
         ],
         "legendgroup": "CryoMods",
         "marker": {
          "color": "#ab63fa",
          "symbol": "circle"
         },
         "mode": "markers",
         "name": "CryoMods",
         "showlegend": true,
         "type": "scattergl",
         "x": {
          "bdata": "+gPBbXBE8b8=",
          "dtype": "f8"
         },
         "xaxis": "x",
         "y": {
          "bdata": "QzI48BcD9L8=",
          "dtype": "f8"
         },
         "yaxis": "y"
        },
        {
         "hovertemplate": "<b>%{hovertext}</b><br><br>Brand=Lethal<br>แกนคุณลักษณะหลักที่ 1 (PC1)=%{x}<br>แกนคุณลักษณะหลักที่ 2 (PC2)=%{y}<extra></extra>",
         "hovertext": [
          "Gaming Gear LA-1"
         ],
         "legendgroup": "Lethal",
         "marker": {
          "color": "#FFA15A",
          "symbol": "circle"
         },
         "mode": "markers",
         "name": "Lethal",
         "showlegend": true,
         "type": "scattergl",
         "x": {
          "bdata": "7zM64zhv8b8=",
          "dtype": "f8"
         },
         "xaxis": "x",
         "y": {
          "bdata": "MTuH0Qjfwz8=",
          "dtype": "f8"
         },
         "yaxis": "y"
        },
        {
         "hovertemplate": "<b>%{hovertext}</b><br><br>Brand=Gamesense<br>แกนคุณลักษณะหลักที่ 1 (PC1)=%{x}<br>แกนคุณลักษณะหลักที่ 2 (PC2)=%{y}<extra></extra>",
         "hovertext": [
          "MVP Wired",
          "MVP Wireless",
          "META Wired"
         ],
         "legendgroup": "Gamesense",
         "marker": {
          "color": "#19d3f3",
          "symbol": "circle"
         },
         "mode": "markers",
         "name": "Gamesense",
         "showlegend": true,
         "type": "scattergl",
         "x": {
          "bdata": "rMRNVodAyb96SM8ne92jPymvhRliY+y/",
          "dtype": "f8"
         },
         "xaxis": "x",
         "y": {
          "bdata": "Xlyse1d/sL961XLV/ZjUv/O+pxN5KPC/",
          "dtype": "f8"
         },
         "yaxis": "y"
        },
        {
         "hovertemplate": "<b>%{hovertext}</b><br><br>Brand=Dream<br>แกนคุณลักษณะหลักที่ 1 (PC1)=%{x}<br>แกนคุณลักษณะหลักที่ 2 (PC2)=%{y}<extra></extra>",
         "hovertext": [
          "Machines DM1 FPS",
          "Machines DM2 Comfy S",
          "Machines DM4 Evo",
          "Machines DM4 Evo S",
          "Machines DM5 Blink",
          "Machines DM6 Holey S",
          "Machines DM6 Holey",
          "Machines DM6 Duo",
          "Machines DM6 Trio"
         ],
         "legendgroup": "Dream",
         "marker": {
          "color": "#FF6692",
          "symbol": "circle"
         },
         "mode": "markers",
         "name": "Dream",
         "showlegend": true,
         "type": "scattergl",
         "x": {
          "bdata": "CQ70T/uP3D+GCIAqh2UNQBigeYQUvwBAp4bIUeNUAEDcGc3DwrECQL5W3MZuv/g/QkVfo5za+T8u3Eq6Z3f8P2IqZVJqYfw/",
          "dtype": "f8"
         },
         "xaxis": "x",
         "y": {
          "bdata": "bT54KXGe37+Xek75yE/mPyjCvucM59e/9igrA8oE0b+Q4jSOXUSyv9d9FqVYaN0/PVz8Hqo61D8OkaW2cQLLP9yjJTFCNdE/",
          "dtype": "f8"
         },
         "yaxis": "y"
        },
        {
         "marker": {
          "color": "red",
          "size": 15,
          "symbol": "star"
         },
         "mode": "markers",
         "name": "Ideal Profile (จุดศูนย์กลาง)",
         "type": "scatter",
         "x": [
          -1.7860047339569263
         ],
         "y": [
          1.127123735360073
         ]
        },
        {
         "marker": {
          "color": "red",
          "size": 15,
          "symbol": "star"
         },
         "mode": "markers",
         "name": "Ideal Profile (จุดศูนย์กลาง)",
         "type": "scatter",
         "x": [
          -1.7860047339569263
         ],
         "y": [
          1.127123735360073
         ]
        },
        {
         "marker": {
          "color": "red",
          "size": 15,
          "symbol": "star"
         },
         "mode": "markers",
         "name": "Ideal Profile (จุดศูนย์กลาง)",
         "type": "scatter",
         "x": [
          -1.7780220622611431
         ],
         "y": [
          0.8765924661962508
         ]
        },
        {
         "marker": {
          "color": "red",
          "size": 15,
          "symbol": "star"
         },
         "mode": "markers",
         "name": "Ideal Profile (จุดศูนย์กลาง)",
         "type": "scatter",
         "x": [
          -1.7860047339569263
         ],
         "y": [
          1.127123735360073
         ]
        },
        {
         "marker": {
          "color": "red",
          "size": 15,
          "symbol": "star"
         },
         "mode": "markers",
         "name": "Ideal Profile (จุดศูนย์กลาง)",
         "type": "scatter",
         "x": [
          -1.7860047339569263
         ],
         "y": [
          1.127123735360073
         ]
        }
       ],
       "layout": {
        "legend": {
         "title": {
          "text": "Brand"
         },
         "tracegroupgap": 0
        },
        "template": {
         "data": {
          "bar": [
           {
            "error_x": {
             "color": "#2a3f5f"
            },
            "error_y": {
             "color": "#2a3f5f"
            },
            "marker": {
             "line": {
              "color": "#E5ECF6",
              "width": 0.5
             },
             "pattern": {
              "fillmode": "overlay",
              "size": 10,
              "solidity": 0.2
             }
            },
            "type": "bar"
           }
          ],
          "barpolar": [
           {
            "marker": {
             "line": {
              "color": "#E5ECF6",
              "width": 0.5
             },
             "pattern": {
              "fillmode": "overlay",
              "size": 10,
              "solidity": 0.2
             }
            },
            "type": "barpolar"
           }
          ],
          "carpet": [
           {
            "aaxis": {
             "endlinecolor": "#2a3f5f",
             "gridcolor": "white",
             "linecolor": "white",
             "minorgridcolor": "white",
             "startlinecolor": "#2a3f5f"
            },
            "baxis": {
             "endlinecolor": "#2a3f5f",
             "gridcolor": "white",
             "linecolor": "white",
             "minorgridcolor": "white",
             "startlinecolor": "#2a3f5f"
            },
            "type": "carpet"
           }
          ],
          "choropleth": [
           {
            "colorbar": {
             "outlinewidth": 0,
             "ticks": ""
            },
            "type": "choropleth"
           }
          ],
          "contour": [
           {
            "colorbar": {
             "outlinewidth": 0,
             "ticks": ""
            },
            "colorscale": [
             [
              0,
              "#0d0887"
             ],
             [
              0.1111111111111111,
              "#46039f"
             ],
             [
              0.2222222222222222,
              "#7201a8"
             ],
             [
              0.3333333333333333,
              "#9c179e"
             ],
             [
              0.4444444444444444,
              "#bd3786"
             ],
             [
              0.5555555555555556,
              "#d8576b"
             ],
             [
              0.6666666666666666,
              "#ed7953"
             ],
             [
              0.7777777777777778,
              "#fb9f3a"
             ],
             [
              0.8888888888888888,
              "#fdca26"
             ],
             [
              1,
              "#f0f921"
             ]
            ],
            "type": "contour"
           }
          ],
          "contourcarpet": [
           {
            "colorbar": {
             "outlinewidth": 0,
             "ticks": ""
            },
            "type": "contourcarpet"
           }
          ],
          "heatmap": [
           {
            "colorbar": {
             "outlinewidth": 0,
             "ticks": ""
            },
            "colorscale": [
             [
              0,
              "#0d0887"
             ],
             [
              0.1111111111111111,
              "#46039f"
             ],
             [
              0.2222222222222222,
              "#7201a8"
             ],
             [
              0.3333333333333333,
              "#9c179e"
             ],
             [
              0.4444444444444444,
              "#bd3786"
             ],
             [
              0.5555555555555556,
              "#d8576b"
             ],
             [
              0.6666666666666666,
              "#ed7953"
             ],
             [
              0.7777777777777778,
              "#fb9f3a"
             ],
             [
              0.8888888888888888,
              "#fdca26"
             ],
             [
              1,
              "#f0f921"
             ]
            ],
            "type": "heatmap"
           }
          ],
          "histogram": [
           {
            "marker": {
             "pattern": {
              "fillmode": "overlay",
              "size": 10,
              "solidity": 0.2
             }
            },
            "type": "histogram"
           }
          ],
          "histogram2d": [
           {
            "colorbar": {
             "outlinewidth": 0,
             "ticks": ""
            },
            "colorscale": [
             [
              0,
              "#0d0887"
             ],
             [
              0.1111111111111111,
              "#46039f"
             ],
             [
              0.2222222222222222,
              "#7201a8"
             ],
             [
              0.3333333333333333,
              "#9c179e"
             ],
             [
              0.4444444444444444,
              "#bd3786"
             ],
             [
              0.5555555555555556,
              "#d8576b"
             ],
             [
              0.6666666666666666,
              "#ed7953"
             ],
             [
              0.7777777777777778,
              "#fb9f3a"
             ],
             [
              0.8888888888888888,
              "#fdca26"
             ],
             [
              1,
              "#f0f921"
             ]
            ],
            "type": "histogram2d"
           }
          ],
          "histogram2dcontour": [
           {
            "colorbar": {
             "outlinewidth": 0,
             "ticks": ""
            },
            "colorscale": [
             [
              0,
              "#0d0887"
             ],
             [
              0.1111111111111111,
              "#46039f"
             ],
             [
              0.2222222222222222,
              "#7201a8"
             ],
             [
              0.3333333333333333,
              "#9c179e"
             ],
             [
              0.4444444444444444,
              "#bd3786"
             ],
             [
              0.5555555555555556,
              "#d8576b"
             ],
             [
              0.6666666666666666,
              "#ed7953"
             ],
             [
              0.7777777777777778,
              "#fb9f3a"
             ],
             [
              0.8888888888888888,
              "#fdca26"
             ],
             [
              1,
              "#f0f921"
             ]
            ],
            "type": "histogram2dcontour"
           }
          ],
          "mesh3d": [
           {
            "colorbar": {
             "outlinewidth": 0,
             "ticks": ""
            },
            "type": "mesh3d"
           }
          ],
          "parcoords": [
           {
            "line": {
             "colorbar": {
              "outlinewidth": 0,
              "ticks": ""
             }
            },
            "type": "parcoords"
           }
          ],
          "pie": [
           {
            "automargin": true,
            "type": "pie"
           }
          ],
          "scatter": [
           {
            "fillpattern": {
             "fillmode": "overlay",
             "size": 10,
             "solidity": 0.2
            },
            "type": "scatter"
           }
          ],
          "scatter3d": [
           {
            "line": {
             "colorbar": {
              "outlinewidth": 0,
              "ticks": ""
             }
            },
            "marker": {
             "colorbar": {
              "outlinewidth": 0,
              "ticks": ""
             }
            },
            "type": "scatter3d"
           }
          ],
          "scattercarpet": [
           {
            "marker": {
             "colorbar": {
              "outlinewidth": 0,
              "ticks": ""
             }
            },
            "type": "scattercarpet"
           }
          ],
          "scattergeo": [
           {
            "marker": {
             "colorbar": {
              "outlinewidth": 0,
              "ticks": ""
             }
            },
            "type": "scattergeo"
           }
          ],
          "scattergl": [
           {
            "marker": {
             "colorbar": {
              "outlinewidth": 0,
              "ticks": ""
             }
            },
            "type": "scattergl"
           }
          ],
          "scattermap": [
           {
            "marker": {
             "colorbar": {
              "outlinewidth": 0,
              "ticks": ""
             }
            },
            "type": "scattermap"
           }
          ],
          "scattermapbox": [
           {
            "marker": {
             "colorbar": {
              "outlinewidth": 0,
              "ticks": ""
             }
            },
            "type": "scattermapbox"
           }
          ],
          "scatterpolar": [
           {
            "marker": {
             "colorbar": {
              "outlinewidth": 0,
              "ticks": ""
             }
            },
            "type": "scatterpolar"
           }
          ],
          "scatterpolargl": [
           {
            "marker": {
             "colorbar": {
              "outlinewidth": 0,
              "ticks": ""
             }
            },
            "type": "scatterpolargl"
           }
          ],
          "scatterternary": [
           {
            "marker": {
             "colorbar": {
              "outlinewidth": 0,
              "ticks": ""
             }
            },
            "type": "scatterternary"
           }
          ],
          "surface": [
           {
            "colorbar": {
             "outlinewidth": 0,
             "ticks": ""
            },
            "colorscale": [
             [
              0,
              "#0d0887"
             ],
             [
              0.1111111111111111,
              "#46039f"
             ],
             [
              0.2222222222222222,
              "#7201a8"
             ],
             [
              0.3333333333333333,
              "#9c179e"
             ],
             [
              0.4444444444444444,
              "#bd3786"
             ],
             [
              0.5555555555555556,
              "#d8576b"
             ],
             [
              0.6666666666666666,
              "#ed7953"
             ],
             [
              0.7777777777777778,
              "#fb9f3a"
             ],
             [
              0.8888888888888888,
              "#fdca26"
             ],
             [
              1,
              "#f0f921"
             ]
            ],
            "type": "surface"
           }
          ],
          "table": [
           {
            "cells": {
             "fill": {
              "color": "#EBF0F8"
             },
             "line": {
              "color": "white"
             }
            },
            "header": {
             "fill": {
              "color": "#C8D4E3"
             },
             "line": {
              "color": "white"
             }
            },
            "type": "table"
           }
          ]
         },
         "layout": {
          "annotationdefaults": {
           "arrowcolor": "#2a3f5f",
           "arrowhead": 0,
           "arrowwidth": 1
          },
          "autotypenumbers": "strict",
          "coloraxis": {
           "colorbar": {
            "outlinewidth": 0,
            "ticks": ""
           }
          },
          "colorscale": {
           "diverging": [
            [
             0,
             "#8e0152"
            ],
            [
             0.1,
             "#c51b7d"
            ],
            [
             0.2,
             "#de77ae"
            ],
            [
             0.3,
             "#f1b6da"
            ],
            [
             0.4,
             "#fde0ef"
            ],
            [
             0.5,
             "#f7f7f7"
            ],
            [
             0.6,
             "#e6f5d0"
            ],
            [
             0.7,
             "#b8e186"
            ],
            [
             0.8,
             "#7fbc41"
            ],
            [
             0.9,
             "#4d9221"
            ],
            [
             1,
             "#276419"
            ]
           ],
           "sequential": [
            [
             0,
             "#0d0887"
            ],
            [
             0.1111111111111111,
             "#46039f"
            ],
            [
             0.2222222222222222,
             "#7201a8"
            ],
            [
             0.3333333333333333,
             "#9c179e"
            ],
            [
             0.4444444444444444,
             "#bd3786"
            ],
            [
             0.5555555555555556,
             "#d8576b"
            ],
            [
             0.6666666666666666,
             "#ed7953"
            ],
            [
             0.7777777777777778,
             "#fb9f3a"
            ],
            [
             0.8888888888888888,
             "#fdca26"
            ],
            [
             1,
             "#f0f921"
            ]
           ],
           "sequentialminus": [
            [
             0,
             "#0d0887"
            ],
            [
             0.1111111111111111,
             "#46039f"
            ],
            [
             0.2222222222222222,
             "#7201a8"
            ],
            [
             0.3333333333333333,
             "#9c179e"
            ],
            [
             0.4444444444444444,
             "#bd3786"
            ],
            [
             0.5555555555555556,
             "#d8576b"
            ],
            [
             0.6666666666666666,
             "#ed7953"
            ],
            [
             0.7777777777777778,
             "#fb9f3a"
            ],
            [
             0.8888888888888888,
             "#fdca26"
            ],
            [
             1,
             "#f0f921"
            ]
           ]
          },
          "colorway": [
           "#636efa",
           "#EF553B",
           "#00cc96",
           "#ab63fa",
           "#FFA15A",
           "#19d3f3",
           "#FF6692",
           "#B6E880",
           "#FF97FF",
           "#FECB52"
          ],
          "font": {
           "color": "#2a3f5f"
          },
          "geo": {
           "bgcolor": "white",
           "lakecolor": "white",
           "landcolor": "#E5ECF6",
           "showlakes": true,
           "showland": true,
           "subunitcolor": "white"
          },
          "hoverlabel": {
           "align": "left"
          },
          "hovermode": "closest",
          "mapbox": {
           "style": "light"
          },
          "paper_bgcolor": "white",
          "plot_bgcolor": "#E5ECF6",
          "polar": {
           "angularaxis": {
            "gridcolor": "white",
            "linecolor": "white",
            "ticks": ""
           },
           "bgcolor": "#E5ECF6",
           "radialaxis": {
            "gridcolor": "white",
            "linecolor": "white",
            "ticks": ""
           }
          },
          "scene": {
           "xaxis": {
            "backgroundcolor": "#E5ECF6",
            "gridcolor": "white",
            "gridwidth": 2,
            "linecolor": "white",
            "showbackground": true,
            "ticks": "",
            "zerolinecolor": "white"
           },
           "yaxis": {
            "backgroundcolor": "#E5ECF6",
            "gridcolor": "white",
            "gridwidth": 2,
            "linecolor": "white",
            "showbackground": true,
            "ticks": "",
            "zerolinecolor": "white"
           },
           "zaxis": {
            "backgroundcolor": "#E5ECF6",
            "gridcolor": "white",
            "gridwidth": 2,
            "linecolor": "white",
            "showbackground": true,
            "ticks": "",
            "zerolinecolor": "white"
           }
          },
          "shapedefaults": {
           "line": {
            "color": "#2a3f5f"
           }
          },
          "ternary": {
           "aaxis": {
            "gridcolor": "white",
            "linecolor": "white",
            "ticks": ""
           },
           "baxis": {
            "gridcolor": "white",
            "linecolor": "white",
            "ticks": ""
           },
           "bgcolor": "#E5ECF6",
           "caxis": {
            "gridcolor": "white",
            "linecolor": "white",
            "ticks": ""
           }
          },
          "title": {
           "x": 0.05
          },
          "xaxis": {
           "automargin": true,
           "gridcolor": "white",
           "linecolor": "white",
           "ticks": "",
           "title": {
            "standoff": 15
           },
           "zerolinecolor": "white",
           "zerolinewidth": 2
          },
          "yaxis": {
           "automargin": true,
           "gridcolor": "white",
           "linecolor": "white",
           "ticks": "",
           "title": {
            "standoff": 15
           },
           "zerolinecolor": "white",
           "zerolinewidth": 2
          }
         }
        },
        "title": {
         "text": "ผลการวิเคราะห์ PCA ของข้อมูลเมาส์"
        },
        "xaxis": {
         "anchor": "y",
         "domain": [
          0,
          1
         ],
         "title": {
          "text": "แกนคุณลักษณะหลักที่ 1 (PC1)"
         }
        },
        "yaxis": {
         "anchor": "x",
         "domain": [
          0,
          1
         ],
         "title": {
          "text": "แกนคุณลักษณะหลักที่ 2 (PC2)"
         }
        }
       }
      }
     },
     "metadata": {},
     "output_type": "display_data"
    }
   ],
   "source": [
    "import numpy as np\n",
    "\n",
    "\n",
    "\n",
    "# 1. กำหนด \"คลังเมาส์\" ของคุณ\n",
    "my_mouse_collection = ['Viper Mini Signature Edition', 'MAD R Major', 'Susanto-X', 'Y2 Pro']\n",
    "df_my_collection = df_pca[df_pca['Model'].isin(my_mouse_collection)]\n",
    "\n",
    "# 2. คำนวณ \"โปรไฟล์เมาส์ในอุดมคติ\"\n",
    "ideal_mouse_profile = df_my_collection[col].mean().values\n",
    "\n",
    "# 3. คำนวณ Euclidean Distance ของทุกเมาส์จากจุดศูนย์กลาง\n",
    "distances = np.linalg.norm(df_pca[col].values - ideal_mouse_profile, axis=1)\n",
    "df_pca['Distance_to_Ideal'] = distances\n",
    "\n",
    "# 4. จัดอันดับเมาส์ที่ใกล้เคียงที่สุด (ไม่รวมเมาส์ที่มีอยู่แล้วในคลัง)\n",
    "recommendations = df_pca[~df_pca['Model'].isin(my_mouse_collection)] \\\n",
    "    .sort_values('Distance_to_Ideal', ascending=True).head(5)\n",
    "\n",
    "print(f\"จุดศูนย์กลาง (Ideal Profile) ในแกน PCA: {ideal_mouse_profile}\")\n",
    "print(\"\\n--- 5 อันดับเมาส์แนะนำที่ใกล้เคียงกับสไตล์ของคุณที่สุด ---\")\n",
    "print(recommendations[['Model', 'Brand', 'Distance_to_Ideal']])\n",
    "\n",
    "# 5. พล็อตกราฟแสดง Ideal Profile\n",
    "fig.add_scatter(\n",
    "    x=[ideal_mouse_profile[0]],\n",
    "    y=[ideal_mouse_profile[1]],\n",
    "    mode='markers',\n",
    "    marker=dict(symbol='star', color='red', size=15),\n",
    "    name='Ideal Profile (จุดศูนย์กลาง)'\n",
    ")\n",
    "fig.show()\n"
   ]
  },
  {
   "cell_type": "code",
   "execution_count": null,
   "id": "b71f5a66-ce3e-493a-b6f9-3f87e4791fd8",
   "metadata": {},
   "outputs": [],
   "source": []
  }
 ],
 "metadata": {
  "kernelspec": {
   "display_name": "myenv (3.12.6)",
   "language": "python",
   "name": "python3"
  },
  "language_info": {
   "codemirror_mode": {
    "name": "ipython",
    "version": 3
   },
   "file_extension": ".py",
   "mimetype": "text/x-python",
   "name": "python",
   "nbconvert_exporter": "python",
   "pygments_lexer": "ipython3",
   "version": "3.12.6"
  }
 },
 "nbformat": 4,
 "nbformat_minor": 5
}
