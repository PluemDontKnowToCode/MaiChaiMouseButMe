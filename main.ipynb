{
 "cells": [
  {
   "cell_type": "markdown",
   "id": "73ee6c86",
   "metadata": {},
   "source": [
    "# **Download and Import Dataset**"
   ]
  },
  {
   "cell_type": "code",
   "execution_count": 48,
   "id": "eadea03f",
   "metadata": {},
   "outputs": [
    {
     "name": "stdout",
     "output_type": "stream",
     "text": [
      "Columns in df: ['Brand', 'Model', 'Size', 'Length (mm)', 'Width (mm)', 'Height (mm)', 'Weight (grams)', 'Shape', 'Hand compatibility', 'Hump placement', 'Front flare', 'Side curvature', 'Thumb rest', 'Ring finger rest', 'Sensor brand', 'Sensor', 'Sensor type', 'Sensor position', 'DPI', 'Polling rate (Hz)', 'Tracking speed (IPS)', 'Acceleration (G)', 'Side buttons', 'Middle buttons', 'Hot-swap switches', 'Switches brand', 'Switches', 'Scroll wheel encoder brand', 'Scroll wheel encoder', 'Material', 'Connectivity']\n"
     ]
    }
   ],
   "source": [
    "import pandas as pd\n",
    "from sklearn.preprocessing import StandardScaler\n",
    "from sklearn.impute import SimpleImputer\n",
    "from sklearn.decomposition import PCA\n",
    "import plotly.express as px\n",
    "import numpy as np\n",
    "from sklearn.metrics.pairwise import cosine_similarity\n",
    "df = pd.read_csv('2025_09_06_MousedB.csv', sep=';')\n",
    "\n",
    "print(\"Columns in df:\", df.columns.tolist())"
   ]
  },
  {
   "cell_type": "markdown",
   "id": "297a0bfc",
   "metadata": {},
   "source": [
    "# **Selection and Clean Data**"
   ]
  },
  {
   "cell_type": "code",
   "execution_count": 49,
   "id": "e188f119",
   "metadata": {},
   "outputs": [
    {
     "name": "stdout",
     "output_type": "stream",
     "text": [
      "Columns found: ['DPI', 'Polling rate (Hz)', 'Weight (grams)', 'Length (mm)', 'Width (mm)', 'Height (mm)', 'Side buttons']\n",
      "Columns missing: []\n",
      "จำนวนข้อมูลที่ใช้ได้ (%):\n",
      " DPI                   99.92\n",
      "Polling rate (Hz)     99.83\n",
      "Weight (grams)        99.75\n",
      "Length (mm)          100.00\n",
      "Width (mm)           100.00\n",
      "Height (mm)          100.00\n",
      "Side buttons          99.92\n",
      "dtype: float64\n",
      "จำนวนข้อมูลที่หายไป (%):\n",
      " DPI                  0.08\n",
      "Polling rate (Hz)    0.17\n",
      "Weight (grams)       0.25\n",
      "Length (mm)          0.00\n",
      "Width (mm)           0.00\n",
      "Height (mm)          0.00\n",
      "Side buttons         0.08\n",
      "dtype: float64\n",
      "\n",
      "ข้อมูลหลังจากการสเกล:\n"
     ]
    },
    {
     "data": {
      "text/html": [
       "<div>\n",
       "<style scoped>\n",
       "    .dataframe tbody tr th:only-of-type {\n",
       "        vertical-align: middle;\n",
       "    }\n",
       "\n",
       "    .dataframe tbody tr th {\n",
       "        vertical-align: top;\n",
       "    }\n",
       "\n",
       "    .dataframe thead th {\n",
       "        text-align: right;\n",
       "    }\n",
       "</style>\n",
       "<table border=\"1\" class=\"dataframe\">\n",
       "  <thead>\n",
       "    <tr style=\"text-align: right;\">\n",
       "      <th></th>\n",
       "      <th>DPI</th>\n",
       "      <th>Polling rate (Hz)</th>\n",
       "      <th>Weight (grams)</th>\n",
       "      <th>Length (mm)</th>\n",
       "      <th>Width (mm)</th>\n",
       "      <th>Height (mm)</th>\n",
       "      <th>Side buttons</th>\n",
       "    </tr>\n",
       "  </thead>\n",
       "  <tbody>\n",
       "    <tr>\n",
       "      <th>0</th>\n",
       "      <td>0.482632</td>\n",
       "      <td>-0.757271</td>\n",
       "      <td>-0.141154</td>\n",
       "      <td>-0.202779</td>\n",
       "      <td>-0.595220</td>\n",
       "      <td>-0.119875</td>\n",
       "      <td>-0.112955</td>\n",
       "    </tr>\n",
       "    <tr>\n",
       "      <th>1</th>\n",
       "      <td>-0.894385</td>\n",
       "      <td>-0.757271</td>\n",
       "      <td>-0.261663</td>\n",
       "      <td>-0.202779</td>\n",
       "      <td>-0.595220</td>\n",
       "      <td>-0.119875</td>\n",
       "      <td>-0.112955</td>\n",
       "    </tr>\n",
       "    <tr>\n",
       "      <th>2</th>\n",
       "      <td>0.482632</td>\n",
       "      <td>-0.757271</td>\n",
       "      <td>-0.301833</td>\n",
       "      <td>-0.425520</td>\n",
       "      <td>-0.441788</td>\n",
       "      <td>-0.259140</td>\n",
       "      <td>-0.112955</td>\n",
       "    </tr>\n",
       "    <tr>\n",
       "      <th>3</th>\n",
       "      <td>-0.894385</td>\n",
       "      <td>-0.757271</td>\n",
       "      <td>-0.301833</td>\n",
       "      <td>-0.425520</td>\n",
       "      <td>-0.441788</td>\n",
       "      <td>-0.259140</td>\n",
       "      <td>-0.112955</td>\n",
       "    </tr>\n",
       "    <tr>\n",
       "      <th>4</th>\n",
       "      <td>-0.894385</td>\n",
       "      <td>-0.757271</td>\n",
       "      <td>-0.100984</td>\n",
       "      <td>-0.425520</td>\n",
       "      <td>-0.441788</td>\n",
       "      <td>-0.259140</td>\n",
       "      <td>-0.112955</td>\n",
       "    </tr>\n",
       "  </tbody>\n",
       "</table>\n",
       "</div>"
      ],
      "text/plain": [
       "        DPI  Polling rate (Hz)  Weight (grams)  Length (mm)  Width (mm)  \\\n",
       "0  0.482632          -0.757271       -0.141154    -0.202779   -0.595220   \n",
       "1 -0.894385          -0.757271       -0.261663    -0.202779   -0.595220   \n",
       "2  0.482632          -0.757271       -0.301833    -0.425520   -0.441788   \n",
       "3 -0.894385          -0.757271       -0.301833    -0.425520   -0.441788   \n",
       "4 -0.894385          -0.757271       -0.100984    -0.425520   -0.441788   \n",
       "\n",
       "   Height (mm)  Side buttons  \n",
       "0    -0.119875     -0.112955  \n",
       "1    -0.119875     -0.112955  \n",
       "2    -0.259140     -0.112955  \n",
       "3    -0.259140     -0.112955  \n",
       "4    -0.259140     -0.112955  "
      ]
     },
     "execution_count": 49,
     "metadata": {},
     "output_type": "execute_result"
    }
   ],
   "source": [
    "features = [\n",
    "    'DPI',\n",
    "    'Polling rate (Hz)',\n",
    "    'Weight (grams)',\n",
    "    'Length (mm)',\n",
    "    'Width (mm)',\n",
    "    'Height (mm)',\n",
    "    'Side buttons'\n",
    "]\n",
    "\n",
    "# ตรวจสอบว่าคอลัมน์เหล่านี้มีอยู่ใน df หรือไม่\n",
    "existing_features = [f for f in features if f in df.columns]\n",
    "missing_features = [f for f in features if f not in df.columns]\n",
    "\n",
    "print(\"Columns found:\", existing_features)\n",
    "print(\"Columns missing:\", missing_features)\n",
    "\n",
    "# สร้าง DataFrame เฉพาะคุณสมบัติที่มีอยู่จริง\n",
    "df_features = df[existing_features].copy()\n",
    "\n",
    "# ✅ 1a. ตรวจสอบข้อมูลที่หายไปและ % ของข้อมูลที่ใช้ได้/ใช้ไม่ได้\n",
    "valid_counts = df_features.notna().sum()\n",
    "total_counts = len(df_features)\n",
    "percent_valid = (valid_counts / total_counts * 100).round(2)\n",
    "percent_missing = 100 - percent_valid\n",
    "\n",
    "print(\"จำนวนข้อมูลที่ใช้ได้ (%):\\n\", percent_valid)\n",
    "print(\"จำนวนข้อมูลที่หายไป (%):\\n\", percent_missing)\n",
    "\n",
    "\n",
    "\n",
    "# ใช้ existing_features แทน features\n",
    "imputer = SimpleImputer(strategy='mean')\n",
    "df_imputed = pd.DataFrame(imputer.fit_transform(df_features), columns=existing_features)\n",
    "\n",
    "# สเกลข้อมูล\n",
    "scaler = StandardScaler()\n",
    "df_scaled = pd.DataFrame(scaler.fit_transform(df_imputed), columns=existing_features)\n",
    "\n",
    "print(\"\\nข้อมูลหลังจากการสเกล:\")\n",
    "df_scaled.head()"
   ]
  },
  {
   "cell_type": "markdown",
   "id": "ce4595dc",
   "metadata": {},
   "source": [
    "# **Dimension Reduction using PCA**"
   ]
  },
  {
   "cell_type": "code",
   "execution_count": 50,
   "id": "2d48fb52",
   "metadata": {},
   "outputs": [
    {
     "name": "stdout",
     "output_type": "stream",
     "text": [
      "\n",
      "ผลลัพธ์จากการทำ PCA 5 แถวแรก:\n"
     ]
    },
    {
     "data": {
      "text/html": [
       "<div>\n",
       "<style scoped>\n",
       "    .dataframe tbody tr th:only-of-type {\n",
       "        vertical-align: middle;\n",
       "    }\n",
       "\n",
       "    .dataframe tbody tr th {\n",
       "        vertical-align: top;\n",
       "    }\n",
       "\n",
       "    .dataframe thead th {\n",
       "        text-align: right;\n",
       "    }\n",
       "</style>\n",
       "<table border=\"1\" class=\"dataframe\">\n",
       "  <thead>\n",
       "    <tr style=\"text-align: right;\">\n",
       "      <th></th>\n",
       "      <th>PC1</th>\n",
       "      <th>PC2</th>\n",
       "      <th>Model</th>\n",
       "      <th>Brand</th>\n",
       "    </tr>\n",
       "  </thead>\n",
       "  <tbody>\n",
       "    <tr>\n",
       "      <th>0</th>\n",
       "      <td>-0.936122</td>\n",
       "      <td>-0.265593</td>\n",
       "      <td>T520 Max</td>\n",
       "      <td>AJAZZ</td>\n",
       "    </tr>\n",
       "    <tr>\n",
       "      <th>1</th>\n",
       "      <td>-0.768192</td>\n",
       "      <td>-0.682492</td>\n",
       "      <td>T520</td>\n",
       "      <td>AJAZZ</td>\n",
       "    </tr>\n",
       "    <tr>\n",
       "      <th>2</th>\n",
       "      <td>-1.099152</td>\n",
       "      <td>-0.255619</td>\n",
       "      <td>G3 V2 Pro</td>\n",
       "      <td>MCHOSE</td>\n",
       "    </tr>\n",
       "    <tr>\n",
       "      <th>3</th>\n",
       "      <td>-0.857178</td>\n",
       "      <td>-0.757565</td>\n",
       "      <td>G3 V2</td>\n",
       "      <td>MCHOSE</td>\n",
       "    </tr>\n",
       "    <tr>\n",
       "      <th>4</th>\n",
       "      <td>-0.732831</td>\n",
       "      <td>-0.901596</td>\n",
       "      <td>G3 A</td>\n",
       "      <td>MCHOSE</td>\n",
       "    </tr>\n",
       "  </tbody>\n",
       "</table>\n",
       "</div>"
      ],
      "text/plain": [
       "        PC1       PC2      Model   Brand\n",
       "0 -0.936122 -0.265593   T520 Max   AJAZZ\n",
       "1 -0.768192 -0.682492       T520   AJAZZ\n",
       "2 -1.099152 -0.255619  G3 V2 Pro  MCHOSE\n",
       "3 -0.857178 -0.757565      G3 V2  MCHOSE\n",
       "4 -0.732831 -0.901596       G3 A  MCHOSE"
      ]
     },
     "execution_count": 50,
     "metadata": {},
     "output_type": "execute_result"
    }
   ],
   "source": [
    "# 1️⃣ เพิ่มมิติข้อมูล (Feature Engineering)\n",
    "# สร้าง features ใหม่จากข้อมูลเดิมเพื่อให้ PCA มีความหมายมากขึ้น\n",
    "df_features['Volume'] = df_features['Length (mm)'] * df_features['Width (mm)'] * df_features['Height (mm)']\n",
    "df_features['Weight_to_Volume'] = df_features['Weight (grams)'] / df_features['Volume']\n",
    "\n",
    "# ตรวจสอบว่ามีค่า infinite หรือไม่ (จากการหาร)\n",
    "df_features.replace([np.inf, -np.inf], np.nan, inplace=True)\n",
    "\n",
    "# 2️⃣ แปลงข้อมูลเชิงหมวดหมู่ (Categorical) เป็นเชิงตัวเลข (One-hot encoding)\n",
    "categorical_cols = ['Shape', 'Grip type', 'Sensor type']\n",
    "existing_cats = [col for col in categorical_cols if col in df.columns]\n",
    "\n",
    "if existing_cats:\n",
    "    df_cats = pd.get_dummies(df[existing_cats], prefix=existing_cats)\n",
    "    df_features = pd.concat([df_features, df_cats], axis=1)\n",
    "\n",
    "# 3️⃣ จัดการ Missing Values\n",
    "imputer = SimpleImputer(strategy='mean')\n",
    "df_imputed = pd.DataFrame(imputer.fit_transform(df_features), columns=df_features.columns)\n",
    "\n",
    "# 4️⃣ สเกลข้อมูลก่อน PCA\n",
    "scaler = StandardScaler()\n",
    "df_scaled = pd.DataFrame(scaler.fit_transform(df_imputed), columns=df_imputed.columns)\n",
    "\n",
    "\n",
    "# สร้างโมเดล PCA โดยระบุว่าเราต้องการลดมิติเหลือ 2 มิติ\n",
    "pca = PCA(n_components=2)\n",
    "\n",
    "# ทำการ fit และ transform ข้อมูล\n",
    "principal_components = pca.fit_transform(df_scaled)\n",
    "\n",
    "# สร้าง DataFrame ใหม่สำหรับผลลัพธ์จาก PCA\n",
    "df_pca = pd.DataFrame(\n",
    "    data=principal_components,\n",
    "    columns=['PC1', 'PC2']\n",
    ")\n",
    "\n",
    "# เพิ่มข้อมูลชื่อเมาส์และยี่ห้อกลับเข้าไปเพื่อใช้วิเคราะห์\n",
    "df_pca['Model'] = df['Model']\n",
    "df_pca['Brand'] = df['Brand']\n",
    "\n",
    "print(\"\\nผลลัพธ์จากการทำ PCA 5 แถวแรก:\")\n",
    "df_pca.head()\n",
    "\n",
    "\n",
    "\n"
   ]
  },
  {
   "cell_type": "code",
   "execution_count": 51,
   "id": "65ed399e",
   "metadata": {},
   "outputs": [
    {
     "data": {
      "application/vnd.plotly.v1+json": {
       "config": {
        "plotlyServerURL": "https://plot.ly"
       },
       "data": [
        {
         "hovertemplate": "<b>%{hovertext}</b><br><br>Brand=AJAZZ<br>แกนคุณลักษณะหลักที่ 1 (PC1)=%{x}<br>แกนคุณลักษณะหลักที่ 2 (PC2)=%{y}<extra></extra>",
         "hovertext": [
          "T520 Max",
          "T520",
          "AJ179 V2 Max",
          "AJ179 V2",
          "AM3 Max",
          "AM3 Pro",
          "AJ179 APEX",
          "AJ179 PRO",
          "AJ179P",
          "AJ179",
          "M259",
          "AJ159APEX",
          "AJ159 PRO",
          "AJ159P",
          "AJ159",
          "AJ199 MC",
          "AJ199 Pro 4K",
          "AJ199 4K",
          "AJ139 Pro 4K",
          "AJ099",
          "AJ139 Pro",
          "AJ199"
         ],
         "legendgroup": "AJAZZ",
         "marker": {
          "color": "#636efa",
          "symbol": "circle"
         },
         "mode": "markers",
         "name": "AJAZZ",
         "showlegend": true,
         "type": "scattergl",
         "x": {
          "bdata": "Dd0iRbb07b/eUolOB5XovzBqwxvxsfg/R/WmU0Qj9j+rBKdXYUwEwKsEp1dhTATA1IUukUL8sD+1iXps7vHVP9JHjbDIguk/0keNsMiC6T8JCbqvwKPuP+Wc2G5/EP6/1eLM/Mej+b9Z4aQ/317yv1nhpD/fXvK/0muea31f8b+/6znCgyHYP6Mokumie/K/wn7PexDZ6r+6fO8rsszmv7Xn2whdRem/t/wqNv5a8b8=",
          "dtype": "f8"
         },
         "xaxis": "x",
         "y": {
          "bdata": "MZSy53n/0L+xG1p2+Nblv2qN5XDsaek/HwOhl+TB7j+UwOf+bEzGP5TA5/5sTMY/2tWaxNcW/j87tIA+Ken0PxPqlNAjfOc/E+qU0CN85z8kRSOZQ5rhP9Is70bYHPA/yixUA6e82z/9nwmrbN/Bv/2fCats38G/qOlX2lEo2r8U++4QHOfoP5Ll3uHKJ8O/rRhPojgdxz+7Dfa5qYrev9UmTTvfP7k/fQC2fOkX0L8=",
          "dtype": "f8"
         },
         "yaxis": "y"
        },
        {
         "hovertemplate": "<b>%{hovertext}</b><br><br>Brand=MCHOSE<br>แกนคุณลักษณะหลักที่ 1 (PC1)=%{x}<br>แกนคุณลักษณะหลักที่ 2 (PC2)=%{y}<extra></extra>",
         "hovertext": [
          "G3 V2 Pro",
          "G3 V2",
          "G3 A",
          "A5 V2 Ultra",
          "L7 Ultra+",
          "L7 Pro+",
          "K7 Ultra",
          "G7 Max",
          "G7 Pro",
          "G7",
          "M7 Ultra",
          "AX5 V2",
          "L7 Ultra",
          "L7 Pro",
          "L7",
          "A7 Ultra",
          "A7 Pro",
          "A7",
          "M7 Pro",
          "M7",
          "G3 Ultra",
          "G3 Max",
          "G3 Pro",
          "G3",
          "G3 SE",
          "A5 Ultra",
          "AX5 Pro Max",
          "AX5 Pro",
          "AX5",
          "A5 Pro Max",
          "A5 Pro",
          "A5"
         ],
         "legendgroup": "MCHOSE",
         "marker": {
          "color": "#EF553B",
          "symbol": "circle"
         },
         "mode": "markers",
         "name": "MCHOSE",
         "showlegend": true,
         "type": "scattergl",
         "x": {
          "bdata": "ICE4pSCW8b+lvNtCAG7rv5h/mVFac+e/GpbfE49v+r9HVYAxRwUAwNeRnzLPzPy/6ZhB+4N+87/ceZD7FVz4P2ubfo6kNf4/El9Bng/AAUAcVAk8PVT2vypQ64VG3P6/VFvigtvsBcBLftzJf7YDwEt+3Ml/tgPAFUGzQctH9b8Fh6fPE9vwv3JTY8m1//G/C5r9yYXn8b9cRpBqoKryvxcEv2m23fa/FwS/abbd9r8FG0tAQzDxv5h/mVFac+e/cLABeUWi6r+0nH4lknP4v5RhWRAo1fq/T4VCpMet9r85symWK0T4vzebVmipLvG/N5tWaKku8b+o/cNddF/yvw==",
          "dtype": "f8"
         },
         "xaxis": "x",
         "y": {
          "bdata": "NtvWIRFc0L9xKJn7+T3ovyJ2alTg2ey/2F8/Mbys4T9HfSRi2yn1P8gYNNGGr+o/Dcv4Faqr+D/XQQ9rf1gBQODo/Lue8vo/D2eRyu598T9/nf/RExT4P4vRuZ4MBPI/z+Vg8zQ58j9fiI3aDBfiP1+IjdoMF+I/FG4+obsP9z/omEg2GsTrP/dL0LUCSe4/wPfKl8rM7T90L6dDznrvP2EMvwr/MMY/YQy/Cv8wxj+vYPfeBjTSvyJ2alTg2ey/Lmsp2vQp6b+vgs5Nqi7aP70yhGZql+I/T2eMLA060D+A/rLWfo/XPy30FBZm+8S/LfQUFmb7xL/PIrYtd/azvw==",
          "dtype": "f8"
         },
         "yaxis": "y"
        },
        {
         "hovertemplate": "<b>%{hovertext}</b><br><br>Brand=G-Wolves<br>แกนคุณลักษณะหลักที่ 1 (PC1)=%{x}<br>แกนคุณลักษณะหลักที่ 2 (PC2)=%{y}<extra></extra>",
         "hovertext": [
          "Fenrir Pro 8K",
          "HTX Ultra 8K",
          "VUK",
          "HTM Plus 8K",
          "HT-S2 Pro 8K",
          "Fenrir Max 8K",
          "Fenrir Asym 8K",
          "HTS Ultra 8K",
          "HTX Mini 8K",
          "HTS Plus 8K",
          "HTR Pro 8K",
          "HT-S2 8K",
          "HTR 8K",
          "HTS Ace Wireless",
          "HTM Ace",
          "HSK Plus 4K",
          "HSK Plus Lite",
          "HTX 4K",
          "HTX Ace",
          "HSK Pro 4K",
          "HSK Pro Ace",
          "HTS Plus 4K",
          "HTS",
          "HTS Wireless",
          "HSK",
          "HSK Plus",
          "HTS Plus",
          "HTM Wireless",
          "HTM",
          "Skoll Mini",
          "Skoll"
         ],
         "legendgroup": "G-Wolves",
         "marker": {
          "color": "#00cc96",
          "symbol": "circle"
         },
         "mode": "markers",
         "name": "G-Wolves",
         "showlegend": true,
         "type": "scattergl",
         "x": {
          "bdata": "ELPSpt+5E8B/817A9XsBwNHjN5bCyfy/xnJYCum9/b90XCRC5ecGwK4oGQ6V/xLAWJx/7vdPEsDQDf3mPbgDwK4/VJgZLAnAupCOdkxw/b/oJBQr1MsQwHG+m9AmjgXArfNcB37LD8DiW7Ap5rHxvzMi7CciqOG/SejoVnIvCsDMIv7IS8wHwKkSAeYTz/2/fhEP52Xm+799Zv/Kd8gSwBuICdGPmRLAa+jnzr5w9r+wWnUY8370vx2PbG9pufG/aNAWDRslDMD7xG0N5qgHwFTU+daNcfO/JIe8wj1o17++Mg4C8zzJv/SPSuvJAeA/y1/+TDcT/D8=",
          "dtype": "f8"
         },
         "xaxis": "x",
         "y": {
          "bdata": "i6Q7bTcD379Q1KKBjA/1P7lew2qbpfg/GuBQocM5+T9E5OlxdhHxP6uFqEbCHOa/08NP3NTn57+uGtNyZtzzP8geTSkYDOM/AeyMxibc6D8T0J38OC7Mvz6ATOjOh+Q/BRISkjcSwr+X/wBjX2Tjv/LmwPImVbQ/eZnr1IR07b8A2dZKSRn2v7sgJM5CCOA/YOtGxIEA1j83/8ynUCUAwCZsj1IpOgDAzI5wucUYwz/UoAltJ7rZv5qJkUbB0OG/Y06yWGkKAcAaezgzJKz2v9PTWZb9lrq/L5uLU3Ems79iYJi9YjPYvysEjpooLdc/dqIAZP164D8=",
          "dtype": "f8"
         },
         "yaxis": "y"
        },
        {
         "hovertemplate": "<b>%{hovertext}</b><br><br>Brand=Pulsar<br>แกนคุณลักษณะหลักที่ 1 (PC1)=%{x}<br>แกนคุณลักษณะหลักที่ 2 (PC2)=%{y}<extra></extra>",
         "hovertext": [
          "Susanto-X",
          "Pro Series JV-X",
          "Xlite CrazyLight",
          "X2F",
          "ZywOo The Chosen Mouse - Mini",
          "ZywOo The Chosen Mouse - Medium",
          "Xlite v4 eS Mini",
          "Xlite v4 eS Medium",
          "X2H v3 eS Mini",
          "X2H v3 eS",
          "TenZ Signature Edition",
          "X2A v3 eS Mini",
          "X2 v3 eS Mini",
          "X2 v3 Mini",
          "X2 CrazyLight",
          "X2H v3 Mini",
          "X2H v3",
          "X2A v3",
          "X2 v3",
          "Xlite v4 Large",
          "X2A Wired",
          "X2 Wired",
          "Feinmann F01",
          "Xlite v4 Medium",
          "Xlite v4 Mini",
          "Xlite Wired",
          "Xlite V2 Mini Wireless",
          "Xlite Wireless",
          "Xlite",
          "Xlite V2 Wireless",
          "X2H Wired",
          "X3",
          "X3 Mini",
          "X3 LHD",
          "X3 LHD Mini",
          "X2A eS",
          "X2H eS",
          "Xlite v3 Large",
          "Xlite v3 Mini",
          "Xlite v3 Medium",
          "Xlite v3 eS",
          "X2A Mini",
          "X2A",
          "X2H Mini",
          "X2H",
          "X2V2 Mini",
          "X2V2",
          "X2 Mini",
          "X2"
         ],
         "legendgroup": "Pulsar",
         "marker": {
          "color": "#ab63fa",
          "symbol": "circle"
         },
         "mode": "markers",
         "name": "Pulsar",
         "showlegend": true,
         "type": "scattergl",
         "x": {
          "bdata": "JnQKPpn//L+nWE7s51Klv5tMzxBV2d6/ou7W/P7FDsAUM0/rl2qeP1IuW3of++U/ye27NhrYcD+//1MN2bfqP7Q6O5EuCPq/8YgM1CMc8r8euxYzAmf4v1DdEkrGtPy/WQg9QQ2//r9mc/P/WAEBwNtRnb79RATAGrE2gg9A/7+ESbppOrz2vzWZoN2Vhvm/qcsEhzUa+79+o385QAbzP48+DUDQ/fC/oX3K01f28r+ziY5xLqRMvw6SBlGo+98/P73JG3x5y7+EooP5NC/wPxVsQASUreE/qAmHBaqO8z8mr8sJda7vP6gJhwWqjvM/B1qA9csn7b/AX9SZAADtPw1zmegkess/wF/UmQAA7T8Nc5noJHrLPxKcrxbyIvO/UJOzrmSb8b+/CmzB7fP7P2m+zBH4+dU/aUCD7UhL8T9Ky9yiYgnuP1CQpRgyc/e/8jG0VeiY8L8gaJlxn+v1v755qarA1+q/in/6dwQV+b9mZBj/hyzyv7tDJeCPrPi/jz4NQND98L8=",
          "dtype": "f8"
         },
         "xaxis": "x",
         "y": {
          "bdata": "6TjuLtVi7D9C8Pwvb2P3PyARupIas/s/WFsjLmB8578RvOfmtID3P6uhd/ROov0/l44+1XDr8j/WcVfp0+r7P9cpyllRutI/dGQCs1FE5z9tJSwRZlD0P1kMIKjDM8I/gLpEOKnP0j9Pun8fdCzhPzU6HZPZWvA/dvqxqXuR5T8ZCiOj8MzwP2MlQCkUGec/M57Mrli26j84OM20XaECQDJAzWXEgKO/BhiWBEtkuj/Esw8+wy3+Pzolw2VDa/8/7iK2nePe9j/ffrbTJJjzPw+qDiMvmtc/NU9HmNgz6T9OKKELZpLwPzVPR5jYM+k/bd738Lk01D++B6dTqK8BQMaw6dZT3f0/vgenU6ivAUDGsOnWU939P/WGHNAOfMU/Lbc/s3L34j+hZBqhgqb4P0AubKpVheQ/sWYJgn1q8j86pQ13snn4P6gXXmaa3Ne/u5H/Pev6sL8SRcY5LF3CvxcNrE7kE84/m7oA4/oX0L+Dacjccd6nP98R2MMiCdK/MkDNZcSAo78=",
          "dtype": "f8"
         },
         "yaxis": "y"
        },
        {
         "hovertemplate": "<b>%{hovertext}</b><br><br>Brand=Dark<br>แกนคุณลักษณะหลักที่ 1 (PC1)=%{x}<br>แกนคุณลักษณะหลักที่ 2 (PC2)=%{y}<extra></extra>",
         "hovertext": [
          "Project Novus Pro",
          "Project Novus",
          "Project Novus SE",
          "Project Nexus Ultra",
          "Project Nexus"
         ],
         "legendgroup": "Dark",
         "marker": {
          "color": "#FFA15A",
          "symbol": "circle"
         },
         "mode": "markers",
         "name": "Dark",
         "showlegend": true,
         "type": "scattergl",
         "x": {
          "bdata": "E2e6FNlz9L9S3foIlCjqvy7LJK/gXeq/71isHD2N879+Vuj4TnXrvw==",
          "dtype": "f8"
         },
         "xaxis": "x",
         "y": {
          "bdata": "yko6wJFB8j/gdyYjUkfiPy4XCNT0LOI/h5pgMmuR9D+2Bp9EDCToPw==",
          "dtype": "f8"
         },
         "yaxis": "y"
        },
        {
         "hovertemplate": "<b>%{hovertext}</b><br><br>Brand=Chaos<br>แกนคุณลักษณะหลักที่ 1 (PC1)=%{x}<br>แกนคุณลักษณะหลักที่ 2 (PC2)=%{y}<extra></extra>",
         "hovertext": [
          "M3 Mini"
         ],
         "legendgroup": "Chaos",
         "marker": {
          "color": "#19d3f3",
          "symbol": "circle"
         },
         "mode": "markers",
         "name": "Chaos",
         "showlegend": true,
         "type": "scattergl",
         "x": {
          "bdata": "e6q0wM8W/78=",
          "dtype": "f8"
         },
         "xaxis": "x",
         "y": {
          "bdata": "22HLxIkA6D8=",
          "dtype": "f8"
         },
         "yaxis": "y"
        },
        {
         "hovertemplate": "<b>%{hovertext}</b><br><br>Brand=Attack<br>แกนคุณลักษณะหลักที่ 1 (PC1)=%{x}<br>แกนคุณลักษณะหลักที่ 2 (PC2)=%{y}<extra></extra>",
         "hovertext": [
          "Shark V5",
          "Shark R11 Ultra",
          "Shark X8 Ultra",
          "Shark X11 SE",
          "Shark X8 SE",
          "Shark X8 Pro",
          "Shark X8 Plus",
          "Shark G3 Pro",
          "Shark G3",
          "Shark X1",
          "Shark R5 Ultra",
          "Shark R6",
          "Shark X3 Max",
          "Shark R2",
          "Shark X11",
          "Shark R3",
          "Shark R1",
          "Shark X3 Pro",
          "Shark X6",
          "Shark X3"
         ],
         "legendgroup": "Attack",
         "marker": {
          "color": "#FF6692",
          "symbol": "circle"
         },
         "mode": "markers",
         "name": "Attack",
         "showlegend": true,
         "type": "scattergl",
         "x": {
          "bdata": "bhhZLuXS+r/4sh0OuAH6vw4zwa2F7fa/JLMe4YuA17/Ad9kONOrlv8y7f7/uX/a/nXSvBAw27r84K09d/WbyvzgrT139ZvK/nhkcgm1A979/4ZV11ugDwE88tZhaJgTAaKyv4XP++L+Ag9Zi8EUBwGm8I0oIetG/eCyKHYPXAMDGObiErjbwP+gzlZUx5fe/X0DiLv359r9Z8qNvvJH0vw==",
          "dtype": "f8"
         },
         "xaxis": "x",
         "y": {
          "bdata": "OgK2kO9R9T/VXN4gIlj5Pw+zMZJdrfg/LzviKhcp0z+OwP418wbXP9tubsGnh/c/UF9w1iC57D8mLpJTXo/VvyYuklNej9W/z3i/2q/54D82faF1ujj2P5n1n8A2//U/bFmb8IY95z9rFuoM3Ir1P/RsTC8lO8k/eJtg9Zc+4T8FCjo+bYjhP0zftbKJWtw/+YV6J389lb+/WJyRp4jDPw==",
          "dtype": "f8"
         },
         "yaxis": "y"
        },
        {
         "hovertemplate": "<b>%{hovertext}</b><br><br>Brand=LAMZU<br>แกนคุณลักษณะหลักที่ 1 (PC1)=%{x}<br>แกนคุณลักษณะหลักที่ 2 (PC2)=%{y}<extra></extra>",
         "hovertext": [
          "MAYA Champion Edition",
          "x REJECT Paro Reject Special Edition",
          "Paro Aurora",
          "x Aimlabs MAYA X",
          "Inca",
          "Tachi",
          "MAYA X",
          "x Fnatic MAYA X 8K",
          "x Fnatic MAYA 8K",
          "Paro",
          "Atlantis Mini Champion",
          "MAYA 4K",
          "x Fnatic Thorn 4K",
          "Thorn 4K",
          "Atlantis Mini 4K",
          "Atlantis Mini Pro",
          "Atlantis OG V2 4K",
          "Atlantis OG V2 Pro",
          "MAYA",
          "Atlantis OG V2",
          "Thorn",
          "Atlantis Mini",
          "Atlantis"
         ],
         "legendgroup": "LAMZU",
         "marker": {
          "color": "#B6E880",
          "symbol": "circle"
         },
         "mode": "markers",
         "name": "LAMZU",
         "showlegend": true,
         "type": "scattergl",
         "x": {
          "bdata": "CO6G7y6F/78nziH2tymsvyfOIfa3Kay/PGQwthV79b90E0ZuMmn7v9yGJ0I+IPy/PGQwthV79b9tpexQfj32vwjuhu8uhf+/ZwnwaA7wjD+rXAX2Ym7+vzwj7aagQvq/hv0XFWbF4D+G/RcVZsXgP0s+lAt7+fm/FxmDuvLb9r+faifh0CXuvzQgBT/A6ue/CP7bVRgl9780IAU/wOrnv/BHOrd2AOc/sfedeGLs9L80IAU/wOrnvw==",
          "dtype": "f8"
         },
         "xaxis": "x",
         "y": {
          "bdata": "G8Af4Jzf7D8rIrE8Fon6PysisTwWifo/Bcvb3I1b9T8hXYh5c/r1P5uO0pIxCOw/Bcvb3I1b9T9SrUfY3jD2PxvAH+Cc3+w/w5kqm6o9+D/yLSIiW23jP29gqZnDnNs/rxEIfTh18z+vEQh9OHXzP8j0BTGx9cg/1iHQ/ujlqb9mkLnLVTfgPyoiFt8Vt9A/ncOYwlvKxz8qIhbfFbfQPxCk4R2mDu8/EL+Hiq5M078qIhbfFbfQPw==",
          "dtype": "f8"
         },
         "yaxis": "y"
        },
        {
         "hovertemplate": "<b>%{hovertext}</b><br><br>Brand=ATK<br>แกนคุณลักษณะหลักที่ 1 (PC1)=%{x}<br>แกนคุณลักษณะหลักที่ 2 (PC2)=%{y}<extra></extra>",
         "hovertext": [
          "U2 Mini",
          "Duckbill",
          "X1 S",
          "X1 SE",
          "U2 Ultimate",
          "U2 Ultra",
          "U2 Pro Max",
          "U2 Pro",
          "U2 Plus",
          "U2",
          "U2 SE",
          "A9 Pro Max",
          "A9 Ultra",
          "A9 Pro",
          "A9 Plus",
          "A9 SE",
          "A9",
          "X1",
          "Fierce X",
          "F1 Extreme",
          "X1 Ultimate",
          "Z1 Ultra",
          "Z1 Pro Max",
          "X1 Ultra",
          "X1 Pro Max",
          "X1 Pro",
          "F1 Ultimate",
          "F1 Pro Max",
          "F1 Pro"
         ],
         "legendgroup": "ATK",
         "marker": {
          "color": "#FF97FF",
          "symbol": "circle"
         },
         "mode": "markers",
         "name": "ATK",
         "showlegend": true,
         "type": "scattergl",
         "x": {
          "bdata": "bv0ct3HSAMBZk4r+96MBwPKW7hX55+K/xbnFR4P23L/69mdKpZ35v5tdDrm13vm/oUcPLSHl8r9SCccRwxr3v0qMzt9wQOe/3HZoNgrY67/cdmg2Ctjrv8EQG//8wfC/sCRFiWez9r+fajkXsEbyv4oe5oMo+uK/VZkcWZuK3L9G0iK0jgPmv/VMH0jluPC/Q+CevTfeA8Bp5i69RcYCwG3WrtqWR/a/ekSnOsL92j/JbdyyatDgPwYHK7qcJfW/P6Fm79d887/r+ux6I2D1v7Tki9SzLgLAAVY7mRP4/b8FsVpLT/H/vw==",
          "dtype": "f8"
         },
         "xaxis": "x",
         "y": {
          "bdata": "P6ms7MHK9j+MB/K0gsLzPzkbImfc/uA/aOYfhLdEzz+CutzNown6P+9i/DURt/g/FUy76cah7D/uDSwihPryP1+bnXowl9Q/xWYxxnfD3j/FZjHGd8PeP1y1rI3mSu4/EK7ginr9+T9vjMYEzM/wP/JtgMJv6dc/KQuksQHRmL/7NEG60pLeP9BMx4mFqvE/yV+ZvmS78z/F63XfQcX6P2mNHkszFPw/iBHFRW4LAkA5K6CM3VIAQG5u4Q802Po/0qGXnRJn9z901VIAvHX5P5oCU2hBafk/U5F9GR6I8D/yFQ3gHszyPw==",
          "dtype": "f8"
         },
         "yaxis": "y"
        },
        {
         "hovertemplate": "<b>%{hovertext}</b><br><br>Brand=INZONE<br>แกนคุณลักษณะหลักที่ 1 (PC1)=%{x}<br>แกนคุณลักษณะหลักที่ 2 (PC2)=%{y}<extra></extra>",
         "hovertext": [
          "Mouse-A"
         ],
         "legendgroup": "INZONE",
         "marker": {
          "color": "#FECB52",
          "symbol": "circle"
         },
         "mode": "markers",
         "name": "INZONE",
         "showlegend": true,
         "type": "scattergl",
         "x": {
          "bdata": "A7df6Kqi978=",
          "dtype": "f8"
         },
         "xaxis": "x",
         "y": {
          "bdata": "JJAv5qUu8j8=",
          "dtype": "f8"
         },
         "yaxis": "y"
        },
        {
         "hovertemplate": "<b>%{hovertext}</b><br><br>Brand=VAXEE<br>แกนคุณลักษณะหลักที่ 1 (PC1)=%{x}<br>แกนคุณลักษณะหลักที่ 2 (PC2)=%{y}<extra></extra>",
         "hovertext": [
          "ZYGEN NP-01S Ergo",
          "XE v2",
          "ZYGEN NP-01S v2",
          "x Ninjutso Sora 4K",
          "E1 Wireless 4K",
          "XE-S L Wireless 4K",
          "XE-S Wireless 4K",
          "ZYGEN NP-01 Wireless 4K",
          "ZYGEN NP-01S Wireless 4K",
          "XE Wireless 4K",
          "OUTSET AX Wireless 4K",
          "OUTSET AX Wireless",
          "ZYGEN NP-01S Wireless",
          "ZYGEN NP-01S",
          "XE Wireless",
          "XE",
          "OUTSET AX",
          "ZYGEN NP-01"
         ],
         "legendgroup": "VAXEE",
         "marker": {
          "color": "#636efa",
          "symbol": "circle"
         },
         "mode": "markers",
         "name": "VAXEE",
         "showlegend": true,
         "type": "scattergl",
         "x": {
          "bdata": "6wBZQ+xZ1b8E5wYUAVfWv1fj9iagoeC/SucuVLu+5r/bII0hea7yP+aCbZ6gBO6/5oJtnqAE7r94w5EVYmXSP5du4559es+/bwrisZ1/rD9NOxwu5Gv4P4JgLX9sifs/pxNpWew4qr9kSqijcwWYPyTWgPoUBtA/n1H5EZt8oj8BOnmDD6n8P3RYFWcs9+A/",
          "dtype": "f8"
         },
         "xaxis": "x",
         "y": {
          "bdata": "wEoMCOiz4b8u8kF8oePTvxFAvBxeeOS/Aui/bIzX5L9n1Wv4n7jKP4sUVpk7bu6/ixRWmTtu7r9P4GIMVwHnvztKIiv0oO6/7Cg568w16L/WXTCA1v+vv1sKY4iQt9O/xmSog18+87+F2uSc/6D0vx7Us+PLCPC/GLw8ZDCE6L846MyhypDYv0Rzj3l5SfC/",
          "dtype": "f8"
         },
         "yaxis": "y"
        },
        {
         "hovertemplate": "<b>%{hovertext}</b><br><br>Brand=Ausdom<br>แกนคุณลักษณะหลักที่ 1 (PC1)=%{x}<br>แกนคุณลักษณะหลักที่ 2 (PC2)=%{y}<extra></extra>",
         "hovertext": [
          "G04 Ultra",
          "G04 Pro",
          "G04 Air"
         ],
         "legendgroup": "Ausdom",
         "marker": {
          "color": "#EF553B",
          "symbol": "circle"
         },
         "mode": "markers",
         "name": "Ausdom",
         "showlegend": true,
         "type": "scattergl",
         "x": {
          "bdata": "W+g27R25tb8U0D38ukyTP/XiY6RuSN4/",
          "dtype": "f8"
         },
         "xaxis": "x",
         "y": {
          "bdata": "J42jbteA/T+KwFn8tQ/6P1eBI6ae5PA/",
          "dtype": "f8"
         },
         "yaxis": "y"
        },
        {
         "hovertemplate": "<b>%{hovertext}</b><br><br>Brand=Rapoo<br>แกนคุณลักษณะหลักที่ 1 (PC1)=%{x}<br>แกนคุณลักษณะหลักที่ 2 (PC2)=%{y}<extra></extra>",
         "hovertext": [
          "VT2 Max",
          "VT2",
          "VT3S Max Gen-2",
          "VT3S Gen-2",
          "VT3 Max Gen-2",
          "VT3 Gen-2",
          "MT760 Mini",
          "MT760 Pro",
          "MT760",
          "VT7 Max",
          "VT7",
          "VT9 Pro 4K",
          "VT3 Pro Max",
          "VT3 Pro",
          "VT1 Pro Max",
          "VT1 Air Max",
          "VT1 Pro",
          "VT3S (Old)",
          "VT900",
          "VT9 Air",
          "VT9 Pro Mini",
          "VT9 Pro",
          "VT9S",
          "VT960 Pro"
         ],
         "legendgroup": "Rapoo",
         "marker": {
          "color": "#00cc96",
          "symbol": "circle"
         },
         "mode": "markers",
         "name": "Rapoo",
         "showlegend": true,
         "type": "scattergl",
         "x": {
          "bdata": "kFrUg1A6+L+ebWasNvnyv9eIoZ+2BdI/50KtEW5y1j+qjb0QdHLpP7Jqw8nPqOs/Lvgj99iUDkDOKKDCh3oVQBPFSXJNsxVA7BOAt0/l8b9oJf3aIcrwvzIvgeBGjNq/p2TvAoLj4j+vQfW73RnlP1NXzRzm8/m/f8qNNieI/b/PaEpAuNj4vyNEf4dXqs4/ql7eFUgJEEDTxJUMkFf0v5sq6dHlsuu/vDR5OEsszL+1ASwDTwasv+7A6kLXLMu/",
          "dtype": "f8"
         },
         "xaxis": "x",
         "y": {
          "bdata": "nhPNTBiO+z+xC44N2afwP8MOmui3QP4/XIYTR0z1+z+Norgq0RgBQLO86rM25v8/nR3lHUt4E8D1rqcrXSAOwHpFBMGx+Q/AC0wifBCT9D+kw5vapEfyP0+BOJHlKdc/ij1g5fWK+z8jtdlDij/5Pyno+5jK998/homKdCRF6D+JxuESHMrWP2cLMrAOm8S/goBdRhOD1b9hmI51Y5jhPzc251O6Kq0/xQpuYz/JvT8ZzkMYPGiwv0mQFAFSlJO/",
          "dtype": "f8"
         },
         "yaxis": "y"
        },
        {
         "hovertemplate": "<b>%{hovertext}</b><br><br>Brand=Freewolf<br>แกนคุณลักษณะหลักที่ 1 (PC1)=%{x}<br>แกนคุณลักษณะหลักที่ 2 (PC2)=%{y}<extra></extra>",
         "hovertext": [
          "A7",
          "A6"
         ],
         "legendgroup": "Freewolf",
         "marker": {
          "color": "#ab63fa",
          "symbol": "circle"
         },
         "mode": "markers",
         "name": "Freewolf",
         "showlegend": true,
         "type": "scattergl",
         "x": {
          "bdata": "/Dz6pnTQ6z8FW6HR6LDyvw==",
          "dtype": "f8"
         },
         "xaxis": "x",
         "y": {
          "bdata": "X++8yegA4z+97W0dc53bvw==",
          "dtype": "f8"
         },
         "yaxis": "y"
        },
        {
         "hovertemplate": "<b>%{hovertext}</b><br><br>Brand=Microsoft<br>แกนคุณลักษณะหลักที่ 1 (PC1)=%{x}<br>แกนคุณลักษณะหลักที่ 2 (PC2)=%{y}<extra></extra>",
         "hovertext": [
          "Comfort Mouse 4500",
          "Wheel Mouse Optical",
          "Sidewinder X8",
          "Classic IntelliMouse",
          "Pro IntelliMouse"
         ],
         "legendgroup": "Microsoft",
         "marker": {
          "color": "#FFA15A",
          "symbol": "circle"
         },
         "mode": "markers",
         "name": "Microsoft",
         "showlegend": true,
         "type": "scattergl",
         "x": {
          "bdata": "K0Jj8zAC+j9MLWbeos/2P2y5F2tfZxNArOWTC/XtCED8LqL7MMMIQA==",
          "dtype": "f8"
         },
         "xaxis": "x",
         "y": {
          "bdata": "Ss7M2YwWA8DIWKcFaZEXwKUKT3fclem/vdFH+1VSwb/VgDds7BS/Pw==",
          "dtype": "f8"
         },
         "yaxis": "y"
        },
        {
         "hovertemplate": "<b>%{hovertext}</b><br><br>Brand=HyperX<br>แกนคุณลักษณะหลักที่ 1 (PC1)=%{x}<br>แกนคุณลักษณะหลักที่ 2 (PC2)=%{y}<extra></extra>",
         "hovertext": [
          "Pulsefire Fuse",
          "Pulsefire Haste 2 S",
          "Pulsefire Saga Pro",
          "Pulsefire Haste 2 Pro",
          "Pulsefire Warp",
          "Pulsefire Haste 2 Core Wireless",
          "Pulsefire Surge",
          "Pulsefire Haste 2 Mini",
          "Pulsefire Haste 2 Wireless",
          "Pulsefire Haste 2 Wired",
          "Pulsefire Raid",
          "Pulsefire Dart",
          "Pulsefire FPS Pro",
          "Pulsefire Core",
          "Pulsefire Haste",
          "Pulsefire Haste Wireless"
         ],
         "legendgroup": "HyperX",
         "marker": {
          "color": "#19d3f3",
          "symbol": "circle"
         },
         "mode": "markers",
         "name": "HyperX",
         "showlegend": true,
         "type": "scattergl",
         "x": {
          "bdata": "IF+JzHvimz/4JMWfGxXav9YccmjMnO8/0FNxzY5R5r+zvW4hKj/Sv6qvDGfjArK/eMiMpbrJ2j84iAuFVtr0v2YJTyt+FuC/Gf07Lhhc8r9uyVC9L40IQFYjPFcnhgtActYL/ZRwBUCEPUWuFdHXPxv9Nucpo9a/G/025ymj1r8=",
          "dtype": "f8"
         },
         "xaxis": "x",
         "y": {
          "bdata": "v7TKG4Xi5L9+MzFzfcTAPytcMj3GYOQ/m0dLHpHP3j8qcyA7kEzpvyuLGMhgc96/f4AqWw4y9b8beSBUjszcv/aR3Mv2L84/D6nchfRL8D+xCJIy73HdP93gNR1itMk/48yZ+HJ7zz9DKZL0o/DzvwN99vgms7i/A332+CazuL8=",
          "dtype": "f8"
         },
         "yaxis": "y"
        },
        {
         "hovertemplate": "<b>%{hovertext}</b><br><br>Brand=Darmoshark<br>แกนคุณลักษณะหลักที่ 1 (PC1)=%{x}<br>แกนคุณลักษณะหลักที่ 2 (PC2)=%{y}<extra></extra>",
         "hovertext": [
          "M2 Air",
          "M5 Air",
          "N3 Pro",
          "M3 Micro Pro",
          "N7 Max",
          "N7",
          "M3 XS Pro",
          "M2 Pro",
          "M3S MAX",
          "M5 Pro",
          "M3 Pro Max",
          "N5",
          "M3 XS",
          "M2",
          "M5",
          "M3 Micro",
          "M3S Pro",
          "M3 Pro",
          "M3S",
          "M3 4K",
          "N3",
          "M3"
         ],
         "legendgroup": "Darmoshark",
         "marker": {
          "color": "#FF6692",
          "symbol": "circle"
         },
         "mode": "markers",
         "name": "Darmoshark",
         "showlegend": true,
         "type": "scattergl",
         "x": {
          "bdata": "V9k3wZ5TBMCunrEX+6MOwEcd77LVreI/zBoXfj9zC8AJjPpkUXfOPyF5m67nOdU/SoffaNI9A8DTz3kOWA0EwGd1SFBVVfq/0LwVVgL/DMBwC/vquSzvvzq3knvDfuI/5aGSRIucAMCfymxSCKEBwGrXyDG7XQrAiqPVj6jlCsBKitCvnkn0v31U14DRaeK/JhzFee418r/UAjHpAYPUv4nO0+p18+4/s62gd0oJ2L8=",
          "dtype": "f8"
         },
         "xaxis": "x",
         "y": {
          "bdata": "iCIXy8dQ5T+dZbtG/GnBv2wvZSGKSvQ/pjiTT1IM1b8frb8e9yD+PxqOw5Qcg/w/6KhebGzg4T/r/cJJkujlP0QgVChdaOs/BxoiaESC2r+884E4IOX2P/QDr+HQvPg/HMicyIp5tj+E7UCeaVzPP+ccXEddUuy/RVqt1QA63r9zI/uXXBfVP0j+cNv/T+w/wUh6j/E5xT+uAo8Gsa7kP9MJv2F4t+g/dCUKccip5D8=",
          "dtype": "f8"
         },
         "yaxis": "y"
        },
        {
         "hovertemplate": "<b>%{hovertext}</b><br><br>Brand=Flickshot<br>แกนคุณลักษณะหลักที่ 1 (PC1)=%{x}<br>แกนคุณลักษณะหลักที่ 2 (PC2)=%{y}<extra></extra>",
         "hovertext": [
          "One Pro"
         ],
         "legendgroup": "Flickshot",
         "marker": {
          "color": "#B6E880",
          "symbol": "circle"
         },
         "mode": "markers",
         "name": "Flickshot",
         "showlegend": true,
         "type": "scattergl",
         "x": {
          "bdata": "8OrL6g45AcA=",
          "dtype": "f8"
         },
         "xaxis": "x",
         "y": {
          "bdata": "EPBB6FW19D8=",
          "dtype": "f8"
         },
         "yaxis": "y"
        },
        {
         "hovertemplate": "<b>%{hovertext}</b><br><br>Brand=Keychron<br>แกนคุณลักษณะหลักที่ 1 (PC1)=%{x}<br>แกนคุณลักษณะหลักที่ 2 (PC2)=%{y}<extra></extra>",
         "hovertext": [
          "M6 8K",
          "M6 Lite",
          "M4 8K",
          "M3 8K",
          "M3 Lite",
          "M2 8K",
          "M2 4K",
          "M6 4K",
          "M3 Mini 8K",
          "M5",
          "M7 8K",
          "Lemokey G2",
          "Lemokey G1",
          "M7",
          "M4",
          "M4 4K",
          "M6",
          "M3 Mini 4K - Metal Edition",
          "M2 Mini",
          "M3 Mini 4K",
          "M3 4K",
          "M3",
          "M2",
          "M1 Wireless",
          "M1 Wired",
          "M3 Mini"
         ],
         "legendgroup": "Keychron",
         "marker": {
          "color": "#FF97FF",
          "symbol": "circle"
         },
         "mode": "markers",
         "name": "Keychron",
         "showlegend": true,
         "type": "scattergl",
         "x": {
          "bdata": "xcRcK4gXBkArXhe6IzcMQHqwYnWWhxHAtGZgHoopyr/vS1KzC/ThP6ecPmQUEtQ/6eNSwyaO5D84FlGYWVwHQKZaV8rqoPW/ihVbCizIGEA9aknEwTn9P0lzmbT9RPy/NOJDk0nM/b8fLfou7MwCQPPo750h3w7Axz084/I2EMDTqNnAHesIQN9fu9mxyem/WWrKz+7/wT/aj72BXF7wv0ff20zQ1b8/pox7V5Vr1D9ULnVlN8nqPyvN9k5Jx8E/H7nj8vWAqz9K1VhhqIHqvw==",
          "dtype": "f8"
         },
         "xaxis": "x",
         "y": {
          "bdata": "kiTmLtFcAkAcpLiwJjvxP8yFy9p0//C/OMoSAJo76j+k/yi0uoLZvx9v9OZVi/s/LOdOXbgC9D+FIqi9B8L/Px55cLj+0ew/bACjjfxvEUBww+zt1dsBQG60iFuFreY/mW4onlm/4D9EvxzkKEH4P2ZNiNL3dfy/vg1xZBKI+L/d4pBPItT7P9DWLkE25sc/O8Rz9Axb4T900kpKh4HbP6Z0j9m9VNY/JdjJhKB0uj+Epzfv0hTwPwHipODrY4y/ZzxiF5nkt7+op9sj45PHPw==",
          "dtype": "f8"
         },
         "yaxis": "y"
        },
        {
         "hovertemplate": "<b>%{hovertext}</b><br><br>Brand=Endgame<br>แกนคุณลักษณะหลักที่ 1 (PC1)=%{x}<br>แกนคุณลักษณะหลักที่ 2 (PC2)=%{y}<extra></extra>",
         "hovertext": [
          "Gear XM2w 4k v2",
          "Gear XM2 8k v2",
          "Gear OP1 8k v2",
          "Gear OP1w 4k v2",
          "Gear OP1w 4k",
          "Gear XM2w 4k",
          "Gear XM2 8k",
          "Gear OP1 8k",
          "Gear OP1 8k Purple",
          "Gear OP1we",
          "Gear OP1 RGB",
          "Gear OP1",
          "Gear XM2we",
          "Gear XM2w",
          "Gear XM1",
          "Gear XM1 RGB",
          "Gear XM1r"
         ],
         "legendgroup": "Endgame",
         "marker": {
          "color": "#FECB52",
          "symbol": "circle"
         },
         "mode": "markers",
         "name": "Endgame",
         "showlegend": true,
         "type": "scattergl",
         "x": {
          "bdata": "WyKrtQX/6r84RLSlM331v8w9ABJ1lgDAqtIz7SNf+b8m5LAQ9kP4v9qv979uZui/9oraKugw9L9zPaLb6an/v/uVEtyLYgDAip26fd02879X7J6yLv33v/c7eh4BZfi/XO9fQY4P2797Onqk52bhv/aUtREU/8m/d/HEXkWutT8HlmOeE1HQvw==",
          "dtype": "f8"
         },
         "xaxis": "x",
         "y": {
          "bdata": "fkHLNGXm3j/YbE0/WTrxP8GUpwsP+eI/AsnC/Utncb+EWSJsl+bCv+JmGBNn3tQ/YmzBbbNw7T9k5XPwcNnaP4EDR7uPA+I/HPONbGmd5L/Fc0wS1nvHv8ouytDYpcO/EYlHjn47yb9Xsk8ckZGrP497Ea5ccN+/nGkxounz6b9W4n3JGY7Yvw==",
          "dtype": "f8"
         },
         "yaxis": "y"
        },
        {
         "hovertemplate": "<b>%{hovertext}</b><br><br>Brand=AULA<br>แกนคุณลักษณะหลักที่ 1 (PC1)=%{x}<br>แกนคุณลักษณะหลักที่ 2 (PC2)=%{y}<extra></extra>",
         "hovertext": [
          "SC360",
          "SC900 Pro",
          "SC900 Max",
          "SC620",
          "SC800",
          "SC580",
          "SC680"
         ],
         "legendgroup": "AULA",
         "marker": {
          "color": "#636efa",
          "symbol": "circle"
         },
         "mode": "markers",
         "name": "AULA",
         "showlegend": true,
         "type": "scattergl",
         "x": {
          "bdata": "rZqivMMg6b+EwCMQvEnzPwDSoDOOLvI/glHLyjWL8j9VvYbsM1j7v+l7hoLxLtC/Lh/6Z+Uw9L8=",
          "dtype": "f8"
         },
         "xaxis": "x",
         "y": {
          "bdata": "srtHsOb62b9zAdT97nz+P+5ErU8tZABA9It7EolioL/5mTUe9dPWP1QIFFPxMPe/3Ly6x0MH5z8=",
          "dtype": "f8"
         },
         "yaxis": "y"
        },
        {
         "hovertemplate": "<b>%{hovertext}</b><br><br>Brand=Incott<br>แกนคุณลักษณะหลักที่ 1 (PC1)=%{x}<br>แกนคุณลักษณะหลักที่ 2 (PC2)=%{y}<extra></extra>",
         "hovertext": [
          "039 Pro",
          "39",
          "039 SC",
          "029 Pro",
          "29",
          "029 SC",
          "G23 V2 Pro",
          "G23 V2",
          "G23 V2 SC",
          "G24 Pro",
          "G24",
          "G23 Pro",
          "G23",
          "GHERO Pro",
          "GHERO"
         ],
         "legendgroup": "Incott",
         "marker": {
          "color": "#EF553B",
          "symbol": "circle"
         },
         "mode": "markers",
         "name": "Incott",
         "showlegend": true,
         "type": "scattergl",
         "x": {
          "bdata": "D3w861mU878bUVFCPWrkv68rMII+KeW/LrPM9D3uAsB6+tNRq8r9v3r601Gryv2/aPyzIx9a9L+/bY099MP0v7aFJPs0JfW/qA58OZ8c5T88twqIhKTqP1qrW8CALvO/Y0UU7YWi4L8WWx7SVTDnv6Ln886p1eu/",
          "dtype": "f8"
         },
         "xaxis": "x",
         "y": {
          "bdata": "ObbWZm0w/z/dRKTqTCrwPyeHYhTSkPA/D8Itgp1V+D+fdkO6NurlP592Q7o26uU/evAFaLIJ9D+Qy3O2YWnzP2/kcHIo1PM/UkGdJVMSAEChLWo3GWj6P8YT572nzfY/DmXuasq12D8Xn6xWoVbnP2tqMa4mjuw/",
          "dtype": "f8"
         },
         "yaxis": "y"
        },
        {
         "hovertemplate": "<b>%{hovertext}</b><br><br>Brand=Razer<br>แกนคุณลักษณะหลักที่ 1 (PC1)=%{x}<br>แกนคุณลักษณะหลักที่ 2 (PC2)=%{y}<extra></extra>",
         "hovertext": [
          "DeathAdder V4 Pro",
          "Cobra HyperSpeed",
          "Pro Click V2",
          "Basilisk Mobile",
          "Pro Click V2 Vertical",
          "Imperator",
          "Abyssus Essential",
          "Basilisk V3 Pro 35K",
          "Basilisk V3 35K",
          "Viper Ultimate",
          "Pro Click",
          "DeathAdder V3 HyperSpeed",
          "DeathAdder Elite",
          "DeathAdder Chroma",
          "DeathAdder Expert",
          "Atheris",
          "Ouroboros",
          "Viper V3 Pro",
          "Pro Click Mini",
          "Naga Left-Handed",
          "Naga Trinity",
          "Mamba Wireless",
          "Mamba Elite",
          "Naga X",
          "Viper V3 HyperSpeed",
          "Naga Pro",
          "Viper 8KHz",
          "Viper",
          "Copperhead",
          "Viper V2 Pro",
          "DeathAdder Essential",
          "Cobra Pro",
          "Cobra",
          "DeathAdder V2 Mini",
          "DeathAdder V2 X HyperSpeed",
          "DeathAdder V2",
          "Basilisk V3 X HyperSpeed",
          "Naga V2 HyperSpeed",
          "Naga V2 Pro",
          "Basilisk Essential",
          "DeathAdder V3",
          "Basilisk V3",
          "Lancehead Wireless",
          "Lancehead",
          "Viper Mini Signature Edition",
          "Abyssus 2014",
          "Basilisk Ultimate",
          "Diamondback 2015",
          "Basilisk V2",
          "Krait 2013",
          "Basilisk X HyperSpeed",
          "Basilisk",
          "Basilisk V3 Pro",
          "DeathAdder V3 Pro",
          "Viper Mini",
          "DeathAdder V2 Pro",
          "Orochi V2"
         ],
         "legendgroup": "Razer",
         "marker": {
          "color": "#00cc96",
          "symbol": "circle"
         },
         "mode": "markers",
         "name": "Razer",
         "showlegend": true,
         "type": "scattergl",
         "x": {
          "bdata": "A0QE5h5E6j8beWop1ZP2v2hPY31X5QpAwEYAMVueAEAsFG0uqdQeQN6vSldKaA1AZPRwH2qp2j+1csSCdUMKQHVJY/tfVAhA7m3xMhyYs78GmgiGGMkPQJtWuBgXw9c/GU0rZsT6BkD7f43LJs8HQOkEYgiVTghA45APXxW597/9xitXDBX+P16VFMjZb/O/cZaO5koi7r9gOgDNk9kQQASv5UHDHxJAKxV1zX3mBUC+8q8eEOgDQFMgO4+Enw1ABWCe6U/Gib9ikqbiUJMRQF41Nd5PRuO/gAyQT9IxwL+MjEz3f20DQPo3sspfpem/rvNC3HCwBkCRtmj9jDLrvw+VLkjSGei/Cf5KmLw64T/lBH7Th+UGQMypKAfRSgJAJANJDTNDDECSlpZ6GMcNQFQ41gYGbRJAoIL8W9EuCkCAdObBWFvyP8mVdpPzkglAJgrrnyZt6D/ILDRl5cPtP0KmD0PHcvy/dq+jp50+2b/mxw23YXULQJsGqksBKr+/1EmJW0TSCEDDa8+7GSP1v/UoD8NEpgZAuGgZIzySCEDHR5YscvQKQOs5iNx/yvM/wHfIBjoD5b9JtZIk6V4DQAG2zk0oKvK/",
          "dtype": "f8"
         },
         "xaxis": "x",
         "y": {
          "bdata": "D8vMj7hwBkAkrfYzMjvVPyzih9M8H/0/mMMGbZX81D+5Bz1duEsOQDKIZNQlZ/W/DWM/uWuQGcDH//rEmBjvP6ogCN1CYfM/coJfL1Wx1L8DNdttsWnqP1gWf844Zfg/z9JllJYrhD+tBwgpUkbKv05VaMDfZdW/lSiUwgzNAsBVBFJHWLEAwJa9bFN9q/Y/PcJfJc9vB8BzTHLd0IblP0XmkO/DWtE/oaDXSw3twb9hM8mUMB++PzqOLJWGoPI/lp7sZJhMrb/1XUZx3AnfP0AEejPkBdU/4Ggj+pR31b8oyMMB4YMXwOXAIIVgl+U/zZQ2nvNVwL8P3Zaoz9XRv1ZcovkOKei/nocD/TFa47/p/P3hWk2QvwU2CKc5z+U/tcJrQHn42T8Gtb7Sm8H1P8Z0F4QNdNw/DUF1mD0ywz+ZZL7rEpcBQIHbMmMhb+w/W8mr5ilB9r/A2Vfg7DL5v9xzx6QLDew/3MDMfgFN/L9FBwhWul7hPz8bQz8hZfS/1xqCuxTS6z/cHBKGcj8HwNJUXft/z+o/lZjre3loxb/DqiqxC1zpP/8wJnoY3ABARw8CZ0rI6b9lMplWQmbhP6/vAq291fS/",
          "dtype": "f8"
         },
         "yaxis": "y"
        },
        {
         "hovertemplate": "<b>%{hovertext}</b><br><br>Brand=Ninjutso<br>แกนคุณลักษณะหลักที่ 1 (PC1)=%{x}<br>แกนคุณลักษณะหลักที่ 2 (PC2)=%{y}<extra></extra>",
         "hovertext": [
          "Ten Air",
          "Ten",
          "Sora V2",
          "Sora 4K",
          "Sora",
          "Origin One X",
          "Katana Ultralight",
          "Katana Superlight"
         ],
         "legendgroup": "Ninjutso",
         "marker": {
          "color": "#ab63fa",
          "symbol": "circle"
         },
         "mode": "markers",
         "name": "Ninjutso",
         "showlegend": true,
         "type": "scattergl",
         "x": {
          "bdata": "g5pVwT5p+L+FcZjin1f1v5xNDZ7Z8QHAXJy/11Bj9r8DN2Xqudf0v+pQcaUSguk/D6JXEJ0p6b90ZiFAGELpvw==",
          "dtype": "f8"
         },
         "xaxis": "x",
         "y": {
          "bdata": "tGe4ddSu9D9nATaMJUbxPyp5Aud3/uk/BINE0lMQ4D+r24U5QpPXP//U/BjmB+a/dVza7J200r/xXie6zL7Ovw==",
          "dtype": "f8"
         },
         "yaxis": "y"
        },
        {
         "hovertemplate": "<b>%{hovertext}</b><br><br>Brand=ASUS<br>แกนคุณลักษณะหลักที่ 1 (PC1)=%{x}<br>แกนคุณลักษณะหลักที่ 2 (PC2)=%{y}<extra></extra>",
         "hovertext": [
          "ROG Keris II Origin",
          "ROG Harpe II Ace",
          "ROG Gladius II Wireless",
          "ROG Harpe Ace Mini",
          "ROG Harpe Ace Extreme",
          "ProArt MD300",
          "TUF Gaming M3 Gen II",
          "TUF Gaming M3",
          "ROG Keris II Ace",
          "ROG Strix Impact III Wireless",
          "ROG Pugio",
          "ROG Strix Impact III",
          "ROG Harpe Ace",
          "ROG Spatha",
          "TUF M4 Air",
          "TUF M4 Wireless",
          "ROG Sica",
          "ROG Strix Carry",
          "ROG Strix Evolve",
          "ROG Strix Impact",
          "ROG Gladius II Origin",
          "ROG Gladius II",
          "ROG Gladius II Core",
          "ROG Keris",
          "ROG Keris Wireless",
          "ROG Strix Impact II",
          "ROG Strix Impact II Wireless",
          "ROG Gladius III",
          "ROG Gladius III Wireless",
          "ROG Spatha X",
          "ROG Chakram Core",
          "ROG Chakram",
          "ROG Chakram X"
         ],
         "legendgroup": "ASUS",
         "marker": {
          "color": "#FFA15A",
          "symbol": "circle"
         },
         "mode": "markers",
         "name": "ASUS",
         "showlegend": true,
         "type": "scattergl",
         "x": {
          "bdata": "CjKnUAfj4D87T58X+4v4vz5n82/R0wNA/V7XCS5PAcDSL3DGx4P4v44fuZDTVw9AYHrkehg+9j++K7EsnST9P8VPDaQdadE//cxhGKl36r8eC0ING0LpPwnHM8WEpOC/J0tzgBHe6b8fEFU88CMcQNqt9VyPZua/joA8sdoJ0z+NHDPbSwLbv0i9JFNi4ss/Yg7h7xBK7T9fxDYBMC3hP0Ec3leD+QdAizVKQQgeCUAW+7l2urgFQDuFTZALDvA/O4VNkAsO8D8aFZztFl7Gv83tP4ylbUo/IcVd9F3b/j/azZ0QMD4BQH621+dApxtAdnBHb5fPDECEgANm/pAQQMKK+yxwVBFA",
          "dtype": "f8"
         },
         "xaxis": "x",
         "y": {
          "bdata": "CR4CIyOG/z+Z32HWP0P8PzC5ih/KnNc/BeeG4x6G8T8q8upUnUD9Pykcqmj6MBbAu0SPbV7A0T8gOir941fjv0wLppDt8gFAo/XYxN8Atr++SZeC7Zb6v5ZnD4k0fNW/qjuCiTF66z8EN8RZkjHnP078sl4dXtA/ifdiZ4Mf7b8UEUGYxm3/vx11ugVYCv6/9+QPzOLv879iRJa/eJ8EwAGfUJeM5s2/BGhmr70iw7/GEZX0TUKqv4KRpVnebOO/gpGlWd5s479uu3qxvUj2v7We7c0x/fa/8Ee3sxrt6T+Dv9S0NmniP7aYxbOFe/A/ohrT0Zzw7D+J8oBT+njYP1bedo8p9fM/",
          "dtype": "f8"
         },
         "yaxis": "y"
        },
        {
         "hovertemplate": "<b>%{hovertext}</b><br><br>Brand=Finalmouse<br>แกนคุณลักษณะหลักที่ 1 (PC1)=%{x}<br>แกนคุณลักษณะหลักที่ 2 (PC2)=%{y}<extra></extra>",
         "hovertext": [
          "ULX Pro Series Tiger (L)",
          "ULX Pro Series Lion (M)",
          "ULX Pro Series Cheetah (S)",
          "ULX Prophecy Small",
          "ULX Prophecy Medium",
          "ULX Prophecy Classic",
          "ULX Competition Small",
          "ULX Competition Medium",
          "ULX Competition Classic",
          "UltralightX Cheetah (S)",
          "UltralightX Lion (M)",
          "UltralightX Tiger (L)",
          "Starlight-12 Small",
          "Starlight-12 Medium",
          "Ultralight 2",
          "Scream One",
          "Ultralight Pro Sunset",
          "Ultralight Pro",
          "Ultralight Phantom",
          "Air58"
         ],
         "legendgroup": "Finalmouse",
         "marker": {
          "color": "#19d3f3",
          "symbol": "circle"
         },
         "mode": "markers",
         "name": "Finalmouse",
         "showlegend": true,
         "type": "scattergl",
         "x": {
          "bdata": "o7Z7ofuV87+HfdcXSZL9v8HbHtFHnwPA7zNWnO0zA8Dc6/7OG8b8v7nQixc8NPO/7zNWnO0zA8Dc6/7OG8b8v7nQixc8NPO/wdse0UefA8CyNGtzMiz9v6O2e6H7lfO/K95mwZUf/79VJyAiCeH0v1yQcD8ycfe/dcS1YUEI3j/jSd1as8bBP+NJ3VqzxsE/40ndWrPGwT9+T/xif9Gyvw==",
          "dtype": "f8"
         },
         "xaxis": "x",
         "y": {
          "bdata": "vmTjwr3a5j9r0YRDRBDYP4/4OPC+WpU/5kn5Eusnpr9MymQ4/1vUP9b2fK/HAuY/5kn5Eusnpr9MymQ4/1vUP9b2fK/HAuY/j/g48L5alT/bzfS9ITbWP75k48K92uY/CcBOrmm02r9P0PqJu+u1vzyk1hjqC/S/x6jwqg4c8L9qMPwsz7Lkv2ow/CzPsuS/ajD8LM+y5L8V7RqTp5Xavw==",
          "dtype": "f8"
         },
         "yaxis": "y"
        },
        {
         "hovertemplate": "<b>%{hovertext}</b><br><br>Brand=Rampage<br>แกนคุณลักษณะหลักที่ 1 (PC1)=%{x}<br>แกนคุณลักษณะหลักที่ 2 (PC2)=%{y}<extra></extra>",
         "hovertext": [
          "Blitz Ultimate",
          "Zenith Pro",
          "Prote M5"
         ],
         "legendgroup": "Rampage",
         "marker": {
          "color": "#FF6692",
          "symbol": "circle"
         },
         "mode": "markers",
         "name": "Rampage",
         "showlegend": true,
         "type": "scattergl",
         "x": {
          "bdata": "lggDoaoKwr+u2gPfzBvpv6/7Z1n9k+6/",
          "dtype": "f8"
         },
         "xaxis": "x",
         "y": {
          "bdata": "fcFnzQyM9D9x5n0C7ybNPwvMgZOG2bu/",
          "dtype": "f8"
         },
         "yaxis": "y"
        },
        {
         "hovertemplate": "<b>%{hovertext}</b><br><br>Brand=Kysona<br>แกนคุณลักษณะหลักที่ 1 (PC1)=%{x}<br>แกนคุณลักษณะหลักที่ 2 (PC2)=%{y}<extra></extra>",
         "hovertext": [
          "Mercury Ultra",
          "Mercury Pro",
          "Mercury SE",
          "Jupiter Ultra",
          "Jupiter Pro",
          "Jupiter SE",
          "M660",
          "M600 V2",
          "Uranus Pro",
          "Uranus SE",
          "Mars SE",
          "M617",
          "M511",
          "Aztec",
          "M600"
         ],
         "legendgroup": "Kysona",
         "marker": {
          "color": "#B6E880",
          "symbol": "circle"
         },
         "mode": "markers",
         "name": "Kysona",
         "showlegend": true,
         "type": "scattergl",
         "x": {
          "bdata": "vtRQIbo3AMD3uh5mRlT/v1aOivhM5/e/lyOT/kTI878kAYo9vF7xv1U1kuPydea/mGRWLurw57++C131SXnxvzkTJW3cXNM/zsCGUQCc6z9ZwtefO1bzP+uUrbeKG/S/Xl+Tm2Wa2z++C131SXnxv74LXfVJefG/",
          "dtype": "f8"
         },
         "xaxis": "x",
         "y": {
          "bdata": "gcZNlRJm8D8zfI7nTTXsPyIfHU8N/NA/xCzi2y1g9z936pIzuh3zP5u3yVw8WeY/8GuXm7Y/4b8eA0NYd0J8PzJeai46B/Y/GDlQYKDp5D/VaxE0VifxP1Xgp50IWOg/kHCa2gJm4D8eA0NYd0J8Px4DQ1h3Qnw/",
          "dtype": "f8"
         },
         "yaxis": "y"
        },
        {
         "hovertemplate": "<b>%{hovertext}</b><br><br>Brand=Epomaker<br>แกนคุณลักษณะหลักที่ 1 (PC1)=%{x}<br>แกนคุณลักษณะหลักที่ 2 (PC2)=%{y}<extra></extra>",
         "hovertext": [
          "Click Lite",
          "Click"
         ],
         "legendgroup": "Epomaker",
         "marker": {
          "color": "#FF97FF",
          "symbol": "circle"
         },
         "mode": "markers",
         "name": "Epomaker",
         "showlegend": true,
         "type": "scattergl",
         "x": {
          "bdata": "1phUnbXb6b9PbklBr5D5vw==",
          "dtype": "f8"
         },
         "xaxis": "x",
         "y": {
          "bdata": "WmCmZeJrrL/jNfZeoQvzPw==",
          "dtype": "f8"
         },
         "yaxis": "y"
        },
        {
         "hovertemplate": "<b>%{hovertext}</b><br><br>Brand=Lofree<br>แกนคุณลักษณะหลักที่ 1 (PC1)=%{x}<br>แกนคุณลักษณะหลักที่ 2 (PC2)=%{y}<extra></extra>",
         "hovertext": [
          "Touch",
          "Hypace"
         ],
         "legendgroup": "Lofree",
         "marker": {
          "color": "#FECB52",
          "symbol": "circle"
         },
         "mode": "markers",
         "name": "Lofree",
         "showlegend": true,
         "type": "scattergl",
         "x": {
          "bdata": "+uXe2faLAkC1WOgXgmf/vw==",
          "dtype": "f8"
         },
         "xaxis": "x",
         "y": {
          "bdata": "cO9nSG8z+L/zEUQaRir1Pw==",
          "dtype": "f8"
         },
         "yaxis": "y"
        },
        {
         "hovertemplate": "<b>%{hovertext}</b><br><br>Brand=SteelSeries<br>แกนคุณลักษณะหลักที่ 1 (PC1)=%{x}<br>แกนคุณลักษณะหลักที่ 2 (PC2)=%{y}<extra></extra>",
         "hovertext": [
          "Kinzu V2 Pro",
          "Rival 3 Gen 2 Wireless",
          "Rival 3 Gen 2",
          "Kinzu V2",
          "Kana V2",
          "Rival 710",
          "Rival 300S",
          "Rival 500",
          "Sensei 310",
          "Rival 110",
          "Kinzu V3",
          "Rival 300",
          "Aerox 9 Wireless",
          "Aerox 5",
          "Aerox 5 Wireless",
          "Prime Mini",
          "Prime Mini Wireless",
          "Prime",
          "Prime+",
          "Prime Wireless",
          "Aerox 3",
          "Rival 3",
          "Rival 3 Wireless",
          "Rival 5",
          "Aerox 3 Wireless",
          "Rival 600",
          "Rival 650 Wireless",
          "Sensei Ten",
          "Rival 310"
         ],
         "legendgroup": "SteelSeries",
         "marker": {
          "color": "#636efa",
          "symbol": "circle"
         },
         "mode": "markers",
         "name": "SteelSeries",
         "showlegend": true,
         "type": "scattergl",
         "x": {
          "bdata": "cBCF2cbJ27/nqGkpW1mxPw+wtsJCWLM/cBCF2cbJ27/nYz/1C3jHP8D8NWMqVg9Am3V6knmTCkAmPgOgBHsRQGLYAW9ZEOw/wiBVclWC3D8g5YpDUHrnvyne7SqhIRBAYbfFQAgrDkCHlE1eHNwAQBz2axgpTwJAp0BDMQNt8T9v2ZSAGvb1PzpDUEoXMvw/1ekD8Art/D/JK9asKRsAQEk0pXoF4ta/D7C2wkJYsz9wov5LLZbXP3biDht9kP8/B57XEy6I07+2p9wA69cHQOUZKHpATgxAWYM2svzo4z+Dxl98GywEQA==",
          "dtype": "f8"
         },
         "xaxis": "x",
         "y": {
          "bdata": "RXAQOExw/b9Z+sGaJ9rqv5xcAU2MFfC/RXAQOExw/b8jgR0i6in4vxkt1mlXBeW/5oWrvaPP1j+WsJd9lDanvyLxmWpAkui/9lygIA1z9L/wFfAExKv/v6piXXSwrta/S/K28otX8z+FDQ7AeDDxPwZGzUQ3Y+w/um7iEa623D/DRmTBctbBPxUztXkrfeY/pR0/lMz25D9jelcXQzTcP/4pG9UEteC/nFwBTYwV8L+SuYbjaMvyv1eV2nigK88/YdOf8J4T278oIRa/DdXTP4lnM3U+TtC/mF5L+aPF5L9rQOB5JP3LPw==",
          "dtype": "f8"
         },
         "yaxis": "y"
        },
        {
         "hovertemplate": "<b>%{hovertext}</b><br><br>Brand=SyLical<br>แกนคุณลักษณะหลักที่ 1 (PC1)=%{x}<br>แกนคุณลักษณะหลักที่ 2 (PC2)=%{y}<extra></extra>",
         "hovertext": [
          "HELIX"
         ],
         "legendgroup": "SyLical",
         "marker": {
          "color": "#EF553B",
          "symbol": "circle"
         },
         "mode": "markers",
         "name": "SyLical",
         "showlegend": true,
         "type": "scattergl",
         "x": {
          "bdata": "W9o/jd7dAcA=",
          "dtype": "f8"
         },
         "xaxis": "x",
         "y": {
          "bdata": "jEbLZWG17z8=",
          "dtype": "f8"
         },
         "yaxis": "y"
        },
        {
         "hovertemplate": "<b>%{hovertext}</b><br><br>Brand=VXE<br>แกนคุณลักษณะหลักที่ 1 (PC1)=%{x}<br>แกนคุณลักษณะหลักที่ 2 (PC2)=%{y}<extra></extra>",
         "hovertext": [
          "R1 SE+",
          "R1 Nearlink",
          "MAD R Major",
          "MAD R",
          "R1 Pro Max",
          "R1 Pro",
          "R1 SE",
          "R1"
         ],
         "legendgroup": "VXE",
         "marker": {
          "color": "#00cc96",
          "symbol": "circle"
         },
         "mode": "markers",
         "name": "VXE",
         "showlegend": true,
         "type": "scattergl",
         "x": {
          "bdata": "M9fh26Th7b9VedchV1/tv6P5LPl0dADAwgTXFbzN/7/WegL8Np/zvz4TBLZK+fW/3vvx6TSC8L/m2PeikLjyvw==",
          "dtype": "f8"
         },
         "xaxis": "x",
         "y": {
          "bdata": "sI8sh3JOxL+Z2+nnE6THv+UNQS7bJvQ/f4W6jG/b8T9AJ7w0uHfUPwc0/dvbLt8/fqWsoLYTqL8bXT1wzLHOPw==",
          "dtype": "f8"
         },
         "yaxis": "y"
        },
        {
         "hovertemplate": "<b>%{hovertext}</b><br><br>Brand=VGN<br>แกนคุณลักษณะหลักที่ 1 (PC1)=%{x}<br>แกนคุณลักษณะหลักที่ 2 (PC2)=%{y}<extra></extra>",
         "hovertext": [
          "R1 SE+",
          "R1 Nearlink",
          "Y2 Ultra",
          "Y2 Pro",
          "R1 Pro Max",
          "R1 Pro",
          "R1 SE",
          "R1",
          "Dragonfly F1 MOBA",
          "Dragonfly F1 Pro Max",
          "Dragonfly F1 Pro",
          "Dragonfly F1"
         ],
         "legendgroup": "VGN",
         "marker": {
          "color": "#ab63fa",
          "symbol": "circle"
         },
         "mode": "markers",
         "name": "VGN",
         "showlegend": true,
         "type": "scattergl",
         "x": {
          "bdata": "M9fh26Th7b9VedchV1/tv7PREskd//m/MBpCWZzy97/WegL8Np/zvz4TBLZK+fW/3vvx6TSC8L/m2PeikLjyv7JK6yZSb/O/skrrJlJv87/M1fbUJcr1v5ew5YOdrPK/",
          "dtype": "f8"
         },
         "xaxis": "x",
         "y": {
          "bdata": "sI8sh3JOxL+Z2+nnE6THv8Q58Vjypfs/98le///D9z9AJ7w0uHfUPwc0/dvbLt8/fqWsoLYTqL8bXT1wzLHOP5sNetmhZ9I/mw162aFn0j8pMe1mECbdPxBlIF313Mo/",
          "dtype": "f8"
         },
         "yaxis": "y"
        },
        {
         "hovertemplate": "<b>%{hovertext}</b><br><br>Brand=Motospeed<br>แกนคุณลักษณะหลักที่ 1 (PC1)=%{x}<br>แกนคุณลักษณะหลักที่ 2 (PC2)=%{y}<extra></extra>",
         "hovertext": [
          "X1",
          "X6 Max",
          "X6"
         ],
         "legendgroup": "Motospeed",
         "marker": {
          "color": "#FFA15A",
          "symbol": "circle"
         },
         "mode": "markers",
         "name": "Motospeed",
         "showlegend": true,
         "type": "scattergl",
         "x": {
          "bdata": "28/tk9mr9r+YA2/H8Cv6v1+8XKby5/e/",
          "dtype": "f8"
         },
         "xaxis": "x",
         "y": {
          "bdata": "60XY6Fw23j/d1tm94czzP1H01H/XNPA/",
          "dtype": "f8"
         },
         "yaxis": "y"
        },
        {
         "hovertemplate": "<b>%{hovertext}</b><br><br>Brand=Dareu<br>แกนคุณลักษณะหลักที่ 1 (PC1)=%{x}<br>แกนคุณลักษณะหลักที่ 2 (PC2)=%{y}<extra></extra>",
         "hovertext": [
          "AE6",
          "A955",
          "A950 Air",
          "A980 Pro Max",
          "A980 Pro",
          "A980",
          "EM901",
          "A950 Pro 4K Magnesium",
          "A950 Pro 4K",
          "A950",
          "A950 Pro"
         ],
         "legendgroup": "Dareu",
         "marker": {
          "color": "#19d3f3",
          "symbol": "circle"
         },
         "mode": "markers",
         "name": "Dareu",
         "showlegend": true,
         "type": "scattergl",
         "x": {
          "bdata": "UzQHz/so8b9eGpIdYLoEQDuJrc/09wDApsb6pG4P+T9RyYI6qC/2P3GC0a+gswBAEXI390FH8T9m/TARjnDwv/kH4mj+DfC/0xg48XgZzT+IxaEv7ODpvw==",
          "dtype": "f8"
         },
         "xaxis": "x",
         "y": {
          "bdata": "yBGLwjDZ8D8RO1BE6tCHv9OcKr7pCvQ//UMJR/BM/T9R27IDeRz/P1ZTiBGxivM//roxeDEx97/sF2XiWt3gP2uImb9wAeA/nRjAAb0h8r82EtbGS0vQPw==",
          "dtype": "f8"
         },
         "yaxis": "y"
        },
        {
         "hovertemplate": "<b>%{hovertext}</b><br><br>Brand=MAMBASNAKE<br>แกนคุณลักษณะหลักที่ 1 (PC1)=%{x}<br>แกนคุณลักษณะหลักที่ 2 (PC2)=%{y}<extra></extra>",
         "hovertext": [
          "M4",
          "M3",
          "M5 Ultra"
         ],
         "legendgroup": "MAMBASNAKE",
         "marker": {
          "color": "#FF6692",
          "symbol": "circle"
         },
         "mode": "markers",
         "name": "MAMBASNAKE",
         "showlegend": true,
         "type": "scattergl",
         "x": {
          "bdata": "pIsbSIKv9L9Ie+ajnNMBwLl70aoRQALA",
          "dtype": "f8"
         },
         "xaxis": "x",
         "y": {
          "bdata": "D1uNL8mouL8s+nzZrin4PwHIGyLvrO4/",
          "dtype": "f8"
         },
         "yaxis": "y"
        },
        {
         "hovertemplate": "<b>%{hovertext}</b><br><br>Brand=Delux<br>แกนคุณลักษณะหลักที่ 1 (PC1)=%{x}<br>แกนคุณลักษณะหลักที่ 2 (PC2)=%{y}<extra></extra>",
         "hovertext": [
          "M800 Mini Ultra",
          "M800 Mini Pro",
          "M800 Mini",
          "M900 Ultra",
          "M900 Mini Ultra",
          "M900 Mini Pro",
          "M700 Pro",
          "M700 Pro+",
          "M700 Ultra",
          "M500 Pro",
          "M900 SE",
          "M900 Pro",
          "M800 Pro 3395",
          "M600 Pro",
          "M600",
          "M600 Ultra",
          "M800 Ultra",
          "M800 Pro",
          "M700"
         ],
         "legendgroup": "Delux",
         "marker": {
          "color": "#B6E880",
          "symbol": "circle"
         },
         "mode": "markers",
         "name": "Delux",
         "showlegend": true,
         "type": "scattergl",
         "x": {
          "bdata": "WvKS0g1I/r/WAxD23yz9v4y/HbXWCPK/C+7x/3155j/kDRuKTFy6v2dhGMtJnsO/YBpeqNUm6r8eQVUNvebqv+ypdZdi3eq/h2JvBuEa0z8E9EFlTZ/5P0Z72LnNzPE/nLAYNTax4b8/zJXBfoT2v3XM8NYLVvG/zYq/W9Qh978QWDnQgFLzvwOog7HAiti/b0mBIrGepj8=",
          "dtype": "f8"
         },
         "xaxis": "x",
         "y": {
          "bdata": "AsEteuCU7D8zsCA3Cf7nPwwS878t0NS/5Rvqgr0NAkDATqS95uL7P+aiPtN9tPs/W3vMdVyr8T+wLIdq+RLyPxih3S2OJ/M/XllaXW218z/49RRNKNTxP195DnT1JPw/wFA8HnpXw7+h8Syo9pnHPw+0hBnWb9u/3/+gCnvNzT9QGJKuNZHjP/OA8SBSN92/x2JQOJiGtL8=",
          "dtype": "f8"
         },
         "yaxis": "y"
        },
        {
         "hovertemplate": "<b>%{hovertext}</b><br><br>Brand=zeromouse<br>แกนคุณลักษณะหลักที่ 1 (PC1)=%{x}<br>แกนคุณลักษณะหลักที่ 2 (PC2)=%{y}<extra></extra>",
         "hovertext": [
          "Blade"
         ],
         "legendgroup": "zeromouse",
         "marker": {
          "color": "#FF97FF",
          "symbol": "circle"
         },
         "mode": "markers",
         "name": "zeromouse",
         "showlegend": true,
         "type": "scattergl",
         "x": {
          "bdata": "xFWDrSriEsA=",
          "dtype": "f8"
         },
         "xaxis": "x",
         "y": {
          "bdata": "rCq9at/H8b8=",
          "dtype": "f8"
         },
         "yaxis": "y"
        },
        {
         "hovertemplate": "<b>%{hovertext}</b><br><br>Brand=RAWM<br>แกนคุณลักษณะหลักที่ 1 (PC1)=%{x}<br>แกนคุณลักษณะหลักที่ 2 (PC2)=%{y}<extra></extra>",
         "hovertext": [
          "ER21 Pro",
          "ER21",
          "SA-MH01 Pro",
          "ES21 Pro",
          "ES21 M",
          "ES21",
          "SA-SH01 Pro",
          "SA-SH01",
          "SA-SL01 Pro",
          "SA-SL01",
          "SA-ML01 Plus",
          "SA-ML01",
          "SA-MH01"
         ],
         "legendgroup": "RAWM",
         "marker": {
          "color": "#FECB52",
          "symbol": "circle"
         },
         "mode": "markers",
         "name": "RAWM",
         "showlegend": true,
         "type": "scattergl",
         "x": {
          "bdata": "6IcRLWNJ4D8tdOOe41vyP0IaI8f+u+K/WLx0tmTX+L9YvHS2ZNf4v02cnhgP0PW/4d3qnJcX/b+KhhnYcLbyvyheeMVeOfa/+CbtinD/87+jeTe05rjYv1C9P+DwJOC/wUCdpBOC478=",
          "dtype": "f8"
         },
         "xaxis": "x",
         "y": {
          "bdata": "QsXpfnOnAEBFZT4JXefzP8dsgM4DkO8/+BPmS8PY8z/4E+ZLw9jzP7hq+3pG0u4/tVUAYeTt4D8KdShRbVrVvzSBz6KdMbo/wdCtQsklwr8izmgLqljVP87xIRGNnN0/9zfeclsu7j8=",
          "dtype": "f8"
         },
         "yaxis": "y"
        },
        {
         "hovertemplate": "<b>%{hovertext}</b><br><br>Brand=Valkyrie<br>แกนคุณลักษณะหลักที่ 1 (PC1)=%{x}<br>แกนคุณลักษณะหลักที่ 2 (PC2)=%{y}<extra></extra>",
         "hovertext": [
          "VK M1 Pro",
          "VK M2 Pro",
          "VK M2",
          "VK M1"
         ],
         "legendgroup": "Valkyrie",
         "marker": {
          "color": "#636efa",
          "symbol": "circle"
         },
         "mode": "markers",
         "name": "Valkyrie",
         "showlegend": true,
         "type": "scattergl",
         "x": {
          "bdata": "m9+aX7h6+r+9KetHOlXTP/yFLsHuhvA/REl4gaDm8b8=",
          "dtype": "f8"
         },
         "xaxis": "x",
         "y": {
          "bdata": "klYuo1eq8j+TQQi+lUkAQKpEgD/LdOw/mdXU09z90D8=",
          "dtype": "f8"
         },
         "yaxis": "y"
        },
        {
         "hovertemplate": "<b>%{hovertext}</b><br><br>Brand=Logitech<br>แกนคุณลักษณะหลักที่ 1 (PC1)=%{x}<br>แกนคุณลักษณะหลักที่ 2 (PC2)=%{y}<extra></extra>",
         "hovertext": [
          "G Pro X Superlight 2 SE",
          "G900",
          "ERGO M575",
          "M196",
          "MX Anywhere 3S",
          "MX Anywhere 2S",
          "M170",
          "M705 Marathon",
          "POP Mouse",
          "Pebble 2 M350s",
          "Pebble M350",
          "M340",
          "M550 L",
          "M550",
          "M650 L Left",
          "M650 L",
          "M650",
          "M240",
          "M190",
          "G Pro X Superlight 2 DEX",
          "G Pro 2 Lightspeed",
          "G309",
          "G703 Lightspeed",
          "MX Master 3S",
          "MX Master 3",
          "MX Master 2S",
          "MX Master",
          "G304 Lightspeed",
          "G602",
          "M720 Triathlon",
          "Lift Vertical",
          "MX Vertical",
          "G102 Lightsync",
          "G705",
          "G303 Shroud Edition",
          "G604 Lightspeed",
          "G903 Lightspeed",
          "G Pro Wireless",
          "G Pro X Superlight",
          "G Pro",
          "G403 Wireless",
          "G403",
          "G603 Lightspeed",
          "G403 Hero",
          "G203 Prodigy",
          "G305 Lightspeed",
          "G203 Lightsync",
          "G502 Hero",
          "G502 Lightspeed",
          "M171",
          "G103 Prodigy",
          "B100",
          "G600",
          "G9x",
          "G Pro X Superlight 2",
          "G402 Hyperion Fury",
          "G300s",
          "M100",
          "MX Anywhere",
          "M510",
          "G502 X Plus",
          "G502 X Lightspeed",
          "G502 X",
          "M185",
          "M280",
          "M187",
          "M238",
          "G100s",
          "G303 Daedalus Apex",
          "G3",
          "MX518",
          "G400",
          "G400s",
          "G MX518"
         ],
         "legendgroup": "Logitech",
         "marker": {
          "color": "#EF553B",
          "symbol": "circle"
         },
         "mode": "markers",
         "name": "Logitech",
         "showlegend": true,
         "type": "scattergl",
         "x": {
          "bdata": "lvp27jrs67+0Ii1HkqvzP6d+KI9GfyBAc5k9eICMtb/WUkS7IHz1P9ZSRLsgfPU/4ZGYNxBr3L+no5fE+pQRQAPSjLtQKLO/CN9Iy/w66b+nmQ40ia2lv8J6eiaPdOS/ucJVp6rT7j9rlBLgNEHVv7GVqNF6mfU/sZWo0XqZ9T9vWYQRqOWsPzqRPaFeRcO/W5JQe2cG9j8xOzEe+c3pPz8gGS28POu/pGXGo0ofxL/UrJ4yqB0EQKv8NTD59x1AllJIsMBTHkB2qMWRdYkeQOqb4viyiR5AP3vE4YeZtz8sNy3NCCcZQNI+tfLAhBRA8PS8Ag+NGkDniz18PJghQGRV2bA5Fsi/sl0lTFXgA0Bgg2Z2zDiRP0nEkEelURRAaMLMrUYE8T+uitdjWS20v7Sn0CTF7N6/Xt05zhCD37/n2xbDD/8FQPixmIXHWQJAXum+ixu3AkDlgiD1X3gAQGRV2bA5Fsi/P3vE4YeZtz9kVdmwORbIv6vzuCWCKgxAzd7LhmbsCkAJ9a9YAGTZv2RV2bA5Fsi/JUwwMS5O6D8kkl3pISwaQOfzxOziVxRAyX5jNAY79b86HRuy8usMQMrxFIhXV9A/hEx6YGgf6j/WUkS7IHz1P0wYsMys0gVAYP29XQTpDEBfM301Pt4LQLBrBkEo9QlAU60P76flt7+DOseKXZv0P7X+f1xwsgvAlUAQv9s2978U3IWDtLrRP4oG1XqBScG/9oGE7KkS9z/bbTv1pvQMQMKDD6B1kwxAPzqGRUGyDEAo1m0hCU4IQA==",
          "dtype": "f8"
         },
         "xaxis": "x",
         "y": {
          "bdata": "TInFVG5J7T8PJPG3SQfwv2N+7xqTYAzAAivzsAXJHcA1UBCFrH8fwDVQEIWsfx/AHRC3Q9I3HsCl6QvvmlMbwFw+Uhx2qh7AS7QbufkzIcCiIN0/vk8jwFwwD9TtnyHAKvrs50D5/7+zoT6T6vgGwGrqRzk2CP+/aupHOTYI/7/VrMzNXp0GwM151lCo0hzAC/yT8lLpGcBwJLEB7YUEQN/rC2sP3+4/uBdfTVpW578VaVVvNUu0P0g3Le9frw3AR0sUMkn6DsCSLXFbjqIQwHQg5wrR1BDApFCrirE5/783AxexhfbBP6K+bNAB7xfA4CyDTytPDsCkOqMEJssCwBOxqIgDBPu//2pnRVw5F8Cb7IlLoC3Bv+nKoaB/Z/A/371mRK7M4r9/jGy4xybRv2gSQieFp8Y/S79YKF3r8L88S1CfHSLav62NZ7JOArE/h4UnUFJrkz94xN9Tv7rhPxOxqIgDBPu/pFCrirE5/78TsaiIAwT7v+l6epDbgdM/3XJxNUR+3T8+no13fHYewBOxqIgDBPu/VwpbdtMkHMA0A8e1S9oSwB1KUEqoIBnA2QOZgM7P9z9Gjkl7mt2uv31m2aReV/W/UbwMMSxuHMA1UBCFrH8fwCTmzHhtaRzA1fDSHFLK7j9l0iwKUmzxP1z3Ei0dJPU/hfV2laVHHcCYPKSoiGMAwHFKMRStTRHAott3csNFDsB8H8xvWWcHwDQWklPCvvq/QKXnoF7cGcCJfceHbSfLv0uprv+9ury/m6A365Wdvr81OKaaKIPqPw==",
          "dtype": "f8"
         },
         "yaxis": "y"
        },
        {
         "hovertemplate": "<b>%{hovertext}</b><br><br>Brand=Flick<br>แกนคุณลักษณะหลักที่ 1 (PC1)=%{x}<br>แกนคุณลักษณะหลักที่ 2 (PC2)=%{y}<extra></extra>",
         "hovertext": [
          "Fire"
         ],
         "legendgroup": "Flick",
         "marker": {
          "color": "#00cc96",
          "symbol": "circle"
         },
         "mode": "markers",
         "name": "Flick",
         "showlegend": true,
         "type": "scattergl",
         "x": {
          "bdata": "F+cgn5C19r8=",
          "dtype": "f8"
         },
         "xaxis": "x",
         "y": {
          "bdata": "tcjNcA/54T8=",
          "dtype": "f8"
         },
         "yaxis": "y"
        },
        {
         "hovertemplate": "<b>%{hovertext}</b><br><br>Brand=IYX<br>แกนคุณลักษณะหลักที่ 1 (PC1)=%{x}<br>แกนคุณลักษณะหลักที่ 2 (PC2)=%{y}<extra></extra>",
         "hovertext": [
          "Amber"
         ],
         "legendgroup": "IYX",
         "marker": {
          "color": "#ab63fa",
          "symbol": "circle"
         },
         "mode": "markers",
         "name": "IYX",
         "showlegend": true,
         "type": "scattergl",
         "x": {
          "bdata": "dF8JLNgRA8A=",
          "dtype": "f8"
         },
         "xaxis": "x",
         "y": {
          "bdata": "V9n79KBc6j8=",
          "dtype": "f8"
         },
         "yaxis": "y"
        },
        {
         "hovertemplate": "<b>%{hovertext}</b><br><br>Brand=PMM<br>แกนคุณลักษณะหลักที่ 1 (PC1)=%{x}<br>แกนคุณลักษณะหลักที่ 2 (PC2)=%{y}<extra></extra>",
         "hovertext": [
          "ZEN 8K Mini",
          "Fuse 8K",
          "CYBER ZK",
          "CYBER 4.1",
          "VORTEX 4K M",
          "ZEN 8K",
          "CYBER 4.0",
          "CRAZE 8K",
          "NEO 8K",
          "VORTEX 8K M",
          "VORTEX 8K S",
          "VORTEX M",
          "VORTEX S",
          "FUSE",
          "CORE",
          "BLAZE",
          "NITE 8K",
          "TITAN M",
          "TITAN S",
          "TITAN 8K L",
          "CYBER 8K",
          "AIM 8K"
         ],
         "legendgroup": "PMM",
         "marker": {
          "color": "#FFA15A",
          "symbol": "circle"
         },
         "mode": "markers",
         "name": "PMM",
         "showlegend": true,
         "type": "scattergl",
         "x": {
          "bdata": "Wa7lawdzA8Bs7icsf/D7v28c4i6HTRXAdvt2OjVIE8Abh+ue3fP+v7Y3/VLNDPu/T9m2/+/+FcB/iItMLQjYv2rPrqMm4QLAt6asNCju/79XktcLM/MEwOBEkM7Y0Oq/mXIPOqd1979+CVo5sGvlvyQKirvoJuW/WxyS5io+8L+sM5vJoGf9v00i3c+H5PK/x6wzdF+8979N5uXVt9/6vzu24CrsBRTA5KPBUwg2F8A=",
          "dtype": "f8"
         },
         "xaxis": "x",
         "y": {
          "bdata": "oTewX6jr+D+g3ve8oCP4PywExkmADve/3jBUmKcG6L9WP9qP8aLqP+udJ8/2lf8/g+FbPSgF9r9MNyU+9PQAQJPHMhaeI/Y/H2o7D8gl9T/k/ivpyOzrP168J/Ne/9W/ZqKghcf76b8a9iWw00GsvyxwDJMefNW/ixBuXNgm4L/9p51NRdLrP+9mlRpPH9M/RV/LoZgv77/S9xlJLkD6P06cmH0Muuy/wyUVB18H878=",
          "dtype": "f8"
         },
         "yaxis": "y"
        },
        {
         "hovertemplate": "<b>%{hovertext}</b><br><br>Brand=Precision<br>แกนคุณลักษณะหลักที่ 1 (PC1)=%{x}<br>แกนคุณลักษณะหลักที่ 2 (PC2)=%{y}<extra></extra>",
         "hovertext": [
          "GG Titan-0"
         ],
         "legendgroup": "Precision",
         "marker": {
          "color": "#19d3f3",
          "symbol": "circle"
         },
         "mode": "markers",
         "name": "Precision",
         "showlegend": true,
         "type": "scattergl",
         "x": {
          "bdata": "R8MulBzTG8A=",
          "dtype": "f8"
         },
         "xaxis": "x",
         "y": {
          "bdata": "X3rUZXw3E8A=",
          "dtype": "f8"
         },
         "yaxis": "y"
        },
        {
         "hovertemplate": "<b>%{hovertext}</b><br><br>Brand=Glorious<br>แกนคุณลักษณะหลักที่ 1 (PC1)=%{x}<br>แกนคุณลักษณะหลักที่ 2 (PC2)=%{y}<extra></extra>",
         "hovertext": [
          "Model O Eternal",
          "Model O 2 Mini Wireless",
          "Model O 2 Mini",
          "Series 2 Pro",
          "Model D 2 Wireless",
          "Model D 2 Wired",
          "Model O Pro",
          "Series One Pro",
          "Model D Wireless",
          "Model D",
          "Model D-",
          "Model I",
          "Model O",
          "Model O-",
          "Model D- Wireless",
          "Model O 2 Pro 4K/8K",
          "Model O 2 Pro 1K",
          "Model D 2 Pro 4K/8K",
          "Model D 2 Pro 1K",
          "Model D Pro",
          "Model I 2 Wireless",
          "Model O 2 Wired",
          "Model O 2 Wireless",
          "Model O- Wireless",
          "Model O Wireless"
         ],
         "legendgroup": "Glorious",
         "marker": {
          "color": "#FF6692",
          "symbol": "circle"
         },
         "mode": "markers",
         "name": "Glorious",
         "showlegend": true,
         "type": "scattergl",
         "x": {
          "bdata": "jZK4xK6+1L9N39oq6rL0v/qq4G9Z7/e/1K8CDjC3+r9VzXuSHrL5P51wXjGWyfY/KBhNzO983L985Qa3iIDzv8JbTQtSv/s/Kn0yTeKu/T/Eu+MkNJjxP+1EleIxwgRApVIzEm1apL9sO/Ko6Xbuv3FxxMas8fE/0XXYs9me7b/doLxRUJngv5g1GPBr+O8/1VxurxSG9j/Ivo3rmrr3P6W/8ZTX2QNAUjI8pVZk4b9As0yrew/Vv7X5CfP5tOy/n0/K5fkDvb8=",
          "dtype": "f8"
         },
         "xaxis": "x",
         "y": {
          "bdata": "fuW70pP6pL9ZJJ0aK+jTv/8EZzMjlLK/uWy6eonW3D9Y42XykT7yP5SOqKxZQ/U/TXys4D3hyj9tg/PyUFLNv/T9VsKVjug/iSAADZ2G4D8TFNktyrbCP4U2JXRimPQ/8ge9aEmP1r+uQYS4j0rpv+EKN93ls84/reMyss3D7T/FYUgz5y3aP86i6w1DIvw/A/P0kZG68z+1E4kR+3nwP4U1U2fvifU/KQ0bBHOw0T+Hxzm02nikPwDbymfQ2ue/pMiVSwKkw78=",
          "dtype": "f8"
         },
         "yaxis": "y"
        },
        {
         "hovertemplate": "<b>%{hovertext}</b><br><br>Brand=WLmouse<br>แกนคุณลักษณะหลักที่ 1 (PC1)=%{x}<br>แกนคุณลักษณะหลักที่ 2 (PC2)=%{y}<extra></extra>",
         "hovertext": [
          "Sword X",
          "Ying",
          "Beast X Max",
          "Beast Miao",
          "Beast X Mini Pro",
          "Beast X Pro",
          "Strider",
          "Beast X 8K",
          "Beast X Mini",
          "Beast X"
         ],
         "legendgroup": "WLmouse",
         "marker": {
          "color": "#B6E880",
          "symbol": "circle"
         },
         "mode": "markers",
         "name": "WLmouse",
         "showlegend": true,
         "type": "scattergl",
         "x": {
          "bdata": "ToL4WCY12T9aTHVdxxIDwDPxVeNXP/e/0NNYN8yTEMDhGD3sxIAHwGuRksQJ2gDAT5LFDj0P+b8qGlHWckwAwJ+h+/0t8wbADFiLQIVx/L8=",
          "dtype": "f8"
         },
         "xaxis": "x",
         "y": {
          "bdata": "ieuYVHqGAEDNowZdct3vP6tIVdSGrPc/hxu16bkN27/glqBak7TlPz3kfzCeqfE/ZZz2Zrn98j+ot/IdZbzuPxKGkxe8HeE/kbi0TQFC5D8=",
          "dtype": "f8"
         },
         "yaxis": "y"
        },
        {
         "hovertemplate": "<b>%{hovertext}</b><br><br>Brand=Nintendo<br>แกนคุณลักษณะหลักที่ 1 (PC1)=%{x}<br>แกนคุณลักษณะหลักที่ 2 (PC2)=%{y}<extra></extra>",
         "hovertext": [
          "Joy-Con 2"
         ],
         "legendgroup": "Nintendo",
         "marker": {
          "color": "#FF97FF",
          "symbol": "circle"
         },
         "mode": "markers",
         "name": "Nintendo",
         "showlegend": true,
         "type": "scattergl",
         "x": {
          "bdata": "qn9WR1tj878=",
          "dtype": "f8"
         },
         "xaxis": "x",
         "y": {
          "bdata": "38XGfPGEJsA=",
          "dtype": "f8"
         },
         "yaxis": "y"
        },
        {
         "hovertemplate": "<b>%{hovertext}</b><br><br>Brand=Angry<br>แกนคุณลักษณะหลักที่ 1 (PC1)=%{x}<br>แกนคุณลักษณะหลักที่ 2 (PC2)=%{y}<extra></extra>",
         "hovertext": [
          "Miao AM Infinity Mouse"
         ],
         "legendgroup": "Angry",
         "marker": {
          "color": "#FECB52",
          "symbol": "circle"
         },
         "mode": "markers",
         "name": "Angry",
         "showlegend": true,
         "type": "scattergl",
         "x": {
          "bdata": "8KP1f95F+b8=",
          "dtype": "f8"
         },
         "xaxis": "x",
         "y": {
          "bdata": "+55baXHn7z8=",
          "dtype": "f8"
         },
         "yaxis": "y"
        },
        {
         "hovertemplate": "<b>%{hovertext}</b><br><br>Brand=Corsair<br>แกนคุณลักษณะหลักที่ 1 (PC1)=%{x}<br>แกนคุณลักษณะหลักที่ 2 (PC2)=%{y}<extra></extra>",
         "hovertext": [
          "Scimitar Elite Wireless SE",
          "M55 Wireless",
          "M55 Wired",
          "Dark Core RGB Pro",
          "M55 RGB Pro",
          "Glaive Pro",
          "Glaive RGB",
          "Nightsword RGB",
          "Scimitar Elite Wireless",
          "Scimitar RGB Elite",
          "Scimitar Pro RGB",
          "Scimitar RGB",
          "Sabre RGB Pro Wireless",
          "Sabre RGB Pro",
          "Sabre Pro",
          "Katar Elite Wireless",
          "Katar Pro Wireless",
          "Katar Pro XT",
          "Ironclaw RGB Wireless",
          "Ironclaw RGB",
          "Harpoon RGB Wireless",
          "Harpoon RGB Pro",
          "Harpoon RGB",
          "M75 Air Wireless",
          "M75 Wireless",
          "M75",
          "Nightsabre Wireless",
          "Darkstar Wireless",
          "M65 RGB Ultra Wireless",
          "M65 RGB Ultra",
          "M65 RGB Pro",
          "M65 RGB Elite",
          "Dark Core RGB Pro SE"
         ],
         "legendgroup": "Corsair",
         "marker": {
          "color": "#636efa",
          "symbol": "circle"
         },
         "mode": "markers",
         "name": "Corsair",
         "showlegend": true,
         "type": "scattergl",
         "x": {
          "bdata": "ZIVJValBEUD2+LjdpM7lPz3WiYXlX7I/QJMg7t+AEUAZmbJKN7DjP8TQLORw4AlANcNcIDhlC0B+LUFD67wSQDVnOScS8RBABuYOSSsDE0AJe2DCpmUVQKo2gTlyrBVADD3GsoDC/z+hZgTpm7n3P6i3anojIvg/wqb3y0YG6r/jw0lP6R/BP3/BOQXPa+K/RnvGHfj1EkDmqvrMQpYQQMRL31Kq5wFA4Lws2nhx+z+mIvGkPRr9PyBX/4r+hca/ND2dsJum3z8z13LvPJ/TvwRDF5SQq9w/RtojzaR7CEBrFDxMOAoGQHKlwNTiiABAg1zPFQ1kCUCtfp/eIh0HQECTIO7fgBFA",
          "dtype": "f8"
         },
         "xaxis": "x",
         "y": {
          "bdata": "2VZ+dTFY8j8HEvkNqp4WwJ4dIFa+ShTAmSiSnymGwj9bQ89vlEblv/N4SGkLPaE/NX0z2mXSyL/w+YoQUTbsPx406re61/E/gscZpEY02z8Je5fOkTzMvybfZW33S9e/NB5w/gFF8D+rag95RPv5PwMnc9TkPvc/uwwF46Ji4b8O5sqEJkf+v8ctlVBmPe6/FNKNQolJ4T8vwtYa64vxP4rSLjG2lfS/7nTvmjbX4L8jDoN/ebnnv780Jo9ApuM/4/gJoPkZub/L9qI1Q/zqP5e9g0m49dy/XMcPAaGA8D8W9Yqu/ymuvz2YyiJM5+c/W31iCHUW579gWJpszrfWv5kokp8phsI/",
          "dtype": "f8"
         },
         "yaxis": "y"
        },
        {
         "hovertemplate": "<b>%{hovertext}</b><br><br>Brand=ThundeRobot<br>แกนคุณลักษณะหลักที่ 1 (PC1)=%{x}<br>แกนคุณลักษณะหลักที่ 2 (PC2)=%{y}<extra></extra>",
         "hovertext": [
          "ML8",
          "ML4",
          "ML6 Pro",
          "ML9 Mini",
          "ML9S",
          "ML901",
          "ML602",
          "ML903"
         ],
         "legendgroup": "ThundeRobot",
         "marker": {
          "color": "#EF553B",
          "symbol": "circle"
         },
         "mode": "markers",
         "name": "ThundeRobot",
         "showlegend": true,
         "type": "scattergl",
         "x": {
          "bdata": "lFs+Jzrt978TfNupdWfyv0QWY5I2a/A/rI28zMsB/b9lGHhKSUjtv/KWnCOcusy/5NOQRgrd2b9URGbBuNHlvw==",
          "dtype": "f8"
         },
         "xaxis": "x",
         "y": {
          "bdata": "GrWxaTtJ1z8ZNPGoQDvwvyhEvXJpkfA/LR9Oo7jo1j+wzB5wIDjmPz3Ry0QOfMq/rCxWZ78yzT81IMM7NhDVPw==",
          "dtype": "f8"
         },
         "yaxis": "y"
        },
        {
         "hovertemplate": "<b>%{hovertext}</b><br><br>Brand=Chilkey<br>แกนคุณลักษณะหลักที่ 1 (PC1)=%{x}<br>แกนคุณลักษณะหลักที่ 2 (PC2)=%{y}<extra></extra>",
         "hovertext": [
          "Glacier LW 8K M"
         ],
         "legendgroup": "Chilkey",
         "marker": {
          "color": "#00cc96",
          "symbol": "circle"
         },
         "mode": "markers",
         "name": "Chilkey",
         "showlegend": true,
         "type": "scattergl",
         "x": {
          "bdata": "XybYb8gv/b8=",
          "dtype": "f8"
         },
         "xaxis": "x",
         "y": {
          "bdata": "cOojyNi16j8=",
          "dtype": "f8"
         },
         "yaxis": "y"
        },
        {
         "hovertemplate": "<b>%{hovertext}</b><br><br>Brand=UNIUS<br>แกนคุณลักษณะหลักที่ 1 (PC1)=%{x}<br>แกนคุณลักษณะหลักที่ 2 (PC2)=%{y}<extra></extra>",
         "hovertext": [
          "Black Lotus"
         ],
         "legendgroup": "UNIUS",
         "marker": {
          "color": "#ab63fa",
          "symbol": "circle"
         },
         "mode": "markers",
         "name": "UNIUS",
         "showlegend": true,
         "type": "scattergl",
         "x": {
          "bdata": "U6Jho7dS/r8=",
          "dtype": "f8"
         },
         "xaxis": "x",
         "y": {
          "bdata": "Nk8b1OSe8z8=",
          "dtype": "f8"
         },
         "yaxis": "y"
        },
        {
         "hovertemplate": "<b>%{hovertext}</b><br><br>Brand=Fantech<br>แกนคุณลักษณะหลักที่ 1 (PC1)=%{x}<br>แกนคุณลักษณะหลักที่ 2 (PC2)=%{y}<extra></extra>",
         "hovertext": [
          "Tanto S",
          "Tanto",
          "Tanto E",
          "Go XD5",
          "Aria E",
          "Aria II Pro",
          "Aria II",
          "Helios II Pro S",
          "Helios XD3V2",
          "Helios II Pro",
          "X11 Daredevil",
          "Helios XD3",
          "Aria XD7"
         ],
         "legendgroup": "Fantech",
         "marker": {
          "color": "#FFA15A",
          "symbol": "circle"
         },
         "mode": "markers",
         "name": "Fantech",
         "showlegend": true,
         "type": "scattergl",
         "x": {
          "bdata": "KPctwR1Y97+r9QUENRPwv862NtKOMum/f9WJvFll8T9V1ywhQG7pvxd4YGdBPPq/m3Y4qlj38r+04kdbrvr2v4KxqO55pca/bAYx703T8r/xgF/SRe4PQGwal8NmAsC/eK5glECW8L8=",
          "dtype": "f8"
         },
         "xaxis": "x",
         "y": {
          "bdata": "UhUda0X23T/nne+2X9i6v4ZppY8/guK/ImLVPtU9Nb+dqAoN2onov8r6CMLus94/+wdAW7rht7/uGJPGnIbkP5mg4nt5sO6/sjOq7HEY1D/lzMnSBC7Ov5k2FnfNEPG/jdu5RNHz0L8=",
          "dtype": "f8"
         },
         "yaxis": "y"
        },
        {
         "hovertemplate": "<b>%{hovertext}</b><br><br>Brand=Orbital<br>แกนคุณลักษณะหลักที่ 1 (PC1)=%{x}<br>แกนคุณลักษณะหลักที่ 2 (PC2)=%{y}<extra></extra>",
         "hovertext": [
          "Pathfinder AAM-222",
          "Pathfinder AAM-000"
         ],
         "legendgroup": "Orbital",
         "marker": {
          "color": "#19d3f3",
          "symbol": "circle"
         },
         "mode": "markers",
         "name": "Orbital",
         "showlegend": true,
         "type": "scattergl",
         "x": {
          "bdata": "WP8keEXJAMBtseXBCGgGwA==",
          "dtype": "f8"
         },
         "xaxis": "x",
         "y": {
          "bdata": "yvIEwU6u2j/X9eddRf26vw==",
          "dtype": "f8"
         },
         "yaxis": "y"
        },
        {
         "hovertemplate": "<b>%{hovertext}</b><br><br>Brand=Metaphyuni<br>แกนคุณลักษณะหลักที่ 1 (PC1)=%{x}<br>แกนคุณลักษณะหลักที่ 2 (PC2)=%{y}<extra></extra>",
         "hovertext": [
          "M6",
          "P2 Pro",
          "P2 Lite",
          "P2",
          "Metapanda P1 Pro Max",
          "Metapanda P1 Pro",
          "Metapanda P1"
         ],
         "legendgroup": "Metaphyuni",
         "marker": {
          "color": "#FF6692",
          "symbol": "circle"
         },
         "mode": "markers",
         "name": "Metaphyuni",
         "showlegend": true,
         "type": "scattergl",
         "x": {
          "bdata": "qUgktvEbAMC4FErPT8v3v9ugrxyNTum/OxMiEmeG8L/nSIBb8ILsP+dIgFvwguw/V0LfO4n67j8=",
          "dtype": "f8"
         },
         "xaxis": "x",
         "y": {
          "bdata": "BVA6oqk08z8zFge9R6LVPyCuljj8lOe/J82jNysUzr/AAHna98vuP8AAedr3y+4/glneOegF6z8=",
          "dtype": "f8"
         },
         "yaxis": "y"
        },
        {
         "hovertemplate": "<b>%{hovertext}</b><br><br>Brand=EWEADN<br>แกนคุณลักษณะหลักที่ 1 (PC1)=%{x}<br>แกนคุณลักษณะหลักที่ 2 (PC2)=%{y}<extra></extra>",
         "hovertext": [
          "X23 Max",
          "X23 Pro",
          "X23 SE",
          "X23",
          "M9",
          "X21 Pro",
          "X21",
          "L1 Pro",
          "L1",
          "S9 Ultra",
          "S9 Pro",
          "S9"
         ],
         "legendgroup": "EWEADN",
         "marker": {
          "color": "#B6E880",
          "symbol": "circle"
         },
         "mode": "markers",
         "name": "EWEADN",
         "showlegend": true,
         "type": "scattergl",
         "x": {
          "bdata": "L1vlBUEz8L/EMDYEQajov8QwNgRBqOi/xDA2BEGo6L/ETjCHdNj6v4LtnyJYCvk/d9Vw+ZMw/D9nXTmykEv+v2ddObKQS/6/Bao3VuyR7r/g7WPo4FHmv8H98j5JXNG/",
          "dtype": "f8"
         },
         "xaxis": "x",
         "y": {
          "bdata": "E9zC/mymqj8nGoM1FcvcvycagzUVy9y/JxqDNRXL3L99ygKVL87iPxlRb7A/QPY/V6txP+rs7T8WYm/+ru/qPxZib/6u7+o/zY9ln0LT9z8Hm+danPDtP0h16NU3Jdk/",
          "dtype": "f8"
         },
         "yaxis": "y"
        },
        {
         "hovertemplate": "<b>%{hovertext}</b><br><br>Brand=Zaopin<br>แกนคุณลักษณะหลักที่ 1 (PC1)=%{x}<br>แกนคุณลักษณะหลักที่ 2 (PC2)=%{y}<extra></extra>",
         "hovertext": [
          "ZPW Max",
          "ZPW",
          "Z2 Max",
          "Z1 Pro Max",
          "Z2 Mini Max 8K",
          "Z2 Mini 4K",
          "Z2 Mini",
          "Z2",
          "Z1 Pro",
          "Z1"
         ],
         "legendgroup": "Zaopin",
         "marker": {
          "color": "#FF97FF",
          "symbol": "circle"
         },
         "mode": "markers",
         "name": "Zaopin",
         "showlegend": true,
         "type": "scattergl",
         "x": {
          "bdata": "hd32Ewb1wj+lUQ74dM7LPyfPSwUZ7NY/orhFJoinAMAPlxyTU/Tav3yv1cJpqLe/06M8Thswuj8qfdkTKfvlPxGMDQukf/6/errO+C+g878=",
          "dtype": "f8"
         },
         "xaxis": "x",
         "y": {
          "bdata": "XQbV0udV/j/1fU4xfAr8P+GWsuvg/fM/PaLEv6il1j+hJztrlEXuP3sv4K+yaN4/t2EG7zlizT/gHRrEhuroP8Hz/9kZuLA/G9gEauw96L8=",
          "dtype": "f8"
         },
         "yaxis": "y"
        },
        {
         "hovertemplate": "<b>%{hovertext}</b><br><br>Brand=RK<br>แกนคุณลักษณะหลักที่ 1 (PC1)=%{x}<br>แกนคุณลักษณะหลักที่ 2 (PC2)=%{y}<extra></extra>",
         "hovertext": [
          "Royal Kludge M3",
          "Royal Kludge M30"
         ],
         "legendgroup": "RK",
         "marker": {
          "color": "#FECB52",
          "symbol": "circle"
         },
         "mode": "markers",
         "name": "RK",
         "showlegend": true,
         "type": "scattergl",
         "x": {
          "bdata": "272DpfYZAMBeIfBvBIj1vw==",
          "dtype": "f8"
         },
         "xaxis": "x",
         "y": {
          "bdata": "Ud4Bl8ni9T+ON6H+qMjQPw==",
          "dtype": "f8"
         },
         "yaxis": "y"
        },
        {
         "hovertemplate": "<b>%{hovertext}</b><br><br>Brand=Xyder<br>แกนคุณลักษณะหลักที่ 1 (PC1)=%{x}<br>แกนคุณลักษณะหลักที่ 2 (PC2)=%{y}<extra></extra>",
         "hovertext": [
          "Amalight 4K"
         ],
         "legendgroup": "Xyder",
         "marker": {
          "color": "#636efa",
          "symbol": "circle"
         },
         "mode": "markers",
         "name": "Xyder",
         "showlegend": true,
         "type": "scattergl",
         "x": {
          "bdata": "dNNQ9uOJ578=",
          "dtype": "f8"
         },
         "xaxis": "x",
         "y": {
          "bdata": "f4WeWB8r6D8=",
          "dtype": "f8"
         },
         "yaxis": "y"
        },
        {
         "hovertemplate": "<b>%{hovertext}</b><br><br>Brand=Imecoo<br>แกนคุณลักษณะหลักที่ 1 (PC1)=%{x}<br>แกนคุณลักษณะหลักที่ 2 (PC2)=%{y}<extra></extra>",
         "hovertext": [
          "P1"
         ],
         "legendgroup": "Imecoo",
         "marker": {
          "color": "#EF553B",
          "symbol": "circle"
         },
         "mode": "markers",
         "name": "Imecoo",
         "showlegend": true,
         "type": "scattergl",
         "x": {
          "bdata": "IiXW5f5c6T8=",
          "dtype": "f8"
         },
         "xaxis": "x",
         "y": {
          "bdata": "cP8e/KRpAEA=",
          "dtype": "f8"
         },
         "yaxis": "y"
        },
        {
         "hovertemplate": "<b>%{hovertext}</b><br><br>Brand=Vaidemi<br>แกนคุณลักษณะหลักที่ 1 (PC1)=%{x}<br>แกนคุณลักษณะหลักที่ 2 (PC2)=%{y}<extra></extra>",
         "hovertext": [
          "Nimbus"
         ],
         "legendgroup": "Vaidemi",
         "marker": {
          "color": "#00cc96",
          "symbol": "circle"
         },
         "mode": "markers",
         "name": "Vaidemi",
         "showlegend": true,
         "type": "scattergl",
         "x": {
          "bdata": "giUYAiB//78=",
          "dtype": "f8"
         },
         "xaxis": "x",
         "y": {
          "bdata": "fbvOw+1b+T8=",
          "dtype": "f8"
         },
         "yaxis": "y"
        },
        {
         "hovertemplate": "<b>%{hovertext}</b><br><br>Brand=Zowie<br>แกนคุณลักษณะหลักที่ 1 (PC1)=%{x}<br>แกนคุณลักษณะหลักที่ 2 (PC2)=%{y}<extra></extra>",
         "hovertext": [
          "EC3-DW",
          "EC2-DW",
          "EC1-DW",
          "ZA13-DW",
          "FK2-DW",
          "U2-DW",
          "S2-DW",
          "S1-B V2",
          "S1-B",
          "S1-C",
          "S2-B V2",
          "S2-B",
          "ZA13-B",
          "ZA12-B",
          "ZA12-C",
          "ZA11-B",
          "ZA11-C",
          "FK2-B V2",
          "FK2-B",
          "FK1-B V2",
          "FK1-B",
          "FK1+-B V2",
          "FK1+-B",
          "EC2-B V2",
          "EC2-B",
          "EC1-B V2",
          "EC1-B",
          "MiCO",
          "U2",
          "AM",
          "EC3-CW",
          "EC2-CW",
          "EC1-CW",
          "S2-C",
          "ZA13-C",
          "FK2-C",
          "FK1-C",
          "FK1+-C",
          "EC3-C",
          "EC2-C",
          "EC1-C"
         ],
         "legendgroup": "Zowie",
         "marker": {
          "color": "#ab63fa",
          "symbol": "circle"
         },
         "mode": "markers",
         "name": "Zowie",
         "showlegend": true,
         "type": "scattergl",
         "x": {
          "bdata": "nD55C38V8T9VRen17hb0P0C8IhPdrP4/dfk7eZ1l2b8jkXbtG+jdv27jgP/5QuG/T+6mjglS4b/fymc9ugvjP9/KZz26C+M/M8k8xQ/bzj+X9bCGjauxP5f1sIaNq7E/39iPInqvoz93MoVACQveP1aCU5e9DtI/bWJdwWDB7j+WSeyef3fnPwho5z3/3Lc/CGjnPf/ctz+fbsh7+w/hP59uyHv7D+E/qGhOv8Z+7T+oaE6/xn7tP+tQEBjANAFA61AQGMA0AUA4JMj+73oGQDgkyP7vegZAHSho1DMK/r8FMr260g/Wv9y8U/0e99c/4asQ3YSj+j++Z+WXQI79PyyHKckgxwNAaNhxlrvXz79Aye5p+N7Jv7pp8QF5SMO//OB+yxzw0j+tJFjvudfmPzVW8OuyXfg/o6Q137YP/D+TgJqqP/UDQA==",
          "dtype": "f8"
         },
         "xaxis": "x",
         "y": {
          "bdata": "pxfTydnexj9PFEFIXujWP0gPXin8p+g/BTksaXnc4r++jFy1SKLmv8QtEeFLSuC/peFS/BZG6b+4b/KWtCfzv7hv8pa0J/O/nxD/NIv06b/8m7LnDh/4v/ybsucOH/i/8yDPDRWn8b9xWB4f4a7qv99ujSC0N+S/+FoBdaCQ4b+0SI70PPPTv28fayfC4PW/bx9rJ8Lg9b+dVmgoHN7xv51WaCgc3vG/7Z4EGJHk6r/tngQYkeTqvwSaPk0VguS/BJo+TRWC5L/9CcXgvHHIv/0JxeC8cci/ukIVaXTmCMAUrT+9Fibov+ktjm26/fe/sBECuRY74L85tv3layDUvzXoJzon5cM/bG9MCQdY8r9VuFpFRLjqv38OUujxdPG/kwohFXJn67/qG3eRF9bjv/LGhbINhNa/QdA2Sexly7+9gn5abfDAPw==",
          "dtype": "f8"
         },
         "yaxis": "y"
        },
        {
         "hovertemplate": "<b>%{hovertext}</b><br><br>Brand=Tecware<br>แกนคุณลักษณะหลักที่ 1 (PC1)=%{x}<br>แกนคุณลักษณะหลักที่ 2 (PC2)=%{y}<extra></extra>",
         "hovertext": [
          "EX1",
          "Pulse Elite"
         ],
         "legendgroup": "Tecware",
         "marker": {
          "color": "#FFA15A",
          "symbol": "circle"
         },
         "mode": "markers",
         "name": "Tecware",
         "showlegend": true,
         "type": "scattergl",
         "x": {
          "bdata": "4RxGEpd48L/6me0wVu/Jvw==",
          "dtype": "f8"
         },
         "xaxis": "x",
         "y": {
          "bdata": "Nz0aKV8Zwb+ttnxlZxbPvw==",
          "dtype": "f8"
         },
         "yaxis": "y"
        },
        {
         "hovertemplate": "<b>%{hovertext}</b><br><br>Brand=SOLAKAKA<br>แกนคุณลักษณะหลักที่ 1 (PC1)=%{x}<br>แกนคุณลักษณะหลักที่ 2 (PC2)=%{y}<extra></extra>",
         "hovertext": [
          "SM809 Pro",
          "SM802 Pro",
          "SM805",
          "SM850",
          "SM809",
          "SM802"
         ],
         "legendgroup": "SOLAKAKA",
         "marker": {
          "color": "#19d3f3",
          "symbol": "circle"
         },
         "mode": "markers",
         "name": "SOLAKAKA",
         "showlegend": true,
         "type": "scattergl",
         "x": {
          "bdata": "p7NMmb+tEkCY8YscBmnlvz10hT/U7fE/HaW9bNGD4j918ekBEdURQPnX7imKVdu/",
          "dtype": "f8"
         },
         "xaxis": "x",
         "y": {
          "bdata": "p4a6wQ9u/z9/3pH3Tyaxv/1wzS4EV+A/hbxcI6Nn5D+KrryWSUwBQKX2n2m7NOK/",
          "dtype": "f8"
         },
         "yaxis": "y"
        },
        {
         "hovertemplate": "<b>%{hovertext}</b><br><br>Brand=Mighty<br>แกนคุณลักษณะหลักที่ 1 (PC1)=%{x}<br>แกนคุณลักษณะหลักที่ 2 (PC2)=%{y}<extra></extra>",
         "hovertext": [
          "Mouse MM8K"
         ],
         "legendgroup": "Mighty",
         "marker": {
          "color": "#FF6692",
          "symbol": "circle"
         },
         "mode": "markers",
         "name": "Mighty",
         "showlegend": true,
         "type": "scattergl",
         "x": {
          "bdata": "z0bK0dNCGMA=",
          "dtype": "f8"
         },
         "xaxis": "x",
         "y": {
          "bdata": "D2dcKjBZAMA=",
          "dtype": "f8"
         },
         "yaxis": "y"
        },
        {
         "hovertemplate": "<b>%{hovertext}</b><br><br>Brand=Redragon<br>แกนคุณลักษณะหลักที่ 1 (PC1)=%{x}<br>แกนคุณลักษณะหลักที่ 2 (PC2)=%{y}<extra></extra>",
         "hovertext": [
          "M813 Pro",
          "M813 Wired",
          "M995 Pro",
          "M995",
          "M991",
          "M810 Pro",
          "M693",
          "M656 Gainer",
          "M913 Impact Elite",
          "M908 Impact",
          "M996",
          "M724",
          "M916 Pro 4K",
          "M916 Pro",
          "G49 Pro",
          "M711 Cobra"
         ],
         "legendgroup": "Redragon",
         "marker": {
          "color": "#B6E880",
          "symbol": "circle"
         },
         "mode": "markers",
         "name": "Redragon",
         "showlegend": true,
         "type": "scattergl",
         "x": {
          "bdata": "1tUiYQPZA0D7f8a0/DoFQKux4TovLue/q7HhOi8u57+4q1EDUUUMQAoNZQFlpARAZ+D4nVEgAED35IJ41k4QQPfGdzchOBlAVkaFJMyJGEBtY3kOs9T7v8oDYTD7zPC/8IIMmSXx9L+7XftHndPxv/CCDJkl8fS/4vunEWwVAUA=",
          "dtype": "f8"
         },
         "xaxis": "x",
         "y": {
          "bdata": "G+lsoXc98z8xKDkb1QHrP7/qzZUInuE/v+rNlQie4T+R4jXUjViNv90k9Ol4S+M/zBg29S/N1r8TIHDMvQLyv5p257rFgPQ/h8iVSbfo9T+xJm3fmDHwPwI8ULIm16i/Iz689iJn3z8Ef758Gl/PPyM+vPYiZ98/0p6w+RM55L8=",
          "dtype": "f8"
         },
         "yaxis": "y"
        },
        {
         "hovertemplate": "<b>%{hovertext}</b><br><br>Brand=JAMESDONKEY<br>แกนคุณลักษณะหลักที่ 1 (PC1)=%{x}<br>แกนคุณลักษณะหลักที่ 2 (PC2)=%{y}<extra></extra>",
         "hovertext": [
          "RSR5s",
          "RSR5"
         ],
         "legendgroup": "JAMESDONKEY",
         "marker": {
          "color": "#FF97FF",
          "symbol": "circle"
         },
         "mode": "markers",
         "name": "JAMESDONKEY",
         "showlegend": true,
         "type": "scattergl",
         "x": {
          "bdata": "SYpz99MX+r/NePbTATP7vw==",
          "dtype": "f8"
         },
         "xaxis": "x",
         "y": {
          "bdata": "OcSib4HT3D/sct76lwDjPw==",
          "dtype": "f8"
         },
         "yaxis": "y"
        },
        {
         "hovertemplate": "<b>%{hovertext}</b><br><br>Brand=ROCCAT<br>แกนคุณลักษณะหลักที่ 1 (PC1)=%{x}<br>แกนคุณลักษณะหลักที่ 2 (PC2)=%{y}<extra></extra>",
         "hovertext": [
          "LUA",
          "Kone XP Air",
          "Pure SEL",
          "Pure Air",
          "Tyon",
          "Kain 120 AIMO",
          "Kone Pure Ultra",
          "Kone AIMO Remastered",
          "Kain 100 AIMO",
          "Kain 200 AIMO",
          "Kone XP",
          "Kone Pro",
          "Kone Pro Air",
          "Burst Core",
          "Burst Pro",
          "Burst Pro Air"
         ],
         "legendgroup": "ROCCAT",
         "marker": {
          "color": "#FECB52",
          "symbol": "circle"
         },
         "mode": "markers",
         "name": "ROCCAT",
         "showlegend": true,
         "type": "scattergl",
         "x": {
          "bdata": "TuqtDY1i8L+LDXLfvUoKQJjqS8jcUPA/rUPjbml36j8Jvmq9RuAUQNdPdDaW6+Q/ST8/DR9n9D8Pzakpe3oTQEJOXzGCEek/DPM+GmVg8D/F1PKPKecIQKD/sb4tevw/Jv7AHr7C/z9ywHCG/MHEvxZdDjnWrNK/2lnkC74In78=",
          "dtype": "f8"
         },
         "xaxis": "x",
         "y": {
          "bdata": "In3TAnlyAMB1w5VayFngP5QPwfvfTNc/jfWjKeEm7D8k3yz+RC7gP28O10tjjd+/XXwEkLrrwj+Hz66Q2UPhP7wGpEOFYei/uw6pff5V7L8HnK+YZETNP+HwJTvIsuk/cixMJ5zZ4j8MFLXy2ULpv4eU/FQGqOC/OTsN9Ets6L8=",
          "dtype": "f8"
         },
         "yaxis": "y"
        },
        {
         "hovertemplate": "<b>%{hovertext}</b><br><br>Brand=Realforce<br>แกนคุณลักษณะหลักที่ 1 (PC1)=%{x}<br>แกนคุณลักษณะหลักที่ 2 (PC2)=%{y}<extra></extra>",
         "hovertext": [
          "RM1"
         ],
         "legendgroup": "Realforce",
         "marker": {
          "color": "#636efa",
          "symbol": "circle"
         },
         "mode": "markers",
         "name": "Realforce",
         "showlegend": true,
         "type": "scattergl",
         "x": {
          "bdata": "dOHIzrBI/z8=",
          "dtype": "f8"
         },
         "xaxis": "x",
         "y": {
          "bdata": "k8fWvFDCtL8=",
          "dtype": "f8"
         },
         "yaxis": "y"
        },
        {
         "hovertemplate": "<b>%{hovertext}</b><br><br>Brand=Lenovo<br>แกนคุณลักษณะหลักที่ 1 (PC1)=%{x}<br>แกนคุณลักษณะหลักที่ 2 (PC2)=%{y}<extra></extra>",
         "hovertext": [
          "Yoga Pro",
          "Legion M410",
          "Legion M600s",
          "Legion M300s"
         ],
         "legendgroup": "Lenovo",
         "marker": {
          "color": "#EF553B",
          "symbol": "circle"
         },
         "mode": "markers",
         "name": "Lenovo",
         "showlegend": true,
         "type": "scattergl",
         "x": {
          "bdata": "i7Peb1LaEUAB7iyPj8nlPxx1ufYYje6/452D+SIY8b8=",
          "dtype": "f8"
         },
         "xaxis": "x",
         "y": {
          "bdata": "7m6H7MYnEsBLOYpwa13wv12bTvwcMO6/g2vvmmlU778=",
          "dtype": "f8"
         },
         "yaxis": "y"
        },
        {
         "hovertemplate": "<b>%{hovertext}</b><br><br>Brand=HaunterWell<br>แกนคุณลักษณะหลักที่ 1 (PC1)=%{x}<br>แกนคุณลักษณะหลักที่ 2 (PC2)=%{y}<extra></extra>",
         "hovertext": [
          "HZS",
          "HMF",
          "HFC",
          "HZ1"
         ],
         "legendgroup": "HaunterWell",
         "marker": {
          "color": "#00cc96",
          "symbol": "circle"
         },
         "mode": "markers",
         "name": "HaunterWell",
         "showlegend": true,
         "type": "scattergl",
         "x": {
          "bdata": "3z02GqKMEsDRSRc2+QMTwPionZpKuA/Asi3gclcYB8A=",
          "dtype": "f8"
         },
         "xaxis": "x",
         "y": {
          "bdata": "FGww5gaa6b+KGJdfKSDwv8+2liNooOG//i7Bpbbu2D8=",
          "dtype": "f8"
         },
         "yaxis": "y"
        },
        {
         "hovertemplate": "<b>%{hovertext}</b><br><br>Brand=Akko<br>แกนคุณลักษณะหลักที่ 1 (PC1)=%{x}<br>แกนคุณลักษณะหลักที่ 2 (PC2)=%{y}<extra></extra>",
         "hovertext": [
          "Pulse 01",
          "AG ONE 8K",
          "AG One NearLink",
          "AG325W",
          "AG325C",
          "AG325"
         ],
         "legendgroup": "Akko",
         "marker": {
          "color": "#ab63fa",
          "symbol": "circle"
         },
         "mode": "markers",
         "name": "Akko",
         "showlegend": true,
         "type": "scattergl",
         "x": {
          "bdata": "8mQeovya5r/7DUYcHA/tv8jZXB+tr+e/OKHE2D2Y8T+zSTa7LLXCPy9O4Fr65sg/",
          "dtype": "f8"
         },
         "xaxis": "x",
         "y": {
          "bdata": "mNC3v3pV4D/kww1MpUzjPzO88ov+p9o/RFPifCKqFcCPhnFHYGfrvx/fLcPDne6/",
          "dtype": "f8"
         },
         "yaxis": "y"
        },
        {
         "hovertemplate": "<b>%{hovertext}</b><br><br>Brand=Pwnage<br>แกนคุณลักษณะหลักที่ 1 (PC1)=%{x}<br>แกนคุณลักษณะหลักที่ 2 (PC2)=%{y}<extra></extra>",
         "hovertext": [
          "StormBreaker V3",
          "StormBreaker V2",
          "Trinity CF",
          "StormBreaker Max CF",
          "StormBreaker",
          "Ergo Wireless",
          "Ergo",
          "Ambi Wireless",
          "Symm 2",
          "Symm 2 Wireless",
          "Symm 1",
          "Symm 1 Wireless"
         ],
         "legendgroup": "Pwnage",
         "marker": {
          "color": "#FFA15A",
          "symbol": "circle"
         },
         "mode": "markers",
         "name": "Pwnage",
         "showlegend": true,
         "type": "scattergl",
         "x": {
          "bdata": "WZfZC4ADqz/dkKHjg+PPP/VlD2CUJQLArL2+rng96T/FHBbRoUfgP0OHHG+js/U/Of2eD4Po8z/pjiBuu37rv6mpcVO/WvC/f/U4WSDF6L/NT2Y1IIrsv3GmCGi/+ea/",
          "dtype": "f8"
         },
         "xaxis": "x",
         "y": {
          "bdata": "UoaqA19nAEDbG7Q1iKn6Pwk3Y46GYvE/ADMfsvyCBEBPHJVNVmz1P+BUoea+Mtg/K7XZYiqk3D89dRlhMSbvv4YZlT/TH+S/N6ZXCo/c67/F3oFAHSDqv+/ponavIO+/",
          "dtype": "f8"
         },
         "yaxis": "y"
        },
        {
         "hovertemplate": "<b>%{hovertext}</b><br><br>Brand=Teevolution<br>แกนคุณลักษณะหลักที่ 1 (PC1)=%{x}<br>แกนคุณลักษณะหลักที่ 2 (PC2)=%{y}<extra></extra>",
         "hovertext": [
          "Terra",
          "Aria XD7",
          "Helios II Pro"
         ],
         "legendgroup": "Teevolution",
         "marker": {
          "color": "#19d3f3",
          "symbol": "circle"
         },
         "mode": "markers",
         "name": "Teevolution",
         "showlegend": true,
         "type": "scattergl",
         "x": {
          "bdata": "5u9qwmCl5j94rmCUQJbwv2wGMe9N0/K/",
          "dtype": "f8"
         },
         "xaxis": "x",
         "y": {
          "bdata": "CCz2HTO0AUCN27lE0fPQv7IzquxxGNQ/",
          "dtype": "f8"
         },
         "yaxis": "y"
        },
        {
         "hovertemplate": "<b>%{hovertext}</b><br><br>Brand=GravaStar<br>แกนคุณลักษณะหลักที่ 1 (PC1)=%{x}<br>แกนคุณลักษณะหลักที่ 2 (PC2)=%{y}<extra></extra>",
         "hovertext": [
          "Mercury X Pro",
          "Mercury X",
          "Mercury M2",
          "Mercury M1 Pro"
         ],
         "legendgroup": "GravaStar",
         "marker": {
          "color": "#FF6692",
          "symbol": "circle"
         },
         "mode": "markers",
         "name": "GravaStar",
         "showlegend": true,
         "type": "scattergl",
         "x": {
          "bdata": "C+/+18eO9b8d2601vpPsv91CmoKn6KK/Qgt48tC+kr8=",
          "dtype": "f8"
         },
         "xaxis": "x",
         "y": {
          "bdata": "t4CMs6369T8Ig6y6LJ/pPyWj0GE7u8q/8aSac6k3yb8=",
          "dtype": "f8"
         },
         "yaxis": "y"
        },
        {
         "hovertemplate": "<b>%{hovertext}</b><br><br>Brand=NZXT<br>แกนคุณลักษณะหลักที่ 1 (PC1)=%{x}<br>แกนคุณลักษณะหลักที่ 2 (PC2)=%{y}<extra></extra>",
         "hovertext": [
          "Lift Elite Wireless",
          "Lift 2 Ergo",
          "Lift 2 Symm",
          "Lift"
         ],
         "legendgroup": "NZXT",
         "marker": {
          "color": "#B6E880",
          "symbol": "circle"
         },
         "mode": "markers",
         "name": "NZXT",
         "showlegend": true,
         "type": "scattergl",
         "x": {
          "bdata": "gdS5F8jG+r/3hG1VhNboP1t75IgNDey/RcIv/ekMo78=",
          "dtype": "f8"
         },
         "xaxis": "x",
         "y": {
          "bdata": "NqceMUS71z/phAxyVWD6P0LFv6TQse8/894NVd0Ixr8=",
          "dtype": "f8"
         },
         "yaxis": "y"
        },
        {
         "hovertemplate": "<b>%{hovertext}</b><br><br>Brand=strayfe<br>แกนคุณลักษณะหลักที่ 1 (PC1)=%{x}<br>แกนคุณลักษณะหลักที่ 2 (PC2)=%{y}<extra></extra>",
         "hovertext": [
          "M55 Pro 8k"
         ],
         "legendgroup": "strayfe",
         "marker": {
          "color": "#FF97FF",
          "symbol": "circle"
         },
         "mode": "markers",
         "name": "strayfe",
         "showlegend": true,
         "type": "scattergl",
         "x": {
          "bdata": "5DZpYkgO978=",
          "dtype": "f8"
         },
         "xaxis": "x",
         "y": {
          "bdata": "Wk+nGYkV5z8=",
          "dtype": "f8"
         },
         "yaxis": "y"
        },
        {
         "hovertemplate": "<b>%{hovertext}</b><br><br>Brand=Waizowl<br>แกนคุณลักษณะหลักที่ 1 (PC1)=%{x}<br>แกนคุณลักษณะหลักที่ 2 (PC2)=%{y}<extra></extra>",
         "hovertext": [
          "OGM Cloud XS",
          "OGM One",
          "OGM Cloud V2",
          "OGM Pro V2",
          "OGM Cloud",
          "OGM Pro"
         ],
         "legendgroup": "Waizowl",
         "marker": {
          "color": "#FECB52",
          "symbol": "circle"
         },
         "mode": "markers",
         "name": "Waizowl",
         "showlegend": true,
         "type": "scattergl",
         "x": {
          "bdata": "PB+N/hgxAcDy4H1nnwfkP+WGO4V8EPC/FAem743T7781eEN53Jvlv+CyGK/px7g/",
          "dtype": "f8"
         },
         "xaxis": "x",
         "y": {
          "bdata": "CgPaeZ4p5j+1lFNq/ODpvxk92xUFHfM/PAMn5fgE9D9OamsYzyjnPyC7jfxiNMA/",
          "dtype": "f8"
         },
         "yaxis": "y"
        },
        {
         "hovertemplate": "<b>%{hovertext}</b><br><br>Brand=cOoLm0Dz<br>แกนคุณลักษณะหลักที่ 1 (PC1)=%{x}<br>แกนคุณลักษณะหลักที่ 2 (PC2)=%{y}<extra></extra>",
         "hovertext": [
          "OPt1p",
          "finalt1p"
         ],
         "legendgroup": "cOoLm0Dz",
         "marker": {
          "color": "#636efa",
          "symbol": "circle"
         },
         "mode": "markers",
         "name": "cOoLm0Dz",
         "showlegend": true,
         "type": "scattergl",
         "x": {
          "bdata": "GGbi0JSeC8CIsuYxWjwNwA==",
          "dtype": "f8"
         },
         "xaxis": "x",
         "y": {
          "bdata": "2vBYr0EztT+PH5eyLmzKPw==",
          "dtype": "f8"
         },
         "yaxis": "y"
        },
        {
         "hovertemplate": "<b>%{hovertext}</b><br><br>Brand=IPI<br>แกนคุณลักษณะหลักที่ 1 (PC1)=%{x}<br>แกนคุณลักษณะหลักที่ 2 (PC2)=%{y}<extra></extra>",
         "hovertext": [
          "Float"
         ],
         "legendgroup": "IPI",
         "marker": {
          "color": "#EF553B",
          "symbol": "circle"
         },
         "mode": "markers",
         "name": "IPI",
         "showlegend": true,
         "type": "scattergl",
         "x": {
          "bdata": "FFKFpnUXAcA=",
          "dtype": "f8"
         },
         "xaxis": "x",
         "y": {
          "bdata": "WgqFVYk85z8=",
          "dtype": "f8"
         },
         "yaxis": "y"
        },
        {
         "hovertemplate": "<b>%{hovertext}</b><br><br>Brand=PHYLINA<br>แกนคุณลักษณะหลักที่ 1 (PC1)=%{x}<br>แกนคุณลักษณะหลักที่ 2 (PC2)=%{y}<extra></extra>",
         "hovertext": [
          "S480",
          "S450 4K",
          "S450"
         ],
         "legendgroup": "PHYLINA",
         "marker": {
          "color": "#00cc96",
          "symbol": "circle"
         },
         "mode": "markers",
         "name": "PHYLINA",
         "showlegend": true,
         "type": "scattergl",
         "x": {
          "bdata": "EyEOwjH0AMDsKK9oc+nzv7cDnhfry/C/",
          "dtype": "f8"
         },
         "xaxis": "x",
         "y": {
          "bdata": "eIKWI0fe8z9RVmacOvbaP2SvEshJfcY/",
          "dtype": "f8"
         },
         "yaxis": "y"
        },
        {
         "hovertemplate": "<b>%{hovertext}</b><br><br>Brand=Amazon<br>แกนคุณลักษณะหลักที่ 1 (PC1)=%{x}<br>แกนคุณลักษณะหลักที่ 2 (PC2)=%{y}<extra></extra>",
         "hovertext": [
          "Basics Mouse"
         ],
         "legendgroup": "Amazon",
         "marker": {
          "color": "#ab63fa",
          "symbol": "circle"
         },
         "mode": "markers",
         "name": "Amazon",
         "showlegend": true,
         "type": "scattergl",
         "x": {
          "bdata": "ou0uv2iB5b8=",
          "dtype": "f8"
         },
         "xaxis": "x",
         "y": {
          "bdata": "r01EdLEvGsA=",
          "dtype": "f8"
         },
         "yaxis": "y"
        },
        {
         "hovertemplate": "<b>%{hovertext}</b><br><br>Brand=TMKB<br>แกนคุณลักษณะหลักที่ 1 (PC1)=%{x}<br>แกนคุณลักษณะหลักที่ 2 (PC2)=%{y}<extra></extra>",
         "hovertext": [
          "Falcon M1SE"
         ],
         "legendgroup": "TMKB",
         "marker": {
          "color": "#FFA15A",
          "symbol": "circle"
         },
         "mode": "markers",
         "name": "TMKB",
         "showlegend": true,
         "type": "scattergl",
         "x": {
          "bdata": "YJkbrZBHkD8=",
          "dtype": "f8"
         },
         "xaxis": "x",
         "y": {
          "bdata": "+mwww/DW4r8=",
          "dtype": "f8"
         },
         "yaxis": "y"
        },
        {
         "hovertemplate": "<b>%{hovertext}</b><br><br>Brand=Madlions<br>แกนคุณลักษณะหลักที่ 1 (PC1)=%{x}<br>แกนคุณลักษณะหลักที่ 2 (PC2)=%{y}<extra></extra>",
         "hovertext": [
          "Mad G Max",
          "Mad G"
         ],
         "legendgroup": "Madlions",
         "marker": {
          "color": "#19d3f3",
          "symbol": "circle"
         },
         "mode": "markers",
         "name": "Madlions",
         "showlegend": true,
         "type": "scattergl",
         "x": {
          "bdata": "U/KHDQGe8r8iq9G4rHjqvw==",
          "dtype": "f8"
         },
         "xaxis": "x",
         "y": {
          "bdata": "4zr5kmiG8z82cUibs9PoPw==",
          "dtype": "f8"
         },
         "yaxis": "y"
        },
        {
         "hovertemplate": "<b>%{hovertext}</b><br><br>Brand=Mountain<br>แกนคุณลักษณะหลักที่ 1 (PC1)=%{x}<br>แกนคุณลักษณะหลักที่ 2 (PC2)=%{y}<extra></extra>",
         "hovertext": [
          "Makalu Max",
          "Makalu 67"
         ],
         "legendgroup": "Mountain",
         "marker": {
          "color": "#FF6692",
          "symbol": "circle"
         },
         "mode": "markers",
         "name": "Mountain",
         "showlegend": true,
         "type": "scattergl",
         "x": {
          "bdata": "nqbh1WOKCEChRTEN0ev+Pw==",
          "dtype": "f8"
         },
         "xaxis": "x",
         "y": {
          "bdata": "QfYoiOZxsj8oGrK9QonuPw==",
          "dtype": "f8"
         },
         "yaxis": "y"
        },
        {
         "hovertemplate": "<b>%{hovertext}</b><br><br>Brand=Edifier<br>แกนคุณลักษณะหลักที่ 1 (PC1)=%{x}<br>แกนคุณลักษณะหลักที่ 2 (PC2)=%{y}<extra></extra>",
         "hovertext": [
          "Hecate G5M Pro",
          "Hecate G5M",
          "Hecate G3M Pro"
         ],
         "legendgroup": "Edifier",
         "marker": {
          "color": "#B6E880",
          "symbol": "circle"
         },
         "mode": "markers",
         "name": "Edifier",
         "showlegend": true,
         "type": "scattergl",
         "x": {
          "bdata": "WCvIesCl5b8J2CZkd/Hgv5cZ25ItgPC/",
          "dtype": "f8"
         },
         "xaxis": "x",
         "y": {
          "bdata": "WgGgUF7o1j8r1qiqLh/FP/DCNptUzNW/",
          "dtype": "f8"
         },
         "yaxis": "y"
        },
        {
         "hovertemplate": "<b>%{hovertext}</b><br><br>Brand=EVGA<br>แกนคุณลักษณะหลักที่ 1 (PC1)=%{x}<br>แกนคุณลักษณะหลักที่ 2 (PC2)=%{y}<extra></extra>",
         "hovertext": [
          "X20",
          "X17",
          "X15",
          "X12"
         ],
         "legendgroup": "EVGA",
         "marker": {
          "color": "#FF97FF",
          "symbol": "circle"
         },
         "mode": "markers",
         "name": "EVGA",
         "showlegend": true,
         "type": "scattergl",
         "x": {
          "bdata": "NzCuGKKhC0DuHq4/62kEQMLxD0YdbA1Aj2r+kbwApz8=",
          "dtype": "f8"
         },
         "xaxis": "x",
         "y": {
          "bdata": "PSkH/vHd07+8o4poufzmP8Y3iDKJOvE/qUCxrbEf3T8=",
          "dtype": "f8"
         },
         "yaxis": "y"
        },
        {
         "hovertemplate": "<b>%{hovertext}</b><br><br>Brand=8BitDo<br>แกนคุณลักษณะหลักที่ 1 (PC1)=%{x}<br>แกนคุณลักษณะหลักที่ 2 (PC2)=%{y}<extra></extra>",
         "hovertext": [
          "Retro R8"
         ],
         "legendgroup": "8BitDo",
         "marker": {
          "color": "#FECB52",
          "symbol": "circle"
         },
         "mode": "markers",
         "name": "8BitDo",
         "showlegend": true,
         "type": "scattergl",
         "x": {
          "bdata": "6CjjEWyH9r8=",
          "dtype": "f8"
         },
         "xaxis": "x",
         "y": {
          "bdata": "1TKqEus53L8=",
          "dtype": "f8"
         },
         "yaxis": "y"
        },
        {
         "hovertemplate": "<b>%{hovertext}</b><br><br>Brand=ANTGAMER<br>แกนคุณลักษณะหลักที่ 1 (PC1)=%{x}<br>แกนคุณลักษณะหลักที่ 2 (PC2)=%{y}<extra></extra>",
         "hovertext": [
          "AGM535R"
         ],
         "legendgroup": "ANTGAMER",
         "marker": {
          "color": "#636efa",
          "symbol": "circle"
         },
         "mode": "markers",
         "name": "ANTGAMER",
         "showlegend": true,
         "type": "scattergl",
         "x": {
          "bdata": "sj46oa0r778=",
          "dtype": "f8"
         },
         "xaxis": "x",
         "y": {
          "bdata": "GQBaZAqm8j8=",
          "dtype": "f8"
         },
         "yaxis": "y"
        },
        {
         "hovertemplate": "<b>%{hovertext}</b><br><br>Brand=RAKK<br>แกนคุณลักษณะหลักที่ 1 (PC1)=%{x}<br>แกนคุณลักษณะหลักที่ 2 (PC2)=%{y}<extra></extra>",
         "hovertext": [
          "Talan Aero",
          "Kaptan Wired",
          "Talan Air",
          "Talan",
          "Tanaw",
          "Kaptan Trimode",
          "MAG-AN",
          "BULUS",
          "Gahum"
         ],
         "legendgroup": "RAKK",
         "marker": {
          "color": "#EF553B",
          "symbol": "circle"
         },
         "mode": "markers",
         "name": "RAKK",
         "showlegend": true,
         "type": "scattergl",
         "x": {
          "bdata": "AwwGjYhD8b/UlUfAbKn8P74jDT80uMi/4BowQBqDzL/Js0VmOCr1v6VErSG5VNE/tch3C1UN+7+/Yw+Gyw66v9KpPl8s7eK/",
          "dtype": "f8"
         },
         "xaxis": "x",
         "y": {
          "bdata": "T+y4JLwNhz/FHPsX3rzFP7LfP+vp29S/tSHIqXdF7L9bBJdGx2rOvxHH+5l8COE/jNCa+cxg8L9/NtNGG2rzv62wYSF4MdE/",
          "dtype": "f8"
         },
         "yaxis": "y"
        },
        {
         "hovertemplate": "<b>%{hovertext}</b><br><br>Brand=Scyrox<br>แกนคุณลักษณะหลักที่ 1 (PC1)=%{x}<br>แกนคุณลักษณะหลักที่ 2 (PC2)=%{y}<extra></extra>",
         "hovertext": [
          "V6",
          "V8"
         ],
         "legendgroup": "Scyrox",
         "marker": {
          "color": "#00cc96",
          "symbol": "circle"
         },
         "mode": "markers",
         "name": "Scyrox",
         "showlegend": true,
         "type": "scattergl",
         "x": {
          "bdata": "8+ivD62//78IE+a7iTUBwA==",
          "dtype": "f8"
         },
         "xaxis": "x",
         "y": {
          "bdata": "lsF1x42t8j/rhy044q/yPw==",
          "dtype": "f8"
         },
         "yaxis": "y"
        },
        {
         "hovertemplate": "<b>%{hovertext}</b><br><br>Brand=Ragnok<br>แกนคุณลักษณะหลักที่ 1 (PC1)=%{x}<br>แกนคุณลักษณะหลักที่ 2 (PC2)=%{y}<extra></extra>",
         "hovertext": [
          "ErgoStrike7",
          "2 (FireGrip)"
         ],
         "legendgroup": "Ragnok",
         "marker": {
          "color": "#ab63fa",
          "symbol": "circle"
         },
         "mode": "markers",
         "name": "Ragnok",
         "showlegend": true,
         "type": "scattergl",
         "x": {
          "bdata": "EGQnAf0lMkBgOlUp4FYsQA==",
          "dtype": "f8"
         },
         "xaxis": "x",
         "y": {
          "bdata": "Os9AxQFUJkCUeyaQXmkiQA==",
          "dtype": "f8"
         },
         "yaxis": "y"
        },
        {
         "hovertemplate": "<b>%{hovertext}</b><br><br>Brand=Aigo<br>แกนคุณลักษณะหลักที่ 1 (PC1)=%{x}<br>แกนคุณลักษณะหลักที่ 2 (PC2)=%{y}<extra></extra>",
         "hovertext": [
          "GM80 Pro",
          "GM80 Plus",
          "GM80"
         ],
         "legendgroup": "Aigo",
         "marker": {
          "color": "#FFA15A",
          "symbol": "circle"
         },
         "mode": "markers",
         "name": "Aigo",
         "showlegend": true,
         "type": "scattergl",
         "x": {
          "bdata": "fSe/j8Dh97/WCWOVf2fyv67k9AugAvS/",
          "dtype": "f8"
         },
         "xaxis": "x",
         "y": {
          "bdata": "Cs3mT1kbq79gn54vaIPlv6UnrP+mweG/",
          "dtype": "f8"
         },
         "yaxis": "y"
        },
        {
         "hovertemplate": "<b>%{hovertext}</b><br><br>Brand=LTC<br>แกนคุณลักษณะหลักที่ 1 (PC1)=%{x}<br>แกนคุณลักษณะหลักที่ 2 (PC2)=%{y}<extra></extra>",
         "hovertext": [
          "GM022"
         ],
         "legendgroup": "LTC",
         "marker": {
          "color": "#19d3f3",
          "symbol": "circle"
         },
         "mode": "markers",
         "name": "LTC",
         "showlegend": true,
         "type": "scattergl",
         "x": {
          "bdata": "HkjOYDCS7b8=",
          "dtype": "f8"
         },
         "xaxis": "x",
         "y": {
          "bdata": "r299t3FklD8=",
          "dtype": "f8"
         },
         "yaxis": "y"
        },
        {
         "hovertemplate": "<b>%{hovertext}</b><br><br>Brand=Swiftpoint<br>แกนคุณลักษณะหลักที่ 1 (PC1)=%{x}<br>แกนคุณลักษณะหลักที่ 2 (PC2)=%{y}<extra></extra>",
         "hovertext": [
          "Z2",
          "Creator",
          "Tracer",
          "ErgoPoint"
         ],
         "legendgroup": "Swiftpoint",
         "marker": {
          "color": "#FF6692",
          "symbol": "circle"
         },
         "mode": "markers",
         "name": "Swiftpoint",
         "showlegend": true,
         "type": "scattergl",
         "x": {
          "bdata": "PV+5kTCYEUDw76uy+I8SQPDvq7L4jxJAU0Ps7EcXG0A=",
          "dtype": "f8"
         },
         "xaxis": "x",
         "y": {
          "bdata": "0icjfW278D/RlJiP6WbhP9GUmI/pZuE/YHkXd4AlBsA=",
          "dtype": "f8"
         },
         "yaxis": "y"
        },
        {
         "hovertemplate": "<b>%{hovertext}</b><br><br>Brand=MACHENIKE<br>แกนคุณลักษณะหลักที่ 1 (PC1)=%{x}<br>แกนคุณลักษณะหลักที่ 2 (PC2)=%{y}<extra></extra>",
         "hovertext": [
          "M7 Pro",
          "L8 Max",
          "L8 Air",
          "L8 Pro",
          "L7 Air"
         ],
         "legendgroup": "MACHENIKE",
         "marker": {
          "color": "#B6E880",
          "symbol": "circle"
         },
         "mode": "markers",
         "name": "MACHENIKE",
         "showlegend": true,
         "type": "scattergl",
         "x": {
          "bdata": "B1GBLo8R4b+pW/nCS4n9PwVkkFm7udE//Np8d0gU/T/ozm98SEf2vw==",
          "dtype": "f8"
         },
         "xaxis": "x",
         "y": {
          "bdata": "C83dc2It3b+3veoK/U31P7F4LBt+r9I/ETGjxBPT2D+7/PCxc5TFPw==",
          "dtype": "f8"
         },
         "yaxis": "y"
        },
        {
         "hovertemplate": "<b>%{hovertext}</b><br><br>Brand=Xiaomi<br>แกนคุณลักษณะหลักที่ 1 (PC1)=%{x}<br>แกนคุณลักษณะหลักที่ 2 (PC2)=%{y}<extra></extra>",
         "hovertext": [
          "X1"
         ],
         "legendgroup": "Xiaomi",
         "marker": {
          "color": "#FF97FF",
          "symbol": "circle"
         },
         "mode": "markers",
         "name": "Xiaomi",
         "showlegend": true,
         "type": "scattergl",
         "x": {
          "bdata": "Uk/B+NfM6r8=",
          "dtype": "f8"
         },
         "xaxis": "x",
         "y": {
          "bdata": "QIplvLjT6D8=",
          "dtype": "f8"
         },
         "yaxis": "y"
        },
        {
         "hovertemplate": "<b>%{hovertext}</b><br><br>Brand=Apple<br>แกนคุณลักษณะหลักที่ 1 (PC1)=%{x}<br>แกนคุณลักษณะหลักที่ 2 (PC2)=%{y}<extra></extra>",
         "hovertext": [
          "Magic Mouse"
         ],
         "legendgroup": "Apple",
         "marker": {
          "color": "#FECB52",
          "symbol": "circle"
         },
         "mode": "markers",
         "name": "Apple",
         "showlegend": true,
         "type": "scattergl",
         "x": {
          "bdata": "46g082V/vr8=",
          "dtype": "f8"
         },
         "xaxis": "x",
         "y": {
          "bdata": "egDnvLscJcA=",
          "dtype": "f8"
         },
         "yaxis": "y"
        },
        {
         "hovertemplate": "<b>%{hovertext}</b><br><br>Brand=HUO<br>แกนคุณลักษณะหลักที่ 1 (PC1)=%{x}<br>แกนคุณลักษณะหลักที่ 2 (PC2)=%{y}<extra></extra>",
         "hovertext": [
          "JI E-YOOSO"
         ],
         "legendgroup": "HUO",
         "marker": {
          "color": "#636efa",
          "symbol": "circle"
         },
         "mode": "markers",
         "name": "HUO",
         "showlegend": true,
         "type": "scattergl",
         "x": {
          "bdata": "CspXf0oI6r8=",
          "dtype": "f8"
         },
         "xaxis": "x",
         "y": {
          "bdata": "aWOoVDRg4D8=",
          "dtype": "f8"
         },
         "yaxis": "y"
        },
        {
         "hovertemplate": "<b>%{hovertext}</b><br><br>Brand=Nixeus<br>แกนคุณลักษณะหลักที่ 1 (PC1)=%{x}<br>แกนคุณลักษณะหลักที่ 2 (PC2)=%{y}<extra></extra>",
         "hovertext": [
          "Revel Fit",
          "Revel-X",
          "Revel"
         ],
         "legendgroup": "Nixeus",
         "marker": {
          "color": "#EF553B",
          "symbol": "circle"
         },
         "mode": "markers",
         "name": "Nixeus",
         "showlegend": true,
         "type": "scattergl",
         "x": {
          "bdata": "ETCgJgsqBkBTK7Q0X+S5vy8Zu3bdT+A/",
          "dtype": "f8"
         },
         "xaxis": "x",
         "y": {
          "bdata": "zxu8IrSTgj+50qXTZhvwvzvYmj+Peue/",
          "dtype": "f8"
         },
         "yaxis": "y"
        },
        {
         "hovertemplate": "<b>%{hovertext}</b><br><br>Brand=AIM1<br>แกนคุณลักษณะหลักที่ 1 (PC1)=%{x}<br>แกนคุณลักษณะหลักที่ 2 (PC2)=%{y}<extra></extra>",
         "hovertext": [
          "Shigure"
         ],
         "legendgroup": "AIM1",
         "marker": {
          "color": "#00cc96",
          "symbol": "circle"
         },
         "mode": "markers",
         "name": "AIM1",
         "showlegend": true,
         "type": "scattergl",
         "x": {
          "bdata": "2kZAr+Xw+r8=",
          "dtype": "f8"
         },
         "xaxis": "x",
         "y": {
          "bdata": "s7eJecYD8D8=",
          "dtype": "f8"
         },
         "yaxis": "y"
        },
        {
         "hovertemplate": "<b>%{hovertext}</b><br><br>Brand=CC<br>แกนคุณลักษณะหลักที่ 1 (PC1)=%{x}<br>แกนคุณลักษณะหลักที่ 2 (PC2)=%{y}<extra></extra>",
         "hovertext": [
          "Beanmouse LHD Small",
          "Beanmouse Small",
          "Beanmouse LHD Large",
          "Beanmouse Large"
         ],
         "legendgroup": "CC",
         "marker": {
          "color": "#ab63fa",
          "symbol": "circle"
         },
         "mode": "markers",
         "name": "CC",
         "showlegend": true,
         "type": "scattergl",
         "x": {
          "bdata": "J52UR/wJEsAnnZRH/AkSwFHbax1D0QvAUdtrHUPRC8A=",
          "dtype": "f8"
         },
         "xaxis": "x",
         "y": {
          "bdata": "RbNp8frv979Fs2nx+u/3v+nPs+gA/OO/6c+z6AD8478=",
          "dtype": "f8"
         },
         "yaxis": "y"
        },
        {
         "hovertemplate": "<b>%{hovertext}</b><br><br>Brand=Xtrfy<br>แกนคุณลักษณะหลักที่ 1 (PC1)=%{x}<br>แกนคุณลักษณะหลักที่ 2 (PC2)=%{y}<extra></extra>",
         "hovertext": [
          "M42",
          "M42 (lower back)",
          "M8 Wireless",
          "M42 Wireless",
          "M4",
          "M4 Wireless",
          "MZ1",
          "MZ1 Wireless"
         ],
         "legendgroup": "Xtrfy",
         "marker": {
          "color": "#FFA15A",
          "symbol": "circle"
         },
         "mode": "markers",
         "name": "Xtrfy",
         "showlegend": true,
         "type": "scattergl",
         "x": {
          "bdata": "HxZgUfVP7L8fFmBR9U/sv6lgXm6k0/S/ArrPPlag57/AchMKCYL0P3q9m/JccPQ/X2He7dKE+r9r5mPqVs34vw==",
          "dtype": "f8"
         },
         "xaxis": "x",
         "y": {
          "bdata": "J4OW59ET4r8ng5bn0RPiv9fWP09wSMa/2ofl5Ej15b/pdvQO5062PwVB9xGKO8I/vKDMjNCM8r+VRbapGfvzvw==",
          "dtype": "f8"
         },
         "yaxis": "y"
        },
        {
         "hovertemplate": "<b>%{hovertext}</b><br><br>Brand=Cooler<br>แกนคุณลักษณะหลักที่ 1 (PC1)=%{x}<br>แกนคุณลักษณะหลักที่ 2 (PC2)=%{y}<extra></extra>",
         "hovertext": [
          "Master CM310",
          "Master MM731",
          "Master MM730",
          "Master MM711 Lite",
          "Master MM831",
          "Master MM530",
          "Master MM531",
          "Master MM830",
          "Master CM110",
          "Master MM711",
          "Master MM710",
          "Master MM310",
          "Master MM720",
          "Master MM712"
         ],
         "legendgroup": "Cooler",
         "marker": {
          "color": "#19d3f3",
          "symbol": "circle"
         },
         "mode": "markers",
         "name": "Cooler",
         "showlegend": true,
         "type": "scattergl",
         "x": {
          "bdata": "VByEH9e49D/W5MVGzqTyPyP08qpFru4/QROJjjGm6r9fG3FKojkHQODOHDZCU/w/Rr0gPDCe+T+d29zMQ6YVQB+3yWKqZ60/RB5aP+cr7b8BMTBAWV/xv0+0MvEnNL8/0mb68dlc6D+OAsfpKTbwvw==",
          "dtype": "f8"
         },
         "xaxis": "x",
         "y": {
          "bdata": "H0CKZ4qQ6r8G6xoGfnrjP0iORc9o/eg/QzK30i2Z6r9/KqbMfWTBP32JErBrr+6/Y235JL2c6L8Hs/ptoELLP5AMJBKd0f6/eWFO1yKj5L/9zEXuNlvcv4c/r1LXbtw/1zhnv5IR0D8JCF4lI7Pevw==",
          "dtype": "f8"
         },
         "yaxis": "y"
        },
        {
         "hovertemplate": "<b>%{hovertext}</b><br><br>Brand=Higround<br>แกนคุณลักษณะหลักที่ 1 (PC1)=%{x}<br>แกนคุณลักษณะหลักที่ 2 (PC2)=%{y}<extra></extra>",
         "hovertext": [
          "Yuma"
         ],
         "legendgroup": "Higround",
         "marker": {
          "color": "#FF6692",
          "symbol": "circle"
         },
         "mode": "markers",
         "name": "Higround",
         "showlegend": true,
         "type": "scattergl",
         "x": {
          "bdata": "dwtYmJ637b8=",
          "dtype": "f8"
         },
         "xaxis": "x",
         "y": {
          "bdata": "KtcjXfad6j8=",
          "dtype": "f8"
         },
         "yaxis": "y"
        },
        {
         "hovertemplate": "<b>%{hovertext}</b><br><br>Brand=COMMATECH<br>แกนคุณลักษณะหลักที่ 1 (PC1)=%{x}<br>แกนคุณลักษณะหลักที่ 2 (PC2)=%{y}<extra></extra>",
         "hovertext": [
          "FKMINI4"
         ],
         "legendgroup": "COMMATECH",
         "marker": {
          "color": "#B6E880",
          "symbol": "circle"
         },
         "mode": "markers",
         "name": "COMMATECH",
         "showlegend": true,
         "type": "scattergl",
         "x": {
          "bdata": "4z9QKkcPBsA=",
          "dtype": "f8"
         },
         "xaxis": "x",
         "y": {
          "bdata": "wiI68Kxy5L8=",
          "dtype": "f8"
         },
         "yaxis": "y"
        },
        {
         "hovertemplate": "<b>%{hovertext}</b><br><br>Brand=Turtle<br>แกนคุณลักษณะหลักที่ 1 (PC1)=%{x}<br>แกนคุณลักษณะหลักที่ 2 (PC2)=%{y}<extra></extra>",
         "hovertext": [
          "Beach Kone II Air",
          "Beach Kone II",
          "Beach Kone XP Air",
          "Beach Burst II Air",
          "Beach Pure Air",
          "Beach Pure SEL"
         ],
         "legendgroup": "Turtle",
         "marker": {
          "color": "#FF97FF",
          "symbol": "circle"
         },
         "mode": "markers",
         "name": "Turtle",
         "showlegend": true,
         "type": "scattergl",
         "x": {
          "bdata": "L94WJDP5EEC3pe1ENZEOQIsNct+9SgpAADqiXw3t57+tQ+NuaXfqP5jqS8jcUPA/",
          "dtype": "f8"
         },
         "xaxis": "x",
         "y": {
          "bdata": "fz2KhMBq9T/2FUyGTrj7P3XDlVrIWeA/cm8PqKd/4z+N9aMp4SbsP5QPwfvfTNc/",
          "dtype": "f8"
         },
         "yaxis": "y"
        },
        {
         "hovertemplate": "<b>%{hovertext}</b><br><br>Brand=xtro<br>แกนคุณลักษณะหลักที่ 1 (PC1)=%{x}<br>แกนคุณลักษณะหลักที่ 2 (PC2)=%{y}<extra></extra>",
         "hovertext": [
          "Eris"
         ],
         "legendgroup": "xtro",
         "marker": {
          "color": "#FECB52",
          "symbol": "circle"
         },
         "mode": "markers",
         "name": "xtro",
         "showlegend": true,
         "type": "scattergl",
         "x": {
          "bdata": "3GU3LRPE8z8=",
          "dtype": "f8"
         },
         "xaxis": "x",
         "y": {
          "bdata": "24enKFgh5D8=",
          "dtype": "f8"
         },
         "yaxis": "y"
        },
        {
         "hovertemplate": "<b>%{hovertext}</b><br><br>Brand=Noir<br>แกนคุณลักษณะหลักที่ 1 (PC1)=%{x}<br>แกนคุณลักษณะหลักที่ 2 (PC2)=%{y}<extra></extra>",
         "hovertext": [
          "M1",
          "M1 Lite",
          "M2 MG",
          "M2 Pro",
          "M2"
         ],
         "legendgroup": "Noir",
         "marker": {
          "color": "#636efa",
          "symbol": "circle"
         },
         "mode": "markers",
         "name": "Noir",
         "showlegend": true,
         "type": "scattergl",
         "x": {
          "bdata": "7XxGkvDm57+cS/kxouziv9jRCBwZs/q/GhCGbd5Y9b/k6nQcVjvyvw==",
          "dtype": "f8"
         },
         "xaxis": "x",
         "y": {
          "bdata": "DtuB5oE06L9voK8e80Pxv0rO/DhPEds/L5FFnT0NgT8lpOWWV17Ovw==",
          "dtype": "f8"
         },
         "yaxis": "y"
        },
        {
         "hovertemplate": "<b>%{hovertext}</b><br><br>Brand=Vancer<br>แกนคุณลักษณะหลักที่ 1 (PC1)=%{x}<br>แกนคุณลักษณะหลักที่ 2 (PC2)=%{y}<extra></extra>",
         "hovertext": [
          "x Arbiter Studio AKITSU",
          "Thrash",
          "Groove",
          "Gretxa",
          "Gemini Castor",
          "Gemini Pollux"
         ],
         "legendgroup": "Vancer",
         "marker": {
          "color": "#EF553B",
          "symbol": "circle"
         },
         "mode": "markers",
         "name": "Vancer",
         "showlegend": true,
         "type": "scattergl",
         "x": {
          "bdata": "hbilMUVvA8CTSVC4nCDzv4zxklM2kvK/HODoz4OK2r+B2axJ2PD2v8f33+twxNU/",
          "dtype": "f8"
         },
         "xaxis": "x",
         "y": {
          "bdata": "2Mpu45ET5j9clJY3KyjlP4FFVLJ93+c/6KLn0wvW8L8jmNBAXzHCv5s+kDiTUeQ/",
          "dtype": "f8"
         },
         "yaxis": "y"
        },
        {
         "hovertemplate": "<b>%{hovertext}</b><br><br>Brand=GANSS<br>แกนคุณลักษณะหลักที่ 1 (PC1)=%{x}<br>แกนคุณลักษณะหลักที่ 2 (PC2)=%{y}<extra></extra>",
         "hovertext": [
          "FLX3 4K",
          "FLX3"
         ],
         "legendgroup": "GANSS",
         "marker": {
          "color": "#00cc96",
          "symbol": "circle"
         },
         "mode": "markers",
         "name": "GANSS",
         "showlegend": true,
         "type": "scattergl",
         "x": {
          "bdata": "HsLIGxB+4T+JDOu9ILnnPw==",
          "dtype": "f8"
         },
         "xaxis": "x",
         "y": {
          "bdata": "SShLUPgh8T9F0WfEJWjqPw==",
          "dtype": "f8"
         },
         "yaxis": "y"
        },
        {
         "hovertemplate": "<b>%{hovertext}</b><br><br>Brand=IFYOO<br>แกนคุณลักษณะหลักที่ 1 (PC1)=%{x}<br>แกนคุณลักษณะหลักที่ 2 (PC2)=%{y}<extra></extra>",
         "hovertext": [
          "G63",
          "G03 (Long)",
          "G03 (Short)"
         ],
         "legendgroup": "IFYOO",
         "marker": {
          "color": "#ab63fa",
          "symbol": "circle"
         },
         "mode": "markers",
         "name": "IFYOO",
         "showlegend": true,
         "type": "scattergl",
         "x": {
          "bdata": "REl4gaDm8b9/Pk4bm/yiP9oTLcec0c6/",
          "dtype": "f8"
         },
         "xaxis": "x",
         "y": {
          "bdata": "mdXU09z90D8yDn/MkVDCv/lcfnqOvt+/",
          "dtype": "f8"
         },
         "yaxis": "y"
        },
        {
         "hovertemplate": "<b>%{hovertext}</b><br><br>Brand=Monka<br>แกนคุณลักษณะหลักที่ 1 (PC1)=%{x}<br>แกนคุณลักษณะหลักที่ 2 (PC2)=%{y}<extra></extra>",
         "hovertext": [
          "M1 Pro Max",
          "M1 Pro",
          "M1",
          "M3 Pro",
          "M3",
          "G995W"
         ],
         "legendgroup": "Monka",
         "marker": {
          "color": "#FFA15A",
          "symbol": "circle"
         },
         "mode": "markers",
         "name": "Monka",
         "showlegend": true,
         "type": "scattergl",
         "x": {
          "bdata": "rpjZDT7z9b+umNkNPvP1v3hzyLy11fK/4vulIRJB9b+r1pTQiSPyv6kGQKVJCe+/",
          "dtype": "f8"
         },
         "xaxis": "x",
         "y": {
          "bdata": "Q769EZi6wz9Dvr0RmLrDP/N9+L0mabe/5p+KyorF0j9DCm2RqG+oP/exM6d5X5M/",
          "dtype": "f8"
         },
         "yaxis": "y"
        },
        {
         "hovertemplate": "<b>%{hovertext}</b><br><br>Brand=MSI<br>แกนคุณลักษณะหลักที่ 1 (PC1)=%{x}<br>แกนคุณลักษณะหลักที่ 2 (PC2)=%{y}<extra></extra>",
         "hovertext": [
          "Clutch GM41"
         ],
         "legendgroup": "MSI",
         "marker": {
          "color": "#19d3f3",
          "symbol": "circle"
         },
         "mode": "markers",
         "name": "MSI",
         "showlegend": true,
         "type": "scattergl",
         "x": {
          "bdata": "T+uG4DOWxT8=",
          "dtype": "f8"
         },
         "xaxis": "x",
         "y": {
          "bdata": "hypFaq33sr8=",
          "dtype": "f8"
         },
         "yaxis": "y"
        },
        {
         "hovertemplate": "<b>%{hovertext}</b><br><br>Brand=Nitrite<br>แกนคุณลักษณะหลักที่ 1 (PC1)=%{x}<br>แกนคุณลักษณะหลักที่ 2 (PC2)=%{y}<extra></extra>",
         "hovertext": [
          "Labs Carbon XT1 Wireless",
          "Labs Carbon XT1 Wired"
         ],
         "legendgroup": "Nitrite",
         "marker": {
          "color": "#FF6692",
          "symbol": "circle"
         },
         "mode": "markers",
         "name": "Nitrite",
         "showlegend": true,
         "type": "scattergl",
         "x": {
          "bdata": "lvjVEY4cDMCrNBRnxowMwA==",
          "dtype": "f8"
         },
         "xaxis": "x",
         "y": {
          "bdata": "MgxU0d6y4j+/GogOi+/kPw==",
          "dtype": "f8"
         },
         "yaxis": "y"
        },
        {
         "hovertemplate": "<b>%{hovertext}</b><br><br>Brand=TenTen<br>แกนคุณลักษณะหลักที่ 1 (PC1)=%{x}<br>แกนคุณลักษณะหลักที่ 2 (PC2)=%{y}<extra></extra>",
         "hovertext": [
          "Zero Gravity"
         ],
         "legendgroup": "TenTen",
         "marker": {
          "color": "#B6E880",
          "symbol": "circle"
         },
         "mode": "markers",
         "name": "TenTen",
         "showlegend": true,
         "type": "scattergl",
         "x": {
          "bdata": "ZZtY5rTsAMA=",
          "dtype": "f8"
         },
         "xaxis": "x",
         "y": {
          "bdata": "+r5BdhNl+T8=",
          "dtype": "f8"
         },
         "yaxis": "y"
        },
        {
         "hovertemplate": "<b>%{hovertext}</b><br><br>Brand=Nyfter<br>แกนคุณลักษณะหลักที่ 1 (PC1)=%{x}<br>แกนคุณลักษณะหลักที่ 2 (PC2)=%{y}<extra></extra>",
         "hovertext": [
          "ELT 4K"
         ],
         "legendgroup": "Nyfter",
         "marker": {
          "color": "#FF97FF",
          "symbol": "circle"
         },
         "mode": "markers",
         "name": "Nyfter",
         "showlegend": true,
         "type": "scattergl",
         "x": {
          "bdata": "6N6jot717b8=",
          "dtype": "f8"
         },
         "xaxis": "x",
         "y": {
          "bdata": "xOdpJYV82T8=",
          "dtype": "f8"
         },
         "yaxis": "y"
        },
        {
         "hovertemplate": "<b>%{hovertext}</b><br><br>Brand=IROK<br>แกนคุณลักษณะหลักที่ 1 (PC1)=%{x}<br>แกนคุณลักษณะหลักที่ 2 (PC2)=%{y}<extra></extra>",
         "hovertext": [
          "HE3 PRO",
          "HE3",
          "HE3 SE"
         ],
         "legendgroup": "IROK",
         "marker": {
          "color": "#FECB52",
          "symbol": "circle"
         },
         "mode": "markers",
         "name": "IROK",
         "showlegend": true,
         "type": "scattergl",
         "x": {
          "bdata": "+NGqh5vs9L/CrJk2E8/xv2blG4m3xOq/",
          "dtype": "f8"
         },
         "xaxis": "x",
         "y": {
          "bdata": "cVR5ZBKk0j+fruJg5WOnP1IYJrYe5eC/",
          "dtype": "f8"
         },
         "yaxis": "y"
        },
        {
         "hovertemplate": "<b>%{hovertext}</b><br><br>Brand=Alienware<br>แกนคุณลักษณะหลักที่ 1 (PC1)=%{x}<br>แกนคุณลักษณะหลักที่ 2 (PC2)=%{y}<extra></extra>",
         "hovertext": [
          "Pro Wireless",
          "AW620M",
          "AW610M",
          "AW720M",
          "AW320M"
         ],
         "legendgroup": "Alienware",
         "marker": {
          "color": "#636efa",
          "symbol": "circle"
         },
         "mode": "markers",
         "name": "Alienware",
         "showlegend": true,
         "type": "scattergl",
         "x": {
          "bdata": "lTDU5BRD77+h6Sy/qPMJQPfBWiDVwAZAEJoosQdYyL9Gii//u/Dbvw==",
          "dtype": "f8"
         },
         "xaxis": "x",
         "y": {
          "bdata": "VKDoEU0W7D98T4rHOjXwP3xhEpy18LI/qTzjcQyi6r+FLYjsR0flvw==",
          "dtype": "f8"
         },
         "yaxis": "y"
        },
        {
         "hovertemplate": "<b>%{hovertext}</b><br><br>Brand=Santali<br>แกนคุณลักษณะหลักที่ 1 (PC1)=%{x}<br>แกนคุณลักษณะหลักที่ 2 (PC2)=%{y}<extra></extra>",
         "hovertext": [
          "S1-O"
         ],
         "legendgroup": "Santali",
         "marker": {
          "color": "#EF553B",
          "symbol": "circle"
         },
         "mode": "markers",
         "name": "Santali",
         "showlegend": true,
         "type": "scattergl",
         "x": {
          "bdata": "aYKxmlkS9L8=",
          "dtype": "f8"
         },
         "xaxis": "x",
         "y": {
          "bdata": "8RoSejLW8T8=",
          "dtype": "f8"
         },
         "yaxis": "y"
        },
        {
         "hovertemplate": "<b>%{hovertext}</b><br><br>Brand=Hitscan<br>แกนคุณลักษณะหลักที่ 1 (PC1)=%{x}<br>แกนคุณลักษณะหลักที่ 2 (PC2)=%{y}<extra></extra>",
         "hovertext": [
          "Hyperlight"
         ],
         "legendgroup": "Hitscan",
         "marker": {
          "color": "#00cc96",
          "symbol": "circle"
         },
         "mode": "markers",
         "name": "Hitscan",
         "showlegend": true,
         "type": "scattergl",
         "x": {
          "bdata": "GWP+nkdQAcA=",
          "dtype": "f8"
         },
         "xaxis": "x",
         "y": {
          "bdata": "vTW+Iooe6z8=",
          "dtype": "f8"
         },
         "yaxis": "y"
        },
        {
         "hovertemplate": "<b>%{hovertext}</b><br><br>Brand=A4Tech<br>แกนคุณลักษณะหลักที่ 1 (PC1)=%{x}<br>แกนคุณลักษณะหลักที่ 2 (PC2)=%{y}<extra></extra>",
         "hovertext": [
          "XL-750BK",
          "XL-750BH",
          "Bloody V7"
         ],
         "legendgroup": "A4Tech",
         "marker": {
          "color": "#ab63fa",
          "symbol": "circle"
         },
         "mode": "markers",
         "name": "A4Tech",
         "showlegend": true,
         "type": "scattergl",
         "x": {
          "bdata": "GDwtneYeC0AYPC2d5h4LQGVzk8FtNxJA",
          "dtype": "f8"
         },
         "xaxis": "x",
         "y": {
          "bdata": "WqwH6maWFsBarAfqZpYWwMDVLO/eK/i/",
          "dtype": "f8"
         },
         "yaxis": "y"
        },
        {
         "hovertemplate": "<b>%{hovertext}</b><br><br>Brand=Zaunkoenig<br>แกนคุณลักษณะหลักที่ 1 (PC1)=%{x}<br>แกนคุณลักษณะหลักที่ 2 (PC2)=%{y}<extra></extra>",
         "hovertext": [
          "M3K",
          "M2K"
         ],
         "legendgroup": "Zaunkoenig",
         "marker": {
          "color": "#FFA15A",
          "symbol": "circle"
         },
         "mode": "markers",
         "name": "Zaunkoenig",
         "showlegend": true,
         "type": "scattergl",
         "x": {
          "bdata": "hoVZXqibE8BEDhhwEQ4TwA==",
          "dtype": "f8"
         },
         "xaxis": "x",
         "y": {
          "bdata": "4noL+0OO9b+xixg+GyX6vw==",
          "dtype": "f8"
         },
         "yaxis": "y"
        },
        {
         "hovertemplate": "<b>%{hovertext}</b><br><br>Brand=ELECOM<br>แกนคุณลักษณะหลักที่ 1 (PC1)=%{x}<br>แกนคุณลักษณะหลักที่ 2 (PC2)=%{y}<extra></extra>",
         "hovertext": [
          "VM501LBK",
          "VM501BK",
          "VM510BK",
          "VM610BK",
          "VM600PE"
         ],
         "legendgroup": "ELECOM",
         "marker": {
          "color": "#19d3f3",
          "symbol": "circle"
         },
         "mode": "markers",
         "name": "ELECOM",
         "showlegend": true,
         "type": "scattergl",
         "x": {
          "bdata": "ROEFZkxj/D8HQpcBxTLvPwegdI9TQfG/1eI+E3Qg9b8i987Y+LH4Pw==",
          "dtype": "f8"
         },
         "xaxis": "x",
         "y": {
          "bdata": "AlSUS9Yu6D+6mW5TYczTP/EN70NFb+S/bUwFZU99wb9C6kv09QDlPw==",
          "dtype": "f8"
         },
         "yaxis": "y"
        },
        {
         "hovertemplate": "<b>%{hovertext}</b><br><br>Brand=Irocks<br>แกนคุณลักษณะหลักที่ 1 (PC1)=%{x}<br>แกนคุณลักษณะหลักที่ 2 (PC2)=%{y}<extra></extra>",
         "hovertext": [
          "M31R"
         ],
         "legendgroup": "Irocks",
         "marker": {
          "color": "#FF6692",
          "symbol": "circle"
         },
         "mode": "markers",
         "name": "Irocks",
         "showlegend": true,
         "type": "scattergl",
         "x": {
          "bdata": "w+MjvRL+8T8=",
          "dtype": "f8"
         },
         "xaxis": "x",
         "y": {
          "bdata": "i1Lg4mxt5T8=",
          "dtype": "f8"
         },
         "yaxis": "y"
        },
        {
         "hovertemplate": "<b>%{hovertext}</b><br><br>Brand=GITOPER<br>แกนคุณลักษณะหลักที่ 1 (PC1)=%{x}<br>แกนคุณลักษณะหลักที่ 2 (PC2)=%{y}<extra></extra>",
         "hovertext": [
          "G1",
          "G3",
          "G2"
         ],
         "legendgroup": "GITOPER",
         "marker": {
          "color": "#B6E880",
          "symbol": "circle"
         },
         "mode": "markers",
         "name": "GITOPER",
         "showlegend": true,
         "type": "scattergl",
         "x": {
          "bdata": "nyVx3z+27D8m91g5hU3wP3KI6jpWWuC/",
          "dtype": "f8"
         },
         "xaxis": "x",
         "y": {
          "bdata": "ssLoHf026T8ufuC/W6LcP4tnsdplI9g/",
          "dtype": "f8"
         },
         "yaxis": "y"
        },
        {
         "hovertemplate": "<b>%{hovertext}</b><br><br>Brand=Cherry<br>แกนคุณลักษณะหลักที่ 1 (PC1)=%{x}<br>แกนคุณลักษณะหลักที่ 2 (PC2)=%{y}<extra></extra>",
         "hovertext": [
          "Xtrfy M50 Wireless",
          "Xtrfy M50",
          "Xtrfy M68 Pro 8K Wireless",
          "Xtrfy M68 Wireless",
          "Xtrfy M64 Pro 8K Wireless",
          "Xtrfy M64 Wireless"
         ],
         "legendgroup": "Cherry",
         "marker": {
          "color": "#FF97FF",
          "symbol": "circle"
         },
         "mode": "markers",
         "name": "Cherry",
         "showlegend": true,
         "type": "scattergl",
         "x": {
          "bdata": "nwm9vSoUqD9bGGiuRtbVv8fBpxMwRvO/3M8Ku76K6b9hV1UH9i3BP6S+JUeMS+E/",
          "dtype": "f8"
         },
         "xaxis": "x",
         "y": {
          "bdata": "RUVtbxaH8r/o/nVGQA/nv4XLeYkoVOw/3aLYlpth1z+PpV6K8Yv0PwBdA15beOg/",
          "dtype": "f8"
         },
         "yaxis": "y"
        },
        {
         "hovertemplate": "<b>%{hovertext}</b><br><br>Brand=IXILAB<br>แกนคุณลักษณะหลักที่ 1 (PC1)=%{x}<br>แกนคุณลักษณะหลักที่ 2 (PC2)=%{y}<extra></extra>",
         "hovertext": [
          "X1 Pro Max",
          "X1 Pro",
          "X1"
         ],
         "legendgroup": "IXILAB",
         "marker": {
          "color": "#FECB52",
          "symbol": "circle"
         },
         "mode": "markers",
         "name": "IXILAB",
         "showlegend": true,
         "type": "scattergl",
         "x": {
          "bdata": "YYfkPkdY9b/5E9jJtSL4v8XuxngtBfW/",
          "dtype": "f8"
         },
         "xaxis": "x",
         "y": {
          "bdata": "fAExQuDhaD9EReEKxk3KP+bfYpeVhaS/",
          "dtype": "f8"
         },
         "yaxis": "y"
        },
        {
         "hovertemplate": "<b>%{hovertext}</b><br><br>Brand=Ardor<br>แกนคุณลักษณะหลักที่ 1 (PC1)=%{x}<br>แกนคุณลักษณะหลักที่ 2 (PC2)=%{y}<extra></extra>",
         "hovertext": [
          "Gaming Immortality Pro Wireless",
          "Gaming Immortality",
          "Gaming Ulta (big back)",
          "Gaming Ulta (mid back)",
          "Gaming Ulta (small back)",
          "Gaming Prime X",
          "Gaming Prime Wireless",
          "Gaming Prime",
          "Gaming Fury Beast",
          "Gaming Fury Pro",
          "Gaming Fury",
          "Gaming Phantom Pro V2",
          "Gaming Phantom Pro",
          "Gaming Phantom Pro Wired"
         ],
         "legendgroup": "Ardor",
         "marker": {
          "color": "#636efa",
          "symbol": "circle"
         },
         "mode": "markers",
         "name": "Ardor",
         "showlegend": true,
         "type": "scattergl",
         "x": {
          "bdata": "j6SB5SlU3b9SyTLko4LnvzaCzHQrEOK/NoLMdCsQ4r82gsx0KxDiv18JgUJgh9C/VAc7jY4azb9avpXfih6zvy5BrxCDxAhAgTMcwqvSCECw86bvJWMLQERSr9Z9+Ny/HQGSObPo0b+HFstfUSPgvw==",
          "dtype": "f8"
         },
         "xaxis": "x",
         "y": {
          "bdata": "y/1IP2px5L9/SGobQq/bv6doyw8m/tC/p2jLDyb+0L+naMsPJv7Qv74EvL0/uei/cJKhPFD77L+sdT2Jd53wv1tQ/EqfPtw/MYDGcKdT2z9FHlYvxVCyP5smAiQ/tqQ/OA/Bamxb1L9rSOycjKPAvw==",
          "dtype": "f8"
         },
         "yaxis": "y"
        },
        {
         "hovertemplate": "<b>%{hovertext}</b><br><br>Brand=FineMax<br>แกนคุณลักษณะหลักที่ 1 (PC1)=%{x}<br>แกนคุณลักษณะหลักที่ 2 (PC2)=%{y}<extra></extra>",
         "hovertext": [
          "Noah"
         ],
         "legendgroup": "FineMax",
         "marker": {
          "color": "#EF553B",
          "symbol": "circle"
         },
         "mode": "markers",
         "name": "FineMax",
         "showlegend": true,
         "type": "scattergl",
         "x": {
          "bdata": "BaQgf9B37r8=",
          "dtype": "f8"
         },
         "xaxis": "x",
         "y": {
          "bdata": "8bcd5Qww2j8=",
          "dtype": "f8"
         },
         "yaxis": "y"
        },
        {
         "hovertemplate": "<b>%{hovertext}</b><br><br>Brand=Sprime<br>แกนคุณลักษณะหลักที่ 1 (PC1)=%{x}<br>แกนคุณลักษณะหลักที่ 2 (PC2)=%{y}<extra></extra>",
         "hovertext": [
          "PM1"
         ],
         "legendgroup": "Sprime",
         "marker": {
          "color": "#00cc96",
          "symbol": "circle"
         },
         "mode": "markers",
         "name": "Sprime",
         "showlegend": true,
         "type": "scattergl",
         "x": {
          "bdata": "pI1QVi4Du78=",
          "dtype": "f8"
         },
         "xaxis": "x",
         "y": {
          "bdata": "PaRUr89c+j8=",
          "dtype": "f8"
         },
         "yaxis": "y"
        },
        {
         "hovertemplate": "<b>%{hovertext}</b><br><br>Brand=Mionix<br>แกนคุณลักษณะหลักที่ 1 (PC1)=%{x}<br>แกนคุณลักษณะหลักที่ 2 (PC2)=%{y}<extra></extra>",
         "hovertext": [
          "Naos Pro",
          "Naos QG",
          "Naos 8200",
          "Naos 7000",
          "Naos 3200",
          "Castor Pro",
          "Castor"
         ],
         "legendgroup": "Mionix",
         "marker": {
          "color": "#ab63fa",
          "symbol": "circle"
         },
         "mode": "markers",
         "name": "Mionix",
         "showlegend": true,
         "type": "scattergl",
         "x": {
          "bdata": "md+G1vfPDUBFnRgRB/QOQH3nJkBtyQ5AWHLqugOlD0AGafGbFEQUQCwTMMR6PgFAV+rRTrKMA0A=",
          "dtype": "f8"
         },
         "xaxis": "x",
         "y": {
          "bdata": "Q8Yoe7H96D+iVmK/dkrgP2oFQhnLNt0/PAMkV9Mb1T+gPM9RRS0RwMk83gdHIJi/8oUtesZi4r8=",
          "dtype": "f8"
         },
         "yaxis": "y"
        },
        {
         "hovertemplate": "<b>%{hovertext}</b><br><br>Brand=Rexus<br>แกนคุณลักษณะหลักที่ 1 (PC1)=%{x}<br>แกนคุณลักษณะหลักที่ 2 (PC2)=%{y}<extra></extra>",
         "hovertext": [
          "Daxa Air IV"
         ],
         "legendgroup": "Rexus",
         "marker": {
          "color": "#FFA15A",
          "symbol": "circle"
         },
         "mode": "markers",
         "name": "Rexus",
         "showlegend": true,
         "type": "scattergl",
         "x": {
          "bdata": "USeTTCYx378=",
          "dtype": "f8"
         },
         "xaxis": "x",
         "y": {
          "bdata": "m8d15tspqz8=",
          "dtype": "f8"
         },
         "yaxis": "y"
        },
        {
         "hovertemplate": "<b>%{hovertext}</b><br><br>Brand=Atompalm<br>แกนคุณลักษณะหลักที่ 1 (PC1)=%{x}<br>แกนคุณลักษณะหลักที่ 2 (PC2)=%{y}<extra></extra>",
         "hovertext": [
          "Hydrogen 2",
          "Hydrogen"
         ],
         "legendgroup": "Atompalm",
         "marker": {
          "color": "#19d3f3",
          "symbol": "circle"
         },
         "mode": "markers",
         "name": "Atompalm",
         "showlegend": true,
         "type": "scattergl",
         "x": {
          "bdata": "ZfqwIg0m8b9l+rAiDSbxvw==",
          "dtype": "f8"
         },
         "xaxis": "x",
         "y": {
          "bdata": "+IdJ3dGY4z/4h0nd0ZjjPw==",
          "dtype": "f8"
         },
         "yaxis": "y"
        },
        {
         "hovertemplate": "<b>%{hovertext}</b><br><br>Brand=ARYE<br>แกนคุณลักษณะหลักที่ 1 (PC1)=%{x}<br>แกนคุณลักษณะหลักที่ 2 (PC2)=%{y}<extra></extra>",
         "hovertext": [
          "FCC-1"
         ],
         "legendgroup": "ARYE",
         "marker": {
          "color": "#FF6692",
          "symbol": "circle"
         },
         "mode": "markers",
         "name": "ARYE",
         "showlegend": true,
         "type": "scattergl",
         "x": {
          "bdata": "FMk1+tXVAcA=",
          "dtype": "f8"
         },
         "xaxis": "x",
         "y": {
          "bdata": "RR52oS4Dx78=",
          "dtype": "f8"
         },
         "yaxis": "y"
        },
        {
         "hovertemplate": "<b>%{hovertext}</b><br><br>Brand=Ironcat<br>แกนคุณลักษณะหลักที่ 1 (PC1)=%{x}<br>แกนคุณลักษณะหลักที่ 2 (PC2)=%{y}<extra></extra>",
         "hovertext": [
          "HPC01M Pro",
          "HPC01M",
          "HPC02M",
          "HPC02"
         ],
         "legendgroup": "Ironcat",
         "marker": {
          "color": "#B6E880",
          "symbol": "circle"
         },
         "mode": "markers",
         "name": "Ironcat",
         "showlegend": true,
         "type": "scattergl",
         "x": {
          "bdata": "xC5PYGQS9r8NCsKNmSj0v9ABrG5Kj/O/ACsymy7X4r8=",
          "dtype": "f8"
         },
         "xaxis": "x",
         "y": {
          "bdata": "rSh0QosZsb+3x3SmccLMv/DFV0HGRuO/x+Z95UF6zr8=",
          "dtype": "f8"
         },
         "yaxis": "y"
        },
        {
         "hovertemplate": "<b>%{hovertext}</b><br><br>Brand=Xinshuntian<br>แกนคุณลักษณะหลักที่ 1 (PC1)=%{x}<br>แกนคุณลักษณะหลักที่ 2 (PC2)=%{y}<extra></extra>",
         "hovertext": [
          "G820"
         ],
         "legendgroup": "Xinshuntian",
         "marker": {
          "color": "#FF97FF",
          "symbol": "circle"
         },
         "mode": "markers",
         "name": "Xinshuntian",
         "showlegend": true,
         "type": "scattergl",
         "x": {
          "bdata": "OgYQVlAI7D8=",
          "dtype": "f8"
         },
         "xaxis": "x",
         "y": {
          "bdata": "eosf9Hhb4z8=",
          "dtype": "f8"
         },
         "yaxis": "y"
        },
        {
         "hovertemplate": "<b>%{hovertext}</b><br><br>Brand=Ducky<br>แกนคุณลักษณะหลักที่ 1 (PC1)=%{x}<br>แกนคุณลักษณะหลักที่ 2 (PC2)=%{y}<extra></extra>",
         "hovertext": [
          "Feather"
         ],
         "legendgroup": "Ducky",
         "marker": {
          "color": "#FECB52",
          "symbol": "circle"
         },
         "mode": "markers",
         "name": "Ducky",
         "showlegend": true,
         "type": "scattergl",
         "x": {
          "bdata": "IdOx7Z3z4b8=",
          "dtype": "f8"
         },
         "xaxis": "x",
         "y": {
          "bdata": "i2x8PmJq4r8=",
          "dtype": "f8"
         },
         "yaxis": "y"
        },
        {
         "hovertemplate": "<b>%{hovertext}</b><br><br>Brand=Pichau<br>แกนคุณลักษณะหลักที่ 1 (PC1)=%{x}<br>แกนคุณลักษณะหลักที่ 2 (PC2)=%{y}<extra></extra>",
         "hovertext": [
          "Hive S"
         ],
         "legendgroup": "Pichau",
         "marker": {
          "color": "#636efa",
          "symbol": "circle"
         },
         "mode": "markers",
         "name": "Pichau",
         "showlegend": true,
         "type": "scattergl",
         "x": {
          "bdata": "czQ7N+1j378=",
          "dtype": "f8"
         },
         "xaxis": "x",
         "y": {
          "bdata": "OU4MKgGW4r8=",
          "dtype": "f8"
         },
         "yaxis": "y"
        },
        {
         "hovertemplate": "<b>%{hovertext}</b><br><br>Brand=Fnatic<br>แกนคุณลักษณะหลักที่ 1 (PC1)=%{x}<br>แกนคุณลักษณะหลักที่ 2 (PC2)=%{y}<extra></extra>",
         "hovertext": [
          "CLUTCH 2",
          "Bolt"
         ],
         "legendgroup": "Fnatic",
         "marker": {
          "color": "#EF553B",
          "symbol": "circle"
         },
         "mode": "markers",
         "name": "Fnatic",
         "showlegend": true,
         "type": "scattergl",
         "x": {
          "bdata": "3kAkr6wTBUBfXZ3PgQPjvw==",
          "dtype": "f8"
         },
         "xaxis": "x",
         "y": {
          "bdata": "A+dxo1FspD+cOVyXw1vgvw==",
          "dtype": "f8"
         },
         "yaxis": "y"
        },
        {
         "hovertemplate": "<b>%{hovertext}</b><br><br>Brand=Aqirys<br>แกนคุณลักษณะหลักที่ 1 (PC1)=%{x}<br>แกนคุณลักษณะหลักที่ 2 (PC2)=%{y}<extra></extra>",
         "hovertext": [
          "TGA Alpha"
         ],
         "legendgroup": "Aqirys",
         "marker": {
          "color": "#00cc96",
          "symbol": "circle"
         },
         "mode": "markers",
         "name": "Aqirys",
         "showlegend": true,
         "type": "scattergl",
         "x": {
          "bdata": "jto2YSJJ2L8=",
          "dtype": "f8"
         },
         "xaxis": "x",
         "y": {
          "bdata": "3tf1HjQuxL8=",
          "dtype": "f8"
         },
         "yaxis": "y"
        },
        {
         "hovertemplate": "<b>%{hovertext}</b><br><br>Brand=Fallen<br>แกนคุณลักษณะหลักที่ 1 (PC1)=%{x}<br>แกนคุณลักษณะหลักที่ 2 (PC2)=%{y}<extra></extra>",
         "hovertext": [
          "Pantera Pro"
         ],
         "legendgroup": "Fallen",
         "marker": {
          "color": "#ab63fa",
          "symbol": "circle"
         },
         "mode": "markers",
         "name": "Fallen",
         "showlegend": true,
         "type": "scattergl",
         "x": {
          "bdata": "w77+PFcr0r8=",
          "dtype": "f8"
         },
         "xaxis": "x",
         "y": {
          "bdata": "FgDg/Djb0L8=",
          "dtype": "f8"
         },
         "yaxis": "y"
        },
        {
         "hovertemplate": "<b>%{hovertext}</b><br><br>Brand=Drevo<br>แกนคุณลักษณะหลักที่ 1 (PC1)=%{x}<br>แกนคุณลักษณะหลักที่ 2 (PC2)=%{y}<extra></extra>",
         "hovertext": [
          "Falcon"
         ],
         "legendgroup": "Drevo",
         "marker": {
          "color": "#FFA15A",
          "symbol": "circle"
         },
         "mode": "markers",
         "name": "Drevo",
         "showlegend": true,
         "type": "scattergl",
         "x": {
          "bdata": "RwAvc1jUzT8=",
          "dtype": "f8"
         },
         "xaxis": "x",
         "y": {
          "bdata": "a5KrHJX07r8=",
          "dtype": "f8"
         },
         "yaxis": "y"
        },
        {
         "hovertemplate": "<b>%{hovertext}</b><br><br>Brand=Acer<br>แกนคุณลักษณะหลักที่ 1 (PC1)=%{x}<br>แกนคุณลักษณะหลักที่ 2 (PC2)=%{y}<extra></extra>",
         "hovertext": [
          "Cestus 330"
         ],
         "legendgroup": "Acer",
         "marker": {
          "color": "#19d3f3",
          "symbol": "circle"
         },
         "mode": "markers",
         "name": "Acer",
         "showlegend": true,
         "type": "scattergl",
         "x": {
          "bdata": "nwaW4/nK/j8=",
          "dtype": "f8"
         },
         "xaxis": "x",
         "y": {
          "bdata": "dN1iB1IHA8A=",
          "dtype": "f8"
         },
         "yaxis": "y"
        },
        {
         "hovertemplate": "<b>%{hovertext}</b><br><br>Brand=Teamwolf<br>แกนคุณลักษณะหลักที่ 1 (PC1)=%{x}<br>แกนคุณลักษณะหลักที่ 2 (PC2)=%{y}<extra></extra>",
         "hovertext": [
          "Lurker MK-01"
         ],
         "legendgroup": "Teamwolf",
         "marker": {
          "color": "#FF6692",
          "symbol": "circle"
         },
         "mode": "markers",
         "name": "Teamwolf",
         "showlegend": true,
         "type": "scattergl",
         "x": {
          "bdata": "Y9a812dY/78=",
          "dtype": "f8"
         },
         "xaxis": "x",
         "y": {
          "bdata": "/7Mn7Tlh7b8=",
          "dtype": "f8"
         },
         "yaxis": "y"
        },
        {
         "hovertemplate": "<b>%{hovertext}</b><br><br>Brand=PureTrak<br>แกนคุณลักษณะหลักที่ 1 (PC1)=%{x}<br>แกนคุณลักษณะหลักที่ 2 (PC2)=%{y}<extra></extra>",
         "hovertext": [
          "Valor Wireless"
         ],
         "legendgroup": "PureTrak",
         "marker": {
          "color": "#B6E880",
          "symbol": "circle"
         },
         "mode": "markers",
         "name": "PureTrak",
         "showlegend": true,
         "type": "scattergl",
         "x": {
          "bdata": "CLdzfSSL4b8=",
          "dtype": "f8"
         },
         "xaxis": "x",
         "y": {
          "bdata": "9bHKo821wj8=",
          "dtype": "f8"
         },
         "yaxis": "y"
        },
        {
         "hovertemplate": "<b>%{hovertext}</b><br><br>Brand=Xenics<br>แกนคุณลักษณะหลักที่ 1 (PC1)=%{x}<br>แกนคุณลักษณะหลักที่ 2 (PC2)=%{y}<extra></extra>",
         "hovertext": [
          "Titan GX Air Wireless"
         ],
         "legendgroup": "Xenics",
         "marker": {
          "color": "#FF97FF",
          "symbol": "circle"
         },
         "mode": "markers",
         "name": "Xenics",
         "showlegend": true,
         "type": "scattergl",
         "x": {
          "bdata": "ooYdf9Ne5b8=",
          "dtype": "f8"
         },
         "xaxis": "x",
         "y": {
          "bdata": "DFRdI4iA8L8=",
          "dtype": "f8"
         },
         "yaxis": "y"
        },
        {
         "hovertemplate": "<b>%{hovertext}</b><br><br>Brand=SPC<br>แกนคุณลักษณะหลักที่ 1 (PC1)=%{x}<br>แกนคุณลักษณะหลักที่ 2 (PC2)=%{y}<extra></extra>",
         "hovertext": [
          "Gear LIX Plus Wireless"
         ],
         "legendgroup": "SPC",
         "marker": {
          "color": "#FECB52",
          "symbol": "circle"
         },
         "mode": "markers",
         "name": "SPC",
         "showlegend": true,
         "type": "scattergl",
         "x": {
          "bdata": "ahx6GPOExL8=",
          "dtype": "f8"
         },
         "xaxis": "x",
         "y": {
          "bdata": "N586ZUIJyr8=",
          "dtype": "f8"
         },
         "yaxis": "y"
        },
        {
         "hovertemplate": "<b>%{hovertext}</b><br><br>Brand=Dornfinger<br>แกนคุณลักษณะหลักที่ 1 (PC1)=%{x}<br>แกนคุณลักษณะหลักที่ 2 (PC2)=%{y}<extra></extra>",
         "hovertext": [
          "Veno-S"
         ],
         "legendgroup": "Dornfinger",
         "marker": {
          "color": "#636efa",
          "symbol": "circle"
         },
         "mode": "markers",
         "name": "Dornfinger",
         "showlegend": true,
         "type": "scattergl",
         "x": {
          "bdata": "Zx0fX41B2L8=",
          "dtype": "f8"
         },
         "xaxis": "x",
         "y": {
          "bdata": "SVUlsvA11L8=",
          "dtype": "f8"
         },
         "yaxis": "y"
        },
        {
         "hovertemplate": "<b>%{hovertext}</b><br><br>Brand=Midnight<br>แกนคุณลักษณะหลักที่ 1 (PC1)=%{x}<br>แกนคุณลักษณะหลักที่ 2 (PC2)=%{y}<extra></extra>",
         "hovertext": [
          "Thread C1"
         ],
         "legendgroup": "Midnight",
         "marker": {
          "color": "#EF553B",
          "symbol": "circle"
         },
         "mode": "markers",
         "name": "Midnight",
         "showlegend": true,
         "type": "scattergl",
         "x": {
          "bdata": "BOQiARld9L8=",
          "dtype": "f8"
         },
         "xaxis": "x",
         "y": {
          "bdata": "TfQQna0U2T8=",
          "dtype": "f8"
         },
         "yaxis": "y"
        },
        {
         "hovertemplate": "<b>%{hovertext}</b><br><br>Brand=HK<br>แกนคุณลักษณะหลักที่ 1 (PC1)=%{x}<br>แกนคุณลักษณะหลักที่ 2 (PC2)=%{y}<extra></extra>",
         "hovertext": [
          "Gaming Sirius M"
         ],
         "legendgroup": "HK",
         "marker": {
          "color": "#00cc96",
          "symbol": "circle"
         },
         "mode": "markers",
         "name": "HK",
         "showlegend": true,
         "type": "scattergl",
         "x": {
          "bdata": "rA5urLGx7b8=",
          "dtype": "f8"
         },
         "xaxis": "x",
         "y": {
          "bdata": "J6uYPvnv378=",
          "dtype": "f8"
         },
         "yaxis": "y"
        },
        {
         "hovertemplate": "<b>%{hovertext}</b><br><br>Brand=CryoMods<br>แกนคุณลักษณะหลักที่ 1 (PC1)=%{x}<br>แกนคุณลักษณะหลักที่ 2 (PC2)=%{y}<extra></extra>",
         "hovertext": [
          "Fractal Wireless"
         ],
         "legendgroup": "CryoMods",
         "marker": {
          "color": "#ab63fa",
          "symbol": "circle"
         },
         "mode": "markers",
         "name": "CryoMods",
         "showlegend": true,
         "type": "scattergl",
         "x": {
          "bdata": "/gPBbXBE8b8=",
          "dtype": "f8"
         },
         "xaxis": "x",
         "y": {
          "bdata": "TDI48BcD9L8=",
          "dtype": "f8"
         },
         "yaxis": "y"
        },
        {
         "hovertemplate": "<b>%{hovertext}</b><br><br>Brand=Lethal<br>แกนคุณลักษณะหลักที่ 1 (PC1)=%{x}<br>แกนคุณลักษณะหลักที่ 2 (PC2)=%{y}<extra></extra>",
         "hovertext": [
          "Gaming Gear LA-1"
         ],
         "legendgroup": "Lethal",
         "marker": {
          "color": "#FFA15A",
          "symbol": "circle"
         },
         "mode": "markers",
         "name": "Lethal",
         "showlegend": true,
         "type": "scattergl",
         "x": {
          "bdata": "8jM64zhv8b8=",
          "dtype": "f8"
         },
         "xaxis": "x",
         "y": {
          "bdata": "NzuH0Qjfwz8=",
          "dtype": "f8"
         },
         "yaxis": "y"
        },
        {
         "hovertemplate": "<b>%{hovertext}</b><br><br>Brand=Gamesense<br>แกนคุณลักษณะหลักที่ 1 (PC1)=%{x}<br>แกนคุณลักษณะหลักที่ 2 (PC2)=%{y}<extra></extra>",
         "hovertext": [
          "MVP Wired",
          "MVP Wireless",
          "META Wired"
         ],
         "legendgroup": "Gamesense",
         "marker": {
          "color": "#19d3f3",
          "symbol": "circle"
         },
         "mode": "markers",
         "name": "Gamesense",
         "showlegend": true,
         "type": "scattergl",
         "x": {
          "bdata": "rsRNVodAyb+vSM8ne92jPy6vhRliY+y/",
          "dtype": "f8"
         },
         "xaxis": "x",
         "y": {
          "bdata": "kVyse1d/sL+Q1XLV/ZjUv/q+pxN5KPC/",
          "dtype": "f8"
         },
         "yaxis": "y"
        },
        {
         "hovertemplate": "<b>%{hovertext}</b><br><br>Brand=Dream<br>แกนคุณลักษณะหลักที่ 1 (PC1)=%{x}<br>แกนคุณลักษณะหลักที่ 2 (PC2)=%{y}<extra></extra>",
         "hovertext": [
          "Machines DM1 FPS",
          "Machines DM2 Comfy S",
          "Machines DM4 Evo",
          "Machines DM4 Evo S",
          "Machines DM5 Blink",
          "Machines DM6 Holey S",
          "Machines DM6 Holey",
          "Machines DM6 Duo",
          "Machines DM6 Trio"
         ],
         "legendgroup": "Dream",
         "marker": {
          "color": "#FF6692",
          "symbol": "circle"
         },
         "mode": "markers",
         "name": "Dream",
         "showlegend": true,
         "type": "scattergl",
         "x": {
          "bdata": "FA70T/uP3D+MCIAqh2UNQBugeYQUvwBAqobIUeNUAEDgGc3DwrECQMBW3MZuv/g/REVfo5za+T8x3Eq6Z3f8P2UqZVJqYfw/",
          "dtype": "f8"
         },
         "xaxis": "x",
         "y": {
          "bdata": "iz54KXGe37+Jek75yE/mP1TCvucM59e/HSkrA8oE0b8b4zSOXUSyv8h9FqVYaN0/KVz8Hqo61D/hkKW2cQLLP8ijJTFCNdE/",
          "dtype": "f8"
         },
         "yaxis": "y"
        }
       ],
       "layout": {
        "legend": {
         "title": {
          "text": "Brand"
         },
         "tracegroupgap": 0
        },
        "template": {
         "data": {
          "bar": [
           {
            "error_x": {
             "color": "#2a3f5f"
            },
            "error_y": {
             "color": "#2a3f5f"
            },
            "marker": {
             "line": {
              "color": "#E5ECF6",
              "width": 0.5
             },
             "pattern": {
              "fillmode": "overlay",
              "size": 10,
              "solidity": 0.2
             }
            },
            "type": "bar"
           }
          ],
          "barpolar": [
           {
            "marker": {
             "line": {
              "color": "#E5ECF6",
              "width": 0.5
             },
             "pattern": {
              "fillmode": "overlay",
              "size": 10,
              "solidity": 0.2
             }
            },
            "type": "barpolar"
           }
          ],
          "carpet": [
           {
            "aaxis": {
             "endlinecolor": "#2a3f5f",
             "gridcolor": "white",
             "linecolor": "white",
             "minorgridcolor": "white",
             "startlinecolor": "#2a3f5f"
            },
            "baxis": {
             "endlinecolor": "#2a3f5f",
             "gridcolor": "white",
             "linecolor": "white",
             "minorgridcolor": "white",
             "startlinecolor": "#2a3f5f"
            },
            "type": "carpet"
           }
          ],
          "choropleth": [
           {
            "colorbar": {
             "outlinewidth": 0,
             "ticks": ""
            },
            "type": "choropleth"
           }
          ],
          "contour": [
           {
            "colorbar": {
             "outlinewidth": 0,
             "ticks": ""
            },
            "colorscale": [
             [
              0,
              "#0d0887"
             ],
             [
              0.1111111111111111,
              "#46039f"
             ],
             [
              0.2222222222222222,
              "#7201a8"
             ],
             [
              0.3333333333333333,
              "#9c179e"
             ],
             [
              0.4444444444444444,
              "#bd3786"
             ],
             [
              0.5555555555555556,
              "#d8576b"
             ],
             [
              0.6666666666666666,
              "#ed7953"
             ],
             [
              0.7777777777777778,
              "#fb9f3a"
             ],
             [
              0.8888888888888888,
              "#fdca26"
             ],
             [
              1,
              "#f0f921"
             ]
            ],
            "type": "contour"
           }
          ],
          "contourcarpet": [
           {
            "colorbar": {
             "outlinewidth": 0,
             "ticks": ""
            },
            "type": "contourcarpet"
           }
          ],
          "heatmap": [
           {
            "colorbar": {
             "outlinewidth": 0,
             "ticks": ""
            },
            "colorscale": [
             [
              0,
              "#0d0887"
             ],
             [
              0.1111111111111111,
              "#46039f"
             ],
             [
              0.2222222222222222,
              "#7201a8"
             ],
             [
              0.3333333333333333,
              "#9c179e"
             ],
             [
              0.4444444444444444,
              "#bd3786"
             ],
             [
              0.5555555555555556,
              "#d8576b"
             ],
             [
              0.6666666666666666,
              "#ed7953"
             ],
             [
              0.7777777777777778,
              "#fb9f3a"
             ],
             [
              0.8888888888888888,
              "#fdca26"
             ],
             [
              1,
              "#f0f921"
             ]
            ],
            "type": "heatmap"
           }
          ],
          "histogram": [
           {
            "marker": {
             "pattern": {
              "fillmode": "overlay",
              "size": 10,
              "solidity": 0.2
             }
            },
            "type": "histogram"
           }
          ],
          "histogram2d": [
           {
            "colorbar": {
             "outlinewidth": 0,
             "ticks": ""
            },
            "colorscale": [
             [
              0,
              "#0d0887"
             ],
             [
              0.1111111111111111,
              "#46039f"
             ],
             [
              0.2222222222222222,
              "#7201a8"
             ],
             [
              0.3333333333333333,
              "#9c179e"
             ],
             [
              0.4444444444444444,
              "#bd3786"
             ],
             [
              0.5555555555555556,
              "#d8576b"
             ],
             [
              0.6666666666666666,
              "#ed7953"
             ],
             [
              0.7777777777777778,
              "#fb9f3a"
             ],
             [
              0.8888888888888888,
              "#fdca26"
             ],
             [
              1,
              "#f0f921"
             ]
            ],
            "type": "histogram2d"
           }
          ],
          "histogram2dcontour": [
           {
            "colorbar": {
             "outlinewidth": 0,
             "ticks": ""
            },
            "colorscale": [
             [
              0,
              "#0d0887"
             ],
             [
              0.1111111111111111,
              "#46039f"
             ],
             [
              0.2222222222222222,
              "#7201a8"
             ],
             [
              0.3333333333333333,
              "#9c179e"
             ],
             [
              0.4444444444444444,
              "#bd3786"
             ],
             [
              0.5555555555555556,
              "#d8576b"
             ],
             [
              0.6666666666666666,
              "#ed7953"
             ],
             [
              0.7777777777777778,
              "#fb9f3a"
             ],
             [
              0.8888888888888888,
              "#fdca26"
             ],
             [
              1,
              "#f0f921"
             ]
            ],
            "type": "histogram2dcontour"
           }
          ],
          "mesh3d": [
           {
            "colorbar": {
             "outlinewidth": 0,
             "ticks": ""
            },
            "type": "mesh3d"
           }
          ],
          "parcoords": [
           {
            "line": {
             "colorbar": {
              "outlinewidth": 0,
              "ticks": ""
             }
            },
            "type": "parcoords"
           }
          ],
          "pie": [
           {
            "automargin": true,
            "type": "pie"
           }
          ],
          "scatter": [
           {
            "fillpattern": {
             "fillmode": "overlay",
             "size": 10,
             "solidity": 0.2
            },
            "type": "scatter"
           }
          ],
          "scatter3d": [
           {
            "line": {
             "colorbar": {
              "outlinewidth": 0,
              "ticks": ""
             }
            },
            "marker": {
             "colorbar": {
              "outlinewidth": 0,
              "ticks": ""
             }
            },
            "type": "scatter3d"
           }
          ],
          "scattercarpet": [
           {
            "marker": {
             "colorbar": {
              "outlinewidth": 0,
              "ticks": ""
             }
            },
            "type": "scattercarpet"
           }
          ],
          "scattergeo": [
           {
            "marker": {
             "colorbar": {
              "outlinewidth": 0,
              "ticks": ""
             }
            },
            "type": "scattergeo"
           }
          ],
          "scattergl": [
           {
            "marker": {
             "colorbar": {
              "outlinewidth": 0,
              "ticks": ""
             }
            },
            "type": "scattergl"
           }
          ],
          "scattermap": [
           {
            "marker": {
             "colorbar": {
              "outlinewidth": 0,
              "ticks": ""
             }
            },
            "type": "scattermap"
           }
          ],
          "scattermapbox": [
           {
            "marker": {
             "colorbar": {
              "outlinewidth": 0,
              "ticks": ""
             }
            },
            "type": "scattermapbox"
           }
          ],
          "scatterpolar": [
           {
            "marker": {
             "colorbar": {
              "outlinewidth": 0,
              "ticks": ""
             }
            },
            "type": "scatterpolar"
           }
          ],
          "scatterpolargl": [
           {
            "marker": {
             "colorbar": {
              "outlinewidth": 0,
              "ticks": ""
             }
            },
            "type": "scatterpolargl"
           }
          ],
          "scatterternary": [
           {
            "marker": {
             "colorbar": {
              "outlinewidth": 0,
              "ticks": ""
             }
            },
            "type": "scatterternary"
           }
          ],
          "surface": [
           {
            "colorbar": {
             "outlinewidth": 0,
             "ticks": ""
            },
            "colorscale": [
             [
              0,
              "#0d0887"
             ],
             [
              0.1111111111111111,
              "#46039f"
             ],
             [
              0.2222222222222222,
              "#7201a8"
             ],
             [
              0.3333333333333333,
              "#9c179e"
             ],
             [
              0.4444444444444444,
              "#bd3786"
             ],
             [
              0.5555555555555556,
              "#d8576b"
             ],
             [
              0.6666666666666666,
              "#ed7953"
             ],
             [
              0.7777777777777778,
              "#fb9f3a"
             ],
             [
              0.8888888888888888,
              "#fdca26"
             ],
             [
              1,
              "#f0f921"
             ]
            ],
            "type": "surface"
           }
          ],
          "table": [
           {
            "cells": {
             "fill": {
              "color": "#EBF0F8"
             },
             "line": {
              "color": "white"
             }
            },
            "header": {
             "fill": {
              "color": "#C8D4E3"
             },
             "line": {
              "color": "white"
             }
            },
            "type": "table"
           }
          ]
         },
         "layout": {
          "annotationdefaults": {
           "arrowcolor": "#2a3f5f",
           "arrowhead": 0,
           "arrowwidth": 1
          },
          "autotypenumbers": "strict",
          "coloraxis": {
           "colorbar": {
            "outlinewidth": 0,
            "ticks": ""
           }
          },
          "colorscale": {
           "diverging": [
            [
             0,
             "#8e0152"
            ],
            [
             0.1,
             "#c51b7d"
            ],
            [
             0.2,
             "#de77ae"
            ],
            [
             0.3,
             "#f1b6da"
            ],
            [
             0.4,
             "#fde0ef"
            ],
            [
             0.5,
             "#f7f7f7"
            ],
            [
             0.6,
             "#e6f5d0"
            ],
            [
             0.7,
             "#b8e186"
            ],
            [
             0.8,
             "#7fbc41"
            ],
            [
             0.9,
             "#4d9221"
            ],
            [
             1,
             "#276419"
            ]
           ],
           "sequential": [
            [
             0,
             "#0d0887"
            ],
            [
             0.1111111111111111,
             "#46039f"
            ],
            [
             0.2222222222222222,
             "#7201a8"
            ],
            [
             0.3333333333333333,
             "#9c179e"
            ],
            [
             0.4444444444444444,
             "#bd3786"
            ],
            [
             0.5555555555555556,
             "#d8576b"
            ],
            [
             0.6666666666666666,
             "#ed7953"
            ],
            [
             0.7777777777777778,
             "#fb9f3a"
            ],
            [
             0.8888888888888888,
             "#fdca26"
            ],
            [
             1,
             "#f0f921"
            ]
           ],
           "sequentialminus": [
            [
             0,
             "#0d0887"
            ],
            [
             0.1111111111111111,
             "#46039f"
            ],
            [
             0.2222222222222222,
             "#7201a8"
            ],
            [
             0.3333333333333333,
             "#9c179e"
            ],
            [
             0.4444444444444444,
             "#bd3786"
            ],
            [
             0.5555555555555556,
             "#d8576b"
            ],
            [
             0.6666666666666666,
             "#ed7953"
            ],
            [
             0.7777777777777778,
             "#fb9f3a"
            ],
            [
             0.8888888888888888,
             "#fdca26"
            ],
            [
             1,
             "#f0f921"
            ]
           ]
          },
          "colorway": [
           "#636efa",
           "#EF553B",
           "#00cc96",
           "#ab63fa",
           "#FFA15A",
           "#19d3f3",
           "#FF6692",
           "#B6E880",
           "#FF97FF",
           "#FECB52"
          ],
          "font": {
           "color": "#2a3f5f"
          },
          "geo": {
           "bgcolor": "white",
           "lakecolor": "white",
           "landcolor": "#E5ECF6",
           "showlakes": true,
           "showland": true,
           "subunitcolor": "white"
          },
          "hoverlabel": {
           "align": "left"
          },
          "hovermode": "closest",
          "mapbox": {
           "style": "light"
          },
          "paper_bgcolor": "white",
          "plot_bgcolor": "#E5ECF6",
          "polar": {
           "angularaxis": {
            "gridcolor": "white",
            "linecolor": "white",
            "ticks": ""
           },
           "bgcolor": "#E5ECF6",
           "radialaxis": {
            "gridcolor": "white",
            "linecolor": "white",
            "ticks": ""
           }
          },
          "scene": {
           "xaxis": {
            "backgroundcolor": "#E5ECF6",
            "gridcolor": "white",
            "gridwidth": 2,
            "linecolor": "white",
            "showbackground": true,
            "ticks": "",
            "zerolinecolor": "white"
           },
           "yaxis": {
            "backgroundcolor": "#E5ECF6",
            "gridcolor": "white",
            "gridwidth": 2,
            "linecolor": "white",
            "showbackground": true,
            "ticks": "",
            "zerolinecolor": "white"
           },
           "zaxis": {
            "backgroundcolor": "#E5ECF6",
            "gridcolor": "white",
            "gridwidth": 2,
            "linecolor": "white",
            "showbackground": true,
            "ticks": "",
            "zerolinecolor": "white"
           }
          },
          "shapedefaults": {
           "line": {
            "color": "#2a3f5f"
           }
          },
          "ternary": {
           "aaxis": {
            "gridcolor": "white",
            "linecolor": "white",
            "ticks": ""
           },
           "baxis": {
            "gridcolor": "white",
            "linecolor": "white",
            "ticks": ""
           },
           "bgcolor": "#E5ECF6",
           "caxis": {
            "gridcolor": "white",
            "linecolor": "white",
            "ticks": ""
           }
          },
          "title": {
           "x": 0.05
          },
          "xaxis": {
           "automargin": true,
           "gridcolor": "white",
           "linecolor": "white",
           "ticks": "",
           "title": {
            "standoff": 15
           },
           "zerolinecolor": "white",
           "zerolinewidth": 2
          },
          "yaxis": {
           "automargin": true,
           "gridcolor": "white",
           "linecolor": "white",
           "ticks": "",
           "title": {
            "standoff": 15
           },
           "zerolinecolor": "white",
           "zerolinewidth": 2
          }
         }
        },
        "title": {
         "text": "ผลการวิเคราะห์ PCA ของข้อมูลเมาส์"
        },
        "xaxis": {
         "anchor": "y",
         "domain": [
          0,
          1
         ],
         "title": {
          "text": "แกนคุณลักษณะหลักที่ 1 (PC1)"
         }
        },
        "yaxis": {
         "anchor": "x",
         "domain": [
          0,
          1
         ],
         "title": {
          "text": "แกนคุณลักษณะหลักที่ 2 (PC2)"
         }
        }
       }
      }
     },
     "metadata": {},
     "output_type": "display_data"
    }
   ],
   "source": [
    "# สร้างกราฟ Scatter Plot แบบ Interactive ด้วย Plotly\n",
    "fig = px.scatter(\n",
    "    df_pca,\n",
    "    x='PC1',\n",
    "    y='PC2',\n",
    "    color='Brand', # แยกสีตามยี่ห้อ\n",
    "    hover_name='Model', # เมื่อเอาเมาส์ไปชี้จะแสดงชื่อรุ่น\n",
    "    title='ผลการวิเคราะห์ PCA ของข้อมูลเมาส์',\n",
    "    labels={'PC1': 'แกนคุณลักษณะหลักที่ 1 (PC1)', 'PC2': 'แกนคุณลักษณะหลักที่ 2 (PC2)'}\n",
    ")\n",
    "\n",
    "fig.show()"
   ]
  },
  {
   "cell_type": "markdown",
   "id": "b80f6c3b",
   "metadata": {},
   "source": [
    "#  **Find Similar Mouse using Cosine Similarity**"
   ]
  },
  {
   "cell_type": "code",
   "execution_count": 52,
   "id": "1720b926",
   "metadata": {},
   "outputs": [
    {
     "name": "stdout",
     "output_type": "stream",
     "text": [
      "คลังเมาส์ของฉัน:\n",
      "          PC1       PC2                         Model   Brand\n",
      "6   -1.812402  0.887065                     Susanto-X  Pulsar\n",
      "152 -1.496731  1.485352                        Y2 Pro     VGN\n",
      "501 -2.056864  1.259486                   MAD R Major     VXE\n",
      "983 -1.778022  0.876592  Viper Mini Signature Edition   Razer\n",
      "\n",
      "จุดศูนย์กลาง (Ideal Profile) ในแกน PCA: [-1.78600473  1.12712374]\n",
      "\n",
      "--- 5 อันดับเมาส์แนะนำที่ใกล้เคียงกับสไตล์ของคุณที่สุด ---\n",
      "                      Model   Brand  Cosine_Similarity_to_Ideal\n",
      "149  Miao AM Infinity Mouse   Angry                    1.000000\n",
      "221                 A9 Plus     ATK                    1.000000\n",
      "401              JI E-YOOSO     HUO                    0.999999\n",
      "504                Shark R2  Attack                    0.999985\n",
      "135             ZEN 8K Mini     PMM                    0.999977\n"
     ]
    },
    {
     "data": {
      "application/vnd.plotly.v1+json": {
       "config": {
        "plotlyServerURL": "https://plot.ly"
       },
       "data": [
        {
         "hovertemplate": "<b>%{hovertext}</b><br><br>Brand=AJAZZ<br>แกนคุณลักษณะหลักที่ 1 (PC1)=%{x}<br>แกนคุณลักษณะหลักที่ 2 (PC2)=%{y}<extra></extra>",
         "hovertext": [
          "T520 Max",
          "T520",
          "AJ179 V2 Max",
          "AJ179 V2",
          "AM3 Max",
          "AM3 Pro",
          "AJ179 APEX",
          "AJ179 PRO",
          "AJ179P",
          "AJ179",
          "M259",
          "AJ159APEX",
          "AJ159 PRO",
          "AJ159P",
          "AJ159",
          "AJ199 MC",
          "AJ199 Pro 4K",
          "AJ199 4K",
          "AJ139 Pro 4K",
          "AJ099",
          "AJ139 Pro",
          "AJ199"
         ],
         "legendgroup": "AJAZZ",
         "marker": {
          "color": "#636efa",
          "symbol": "circle"
         },
         "mode": "markers",
         "name": "AJAZZ",
         "showlegend": true,
         "type": "scattergl",
         "x": {
          "bdata": "Dd0iRbb07b/eUolOB5XovzBqwxvxsfg/R/WmU0Qj9j+rBKdXYUwEwKsEp1dhTATA1IUukUL8sD+1iXps7vHVP9JHjbDIguk/0keNsMiC6T8JCbqvwKPuP+Wc2G5/EP6/1eLM/Mej+b9Z4aQ/317yv1nhpD/fXvK/0muea31f8b+/6znCgyHYP6Mokumie/K/wn7PexDZ6r+6fO8rsszmv7Xn2whdRem/t/wqNv5a8b8=",
          "dtype": "f8"
         },
         "xaxis": "x",
         "y": {
          "bdata": "MZSy53n/0L+xG1p2+Nblv2qN5XDsaek/HwOhl+TB7j+UwOf+bEzGP5TA5/5sTMY/2tWaxNcW/j87tIA+Ken0PxPqlNAjfOc/E+qU0CN85z8kRSOZQ5rhP9Is70bYHPA/yixUA6e82z/9nwmrbN/Bv/2fCats38G/qOlX2lEo2r8U++4QHOfoP5Ll3uHKJ8O/rRhPojgdxz+7Dfa5qYrev9UmTTvfP7k/fQC2fOkX0L8=",
          "dtype": "f8"
         },
         "yaxis": "y"
        },
        {
         "hovertemplate": "<b>%{hovertext}</b><br><br>Brand=MCHOSE<br>แกนคุณลักษณะหลักที่ 1 (PC1)=%{x}<br>แกนคุณลักษณะหลักที่ 2 (PC2)=%{y}<extra></extra>",
         "hovertext": [
          "G3 V2 Pro",
          "G3 V2",
          "G3 A",
          "A5 V2 Ultra",
          "L7 Ultra+",
          "L7 Pro+",
          "K7 Ultra",
          "G7 Max",
          "G7 Pro",
          "G7",
          "M7 Ultra",
          "AX5 V2",
          "L7 Ultra",
          "L7 Pro",
          "L7",
          "A7 Ultra",
          "A7 Pro",
          "A7",
          "M7 Pro",
          "M7",
          "G3 Ultra",
          "G3 Max",
          "G3 Pro",
          "G3",
          "G3 SE",
          "A5 Ultra",
          "AX5 Pro Max",
          "AX5 Pro",
          "AX5",
          "A5 Pro Max",
          "A5 Pro",
          "A5"
         ],
         "legendgroup": "MCHOSE",
         "marker": {
          "color": "#EF553B",
          "symbol": "circle"
         },
         "mode": "markers",
         "name": "MCHOSE",
         "showlegend": true,
         "type": "scattergl",
         "x": {
          "bdata": "ICE4pSCW8b+lvNtCAG7rv5h/mVFac+e/GpbfE49v+r9HVYAxRwUAwNeRnzLPzPy/6ZhB+4N+87/ceZD7FVz4P2ubfo6kNf4/El9Bng/AAUAcVAk8PVT2vypQ64VG3P6/VFvigtvsBcBLftzJf7YDwEt+3Ml/tgPAFUGzQctH9b8Fh6fPE9vwv3JTY8m1//G/C5r9yYXn8b9cRpBqoKryvxcEv2m23fa/FwS/abbd9r8FG0tAQzDxv5h/mVFac+e/cLABeUWi6r+0nH4lknP4v5RhWRAo1fq/T4VCpMet9r85symWK0T4vzebVmipLvG/N5tWaKku8b+o/cNddF/yvw==",
          "dtype": "f8"
         },
         "xaxis": "x",
         "y": {
          "bdata": "NtvWIRFc0L9xKJn7+T3ovyJ2alTg2ey/2F8/Mbys4T9HfSRi2yn1P8gYNNGGr+o/Dcv4Faqr+D/XQQ9rf1gBQODo/Lue8vo/D2eRyu598T9/nf/RExT4P4vRuZ4MBPI/z+Vg8zQ58j9fiI3aDBfiP1+IjdoMF+I/FG4+obsP9z/omEg2GsTrP/dL0LUCSe4/wPfKl8rM7T90L6dDznrvP2EMvwr/MMY/YQy/Cv8wxj+vYPfeBjTSvyJ2alTg2ey/Lmsp2vQp6b+vgs5Nqi7aP70yhGZql+I/T2eMLA060D+A/rLWfo/XPy30FBZm+8S/LfQUFmb7xL/PIrYtd/azvw==",
          "dtype": "f8"
         },
         "yaxis": "y"
        },
        {
         "hovertemplate": "<b>%{hovertext}</b><br><br>Brand=G-Wolves<br>แกนคุณลักษณะหลักที่ 1 (PC1)=%{x}<br>แกนคุณลักษณะหลักที่ 2 (PC2)=%{y}<extra></extra>",
         "hovertext": [
          "Fenrir Pro 8K",
          "HTX Ultra 8K",
          "VUK",
          "HTM Plus 8K",
          "HT-S2 Pro 8K",
          "Fenrir Max 8K",
          "Fenrir Asym 8K",
          "HTS Ultra 8K",
          "HTX Mini 8K",
          "HTS Plus 8K",
          "HTR Pro 8K",
          "HT-S2 8K",
          "HTR 8K",
          "HTS Ace Wireless",
          "HTM Ace",
          "HSK Plus 4K",
          "HSK Plus Lite",
          "HTX 4K",
          "HTX Ace",
          "HSK Pro 4K",
          "HSK Pro Ace",
          "HTS Plus 4K",
          "HTS",
          "HTS Wireless",
          "HSK",
          "HSK Plus",
          "HTS Plus",
          "HTM Wireless",
          "HTM",
          "Skoll Mini",
          "Skoll"
         ],
         "legendgroup": "G-Wolves",
         "marker": {
          "color": "#00cc96",
          "symbol": "circle"
         },
         "mode": "markers",
         "name": "G-Wolves",
         "showlegend": true,
         "type": "scattergl",
         "x": {
          "bdata": "ELPSpt+5E8B/817A9XsBwNHjN5bCyfy/xnJYCum9/b90XCRC5ecGwK4oGQ6V/xLAWJx/7vdPEsDQDf3mPbgDwK4/VJgZLAnAupCOdkxw/b/oJBQr1MsQwHG+m9AmjgXArfNcB37LD8DiW7Ap5rHxvzMi7CciqOG/SejoVnIvCsDMIv7IS8wHwKkSAeYTz/2/fhEP52Xm+799Zv/Kd8gSwBuICdGPmRLAa+jnzr5w9r+wWnUY8370vx2PbG9pufG/aNAWDRslDMD7xG0N5qgHwFTU+daNcfO/JIe8wj1o17++Mg4C8zzJv/SPSuvJAeA/y1/+TDcT/D8=",
          "dtype": "f8"
         },
         "xaxis": "x",
         "y": {
          "bdata": "i6Q7bTcD379Q1KKBjA/1P7lew2qbpfg/GuBQocM5+T9E5OlxdhHxP6uFqEbCHOa/08NP3NTn57+uGtNyZtzzP8geTSkYDOM/AeyMxibc6D8T0J38OC7Mvz6ATOjOh+Q/BRISkjcSwr+X/wBjX2Tjv/LmwPImVbQ/eZnr1IR07b8A2dZKSRn2v7sgJM5CCOA/YOtGxIEA1j83/8ynUCUAwCZsj1IpOgDAzI5wucUYwz/UoAltJ7rZv5qJkUbB0OG/Y06yWGkKAcAaezgzJKz2v9PTWZb9lrq/L5uLU3Ems79iYJi9YjPYvysEjpooLdc/dqIAZP164D8=",
          "dtype": "f8"
         },
         "yaxis": "y"
        },
        {
         "hovertemplate": "<b>%{hovertext}</b><br><br>Brand=Pulsar<br>แกนคุณลักษณะหลักที่ 1 (PC1)=%{x}<br>แกนคุณลักษณะหลักที่ 2 (PC2)=%{y}<extra></extra>",
         "hovertext": [
          "Susanto-X",
          "Pro Series JV-X",
          "Xlite CrazyLight",
          "X2F",
          "ZywOo The Chosen Mouse - Mini",
          "ZywOo The Chosen Mouse - Medium",
          "Xlite v4 eS Mini",
          "Xlite v4 eS Medium",
          "X2H v3 eS Mini",
          "X2H v3 eS",
          "TenZ Signature Edition",
          "X2A v3 eS Mini",
          "X2 v3 eS Mini",
          "X2 v3 Mini",
          "X2 CrazyLight",
          "X2H v3 Mini",
          "X2H v3",
          "X2A v3",
          "X2 v3",
          "Xlite v4 Large",
          "X2A Wired",
          "X2 Wired",
          "Feinmann F01",
          "Xlite v4 Medium",
          "Xlite v4 Mini",
          "Xlite Wired",
          "Xlite V2 Mini Wireless",
          "Xlite Wireless",
          "Xlite",
          "Xlite V2 Wireless",
          "X2H Wired",
          "X3",
          "X3 Mini",
          "X3 LHD",
          "X3 LHD Mini",
          "X2A eS",
          "X2H eS",
          "Xlite v3 Large",
          "Xlite v3 Mini",
          "Xlite v3 Medium",
          "Xlite v3 eS",
          "X2A Mini",
          "X2A",
          "X2H Mini",
          "X2H",
          "X2V2 Mini",
          "X2V2",
          "X2 Mini",
          "X2"
         ],
         "legendgroup": "Pulsar",
         "marker": {
          "color": "#ab63fa",
          "symbol": "circle"
         },
         "mode": "markers",
         "name": "Pulsar",
         "showlegend": true,
         "type": "scattergl",
         "x": {
          "bdata": "JnQKPpn//L+nWE7s51Klv5tMzxBV2d6/ou7W/P7FDsAUM0/rl2qeP1IuW3of++U/ye27NhrYcD+//1MN2bfqP7Q6O5EuCPq/8YgM1CMc8r8euxYzAmf4v1DdEkrGtPy/WQg9QQ2//r9mc/P/WAEBwNtRnb79RATAGrE2gg9A/7+ESbppOrz2vzWZoN2Vhvm/qcsEhzUa+79+o385QAbzP48+DUDQ/fC/oX3K01f28r+ziY5xLqRMvw6SBlGo+98/P73JG3x5y7+EooP5NC/wPxVsQASUreE/qAmHBaqO8z8mr8sJda7vP6gJhwWqjvM/B1qA9csn7b/AX9SZAADtPw1zmegkess/wF/UmQAA7T8Nc5noJHrLPxKcrxbyIvO/UJOzrmSb8b+/CmzB7fP7P2m+zBH4+dU/aUCD7UhL8T9Ky9yiYgnuP1CQpRgyc/e/8jG0VeiY8L8gaJlxn+v1v755qarA1+q/in/6dwQV+b9mZBj/hyzyv7tDJeCPrPi/jz4NQND98L8=",
          "dtype": "f8"
         },
         "xaxis": "x",
         "y": {
          "bdata": "6TjuLtVi7D9C8Pwvb2P3PyARupIas/s/WFsjLmB8578RvOfmtID3P6uhd/ROov0/l44+1XDr8j/WcVfp0+r7P9cpyllRutI/dGQCs1FE5z9tJSwRZlD0P1kMIKjDM8I/gLpEOKnP0j9Pun8fdCzhPzU6HZPZWvA/dvqxqXuR5T8ZCiOj8MzwP2MlQCkUGec/M57Mrli26j84OM20XaECQDJAzWXEgKO/BhiWBEtkuj/Esw8+wy3+Pzolw2VDa/8/7iK2nePe9j/ffrbTJJjzPw+qDiMvmtc/NU9HmNgz6T9OKKELZpLwPzVPR5jYM+k/bd738Lk01D++B6dTqK8BQMaw6dZT3f0/vgenU6ivAUDGsOnWU939P/WGHNAOfMU/Lbc/s3L34j+hZBqhgqb4P0AubKpVheQ/sWYJgn1q8j86pQ13snn4P6gXXmaa3Ne/u5H/Pev6sL8SRcY5LF3CvxcNrE7kE84/m7oA4/oX0L+Dacjccd6nP98R2MMiCdK/MkDNZcSAo78=",
          "dtype": "f8"
         },
         "yaxis": "y"
        },
        {
         "hovertemplate": "<b>%{hovertext}</b><br><br>Brand=Dark<br>แกนคุณลักษณะหลักที่ 1 (PC1)=%{x}<br>แกนคุณลักษณะหลักที่ 2 (PC2)=%{y}<extra></extra>",
         "hovertext": [
          "Project Novus Pro",
          "Project Novus",
          "Project Novus SE",
          "Project Nexus Ultra",
          "Project Nexus"
         ],
         "legendgroup": "Dark",
         "marker": {
          "color": "#FFA15A",
          "symbol": "circle"
         },
         "mode": "markers",
         "name": "Dark",
         "showlegend": true,
         "type": "scattergl",
         "x": {
          "bdata": "E2e6FNlz9L9S3foIlCjqvy7LJK/gXeq/71isHD2N879+Vuj4TnXrvw==",
          "dtype": "f8"
         },
         "xaxis": "x",
         "y": {
          "bdata": "yko6wJFB8j/gdyYjUkfiPy4XCNT0LOI/h5pgMmuR9D+2Bp9EDCToPw==",
          "dtype": "f8"
         },
         "yaxis": "y"
        },
        {
         "hovertemplate": "<b>%{hovertext}</b><br><br>Brand=Chaos<br>แกนคุณลักษณะหลักที่ 1 (PC1)=%{x}<br>แกนคุณลักษณะหลักที่ 2 (PC2)=%{y}<extra></extra>",
         "hovertext": [
          "M3 Mini"
         ],
         "legendgroup": "Chaos",
         "marker": {
          "color": "#19d3f3",
          "symbol": "circle"
         },
         "mode": "markers",
         "name": "Chaos",
         "showlegend": true,
         "type": "scattergl",
         "x": {
          "bdata": "e6q0wM8W/78=",
          "dtype": "f8"
         },
         "xaxis": "x",
         "y": {
          "bdata": "22HLxIkA6D8=",
          "dtype": "f8"
         },
         "yaxis": "y"
        },
        {
         "hovertemplate": "<b>%{hovertext}</b><br><br>Brand=Attack<br>แกนคุณลักษณะหลักที่ 1 (PC1)=%{x}<br>แกนคุณลักษณะหลักที่ 2 (PC2)=%{y}<extra></extra>",
         "hovertext": [
          "Shark V5",
          "Shark R11 Ultra",
          "Shark X8 Ultra",
          "Shark X11 SE",
          "Shark X8 SE",
          "Shark X8 Pro",
          "Shark X8 Plus",
          "Shark G3 Pro",
          "Shark G3",
          "Shark X1",
          "Shark R5 Ultra",
          "Shark R6",
          "Shark X3 Max",
          "Shark R2",
          "Shark X11",
          "Shark R3",
          "Shark R1",
          "Shark X3 Pro",
          "Shark X6",
          "Shark X3"
         ],
         "legendgroup": "Attack",
         "marker": {
          "color": "#FF6692",
          "symbol": "circle"
         },
         "mode": "markers",
         "name": "Attack",
         "showlegend": true,
         "type": "scattergl",
         "x": {
          "bdata": "bhhZLuXS+r/4sh0OuAH6vw4zwa2F7fa/JLMe4YuA17/Ad9kONOrlv8y7f7/uX/a/nXSvBAw27r84K09d/WbyvzgrT139ZvK/nhkcgm1A979/4ZV11ugDwE88tZhaJgTAaKyv4XP++L+Ag9Zi8EUBwGm8I0oIetG/eCyKHYPXAMDGObiErjbwP+gzlZUx5fe/X0DiLv359r9Z8qNvvJH0vw==",
          "dtype": "f8"
         },
         "xaxis": "x",
         "y": {
          "bdata": "OgK2kO9R9T/VXN4gIlj5Pw+zMZJdrfg/LzviKhcp0z+OwP418wbXP9tubsGnh/c/UF9w1iC57D8mLpJTXo/VvyYuklNej9W/z3i/2q/54D82faF1ujj2P5n1n8A2//U/bFmb8IY95z9rFuoM3Ir1P/RsTC8lO8k/eJtg9Zc+4T8FCjo+bYjhP0zftbKJWtw/+YV6J389lb+/WJyRp4jDPw==",
          "dtype": "f8"
         },
         "yaxis": "y"
        },
        {
         "hovertemplate": "<b>%{hovertext}</b><br><br>Brand=LAMZU<br>แกนคุณลักษณะหลักที่ 1 (PC1)=%{x}<br>แกนคุณลักษณะหลักที่ 2 (PC2)=%{y}<extra></extra>",
         "hovertext": [
          "MAYA Champion Edition",
          "x REJECT Paro Reject Special Edition",
          "Paro Aurora",
          "x Aimlabs MAYA X",
          "Inca",
          "Tachi",
          "MAYA X",
          "x Fnatic MAYA X 8K",
          "x Fnatic MAYA 8K",
          "Paro",
          "Atlantis Mini Champion",
          "MAYA 4K",
          "x Fnatic Thorn 4K",
          "Thorn 4K",
          "Atlantis Mini 4K",
          "Atlantis Mini Pro",
          "Atlantis OG V2 4K",
          "Atlantis OG V2 Pro",
          "MAYA",
          "Atlantis OG V2",
          "Thorn",
          "Atlantis Mini",
          "Atlantis"
         ],
         "legendgroup": "LAMZU",
         "marker": {
          "color": "#B6E880",
          "symbol": "circle"
         },
         "mode": "markers",
         "name": "LAMZU",
         "showlegend": true,
         "type": "scattergl",
         "x": {
          "bdata": "CO6G7y6F/78nziH2tymsvyfOIfa3Kay/PGQwthV79b90E0ZuMmn7v9yGJ0I+IPy/PGQwthV79b9tpexQfj32vwjuhu8uhf+/ZwnwaA7wjD+rXAX2Ym7+vzwj7aagQvq/hv0XFWbF4D+G/RcVZsXgP0s+lAt7+fm/FxmDuvLb9r+faifh0CXuvzQgBT/A6ue/CP7bVRgl9780IAU/wOrnv/BHOrd2AOc/sfedeGLs9L80IAU/wOrnvw==",
          "dtype": "f8"
         },
         "xaxis": "x",
         "y": {
          "bdata": "G8Af4Jzf7D8rIrE8Fon6PysisTwWifo/Bcvb3I1b9T8hXYh5c/r1P5uO0pIxCOw/Bcvb3I1b9T9SrUfY3jD2PxvAH+Cc3+w/w5kqm6o9+D/yLSIiW23jP29gqZnDnNs/rxEIfTh18z+vEQh9OHXzP8j0BTGx9cg/1iHQ/ujlqb9mkLnLVTfgPyoiFt8Vt9A/ncOYwlvKxz8qIhbfFbfQPxCk4R2mDu8/EL+Hiq5M078qIhbfFbfQPw==",
          "dtype": "f8"
         },
         "yaxis": "y"
        },
        {
         "hovertemplate": "<b>%{hovertext}</b><br><br>Brand=ATK<br>แกนคุณลักษณะหลักที่ 1 (PC1)=%{x}<br>แกนคุณลักษณะหลักที่ 2 (PC2)=%{y}<extra></extra>",
         "hovertext": [
          "U2 Mini",
          "Duckbill",
          "X1 S",
          "X1 SE",
          "U2 Ultimate",
          "U2 Ultra",
          "U2 Pro Max",
          "U2 Pro",
          "U2 Plus",
          "U2",
          "U2 SE",
          "A9 Pro Max",
          "A9 Ultra",
          "A9 Pro",
          "A9 Plus",
          "A9 SE",
          "A9",
          "X1",
          "Fierce X",
          "F1 Extreme",
          "X1 Ultimate",
          "Z1 Ultra",
          "Z1 Pro Max",
          "X1 Ultra",
          "X1 Pro Max",
          "X1 Pro",
          "F1 Ultimate",
          "F1 Pro Max",
          "F1 Pro"
         ],
         "legendgroup": "ATK",
         "marker": {
          "color": "#FF97FF",
          "symbol": "circle"
         },
         "mode": "markers",
         "name": "ATK",
         "showlegend": true,
         "type": "scattergl",
         "x": {
          "bdata": "bv0ct3HSAMBZk4r+96MBwPKW7hX55+K/xbnFR4P23L/69mdKpZ35v5tdDrm13vm/oUcPLSHl8r9SCccRwxr3v0qMzt9wQOe/3HZoNgrY67/cdmg2Ctjrv8EQG//8wfC/sCRFiWez9r+fajkXsEbyv4oe5oMo+uK/VZkcWZuK3L9G0iK0jgPmv/VMH0jluPC/Q+CevTfeA8Bp5i69RcYCwG3WrtqWR/a/ekSnOsL92j/JbdyyatDgPwYHK7qcJfW/P6Fm79d887/r+ux6I2D1v7Tki9SzLgLAAVY7mRP4/b8FsVpLT/H/vw==",
          "dtype": "f8"
         },
         "xaxis": "x",
         "y": {
          "bdata": "P6ms7MHK9j+MB/K0gsLzPzkbImfc/uA/aOYfhLdEzz+CutzNown6P+9i/DURt/g/FUy76cah7D/uDSwihPryP1+bnXowl9Q/xWYxxnfD3j/FZjHGd8PeP1y1rI3mSu4/EK7ginr9+T9vjMYEzM/wP/JtgMJv6dc/KQuksQHRmL/7NEG60pLeP9BMx4mFqvE/yV+ZvmS78z/F63XfQcX6P2mNHkszFPw/iBHFRW4LAkA5K6CM3VIAQG5u4Q802Po/0qGXnRJn9z901VIAvHX5P5oCU2hBafk/U5F9GR6I8D/yFQ3gHszyPw==",
          "dtype": "f8"
         },
         "yaxis": "y"
        },
        {
         "hovertemplate": "<b>%{hovertext}</b><br><br>Brand=INZONE<br>แกนคุณลักษณะหลักที่ 1 (PC1)=%{x}<br>แกนคุณลักษณะหลักที่ 2 (PC2)=%{y}<extra></extra>",
         "hovertext": [
          "Mouse-A"
         ],
         "legendgroup": "INZONE",
         "marker": {
          "color": "#FECB52",
          "symbol": "circle"
         },
         "mode": "markers",
         "name": "INZONE",
         "showlegend": true,
         "type": "scattergl",
         "x": {
          "bdata": "A7df6Kqi978=",
          "dtype": "f8"
         },
         "xaxis": "x",
         "y": {
          "bdata": "JJAv5qUu8j8=",
          "dtype": "f8"
         },
         "yaxis": "y"
        },
        {
         "hovertemplate": "<b>%{hovertext}</b><br><br>Brand=VAXEE<br>แกนคุณลักษณะหลักที่ 1 (PC1)=%{x}<br>แกนคุณลักษณะหลักที่ 2 (PC2)=%{y}<extra></extra>",
         "hovertext": [
          "ZYGEN NP-01S Ergo",
          "XE v2",
          "ZYGEN NP-01S v2",
          "x Ninjutso Sora 4K",
          "E1 Wireless 4K",
          "XE-S L Wireless 4K",
          "XE-S Wireless 4K",
          "ZYGEN NP-01 Wireless 4K",
          "ZYGEN NP-01S Wireless 4K",
          "XE Wireless 4K",
          "OUTSET AX Wireless 4K",
          "OUTSET AX Wireless",
          "ZYGEN NP-01S Wireless",
          "ZYGEN NP-01S",
          "XE Wireless",
          "XE",
          "OUTSET AX",
          "ZYGEN NP-01"
         ],
         "legendgroup": "VAXEE",
         "marker": {
          "color": "#636efa",
          "symbol": "circle"
         },
         "mode": "markers",
         "name": "VAXEE",
         "showlegend": true,
         "type": "scattergl",
         "x": {
          "bdata": "6wBZQ+xZ1b8E5wYUAVfWv1fj9iagoeC/SucuVLu+5r/bII0hea7yP+aCbZ6gBO6/5oJtnqAE7r94w5EVYmXSP5du4559es+/bwrisZ1/rD9NOxwu5Gv4P4JgLX9sifs/pxNpWew4qr9kSqijcwWYPyTWgPoUBtA/n1H5EZt8oj8BOnmDD6n8P3RYFWcs9+A/",
          "dtype": "f8"
         },
         "xaxis": "x",
         "y": {
          "bdata": "wEoMCOiz4b8u8kF8oePTvxFAvBxeeOS/Aui/bIzX5L9n1Wv4n7jKP4sUVpk7bu6/ixRWmTtu7r9P4GIMVwHnvztKIiv0oO6/7Cg568w16L/WXTCA1v+vv1sKY4iQt9O/xmSog18+87+F2uSc/6D0vx7Us+PLCPC/GLw8ZDCE6L846MyhypDYv0Rzj3l5SfC/",
          "dtype": "f8"
         },
         "yaxis": "y"
        },
        {
         "hovertemplate": "<b>%{hovertext}</b><br><br>Brand=Ausdom<br>แกนคุณลักษณะหลักที่ 1 (PC1)=%{x}<br>แกนคุณลักษณะหลักที่ 2 (PC2)=%{y}<extra></extra>",
         "hovertext": [
          "G04 Ultra",
          "G04 Pro",
          "G04 Air"
         ],
         "legendgroup": "Ausdom",
         "marker": {
          "color": "#EF553B",
          "symbol": "circle"
         },
         "mode": "markers",
         "name": "Ausdom",
         "showlegend": true,
         "type": "scattergl",
         "x": {
          "bdata": "W+g27R25tb8U0D38ukyTP/XiY6RuSN4/",
          "dtype": "f8"
         },
         "xaxis": "x",
         "y": {
          "bdata": "J42jbteA/T+KwFn8tQ/6P1eBI6ae5PA/",
          "dtype": "f8"
         },
         "yaxis": "y"
        },
        {
         "hovertemplate": "<b>%{hovertext}</b><br><br>Brand=Rapoo<br>แกนคุณลักษณะหลักที่ 1 (PC1)=%{x}<br>แกนคุณลักษณะหลักที่ 2 (PC2)=%{y}<extra></extra>",
         "hovertext": [
          "VT2 Max",
          "VT2",
          "VT3S Max Gen-2",
          "VT3S Gen-2",
          "VT3 Max Gen-2",
          "VT3 Gen-2",
          "MT760 Mini",
          "MT760 Pro",
          "MT760",
          "VT7 Max",
          "VT7",
          "VT9 Pro 4K",
          "VT3 Pro Max",
          "VT3 Pro",
          "VT1 Pro Max",
          "VT1 Air Max",
          "VT1 Pro",
          "VT3S (Old)",
          "VT900",
          "VT9 Air",
          "VT9 Pro Mini",
          "VT9 Pro",
          "VT9S",
          "VT960 Pro"
         ],
         "legendgroup": "Rapoo",
         "marker": {
          "color": "#00cc96",
          "symbol": "circle"
         },
         "mode": "markers",
         "name": "Rapoo",
         "showlegend": true,
         "type": "scattergl",
         "x": {
          "bdata": "kFrUg1A6+L+ebWasNvnyv9eIoZ+2BdI/50KtEW5y1j+qjb0QdHLpP7Jqw8nPqOs/Lvgj99iUDkDOKKDCh3oVQBPFSXJNsxVA7BOAt0/l8b9oJf3aIcrwvzIvgeBGjNq/p2TvAoLj4j+vQfW73RnlP1NXzRzm8/m/f8qNNieI/b/PaEpAuNj4vyNEf4dXqs4/ql7eFUgJEEDTxJUMkFf0v5sq6dHlsuu/vDR5OEsszL+1ASwDTwasv+7A6kLXLMu/",
          "dtype": "f8"
         },
         "xaxis": "x",
         "y": {
          "bdata": "nhPNTBiO+z+xC44N2afwP8MOmui3QP4/XIYTR0z1+z+Norgq0RgBQLO86rM25v8/nR3lHUt4E8D1rqcrXSAOwHpFBMGx+Q/AC0wifBCT9D+kw5vapEfyP0+BOJHlKdc/ij1g5fWK+z8jtdlDij/5Pyno+5jK998/homKdCRF6D+JxuESHMrWP2cLMrAOm8S/goBdRhOD1b9hmI51Y5jhPzc251O6Kq0/xQpuYz/JvT8ZzkMYPGiwv0mQFAFSlJO/",
          "dtype": "f8"
         },
         "yaxis": "y"
        },
        {
         "hovertemplate": "<b>%{hovertext}</b><br><br>Brand=Freewolf<br>แกนคุณลักษณะหลักที่ 1 (PC1)=%{x}<br>แกนคุณลักษณะหลักที่ 2 (PC2)=%{y}<extra></extra>",
         "hovertext": [
          "A7",
          "A6"
         ],
         "legendgroup": "Freewolf",
         "marker": {
          "color": "#ab63fa",
          "symbol": "circle"
         },
         "mode": "markers",
         "name": "Freewolf",
         "showlegend": true,
         "type": "scattergl",
         "x": {
          "bdata": "/Dz6pnTQ6z8FW6HR6LDyvw==",
          "dtype": "f8"
         },
         "xaxis": "x",
         "y": {
          "bdata": "X++8yegA4z+97W0dc53bvw==",
          "dtype": "f8"
         },
         "yaxis": "y"
        },
        {
         "hovertemplate": "<b>%{hovertext}</b><br><br>Brand=Microsoft<br>แกนคุณลักษณะหลักที่ 1 (PC1)=%{x}<br>แกนคุณลักษณะหลักที่ 2 (PC2)=%{y}<extra></extra>",
         "hovertext": [
          "Comfort Mouse 4500",
          "Wheel Mouse Optical",
          "Sidewinder X8",
          "Classic IntelliMouse",
          "Pro IntelliMouse"
         ],
         "legendgroup": "Microsoft",
         "marker": {
          "color": "#FFA15A",
          "symbol": "circle"
         },
         "mode": "markers",
         "name": "Microsoft",
         "showlegend": true,
         "type": "scattergl",
         "x": {
          "bdata": "K0Jj8zAC+j9MLWbeos/2P2y5F2tfZxNArOWTC/XtCED8LqL7MMMIQA==",
          "dtype": "f8"
         },
         "xaxis": "x",
         "y": {
          "bdata": "Ss7M2YwWA8DIWKcFaZEXwKUKT3fclem/vdFH+1VSwb/VgDds7BS/Pw==",
          "dtype": "f8"
         },
         "yaxis": "y"
        },
        {
         "hovertemplate": "<b>%{hovertext}</b><br><br>Brand=HyperX<br>แกนคุณลักษณะหลักที่ 1 (PC1)=%{x}<br>แกนคุณลักษณะหลักที่ 2 (PC2)=%{y}<extra></extra>",
         "hovertext": [
          "Pulsefire Fuse",
          "Pulsefire Haste 2 S",
          "Pulsefire Saga Pro",
          "Pulsefire Haste 2 Pro",
          "Pulsefire Warp",
          "Pulsefire Haste 2 Core Wireless",
          "Pulsefire Surge",
          "Pulsefire Haste 2 Mini",
          "Pulsefire Haste 2 Wireless",
          "Pulsefire Haste 2 Wired",
          "Pulsefire Raid",
          "Pulsefire Dart",
          "Pulsefire FPS Pro",
          "Pulsefire Core",
          "Pulsefire Haste",
          "Pulsefire Haste Wireless"
         ],
         "legendgroup": "HyperX",
         "marker": {
          "color": "#19d3f3",
          "symbol": "circle"
         },
         "mode": "markers",
         "name": "HyperX",
         "showlegend": true,
         "type": "scattergl",
         "x": {
          "bdata": "IF+JzHvimz/4JMWfGxXav9YccmjMnO8/0FNxzY5R5r+zvW4hKj/Sv6qvDGfjArK/eMiMpbrJ2j84iAuFVtr0v2YJTyt+FuC/Gf07Lhhc8r9uyVC9L40IQFYjPFcnhgtActYL/ZRwBUCEPUWuFdHXPxv9Nucpo9a/G/025ymj1r8=",
          "dtype": "f8"
         },
         "xaxis": "x",
         "y": {
          "bdata": "v7TKG4Xi5L9+MzFzfcTAPytcMj3GYOQ/m0dLHpHP3j8qcyA7kEzpvyuLGMhgc96/f4AqWw4y9b8beSBUjszcv/aR3Mv2L84/D6nchfRL8D+xCJIy73HdP93gNR1itMk/48yZ+HJ7zz9DKZL0o/DzvwN99vgms7i/A332+CazuL8=",
          "dtype": "f8"
         },
         "yaxis": "y"
        },
        {
         "hovertemplate": "<b>%{hovertext}</b><br><br>Brand=Darmoshark<br>แกนคุณลักษณะหลักที่ 1 (PC1)=%{x}<br>แกนคุณลักษณะหลักที่ 2 (PC2)=%{y}<extra></extra>",
         "hovertext": [
          "M2 Air",
          "M5 Air",
          "N3 Pro",
          "M3 Micro Pro",
          "N7 Max",
          "N7",
          "M3 XS Pro",
          "M2 Pro",
          "M3S MAX",
          "M5 Pro",
          "M3 Pro Max",
          "N5",
          "M3 XS",
          "M2",
          "M5",
          "M3 Micro",
          "M3S Pro",
          "M3 Pro",
          "M3S",
          "M3 4K",
          "N3",
          "M3"
         ],
         "legendgroup": "Darmoshark",
         "marker": {
          "color": "#FF6692",
          "symbol": "circle"
         },
         "mode": "markers",
         "name": "Darmoshark",
         "showlegend": true,
         "type": "scattergl",
         "x": {
          "bdata": "V9k3wZ5TBMCunrEX+6MOwEcd77LVreI/zBoXfj9zC8AJjPpkUXfOPyF5m67nOdU/SoffaNI9A8DTz3kOWA0EwGd1SFBVVfq/0LwVVgL/DMBwC/vquSzvvzq3knvDfuI/5aGSRIucAMCfymxSCKEBwGrXyDG7XQrAiqPVj6jlCsBKitCvnkn0v31U14DRaeK/JhzFee418r/UAjHpAYPUv4nO0+p18+4/s62gd0oJ2L8=",
          "dtype": "f8"
         },
         "xaxis": "x",
         "y": {
          "bdata": "iCIXy8dQ5T+dZbtG/GnBv2wvZSGKSvQ/pjiTT1IM1b8frb8e9yD+PxqOw5Qcg/w/6KhebGzg4T/r/cJJkujlP0QgVChdaOs/BxoiaESC2r+884E4IOX2P/QDr+HQvPg/HMicyIp5tj+E7UCeaVzPP+ccXEddUuy/RVqt1QA63r9zI/uXXBfVP0j+cNv/T+w/wUh6j/E5xT+uAo8Gsa7kP9MJv2F4t+g/dCUKccip5D8=",
          "dtype": "f8"
         },
         "yaxis": "y"
        },
        {
         "hovertemplate": "<b>%{hovertext}</b><br><br>Brand=Flickshot<br>แกนคุณลักษณะหลักที่ 1 (PC1)=%{x}<br>แกนคุณลักษณะหลักที่ 2 (PC2)=%{y}<extra></extra>",
         "hovertext": [
          "One Pro"
         ],
         "legendgroup": "Flickshot",
         "marker": {
          "color": "#B6E880",
          "symbol": "circle"
         },
         "mode": "markers",
         "name": "Flickshot",
         "showlegend": true,
         "type": "scattergl",
         "x": {
          "bdata": "8OrL6g45AcA=",
          "dtype": "f8"
         },
         "xaxis": "x",
         "y": {
          "bdata": "EPBB6FW19D8=",
          "dtype": "f8"
         },
         "yaxis": "y"
        },
        {
         "hovertemplate": "<b>%{hovertext}</b><br><br>Brand=Keychron<br>แกนคุณลักษณะหลักที่ 1 (PC1)=%{x}<br>แกนคุณลักษณะหลักที่ 2 (PC2)=%{y}<extra></extra>",
         "hovertext": [
          "M6 8K",
          "M6 Lite",
          "M4 8K",
          "M3 8K",
          "M3 Lite",
          "M2 8K",
          "M2 4K",
          "M6 4K",
          "M3 Mini 8K",
          "M5",
          "M7 8K",
          "Lemokey G2",
          "Lemokey G1",
          "M7",
          "M4",
          "M4 4K",
          "M6",
          "M3 Mini 4K - Metal Edition",
          "M2 Mini",
          "M3 Mini 4K",
          "M3 4K",
          "M3",
          "M2",
          "M1 Wireless",
          "M1 Wired",
          "M3 Mini"
         ],
         "legendgroup": "Keychron",
         "marker": {
          "color": "#FF97FF",
          "symbol": "circle"
         },
         "mode": "markers",
         "name": "Keychron",
         "showlegend": true,
         "type": "scattergl",
         "x": {
          "bdata": "xcRcK4gXBkArXhe6IzcMQHqwYnWWhxHAtGZgHoopyr/vS1KzC/ThP6ecPmQUEtQ/6eNSwyaO5D84FlGYWVwHQKZaV8rqoPW/ihVbCizIGEA9aknEwTn9P0lzmbT9RPy/NOJDk0nM/b8fLfou7MwCQPPo750h3w7Axz084/I2EMDTqNnAHesIQN9fu9mxyem/WWrKz+7/wT/aj72BXF7wv0ff20zQ1b8/pox7V5Vr1D9ULnVlN8nqPyvN9k5Jx8E/H7nj8vWAqz9K1VhhqIHqvw==",
          "dtype": "f8"
         },
         "xaxis": "x",
         "y": {
          "bdata": "kiTmLtFcAkAcpLiwJjvxP8yFy9p0//C/OMoSAJo76j+k/yi0uoLZvx9v9OZVi/s/LOdOXbgC9D+FIqi9B8L/Px55cLj+0ew/bACjjfxvEUBww+zt1dsBQG60iFuFreY/mW4onlm/4D9EvxzkKEH4P2ZNiNL3dfy/vg1xZBKI+L/d4pBPItT7P9DWLkE25sc/O8Rz9Axb4T900kpKh4HbP6Z0j9m9VNY/JdjJhKB0uj+Epzfv0hTwPwHipODrY4y/ZzxiF5nkt7+op9sj45PHPw==",
          "dtype": "f8"
         },
         "yaxis": "y"
        },
        {
         "hovertemplate": "<b>%{hovertext}</b><br><br>Brand=Endgame<br>แกนคุณลักษณะหลักที่ 1 (PC1)=%{x}<br>แกนคุณลักษณะหลักที่ 2 (PC2)=%{y}<extra></extra>",
         "hovertext": [
          "Gear XM2w 4k v2",
          "Gear XM2 8k v2",
          "Gear OP1 8k v2",
          "Gear OP1w 4k v2",
          "Gear OP1w 4k",
          "Gear XM2w 4k",
          "Gear XM2 8k",
          "Gear OP1 8k",
          "Gear OP1 8k Purple",
          "Gear OP1we",
          "Gear OP1 RGB",
          "Gear OP1",
          "Gear XM2we",
          "Gear XM2w",
          "Gear XM1",
          "Gear XM1 RGB",
          "Gear XM1r"
         ],
         "legendgroup": "Endgame",
         "marker": {
          "color": "#FECB52",
          "symbol": "circle"
         },
         "mode": "markers",
         "name": "Endgame",
         "showlegend": true,
         "type": "scattergl",
         "x": {
          "bdata": "WyKrtQX/6r84RLSlM331v8w9ABJ1lgDAqtIz7SNf+b8m5LAQ9kP4v9qv979uZui/9oraKugw9L9zPaLb6an/v/uVEtyLYgDAip26fd02879X7J6yLv33v/c7eh4BZfi/XO9fQY4P2797Onqk52bhv/aUtREU/8m/d/HEXkWutT8HlmOeE1HQvw==",
          "dtype": "f8"
         },
         "xaxis": "x",
         "y": {
          "bdata": "fkHLNGXm3j/YbE0/WTrxP8GUpwsP+eI/AsnC/Utncb+EWSJsl+bCv+JmGBNn3tQ/YmzBbbNw7T9k5XPwcNnaP4EDR7uPA+I/HPONbGmd5L/Fc0wS1nvHv8ouytDYpcO/EYlHjn47yb9Xsk8ckZGrP497Ea5ccN+/nGkxounz6b9W4n3JGY7Yvw==",
          "dtype": "f8"
         },
         "yaxis": "y"
        },
        {
         "hovertemplate": "<b>%{hovertext}</b><br><br>Brand=AULA<br>แกนคุณลักษณะหลักที่ 1 (PC1)=%{x}<br>แกนคุณลักษณะหลักที่ 2 (PC2)=%{y}<extra></extra>",
         "hovertext": [
          "SC360",
          "SC900 Pro",
          "SC900 Max",
          "SC620",
          "SC800",
          "SC580",
          "SC680"
         ],
         "legendgroup": "AULA",
         "marker": {
          "color": "#636efa",
          "symbol": "circle"
         },
         "mode": "markers",
         "name": "AULA",
         "showlegend": true,
         "type": "scattergl",
         "x": {
          "bdata": "rZqivMMg6b+EwCMQvEnzPwDSoDOOLvI/glHLyjWL8j9VvYbsM1j7v+l7hoLxLtC/Lh/6Z+Uw9L8=",
          "dtype": "f8"
         },
         "xaxis": "x",
         "y": {
          "bdata": "srtHsOb62b9zAdT97nz+P+5ErU8tZABA9It7EolioL/5mTUe9dPWP1QIFFPxMPe/3Ly6x0MH5z8=",
          "dtype": "f8"
         },
         "yaxis": "y"
        },
        {
         "hovertemplate": "<b>%{hovertext}</b><br><br>Brand=Incott<br>แกนคุณลักษณะหลักที่ 1 (PC1)=%{x}<br>แกนคุณลักษณะหลักที่ 2 (PC2)=%{y}<extra></extra>",
         "hovertext": [
          "039 Pro",
          "39",
          "039 SC",
          "029 Pro",
          "29",
          "029 SC",
          "G23 V2 Pro",
          "G23 V2",
          "G23 V2 SC",
          "G24 Pro",
          "G24",
          "G23 Pro",
          "G23",
          "GHERO Pro",
          "GHERO"
         ],
         "legendgroup": "Incott",
         "marker": {
          "color": "#EF553B",
          "symbol": "circle"
         },
         "mode": "markers",
         "name": "Incott",
         "showlegend": true,
         "type": "scattergl",
         "x": {
          "bdata": "D3w861mU878bUVFCPWrkv68rMII+KeW/LrPM9D3uAsB6+tNRq8r9v3r601Gryv2/aPyzIx9a9L+/bY099MP0v7aFJPs0JfW/qA58OZ8c5T88twqIhKTqP1qrW8CALvO/Y0UU7YWi4L8WWx7SVTDnv6Ln886p1eu/",
          "dtype": "f8"
         },
         "xaxis": "x",
         "y": {
          "bdata": "ObbWZm0w/z/dRKTqTCrwPyeHYhTSkPA/D8Itgp1V+D+fdkO6NurlP592Q7o26uU/evAFaLIJ9D+Qy3O2YWnzP2/kcHIo1PM/UkGdJVMSAEChLWo3GWj6P8YT572nzfY/DmXuasq12D8Xn6xWoVbnP2tqMa4mjuw/",
          "dtype": "f8"
         },
         "yaxis": "y"
        },
        {
         "hovertemplate": "<b>%{hovertext}</b><br><br>Brand=Razer<br>แกนคุณลักษณะหลักที่ 1 (PC1)=%{x}<br>แกนคุณลักษณะหลักที่ 2 (PC2)=%{y}<extra></extra>",
         "hovertext": [
          "DeathAdder V4 Pro",
          "Cobra HyperSpeed",
          "Pro Click V2",
          "Basilisk Mobile",
          "Pro Click V2 Vertical",
          "Imperator",
          "Abyssus Essential",
          "Basilisk V3 Pro 35K",
          "Basilisk V3 35K",
          "Viper Ultimate",
          "Pro Click",
          "DeathAdder V3 HyperSpeed",
          "DeathAdder Elite",
          "DeathAdder Chroma",
          "DeathAdder Expert",
          "Atheris",
          "Ouroboros",
          "Viper V3 Pro",
          "Pro Click Mini",
          "Naga Left-Handed",
          "Naga Trinity",
          "Mamba Wireless",
          "Mamba Elite",
          "Naga X",
          "Viper V3 HyperSpeed",
          "Naga Pro",
          "Viper 8KHz",
          "Viper",
          "Copperhead",
          "Viper V2 Pro",
          "DeathAdder Essential",
          "Cobra Pro",
          "Cobra",
          "DeathAdder V2 Mini",
          "DeathAdder V2 X HyperSpeed",
          "DeathAdder V2",
          "Basilisk V3 X HyperSpeed",
          "Naga V2 HyperSpeed",
          "Naga V2 Pro",
          "Basilisk Essential",
          "DeathAdder V3",
          "Basilisk V3",
          "Lancehead Wireless",
          "Lancehead",
          "Viper Mini Signature Edition",
          "Abyssus 2014",
          "Basilisk Ultimate",
          "Diamondback 2015",
          "Basilisk V2",
          "Krait 2013",
          "Basilisk X HyperSpeed",
          "Basilisk",
          "Basilisk V3 Pro",
          "DeathAdder V3 Pro",
          "Viper Mini",
          "DeathAdder V2 Pro",
          "Orochi V2"
         ],
         "legendgroup": "Razer",
         "marker": {
          "color": "#00cc96",
          "symbol": "circle"
         },
         "mode": "markers",
         "name": "Razer",
         "showlegend": true,
         "type": "scattergl",
         "x": {
          "bdata": "A0QE5h5E6j8beWop1ZP2v2hPY31X5QpAwEYAMVueAEAsFG0uqdQeQN6vSldKaA1AZPRwH2qp2j+1csSCdUMKQHVJY/tfVAhA7m3xMhyYs78GmgiGGMkPQJtWuBgXw9c/GU0rZsT6BkD7f43LJs8HQOkEYgiVTghA45APXxW597/9xitXDBX+P16VFMjZb/O/cZaO5koi7r9gOgDNk9kQQASv5UHDHxJAKxV1zX3mBUC+8q8eEOgDQFMgO4+Enw1ABWCe6U/Gib9ikqbiUJMRQF41Nd5PRuO/gAyQT9IxwL+MjEz3f20DQPo3sspfpem/rvNC3HCwBkCRtmj9jDLrvw+VLkjSGei/Cf5KmLw64T/lBH7Th+UGQMypKAfRSgJAJANJDTNDDECSlpZ6GMcNQFQ41gYGbRJAoIL8W9EuCkCAdObBWFvyP8mVdpPzkglAJgrrnyZt6D/ILDRl5cPtP0KmD0PHcvy/dq+jp50+2b/mxw23YXULQJsGqksBKr+/1EmJW0TSCEDDa8+7GSP1v/UoD8NEpgZAuGgZIzySCEDHR5YscvQKQOs5iNx/yvM/wHfIBjoD5b9JtZIk6V4DQAG2zk0oKvK/",
          "dtype": "f8"
         },
         "xaxis": "x",
         "y": {
          "bdata": "D8vMj7hwBkAkrfYzMjvVPyzih9M8H/0/mMMGbZX81D+5Bz1duEsOQDKIZNQlZ/W/DWM/uWuQGcDH//rEmBjvP6ogCN1CYfM/coJfL1Wx1L8DNdttsWnqP1gWf844Zfg/z9JllJYrhD+tBwgpUkbKv05VaMDfZdW/lSiUwgzNAsBVBFJHWLEAwJa9bFN9q/Y/PcJfJc9vB8BzTHLd0IblP0XmkO/DWtE/oaDXSw3twb9hM8mUMB++PzqOLJWGoPI/lp7sZJhMrb/1XUZx3AnfP0AEejPkBdU/4Ggj+pR31b8oyMMB4YMXwOXAIIVgl+U/zZQ2nvNVwL8P3Zaoz9XRv1ZcovkOKei/nocD/TFa47/p/P3hWk2QvwU2CKc5z+U/tcJrQHn42T8Gtb7Sm8H1P8Z0F4QNdNw/DUF1mD0ywz+ZZL7rEpcBQIHbMmMhb+w/W8mr5ilB9r/A2Vfg7DL5v9xzx6QLDew/3MDMfgFN/L9FBwhWul7hPz8bQz8hZfS/1xqCuxTS6z/cHBKGcj8HwNJUXft/z+o/lZjre3loxb/DqiqxC1zpP/8wJnoY3ABARw8CZ0rI6b9lMplWQmbhP6/vAq291fS/",
          "dtype": "f8"
         },
         "yaxis": "y"
        },
        {
         "hovertemplate": "<b>%{hovertext}</b><br><br>Brand=Ninjutso<br>แกนคุณลักษณะหลักที่ 1 (PC1)=%{x}<br>แกนคุณลักษณะหลักที่ 2 (PC2)=%{y}<extra></extra>",
         "hovertext": [
          "Ten Air",
          "Ten",
          "Sora V2",
          "Sora 4K",
          "Sora",
          "Origin One X",
          "Katana Ultralight",
          "Katana Superlight"
         ],
         "legendgroup": "Ninjutso",
         "marker": {
          "color": "#ab63fa",
          "symbol": "circle"
         },
         "mode": "markers",
         "name": "Ninjutso",
         "showlegend": true,
         "type": "scattergl",
         "x": {
          "bdata": "g5pVwT5p+L+FcZjin1f1v5xNDZ7Z8QHAXJy/11Bj9r8DN2Xqudf0v+pQcaUSguk/D6JXEJ0p6b90ZiFAGELpvw==",
          "dtype": "f8"
         },
         "xaxis": "x",
         "y": {
          "bdata": "tGe4ddSu9D9nATaMJUbxPyp5Aud3/uk/BINE0lMQ4D+r24U5QpPXP//U/BjmB+a/dVza7J200r/xXie6zL7Ovw==",
          "dtype": "f8"
         },
         "yaxis": "y"
        },
        {
         "hovertemplate": "<b>%{hovertext}</b><br><br>Brand=ASUS<br>แกนคุณลักษณะหลักที่ 1 (PC1)=%{x}<br>แกนคุณลักษณะหลักที่ 2 (PC2)=%{y}<extra></extra>",
         "hovertext": [
          "ROG Keris II Origin",
          "ROG Harpe II Ace",
          "ROG Gladius II Wireless",
          "ROG Harpe Ace Mini",
          "ROG Harpe Ace Extreme",
          "ProArt MD300",
          "TUF Gaming M3 Gen II",
          "TUF Gaming M3",
          "ROG Keris II Ace",
          "ROG Strix Impact III Wireless",
          "ROG Pugio",
          "ROG Strix Impact III",
          "ROG Harpe Ace",
          "ROG Spatha",
          "TUF M4 Air",
          "TUF M4 Wireless",
          "ROG Sica",
          "ROG Strix Carry",
          "ROG Strix Evolve",
          "ROG Strix Impact",
          "ROG Gladius II Origin",
          "ROG Gladius II",
          "ROG Gladius II Core",
          "ROG Keris",
          "ROG Keris Wireless",
          "ROG Strix Impact II",
          "ROG Strix Impact II Wireless",
          "ROG Gladius III",
          "ROG Gladius III Wireless",
          "ROG Spatha X",
          "ROG Chakram Core",
          "ROG Chakram",
          "ROG Chakram X"
         ],
         "legendgroup": "ASUS",
         "marker": {
          "color": "#FFA15A",
          "symbol": "circle"
         },
         "mode": "markers",
         "name": "ASUS",
         "showlegend": true,
         "type": "scattergl",
         "x": {
          "bdata": "CjKnUAfj4D87T58X+4v4vz5n82/R0wNA/V7XCS5PAcDSL3DGx4P4v44fuZDTVw9AYHrkehg+9j++K7EsnST9P8VPDaQdadE//cxhGKl36r8eC0ING0LpPwnHM8WEpOC/J0tzgBHe6b8fEFU88CMcQNqt9VyPZua/joA8sdoJ0z+NHDPbSwLbv0i9JFNi4ss/Yg7h7xBK7T9fxDYBMC3hP0Ec3leD+QdAizVKQQgeCUAW+7l2urgFQDuFTZALDvA/O4VNkAsO8D8aFZztFl7Gv83tP4ylbUo/IcVd9F3b/j/azZ0QMD4BQH621+dApxtAdnBHb5fPDECEgANm/pAQQMKK+yxwVBFA",
          "dtype": "f8"
         },
         "xaxis": "x",
         "y": {
          "bdata": "CR4CIyOG/z+Z32HWP0P8PzC5ih/KnNc/BeeG4x6G8T8q8upUnUD9Pykcqmj6MBbAu0SPbV7A0T8gOir941fjv0wLppDt8gFAo/XYxN8Atr++SZeC7Zb6v5ZnD4k0fNW/qjuCiTF66z8EN8RZkjHnP078sl4dXtA/ifdiZ4Mf7b8UEUGYxm3/vx11ugVYCv6/9+QPzOLv879iRJa/eJ8EwAGfUJeM5s2/BGhmr70iw7/GEZX0TUKqv4KRpVnebOO/gpGlWd5s479uu3qxvUj2v7We7c0x/fa/8Ee3sxrt6T+Dv9S0NmniP7aYxbOFe/A/ohrT0Zzw7D+J8oBT+njYP1bedo8p9fM/",
          "dtype": "f8"
         },
         "yaxis": "y"
        },
        {
         "hovertemplate": "<b>%{hovertext}</b><br><br>Brand=Finalmouse<br>แกนคุณลักษณะหลักที่ 1 (PC1)=%{x}<br>แกนคุณลักษณะหลักที่ 2 (PC2)=%{y}<extra></extra>",
         "hovertext": [
          "ULX Pro Series Tiger (L)",
          "ULX Pro Series Lion (M)",
          "ULX Pro Series Cheetah (S)",
          "ULX Prophecy Small",
          "ULX Prophecy Medium",
          "ULX Prophecy Classic",
          "ULX Competition Small",
          "ULX Competition Medium",
          "ULX Competition Classic",
          "UltralightX Cheetah (S)",
          "UltralightX Lion (M)",
          "UltralightX Tiger (L)",
          "Starlight-12 Small",
          "Starlight-12 Medium",
          "Ultralight 2",
          "Scream One",
          "Ultralight Pro Sunset",
          "Ultralight Pro",
          "Ultralight Phantom",
          "Air58"
         ],
         "legendgroup": "Finalmouse",
         "marker": {
          "color": "#19d3f3",
          "symbol": "circle"
         },
         "mode": "markers",
         "name": "Finalmouse",
         "showlegend": true,
         "type": "scattergl",
         "x": {
          "bdata": "o7Z7ofuV87+HfdcXSZL9v8HbHtFHnwPA7zNWnO0zA8Dc6/7OG8b8v7nQixc8NPO/7zNWnO0zA8Dc6/7OG8b8v7nQixc8NPO/wdse0UefA8CyNGtzMiz9v6O2e6H7lfO/K95mwZUf/79VJyAiCeH0v1yQcD8ycfe/dcS1YUEI3j/jSd1as8bBP+NJ3VqzxsE/40ndWrPGwT9+T/xif9Gyvw==",
          "dtype": "f8"
         },
         "xaxis": "x",
         "y": {
          "bdata": "vmTjwr3a5j9r0YRDRBDYP4/4OPC+WpU/5kn5Eusnpr9MymQ4/1vUP9b2fK/HAuY/5kn5Eusnpr9MymQ4/1vUP9b2fK/HAuY/j/g48L5alT/bzfS9ITbWP75k48K92uY/CcBOrmm02r9P0PqJu+u1vzyk1hjqC/S/x6jwqg4c8L9qMPwsz7Lkv2ow/CzPsuS/ajD8LM+y5L8V7RqTp5Xavw==",
          "dtype": "f8"
         },
         "yaxis": "y"
        },
        {
         "hovertemplate": "<b>%{hovertext}</b><br><br>Brand=Rampage<br>แกนคุณลักษณะหลักที่ 1 (PC1)=%{x}<br>แกนคุณลักษณะหลักที่ 2 (PC2)=%{y}<extra></extra>",
         "hovertext": [
          "Blitz Ultimate",
          "Zenith Pro",
          "Prote M5"
         ],
         "legendgroup": "Rampage",
         "marker": {
          "color": "#FF6692",
          "symbol": "circle"
         },
         "mode": "markers",
         "name": "Rampage",
         "showlegend": true,
         "type": "scattergl",
         "x": {
          "bdata": "lggDoaoKwr+u2gPfzBvpv6/7Z1n9k+6/",
          "dtype": "f8"
         },
         "xaxis": "x",
         "y": {
          "bdata": "fcFnzQyM9D9x5n0C7ybNPwvMgZOG2bu/",
          "dtype": "f8"
         },
         "yaxis": "y"
        },
        {
         "hovertemplate": "<b>%{hovertext}</b><br><br>Brand=Kysona<br>แกนคุณลักษณะหลักที่ 1 (PC1)=%{x}<br>แกนคุณลักษณะหลักที่ 2 (PC2)=%{y}<extra></extra>",
         "hovertext": [
          "Mercury Ultra",
          "Mercury Pro",
          "Mercury SE",
          "Jupiter Ultra",
          "Jupiter Pro",
          "Jupiter SE",
          "M660",
          "M600 V2",
          "Uranus Pro",
          "Uranus SE",
          "Mars SE",
          "M617",
          "M511",
          "Aztec",
          "M600"
         ],
         "legendgroup": "Kysona",
         "marker": {
          "color": "#B6E880",
          "symbol": "circle"
         },
         "mode": "markers",
         "name": "Kysona",
         "showlegend": true,
         "type": "scattergl",
         "x": {
          "bdata": "vtRQIbo3AMD3uh5mRlT/v1aOivhM5/e/lyOT/kTI878kAYo9vF7xv1U1kuPydea/mGRWLurw57++C131SXnxvzkTJW3cXNM/zsCGUQCc6z9ZwtefO1bzP+uUrbeKG/S/Xl+Tm2Wa2z++C131SXnxv74LXfVJefG/",
          "dtype": "f8"
         },
         "xaxis": "x",
         "y": {
          "bdata": "gcZNlRJm8D8zfI7nTTXsPyIfHU8N/NA/xCzi2y1g9z936pIzuh3zP5u3yVw8WeY/8GuXm7Y/4b8eA0NYd0J8PzJeai46B/Y/GDlQYKDp5D/VaxE0VifxP1Xgp50IWOg/kHCa2gJm4D8eA0NYd0J8Px4DQ1h3Qnw/",
          "dtype": "f8"
         },
         "yaxis": "y"
        },
        {
         "hovertemplate": "<b>%{hovertext}</b><br><br>Brand=Epomaker<br>แกนคุณลักษณะหลักที่ 1 (PC1)=%{x}<br>แกนคุณลักษณะหลักที่ 2 (PC2)=%{y}<extra></extra>",
         "hovertext": [
          "Click Lite",
          "Click"
         ],
         "legendgroup": "Epomaker",
         "marker": {
          "color": "#FF97FF",
          "symbol": "circle"
         },
         "mode": "markers",
         "name": "Epomaker",
         "showlegend": true,
         "type": "scattergl",
         "x": {
          "bdata": "1phUnbXb6b9PbklBr5D5vw==",
          "dtype": "f8"
         },
         "xaxis": "x",
         "y": {
          "bdata": "WmCmZeJrrL/jNfZeoQvzPw==",
          "dtype": "f8"
         },
         "yaxis": "y"
        },
        {
         "hovertemplate": "<b>%{hovertext}</b><br><br>Brand=Lofree<br>แกนคุณลักษณะหลักที่ 1 (PC1)=%{x}<br>แกนคุณลักษณะหลักที่ 2 (PC2)=%{y}<extra></extra>",
         "hovertext": [
          "Touch",
          "Hypace"
         ],
         "legendgroup": "Lofree",
         "marker": {
          "color": "#FECB52",
          "symbol": "circle"
         },
         "mode": "markers",
         "name": "Lofree",
         "showlegend": true,
         "type": "scattergl",
         "x": {
          "bdata": "+uXe2faLAkC1WOgXgmf/vw==",
          "dtype": "f8"
         },
         "xaxis": "x",
         "y": {
          "bdata": "cO9nSG8z+L/zEUQaRir1Pw==",
          "dtype": "f8"
         },
         "yaxis": "y"
        },
        {
         "hovertemplate": "<b>%{hovertext}</b><br><br>Brand=SteelSeries<br>แกนคุณลักษณะหลักที่ 1 (PC1)=%{x}<br>แกนคุณลักษณะหลักที่ 2 (PC2)=%{y}<extra></extra>",
         "hovertext": [
          "Kinzu V2 Pro",
          "Rival 3 Gen 2 Wireless",
          "Rival 3 Gen 2",
          "Kinzu V2",
          "Kana V2",
          "Rival 710",
          "Rival 300S",
          "Rival 500",
          "Sensei 310",
          "Rival 110",
          "Kinzu V3",
          "Rival 300",
          "Aerox 9 Wireless",
          "Aerox 5",
          "Aerox 5 Wireless",
          "Prime Mini",
          "Prime Mini Wireless",
          "Prime",
          "Prime+",
          "Prime Wireless",
          "Aerox 3",
          "Rival 3",
          "Rival 3 Wireless",
          "Rival 5",
          "Aerox 3 Wireless",
          "Rival 600",
          "Rival 650 Wireless",
          "Sensei Ten",
          "Rival 310"
         ],
         "legendgroup": "SteelSeries",
         "marker": {
          "color": "#636efa",
          "symbol": "circle"
         },
         "mode": "markers",
         "name": "SteelSeries",
         "showlegend": true,
         "type": "scattergl",
         "x": {
          "bdata": "cBCF2cbJ27/nqGkpW1mxPw+wtsJCWLM/cBCF2cbJ27/nYz/1C3jHP8D8NWMqVg9Am3V6knmTCkAmPgOgBHsRQGLYAW9ZEOw/wiBVclWC3D8g5YpDUHrnvyne7SqhIRBAYbfFQAgrDkCHlE1eHNwAQBz2axgpTwJAp0BDMQNt8T9v2ZSAGvb1PzpDUEoXMvw/1ekD8Art/D/JK9asKRsAQEk0pXoF4ta/D7C2wkJYsz9wov5LLZbXP3biDht9kP8/B57XEy6I07+2p9wA69cHQOUZKHpATgxAWYM2svzo4z+Dxl98GywEQA==",
          "dtype": "f8"
         },
         "xaxis": "x",
         "y": {
          "bdata": "RXAQOExw/b9Z+sGaJ9rqv5xcAU2MFfC/RXAQOExw/b8jgR0i6in4vxkt1mlXBeW/5oWrvaPP1j+WsJd9lDanvyLxmWpAkui/9lygIA1z9L/wFfAExKv/v6piXXSwrta/S/K28otX8z+FDQ7AeDDxPwZGzUQ3Y+w/um7iEa623D/DRmTBctbBPxUztXkrfeY/pR0/lMz25D9jelcXQzTcP/4pG9UEteC/nFwBTYwV8L+SuYbjaMvyv1eV2nigK88/YdOf8J4T278oIRa/DdXTP4lnM3U+TtC/mF5L+aPF5L9rQOB5JP3LPw==",
          "dtype": "f8"
         },
         "yaxis": "y"
        },
        {
         "hovertemplate": "<b>%{hovertext}</b><br><br>Brand=SyLical<br>แกนคุณลักษณะหลักที่ 1 (PC1)=%{x}<br>แกนคุณลักษณะหลักที่ 2 (PC2)=%{y}<extra></extra>",
         "hovertext": [
          "HELIX"
         ],
         "legendgroup": "SyLical",
         "marker": {
          "color": "#EF553B",
          "symbol": "circle"
         },
         "mode": "markers",
         "name": "SyLical",
         "showlegend": true,
         "type": "scattergl",
         "x": {
          "bdata": "W9o/jd7dAcA=",
          "dtype": "f8"
         },
         "xaxis": "x",
         "y": {
          "bdata": "jEbLZWG17z8=",
          "dtype": "f8"
         },
         "yaxis": "y"
        },
        {
         "hovertemplate": "<b>%{hovertext}</b><br><br>Brand=VXE<br>แกนคุณลักษณะหลักที่ 1 (PC1)=%{x}<br>แกนคุณลักษณะหลักที่ 2 (PC2)=%{y}<extra></extra>",
         "hovertext": [
          "R1 SE+",
          "R1 Nearlink",
          "MAD R Major",
          "MAD R",
          "R1 Pro Max",
          "R1 Pro",
          "R1 SE",
          "R1"
         ],
         "legendgroup": "VXE",
         "marker": {
          "color": "#00cc96",
          "symbol": "circle"
         },
         "mode": "markers",
         "name": "VXE",
         "showlegend": true,
         "type": "scattergl",
         "x": {
          "bdata": "M9fh26Th7b9VedchV1/tv6P5LPl0dADAwgTXFbzN/7/WegL8Np/zvz4TBLZK+fW/3vvx6TSC8L/m2PeikLjyvw==",
          "dtype": "f8"
         },
         "xaxis": "x",
         "y": {
          "bdata": "sI8sh3JOxL+Z2+nnE6THv+UNQS7bJvQ/f4W6jG/b8T9AJ7w0uHfUPwc0/dvbLt8/fqWsoLYTqL8bXT1wzLHOPw==",
          "dtype": "f8"
         },
         "yaxis": "y"
        },
        {
         "hovertemplate": "<b>%{hovertext}</b><br><br>Brand=VGN<br>แกนคุณลักษณะหลักที่ 1 (PC1)=%{x}<br>แกนคุณลักษณะหลักที่ 2 (PC2)=%{y}<extra></extra>",
         "hovertext": [
          "R1 SE+",
          "R1 Nearlink",
          "Y2 Ultra",
          "Y2 Pro",
          "R1 Pro Max",
          "R1 Pro",
          "R1 SE",
          "R1",
          "Dragonfly F1 MOBA",
          "Dragonfly F1 Pro Max",
          "Dragonfly F1 Pro",
          "Dragonfly F1"
         ],
         "legendgroup": "VGN",
         "marker": {
          "color": "#ab63fa",
          "symbol": "circle"
         },
         "mode": "markers",
         "name": "VGN",
         "showlegend": true,
         "type": "scattergl",
         "x": {
          "bdata": "M9fh26Th7b9VedchV1/tv7PREskd//m/MBpCWZzy97/WegL8Np/zvz4TBLZK+fW/3vvx6TSC8L/m2PeikLjyv7JK6yZSb/O/skrrJlJv87/M1fbUJcr1v5ew5YOdrPK/",
          "dtype": "f8"
         },
         "xaxis": "x",
         "y": {
          "bdata": "sI8sh3JOxL+Z2+nnE6THv8Q58Vjypfs/98le///D9z9AJ7w0uHfUPwc0/dvbLt8/fqWsoLYTqL8bXT1wzLHOP5sNetmhZ9I/mw162aFn0j8pMe1mECbdPxBlIF313Mo/",
          "dtype": "f8"
         },
         "yaxis": "y"
        },
        {
         "hovertemplate": "<b>%{hovertext}</b><br><br>Brand=Motospeed<br>แกนคุณลักษณะหลักที่ 1 (PC1)=%{x}<br>แกนคุณลักษณะหลักที่ 2 (PC2)=%{y}<extra></extra>",
         "hovertext": [
          "X1",
          "X6 Max",
          "X6"
         ],
         "legendgroup": "Motospeed",
         "marker": {
          "color": "#FFA15A",
          "symbol": "circle"
         },
         "mode": "markers",
         "name": "Motospeed",
         "showlegend": true,
         "type": "scattergl",
         "x": {
          "bdata": "28/tk9mr9r+YA2/H8Cv6v1+8XKby5/e/",
          "dtype": "f8"
         },
         "xaxis": "x",
         "y": {
          "bdata": "60XY6Fw23j/d1tm94czzP1H01H/XNPA/",
          "dtype": "f8"
         },
         "yaxis": "y"
        },
        {
         "hovertemplate": "<b>%{hovertext}</b><br><br>Brand=Dareu<br>แกนคุณลักษณะหลักที่ 1 (PC1)=%{x}<br>แกนคุณลักษณะหลักที่ 2 (PC2)=%{y}<extra></extra>",
         "hovertext": [
          "AE6",
          "A955",
          "A950 Air",
          "A980 Pro Max",
          "A980 Pro",
          "A980",
          "EM901",
          "A950 Pro 4K Magnesium",
          "A950 Pro 4K",
          "A950",
          "A950 Pro"
         ],
         "legendgroup": "Dareu",
         "marker": {
          "color": "#19d3f3",
          "symbol": "circle"
         },
         "mode": "markers",
         "name": "Dareu",
         "showlegend": true,
         "type": "scattergl",
         "x": {
          "bdata": "UzQHz/so8b9eGpIdYLoEQDuJrc/09wDApsb6pG4P+T9RyYI6qC/2P3GC0a+gswBAEXI390FH8T9m/TARjnDwv/kH4mj+DfC/0xg48XgZzT+IxaEv7ODpvw==",
          "dtype": "f8"
         },
         "xaxis": "x",
         "y": {
          "bdata": "yBGLwjDZ8D8RO1BE6tCHv9OcKr7pCvQ//UMJR/BM/T9R27IDeRz/P1ZTiBGxivM//roxeDEx97/sF2XiWt3gP2uImb9wAeA/nRjAAb0h8r82EtbGS0vQPw==",
          "dtype": "f8"
         },
         "yaxis": "y"
        },
        {
         "hovertemplate": "<b>%{hovertext}</b><br><br>Brand=MAMBASNAKE<br>แกนคุณลักษณะหลักที่ 1 (PC1)=%{x}<br>แกนคุณลักษณะหลักที่ 2 (PC2)=%{y}<extra></extra>",
         "hovertext": [
          "M4",
          "M3",
          "M5 Ultra"
         ],
         "legendgroup": "MAMBASNAKE",
         "marker": {
          "color": "#FF6692",
          "symbol": "circle"
         },
         "mode": "markers",
         "name": "MAMBASNAKE",
         "showlegend": true,
         "type": "scattergl",
         "x": {
          "bdata": "pIsbSIKv9L9Ie+ajnNMBwLl70aoRQALA",
          "dtype": "f8"
         },
         "xaxis": "x",
         "y": {
          "bdata": "D1uNL8mouL8s+nzZrin4PwHIGyLvrO4/",
          "dtype": "f8"
         },
         "yaxis": "y"
        },
        {
         "hovertemplate": "<b>%{hovertext}</b><br><br>Brand=Delux<br>แกนคุณลักษณะหลักที่ 1 (PC1)=%{x}<br>แกนคุณลักษณะหลักที่ 2 (PC2)=%{y}<extra></extra>",
         "hovertext": [
          "M800 Mini Ultra",
          "M800 Mini Pro",
          "M800 Mini",
          "M900 Ultra",
          "M900 Mini Ultra",
          "M900 Mini Pro",
          "M700 Pro",
          "M700 Pro+",
          "M700 Ultra",
          "M500 Pro",
          "M900 SE",
          "M900 Pro",
          "M800 Pro 3395",
          "M600 Pro",
          "M600",
          "M600 Ultra",
          "M800 Ultra",
          "M800 Pro",
          "M700"
         ],
         "legendgroup": "Delux",
         "marker": {
          "color": "#B6E880",
          "symbol": "circle"
         },
         "mode": "markers",
         "name": "Delux",
         "showlegend": true,
         "type": "scattergl",
         "x": {
          "bdata": "WvKS0g1I/r/WAxD23yz9v4y/HbXWCPK/C+7x/3155j/kDRuKTFy6v2dhGMtJnsO/YBpeqNUm6r8eQVUNvebqv+ypdZdi3eq/h2JvBuEa0z8E9EFlTZ/5P0Z72LnNzPE/nLAYNTax4b8/zJXBfoT2v3XM8NYLVvG/zYq/W9Qh978QWDnQgFLzvwOog7HAiti/b0mBIrGepj8=",
          "dtype": "f8"
         },
         "xaxis": "x",
         "y": {
          "bdata": "AsEteuCU7D8zsCA3Cf7nPwwS878t0NS/5Rvqgr0NAkDATqS95uL7P+aiPtN9tPs/W3vMdVyr8T+wLIdq+RLyPxih3S2OJ/M/XllaXW218z/49RRNKNTxP195DnT1JPw/wFA8HnpXw7+h8Syo9pnHPw+0hBnWb9u/3/+gCnvNzT9QGJKuNZHjP/OA8SBSN92/x2JQOJiGtL8=",
          "dtype": "f8"
         },
         "yaxis": "y"
        },
        {
         "hovertemplate": "<b>%{hovertext}</b><br><br>Brand=zeromouse<br>แกนคุณลักษณะหลักที่ 1 (PC1)=%{x}<br>แกนคุณลักษณะหลักที่ 2 (PC2)=%{y}<extra></extra>",
         "hovertext": [
          "Blade"
         ],
         "legendgroup": "zeromouse",
         "marker": {
          "color": "#FF97FF",
          "symbol": "circle"
         },
         "mode": "markers",
         "name": "zeromouse",
         "showlegend": true,
         "type": "scattergl",
         "x": {
          "bdata": "xFWDrSriEsA=",
          "dtype": "f8"
         },
         "xaxis": "x",
         "y": {
          "bdata": "rCq9at/H8b8=",
          "dtype": "f8"
         },
         "yaxis": "y"
        },
        {
         "hovertemplate": "<b>%{hovertext}</b><br><br>Brand=RAWM<br>แกนคุณลักษณะหลักที่ 1 (PC1)=%{x}<br>แกนคุณลักษณะหลักที่ 2 (PC2)=%{y}<extra></extra>",
         "hovertext": [
          "ER21 Pro",
          "ER21",
          "SA-MH01 Pro",
          "ES21 Pro",
          "ES21 M",
          "ES21",
          "SA-SH01 Pro",
          "SA-SH01",
          "SA-SL01 Pro",
          "SA-SL01",
          "SA-ML01 Plus",
          "SA-ML01",
          "SA-MH01"
         ],
         "legendgroup": "RAWM",
         "marker": {
          "color": "#FECB52",
          "symbol": "circle"
         },
         "mode": "markers",
         "name": "RAWM",
         "showlegend": true,
         "type": "scattergl",
         "x": {
          "bdata": "6IcRLWNJ4D8tdOOe41vyP0IaI8f+u+K/WLx0tmTX+L9YvHS2ZNf4v02cnhgP0PW/4d3qnJcX/b+KhhnYcLbyvyheeMVeOfa/+CbtinD/87+jeTe05rjYv1C9P+DwJOC/wUCdpBOC478=",
          "dtype": "f8"
         },
         "xaxis": "x",
         "y": {
          "bdata": "QsXpfnOnAEBFZT4JXefzP8dsgM4DkO8/+BPmS8PY8z/4E+ZLw9jzP7hq+3pG0u4/tVUAYeTt4D8KdShRbVrVvzSBz6KdMbo/wdCtQsklwr8izmgLqljVP87xIRGNnN0/9zfeclsu7j8=",
          "dtype": "f8"
         },
         "yaxis": "y"
        },
        {
         "hovertemplate": "<b>%{hovertext}</b><br><br>Brand=Valkyrie<br>แกนคุณลักษณะหลักที่ 1 (PC1)=%{x}<br>แกนคุณลักษณะหลักที่ 2 (PC2)=%{y}<extra></extra>",
         "hovertext": [
          "VK M1 Pro",
          "VK M2 Pro",
          "VK M2",
          "VK M1"
         ],
         "legendgroup": "Valkyrie",
         "marker": {
          "color": "#636efa",
          "symbol": "circle"
         },
         "mode": "markers",
         "name": "Valkyrie",
         "showlegend": true,
         "type": "scattergl",
         "x": {
          "bdata": "m9+aX7h6+r+9KetHOlXTP/yFLsHuhvA/REl4gaDm8b8=",
          "dtype": "f8"
         },
         "xaxis": "x",
         "y": {
          "bdata": "klYuo1eq8j+TQQi+lUkAQKpEgD/LdOw/mdXU09z90D8=",
          "dtype": "f8"
         },
         "yaxis": "y"
        },
        {
         "hovertemplate": "<b>%{hovertext}</b><br><br>Brand=Logitech<br>แกนคุณลักษณะหลักที่ 1 (PC1)=%{x}<br>แกนคุณลักษณะหลักที่ 2 (PC2)=%{y}<extra></extra>",
         "hovertext": [
          "G Pro X Superlight 2 SE",
          "G900",
          "ERGO M575",
          "M196",
          "MX Anywhere 3S",
          "MX Anywhere 2S",
          "M170",
          "M705 Marathon",
          "POP Mouse",
          "Pebble 2 M350s",
          "Pebble M350",
          "M340",
          "M550 L",
          "M550",
          "M650 L Left",
          "M650 L",
          "M650",
          "M240",
          "M190",
          "G Pro X Superlight 2 DEX",
          "G Pro 2 Lightspeed",
          "G309",
          "G703 Lightspeed",
          "MX Master 3S",
          "MX Master 3",
          "MX Master 2S",
          "MX Master",
          "G304 Lightspeed",
          "G602",
          "M720 Triathlon",
          "Lift Vertical",
          "MX Vertical",
          "G102 Lightsync",
          "G705",
          "G303 Shroud Edition",
          "G604 Lightspeed",
          "G903 Lightspeed",
          "G Pro Wireless",
          "G Pro X Superlight",
          "G Pro",
          "G403 Wireless",
          "G403",
          "G603 Lightspeed",
          "G403 Hero",
          "G203 Prodigy",
          "G305 Lightspeed",
          "G203 Lightsync",
          "G502 Hero",
          "G502 Lightspeed",
          "M171",
          "G103 Prodigy",
          "B100",
          "G600",
          "G9x",
          "G Pro X Superlight 2",
          "G402 Hyperion Fury",
          "G300s",
          "M100",
          "MX Anywhere",
          "M510",
          "G502 X Plus",
          "G502 X Lightspeed",
          "G502 X",
          "M185",
          "M280",
          "M187",
          "M238",
          "G100s",
          "G303 Daedalus Apex",
          "G3",
          "MX518",
          "G400",
          "G400s",
          "G MX518"
         ],
         "legendgroup": "Logitech",
         "marker": {
          "color": "#EF553B",
          "symbol": "circle"
         },
         "mode": "markers",
         "name": "Logitech",
         "showlegend": true,
         "type": "scattergl",
         "x": {
          "bdata": "lvp27jrs67+0Ii1HkqvzP6d+KI9GfyBAc5k9eICMtb/WUkS7IHz1P9ZSRLsgfPU/4ZGYNxBr3L+no5fE+pQRQAPSjLtQKLO/CN9Iy/w66b+nmQ40ia2lv8J6eiaPdOS/ucJVp6rT7j9rlBLgNEHVv7GVqNF6mfU/sZWo0XqZ9T9vWYQRqOWsPzqRPaFeRcO/W5JQe2cG9j8xOzEe+c3pPz8gGS28POu/pGXGo0ofxL/UrJ4yqB0EQKv8NTD59x1AllJIsMBTHkB2qMWRdYkeQOqb4viyiR5AP3vE4YeZtz8sNy3NCCcZQNI+tfLAhBRA8PS8Ag+NGkDniz18PJghQGRV2bA5Fsi/sl0lTFXgA0Bgg2Z2zDiRP0nEkEelURRAaMLMrUYE8T+uitdjWS20v7Sn0CTF7N6/Xt05zhCD37/n2xbDD/8FQPixmIXHWQJAXum+ixu3AkDlgiD1X3gAQGRV2bA5Fsi/P3vE4YeZtz9kVdmwORbIv6vzuCWCKgxAzd7LhmbsCkAJ9a9YAGTZv2RV2bA5Fsi/JUwwMS5O6D8kkl3pISwaQOfzxOziVxRAyX5jNAY79b86HRuy8usMQMrxFIhXV9A/hEx6YGgf6j/WUkS7IHz1P0wYsMys0gVAYP29XQTpDEBfM301Pt4LQLBrBkEo9QlAU60P76flt7+DOseKXZv0P7X+f1xwsgvAlUAQv9s2978U3IWDtLrRP4oG1XqBScG/9oGE7KkS9z/bbTv1pvQMQMKDD6B1kwxAPzqGRUGyDEAo1m0hCU4IQA==",
          "dtype": "f8"
         },
         "xaxis": "x",
         "y": {
          "bdata": "TInFVG5J7T8PJPG3SQfwv2N+7xqTYAzAAivzsAXJHcA1UBCFrH8fwDVQEIWsfx/AHRC3Q9I3HsCl6QvvmlMbwFw+Uhx2qh7AS7QbufkzIcCiIN0/vk8jwFwwD9TtnyHAKvrs50D5/7+zoT6T6vgGwGrqRzk2CP+/aupHOTYI/7/VrMzNXp0GwM151lCo0hzAC/yT8lLpGcBwJLEB7YUEQN/rC2sP3+4/uBdfTVpW578VaVVvNUu0P0g3Le9frw3AR0sUMkn6DsCSLXFbjqIQwHQg5wrR1BDApFCrirE5/783AxexhfbBP6K+bNAB7xfA4CyDTytPDsCkOqMEJssCwBOxqIgDBPu//2pnRVw5F8Cb7IlLoC3Bv+nKoaB/Z/A/371mRK7M4r9/jGy4xybRv2gSQieFp8Y/S79YKF3r8L88S1CfHSLav62NZ7JOArE/h4UnUFJrkz94xN9Tv7rhPxOxqIgDBPu/pFCrirE5/78TsaiIAwT7v+l6epDbgdM/3XJxNUR+3T8+no13fHYewBOxqIgDBPu/VwpbdtMkHMA0A8e1S9oSwB1KUEqoIBnA2QOZgM7P9z9Gjkl7mt2uv31m2aReV/W/UbwMMSxuHMA1UBCFrH8fwCTmzHhtaRzA1fDSHFLK7j9l0iwKUmzxP1z3Ei0dJPU/hfV2laVHHcCYPKSoiGMAwHFKMRStTRHAott3csNFDsB8H8xvWWcHwDQWklPCvvq/QKXnoF7cGcCJfceHbSfLv0uprv+9ury/m6A365Wdvr81OKaaKIPqPw==",
          "dtype": "f8"
         },
         "yaxis": "y"
        },
        {
         "hovertemplate": "<b>%{hovertext}</b><br><br>Brand=Flick<br>แกนคุณลักษณะหลักที่ 1 (PC1)=%{x}<br>แกนคุณลักษณะหลักที่ 2 (PC2)=%{y}<extra></extra>",
         "hovertext": [
          "Fire"
         ],
         "legendgroup": "Flick",
         "marker": {
          "color": "#00cc96",
          "symbol": "circle"
         },
         "mode": "markers",
         "name": "Flick",
         "showlegend": true,
         "type": "scattergl",
         "x": {
          "bdata": "F+cgn5C19r8=",
          "dtype": "f8"
         },
         "xaxis": "x",
         "y": {
          "bdata": "tcjNcA/54T8=",
          "dtype": "f8"
         },
         "yaxis": "y"
        },
        {
         "hovertemplate": "<b>%{hovertext}</b><br><br>Brand=IYX<br>แกนคุณลักษณะหลักที่ 1 (PC1)=%{x}<br>แกนคุณลักษณะหลักที่ 2 (PC2)=%{y}<extra></extra>",
         "hovertext": [
          "Amber"
         ],
         "legendgroup": "IYX",
         "marker": {
          "color": "#ab63fa",
          "symbol": "circle"
         },
         "mode": "markers",
         "name": "IYX",
         "showlegend": true,
         "type": "scattergl",
         "x": {
          "bdata": "dF8JLNgRA8A=",
          "dtype": "f8"
         },
         "xaxis": "x",
         "y": {
          "bdata": "V9n79KBc6j8=",
          "dtype": "f8"
         },
         "yaxis": "y"
        },
        {
         "hovertemplate": "<b>%{hovertext}</b><br><br>Brand=PMM<br>แกนคุณลักษณะหลักที่ 1 (PC1)=%{x}<br>แกนคุณลักษณะหลักที่ 2 (PC2)=%{y}<extra></extra>",
         "hovertext": [
          "ZEN 8K Mini",
          "Fuse 8K",
          "CYBER ZK",
          "CYBER 4.1",
          "VORTEX 4K M",
          "ZEN 8K",
          "CYBER 4.0",
          "CRAZE 8K",
          "NEO 8K",
          "VORTEX 8K M",
          "VORTEX 8K S",
          "VORTEX M",
          "VORTEX S",
          "FUSE",
          "CORE",
          "BLAZE",
          "NITE 8K",
          "TITAN M",
          "TITAN S",
          "TITAN 8K L",
          "CYBER 8K",
          "AIM 8K"
         ],
         "legendgroup": "PMM",
         "marker": {
          "color": "#FFA15A",
          "symbol": "circle"
         },
         "mode": "markers",
         "name": "PMM",
         "showlegend": true,
         "type": "scattergl",
         "x": {
          "bdata": "Wa7lawdzA8Bs7icsf/D7v28c4i6HTRXAdvt2OjVIE8Abh+ue3fP+v7Y3/VLNDPu/T9m2/+/+FcB/iItMLQjYv2rPrqMm4QLAt6asNCju/79XktcLM/MEwOBEkM7Y0Oq/mXIPOqd1979+CVo5sGvlvyQKirvoJuW/WxyS5io+8L+sM5vJoGf9v00i3c+H5PK/x6wzdF+8979N5uXVt9/6vzu24CrsBRTA5KPBUwg2F8A=",
          "dtype": "f8"
         },
         "xaxis": "x",
         "y": {
          "bdata": "oTewX6jr+D+g3ve8oCP4PywExkmADve/3jBUmKcG6L9WP9qP8aLqP+udJ8/2lf8/g+FbPSgF9r9MNyU+9PQAQJPHMhaeI/Y/H2o7D8gl9T/k/ivpyOzrP168J/Ne/9W/ZqKghcf76b8a9iWw00GsvyxwDJMefNW/ixBuXNgm4L/9p51NRdLrP+9mlRpPH9M/RV/LoZgv77/S9xlJLkD6P06cmH0Muuy/wyUVB18H878=",
          "dtype": "f8"
         },
         "yaxis": "y"
        },
        {
         "hovertemplate": "<b>%{hovertext}</b><br><br>Brand=Precision<br>แกนคุณลักษณะหลักที่ 1 (PC1)=%{x}<br>แกนคุณลักษณะหลักที่ 2 (PC2)=%{y}<extra></extra>",
         "hovertext": [
          "GG Titan-0"
         ],
         "legendgroup": "Precision",
         "marker": {
          "color": "#19d3f3",
          "symbol": "circle"
         },
         "mode": "markers",
         "name": "Precision",
         "showlegend": true,
         "type": "scattergl",
         "x": {
          "bdata": "R8MulBzTG8A=",
          "dtype": "f8"
         },
         "xaxis": "x",
         "y": {
          "bdata": "X3rUZXw3E8A=",
          "dtype": "f8"
         },
         "yaxis": "y"
        },
        {
         "hovertemplate": "<b>%{hovertext}</b><br><br>Brand=Glorious<br>แกนคุณลักษณะหลักที่ 1 (PC1)=%{x}<br>แกนคุณลักษณะหลักที่ 2 (PC2)=%{y}<extra></extra>",
         "hovertext": [
          "Model O Eternal",
          "Model O 2 Mini Wireless",
          "Model O 2 Mini",
          "Series 2 Pro",
          "Model D 2 Wireless",
          "Model D 2 Wired",
          "Model O Pro",
          "Series One Pro",
          "Model D Wireless",
          "Model D",
          "Model D-",
          "Model I",
          "Model O",
          "Model O-",
          "Model D- Wireless",
          "Model O 2 Pro 4K/8K",
          "Model O 2 Pro 1K",
          "Model D 2 Pro 4K/8K",
          "Model D 2 Pro 1K",
          "Model D Pro",
          "Model I 2 Wireless",
          "Model O 2 Wired",
          "Model O 2 Wireless",
          "Model O- Wireless",
          "Model O Wireless"
         ],
         "legendgroup": "Glorious",
         "marker": {
          "color": "#FF6692",
          "symbol": "circle"
         },
         "mode": "markers",
         "name": "Glorious",
         "showlegend": true,
         "type": "scattergl",
         "x": {
          "bdata": "jZK4xK6+1L9N39oq6rL0v/qq4G9Z7/e/1K8CDjC3+r9VzXuSHrL5P51wXjGWyfY/KBhNzO983L985Qa3iIDzv8JbTQtSv/s/Kn0yTeKu/T/Eu+MkNJjxP+1EleIxwgRApVIzEm1apL9sO/Ko6Xbuv3FxxMas8fE/0XXYs9me7b/doLxRUJngv5g1GPBr+O8/1VxurxSG9j/Ivo3rmrr3P6W/8ZTX2QNAUjI8pVZk4b9As0yrew/Vv7X5CfP5tOy/n0/K5fkDvb8=",
          "dtype": "f8"
         },
         "xaxis": "x",
         "y": {
          "bdata": "fuW70pP6pL9ZJJ0aK+jTv/8EZzMjlLK/uWy6eonW3D9Y42XykT7yP5SOqKxZQ/U/TXys4D3hyj9tg/PyUFLNv/T9VsKVjug/iSAADZ2G4D8TFNktyrbCP4U2JXRimPQ/8ge9aEmP1r+uQYS4j0rpv+EKN93ls84/reMyss3D7T/FYUgz5y3aP86i6w1DIvw/A/P0kZG68z+1E4kR+3nwP4U1U2fvifU/KQ0bBHOw0T+Hxzm02nikPwDbymfQ2ue/pMiVSwKkw78=",
          "dtype": "f8"
         },
         "yaxis": "y"
        },
        {
         "hovertemplate": "<b>%{hovertext}</b><br><br>Brand=WLmouse<br>แกนคุณลักษณะหลักที่ 1 (PC1)=%{x}<br>แกนคุณลักษณะหลักที่ 2 (PC2)=%{y}<extra></extra>",
         "hovertext": [
          "Sword X",
          "Ying",
          "Beast X Max",
          "Beast Miao",
          "Beast X Mini Pro",
          "Beast X Pro",
          "Strider",
          "Beast X 8K",
          "Beast X Mini",
          "Beast X"
         ],
         "legendgroup": "WLmouse",
         "marker": {
          "color": "#B6E880",
          "symbol": "circle"
         },
         "mode": "markers",
         "name": "WLmouse",
         "showlegend": true,
         "type": "scattergl",
         "x": {
          "bdata": "ToL4WCY12T9aTHVdxxIDwDPxVeNXP/e/0NNYN8yTEMDhGD3sxIAHwGuRksQJ2gDAT5LFDj0P+b8qGlHWckwAwJ+h+/0t8wbADFiLQIVx/L8=",
          "dtype": "f8"
         },
         "xaxis": "x",
         "y": {
          "bdata": "ieuYVHqGAEDNowZdct3vP6tIVdSGrPc/hxu16bkN27/glqBak7TlPz3kfzCeqfE/ZZz2Zrn98j+ot/IdZbzuPxKGkxe8HeE/kbi0TQFC5D8=",
          "dtype": "f8"
         },
         "yaxis": "y"
        },
        {
         "hovertemplate": "<b>%{hovertext}</b><br><br>Brand=Nintendo<br>แกนคุณลักษณะหลักที่ 1 (PC1)=%{x}<br>แกนคุณลักษณะหลักที่ 2 (PC2)=%{y}<extra></extra>",
         "hovertext": [
          "Joy-Con 2"
         ],
         "legendgroup": "Nintendo",
         "marker": {
          "color": "#FF97FF",
          "symbol": "circle"
         },
         "mode": "markers",
         "name": "Nintendo",
         "showlegend": true,
         "type": "scattergl",
         "x": {
          "bdata": "qn9WR1tj878=",
          "dtype": "f8"
         },
         "xaxis": "x",
         "y": {
          "bdata": "38XGfPGEJsA=",
          "dtype": "f8"
         },
         "yaxis": "y"
        },
        {
         "hovertemplate": "<b>%{hovertext}</b><br><br>Brand=Angry<br>แกนคุณลักษณะหลักที่ 1 (PC1)=%{x}<br>แกนคุณลักษณะหลักที่ 2 (PC2)=%{y}<extra></extra>",
         "hovertext": [
          "Miao AM Infinity Mouse"
         ],
         "legendgroup": "Angry",
         "marker": {
          "color": "#FECB52",
          "symbol": "circle"
         },
         "mode": "markers",
         "name": "Angry",
         "showlegend": true,
         "type": "scattergl",
         "x": {
          "bdata": "8KP1f95F+b8=",
          "dtype": "f8"
         },
         "xaxis": "x",
         "y": {
          "bdata": "+55baXHn7z8=",
          "dtype": "f8"
         },
         "yaxis": "y"
        },
        {
         "hovertemplate": "<b>%{hovertext}</b><br><br>Brand=Corsair<br>แกนคุณลักษณะหลักที่ 1 (PC1)=%{x}<br>แกนคุณลักษณะหลักที่ 2 (PC2)=%{y}<extra></extra>",
         "hovertext": [
          "Scimitar Elite Wireless SE",
          "M55 Wireless",
          "M55 Wired",
          "Dark Core RGB Pro",
          "M55 RGB Pro",
          "Glaive Pro",
          "Glaive RGB",
          "Nightsword RGB",
          "Scimitar Elite Wireless",
          "Scimitar RGB Elite",
          "Scimitar Pro RGB",
          "Scimitar RGB",
          "Sabre RGB Pro Wireless",
          "Sabre RGB Pro",
          "Sabre Pro",
          "Katar Elite Wireless",
          "Katar Pro Wireless",
          "Katar Pro XT",
          "Ironclaw RGB Wireless",
          "Ironclaw RGB",
          "Harpoon RGB Wireless",
          "Harpoon RGB Pro",
          "Harpoon RGB",
          "M75 Air Wireless",
          "M75 Wireless",
          "M75",
          "Nightsabre Wireless",
          "Darkstar Wireless",
          "M65 RGB Ultra Wireless",
          "M65 RGB Ultra",
          "M65 RGB Pro",
          "M65 RGB Elite",
          "Dark Core RGB Pro SE"
         ],
         "legendgroup": "Corsair",
         "marker": {
          "color": "#636efa",
          "symbol": "circle"
         },
         "mode": "markers",
         "name": "Corsair",
         "showlegend": true,
         "type": "scattergl",
         "x": {
          "bdata": "ZIVJValBEUD2+LjdpM7lPz3WiYXlX7I/QJMg7t+AEUAZmbJKN7DjP8TQLORw4AlANcNcIDhlC0B+LUFD67wSQDVnOScS8RBABuYOSSsDE0AJe2DCpmUVQKo2gTlyrBVADD3GsoDC/z+hZgTpm7n3P6i3anojIvg/wqb3y0YG6r/jw0lP6R/BP3/BOQXPa+K/RnvGHfj1EkDmqvrMQpYQQMRL31Kq5wFA4Lws2nhx+z+mIvGkPRr9PyBX/4r+hca/ND2dsJum3z8z13LvPJ/TvwRDF5SQq9w/RtojzaR7CEBrFDxMOAoGQHKlwNTiiABAg1zPFQ1kCUCtfp/eIh0HQECTIO7fgBFA",
          "dtype": "f8"
         },
         "xaxis": "x",
         "y": {
          "bdata": "2VZ+dTFY8j8HEvkNqp4WwJ4dIFa+ShTAmSiSnymGwj9bQ89vlEblv/N4SGkLPaE/NX0z2mXSyL/w+YoQUTbsPx406re61/E/gscZpEY02z8Je5fOkTzMvybfZW33S9e/NB5w/gFF8D+rag95RPv5PwMnc9TkPvc/uwwF46Ji4b8O5sqEJkf+v8ctlVBmPe6/FNKNQolJ4T8vwtYa64vxP4rSLjG2lfS/7nTvmjbX4L8jDoN/ebnnv780Jo9ApuM/4/gJoPkZub/L9qI1Q/zqP5e9g0m49dy/XMcPAaGA8D8W9Yqu/ymuvz2YyiJM5+c/W31iCHUW579gWJpszrfWv5kokp8phsI/",
          "dtype": "f8"
         },
         "yaxis": "y"
        },
        {
         "hovertemplate": "<b>%{hovertext}</b><br><br>Brand=ThundeRobot<br>แกนคุณลักษณะหลักที่ 1 (PC1)=%{x}<br>แกนคุณลักษณะหลักที่ 2 (PC2)=%{y}<extra></extra>",
         "hovertext": [
          "ML8",
          "ML4",
          "ML6 Pro",
          "ML9 Mini",
          "ML9S",
          "ML901",
          "ML602",
          "ML903"
         ],
         "legendgroup": "ThundeRobot",
         "marker": {
          "color": "#EF553B",
          "symbol": "circle"
         },
         "mode": "markers",
         "name": "ThundeRobot",
         "showlegend": true,
         "type": "scattergl",
         "x": {
          "bdata": "lFs+Jzrt978TfNupdWfyv0QWY5I2a/A/rI28zMsB/b9lGHhKSUjtv/KWnCOcusy/5NOQRgrd2b9URGbBuNHlvw==",
          "dtype": "f8"
         },
         "xaxis": "x",
         "y": {
          "bdata": "GrWxaTtJ1z8ZNPGoQDvwvyhEvXJpkfA/LR9Oo7jo1j+wzB5wIDjmPz3Ry0QOfMq/rCxWZ78yzT81IMM7NhDVPw==",
          "dtype": "f8"
         },
         "yaxis": "y"
        },
        {
         "hovertemplate": "<b>%{hovertext}</b><br><br>Brand=Chilkey<br>แกนคุณลักษณะหลักที่ 1 (PC1)=%{x}<br>แกนคุณลักษณะหลักที่ 2 (PC2)=%{y}<extra></extra>",
         "hovertext": [
          "Glacier LW 8K M"
         ],
         "legendgroup": "Chilkey",
         "marker": {
          "color": "#00cc96",
          "symbol": "circle"
         },
         "mode": "markers",
         "name": "Chilkey",
         "showlegend": true,
         "type": "scattergl",
         "x": {
          "bdata": "XybYb8gv/b8=",
          "dtype": "f8"
         },
         "xaxis": "x",
         "y": {
          "bdata": "cOojyNi16j8=",
          "dtype": "f8"
         },
         "yaxis": "y"
        },
        {
         "hovertemplate": "<b>%{hovertext}</b><br><br>Brand=UNIUS<br>แกนคุณลักษณะหลักที่ 1 (PC1)=%{x}<br>แกนคุณลักษณะหลักที่ 2 (PC2)=%{y}<extra></extra>",
         "hovertext": [
          "Black Lotus"
         ],
         "legendgroup": "UNIUS",
         "marker": {
          "color": "#ab63fa",
          "symbol": "circle"
         },
         "mode": "markers",
         "name": "UNIUS",
         "showlegend": true,
         "type": "scattergl",
         "x": {
          "bdata": "U6Jho7dS/r8=",
          "dtype": "f8"
         },
         "xaxis": "x",
         "y": {
          "bdata": "Nk8b1OSe8z8=",
          "dtype": "f8"
         },
         "yaxis": "y"
        },
        {
         "hovertemplate": "<b>%{hovertext}</b><br><br>Brand=Fantech<br>แกนคุณลักษณะหลักที่ 1 (PC1)=%{x}<br>แกนคุณลักษณะหลักที่ 2 (PC2)=%{y}<extra></extra>",
         "hovertext": [
          "Tanto S",
          "Tanto",
          "Tanto E",
          "Go XD5",
          "Aria E",
          "Aria II Pro",
          "Aria II",
          "Helios II Pro S",
          "Helios XD3V2",
          "Helios II Pro",
          "X11 Daredevil",
          "Helios XD3",
          "Aria XD7"
         ],
         "legendgroup": "Fantech",
         "marker": {
          "color": "#FFA15A",
          "symbol": "circle"
         },
         "mode": "markers",
         "name": "Fantech",
         "showlegend": true,
         "type": "scattergl",
         "x": {
          "bdata": "KPctwR1Y97+r9QUENRPwv862NtKOMum/f9WJvFll8T9V1ywhQG7pvxd4YGdBPPq/m3Y4qlj38r+04kdbrvr2v4KxqO55pca/bAYx703T8r/xgF/SRe4PQGwal8NmAsC/eK5glECW8L8=",
          "dtype": "f8"
         },
         "xaxis": "x",
         "y": {
          "bdata": "UhUda0X23T/nne+2X9i6v4ZppY8/guK/ImLVPtU9Nb+dqAoN2onov8r6CMLus94/+wdAW7rht7/uGJPGnIbkP5mg4nt5sO6/sjOq7HEY1D/lzMnSBC7Ov5k2FnfNEPG/jdu5RNHz0L8=",
          "dtype": "f8"
         },
         "yaxis": "y"
        },
        {
         "hovertemplate": "<b>%{hovertext}</b><br><br>Brand=Orbital<br>แกนคุณลักษณะหลักที่ 1 (PC1)=%{x}<br>แกนคุณลักษณะหลักที่ 2 (PC2)=%{y}<extra></extra>",
         "hovertext": [
          "Pathfinder AAM-222",
          "Pathfinder AAM-000"
         ],
         "legendgroup": "Orbital",
         "marker": {
          "color": "#19d3f3",
          "symbol": "circle"
         },
         "mode": "markers",
         "name": "Orbital",
         "showlegend": true,
         "type": "scattergl",
         "x": {
          "bdata": "WP8keEXJAMBtseXBCGgGwA==",
          "dtype": "f8"
         },
         "xaxis": "x",
         "y": {
          "bdata": "yvIEwU6u2j/X9eddRf26vw==",
          "dtype": "f8"
         },
         "yaxis": "y"
        },
        {
         "hovertemplate": "<b>%{hovertext}</b><br><br>Brand=Metaphyuni<br>แกนคุณลักษณะหลักที่ 1 (PC1)=%{x}<br>แกนคุณลักษณะหลักที่ 2 (PC2)=%{y}<extra></extra>",
         "hovertext": [
          "M6",
          "P2 Pro",
          "P2 Lite",
          "P2",
          "Metapanda P1 Pro Max",
          "Metapanda P1 Pro",
          "Metapanda P1"
         ],
         "legendgroup": "Metaphyuni",
         "marker": {
          "color": "#FF6692",
          "symbol": "circle"
         },
         "mode": "markers",
         "name": "Metaphyuni",
         "showlegend": true,
         "type": "scattergl",
         "x": {
          "bdata": "qUgktvEbAMC4FErPT8v3v9ugrxyNTum/OxMiEmeG8L/nSIBb8ILsP+dIgFvwguw/V0LfO4n67j8=",
          "dtype": "f8"
         },
         "xaxis": "x",
         "y": {
          "bdata": "BVA6oqk08z8zFge9R6LVPyCuljj8lOe/J82jNysUzr/AAHna98vuP8AAedr3y+4/glneOegF6z8=",
          "dtype": "f8"
         },
         "yaxis": "y"
        },
        {
         "hovertemplate": "<b>%{hovertext}</b><br><br>Brand=EWEADN<br>แกนคุณลักษณะหลักที่ 1 (PC1)=%{x}<br>แกนคุณลักษณะหลักที่ 2 (PC2)=%{y}<extra></extra>",
         "hovertext": [
          "X23 Max",
          "X23 Pro",
          "X23 SE",
          "X23",
          "M9",
          "X21 Pro",
          "X21",
          "L1 Pro",
          "L1",
          "S9 Ultra",
          "S9 Pro",
          "S9"
         ],
         "legendgroup": "EWEADN",
         "marker": {
          "color": "#B6E880",
          "symbol": "circle"
         },
         "mode": "markers",
         "name": "EWEADN",
         "showlegend": true,
         "type": "scattergl",
         "x": {
          "bdata": "L1vlBUEz8L/EMDYEQajov8QwNgRBqOi/xDA2BEGo6L/ETjCHdNj6v4LtnyJYCvk/d9Vw+ZMw/D9nXTmykEv+v2ddObKQS/6/Bao3VuyR7r/g7WPo4FHmv8H98j5JXNG/",
          "dtype": "f8"
         },
         "xaxis": "x",
         "y": {
          "bdata": "E9zC/mymqj8nGoM1FcvcvycagzUVy9y/JxqDNRXL3L99ygKVL87iPxlRb7A/QPY/V6txP+rs7T8WYm/+ru/qPxZib/6u7+o/zY9ln0LT9z8Hm+danPDtP0h16NU3Jdk/",
          "dtype": "f8"
         },
         "yaxis": "y"
        },
        {
         "hovertemplate": "<b>%{hovertext}</b><br><br>Brand=Zaopin<br>แกนคุณลักษณะหลักที่ 1 (PC1)=%{x}<br>แกนคุณลักษณะหลักที่ 2 (PC2)=%{y}<extra></extra>",
         "hovertext": [
          "ZPW Max",
          "ZPW",
          "Z2 Max",
          "Z1 Pro Max",
          "Z2 Mini Max 8K",
          "Z2 Mini 4K",
          "Z2 Mini",
          "Z2",
          "Z1 Pro",
          "Z1"
         ],
         "legendgroup": "Zaopin",
         "marker": {
          "color": "#FF97FF",
          "symbol": "circle"
         },
         "mode": "markers",
         "name": "Zaopin",
         "showlegend": true,
         "type": "scattergl",
         "x": {
          "bdata": "hd32Ewb1wj+lUQ74dM7LPyfPSwUZ7NY/orhFJoinAMAPlxyTU/Tav3yv1cJpqLe/06M8Thswuj8qfdkTKfvlPxGMDQukf/6/errO+C+g878=",
          "dtype": "f8"
         },
         "xaxis": "x",
         "y": {
          "bdata": "XQbV0udV/j/1fU4xfAr8P+GWsuvg/fM/PaLEv6il1j+hJztrlEXuP3sv4K+yaN4/t2EG7zlizT/gHRrEhuroP8Hz/9kZuLA/G9gEauw96L8=",
          "dtype": "f8"
         },
         "yaxis": "y"
        },
        {
         "hovertemplate": "<b>%{hovertext}</b><br><br>Brand=RK<br>แกนคุณลักษณะหลักที่ 1 (PC1)=%{x}<br>แกนคุณลักษณะหลักที่ 2 (PC2)=%{y}<extra></extra>",
         "hovertext": [
          "Royal Kludge M3",
          "Royal Kludge M30"
         ],
         "legendgroup": "RK",
         "marker": {
          "color": "#FECB52",
          "symbol": "circle"
         },
         "mode": "markers",
         "name": "RK",
         "showlegend": true,
         "type": "scattergl",
         "x": {
          "bdata": "272DpfYZAMBeIfBvBIj1vw==",
          "dtype": "f8"
         },
         "xaxis": "x",
         "y": {
          "bdata": "Ud4Bl8ni9T+ON6H+qMjQPw==",
          "dtype": "f8"
         },
         "yaxis": "y"
        },
        {
         "hovertemplate": "<b>%{hovertext}</b><br><br>Brand=Xyder<br>แกนคุณลักษณะหลักที่ 1 (PC1)=%{x}<br>แกนคุณลักษณะหลักที่ 2 (PC2)=%{y}<extra></extra>",
         "hovertext": [
          "Amalight 4K"
         ],
         "legendgroup": "Xyder",
         "marker": {
          "color": "#636efa",
          "symbol": "circle"
         },
         "mode": "markers",
         "name": "Xyder",
         "showlegend": true,
         "type": "scattergl",
         "x": {
          "bdata": "dNNQ9uOJ578=",
          "dtype": "f8"
         },
         "xaxis": "x",
         "y": {
          "bdata": "f4WeWB8r6D8=",
          "dtype": "f8"
         },
         "yaxis": "y"
        },
        {
         "hovertemplate": "<b>%{hovertext}</b><br><br>Brand=Imecoo<br>แกนคุณลักษณะหลักที่ 1 (PC1)=%{x}<br>แกนคุณลักษณะหลักที่ 2 (PC2)=%{y}<extra></extra>",
         "hovertext": [
          "P1"
         ],
         "legendgroup": "Imecoo",
         "marker": {
          "color": "#EF553B",
          "symbol": "circle"
         },
         "mode": "markers",
         "name": "Imecoo",
         "showlegend": true,
         "type": "scattergl",
         "x": {
          "bdata": "IiXW5f5c6T8=",
          "dtype": "f8"
         },
         "xaxis": "x",
         "y": {
          "bdata": "cP8e/KRpAEA=",
          "dtype": "f8"
         },
         "yaxis": "y"
        },
        {
         "hovertemplate": "<b>%{hovertext}</b><br><br>Brand=Vaidemi<br>แกนคุณลักษณะหลักที่ 1 (PC1)=%{x}<br>แกนคุณลักษณะหลักที่ 2 (PC2)=%{y}<extra></extra>",
         "hovertext": [
          "Nimbus"
         ],
         "legendgroup": "Vaidemi",
         "marker": {
          "color": "#00cc96",
          "symbol": "circle"
         },
         "mode": "markers",
         "name": "Vaidemi",
         "showlegend": true,
         "type": "scattergl",
         "x": {
          "bdata": "giUYAiB//78=",
          "dtype": "f8"
         },
         "xaxis": "x",
         "y": {
          "bdata": "fbvOw+1b+T8=",
          "dtype": "f8"
         },
         "yaxis": "y"
        },
        {
         "hovertemplate": "<b>%{hovertext}</b><br><br>Brand=Zowie<br>แกนคุณลักษณะหลักที่ 1 (PC1)=%{x}<br>แกนคุณลักษณะหลักที่ 2 (PC2)=%{y}<extra></extra>",
         "hovertext": [
          "EC3-DW",
          "EC2-DW",
          "EC1-DW",
          "ZA13-DW",
          "FK2-DW",
          "U2-DW",
          "S2-DW",
          "S1-B V2",
          "S1-B",
          "S1-C",
          "S2-B V2",
          "S2-B",
          "ZA13-B",
          "ZA12-B",
          "ZA12-C",
          "ZA11-B",
          "ZA11-C",
          "FK2-B V2",
          "FK2-B",
          "FK1-B V2",
          "FK1-B",
          "FK1+-B V2",
          "FK1+-B",
          "EC2-B V2",
          "EC2-B",
          "EC1-B V2",
          "EC1-B",
          "MiCO",
          "U2",
          "AM",
          "EC3-CW",
          "EC2-CW",
          "EC1-CW",
          "S2-C",
          "ZA13-C",
          "FK2-C",
          "FK1-C",
          "FK1+-C",
          "EC3-C",
          "EC2-C",
          "EC1-C"
         ],
         "legendgroup": "Zowie",
         "marker": {
          "color": "#ab63fa",
          "symbol": "circle"
         },
         "mode": "markers",
         "name": "Zowie",
         "showlegend": true,
         "type": "scattergl",
         "x": {
          "bdata": "nD55C38V8T9VRen17hb0P0C8IhPdrP4/dfk7eZ1l2b8jkXbtG+jdv27jgP/5QuG/T+6mjglS4b/fymc9ugvjP9/KZz26C+M/M8k8xQ/bzj+X9bCGjauxP5f1sIaNq7E/39iPInqvoz93MoVACQveP1aCU5e9DtI/bWJdwWDB7j+WSeyef3fnPwho5z3/3Lc/CGjnPf/ctz+fbsh7+w/hP59uyHv7D+E/qGhOv8Z+7T+oaE6/xn7tP+tQEBjANAFA61AQGMA0AUA4JMj+73oGQDgkyP7vegZAHSho1DMK/r8FMr260g/Wv9y8U/0e99c/4asQ3YSj+j++Z+WXQI79PyyHKckgxwNAaNhxlrvXz79Aye5p+N7Jv7pp8QF5SMO//OB+yxzw0j+tJFjvudfmPzVW8OuyXfg/o6Q137YP/D+TgJqqP/UDQA==",
          "dtype": "f8"
         },
         "xaxis": "x",
         "y": {
          "bdata": "pxfTydnexj9PFEFIXujWP0gPXin8p+g/BTksaXnc4r++jFy1SKLmv8QtEeFLSuC/peFS/BZG6b+4b/KWtCfzv7hv8pa0J/O/nxD/NIv06b/8m7LnDh/4v/ybsucOH/i/8yDPDRWn8b9xWB4f4a7qv99ujSC0N+S/+FoBdaCQ4b+0SI70PPPTv28fayfC4PW/bx9rJ8Lg9b+dVmgoHN7xv51WaCgc3vG/7Z4EGJHk6r/tngQYkeTqvwSaPk0VguS/BJo+TRWC5L/9CcXgvHHIv/0JxeC8cci/ukIVaXTmCMAUrT+9Fibov+ktjm26/fe/sBECuRY74L85tv3layDUvzXoJzon5cM/bG9MCQdY8r9VuFpFRLjqv38OUujxdPG/kwohFXJn67/qG3eRF9bjv/LGhbINhNa/QdA2Sexly7+9gn5abfDAPw==",
          "dtype": "f8"
         },
         "yaxis": "y"
        },
        {
         "hovertemplate": "<b>%{hovertext}</b><br><br>Brand=Tecware<br>แกนคุณลักษณะหลักที่ 1 (PC1)=%{x}<br>แกนคุณลักษณะหลักที่ 2 (PC2)=%{y}<extra></extra>",
         "hovertext": [
          "EX1",
          "Pulse Elite"
         ],
         "legendgroup": "Tecware",
         "marker": {
          "color": "#FFA15A",
          "symbol": "circle"
         },
         "mode": "markers",
         "name": "Tecware",
         "showlegend": true,
         "type": "scattergl",
         "x": {
          "bdata": "4RxGEpd48L/6me0wVu/Jvw==",
          "dtype": "f8"
         },
         "xaxis": "x",
         "y": {
          "bdata": "Nz0aKV8Zwb+ttnxlZxbPvw==",
          "dtype": "f8"
         },
         "yaxis": "y"
        },
        {
         "hovertemplate": "<b>%{hovertext}</b><br><br>Brand=SOLAKAKA<br>แกนคุณลักษณะหลักที่ 1 (PC1)=%{x}<br>แกนคุณลักษณะหลักที่ 2 (PC2)=%{y}<extra></extra>",
         "hovertext": [
          "SM809 Pro",
          "SM802 Pro",
          "SM805",
          "SM850",
          "SM809",
          "SM802"
         ],
         "legendgroup": "SOLAKAKA",
         "marker": {
          "color": "#19d3f3",
          "symbol": "circle"
         },
         "mode": "markers",
         "name": "SOLAKAKA",
         "showlegend": true,
         "type": "scattergl",
         "x": {
          "bdata": "p7NMmb+tEkCY8YscBmnlvz10hT/U7fE/HaW9bNGD4j918ekBEdURQPnX7imKVdu/",
          "dtype": "f8"
         },
         "xaxis": "x",
         "y": {
          "bdata": "p4a6wQ9u/z9/3pH3Tyaxv/1wzS4EV+A/hbxcI6Nn5D+KrryWSUwBQKX2n2m7NOK/",
          "dtype": "f8"
         },
         "yaxis": "y"
        },
        {
         "hovertemplate": "<b>%{hovertext}</b><br><br>Brand=Mighty<br>แกนคุณลักษณะหลักที่ 1 (PC1)=%{x}<br>แกนคุณลักษณะหลักที่ 2 (PC2)=%{y}<extra></extra>",
         "hovertext": [
          "Mouse MM8K"
         ],
         "legendgroup": "Mighty",
         "marker": {
          "color": "#FF6692",
          "symbol": "circle"
         },
         "mode": "markers",
         "name": "Mighty",
         "showlegend": true,
         "type": "scattergl",
         "x": {
          "bdata": "z0bK0dNCGMA=",
          "dtype": "f8"
         },
         "xaxis": "x",
         "y": {
          "bdata": "D2dcKjBZAMA=",
          "dtype": "f8"
         },
         "yaxis": "y"
        },
        {
         "hovertemplate": "<b>%{hovertext}</b><br><br>Brand=Redragon<br>แกนคุณลักษณะหลักที่ 1 (PC1)=%{x}<br>แกนคุณลักษณะหลักที่ 2 (PC2)=%{y}<extra></extra>",
         "hovertext": [
          "M813 Pro",
          "M813 Wired",
          "M995 Pro",
          "M995",
          "M991",
          "M810 Pro",
          "M693",
          "M656 Gainer",
          "M913 Impact Elite",
          "M908 Impact",
          "M996",
          "M724",
          "M916 Pro 4K",
          "M916 Pro",
          "G49 Pro",
          "M711 Cobra"
         ],
         "legendgroup": "Redragon",
         "marker": {
          "color": "#B6E880",
          "symbol": "circle"
         },
         "mode": "markers",
         "name": "Redragon",
         "showlegend": true,
         "type": "scattergl",
         "x": {
          "bdata": "1tUiYQPZA0D7f8a0/DoFQKux4TovLue/q7HhOi8u57+4q1EDUUUMQAoNZQFlpARAZ+D4nVEgAED35IJ41k4QQPfGdzchOBlAVkaFJMyJGEBtY3kOs9T7v8oDYTD7zPC/8IIMmSXx9L+7XftHndPxv/CCDJkl8fS/4vunEWwVAUA=",
          "dtype": "f8"
         },
         "xaxis": "x",
         "y": {
          "bdata": "G+lsoXc98z8xKDkb1QHrP7/qzZUInuE/v+rNlQie4T+R4jXUjViNv90k9Ol4S+M/zBg29S/N1r8TIHDMvQLyv5p257rFgPQ/h8iVSbfo9T+xJm3fmDHwPwI8ULIm16i/Iz689iJn3z8Ef758Gl/PPyM+vPYiZ98/0p6w+RM55L8=",
          "dtype": "f8"
         },
         "yaxis": "y"
        },
        {
         "hovertemplate": "<b>%{hovertext}</b><br><br>Brand=JAMESDONKEY<br>แกนคุณลักษณะหลักที่ 1 (PC1)=%{x}<br>แกนคุณลักษณะหลักที่ 2 (PC2)=%{y}<extra></extra>",
         "hovertext": [
          "RSR5s",
          "RSR5"
         ],
         "legendgroup": "JAMESDONKEY",
         "marker": {
          "color": "#FF97FF",
          "symbol": "circle"
         },
         "mode": "markers",
         "name": "JAMESDONKEY",
         "showlegend": true,
         "type": "scattergl",
         "x": {
          "bdata": "SYpz99MX+r/NePbTATP7vw==",
          "dtype": "f8"
         },
         "xaxis": "x",
         "y": {
          "bdata": "OcSib4HT3D/sct76lwDjPw==",
          "dtype": "f8"
         },
         "yaxis": "y"
        },
        {
         "hovertemplate": "<b>%{hovertext}</b><br><br>Brand=ROCCAT<br>แกนคุณลักษณะหลักที่ 1 (PC1)=%{x}<br>แกนคุณลักษณะหลักที่ 2 (PC2)=%{y}<extra></extra>",
         "hovertext": [
          "LUA",
          "Kone XP Air",
          "Pure SEL",
          "Pure Air",
          "Tyon",
          "Kain 120 AIMO",
          "Kone Pure Ultra",
          "Kone AIMO Remastered",
          "Kain 100 AIMO",
          "Kain 200 AIMO",
          "Kone XP",
          "Kone Pro",
          "Kone Pro Air",
          "Burst Core",
          "Burst Pro",
          "Burst Pro Air"
         ],
         "legendgroup": "ROCCAT",
         "marker": {
          "color": "#FECB52",
          "symbol": "circle"
         },
         "mode": "markers",
         "name": "ROCCAT",
         "showlegend": true,
         "type": "scattergl",
         "x": {
          "bdata": "TuqtDY1i8L+LDXLfvUoKQJjqS8jcUPA/rUPjbml36j8Jvmq9RuAUQNdPdDaW6+Q/ST8/DR9n9D8Pzakpe3oTQEJOXzGCEek/DPM+GmVg8D/F1PKPKecIQKD/sb4tevw/Jv7AHr7C/z9ywHCG/MHEvxZdDjnWrNK/2lnkC74In78=",
          "dtype": "f8"
         },
         "xaxis": "x",
         "y": {
          "bdata": "In3TAnlyAMB1w5VayFngP5QPwfvfTNc/jfWjKeEm7D8k3yz+RC7gP28O10tjjd+/XXwEkLrrwj+Hz66Q2UPhP7wGpEOFYei/uw6pff5V7L8HnK+YZETNP+HwJTvIsuk/cixMJ5zZ4j8MFLXy2ULpv4eU/FQGqOC/OTsN9Ets6L8=",
          "dtype": "f8"
         },
         "yaxis": "y"
        },
        {
         "hovertemplate": "<b>%{hovertext}</b><br><br>Brand=Realforce<br>แกนคุณลักษณะหลักที่ 1 (PC1)=%{x}<br>แกนคุณลักษณะหลักที่ 2 (PC2)=%{y}<extra></extra>",
         "hovertext": [
          "RM1"
         ],
         "legendgroup": "Realforce",
         "marker": {
          "color": "#636efa",
          "symbol": "circle"
         },
         "mode": "markers",
         "name": "Realforce",
         "showlegend": true,
         "type": "scattergl",
         "x": {
          "bdata": "dOHIzrBI/z8=",
          "dtype": "f8"
         },
         "xaxis": "x",
         "y": {
          "bdata": "k8fWvFDCtL8=",
          "dtype": "f8"
         },
         "yaxis": "y"
        },
        {
         "hovertemplate": "<b>%{hovertext}</b><br><br>Brand=Lenovo<br>แกนคุณลักษณะหลักที่ 1 (PC1)=%{x}<br>แกนคุณลักษณะหลักที่ 2 (PC2)=%{y}<extra></extra>",
         "hovertext": [
          "Yoga Pro",
          "Legion M410",
          "Legion M600s",
          "Legion M300s"
         ],
         "legendgroup": "Lenovo",
         "marker": {
          "color": "#EF553B",
          "symbol": "circle"
         },
         "mode": "markers",
         "name": "Lenovo",
         "showlegend": true,
         "type": "scattergl",
         "x": {
          "bdata": "i7Peb1LaEUAB7iyPj8nlPxx1ufYYje6/452D+SIY8b8=",
          "dtype": "f8"
         },
         "xaxis": "x",
         "y": {
          "bdata": "7m6H7MYnEsBLOYpwa13wv12bTvwcMO6/g2vvmmlU778=",
          "dtype": "f8"
         },
         "yaxis": "y"
        },
        {
         "hovertemplate": "<b>%{hovertext}</b><br><br>Brand=HaunterWell<br>แกนคุณลักษณะหลักที่ 1 (PC1)=%{x}<br>แกนคุณลักษณะหลักที่ 2 (PC2)=%{y}<extra></extra>",
         "hovertext": [
          "HZS",
          "HMF",
          "HFC",
          "HZ1"
         ],
         "legendgroup": "HaunterWell",
         "marker": {
          "color": "#00cc96",
          "symbol": "circle"
         },
         "mode": "markers",
         "name": "HaunterWell",
         "showlegend": true,
         "type": "scattergl",
         "x": {
          "bdata": "3z02GqKMEsDRSRc2+QMTwPionZpKuA/Asi3gclcYB8A=",
          "dtype": "f8"
         },
         "xaxis": "x",
         "y": {
          "bdata": "FGww5gaa6b+KGJdfKSDwv8+2liNooOG//i7Bpbbu2D8=",
          "dtype": "f8"
         },
         "yaxis": "y"
        },
        {
         "hovertemplate": "<b>%{hovertext}</b><br><br>Brand=Akko<br>แกนคุณลักษณะหลักที่ 1 (PC1)=%{x}<br>แกนคุณลักษณะหลักที่ 2 (PC2)=%{y}<extra></extra>",
         "hovertext": [
          "Pulse 01",
          "AG ONE 8K",
          "AG One NearLink",
          "AG325W",
          "AG325C",
          "AG325"
         ],
         "legendgroup": "Akko",
         "marker": {
          "color": "#ab63fa",
          "symbol": "circle"
         },
         "mode": "markers",
         "name": "Akko",
         "showlegend": true,
         "type": "scattergl",
         "x": {
          "bdata": "8mQeovya5r/7DUYcHA/tv8jZXB+tr+e/OKHE2D2Y8T+zSTa7LLXCPy9O4Fr65sg/",
          "dtype": "f8"
         },
         "xaxis": "x",
         "y": {
          "bdata": "mNC3v3pV4D/kww1MpUzjPzO88ov+p9o/RFPifCKqFcCPhnFHYGfrvx/fLcPDne6/",
          "dtype": "f8"
         },
         "yaxis": "y"
        },
        {
         "hovertemplate": "<b>%{hovertext}</b><br><br>Brand=Pwnage<br>แกนคุณลักษณะหลักที่ 1 (PC1)=%{x}<br>แกนคุณลักษณะหลักที่ 2 (PC2)=%{y}<extra></extra>",
         "hovertext": [
          "StormBreaker V3",
          "StormBreaker V2",
          "Trinity CF",
          "StormBreaker Max CF",
          "StormBreaker",
          "Ergo Wireless",
          "Ergo",
          "Ambi Wireless",
          "Symm 2",
          "Symm 2 Wireless",
          "Symm 1",
          "Symm 1 Wireless"
         ],
         "legendgroup": "Pwnage",
         "marker": {
          "color": "#FFA15A",
          "symbol": "circle"
         },
         "mode": "markers",
         "name": "Pwnage",
         "showlegend": true,
         "type": "scattergl",
         "x": {
          "bdata": "WZfZC4ADqz/dkKHjg+PPP/VlD2CUJQLArL2+rng96T/FHBbRoUfgP0OHHG+js/U/Of2eD4Po8z/pjiBuu37rv6mpcVO/WvC/f/U4WSDF6L/NT2Y1IIrsv3GmCGi/+ea/",
          "dtype": "f8"
         },
         "xaxis": "x",
         "y": {
          "bdata": "UoaqA19nAEDbG7Q1iKn6Pwk3Y46GYvE/ADMfsvyCBEBPHJVNVmz1P+BUoea+Mtg/K7XZYiqk3D89dRlhMSbvv4YZlT/TH+S/N6ZXCo/c67/F3oFAHSDqv+/ponavIO+/",
          "dtype": "f8"
         },
         "yaxis": "y"
        },
        {
         "hovertemplate": "<b>%{hovertext}</b><br><br>Brand=Teevolution<br>แกนคุณลักษณะหลักที่ 1 (PC1)=%{x}<br>แกนคุณลักษณะหลักที่ 2 (PC2)=%{y}<extra></extra>",
         "hovertext": [
          "Terra",
          "Aria XD7",
          "Helios II Pro"
         ],
         "legendgroup": "Teevolution",
         "marker": {
          "color": "#19d3f3",
          "symbol": "circle"
         },
         "mode": "markers",
         "name": "Teevolution",
         "showlegend": true,
         "type": "scattergl",
         "x": {
          "bdata": "5u9qwmCl5j94rmCUQJbwv2wGMe9N0/K/",
          "dtype": "f8"
         },
         "xaxis": "x",
         "y": {
          "bdata": "CCz2HTO0AUCN27lE0fPQv7IzquxxGNQ/",
          "dtype": "f8"
         },
         "yaxis": "y"
        },
        {
         "hovertemplate": "<b>%{hovertext}</b><br><br>Brand=GravaStar<br>แกนคุณลักษณะหลักที่ 1 (PC1)=%{x}<br>แกนคุณลักษณะหลักที่ 2 (PC2)=%{y}<extra></extra>",
         "hovertext": [
          "Mercury X Pro",
          "Mercury X",
          "Mercury M2",
          "Mercury M1 Pro"
         ],
         "legendgroup": "GravaStar",
         "marker": {
          "color": "#FF6692",
          "symbol": "circle"
         },
         "mode": "markers",
         "name": "GravaStar",
         "showlegend": true,
         "type": "scattergl",
         "x": {
          "bdata": "C+/+18eO9b8d2601vpPsv91CmoKn6KK/Qgt48tC+kr8=",
          "dtype": "f8"
         },
         "xaxis": "x",
         "y": {
          "bdata": "t4CMs6369T8Ig6y6LJ/pPyWj0GE7u8q/8aSac6k3yb8=",
          "dtype": "f8"
         },
         "yaxis": "y"
        },
        {
         "hovertemplate": "<b>%{hovertext}</b><br><br>Brand=NZXT<br>แกนคุณลักษณะหลักที่ 1 (PC1)=%{x}<br>แกนคุณลักษณะหลักที่ 2 (PC2)=%{y}<extra></extra>",
         "hovertext": [
          "Lift Elite Wireless",
          "Lift 2 Ergo",
          "Lift 2 Symm",
          "Lift"
         ],
         "legendgroup": "NZXT",
         "marker": {
          "color": "#B6E880",
          "symbol": "circle"
         },
         "mode": "markers",
         "name": "NZXT",
         "showlegend": true,
         "type": "scattergl",
         "x": {
          "bdata": "gdS5F8jG+r/3hG1VhNboP1t75IgNDey/RcIv/ekMo78=",
          "dtype": "f8"
         },
         "xaxis": "x",
         "y": {
          "bdata": "NqceMUS71z/phAxyVWD6P0LFv6TQse8/894NVd0Ixr8=",
          "dtype": "f8"
         },
         "yaxis": "y"
        },
        {
         "hovertemplate": "<b>%{hovertext}</b><br><br>Brand=strayfe<br>แกนคุณลักษณะหลักที่ 1 (PC1)=%{x}<br>แกนคุณลักษณะหลักที่ 2 (PC2)=%{y}<extra></extra>",
         "hovertext": [
          "M55 Pro 8k"
         ],
         "legendgroup": "strayfe",
         "marker": {
          "color": "#FF97FF",
          "symbol": "circle"
         },
         "mode": "markers",
         "name": "strayfe",
         "showlegend": true,
         "type": "scattergl",
         "x": {
          "bdata": "5DZpYkgO978=",
          "dtype": "f8"
         },
         "xaxis": "x",
         "y": {
          "bdata": "Wk+nGYkV5z8=",
          "dtype": "f8"
         },
         "yaxis": "y"
        },
        {
         "hovertemplate": "<b>%{hovertext}</b><br><br>Brand=Waizowl<br>แกนคุณลักษณะหลักที่ 1 (PC1)=%{x}<br>แกนคุณลักษณะหลักที่ 2 (PC2)=%{y}<extra></extra>",
         "hovertext": [
          "OGM Cloud XS",
          "OGM One",
          "OGM Cloud V2",
          "OGM Pro V2",
          "OGM Cloud",
          "OGM Pro"
         ],
         "legendgroup": "Waizowl",
         "marker": {
          "color": "#FECB52",
          "symbol": "circle"
         },
         "mode": "markers",
         "name": "Waizowl",
         "showlegend": true,
         "type": "scattergl",
         "x": {
          "bdata": "PB+N/hgxAcDy4H1nnwfkP+WGO4V8EPC/FAem743T7781eEN53Jvlv+CyGK/px7g/",
          "dtype": "f8"
         },
         "xaxis": "x",
         "y": {
          "bdata": "CgPaeZ4p5j+1lFNq/ODpvxk92xUFHfM/PAMn5fgE9D9OamsYzyjnPyC7jfxiNMA/",
          "dtype": "f8"
         },
         "yaxis": "y"
        },
        {
         "hovertemplate": "<b>%{hovertext}</b><br><br>Brand=cOoLm0Dz<br>แกนคุณลักษณะหลักที่ 1 (PC1)=%{x}<br>แกนคุณลักษณะหลักที่ 2 (PC2)=%{y}<extra></extra>",
         "hovertext": [
          "OPt1p",
          "finalt1p"
         ],
         "legendgroup": "cOoLm0Dz",
         "marker": {
          "color": "#636efa",
          "symbol": "circle"
         },
         "mode": "markers",
         "name": "cOoLm0Dz",
         "showlegend": true,
         "type": "scattergl",
         "x": {
          "bdata": "GGbi0JSeC8CIsuYxWjwNwA==",
          "dtype": "f8"
         },
         "xaxis": "x",
         "y": {
          "bdata": "2vBYr0EztT+PH5eyLmzKPw==",
          "dtype": "f8"
         },
         "yaxis": "y"
        },
        {
         "hovertemplate": "<b>%{hovertext}</b><br><br>Brand=IPI<br>แกนคุณลักษณะหลักที่ 1 (PC1)=%{x}<br>แกนคุณลักษณะหลักที่ 2 (PC2)=%{y}<extra></extra>",
         "hovertext": [
          "Float"
         ],
         "legendgroup": "IPI",
         "marker": {
          "color": "#EF553B",
          "symbol": "circle"
         },
         "mode": "markers",
         "name": "IPI",
         "showlegend": true,
         "type": "scattergl",
         "x": {
          "bdata": "FFKFpnUXAcA=",
          "dtype": "f8"
         },
         "xaxis": "x",
         "y": {
          "bdata": "WgqFVYk85z8=",
          "dtype": "f8"
         },
         "yaxis": "y"
        },
        {
         "hovertemplate": "<b>%{hovertext}</b><br><br>Brand=PHYLINA<br>แกนคุณลักษณะหลักที่ 1 (PC1)=%{x}<br>แกนคุณลักษณะหลักที่ 2 (PC2)=%{y}<extra></extra>",
         "hovertext": [
          "S480",
          "S450 4K",
          "S450"
         ],
         "legendgroup": "PHYLINA",
         "marker": {
          "color": "#00cc96",
          "symbol": "circle"
         },
         "mode": "markers",
         "name": "PHYLINA",
         "showlegend": true,
         "type": "scattergl",
         "x": {
          "bdata": "EyEOwjH0AMDsKK9oc+nzv7cDnhfry/C/",
          "dtype": "f8"
         },
         "xaxis": "x",
         "y": {
          "bdata": "eIKWI0fe8z9RVmacOvbaP2SvEshJfcY/",
          "dtype": "f8"
         },
         "yaxis": "y"
        },
        {
         "hovertemplate": "<b>%{hovertext}</b><br><br>Brand=Amazon<br>แกนคุณลักษณะหลักที่ 1 (PC1)=%{x}<br>แกนคุณลักษณะหลักที่ 2 (PC2)=%{y}<extra></extra>",
         "hovertext": [
          "Basics Mouse"
         ],
         "legendgroup": "Amazon",
         "marker": {
          "color": "#ab63fa",
          "symbol": "circle"
         },
         "mode": "markers",
         "name": "Amazon",
         "showlegend": true,
         "type": "scattergl",
         "x": {
          "bdata": "ou0uv2iB5b8=",
          "dtype": "f8"
         },
         "xaxis": "x",
         "y": {
          "bdata": "r01EdLEvGsA=",
          "dtype": "f8"
         },
         "yaxis": "y"
        },
        {
         "hovertemplate": "<b>%{hovertext}</b><br><br>Brand=TMKB<br>แกนคุณลักษณะหลักที่ 1 (PC1)=%{x}<br>แกนคุณลักษณะหลักที่ 2 (PC2)=%{y}<extra></extra>",
         "hovertext": [
          "Falcon M1SE"
         ],
         "legendgroup": "TMKB",
         "marker": {
          "color": "#FFA15A",
          "symbol": "circle"
         },
         "mode": "markers",
         "name": "TMKB",
         "showlegend": true,
         "type": "scattergl",
         "x": {
          "bdata": "YJkbrZBHkD8=",
          "dtype": "f8"
         },
         "xaxis": "x",
         "y": {
          "bdata": "+mwww/DW4r8=",
          "dtype": "f8"
         },
         "yaxis": "y"
        },
        {
         "hovertemplate": "<b>%{hovertext}</b><br><br>Brand=Madlions<br>แกนคุณลักษณะหลักที่ 1 (PC1)=%{x}<br>แกนคุณลักษณะหลักที่ 2 (PC2)=%{y}<extra></extra>",
         "hovertext": [
          "Mad G Max",
          "Mad G"
         ],
         "legendgroup": "Madlions",
         "marker": {
          "color": "#19d3f3",
          "symbol": "circle"
         },
         "mode": "markers",
         "name": "Madlions",
         "showlegend": true,
         "type": "scattergl",
         "x": {
          "bdata": "U/KHDQGe8r8iq9G4rHjqvw==",
          "dtype": "f8"
         },
         "xaxis": "x",
         "y": {
          "bdata": "4zr5kmiG8z82cUibs9PoPw==",
          "dtype": "f8"
         },
         "yaxis": "y"
        },
        {
         "hovertemplate": "<b>%{hovertext}</b><br><br>Brand=Mountain<br>แกนคุณลักษณะหลักที่ 1 (PC1)=%{x}<br>แกนคุณลักษณะหลักที่ 2 (PC2)=%{y}<extra></extra>",
         "hovertext": [
          "Makalu Max",
          "Makalu 67"
         ],
         "legendgroup": "Mountain",
         "marker": {
          "color": "#FF6692",
          "symbol": "circle"
         },
         "mode": "markers",
         "name": "Mountain",
         "showlegend": true,
         "type": "scattergl",
         "x": {
          "bdata": "nqbh1WOKCEChRTEN0ev+Pw==",
          "dtype": "f8"
         },
         "xaxis": "x",
         "y": {
          "bdata": "QfYoiOZxsj8oGrK9QonuPw==",
          "dtype": "f8"
         },
         "yaxis": "y"
        },
        {
         "hovertemplate": "<b>%{hovertext}</b><br><br>Brand=Edifier<br>แกนคุณลักษณะหลักที่ 1 (PC1)=%{x}<br>แกนคุณลักษณะหลักที่ 2 (PC2)=%{y}<extra></extra>",
         "hovertext": [
          "Hecate G5M Pro",
          "Hecate G5M",
          "Hecate G3M Pro"
         ],
         "legendgroup": "Edifier",
         "marker": {
          "color": "#B6E880",
          "symbol": "circle"
         },
         "mode": "markers",
         "name": "Edifier",
         "showlegend": true,
         "type": "scattergl",
         "x": {
          "bdata": "WCvIesCl5b8J2CZkd/Hgv5cZ25ItgPC/",
          "dtype": "f8"
         },
         "xaxis": "x",
         "y": {
          "bdata": "WgGgUF7o1j8r1qiqLh/FP/DCNptUzNW/",
          "dtype": "f8"
         },
         "yaxis": "y"
        },
        {
         "hovertemplate": "<b>%{hovertext}</b><br><br>Brand=EVGA<br>แกนคุณลักษณะหลักที่ 1 (PC1)=%{x}<br>แกนคุณลักษณะหลักที่ 2 (PC2)=%{y}<extra></extra>",
         "hovertext": [
          "X20",
          "X17",
          "X15",
          "X12"
         ],
         "legendgroup": "EVGA",
         "marker": {
          "color": "#FF97FF",
          "symbol": "circle"
         },
         "mode": "markers",
         "name": "EVGA",
         "showlegend": true,
         "type": "scattergl",
         "x": {
          "bdata": "NzCuGKKhC0DuHq4/62kEQMLxD0YdbA1Aj2r+kbwApz8=",
          "dtype": "f8"
         },
         "xaxis": "x",
         "y": {
          "bdata": "PSkH/vHd07+8o4poufzmP8Y3iDKJOvE/qUCxrbEf3T8=",
          "dtype": "f8"
         },
         "yaxis": "y"
        },
        {
         "hovertemplate": "<b>%{hovertext}</b><br><br>Brand=8BitDo<br>แกนคุณลักษณะหลักที่ 1 (PC1)=%{x}<br>แกนคุณลักษณะหลักที่ 2 (PC2)=%{y}<extra></extra>",
         "hovertext": [
          "Retro R8"
         ],
         "legendgroup": "8BitDo",
         "marker": {
          "color": "#FECB52",
          "symbol": "circle"
         },
         "mode": "markers",
         "name": "8BitDo",
         "showlegend": true,
         "type": "scattergl",
         "x": {
          "bdata": "6CjjEWyH9r8=",
          "dtype": "f8"
         },
         "xaxis": "x",
         "y": {
          "bdata": "1TKqEus53L8=",
          "dtype": "f8"
         },
         "yaxis": "y"
        },
        {
         "hovertemplate": "<b>%{hovertext}</b><br><br>Brand=ANTGAMER<br>แกนคุณลักษณะหลักที่ 1 (PC1)=%{x}<br>แกนคุณลักษณะหลักที่ 2 (PC2)=%{y}<extra></extra>",
         "hovertext": [
          "AGM535R"
         ],
         "legendgroup": "ANTGAMER",
         "marker": {
          "color": "#636efa",
          "symbol": "circle"
         },
         "mode": "markers",
         "name": "ANTGAMER",
         "showlegend": true,
         "type": "scattergl",
         "x": {
          "bdata": "sj46oa0r778=",
          "dtype": "f8"
         },
         "xaxis": "x",
         "y": {
          "bdata": "GQBaZAqm8j8=",
          "dtype": "f8"
         },
         "yaxis": "y"
        },
        {
         "hovertemplate": "<b>%{hovertext}</b><br><br>Brand=RAKK<br>แกนคุณลักษณะหลักที่ 1 (PC1)=%{x}<br>แกนคุณลักษณะหลักที่ 2 (PC2)=%{y}<extra></extra>",
         "hovertext": [
          "Talan Aero",
          "Kaptan Wired",
          "Talan Air",
          "Talan",
          "Tanaw",
          "Kaptan Trimode",
          "MAG-AN",
          "BULUS",
          "Gahum"
         ],
         "legendgroup": "RAKK",
         "marker": {
          "color": "#EF553B",
          "symbol": "circle"
         },
         "mode": "markers",
         "name": "RAKK",
         "showlegend": true,
         "type": "scattergl",
         "x": {
          "bdata": "AwwGjYhD8b/UlUfAbKn8P74jDT80uMi/4BowQBqDzL/Js0VmOCr1v6VErSG5VNE/tch3C1UN+7+/Yw+Gyw66v9KpPl8s7eK/",
          "dtype": "f8"
         },
         "xaxis": "x",
         "y": {
          "bdata": "T+y4JLwNhz/FHPsX3rzFP7LfP+vp29S/tSHIqXdF7L9bBJdGx2rOvxHH+5l8COE/jNCa+cxg8L9/NtNGG2rzv62wYSF4MdE/",
          "dtype": "f8"
         },
         "yaxis": "y"
        },
        {
         "hovertemplate": "<b>%{hovertext}</b><br><br>Brand=Scyrox<br>แกนคุณลักษณะหลักที่ 1 (PC1)=%{x}<br>แกนคุณลักษณะหลักที่ 2 (PC2)=%{y}<extra></extra>",
         "hovertext": [
          "V6",
          "V8"
         ],
         "legendgroup": "Scyrox",
         "marker": {
          "color": "#00cc96",
          "symbol": "circle"
         },
         "mode": "markers",
         "name": "Scyrox",
         "showlegend": true,
         "type": "scattergl",
         "x": {
          "bdata": "8+ivD62//78IE+a7iTUBwA==",
          "dtype": "f8"
         },
         "xaxis": "x",
         "y": {
          "bdata": "lsF1x42t8j/rhy044q/yPw==",
          "dtype": "f8"
         },
         "yaxis": "y"
        },
        {
         "hovertemplate": "<b>%{hovertext}</b><br><br>Brand=Ragnok<br>แกนคุณลักษณะหลักที่ 1 (PC1)=%{x}<br>แกนคุณลักษณะหลักที่ 2 (PC2)=%{y}<extra></extra>",
         "hovertext": [
          "ErgoStrike7",
          "2 (FireGrip)"
         ],
         "legendgroup": "Ragnok",
         "marker": {
          "color": "#ab63fa",
          "symbol": "circle"
         },
         "mode": "markers",
         "name": "Ragnok",
         "showlegend": true,
         "type": "scattergl",
         "x": {
          "bdata": "EGQnAf0lMkBgOlUp4FYsQA==",
          "dtype": "f8"
         },
         "xaxis": "x",
         "y": {
          "bdata": "Os9AxQFUJkCUeyaQXmkiQA==",
          "dtype": "f8"
         },
         "yaxis": "y"
        },
        {
         "hovertemplate": "<b>%{hovertext}</b><br><br>Brand=Aigo<br>แกนคุณลักษณะหลักที่ 1 (PC1)=%{x}<br>แกนคุณลักษณะหลักที่ 2 (PC2)=%{y}<extra></extra>",
         "hovertext": [
          "GM80 Pro",
          "GM80 Plus",
          "GM80"
         ],
         "legendgroup": "Aigo",
         "marker": {
          "color": "#FFA15A",
          "symbol": "circle"
         },
         "mode": "markers",
         "name": "Aigo",
         "showlegend": true,
         "type": "scattergl",
         "x": {
          "bdata": "fSe/j8Dh97/WCWOVf2fyv67k9AugAvS/",
          "dtype": "f8"
         },
         "xaxis": "x",
         "y": {
          "bdata": "Cs3mT1kbq79gn54vaIPlv6UnrP+mweG/",
          "dtype": "f8"
         },
         "yaxis": "y"
        },
        {
         "hovertemplate": "<b>%{hovertext}</b><br><br>Brand=LTC<br>แกนคุณลักษณะหลักที่ 1 (PC1)=%{x}<br>แกนคุณลักษณะหลักที่ 2 (PC2)=%{y}<extra></extra>",
         "hovertext": [
          "GM022"
         ],
         "legendgroup": "LTC",
         "marker": {
          "color": "#19d3f3",
          "symbol": "circle"
         },
         "mode": "markers",
         "name": "LTC",
         "showlegend": true,
         "type": "scattergl",
         "x": {
          "bdata": "HkjOYDCS7b8=",
          "dtype": "f8"
         },
         "xaxis": "x",
         "y": {
          "bdata": "r299t3FklD8=",
          "dtype": "f8"
         },
         "yaxis": "y"
        },
        {
         "hovertemplate": "<b>%{hovertext}</b><br><br>Brand=Swiftpoint<br>แกนคุณลักษณะหลักที่ 1 (PC1)=%{x}<br>แกนคุณลักษณะหลักที่ 2 (PC2)=%{y}<extra></extra>",
         "hovertext": [
          "Z2",
          "Creator",
          "Tracer",
          "ErgoPoint"
         ],
         "legendgroup": "Swiftpoint",
         "marker": {
          "color": "#FF6692",
          "symbol": "circle"
         },
         "mode": "markers",
         "name": "Swiftpoint",
         "showlegend": true,
         "type": "scattergl",
         "x": {
          "bdata": "PV+5kTCYEUDw76uy+I8SQPDvq7L4jxJAU0Ps7EcXG0A=",
          "dtype": "f8"
         },
         "xaxis": "x",
         "y": {
          "bdata": "0icjfW278D/RlJiP6WbhP9GUmI/pZuE/YHkXd4AlBsA=",
          "dtype": "f8"
         },
         "yaxis": "y"
        },
        {
         "hovertemplate": "<b>%{hovertext}</b><br><br>Brand=MACHENIKE<br>แกนคุณลักษณะหลักที่ 1 (PC1)=%{x}<br>แกนคุณลักษณะหลักที่ 2 (PC2)=%{y}<extra></extra>",
         "hovertext": [
          "M7 Pro",
          "L8 Max",
          "L8 Air",
          "L8 Pro",
          "L7 Air"
         ],
         "legendgroup": "MACHENIKE",
         "marker": {
          "color": "#B6E880",
          "symbol": "circle"
         },
         "mode": "markers",
         "name": "MACHENIKE",
         "showlegend": true,
         "type": "scattergl",
         "x": {
          "bdata": "B1GBLo8R4b+pW/nCS4n9PwVkkFm7udE//Np8d0gU/T/ozm98SEf2vw==",
          "dtype": "f8"
         },
         "xaxis": "x",
         "y": {
          "bdata": "C83dc2It3b+3veoK/U31P7F4LBt+r9I/ETGjxBPT2D+7/PCxc5TFPw==",
          "dtype": "f8"
         },
         "yaxis": "y"
        },
        {
         "hovertemplate": "<b>%{hovertext}</b><br><br>Brand=Xiaomi<br>แกนคุณลักษณะหลักที่ 1 (PC1)=%{x}<br>แกนคุณลักษณะหลักที่ 2 (PC2)=%{y}<extra></extra>",
         "hovertext": [
          "X1"
         ],
         "legendgroup": "Xiaomi",
         "marker": {
          "color": "#FF97FF",
          "symbol": "circle"
         },
         "mode": "markers",
         "name": "Xiaomi",
         "showlegend": true,
         "type": "scattergl",
         "x": {
          "bdata": "Uk/B+NfM6r8=",
          "dtype": "f8"
         },
         "xaxis": "x",
         "y": {
          "bdata": "QIplvLjT6D8=",
          "dtype": "f8"
         },
         "yaxis": "y"
        },
        {
         "hovertemplate": "<b>%{hovertext}</b><br><br>Brand=Apple<br>แกนคุณลักษณะหลักที่ 1 (PC1)=%{x}<br>แกนคุณลักษณะหลักที่ 2 (PC2)=%{y}<extra></extra>",
         "hovertext": [
          "Magic Mouse"
         ],
         "legendgroup": "Apple",
         "marker": {
          "color": "#FECB52",
          "symbol": "circle"
         },
         "mode": "markers",
         "name": "Apple",
         "showlegend": true,
         "type": "scattergl",
         "x": {
          "bdata": "46g082V/vr8=",
          "dtype": "f8"
         },
         "xaxis": "x",
         "y": {
          "bdata": "egDnvLscJcA=",
          "dtype": "f8"
         },
         "yaxis": "y"
        },
        {
         "hovertemplate": "<b>%{hovertext}</b><br><br>Brand=HUO<br>แกนคุณลักษณะหลักที่ 1 (PC1)=%{x}<br>แกนคุณลักษณะหลักที่ 2 (PC2)=%{y}<extra></extra>",
         "hovertext": [
          "JI E-YOOSO"
         ],
         "legendgroup": "HUO",
         "marker": {
          "color": "#636efa",
          "symbol": "circle"
         },
         "mode": "markers",
         "name": "HUO",
         "showlegend": true,
         "type": "scattergl",
         "x": {
          "bdata": "CspXf0oI6r8=",
          "dtype": "f8"
         },
         "xaxis": "x",
         "y": {
          "bdata": "aWOoVDRg4D8=",
          "dtype": "f8"
         },
         "yaxis": "y"
        },
        {
         "hovertemplate": "<b>%{hovertext}</b><br><br>Brand=Nixeus<br>แกนคุณลักษณะหลักที่ 1 (PC1)=%{x}<br>แกนคุณลักษณะหลักที่ 2 (PC2)=%{y}<extra></extra>",
         "hovertext": [
          "Revel Fit",
          "Revel-X",
          "Revel"
         ],
         "legendgroup": "Nixeus",
         "marker": {
          "color": "#EF553B",
          "symbol": "circle"
         },
         "mode": "markers",
         "name": "Nixeus",
         "showlegend": true,
         "type": "scattergl",
         "x": {
          "bdata": "ETCgJgsqBkBTK7Q0X+S5vy8Zu3bdT+A/",
          "dtype": "f8"
         },
         "xaxis": "x",
         "y": {
          "bdata": "zxu8IrSTgj+50qXTZhvwvzvYmj+Peue/",
          "dtype": "f8"
         },
         "yaxis": "y"
        },
        {
         "hovertemplate": "<b>%{hovertext}</b><br><br>Brand=AIM1<br>แกนคุณลักษณะหลักที่ 1 (PC1)=%{x}<br>แกนคุณลักษณะหลักที่ 2 (PC2)=%{y}<extra></extra>",
         "hovertext": [
          "Shigure"
         ],
         "legendgroup": "AIM1",
         "marker": {
          "color": "#00cc96",
          "symbol": "circle"
         },
         "mode": "markers",
         "name": "AIM1",
         "showlegend": true,
         "type": "scattergl",
         "x": {
          "bdata": "2kZAr+Xw+r8=",
          "dtype": "f8"
         },
         "xaxis": "x",
         "y": {
          "bdata": "s7eJecYD8D8=",
          "dtype": "f8"
         },
         "yaxis": "y"
        },
        {
         "hovertemplate": "<b>%{hovertext}</b><br><br>Brand=CC<br>แกนคุณลักษณะหลักที่ 1 (PC1)=%{x}<br>แกนคุณลักษณะหลักที่ 2 (PC2)=%{y}<extra></extra>",
         "hovertext": [
          "Beanmouse LHD Small",
          "Beanmouse Small",
          "Beanmouse LHD Large",
          "Beanmouse Large"
         ],
         "legendgroup": "CC",
         "marker": {
          "color": "#ab63fa",
          "symbol": "circle"
         },
         "mode": "markers",
         "name": "CC",
         "showlegend": true,
         "type": "scattergl",
         "x": {
          "bdata": "J52UR/wJEsAnnZRH/AkSwFHbax1D0QvAUdtrHUPRC8A=",
          "dtype": "f8"
         },
         "xaxis": "x",
         "y": {
          "bdata": "RbNp8frv979Fs2nx+u/3v+nPs+gA/OO/6c+z6AD8478=",
          "dtype": "f8"
         },
         "yaxis": "y"
        },
        {
         "hovertemplate": "<b>%{hovertext}</b><br><br>Brand=Xtrfy<br>แกนคุณลักษณะหลักที่ 1 (PC1)=%{x}<br>แกนคุณลักษณะหลักที่ 2 (PC2)=%{y}<extra></extra>",
         "hovertext": [
          "M42",
          "M42 (lower back)",
          "M8 Wireless",
          "M42 Wireless",
          "M4",
          "M4 Wireless",
          "MZ1",
          "MZ1 Wireless"
         ],
         "legendgroup": "Xtrfy",
         "marker": {
          "color": "#FFA15A",
          "symbol": "circle"
         },
         "mode": "markers",
         "name": "Xtrfy",
         "showlegend": true,
         "type": "scattergl",
         "x": {
          "bdata": "HxZgUfVP7L8fFmBR9U/sv6lgXm6k0/S/ArrPPlag57/AchMKCYL0P3q9m/JccPQ/X2He7dKE+r9r5mPqVs34vw==",
          "dtype": "f8"
         },
         "xaxis": "x",
         "y": {
          "bdata": "J4OW59ET4r8ng5bn0RPiv9fWP09wSMa/2ofl5Ej15b/pdvQO5062PwVB9xGKO8I/vKDMjNCM8r+VRbapGfvzvw==",
          "dtype": "f8"
         },
         "yaxis": "y"
        },
        {
         "hovertemplate": "<b>%{hovertext}</b><br><br>Brand=Cooler<br>แกนคุณลักษณะหลักที่ 1 (PC1)=%{x}<br>แกนคุณลักษณะหลักที่ 2 (PC2)=%{y}<extra></extra>",
         "hovertext": [
          "Master CM310",
          "Master MM731",
          "Master MM730",
          "Master MM711 Lite",
          "Master MM831",
          "Master MM530",
          "Master MM531",
          "Master MM830",
          "Master CM110",
          "Master MM711",
          "Master MM710",
          "Master MM310",
          "Master MM720",
          "Master MM712"
         ],
         "legendgroup": "Cooler",
         "marker": {
          "color": "#19d3f3",
          "symbol": "circle"
         },
         "mode": "markers",
         "name": "Cooler",
         "showlegend": true,
         "type": "scattergl",
         "x": {
          "bdata": "VByEH9e49D/W5MVGzqTyPyP08qpFru4/QROJjjGm6r9fG3FKojkHQODOHDZCU/w/Rr0gPDCe+T+d29zMQ6YVQB+3yWKqZ60/RB5aP+cr7b8BMTBAWV/xv0+0MvEnNL8/0mb68dlc6D+OAsfpKTbwvw==",
          "dtype": "f8"
         },
         "xaxis": "x",
         "y": {
          "bdata": "H0CKZ4qQ6r8G6xoGfnrjP0iORc9o/eg/QzK30i2Z6r9/KqbMfWTBP32JErBrr+6/Y235JL2c6L8Hs/ptoELLP5AMJBKd0f6/eWFO1yKj5L/9zEXuNlvcv4c/r1LXbtw/1zhnv5IR0D8JCF4lI7Pevw==",
          "dtype": "f8"
         },
         "yaxis": "y"
        },
        {
         "hovertemplate": "<b>%{hovertext}</b><br><br>Brand=Higround<br>แกนคุณลักษณะหลักที่ 1 (PC1)=%{x}<br>แกนคุณลักษณะหลักที่ 2 (PC2)=%{y}<extra></extra>",
         "hovertext": [
          "Yuma"
         ],
         "legendgroup": "Higround",
         "marker": {
          "color": "#FF6692",
          "symbol": "circle"
         },
         "mode": "markers",
         "name": "Higround",
         "showlegend": true,
         "type": "scattergl",
         "x": {
          "bdata": "dwtYmJ637b8=",
          "dtype": "f8"
         },
         "xaxis": "x",
         "y": {
          "bdata": "KtcjXfad6j8=",
          "dtype": "f8"
         },
         "yaxis": "y"
        },
        {
         "hovertemplate": "<b>%{hovertext}</b><br><br>Brand=COMMATECH<br>แกนคุณลักษณะหลักที่ 1 (PC1)=%{x}<br>แกนคุณลักษณะหลักที่ 2 (PC2)=%{y}<extra></extra>",
         "hovertext": [
          "FKMINI4"
         ],
         "legendgroup": "COMMATECH",
         "marker": {
          "color": "#B6E880",
          "symbol": "circle"
         },
         "mode": "markers",
         "name": "COMMATECH",
         "showlegend": true,
         "type": "scattergl",
         "x": {
          "bdata": "4z9QKkcPBsA=",
          "dtype": "f8"
         },
         "xaxis": "x",
         "y": {
          "bdata": "wiI68Kxy5L8=",
          "dtype": "f8"
         },
         "yaxis": "y"
        },
        {
         "hovertemplate": "<b>%{hovertext}</b><br><br>Brand=Turtle<br>แกนคุณลักษณะหลักที่ 1 (PC1)=%{x}<br>แกนคุณลักษณะหลักที่ 2 (PC2)=%{y}<extra></extra>",
         "hovertext": [
          "Beach Kone II Air",
          "Beach Kone II",
          "Beach Kone XP Air",
          "Beach Burst II Air",
          "Beach Pure Air",
          "Beach Pure SEL"
         ],
         "legendgroup": "Turtle",
         "marker": {
          "color": "#FF97FF",
          "symbol": "circle"
         },
         "mode": "markers",
         "name": "Turtle",
         "showlegend": true,
         "type": "scattergl",
         "x": {
          "bdata": "L94WJDP5EEC3pe1ENZEOQIsNct+9SgpAADqiXw3t57+tQ+NuaXfqP5jqS8jcUPA/",
          "dtype": "f8"
         },
         "xaxis": "x",
         "y": {
          "bdata": "fz2KhMBq9T/2FUyGTrj7P3XDlVrIWeA/cm8PqKd/4z+N9aMp4SbsP5QPwfvfTNc/",
          "dtype": "f8"
         },
         "yaxis": "y"
        },
        {
         "hovertemplate": "<b>%{hovertext}</b><br><br>Brand=xtro<br>แกนคุณลักษณะหลักที่ 1 (PC1)=%{x}<br>แกนคุณลักษณะหลักที่ 2 (PC2)=%{y}<extra></extra>",
         "hovertext": [
          "Eris"
         ],
         "legendgroup": "xtro",
         "marker": {
          "color": "#FECB52",
          "symbol": "circle"
         },
         "mode": "markers",
         "name": "xtro",
         "showlegend": true,
         "type": "scattergl",
         "x": {
          "bdata": "3GU3LRPE8z8=",
          "dtype": "f8"
         },
         "xaxis": "x",
         "y": {
          "bdata": "24enKFgh5D8=",
          "dtype": "f8"
         },
         "yaxis": "y"
        },
        {
         "hovertemplate": "<b>%{hovertext}</b><br><br>Brand=Noir<br>แกนคุณลักษณะหลักที่ 1 (PC1)=%{x}<br>แกนคุณลักษณะหลักที่ 2 (PC2)=%{y}<extra></extra>",
         "hovertext": [
          "M1",
          "M1 Lite",
          "M2 MG",
          "M2 Pro",
          "M2"
         ],
         "legendgroup": "Noir",
         "marker": {
          "color": "#636efa",
          "symbol": "circle"
         },
         "mode": "markers",
         "name": "Noir",
         "showlegend": true,
         "type": "scattergl",
         "x": {
          "bdata": "7XxGkvDm57+cS/kxouziv9jRCBwZs/q/GhCGbd5Y9b/k6nQcVjvyvw==",
          "dtype": "f8"
         },
         "xaxis": "x",
         "y": {
          "bdata": "DtuB5oE06L9voK8e80Pxv0rO/DhPEds/L5FFnT0NgT8lpOWWV17Ovw==",
          "dtype": "f8"
         },
         "yaxis": "y"
        },
        {
         "hovertemplate": "<b>%{hovertext}</b><br><br>Brand=Vancer<br>แกนคุณลักษณะหลักที่ 1 (PC1)=%{x}<br>แกนคุณลักษณะหลักที่ 2 (PC2)=%{y}<extra></extra>",
         "hovertext": [
          "x Arbiter Studio AKITSU",
          "Thrash",
          "Groove",
          "Gretxa",
          "Gemini Castor",
          "Gemini Pollux"
         ],
         "legendgroup": "Vancer",
         "marker": {
          "color": "#EF553B",
          "symbol": "circle"
         },
         "mode": "markers",
         "name": "Vancer",
         "showlegend": true,
         "type": "scattergl",
         "x": {
          "bdata": "hbilMUVvA8CTSVC4nCDzv4zxklM2kvK/HODoz4OK2r+B2axJ2PD2v8f33+twxNU/",
          "dtype": "f8"
         },
         "xaxis": "x",
         "y": {
          "bdata": "2Mpu45ET5j9clJY3KyjlP4FFVLJ93+c/6KLn0wvW8L8jmNBAXzHCv5s+kDiTUeQ/",
          "dtype": "f8"
         },
         "yaxis": "y"
        },
        {
         "hovertemplate": "<b>%{hovertext}</b><br><br>Brand=GANSS<br>แกนคุณลักษณะหลักที่ 1 (PC1)=%{x}<br>แกนคุณลักษณะหลักที่ 2 (PC2)=%{y}<extra></extra>",
         "hovertext": [
          "FLX3 4K",
          "FLX3"
         ],
         "legendgroup": "GANSS",
         "marker": {
          "color": "#00cc96",
          "symbol": "circle"
         },
         "mode": "markers",
         "name": "GANSS",
         "showlegend": true,
         "type": "scattergl",
         "x": {
          "bdata": "HsLIGxB+4T+JDOu9ILnnPw==",
          "dtype": "f8"
         },
         "xaxis": "x",
         "y": {
          "bdata": "SShLUPgh8T9F0WfEJWjqPw==",
          "dtype": "f8"
         },
         "yaxis": "y"
        },
        {
         "hovertemplate": "<b>%{hovertext}</b><br><br>Brand=IFYOO<br>แกนคุณลักษณะหลักที่ 1 (PC1)=%{x}<br>แกนคุณลักษณะหลักที่ 2 (PC2)=%{y}<extra></extra>",
         "hovertext": [
          "G63",
          "G03 (Long)",
          "G03 (Short)"
         ],
         "legendgroup": "IFYOO",
         "marker": {
          "color": "#ab63fa",
          "symbol": "circle"
         },
         "mode": "markers",
         "name": "IFYOO",
         "showlegend": true,
         "type": "scattergl",
         "x": {
          "bdata": "REl4gaDm8b9/Pk4bm/yiP9oTLcec0c6/",
          "dtype": "f8"
         },
         "xaxis": "x",
         "y": {
          "bdata": "mdXU09z90D8yDn/MkVDCv/lcfnqOvt+/",
          "dtype": "f8"
         },
         "yaxis": "y"
        },
        {
         "hovertemplate": "<b>%{hovertext}</b><br><br>Brand=Monka<br>แกนคุณลักษณะหลักที่ 1 (PC1)=%{x}<br>แกนคุณลักษณะหลักที่ 2 (PC2)=%{y}<extra></extra>",
         "hovertext": [
          "M1 Pro Max",
          "M1 Pro",
          "M1",
          "M3 Pro",
          "M3",
          "G995W"
         ],
         "legendgroup": "Monka",
         "marker": {
          "color": "#FFA15A",
          "symbol": "circle"
         },
         "mode": "markers",
         "name": "Monka",
         "showlegend": true,
         "type": "scattergl",
         "x": {
          "bdata": "rpjZDT7z9b+umNkNPvP1v3hzyLy11fK/4vulIRJB9b+r1pTQiSPyv6kGQKVJCe+/",
          "dtype": "f8"
         },
         "xaxis": "x",
         "y": {
          "bdata": "Q769EZi6wz9Dvr0RmLrDP/N9+L0mabe/5p+KyorF0j9DCm2RqG+oP/exM6d5X5M/",
          "dtype": "f8"
         },
         "yaxis": "y"
        },
        {
         "hovertemplate": "<b>%{hovertext}</b><br><br>Brand=MSI<br>แกนคุณลักษณะหลักที่ 1 (PC1)=%{x}<br>แกนคุณลักษณะหลักที่ 2 (PC2)=%{y}<extra></extra>",
         "hovertext": [
          "Clutch GM41"
         ],
         "legendgroup": "MSI",
         "marker": {
          "color": "#19d3f3",
          "symbol": "circle"
         },
         "mode": "markers",
         "name": "MSI",
         "showlegend": true,
         "type": "scattergl",
         "x": {
          "bdata": "T+uG4DOWxT8=",
          "dtype": "f8"
         },
         "xaxis": "x",
         "y": {
          "bdata": "hypFaq33sr8=",
          "dtype": "f8"
         },
         "yaxis": "y"
        },
        {
         "hovertemplate": "<b>%{hovertext}</b><br><br>Brand=Nitrite<br>แกนคุณลักษณะหลักที่ 1 (PC1)=%{x}<br>แกนคุณลักษณะหลักที่ 2 (PC2)=%{y}<extra></extra>",
         "hovertext": [
          "Labs Carbon XT1 Wireless",
          "Labs Carbon XT1 Wired"
         ],
         "legendgroup": "Nitrite",
         "marker": {
          "color": "#FF6692",
          "symbol": "circle"
         },
         "mode": "markers",
         "name": "Nitrite",
         "showlegend": true,
         "type": "scattergl",
         "x": {
          "bdata": "lvjVEY4cDMCrNBRnxowMwA==",
          "dtype": "f8"
         },
         "xaxis": "x",
         "y": {
          "bdata": "MgxU0d6y4j+/GogOi+/kPw==",
          "dtype": "f8"
         },
         "yaxis": "y"
        },
        {
         "hovertemplate": "<b>%{hovertext}</b><br><br>Brand=TenTen<br>แกนคุณลักษณะหลักที่ 1 (PC1)=%{x}<br>แกนคุณลักษณะหลักที่ 2 (PC2)=%{y}<extra></extra>",
         "hovertext": [
          "Zero Gravity"
         ],
         "legendgroup": "TenTen",
         "marker": {
          "color": "#B6E880",
          "symbol": "circle"
         },
         "mode": "markers",
         "name": "TenTen",
         "showlegend": true,
         "type": "scattergl",
         "x": {
          "bdata": "ZZtY5rTsAMA=",
          "dtype": "f8"
         },
         "xaxis": "x",
         "y": {
          "bdata": "+r5BdhNl+T8=",
          "dtype": "f8"
         },
         "yaxis": "y"
        },
        {
         "hovertemplate": "<b>%{hovertext}</b><br><br>Brand=Nyfter<br>แกนคุณลักษณะหลักที่ 1 (PC1)=%{x}<br>แกนคุณลักษณะหลักที่ 2 (PC2)=%{y}<extra></extra>",
         "hovertext": [
          "ELT 4K"
         ],
         "legendgroup": "Nyfter",
         "marker": {
          "color": "#FF97FF",
          "symbol": "circle"
         },
         "mode": "markers",
         "name": "Nyfter",
         "showlegend": true,
         "type": "scattergl",
         "x": {
          "bdata": "6N6jot717b8=",
          "dtype": "f8"
         },
         "xaxis": "x",
         "y": {
          "bdata": "xOdpJYV82T8=",
          "dtype": "f8"
         },
         "yaxis": "y"
        },
        {
         "hovertemplate": "<b>%{hovertext}</b><br><br>Brand=IROK<br>แกนคุณลักษณะหลักที่ 1 (PC1)=%{x}<br>แกนคุณลักษณะหลักที่ 2 (PC2)=%{y}<extra></extra>",
         "hovertext": [
          "HE3 PRO",
          "HE3",
          "HE3 SE"
         ],
         "legendgroup": "IROK",
         "marker": {
          "color": "#FECB52",
          "symbol": "circle"
         },
         "mode": "markers",
         "name": "IROK",
         "showlegend": true,
         "type": "scattergl",
         "x": {
          "bdata": "+NGqh5vs9L/CrJk2E8/xv2blG4m3xOq/",
          "dtype": "f8"
         },
         "xaxis": "x",
         "y": {
          "bdata": "cVR5ZBKk0j+fruJg5WOnP1IYJrYe5eC/",
          "dtype": "f8"
         },
         "yaxis": "y"
        },
        {
         "hovertemplate": "<b>%{hovertext}</b><br><br>Brand=Alienware<br>แกนคุณลักษณะหลักที่ 1 (PC1)=%{x}<br>แกนคุณลักษณะหลักที่ 2 (PC2)=%{y}<extra></extra>",
         "hovertext": [
          "Pro Wireless",
          "AW620M",
          "AW610M",
          "AW720M",
          "AW320M"
         ],
         "legendgroup": "Alienware",
         "marker": {
          "color": "#636efa",
          "symbol": "circle"
         },
         "mode": "markers",
         "name": "Alienware",
         "showlegend": true,
         "type": "scattergl",
         "x": {
          "bdata": "lTDU5BRD77+h6Sy/qPMJQPfBWiDVwAZAEJoosQdYyL9Gii//u/Dbvw==",
          "dtype": "f8"
         },
         "xaxis": "x",
         "y": {
          "bdata": "VKDoEU0W7D98T4rHOjXwP3xhEpy18LI/qTzjcQyi6r+FLYjsR0flvw==",
          "dtype": "f8"
         },
         "yaxis": "y"
        },
        {
         "hovertemplate": "<b>%{hovertext}</b><br><br>Brand=Santali<br>แกนคุณลักษณะหลักที่ 1 (PC1)=%{x}<br>แกนคุณลักษณะหลักที่ 2 (PC2)=%{y}<extra></extra>",
         "hovertext": [
          "S1-O"
         ],
         "legendgroup": "Santali",
         "marker": {
          "color": "#EF553B",
          "symbol": "circle"
         },
         "mode": "markers",
         "name": "Santali",
         "showlegend": true,
         "type": "scattergl",
         "x": {
          "bdata": "aYKxmlkS9L8=",
          "dtype": "f8"
         },
         "xaxis": "x",
         "y": {
          "bdata": "8RoSejLW8T8=",
          "dtype": "f8"
         },
         "yaxis": "y"
        },
        {
         "hovertemplate": "<b>%{hovertext}</b><br><br>Brand=Hitscan<br>แกนคุณลักษณะหลักที่ 1 (PC1)=%{x}<br>แกนคุณลักษณะหลักที่ 2 (PC2)=%{y}<extra></extra>",
         "hovertext": [
          "Hyperlight"
         ],
         "legendgroup": "Hitscan",
         "marker": {
          "color": "#00cc96",
          "symbol": "circle"
         },
         "mode": "markers",
         "name": "Hitscan",
         "showlegend": true,
         "type": "scattergl",
         "x": {
          "bdata": "GWP+nkdQAcA=",
          "dtype": "f8"
         },
         "xaxis": "x",
         "y": {
          "bdata": "vTW+Iooe6z8=",
          "dtype": "f8"
         },
         "yaxis": "y"
        },
        {
         "hovertemplate": "<b>%{hovertext}</b><br><br>Brand=A4Tech<br>แกนคุณลักษณะหลักที่ 1 (PC1)=%{x}<br>แกนคุณลักษณะหลักที่ 2 (PC2)=%{y}<extra></extra>",
         "hovertext": [
          "XL-750BK",
          "XL-750BH",
          "Bloody V7"
         ],
         "legendgroup": "A4Tech",
         "marker": {
          "color": "#ab63fa",
          "symbol": "circle"
         },
         "mode": "markers",
         "name": "A4Tech",
         "showlegend": true,
         "type": "scattergl",
         "x": {
          "bdata": "GDwtneYeC0AYPC2d5h4LQGVzk8FtNxJA",
          "dtype": "f8"
         },
         "xaxis": "x",
         "y": {
          "bdata": "WqwH6maWFsBarAfqZpYWwMDVLO/eK/i/",
          "dtype": "f8"
         },
         "yaxis": "y"
        },
        {
         "hovertemplate": "<b>%{hovertext}</b><br><br>Brand=Zaunkoenig<br>แกนคุณลักษณะหลักที่ 1 (PC1)=%{x}<br>แกนคุณลักษณะหลักที่ 2 (PC2)=%{y}<extra></extra>",
         "hovertext": [
          "M3K",
          "M2K"
         ],
         "legendgroup": "Zaunkoenig",
         "marker": {
          "color": "#FFA15A",
          "symbol": "circle"
         },
         "mode": "markers",
         "name": "Zaunkoenig",
         "showlegend": true,
         "type": "scattergl",
         "x": {
          "bdata": "hoVZXqibE8BEDhhwEQ4TwA==",
          "dtype": "f8"
         },
         "xaxis": "x",
         "y": {
          "bdata": "4noL+0OO9b+xixg+GyX6vw==",
          "dtype": "f8"
         },
         "yaxis": "y"
        },
        {
         "hovertemplate": "<b>%{hovertext}</b><br><br>Brand=ELECOM<br>แกนคุณลักษณะหลักที่ 1 (PC1)=%{x}<br>แกนคุณลักษณะหลักที่ 2 (PC2)=%{y}<extra></extra>",
         "hovertext": [
          "VM501LBK",
          "VM501BK",
          "VM510BK",
          "VM610BK",
          "VM600PE"
         ],
         "legendgroup": "ELECOM",
         "marker": {
          "color": "#19d3f3",
          "symbol": "circle"
         },
         "mode": "markers",
         "name": "ELECOM",
         "showlegend": true,
         "type": "scattergl",
         "x": {
          "bdata": "ROEFZkxj/D8HQpcBxTLvPwegdI9TQfG/1eI+E3Qg9b8i987Y+LH4Pw==",
          "dtype": "f8"
         },
         "xaxis": "x",
         "y": {
          "bdata": "AlSUS9Yu6D+6mW5TYczTP/EN70NFb+S/bUwFZU99wb9C6kv09QDlPw==",
          "dtype": "f8"
         },
         "yaxis": "y"
        },
        {
         "hovertemplate": "<b>%{hovertext}</b><br><br>Brand=Irocks<br>แกนคุณลักษณะหลักที่ 1 (PC1)=%{x}<br>แกนคุณลักษณะหลักที่ 2 (PC2)=%{y}<extra></extra>",
         "hovertext": [
          "M31R"
         ],
         "legendgroup": "Irocks",
         "marker": {
          "color": "#FF6692",
          "symbol": "circle"
         },
         "mode": "markers",
         "name": "Irocks",
         "showlegend": true,
         "type": "scattergl",
         "x": {
          "bdata": "w+MjvRL+8T8=",
          "dtype": "f8"
         },
         "xaxis": "x",
         "y": {
          "bdata": "i1Lg4mxt5T8=",
          "dtype": "f8"
         },
         "yaxis": "y"
        },
        {
         "hovertemplate": "<b>%{hovertext}</b><br><br>Brand=GITOPER<br>แกนคุณลักษณะหลักที่ 1 (PC1)=%{x}<br>แกนคุณลักษณะหลักที่ 2 (PC2)=%{y}<extra></extra>",
         "hovertext": [
          "G1",
          "G3",
          "G2"
         ],
         "legendgroup": "GITOPER",
         "marker": {
          "color": "#B6E880",
          "symbol": "circle"
         },
         "mode": "markers",
         "name": "GITOPER",
         "showlegend": true,
         "type": "scattergl",
         "x": {
          "bdata": "nyVx3z+27D8m91g5hU3wP3KI6jpWWuC/",
          "dtype": "f8"
         },
         "xaxis": "x",
         "y": {
          "bdata": "ssLoHf026T8ufuC/W6LcP4tnsdplI9g/",
          "dtype": "f8"
         },
         "yaxis": "y"
        },
        {
         "hovertemplate": "<b>%{hovertext}</b><br><br>Brand=Cherry<br>แกนคุณลักษณะหลักที่ 1 (PC1)=%{x}<br>แกนคุณลักษณะหลักที่ 2 (PC2)=%{y}<extra></extra>",
         "hovertext": [
          "Xtrfy M50 Wireless",
          "Xtrfy M50",
          "Xtrfy M68 Pro 8K Wireless",
          "Xtrfy M68 Wireless",
          "Xtrfy M64 Pro 8K Wireless",
          "Xtrfy M64 Wireless"
         ],
         "legendgroup": "Cherry",
         "marker": {
          "color": "#FF97FF",
          "symbol": "circle"
         },
         "mode": "markers",
         "name": "Cherry",
         "showlegend": true,
         "type": "scattergl",
         "x": {
          "bdata": "nwm9vSoUqD9bGGiuRtbVv8fBpxMwRvO/3M8Ku76K6b9hV1UH9i3BP6S+JUeMS+E/",
          "dtype": "f8"
         },
         "xaxis": "x",
         "y": {
          "bdata": "RUVtbxaH8r/o/nVGQA/nv4XLeYkoVOw/3aLYlpth1z+PpV6K8Yv0PwBdA15beOg/",
          "dtype": "f8"
         },
         "yaxis": "y"
        },
        {
         "hovertemplate": "<b>%{hovertext}</b><br><br>Brand=IXILAB<br>แกนคุณลักษณะหลักที่ 1 (PC1)=%{x}<br>แกนคุณลักษณะหลักที่ 2 (PC2)=%{y}<extra></extra>",
         "hovertext": [
          "X1 Pro Max",
          "X1 Pro",
          "X1"
         ],
         "legendgroup": "IXILAB",
         "marker": {
          "color": "#FECB52",
          "symbol": "circle"
         },
         "mode": "markers",
         "name": "IXILAB",
         "showlegend": true,
         "type": "scattergl",
         "x": {
          "bdata": "YYfkPkdY9b/5E9jJtSL4v8XuxngtBfW/",
          "dtype": "f8"
         },
         "xaxis": "x",
         "y": {
          "bdata": "fAExQuDhaD9EReEKxk3KP+bfYpeVhaS/",
          "dtype": "f8"
         },
         "yaxis": "y"
        },
        {
         "hovertemplate": "<b>%{hovertext}</b><br><br>Brand=Ardor<br>แกนคุณลักษณะหลักที่ 1 (PC1)=%{x}<br>แกนคุณลักษณะหลักที่ 2 (PC2)=%{y}<extra></extra>",
         "hovertext": [
          "Gaming Immortality Pro Wireless",
          "Gaming Immortality",
          "Gaming Ulta (big back)",
          "Gaming Ulta (mid back)",
          "Gaming Ulta (small back)",
          "Gaming Prime X",
          "Gaming Prime Wireless",
          "Gaming Prime",
          "Gaming Fury Beast",
          "Gaming Fury Pro",
          "Gaming Fury",
          "Gaming Phantom Pro V2",
          "Gaming Phantom Pro",
          "Gaming Phantom Pro Wired"
         ],
         "legendgroup": "Ardor",
         "marker": {
          "color": "#636efa",
          "symbol": "circle"
         },
         "mode": "markers",
         "name": "Ardor",
         "showlegend": true,
         "type": "scattergl",
         "x": {
          "bdata": "j6SB5SlU3b9SyTLko4LnvzaCzHQrEOK/NoLMdCsQ4r82gsx0KxDiv18JgUJgh9C/VAc7jY4azb9avpXfih6zvy5BrxCDxAhAgTMcwqvSCECw86bvJWMLQERSr9Z9+Ny/HQGSObPo0b+HFstfUSPgvw==",
          "dtype": "f8"
         },
         "xaxis": "x",
         "y": {
          "bdata": "y/1IP2px5L9/SGobQq/bv6doyw8m/tC/p2jLDyb+0L+naMsPJv7Qv74EvL0/uei/cJKhPFD77L+sdT2Jd53wv1tQ/EqfPtw/MYDGcKdT2z9FHlYvxVCyP5smAiQ/tqQ/OA/Bamxb1L9rSOycjKPAvw==",
          "dtype": "f8"
         },
         "yaxis": "y"
        },
        {
         "hovertemplate": "<b>%{hovertext}</b><br><br>Brand=FineMax<br>แกนคุณลักษณะหลักที่ 1 (PC1)=%{x}<br>แกนคุณลักษณะหลักที่ 2 (PC2)=%{y}<extra></extra>",
         "hovertext": [
          "Noah"
         ],
         "legendgroup": "FineMax",
         "marker": {
          "color": "#EF553B",
          "symbol": "circle"
         },
         "mode": "markers",
         "name": "FineMax",
         "showlegend": true,
         "type": "scattergl",
         "x": {
          "bdata": "BaQgf9B37r8=",
          "dtype": "f8"
         },
         "xaxis": "x",
         "y": {
          "bdata": "8bcd5Qww2j8=",
          "dtype": "f8"
         },
         "yaxis": "y"
        },
        {
         "hovertemplate": "<b>%{hovertext}</b><br><br>Brand=Sprime<br>แกนคุณลักษณะหลักที่ 1 (PC1)=%{x}<br>แกนคุณลักษณะหลักที่ 2 (PC2)=%{y}<extra></extra>",
         "hovertext": [
          "PM1"
         ],
         "legendgroup": "Sprime",
         "marker": {
          "color": "#00cc96",
          "symbol": "circle"
         },
         "mode": "markers",
         "name": "Sprime",
         "showlegend": true,
         "type": "scattergl",
         "x": {
          "bdata": "pI1QVi4Du78=",
          "dtype": "f8"
         },
         "xaxis": "x",
         "y": {
          "bdata": "PaRUr89c+j8=",
          "dtype": "f8"
         },
         "yaxis": "y"
        },
        {
         "hovertemplate": "<b>%{hovertext}</b><br><br>Brand=Mionix<br>แกนคุณลักษณะหลักที่ 1 (PC1)=%{x}<br>แกนคุณลักษณะหลักที่ 2 (PC2)=%{y}<extra></extra>",
         "hovertext": [
          "Naos Pro",
          "Naos QG",
          "Naos 8200",
          "Naos 7000",
          "Naos 3200",
          "Castor Pro",
          "Castor"
         ],
         "legendgroup": "Mionix",
         "marker": {
          "color": "#ab63fa",
          "symbol": "circle"
         },
         "mode": "markers",
         "name": "Mionix",
         "showlegend": true,
         "type": "scattergl",
         "x": {
          "bdata": "md+G1vfPDUBFnRgRB/QOQH3nJkBtyQ5AWHLqugOlD0AGafGbFEQUQCwTMMR6PgFAV+rRTrKMA0A=",
          "dtype": "f8"
         },
         "xaxis": "x",
         "y": {
          "bdata": "Q8Yoe7H96D+iVmK/dkrgP2oFQhnLNt0/PAMkV9Mb1T+gPM9RRS0RwMk83gdHIJi/8oUtesZi4r8=",
          "dtype": "f8"
         },
         "yaxis": "y"
        },
        {
         "hovertemplate": "<b>%{hovertext}</b><br><br>Brand=Rexus<br>แกนคุณลักษณะหลักที่ 1 (PC1)=%{x}<br>แกนคุณลักษณะหลักที่ 2 (PC2)=%{y}<extra></extra>",
         "hovertext": [
          "Daxa Air IV"
         ],
         "legendgroup": "Rexus",
         "marker": {
          "color": "#FFA15A",
          "symbol": "circle"
         },
         "mode": "markers",
         "name": "Rexus",
         "showlegend": true,
         "type": "scattergl",
         "x": {
          "bdata": "USeTTCYx378=",
          "dtype": "f8"
         },
         "xaxis": "x",
         "y": {
          "bdata": "m8d15tspqz8=",
          "dtype": "f8"
         },
         "yaxis": "y"
        },
        {
         "hovertemplate": "<b>%{hovertext}</b><br><br>Brand=Atompalm<br>แกนคุณลักษณะหลักที่ 1 (PC1)=%{x}<br>แกนคุณลักษณะหลักที่ 2 (PC2)=%{y}<extra></extra>",
         "hovertext": [
          "Hydrogen 2",
          "Hydrogen"
         ],
         "legendgroup": "Atompalm",
         "marker": {
          "color": "#19d3f3",
          "symbol": "circle"
         },
         "mode": "markers",
         "name": "Atompalm",
         "showlegend": true,
         "type": "scattergl",
         "x": {
          "bdata": "ZfqwIg0m8b9l+rAiDSbxvw==",
          "dtype": "f8"
         },
         "xaxis": "x",
         "y": {
          "bdata": "+IdJ3dGY4z/4h0nd0ZjjPw==",
          "dtype": "f8"
         },
         "yaxis": "y"
        },
        {
         "hovertemplate": "<b>%{hovertext}</b><br><br>Brand=ARYE<br>แกนคุณลักษณะหลักที่ 1 (PC1)=%{x}<br>แกนคุณลักษณะหลักที่ 2 (PC2)=%{y}<extra></extra>",
         "hovertext": [
          "FCC-1"
         ],
         "legendgroup": "ARYE",
         "marker": {
          "color": "#FF6692",
          "symbol": "circle"
         },
         "mode": "markers",
         "name": "ARYE",
         "showlegend": true,
         "type": "scattergl",
         "x": {
          "bdata": "FMk1+tXVAcA=",
          "dtype": "f8"
         },
         "xaxis": "x",
         "y": {
          "bdata": "RR52oS4Dx78=",
          "dtype": "f8"
         },
         "yaxis": "y"
        },
        {
         "hovertemplate": "<b>%{hovertext}</b><br><br>Brand=Ironcat<br>แกนคุณลักษณะหลักที่ 1 (PC1)=%{x}<br>แกนคุณลักษณะหลักที่ 2 (PC2)=%{y}<extra></extra>",
         "hovertext": [
          "HPC01M Pro",
          "HPC01M",
          "HPC02M",
          "HPC02"
         ],
         "legendgroup": "Ironcat",
         "marker": {
          "color": "#B6E880",
          "symbol": "circle"
         },
         "mode": "markers",
         "name": "Ironcat",
         "showlegend": true,
         "type": "scattergl",
         "x": {
          "bdata": "xC5PYGQS9r8NCsKNmSj0v9ABrG5Kj/O/ACsymy7X4r8=",
          "dtype": "f8"
         },
         "xaxis": "x",
         "y": {
          "bdata": "rSh0QosZsb+3x3SmccLMv/DFV0HGRuO/x+Z95UF6zr8=",
          "dtype": "f8"
         },
         "yaxis": "y"
        },
        {
         "hovertemplate": "<b>%{hovertext}</b><br><br>Brand=Xinshuntian<br>แกนคุณลักษณะหลักที่ 1 (PC1)=%{x}<br>แกนคุณลักษณะหลักที่ 2 (PC2)=%{y}<extra></extra>",
         "hovertext": [
          "G820"
         ],
         "legendgroup": "Xinshuntian",
         "marker": {
          "color": "#FF97FF",
          "symbol": "circle"
         },
         "mode": "markers",
         "name": "Xinshuntian",
         "showlegend": true,
         "type": "scattergl",
         "x": {
          "bdata": "OgYQVlAI7D8=",
          "dtype": "f8"
         },
         "xaxis": "x",
         "y": {
          "bdata": "eosf9Hhb4z8=",
          "dtype": "f8"
         },
         "yaxis": "y"
        },
        {
         "hovertemplate": "<b>%{hovertext}</b><br><br>Brand=Ducky<br>แกนคุณลักษณะหลักที่ 1 (PC1)=%{x}<br>แกนคุณลักษณะหลักที่ 2 (PC2)=%{y}<extra></extra>",
         "hovertext": [
          "Feather"
         ],
         "legendgroup": "Ducky",
         "marker": {
          "color": "#FECB52",
          "symbol": "circle"
         },
         "mode": "markers",
         "name": "Ducky",
         "showlegend": true,
         "type": "scattergl",
         "x": {
          "bdata": "IdOx7Z3z4b8=",
          "dtype": "f8"
         },
         "xaxis": "x",
         "y": {
          "bdata": "i2x8PmJq4r8=",
          "dtype": "f8"
         },
         "yaxis": "y"
        },
        {
         "hovertemplate": "<b>%{hovertext}</b><br><br>Brand=Pichau<br>แกนคุณลักษณะหลักที่ 1 (PC1)=%{x}<br>แกนคุณลักษณะหลักที่ 2 (PC2)=%{y}<extra></extra>",
         "hovertext": [
          "Hive S"
         ],
         "legendgroup": "Pichau",
         "marker": {
          "color": "#636efa",
          "symbol": "circle"
         },
         "mode": "markers",
         "name": "Pichau",
         "showlegend": true,
         "type": "scattergl",
         "x": {
          "bdata": "czQ7N+1j378=",
          "dtype": "f8"
         },
         "xaxis": "x",
         "y": {
          "bdata": "OU4MKgGW4r8=",
          "dtype": "f8"
         },
         "yaxis": "y"
        },
        {
         "hovertemplate": "<b>%{hovertext}</b><br><br>Brand=Fnatic<br>แกนคุณลักษณะหลักที่ 1 (PC1)=%{x}<br>แกนคุณลักษณะหลักที่ 2 (PC2)=%{y}<extra></extra>",
         "hovertext": [
          "CLUTCH 2",
          "Bolt"
         ],
         "legendgroup": "Fnatic",
         "marker": {
          "color": "#EF553B",
          "symbol": "circle"
         },
         "mode": "markers",
         "name": "Fnatic",
         "showlegend": true,
         "type": "scattergl",
         "x": {
          "bdata": "3kAkr6wTBUBfXZ3PgQPjvw==",
          "dtype": "f8"
         },
         "xaxis": "x",
         "y": {
          "bdata": "A+dxo1FspD+cOVyXw1vgvw==",
          "dtype": "f8"
         },
         "yaxis": "y"
        },
        {
         "hovertemplate": "<b>%{hovertext}</b><br><br>Brand=Aqirys<br>แกนคุณลักษณะหลักที่ 1 (PC1)=%{x}<br>แกนคุณลักษณะหลักที่ 2 (PC2)=%{y}<extra></extra>",
         "hovertext": [
          "TGA Alpha"
         ],
         "legendgroup": "Aqirys",
         "marker": {
          "color": "#00cc96",
          "symbol": "circle"
         },
         "mode": "markers",
         "name": "Aqirys",
         "showlegend": true,
         "type": "scattergl",
         "x": {
          "bdata": "jto2YSJJ2L8=",
          "dtype": "f8"
         },
         "xaxis": "x",
         "y": {
          "bdata": "3tf1HjQuxL8=",
          "dtype": "f8"
         },
         "yaxis": "y"
        },
        {
         "hovertemplate": "<b>%{hovertext}</b><br><br>Brand=Fallen<br>แกนคุณลักษณะหลักที่ 1 (PC1)=%{x}<br>แกนคุณลักษณะหลักที่ 2 (PC2)=%{y}<extra></extra>",
         "hovertext": [
          "Pantera Pro"
         ],
         "legendgroup": "Fallen",
         "marker": {
          "color": "#ab63fa",
          "symbol": "circle"
         },
         "mode": "markers",
         "name": "Fallen",
         "showlegend": true,
         "type": "scattergl",
         "x": {
          "bdata": "w77+PFcr0r8=",
          "dtype": "f8"
         },
         "xaxis": "x",
         "y": {
          "bdata": "FgDg/Djb0L8=",
          "dtype": "f8"
         },
         "yaxis": "y"
        },
        {
         "hovertemplate": "<b>%{hovertext}</b><br><br>Brand=Drevo<br>แกนคุณลักษณะหลักที่ 1 (PC1)=%{x}<br>แกนคุณลักษณะหลักที่ 2 (PC2)=%{y}<extra></extra>",
         "hovertext": [
          "Falcon"
         ],
         "legendgroup": "Drevo",
         "marker": {
          "color": "#FFA15A",
          "symbol": "circle"
         },
         "mode": "markers",
         "name": "Drevo",
         "showlegend": true,
         "type": "scattergl",
         "x": {
          "bdata": "RwAvc1jUzT8=",
          "dtype": "f8"
         },
         "xaxis": "x",
         "y": {
          "bdata": "a5KrHJX07r8=",
          "dtype": "f8"
         },
         "yaxis": "y"
        },
        {
         "hovertemplate": "<b>%{hovertext}</b><br><br>Brand=Acer<br>แกนคุณลักษณะหลักที่ 1 (PC1)=%{x}<br>แกนคุณลักษณะหลักที่ 2 (PC2)=%{y}<extra></extra>",
         "hovertext": [
          "Cestus 330"
         ],
         "legendgroup": "Acer",
         "marker": {
          "color": "#19d3f3",
          "symbol": "circle"
         },
         "mode": "markers",
         "name": "Acer",
         "showlegend": true,
         "type": "scattergl",
         "x": {
          "bdata": "nwaW4/nK/j8=",
          "dtype": "f8"
         },
         "xaxis": "x",
         "y": {
          "bdata": "dN1iB1IHA8A=",
          "dtype": "f8"
         },
         "yaxis": "y"
        },
        {
         "hovertemplate": "<b>%{hovertext}</b><br><br>Brand=Teamwolf<br>แกนคุณลักษณะหลักที่ 1 (PC1)=%{x}<br>แกนคุณลักษณะหลักที่ 2 (PC2)=%{y}<extra></extra>",
         "hovertext": [
          "Lurker MK-01"
         ],
         "legendgroup": "Teamwolf",
         "marker": {
          "color": "#FF6692",
          "symbol": "circle"
         },
         "mode": "markers",
         "name": "Teamwolf",
         "showlegend": true,
         "type": "scattergl",
         "x": {
          "bdata": "Y9a812dY/78=",
          "dtype": "f8"
         },
         "xaxis": "x",
         "y": {
          "bdata": "/7Mn7Tlh7b8=",
          "dtype": "f8"
         },
         "yaxis": "y"
        },
        {
         "hovertemplate": "<b>%{hovertext}</b><br><br>Brand=PureTrak<br>แกนคุณลักษณะหลักที่ 1 (PC1)=%{x}<br>แกนคุณลักษณะหลักที่ 2 (PC2)=%{y}<extra></extra>",
         "hovertext": [
          "Valor Wireless"
         ],
         "legendgroup": "PureTrak",
         "marker": {
          "color": "#B6E880",
          "symbol": "circle"
         },
         "mode": "markers",
         "name": "PureTrak",
         "showlegend": true,
         "type": "scattergl",
         "x": {
          "bdata": "CLdzfSSL4b8=",
          "dtype": "f8"
         },
         "xaxis": "x",
         "y": {
          "bdata": "9bHKo821wj8=",
          "dtype": "f8"
         },
         "yaxis": "y"
        },
        {
         "hovertemplate": "<b>%{hovertext}</b><br><br>Brand=Xenics<br>แกนคุณลักษณะหลักที่ 1 (PC1)=%{x}<br>แกนคุณลักษณะหลักที่ 2 (PC2)=%{y}<extra></extra>",
         "hovertext": [
          "Titan GX Air Wireless"
         ],
         "legendgroup": "Xenics",
         "marker": {
          "color": "#FF97FF",
          "symbol": "circle"
         },
         "mode": "markers",
         "name": "Xenics",
         "showlegend": true,
         "type": "scattergl",
         "x": {
          "bdata": "ooYdf9Ne5b8=",
          "dtype": "f8"
         },
         "xaxis": "x",
         "y": {
          "bdata": "DFRdI4iA8L8=",
          "dtype": "f8"
         },
         "yaxis": "y"
        },
        {
         "hovertemplate": "<b>%{hovertext}</b><br><br>Brand=SPC<br>แกนคุณลักษณะหลักที่ 1 (PC1)=%{x}<br>แกนคุณลักษณะหลักที่ 2 (PC2)=%{y}<extra></extra>",
         "hovertext": [
          "Gear LIX Plus Wireless"
         ],
         "legendgroup": "SPC",
         "marker": {
          "color": "#FECB52",
          "symbol": "circle"
         },
         "mode": "markers",
         "name": "SPC",
         "showlegend": true,
         "type": "scattergl",
         "x": {
          "bdata": "ahx6GPOExL8=",
          "dtype": "f8"
         },
         "xaxis": "x",
         "y": {
          "bdata": "N586ZUIJyr8=",
          "dtype": "f8"
         },
         "yaxis": "y"
        },
        {
         "hovertemplate": "<b>%{hovertext}</b><br><br>Brand=Dornfinger<br>แกนคุณลักษณะหลักที่ 1 (PC1)=%{x}<br>แกนคุณลักษณะหลักที่ 2 (PC2)=%{y}<extra></extra>",
         "hovertext": [
          "Veno-S"
         ],
         "legendgroup": "Dornfinger",
         "marker": {
          "color": "#636efa",
          "symbol": "circle"
         },
         "mode": "markers",
         "name": "Dornfinger",
         "showlegend": true,
         "type": "scattergl",
         "x": {
          "bdata": "Zx0fX41B2L8=",
          "dtype": "f8"
         },
         "xaxis": "x",
         "y": {
          "bdata": "SVUlsvA11L8=",
          "dtype": "f8"
         },
         "yaxis": "y"
        },
        {
         "hovertemplate": "<b>%{hovertext}</b><br><br>Brand=Midnight<br>แกนคุณลักษณะหลักที่ 1 (PC1)=%{x}<br>แกนคุณลักษณะหลักที่ 2 (PC2)=%{y}<extra></extra>",
         "hovertext": [
          "Thread C1"
         ],
         "legendgroup": "Midnight",
         "marker": {
          "color": "#EF553B",
          "symbol": "circle"
         },
         "mode": "markers",
         "name": "Midnight",
         "showlegend": true,
         "type": "scattergl",
         "x": {
          "bdata": "BOQiARld9L8=",
          "dtype": "f8"
         },
         "xaxis": "x",
         "y": {
          "bdata": "TfQQna0U2T8=",
          "dtype": "f8"
         },
         "yaxis": "y"
        },
        {
         "hovertemplate": "<b>%{hovertext}</b><br><br>Brand=HK<br>แกนคุณลักษณะหลักที่ 1 (PC1)=%{x}<br>แกนคุณลักษณะหลักที่ 2 (PC2)=%{y}<extra></extra>",
         "hovertext": [
          "Gaming Sirius M"
         ],
         "legendgroup": "HK",
         "marker": {
          "color": "#00cc96",
          "symbol": "circle"
         },
         "mode": "markers",
         "name": "HK",
         "showlegend": true,
         "type": "scattergl",
         "x": {
          "bdata": "rA5urLGx7b8=",
          "dtype": "f8"
         },
         "xaxis": "x",
         "y": {
          "bdata": "J6uYPvnv378=",
          "dtype": "f8"
         },
         "yaxis": "y"
        },
        {
         "hovertemplate": "<b>%{hovertext}</b><br><br>Brand=CryoMods<br>แกนคุณลักษณะหลักที่ 1 (PC1)=%{x}<br>แกนคุณลักษณะหลักที่ 2 (PC2)=%{y}<extra></extra>",
         "hovertext": [
          "Fractal Wireless"
         ],
         "legendgroup": "CryoMods",
         "marker": {
          "color": "#ab63fa",
          "symbol": "circle"
         },
         "mode": "markers",
         "name": "CryoMods",
         "showlegend": true,
         "type": "scattergl",
         "x": {
          "bdata": "/gPBbXBE8b8=",
          "dtype": "f8"
         },
         "xaxis": "x",
         "y": {
          "bdata": "TDI48BcD9L8=",
          "dtype": "f8"
         },
         "yaxis": "y"
        },
        {
         "hovertemplate": "<b>%{hovertext}</b><br><br>Brand=Lethal<br>แกนคุณลักษณะหลักที่ 1 (PC1)=%{x}<br>แกนคุณลักษณะหลักที่ 2 (PC2)=%{y}<extra></extra>",
         "hovertext": [
          "Gaming Gear LA-1"
         ],
         "legendgroup": "Lethal",
         "marker": {
          "color": "#FFA15A",
          "symbol": "circle"
         },
         "mode": "markers",
         "name": "Lethal",
         "showlegend": true,
         "type": "scattergl",
         "x": {
          "bdata": "8jM64zhv8b8=",
          "dtype": "f8"
         },
         "xaxis": "x",
         "y": {
          "bdata": "NzuH0Qjfwz8=",
          "dtype": "f8"
         },
         "yaxis": "y"
        },
        {
         "hovertemplate": "<b>%{hovertext}</b><br><br>Brand=Gamesense<br>แกนคุณลักษณะหลักที่ 1 (PC1)=%{x}<br>แกนคุณลักษณะหลักที่ 2 (PC2)=%{y}<extra></extra>",
         "hovertext": [
          "MVP Wired",
          "MVP Wireless",
          "META Wired"
         ],
         "legendgroup": "Gamesense",
         "marker": {
          "color": "#19d3f3",
          "symbol": "circle"
         },
         "mode": "markers",
         "name": "Gamesense",
         "showlegend": true,
         "type": "scattergl",
         "x": {
          "bdata": "rsRNVodAyb+vSM8ne92jPy6vhRliY+y/",
          "dtype": "f8"
         },
         "xaxis": "x",
         "y": {
          "bdata": "kVyse1d/sL+Q1XLV/ZjUv/q+pxN5KPC/",
          "dtype": "f8"
         },
         "yaxis": "y"
        },
        {
         "hovertemplate": "<b>%{hovertext}</b><br><br>Brand=Dream<br>แกนคุณลักษณะหลักที่ 1 (PC1)=%{x}<br>แกนคุณลักษณะหลักที่ 2 (PC2)=%{y}<extra></extra>",
         "hovertext": [
          "Machines DM1 FPS",
          "Machines DM2 Comfy S",
          "Machines DM4 Evo",
          "Machines DM4 Evo S",
          "Machines DM5 Blink",
          "Machines DM6 Holey S",
          "Machines DM6 Holey",
          "Machines DM6 Duo",
          "Machines DM6 Trio"
         ],
         "legendgroup": "Dream",
         "marker": {
          "color": "#FF6692",
          "symbol": "circle"
         },
         "mode": "markers",
         "name": "Dream",
         "showlegend": true,
         "type": "scattergl",
         "x": {
          "bdata": "FA70T/uP3D+MCIAqh2UNQBugeYQUvwBAqobIUeNUAEDgGc3DwrECQMBW3MZuv/g/REVfo5za+T8x3Eq6Z3f8P2UqZVJqYfw/",
          "dtype": "f8"
         },
         "xaxis": "x",
         "y": {
          "bdata": "iz54KXGe37+Jek75yE/mP1TCvucM59e/HSkrA8oE0b8b4zSOXUSyv8h9FqVYaN0/KVz8Hqo61D/hkKW2cQLLP8ijJTFCNdE/",
          "dtype": "f8"
         },
         "yaxis": "y"
        },
        {
         "marker": {
          "color": "red",
          "size": 15,
          "symbol": "star"
         },
         "mode": "markers",
         "name": "Ideal Profile (จุดศูนย์กลาง)",
         "type": "scatter",
         "x": [
          -1.7860047339569274
         ],
         "y": [
          1.127123735360076
         ]
        }
       ],
       "layout": {
        "legend": {
         "title": {
          "text": "Brand"
         },
         "tracegroupgap": 0
        },
        "template": {
         "data": {
          "bar": [
           {
            "error_x": {
             "color": "#2a3f5f"
            },
            "error_y": {
             "color": "#2a3f5f"
            },
            "marker": {
             "line": {
              "color": "#E5ECF6",
              "width": 0.5
             },
             "pattern": {
              "fillmode": "overlay",
              "size": 10,
              "solidity": 0.2
             }
            },
            "type": "bar"
           }
          ],
          "barpolar": [
           {
            "marker": {
             "line": {
              "color": "#E5ECF6",
              "width": 0.5
             },
             "pattern": {
              "fillmode": "overlay",
              "size": 10,
              "solidity": 0.2
             }
            },
            "type": "barpolar"
           }
          ],
          "carpet": [
           {
            "aaxis": {
             "endlinecolor": "#2a3f5f",
             "gridcolor": "white",
             "linecolor": "white",
             "minorgridcolor": "white",
             "startlinecolor": "#2a3f5f"
            },
            "baxis": {
             "endlinecolor": "#2a3f5f",
             "gridcolor": "white",
             "linecolor": "white",
             "minorgridcolor": "white",
             "startlinecolor": "#2a3f5f"
            },
            "type": "carpet"
           }
          ],
          "choropleth": [
           {
            "colorbar": {
             "outlinewidth": 0,
             "ticks": ""
            },
            "type": "choropleth"
           }
          ],
          "contour": [
           {
            "colorbar": {
             "outlinewidth": 0,
             "ticks": ""
            },
            "colorscale": [
             [
              0,
              "#0d0887"
             ],
             [
              0.1111111111111111,
              "#46039f"
             ],
             [
              0.2222222222222222,
              "#7201a8"
             ],
             [
              0.3333333333333333,
              "#9c179e"
             ],
             [
              0.4444444444444444,
              "#bd3786"
             ],
             [
              0.5555555555555556,
              "#d8576b"
             ],
             [
              0.6666666666666666,
              "#ed7953"
             ],
             [
              0.7777777777777778,
              "#fb9f3a"
             ],
             [
              0.8888888888888888,
              "#fdca26"
             ],
             [
              1,
              "#f0f921"
             ]
            ],
            "type": "contour"
           }
          ],
          "contourcarpet": [
           {
            "colorbar": {
             "outlinewidth": 0,
             "ticks": ""
            },
            "type": "contourcarpet"
           }
          ],
          "heatmap": [
           {
            "colorbar": {
             "outlinewidth": 0,
             "ticks": ""
            },
            "colorscale": [
             [
              0,
              "#0d0887"
             ],
             [
              0.1111111111111111,
              "#46039f"
             ],
             [
              0.2222222222222222,
              "#7201a8"
             ],
             [
              0.3333333333333333,
              "#9c179e"
             ],
             [
              0.4444444444444444,
              "#bd3786"
             ],
             [
              0.5555555555555556,
              "#d8576b"
             ],
             [
              0.6666666666666666,
              "#ed7953"
             ],
             [
              0.7777777777777778,
              "#fb9f3a"
             ],
             [
              0.8888888888888888,
              "#fdca26"
             ],
             [
              1,
              "#f0f921"
             ]
            ],
            "type": "heatmap"
           }
          ],
          "histogram": [
           {
            "marker": {
             "pattern": {
              "fillmode": "overlay",
              "size": 10,
              "solidity": 0.2
             }
            },
            "type": "histogram"
           }
          ],
          "histogram2d": [
           {
            "colorbar": {
             "outlinewidth": 0,
             "ticks": ""
            },
            "colorscale": [
             [
              0,
              "#0d0887"
             ],
             [
              0.1111111111111111,
              "#46039f"
             ],
             [
              0.2222222222222222,
              "#7201a8"
             ],
             [
              0.3333333333333333,
              "#9c179e"
             ],
             [
              0.4444444444444444,
              "#bd3786"
             ],
             [
              0.5555555555555556,
              "#d8576b"
             ],
             [
              0.6666666666666666,
              "#ed7953"
             ],
             [
              0.7777777777777778,
              "#fb9f3a"
             ],
             [
              0.8888888888888888,
              "#fdca26"
             ],
             [
              1,
              "#f0f921"
             ]
            ],
            "type": "histogram2d"
           }
          ],
          "histogram2dcontour": [
           {
            "colorbar": {
             "outlinewidth": 0,
             "ticks": ""
            },
            "colorscale": [
             [
              0,
              "#0d0887"
             ],
             [
              0.1111111111111111,
              "#46039f"
             ],
             [
              0.2222222222222222,
              "#7201a8"
             ],
             [
              0.3333333333333333,
              "#9c179e"
             ],
             [
              0.4444444444444444,
              "#bd3786"
             ],
             [
              0.5555555555555556,
              "#d8576b"
             ],
             [
              0.6666666666666666,
              "#ed7953"
             ],
             [
              0.7777777777777778,
              "#fb9f3a"
             ],
             [
              0.8888888888888888,
              "#fdca26"
             ],
             [
              1,
              "#f0f921"
             ]
            ],
            "type": "histogram2dcontour"
           }
          ],
          "mesh3d": [
           {
            "colorbar": {
             "outlinewidth": 0,
             "ticks": ""
            },
            "type": "mesh3d"
           }
          ],
          "parcoords": [
           {
            "line": {
             "colorbar": {
              "outlinewidth": 0,
              "ticks": ""
             }
            },
            "type": "parcoords"
           }
          ],
          "pie": [
           {
            "automargin": true,
            "type": "pie"
           }
          ],
          "scatter": [
           {
            "fillpattern": {
             "fillmode": "overlay",
             "size": 10,
             "solidity": 0.2
            },
            "type": "scatter"
           }
          ],
          "scatter3d": [
           {
            "line": {
             "colorbar": {
              "outlinewidth": 0,
              "ticks": ""
             }
            },
            "marker": {
             "colorbar": {
              "outlinewidth": 0,
              "ticks": ""
             }
            },
            "type": "scatter3d"
           }
          ],
          "scattercarpet": [
           {
            "marker": {
             "colorbar": {
              "outlinewidth": 0,
              "ticks": ""
             }
            },
            "type": "scattercarpet"
           }
          ],
          "scattergeo": [
           {
            "marker": {
             "colorbar": {
              "outlinewidth": 0,
              "ticks": ""
             }
            },
            "type": "scattergeo"
           }
          ],
          "scattergl": [
           {
            "marker": {
             "colorbar": {
              "outlinewidth": 0,
              "ticks": ""
             }
            },
            "type": "scattergl"
           }
          ],
          "scattermap": [
           {
            "marker": {
             "colorbar": {
              "outlinewidth": 0,
              "ticks": ""
             }
            },
            "type": "scattermap"
           }
          ],
          "scattermapbox": [
           {
            "marker": {
             "colorbar": {
              "outlinewidth": 0,
              "ticks": ""
             }
            },
            "type": "scattermapbox"
           }
          ],
          "scatterpolar": [
           {
            "marker": {
             "colorbar": {
              "outlinewidth": 0,
              "ticks": ""
             }
            },
            "type": "scatterpolar"
           }
          ],
          "scatterpolargl": [
           {
            "marker": {
             "colorbar": {
              "outlinewidth": 0,
              "ticks": ""
             }
            },
            "type": "scatterpolargl"
           }
          ],
          "scatterternary": [
           {
            "marker": {
             "colorbar": {
              "outlinewidth": 0,
              "ticks": ""
             }
            },
            "type": "scatterternary"
           }
          ],
          "surface": [
           {
            "colorbar": {
             "outlinewidth": 0,
             "ticks": ""
            },
            "colorscale": [
             [
              0,
              "#0d0887"
             ],
             [
              0.1111111111111111,
              "#46039f"
             ],
             [
              0.2222222222222222,
              "#7201a8"
             ],
             [
              0.3333333333333333,
              "#9c179e"
             ],
             [
              0.4444444444444444,
              "#bd3786"
             ],
             [
              0.5555555555555556,
              "#d8576b"
             ],
             [
              0.6666666666666666,
              "#ed7953"
             ],
             [
              0.7777777777777778,
              "#fb9f3a"
             ],
             [
              0.8888888888888888,
              "#fdca26"
             ],
             [
              1,
              "#f0f921"
             ]
            ],
            "type": "surface"
           }
          ],
          "table": [
           {
            "cells": {
             "fill": {
              "color": "#EBF0F8"
             },
             "line": {
              "color": "white"
             }
            },
            "header": {
             "fill": {
              "color": "#C8D4E3"
             },
             "line": {
              "color": "white"
             }
            },
            "type": "table"
           }
          ]
         },
         "layout": {
          "annotationdefaults": {
           "arrowcolor": "#2a3f5f",
           "arrowhead": 0,
           "arrowwidth": 1
          },
          "autotypenumbers": "strict",
          "coloraxis": {
           "colorbar": {
            "outlinewidth": 0,
            "ticks": ""
           }
          },
          "colorscale": {
           "diverging": [
            [
             0,
             "#8e0152"
            ],
            [
             0.1,
             "#c51b7d"
            ],
            [
             0.2,
             "#de77ae"
            ],
            [
             0.3,
             "#f1b6da"
            ],
            [
             0.4,
             "#fde0ef"
            ],
            [
             0.5,
             "#f7f7f7"
            ],
            [
             0.6,
             "#e6f5d0"
            ],
            [
             0.7,
             "#b8e186"
            ],
            [
             0.8,
             "#7fbc41"
            ],
            [
             0.9,
             "#4d9221"
            ],
            [
             1,
             "#276419"
            ]
           ],
           "sequential": [
            [
             0,
             "#0d0887"
            ],
            [
             0.1111111111111111,
             "#46039f"
            ],
            [
             0.2222222222222222,
             "#7201a8"
            ],
            [
             0.3333333333333333,
             "#9c179e"
            ],
            [
             0.4444444444444444,
             "#bd3786"
            ],
            [
             0.5555555555555556,
             "#d8576b"
            ],
            [
             0.6666666666666666,
             "#ed7953"
            ],
            [
             0.7777777777777778,
             "#fb9f3a"
            ],
            [
             0.8888888888888888,
             "#fdca26"
            ],
            [
             1,
             "#f0f921"
            ]
           ],
           "sequentialminus": [
            [
             0,
             "#0d0887"
            ],
            [
             0.1111111111111111,
             "#46039f"
            ],
            [
             0.2222222222222222,
             "#7201a8"
            ],
            [
             0.3333333333333333,
             "#9c179e"
            ],
            [
             0.4444444444444444,
             "#bd3786"
            ],
            [
             0.5555555555555556,
             "#d8576b"
            ],
            [
             0.6666666666666666,
             "#ed7953"
            ],
            [
             0.7777777777777778,
             "#fb9f3a"
            ],
            [
             0.8888888888888888,
             "#fdca26"
            ],
            [
             1,
             "#f0f921"
            ]
           ]
          },
          "colorway": [
           "#636efa",
           "#EF553B",
           "#00cc96",
           "#ab63fa",
           "#FFA15A",
           "#19d3f3",
           "#FF6692",
           "#B6E880",
           "#FF97FF",
           "#FECB52"
          ],
          "font": {
           "color": "#2a3f5f"
          },
          "geo": {
           "bgcolor": "white",
           "lakecolor": "white",
           "landcolor": "#E5ECF6",
           "showlakes": true,
           "showland": true,
           "subunitcolor": "white"
          },
          "hoverlabel": {
           "align": "left"
          },
          "hovermode": "closest",
          "mapbox": {
           "style": "light"
          },
          "paper_bgcolor": "white",
          "plot_bgcolor": "#E5ECF6",
          "polar": {
           "angularaxis": {
            "gridcolor": "white",
            "linecolor": "white",
            "ticks": ""
           },
           "bgcolor": "#E5ECF6",
           "radialaxis": {
            "gridcolor": "white",
            "linecolor": "white",
            "ticks": ""
           }
          },
          "scene": {
           "xaxis": {
            "backgroundcolor": "#E5ECF6",
            "gridcolor": "white",
            "gridwidth": 2,
            "linecolor": "white",
            "showbackground": true,
            "ticks": "",
            "zerolinecolor": "white"
           },
           "yaxis": {
            "backgroundcolor": "#E5ECF6",
            "gridcolor": "white",
            "gridwidth": 2,
            "linecolor": "white",
            "showbackground": true,
            "ticks": "",
            "zerolinecolor": "white"
           },
           "zaxis": {
            "backgroundcolor": "#E5ECF6",
            "gridcolor": "white",
            "gridwidth": 2,
            "linecolor": "white",
            "showbackground": true,
            "ticks": "",
            "zerolinecolor": "white"
           }
          },
          "shapedefaults": {
           "line": {
            "color": "#2a3f5f"
           }
          },
          "ternary": {
           "aaxis": {
            "gridcolor": "white",
            "linecolor": "white",
            "ticks": ""
           },
           "baxis": {
            "gridcolor": "white",
            "linecolor": "white",
            "ticks": ""
           },
           "bgcolor": "#E5ECF6",
           "caxis": {
            "gridcolor": "white",
            "linecolor": "white",
            "ticks": ""
           }
          },
          "title": {
           "x": 0.05
          },
          "xaxis": {
           "automargin": true,
           "gridcolor": "white",
           "linecolor": "white",
           "ticks": "",
           "title": {
            "standoff": 15
           },
           "zerolinecolor": "white",
           "zerolinewidth": 2
          },
          "yaxis": {
           "automargin": true,
           "gridcolor": "white",
           "linecolor": "white",
           "ticks": "",
           "title": {
            "standoff": 15
           },
           "zerolinecolor": "white",
           "zerolinewidth": 2
          }
         }
        },
        "title": {
         "text": "ผลการวิเคราะห์ PCA ของข้อมูลเมาส์"
        },
        "xaxis": {
         "anchor": "y",
         "domain": [
          0,
          1
         ],
         "title": {
          "text": "แกนคุณลักษณะหลักที่ 1 (PC1)"
         }
        },
        "yaxis": {
         "anchor": "x",
         "domain": [
          0,
          1
         ],
         "title": {
          "text": "แกนคุณลักษณะหลักที่ 2 (PC2)"
         }
        }
       }
      }
     },
     "metadata": {},
     "output_type": "display_data"
    }
   ],
   "source": [
    "from sklearn.metrics.pairwise import cosine_similarity\n",
    "\n",
    "# 1. กำหนด \"คลังเมาส์\" ของคุณ\n",
    "my_mouse_collection = ['Viper Mini Signature Edition', 'MAD R Major', 'Susanto-X', 'Y2 Pro']\n",
    "df_my_collection = df_pca[df_pca['Model'].isin(my_mouse_collection)]\n",
    "\n",
    "# 2. คำนวณ \"โปรไฟล์เมาส์ในอุดมคติ\" (จุดศูนย์กลางของคลัง)\n",
    "ideal_mouse_profile = df_my_collection[['PC1', 'PC2']].mean().values.reshape(1, -1)\n",
    "\n",
    "print(f\"คลังเมาส์ของฉัน:\\n{df_my_collection}\\n\")\n",
    "\n",
    "# 3. คำนวณ Cosine Similarity\n",
    "cosine_sim = cosine_similarity(df_pca[['PC1', 'PC2']], ideal_mouse_profile).flatten()\n",
    "df_pca['Cosine_Similarity_to_Ideal'] = cosine_sim\n",
    "\n",
    "# 4. จัดอันดับเมาส์ที่ใกล้เคียงที่สุด (ไม่รวมเมาส์ที่มีอยู่แล้วในคลัง)\n",
    "recommendations = df_pca[~df_pca['Model'].isin(my_mouse_collection)] \\\n",
    "    .sort_values('Cosine_Similarity_to_Ideal', ascending=False) \\\n",
    "    .head(5)\n",
    "\n",
    "print(f\"จุดศูนย์กลาง (Ideal Profile) ในแกน PCA: {ideal_mouse_profile.flatten()}\")\n",
    "print(\"\\n--- 5 อันดับเมาส์แนะนำที่ใกล้เคียงกับสไตล์ของคุณที่สุด ---\")\n",
    "print(recommendations[['Model', 'Brand', 'Cosine_Similarity_to_Ideal']])\n",
    "\n",
    "# 5. พล็อตกราฟแสดง Ideal Profile\n",
    "fig.add_scatter(\n",
    "    x=[ideal_mouse_profile[0, 0]],\n",
    "    y=[ideal_mouse_profile[0, 1]],\n",
    "    mode='markers',\n",
    "    marker=dict(symbol='star', color='red', size=15),\n",
    "    name='Ideal Profile (จุดศูนย์กลาง)'\n",
    ")\n",
    "fig.show()\n"
   ]
  },
  {
   "cell_type": "markdown",
   "id": "75b17e08",
   "metadata": {},
   "source": [
    "#  **Find Similar Mouse using Euclidean Distance Similarity**"
   ]
  },
  {
   "cell_type": "code",
   "execution_count": 53,
   "id": "a33f299f",
   "metadata": {},
   "outputs": [
    {
     "name": "stdout",
     "output_type": "stream",
     "text": [
      "จุดศูนย์กลาง (Ideal Profile) ในแกน PCA: [-1.78600473  1.12712374]\n",
      "\n",
      "--- 5 อันดับเมาส์แนะนำที่ใกล้เคียงกับสไตล์ของคุณที่สุด ---\n",
      "           Model     Brand  Distance_to_Ideal\n",
      "472         M996  Redragon           0.124088\n",
      "643   F1 Pro Max       ATK           0.128044\n",
      "124    VK M1 Pro  Valkyrie           0.136857\n",
      "342       AX5 V2    MCHOSE           0.142778\n",
      "163  Black Lotus     UNIUS           0.147502\n"
     ]
    },
    {
     "data": {
      "application/vnd.plotly.v1+json": {
       "config": {
        "plotlyServerURL": "https://plot.ly"
       },
       "data": [
        {
         "hovertemplate": "<b>%{hovertext}</b><br><br>Brand=AJAZZ<br>แกนคุณลักษณะหลักที่ 1 (PC1)=%{x}<br>แกนคุณลักษณะหลักที่ 2 (PC2)=%{y}<extra></extra>",
         "hovertext": [
          "T520 Max",
          "T520",
          "AJ179 V2 Max",
          "AJ179 V2",
          "AM3 Max",
          "AM3 Pro",
          "AJ179 APEX",
          "AJ179 PRO",
          "AJ179P",
          "AJ179",
          "M259",
          "AJ159APEX",
          "AJ159 PRO",
          "AJ159P",
          "AJ159",
          "AJ199 MC",
          "AJ199 Pro 4K",
          "AJ199 4K",
          "AJ139 Pro 4K",
          "AJ099",
          "AJ139 Pro",
          "AJ199"
         ],
         "legendgroup": "AJAZZ",
         "marker": {
          "color": "#636efa",
          "symbol": "circle"
         },
         "mode": "markers",
         "name": "AJAZZ",
         "showlegend": true,
         "type": "scattergl",
         "x": {
          "bdata": "Dd0iRbb07b/eUolOB5XovzBqwxvxsfg/R/WmU0Qj9j+rBKdXYUwEwKsEp1dhTATA1IUukUL8sD+1iXps7vHVP9JHjbDIguk/0keNsMiC6T8JCbqvwKPuP+Wc2G5/EP6/1eLM/Mej+b9Z4aQ/317yv1nhpD/fXvK/0muea31f8b+/6znCgyHYP6Mokumie/K/wn7PexDZ6r+6fO8rsszmv7Xn2whdRem/t/wqNv5a8b8=",
          "dtype": "f8"
         },
         "xaxis": "x",
         "y": {
          "bdata": "MZSy53n/0L+xG1p2+Nblv2qN5XDsaek/HwOhl+TB7j+UwOf+bEzGP5TA5/5sTMY/2tWaxNcW/j87tIA+Ken0PxPqlNAjfOc/E+qU0CN85z8kRSOZQ5rhP9Is70bYHPA/yixUA6e82z/9nwmrbN/Bv/2fCats38G/qOlX2lEo2r8U++4QHOfoP5Ll3uHKJ8O/rRhPojgdxz+7Dfa5qYrev9UmTTvfP7k/fQC2fOkX0L8=",
          "dtype": "f8"
         },
         "yaxis": "y"
        },
        {
         "hovertemplate": "<b>%{hovertext}</b><br><br>Brand=MCHOSE<br>แกนคุณลักษณะหลักที่ 1 (PC1)=%{x}<br>แกนคุณลักษณะหลักที่ 2 (PC2)=%{y}<extra></extra>",
         "hovertext": [
          "G3 V2 Pro",
          "G3 V2",
          "G3 A",
          "A5 V2 Ultra",
          "L7 Ultra+",
          "L7 Pro+",
          "K7 Ultra",
          "G7 Max",
          "G7 Pro",
          "G7",
          "M7 Ultra",
          "AX5 V2",
          "L7 Ultra",
          "L7 Pro",
          "L7",
          "A7 Ultra",
          "A7 Pro",
          "A7",
          "M7 Pro",
          "M7",
          "G3 Ultra",
          "G3 Max",
          "G3 Pro",
          "G3",
          "G3 SE",
          "A5 Ultra",
          "AX5 Pro Max",
          "AX5 Pro",
          "AX5",
          "A5 Pro Max",
          "A5 Pro",
          "A5"
         ],
         "legendgroup": "MCHOSE",
         "marker": {
          "color": "#EF553B",
          "symbol": "circle"
         },
         "mode": "markers",
         "name": "MCHOSE",
         "showlegend": true,
         "type": "scattergl",
         "x": {
          "bdata": "ICE4pSCW8b+lvNtCAG7rv5h/mVFac+e/GpbfE49v+r9HVYAxRwUAwNeRnzLPzPy/6ZhB+4N+87/ceZD7FVz4P2ubfo6kNf4/El9Bng/AAUAcVAk8PVT2vypQ64VG3P6/VFvigtvsBcBLftzJf7YDwEt+3Ml/tgPAFUGzQctH9b8Fh6fPE9vwv3JTY8m1//G/C5r9yYXn8b9cRpBqoKryvxcEv2m23fa/FwS/abbd9r8FG0tAQzDxv5h/mVFac+e/cLABeUWi6r+0nH4lknP4v5RhWRAo1fq/T4VCpMet9r85symWK0T4vzebVmipLvG/N5tWaKku8b+o/cNddF/yvw==",
          "dtype": "f8"
         },
         "xaxis": "x",
         "y": {
          "bdata": "NtvWIRFc0L9xKJn7+T3ovyJ2alTg2ey/2F8/Mbys4T9HfSRi2yn1P8gYNNGGr+o/Dcv4Faqr+D/XQQ9rf1gBQODo/Lue8vo/D2eRyu598T9/nf/RExT4P4vRuZ4MBPI/z+Vg8zQ58j9fiI3aDBfiP1+IjdoMF+I/FG4+obsP9z/omEg2GsTrP/dL0LUCSe4/wPfKl8rM7T90L6dDznrvP2EMvwr/MMY/YQy/Cv8wxj+vYPfeBjTSvyJ2alTg2ey/Lmsp2vQp6b+vgs5Nqi7aP70yhGZql+I/T2eMLA060D+A/rLWfo/XPy30FBZm+8S/LfQUFmb7xL/PIrYtd/azvw==",
          "dtype": "f8"
         },
         "yaxis": "y"
        },
        {
         "hovertemplate": "<b>%{hovertext}</b><br><br>Brand=G-Wolves<br>แกนคุณลักษณะหลักที่ 1 (PC1)=%{x}<br>แกนคุณลักษณะหลักที่ 2 (PC2)=%{y}<extra></extra>",
         "hovertext": [
          "Fenrir Pro 8K",
          "HTX Ultra 8K",
          "VUK",
          "HTM Plus 8K",
          "HT-S2 Pro 8K",
          "Fenrir Max 8K",
          "Fenrir Asym 8K",
          "HTS Ultra 8K",
          "HTX Mini 8K",
          "HTS Plus 8K",
          "HTR Pro 8K",
          "HT-S2 8K",
          "HTR 8K",
          "HTS Ace Wireless",
          "HTM Ace",
          "HSK Plus 4K",
          "HSK Plus Lite",
          "HTX 4K",
          "HTX Ace",
          "HSK Pro 4K",
          "HSK Pro Ace",
          "HTS Plus 4K",
          "HTS",
          "HTS Wireless",
          "HSK",
          "HSK Plus",
          "HTS Plus",
          "HTM Wireless",
          "HTM",
          "Skoll Mini",
          "Skoll"
         ],
         "legendgroup": "G-Wolves",
         "marker": {
          "color": "#00cc96",
          "symbol": "circle"
         },
         "mode": "markers",
         "name": "G-Wolves",
         "showlegend": true,
         "type": "scattergl",
         "x": {
          "bdata": "ELPSpt+5E8B/817A9XsBwNHjN5bCyfy/xnJYCum9/b90XCRC5ecGwK4oGQ6V/xLAWJx/7vdPEsDQDf3mPbgDwK4/VJgZLAnAupCOdkxw/b/oJBQr1MsQwHG+m9AmjgXArfNcB37LD8DiW7Ap5rHxvzMi7CciqOG/SejoVnIvCsDMIv7IS8wHwKkSAeYTz/2/fhEP52Xm+799Zv/Kd8gSwBuICdGPmRLAa+jnzr5w9r+wWnUY8370vx2PbG9pufG/aNAWDRslDMD7xG0N5qgHwFTU+daNcfO/JIe8wj1o17++Mg4C8zzJv/SPSuvJAeA/y1/+TDcT/D8=",
          "dtype": "f8"
         },
         "xaxis": "x",
         "y": {
          "bdata": "i6Q7bTcD379Q1KKBjA/1P7lew2qbpfg/GuBQocM5+T9E5OlxdhHxP6uFqEbCHOa/08NP3NTn57+uGtNyZtzzP8geTSkYDOM/AeyMxibc6D8T0J38OC7Mvz6ATOjOh+Q/BRISkjcSwr+X/wBjX2Tjv/LmwPImVbQ/eZnr1IR07b8A2dZKSRn2v7sgJM5CCOA/YOtGxIEA1j83/8ynUCUAwCZsj1IpOgDAzI5wucUYwz/UoAltJ7rZv5qJkUbB0OG/Y06yWGkKAcAaezgzJKz2v9PTWZb9lrq/L5uLU3Ems79iYJi9YjPYvysEjpooLdc/dqIAZP164D8=",
          "dtype": "f8"
         },
         "yaxis": "y"
        },
        {
         "hovertemplate": "<b>%{hovertext}</b><br><br>Brand=Pulsar<br>แกนคุณลักษณะหลักที่ 1 (PC1)=%{x}<br>แกนคุณลักษณะหลักที่ 2 (PC2)=%{y}<extra></extra>",
         "hovertext": [
          "Susanto-X",
          "Pro Series JV-X",
          "Xlite CrazyLight",
          "X2F",
          "ZywOo The Chosen Mouse - Mini",
          "ZywOo The Chosen Mouse - Medium",
          "Xlite v4 eS Mini",
          "Xlite v4 eS Medium",
          "X2H v3 eS Mini",
          "X2H v3 eS",
          "TenZ Signature Edition",
          "X2A v3 eS Mini",
          "X2 v3 eS Mini",
          "X2 v3 Mini",
          "X2 CrazyLight",
          "X2H v3 Mini",
          "X2H v3",
          "X2A v3",
          "X2 v3",
          "Xlite v4 Large",
          "X2A Wired",
          "X2 Wired",
          "Feinmann F01",
          "Xlite v4 Medium",
          "Xlite v4 Mini",
          "Xlite Wired",
          "Xlite V2 Mini Wireless",
          "Xlite Wireless",
          "Xlite",
          "Xlite V2 Wireless",
          "X2H Wired",
          "X3",
          "X3 Mini",
          "X3 LHD",
          "X3 LHD Mini",
          "X2A eS",
          "X2H eS",
          "Xlite v3 Large",
          "Xlite v3 Mini",
          "Xlite v3 Medium",
          "Xlite v3 eS",
          "X2A Mini",
          "X2A",
          "X2H Mini",
          "X2H",
          "X2V2 Mini",
          "X2V2",
          "X2 Mini",
          "X2"
         ],
         "legendgroup": "Pulsar",
         "marker": {
          "color": "#ab63fa",
          "symbol": "circle"
         },
         "mode": "markers",
         "name": "Pulsar",
         "showlegend": true,
         "type": "scattergl",
         "x": {
          "bdata": "JnQKPpn//L+nWE7s51Klv5tMzxBV2d6/ou7W/P7FDsAUM0/rl2qeP1IuW3of++U/ye27NhrYcD+//1MN2bfqP7Q6O5EuCPq/8YgM1CMc8r8euxYzAmf4v1DdEkrGtPy/WQg9QQ2//r9mc/P/WAEBwNtRnb79RATAGrE2gg9A/7+ESbppOrz2vzWZoN2Vhvm/qcsEhzUa+79+o385QAbzP48+DUDQ/fC/oX3K01f28r+ziY5xLqRMvw6SBlGo+98/P73JG3x5y7+EooP5NC/wPxVsQASUreE/qAmHBaqO8z8mr8sJda7vP6gJhwWqjvM/B1qA9csn7b/AX9SZAADtPw1zmegkess/wF/UmQAA7T8Nc5noJHrLPxKcrxbyIvO/UJOzrmSb8b+/CmzB7fP7P2m+zBH4+dU/aUCD7UhL8T9Ky9yiYgnuP1CQpRgyc/e/8jG0VeiY8L8gaJlxn+v1v755qarA1+q/in/6dwQV+b9mZBj/hyzyv7tDJeCPrPi/jz4NQND98L8=",
          "dtype": "f8"
         },
         "xaxis": "x",
         "y": {
          "bdata": "6TjuLtVi7D9C8Pwvb2P3PyARupIas/s/WFsjLmB8578RvOfmtID3P6uhd/ROov0/l44+1XDr8j/WcVfp0+r7P9cpyllRutI/dGQCs1FE5z9tJSwRZlD0P1kMIKjDM8I/gLpEOKnP0j9Pun8fdCzhPzU6HZPZWvA/dvqxqXuR5T8ZCiOj8MzwP2MlQCkUGec/M57Mrli26j84OM20XaECQDJAzWXEgKO/BhiWBEtkuj/Esw8+wy3+Pzolw2VDa/8/7iK2nePe9j/ffrbTJJjzPw+qDiMvmtc/NU9HmNgz6T9OKKELZpLwPzVPR5jYM+k/bd738Lk01D++B6dTqK8BQMaw6dZT3f0/vgenU6ivAUDGsOnWU939P/WGHNAOfMU/Lbc/s3L34j+hZBqhgqb4P0AubKpVheQ/sWYJgn1q8j86pQ13snn4P6gXXmaa3Ne/u5H/Pev6sL8SRcY5LF3CvxcNrE7kE84/m7oA4/oX0L+Dacjccd6nP98R2MMiCdK/MkDNZcSAo78=",
          "dtype": "f8"
         },
         "yaxis": "y"
        },
        {
         "hovertemplate": "<b>%{hovertext}</b><br><br>Brand=Dark<br>แกนคุณลักษณะหลักที่ 1 (PC1)=%{x}<br>แกนคุณลักษณะหลักที่ 2 (PC2)=%{y}<extra></extra>",
         "hovertext": [
          "Project Novus Pro",
          "Project Novus",
          "Project Novus SE",
          "Project Nexus Ultra",
          "Project Nexus"
         ],
         "legendgroup": "Dark",
         "marker": {
          "color": "#FFA15A",
          "symbol": "circle"
         },
         "mode": "markers",
         "name": "Dark",
         "showlegend": true,
         "type": "scattergl",
         "x": {
          "bdata": "E2e6FNlz9L9S3foIlCjqvy7LJK/gXeq/71isHD2N879+Vuj4TnXrvw==",
          "dtype": "f8"
         },
         "xaxis": "x",
         "y": {
          "bdata": "yko6wJFB8j/gdyYjUkfiPy4XCNT0LOI/h5pgMmuR9D+2Bp9EDCToPw==",
          "dtype": "f8"
         },
         "yaxis": "y"
        },
        {
         "hovertemplate": "<b>%{hovertext}</b><br><br>Brand=Chaos<br>แกนคุณลักษณะหลักที่ 1 (PC1)=%{x}<br>แกนคุณลักษณะหลักที่ 2 (PC2)=%{y}<extra></extra>",
         "hovertext": [
          "M3 Mini"
         ],
         "legendgroup": "Chaos",
         "marker": {
          "color": "#19d3f3",
          "symbol": "circle"
         },
         "mode": "markers",
         "name": "Chaos",
         "showlegend": true,
         "type": "scattergl",
         "x": {
          "bdata": "e6q0wM8W/78=",
          "dtype": "f8"
         },
         "xaxis": "x",
         "y": {
          "bdata": "22HLxIkA6D8=",
          "dtype": "f8"
         },
         "yaxis": "y"
        },
        {
         "hovertemplate": "<b>%{hovertext}</b><br><br>Brand=Attack<br>แกนคุณลักษณะหลักที่ 1 (PC1)=%{x}<br>แกนคุณลักษณะหลักที่ 2 (PC2)=%{y}<extra></extra>",
         "hovertext": [
          "Shark V5",
          "Shark R11 Ultra",
          "Shark X8 Ultra",
          "Shark X11 SE",
          "Shark X8 SE",
          "Shark X8 Pro",
          "Shark X8 Plus",
          "Shark G3 Pro",
          "Shark G3",
          "Shark X1",
          "Shark R5 Ultra",
          "Shark R6",
          "Shark X3 Max",
          "Shark R2",
          "Shark X11",
          "Shark R3",
          "Shark R1",
          "Shark X3 Pro",
          "Shark X6",
          "Shark X3"
         ],
         "legendgroup": "Attack",
         "marker": {
          "color": "#FF6692",
          "symbol": "circle"
         },
         "mode": "markers",
         "name": "Attack",
         "showlegend": true,
         "type": "scattergl",
         "x": {
          "bdata": "bhhZLuXS+r/4sh0OuAH6vw4zwa2F7fa/JLMe4YuA17/Ad9kONOrlv8y7f7/uX/a/nXSvBAw27r84K09d/WbyvzgrT139ZvK/nhkcgm1A979/4ZV11ugDwE88tZhaJgTAaKyv4XP++L+Ag9Zi8EUBwGm8I0oIetG/eCyKHYPXAMDGObiErjbwP+gzlZUx5fe/X0DiLv359r9Z8qNvvJH0vw==",
          "dtype": "f8"
         },
         "xaxis": "x",
         "y": {
          "bdata": "OgK2kO9R9T/VXN4gIlj5Pw+zMZJdrfg/LzviKhcp0z+OwP418wbXP9tubsGnh/c/UF9w1iC57D8mLpJTXo/VvyYuklNej9W/z3i/2q/54D82faF1ujj2P5n1n8A2//U/bFmb8IY95z9rFuoM3Ir1P/RsTC8lO8k/eJtg9Zc+4T8FCjo+bYjhP0zftbKJWtw/+YV6J389lb+/WJyRp4jDPw==",
          "dtype": "f8"
         },
         "yaxis": "y"
        },
        {
         "hovertemplate": "<b>%{hovertext}</b><br><br>Brand=LAMZU<br>แกนคุณลักษณะหลักที่ 1 (PC1)=%{x}<br>แกนคุณลักษณะหลักที่ 2 (PC2)=%{y}<extra></extra>",
         "hovertext": [
          "MAYA Champion Edition",
          "x REJECT Paro Reject Special Edition",
          "Paro Aurora",
          "x Aimlabs MAYA X",
          "Inca",
          "Tachi",
          "MAYA X",
          "x Fnatic MAYA X 8K",
          "x Fnatic MAYA 8K",
          "Paro",
          "Atlantis Mini Champion",
          "MAYA 4K",
          "x Fnatic Thorn 4K",
          "Thorn 4K",
          "Atlantis Mini 4K",
          "Atlantis Mini Pro",
          "Atlantis OG V2 4K",
          "Atlantis OG V2 Pro",
          "MAYA",
          "Atlantis OG V2",
          "Thorn",
          "Atlantis Mini",
          "Atlantis"
         ],
         "legendgroup": "LAMZU",
         "marker": {
          "color": "#B6E880",
          "symbol": "circle"
         },
         "mode": "markers",
         "name": "LAMZU",
         "showlegend": true,
         "type": "scattergl",
         "x": {
          "bdata": "CO6G7y6F/78nziH2tymsvyfOIfa3Kay/PGQwthV79b90E0ZuMmn7v9yGJ0I+IPy/PGQwthV79b9tpexQfj32vwjuhu8uhf+/ZwnwaA7wjD+rXAX2Ym7+vzwj7aagQvq/hv0XFWbF4D+G/RcVZsXgP0s+lAt7+fm/FxmDuvLb9r+faifh0CXuvzQgBT/A6ue/CP7bVRgl9780IAU/wOrnv/BHOrd2AOc/sfedeGLs9L80IAU/wOrnvw==",
          "dtype": "f8"
         },
         "xaxis": "x",
         "y": {
          "bdata": "G8Af4Jzf7D8rIrE8Fon6PysisTwWifo/Bcvb3I1b9T8hXYh5c/r1P5uO0pIxCOw/Bcvb3I1b9T9SrUfY3jD2PxvAH+Cc3+w/w5kqm6o9+D/yLSIiW23jP29gqZnDnNs/rxEIfTh18z+vEQh9OHXzP8j0BTGx9cg/1iHQ/ujlqb9mkLnLVTfgPyoiFt8Vt9A/ncOYwlvKxz8qIhbfFbfQPxCk4R2mDu8/EL+Hiq5M078qIhbfFbfQPw==",
          "dtype": "f8"
         },
         "yaxis": "y"
        },
        {
         "hovertemplate": "<b>%{hovertext}</b><br><br>Brand=ATK<br>แกนคุณลักษณะหลักที่ 1 (PC1)=%{x}<br>แกนคุณลักษณะหลักที่ 2 (PC2)=%{y}<extra></extra>",
         "hovertext": [
          "U2 Mini",
          "Duckbill",
          "X1 S",
          "X1 SE",
          "U2 Ultimate",
          "U2 Ultra",
          "U2 Pro Max",
          "U2 Pro",
          "U2 Plus",
          "U2",
          "U2 SE",
          "A9 Pro Max",
          "A9 Ultra",
          "A9 Pro",
          "A9 Plus",
          "A9 SE",
          "A9",
          "X1",
          "Fierce X",
          "F1 Extreme",
          "X1 Ultimate",
          "Z1 Ultra",
          "Z1 Pro Max",
          "X1 Ultra",
          "X1 Pro Max",
          "X1 Pro",
          "F1 Ultimate",
          "F1 Pro Max",
          "F1 Pro"
         ],
         "legendgroup": "ATK",
         "marker": {
          "color": "#FF97FF",
          "symbol": "circle"
         },
         "mode": "markers",
         "name": "ATK",
         "showlegend": true,
         "type": "scattergl",
         "x": {
          "bdata": "bv0ct3HSAMBZk4r+96MBwPKW7hX55+K/xbnFR4P23L/69mdKpZ35v5tdDrm13vm/oUcPLSHl8r9SCccRwxr3v0qMzt9wQOe/3HZoNgrY67/cdmg2Ctjrv8EQG//8wfC/sCRFiWez9r+fajkXsEbyv4oe5oMo+uK/VZkcWZuK3L9G0iK0jgPmv/VMH0jluPC/Q+CevTfeA8Bp5i69RcYCwG3WrtqWR/a/ekSnOsL92j/JbdyyatDgPwYHK7qcJfW/P6Fm79d887/r+ux6I2D1v7Tki9SzLgLAAVY7mRP4/b8FsVpLT/H/vw==",
          "dtype": "f8"
         },
         "xaxis": "x",
         "y": {
          "bdata": "P6ms7MHK9j+MB/K0gsLzPzkbImfc/uA/aOYfhLdEzz+CutzNown6P+9i/DURt/g/FUy76cah7D/uDSwihPryP1+bnXowl9Q/xWYxxnfD3j/FZjHGd8PeP1y1rI3mSu4/EK7ginr9+T9vjMYEzM/wP/JtgMJv6dc/KQuksQHRmL/7NEG60pLeP9BMx4mFqvE/yV+ZvmS78z/F63XfQcX6P2mNHkszFPw/iBHFRW4LAkA5K6CM3VIAQG5u4Q802Po/0qGXnRJn9z901VIAvHX5P5oCU2hBafk/U5F9GR6I8D/yFQ3gHszyPw==",
          "dtype": "f8"
         },
         "yaxis": "y"
        },
        {
         "hovertemplate": "<b>%{hovertext}</b><br><br>Brand=INZONE<br>แกนคุณลักษณะหลักที่ 1 (PC1)=%{x}<br>แกนคุณลักษณะหลักที่ 2 (PC2)=%{y}<extra></extra>",
         "hovertext": [
          "Mouse-A"
         ],
         "legendgroup": "INZONE",
         "marker": {
          "color": "#FECB52",
          "symbol": "circle"
         },
         "mode": "markers",
         "name": "INZONE",
         "showlegend": true,
         "type": "scattergl",
         "x": {
          "bdata": "A7df6Kqi978=",
          "dtype": "f8"
         },
         "xaxis": "x",
         "y": {
          "bdata": "JJAv5qUu8j8=",
          "dtype": "f8"
         },
         "yaxis": "y"
        },
        {
         "hovertemplate": "<b>%{hovertext}</b><br><br>Brand=VAXEE<br>แกนคุณลักษณะหลักที่ 1 (PC1)=%{x}<br>แกนคุณลักษณะหลักที่ 2 (PC2)=%{y}<extra></extra>",
         "hovertext": [
          "ZYGEN NP-01S Ergo",
          "XE v2",
          "ZYGEN NP-01S v2",
          "x Ninjutso Sora 4K",
          "E1 Wireless 4K",
          "XE-S L Wireless 4K",
          "XE-S Wireless 4K",
          "ZYGEN NP-01 Wireless 4K",
          "ZYGEN NP-01S Wireless 4K",
          "XE Wireless 4K",
          "OUTSET AX Wireless 4K",
          "OUTSET AX Wireless",
          "ZYGEN NP-01S Wireless",
          "ZYGEN NP-01S",
          "XE Wireless",
          "XE",
          "OUTSET AX",
          "ZYGEN NP-01"
         ],
         "legendgroup": "VAXEE",
         "marker": {
          "color": "#636efa",
          "symbol": "circle"
         },
         "mode": "markers",
         "name": "VAXEE",
         "showlegend": true,
         "type": "scattergl",
         "x": {
          "bdata": "6wBZQ+xZ1b8E5wYUAVfWv1fj9iagoeC/SucuVLu+5r/bII0hea7yP+aCbZ6gBO6/5oJtnqAE7r94w5EVYmXSP5du4559es+/bwrisZ1/rD9NOxwu5Gv4P4JgLX9sifs/pxNpWew4qr9kSqijcwWYPyTWgPoUBtA/n1H5EZt8oj8BOnmDD6n8P3RYFWcs9+A/",
          "dtype": "f8"
         },
         "xaxis": "x",
         "y": {
          "bdata": "wEoMCOiz4b8u8kF8oePTvxFAvBxeeOS/Aui/bIzX5L9n1Wv4n7jKP4sUVpk7bu6/ixRWmTtu7r9P4GIMVwHnvztKIiv0oO6/7Cg568w16L/WXTCA1v+vv1sKY4iQt9O/xmSog18+87+F2uSc/6D0vx7Us+PLCPC/GLw8ZDCE6L846MyhypDYv0Rzj3l5SfC/",
          "dtype": "f8"
         },
         "yaxis": "y"
        },
        {
         "hovertemplate": "<b>%{hovertext}</b><br><br>Brand=Ausdom<br>แกนคุณลักษณะหลักที่ 1 (PC1)=%{x}<br>แกนคุณลักษณะหลักที่ 2 (PC2)=%{y}<extra></extra>",
         "hovertext": [
          "G04 Ultra",
          "G04 Pro",
          "G04 Air"
         ],
         "legendgroup": "Ausdom",
         "marker": {
          "color": "#EF553B",
          "symbol": "circle"
         },
         "mode": "markers",
         "name": "Ausdom",
         "showlegend": true,
         "type": "scattergl",
         "x": {
          "bdata": "W+g27R25tb8U0D38ukyTP/XiY6RuSN4/",
          "dtype": "f8"
         },
         "xaxis": "x",
         "y": {
          "bdata": "J42jbteA/T+KwFn8tQ/6P1eBI6ae5PA/",
          "dtype": "f8"
         },
         "yaxis": "y"
        },
        {
         "hovertemplate": "<b>%{hovertext}</b><br><br>Brand=Rapoo<br>แกนคุณลักษณะหลักที่ 1 (PC1)=%{x}<br>แกนคุณลักษณะหลักที่ 2 (PC2)=%{y}<extra></extra>",
         "hovertext": [
          "VT2 Max",
          "VT2",
          "VT3S Max Gen-2",
          "VT3S Gen-2",
          "VT3 Max Gen-2",
          "VT3 Gen-2",
          "MT760 Mini",
          "MT760 Pro",
          "MT760",
          "VT7 Max",
          "VT7",
          "VT9 Pro 4K",
          "VT3 Pro Max",
          "VT3 Pro",
          "VT1 Pro Max",
          "VT1 Air Max",
          "VT1 Pro",
          "VT3S (Old)",
          "VT900",
          "VT9 Air",
          "VT9 Pro Mini",
          "VT9 Pro",
          "VT9S",
          "VT960 Pro"
         ],
         "legendgroup": "Rapoo",
         "marker": {
          "color": "#00cc96",
          "symbol": "circle"
         },
         "mode": "markers",
         "name": "Rapoo",
         "showlegend": true,
         "type": "scattergl",
         "x": {
          "bdata": "kFrUg1A6+L+ebWasNvnyv9eIoZ+2BdI/50KtEW5y1j+qjb0QdHLpP7Jqw8nPqOs/Lvgj99iUDkDOKKDCh3oVQBPFSXJNsxVA7BOAt0/l8b9oJf3aIcrwvzIvgeBGjNq/p2TvAoLj4j+vQfW73RnlP1NXzRzm8/m/f8qNNieI/b/PaEpAuNj4vyNEf4dXqs4/ql7eFUgJEEDTxJUMkFf0v5sq6dHlsuu/vDR5OEsszL+1ASwDTwasv+7A6kLXLMu/",
          "dtype": "f8"
         },
         "xaxis": "x",
         "y": {
          "bdata": "nhPNTBiO+z+xC44N2afwP8MOmui3QP4/XIYTR0z1+z+Norgq0RgBQLO86rM25v8/nR3lHUt4E8D1rqcrXSAOwHpFBMGx+Q/AC0wifBCT9D+kw5vapEfyP0+BOJHlKdc/ij1g5fWK+z8jtdlDij/5Pyno+5jK998/homKdCRF6D+JxuESHMrWP2cLMrAOm8S/goBdRhOD1b9hmI51Y5jhPzc251O6Kq0/xQpuYz/JvT8ZzkMYPGiwv0mQFAFSlJO/",
          "dtype": "f8"
         },
         "yaxis": "y"
        },
        {
         "hovertemplate": "<b>%{hovertext}</b><br><br>Brand=Freewolf<br>แกนคุณลักษณะหลักที่ 1 (PC1)=%{x}<br>แกนคุณลักษณะหลักที่ 2 (PC2)=%{y}<extra></extra>",
         "hovertext": [
          "A7",
          "A6"
         ],
         "legendgroup": "Freewolf",
         "marker": {
          "color": "#ab63fa",
          "symbol": "circle"
         },
         "mode": "markers",
         "name": "Freewolf",
         "showlegend": true,
         "type": "scattergl",
         "x": {
          "bdata": "/Dz6pnTQ6z8FW6HR6LDyvw==",
          "dtype": "f8"
         },
         "xaxis": "x",
         "y": {
          "bdata": "X++8yegA4z+97W0dc53bvw==",
          "dtype": "f8"
         },
         "yaxis": "y"
        },
        {
         "hovertemplate": "<b>%{hovertext}</b><br><br>Brand=Microsoft<br>แกนคุณลักษณะหลักที่ 1 (PC1)=%{x}<br>แกนคุณลักษณะหลักที่ 2 (PC2)=%{y}<extra></extra>",
         "hovertext": [
          "Comfort Mouse 4500",
          "Wheel Mouse Optical",
          "Sidewinder X8",
          "Classic IntelliMouse",
          "Pro IntelliMouse"
         ],
         "legendgroup": "Microsoft",
         "marker": {
          "color": "#FFA15A",
          "symbol": "circle"
         },
         "mode": "markers",
         "name": "Microsoft",
         "showlegend": true,
         "type": "scattergl",
         "x": {
          "bdata": "K0Jj8zAC+j9MLWbeos/2P2y5F2tfZxNArOWTC/XtCED8LqL7MMMIQA==",
          "dtype": "f8"
         },
         "xaxis": "x",
         "y": {
          "bdata": "Ss7M2YwWA8DIWKcFaZEXwKUKT3fclem/vdFH+1VSwb/VgDds7BS/Pw==",
          "dtype": "f8"
         },
         "yaxis": "y"
        },
        {
         "hovertemplate": "<b>%{hovertext}</b><br><br>Brand=HyperX<br>แกนคุณลักษณะหลักที่ 1 (PC1)=%{x}<br>แกนคุณลักษณะหลักที่ 2 (PC2)=%{y}<extra></extra>",
         "hovertext": [
          "Pulsefire Fuse",
          "Pulsefire Haste 2 S",
          "Pulsefire Saga Pro",
          "Pulsefire Haste 2 Pro",
          "Pulsefire Warp",
          "Pulsefire Haste 2 Core Wireless",
          "Pulsefire Surge",
          "Pulsefire Haste 2 Mini",
          "Pulsefire Haste 2 Wireless",
          "Pulsefire Haste 2 Wired",
          "Pulsefire Raid",
          "Pulsefire Dart",
          "Pulsefire FPS Pro",
          "Pulsefire Core",
          "Pulsefire Haste",
          "Pulsefire Haste Wireless"
         ],
         "legendgroup": "HyperX",
         "marker": {
          "color": "#19d3f3",
          "symbol": "circle"
         },
         "mode": "markers",
         "name": "HyperX",
         "showlegend": true,
         "type": "scattergl",
         "x": {
          "bdata": "IF+JzHvimz/4JMWfGxXav9YccmjMnO8/0FNxzY5R5r+zvW4hKj/Sv6qvDGfjArK/eMiMpbrJ2j84iAuFVtr0v2YJTyt+FuC/Gf07Lhhc8r9uyVC9L40IQFYjPFcnhgtActYL/ZRwBUCEPUWuFdHXPxv9Nucpo9a/G/025ymj1r8=",
          "dtype": "f8"
         },
         "xaxis": "x",
         "y": {
          "bdata": "v7TKG4Xi5L9+MzFzfcTAPytcMj3GYOQ/m0dLHpHP3j8qcyA7kEzpvyuLGMhgc96/f4AqWw4y9b8beSBUjszcv/aR3Mv2L84/D6nchfRL8D+xCJIy73HdP93gNR1itMk/48yZ+HJ7zz9DKZL0o/DzvwN99vgms7i/A332+CazuL8=",
          "dtype": "f8"
         },
         "yaxis": "y"
        },
        {
         "hovertemplate": "<b>%{hovertext}</b><br><br>Brand=Darmoshark<br>แกนคุณลักษณะหลักที่ 1 (PC1)=%{x}<br>แกนคุณลักษณะหลักที่ 2 (PC2)=%{y}<extra></extra>",
         "hovertext": [
          "M2 Air",
          "M5 Air",
          "N3 Pro",
          "M3 Micro Pro",
          "N7 Max",
          "N7",
          "M3 XS Pro",
          "M2 Pro",
          "M3S MAX",
          "M5 Pro",
          "M3 Pro Max",
          "N5",
          "M3 XS",
          "M2",
          "M5",
          "M3 Micro",
          "M3S Pro",
          "M3 Pro",
          "M3S",
          "M3 4K",
          "N3",
          "M3"
         ],
         "legendgroup": "Darmoshark",
         "marker": {
          "color": "#FF6692",
          "symbol": "circle"
         },
         "mode": "markers",
         "name": "Darmoshark",
         "showlegend": true,
         "type": "scattergl",
         "x": {
          "bdata": "V9k3wZ5TBMCunrEX+6MOwEcd77LVreI/zBoXfj9zC8AJjPpkUXfOPyF5m67nOdU/SoffaNI9A8DTz3kOWA0EwGd1SFBVVfq/0LwVVgL/DMBwC/vquSzvvzq3knvDfuI/5aGSRIucAMCfymxSCKEBwGrXyDG7XQrAiqPVj6jlCsBKitCvnkn0v31U14DRaeK/JhzFee418r/UAjHpAYPUv4nO0+p18+4/s62gd0oJ2L8=",
          "dtype": "f8"
         },
         "xaxis": "x",
         "y": {
          "bdata": "iCIXy8dQ5T+dZbtG/GnBv2wvZSGKSvQ/pjiTT1IM1b8frb8e9yD+PxqOw5Qcg/w/6KhebGzg4T/r/cJJkujlP0QgVChdaOs/BxoiaESC2r+884E4IOX2P/QDr+HQvPg/HMicyIp5tj+E7UCeaVzPP+ccXEddUuy/RVqt1QA63r9zI/uXXBfVP0j+cNv/T+w/wUh6j/E5xT+uAo8Gsa7kP9MJv2F4t+g/dCUKccip5D8=",
          "dtype": "f8"
         },
         "yaxis": "y"
        },
        {
         "hovertemplate": "<b>%{hovertext}</b><br><br>Brand=Flickshot<br>แกนคุณลักษณะหลักที่ 1 (PC1)=%{x}<br>แกนคุณลักษณะหลักที่ 2 (PC2)=%{y}<extra></extra>",
         "hovertext": [
          "One Pro"
         ],
         "legendgroup": "Flickshot",
         "marker": {
          "color": "#B6E880",
          "symbol": "circle"
         },
         "mode": "markers",
         "name": "Flickshot",
         "showlegend": true,
         "type": "scattergl",
         "x": {
          "bdata": "8OrL6g45AcA=",
          "dtype": "f8"
         },
         "xaxis": "x",
         "y": {
          "bdata": "EPBB6FW19D8=",
          "dtype": "f8"
         },
         "yaxis": "y"
        },
        {
         "hovertemplate": "<b>%{hovertext}</b><br><br>Brand=Keychron<br>แกนคุณลักษณะหลักที่ 1 (PC1)=%{x}<br>แกนคุณลักษณะหลักที่ 2 (PC2)=%{y}<extra></extra>",
         "hovertext": [
          "M6 8K",
          "M6 Lite",
          "M4 8K",
          "M3 8K",
          "M3 Lite",
          "M2 8K",
          "M2 4K",
          "M6 4K",
          "M3 Mini 8K",
          "M5",
          "M7 8K",
          "Lemokey G2",
          "Lemokey G1",
          "M7",
          "M4",
          "M4 4K",
          "M6",
          "M3 Mini 4K - Metal Edition",
          "M2 Mini",
          "M3 Mini 4K",
          "M3 4K",
          "M3",
          "M2",
          "M1 Wireless",
          "M1 Wired",
          "M3 Mini"
         ],
         "legendgroup": "Keychron",
         "marker": {
          "color": "#FF97FF",
          "symbol": "circle"
         },
         "mode": "markers",
         "name": "Keychron",
         "showlegend": true,
         "type": "scattergl",
         "x": {
          "bdata": "xcRcK4gXBkArXhe6IzcMQHqwYnWWhxHAtGZgHoopyr/vS1KzC/ThP6ecPmQUEtQ/6eNSwyaO5D84FlGYWVwHQKZaV8rqoPW/ihVbCizIGEA9aknEwTn9P0lzmbT9RPy/NOJDk0nM/b8fLfou7MwCQPPo750h3w7Axz084/I2EMDTqNnAHesIQN9fu9mxyem/WWrKz+7/wT/aj72BXF7wv0ff20zQ1b8/pox7V5Vr1D9ULnVlN8nqPyvN9k5Jx8E/H7nj8vWAqz9K1VhhqIHqvw==",
          "dtype": "f8"
         },
         "xaxis": "x",
         "y": {
          "bdata": "kiTmLtFcAkAcpLiwJjvxP8yFy9p0//C/OMoSAJo76j+k/yi0uoLZvx9v9OZVi/s/LOdOXbgC9D+FIqi9B8L/Px55cLj+0ew/bACjjfxvEUBww+zt1dsBQG60iFuFreY/mW4onlm/4D9EvxzkKEH4P2ZNiNL3dfy/vg1xZBKI+L/d4pBPItT7P9DWLkE25sc/O8Rz9Axb4T900kpKh4HbP6Z0j9m9VNY/JdjJhKB0uj+Epzfv0hTwPwHipODrY4y/ZzxiF5nkt7+op9sj45PHPw==",
          "dtype": "f8"
         },
         "yaxis": "y"
        },
        {
         "hovertemplate": "<b>%{hovertext}</b><br><br>Brand=Endgame<br>แกนคุณลักษณะหลักที่ 1 (PC1)=%{x}<br>แกนคุณลักษณะหลักที่ 2 (PC2)=%{y}<extra></extra>",
         "hovertext": [
          "Gear XM2w 4k v2",
          "Gear XM2 8k v2",
          "Gear OP1 8k v2",
          "Gear OP1w 4k v2",
          "Gear OP1w 4k",
          "Gear XM2w 4k",
          "Gear XM2 8k",
          "Gear OP1 8k",
          "Gear OP1 8k Purple",
          "Gear OP1we",
          "Gear OP1 RGB",
          "Gear OP1",
          "Gear XM2we",
          "Gear XM2w",
          "Gear XM1",
          "Gear XM1 RGB",
          "Gear XM1r"
         ],
         "legendgroup": "Endgame",
         "marker": {
          "color": "#FECB52",
          "symbol": "circle"
         },
         "mode": "markers",
         "name": "Endgame",
         "showlegend": true,
         "type": "scattergl",
         "x": {
          "bdata": "WyKrtQX/6r84RLSlM331v8w9ABJ1lgDAqtIz7SNf+b8m5LAQ9kP4v9qv979uZui/9oraKugw9L9zPaLb6an/v/uVEtyLYgDAip26fd02879X7J6yLv33v/c7eh4BZfi/XO9fQY4P2797Onqk52bhv/aUtREU/8m/d/HEXkWutT8HlmOeE1HQvw==",
          "dtype": "f8"
         },
         "xaxis": "x",
         "y": {
          "bdata": "fkHLNGXm3j/YbE0/WTrxP8GUpwsP+eI/AsnC/Utncb+EWSJsl+bCv+JmGBNn3tQ/YmzBbbNw7T9k5XPwcNnaP4EDR7uPA+I/HPONbGmd5L/Fc0wS1nvHv8ouytDYpcO/EYlHjn47yb9Xsk8ckZGrP497Ea5ccN+/nGkxounz6b9W4n3JGY7Yvw==",
          "dtype": "f8"
         },
         "yaxis": "y"
        },
        {
         "hovertemplate": "<b>%{hovertext}</b><br><br>Brand=AULA<br>แกนคุณลักษณะหลักที่ 1 (PC1)=%{x}<br>แกนคุณลักษณะหลักที่ 2 (PC2)=%{y}<extra></extra>",
         "hovertext": [
          "SC360",
          "SC900 Pro",
          "SC900 Max",
          "SC620",
          "SC800",
          "SC580",
          "SC680"
         ],
         "legendgroup": "AULA",
         "marker": {
          "color": "#636efa",
          "symbol": "circle"
         },
         "mode": "markers",
         "name": "AULA",
         "showlegend": true,
         "type": "scattergl",
         "x": {
          "bdata": "rZqivMMg6b+EwCMQvEnzPwDSoDOOLvI/glHLyjWL8j9VvYbsM1j7v+l7hoLxLtC/Lh/6Z+Uw9L8=",
          "dtype": "f8"
         },
         "xaxis": "x",
         "y": {
          "bdata": "srtHsOb62b9zAdT97nz+P+5ErU8tZABA9It7EolioL/5mTUe9dPWP1QIFFPxMPe/3Ly6x0MH5z8=",
          "dtype": "f8"
         },
         "yaxis": "y"
        },
        {
         "hovertemplate": "<b>%{hovertext}</b><br><br>Brand=Incott<br>แกนคุณลักษณะหลักที่ 1 (PC1)=%{x}<br>แกนคุณลักษณะหลักที่ 2 (PC2)=%{y}<extra></extra>",
         "hovertext": [
          "039 Pro",
          "39",
          "039 SC",
          "029 Pro",
          "29",
          "029 SC",
          "G23 V2 Pro",
          "G23 V2",
          "G23 V2 SC",
          "G24 Pro",
          "G24",
          "G23 Pro",
          "G23",
          "GHERO Pro",
          "GHERO"
         ],
         "legendgroup": "Incott",
         "marker": {
          "color": "#EF553B",
          "symbol": "circle"
         },
         "mode": "markers",
         "name": "Incott",
         "showlegend": true,
         "type": "scattergl",
         "x": {
          "bdata": "D3w861mU878bUVFCPWrkv68rMII+KeW/LrPM9D3uAsB6+tNRq8r9v3r601Gryv2/aPyzIx9a9L+/bY099MP0v7aFJPs0JfW/qA58OZ8c5T88twqIhKTqP1qrW8CALvO/Y0UU7YWi4L8WWx7SVTDnv6Ln886p1eu/",
          "dtype": "f8"
         },
         "xaxis": "x",
         "y": {
          "bdata": "ObbWZm0w/z/dRKTqTCrwPyeHYhTSkPA/D8Itgp1V+D+fdkO6NurlP592Q7o26uU/evAFaLIJ9D+Qy3O2YWnzP2/kcHIo1PM/UkGdJVMSAEChLWo3GWj6P8YT572nzfY/DmXuasq12D8Xn6xWoVbnP2tqMa4mjuw/",
          "dtype": "f8"
         },
         "yaxis": "y"
        },
        {
         "hovertemplate": "<b>%{hovertext}</b><br><br>Brand=Razer<br>แกนคุณลักษณะหลักที่ 1 (PC1)=%{x}<br>แกนคุณลักษณะหลักที่ 2 (PC2)=%{y}<extra></extra>",
         "hovertext": [
          "DeathAdder V4 Pro",
          "Cobra HyperSpeed",
          "Pro Click V2",
          "Basilisk Mobile",
          "Pro Click V2 Vertical",
          "Imperator",
          "Abyssus Essential",
          "Basilisk V3 Pro 35K",
          "Basilisk V3 35K",
          "Viper Ultimate",
          "Pro Click",
          "DeathAdder V3 HyperSpeed",
          "DeathAdder Elite",
          "DeathAdder Chroma",
          "DeathAdder Expert",
          "Atheris",
          "Ouroboros",
          "Viper V3 Pro",
          "Pro Click Mini",
          "Naga Left-Handed",
          "Naga Trinity",
          "Mamba Wireless",
          "Mamba Elite",
          "Naga X",
          "Viper V3 HyperSpeed",
          "Naga Pro",
          "Viper 8KHz",
          "Viper",
          "Copperhead",
          "Viper V2 Pro",
          "DeathAdder Essential",
          "Cobra Pro",
          "Cobra",
          "DeathAdder V2 Mini",
          "DeathAdder V2 X HyperSpeed",
          "DeathAdder V2",
          "Basilisk V3 X HyperSpeed",
          "Naga V2 HyperSpeed",
          "Naga V2 Pro",
          "Basilisk Essential",
          "DeathAdder V3",
          "Basilisk V3",
          "Lancehead Wireless",
          "Lancehead",
          "Viper Mini Signature Edition",
          "Abyssus 2014",
          "Basilisk Ultimate",
          "Diamondback 2015",
          "Basilisk V2",
          "Krait 2013",
          "Basilisk X HyperSpeed",
          "Basilisk",
          "Basilisk V3 Pro",
          "DeathAdder V3 Pro",
          "Viper Mini",
          "DeathAdder V2 Pro",
          "Orochi V2"
         ],
         "legendgroup": "Razer",
         "marker": {
          "color": "#00cc96",
          "symbol": "circle"
         },
         "mode": "markers",
         "name": "Razer",
         "showlegend": true,
         "type": "scattergl",
         "x": {
          "bdata": "A0QE5h5E6j8beWop1ZP2v2hPY31X5QpAwEYAMVueAEAsFG0uqdQeQN6vSldKaA1AZPRwH2qp2j+1csSCdUMKQHVJY/tfVAhA7m3xMhyYs78GmgiGGMkPQJtWuBgXw9c/GU0rZsT6BkD7f43LJs8HQOkEYgiVTghA45APXxW597/9xitXDBX+P16VFMjZb/O/cZaO5koi7r9gOgDNk9kQQASv5UHDHxJAKxV1zX3mBUC+8q8eEOgDQFMgO4+Enw1ABWCe6U/Gib9ikqbiUJMRQF41Nd5PRuO/gAyQT9IxwL+MjEz3f20DQPo3sspfpem/rvNC3HCwBkCRtmj9jDLrvw+VLkjSGei/Cf5KmLw64T/lBH7Th+UGQMypKAfRSgJAJANJDTNDDECSlpZ6GMcNQFQ41gYGbRJAoIL8W9EuCkCAdObBWFvyP8mVdpPzkglAJgrrnyZt6D/ILDRl5cPtP0KmD0PHcvy/dq+jp50+2b/mxw23YXULQJsGqksBKr+/1EmJW0TSCEDDa8+7GSP1v/UoD8NEpgZAuGgZIzySCEDHR5YscvQKQOs5iNx/yvM/wHfIBjoD5b9JtZIk6V4DQAG2zk0oKvK/",
          "dtype": "f8"
         },
         "xaxis": "x",
         "y": {
          "bdata": "D8vMj7hwBkAkrfYzMjvVPyzih9M8H/0/mMMGbZX81D+5Bz1duEsOQDKIZNQlZ/W/DWM/uWuQGcDH//rEmBjvP6ogCN1CYfM/coJfL1Wx1L8DNdttsWnqP1gWf844Zfg/z9JllJYrhD+tBwgpUkbKv05VaMDfZdW/lSiUwgzNAsBVBFJHWLEAwJa9bFN9q/Y/PcJfJc9vB8BzTHLd0IblP0XmkO/DWtE/oaDXSw3twb9hM8mUMB++PzqOLJWGoPI/lp7sZJhMrb/1XUZx3AnfP0AEejPkBdU/4Ggj+pR31b8oyMMB4YMXwOXAIIVgl+U/zZQ2nvNVwL8P3Zaoz9XRv1ZcovkOKei/nocD/TFa47/p/P3hWk2QvwU2CKc5z+U/tcJrQHn42T8Gtb7Sm8H1P8Z0F4QNdNw/DUF1mD0ywz+ZZL7rEpcBQIHbMmMhb+w/W8mr5ilB9r/A2Vfg7DL5v9xzx6QLDew/3MDMfgFN/L9FBwhWul7hPz8bQz8hZfS/1xqCuxTS6z/cHBKGcj8HwNJUXft/z+o/lZjre3loxb/DqiqxC1zpP/8wJnoY3ABARw8CZ0rI6b9lMplWQmbhP6/vAq291fS/",
          "dtype": "f8"
         },
         "yaxis": "y"
        },
        {
         "hovertemplate": "<b>%{hovertext}</b><br><br>Brand=Ninjutso<br>แกนคุณลักษณะหลักที่ 1 (PC1)=%{x}<br>แกนคุณลักษณะหลักที่ 2 (PC2)=%{y}<extra></extra>",
         "hovertext": [
          "Ten Air",
          "Ten",
          "Sora V2",
          "Sora 4K",
          "Sora",
          "Origin One X",
          "Katana Ultralight",
          "Katana Superlight"
         ],
         "legendgroup": "Ninjutso",
         "marker": {
          "color": "#ab63fa",
          "symbol": "circle"
         },
         "mode": "markers",
         "name": "Ninjutso",
         "showlegend": true,
         "type": "scattergl",
         "x": {
          "bdata": "g5pVwT5p+L+FcZjin1f1v5xNDZ7Z8QHAXJy/11Bj9r8DN2Xqudf0v+pQcaUSguk/D6JXEJ0p6b90ZiFAGELpvw==",
          "dtype": "f8"
         },
         "xaxis": "x",
         "y": {
          "bdata": "tGe4ddSu9D9nATaMJUbxPyp5Aud3/uk/BINE0lMQ4D+r24U5QpPXP//U/BjmB+a/dVza7J200r/xXie6zL7Ovw==",
          "dtype": "f8"
         },
         "yaxis": "y"
        },
        {
         "hovertemplate": "<b>%{hovertext}</b><br><br>Brand=ASUS<br>แกนคุณลักษณะหลักที่ 1 (PC1)=%{x}<br>แกนคุณลักษณะหลักที่ 2 (PC2)=%{y}<extra></extra>",
         "hovertext": [
          "ROG Keris II Origin",
          "ROG Harpe II Ace",
          "ROG Gladius II Wireless",
          "ROG Harpe Ace Mini",
          "ROG Harpe Ace Extreme",
          "ProArt MD300",
          "TUF Gaming M3 Gen II",
          "TUF Gaming M3",
          "ROG Keris II Ace",
          "ROG Strix Impact III Wireless",
          "ROG Pugio",
          "ROG Strix Impact III",
          "ROG Harpe Ace",
          "ROG Spatha",
          "TUF M4 Air",
          "TUF M4 Wireless",
          "ROG Sica",
          "ROG Strix Carry",
          "ROG Strix Evolve",
          "ROG Strix Impact",
          "ROG Gladius II Origin",
          "ROG Gladius II",
          "ROG Gladius II Core",
          "ROG Keris",
          "ROG Keris Wireless",
          "ROG Strix Impact II",
          "ROG Strix Impact II Wireless",
          "ROG Gladius III",
          "ROG Gladius III Wireless",
          "ROG Spatha X",
          "ROG Chakram Core",
          "ROG Chakram",
          "ROG Chakram X"
         ],
         "legendgroup": "ASUS",
         "marker": {
          "color": "#FFA15A",
          "symbol": "circle"
         },
         "mode": "markers",
         "name": "ASUS",
         "showlegend": true,
         "type": "scattergl",
         "x": {
          "bdata": "CjKnUAfj4D87T58X+4v4vz5n82/R0wNA/V7XCS5PAcDSL3DGx4P4v44fuZDTVw9AYHrkehg+9j++K7EsnST9P8VPDaQdadE//cxhGKl36r8eC0ING0LpPwnHM8WEpOC/J0tzgBHe6b8fEFU88CMcQNqt9VyPZua/joA8sdoJ0z+NHDPbSwLbv0i9JFNi4ss/Yg7h7xBK7T9fxDYBMC3hP0Ec3leD+QdAizVKQQgeCUAW+7l2urgFQDuFTZALDvA/O4VNkAsO8D8aFZztFl7Gv83tP4ylbUo/IcVd9F3b/j/azZ0QMD4BQH621+dApxtAdnBHb5fPDECEgANm/pAQQMKK+yxwVBFA",
          "dtype": "f8"
         },
         "xaxis": "x",
         "y": {
          "bdata": "CR4CIyOG/z+Z32HWP0P8PzC5ih/KnNc/BeeG4x6G8T8q8upUnUD9Pykcqmj6MBbAu0SPbV7A0T8gOir941fjv0wLppDt8gFAo/XYxN8Atr++SZeC7Zb6v5ZnD4k0fNW/qjuCiTF66z8EN8RZkjHnP078sl4dXtA/ifdiZ4Mf7b8UEUGYxm3/vx11ugVYCv6/9+QPzOLv879iRJa/eJ8EwAGfUJeM5s2/BGhmr70iw7/GEZX0TUKqv4KRpVnebOO/gpGlWd5s479uu3qxvUj2v7We7c0x/fa/8Ee3sxrt6T+Dv9S0NmniP7aYxbOFe/A/ohrT0Zzw7D+J8oBT+njYP1bedo8p9fM/",
          "dtype": "f8"
         },
         "yaxis": "y"
        },
        {
         "hovertemplate": "<b>%{hovertext}</b><br><br>Brand=Finalmouse<br>แกนคุณลักษณะหลักที่ 1 (PC1)=%{x}<br>แกนคุณลักษณะหลักที่ 2 (PC2)=%{y}<extra></extra>",
         "hovertext": [
          "ULX Pro Series Tiger (L)",
          "ULX Pro Series Lion (M)",
          "ULX Pro Series Cheetah (S)",
          "ULX Prophecy Small",
          "ULX Prophecy Medium",
          "ULX Prophecy Classic",
          "ULX Competition Small",
          "ULX Competition Medium",
          "ULX Competition Classic",
          "UltralightX Cheetah (S)",
          "UltralightX Lion (M)",
          "UltralightX Tiger (L)",
          "Starlight-12 Small",
          "Starlight-12 Medium",
          "Ultralight 2",
          "Scream One",
          "Ultralight Pro Sunset",
          "Ultralight Pro",
          "Ultralight Phantom",
          "Air58"
         ],
         "legendgroup": "Finalmouse",
         "marker": {
          "color": "#19d3f3",
          "symbol": "circle"
         },
         "mode": "markers",
         "name": "Finalmouse",
         "showlegend": true,
         "type": "scattergl",
         "x": {
          "bdata": "o7Z7ofuV87+HfdcXSZL9v8HbHtFHnwPA7zNWnO0zA8Dc6/7OG8b8v7nQixc8NPO/7zNWnO0zA8Dc6/7OG8b8v7nQixc8NPO/wdse0UefA8CyNGtzMiz9v6O2e6H7lfO/K95mwZUf/79VJyAiCeH0v1yQcD8ycfe/dcS1YUEI3j/jSd1as8bBP+NJ3VqzxsE/40ndWrPGwT9+T/xif9Gyvw==",
          "dtype": "f8"
         },
         "xaxis": "x",
         "y": {
          "bdata": "vmTjwr3a5j9r0YRDRBDYP4/4OPC+WpU/5kn5Eusnpr9MymQ4/1vUP9b2fK/HAuY/5kn5Eusnpr9MymQ4/1vUP9b2fK/HAuY/j/g48L5alT/bzfS9ITbWP75k48K92uY/CcBOrmm02r9P0PqJu+u1vzyk1hjqC/S/x6jwqg4c8L9qMPwsz7Lkv2ow/CzPsuS/ajD8LM+y5L8V7RqTp5Xavw==",
          "dtype": "f8"
         },
         "yaxis": "y"
        },
        {
         "hovertemplate": "<b>%{hovertext}</b><br><br>Brand=Rampage<br>แกนคุณลักษณะหลักที่ 1 (PC1)=%{x}<br>แกนคุณลักษณะหลักที่ 2 (PC2)=%{y}<extra></extra>",
         "hovertext": [
          "Blitz Ultimate",
          "Zenith Pro",
          "Prote M5"
         ],
         "legendgroup": "Rampage",
         "marker": {
          "color": "#FF6692",
          "symbol": "circle"
         },
         "mode": "markers",
         "name": "Rampage",
         "showlegend": true,
         "type": "scattergl",
         "x": {
          "bdata": "lggDoaoKwr+u2gPfzBvpv6/7Z1n9k+6/",
          "dtype": "f8"
         },
         "xaxis": "x",
         "y": {
          "bdata": "fcFnzQyM9D9x5n0C7ybNPwvMgZOG2bu/",
          "dtype": "f8"
         },
         "yaxis": "y"
        },
        {
         "hovertemplate": "<b>%{hovertext}</b><br><br>Brand=Kysona<br>แกนคุณลักษณะหลักที่ 1 (PC1)=%{x}<br>แกนคุณลักษณะหลักที่ 2 (PC2)=%{y}<extra></extra>",
         "hovertext": [
          "Mercury Ultra",
          "Mercury Pro",
          "Mercury SE",
          "Jupiter Ultra",
          "Jupiter Pro",
          "Jupiter SE",
          "M660",
          "M600 V2",
          "Uranus Pro",
          "Uranus SE",
          "Mars SE",
          "M617",
          "M511",
          "Aztec",
          "M600"
         ],
         "legendgroup": "Kysona",
         "marker": {
          "color": "#B6E880",
          "symbol": "circle"
         },
         "mode": "markers",
         "name": "Kysona",
         "showlegend": true,
         "type": "scattergl",
         "x": {
          "bdata": "vtRQIbo3AMD3uh5mRlT/v1aOivhM5/e/lyOT/kTI878kAYo9vF7xv1U1kuPydea/mGRWLurw57++C131SXnxvzkTJW3cXNM/zsCGUQCc6z9ZwtefO1bzP+uUrbeKG/S/Xl+Tm2Wa2z++C131SXnxv74LXfVJefG/",
          "dtype": "f8"
         },
         "xaxis": "x",
         "y": {
          "bdata": "gcZNlRJm8D8zfI7nTTXsPyIfHU8N/NA/xCzi2y1g9z936pIzuh3zP5u3yVw8WeY/8GuXm7Y/4b8eA0NYd0J8PzJeai46B/Y/GDlQYKDp5D/VaxE0VifxP1Xgp50IWOg/kHCa2gJm4D8eA0NYd0J8Px4DQ1h3Qnw/",
          "dtype": "f8"
         },
         "yaxis": "y"
        },
        {
         "hovertemplate": "<b>%{hovertext}</b><br><br>Brand=Epomaker<br>แกนคุณลักษณะหลักที่ 1 (PC1)=%{x}<br>แกนคุณลักษณะหลักที่ 2 (PC2)=%{y}<extra></extra>",
         "hovertext": [
          "Click Lite",
          "Click"
         ],
         "legendgroup": "Epomaker",
         "marker": {
          "color": "#FF97FF",
          "symbol": "circle"
         },
         "mode": "markers",
         "name": "Epomaker",
         "showlegend": true,
         "type": "scattergl",
         "x": {
          "bdata": "1phUnbXb6b9PbklBr5D5vw==",
          "dtype": "f8"
         },
         "xaxis": "x",
         "y": {
          "bdata": "WmCmZeJrrL/jNfZeoQvzPw==",
          "dtype": "f8"
         },
         "yaxis": "y"
        },
        {
         "hovertemplate": "<b>%{hovertext}</b><br><br>Brand=Lofree<br>แกนคุณลักษณะหลักที่ 1 (PC1)=%{x}<br>แกนคุณลักษณะหลักที่ 2 (PC2)=%{y}<extra></extra>",
         "hovertext": [
          "Touch",
          "Hypace"
         ],
         "legendgroup": "Lofree",
         "marker": {
          "color": "#FECB52",
          "symbol": "circle"
         },
         "mode": "markers",
         "name": "Lofree",
         "showlegend": true,
         "type": "scattergl",
         "x": {
          "bdata": "+uXe2faLAkC1WOgXgmf/vw==",
          "dtype": "f8"
         },
         "xaxis": "x",
         "y": {
          "bdata": "cO9nSG8z+L/zEUQaRir1Pw==",
          "dtype": "f8"
         },
         "yaxis": "y"
        },
        {
         "hovertemplate": "<b>%{hovertext}</b><br><br>Brand=SteelSeries<br>แกนคุณลักษณะหลักที่ 1 (PC1)=%{x}<br>แกนคุณลักษณะหลักที่ 2 (PC2)=%{y}<extra></extra>",
         "hovertext": [
          "Kinzu V2 Pro",
          "Rival 3 Gen 2 Wireless",
          "Rival 3 Gen 2",
          "Kinzu V2",
          "Kana V2",
          "Rival 710",
          "Rival 300S",
          "Rival 500",
          "Sensei 310",
          "Rival 110",
          "Kinzu V3",
          "Rival 300",
          "Aerox 9 Wireless",
          "Aerox 5",
          "Aerox 5 Wireless",
          "Prime Mini",
          "Prime Mini Wireless",
          "Prime",
          "Prime+",
          "Prime Wireless",
          "Aerox 3",
          "Rival 3",
          "Rival 3 Wireless",
          "Rival 5",
          "Aerox 3 Wireless",
          "Rival 600",
          "Rival 650 Wireless",
          "Sensei Ten",
          "Rival 310"
         ],
         "legendgroup": "SteelSeries",
         "marker": {
          "color": "#636efa",
          "symbol": "circle"
         },
         "mode": "markers",
         "name": "SteelSeries",
         "showlegend": true,
         "type": "scattergl",
         "x": {
          "bdata": "cBCF2cbJ27/nqGkpW1mxPw+wtsJCWLM/cBCF2cbJ27/nYz/1C3jHP8D8NWMqVg9Am3V6knmTCkAmPgOgBHsRQGLYAW9ZEOw/wiBVclWC3D8g5YpDUHrnvyne7SqhIRBAYbfFQAgrDkCHlE1eHNwAQBz2axgpTwJAp0BDMQNt8T9v2ZSAGvb1PzpDUEoXMvw/1ekD8Art/D/JK9asKRsAQEk0pXoF4ta/D7C2wkJYsz9wov5LLZbXP3biDht9kP8/B57XEy6I07+2p9wA69cHQOUZKHpATgxAWYM2svzo4z+Dxl98GywEQA==",
          "dtype": "f8"
         },
         "xaxis": "x",
         "y": {
          "bdata": "RXAQOExw/b9Z+sGaJ9rqv5xcAU2MFfC/RXAQOExw/b8jgR0i6in4vxkt1mlXBeW/5oWrvaPP1j+WsJd9lDanvyLxmWpAkui/9lygIA1z9L/wFfAExKv/v6piXXSwrta/S/K28otX8z+FDQ7AeDDxPwZGzUQ3Y+w/um7iEa623D/DRmTBctbBPxUztXkrfeY/pR0/lMz25D9jelcXQzTcP/4pG9UEteC/nFwBTYwV8L+SuYbjaMvyv1eV2nigK88/YdOf8J4T278oIRa/DdXTP4lnM3U+TtC/mF5L+aPF5L9rQOB5JP3LPw==",
          "dtype": "f8"
         },
         "yaxis": "y"
        },
        {
         "hovertemplate": "<b>%{hovertext}</b><br><br>Brand=SyLical<br>แกนคุณลักษณะหลักที่ 1 (PC1)=%{x}<br>แกนคุณลักษณะหลักที่ 2 (PC2)=%{y}<extra></extra>",
         "hovertext": [
          "HELIX"
         ],
         "legendgroup": "SyLical",
         "marker": {
          "color": "#EF553B",
          "symbol": "circle"
         },
         "mode": "markers",
         "name": "SyLical",
         "showlegend": true,
         "type": "scattergl",
         "x": {
          "bdata": "W9o/jd7dAcA=",
          "dtype": "f8"
         },
         "xaxis": "x",
         "y": {
          "bdata": "jEbLZWG17z8=",
          "dtype": "f8"
         },
         "yaxis": "y"
        },
        {
         "hovertemplate": "<b>%{hovertext}</b><br><br>Brand=VXE<br>แกนคุณลักษณะหลักที่ 1 (PC1)=%{x}<br>แกนคุณลักษณะหลักที่ 2 (PC2)=%{y}<extra></extra>",
         "hovertext": [
          "R1 SE+",
          "R1 Nearlink",
          "MAD R Major",
          "MAD R",
          "R1 Pro Max",
          "R1 Pro",
          "R1 SE",
          "R1"
         ],
         "legendgroup": "VXE",
         "marker": {
          "color": "#00cc96",
          "symbol": "circle"
         },
         "mode": "markers",
         "name": "VXE",
         "showlegend": true,
         "type": "scattergl",
         "x": {
          "bdata": "M9fh26Th7b9VedchV1/tv6P5LPl0dADAwgTXFbzN/7/WegL8Np/zvz4TBLZK+fW/3vvx6TSC8L/m2PeikLjyvw==",
          "dtype": "f8"
         },
         "xaxis": "x",
         "y": {
          "bdata": "sI8sh3JOxL+Z2+nnE6THv+UNQS7bJvQ/f4W6jG/b8T9AJ7w0uHfUPwc0/dvbLt8/fqWsoLYTqL8bXT1wzLHOPw==",
          "dtype": "f8"
         },
         "yaxis": "y"
        },
        {
         "hovertemplate": "<b>%{hovertext}</b><br><br>Brand=VGN<br>แกนคุณลักษณะหลักที่ 1 (PC1)=%{x}<br>แกนคุณลักษณะหลักที่ 2 (PC2)=%{y}<extra></extra>",
         "hovertext": [
          "R1 SE+",
          "R1 Nearlink",
          "Y2 Ultra",
          "Y2 Pro",
          "R1 Pro Max",
          "R1 Pro",
          "R1 SE",
          "R1",
          "Dragonfly F1 MOBA",
          "Dragonfly F1 Pro Max",
          "Dragonfly F1 Pro",
          "Dragonfly F1"
         ],
         "legendgroup": "VGN",
         "marker": {
          "color": "#ab63fa",
          "symbol": "circle"
         },
         "mode": "markers",
         "name": "VGN",
         "showlegend": true,
         "type": "scattergl",
         "x": {
          "bdata": "M9fh26Th7b9VedchV1/tv7PREskd//m/MBpCWZzy97/WegL8Np/zvz4TBLZK+fW/3vvx6TSC8L/m2PeikLjyv7JK6yZSb/O/skrrJlJv87/M1fbUJcr1v5ew5YOdrPK/",
          "dtype": "f8"
         },
         "xaxis": "x",
         "y": {
          "bdata": "sI8sh3JOxL+Z2+nnE6THv8Q58Vjypfs/98le///D9z9AJ7w0uHfUPwc0/dvbLt8/fqWsoLYTqL8bXT1wzLHOP5sNetmhZ9I/mw162aFn0j8pMe1mECbdPxBlIF313Mo/",
          "dtype": "f8"
         },
         "yaxis": "y"
        },
        {
         "hovertemplate": "<b>%{hovertext}</b><br><br>Brand=Motospeed<br>แกนคุณลักษณะหลักที่ 1 (PC1)=%{x}<br>แกนคุณลักษณะหลักที่ 2 (PC2)=%{y}<extra></extra>",
         "hovertext": [
          "X1",
          "X6 Max",
          "X6"
         ],
         "legendgroup": "Motospeed",
         "marker": {
          "color": "#FFA15A",
          "symbol": "circle"
         },
         "mode": "markers",
         "name": "Motospeed",
         "showlegend": true,
         "type": "scattergl",
         "x": {
          "bdata": "28/tk9mr9r+YA2/H8Cv6v1+8XKby5/e/",
          "dtype": "f8"
         },
         "xaxis": "x",
         "y": {
          "bdata": "60XY6Fw23j/d1tm94czzP1H01H/XNPA/",
          "dtype": "f8"
         },
         "yaxis": "y"
        },
        {
         "hovertemplate": "<b>%{hovertext}</b><br><br>Brand=Dareu<br>แกนคุณลักษณะหลักที่ 1 (PC1)=%{x}<br>แกนคุณลักษณะหลักที่ 2 (PC2)=%{y}<extra></extra>",
         "hovertext": [
          "AE6",
          "A955",
          "A950 Air",
          "A980 Pro Max",
          "A980 Pro",
          "A980",
          "EM901",
          "A950 Pro 4K Magnesium",
          "A950 Pro 4K",
          "A950",
          "A950 Pro"
         ],
         "legendgroup": "Dareu",
         "marker": {
          "color": "#19d3f3",
          "symbol": "circle"
         },
         "mode": "markers",
         "name": "Dareu",
         "showlegend": true,
         "type": "scattergl",
         "x": {
          "bdata": "UzQHz/so8b9eGpIdYLoEQDuJrc/09wDApsb6pG4P+T9RyYI6qC/2P3GC0a+gswBAEXI390FH8T9m/TARjnDwv/kH4mj+DfC/0xg48XgZzT+IxaEv7ODpvw==",
          "dtype": "f8"
         },
         "xaxis": "x",
         "y": {
          "bdata": "yBGLwjDZ8D8RO1BE6tCHv9OcKr7pCvQ//UMJR/BM/T9R27IDeRz/P1ZTiBGxivM//roxeDEx97/sF2XiWt3gP2uImb9wAeA/nRjAAb0h8r82EtbGS0vQPw==",
          "dtype": "f8"
         },
         "yaxis": "y"
        },
        {
         "hovertemplate": "<b>%{hovertext}</b><br><br>Brand=MAMBASNAKE<br>แกนคุณลักษณะหลักที่ 1 (PC1)=%{x}<br>แกนคุณลักษณะหลักที่ 2 (PC2)=%{y}<extra></extra>",
         "hovertext": [
          "M4",
          "M3",
          "M5 Ultra"
         ],
         "legendgroup": "MAMBASNAKE",
         "marker": {
          "color": "#FF6692",
          "symbol": "circle"
         },
         "mode": "markers",
         "name": "MAMBASNAKE",
         "showlegend": true,
         "type": "scattergl",
         "x": {
          "bdata": "pIsbSIKv9L9Ie+ajnNMBwLl70aoRQALA",
          "dtype": "f8"
         },
         "xaxis": "x",
         "y": {
          "bdata": "D1uNL8mouL8s+nzZrin4PwHIGyLvrO4/",
          "dtype": "f8"
         },
         "yaxis": "y"
        },
        {
         "hovertemplate": "<b>%{hovertext}</b><br><br>Brand=Delux<br>แกนคุณลักษณะหลักที่ 1 (PC1)=%{x}<br>แกนคุณลักษณะหลักที่ 2 (PC2)=%{y}<extra></extra>",
         "hovertext": [
          "M800 Mini Ultra",
          "M800 Mini Pro",
          "M800 Mini",
          "M900 Ultra",
          "M900 Mini Ultra",
          "M900 Mini Pro",
          "M700 Pro",
          "M700 Pro+",
          "M700 Ultra",
          "M500 Pro",
          "M900 SE",
          "M900 Pro",
          "M800 Pro 3395",
          "M600 Pro",
          "M600",
          "M600 Ultra",
          "M800 Ultra",
          "M800 Pro",
          "M700"
         ],
         "legendgroup": "Delux",
         "marker": {
          "color": "#B6E880",
          "symbol": "circle"
         },
         "mode": "markers",
         "name": "Delux",
         "showlegend": true,
         "type": "scattergl",
         "x": {
          "bdata": "WvKS0g1I/r/WAxD23yz9v4y/HbXWCPK/C+7x/3155j/kDRuKTFy6v2dhGMtJnsO/YBpeqNUm6r8eQVUNvebqv+ypdZdi3eq/h2JvBuEa0z8E9EFlTZ/5P0Z72LnNzPE/nLAYNTax4b8/zJXBfoT2v3XM8NYLVvG/zYq/W9Qh978QWDnQgFLzvwOog7HAiti/b0mBIrGepj8=",
          "dtype": "f8"
         },
         "xaxis": "x",
         "y": {
          "bdata": "AsEteuCU7D8zsCA3Cf7nPwwS878t0NS/5Rvqgr0NAkDATqS95uL7P+aiPtN9tPs/W3vMdVyr8T+wLIdq+RLyPxih3S2OJ/M/XllaXW218z/49RRNKNTxP195DnT1JPw/wFA8HnpXw7+h8Syo9pnHPw+0hBnWb9u/3/+gCnvNzT9QGJKuNZHjP/OA8SBSN92/x2JQOJiGtL8=",
          "dtype": "f8"
         },
         "yaxis": "y"
        },
        {
         "hovertemplate": "<b>%{hovertext}</b><br><br>Brand=zeromouse<br>แกนคุณลักษณะหลักที่ 1 (PC1)=%{x}<br>แกนคุณลักษณะหลักที่ 2 (PC2)=%{y}<extra></extra>",
         "hovertext": [
          "Blade"
         ],
         "legendgroup": "zeromouse",
         "marker": {
          "color": "#FF97FF",
          "symbol": "circle"
         },
         "mode": "markers",
         "name": "zeromouse",
         "showlegend": true,
         "type": "scattergl",
         "x": {
          "bdata": "xFWDrSriEsA=",
          "dtype": "f8"
         },
         "xaxis": "x",
         "y": {
          "bdata": "rCq9at/H8b8=",
          "dtype": "f8"
         },
         "yaxis": "y"
        },
        {
         "hovertemplate": "<b>%{hovertext}</b><br><br>Brand=RAWM<br>แกนคุณลักษณะหลักที่ 1 (PC1)=%{x}<br>แกนคุณลักษณะหลักที่ 2 (PC2)=%{y}<extra></extra>",
         "hovertext": [
          "ER21 Pro",
          "ER21",
          "SA-MH01 Pro",
          "ES21 Pro",
          "ES21 M",
          "ES21",
          "SA-SH01 Pro",
          "SA-SH01",
          "SA-SL01 Pro",
          "SA-SL01",
          "SA-ML01 Plus",
          "SA-ML01",
          "SA-MH01"
         ],
         "legendgroup": "RAWM",
         "marker": {
          "color": "#FECB52",
          "symbol": "circle"
         },
         "mode": "markers",
         "name": "RAWM",
         "showlegend": true,
         "type": "scattergl",
         "x": {
          "bdata": "6IcRLWNJ4D8tdOOe41vyP0IaI8f+u+K/WLx0tmTX+L9YvHS2ZNf4v02cnhgP0PW/4d3qnJcX/b+KhhnYcLbyvyheeMVeOfa/+CbtinD/87+jeTe05rjYv1C9P+DwJOC/wUCdpBOC478=",
          "dtype": "f8"
         },
         "xaxis": "x",
         "y": {
          "bdata": "QsXpfnOnAEBFZT4JXefzP8dsgM4DkO8/+BPmS8PY8z/4E+ZLw9jzP7hq+3pG0u4/tVUAYeTt4D8KdShRbVrVvzSBz6KdMbo/wdCtQsklwr8izmgLqljVP87xIRGNnN0/9zfeclsu7j8=",
          "dtype": "f8"
         },
         "yaxis": "y"
        },
        {
         "hovertemplate": "<b>%{hovertext}</b><br><br>Brand=Valkyrie<br>แกนคุณลักษณะหลักที่ 1 (PC1)=%{x}<br>แกนคุณลักษณะหลักที่ 2 (PC2)=%{y}<extra></extra>",
         "hovertext": [
          "VK M1 Pro",
          "VK M2 Pro",
          "VK M2",
          "VK M1"
         ],
         "legendgroup": "Valkyrie",
         "marker": {
          "color": "#636efa",
          "symbol": "circle"
         },
         "mode": "markers",
         "name": "Valkyrie",
         "showlegend": true,
         "type": "scattergl",
         "x": {
          "bdata": "m9+aX7h6+r+9KetHOlXTP/yFLsHuhvA/REl4gaDm8b8=",
          "dtype": "f8"
         },
         "xaxis": "x",
         "y": {
          "bdata": "klYuo1eq8j+TQQi+lUkAQKpEgD/LdOw/mdXU09z90D8=",
          "dtype": "f8"
         },
         "yaxis": "y"
        },
        {
         "hovertemplate": "<b>%{hovertext}</b><br><br>Brand=Logitech<br>แกนคุณลักษณะหลักที่ 1 (PC1)=%{x}<br>แกนคุณลักษณะหลักที่ 2 (PC2)=%{y}<extra></extra>",
         "hovertext": [
          "G Pro X Superlight 2 SE",
          "G900",
          "ERGO M575",
          "M196",
          "MX Anywhere 3S",
          "MX Anywhere 2S",
          "M170",
          "M705 Marathon",
          "POP Mouse",
          "Pebble 2 M350s",
          "Pebble M350",
          "M340",
          "M550 L",
          "M550",
          "M650 L Left",
          "M650 L",
          "M650",
          "M240",
          "M190",
          "G Pro X Superlight 2 DEX",
          "G Pro 2 Lightspeed",
          "G309",
          "G703 Lightspeed",
          "MX Master 3S",
          "MX Master 3",
          "MX Master 2S",
          "MX Master",
          "G304 Lightspeed",
          "G602",
          "M720 Triathlon",
          "Lift Vertical",
          "MX Vertical",
          "G102 Lightsync",
          "G705",
          "G303 Shroud Edition",
          "G604 Lightspeed",
          "G903 Lightspeed",
          "G Pro Wireless",
          "G Pro X Superlight",
          "G Pro",
          "G403 Wireless",
          "G403",
          "G603 Lightspeed",
          "G403 Hero",
          "G203 Prodigy",
          "G305 Lightspeed",
          "G203 Lightsync",
          "G502 Hero",
          "G502 Lightspeed",
          "M171",
          "G103 Prodigy",
          "B100",
          "G600",
          "G9x",
          "G Pro X Superlight 2",
          "G402 Hyperion Fury",
          "G300s",
          "M100",
          "MX Anywhere",
          "M510",
          "G502 X Plus",
          "G502 X Lightspeed",
          "G502 X",
          "M185",
          "M280",
          "M187",
          "M238",
          "G100s",
          "G303 Daedalus Apex",
          "G3",
          "MX518",
          "G400",
          "G400s",
          "G MX518"
         ],
         "legendgroup": "Logitech",
         "marker": {
          "color": "#EF553B",
          "symbol": "circle"
         },
         "mode": "markers",
         "name": "Logitech",
         "showlegend": true,
         "type": "scattergl",
         "x": {
          "bdata": "lvp27jrs67+0Ii1HkqvzP6d+KI9GfyBAc5k9eICMtb/WUkS7IHz1P9ZSRLsgfPU/4ZGYNxBr3L+no5fE+pQRQAPSjLtQKLO/CN9Iy/w66b+nmQ40ia2lv8J6eiaPdOS/ucJVp6rT7j9rlBLgNEHVv7GVqNF6mfU/sZWo0XqZ9T9vWYQRqOWsPzqRPaFeRcO/W5JQe2cG9j8xOzEe+c3pPz8gGS28POu/pGXGo0ofxL/UrJ4yqB0EQKv8NTD59x1AllJIsMBTHkB2qMWRdYkeQOqb4viyiR5AP3vE4YeZtz8sNy3NCCcZQNI+tfLAhBRA8PS8Ag+NGkDniz18PJghQGRV2bA5Fsi/sl0lTFXgA0Bgg2Z2zDiRP0nEkEelURRAaMLMrUYE8T+uitdjWS20v7Sn0CTF7N6/Xt05zhCD37/n2xbDD/8FQPixmIXHWQJAXum+ixu3AkDlgiD1X3gAQGRV2bA5Fsi/P3vE4YeZtz9kVdmwORbIv6vzuCWCKgxAzd7LhmbsCkAJ9a9YAGTZv2RV2bA5Fsi/JUwwMS5O6D8kkl3pISwaQOfzxOziVxRAyX5jNAY79b86HRuy8usMQMrxFIhXV9A/hEx6YGgf6j/WUkS7IHz1P0wYsMys0gVAYP29XQTpDEBfM301Pt4LQLBrBkEo9QlAU60P76flt7+DOseKXZv0P7X+f1xwsgvAlUAQv9s2978U3IWDtLrRP4oG1XqBScG/9oGE7KkS9z/bbTv1pvQMQMKDD6B1kwxAPzqGRUGyDEAo1m0hCU4IQA==",
          "dtype": "f8"
         },
         "xaxis": "x",
         "y": {
          "bdata": "TInFVG5J7T8PJPG3SQfwv2N+7xqTYAzAAivzsAXJHcA1UBCFrH8fwDVQEIWsfx/AHRC3Q9I3HsCl6QvvmlMbwFw+Uhx2qh7AS7QbufkzIcCiIN0/vk8jwFwwD9TtnyHAKvrs50D5/7+zoT6T6vgGwGrqRzk2CP+/aupHOTYI/7/VrMzNXp0GwM151lCo0hzAC/yT8lLpGcBwJLEB7YUEQN/rC2sP3+4/uBdfTVpW578VaVVvNUu0P0g3Le9frw3AR0sUMkn6DsCSLXFbjqIQwHQg5wrR1BDApFCrirE5/783AxexhfbBP6K+bNAB7xfA4CyDTytPDsCkOqMEJssCwBOxqIgDBPu//2pnRVw5F8Cb7IlLoC3Bv+nKoaB/Z/A/371mRK7M4r9/jGy4xybRv2gSQieFp8Y/S79YKF3r8L88S1CfHSLav62NZ7JOArE/h4UnUFJrkz94xN9Tv7rhPxOxqIgDBPu/pFCrirE5/78TsaiIAwT7v+l6epDbgdM/3XJxNUR+3T8+no13fHYewBOxqIgDBPu/VwpbdtMkHMA0A8e1S9oSwB1KUEqoIBnA2QOZgM7P9z9Gjkl7mt2uv31m2aReV/W/UbwMMSxuHMA1UBCFrH8fwCTmzHhtaRzA1fDSHFLK7j9l0iwKUmzxP1z3Ei0dJPU/hfV2laVHHcCYPKSoiGMAwHFKMRStTRHAott3csNFDsB8H8xvWWcHwDQWklPCvvq/QKXnoF7cGcCJfceHbSfLv0uprv+9ury/m6A365Wdvr81OKaaKIPqPw==",
          "dtype": "f8"
         },
         "yaxis": "y"
        },
        {
         "hovertemplate": "<b>%{hovertext}</b><br><br>Brand=Flick<br>แกนคุณลักษณะหลักที่ 1 (PC1)=%{x}<br>แกนคุณลักษณะหลักที่ 2 (PC2)=%{y}<extra></extra>",
         "hovertext": [
          "Fire"
         ],
         "legendgroup": "Flick",
         "marker": {
          "color": "#00cc96",
          "symbol": "circle"
         },
         "mode": "markers",
         "name": "Flick",
         "showlegend": true,
         "type": "scattergl",
         "x": {
          "bdata": "F+cgn5C19r8=",
          "dtype": "f8"
         },
         "xaxis": "x",
         "y": {
          "bdata": "tcjNcA/54T8=",
          "dtype": "f8"
         },
         "yaxis": "y"
        },
        {
         "hovertemplate": "<b>%{hovertext}</b><br><br>Brand=IYX<br>แกนคุณลักษณะหลักที่ 1 (PC1)=%{x}<br>แกนคุณลักษณะหลักที่ 2 (PC2)=%{y}<extra></extra>",
         "hovertext": [
          "Amber"
         ],
         "legendgroup": "IYX",
         "marker": {
          "color": "#ab63fa",
          "symbol": "circle"
         },
         "mode": "markers",
         "name": "IYX",
         "showlegend": true,
         "type": "scattergl",
         "x": {
          "bdata": "dF8JLNgRA8A=",
          "dtype": "f8"
         },
         "xaxis": "x",
         "y": {
          "bdata": "V9n79KBc6j8=",
          "dtype": "f8"
         },
         "yaxis": "y"
        },
        {
         "hovertemplate": "<b>%{hovertext}</b><br><br>Brand=PMM<br>แกนคุณลักษณะหลักที่ 1 (PC1)=%{x}<br>แกนคุณลักษณะหลักที่ 2 (PC2)=%{y}<extra></extra>",
         "hovertext": [
          "ZEN 8K Mini",
          "Fuse 8K",
          "CYBER ZK",
          "CYBER 4.1",
          "VORTEX 4K M",
          "ZEN 8K",
          "CYBER 4.0",
          "CRAZE 8K",
          "NEO 8K",
          "VORTEX 8K M",
          "VORTEX 8K S",
          "VORTEX M",
          "VORTEX S",
          "FUSE",
          "CORE",
          "BLAZE",
          "NITE 8K",
          "TITAN M",
          "TITAN S",
          "TITAN 8K L",
          "CYBER 8K",
          "AIM 8K"
         ],
         "legendgroup": "PMM",
         "marker": {
          "color": "#FFA15A",
          "symbol": "circle"
         },
         "mode": "markers",
         "name": "PMM",
         "showlegend": true,
         "type": "scattergl",
         "x": {
          "bdata": "Wa7lawdzA8Bs7icsf/D7v28c4i6HTRXAdvt2OjVIE8Abh+ue3fP+v7Y3/VLNDPu/T9m2/+/+FcB/iItMLQjYv2rPrqMm4QLAt6asNCju/79XktcLM/MEwOBEkM7Y0Oq/mXIPOqd1979+CVo5sGvlvyQKirvoJuW/WxyS5io+8L+sM5vJoGf9v00i3c+H5PK/x6wzdF+8979N5uXVt9/6vzu24CrsBRTA5KPBUwg2F8A=",
          "dtype": "f8"
         },
         "xaxis": "x",
         "y": {
          "bdata": "oTewX6jr+D+g3ve8oCP4PywExkmADve/3jBUmKcG6L9WP9qP8aLqP+udJ8/2lf8/g+FbPSgF9r9MNyU+9PQAQJPHMhaeI/Y/H2o7D8gl9T/k/ivpyOzrP168J/Ne/9W/ZqKghcf76b8a9iWw00GsvyxwDJMefNW/ixBuXNgm4L/9p51NRdLrP+9mlRpPH9M/RV/LoZgv77/S9xlJLkD6P06cmH0Muuy/wyUVB18H878=",
          "dtype": "f8"
         },
         "yaxis": "y"
        },
        {
         "hovertemplate": "<b>%{hovertext}</b><br><br>Brand=Precision<br>แกนคุณลักษณะหลักที่ 1 (PC1)=%{x}<br>แกนคุณลักษณะหลักที่ 2 (PC2)=%{y}<extra></extra>",
         "hovertext": [
          "GG Titan-0"
         ],
         "legendgroup": "Precision",
         "marker": {
          "color": "#19d3f3",
          "symbol": "circle"
         },
         "mode": "markers",
         "name": "Precision",
         "showlegend": true,
         "type": "scattergl",
         "x": {
          "bdata": "R8MulBzTG8A=",
          "dtype": "f8"
         },
         "xaxis": "x",
         "y": {
          "bdata": "X3rUZXw3E8A=",
          "dtype": "f8"
         },
         "yaxis": "y"
        },
        {
         "hovertemplate": "<b>%{hovertext}</b><br><br>Brand=Glorious<br>แกนคุณลักษณะหลักที่ 1 (PC1)=%{x}<br>แกนคุณลักษณะหลักที่ 2 (PC2)=%{y}<extra></extra>",
         "hovertext": [
          "Model O Eternal",
          "Model O 2 Mini Wireless",
          "Model O 2 Mini",
          "Series 2 Pro",
          "Model D 2 Wireless",
          "Model D 2 Wired",
          "Model O Pro",
          "Series One Pro",
          "Model D Wireless",
          "Model D",
          "Model D-",
          "Model I",
          "Model O",
          "Model O-",
          "Model D- Wireless",
          "Model O 2 Pro 4K/8K",
          "Model O 2 Pro 1K",
          "Model D 2 Pro 4K/8K",
          "Model D 2 Pro 1K",
          "Model D Pro",
          "Model I 2 Wireless",
          "Model O 2 Wired",
          "Model O 2 Wireless",
          "Model O- Wireless",
          "Model O Wireless"
         ],
         "legendgroup": "Glorious",
         "marker": {
          "color": "#FF6692",
          "symbol": "circle"
         },
         "mode": "markers",
         "name": "Glorious",
         "showlegend": true,
         "type": "scattergl",
         "x": {
          "bdata": "jZK4xK6+1L9N39oq6rL0v/qq4G9Z7/e/1K8CDjC3+r9VzXuSHrL5P51wXjGWyfY/KBhNzO983L985Qa3iIDzv8JbTQtSv/s/Kn0yTeKu/T/Eu+MkNJjxP+1EleIxwgRApVIzEm1apL9sO/Ko6Xbuv3FxxMas8fE/0XXYs9me7b/doLxRUJngv5g1GPBr+O8/1VxurxSG9j/Ivo3rmrr3P6W/8ZTX2QNAUjI8pVZk4b9As0yrew/Vv7X5CfP5tOy/n0/K5fkDvb8=",
          "dtype": "f8"
         },
         "xaxis": "x",
         "y": {
          "bdata": "fuW70pP6pL9ZJJ0aK+jTv/8EZzMjlLK/uWy6eonW3D9Y42XykT7yP5SOqKxZQ/U/TXys4D3hyj9tg/PyUFLNv/T9VsKVjug/iSAADZ2G4D8TFNktyrbCP4U2JXRimPQ/8ge9aEmP1r+uQYS4j0rpv+EKN93ls84/reMyss3D7T/FYUgz5y3aP86i6w1DIvw/A/P0kZG68z+1E4kR+3nwP4U1U2fvifU/KQ0bBHOw0T+Hxzm02nikPwDbymfQ2ue/pMiVSwKkw78=",
          "dtype": "f8"
         },
         "yaxis": "y"
        },
        {
         "hovertemplate": "<b>%{hovertext}</b><br><br>Brand=WLmouse<br>แกนคุณลักษณะหลักที่ 1 (PC1)=%{x}<br>แกนคุณลักษณะหลักที่ 2 (PC2)=%{y}<extra></extra>",
         "hovertext": [
          "Sword X",
          "Ying",
          "Beast X Max",
          "Beast Miao",
          "Beast X Mini Pro",
          "Beast X Pro",
          "Strider",
          "Beast X 8K",
          "Beast X Mini",
          "Beast X"
         ],
         "legendgroup": "WLmouse",
         "marker": {
          "color": "#B6E880",
          "symbol": "circle"
         },
         "mode": "markers",
         "name": "WLmouse",
         "showlegend": true,
         "type": "scattergl",
         "x": {
          "bdata": "ToL4WCY12T9aTHVdxxIDwDPxVeNXP/e/0NNYN8yTEMDhGD3sxIAHwGuRksQJ2gDAT5LFDj0P+b8qGlHWckwAwJ+h+/0t8wbADFiLQIVx/L8=",
          "dtype": "f8"
         },
         "xaxis": "x",
         "y": {
          "bdata": "ieuYVHqGAEDNowZdct3vP6tIVdSGrPc/hxu16bkN27/glqBak7TlPz3kfzCeqfE/ZZz2Zrn98j+ot/IdZbzuPxKGkxe8HeE/kbi0TQFC5D8=",
          "dtype": "f8"
         },
         "yaxis": "y"
        },
        {
         "hovertemplate": "<b>%{hovertext}</b><br><br>Brand=Nintendo<br>แกนคุณลักษณะหลักที่ 1 (PC1)=%{x}<br>แกนคุณลักษณะหลักที่ 2 (PC2)=%{y}<extra></extra>",
         "hovertext": [
          "Joy-Con 2"
         ],
         "legendgroup": "Nintendo",
         "marker": {
          "color": "#FF97FF",
          "symbol": "circle"
         },
         "mode": "markers",
         "name": "Nintendo",
         "showlegend": true,
         "type": "scattergl",
         "x": {
          "bdata": "qn9WR1tj878=",
          "dtype": "f8"
         },
         "xaxis": "x",
         "y": {
          "bdata": "38XGfPGEJsA=",
          "dtype": "f8"
         },
         "yaxis": "y"
        },
        {
         "hovertemplate": "<b>%{hovertext}</b><br><br>Brand=Angry<br>แกนคุณลักษณะหลักที่ 1 (PC1)=%{x}<br>แกนคุณลักษณะหลักที่ 2 (PC2)=%{y}<extra></extra>",
         "hovertext": [
          "Miao AM Infinity Mouse"
         ],
         "legendgroup": "Angry",
         "marker": {
          "color": "#FECB52",
          "symbol": "circle"
         },
         "mode": "markers",
         "name": "Angry",
         "showlegend": true,
         "type": "scattergl",
         "x": {
          "bdata": "8KP1f95F+b8=",
          "dtype": "f8"
         },
         "xaxis": "x",
         "y": {
          "bdata": "+55baXHn7z8=",
          "dtype": "f8"
         },
         "yaxis": "y"
        },
        {
         "hovertemplate": "<b>%{hovertext}</b><br><br>Brand=Corsair<br>แกนคุณลักษณะหลักที่ 1 (PC1)=%{x}<br>แกนคุณลักษณะหลักที่ 2 (PC2)=%{y}<extra></extra>",
         "hovertext": [
          "Scimitar Elite Wireless SE",
          "M55 Wireless",
          "M55 Wired",
          "Dark Core RGB Pro",
          "M55 RGB Pro",
          "Glaive Pro",
          "Glaive RGB",
          "Nightsword RGB",
          "Scimitar Elite Wireless",
          "Scimitar RGB Elite",
          "Scimitar Pro RGB",
          "Scimitar RGB",
          "Sabre RGB Pro Wireless",
          "Sabre RGB Pro",
          "Sabre Pro",
          "Katar Elite Wireless",
          "Katar Pro Wireless",
          "Katar Pro XT",
          "Ironclaw RGB Wireless",
          "Ironclaw RGB",
          "Harpoon RGB Wireless",
          "Harpoon RGB Pro",
          "Harpoon RGB",
          "M75 Air Wireless",
          "M75 Wireless",
          "M75",
          "Nightsabre Wireless",
          "Darkstar Wireless",
          "M65 RGB Ultra Wireless",
          "M65 RGB Ultra",
          "M65 RGB Pro",
          "M65 RGB Elite",
          "Dark Core RGB Pro SE"
         ],
         "legendgroup": "Corsair",
         "marker": {
          "color": "#636efa",
          "symbol": "circle"
         },
         "mode": "markers",
         "name": "Corsair",
         "showlegend": true,
         "type": "scattergl",
         "x": {
          "bdata": "ZIVJValBEUD2+LjdpM7lPz3WiYXlX7I/QJMg7t+AEUAZmbJKN7DjP8TQLORw4AlANcNcIDhlC0B+LUFD67wSQDVnOScS8RBABuYOSSsDE0AJe2DCpmUVQKo2gTlyrBVADD3GsoDC/z+hZgTpm7n3P6i3anojIvg/wqb3y0YG6r/jw0lP6R/BP3/BOQXPa+K/RnvGHfj1EkDmqvrMQpYQQMRL31Kq5wFA4Lws2nhx+z+mIvGkPRr9PyBX/4r+hca/ND2dsJum3z8z13LvPJ/TvwRDF5SQq9w/RtojzaR7CEBrFDxMOAoGQHKlwNTiiABAg1zPFQ1kCUCtfp/eIh0HQECTIO7fgBFA",
          "dtype": "f8"
         },
         "xaxis": "x",
         "y": {
          "bdata": "2VZ+dTFY8j8HEvkNqp4WwJ4dIFa+ShTAmSiSnymGwj9bQ89vlEblv/N4SGkLPaE/NX0z2mXSyL/w+YoQUTbsPx406re61/E/gscZpEY02z8Je5fOkTzMvybfZW33S9e/NB5w/gFF8D+rag95RPv5PwMnc9TkPvc/uwwF46Ji4b8O5sqEJkf+v8ctlVBmPe6/FNKNQolJ4T8vwtYa64vxP4rSLjG2lfS/7nTvmjbX4L8jDoN/ebnnv780Jo9ApuM/4/gJoPkZub/L9qI1Q/zqP5e9g0m49dy/XMcPAaGA8D8W9Yqu/ymuvz2YyiJM5+c/W31iCHUW579gWJpszrfWv5kokp8phsI/",
          "dtype": "f8"
         },
         "yaxis": "y"
        },
        {
         "hovertemplate": "<b>%{hovertext}</b><br><br>Brand=ThundeRobot<br>แกนคุณลักษณะหลักที่ 1 (PC1)=%{x}<br>แกนคุณลักษณะหลักที่ 2 (PC2)=%{y}<extra></extra>",
         "hovertext": [
          "ML8",
          "ML4",
          "ML6 Pro",
          "ML9 Mini",
          "ML9S",
          "ML901",
          "ML602",
          "ML903"
         ],
         "legendgroup": "ThundeRobot",
         "marker": {
          "color": "#EF553B",
          "symbol": "circle"
         },
         "mode": "markers",
         "name": "ThundeRobot",
         "showlegend": true,
         "type": "scattergl",
         "x": {
          "bdata": "lFs+Jzrt978TfNupdWfyv0QWY5I2a/A/rI28zMsB/b9lGHhKSUjtv/KWnCOcusy/5NOQRgrd2b9URGbBuNHlvw==",
          "dtype": "f8"
         },
         "xaxis": "x",
         "y": {
          "bdata": "GrWxaTtJ1z8ZNPGoQDvwvyhEvXJpkfA/LR9Oo7jo1j+wzB5wIDjmPz3Ry0QOfMq/rCxWZ78yzT81IMM7NhDVPw==",
          "dtype": "f8"
         },
         "yaxis": "y"
        },
        {
         "hovertemplate": "<b>%{hovertext}</b><br><br>Brand=Chilkey<br>แกนคุณลักษณะหลักที่ 1 (PC1)=%{x}<br>แกนคุณลักษณะหลักที่ 2 (PC2)=%{y}<extra></extra>",
         "hovertext": [
          "Glacier LW 8K M"
         ],
         "legendgroup": "Chilkey",
         "marker": {
          "color": "#00cc96",
          "symbol": "circle"
         },
         "mode": "markers",
         "name": "Chilkey",
         "showlegend": true,
         "type": "scattergl",
         "x": {
          "bdata": "XybYb8gv/b8=",
          "dtype": "f8"
         },
         "xaxis": "x",
         "y": {
          "bdata": "cOojyNi16j8=",
          "dtype": "f8"
         },
         "yaxis": "y"
        },
        {
         "hovertemplate": "<b>%{hovertext}</b><br><br>Brand=UNIUS<br>แกนคุณลักษณะหลักที่ 1 (PC1)=%{x}<br>แกนคุณลักษณะหลักที่ 2 (PC2)=%{y}<extra></extra>",
         "hovertext": [
          "Black Lotus"
         ],
         "legendgroup": "UNIUS",
         "marker": {
          "color": "#ab63fa",
          "symbol": "circle"
         },
         "mode": "markers",
         "name": "UNIUS",
         "showlegend": true,
         "type": "scattergl",
         "x": {
          "bdata": "U6Jho7dS/r8=",
          "dtype": "f8"
         },
         "xaxis": "x",
         "y": {
          "bdata": "Nk8b1OSe8z8=",
          "dtype": "f8"
         },
         "yaxis": "y"
        },
        {
         "hovertemplate": "<b>%{hovertext}</b><br><br>Brand=Fantech<br>แกนคุณลักษณะหลักที่ 1 (PC1)=%{x}<br>แกนคุณลักษณะหลักที่ 2 (PC2)=%{y}<extra></extra>",
         "hovertext": [
          "Tanto S",
          "Tanto",
          "Tanto E",
          "Go XD5",
          "Aria E",
          "Aria II Pro",
          "Aria II",
          "Helios II Pro S",
          "Helios XD3V2",
          "Helios II Pro",
          "X11 Daredevil",
          "Helios XD3",
          "Aria XD7"
         ],
         "legendgroup": "Fantech",
         "marker": {
          "color": "#FFA15A",
          "symbol": "circle"
         },
         "mode": "markers",
         "name": "Fantech",
         "showlegend": true,
         "type": "scattergl",
         "x": {
          "bdata": "KPctwR1Y97+r9QUENRPwv862NtKOMum/f9WJvFll8T9V1ywhQG7pvxd4YGdBPPq/m3Y4qlj38r+04kdbrvr2v4KxqO55pca/bAYx703T8r/xgF/SRe4PQGwal8NmAsC/eK5glECW8L8=",
          "dtype": "f8"
         },
         "xaxis": "x",
         "y": {
          "bdata": "UhUda0X23T/nne+2X9i6v4ZppY8/guK/ImLVPtU9Nb+dqAoN2onov8r6CMLus94/+wdAW7rht7/uGJPGnIbkP5mg4nt5sO6/sjOq7HEY1D/lzMnSBC7Ov5k2FnfNEPG/jdu5RNHz0L8=",
          "dtype": "f8"
         },
         "yaxis": "y"
        },
        {
         "hovertemplate": "<b>%{hovertext}</b><br><br>Brand=Orbital<br>แกนคุณลักษณะหลักที่ 1 (PC1)=%{x}<br>แกนคุณลักษณะหลักที่ 2 (PC2)=%{y}<extra></extra>",
         "hovertext": [
          "Pathfinder AAM-222",
          "Pathfinder AAM-000"
         ],
         "legendgroup": "Orbital",
         "marker": {
          "color": "#19d3f3",
          "symbol": "circle"
         },
         "mode": "markers",
         "name": "Orbital",
         "showlegend": true,
         "type": "scattergl",
         "x": {
          "bdata": "WP8keEXJAMBtseXBCGgGwA==",
          "dtype": "f8"
         },
         "xaxis": "x",
         "y": {
          "bdata": "yvIEwU6u2j/X9eddRf26vw==",
          "dtype": "f8"
         },
         "yaxis": "y"
        },
        {
         "hovertemplate": "<b>%{hovertext}</b><br><br>Brand=Metaphyuni<br>แกนคุณลักษณะหลักที่ 1 (PC1)=%{x}<br>แกนคุณลักษณะหลักที่ 2 (PC2)=%{y}<extra></extra>",
         "hovertext": [
          "M6",
          "P2 Pro",
          "P2 Lite",
          "P2",
          "Metapanda P1 Pro Max",
          "Metapanda P1 Pro",
          "Metapanda P1"
         ],
         "legendgroup": "Metaphyuni",
         "marker": {
          "color": "#FF6692",
          "symbol": "circle"
         },
         "mode": "markers",
         "name": "Metaphyuni",
         "showlegend": true,
         "type": "scattergl",
         "x": {
          "bdata": "qUgktvEbAMC4FErPT8v3v9ugrxyNTum/OxMiEmeG8L/nSIBb8ILsP+dIgFvwguw/V0LfO4n67j8=",
          "dtype": "f8"
         },
         "xaxis": "x",
         "y": {
          "bdata": "BVA6oqk08z8zFge9R6LVPyCuljj8lOe/J82jNysUzr/AAHna98vuP8AAedr3y+4/glneOegF6z8=",
          "dtype": "f8"
         },
         "yaxis": "y"
        },
        {
         "hovertemplate": "<b>%{hovertext}</b><br><br>Brand=EWEADN<br>แกนคุณลักษณะหลักที่ 1 (PC1)=%{x}<br>แกนคุณลักษณะหลักที่ 2 (PC2)=%{y}<extra></extra>",
         "hovertext": [
          "X23 Max",
          "X23 Pro",
          "X23 SE",
          "X23",
          "M9",
          "X21 Pro",
          "X21",
          "L1 Pro",
          "L1",
          "S9 Ultra",
          "S9 Pro",
          "S9"
         ],
         "legendgroup": "EWEADN",
         "marker": {
          "color": "#B6E880",
          "symbol": "circle"
         },
         "mode": "markers",
         "name": "EWEADN",
         "showlegend": true,
         "type": "scattergl",
         "x": {
          "bdata": "L1vlBUEz8L/EMDYEQajov8QwNgRBqOi/xDA2BEGo6L/ETjCHdNj6v4LtnyJYCvk/d9Vw+ZMw/D9nXTmykEv+v2ddObKQS/6/Bao3VuyR7r/g7WPo4FHmv8H98j5JXNG/",
          "dtype": "f8"
         },
         "xaxis": "x",
         "y": {
          "bdata": "E9zC/mymqj8nGoM1FcvcvycagzUVy9y/JxqDNRXL3L99ygKVL87iPxlRb7A/QPY/V6txP+rs7T8WYm/+ru/qPxZib/6u7+o/zY9ln0LT9z8Hm+danPDtP0h16NU3Jdk/",
          "dtype": "f8"
         },
         "yaxis": "y"
        },
        {
         "hovertemplate": "<b>%{hovertext}</b><br><br>Brand=Zaopin<br>แกนคุณลักษณะหลักที่ 1 (PC1)=%{x}<br>แกนคุณลักษณะหลักที่ 2 (PC2)=%{y}<extra></extra>",
         "hovertext": [
          "ZPW Max",
          "ZPW",
          "Z2 Max",
          "Z1 Pro Max",
          "Z2 Mini Max 8K",
          "Z2 Mini 4K",
          "Z2 Mini",
          "Z2",
          "Z1 Pro",
          "Z1"
         ],
         "legendgroup": "Zaopin",
         "marker": {
          "color": "#FF97FF",
          "symbol": "circle"
         },
         "mode": "markers",
         "name": "Zaopin",
         "showlegend": true,
         "type": "scattergl",
         "x": {
          "bdata": "hd32Ewb1wj+lUQ74dM7LPyfPSwUZ7NY/orhFJoinAMAPlxyTU/Tav3yv1cJpqLe/06M8Thswuj8qfdkTKfvlPxGMDQukf/6/errO+C+g878=",
          "dtype": "f8"
         },
         "xaxis": "x",
         "y": {
          "bdata": "XQbV0udV/j/1fU4xfAr8P+GWsuvg/fM/PaLEv6il1j+hJztrlEXuP3sv4K+yaN4/t2EG7zlizT/gHRrEhuroP8Hz/9kZuLA/G9gEauw96L8=",
          "dtype": "f8"
         },
         "yaxis": "y"
        },
        {
         "hovertemplate": "<b>%{hovertext}</b><br><br>Brand=RK<br>แกนคุณลักษณะหลักที่ 1 (PC1)=%{x}<br>แกนคุณลักษณะหลักที่ 2 (PC2)=%{y}<extra></extra>",
         "hovertext": [
          "Royal Kludge M3",
          "Royal Kludge M30"
         ],
         "legendgroup": "RK",
         "marker": {
          "color": "#FECB52",
          "symbol": "circle"
         },
         "mode": "markers",
         "name": "RK",
         "showlegend": true,
         "type": "scattergl",
         "x": {
          "bdata": "272DpfYZAMBeIfBvBIj1vw==",
          "dtype": "f8"
         },
         "xaxis": "x",
         "y": {
          "bdata": "Ud4Bl8ni9T+ON6H+qMjQPw==",
          "dtype": "f8"
         },
         "yaxis": "y"
        },
        {
         "hovertemplate": "<b>%{hovertext}</b><br><br>Brand=Xyder<br>แกนคุณลักษณะหลักที่ 1 (PC1)=%{x}<br>แกนคุณลักษณะหลักที่ 2 (PC2)=%{y}<extra></extra>",
         "hovertext": [
          "Amalight 4K"
         ],
         "legendgroup": "Xyder",
         "marker": {
          "color": "#636efa",
          "symbol": "circle"
         },
         "mode": "markers",
         "name": "Xyder",
         "showlegend": true,
         "type": "scattergl",
         "x": {
          "bdata": "dNNQ9uOJ578=",
          "dtype": "f8"
         },
         "xaxis": "x",
         "y": {
          "bdata": "f4WeWB8r6D8=",
          "dtype": "f8"
         },
         "yaxis": "y"
        },
        {
         "hovertemplate": "<b>%{hovertext}</b><br><br>Brand=Imecoo<br>แกนคุณลักษณะหลักที่ 1 (PC1)=%{x}<br>แกนคุณลักษณะหลักที่ 2 (PC2)=%{y}<extra></extra>",
         "hovertext": [
          "P1"
         ],
         "legendgroup": "Imecoo",
         "marker": {
          "color": "#EF553B",
          "symbol": "circle"
         },
         "mode": "markers",
         "name": "Imecoo",
         "showlegend": true,
         "type": "scattergl",
         "x": {
          "bdata": "IiXW5f5c6T8=",
          "dtype": "f8"
         },
         "xaxis": "x",
         "y": {
          "bdata": "cP8e/KRpAEA=",
          "dtype": "f8"
         },
         "yaxis": "y"
        },
        {
         "hovertemplate": "<b>%{hovertext}</b><br><br>Brand=Vaidemi<br>แกนคุณลักษณะหลักที่ 1 (PC1)=%{x}<br>แกนคุณลักษณะหลักที่ 2 (PC2)=%{y}<extra></extra>",
         "hovertext": [
          "Nimbus"
         ],
         "legendgroup": "Vaidemi",
         "marker": {
          "color": "#00cc96",
          "symbol": "circle"
         },
         "mode": "markers",
         "name": "Vaidemi",
         "showlegend": true,
         "type": "scattergl",
         "x": {
          "bdata": "giUYAiB//78=",
          "dtype": "f8"
         },
         "xaxis": "x",
         "y": {
          "bdata": "fbvOw+1b+T8=",
          "dtype": "f8"
         },
         "yaxis": "y"
        },
        {
         "hovertemplate": "<b>%{hovertext}</b><br><br>Brand=Zowie<br>แกนคุณลักษณะหลักที่ 1 (PC1)=%{x}<br>แกนคุณลักษณะหลักที่ 2 (PC2)=%{y}<extra></extra>",
         "hovertext": [
          "EC3-DW",
          "EC2-DW",
          "EC1-DW",
          "ZA13-DW",
          "FK2-DW",
          "U2-DW",
          "S2-DW",
          "S1-B V2",
          "S1-B",
          "S1-C",
          "S2-B V2",
          "S2-B",
          "ZA13-B",
          "ZA12-B",
          "ZA12-C",
          "ZA11-B",
          "ZA11-C",
          "FK2-B V2",
          "FK2-B",
          "FK1-B V2",
          "FK1-B",
          "FK1+-B V2",
          "FK1+-B",
          "EC2-B V2",
          "EC2-B",
          "EC1-B V2",
          "EC1-B",
          "MiCO",
          "U2",
          "AM",
          "EC3-CW",
          "EC2-CW",
          "EC1-CW",
          "S2-C",
          "ZA13-C",
          "FK2-C",
          "FK1-C",
          "FK1+-C",
          "EC3-C",
          "EC2-C",
          "EC1-C"
         ],
         "legendgroup": "Zowie",
         "marker": {
          "color": "#ab63fa",
          "symbol": "circle"
         },
         "mode": "markers",
         "name": "Zowie",
         "showlegend": true,
         "type": "scattergl",
         "x": {
          "bdata": "nD55C38V8T9VRen17hb0P0C8IhPdrP4/dfk7eZ1l2b8jkXbtG+jdv27jgP/5QuG/T+6mjglS4b/fymc9ugvjP9/KZz26C+M/M8k8xQ/bzj+X9bCGjauxP5f1sIaNq7E/39iPInqvoz93MoVACQveP1aCU5e9DtI/bWJdwWDB7j+WSeyef3fnPwho5z3/3Lc/CGjnPf/ctz+fbsh7+w/hP59uyHv7D+E/qGhOv8Z+7T+oaE6/xn7tP+tQEBjANAFA61AQGMA0AUA4JMj+73oGQDgkyP7vegZAHSho1DMK/r8FMr260g/Wv9y8U/0e99c/4asQ3YSj+j++Z+WXQI79PyyHKckgxwNAaNhxlrvXz79Aye5p+N7Jv7pp8QF5SMO//OB+yxzw0j+tJFjvudfmPzVW8OuyXfg/o6Q137YP/D+TgJqqP/UDQA==",
          "dtype": "f8"
         },
         "xaxis": "x",
         "y": {
          "bdata": "pxfTydnexj9PFEFIXujWP0gPXin8p+g/BTksaXnc4r++jFy1SKLmv8QtEeFLSuC/peFS/BZG6b+4b/KWtCfzv7hv8pa0J/O/nxD/NIv06b/8m7LnDh/4v/ybsucOH/i/8yDPDRWn8b9xWB4f4a7qv99ujSC0N+S/+FoBdaCQ4b+0SI70PPPTv28fayfC4PW/bx9rJ8Lg9b+dVmgoHN7xv51WaCgc3vG/7Z4EGJHk6r/tngQYkeTqvwSaPk0VguS/BJo+TRWC5L/9CcXgvHHIv/0JxeC8cci/ukIVaXTmCMAUrT+9Fibov+ktjm26/fe/sBECuRY74L85tv3layDUvzXoJzon5cM/bG9MCQdY8r9VuFpFRLjqv38OUujxdPG/kwohFXJn67/qG3eRF9bjv/LGhbINhNa/QdA2Sexly7+9gn5abfDAPw==",
          "dtype": "f8"
         },
         "yaxis": "y"
        },
        {
         "hovertemplate": "<b>%{hovertext}</b><br><br>Brand=Tecware<br>แกนคุณลักษณะหลักที่ 1 (PC1)=%{x}<br>แกนคุณลักษณะหลักที่ 2 (PC2)=%{y}<extra></extra>",
         "hovertext": [
          "EX1",
          "Pulse Elite"
         ],
         "legendgroup": "Tecware",
         "marker": {
          "color": "#FFA15A",
          "symbol": "circle"
         },
         "mode": "markers",
         "name": "Tecware",
         "showlegend": true,
         "type": "scattergl",
         "x": {
          "bdata": "4RxGEpd48L/6me0wVu/Jvw==",
          "dtype": "f8"
         },
         "xaxis": "x",
         "y": {
          "bdata": "Nz0aKV8Zwb+ttnxlZxbPvw==",
          "dtype": "f8"
         },
         "yaxis": "y"
        },
        {
         "hovertemplate": "<b>%{hovertext}</b><br><br>Brand=SOLAKAKA<br>แกนคุณลักษณะหลักที่ 1 (PC1)=%{x}<br>แกนคุณลักษณะหลักที่ 2 (PC2)=%{y}<extra></extra>",
         "hovertext": [
          "SM809 Pro",
          "SM802 Pro",
          "SM805",
          "SM850",
          "SM809",
          "SM802"
         ],
         "legendgroup": "SOLAKAKA",
         "marker": {
          "color": "#19d3f3",
          "symbol": "circle"
         },
         "mode": "markers",
         "name": "SOLAKAKA",
         "showlegend": true,
         "type": "scattergl",
         "x": {
          "bdata": "p7NMmb+tEkCY8YscBmnlvz10hT/U7fE/HaW9bNGD4j918ekBEdURQPnX7imKVdu/",
          "dtype": "f8"
         },
         "xaxis": "x",
         "y": {
          "bdata": "p4a6wQ9u/z9/3pH3Tyaxv/1wzS4EV+A/hbxcI6Nn5D+KrryWSUwBQKX2n2m7NOK/",
          "dtype": "f8"
         },
         "yaxis": "y"
        },
        {
         "hovertemplate": "<b>%{hovertext}</b><br><br>Brand=Mighty<br>แกนคุณลักษณะหลักที่ 1 (PC1)=%{x}<br>แกนคุณลักษณะหลักที่ 2 (PC2)=%{y}<extra></extra>",
         "hovertext": [
          "Mouse MM8K"
         ],
         "legendgroup": "Mighty",
         "marker": {
          "color": "#FF6692",
          "symbol": "circle"
         },
         "mode": "markers",
         "name": "Mighty",
         "showlegend": true,
         "type": "scattergl",
         "x": {
          "bdata": "z0bK0dNCGMA=",
          "dtype": "f8"
         },
         "xaxis": "x",
         "y": {
          "bdata": "D2dcKjBZAMA=",
          "dtype": "f8"
         },
         "yaxis": "y"
        },
        {
         "hovertemplate": "<b>%{hovertext}</b><br><br>Brand=Redragon<br>แกนคุณลักษณะหลักที่ 1 (PC1)=%{x}<br>แกนคุณลักษณะหลักที่ 2 (PC2)=%{y}<extra></extra>",
         "hovertext": [
          "M813 Pro",
          "M813 Wired",
          "M995 Pro",
          "M995",
          "M991",
          "M810 Pro",
          "M693",
          "M656 Gainer",
          "M913 Impact Elite",
          "M908 Impact",
          "M996",
          "M724",
          "M916 Pro 4K",
          "M916 Pro",
          "G49 Pro",
          "M711 Cobra"
         ],
         "legendgroup": "Redragon",
         "marker": {
          "color": "#B6E880",
          "symbol": "circle"
         },
         "mode": "markers",
         "name": "Redragon",
         "showlegend": true,
         "type": "scattergl",
         "x": {
          "bdata": "1tUiYQPZA0D7f8a0/DoFQKux4TovLue/q7HhOi8u57+4q1EDUUUMQAoNZQFlpARAZ+D4nVEgAED35IJ41k4QQPfGdzchOBlAVkaFJMyJGEBtY3kOs9T7v8oDYTD7zPC/8IIMmSXx9L+7XftHndPxv/CCDJkl8fS/4vunEWwVAUA=",
          "dtype": "f8"
         },
         "xaxis": "x",
         "y": {
          "bdata": "G+lsoXc98z8xKDkb1QHrP7/qzZUInuE/v+rNlQie4T+R4jXUjViNv90k9Ol4S+M/zBg29S/N1r8TIHDMvQLyv5p257rFgPQ/h8iVSbfo9T+xJm3fmDHwPwI8ULIm16i/Iz689iJn3z8Ef758Gl/PPyM+vPYiZ98/0p6w+RM55L8=",
          "dtype": "f8"
         },
         "yaxis": "y"
        },
        {
         "hovertemplate": "<b>%{hovertext}</b><br><br>Brand=JAMESDONKEY<br>แกนคุณลักษณะหลักที่ 1 (PC1)=%{x}<br>แกนคุณลักษณะหลักที่ 2 (PC2)=%{y}<extra></extra>",
         "hovertext": [
          "RSR5s",
          "RSR5"
         ],
         "legendgroup": "JAMESDONKEY",
         "marker": {
          "color": "#FF97FF",
          "symbol": "circle"
         },
         "mode": "markers",
         "name": "JAMESDONKEY",
         "showlegend": true,
         "type": "scattergl",
         "x": {
          "bdata": "SYpz99MX+r/NePbTATP7vw==",
          "dtype": "f8"
         },
         "xaxis": "x",
         "y": {
          "bdata": "OcSib4HT3D/sct76lwDjPw==",
          "dtype": "f8"
         },
         "yaxis": "y"
        },
        {
         "hovertemplate": "<b>%{hovertext}</b><br><br>Brand=ROCCAT<br>แกนคุณลักษณะหลักที่ 1 (PC1)=%{x}<br>แกนคุณลักษณะหลักที่ 2 (PC2)=%{y}<extra></extra>",
         "hovertext": [
          "LUA",
          "Kone XP Air",
          "Pure SEL",
          "Pure Air",
          "Tyon",
          "Kain 120 AIMO",
          "Kone Pure Ultra",
          "Kone AIMO Remastered",
          "Kain 100 AIMO",
          "Kain 200 AIMO",
          "Kone XP",
          "Kone Pro",
          "Kone Pro Air",
          "Burst Core",
          "Burst Pro",
          "Burst Pro Air"
         ],
         "legendgroup": "ROCCAT",
         "marker": {
          "color": "#FECB52",
          "symbol": "circle"
         },
         "mode": "markers",
         "name": "ROCCAT",
         "showlegend": true,
         "type": "scattergl",
         "x": {
          "bdata": "TuqtDY1i8L+LDXLfvUoKQJjqS8jcUPA/rUPjbml36j8Jvmq9RuAUQNdPdDaW6+Q/ST8/DR9n9D8Pzakpe3oTQEJOXzGCEek/DPM+GmVg8D/F1PKPKecIQKD/sb4tevw/Jv7AHr7C/z9ywHCG/MHEvxZdDjnWrNK/2lnkC74In78=",
          "dtype": "f8"
         },
         "xaxis": "x",
         "y": {
          "bdata": "In3TAnlyAMB1w5VayFngP5QPwfvfTNc/jfWjKeEm7D8k3yz+RC7gP28O10tjjd+/XXwEkLrrwj+Hz66Q2UPhP7wGpEOFYei/uw6pff5V7L8HnK+YZETNP+HwJTvIsuk/cixMJ5zZ4j8MFLXy2ULpv4eU/FQGqOC/OTsN9Ets6L8=",
          "dtype": "f8"
         },
         "yaxis": "y"
        },
        {
         "hovertemplate": "<b>%{hovertext}</b><br><br>Brand=Realforce<br>แกนคุณลักษณะหลักที่ 1 (PC1)=%{x}<br>แกนคุณลักษณะหลักที่ 2 (PC2)=%{y}<extra></extra>",
         "hovertext": [
          "RM1"
         ],
         "legendgroup": "Realforce",
         "marker": {
          "color": "#636efa",
          "symbol": "circle"
         },
         "mode": "markers",
         "name": "Realforce",
         "showlegend": true,
         "type": "scattergl",
         "x": {
          "bdata": "dOHIzrBI/z8=",
          "dtype": "f8"
         },
         "xaxis": "x",
         "y": {
          "bdata": "k8fWvFDCtL8=",
          "dtype": "f8"
         },
         "yaxis": "y"
        },
        {
         "hovertemplate": "<b>%{hovertext}</b><br><br>Brand=Lenovo<br>แกนคุณลักษณะหลักที่ 1 (PC1)=%{x}<br>แกนคุณลักษณะหลักที่ 2 (PC2)=%{y}<extra></extra>",
         "hovertext": [
          "Yoga Pro",
          "Legion M410",
          "Legion M600s",
          "Legion M300s"
         ],
         "legendgroup": "Lenovo",
         "marker": {
          "color": "#EF553B",
          "symbol": "circle"
         },
         "mode": "markers",
         "name": "Lenovo",
         "showlegend": true,
         "type": "scattergl",
         "x": {
          "bdata": "i7Peb1LaEUAB7iyPj8nlPxx1ufYYje6/452D+SIY8b8=",
          "dtype": "f8"
         },
         "xaxis": "x",
         "y": {
          "bdata": "7m6H7MYnEsBLOYpwa13wv12bTvwcMO6/g2vvmmlU778=",
          "dtype": "f8"
         },
         "yaxis": "y"
        },
        {
         "hovertemplate": "<b>%{hovertext}</b><br><br>Brand=HaunterWell<br>แกนคุณลักษณะหลักที่ 1 (PC1)=%{x}<br>แกนคุณลักษณะหลักที่ 2 (PC2)=%{y}<extra></extra>",
         "hovertext": [
          "HZS",
          "HMF",
          "HFC",
          "HZ1"
         ],
         "legendgroup": "HaunterWell",
         "marker": {
          "color": "#00cc96",
          "symbol": "circle"
         },
         "mode": "markers",
         "name": "HaunterWell",
         "showlegend": true,
         "type": "scattergl",
         "x": {
          "bdata": "3z02GqKMEsDRSRc2+QMTwPionZpKuA/Asi3gclcYB8A=",
          "dtype": "f8"
         },
         "xaxis": "x",
         "y": {
          "bdata": "FGww5gaa6b+KGJdfKSDwv8+2liNooOG//i7Bpbbu2D8=",
          "dtype": "f8"
         },
         "yaxis": "y"
        },
        {
         "hovertemplate": "<b>%{hovertext}</b><br><br>Brand=Akko<br>แกนคุณลักษณะหลักที่ 1 (PC1)=%{x}<br>แกนคุณลักษณะหลักที่ 2 (PC2)=%{y}<extra></extra>",
         "hovertext": [
          "Pulse 01",
          "AG ONE 8K",
          "AG One NearLink",
          "AG325W",
          "AG325C",
          "AG325"
         ],
         "legendgroup": "Akko",
         "marker": {
          "color": "#ab63fa",
          "symbol": "circle"
         },
         "mode": "markers",
         "name": "Akko",
         "showlegend": true,
         "type": "scattergl",
         "x": {
          "bdata": "8mQeovya5r/7DUYcHA/tv8jZXB+tr+e/OKHE2D2Y8T+zSTa7LLXCPy9O4Fr65sg/",
          "dtype": "f8"
         },
         "xaxis": "x",
         "y": {
          "bdata": "mNC3v3pV4D/kww1MpUzjPzO88ov+p9o/RFPifCKqFcCPhnFHYGfrvx/fLcPDne6/",
          "dtype": "f8"
         },
         "yaxis": "y"
        },
        {
         "hovertemplate": "<b>%{hovertext}</b><br><br>Brand=Pwnage<br>แกนคุณลักษณะหลักที่ 1 (PC1)=%{x}<br>แกนคุณลักษณะหลักที่ 2 (PC2)=%{y}<extra></extra>",
         "hovertext": [
          "StormBreaker V3",
          "StormBreaker V2",
          "Trinity CF",
          "StormBreaker Max CF",
          "StormBreaker",
          "Ergo Wireless",
          "Ergo",
          "Ambi Wireless",
          "Symm 2",
          "Symm 2 Wireless",
          "Symm 1",
          "Symm 1 Wireless"
         ],
         "legendgroup": "Pwnage",
         "marker": {
          "color": "#FFA15A",
          "symbol": "circle"
         },
         "mode": "markers",
         "name": "Pwnage",
         "showlegend": true,
         "type": "scattergl",
         "x": {
          "bdata": "WZfZC4ADqz/dkKHjg+PPP/VlD2CUJQLArL2+rng96T/FHBbRoUfgP0OHHG+js/U/Of2eD4Po8z/pjiBuu37rv6mpcVO/WvC/f/U4WSDF6L/NT2Y1IIrsv3GmCGi/+ea/",
          "dtype": "f8"
         },
         "xaxis": "x",
         "y": {
          "bdata": "UoaqA19nAEDbG7Q1iKn6Pwk3Y46GYvE/ADMfsvyCBEBPHJVNVmz1P+BUoea+Mtg/K7XZYiqk3D89dRlhMSbvv4YZlT/TH+S/N6ZXCo/c67/F3oFAHSDqv+/ponavIO+/",
          "dtype": "f8"
         },
         "yaxis": "y"
        },
        {
         "hovertemplate": "<b>%{hovertext}</b><br><br>Brand=Teevolution<br>แกนคุณลักษณะหลักที่ 1 (PC1)=%{x}<br>แกนคุณลักษณะหลักที่ 2 (PC2)=%{y}<extra></extra>",
         "hovertext": [
          "Terra",
          "Aria XD7",
          "Helios II Pro"
         ],
         "legendgroup": "Teevolution",
         "marker": {
          "color": "#19d3f3",
          "symbol": "circle"
         },
         "mode": "markers",
         "name": "Teevolution",
         "showlegend": true,
         "type": "scattergl",
         "x": {
          "bdata": "5u9qwmCl5j94rmCUQJbwv2wGMe9N0/K/",
          "dtype": "f8"
         },
         "xaxis": "x",
         "y": {
          "bdata": "CCz2HTO0AUCN27lE0fPQv7IzquxxGNQ/",
          "dtype": "f8"
         },
         "yaxis": "y"
        },
        {
         "hovertemplate": "<b>%{hovertext}</b><br><br>Brand=GravaStar<br>แกนคุณลักษณะหลักที่ 1 (PC1)=%{x}<br>แกนคุณลักษณะหลักที่ 2 (PC2)=%{y}<extra></extra>",
         "hovertext": [
          "Mercury X Pro",
          "Mercury X",
          "Mercury M2",
          "Mercury M1 Pro"
         ],
         "legendgroup": "GravaStar",
         "marker": {
          "color": "#FF6692",
          "symbol": "circle"
         },
         "mode": "markers",
         "name": "GravaStar",
         "showlegend": true,
         "type": "scattergl",
         "x": {
          "bdata": "C+/+18eO9b8d2601vpPsv91CmoKn6KK/Qgt48tC+kr8=",
          "dtype": "f8"
         },
         "xaxis": "x",
         "y": {
          "bdata": "t4CMs6369T8Ig6y6LJ/pPyWj0GE7u8q/8aSac6k3yb8=",
          "dtype": "f8"
         },
         "yaxis": "y"
        },
        {
         "hovertemplate": "<b>%{hovertext}</b><br><br>Brand=NZXT<br>แกนคุณลักษณะหลักที่ 1 (PC1)=%{x}<br>แกนคุณลักษณะหลักที่ 2 (PC2)=%{y}<extra></extra>",
         "hovertext": [
          "Lift Elite Wireless",
          "Lift 2 Ergo",
          "Lift 2 Symm",
          "Lift"
         ],
         "legendgroup": "NZXT",
         "marker": {
          "color": "#B6E880",
          "symbol": "circle"
         },
         "mode": "markers",
         "name": "NZXT",
         "showlegend": true,
         "type": "scattergl",
         "x": {
          "bdata": "gdS5F8jG+r/3hG1VhNboP1t75IgNDey/RcIv/ekMo78=",
          "dtype": "f8"
         },
         "xaxis": "x",
         "y": {
          "bdata": "NqceMUS71z/phAxyVWD6P0LFv6TQse8/894NVd0Ixr8=",
          "dtype": "f8"
         },
         "yaxis": "y"
        },
        {
         "hovertemplate": "<b>%{hovertext}</b><br><br>Brand=strayfe<br>แกนคุณลักษณะหลักที่ 1 (PC1)=%{x}<br>แกนคุณลักษณะหลักที่ 2 (PC2)=%{y}<extra></extra>",
         "hovertext": [
          "M55 Pro 8k"
         ],
         "legendgroup": "strayfe",
         "marker": {
          "color": "#FF97FF",
          "symbol": "circle"
         },
         "mode": "markers",
         "name": "strayfe",
         "showlegend": true,
         "type": "scattergl",
         "x": {
          "bdata": "5DZpYkgO978=",
          "dtype": "f8"
         },
         "xaxis": "x",
         "y": {
          "bdata": "Wk+nGYkV5z8=",
          "dtype": "f8"
         },
         "yaxis": "y"
        },
        {
         "hovertemplate": "<b>%{hovertext}</b><br><br>Brand=Waizowl<br>แกนคุณลักษณะหลักที่ 1 (PC1)=%{x}<br>แกนคุณลักษณะหลักที่ 2 (PC2)=%{y}<extra></extra>",
         "hovertext": [
          "OGM Cloud XS",
          "OGM One",
          "OGM Cloud V2",
          "OGM Pro V2",
          "OGM Cloud",
          "OGM Pro"
         ],
         "legendgroup": "Waizowl",
         "marker": {
          "color": "#FECB52",
          "symbol": "circle"
         },
         "mode": "markers",
         "name": "Waizowl",
         "showlegend": true,
         "type": "scattergl",
         "x": {
          "bdata": "PB+N/hgxAcDy4H1nnwfkP+WGO4V8EPC/FAem743T7781eEN53Jvlv+CyGK/px7g/",
          "dtype": "f8"
         },
         "xaxis": "x",
         "y": {
          "bdata": "CgPaeZ4p5j+1lFNq/ODpvxk92xUFHfM/PAMn5fgE9D9OamsYzyjnPyC7jfxiNMA/",
          "dtype": "f8"
         },
         "yaxis": "y"
        },
        {
         "hovertemplate": "<b>%{hovertext}</b><br><br>Brand=cOoLm0Dz<br>แกนคุณลักษณะหลักที่ 1 (PC1)=%{x}<br>แกนคุณลักษณะหลักที่ 2 (PC2)=%{y}<extra></extra>",
         "hovertext": [
          "OPt1p",
          "finalt1p"
         ],
         "legendgroup": "cOoLm0Dz",
         "marker": {
          "color": "#636efa",
          "symbol": "circle"
         },
         "mode": "markers",
         "name": "cOoLm0Dz",
         "showlegend": true,
         "type": "scattergl",
         "x": {
          "bdata": "GGbi0JSeC8CIsuYxWjwNwA==",
          "dtype": "f8"
         },
         "xaxis": "x",
         "y": {
          "bdata": "2vBYr0EztT+PH5eyLmzKPw==",
          "dtype": "f8"
         },
         "yaxis": "y"
        },
        {
         "hovertemplate": "<b>%{hovertext}</b><br><br>Brand=IPI<br>แกนคุณลักษณะหลักที่ 1 (PC1)=%{x}<br>แกนคุณลักษณะหลักที่ 2 (PC2)=%{y}<extra></extra>",
         "hovertext": [
          "Float"
         ],
         "legendgroup": "IPI",
         "marker": {
          "color": "#EF553B",
          "symbol": "circle"
         },
         "mode": "markers",
         "name": "IPI",
         "showlegend": true,
         "type": "scattergl",
         "x": {
          "bdata": "FFKFpnUXAcA=",
          "dtype": "f8"
         },
         "xaxis": "x",
         "y": {
          "bdata": "WgqFVYk85z8=",
          "dtype": "f8"
         },
         "yaxis": "y"
        },
        {
         "hovertemplate": "<b>%{hovertext}</b><br><br>Brand=PHYLINA<br>แกนคุณลักษณะหลักที่ 1 (PC1)=%{x}<br>แกนคุณลักษณะหลักที่ 2 (PC2)=%{y}<extra></extra>",
         "hovertext": [
          "S480",
          "S450 4K",
          "S450"
         ],
         "legendgroup": "PHYLINA",
         "marker": {
          "color": "#00cc96",
          "symbol": "circle"
         },
         "mode": "markers",
         "name": "PHYLINA",
         "showlegend": true,
         "type": "scattergl",
         "x": {
          "bdata": "EyEOwjH0AMDsKK9oc+nzv7cDnhfry/C/",
          "dtype": "f8"
         },
         "xaxis": "x",
         "y": {
          "bdata": "eIKWI0fe8z9RVmacOvbaP2SvEshJfcY/",
          "dtype": "f8"
         },
         "yaxis": "y"
        },
        {
         "hovertemplate": "<b>%{hovertext}</b><br><br>Brand=Amazon<br>แกนคุณลักษณะหลักที่ 1 (PC1)=%{x}<br>แกนคุณลักษณะหลักที่ 2 (PC2)=%{y}<extra></extra>",
         "hovertext": [
          "Basics Mouse"
         ],
         "legendgroup": "Amazon",
         "marker": {
          "color": "#ab63fa",
          "symbol": "circle"
         },
         "mode": "markers",
         "name": "Amazon",
         "showlegend": true,
         "type": "scattergl",
         "x": {
          "bdata": "ou0uv2iB5b8=",
          "dtype": "f8"
         },
         "xaxis": "x",
         "y": {
          "bdata": "r01EdLEvGsA=",
          "dtype": "f8"
         },
         "yaxis": "y"
        },
        {
         "hovertemplate": "<b>%{hovertext}</b><br><br>Brand=TMKB<br>แกนคุณลักษณะหลักที่ 1 (PC1)=%{x}<br>แกนคุณลักษณะหลักที่ 2 (PC2)=%{y}<extra></extra>",
         "hovertext": [
          "Falcon M1SE"
         ],
         "legendgroup": "TMKB",
         "marker": {
          "color": "#FFA15A",
          "symbol": "circle"
         },
         "mode": "markers",
         "name": "TMKB",
         "showlegend": true,
         "type": "scattergl",
         "x": {
          "bdata": "YJkbrZBHkD8=",
          "dtype": "f8"
         },
         "xaxis": "x",
         "y": {
          "bdata": "+mwww/DW4r8=",
          "dtype": "f8"
         },
         "yaxis": "y"
        },
        {
         "hovertemplate": "<b>%{hovertext}</b><br><br>Brand=Madlions<br>แกนคุณลักษณะหลักที่ 1 (PC1)=%{x}<br>แกนคุณลักษณะหลักที่ 2 (PC2)=%{y}<extra></extra>",
         "hovertext": [
          "Mad G Max",
          "Mad G"
         ],
         "legendgroup": "Madlions",
         "marker": {
          "color": "#19d3f3",
          "symbol": "circle"
         },
         "mode": "markers",
         "name": "Madlions",
         "showlegend": true,
         "type": "scattergl",
         "x": {
          "bdata": "U/KHDQGe8r8iq9G4rHjqvw==",
          "dtype": "f8"
         },
         "xaxis": "x",
         "y": {
          "bdata": "4zr5kmiG8z82cUibs9PoPw==",
          "dtype": "f8"
         },
         "yaxis": "y"
        },
        {
         "hovertemplate": "<b>%{hovertext}</b><br><br>Brand=Mountain<br>แกนคุณลักษณะหลักที่ 1 (PC1)=%{x}<br>แกนคุณลักษณะหลักที่ 2 (PC2)=%{y}<extra></extra>",
         "hovertext": [
          "Makalu Max",
          "Makalu 67"
         ],
         "legendgroup": "Mountain",
         "marker": {
          "color": "#FF6692",
          "symbol": "circle"
         },
         "mode": "markers",
         "name": "Mountain",
         "showlegend": true,
         "type": "scattergl",
         "x": {
          "bdata": "nqbh1WOKCEChRTEN0ev+Pw==",
          "dtype": "f8"
         },
         "xaxis": "x",
         "y": {
          "bdata": "QfYoiOZxsj8oGrK9QonuPw==",
          "dtype": "f8"
         },
         "yaxis": "y"
        },
        {
         "hovertemplate": "<b>%{hovertext}</b><br><br>Brand=Edifier<br>แกนคุณลักษณะหลักที่ 1 (PC1)=%{x}<br>แกนคุณลักษณะหลักที่ 2 (PC2)=%{y}<extra></extra>",
         "hovertext": [
          "Hecate G5M Pro",
          "Hecate G5M",
          "Hecate G3M Pro"
         ],
         "legendgroup": "Edifier",
         "marker": {
          "color": "#B6E880",
          "symbol": "circle"
         },
         "mode": "markers",
         "name": "Edifier",
         "showlegend": true,
         "type": "scattergl",
         "x": {
          "bdata": "WCvIesCl5b8J2CZkd/Hgv5cZ25ItgPC/",
          "dtype": "f8"
         },
         "xaxis": "x",
         "y": {
          "bdata": "WgGgUF7o1j8r1qiqLh/FP/DCNptUzNW/",
          "dtype": "f8"
         },
         "yaxis": "y"
        },
        {
         "hovertemplate": "<b>%{hovertext}</b><br><br>Brand=EVGA<br>แกนคุณลักษณะหลักที่ 1 (PC1)=%{x}<br>แกนคุณลักษณะหลักที่ 2 (PC2)=%{y}<extra></extra>",
         "hovertext": [
          "X20",
          "X17",
          "X15",
          "X12"
         ],
         "legendgroup": "EVGA",
         "marker": {
          "color": "#FF97FF",
          "symbol": "circle"
         },
         "mode": "markers",
         "name": "EVGA",
         "showlegend": true,
         "type": "scattergl",
         "x": {
          "bdata": "NzCuGKKhC0DuHq4/62kEQMLxD0YdbA1Aj2r+kbwApz8=",
          "dtype": "f8"
         },
         "xaxis": "x",
         "y": {
          "bdata": "PSkH/vHd07+8o4poufzmP8Y3iDKJOvE/qUCxrbEf3T8=",
          "dtype": "f8"
         },
         "yaxis": "y"
        },
        {
         "hovertemplate": "<b>%{hovertext}</b><br><br>Brand=8BitDo<br>แกนคุณลักษณะหลักที่ 1 (PC1)=%{x}<br>แกนคุณลักษณะหลักที่ 2 (PC2)=%{y}<extra></extra>",
         "hovertext": [
          "Retro R8"
         ],
         "legendgroup": "8BitDo",
         "marker": {
          "color": "#FECB52",
          "symbol": "circle"
         },
         "mode": "markers",
         "name": "8BitDo",
         "showlegend": true,
         "type": "scattergl",
         "x": {
          "bdata": "6CjjEWyH9r8=",
          "dtype": "f8"
         },
         "xaxis": "x",
         "y": {
          "bdata": "1TKqEus53L8=",
          "dtype": "f8"
         },
         "yaxis": "y"
        },
        {
         "hovertemplate": "<b>%{hovertext}</b><br><br>Brand=ANTGAMER<br>แกนคุณลักษณะหลักที่ 1 (PC1)=%{x}<br>แกนคุณลักษณะหลักที่ 2 (PC2)=%{y}<extra></extra>",
         "hovertext": [
          "AGM535R"
         ],
         "legendgroup": "ANTGAMER",
         "marker": {
          "color": "#636efa",
          "symbol": "circle"
         },
         "mode": "markers",
         "name": "ANTGAMER",
         "showlegend": true,
         "type": "scattergl",
         "x": {
          "bdata": "sj46oa0r778=",
          "dtype": "f8"
         },
         "xaxis": "x",
         "y": {
          "bdata": "GQBaZAqm8j8=",
          "dtype": "f8"
         },
         "yaxis": "y"
        },
        {
         "hovertemplate": "<b>%{hovertext}</b><br><br>Brand=RAKK<br>แกนคุณลักษณะหลักที่ 1 (PC1)=%{x}<br>แกนคุณลักษณะหลักที่ 2 (PC2)=%{y}<extra></extra>",
         "hovertext": [
          "Talan Aero",
          "Kaptan Wired",
          "Talan Air",
          "Talan",
          "Tanaw",
          "Kaptan Trimode",
          "MAG-AN",
          "BULUS",
          "Gahum"
         ],
         "legendgroup": "RAKK",
         "marker": {
          "color": "#EF553B",
          "symbol": "circle"
         },
         "mode": "markers",
         "name": "RAKK",
         "showlegend": true,
         "type": "scattergl",
         "x": {
          "bdata": "AwwGjYhD8b/UlUfAbKn8P74jDT80uMi/4BowQBqDzL/Js0VmOCr1v6VErSG5VNE/tch3C1UN+7+/Yw+Gyw66v9KpPl8s7eK/",
          "dtype": "f8"
         },
         "xaxis": "x",
         "y": {
          "bdata": "T+y4JLwNhz/FHPsX3rzFP7LfP+vp29S/tSHIqXdF7L9bBJdGx2rOvxHH+5l8COE/jNCa+cxg8L9/NtNGG2rzv62wYSF4MdE/",
          "dtype": "f8"
         },
         "yaxis": "y"
        },
        {
         "hovertemplate": "<b>%{hovertext}</b><br><br>Brand=Scyrox<br>แกนคุณลักษณะหลักที่ 1 (PC1)=%{x}<br>แกนคุณลักษณะหลักที่ 2 (PC2)=%{y}<extra></extra>",
         "hovertext": [
          "V6",
          "V8"
         ],
         "legendgroup": "Scyrox",
         "marker": {
          "color": "#00cc96",
          "symbol": "circle"
         },
         "mode": "markers",
         "name": "Scyrox",
         "showlegend": true,
         "type": "scattergl",
         "x": {
          "bdata": "8+ivD62//78IE+a7iTUBwA==",
          "dtype": "f8"
         },
         "xaxis": "x",
         "y": {
          "bdata": "lsF1x42t8j/rhy044q/yPw==",
          "dtype": "f8"
         },
         "yaxis": "y"
        },
        {
         "hovertemplate": "<b>%{hovertext}</b><br><br>Brand=Ragnok<br>แกนคุณลักษณะหลักที่ 1 (PC1)=%{x}<br>แกนคุณลักษณะหลักที่ 2 (PC2)=%{y}<extra></extra>",
         "hovertext": [
          "ErgoStrike7",
          "2 (FireGrip)"
         ],
         "legendgroup": "Ragnok",
         "marker": {
          "color": "#ab63fa",
          "symbol": "circle"
         },
         "mode": "markers",
         "name": "Ragnok",
         "showlegend": true,
         "type": "scattergl",
         "x": {
          "bdata": "EGQnAf0lMkBgOlUp4FYsQA==",
          "dtype": "f8"
         },
         "xaxis": "x",
         "y": {
          "bdata": "Os9AxQFUJkCUeyaQXmkiQA==",
          "dtype": "f8"
         },
         "yaxis": "y"
        },
        {
         "hovertemplate": "<b>%{hovertext}</b><br><br>Brand=Aigo<br>แกนคุณลักษณะหลักที่ 1 (PC1)=%{x}<br>แกนคุณลักษณะหลักที่ 2 (PC2)=%{y}<extra></extra>",
         "hovertext": [
          "GM80 Pro",
          "GM80 Plus",
          "GM80"
         ],
         "legendgroup": "Aigo",
         "marker": {
          "color": "#FFA15A",
          "symbol": "circle"
         },
         "mode": "markers",
         "name": "Aigo",
         "showlegend": true,
         "type": "scattergl",
         "x": {
          "bdata": "fSe/j8Dh97/WCWOVf2fyv67k9AugAvS/",
          "dtype": "f8"
         },
         "xaxis": "x",
         "y": {
          "bdata": "Cs3mT1kbq79gn54vaIPlv6UnrP+mweG/",
          "dtype": "f8"
         },
         "yaxis": "y"
        },
        {
         "hovertemplate": "<b>%{hovertext}</b><br><br>Brand=LTC<br>แกนคุณลักษณะหลักที่ 1 (PC1)=%{x}<br>แกนคุณลักษณะหลักที่ 2 (PC2)=%{y}<extra></extra>",
         "hovertext": [
          "GM022"
         ],
         "legendgroup": "LTC",
         "marker": {
          "color": "#19d3f3",
          "symbol": "circle"
         },
         "mode": "markers",
         "name": "LTC",
         "showlegend": true,
         "type": "scattergl",
         "x": {
          "bdata": "HkjOYDCS7b8=",
          "dtype": "f8"
         },
         "xaxis": "x",
         "y": {
          "bdata": "r299t3FklD8=",
          "dtype": "f8"
         },
         "yaxis": "y"
        },
        {
         "hovertemplate": "<b>%{hovertext}</b><br><br>Brand=Swiftpoint<br>แกนคุณลักษณะหลักที่ 1 (PC1)=%{x}<br>แกนคุณลักษณะหลักที่ 2 (PC2)=%{y}<extra></extra>",
         "hovertext": [
          "Z2",
          "Creator",
          "Tracer",
          "ErgoPoint"
         ],
         "legendgroup": "Swiftpoint",
         "marker": {
          "color": "#FF6692",
          "symbol": "circle"
         },
         "mode": "markers",
         "name": "Swiftpoint",
         "showlegend": true,
         "type": "scattergl",
         "x": {
          "bdata": "PV+5kTCYEUDw76uy+I8SQPDvq7L4jxJAU0Ps7EcXG0A=",
          "dtype": "f8"
         },
         "xaxis": "x",
         "y": {
          "bdata": "0icjfW278D/RlJiP6WbhP9GUmI/pZuE/YHkXd4AlBsA=",
          "dtype": "f8"
         },
         "yaxis": "y"
        },
        {
         "hovertemplate": "<b>%{hovertext}</b><br><br>Brand=MACHENIKE<br>แกนคุณลักษณะหลักที่ 1 (PC1)=%{x}<br>แกนคุณลักษณะหลักที่ 2 (PC2)=%{y}<extra></extra>",
         "hovertext": [
          "M7 Pro",
          "L8 Max",
          "L8 Air",
          "L8 Pro",
          "L7 Air"
         ],
         "legendgroup": "MACHENIKE",
         "marker": {
          "color": "#B6E880",
          "symbol": "circle"
         },
         "mode": "markers",
         "name": "MACHENIKE",
         "showlegend": true,
         "type": "scattergl",
         "x": {
          "bdata": "B1GBLo8R4b+pW/nCS4n9PwVkkFm7udE//Np8d0gU/T/ozm98SEf2vw==",
          "dtype": "f8"
         },
         "xaxis": "x",
         "y": {
          "bdata": "C83dc2It3b+3veoK/U31P7F4LBt+r9I/ETGjxBPT2D+7/PCxc5TFPw==",
          "dtype": "f8"
         },
         "yaxis": "y"
        },
        {
         "hovertemplate": "<b>%{hovertext}</b><br><br>Brand=Xiaomi<br>แกนคุณลักษณะหลักที่ 1 (PC1)=%{x}<br>แกนคุณลักษณะหลักที่ 2 (PC2)=%{y}<extra></extra>",
         "hovertext": [
          "X1"
         ],
         "legendgroup": "Xiaomi",
         "marker": {
          "color": "#FF97FF",
          "symbol": "circle"
         },
         "mode": "markers",
         "name": "Xiaomi",
         "showlegend": true,
         "type": "scattergl",
         "x": {
          "bdata": "Uk/B+NfM6r8=",
          "dtype": "f8"
         },
         "xaxis": "x",
         "y": {
          "bdata": "QIplvLjT6D8=",
          "dtype": "f8"
         },
         "yaxis": "y"
        },
        {
         "hovertemplate": "<b>%{hovertext}</b><br><br>Brand=Apple<br>แกนคุณลักษณะหลักที่ 1 (PC1)=%{x}<br>แกนคุณลักษณะหลักที่ 2 (PC2)=%{y}<extra></extra>",
         "hovertext": [
          "Magic Mouse"
         ],
         "legendgroup": "Apple",
         "marker": {
          "color": "#FECB52",
          "symbol": "circle"
         },
         "mode": "markers",
         "name": "Apple",
         "showlegend": true,
         "type": "scattergl",
         "x": {
          "bdata": "46g082V/vr8=",
          "dtype": "f8"
         },
         "xaxis": "x",
         "y": {
          "bdata": "egDnvLscJcA=",
          "dtype": "f8"
         },
         "yaxis": "y"
        },
        {
         "hovertemplate": "<b>%{hovertext}</b><br><br>Brand=HUO<br>แกนคุณลักษณะหลักที่ 1 (PC1)=%{x}<br>แกนคุณลักษณะหลักที่ 2 (PC2)=%{y}<extra></extra>",
         "hovertext": [
          "JI E-YOOSO"
         ],
         "legendgroup": "HUO",
         "marker": {
          "color": "#636efa",
          "symbol": "circle"
         },
         "mode": "markers",
         "name": "HUO",
         "showlegend": true,
         "type": "scattergl",
         "x": {
          "bdata": "CspXf0oI6r8=",
          "dtype": "f8"
         },
         "xaxis": "x",
         "y": {
          "bdata": "aWOoVDRg4D8=",
          "dtype": "f8"
         },
         "yaxis": "y"
        },
        {
         "hovertemplate": "<b>%{hovertext}</b><br><br>Brand=Nixeus<br>แกนคุณลักษณะหลักที่ 1 (PC1)=%{x}<br>แกนคุณลักษณะหลักที่ 2 (PC2)=%{y}<extra></extra>",
         "hovertext": [
          "Revel Fit",
          "Revel-X",
          "Revel"
         ],
         "legendgroup": "Nixeus",
         "marker": {
          "color": "#EF553B",
          "symbol": "circle"
         },
         "mode": "markers",
         "name": "Nixeus",
         "showlegend": true,
         "type": "scattergl",
         "x": {
          "bdata": "ETCgJgsqBkBTK7Q0X+S5vy8Zu3bdT+A/",
          "dtype": "f8"
         },
         "xaxis": "x",
         "y": {
          "bdata": "zxu8IrSTgj+50qXTZhvwvzvYmj+Peue/",
          "dtype": "f8"
         },
         "yaxis": "y"
        },
        {
         "hovertemplate": "<b>%{hovertext}</b><br><br>Brand=AIM1<br>แกนคุณลักษณะหลักที่ 1 (PC1)=%{x}<br>แกนคุณลักษณะหลักที่ 2 (PC2)=%{y}<extra></extra>",
         "hovertext": [
          "Shigure"
         ],
         "legendgroup": "AIM1",
         "marker": {
          "color": "#00cc96",
          "symbol": "circle"
         },
         "mode": "markers",
         "name": "AIM1",
         "showlegend": true,
         "type": "scattergl",
         "x": {
          "bdata": "2kZAr+Xw+r8=",
          "dtype": "f8"
         },
         "xaxis": "x",
         "y": {
          "bdata": "s7eJecYD8D8=",
          "dtype": "f8"
         },
         "yaxis": "y"
        },
        {
         "hovertemplate": "<b>%{hovertext}</b><br><br>Brand=CC<br>แกนคุณลักษณะหลักที่ 1 (PC1)=%{x}<br>แกนคุณลักษณะหลักที่ 2 (PC2)=%{y}<extra></extra>",
         "hovertext": [
          "Beanmouse LHD Small",
          "Beanmouse Small",
          "Beanmouse LHD Large",
          "Beanmouse Large"
         ],
         "legendgroup": "CC",
         "marker": {
          "color": "#ab63fa",
          "symbol": "circle"
         },
         "mode": "markers",
         "name": "CC",
         "showlegend": true,
         "type": "scattergl",
         "x": {
          "bdata": "J52UR/wJEsAnnZRH/AkSwFHbax1D0QvAUdtrHUPRC8A=",
          "dtype": "f8"
         },
         "xaxis": "x",
         "y": {
          "bdata": "RbNp8frv979Fs2nx+u/3v+nPs+gA/OO/6c+z6AD8478=",
          "dtype": "f8"
         },
         "yaxis": "y"
        },
        {
         "hovertemplate": "<b>%{hovertext}</b><br><br>Brand=Xtrfy<br>แกนคุณลักษณะหลักที่ 1 (PC1)=%{x}<br>แกนคุณลักษณะหลักที่ 2 (PC2)=%{y}<extra></extra>",
         "hovertext": [
          "M42",
          "M42 (lower back)",
          "M8 Wireless",
          "M42 Wireless",
          "M4",
          "M4 Wireless",
          "MZ1",
          "MZ1 Wireless"
         ],
         "legendgroup": "Xtrfy",
         "marker": {
          "color": "#FFA15A",
          "symbol": "circle"
         },
         "mode": "markers",
         "name": "Xtrfy",
         "showlegend": true,
         "type": "scattergl",
         "x": {
          "bdata": "HxZgUfVP7L8fFmBR9U/sv6lgXm6k0/S/ArrPPlag57/AchMKCYL0P3q9m/JccPQ/X2He7dKE+r9r5mPqVs34vw==",
          "dtype": "f8"
         },
         "xaxis": "x",
         "y": {
          "bdata": "J4OW59ET4r8ng5bn0RPiv9fWP09wSMa/2ofl5Ej15b/pdvQO5062PwVB9xGKO8I/vKDMjNCM8r+VRbapGfvzvw==",
          "dtype": "f8"
         },
         "yaxis": "y"
        },
        {
         "hovertemplate": "<b>%{hovertext}</b><br><br>Brand=Cooler<br>แกนคุณลักษณะหลักที่ 1 (PC1)=%{x}<br>แกนคุณลักษณะหลักที่ 2 (PC2)=%{y}<extra></extra>",
         "hovertext": [
          "Master CM310",
          "Master MM731",
          "Master MM730",
          "Master MM711 Lite",
          "Master MM831",
          "Master MM530",
          "Master MM531",
          "Master MM830",
          "Master CM110",
          "Master MM711",
          "Master MM710",
          "Master MM310",
          "Master MM720",
          "Master MM712"
         ],
         "legendgroup": "Cooler",
         "marker": {
          "color": "#19d3f3",
          "symbol": "circle"
         },
         "mode": "markers",
         "name": "Cooler",
         "showlegend": true,
         "type": "scattergl",
         "x": {
          "bdata": "VByEH9e49D/W5MVGzqTyPyP08qpFru4/QROJjjGm6r9fG3FKojkHQODOHDZCU/w/Rr0gPDCe+T+d29zMQ6YVQB+3yWKqZ60/RB5aP+cr7b8BMTBAWV/xv0+0MvEnNL8/0mb68dlc6D+OAsfpKTbwvw==",
          "dtype": "f8"
         },
         "xaxis": "x",
         "y": {
          "bdata": "H0CKZ4qQ6r8G6xoGfnrjP0iORc9o/eg/QzK30i2Z6r9/KqbMfWTBP32JErBrr+6/Y235JL2c6L8Hs/ptoELLP5AMJBKd0f6/eWFO1yKj5L/9zEXuNlvcv4c/r1LXbtw/1zhnv5IR0D8JCF4lI7Pevw==",
          "dtype": "f8"
         },
         "yaxis": "y"
        },
        {
         "hovertemplate": "<b>%{hovertext}</b><br><br>Brand=Higround<br>แกนคุณลักษณะหลักที่ 1 (PC1)=%{x}<br>แกนคุณลักษณะหลักที่ 2 (PC2)=%{y}<extra></extra>",
         "hovertext": [
          "Yuma"
         ],
         "legendgroup": "Higround",
         "marker": {
          "color": "#FF6692",
          "symbol": "circle"
         },
         "mode": "markers",
         "name": "Higround",
         "showlegend": true,
         "type": "scattergl",
         "x": {
          "bdata": "dwtYmJ637b8=",
          "dtype": "f8"
         },
         "xaxis": "x",
         "y": {
          "bdata": "KtcjXfad6j8=",
          "dtype": "f8"
         },
         "yaxis": "y"
        },
        {
         "hovertemplate": "<b>%{hovertext}</b><br><br>Brand=COMMATECH<br>แกนคุณลักษณะหลักที่ 1 (PC1)=%{x}<br>แกนคุณลักษณะหลักที่ 2 (PC2)=%{y}<extra></extra>",
         "hovertext": [
          "FKMINI4"
         ],
         "legendgroup": "COMMATECH",
         "marker": {
          "color": "#B6E880",
          "symbol": "circle"
         },
         "mode": "markers",
         "name": "COMMATECH",
         "showlegend": true,
         "type": "scattergl",
         "x": {
          "bdata": "4z9QKkcPBsA=",
          "dtype": "f8"
         },
         "xaxis": "x",
         "y": {
          "bdata": "wiI68Kxy5L8=",
          "dtype": "f8"
         },
         "yaxis": "y"
        },
        {
         "hovertemplate": "<b>%{hovertext}</b><br><br>Brand=Turtle<br>แกนคุณลักษณะหลักที่ 1 (PC1)=%{x}<br>แกนคุณลักษณะหลักที่ 2 (PC2)=%{y}<extra></extra>",
         "hovertext": [
          "Beach Kone II Air",
          "Beach Kone II",
          "Beach Kone XP Air",
          "Beach Burst II Air",
          "Beach Pure Air",
          "Beach Pure SEL"
         ],
         "legendgroup": "Turtle",
         "marker": {
          "color": "#FF97FF",
          "symbol": "circle"
         },
         "mode": "markers",
         "name": "Turtle",
         "showlegend": true,
         "type": "scattergl",
         "x": {
          "bdata": "L94WJDP5EEC3pe1ENZEOQIsNct+9SgpAADqiXw3t57+tQ+NuaXfqP5jqS8jcUPA/",
          "dtype": "f8"
         },
         "xaxis": "x",
         "y": {
          "bdata": "fz2KhMBq9T/2FUyGTrj7P3XDlVrIWeA/cm8PqKd/4z+N9aMp4SbsP5QPwfvfTNc/",
          "dtype": "f8"
         },
         "yaxis": "y"
        },
        {
         "hovertemplate": "<b>%{hovertext}</b><br><br>Brand=xtro<br>แกนคุณลักษณะหลักที่ 1 (PC1)=%{x}<br>แกนคุณลักษณะหลักที่ 2 (PC2)=%{y}<extra></extra>",
         "hovertext": [
          "Eris"
         ],
         "legendgroup": "xtro",
         "marker": {
          "color": "#FECB52",
          "symbol": "circle"
         },
         "mode": "markers",
         "name": "xtro",
         "showlegend": true,
         "type": "scattergl",
         "x": {
          "bdata": "3GU3LRPE8z8=",
          "dtype": "f8"
         },
         "xaxis": "x",
         "y": {
          "bdata": "24enKFgh5D8=",
          "dtype": "f8"
         },
         "yaxis": "y"
        },
        {
         "hovertemplate": "<b>%{hovertext}</b><br><br>Brand=Noir<br>แกนคุณลักษณะหลักที่ 1 (PC1)=%{x}<br>แกนคุณลักษณะหลักที่ 2 (PC2)=%{y}<extra></extra>",
         "hovertext": [
          "M1",
          "M1 Lite",
          "M2 MG",
          "M2 Pro",
          "M2"
         ],
         "legendgroup": "Noir",
         "marker": {
          "color": "#636efa",
          "symbol": "circle"
         },
         "mode": "markers",
         "name": "Noir",
         "showlegend": true,
         "type": "scattergl",
         "x": {
          "bdata": "7XxGkvDm57+cS/kxouziv9jRCBwZs/q/GhCGbd5Y9b/k6nQcVjvyvw==",
          "dtype": "f8"
         },
         "xaxis": "x",
         "y": {
          "bdata": "DtuB5oE06L9voK8e80Pxv0rO/DhPEds/L5FFnT0NgT8lpOWWV17Ovw==",
          "dtype": "f8"
         },
         "yaxis": "y"
        },
        {
         "hovertemplate": "<b>%{hovertext}</b><br><br>Brand=Vancer<br>แกนคุณลักษณะหลักที่ 1 (PC1)=%{x}<br>แกนคุณลักษณะหลักที่ 2 (PC2)=%{y}<extra></extra>",
         "hovertext": [
          "x Arbiter Studio AKITSU",
          "Thrash",
          "Groove",
          "Gretxa",
          "Gemini Castor",
          "Gemini Pollux"
         ],
         "legendgroup": "Vancer",
         "marker": {
          "color": "#EF553B",
          "symbol": "circle"
         },
         "mode": "markers",
         "name": "Vancer",
         "showlegend": true,
         "type": "scattergl",
         "x": {
          "bdata": "hbilMUVvA8CTSVC4nCDzv4zxklM2kvK/HODoz4OK2r+B2axJ2PD2v8f33+twxNU/",
          "dtype": "f8"
         },
         "xaxis": "x",
         "y": {
          "bdata": "2Mpu45ET5j9clJY3KyjlP4FFVLJ93+c/6KLn0wvW8L8jmNBAXzHCv5s+kDiTUeQ/",
          "dtype": "f8"
         },
         "yaxis": "y"
        },
        {
         "hovertemplate": "<b>%{hovertext}</b><br><br>Brand=GANSS<br>แกนคุณลักษณะหลักที่ 1 (PC1)=%{x}<br>แกนคุณลักษณะหลักที่ 2 (PC2)=%{y}<extra></extra>",
         "hovertext": [
          "FLX3 4K",
          "FLX3"
         ],
         "legendgroup": "GANSS",
         "marker": {
          "color": "#00cc96",
          "symbol": "circle"
         },
         "mode": "markers",
         "name": "GANSS",
         "showlegend": true,
         "type": "scattergl",
         "x": {
          "bdata": "HsLIGxB+4T+JDOu9ILnnPw==",
          "dtype": "f8"
         },
         "xaxis": "x",
         "y": {
          "bdata": "SShLUPgh8T9F0WfEJWjqPw==",
          "dtype": "f8"
         },
         "yaxis": "y"
        },
        {
         "hovertemplate": "<b>%{hovertext}</b><br><br>Brand=IFYOO<br>แกนคุณลักษณะหลักที่ 1 (PC1)=%{x}<br>แกนคุณลักษณะหลักที่ 2 (PC2)=%{y}<extra></extra>",
         "hovertext": [
          "G63",
          "G03 (Long)",
          "G03 (Short)"
         ],
         "legendgroup": "IFYOO",
         "marker": {
          "color": "#ab63fa",
          "symbol": "circle"
         },
         "mode": "markers",
         "name": "IFYOO",
         "showlegend": true,
         "type": "scattergl",
         "x": {
          "bdata": "REl4gaDm8b9/Pk4bm/yiP9oTLcec0c6/",
          "dtype": "f8"
         },
         "xaxis": "x",
         "y": {
          "bdata": "mdXU09z90D8yDn/MkVDCv/lcfnqOvt+/",
          "dtype": "f8"
         },
         "yaxis": "y"
        },
        {
         "hovertemplate": "<b>%{hovertext}</b><br><br>Brand=Monka<br>แกนคุณลักษณะหลักที่ 1 (PC1)=%{x}<br>แกนคุณลักษณะหลักที่ 2 (PC2)=%{y}<extra></extra>",
         "hovertext": [
          "M1 Pro Max",
          "M1 Pro",
          "M1",
          "M3 Pro",
          "M3",
          "G995W"
         ],
         "legendgroup": "Monka",
         "marker": {
          "color": "#FFA15A",
          "symbol": "circle"
         },
         "mode": "markers",
         "name": "Monka",
         "showlegend": true,
         "type": "scattergl",
         "x": {
          "bdata": "rpjZDT7z9b+umNkNPvP1v3hzyLy11fK/4vulIRJB9b+r1pTQiSPyv6kGQKVJCe+/",
          "dtype": "f8"
         },
         "xaxis": "x",
         "y": {
          "bdata": "Q769EZi6wz9Dvr0RmLrDP/N9+L0mabe/5p+KyorF0j9DCm2RqG+oP/exM6d5X5M/",
          "dtype": "f8"
         },
         "yaxis": "y"
        },
        {
         "hovertemplate": "<b>%{hovertext}</b><br><br>Brand=MSI<br>แกนคุณลักษณะหลักที่ 1 (PC1)=%{x}<br>แกนคุณลักษณะหลักที่ 2 (PC2)=%{y}<extra></extra>",
         "hovertext": [
          "Clutch GM41"
         ],
         "legendgroup": "MSI",
         "marker": {
          "color": "#19d3f3",
          "symbol": "circle"
         },
         "mode": "markers",
         "name": "MSI",
         "showlegend": true,
         "type": "scattergl",
         "x": {
          "bdata": "T+uG4DOWxT8=",
          "dtype": "f8"
         },
         "xaxis": "x",
         "y": {
          "bdata": "hypFaq33sr8=",
          "dtype": "f8"
         },
         "yaxis": "y"
        },
        {
         "hovertemplate": "<b>%{hovertext}</b><br><br>Brand=Nitrite<br>แกนคุณลักษณะหลักที่ 1 (PC1)=%{x}<br>แกนคุณลักษณะหลักที่ 2 (PC2)=%{y}<extra></extra>",
         "hovertext": [
          "Labs Carbon XT1 Wireless",
          "Labs Carbon XT1 Wired"
         ],
         "legendgroup": "Nitrite",
         "marker": {
          "color": "#FF6692",
          "symbol": "circle"
         },
         "mode": "markers",
         "name": "Nitrite",
         "showlegend": true,
         "type": "scattergl",
         "x": {
          "bdata": "lvjVEY4cDMCrNBRnxowMwA==",
          "dtype": "f8"
         },
         "xaxis": "x",
         "y": {
          "bdata": "MgxU0d6y4j+/GogOi+/kPw==",
          "dtype": "f8"
         },
         "yaxis": "y"
        },
        {
         "hovertemplate": "<b>%{hovertext}</b><br><br>Brand=TenTen<br>แกนคุณลักษณะหลักที่ 1 (PC1)=%{x}<br>แกนคุณลักษณะหลักที่ 2 (PC2)=%{y}<extra></extra>",
         "hovertext": [
          "Zero Gravity"
         ],
         "legendgroup": "TenTen",
         "marker": {
          "color": "#B6E880",
          "symbol": "circle"
         },
         "mode": "markers",
         "name": "TenTen",
         "showlegend": true,
         "type": "scattergl",
         "x": {
          "bdata": "ZZtY5rTsAMA=",
          "dtype": "f8"
         },
         "xaxis": "x",
         "y": {
          "bdata": "+r5BdhNl+T8=",
          "dtype": "f8"
         },
         "yaxis": "y"
        },
        {
         "hovertemplate": "<b>%{hovertext}</b><br><br>Brand=Nyfter<br>แกนคุณลักษณะหลักที่ 1 (PC1)=%{x}<br>แกนคุณลักษณะหลักที่ 2 (PC2)=%{y}<extra></extra>",
         "hovertext": [
          "ELT 4K"
         ],
         "legendgroup": "Nyfter",
         "marker": {
          "color": "#FF97FF",
          "symbol": "circle"
         },
         "mode": "markers",
         "name": "Nyfter",
         "showlegend": true,
         "type": "scattergl",
         "x": {
          "bdata": "6N6jot717b8=",
          "dtype": "f8"
         },
         "xaxis": "x",
         "y": {
          "bdata": "xOdpJYV82T8=",
          "dtype": "f8"
         },
         "yaxis": "y"
        },
        {
         "hovertemplate": "<b>%{hovertext}</b><br><br>Brand=IROK<br>แกนคุณลักษณะหลักที่ 1 (PC1)=%{x}<br>แกนคุณลักษณะหลักที่ 2 (PC2)=%{y}<extra></extra>",
         "hovertext": [
          "HE3 PRO",
          "HE3",
          "HE3 SE"
         ],
         "legendgroup": "IROK",
         "marker": {
          "color": "#FECB52",
          "symbol": "circle"
         },
         "mode": "markers",
         "name": "IROK",
         "showlegend": true,
         "type": "scattergl",
         "x": {
          "bdata": "+NGqh5vs9L/CrJk2E8/xv2blG4m3xOq/",
          "dtype": "f8"
         },
         "xaxis": "x",
         "y": {
          "bdata": "cVR5ZBKk0j+fruJg5WOnP1IYJrYe5eC/",
          "dtype": "f8"
         },
         "yaxis": "y"
        },
        {
         "hovertemplate": "<b>%{hovertext}</b><br><br>Brand=Alienware<br>แกนคุณลักษณะหลักที่ 1 (PC1)=%{x}<br>แกนคุณลักษณะหลักที่ 2 (PC2)=%{y}<extra></extra>",
         "hovertext": [
          "Pro Wireless",
          "AW620M",
          "AW610M",
          "AW720M",
          "AW320M"
         ],
         "legendgroup": "Alienware",
         "marker": {
          "color": "#636efa",
          "symbol": "circle"
         },
         "mode": "markers",
         "name": "Alienware",
         "showlegend": true,
         "type": "scattergl",
         "x": {
          "bdata": "lTDU5BRD77+h6Sy/qPMJQPfBWiDVwAZAEJoosQdYyL9Gii//u/Dbvw==",
          "dtype": "f8"
         },
         "xaxis": "x",
         "y": {
          "bdata": "VKDoEU0W7D98T4rHOjXwP3xhEpy18LI/qTzjcQyi6r+FLYjsR0flvw==",
          "dtype": "f8"
         },
         "yaxis": "y"
        },
        {
         "hovertemplate": "<b>%{hovertext}</b><br><br>Brand=Santali<br>แกนคุณลักษณะหลักที่ 1 (PC1)=%{x}<br>แกนคุณลักษณะหลักที่ 2 (PC2)=%{y}<extra></extra>",
         "hovertext": [
          "S1-O"
         ],
         "legendgroup": "Santali",
         "marker": {
          "color": "#EF553B",
          "symbol": "circle"
         },
         "mode": "markers",
         "name": "Santali",
         "showlegend": true,
         "type": "scattergl",
         "x": {
          "bdata": "aYKxmlkS9L8=",
          "dtype": "f8"
         },
         "xaxis": "x",
         "y": {
          "bdata": "8RoSejLW8T8=",
          "dtype": "f8"
         },
         "yaxis": "y"
        },
        {
         "hovertemplate": "<b>%{hovertext}</b><br><br>Brand=Hitscan<br>แกนคุณลักษณะหลักที่ 1 (PC1)=%{x}<br>แกนคุณลักษณะหลักที่ 2 (PC2)=%{y}<extra></extra>",
         "hovertext": [
          "Hyperlight"
         ],
         "legendgroup": "Hitscan",
         "marker": {
          "color": "#00cc96",
          "symbol": "circle"
         },
         "mode": "markers",
         "name": "Hitscan",
         "showlegend": true,
         "type": "scattergl",
         "x": {
          "bdata": "GWP+nkdQAcA=",
          "dtype": "f8"
         },
         "xaxis": "x",
         "y": {
          "bdata": "vTW+Iooe6z8=",
          "dtype": "f8"
         },
         "yaxis": "y"
        },
        {
         "hovertemplate": "<b>%{hovertext}</b><br><br>Brand=A4Tech<br>แกนคุณลักษณะหลักที่ 1 (PC1)=%{x}<br>แกนคุณลักษณะหลักที่ 2 (PC2)=%{y}<extra></extra>",
         "hovertext": [
          "XL-750BK",
          "XL-750BH",
          "Bloody V7"
         ],
         "legendgroup": "A4Tech",
         "marker": {
          "color": "#ab63fa",
          "symbol": "circle"
         },
         "mode": "markers",
         "name": "A4Tech",
         "showlegend": true,
         "type": "scattergl",
         "x": {
          "bdata": "GDwtneYeC0AYPC2d5h4LQGVzk8FtNxJA",
          "dtype": "f8"
         },
         "xaxis": "x",
         "y": {
          "bdata": "WqwH6maWFsBarAfqZpYWwMDVLO/eK/i/",
          "dtype": "f8"
         },
         "yaxis": "y"
        },
        {
         "hovertemplate": "<b>%{hovertext}</b><br><br>Brand=Zaunkoenig<br>แกนคุณลักษณะหลักที่ 1 (PC1)=%{x}<br>แกนคุณลักษณะหลักที่ 2 (PC2)=%{y}<extra></extra>",
         "hovertext": [
          "M3K",
          "M2K"
         ],
         "legendgroup": "Zaunkoenig",
         "marker": {
          "color": "#FFA15A",
          "symbol": "circle"
         },
         "mode": "markers",
         "name": "Zaunkoenig",
         "showlegend": true,
         "type": "scattergl",
         "x": {
          "bdata": "hoVZXqibE8BEDhhwEQ4TwA==",
          "dtype": "f8"
         },
         "xaxis": "x",
         "y": {
          "bdata": "4noL+0OO9b+xixg+GyX6vw==",
          "dtype": "f8"
         },
         "yaxis": "y"
        },
        {
         "hovertemplate": "<b>%{hovertext}</b><br><br>Brand=ELECOM<br>แกนคุณลักษณะหลักที่ 1 (PC1)=%{x}<br>แกนคุณลักษณะหลักที่ 2 (PC2)=%{y}<extra></extra>",
         "hovertext": [
          "VM501LBK",
          "VM501BK",
          "VM510BK",
          "VM610BK",
          "VM600PE"
         ],
         "legendgroup": "ELECOM",
         "marker": {
          "color": "#19d3f3",
          "symbol": "circle"
         },
         "mode": "markers",
         "name": "ELECOM",
         "showlegend": true,
         "type": "scattergl",
         "x": {
          "bdata": "ROEFZkxj/D8HQpcBxTLvPwegdI9TQfG/1eI+E3Qg9b8i987Y+LH4Pw==",
          "dtype": "f8"
         },
         "xaxis": "x",
         "y": {
          "bdata": "AlSUS9Yu6D+6mW5TYczTP/EN70NFb+S/bUwFZU99wb9C6kv09QDlPw==",
          "dtype": "f8"
         },
         "yaxis": "y"
        },
        {
         "hovertemplate": "<b>%{hovertext}</b><br><br>Brand=Irocks<br>แกนคุณลักษณะหลักที่ 1 (PC1)=%{x}<br>แกนคุณลักษณะหลักที่ 2 (PC2)=%{y}<extra></extra>",
         "hovertext": [
          "M31R"
         ],
         "legendgroup": "Irocks",
         "marker": {
          "color": "#FF6692",
          "symbol": "circle"
         },
         "mode": "markers",
         "name": "Irocks",
         "showlegend": true,
         "type": "scattergl",
         "x": {
          "bdata": "w+MjvRL+8T8=",
          "dtype": "f8"
         },
         "xaxis": "x",
         "y": {
          "bdata": "i1Lg4mxt5T8=",
          "dtype": "f8"
         },
         "yaxis": "y"
        },
        {
         "hovertemplate": "<b>%{hovertext}</b><br><br>Brand=GITOPER<br>แกนคุณลักษณะหลักที่ 1 (PC1)=%{x}<br>แกนคุณลักษณะหลักที่ 2 (PC2)=%{y}<extra></extra>",
         "hovertext": [
          "G1",
          "G3",
          "G2"
         ],
         "legendgroup": "GITOPER",
         "marker": {
          "color": "#B6E880",
          "symbol": "circle"
         },
         "mode": "markers",
         "name": "GITOPER",
         "showlegend": true,
         "type": "scattergl",
         "x": {
          "bdata": "nyVx3z+27D8m91g5hU3wP3KI6jpWWuC/",
          "dtype": "f8"
         },
         "xaxis": "x",
         "y": {
          "bdata": "ssLoHf026T8ufuC/W6LcP4tnsdplI9g/",
          "dtype": "f8"
         },
         "yaxis": "y"
        },
        {
         "hovertemplate": "<b>%{hovertext}</b><br><br>Brand=Cherry<br>แกนคุณลักษณะหลักที่ 1 (PC1)=%{x}<br>แกนคุณลักษณะหลักที่ 2 (PC2)=%{y}<extra></extra>",
         "hovertext": [
          "Xtrfy M50 Wireless",
          "Xtrfy M50",
          "Xtrfy M68 Pro 8K Wireless",
          "Xtrfy M68 Wireless",
          "Xtrfy M64 Pro 8K Wireless",
          "Xtrfy M64 Wireless"
         ],
         "legendgroup": "Cherry",
         "marker": {
          "color": "#FF97FF",
          "symbol": "circle"
         },
         "mode": "markers",
         "name": "Cherry",
         "showlegend": true,
         "type": "scattergl",
         "x": {
          "bdata": "nwm9vSoUqD9bGGiuRtbVv8fBpxMwRvO/3M8Ku76K6b9hV1UH9i3BP6S+JUeMS+E/",
          "dtype": "f8"
         },
         "xaxis": "x",
         "y": {
          "bdata": "RUVtbxaH8r/o/nVGQA/nv4XLeYkoVOw/3aLYlpth1z+PpV6K8Yv0PwBdA15beOg/",
          "dtype": "f8"
         },
         "yaxis": "y"
        },
        {
         "hovertemplate": "<b>%{hovertext}</b><br><br>Brand=IXILAB<br>แกนคุณลักษณะหลักที่ 1 (PC1)=%{x}<br>แกนคุณลักษณะหลักที่ 2 (PC2)=%{y}<extra></extra>",
         "hovertext": [
          "X1 Pro Max",
          "X1 Pro",
          "X1"
         ],
         "legendgroup": "IXILAB",
         "marker": {
          "color": "#FECB52",
          "symbol": "circle"
         },
         "mode": "markers",
         "name": "IXILAB",
         "showlegend": true,
         "type": "scattergl",
         "x": {
          "bdata": "YYfkPkdY9b/5E9jJtSL4v8XuxngtBfW/",
          "dtype": "f8"
         },
         "xaxis": "x",
         "y": {
          "bdata": "fAExQuDhaD9EReEKxk3KP+bfYpeVhaS/",
          "dtype": "f8"
         },
         "yaxis": "y"
        },
        {
         "hovertemplate": "<b>%{hovertext}</b><br><br>Brand=Ardor<br>แกนคุณลักษณะหลักที่ 1 (PC1)=%{x}<br>แกนคุณลักษณะหลักที่ 2 (PC2)=%{y}<extra></extra>",
         "hovertext": [
          "Gaming Immortality Pro Wireless",
          "Gaming Immortality",
          "Gaming Ulta (big back)",
          "Gaming Ulta (mid back)",
          "Gaming Ulta (small back)",
          "Gaming Prime X",
          "Gaming Prime Wireless",
          "Gaming Prime",
          "Gaming Fury Beast",
          "Gaming Fury Pro",
          "Gaming Fury",
          "Gaming Phantom Pro V2",
          "Gaming Phantom Pro",
          "Gaming Phantom Pro Wired"
         ],
         "legendgroup": "Ardor",
         "marker": {
          "color": "#636efa",
          "symbol": "circle"
         },
         "mode": "markers",
         "name": "Ardor",
         "showlegend": true,
         "type": "scattergl",
         "x": {
          "bdata": "j6SB5SlU3b9SyTLko4LnvzaCzHQrEOK/NoLMdCsQ4r82gsx0KxDiv18JgUJgh9C/VAc7jY4azb9avpXfih6zvy5BrxCDxAhAgTMcwqvSCECw86bvJWMLQERSr9Z9+Ny/HQGSObPo0b+HFstfUSPgvw==",
          "dtype": "f8"
         },
         "xaxis": "x",
         "y": {
          "bdata": "y/1IP2px5L9/SGobQq/bv6doyw8m/tC/p2jLDyb+0L+naMsPJv7Qv74EvL0/uei/cJKhPFD77L+sdT2Jd53wv1tQ/EqfPtw/MYDGcKdT2z9FHlYvxVCyP5smAiQ/tqQ/OA/Bamxb1L9rSOycjKPAvw==",
          "dtype": "f8"
         },
         "yaxis": "y"
        },
        {
         "hovertemplate": "<b>%{hovertext}</b><br><br>Brand=FineMax<br>แกนคุณลักษณะหลักที่ 1 (PC1)=%{x}<br>แกนคุณลักษณะหลักที่ 2 (PC2)=%{y}<extra></extra>",
         "hovertext": [
          "Noah"
         ],
         "legendgroup": "FineMax",
         "marker": {
          "color": "#EF553B",
          "symbol": "circle"
         },
         "mode": "markers",
         "name": "FineMax",
         "showlegend": true,
         "type": "scattergl",
         "x": {
          "bdata": "BaQgf9B37r8=",
          "dtype": "f8"
         },
         "xaxis": "x",
         "y": {
          "bdata": "8bcd5Qww2j8=",
          "dtype": "f8"
         },
         "yaxis": "y"
        },
        {
         "hovertemplate": "<b>%{hovertext}</b><br><br>Brand=Sprime<br>แกนคุณลักษณะหลักที่ 1 (PC1)=%{x}<br>แกนคุณลักษณะหลักที่ 2 (PC2)=%{y}<extra></extra>",
         "hovertext": [
          "PM1"
         ],
         "legendgroup": "Sprime",
         "marker": {
          "color": "#00cc96",
          "symbol": "circle"
         },
         "mode": "markers",
         "name": "Sprime",
         "showlegend": true,
         "type": "scattergl",
         "x": {
          "bdata": "pI1QVi4Du78=",
          "dtype": "f8"
         },
         "xaxis": "x",
         "y": {
          "bdata": "PaRUr89c+j8=",
          "dtype": "f8"
         },
         "yaxis": "y"
        },
        {
         "hovertemplate": "<b>%{hovertext}</b><br><br>Brand=Mionix<br>แกนคุณลักษณะหลักที่ 1 (PC1)=%{x}<br>แกนคุณลักษณะหลักที่ 2 (PC2)=%{y}<extra></extra>",
         "hovertext": [
          "Naos Pro",
          "Naos QG",
          "Naos 8200",
          "Naos 7000",
          "Naos 3200",
          "Castor Pro",
          "Castor"
         ],
         "legendgroup": "Mionix",
         "marker": {
          "color": "#ab63fa",
          "symbol": "circle"
         },
         "mode": "markers",
         "name": "Mionix",
         "showlegend": true,
         "type": "scattergl",
         "x": {
          "bdata": "md+G1vfPDUBFnRgRB/QOQH3nJkBtyQ5AWHLqugOlD0AGafGbFEQUQCwTMMR6PgFAV+rRTrKMA0A=",
          "dtype": "f8"
         },
         "xaxis": "x",
         "y": {
          "bdata": "Q8Yoe7H96D+iVmK/dkrgP2oFQhnLNt0/PAMkV9Mb1T+gPM9RRS0RwMk83gdHIJi/8oUtesZi4r8=",
          "dtype": "f8"
         },
         "yaxis": "y"
        },
        {
         "hovertemplate": "<b>%{hovertext}</b><br><br>Brand=Rexus<br>แกนคุณลักษณะหลักที่ 1 (PC1)=%{x}<br>แกนคุณลักษณะหลักที่ 2 (PC2)=%{y}<extra></extra>",
         "hovertext": [
          "Daxa Air IV"
         ],
         "legendgroup": "Rexus",
         "marker": {
          "color": "#FFA15A",
          "symbol": "circle"
         },
         "mode": "markers",
         "name": "Rexus",
         "showlegend": true,
         "type": "scattergl",
         "x": {
          "bdata": "USeTTCYx378=",
          "dtype": "f8"
         },
         "xaxis": "x",
         "y": {
          "bdata": "m8d15tspqz8=",
          "dtype": "f8"
         },
         "yaxis": "y"
        },
        {
         "hovertemplate": "<b>%{hovertext}</b><br><br>Brand=Atompalm<br>แกนคุณลักษณะหลักที่ 1 (PC1)=%{x}<br>แกนคุณลักษณะหลักที่ 2 (PC2)=%{y}<extra></extra>",
         "hovertext": [
          "Hydrogen 2",
          "Hydrogen"
         ],
         "legendgroup": "Atompalm",
         "marker": {
          "color": "#19d3f3",
          "symbol": "circle"
         },
         "mode": "markers",
         "name": "Atompalm",
         "showlegend": true,
         "type": "scattergl",
         "x": {
          "bdata": "ZfqwIg0m8b9l+rAiDSbxvw==",
          "dtype": "f8"
         },
         "xaxis": "x",
         "y": {
          "bdata": "+IdJ3dGY4z/4h0nd0ZjjPw==",
          "dtype": "f8"
         },
         "yaxis": "y"
        },
        {
         "hovertemplate": "<b>%{hovertext}</b><br><br>Brand=ARYE<br>แกนคุณลักษณะหลักที่ 1 (PC1)=%{x}<br>แกนคุณลักษณะหลักที่ 2 (PC2)=%{y}<extra></extra>",
         "hovertext": [
          "FCC-1"
         ],
         "legendgroup": "ARYE",
         "marker": {
          "color": "#FF6692",
          "symbol": "circle"
         },
         "mode": "markers",
         "name": "ARYE",
         "showlegend": true,
         "type": "scattergl",
         "x": {
          "bdata": "FMk1+tXVAcA=",
          "dtype": "f8"
         },
         "xaxis": "x",
         "y": {
          "bdata": "RR52oS4Dx78=",
          "dtype": "f8"
         },
         "yaxis": "y"
        },
        {
         "hovertemplate": "<b>%{hovertext}</b><br><br>Brand=Ironcat<br>แกนคุณลักษณะหลักที่ 1 (PC1)=%{x}<br>แกนคุณลักษณะหลักที่ 2 (PC2)=%{y}<extra></extra>",
         "hovertext": [
          "HPC01M Pro",
          "HPC01M",
          "HPC02M",
          "HPC02"
         ],
         "legendgroup": "Ironcat",
         "marker": {
          "color": "#B6E880",
          "symbol": "circle"
         },
         "mode": "markers",
         "name": "Ironcat",
         "showlegend": true,
         "type": "scattergl",
         "x": {
          "bdata": "xC5PYGQS9r8NCsKNmSj0v9ABrG5Kj/O/ACsymy7X4r8=",
          "dtype": "f8"
         },
         "xaxis": "x",
         "y": {
          "bdata": "rSh0QosZsb+3x3SmccLMv/DFV0HGRuO/x+Z95UF6zr8=",
          "dtype": "f8"
         },
         "yaxis": "y"
        },
        {
         "hovertemplate": "<b>%{hovertext}</b><br><br>Brand=Xinshuntian<br>แกนคุณลักษณะหลักที่ 1 (PC1)=%{x}<br>แกนคุณลักษณะหลักที่ 2 (PC2)=%{y}<extra></extra>",
         "hovertext": [
          "G820"
         ],
         "legendgroup": "Xinshuntian",
         "marker": {
          "color": "#FF97FF",
          "symbol": "circle"
         },
         "mode": "markers",
         "name": "Xinshuntian",
         "showlegend": true,
         "type": "scattergl",
         "x": {
          "bdata": "OgYQVlAI7D8=",
          "dtype": "f8"
         },
         "xaxis": "x",
         "y": {
          "bdata": "eosf9Hhb4z8=",
          "dtype": "f8"
         },
         "yaxis": "y"
        },
        {
         "hovertemplate": "<b>%{hovertext}</b><br><br>Brand=Ducky<br>แกนคุณลักษณะหลักที่ 1 (PC1)=%{x}<br>แกนคุณลักษณะหลักที่ 2 (PC2)=%{y}<extra></extra>",
         "hovertext": [
          "Feather"
         ],
         "legendgroup": "Ducky",
         "marker": {
          "color": "#FECB52",
          "symbol": "circle"
         },
         "mode": "markers",
         "name": "Ducky",
         "showlegend": true,
         "type": "scattergl",
         "x": {
          "bdata": "IdOx7Z3z4b8=",
          "dtype": "f8"
         },
         "xaxis": "x",
         "y": {
          "bdata": "i2x8PmJq4r8=",
          "dtype": "f8"
         },
         "yaxis": "y"
        },
        {
         "hovertemplate": "<b>%{hovertext}</b><br><br>Brand=Pichau<br>แกนคุณลักษณะหลักที่ 1 (PC1)=%{x}<br>แกนคุณลักษณะหลักที่ 2 (PC2)=%{y}<extra></extra>",
         "hovertext": [
          "Hive S"
         ],
         "legendgroup": "Pichau",
         "marker": {
          "color": "#636efa",
          "symbol": "circle"
         },
         "mode": "markers",
         "name": "Pichau",
         "showlegend": true,
         "type": "scattergl",
         "x": {
          "bdata": "czQ7N+1j378=",
          "dtype": "f8"
         },
         "xaxis": "x",
         "y": {
          "bdata": "OU4MKgGW4r8=",
          "dtype": "f8"
         },
         "yaxis": "y"
        },
        {
         "hovertemplate": "<b>%{hovertext}</b><br><br>Brand=Fnatic<br>แกนคุณลักษณะหลักที่ 1 (PC1)=%{x}<br>แกนคุณลักษณะหลักที่ 2 (PC2)=%{y}<extra></extra>",
         "hovertext": [
          "CLUTCH 2",
          "Bolt"
         ],
         "legendgroup": "Fnatic",
         "marker": {
          "color": "#EF553B",
          "symbol": "circle"
         },
         "mode": "markers",
         "name": "Fnatic",
         "showlegend": true,
         "type": "scattergl",
         "x": {
          "bdata": "3kAkr6wTBUBfXZ3PgQPjvw==",
          "dtype": "f8"
         },
         "xaxis": "x",
         "y": {
          "bdata": "A+dxo1FspD+cOVyXw1vgvw==",
          "dtype": "f8"
         },
         "yaxis": "y"
        },
        {
         "hovertemplate": "<b>%{hovertext}</b><br><br>Brand=Aqirys<br>แกนคุณลักษณะหลักที่ 1 (PC1)=%{x}<br>แกนคุณลักษณะหลักที่ 2 (PC2)=%{y}<extra></extra>",
         "hovertext": [
          "TGA Alpha"
         ],
         "legendgroup": "Aqirys",
         "marker": {
          "color": "#00cc96",
          "symbol": "circle"
         },
         "mode": "markers",
         "name": "Aqirys",
         "showlegend": true,
         "type": "scattergl",
         "x": {
          "bdata": "jto2YSJJ2L8=",
          "dtype": "f8"
         },
         "xaxis": "x",
         "y": {
          "bdata": "3tf1HjQuxL8=",
          "dtype": "f8"
         },
         "yaxis": "y"
        },
        {
         "hovertemplate": "<b>%{hovertext}</b><br><br>Brand=Fallen<br>แกนคุณลักษณะหลักที่ 1 (PC1)=%{x}<br>แกนคุณลักษณะหลักที่ 2 (PC2)=%{y}<extra></extra>",
         "hovertext": [
          "Pantera Pro"
         ],
         "legendgroup": "Fallen",
         "marker": {
          "color": "#ab63fa",
          "symbol": "circle"
         },
         "mode": "markers",
         "name": "Fallen",
         "showlegend": true,
         "type": "scattergl",
         "x": {
          "bdata": "w77+PFcr0r8=",
          "dtype": "f8"
         },
         "xaxis": "x",
         "y": {
          "bdata": "FgDg/Djb0L8=",
          "dtype": "f8"
         },
         "yaxis": "y"
        },
        {
         "hovertemplate": "<b>%{hovertext}</b><br><br>Brand=Drevo<br>แกนคุณลักษณะหลักที่ 1 (PC1)=%{x}<br>แกนคุณลักษณะหลักที่ 2 (PC2)=%{y}<extra></extra>",
         "hovertext": [
          "Falcon"
         ],
         "legendgroup": "Drevo",
         "marker": {
          "color": "#FFA15A",
          "symbol": "circle"
         },
         "mode": "markers",
         "name": "Drevo",
         "showlegend": true,
         "type": "scattergl",
         "x": {
          "bdata": "RwAvc1jUzT8=",
          "dtype": "f8"
         },
         "xaxis": "x",
         "y": {
          "bdata": "a5KrHJX07r8=",
          "dtype": "f8"
         },
         "yaxis": "y"
        },
        {
         "hovertemplate": "<b>%{hovertext}</b><br><br>Brand=Acer<br>แกนคุณลักษณะหลักที่ 1 (PC1)=%{x}<br>แกนคุณลักษณะหลักที่ 2 (PC2)=%{y}<extra></extra>",
         "hovertext": [
          "Cestus 330"
         ],
         "legendgroup": "Acer",
         "marker": {
          "color": "#19d3f3",
          "symbol": "circle"
         },
         "mode": "markers",
         "name": "Acer",
         "showlegend": true,
         "type": "scattergl",
         "x": {
          "bdata": "nwaW4/nK/j8=",
          "dtype": "f8"
         },
         "xaxis": "x",
         "y": {
          "bdata": "dN1iB1IHA8A=",
          "dtype": "f8"
         },
         "yaxis": "y"
        },
        {
         "hovertemplate": "<b>%{hovertext}</b><br><br>Brand=Teamwolf<br>แกนคุณลักษณะหลักที่ 1 (PC1)=%{x}<br>แกนคุณลักษณะหลักที่ 2 (PC2)=%{y}<extra></extra>",
         "hovertext": [
          "Lurker MK-01"
         ],
         "legendgroup": "Teamwolf",
         "marker": {
          "color": "#FF6692",
          "symbol": "circle"
         },
         "mode": "markers",
         "name": "Teamwolf",
         "showlegend": true,
         "type": "scattergl",
         "x": {
          "bdata": "Y9a812dY/78=",
          "dtype": "f8"
         },
         "xaxis": "x",
         "y": {
          "bdata": "/7Mn7Tlh7b8=",
          "dtype": "f8"
         },
         "yaxis": "y"
        },
        {
         "hovertemplate": "<b>%{hovertext}</b><br><br>Brand=PureTrak<br>แกนคุณลักษณะหลักที่ 1 (PC1)=%{x}<br>แกนคุณลักษณะหลักที่ 2 (PC2)=%{y}<extra></extra>",
         "hovertext": [
          "Valor Wireless"
         ],
         "legendgroup": "PureTrak",
         "marker": {
          "color": "#B6E880",
          "symbol": "circle"
         },
         "mode": "markers",
         "name": "PureTrak",
         "showlegend": true,
         "type": "scattergl",
         "x": {
          "bdata": "CLdzfSSL4b8=",
          "dtype": "f8"
         },
         "xaxis": "x",
         "y": {
          "bdata": "9bHKo821wj8=",
          "dtype": "f8"
         },
         "yaxis": "y"
        },
        {
         "hovertemplate": "<b>%{hovertext}</b><br><br>Brand=Xenics<br>แกนคุณลักษณะหลักที่ 1 (PC1)=%{x}<br>แกนคุณลักษณะหลักที่ 2 (PC2)=%{y}<extra></extra>",
         "hovertext": [
          "Titan GX Air Wireless"
         ],
         "legendgroup": "Xenics",
         "marker": {
          "color": "#FF97FF",
          "symbol": "circle"
         },
         "mode": "markers",
         "name": "Xenics",
         "showlegend": true,
         "type": "scattergl",
         "x": {
          "bdata": "ooYdf9Ne5b8=",
          "dtype": "f8"
         },
         "xaxis": "x",
         "y": {
          "bdata": "DFRdI4iA8L8=",
          "dtype": "f8"
         },
         "yaxis": "y"
        },
        {
         "hovertemplate": "<b>%{hovertext}</b><br><br>Brand=SPC<br>แกนคุณลักษณะหลักที่ 1 (PC1)=%{x}<br>แกนคุณลักษณะหลักที่ 2 (PC2)=%{y}<extra></extra>",
         "hovertext": [
          "Gear LIX Plus Wireless"
         ],
         "legendgroup": "SPC",
         "marker": {
          "color": "#FECB52",
          "symbol": "circle"
         },
         "mode": "markers",
         "name": "SPC",
         "showlegend": true,
         "type": "scattergl",
         "x": {
          "bdata": "ahx6GPOExL8=",
          "dtype": "f8"
         },
         "xaxis": "x",
         "y": {
          "bdata": "N586ZUIJyr8=",
          "dtype": "f8"
         },
         "yaxis": "y"
        },
        {
         "hovertemplate": "<b>%{hovertext}</b><br><br>Brand=Dornfinger<br>แกนคุณลักษณะหลักที่ 1 (PC1)=%{x}<br>แกนคุณลักษณะหลักที่ 2 (PC2)=%{y}<extra></extra>",
         "hovertext": [
          "Veno-S"
         ],
         "legendgroup": "Dornfinger",
         "marker": {
          "color": "#636efa",
          "symbol": "circle"
         },
         "mode": "markers",
         "name": "Dornfinger",
         "showlegend": true,
         "type": "scattergl",
         "x": {
          "bdata": "Zx0fX41B2L8=",
          "dtype": "f8"
         },
         "xaxis": "x",
         "y": {
          "bdata": "SVUlsvA11L8=",
          "dtype": "f8"
         },
         "yaxis": "y"
        },
        {
         "hovertemplate": "<b>%{hovertext}</b><br><br>Brand=Midnight<br>แกนคุณลักษณะหลักที่ 1 (PC1)=%{x}<br>แกนคุณลักษณะหลักที่ 2 (PC2)=%{y}<extra></extra>",
         "hovertext": [
          "Thread C1"
         ],
         "legendgroup": "Midnight",
         "marker": {
          "color": "#EF553B",
          "symbol": "circle"
         },
         "mode": "markers",
         "name": "Midnight",
         "showlegend": true,
         "type": "scattergl",
         "x": {
          "bdata": "BOQiARld9L8=",
          "dtype": "f8"
         },
         "xaxis": "x",
         "y": {
          "bdata": "TfQQna0U2T8=",
          "dtype": "f8"
         },
         "yaxis": "y"
        },
        {
         "hovertemplate": "<b>%{hovertext}</b><br><br>Brand=HK<br>แกนคุณลักษณะหลักที่ 1 (PC1)=%{x}<br>แกนคุณลักษณะหลักที่ 2 (PC2)=%{y}<extra></extra>",
         "hovertext": [
          "Gaming Sirius M"
         ],
         "legendgroup": "HK",
         "marker": {
          "color": "#00cc96",
          "symbol": "circle"
         },
         "mode": "markers",
         "name": "HK",
         "showlegend": true,
         "type": "scattergl",
         "x": {
          "bdata": "rA5urLGx7b8=",
          "dtype": "f8"
         },
         "xaxis": "x",
         "y": {
          "bdata": "J6uYPvnv378=",
          "dtype": "f8"
         },
         "yaxis": "y"
        },
        {
         "hovertemplate": "<b>%{hovertext}</b><br><br>Brand=CryoMods<br>แกนคุณลักษณะหลักที่ 1 (PC1)=%{x}<br>แกนคุณลักษณะหลักที่ 2 (PC2)=%{y}<extra></extra>",
         "hovertext": [
          "Fractal Wireless"
         ],
         "legendgroup": "CryoMods",
         "marker": {
          "color": "#ab63fa",
          "symbol": "circle"
         },
         "mode": "markers",
         "name": "CryoMods",
         "showlegend": true,
         "type": "scattergl",
         "x": {
          "bdata": "/gPBbXBE8b8=",
          "dtype": "f8"
         },
         "xaxis": "x",
         "y": {
          "bdata": "TDI48BcD9L8=",
          "dtype": "f8"
         },
         "yaxis": "y"
        },
        {
         "hovertemplate": "<b>%{hovertext}</b><br><br>Brand=Lethal<br>แกนคุณลักษณะหลักที่ 1 (PC1)=%{x}<br>แกนคุณลักษณะหลักที่ 2 (PC2)=%{y}<extra></extra>",
         "hovertext": [
          "Gaming Gear LA-1"
         ],
         "legendgroup": "Lethal",
         "marker": {
          "color": "#FFA15A",
          "symbol": "circle"
         },
         "mode": "markers",
         "name": "Lethal",
         "showlegend": true,
         "type": "scattergl",
         "x": {
          "bdata": "8jM64zhv8b8=",
          "dtype": "f8"
         },
         "xaxis": "x",
         "y": {
          "bdata": "NzuH0Qjfwz8=",
          "dtype": "f8"
         },
         "yaxis": "y"
        },
        {
         "hovertemplate": "<b>%{hovertext}</b><br><br>Brand=Gamesense<br>แกนคุณลักษณะหลักที่ 1 (PC1)=%{x}<br>แกนคุณลักษณะหลักที่ 2 (PC2)=%{y}<extra></extra>",
         "hovertext": [
          "MVP Wired",
          "MVP Wireless",
          "META Wired"
         ],
         "legendgroup": "Gamesense",
         "marker": {
          "color": "#19d3f3",
          "symbol": "circle"
         },
         "mode": "markers",
         "name": "Gamesense",
         "showlegend": true,
         "type": "scattergl",
         "x": {
          "bdata": "rsRNVodAyb+vSM8ne92jPy6vhRliY+y/",
          "dtype": "f8"
         },
         "xaxis": "x",
         "y": {
          "bdata": "kVyse1d/sL+Q1XLV/ZjUv/q+pxN5KPC/",
          "dtype": "f8"
         },
         "yaxis": "y"
        },
        {
         "hovertemplate": "<b>%{hovertext}</b><br><br>Brand=Dream<br>แกนคุณลักษณะหลักที่ 1 (PC1)=%{x}<br>แกนคุณลักษณะหลักที่ 2 (PC2)=%{y}<extra></extra>",
         "hovertext": [
          "Machines DM1 FPS",
          "Machines DM2 Comfy S",
          "Machines DM4 Evo",
          "Machines DM4 Evo S",
          "Machines DM5 Blink",
          "Machines DM6 Holey S",
          "Machines DM6 Holey",
          "Machines DM6 Duo",
          "Machines DM6 Trio"
         ],
         "legendgroup": "Dream",
         "marker": {
          "color": "#FF6692",
          "symbol": "circle"
         },
         "mode": "markers",
         "name": "Dream",
         "showlegend": true,
         "type": "scattergl",
         "x": {
          "bdata": "FA70T/uP3D+MCIAqh2UNQBugeYQUvwBAqobIUeNUAEDgGc3DwrECQMBW3MZuv/g/REVfo5za+T8x3Eq6Z3f8P2UqZVJqYfw/",
          "dtype": "f8"
         },
         "xaxis": "x",
         "y": {
          "bdata": "iz54KXGe37+Jek75yE/mP1TCvucM59e/HSkrA8oE0b8b4zSOXUSyv8h9FqVYaN0/KVz8Hqo61D/hkKW2cQLLP8ijJTFCNdE/",
          "dtype": "f8"
         },
         "yaxis": "y"
        },
        {
         "marker": {
          "color": "red",
          "size": 15,
          "symbol": "star"
         },
         "mode": "markers",
         "name": "Ideal Profile (จุดศูนย์กลาง)",
         "type": "scatter",
         "x": [
          -1.7860047339569274
         ],
         "y": [
          1.127123735360076
         ]
        },
        {
         "marker": {
          "color": "red",
          "size": 15,
          "symbol": "star"
         },
         "mode": "markers",
         "name": "Ideal Profile (จุดศูนย์กลาง)",
         "type": "scatter",
         "x": [
          -1.7860047339569274
         ],
         "y": [
          1.127123735360076
         ]
        }
       ],
       "layout": {
        "legend": {
         "title": {
          "text": "Brand"
         },
         "tracegroupgap": 0
        },
        "template": {
         "data": {
          "bar": [
           {
            "error_x": {
             "color": "#2a3f5f"
            },
            "error_y": {
             "color": "#2a3f5f"
            },
            "marker": {
             "line": {
              "color": "#E5ECF6",
              "width": 0.5
             },
             "pattern": {
              "fillmode": "overlay",
              "size": 10,
              "solidity": 0.2
             }
            },
            "type": "bar"
           }
          ],
          "barpolar": [
           {
            "marker": {
             "line": {
              "color": "#E5ECF6",
              "width": 0.5
             },
             "pattern": {
              "fillmode": "overlay",
              "size": 10,
              "solidity": 0.2
             }
            },
            "type": "barpolar"
           }
          ],
          "carpet": [
           {
            "aaxis": {
             "endlinecolor": "#2a3f5f",
             "gridcolor": "white",
             "linecolor": "white",
             "minorgridcolor": "white",
             "startlinecolor": "#2a3f5f"
            },
            "baxis": {
             "endlinecolor": "#2a3f5f",
             "gridcolor": "white",
             "linecolor": "white",
             "minorgridcolor": "white",
             "startlinecolor": "#2a3f5f"
            },
            "type": "carpet"
           }
          ],
          "choropleth": [
           {
            "colorbar": {
             "outlinewidth": 0,
             "ticks": ""
            },
            "type": "choropleth"
           }
          ],
          "contour": [
           {
            "colorbar": {
             "outlinewidth": 0,
             "ticks": ""
            },
            "colorscale": [
             [
              0,
              "#0d0887"
             ],
             [
              0.1111111111111111,
              "#46039f"
             ],
             [
              0.2222222222222222,
              "#7201a8"
             ],
             [
              0.3333333333333333,
              "#9c179e"
             ],
             [
              0.4444444444444444,
              "#bd3786"
             ],
             [
              0.5555555555555556,
              "#d8576b"
             ],
             [
              0.6666666666666666,
              "#ed7953"
             ],
             [
              0.7777777777777778,
              "#fb9f3a"
             ],
             [
              0.8888888888888888,
              "#fdca26"
             ],
             [
              1,
              "#f0f921"
             ]
            ],
            "type": "contour"
           }
          ],
          "contourcarpet": [
           {
            "colorbar": {
             "outlinewidth": 0,
             "ticks": ""
            },
            "type": "contourcarpet"
           }
          ],
          "heatmap": [
           {
            "colorbar": {
             "outlinewidth": 0,
             "ticks": ""
            },
            "colorscale": [
             [
              0,
              "#0d0887"
             ],
             [
              0.1111111111111111,
              "#46039f"
             ],
             [
              0.2222222222222222,
              "#7201a8"
             ],
             [
              0.3333333333333333,
              "#9c179e"
             ],
             [
              0.4444444444444444,
              "#bd3786"
             ],
             [
              0.5555555555555556,
              "#d8576b"
             ],
             [
              0.6666666666666666,
              "#ed7953"
             ],
             [
              0.7777777777777778,
              "#fb9f3a"
             ],
             [
              0.8888888888888888,
              "#fdca26"
             ],
             [
              1,
              "#f0f921"
             ]
            ],
            "type": "heatmap"
           }
          ],
          "histogram": [
           {
            "marker": {
             "pattern": {
              "fillmode": "overlay",
              "size": 10,
              "solidity": 0.2
             }
            },
            "type": "histogram"
           }
          ],
          "histogram2d": [
           {
            "colorbar": {
             "outlinewidth": 0,
             "ticks": ""
            },
            "colorscale": [
             [
              0,
              "#0d0887"
             ],
             [
              0.1111111111111111,
              "#46039f"
             ],
             [
              0.2222222222222222,
              "#7201a8"
             ],
             [
              0.3333333333333333,
              "#9c179e"
             ],
             [
              0.4444444444444444,
              "#bd3786"
             ],
             [
              0.5555555555555556,
              "#d8576b"
             ],
             [
              0.6666666666666666,
              "#ed7953"
             ],
             [
              0.7777777777777778,
              "#fb9f3a"
             ],
             [
              0.8888888888888888,
              "#fdca26"
             ],
             [
              1,
              "#f0f921"
             ]
            ],
            "type": "histogram2d"
           }
          ],
          "histogram2dcontour": [
           {
            "colorbar": {
             "outlinewidth": 0,
             "ticks": ""
            },
            "colorscale": [
             [
              0,
              "#0d0887"
             ],
             [
              0.1111111111111111,
              "#46039f"
             ],
             [
              0.2222222222222222,
              "#7201a8"
             ],
             [
              0.3333333333333333,
              "#9c179e"
             ],
             [
              0.4444444444444444,
              "#bd3786"
             ],
             [
              0.5555555555555556,
              "#d8576b"
             ],
             [
              0.6666666666666666,
              "#ed7953"
             ],
             [
              0.7777777777777778,
              "#fb9f3a"
             ],
             [
              0.8888888888888888,
              "#fdca26"
             ],
             [
              1,
              "#f0f921"
             ]
            ],
            "type": "histogram2dcontour"
           }
          ],
          "mesh3d": [
           {
            "colorbar": {
             "outlinewidth": 0,
             "ticks": ""
            },
            "type": "mesh3d"
           }
          ],
          "parcoords": [
           {
            "line": {
             "colorbar": {
              "outlinewidth": 0,
              "ticks": ""
             }
            },
            "type": "parcoords"
           }
          ],
          "pie": [
           {
            "automargin": true,
            "type": "pie"
           }
          ],
          "scatter": [
           {
            "fillpattern": {
             "fillmode": "overlay",
             "size": 10,
             "solidity": 0.2
            },
            "type": "scatter"
           }
          ],
          "scatter3d": [
           {
            "line": {
             "colorbar": {
              "outlinewidth": 0,
              "ticks": ""
             }
            },
            "marker": {
             "colorbar": {
              "outlinewidth": 0,
              "ticks": ""
             }
            },
            "type": "scatter3d"
           }
          ],
          "scattercarpet": [
           {
            "marker": {
             "colorbar": {
              "outlinewidth": 0,
              "ticks": ""
             }
            },
            "type": "scattercarpet"
           }
          ],
          "scattergeo": [
           {
            "marker": {
             "colorbar": {
              "outlinewidth": 0,
              "ticks": ""
             }
            },
            "type": "scattergeo"
           }
          ],
          "scattergl": [
           {
            "marker": {
             "colorbar": {
              "outlinewidth": 0,
              "ticks": ""
             }
            },
            "type": "scattergl"
           }
          ],
          "scattermap": [
           {
            "marker": {
             "colorbar": {
              "outlinewidth": 0,
              "ticks": ""
             }
            },
            "type": "scattermap"
           }
          ],
          "scattermapbox": [
           {
            "marker": {
             "colorbar": {
              "outlinewidth": 0,
              "ticks": ""
             }
            },
            "type": "scattermapbox"
           }
          ],
          "scatterpolar": [
           {
            "marker": {
             "colorbar": {
              "outlinewidth": 0,
              "ticks": ""
             }
            },
            "type": "scatterpolar"
           }
          ],
          "scatterpolargl": [
           {
            "marker": {
             "colorbar": {
              "outlinewidth": 0,
              "ticks": ""
             }
            },
            "type": "scatterpolargl"
           }
          ],
          "scatterternary": [
           {
            "marker": {
             "colorbar": {
              "outlinewidth": 0,
              "ticks": ""
             }
            },
            "type": "scatterternary"
           }
          ],
          "surface": [
           {
            "colorbar": {
             "outlinewidth": 0,
             "ticks": ""
            },
            "colorscale": [
             [
              0,
              "#0d0887"
             ],
             [
              0.1111111111111111,
              "#46039f"
             ],
             [
              0.2222222222222222,
              "#7201a8"
             ],
             [
              0.3333333333333333,
              "#9c179e"
             ],
             [
              0.4444444444444444,
              "#bd3786"
             ],
             [
              0.5555555555555556,
              "#d8576b"
             ],
             [
              0.6666666666666666,
              "#ed7953"
             ],
             [
              0.7777777777777778,
              "#fb9f3a"
             ],
             [
              0.8888888888888888,
              "#fdca26"
             ],
             [
              1,
              "#f0f921"
             ]
            ],
            "type": "surface"
           }
          ],
          "table": [
           {
            "cells": {
             "fill": {
              "color": "#EBF0F8"
             },
             "line": {
              "color": "white"
             }
            },
            "header": {
             "fill": {
              "color": "#C8D4E3"
             },
             "line": {
              "color": "white"
             }
            },
            "type": "table"
           }
          ]
         },
         "layout": {
          "annotationdefaults": {
           "arrowcolor": "#2a3f5f",
           "arrowhead": 0,
           "arrowwidth": 1
          },
          "autotypenumbers": "strict",
          "coloraxis": {
           "colorbar": {
            "outlinewidth": 0,
            "ticks": ""
           }
          },
          "colorscale": {
           "diverging": [
            [
             0,
             "#8e0152"
            ],
            [
             0.1,
             "#c51b7d"
            ],
            [
             0.2,
             "#de77ae"
            ],
            [
             0.3,
             "#f1b6da"
            ],
            [
             0.4,
             "#fde0ef"
            ],
            [
             0.5,
             "#f7f7f7"
            ],
            [
             0.6,
             "#e6f5d0"
            ],
            [
             0.7,
             "#b8e186"
            ],
            [
             0.8,
             "#7fbc41"
            ],
            [
             0.9,
             "#4d9221"
            ],
            [
             1,
             "#276419"
            ]
           ],
           "sequential": [
            [
             0,
             "#0d0887"
            ],
            [
             0.1111111111111111,
             "#46039f"
            ],
            [
             0.2222222222222222,
             "#7201a8"
            ],
            [
             0.3333333333333333,
             "#9c179e"
            ],
            [
             0.4444444444444444,
             "#bd3786"
            ],
            [
             0.5555555555555556,
             "#d8576b"
            ],
            [
             0.6666666666666666,
             "#ed7953"
            ],
            [
             0.7777777777777778,
             "#fb9f3a"
            ],
            [
             0.8888888888888888,
             "#fdca26"
            ],
            [
             1,
             "#f0f921"
            ]
           ],
           "sequentialminus": [
            [
             0,
             "#0d0887"
            ],
            [
             0.1111111111111111,
             "#46039f"
            ],
            [
             0.2222222222222222,
             "#7201a8"
            ],
            [
             0.3333333333333333,
             "#9c179e"
            ],
            [
             0.4444444444444444,
             "#bd3786"
            ],
            [
             0.5555555555555556,
             "#d8576b"
            ],
            [
             0.6666666666666666,
             "#ed7953"
            ],
            [
             0.7777777777777778,
             "#fb9f3a"
            ],
            [
             0.8888888888888888,
             "#fdca26"
            ],
            [
             1,
             "#f0f921"
            ]
           ]
          },
          "colorway": [
           "#636efa",
           "#EF553B",
           "#00cc96",
           "#ab63fa",
           "#FFA15A",
           "#19d3f3",
           "#FF6692",
           "#B6E880",
           "#FF97FF",
           "#FECB52"
          ],
          "font": {
           "color": "#2a3f5f"
          },
          "geo": {
           "bgcolor": "white",
           "lakecolor": "white",
           "landcolor": "#E5ECF6",
           "showlakes": true,
           "showland": true,
           "subunitcolor": "white"
          },
          "hoverlabel": {
           "align": "left"
          },
          "hovermode": "closest",
          "mapbox": {
           "style": "light"
          },
          "paper_bgcolor": "white",
          "plot_bgcolor": "#E5ECF6",
          "polar": {
           "angularaxis": {
            "gridcolor": "white",
            "linecolor": "white",
            "ticks": ""
           },
           "bgcolor": "#E5ECF6",
           "radialaxis": {
            "gridcolor": "white",
            "linecolor": "white",
            "ticks": ""
           }
          },
          "scene": {
           "xaxis": {
            "backgroundcolor": "#E5ECF6",
            "gridcolor": "white",
            "gridwidth": 2,
            "linecolor": "white",
            "showbackground": true,
            "ticks": "",
            "zerolinecolor": "white"
           },
           "yaxis": {
            "backgroundcolor": "#E5ECF6",
            "gridcolor": "white",
            "gridwidth": 2,
            "linecolor": "white",
            "showbackground": true,
            "ticks": "",
            "zerolinecolor": "white"
           },
           "zaxis": {
            "backgroundcolor": "#E5ECF6",
            "gridcolor": "white",
            "gridwidth": 2,
            "linecolor": "white",
            "showbackground": true,
            "ticks": "",
            "zerolinecolor": "white"
           }
          },
          "shapedefaults": {
           "line": {
            "color": "#2a3f5f"
           }
          },
          "ternary": {
           "aaxis": {
            "gridcolor": "white",
            "linecolor": "white",
            "ticks": ""
           },
           "baxis": {
            "gridcolor": "white",
            "linecolor": "white",
            "ticks": ""
           },
           "bgcolor": "#E5ECF6",
           "caxis": {
            "gridcolor": "white",
            "linecolor": "white",
            "ticks": ""
           }
          },
          "title": {
           "x": 0.05
          },
          "xaxis": {
           "automargin": true,
           "gridcolor": "white",
           "linecolor": "white",
           "ticks": "",
           "title": {
            "standoff": 15
           },
           "zerolinecolor": "white",
           "zerolinewidth": 2
          },
          "yaxis": {
           "automargin": true,
           "gridcolor": "white",
           "linecolor": "white",
           "ticks": "",
           "title": {
            "standoff": 15
           },
           "zerolinecolor": "white",
           "zerolinewidth": 2
          }
         }
        },
        "title": {
         "text": "ผลการวิเคราะห์ PCA ของข้อมูลเมาส์"
        },
        "xaxis": {
         "anchor": "y",
         "domain": [
          0,
          1
         ],
         "title": {
          "text": "แกนคุณลักษณะหลักที่ 1 (PC1)"
         }
        },
        "yaxis": {
         "anchor": "x",
         "domain": [
          0,
          1
         ],
         "title": {
          "text": "แกนคุณลักษณะหลักที่ 2 (PC2)"
         }
        }
       }
      }
     },
     "metadata": {},
     "output_type": "display_data"
    }
   ],
   "source": [
    "import numpy as np\n",
    "\n",
    "# 1. กำหนด \"คลังเมาส์\" ของคุณ\n",
    "my_mouse_collection = ['Viper Mini Signature Edition', 'MAD R Major', 'Susanto-X', 'Y2 Pro']\n",
    "df_my_collection = df_pca[df_pca['Model'].isin(my_mouse_collection)]\n",
    "\n",
    "# 2. คำนวณ \"โปรไฟล์เมาส์ในอุดมคติ\"\n",
    "ideal_mouse_profile = df_my_collection[['PC1', 'PC2']].mean().values\n",
    "\n",
    "# 3. คำนวณ Euclidean Distance ของทุกเมาส์จากจุดศูนย์กลาง\n",
    "distances = np.linalg.norm(df_pca[['PC1', 'PC2']].values - ideal_mouse_profile, axis=1)\n",
    "df_pca['Distance_to_Ideal'] = distances\n",
    "\n",
    "# 4. จัดอันดับเมาส์ที่ใกล้เคียงที่สุด (ไม่รวมเมาส์ที่มีอยู่แล้วในคลัง)\n",
    "recommendations = df_pca[~df_pca['Model'].isin(my_mouse_collection)] \\\n",
    "    .sort_values('Distance_to_Ideal', ascending=True).head(5)\n",
    "\n",
    "print(f\"จุดศูนย์กลาง (Ideal Profile) ในแกน PCA: {ideal_mouse_profile}\")\n",
    "print(\"\\n--- 5 อันดับเมาส์แนะนำที่ใกล้เคียงกับสไตล์ของคุณที่สุด ---\")\n",
    "print(recommendations[['Model', 'Brand', 'Distance_to_Ideal']])\n",
    "\n",
    "# 5. พล็อตกราฟแสดง Ideal Profile\n",
    "fig.add_scatter(\n",
    "    x=[ideal_mouse_profile[0]],\n",
    "    y=[ideal_mouse_profile[1]],\n",
    "    mode='markers',\n",
    "    marker=dict(symbol='star', color='red', size=15),\n",
    "    name='Ideal Profile (จุดศูนย์กลาง)'\n",
    ")\n",
    "fig.show()\n"
   ]
  }
 ],
 "metadata": {
  "kernelspec": {
   "display_name": "Python 3",
   "language": "python",
   "name": "python3"
  },
  "language_info": {
   "codemirror_mode": {
    "name": "ipython",
    "version": 3
   },
   "file_extension": ".py",
   "mimetype": "text/x-python",
   "name": "python",
   "nbconvert_exporter": "python",
   "pygments_lexer": "ipython3",
   "version": "3.13.7"
  }
 },
 "nbformat": 4,
 "nbformat_minor": 5
}
